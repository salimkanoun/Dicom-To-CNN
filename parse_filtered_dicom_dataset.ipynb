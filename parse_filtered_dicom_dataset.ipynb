{
 "nbformat": 4,
 "nbformat_minor": 2,
 "metadata": {
  "language_info": {
   "name": "python",
   "codemirror_mode": {
    "name": "ipython",
    "version": 3
   },
   "version": "3.8.2-final"
  },
  "orig_nbformat": 2,
  "file_extension": ".py",
  "mimetype": "text/x-python",
  "name": "python",
  "npconvert_exporter": "python",
  "pygments_lexer": "ipython3",
  "version": 3,
  "kernelspec": {
   "name": "python38264bit741c38d3bcec48dc835c8ad5f1161b3f",
   "display_name": "Python 3.8.2 64-bit"
  }
 },
 "cells": [
  {
   "cell_type": "code",
   "execution_count": 1,
   "metadata": {},
   "outputs": [],
   "source": [
    "import os\n",
    "import json\n",
    "\n",
    "from library_dicom.dicom_processor.tools.folders import *\n",
    "from library_dicom.dicom_processor.tools.series import get_series_object\n",
    "\n",
    "import csv"
   ]
  },
  {
   "cell_type": "code",
   "execution_count": 2,
   "metadata": {},
   "outputs": [],
   "source": [
    "series_paths = get_series_path(\"/media/salim/DD 2To/AHL2011_Validated_DICOMS\")\n",
    "export_folder = '/media/salim/DD 2To/AHL_JSON'"
   ]
  },
  {
   "cell_type": "code",
   "execution_count": null,
   "metadata": {},
   "outputs": [],
   "source": [
    "for serie_path in series_paths:\n",
    "    try:\n",
    "        dicom_serie = get_series_object(serie_path)\n",
    "        dicomsInfo = dicom_serie.get_series_details()\n",
    "        write_json_file(export_folder, dicomsInfo['series']['SeriesInstanceUID'], dicomsInfo)\n",
    "    except Exception as err:\n",
    "        print(err)\n",
    "        print(dicomsInfo)"
   ]
  },
  {
   "cell_type": "code",
   "execution_count": 2,
   "metadata": {},
   "outputs": [],
   "source": [
    "json_directory = '/media/salim/DD 2To/AHL_JSON'\n",
    "list_json = os.listdir(json_directory)\n",
    "number_of_json = len(list_json)\n"
   ]
  },
  {
   "cell_type": "code",
   "execution_count": 3,
   "metadata": {},
   "outputs": [],
   "source": [
    "#recuprer liste de liste [[json 1, json 2, uid ]] à partir du csv pour chaque patient\n",
    "\n",
    "csv_pet0_path = '/media/salim/DD 2To/AHL2011_CSV_DATA/pet0.csv'\n",
    "\n",
    "with open(csv_pet0_path, 'r') as csv_file :\n",
    "    reader = csv.reader(csv_file, delimiter = ';') #liste pour chaque ligne \n",
    "    csv_data = []\n",
    "    for row in reader :\n",
    "        csv_data.append(row)\n",
    "        \n",
    "del csv_data[0] #enlever première ligne\n",
    "\n",
    "all_list = []\n",
    "\n",
    "for item in csv_data :\n",
    "    study_uid_csv = item[2]\n",
    "\n",
    "    #dans list des json, recupérer ceux dont le Study UID est la même \n",
    "\n",
    "    liste = []\n",
    "\n",
    "    for number_json in range(number_of_json) : \n",
    " \n",
    "        \n",
    "        with open(os.path.join(json_directory, list_json[number_json])) as json_file :\n",
    "            reader = json.load(json_file)\n",
    "            data = []\n",
    "            for info in reader['study']['StudyInstanceUID'] : #study instance uid of each serie \n",
    "                data.append(info)\n",
    "                study_uid_json = \"\".join(data)\n",
    "\n",
    "                if study_uid_csv == study_uid_json : \n",
    "                    liste.append(os.path.join(json_directory, list_json[number_json]))\n",
    "    liste.append(study_uid_csv)\n",
    "\n",
    "    all_list.append(liste)\n"
   ]
  },
  {
   "cell_type": "code",
   "execution_count": 4,
   "metadata": {},
   "outputs": [
    {
     "name": "stdout",
     "output_type": "stream",
     "text": "None\n"
    }
   ],
   "source": [
    "#Clean dataset "
   ]
  },
  {
   "cell_type": "code",
   "execution_count": 116,
   "metadata": {},
   "outputs": [],
   "source": [
    "#Pour certains Study UID,pas de json correspondant, on supprime de la liste  : \n",
    "complete_liste = []\n",
    "for liste in all_list : \n",
    "    if len(liste) != 1 : \n",
    "        complete_liste.append(liste)\n"
   ]
  },
  {
   "cell_type": "code",
   "execution_count": 117,
   "metadata": {},
   "outputs": [],
   "source": [
    "#vérifier si les 2 series récupérer sont bien CT et PT , si 2 CT ou 2 PT, supprimer l'item de la liste \n",
    "modality = []\n",
    "\n",
    "for liste in complete_liste : \n",
    "    subliste = []\n",
    "\n",
    "    for i in range(2) : \n",
    "\n",
    "        with open(liste[i]) as json_file : \n",
    "            data = []\n",
    "            reader = json.load(json_file)\n",
    "            for info in reader['series']['Modality'] :\n",
    "                data.append(info)\n",
    "                modality1 = \"\".join(data)\n",
    "            subliste.append(modality1)\n",
    "    modality.append(subliste)\n",
    "\n",
    "\n",
    "cpt = 0\n",
    "for modal in modality : \n",
    "    cpt +=1\n",
    "    if modal[0] == modal[1] :\n",
    "        del complete_liste[cpt - 1]\n"
   ]
  },
  {
   "cell_type": "code",
   "execution_count": 181,
   "metadata": {},
   "outputs": [],
   "source": [
    "#enlever les doublons \n",
    "complete_liste_json = []\n",
    "complete_liste_json.append(complete_liste[0])\n",
    "for i in range(1, len(complete_liste)) :\n",
    "    if complete_liste[i] != complete_liste_json[-1] :\n",
    "        complete_liste_json.append(complete_liste[i])\n"
   ]
  },
  {
   "cell_type": "code",
   "execution_count": 183,
   "metadata": {},
   "outputs": [],
   "source": [
    "pass"
   ]
  },
  {
   "cell_type": "code",
   "execution_count": null,
   "metadata": {},
   "outputs": [],
   "source": [
    "#create json"
   ]
  },
  {
   "cell_type": "code",
   "execution_count": 178,
   "metadata": {},
   "outputs": [],
   "source": [
    "pass"
   ]
  },
  {
   "cell_type": "code",
   "execution_count": 190,
   "metadata": {},
   "outputs": [],
   "source": [
    "#create dictionary to save it as json \n",
    "results = {}\n",
    "study_results = []\n",
    "list_study_uid = []\n",
    "\n",
    "for liste in complete_liste_json:\n",
    "    subliste = []\n",
    "    list_study_uid.append(liste[-1])\n",
    "\n",
    "    for number_serie in range(2) : \n",
    "\n",
    "        with open(liste[number_serie]) as json_file : \n",
    "            data = []\n",
    "            reader = json.load(json_file)\n",
    "            for info in reader['path']:\n",
    "                data.append(info)\n",
    "                path = \"\".join(data)\n",
    "            \n",
    "            \n",
    "            subliste.append(path)\n",
    "        \n",
    "\n",
    "    study_results.append(subliste) \n",
    "\n",
    "\n",
    "\n",
    "for i in range(len(list_study_uid)):\n",
    "    for j in range(len(csv_data)):\n",
    "        if csv_data[j][2] == list_study_uid[i] :\n",
    "\n",
    "            study_results[i].append(csv_data[j][4])\n",
    "            break\n",
    "\n",
    "\n",
    "    results[list_study_uid[i]] = study_results[i]\n",
    "\n"
   ]
  },
  {
   "cell_type": "code",
   "execution_count": 191,
   "metadata": {},
   "outputs": [],
   "source": [
    "#save json file \n",
    "\n",
    "\n",
    "write_json_file('/media/salim/DD 2To/AHL2011_NIFTI', 'AHL2011_list_path_csv', results)   "
   ]
  },
  {
   "cell_type": "code",
   "execution_count": 196,
   "metadata": {},
   "outputs": [],
   "source": [
    "pass\n"
   ]
  },
  {
   "cell_type": "code",
   "execution_count": 193,
   "metadata": {},
   "outputs": [],
   "source": [
    "pass"
   ]
  },
  {
   "cell_type": "code",
   "execution_count": 172,
   "metadata": {},
   "outputs": [],
   "source": [
    "pass"
   ]
  },
  {
   "cell_type": "code",
   "execution_count": 188,
   "metadata": {},
   "outputs": [],
   "source": [
    "pass"
   ]
  },
  {
   "cell_type": "code",
   "execution_count": 105,
   "metadata": {},
   "outputs": [],
   "source": [
    "pass"
   ]
  },
  {
   "cell_type": "code",
   "execution_count": 83,
   "metadata": {},
   "outputs": [],
   "source": [
    "\n"
   ]
  },
  {
   "cell_type": "code",
   "execution_count": 72,
   "metadata": {},
   "outputs": [],
   "source": [
    "pass"
   ]
  },
  {
   "cell_type": "code",
   "execution_count": 70,
   "metadata": {},
   "outputs": [],
   "source": [
    "pass"
   ]
  },
  {
   "cell_type": "code",
   "execution_count": 71,
   "metadata": {},
   "outputs": [],
   "source": [
    "pass"
   ]
  },
  {
   "cell_type": "code",
   "execution_count": null,
   "metadata": {},
   "outputs": [],
   "source": []
  },
  {
   "cell_type": "code",
   "execution_count": null,
   "metadata": {},
   "outputs": [],
   "source": []
  }
 ]
}