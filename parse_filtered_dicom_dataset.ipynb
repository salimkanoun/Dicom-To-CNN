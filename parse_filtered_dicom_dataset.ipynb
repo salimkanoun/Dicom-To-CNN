{
 "cells": [
  {
   "cell_type": "code",
   "execution_count": 1,
   "metadata": {},
   "outputs": [],
   "source": [
    "import os\n",
    "import json\n",
    "\n",
    "from library_dicom.dicom_processor.tools.folders import *\n",
    "from library_dicom.dicom_processor.tools.series import get_series_object\n",
    "\n",
    "import csv\n",
    "from library_dicom.dicom_processor.model.Series import Series"
   ]
  },
  {
   "cell_type": "code",
   "execution_count": 5,
   "metadata": {},
   "outputs": [],
   "source": [
    "series_paths = get_series_path(\"/media/salim/DD 2To/FLIP/DICOM\")\n",
    "export_folder = '/media/salim/DD 2To/FLIP/FLIP_JSON'"
   ]
  },
  {
   "cell_type": "code",
   "execution_count": 6,
   "metadata": {},
   "outputs": [
    {
     "name": "stdout",
     "output_type": "stream",
     "text": [
      "0\n",
      "1\n",
      "2\n",
      "3\n",
      "4\n",
      "5\n",
      "6\n",
      "7\n",
      "8\n",
      "9\n",
      "10\n",
      "11\n",
      "12\n",
      "13\n",
      "14\n",
      "15\n",
      "16\n",
      "17\n",
      "18\n",
      "19\n",
      "20\n",
      "21\n",
      "22\n",
      "23\n",
      "24\n",
      "25\n",
      "26\n",
      "27\n",
      "28\n",
      "29\n",
      "30\n",
      "31\n",
      "32\n",
      "33\n",
      "34\n",
      "35\n",
      "36\n",
      "37\n",
      "38\n",
      "39\n",
      "40\n",
      "41\n",
      "42\n",
      "43\n",
      "44\n",
      "45\n",
      "46\n",
      "47\n",
      "48\n",
      "49\n",
      "50\n",
      "51\n",
      "52\n",
      "53\n",
      "54\n",
      "55\n",
      "56\n",
      "57\n",
      "58\n",
      "59\n",
      "60\n",
      "61\n",
      "62\n",
      "63\n",
      "64\n",
      "65\n",
      "66\n",
      "67\n",
      "68\n",
      "69\n",
      "70\n",
      "71\n",
      "72\n",
      "73\n",
      "74\n",
      "75\n",
      "76\n",
      "77\n",
      "78\n",
      "79\n",
      "80\n",
      "81\n",
      "82\n",
      "83\n",
      "84\n",
      "85\n",
      "86\n",
      "87\n",
      "88\n",
      "89\n",
      "90\n",
      "91\n",
      "92\n",
      "93\n",
      "94\n",
      "95\n",
      "96\n",
      "97\n",
      "98\n",
      "99\n",
      "100\n",
      "101\n",
      "102\n",
      "103\n",
      "104\n",
      "105\n",
      "106\n",
      "107\n",
      "108\n",
      "109\n",
      "110\n",
      "111\n",
      "112\n",
      "113\n",
      "114\n",
      "115\n",
      "116\n",
      "117\n",
      "118\n",
      "119\n",
      "120\n",
      "121\n",
      "122\n",
      "123\n",
      "124\n",
      "125\n",
      "126\n",
      "127\n",
      "128\n",
      "129\n",
      "130\n",
      "131\n",
      "132\n",
      "133\n",
      "134\n",
      "135\n",
      "136\n",
      "137\n",
      "138\n",
      "139\n",
      "140\n",
      "141\n",
      "142\n",
      "143\n",
      "144\n",
      "145\n",
      "146\n",
      "147\n",
      "148\n",
      "149\n",
      "150\n",
      "151\n",
      "152\n",
      "153\n",
      "154\n",
      "155\n",
      "156\n",
      "157\n",
      "158\n",
      "159\n",
      "160\n",
      "161\n",
      "162\n",
      "163\n",
      "164\n",
      "165\n",
      "166\n",
      "167\n",
      "168\n",
      "169\n",
      "170\n",
      "171\n",
      "172\n",
      "173\n",
      "174\n",
      "175\n",
      "176\n",
      "177\n",
      "178\n",
      "179\n",
      "180\n",
      "181\n",
      "182\n",
      "183\n",
      "184\n",
      "185\n",
      "186\n",
      "187\n",
      "188\n",
      "189\n",
      "190\n",
      "191\n",
      "192\n",
      "193\n",
      "194\n",
      "195\n",
      "196\n",
      "197\n",
      "198\n",
      "199\n",
      "200\n",
      "201\n",
      "202\n",
      "203\n",
      "204\n",
      "205\n",
      "206\n",
      "207\n",
      "208\n",
      "209\n",
      "210\n",
      "211\n",
      "212\n",
      "213\n",
      "214\n",
      "215\n",
      "216\n",
      "217\n",
      "218\n",
      "219\n",
      "220\n",
      "221\n",
      "222\n",
      "223\n",
      "224\n",
      "225\n",
      "226\n",
      "227\n",
      "228\n",
      "229\n",
      "230\n",
      "231\n",
      "232\n",
      "233\n",
      "234\n",
      "235\n",
      "236\n",
      "237\n",
      "238\n",
      "239\n",
      "240\n",
      "241\n",
      "242\n",
      "243\n",
      "244\n",
      "245\n",
      "246\n",
      "247\n",
      "248\n",
      "249\n",
      "250\n",
      "251\n",
      "252\n",
      "253\n",
      "254\n",
      "255\n",
      "256\n",
      "257\n",
      "258\n",
      "259\n",
      "260\n",
      "261\n",
      "262\n",
      "263\n",
      "264\n",
      "265\n",
      "266\n",
      "267\n",
      "268\n",
      "269\n",
      "270\n",
      "271\n",
      "272\n",
      "273\n",
      "274\n",
      "275\n",
      "276\n",
      "277\n",
      "278\n",
      "279\n",
      "280\n",
      "281\n",
      "282\n",
      "283\n",
      "284\n",
      "285\n",
      "286\n",
      "287\n",
      "288\n",
      "289\n",
      "290\n",
      "291\n",
      "292\n",
      "293\n",
      "294\n",
      "295\n",
      "296\n",
      "297\n",
      "298\n",
      "299\n",
      "300\n",
      "301\n",
      "302\n",
      "303\n",
      "304\n",
      "305\n",
      "306\n",
      "307\n",
      "308\n",
      "309\n",
      "310\n",
      "311\n",
      "312\n",
      "313\n",
      "314\n",
      "315\n",
      "316\n",
      "317\n",
      "318\n",
      "319\n",
      "320\n",
      "321\n",
      "322\n",
      "323\n",
      "324\n",
      "325\n",
      "326\n",
      "327\n",
      "328\n",
      "329\n",
      "330\n",
      "331\n",
      "332\n",
      "333\n",
      "334\n",
      "335\n",
      "336\n",
      "337\n",
      "338\n",
      "339\n",
      "340\n",
      "341\n",
      "342\n",
      "343\n",
      "344\n",
      "345\n",
      "346\n",
      "347\n",
      "348\n",
      "349\n",
      "350\n",
      "351\n"
     ]
    }
   ],
   "source": [
    "index_problem = []\n",
    "for serie_path in series_paths:\n",
    "    print(series_paths.index(serie_path))\n",
    "    try:\n",
    "        dicom_serie = get_series_object(serie_path)\n",
    "        dicomsInfo = dicom_serie.get_series_details()\n",
    "        write_json_file(export_folder, dicomsInfo['series']['SeriesInstanceUID'], dicomsInfo)\n",
    "    except Exception as err:\n",
    "        print(err)\n",
    "        print(dicomsInfo)\n",
    "        index_problem.append(series_paths.index(serie_path))"
   ]
  },
  {
   "cell_type": "code",
   "execution_count": 7,
   "metadata": {},
   "outputs": [
    {
     "name": "stdout",
     "output_type": "stream",
     "text": [
      "0\n",
      "[]\n"
     ]
    }
   ],
   "source": [
    "print(len(index_problem))\n",
    "print(index_problem)"
   ]
  },
  {
   "cell_type": "code",
   "execution_count": 8,
   "metadata": {},
   "outputs": [
    {
     "name": "stdout",
     "output_type": "stream",
     "text": [
      "350\n"
     ]
    }
   ],
   "source": [
    "json_directory = '/media/salim/DD 2To/FLIP/FLIP_JSON'\n",
    "list_json = os.listdir(json_directory)\n",
    "number_of_json = len(list_json)\n",
    "print(number_of_json)"
   ]
  },
  {
   "cell_type": "code",
   "execution_count": null,
   "metadata": {},
   "outputs": [],
   "source": [
    "#POUR PET0 : PT CT ET CSV POUR MASK "
   ]
  },
  {
   "cell_type": "code",
   "execution_count": 3,
   "metadata": {},
   "outputs": [],
   "source": [
    "#recuprer liste de liste [[json 1, json 2, uid ]] à partir du csv pour chaque patient\n",
    "\n",
    "csv_pet0_path = '/media/deeplearning/78ca2911-9e9f-4f78-b80a-848024b95f92/FLIP/petIni.csv'\n",
    "\n",
    "with open(csv_pet0_path, 'r') as csv_file :\n",
    "    reader = csv.reader(csv_file, delimiter = ';') #liste pour chaque ligne \n",
    "    csv_data = []\n",
    "    for row in reader :\n",
    "        csv_data.append(row)\n",
    "        \n",
    "del csv_data[0] #enlever première ligne\n"
   ]
  },
  {
   "cell_type": "code",
   "execution_count": 4,
   "metadata": {},
   "outputs": [
    {
     "output_type": "execute_result",
     "data": {
      "text/plain": "63"
     },
     "metadata": {},
     "execution_count": 4
    }
   ],
   "source": [
    "len(csv_data)"
   ]
  },
  {
   "cell_type": "code",
   "execution_count": 5,
   "metadata": {},
   "outputs": [],
   "source": [
    "json_directory = '/media/deeplearning/78ca2911-9e9f-4f78-b80a-848024b95f92/FLIP/FLIP_JSON'\n",
    "list_json = os.listdir(json_directory)\n",
    "number_of_json = len(list_json)"
   ]
  },
  {
   "cell_type": "code",
   "execution_count": 49,
   "metadata": {},
   "outputs": [],
   "source": [
    "all_list = []\n",
    "\n",
    "for item in csv_data :\n",
    "    patient_name = item[0]\n",
    "    patient_id = item[1]\n",
    "    study_uid = item[2]\n",
    "\n",
    "    #dans list des json, recupérer ceux dont le Study UID est la même \n",
    "\n",
    "    liste = []\n",
    "\n",
    "    for number_json in range(number_of_json) : \n",
    " \n",
    "        \n",
    "        with open(os.path.join(json_directory, list_json[number_json])) as json_file :\n",
    "            reader = json.load(json_file)\n",
    "            data = []\n",
    "        \n",
    "            for info in reader['study']['StudyInstanceUID'] : #study instance uid of each serie \n",
    "                data.append(info)\n",
    "                study_uid_json = \"\".join(data)\n",
    "\n",
    "                if study_uid == study_uid_json : \n",
    "                    liste.append(os.path.join(json_directory, list_json[number_json]))\n",
    "                    \n",
    "                    \n",
    "    liste.append(patient_name)\n",
    "    liste.append(patient_id)\n",
    "    liste.append(study_uid)\n",
    "    \n",
    "\n",
    "    all_list.append(liste)"
   ]
  },
  {
   "cell_type": "code",
   "execution_count": 50,
   "metadata": {
    "tags": []
   },
   "outputs": [
    {
     "output_type": "stream",
     "name": "stdout",
     "text": "63\n"
    }
   ],
   "source": [
    "print(len(all_list))"
   ]
  },
  {
   "cell_type": "code",
   "execution_count": null,
   "metadata": {},
   "outputs": [],
   "source": []
  },
  {
   "cell_type": "code",
   "execution_count": 4,
   "metadata": {},
   "outputs": [
    {
     "name": "stdout",
     "output_type": "stream",
     "text": [
      "None\n"
     ]
    }
   ],
   "source": [
    "#Clean dataset : if no json, if 2 CT or 2 PT, if same study"
   ]
  },
  {
   "cell_type": "code",
   "execution_count": 61,
   "metadata": {
    "tags": []
   },
   "outputs": [
    {
     "output_type": "stream",
     "name": "stdout",
     "text": "0\n63\n"
    }
   ],
   "source": [
    "#Pour certains Study UID,pas de json correspondant, on supprime de la liste  : \n",
    "no_json = []\n",
    "for liste in all_list : \n",
    "    if len(liste) != 5 : \n",
    "        no_json.append(liste)\n",
    "\n",
    "print(len(no_json))\n",
    "\n",
    "for serie in no_json : \n",
    "    all_list.remove(serie)\n",
    "\n",
    "print(len(all_list))"
   ]
  },
  {
   "cell_type": "code",
   "execution_count": 62,
   "metadata": {
    "tags": []
   },
   "outputs": [
    {
     "output_type": "stream",
     "name": "stdout",
     "text": "63\n"
    }
   ],
   "source": [
    "#doublon\n",
    "complete_liste = []\n",
    "complete_liste.append(all_list[0])\n",
    "for i in range(1, len(all_list)) :\n",
    "    if all_list[i] not in complete_liste : \n",
    "        complete_liste.append(all_list[i])\n",
    "\n",
    "print(len(complete_liste))"
   ]
  },
  {
   "cell_type": "code",
   "execution_count": 63,
   "metadata": {
    "tags": []
   },
   "outputs": [
    {
     "output_type": "stream",
     "name": "stdout",
     "text": "0\n"
    }
   ],
   "source": [
    "#vérifier si les 2 series récupérer sont bien CT et PT , si 2 CT ou 2 PT, supprimer l'item de la liste \n",
    "modality = []\n",
    "\n",
    "for liste in complete_liste : \n",
    "    subliste = []\n",
    "\n",
    "    for i in range(2) : \n",
    "\n",
    "        with open(liste[i]) as json_file : \n",
    "            data = []\n",
    "            reader = json.load(json_file)\n",
    "            for info in reader['series']['Modality'] :\n",
    "                data.append(info)\n",
    "                modality1 = \"\".join(data)\n",
    "            subliste.append(modality1)\n",
    "    modality.append(subliste)\n",
    "\n",
    "#print(modality)\n",
    "false_modality = []\n",
    "for modal in modality : \n",
    "    index = modality.index(modal)\n",
    "    if modal[0] == modal[1] :\n",
    "        false_modality.append(complete_liste[index])\n",
    "\n",
    "print(len(false_modality))"
   ]
  },
  {
   "cell_type": "code",
   "execution_count": 64,
   "metadata": {
    "tags": []
   },
   "outputs": [
    {
     "output_type": "stream",
     "name": "stdout",
     "text": "63\n"
    }
   ],
   "source": [
    "results = {}\n",
    "study_results = []\n",
    "list_study_uid = []\n",
    "\n",
    "for liste in complete_liste:\n",
    "    subliste = []\n",
    "\n",
    "    for number_serie in range(2) : \n",
    "\n",
    "        with open(liste[number_serie]) as json_file : \n",
    "            data = []\n",
    "            reader = json.load(json_file)\n",
    "            for info in reader['path']:\n",
    "                data.append(info)\n",
    "                path = \"\".join(data)\n",
    "            \n",
    "            \n",
    "            subliste.append(path)\n",
    "            subliste.append(modality[complete_liste.index(liste)][number_serie])\n",
    "        \n",
    "    subliste.append(liste[-])\n",
    "    subliste.append(liste[-2])\n",
    "    study_results.append(subliste) \n",
    "\n",
    "print(len(study_results))"
   ]
  },
  {
   "cell_type": "code",
   "execution_count": 65,
   "metadata": {},
   "outputs": [],
   "source": [
    "write_json_file('/media/deeplearning/78ca2911-9e9f-4f78-b80a-848024b95f92/FLIP_NIFTI', 'FLIP_list_path', study_results)"
   ]
  },
  {
   "cell_type": "code",
   "execution_count": null,
   "metadata": {},
   "outputs": [],
   "source": [
    "#create json"
   ]
  },
  {
   "cell_type": "code",
   "execution_count": 43,
   "metadata": {},
   "outputs": [
    {
     "name": "stdout",
     "output_type": "stream",
     "text": [
      "579\n",
      "579\n"
     ]
    }
   ],
   "source": [
    "#create dictionary to save it as json \n",
    "\n",
    "study_results = []\n",
    "list_study_uid = []\n",
    "list_patient_id = []\n",
    "\n",
    "for liste in liste_2:\n",
    "    subliste = []\n",
    "    list_study_uid.append(liste[-2])\n",
    "    list_patient_id.append(liste[-1])\n",
    "\n",
    "\n",
    "    for number_serie in range(2) : \n",
    "\n",
    "        with open(liste[number_serie]) as json_file : \n",
    "            data = []\n",
    "            reader = json.load(json_file)\n",
    "            for info in reader['path']:\n",
    "                data.append(info)\n",
    "                path = \"\".join(data)\n",
    "            \n",
    "            \n",
    "            subliste.append(path)\n",
    "            subliste.append(modality_2[liste_2.index(liste)][number_serie])\n",
    "        \n",
    "\n",
    "    study_results.append(subliste) \n",
    "\n",
    "print(len(study_results))\n",
    "\n",
    "\n",
    "for i in range(len(list_study_uid)):\n",
    "    for j in range(len(csv_data)):\n",
    "        if csv_data[j][4] == list_study_uid[i] :\n",
    "\n",
    "            study_results[i].append(csv_data[j][9])\n",
    "            study_results[i].append(csv_data[j][1])\n",
    "            break\n",
    "\n",
    "\n",
    "print(len(study_results))"
   ]
  },
  {
   "cell_type": "code",
   "execution_count": 44,
   "metadata": {},
   "outputs": [],
   "source": [
    "#save json file \n",
    "write_json_file('/media/salim/DD 2To/GAINED_NIFTI', 'GAINED_list_path_csv', study_results)"
   ]
  },
  {
   "cell_type": "code",
   "execution_count": null,
   "metadata": {},
   "outputs": [],
   "source": []
  },
  {
   "cell_type": "code",
   "execution_count": 23,
   "metadata": {},
   "outputs": [],
   "source": [
    "#POUR PET 2 et PET4 : CT ET PET \n",
    "csv_pet24_path = '/media/deeplearning/78ca2911-9e9f-4f78-b80a-848024b95f92/GAINED_CSV_DATA/Export_Gained/data.csv'\n",
    "\n",
    "with open(csv_pet24_path, 'r') as csv_file :\n",
    "    reader = csv.reader(csv_file, delimiter = ',') #liste pour chaque ligne \n",
    "    csv_data = []\n",
    "    for row in reader :\n",
    "        csv_data.append(row)\n",
    "        \n",
    "del csv_data[0] #enlever première ligne\n"
   ]
  },
  {
   "cell_type": "code",
   "execution_count": 25,
   "metadata": {},
   "outputs": [],
   "source": [
    "json_directory = '/media/deeplearning/78ca2911-9e9f-4f78-b80a-848024b95f92/GAINED_JSON'\n",
    "list_json = os.listdir(json_directory)\n",
    "number_of_json = len(list_json)"
   ]
  },
  {
   "cell_type": "code",
   "execution_count": 26,
   "metadata": {},
   "outputs": [],
   "source": [
    "\n",
    "all_list = []\n",
    "\n",
    "for item in csv_data :\n",
    "    study_uid_csv = item[51]\n",
    "    patient_id = item[1]\n",
    "\n",
    "    #dans list des json, recupérer ceux dont le Study UID est la même \n",
    "\n",
    "    liste = []\n",
    "\n",
    "    for number_json in range(number_of_json) : \n",
    " \n",
    "        \n",
    "        with open(os.path.join(json_directory, list_json[number_json])) as json_file :\n",
    "            reader = json.load(json_file)\n",
    "            data = []\n",
    "            for info in reader['study']['StudyInstanceUID'] : #study instance uid of each serie \n",
    "                data.append(info)\n",
    "                study_uid_json = \"\".join(data)\n",
    "\n",
    "                if study_uid_csv == study_uid_json : \n",
    "                    liste.append(os.path.join(json_directory, list_json[number_json]))\n",
    "    liste.append(patient_id)\n",
    "    liste.append(study_uid_csv)\n",
    "\n",
    "    all_list.append(liste)\n"
   ]
  },
  {
   "cell_type": "code",
   "execution_count": 27,
   "metadata": {
    "tags": []
   },
   "outputs": [
    {
     "output_type": "stream",
     "name": "stdout",
     "text": "728\n134\n"
    }
   ],
   "source": [
    "#Si pas de json, alors on enleve la serie \n",
    "print(len(all_list))\n",
    "no_json = []\n",
    "for i in range(len(all_list)) :\n",
    "    if len(all_list[i]) != 4 : \n",
    "        no_json.append(all_list[i])\n",
    "\n",
    "print(len(no_json))"
   ]
  },
  {
   "cell_type": "code",
   "execution_count": 28,
   "metadata": {},
   "outputs": [
    {
     "output_type": "execute_result",
     "data": {
      "text/plain": "['51011103471001', '1.2.826.0.1.3680043.2.455.30.11.5.116865']"
     },
     "metadata": {},
     "execution_count": 28
    }
   ],
   "source": [
    "no_json[50]"
   ]
  },
  {
   "cell_type": "code",
   "execution_count": 29,
   "metadata": {
    "tags": []
   },
   "outputs": [
    {
     "output_type": "stream",
     "name": "stdout",
     "text": "594\n"
    }
   ],
   "source": [
    "for serie in no_json : \n",
    "    all_list.remove(serie)\n",
    "\n",
    "print(len(all_list))"
   ]
  },
  {
   "cell_type": "code",
   "execution_count": 30,
   "metadata": {
    "tags": []
   },
   "outputs": [
    {
     "output_type": "stream",
     "name": "stdout",
     "text": "535\n"
    }
   ],
   "source": [
    "#enlever les doublons \n",
    "complete_liste = []\n",
    "complete_liste.append(all_list[0])\n",
    "for i in range(1, len(all_list)):\n",
    "    if all_list[i] not in complete_liste :\n",
    "        complete_liste.append(all_list[i])\n",
    "\n",
    "print(len(complete_liste))"
   ]
  },
  {
   "cell_type": "code",
   "execution_count": 31,
   "metadata": {
    "tags": []
   },
   "outputs": [
    {
     "output_type": "stream",
     "name": "stdout",
     "text": "2\n"
    }
   ],
   "source": [
    "#verifier que CT + PT / si 2 CT ou 2 PT, enlever de la liste \n",
    "modality = []\n",
    "\n",
    "for liste in complete_liste : \n",
    "    subliste = []\n",
    "\n",
    "    for i in range(2) : \n",
    "\n",
    "        with open(liste[i]) as json_file : \n",
    "            data = []\n",
    "            reader = json.load(json_file)\n",
    "            for info in reader['series']['Modality'] :\n",
    "                data.append(info)\n",
    "                modality1 = \"\".join(data)\n",
    "            subliste.append(modality1)\n",
    "    modality.append(subliste)\n",
    "\n",
    "#print(modality)\n",
    "false_modality = []\n",
    "for modal in modality : \n",
    "    index = modality.index(modal)\n",
    "    if modal[0] == modal[1] :\n",
    "        false_modality.append(complete_liste[index])\n",
    "        false_modality.append(index)\n",
    "\n",
    "print(len(false_modality))\n",
    "\n",
    "#remove serie in false_modality from de dataset "
   ]
  },
  {
   "cell_type": "code",
   "execution_count": 34,
   "metadata": {},
   "outputs": [],
   "source": [
    "error_1 = modality[92]\n",
    "error_2 = complete_liste[92]\n",
    "\n",
    "modality.remove(error_1)\n",
    "complete_liste.remove(error_2)"
   ]
  },
  {
   "cell_type": "code",
   "execution_count": 35,
   "metadata": {},
   "outputs": [
    {
     "output_type": "execute_result",
     "data": {
      "text/plain": "['/media/deeplearning/78ca2911-9e9f-4f78-b80a-848024b95f92/GAINED_JSON/1.3.46.670589.28.2.10.4.9167.27989.2.3668.0.1364291694.json',\n '/media/deeplearning/78ca2911-9e9f-4f78-b80a-848024b95f92/GAINED_JSON/1.2.840.113704.1.111.6080.1364289523.8.json',\n '11011101021002',\n '1.2.840.113704.1.111.4636.1364288605.3']"
     },
     "metadata": {},
     "execution_count": 35
    }
   ],
   "source": [
    "complete_liste[0]"
   ]
  },
  {
   "cell_type": "code",
   "execution_count": 36,
   "metadata": {
    "tags": []
   },
   "outputs": [
    {
     "output_type": "stream",
     "name": "stdout",
     "text": "534\n"
    }
   ],
   "source": [
    "#CREATE JSON WITH PATH CT AND PATH PET\n",
    "results = {}\n",
    "study_results = []\n",
    "list_study_uid = []\n",
    "\n",
    "for liste in complete_liste:\n",
    "    subliste = []\n",
    "\n",
    "    for number_serie in range(2) : \n",
    "\n",
    "        with open(liste[number_serie]) as json_file : \n",
    "            data = []\n",
    "            reader = json.load(json_file)\n",
    "            for info in reader['path']:\n",
    "                data.append(info)\n",
    "                path = \"\".join(data)\n",
    "            \n",
    "            \n",
    "            subliste.append(path)\n",
    "            subliste.append(modality[complete_liste.index(liste)][number_serie])\n",
    "        \n",
    "    subliste.append(liste[-1])\n",
    "    subliste.append(liste[-2])\n",
    "    study_results.append(subliste) \n",
    "\n",
    "print(len(study_results))"
   ]
  },
  {
   "cell_type": "code",
   "execution_count": 37,
   "metadata": {},
   "outputs": [],
   "source": [
    "write_json_file('/media/deeplearning/78ca2911-9e9f-4f78-b80a-848024b95f92/GAINED_NIFTI_PET4', 'GAINED_list_path_CT_PET4', study_results)"
   ]
  }
 ],
 "metadata": {
  "file_extension": ".py",
  "kernelspec": {
   "display_name": "Python 3.8.2 64-bit",
   "language": "python",
   "name": "python38264bit4afc185bc98b42c389abdbb3fbeec8dd"
  },
  "language_info": {
   "codemirror_mode": {
    "name": "ipython",
    "version": 3
   },
   "file_extension": ".py",
   "mimetype": "text/x-python",
   "name": "python",
   "nbconvert_exporter": "python",
   "pygments_lexer": "ipython3",
   "version": "3.8.2-final"
  },
  "mimetype": "text/x-python",
  "name": "python",
  "npconvert_exporter": "python",
  "pygments_lexer": "ipython3",
  "version": 3
 },
 "nbformat": 4,
 "nbformat_minor": 2
}