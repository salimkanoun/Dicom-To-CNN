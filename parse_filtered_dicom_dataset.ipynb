{
 "cells": [
  {
   "cell_type": "code",
   "execution_count": 2,
   "metadata": {},
   "outputs": [],
   "source": [
    "import os\n",
    "import json\n",
    "\n",
    "from library_dicom.dicom_processor.tools.folders import *\n",
    "from library_dicom.dicom_processor.tools.series import get_series_object\n",
    "\n",
    "import csv\n",
    "from library_dicom.dicom_processor.model.Series import Series"
   ]
  },
  {
   "cell_type": "code",
   "execution_count": 3,
   "metadata": {},
   "outputs": [],
   "source": [
    "series_paths = get_series_path('/media/deeplearning/Elements/RELEVANCE_Valid_DICOM')\n",
    "export_folder = '/media/deeplearning/78ca2911-9e9f-4f78-b80a-848024b95f92/Relevance_json_dernier'"
   ]
  },
  {
   "cell_type": "code",
   "execution_count": 4,
   "metadata": {},
   "outputs": [
    {
     "output_type": "execute_result",
     "data": {
      "text/plain": [
       "1268"
      ]
     },
     "metadata": {},
     "execution_count": 4
    }
   ],
   "source": [
    "#Number of serie \n",
    "len(series_paths)"
   ]
  },
  {
   "cell_type": "code",
   "execution_count": 10,
   "metadata": {
    "tags": [
     "outputPrepend"
    ]
   },
   "outputs": [
    {
     "output_type": "stream",
     "name": "stdout",
     "text": [
      "n': [\"1.0\", \"0.0\", \"0.0\", \"0.0\", \"1.0\", \"0.0\"], 'RescaleSlope': \"5.45243\", 'RescaleIntercept': \"0.0\", 'SOPInstanceUID': '1.3.46.670589.28.2.15.30.26407.36732.3.3604.144.1397566230'}, 'radiopharmaceutical': {'RadionuclideHalfLife': \"6586.199707\", 'TotalDose': \"197000000.0\", 'RadiopharmaceuticalStartDateTime': '20140415131200', 'RadiopharmaceuticalStartTime': '131200'}, 'pet_correction': ['DECY', 'RADL', 'ATTN', 'SCAT', 'DTIM', 'RAN', 'NORM'], 'philips_tags': {'PhilipsSUVFactor': 0.003033, 'PhilipsBqMlFactor': 5.45243}}\n",
      "901\n",
      "902\n",
      "903\n",
      "904\n",
      "905\n",
      "906\n",
      "907\n",
      "908\n",
      "909\n",
      "910\n",
      "911\n",
      "912\n",
      "913\n",
      "914\n",
      "915\n",
      "916\n",
      "917\n",
      "918\n",
      "919\n",
      "920\n",
      "921\n",
      "922\n",
      "923\n",
      "924\n",
      "925\n",
      "926\n",
      "927\n",
      "928\n",
      "929\n",
      "930\n",
      "931\n",
      "932\n",
      "933\n",
      "934\n",
      "935\n",
      "936\n",
      "937\n",
      "938\n",
      "939\n",
      "940\n",
      "941\n",
      "942\n",
      "943\n",
      "944\n",
      "945\n",
      "946\n",
      "947\n",
      "948\n",
      "949\n",
      "950\n",
      "951\n",
      "952\n",
      "953\n",
      "954\n",
      "955\n",
      "956\n",
      "957\n",
      "958\n",
      "959\n",
      "960\n",
      "961\n",
      "962\n",
      "963\n",
      "964\n",
      "965\n",
      "966\n",
      "967\n",
      "968\n",
      "969\n",
      "970\n",
      "971\n",
      "972\n",
      "973\n",
      "974\n",
      "975\n",
      "976\n",
      "977\n",
      "978\n",
      "979\n",
      "980\n",
      "981\n",
      "982\n",
      "983\n",
      "984\n",
      "985\n",
      "986\n",
      "987\n",
      "988\n",
      "989\n",
      "990\n",
      "991\n",
      "992\n",
      "993\n",
      "994\n",
      "995\n",
      "996\n",
      "997\n",
      "998\n",
      "999\n",
      "1000\n",
      "1001\n",
      "1002\n",
      "1003\n",
      "1004\n",
      "1005\n",
      "1006\n",
      "1007\n",
      "1008\n",
      "1009\n",
      "1010\n",
      "1011\n",
      "1012\n",
      "1013\n",
      "1014\n",
      "1015\n"
     ]
    }
   ],
   "source": [
    "index_problem = []\n",
    "for serie_path in series_paths:\n",
    "    print(series_paths.index(serie_path))\n",
    "    try:\n",
    "        dicom_serie = get_series_object(serie_path)\n",
    "        dicomsInfo = dicom_serie.get_series_details()\n",
    "        write_json_file(export_folder, dicomsInfo['series']['SeriesInstanceUID'], dicomsInfo)\n",
    "    except Exception as err:\n",
    "        print(err)\n",
    "        print(dicomsInfo)\n",
    "        index_problem.append(series_paths.index(serie_path))"
   ]
  },
  {
   "cell_type": "code",
   "execution_count": 107,
   "metadata": {},
   "outputs": [],
   "source": [
    "#Load CSV result \n",
    "\n",
    "csv_pet0_path =  '/media/deeplearning/Elements/relevance_data_v2.csv'\n",
    "with open(csv_pet0_path, 'r') as csv_file :\n",
    "    reader = csv.reader(csv_file, delimiter = ',') #liste pour chaque ligne \n",
    "    csv_data = []\n",
    "    for row in reader :\n",
    "        csv_data.append(row)\n",
    "        \n",
    "del csv_data[0] #enlever première ligne\n"
   ]
  },
  {
   "cell_type": "code",
   "execution_count": 108,
   "metadata": {},
   "outputs": [
    {
     "output_type": "execute_result",
     "data": {
      "text/plain": [
       "['12011101021106',\n",
       " '1.2.250.1.59.470.940100027.1.20140729113102.1572.122912',\n",
       " 'PET_76weeks',\n",
       " '/media/deeplearning/Elements/RELEVANCE_Validated_DICOM/12011101021106/1.2.250.1.59.470.940100027.1.20140729113102.1572.122912/1.2.840.113704.1.111.212.1409730745.16/1.2.840.113704.1.111.212.1409730745.16',\n",
       " '/media/deeplearning/78ca2911-9e9f-4f78-b80a-848024b95f92/RELEVANCE_json/1.2.840.113704.1.111.212.1409730745.16.json',\n",
       " '/media/deeplearning/Elements/RELEVANCE_Validated_DICOM/12011101021106/1.2.250.1.59.470.940100027.1.20140729113102.1572.122912/1.2.840.113704.1.111.212.1409730745.19/1.2.840.113704.1.111.212.1409730745.19',\n",
       " '/media/deeplearning/78ca2911-9e9f-4f78-b80a-848024b95f92/RELEVANCE_json/1.2.840.113704.1.111.212.1409730745.19.json']"
      ]
     },
     "metadata": {},
     "execution_count": 108
    }
   ],
   "source": [
    "csv_data[0]"
   ]
  },
  {
   "cell_type": "code",
   "execution_count": 9,
   "metadata": {},
   "outputs": [],
   "source": [
    "#load index 3 \n",
    "json_path = '/media/deeplearning/78ca2911-9e9f-4f78-b80a-848024b95f92/Relevance/index_RELEVANCE_dernier.json'\n",
    "dataset = []\n",
    "with open(json_path) as json_file : \n",
    "    reader = json.load(json_file)\n",
    "    for info in reader :\n",
    "        dataset.append(info)\n",
    "\n",
    "json_liste = os.listdir('/media/deeplearning/78ca2911-9e9f-4f78-b80a-848024b95f92/RELEVANCE_json')"
   ]
  },
  {
   "cell_type": "code",
   "execution_count": 10,
   "metadata": {},
   "outputs": [
    {
     "output_type": "execute_result",
     "data": {
      "text/plain": [
       "143"
      ]
     },
     "metadata": {},
     "execution_count": 10
    }
   ],
   "source": [
    "len(dataset)"
   ]
  },
  {
   "cell_type": "code",
   "execution_count": 11,
   "metadata": {},
   "outputs": [],
   "source": [
    "#find new series from envoi 3 \n",
    "data = []\n",
    "for uid in dataset : \n",
    "    subliste = []\n",
    "    for serie_path in series_paths : \n",
    "        if uid in serie_path : \n",
    "            subliste.append(uid)\n",
    "            subliste.append(serie_path)\n",
    "            for json_ in json_liste : \n",
    "                if uid in json_ : \n",
    "                    subliste.append(os.path.join('/media/deeplearning/78ca2911-9e9f-4f78-b80a-848024b95f92/RELEVANCE_json', json_))\n",
    "            data.append(subliste)\n"
   ]
  },
  {
   "cell_type": "code",
   "execution_count": 13,
   "metadata": {},
   "outputs": [
    {
     "output_type": "execute_result",
     "data": {
      "text/plain": [
       "91"
      ]
     },
     "metadata": {},
     "execution_count": 13
    }
   ],
   "source": [
    "len(data)"
   ]
  },
  {
   "cell_type": "code",
   "execution_count": 14,
   "metadata": {},
   "outputs": [],
   "source": [
    "#get every informations about series\n",
    "study_uid = []\n",
    "for serie in data : \n",
    "    l = []\n",
    "    patient = []\n",
    "    with open(serie[2]) as json_file : \n",
    "        reader = json.load(json_file)\n",
    "        for info in reader['study']['StudyInstanceUID'] : \n",
    "                l.append(info)\n",
    "                study_uid_json = \"\".join(l)\n",
    "        if study_uid_json not in study_uid : \n",
    "            study_uid.append(study_uid_json)\n",
    "\n",
    "        for info in reader['patient']['PatientID'] : \n",
    "                patient.append(info)\n",
    "                patient_id = \"\".join(patient)\n",
    "\n",
    "    serie.append(study_uid_json)\n",
    "    serie.append(patient_id)\n",
    "    \n"
   ]
  },
  {
   "cell_type": "code",
   "execution_count": 15,
   "metadata": {},
   "outputs": [
    {
     "output_type": "execute_result",
     "data": {
      "text/plain": [
       "['1.3.12.2.1107.5.1.4.1007.30000013061907282506200012391',\n",
       " '/media/deeplearning/Elements/RELEVANCE_Valid_DICOM/52011101841108/PET_Screening/1.3.12.2.1107.5.1.4.1007.30000013061907282506200012391/1.3.12.2.1107.5.1.4.1007.30000013061907282506200012391',\n",
       " '/media/deeplearning/78ca2911-9e9f-4f78-b80a-848024b95f92/RELEVANCE_json/1.3.12.2.1107.5.1.4.1007.30000013061907282506200012391.json',\n",
       " '1.3.12.2.1107.5.1.4.1007.30000013061907243685900000017',\n",
       " '52011101841108']"
      ]
     },
     "metadata": {},
     "execution_count": 15
    }
   ],
   "source": [
    "data[0]"
   ]
  },
  {
   "cell_type": "code",
   "execution_count": 16,
   "metadata": {},
   "outputs": [],
   "source": [
    "#find series which belongs to the same study \n",
    "liste = []\n",
    "for uid in study_uid : \n",
    "    subliste = []\n",
    "    for serie in data : \n",
    "        if uid in serie : \n",
    "            subliste.append(serie)\n",
    "\n",
    "    liste.append(subliste)\n",
    "\n",
    "informations = []\n",
    "for studies in liste : \n",
    "    subliste = []\n",
    "    for i in range(2) : \n",
    "        subliste.append(studies[i][1]) #path \n",
    "    for i in range(2):\n",
    "        subliste.append(studies[i][2]) #json \n",
    "    type_ = studies[0][1].split('/')[6]\n",
    "    subliste.append(studies[0][-2])#study_uid\n",
    "    subliste.append(type_) #type\n",
    "    subliste.append(studies[0][-1]) #patient_id \n",
    "\n",
    "    informations.append(subliste)"
   ]
  },
  {
   "cell_type": "code",
   "execution_count": 17,
   "metadata": {},
   "outputs": [
    {
     "output_type": "execute_result",
     "data": {
      "text/plain": [
       "['/media/deeplearning/Elements/RELEVANCE_Valid_DICOM/52011101841108/PET_Screening/1.3.12.2.1107.5.1.4.1007.30000013061907282506200012391/1.3.12.2.1107.5.1.4.1007.30000013061907282506200012391',\n",
       " '/media/deeplearning/Elements/RELEVANCE_Valid_DICOM/52011101841108/PET_Screening/1.3.12.2.1107.5.1.4.1007.30000013061907284295300020931/1.3.12.2.1107.5.1.4.1007.30000013061907284295300020931',\n",
       " '/media/deeplearning/78ca2911-9e9f-4f78-b80a-848024b95f92/RELEVANCE_json/1.3.12.2.1107.5.1.4.1007.30000013061907282506200012391.json',\n",
       " '/media/deeplearning/78ca2911-9e9f-4f78-b80a-848024b95f92/RELEVANCE_json/1.3.12.2.1107.5.1.4.1007.30000013061907284295300020931.json',\n",
       " '1.3.12.2.1107.5.1.4.1007.30000013061907243685900000017',\n",
       " 'PET_Screening',\n",
       " '52011101841108']"
      ]
     },
     "metadata": {},
     "execution_count": 17
    }
   ],
   "source": [
    "informations[0]"
   ]
  },
  {
   "cell_type": "code",
   "execution_count": null,
   "metadata": {},
   "outputs": [],
   "source": [
    "#refact underneath "
   ]
  },
  {
   "source": [
    "#get list [[json_1, json_2, patient_id, study_uid], [...]] of all dataset for every study , from a CSV \n",
    "number_oj_json = len(os.listdir())\n",
    "dataset = []\n",
    "\n",
    "for item in csv_data :\n",
    "    \n",
    "    patient_id = item[1]\n",
    "    study_uid = item[2]\n",
    "    #csv_file = item[]\n",
    "    liste = []\n",
    "\n",
    "    for number_json in range(number_of_json) : \n",
    "        with open(os.path.join(json_directory, list_json[number_json])) as json_file :\n",
    "            reader = json.load(json_file)\n",
    "            data = []\n",
    "        \n",
    "            for info in reader['study']['StudyInstanceUID'] : \n",
    "                data.append(info)\n",
    "                study_uid_json = \"\".join(data)\n",
    "\n",
    "                if study_uid == study_uid_json : \n",
    "                    liste.append(os.path.join(json_directory, list_json[number_json]))\n",
    "                    \n",
    "    liste.append(csv_file)                \n",
    "    liste.append(patient_id)\n",
    "    liste.append(study_uid)\n",
    "    \n",
    "\n",
    "    dataset.append(liste)\n"
   ],
   "cell_type": "code",
   "metadata": {},
   "execution_count": null,
   "outputs": []
  },
  {
   "cell_type": "code",
   "execution_count": 109,
   "metadata": {},
   "outputs": [],
   "source": [
    "#get list [[json_1, json_2, patient_id, study_uid], [...]] of all dataset for every study , from a CSV \n",
    "\n",
    "dataset = []\n",
    "\n",
    "for serie in csv_data : \n",
    "    subliste = []\n",
    "    subliste.append(serie[4])\n",
    "    subliste.append(serie[6])\n",
    "    subliste.append(serie[1])\n",
    "    subliste.append(serie[0])\n",
    "\n",
    "    subliste.append(serie[3]) \n",
    "    subliste.append(serie[5])\n",
    "\n",
    "    subliste.append(serie[2])\n",
    "\n",
    "    dataset.append(subliste)"
   ]
  },
  {
   "cell_type": "code",
   "execution_count": 95,
   "metadata": {},
   "outputs": [
    {
     "output_type": "execute_result",
     "data": {
      "text/plain": [
       "['/media/deeplearning/78ca2911-9e9f-4f78-b80a-848024b95f92/RELEVANCE_json/1.2.840.113704.1.111.212.1409730745.16.json',\n",
       " '/media/deeplearning/78ca2911-9e9f-4f78-b80a-848024b95f92/RELEVANCE_json/1.2.840.113704.1.111.212.1409730745.19.json',\n",
       " '1.2.250.1.59.470.940100027.1.20140729113102.1572.122912',\n",
       " '12011101021106',\n",
       " '/media/deeplearning/Elements/RELEVANCE_Validated_DICOM/12011101021106/1.2.250.1.59.470.940100027.1.20140729113102.1572.122912/1.2.840.113704.1.111.212.1409730745.16/1.2.840.113704.1.111.212.1409730745.16',\n",
       " '/media/deeplearning/Elements/RELEVANCE_Validated_DICOM/12011101021106/1.2.250.1.59.470.940100027.1.20140729113102.1572.122912/1.2.840.113704.1.111.212.1409730745.19/1.2.840.113704.1.111.212.1409730745.19',\n",
       " 'PET_76weeks']"
      ]
     },
     "metadata": {},
     "execution_count": 95
    }
   ],
   "source": [
    "dataset[0]"
   ]
  },
  {
   "source": [
    "#Clean the dataset : if not 2 json, if same modality, if double study_uid"
   ],
   "cell_type": "code",
   "metadata": {},
   "execution_count": null,
   "outputs": []
  },
  {
   "cell_type": "code",
   "execution_count": 17,
   "metadata": {
    "tags": []
   },
   "outputs": [
    {
     "output_type": "stream",
     "name": "stdout",
     "text": [
      "67\n150\n"
     ]
    }
   ],
   "source": [
    "#If no 2 JSON in the study :\n",
    "no_json = []\n",
    "for liste in dataset : \n",
    "    if len(liste) != 4 : #or 5 if CSV in it \n",
    "        no_json.append(liste)\n",
    "\n",
    "print(len(no_json))\n",
    "\n",
    "for serie in no_json : \n",
    "    dataset.remove(serie)\n",
    "\n",
    "print(len(dataset))"
   ]
  },
  {
   "cell_type": "code",
   "execution_count": 18,
   "metadata": {
    "tags": []
   },
   "outputs": [
    {
     "output_type": "stream",
     "name": "stdout",
     "text": [
      "150\n"
     ]
    }
   ],
   "source": [
    "#If double study_uid, so double liste : \n",
    "complete_liste = []\n",
    "complete_liste.append(dataset[0])\n",
    "for i in range(1, len(dataset)) :\n",
    "    if dataset[i] not in complete_liste : \n",
    "        complete_liste.append(dataset[i])\n",
    "\n",
    "dataset = complete_liste\n",
    "print(len(dataset))"
   ]
  },
  {
   "source": [
    "#check if path_json are good, else rename them \n",
    "root = '/media/deeplearning/78ca2911-9e9f-4f78-b80a-848024b95f92/RELEVANCE_json'\n",
    "for serie in dataset : \n",
    "    for i in range(0,2):\n",
    "        json_file = serie[i].split('/')[-1]\n",
    "        serie[i] = os.path.join(root, json_file)"
   ],
   "cell_type": "markdown",
   "metadata": {
    "tags": []
   }
  },
  {
   "cell_type": "code",
   "execution_count": 18,
   "metadata": {
    "tags": []
   },
   "outputs": [],
   "source": [
    "#Check if there is a PET and a CT scan. If two CT or two PET, delete from dataset\n",
    "modality = []\n",
    "\n",
    "for liste in informations : \n",
    "    subliste = []\n",
    "    #print(dataset.index(liste))\n",
    "    for i in range(2, 4) : \n",
    "        with open(liste[i]) as json_file : \n",
    "            data = []\n",
    "            reader = json.load(json_file)\n",
    "            for info in reader['series']['Modality'] :\n",
    "                data.append(info)\n",
    "                mod = \"\".join(data)\n",
    "            subliste.append(mod)\n",
    "    modality.append(subliste)\n",
    "    liste.append(subliste)\n",
    "\n",
    "\n",
    "#index_false_modality = []\n",
    "#for modal in modality : \n",
    "#    index_ = modality.index(modal)\n",
    "#    if modal[0] == modal[1] :\n",
    "#        index_false_modality.append(index_)\n",
    "\n",
    "#print(index_false_modality)"
   ]
  },
  {
   "cell_type": "code",
   "execution_count": 19,
   "metadata": {},
   "outputs": [
    {
     "output_type": "execute_result",
     "data": {
      "text/plain": [
       "['/media/deeplearning/Elements/RELEVANCE_Valid_DICOM/52011101841108/PET_Screening/1.3.12.2.1107.5.1.4.1007.30000013061907282506200012391/1.3.12.2.1107.5.1.4.1007.30000013061907282506200012391',\n",
       " '/media/deeplearning/Elements/RELEVANCE_Valid_DICOM/52011101841108/PET_Screening/1.3.12.2.1107.5.1.4.1007.30000013061907284295300020931/1.3.12.2.1107.5.1.4.1007.30000013061907284295300020931',\n",
       " '/media/deeplearning/78ca2911-9e9f-4f78-b80a-848024b95f92/RELEVANCE_json/1.3.12.2.1107.5.1.4.1007.30000013061907282506200012391.json',\n",
       " '/media/deeplearning/78ca2911-9e9f-4f78-b80a-848024b95f92/RELEVANCE_json/1.3.12.2.1107.5.1.4.1007.30000013061907284295300020931.json',\n",
       " '1.3.12.2.1107.5.1.4.1007.30000013061907243685900000017',\n",
       " 'PET_Screening',\n",
       " '52011101841108',\n",
       " ['CT', 'PT']]"
      ]
     },
     "metadata": {},
     "execution_count": 19
    }
   ],
   "source": [
    "informations[0]"
   ]
  },
  {
   "cell_type": "code",
   "execution_count": 20,
   "metadata": {},
   "outputs": [],
   "source": [
    "indexs = []\n",
    "for serie in informations: \n",
    "    mod = serie[-1] \n",
    "    if mod[0] == mod[1] : \n",
    "        indexs.append(informations.index(serie))"
   ]
  },
  {
   "cell_type": "code",
   "execution_count": 21,
   "metadata": {},
   "outputs": [
    {
     "output_type": "execute_result",
     "data": {
      "text/plain": [
       "[3, 4, 5, 6, 16, 17, 25]"
      ]
     },
     "metadata": {},
     "execution_count": 21
    }
   ],
   "source": [
    "indexs"
   ]
  },
  {
   "cell_type": "code",
   "execution_count": 23,
   "metadata": {},
   "outputs": [],
   "source": [
    "#delete serie with 2 CT or 2 PET in dataset \n",
    "studies = []\n",
    "for index in indexs : \n",
    "    studies.append(informations[index])\n",
    "\n",
    "\n",
    "for study in studies : \n",
    "    informations.remove(study)"
   ]
  },
  {
   "cell_type": "code",
   "execution_count": 26,
   "metadata": {},
   "outputs": [],
   "source": [
    "#Now, can prepare json file to generate nifti in \"nifti_builder_from_json.ipynb\""
   ]
  },
  {
   "source": [
    "#rewrite dataset with modality in it, with no path \n",
    "\n",
    "study_results = []\n",
    "\n",
    "for liste in informations:\n",
    "    subliste = []\n",
    "    for number_serie in range(2) : \n",
    "        with open(liste[number_serie]) as json_file : \n",
    "            data = []\n",
    "            reader = json.load(json_file)\n",
    "            for info in reader['path']:\n",
    "                data.append(info)\n",
    "                path = \"\".join(data)\n",
    "\n",
    "            subliste.append(path) #add path of the serie \n",
    "            #subliste.append(modality[complete_liste.index(liste)][number_serie]) #add modality of the serie \n",
    "    subliste.append(liste[-1]) #add modality\n",
    "    subliste.append(liste[-2]) #add study_uid of the serie \n",
    "    subliste.append(liste[-3]) #add patient_id of the serie \n",
    "    #subliste.append(liste[-3]) #add csv_file of the serie if it exists\n",
    "    study_results.append(subliste) \n",
    "\n",
    "print(len(study_results))"
   ],
   "cell_type": "markdown",
   "metadata": {
    "tags": []
   }
  },
  {
   "source": [
    "informations[0]"
   ],
   "cell_type": "markdown",
   "metadata": {}
  },
  {
   "cell_type": "code",
   "execution_count": 25,
   "metadata": {
    "tags": []
   },
   "outputs": [],
   "source": [
    "#rewrite dataset with modality and good path \n",
    "dicom_directory = '/media/deeplearning/Elements/RELEVANCE_Valid_DICOM'\n",
    "study_results = []\n",
    "for liste in informations : \n",
    "    subliste = []\n",
    "    subliste.append(liste[0]) #path_1\n",
    "    subliste.append(liste[-1][0]) #modal 1\n",
    "    subliste.append(liste[1]) #path_2\n",
    "    subliste.append(liste[-1][1]) #modal_2\n",
    "    subliste.append(liste[-4]) #study_uid\n",
    "    subliste.append(liste[-3]) #type\n",
    "    subliste.append(liste[-2]) #patient id\n",
    "\n",
    "    study_results.append(subliste)"
   ]
  },
  {
   "cell_type": "code",
   "execution_count": 26,
   "metadata": {},
   "outputs": [
    {
     "output_type": "execute_result",
     "data": {
      "text/plain": [
       "['/media/deeplearning/Elements/RELEVANCE_Valid_DICOM/52011101841108/PET_Screening/1.3.12.2.1107.5.1.4.1007.30000013061907282506200012391/1.3.12.2.1107.5.1.4.1007.30000013061907282506200012391',\n",
       " 'CT',\n",
       " '/media/deeplearning/Elements/RELEVANCE_Valid_DICOM/52011101841108/PET_Screening/1.3.12.2.1107.5.1.4.1007.30000013061907284295300020931/1.3.12.2.1107.5.1.4.1007.30000013061907284295300020931',\n",
       " 'PT',\n",
       " '1.3.12.2.1107.5.1.4.1007.30000013061907243685900000017',\n",
       " 'PET_Screening',\n",
       " '52011101841108']"
      ]
     },
     "metadata": {},
     "execution_count": 26
    }
   ],
   "source": [
    "study_results[0]"
   ]
  },
  {
   "cell_type": "code",
   "execution_count": 27,
   "metadata": {},
   "outputs": [],
   "source": [
    "#save results as json \n",
    "directory = '/media/deeplearning/Elements/RELEVANCE_Valid_DICOM'\n",
    "filename = 'relevance_data_dernier'\n",
    "write_json_file(directory, filename, study_results)"
   ]
  }
 ],
 "metadata": {
  "file_extension": ".py",
  "kernelspec": {
   "display_name": "Python 3.8.2 64-bit",
   "language": "python",
   "name": "python38264bit4afc185bc98b42c389abdbb3fbeec8dd"
  },
  "language_info": {
   "codemirror_mode": {
    "name": "ipython",
    "version": 3
   },
   "file_extension": ".py",
   "mimetype": "text/x-python",
   "name": "python",
   "nbconvert_exporter": "python",
   "pygments_lexer": "ipython3",
   "version": "3.8.5-final"
  },
  "mimetype": "text/x-python",
  "name": "python",
  "npconvert_exporter": "python",
  "pygments_lexer": "ipython3",
  "version": 3
 },
 "nbformat": 4,
 "nbformat_minor": 2
}