{
 "cells": [
  {
   "cell_type": "code",
   "execution_count": 6,
   "metadata": {},
   "outputs": [],
   "source": [
    "from library_dicom.rtss_processor.model.RTSS import RTSS\n",
    "from library_dicom.rtss_processor.model.ROI_Contour import ROI_Contour\n"
   ]
  },
  {
   "cell_type": "code",
   "execution_count": null,
   "metadata": {},
   "outputs": [],
   "source": []
  },
  {
   "cell_type": "code",
   "execution_count": 7,
   "metadata": {},
   "outputs": [],
   "source": [
    "roi_contour = ROI_Contour()"
   ]
  },
  {
   "cell_type": "code",
   "execution_count": 8,
   "metadata": {},
   "outputs": [
    {
     "data": {
      "text/plain": [
       "(0008, 1150) Referenced SOP Class UID            UI: ReferencedSOPClassUID\n",
       "(0008, 1155) Referenced SOP Instance UID         UI: ReferencedSOPInstanceUID"
      ]
     },
     "execution_count": 8,
     "metadata": {},
     "output_type": "execute_result"
    }
   ],
   "source": []
  },
  {
   "cell_type": "code",
   "execution_count": 12,
   "metadata": {},
   "outputs": [
    {
     "name": "stdout",
     "output_type": "stream",
     "text": [
      "<class 'pydicom.sequence.Sequence'>\n"
     ]
    },
    {
     "data": {
      "text/plain": [
       "(3006, 0016)  Contour Image Sequence   1 item(s) ---- \n",
       "   (0008, 1150) Referenced SOP Class UID            UI: ReferencedSOPClassUID\n",
       "   (0008, 1155) Referenced SOP Instance UID         UI: 2\n",
       "   ---------\n",
       "(3006, 0042) Contour Geometric Type              CS: 'ContourGeometricType'\n",
       "(3006, 0046) Number of Contour Points            IS: \"20\"\n",
       "(3006, 0050) Contour Data                        DS: [100.0, 200.0, 300.0]"
      ]
     },
     "execution_count": 12,
     "metadata": {},
     "output_type": "execute_result"
    }
   ],
   "source": [
    "roi_contour.set_ContourSequence()"
   ]
  },
  {
   "cell_type": "code",
   "execution_count": null,
   "metadata": {},
   "outputs": [],
   "source": []
  },
  {
   "cell_type": "code",
   "execution_count": null,
   "metadata": {},
   "outputs": [],
   "source": []
  },
  {
   "cell_type": "code",
   "execution_count": null,
   "metadata": {},
   "outputs": [],
   "source": []
  },
  {
   "cell_type": "code",
   "execution_count": 2,
   "metadata": {},
   "outputs": [],
   "source": [
    "rtss = RTSS('mask', 'filename')"
   ]
  },
  {
   "cell_type": "code",
   "execution_count": 3,
   "metadata": {},
   "outputs": [
    {
     "data": {
      "text/plain": [
       "(0002, 0000) File Meta Information Group Length  UL: 166\n",
       "(0002, 0001) File Meta Information Version       OB: b'\\x00\\x01'\n",
       "(0002, 0002) Media Storage SOP Class UID         UI: RT Structure Set Storage\n",
       "(0002, 0003) Media Storage SOP Instance UID      UI: 1.2.826.0.1.3680043.8.498.24235033701490702873241441386820862454\n",
       "(0002, 0010) Transfer Syntax UID                 UI: Implicit VR Little Endian\n",
       "(0002, 0012) Implementation Class UID            UI: 1.2.246.352.70.2.1.7"
      ]
     },
     "execution_count": 3,
     "metadata": {},
     "output_type": "execute_result"
    }
   ],
   "source": [
    "rtss.generates_file_meta()"
   ]
  },
  {
   "cell_type": "code",
   "execution_count": 4,
   "metadata": {},
   "outputs": [],
   "source": [
    "CT_path=r'C:\\Users\\wendy\\Documents\\STAGE\\DicomRT\\201802409 BARAT GALPIN ELIANE\\103893708 Tepscan FDG\\CT CT STD 2.5mm'"
   ]
  },
  {
   "cell_type": "code",
   "execution_count": 6,
   "metadata": {},
   "outputs": [
    {
     "data": {
      "text/plain": [
       "(0008, 0005) Specific Character Set              CS: 'ISO_IR 100'\n",
       "(0008, 0020) Study Date                          DA: '20180315'\n",
       "(0008, 0030) Study Time                          TM: '105020'\n",
       "(0008, 0050) Accession Number                    SH: '103893708'\n",
       "(0008, 0090) Referring Physician's Name          PN: 'FERRON^THIERRY-GWENAEL'\n",
       "(0008, 1030) Study Description                   LO: 'Tep-scan FDG'\n",
       "(0008, 1048) Physician(s) of Record              PN: None\n",
       "(0010, 0010) Patient's Name                      PN: 'BARAT - GALPIN^ELIANE'\n",
       "(0010, 0020) Patient ID                          LO: '201802409'\n",
       "(0010, 0030) Patient's Birth Date                DA: '19510426'\n",
       "(0010, 0032) Patient's Birth Time                TM: None\n",
       "(0010, 0040) Patient's Sex                       CS: 'F'\n",
       "(0020, 000d) Study Instance UID                  UI: 1.2.840.113619.2.354.3.3523896338.709.1521096511.515\n",
       "(0020, 0010) Study ID                            SH: '18575'"
      ]
     },
     "execution_count": 6,
     "metadata": {},
     "output_type": "execute_result"
    }
   ],
   "source": [
    "rtss.generates_tags(CT_path)"
   ]
  },
  {
   "cell_type": "code",
   "execution_count": 7,
   "metadata": {},
   "outputs": [
    {
     "data": {
      "text/plain": [
       "(0008, 0012) Instance Creation Date              DA: '20200528'\n",
       "(0008, 0013) Instance Creation Time              TM: '092626.874368'\n",
       "(0008, 0016) SOP Class UID                       UI: RT Structure Set Storage\n",
       "(0008, 0018) SOP Instance UID                    UI: 1.2.826.0.1.3680043.8.498.11361107474167441556136226535531110915\n",
       "(0008, 0060) Modality                            CS: 'RTSTRUCT'\n",
       "(0008, 0070) Manufacturer                        LO: ''\n",
       "(0008, 103e) Series Description                  LO: 'RTSTRUCT generated by library-DICOM'\n",
       "(0020, 000e) Series Instance UID                 UI: 1.2.826.0.1.3680043.8.498.11228062417335196548058793852596677656\n",
       "(0020, 0011) Series Number                       IS: \"732\"\n",
       "(0020, 0013) Instance Number                     IS: \"1\"\n",
       "(3006, 0002) Structure Set Label                 SH: 'test'\n",
       "(3006, 0006) Structure Set Description           ST: 'RTSTRUCT generated by library-DICOM'\n",
       "(3006, 0008) Structure Set Date                  DA: '20200528'\n",
       "(3006, 0009) Structure Set Time                  TM: '092626.874368'\n",
       "(300e, 0002) Approval Status                     CS: 'UNAPPROVED'\n",
       "(300e, 0004) Review Date                         DA: ''\n",
       "(300e, 0005) Review Time                         TM: ''\n",
       "(300e, 0008) Reviewer Name                       PN: ''"
      ]
     },
     "execution_count": 7,
     "metadata": {},
     "output_type": "execute_result"
    }
   ],
   "source": [
    "rtss.generates_RTSTRUCT_tags()"
   ]
  },
  {
   "cell_type": "code",
   "execution_count": null,
   "metadata": {},
   "outputs": [],
   "source": []
  },
  {
   "cell_type": "code",
   "execution_count": null,
   "metadata": {},
   "outputs": [],
   "source": []
  },
  {
   "cell_type": "code",
   "execution_count": 8,
   "metadata": {},
   "outputs": [],
   "source": [
    "rtss.set_StructureSetROISequence(1, 'referencedframeofreferencUID', 'ROIName', 'ROIDescription', 10000, 'ROIGenerationAlgorithm')"
   ]
  },
  {
   "cell_type": "code",
   "execution_count": 9,
   "metadata": {},
   "outputs": [],
   "source": [
    "rtss.set_RTROIObservationSequence(2, 1)"
   ]
  },
  {
   "cell_type": "code",
   "execution_count": 3,
   "metadata": {},
   "outputs": [
    {
     "name": "stdout",
     "output_type": "stream",
     "text": [
      "<class 'pydicom.sequence.Sequence'>\n",
      "<class 'pydicom.dataset.Dataset'>\n",
      "<class 'pydicom.dataset.Dataset'>\n",
      "<class 'pydicom.dataset.Dataset'>\n"
     ]
    }
   ],
   "source": [
    "rtss.set_ReferencedFrameOfReferenceSequence('FrameOfReferenceUID', 'StudyInstanceUID', 'SeriesInstanceUID', 'ReferencedSOPClassUID', ['1', '2', '3'])"
   ]
  },
  {
   "cell_type": "code",
   "execution_count": 5,
   "metadata": {},
   "outputs": [
    {
     "name": "stdout",
     "output_type": "stream",
     "text": [
      "<class 'pydicom.sequence.Sequence'>\n"
     ]
    },
    {
     "ename": "TypeError",
     "evalue": "Sequence contents must be Dataset instances.",
     "output_type": "error",
     "traceback": [
      "\u001b[1;31m---------------------------------------------------------------------------\u001b[0m",
      "\u001b[1;31mTypeError\u001b[0m                                 Traceback (most recent call last)",
      "\u001b[1;32m<ipython-input-5-60198ccfeee9>\u001b[0m in \u001b[0;36m<module>\u001b[1;34m\u001b[0m\n\u001b[1;32m----> 1\u001b[1;33m \u001b[0mrtss\u001b[0m\u001b[1;33m.\u001b[0m\u001b[0mset_ROIContourSequence\u001b[0m\u001b[1;33m(\u001b[0m\u001b[1;33m[\u001b[0m\u001b[1;36m255\u001b[0m\u001b[1;33m,\u001b[0m\u001b[1;36m0\u001b[0m\u001b[1;33m,\u001b[0m\u001b[1;36m0\u001b[0m\u001b[1;33m]\u001b[0m\u001b[1;33m,\u001b[0m \u001b[1;33m[\u001b[0m\u001b[1;34m'239'\u001b[0m\u001b[1;33m,\u001b[0m \u001b[1;34m'240'\u001b[0m\u001b[1;33m,\u001b[0m \u001b[1;34m'241'\u001b[0m\u001b[1;33m]\u001b[0m\u001b[1;33m,\u001b[0m \u001b[1;34m'ReferencedSOPClassUID'\u001b[0m\u001b[1;33m,\u001b[0m \u001b[1;34m'ReferencedSOPInstanceUID'\u001b[0m\u001b[1;33m,\u001b[0m \u001b[1;34m'ContourGeometricType'\u001b[0m\u001b[1;33m,\u001b[0m \u001b[1;36m20\u001b[0m\u001b[1;33m,\u001b[0m \u001b[1;33m[\u001b[0m\u001b[1;36m123\u001b[0m\u001b[1;33m,\u001b[0m \u001b[1;36m456\u001b[0m\u001b[1;33m,\u001b[0m\u001b[1;36m789\u001b[0m\u001b[1;33m]\u001b[0m \u001b[1;33m)\u001b[0m\u001b[1;33m\u001b[0m\u001b[1;33m\u001b[0m\u001b[0m\n\u001b[0m",
      "\u001b[1;32m~\\Documents\\STAGE\\library-DICOM\\library_dicom\\rtss_processor\\model\\RTSS.py\u001b[0m in \u001b[0;36mset_ROIContourSequence\u001b[1;34m(self, DisplayColor, list_SliceWithContour, ReferencedSOPClassUID, ReferencedSOPInstanceUID, ContourGeometricType, NumberOfContourPoints, ContourData)\u001b[0m\n\u001b[0;32m    268\u001b[0m         \u001b[0mself\u001b[0m\u001b[1;33m.\u001b[0m\u001b[0mROIContourSequence\u001b[0m \u001b[1;33m=\u001b[0m \u001b[0mpydicom\u001b[0m\u001b[1;33m.\u001b[0m\u001b[0msequence\u001b[0m\u001b[1;33m.\u001b[0m\u001b[0mSequence\u001b[0m\u001b[1;33m(\u001b[0m\u001b[1;33m)\u001b[0m\u001b[1;33m\u001b[0m\u001b[1;33m\u001b[0m\u001b[0m\n\u001b[0;32m    269\u001b[0m         \u001b[0mROIContour\u001b[0m \u001b[1;33m=\u001b[0m \u001b[0mROI_RTSS\u001b[0m\u001b[1;33m(\u001b[0m\u001b[1;33m)\u001b[0m\u001b[1;33m\u001b[0m\u001b[1;33m\u001b[0m\u001b[0m\n\u001b[1;32m--> 270\u001b[1;33m         \u001b[0mself\u001b[0m\u001b[1;33m.\u001b[0m\u001b[0mROIContourSequence\u001b[0m\u001b[1;33m.\u001b[0m\u001b[0mappend\u001b[0m\u001b[1;33m(\u001b[0m\u001b[0mROIContour\u001b[0m\u001b[1;33m.\u001b[0m\u001b[0mset_ROIContourSequence\u001b[0m\u001b[1;33m(\u001b[0m\u001b[0mDisplayColor\u001b[0m\u001b[1;33m,\u001b[0m \u001b[0mlist_SliceWithContour\u001b[0m\u001b[1;33m,\u001b[0m \u001b[0mReferencedSOPClassUID\u001b[0m\u001b[1;33m,\u001b[0m \u001b[0mReferencedSOPInstanceUID\u001b[0m\u001b[1;33m,\u001b[0m \u001b[0mContourGeometricType\u001b[0m\u001b[1;33m,\u001b[0m \u001b[0mNumberOfContourPoints\u001b[0m\u001b[1;33m,\u001b[0m \u001b[0mContourData\u001b[0m\u001b[1;33m)\u001b[0m\u001b[1;33m)\u001b[0m\u001b[1;33m\u001b[0m\u001b[1;33m\u001b[0m\u001b[0m\n\u001b[0m\u001b[0;32m    271\u001b[0m \u001b[1;33m\u001b[0m\u001b[0m\n\u001b[0;32m    272\u001b[0m     \u001b[1;32mdef\u001b[0m \u001b[0mget_ROIContourSequence\u001b[0m\u001b[1;33m(\u001b[0m\u001b[0mself\u001b[0m\u001b[1;33m)\u001b[0m\u001b[1;33m:\u001b[0m\u001b[1;33m\u001b[0m\u001b[1;33m\u001b[0m\u001b[0m\n",
      "\u001b[1;32m~\\Anaconda3\\lib\\site-packages\\pydicom\\multival.py\u001b[0m in \u001b[0;36mappend\u001b[1;34m(self, val)\u001b[0m\n\u001b[0;32m     61\u001b[0m \u001b[1;33m\u001b[0m\u001b[0m\n\u001b[0;32m     62\u001b[0m     \u001b[1;32mdef\u001b[0m \u001b[0mappend\u001b[0m\u001b[1;33m(\u001b[0m\u001b[0mself\u001b[0m\u001b[1;33m,\u001b[0m \u001b[0mval\u001b[0m\u001b[1;33m)\u001b[0m\u001b[1;33m:\u001b[0m\u001b[1;33m\u001b[0m\u001b[1;33m\u001b[0m\u001b[0m\n\u001b[1;32m---> 63\u001b[1;33m         \u001b[0mself\u001b[0m\u001b[1;33m.\u001b[0m\u001b[0m_list\u001b[0m\u001b[1;33m.\u001b[0m\u001b[0mappend\u001b[0m\u001b[1;33m(\u001b[0m\u001b[0mself\u001b[0m\u001b[1;33m.\u001b[0m\u001b[0mtype_constructor\u001b[0m\u001b[1;33m(\u001b[0m\u001b[0mval\u001b[0m\u001b[1;33m)\u001b[0m\u001b[1;33m)\u001b[0m\u001b[1;33m\u001b[0m\u001b[1;33m\u001b[0m\u001b[0m\n\u001b[0m\u001b[0;32m     64\u001b[0m \u001b[1;33m\u001b[0m\u001b[0m\n\u001b[0;32m     65\u001b[0m     \u001b[1;32mdef\u001b[0m \u001b[0m__setitem__\u001b[0m\u001b[1;33m(\u001b[0m\u001b[0mself\u001b[0m\u001b[1;33m,\u001b[0m \u001b[0mi\u001b[0m\u001b[1;33m,\u001b[0m \u001b[0mval\u001b[0m\u001b[1;33m)\u001b[0m\u001b[1;33m:\u001b[0m\u001b[1;33m\u001b[0m\u001b[1;33m\u001b[0m\u001b[0m\n",
      "\u001b[1;32m~\\Anaconda3\\lib\\site-packages\\pydicom\\sequence.py\u001b[0m in \u001b[0;36mvalidate_dataset\u001b[1;34m(elem)\u001b[0m\n\u001b[0;32m     13\u001b[0m     \u001b[1;34m\"\"\"Check that `elem` is a :class:`~pydicom.dataset.Dataset` instance.\"\"\"\u001b[0m\u001b[1;33m\u001b[0m\u001b[1;33m\u001b[0m\u001b[0m\n\u001b[0;32m     14\u001b[0m     \u001b[1;32mif\u001b[0m \u001b[1;32mnot\u001b[0m \u001b[0misinstance\u001b[0m\u001b[1;33m(\u001b[0m\u001b[0melem\u001b[0m\u001b[1;33m,\u001b[0m \u001b[0mDataset\u001b[0m\u001b[1;33m)\u001b[0m\u001b[1;33m:\u001b[0m\u001b[1;33m\u001b[0m\u001b[1;33m\u001b[0m\u001b[0m\n\u001b[1;32m---> 15\u001b[1;33m         \u001b[1;32mraise\u001b[0m \u001b[0mTypeError\u001b[0m\u001b[1;33m(\u001b[0m\u001b[1;34m'Sequence contents must be Dataset instances.'\u001b[0m\u001b[1;33m)\u001b[0m\u001b[1;33m\u001b[0m\u001b[1;33m\u001b[0m\u001b[0m\n\u001b[0m\u001b[0;32m     16\u001b[0m \u001b[1;33m\u001b[0m\u001b[0m\n\u001b[0;32m     17\u001b[0m     \u001b[1;32mreturn\u001b[0m \u001b[0melem\u001b[0m\u001b[1;33m\u001b[0m\u001b[1;33m\u001b[0m\u001b[0m\n",
      "\u001b[1;31mTypeError\u001b[0m: Sequence contents must be Dataset instances."
     ]
    }
   ],
   "source": [
    "rtss.set_ROIContourSequence([255,0,0], ['239', '240', '241'], 'ReferencedSOPClassUID', 'ReferencedSOPInstanceUID', 'ContourGeometricType', 20, [123, 456,789] )"
   ]
  },
  {
   "cell_type": "code",
   "execution_count": null,
   "metadata": {},
   "outputs": [],
   "source": []
  }
 ],
 "metadata": {
  "kernelspec": {
   "display_name": "Python 3",
   "language": "python",
   "name": "python3"
  },
  "language_info": {
   "codemirror_mode": {
    "name": "ipython",
    "version": 3
   },
   "file_extension": ".py",
   "mimetype": "text/x-python",
   "name": "python",
   "nbconvert_exporter": "python",
   "pygments_lexer": "ipython3",
   "version": "3.7.4"
  }
 },
 "nbformat": 4,
 "nbformat_minor": 2
}
