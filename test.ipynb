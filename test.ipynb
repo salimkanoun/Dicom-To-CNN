{
 "cells": [
  {
   "cell_type": "code",
   "execution_count": 1,
   "metadata": {},
   "outputs": [],
   "source": [
    "import json\n",
    "import os\n",
    "from library_dicom.dicom_processor.model.Series import Series \n",
    "from library_dicom.dicom_processor.model.SeriesPT import SeriesPT\n",
    "from library_dicom.dicom_processor.model.SeriesCT import SeriesCT\n",
    "from library_dicom.dicom_processor.model.csv_reader.MaskBuilder import MaskBuilder\n",
    "\n",
    "from library_dicom.dicom_processor.tools.folders import *\n",
    "\n",
    "from library_dicom.dicom_processor.tools.create_mip import *\n",
    "from library_dicom.dicom_processor.tools.threshold_mask import *\n",
    "\n",
    "import numpy as np\n",
    "import SimpleITK as sitk\n",
    "\n",
    "import csv\n",
    "import json\n",
    "\n",
    "from library_dicom.dicom_processor.model.csv_reader.CsvReader import CsvReader"
   ]
  },
  {
   "cell_type": "code",
   "execution_count": null,
   "metadata": {},
   "outputs": [],
   "source": [
    "#AHL nifti PT + csv "
   ]
  },
  {
   "cell_type": "code",
   "execution_count": 6,
   "metadata": {},
   "outputs": [],
   "source": [
    "liste_inference = os.listdir('/media/deeplearning/78ca2911-9e9f-4f78-b80a-848024b95f92/inference')"
   ]
  },
  {
   "cell_type": "code",
   "execution_count": 7,
   "metadata": {},
   "outputs": [],
   "source": [
    "liste = []\n",
    "for inference in liste_inference : \n",
    "    subliste = []\n",
    "    subliste.append('/media/deeplearning/78ca2911-9e9f-4f78-b80a-848024b95f92/inference'+'/'+inference)\n",
    "    subliste.append(inference.split('_')[0])\n",
    "    liste.append(subliste)\n"
   ]
  },
  {
   "cell_type": "code",
   "execution_count": 8,
   "metadata": {},
   "outputs": [
    {
     "output_type": "execute_result",
     "data": {
      "text/plain": "['/media/deeplearning/78ca2911-9e9f-4f78-b80a-848024b95f92/inference/2.16.840.1.113669.632.20.210791.20000053223_mask_pred_float.nii',\n '2.16.840.1.113669.632.20.210791.20000053223']"
     },
     "metadata": {},
     "execution_count": 8
    }
   ],
   "source": [
    "liste[0]"
   ]
  },
  {
   "cell_type": "code",
   "execution_count": null,
   "metadata": {},
   "outputs": [],
   "source": [
    "csv_ahl = \n",
    "\n",
    "with open(csv_pet0_path, 'r') as csv_file :\n",
    "    reader = csv.reader(csv_file, delimiter = ',') #liste pour chaque ligne \n",
    "    csv_data = []\n",
    "    for row in reader :\n",
    "        csv_data.append(row)\n",
    "        \n",
    "del csv_data[0] #enlever première ligne\n"
   ]
  },
  {
   "cell_type": "code",
   "execution_count": null,
   "metadata": {},
   "outputs": [],
   "source": [
    "#garder que les pet 0\n",
    "pet0 = []\n",
    "for row in csv_data :\n",
    "    if 'pet0' in row : \n",
    "        pet0.append(row)\n",
    "\n",
    "#find pet \n",
    "for study in liste : \n",
    "    for pet in pet0 : \n",
    "        if study[1] in pet[5] :\n",
    "            study.append(pet[1]) #patient id\n",
    "            study.append(pet[5]) #pet path \n",
    "            "
   ]
  },
  {
   "cell_type": "code",
   "execution_count": null,
   "metadata": {},
   "outputs": [],
   "source": [
    "#find csv "
   ]
  },
  {
   "cell_type": "code",
   "execution_count": null,
   "metadata": {},
   "outputs": [],
   "source": [
    "#change pet path \n",
    "\n",
    "for serie in liste: \n",
    "    serie[2] = serie[2].replace('salim', 'deeplearning')\n",
    "\n",
    "for serie in liste : \n",
    "    serie[2] = serie[2].replace('DD 2To', 'Elements') "
   ]
  },
  {
   "cell_type": "code",
   "execution_count": null,
   "metadata": {},
   "outputs": [],
   "source": [
    "#write csv \n",
    "nifti_directory = '/media/deeplearning/78ca2911-9e9f-4f78-b80a-848024b95f92/post_processing'\n",
    "\n",
    "with open(os.path.join(nifti_directory, 'ahl_post_process.csv'), 'w') as csv_file : \n",
    "    csv_writer = csv.writer(csv_file, delimiter=',', quotechar='\"', quoting=csv.QUOTE_MINIMAL)\n",
    "    csv_writer.writerow([\"PATIENT ID\", \"STUDY UID\", \"NIFTI_PET\", \"NIFTI_MASK\", \"CSV\"])\n",
    "    for serie in complete_liste: \n",
    "        csv_writer.writerow([serie[0], serie[2], serie[1], os.path.join(nifti_directory+'/'+serie[0]+'/'+serie[1]+'/'+serie[3]), os.path.join(nifti_directory+'/'+serie[0]+'/'+serie[1]+'/'+serie[4])])"
   ]
  },
  {
   "cell_type": "code",
   "execution_count": null,
   "metadata": {},
   "outputs": [],
   "source": []
  },
  {
   "cell_type": "code",
   "execution_count": null,
   "metadata": {},
   "outputs": [],
   "source": []
  },
  {
   "cell_type": "code",
   "execution_count": null,
   "metadata": {},
   "outputs": [],
   "source": []
  },
  {
   "cell_type": "code",
   "execution_count": null,
   "metadata": {},
   "outputs": [],
   "source": []
  },
  {
   "cell_type": "code",
   "execution_count": 9,
   "metadata": {},
   "outputs": [],
   "source": [
    "csv_pet0_path = '/media/deeplearning/78ca2911-9e9f-4f78-b80a-848024b95f92/GAINED_NIFTI_PET2/GAINED_list_path_CT_PET2.json'\n",
    "\n",
    "with open(csv_pet0_path, 'r') as csv_file :\n",
    "    reader = csv.reader(csv_file, delimiter = ',') #liste pour chaque ligne \n",
    "    csv_data = []\n",
    "    for row in reader :\n",
    "        csv_data.append(row)\n",
    "        \n",
    "del csv_data[0] #enlever première ligne"
   ]
  },
  {
   "cell_type": "code",
   "execution_count": 10,
   "metadata": {},
   "outputs": [
    {
     "output_type": "execute_result",
     "data": {
      "text/plain": "['11011101021001',\n '1.2.840.113704.1.111.3296.1350645932.9',\n 'pet0',\n '/media/deeplearning/78ca2911-9e9f-4f78-b80a-848024b95f92/GAINED_NIFTI/11011101021001/pet0/1.2.840.113704.1.111.3296.1350645932.9_nifti_CT.nii',\n '/media/deeplearning/78ca2911-9e9f-4f78-b80a-848024b95f92/GAINED_NIFTI/11011101021001/pet0/1.2.840.113704.1.111.3296.1350645932.9_nifti_PT.nii',\n '/media/deeplearning/78ca2911-9e9f-4f78-b80a-848024b95f92/GAINED_NIFTI/11011101021001/pet0/1.2.840.113704.1.111.3296.1350645932.9_nifti_mask.nii']"
     },
     "metadata": {},
     "execution_count": 10
    }
   ],
   "source": [
    "csv_data[0]"
   ]
  },
  {
   "cell_type": "code",
   "execution_count": 11,
   "metadata": {},
   "outputs": [],
   "source": [
    "study_uid = []\n",
    "for row in csv_data :\n",
    "    study_uid.append(row[1])"
   ]
  },
  {
   "cell_type": "code",
   "execution_count": 7,
   "metadata": {},
   "outputs": [
    {
     "output_type": "execute_result",
     "data": {
      "text/plain": "573"
     },
     "metadata": {},
     "execution_count": 7
    }
   ],
   "source": []
  },
  {
   "cell_type": "code",
   "execution_count": 12,
   "metadata": {},
   "outputs": [],
   "source": [
    "csv_2= '/media/deeplearning/78ca2911-9e9f-4f78-b80a-848024b95f92/GAINED_CSV_DATA/Export_Gained/data.csv'\n",
    "\n",
    "with open(csv_2, 'r') as csv_file :\n",
    "    reader = csv.reader(csv_file, delimiter = ',') #liste pour chaque ligne \n",
    "    csv_data_2 = []\n",
    "    for row in reader :\n",
    "        csv_data_2.append(row)\n",
    "        \n",
    "del csv_data_2[0] #enlever première ligne"
   ]
  },
  {
   "cell_type": "code",
   "execution_count": 13,
   "metadata": {},
   "outputs": [
    {
     "output_type": "execute_result",
     "data": {
      "text/plain": "['alina',\n '11011101021001',\n '0',\n '8',\n '1.2.840.113704.1.111.3296.1350645932.9',\n '2012-10-19',\n '0',\n '0',\n '0',\n 'review8.csv',\n '4',\n '37.34',\n 'Adrenal',\n '12.6',\n 'Adrenal',\n '1.43',\n '1.17',\n '0.15',\n '2.56',\n '2.06',\n '0.18',\n '2.29',\n '1.64',\n '0.35',\n '0',\n '10.1',\n '2.13',\n '1.56',\n '0.2',\n '0',\n 'Missing Review',\n 'Missing Review',\n 'Missing Review',\n 'Missing Review',\n 'Missing Review',\n 'Missing Review',\n 'Missing Review',\n 'Missing Review',\n 'Missing Review',\n 'Missing Review',\n 'Missing Review',\n 'Missing Review',\n 'Missing Review',\n 'Missing Review',\n 'Missing Review',\n 'Missing Review',\n 'Missing Review',\n 'Missing Review',\n 'Missing Review',\n 'Missing Review',\n 'Missing Review',\n 'Missing Review',\n 'Missing Review',\n 'Missing Review',\n 'Missing Review',\n 'Missing Review',\n 'Missing Review',\n 'Missing Review',\n 'Missing Review',\n 'Missing Review',\n 'Missing Review',\n 'Missing Review',\n 'Missing Review',\n 'Missing Review',\n 'Missing Review',\n 'Missing Review',\n 'Missing Review',\n 'Missing Review']"
     },
     "metadata": {},
     "execution_count": 13
    }
   ],
   "source": [
    "csv_data_2[0]"
   ]
  },
  {
   "cell_type": "code",
   "execution_count": 76,
   "metadata": {},
   "outputs": [],
   "source": [
    "liste = []\n",
    "for row in csv_data_2 : \n",
    "    subliste = []\n",
    "    subliste.append(row[1])\n",
    "    subliste.append(row[4])\n",
    "    subliste.append(row[9])\n",
    "    liste.append(subliste)"
   ]
  },
  {
   "cell_type": "code",
   "execution_count": null,
   "metadata": {},
   "outputs": [],
   "source": []
  },
  {
   "cell_type": "code",
   "execution_count": 77,
   "metadata": {},
   "outputs": [],
   "source": [
    "complete_liste = []\n",
    "for uid in study_uid : \n",
    "    for serie in liste : \n",
    "        if uid in serie : \n",
    "           complete_liste.append(serie)\n",
    "           break\n"
   ]
  },
  {
   "cell_type": "code",
   "execution_count": 78,
   "metadata": {},
   "outputs": [
    {
     "output_type": "execute_result",
     "data": {
      "text/plain": "573"
     },
     "metadata": {},
     "execution_count": 78
    }
   ],
   "source": [
    "len(complete_liste)"
   ]
  },
  {
   "cell_type": "code",
   "execution_count": 79,
   "metadata": {},
   "outputs": [
    {
     "output_type": "execute_result",
     "data": {
      "text/plain": "['11011101021001', '1.2.840.113704.1.111.3296.1350645932.9', 'review8.csv']"
     },
     "metadata": {},
     "execution_count": 79
    }
   ],
   "source": [
    "complete_liste[0]"
   ]
  },
  {
   "cell_type": "code",
   "execution_count": 80,
   "metadata": {
    "tags": []
   },
   "outputs": [],
   "source": [
    "for serie in complete_liste : \n",
    "    a = serie[-1][0:6]\n",
    "    b = serie[-1][6:-4]\n",
    "    name = '_'.join((a,b))\n",
    "    serie.append(name)"
   ]
  },
  {
   "cell_type": "code",
   "execution_count": 81,
   "metadata": {},
   "outputs": [
    {
     "output_type": "execute_result",
     "data": {
      "text/plain": "['11011101021001',\n '1.2.840.113704.1.111.3296.1350645932.9',\n 'review8.csv',\n 'review_8']"
     },
     "metadata": {},
     "execution_count": 81
    }
   ],
   "source": [
    "complete_liste[0]"
   ]
  },
  {
   "cell_type": "code",
   "execution_count": null,
   "metadata": {},
   "outputs": [],
   "source": []
  },
  {
   "cell_type": "code",
   "execution_count": 82,
   "metadata": {},
   "outputs": [],
   "source": [
    "liste_csv = os.listdir('/media/deeplearning/78ca2911-9e9f-4f78-b80a-848024b95f92/GAINED_CSV_DATA/Export_Gained/CSV41/PET0')"
   ]
  },
  {
   "cell_type": "code",
   "execution_count": 83,
   "metadata": {},
   "outputs": [
    {
     "output_type": "execute_result",
     "data": {
      "text/plain": "'patient_11011101051003_PET_0_review_490_41.csv'"
     },
     "metadata": {},
     "execution_count": 83
    }
   ],
   "source": [
    "liste_csv[0]"
   ]
  },
  {
   "cell_type": "code",
   "execution_count": 84,
   "metadata": {},
   "outputs": [],
   "source": [
    "for serie in complete_liste : \n",
    "    for csv_file in liste_csv : \n",
    "\n",
    "        if serie[0] in csv_file and serie[-1] in csv_file :\n",
    "                serie.append(csv_file)"
   ]
  },
  {
   "cell_type": "code",
   "execution_count": 86,
   "metadata": {},
   "outputs": [
    {
     "output_type": "execute_result",
     "data": {
      "text/plain": "573"
     },
     "metadata": {},
     "execution_count": 86
    }
   ],
   "source": [
    "len(complete_liste)"
   ]
  },
  {
   "cell_type": "code",
   "execution_count": 87,
   "metadata": {},
   "outputs": [],
   "source": [
    "write_json_file('/media/deeplearning/78ca2911-9e9f-4f78-b80a-848024b95f92/post_processing', 'liste_csv_gained', complete_liste)"
   ]
  },
  {
   "cell_type": "code",
   "execution_count": null,
   "metadata": {},
   "outputs": [],
   "source": [
    "#POUR CHAQUE CSV, LIRE LIGNE SUM VOLUME \n",
    "#+\n",
    "#SOMME DE TOUTE LES LIGNES "
   ]
  },
  {
   "cell_type": "code",
   "execution_count": 2,
   "metadata": {
    "tags": []
   },
   "outputs": [
    {
     "output_type": "stream",
     "name": "stdout",
     "text": "573\n"
    }
   ],
   "source": [
    "json_path = '/media/deeplearning/78ca2911-9e9f-4f78-b80a-848024b95f92/post_processing/liste_csv_gained.json'\n",
    "complete_liste = []\n",
    "with open(json_path) as json_file : \n",
    "    reader = json.load(json_file)\n",
    "    for info in reader :\n",
    "        complete_liste.append(info)\n",
    "\n",
    "print(len(complete_liste))"
   ]
  },
  {
   "cell_type": "code",
   "execution_count": 3,
   "metadata": {},
   "outputs": [],
   "source": [
    "csv_directory = '/media/deeplearning/78ca2911-9e9f-4f78-b80a-848024b95f92/GAINED_CSV_DATA/Export_Gained/CSV41/PET0'"
   ]
  },
  {
   "cell_type": "code",
   "execution_count": 4,
   "metadata": {},
   "outputs": [],
   "source": [
    "from library_dicom.dicom_processor.tools.csv_volume import *"
   ]
  },
  {
   "cell_type": "code",
   "execution_count": 6,
   "metadata": {},
   "outputs": [],
   "source": [
    "for serie in complete_liste : \n",
    "    serie.append(get_difference_volume(os.path.join(csv_directory, serie[-1])))"
   ]
  },
  {
   "cell_type": "code",
   "execution_count": 13,
   "metadata": {},
   "outputs": [],
   "source": [
    "directory = '/media/deeplearning/78ca2911-9e9f-4f78-b80a-848024b95f92/post_processing'\n",
    "\n",
    "with open(os.path.join(directory, 'GAINED_csv_volume_diff_10.csv'), 'w') as csv_file : \n",
    "    csv_writer = csv.writer(csv_file, delimiter=',', quotechar='\"', quoting=csv.QUOTE_MINIMAL)\n",
    "    csv_writer.writerow([\"PATIENT ID\", \"STUDY UID\", \"CSV\", \"DIFF\" ])\n",
    "    for serie in complete_liste: \n",
    "        if serie[-1] > 10.0 :\n",
    "            csv_writer.writerow([serie[0], serie[1], serie[-2], serie[-1]])\n"
   ]
  },
  {
   "cell_type": "code",
   "execution_count": null,
   "metadata": {},
   "outputs": [],
   "source": []
  },
  {
   "cell_type": "code",
   "execution_count": 19,
   "metadata": {},
   "outputs": [],
   "source": [
    "#clean GAINED VALIDATED DICOM : PET 0 FAIT DONC ENLEVER LES STUDYs\n",
    "import shutil"
   ]
  },
  {
   "cell_type": "code",
   "execution_count": 14,
   "metadata": {},
   "outputs": [],
   "source": [
    "dicom_directory = '/media/deeplearning/Elements/GAINED_Validated_DICOMS'"
   ]
  },
  {
   "cell_type": "code",
   "execution_count": 15,
   "metadata": {},
   "outputs": [],
   "source": [
    "csv_pet0_path = '/media/deeplearning/78ca2911-9e9f-4f78-b80a-848024b95f92/GAINED_NIFTI/GAINED_PET0_NIFTI.csv'\n",
    "\n",
    "with open(csv_pet0_path, 'r') as csv_file :\n",
    "    reader = csv.reader(csv_file, delimiter = ',') #liste pour chaque ligne \n",
    "    csv_data = []\n",
    "    for row in reader :\n",
    "        csv_data.append(row)\n",
    "        \n",
    "del csv_data[0] #enlever première ligne"
   ]
  },
  {
   "cell_type": "code",
   "execution_count": 17,
   "metadata": {},
   "outputs": [],
   "source": [
    "liste = []\n",
    "for row in csv_data : \n",
    "    subliste = []\n",
    "    subliste.append(row[0])\n",
    "    subliste.append(row[1])\n",
    "    liste.append(subliste)\n"
   ]
  },
  {
   "cell_type": "code",
   "execution_count": 20,
   "metadata": {},
   "outputs": [],
   "source": [
    "for serie in liste : \n",
    "    shutil.rmtree(dicom_directory+'/'+serie[0]+'/'+serie[1])"
   ]
  },
  {
   "cell_type": "code",
   "execution_count": null,
   "metadata": {},
   "outputs": [],
   "source": []
  }
 ],
 "metadata": {
  "file_extension": ".py",
  "kernelspec": {
   "display_name": "Python 3.8.2 64-bit",
   "language": "python",
   "name": "python38264bit4afc185bc98b42c389abdbb3fbeec8dd"
  },
  "language_info": {
   "codemirror_mode": {
    "name": "ipython",
    "version": 3
   },
   "file_extension": ".py",
   "mimetype": "text/x-python",
   "name": "python",
   "nbconvert_exporter": "python",
   "pygments_lexer": "ipython3",
   "version": "3.8.2-final"
  },
  "mimetype": "text/x-python",
  "name": "python",
  "npconvert_exporter": "python",
  "pygments_lexer": "ipython3",
  "version": 3
 },
 "nbformat": 4,
 "nbformat_minor": 2
}