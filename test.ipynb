{
 "nbformat": 4,
 "nbformat_minor": 2,
 "metadata": {
  "language_info": {
   "name": "python",
   "codemirror_mode": {
    "name": "ipython",
    "version": 3
   },
   "version": "3.8.2-final"
  },
  "orig_nbformat": 2,
  "file_extension": ".py",
  "mimetype": "text/x-python",
  "name": "python",
  "npconvert_exporter": "python",
  "pygments_lexer": "ipython3",
  "version": 3,
  "kernelspec": {
   "name": "python38264bit741c38d3bcec48dc835c8ad5f1161b3f",
   "display_name": "Python 3.8.2 64-bit"
  }
 },
 "cells": [
  {
   "cell_type": "code",
   "execution_count": 2,
   "metadata": {},
   "outputs": [],
   "source": [
    "import json\n",
    "import os\n",
    "from library_dicom.dicom_processor.model.Series import Series \n",
    "from library_dicom.dicom_processor.model.SeriesPT import SeriesPT\n",
    "from library_dicom.dicom_processor.model.SeriesCT import SeriesCT\n",
    "from library_dicom.dicom_processor.model.csv_reader.MaskBuilder import MaskBuilder\n",
    "\n",
    "from library_dicom.dicom_processor.tools.folders import *\n",
    "\n",
    "from library_dicom.dicom_processor.tools.create_mip import *\n",
    "from library_dicom.dicom_processor.tools.threshold_mask import *\n",
    "\n",
    "import numpy as np\n",
    "import SimpleITK as sitk\n",
    "\n",
    "import csv"
   ]
  },
  {
   "cell_type": "code",
   "execution_count": 3,
   "metadata": {},
   "outputs": [
    {
     "name": "stdout",
     "output_type": "stream",
     "text": "140\n"
    }
   ],
   "source": [
    "json_path = '/media/salim/DD 2To/GAINED_NIFTI/json/dataset_1.json'\n",
    "dataset_1 = []\n",
    "with open(json_path) as json_file : \n",
    "    reader = json.load(json_file)\n",
    "    for info in reader :\n",
    "        dataset_1.append(info)\n",
    "\n",
    "print(len(dataset_1))"
   ]
  },
  {
   "cell_type": "code",
   "execution_count": 148,
   "metadata": {},
   "outputs": [
    {
     "name": "stdout",
     "output_type": "stream",
     "text": "['/media/salim/DD 2To/GAINED_Validated_DICOMS/51011101841011/1.3.12.2.1107.5.1.4.11087.30000014112607533504600000009/1.3.12.2.1107.5.1.4.11087.30000014112608065510900007527/1.3.12.2.1107.5.1.4.11087.30000014112608065510900007527', 'PT', '/media/salim/DD 2To/GAINED_Validated_DICOMS/51011101841011/1.3.12.2.1107.5.1.4.11087.30000014112607533504600000009/1.3.12.2.1107.5.1.4.11087.30000014112608054748400005846/1.3.12.2.1107.5.1.4.11087.30000014112608054748400005846', 'CT', 'review1891.csv', '51011101841011', 'patient_51011101841011_PET_0_review_1891_41.csv']\n"
    }
   ],
   "source": [
    "serie = dataset_1[115]\n",
    "print(serie)"
   ]
  },
  {
   "cell_type": "code",
   "execution_count": 149,
   "metadata": {},
   "outputs": [
    {
     "name": "stdout",
     "output_type": "stream",
     "text": "taille mask :  (200, 200, 481, 40)\n"
    }
   ],
   "source": [
    "mip_directory = '/media/salim/DD 2To/GAINED_test'\n",
    "csv_directory = '/media/salim/DD 2To/GAINED_CSV_DATA/Export_Gained/CSV41/PET0'\n",
    "\n",
    "\n",
    "serie_pt_objet = SeriesPT(serie[0])\n",
    "nifti_array = serie_pt_objet.get_numpy_array()\n",
    "study_uid = serie_pt_objet.get_series_details()['study']['StudyInstanceUID']\n",
    "\n",
    "angle_filename = mip_projection(nifti_array, 0, mip_directory, study_uid, borne_max = 5.0)             #mip.png PET\n",
    "\n",
    "\n",
    "size_matrix = serie_pt_objet.get_size_matrix()\n",
    "mask_objet = MaskBuilder(os.path.join(csv_directory, serie[6]), size_matrix)\n",
    "mask_4D = mask_objet.mask_array\n",
    "\n",
    "\n",
    "number_roi = mask_4D.shape[3]\n",
    "threshold = mask_objet.details_rois['SUVlo']\n",
    "        #seuillage\n",
    "mask_4D = threshold_mask(mask_4D, mask_objet.details_rois, nifti_array)\n",
    "angle_filename_mask = mip_projection_4D(mask_4D, 0, mip_directory, study_uid, number_roi, borne_max = 1.0)\n",
    "        #mip.png MASK\n",
    ""
   ]
  },
  {
   "cell_type": "code",
   "execution_count": 146,
   "metadata": {},
   "outputs": [
    {
     "data": {
      "text/plain": "{1: {'SUV_max': 10.94, 'SUV_mean': 6.19, 'SD': 1.48},\n 2: {'SUV_max': 8.28, 'SUV_mean': 5.35, 'SD': 1.31},\n 3: {'SUV_max': 6.51, 'SUV_mean': 3.98, 'SD': 1.13},\n 4: {'SUV_max': 9.56, 'SUV_mean': 5.78, 'SD': 1.4},\n 5: {'SUV_max': 7.67, 'SUV_mean': 4.74, 'SD': 1.18},\n 6: {'SUV_max': 6.87, 'SUV_mean': 4.17, 'SD': 0.98},\n 7: {'SUV_max': 14.05, 'SUV_mean': 8.9, 'SD': 2.14},\n 8: {'SUV_max': 17.45, 'SUV_mean': 9.86, 'SD': 2.33},\n 9: {'SUV_max': 4.88, 'SUV_mean': 3.18, 'SD': 0.55},\n 10: {'SUV_max': 15.44, 'SUV_mean': 8.5, 'SD': 1.7},\n 11: {'SUV_max': 19.6, 'SUV_mean': 11.37, 'SD': 3.06},\n 12: {'SUV_max': 14.76, 'SUV_mean': 9.09, 'SD': 2.24},\n 13: {'SUV_max': 8.68, 'SUV_mean': 4.85, 'SD': 1.19},\n 14: {'SUV_max': 6.75, 'SUV_mean': 3.4, 'SD': 0.75},\n 15: {'SUV_max': 21.47, 'SUV_mean': 12.94, 'SD': 2.92},\n 16: {'SUV_max': 9.78, 'SUV_mean': 6.01, 'SD': 1.71},\n 17: {'SUV_max': 30.94, 'SUV_mean': 16.9, 'SD': 3.64},\n 18: {'SUV_max': 14.63, 'SUV_mean': 10.13, 'SD': 2.41},\n 19: {'SUV_max': 14.09, 'SUV_mean': 8.09, 'SD': 1.84},\n 20: {'SUV_max': 22.39, 'SUV_mean': 13.1, 'SD': 3.39},\n 21: {'SUV_max': 10.62, 'SUV_mean': 6.1, 'SD': 1.5},\n 22: {'SUV_max': 20.76, 'SUV_mean': 12.58, 'SD': 3.72},\n 23: {'SUV_max': 6.83, 'SUV_mean': 4.37, 'SD': 1.17},\n 24: {'SUV_max': 14.21, 'SUV_mean': 8.68, 'SD': 2.11},\n 25: {'SUV_max': 16.35, 'SUV_mean': 10.17, 'SD': 2.76},\n 26: {'SUV_max': 18.68, 'SUV_mean': 10.83, 'SD': 2.59},\n 27: {'SUV_max': 20.9, 'SUV_mean': 12.84, 'SD': 3.48},\n 28: {'SUV_max': 9.26, 'SUV_mean': 5.63, 'SD': 1.49},\n 29: {'SUV_max': 6.64, 'SUV_mean': 4.79, 'SD': 1.21},\n 30: {'SUV_max': 8.22, 'SUV_mean': 4.85, 'SD': 1.3},\n 31: {'SUV_max': 20.86, 'SUV_mean': 12.0, 'SD': 2.95},\n 32: {'SUV_max': 12.52, 'SUV_mean': 8.51, 'SD': 2.18}}"
     },
     "execution_count": 146,
     "metadata": {},
     "output_type": "execute_result"
    }
   ],
   "source": [
    "mask_objet.calcul_suv(nifti_array)"
   ]
  },
  {
   "cell_type": "code",
   "execution_count": 147,
   "metadata": {},
   "outputs": [
    {
     "name": "stdout",
     "output_type": "stream",
     "text": "[]\n[]\n[18, 0.19999999999999973]\n"
    }
   ],
   "source": [
    "print(mask_objet.ecart_suv_max(nifti_array))\n",
    "print(mask_objet.ecart_suv_mean(nifti_array))\n",
    "print(mask_objet.ecart_SD(nifti_array))\n",
    ""
   ]
  },
  {
   "cell_type": "code",
   "execution_count": null,
   "metadata": {},
   "outputs": [],
   "source": []
  },
  {
   "cell_type": "code",
   "execution_count": null,
   "metadata": {},
   "outputs": [],
   "source": []
  }
 ]
}