{
 "cells": [
  {
   "cell_type": "code",
   "execution_count": 1,
   "metadata": {},
   "outputs": [],
   "source": [
    "import json\n",
    "import os\n",
    "from library_dicom.dicom_processor.model.Series import Series \n",
    "from library_dicom.dicom_processor.model.SeriesPT import SeriesPT\n",
    "from library_dicom.dicom_processor.model.SeriesCT import SeriesCT\n",
    "from library_dicom.dicom_processor.model.csv_reader.MaskBuilder import MaskBuilder\n",
    "\n",
    "from library_dicom.dicom_processor.tools.folders import *\n",
    "\n",
    "from library_dicom.dicom_processor.tools.create_mip import *\n",
    "from library_dicom.dicom_processor.tools.threshold_mask import *\n",
    "\n",
    "import numpy as np\n",
    "import SimpleITK as sitk\n",
    "\n",
    "import csv\n",
    "import json\n",
    "\n",
    "from library_dicom.dicom_processor.model.csv_reader.CsvReader import CsvReader"
   ]
  },
  {
   "cell_type": "code",
   "execution_count": null,
   "metadata": {},
   "outputs": [],
   "source": [
    "#AHL nifti PT + csv "
   ]
  },
  {
   "cell_type": "code",
   "execution_count": 2,
   "metadata": {},
   "outputs": [],
   "source": [
    "liste_inference = os.listdir('/media/deeplearning/78ca2911-9e9f-4f78-b80a-848024b95f92/inference')"
   ]
  },
  {
   "cell_type": "code",
   "execution_count": 3,
   "metadata": {},
   "outputs": [],
   "source": [
    "liste = []\n",
    "for inference in liste_inference : \n",
    "    subliste = []\n",
    "    subliste.append('/media/deeplearning/78ca2911-9e9f-4f78-b80a-848024b95f92/inference'+'/'+inference)\n",
    "    subliste.append(inference.split('_')[0])\n",
    "    liste.append(subliste)\n"
   ]
  },
  {
   "cell_type": "code",
   "execution_count": 4,
   "metadata": {},
   "outputs": [
    {
     "output_type": "execute_result",
     "data": {
      "text/plain": "['/media/deeplearning/78ca2911-9e9f-4f78-b80a-848024b95f92/inference/2.16.840.1.113669.632.20.210791.20000053223_mask_pred_float.nii',\n '2.16.840.1.113669.632.20.210791.20000053223']"
     },
     "metadata": {},
     "execution_count": 4
    }
   ],
   "source": [
    "liste[0]"
   ]
  },
  {
   "cell_type": "code",
   "execution_count": 5,
   "metadata": {},
   "outputs": [],
   "source": [
    "csv_ahl = '/media/deeplearning/Elements/AHL2011_NIFTI.csv'\n",
    "\n",
    "with open(csv_ahl, 'r') as csv_file :\n",
    "    reader = csv.reader(csv_file, delimiter = ',') #liste pour chaque ligne \n",
    "    csv_data = []\n",
    "    for row in reader :\n",
    "        csv_data.append(row)\n",
    "        \n",
    "del csv_data[0] #enlever première ligne\n"
   ]
  },
  {
   "cell_type": "code",
   "execution_count": 6,
   "metadata": {},
   "outputs": [
    {
     "output_type": "execute_result",
     "data": {
      "text/plain": "['CON,DA',\n '13011101331015',\n '1.2.124.113532.10.149.172.5.20131107.93455.7725981',\n 'pet0',\n '/media/storage/AHL2011_NIFTI/1.2.124.113532.10.149.172.5.20131107.93455.7725981_nifti_CT.nii',\n '/media/storage/AHL2011_NIFTI/1.2.124.113532.10.149.172.5.20131107.93455.7725981_nifti_PT.nii',\n '/media/storage/AHL2011_NIFTI/1.2.124.113532.10.149.172.5.20131107.93455.7725981_nifti_mask.nii']"
     },
     "metadata": {},
     "execution_count": 6
    }
   ],
   "source": [
    "csv_data[0]"
   ]
  },
  {
   "cell_type": "code",
   "execution_count": 7,
   "metadata": {},
   "outputs": [],
   "source": [
    "#garder que les pet 0\n",
    "pet0 = []\n",
    "for row in csv_data :\n",
    "    if 'pet0' in row : \n",
    "        pet0.append(row)\n",
    "\n",
    "#find pet \n",
    "for study in liste : \n",
    "    for pet in pet0 : \n",
    "        if study[1] in pet[5] :\n",
    "            study.append(pet[1]) #patient id\n",
    "            study.append(pet[5]) #pet path \n",
    "            "
   ]
  },
  {
   "cell_type": "code",
   "execution_count": 8,
   "metadata": {},
   "outputs": [
    {
     "output_type": "execute_result",
     "data": {
      "text/plain": "404"
     },
     "metadata": {},
     "execution_count": 8
    }
   ],
   "source": [
    "len(liste)"
   ]
  },
  {
   "cell_type": "code",
   "execution_count": 9,
   "metadata": {},
   "outputs": [
    {
     "output_type": "execute_result",
     "data": {
      "text/plain": "['/media/deeplearning/78ca2911-9e9f-4f78-b80a-848024b95f92/inference/2.16.840.1.113669.632.20.210791.20000053223_mask_pred_float.nii',\n '2.16.840.1.113669.632.20.210791.20000053223',\n '13011101221017',\n '/media/storage/AHL2011_NIFTI/2.16.840.1.113669.632.20.210791.20000053223_nifti_PT.nii']"
     },
     "metadata": {},
     "execution_count": 9
    }
   ],
   "source": [
    "liste[0]"
   ]
  },
  {
   "cell_type": "code",
   "execution_count": 10,
   "metadata": {},
   "outputs": [],
   "source": [
    "#change pet path \n",
    "\n",
    "for serie in liste: \n",
    "    serie[3] = serie[3].replace('storage', 'deeplearning')"
   ]
  },
  {
   "cell_type": "code",
   "execution_count": 11,
   "metadata": {},
   "outputs": [
    {
     "output_type": "execute_result",
     "data": {
      "text/plain": "['/media/deeplearning/78ca2911-9e9f-4f78-b80a-848024b95f92/inference/2.16.840.1.113669.632.20.210791.20000053223_mask_pred_float.nii',\n '2.16.840.1.113669.632.20.210791.20000053223',\n '13011101221017',\n '/media/deeplearning/AHL2011_NIFTI/2.16.840.1.113669.632.20.210791.20000053223_nifti_PT.nii']"
     },
     "metadata": {},
     "execution_count": 11
    }
   ],
   "source": [
    "liste[0]"
   ]
  },
  {
   "cell_type": "code",
   "execution_count": 12,
   "metadata": {
    "tags": []
   },
   "outputs": [],
   "source": [
    "for serie in liste : \n",
    "    path_pet = serie[-1].split('/')\n",
    "    new_path = '/media/deeplearning/Elements'+'/'+path_pet[3]+'/'+path_pet[4]\n",
    "\n",
    "    serie[3] = new_path"
   ]
  },
  {
   "cell_type": "code",
   "execution_count": 13,
   "metadata": {},
   "outputs": [
    {
     "output_type": "execute_result",
     "data": {
      "text/plain": "['/media/deeplearning/78ca2911-9e9f-4f78-b80a-848024b95f92/inference/2.16.840.1.113669.632.20.210791.20000053223_mask_pred_float.nii',\n '2.16.840.1.113669.632.20.210791.20000053223',\n '13011101221017',\n '/media/deeplearning/Elements/AHL2011_NIFTI/2.16.840.1.113669.632.20.210791.20000053223_nifti_PT.nii']"
     },
     "metadata": {},
     "execution_count": 13
    }
   ],
   "source": [
    "liste[0]"
   ]
  },
  {
   "cell_type": "markdown",
   "metadata": {},
   "source": [
    "#find associate csv \n",
    "csv_csv = '/media/deeplearning/Elements/AHL2011_CSV_DATA/pet0.csv'\n",
    "\n",
    "with open(csv_csv, 'r') as csv_file :\n",
    "    reader = csv.reader(csv_file, delimiter = ';') #liste pour chaque ligne \n",
    "    csv_data_2 = []\n",
    "    for row in reader :\n",
    "        csv_data_2.append(row)\n",
    "        \n",
    "del csv_data_2[0] #enlever première ligne\n"
   ]
  },
  {
   "cell_type": "markdown",
   "metadata": {},
   "source": [
    "csv_data_2[0]"
   ]
  },
  {
   "cell_type": "code",
   "execution_count": 14,
   "metadata": {
    "tags": []
   },
   "outputs": [
    {
     "output_type": "stream",
     "name": "stdout",
     "text": "589\n"
    }
   ],
   "source": [
    "#clean dataset \n",
    "json_path = '/media/deeplearning/Elements/AHL2011_NIFTI/json/AHL2011_final_list_dataset.json'\n",
    "dataset = []\n",
    "with open(json_path) as json_file : \n",
    "    reader = json.load(json_file)\n",
    "    for info in reader :\n",
    "        dataset.append(info)\n",
    "\n",
    "print(len(dataset))"
   ]
  },
  {
   "cell_type": "code",
   "execution_count": 17,
   "metadata": {},
   "outputs": [],
   "source": [
    "csv_directory = '/media/deeplearning/Elements/AHL2011_CSV_DATA/AHL2011-CSV'\n",
    "\n",
    "for serie in liste : \n",
    "    for data in dataset : \n",
    "        if serie[1] in data[0] :\n",
    "            serie.append(os.path.join(csv_directory, data[-1]))"
   ]
  },
  {
   "cell_type": "code",
   "execution_count": 18,
   "metadata": {},
   "outputs": [
    {
     "output_type": "execute_result",
     "data": {
      "text/plain": "['/media/deeplearning/78ca2911-9e9f-4f78-b80a-848024b95f92/inference/2.16.840.1.113669.632.20.210791.20000053223_mask_pred_float.nii',\n '2.16.840.1.113669.632.20.210791.20000053223',\n '13011101221017',\n '/media/deeplearning/Elements/AHL2011_NIFTI/2.16.840.1.113669.632.20.210791.20000053223_nifti_PT.nii',\n '/media/deeplearning/Elements/AHL2011_CSV_DATA/AHL2011-CSV/poi_is_jun 5_2013-EV.csv']"
     },
     "metadata": {},
     "execution_count": 18
    }
   ],
   "source": [
    "liste[0]"
   ]
  },
  {
   "cell_type": "code",
   "execution_count": null,
   "metadata": {},
   "outputs": [],
   "source": []
  },
  {
   "cell_type": "code",
   "execution_count": 20,
   "metadata": {},
   "outputs": [],
   "source": [
    "#difference volume \n",
    "from library_dicom.dicom_processor.tools.csv_volume import *\n",
    "for serie in liste : \n",
    "    serie.append(get_difference_volume(serie[-1]))"
   ]
  },
  {
   "cell_type": "code",
   "execution_count": 21,
   "metadata": {},
   "outputs": [
    {
     "output_type": "execute_result",
     "data": {
      "text/plain": "['/media/deeplearning/78ca2911-9e9f-4f78-b80a-848024b95f92/inference/1.2.840.113704.1.111.4268.1351517946.9_mask_pred_float.nii',\n '1.2.840.113704.1.111.4268.1351517946.9',\n '13011101021014',\n '/media/deeplearning/Elements/AHL2011_NIFTI/1.2.840.113704.1.111.4268.1351517946.9_nifti_PT.nii',\n '/media/deeplearning/Elements/AHL2011_CSV_DATA/AHL2011-CSV/zou_ab_oct 29_2012_SK.csv',\n 20.72999999999999]"
     },
     "metadata": {},
     "execution_count": 21
    }
   ],
   "source": [
    "liste[3]"
   ]
  },
  {
   "cell_type": "code",
   "execution_count": 22,
   "metadata": {},
   "outputs": [],
   "source": [
    "#write csv \n",
    "nifti_directory = '/media/deeplearning/78ca2911-9e9f-4f78-b80a-848024b95f92/post_processing'\n",
    "\n",
    "with open(os.path.join(nifti_directory, 'ahl_post_process.csv'), 'w') as csv_file : \n",
    "    csv_writer = csv.writer(csv_file, delimiter=',', quotechar='\"', quoting=csv.QUOTE_MINIMAL)\n",
    "    csv_writer.writerow([\"PATIENT ID\", \"STUDY UID\", \"NIFTI_PET\", \"NIFTI_MASK\", \"CSV\", \"DIFF\"])\n",
    "    for serie in liste: \n",
    "        csv_writer.writerow([serie[2], serie[1], serie[3], serie[0], serie[4], serie[5]])"
   ]
  },
  {
   "cell_type": "code",
   "execution_count": null,
   "metadata": {},
   "outputs": [],
   "source": [
    "#plus gros écart "
   ]
  },
  {
   "cell_type": "code",
   "execution_count": 25,
   "metadata": {},
   "outputs": [],
   "source": [
    "csv_post = '/media/deeplearning/78ca2911-9e9f-4f78-b80a-848024b95f92/post_processing/ahl_post_process.csv'\n",
    "\n",
    "with open(csv_post, 'r') as csv_file :\n",
    "    reader = csv.reader(csv_file, delimiter = ',') #liste pour chaque ligne \n",
    "    csv_data_3 = []\n",
    "    for row in reader :\n",
    "        csv_data_3.append(row)\n",
    "        \n",
    "del csv_data_3[0] #enlever première ligne\n"
   ]
  },
  {
   "cell_type": "code",
   "execution_count": 26,
   "metadata": {},
   "outputs": [
    {
     "output_type": "execute_result",
     "data": {
      "text/plain": "['13011101221017',\n '2.16.840.1.113669.632.20.210791.20000053223',\n '/media/deeplearning/Elements/AHL2011_NIFTI/2.16.840.1.113669.632.20.210791.20000053223_nifti_PT.nii',\n '/media/deeplearning/78ca2911-9e9f-4f78-b80a-848024b95f92/inference/2.16.840.1.113669.632.20.210791.20000053223_mask_pred_float.nii',\n '/media/deeplearning/Elements/AHL2011_CSV_DATA/AHL2011-CSV/poi_is_jun 5_2013-EV.csv',\n '0.009999999999990905']"
     },
     "metadata": {},
     "execution_count": 26
    }
   ],
   "source": [
    "csv_data_3[0]"
   ]
  },
  {
   "cell_type": "code",
   "execution_count": 45,
   "metadata": {},
   "outputs": [],
   "source": [
    "volume = []\n",
    "for row in csv_data_3 : \n",
    "    volume.append(float(row[-1]))"
   ]
  },
  {
   "cell_type": "code",
   "execution_count": 46,
   "metadata": {
    "tags": []
   },
   "outputs": [],
   "source": [
    "sorted_vol = sorted(volume)\n",
    "\n",
    "diff = sorted_vol[-40:]"
   ]
  },
  {
   "cell_type": "code",
   "execution_count": 47,
   "metadata": {},
   "outputs": [
    {
     "output_type": "execute_result",
     "data": {
      "text/plain": "[65.82000000000005,\n 65.98000000000025,\n 66.32000000000005,\n 66.49999999999997,\n 68.36000000000001,\n 69.81000000000009,\n 70.71999999999991,\n 70.87999999999994,\n 72.4799999999999,\n 73.09,\n 74.16999999999996,\n 74.47999999999999,\n 76.84999999999994,\n 77.40000000000009,\n 85.42000000000002,\n 85.80999999999995,\n 91.35000000000002,\n 93.45000000000005,\n 96.61999999999978,\n 96.76999999999998,\n 108.4799999999999,\n 109.18999999999994,\n 114.47,\n 115.23000000000008,\n 127.44000000000005,\n 137.4699999999998,\n 141.26999999999992,\n 145.15999999999997,\n 156.44999999999976,\n 160.44000000000028,\n 175.00000000000006,\n 183.45999999999992,\n 190.14000000000033,\n 191.7099999999998,\n 220.23999999999933,\n 242.7199999999999,\n 262.78999999999996,\n 366.44000000000005,\n 465.9500000000003,\n 524.7199999999998]"
     },
     "metadata": {},
     "execution_count": 47
    }
   ],
   "source": [
    "diff"
   ]
  },
  {
   "cell_type": "code",
   "execution_count": 48,
   "metadata": {},
   "outputs": [],
   "source": [
    "new_liste = []\n",
    "\n",
    "for numb in diff : \n",
    "    for serie in csv_data_3 :\n",
    "        if str(numb) in serie : \n",
    "            new_liste.append(serie)\n"
   ]
  },
  {
   "cell_type": "code",
   "execution_count": 51,
   "metadata": {},
   "outputs": [
    {
     "output_type": "execute_result",
     "data": {
      "text/plain": "40"
     },
     "metadata": {},
     "execution_count": 51
    }
   ],
   "source": [
    "len(new_liste)"
   ]
  },
  {
   "cell_type": "code",
   "execution_count": 53,
   "metadata": {},
   "outputs": [
    {
     "output_type": "execute_result",
     "data": {
      "text/plain": "['53011101371012',\n '1.2.250.1.74.20140306150000.1000040424629',\n '/media/deeplearning/Elements/AHL2011_NIFTI/1.2.250.1.74.20140306150000.1000040424629_nifti_PT.nii',\n '/media/deeplearning/78ca2911-9e9f-4f78-b80a-848024b95f92/inference/1.2.250.1.74.20140306150000.1000040424629_mask_pred_float.nii',\n '/media/deeplearning/Elements/AHL2011_CSV_DATA/AHL2011-CSV/ber_gu_feb 24_2014_SK.csv',\n '65.82000000000005']"
     },
     "metadata": {},
     "execution_count": 53
    }
   ],
   "source": [
    "new_liste[0]"
   ]
  },
  {
   "cell_type": "code",
   "execution_count": 54,
   "metadata": {},
   "outputs": [],
   "source": [
    "#write csv with 40 biggest difference\n",
    "nifti_directory = '/media/deeplearning/78ca2911-9e9f-4f78-b80a-848024b95f92/post_processing'\n",
    "\n",
    "with open(os.path.join(nifti_directory, 'ahl_post_process_40.csv'), 'w') as csv_file : \n",
    "    csv_writer = csv.writer(csv_file, delimiter=',', quotechar='\"', quoting=csv.QUOTE_MINIMAL)\n",
    "    csv_writer.writerow([\"PATIENT ID\", \"STUDY UID\", \"NIFTI_PET\", \"NIFTI_MASK\", \"CSV\", \"DIFF\"])\n",
    "    for serie in new_liste: \n",
    "        csv_writer.writerow([serie[0], serie[1], serie[2], serie[3], serie[4], serie[5]])"
   ]
  },
  {
   "cell_type": "code",
   "execution_count": null,
   "metadata": {},
   "outputs": [],
   "source": []
  },
  {
   "cell_type": "code",
   "execution_count": null,
   "metadata": {},
   "outputs": [],
   "source": []
  },
  {
   "cell_type": "code",
   "execution_count": 19,
   "metadata": {},
   "outputs": [],
   "source": [
    "#clean GAINED VALIDATED DICOM : PET 0 FAIT DONC ENLEVER LES STUDYs\n",
    "import shutil"
   ]
  },
  {
   "cell_type": "code",
   "execution_count": 14,
   "metadata": {},
   "outputs": [],
   "source": [
    "dicom_directory = '/media/deeplearning/Elements/GAINED_Validated_DICOMS'"
   ]
  },
  {
   "cell_type": "code",
   "execution_count": 15,
   "metadata": {},
   "outputs": [],
   "source": [
    "csv_pet0_path = '/media/deeplearning/78ca2911-9e9f-4f78-b80a-848024b95f92/GAINED_NIFTI/GAINED_PET0_NIFTI.csv'\n",
    "\n",
    "with open(csv_pet0_path, 'r') as csv_file :\n",
    "    reader = csv.reader(csv_file, delimiter = ',') #liste pour chaque ligne \n",
    "    csv_data = []\n",
    "    for row in reader :\n",
    "        csv_data.append(row)\n",
    "        \n",
    "del csv_data[0] #enlever première ligne"
   ]
  },
  {
   "cell_type": "code",
   "execution_count": 17,
   "metadata": {},
   "outputs": [],
   "source": [
    "liste = []\n",
    "for row in csv_data : \n",
    "    subliste = []\n",
    "    subliste.append(row[0])\n",
    "    subliste.append(row[1])\n",
    "    liste.append(subliste)\n"
   ]
  },
  {
   "cell_type": "code",
   "execution_count": 20,
   "metadata": {},
   "outputs": [],
   "source": [
    "for serie in liste : \n",
    "    shutil.rmtree(dicom_directory+'/'+serie[0]+'/'+serie[1])"
   ]
  },
  {
   "cell_type": "code",
   "execution_count": null,
   "metadata": {},
   "outputs": [],
   "source": []
  }
 ],
 "metadata": {
  "file_extension": ".py",
  "kernelspec": {
   "display_name": "Python 3.8.2 64-bit",
   "language": "python",
   "name": "python38264bit4afc185bc98b42c389abdbb3fbeec8dd"
  },
  "language_info": {
   "codemirror_mode": {
    "name": "ipython",
    "version": 3
   },
   "file_extension": ".py",
   "mimetype": "text/x-python",
   "name": "python",
   "nbconvert_exporter": "python",
   "pygments_lexer": "ipython3",
   "version": "3.8.2-final"
  },
  "mimetype": "text/x-python",
  "name": "python",
  "npconvert_exporter": "python",
  "pygments_lexer": "ipython3",
  "version": 3
 },
 "nbformat": 4,
 "nbformat_minor": 2
}