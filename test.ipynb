{
 "cells": [
  {
   "cell_type": "code",
   "execution_count": 1,
   "metadata": {},
   "outputs": [],
   "source": [
    "import json\n",
    "import os\n",
    "from library_dicom.dicom_processor.model.Series import Series \n",
    "from library_dicom.dicom_processor.model.SeriesPT import SeriesPT\n",
    "from library_dicom.dicom_processor.model.SeriesCT import SeriesCT\n",
    "from library_dicom.dicom_processor.model.csv_reader.MaskBuilder import MaskBuilder\n",
    "\n",
    "from library_dicom.dicom_processor.tools.folders import *\n",
    "\n",
    "from library_dicom.dicom_processor.tools.create_mip import *\n",
    "from library_dicom.dicom_processor.tools.threshold_mask import *\n",
    "\n",
    "import numpy as np\n",
    "import SimpleITK as sitk\n",
    "\n",
    "import csv\n",
    "import json"
   ]
  },
  {
   "cell_type": "code",
   "execution_count": 2,
   "metadata": {
    "tags": []
   },
   "outputs": [
    {
     "output_type": "stream",
     "name": "stdout",
     "text": "23\n"
    }
   ],
   "source": [
    "json_path = '/media/deeplearning/78ca2911-9e9f-4f78-b80a-848024b95f92/GAINED_NIFTI/json_dataset_3/DATASET_3_false_mask.json'\n",
    "dataset_3 = []\n",
    "with open(json_path) as json_file : \n",
    "    reader = json.load(json_file)\n",
    "    for info in reader :\n",
    "        dataset_3.append(info)\n",
    "\n",
    "print(len(dataset_3))"
   ]
  },
  {
   "cell_type": "code",
   "execution_count": 3,
   "metadata": {
    "tags": []
   },
   "outputs": [
    {
     "output_type": "stream",
     "name": "stdout",
     "text": "['/media/deeplearning/78ca2911-9e9f-4f78-b80a-848024b95f92/GAINED_Validated_DICOMS/51011101111005/2.16.840.1.113669.632.20.370001.10002416333/1.3.46.670589.28.2.12.30.26376.58692.2.2924.0.1416499162/1.3.46.670589.28.2.12.30.26376.58692.2.2924.0.1416499162', 'PT', '/media/deeplearning/78ca2911-9e9f-4f78-b80a-848024b95f92/GAINED_Validated_DICOMS/51011101111005/2.16.840.1.113669.632.20.370001.10002416333/1.3.46.670589.33.1.9458950662346293575.30459758762567253672/1.3.46.670589.33.1.9458950662346293575.30459758762567253672', 'CT', 'review1491.csv', '51011101111005', 'patient_51011101111005_PET_0_review_1491_41.csv']\n"
    }
   ],
   "source": [
    "serie = dataset_3[9]\n",
    "print(serie)"
   ]
  },
  {
   "cell_type": "code",
   "execution_count": 4,
   "metadata": {},
   "outputs": [
    {
     "output_type": "execute_result",
     "data": {
      "text/plain": "{1: {'SUV_max': 8.59, 'SUV_mean': 4.87, 'SD': 1.3},\n 2: {'SUV_max': 5.06, 'SUV_mean': 3.1, 'SD': 0.8},\n 3: {'SUV_max': 18.4, 'SUV_mean': 11.07, 'SD': 3.11},\n 4: {'SUV_max': 10.5, 'SUV_mean': 6.16, 'SD': 1.64},\n 5: {'SUV_max': 32.99, 'SUV_mean': 20.2, 'SD': 5.44},\n 6: {'SUV_max': 9.73, 'SUV_mean': 5.59, 'SD': 1.22},\n 7: {'SUV_max': 17.51, 'SUV_mean': 10.01, 'SD': 2.66},\n 8: {'SUV_max': 22.63, 'SUV_mean': 13.4, 'SD': 3.31},\n 9: {'SUV_max': 8.64, 'SUV_mean': 4.8, 'SD': 1.18},\n 10: {'SUV_max': 5.02, 'SUV_mean': 3.38, 'SD': 0.6},\n 11: {'SUV_max': 7.84, 'SUV_mean': 4.63, 'SD': 1.19},\n 12: {'SUV_max': 23.73, 'SUV_mean': 13.76, 'SD': 3.56},\n 13: {'SUV_max': 25.33, 'SUV_mean': 14.62, 'SD': 3.14},\n 14: {'SUV_max': 16.84, 'SUV_mean': 9.61, 'SD': 2.18},\n 15: {'SUV_max': 11.86, 'SUV_mean': 7.23, 'SD': 1.86},\n 16: {'SUV_max': 5.03, 'SUV_mean': 3.12, 'SD': 0.85},\n 17: {'SUV_max': 6.44, 'SUV_mean': 3.95, 'SD': 1.0},\n 18: {'SUV_max': 13.65, 'SUV_mean': 8.3, 'SD': 2.25},\n 19: {'SUV_max': 8.63, 'SUV_mean': 5.06, 'SD': 1.3},\n 20: {'SUV_max': 7.44, 'SUV_mean': 4.52, 'SD': 1.23},\n 21: {'SUV_max': 9.93, 'SUV_mean': 5.35, 'SD': 0.63},\n 22: {'SUV_max': 7.09, 'SUV_mean': 5.18, 'SD': 0.62},\n 23: {'SUV_max': 7.26, 'SUV_mean': 5.1, 'SD': 0.53},\n 24: {'SUV_max': 15.64, 'SUV_mean': 8.0, 'SD': 1.81},\n 25: {'SUV_max': 19.96, 'SUV_mean': 11.59, 'SD': 2.56},\n 26: {'SUV_max': 7.52, 'SUV_mean': 5.29, 'SD': 0.53},\n 27: {'SUV_max': 7.78, 'SUV_mean': 4.82, 'SD': 1.23},\n 28: {'SUV_max': 8.09, 'SUV_mean': 4.96, 'SD': 0.8},\n 29: {'SUV_max': 11.61, 'SUV_mean': 6.32, 'SD': 1.43},\n 30: {'SUV_max': 4.93, 'SUV_mean': 3.28, 'SD': 0.58},\n 31: {'SUV_max': 8.98, 'SUV_mean': 5.31, 'SD': 1.31},\n 32: {'SUV_max': 18.4, 'SUV_mean': 10.79, 'SD': 2.87},\n 33: {'SUV_max': 24.0, 'SUV_mean': 14.28, 'SD': 3.25},\n 34: {'SUV_max': 16.15, 'SUV_mean': 9.57, 'SD': 2.41},\n 35: {'SUV_max': 13.97, 'SUV_mean': 7.71, 'SD': 1.58},\n 36: {'SUV_max': 9.4, 'SUV_mean': 5.67, 'SD': 1.44},\n 37: {'SUV_max': 20.81, 'SUV_mean': 12.33, 'SD': 2.87},\n 38: {'SUV_max': 27.38, 'SUV_mean': 17.97, 'SD': 4.57},\n 39: {'SUV_max': 20.29, 'SUV_mean': 11.95, 'SD': 3.27},\n 40: {'SUV_max': 26.62, 'SUV_mean': 16.84, 'SD': 4.24},\n 41: {'SUV_max': 1.44, 'SUV_mean': 0.95, 'SD': 0.24},\n 42: {'SUV_max': 0.02, 'SUV_mean': 0.01, 'SD': 0.0}}"
     },
     "metadata": {},
     "execution_count": 4
    }
   ],
   "source": [
    "csv_directory = '/media/deeplearning/78ca2911-9e9f-4f78-b80a-848024b95f92/GAINED_CSV_DATA/Export_Gained/CSV41/PET0'\n",
    "serie_pt_objet = SeriesPT(serie[0])\n",
    "nifti_array = serie_pt_objet.get_numpy_array()\n",
    "study_uid = serie_pt_objet.get_series_details()['study']['StudyInstanceUID']\n",
    "\n",
    "size_matrix = serie_pt_objet.get_size_matrix()\n",
    "mask_objet = MaskBuilder(os.path.join(csv_directory, serie[6]), size_matrix)\n",
    "mask_4D = mask_objet.mask_array\n",
    "#mask_flip = mask_objet.flip_z(mask_4D)\n",
    "\n",
    "mask_objet.calcul_suv(nifti_array)"
   ]
  },
  {
   "cell_type": "code",
   "execution_count": null,
   "metadata": {},
   "outputs": [],
   "source": []
  },
  {
   "cell_type": "code",
   "execution_count": null,
   "metadata": {},
   "outputs": [],
   "source": []
  }
 ],
 "metadata": {
  "file_extension": ".py",
  "kernelspec": {
   "display_name": "Python 3.8.2 64-bit",
   "language": "python",
   "name": "python38264bit4afc185bc98b42c389abdbb3fbeec8dd"
  },
  "language_info": {
   "codemirror_mode": {
    "name": "ipython",
    "version": 3
   },
   "file_extension": ".py",
   "mimetype": "text/x-python",
   "name": "python",
   "nbconvert_exporter": "python",
   "pygments_lexer": "ipython3",
   "version": "3.8.2-final"
  },
  "mimetype": "text/x-python",
  "name": "python",
  "npconvert_exporter": "python",
  "pygments_lexer": "ipython3",
  "version": 3
 },
 "nbformat": 4,
 "nbformat_minor": 2
}