{
 "cells": [
  {
   "cell_type": "code",
   "execution_count": 1,
   "metadata": {},
   "outputs": [],
   "source": [
    "import json\n",
    "import os\n",
    "from library_dicom.dicom_processor.model.Series import Series \n",
    "from library_dicom.dicom_processor.model.SeriesPT import SeriesPT\n",
    "from library_dicom.dicom_processor.model.SeriesCT import SeriesCT\n",
    "from library_dicom.dicom_processor.model.csv_reader.MaskBuilder import MaskBuilder\n",
    "\n",
    "from library_dicom.dicom_processor.tools.folders import *\n",
    "\n",
    "from library_dicom.dicom_processor.tools.create_mip import *\n",
    "from library_dicom.dicom_processor.tools.threshold_mask import *\n",
    "\n",
    "import numpy as np\n",
    "import SimpleITK as sitk\n",
    "\n",
    "import csv"
   ]
  },
  {
   "cell_type": "code",
   "execution_count": 2,
   "metadata": {},
   "outputs": [
    {
     "name": "stdout",
     "output_type": "stream",
     "text": [
      "140\n"
     ]
    }
   ],
   "source": [
    "json_path = '/media/salim/DD 2To/GAINED_NIFTI/json/dataset_1.json'\n",
    "dataset_1 = []\n",
    "with open(json_path) as json_file : \n",
    "    reader = json.load(json_file)\n",
    "    for info in reader :\n",
    "        dataset_1.append(info)\n",
    "\n",
    "print(len(dataset_1))"
   ]
  },
  {
   "cell_type": "code",
   "execution_count": 3,
   "metadata": {},
   "outputs": [
    {
     "name": "stdout",
     "output_type": "stream",
     "text": [
      "46\n"
     ]
    }
   ],
   "source": [
    "#index\n",
    "coronal = [8]\n",
    "error = [80, 135]\n",
    "false_mask = [13, 14, 17, 18, 19, 39, 42, 47, 48, 51, 53, 54, 57, 58, 59, 61, 62, 63, 64, 65, 67, 68, 69, 74, 76, 86, 88, 97, 100, 108, 111, 112, 113, 115, 117, 119, 122, 124, 128, 132, 133, 134, 136, 137, 138, 139]\n",
    "print(len(false_mask))"
   ]
  },
  {
   "cell_type": "code",
   "execution_count": 4,
   "metadata": {},
   "outputs": [
    {
     "data": {
      "text/plain": [
       "139"
      ]
     },
     "execution_count": 4,
     "metadata": {},
     "output_type": "execute_result"
    }
   ],
   "source": [
    "\n",
    "good = [5, 10, 12,14, 16, 17, 18, 22, 25, 26, 28,29, 30, 31, 32, 33, 38, 39, 40, 41, 42, 45]\n",
    "false_mask[45]"
   ]
  },
  {
   "cell_type": "code",
   "execution_count": 5,
   "metadata": {},
   "outputs": [
    {
     "name": "stdout",
     "output_type": "stream",
     "text": [
      "22\n",
      "24\n"
     ]
    }
   ],
   "source": [
    "print(len(good))\n",
    "data = []\n",
    "for i in good : \n",
    "    data.append(false_mask[i])\n",
    "\n",
    "\n",
    "for index in data : \n",
    "    false_mask.remove(index)\n",
    "\n",
    "print(len(false_mask))\n"
   ]
  },
  {
   "cell_type": "code",
   "execution_count": 6,
   "metadata": {},
   "outputs": [],
   "source": [
    "serie_mip = []\n",
    "for index in false_mask : \n",
    "    serie_mip.append(dataset_1[index])"
   ]
  },
  {
   "cell_type": "code",
   "execution_count": 7,
   "metadata": {},
   "outputs": [
    {
     "data": {
      "text/plain": [
       "24"
      ]
     },
     "execution_count": 7,
     "metadata": {},
     "output_type": "execute_result"
    }
   ],
   "source": [
    "len(serie_mip)"
   ]
  },
  {
   "cell_type": "code",
   "execution_count": 8,
   "metadata": {},
   "outputs": [],
   "source": [
    "write_json_file('/media/salim/DD 2To/GAINED_NIFTI','dataset_1_serie_false_mask', serie_mip)"
   ]
  },
  {
   "cell_type": "code",
   "execution_count": 9,
   "metadata": {},
   "outputs": [
    {
     "name": "stdout",
     "output_type": "stream",
     "text": [
      "0\n",
      "taille mask :  (144, 144, 276, 15)\n",
      "FALSE MASK\n",
      "{1: {'SUV_max': 4.46, 'SUV_mean': 3.06, 'SD': 0.47}, 2: {'SUV_max': 4.61, 'SUV_mean': 3.7, 'SD': 0.3}, 3: {'SUV_max': 4.86, 'SUV_mean': 3.09, 'SD': 0.67}, 4: {'SUV_max': 7.3, 'SUV_mean': 4.21, 'SD': 0.72}, 5: {'SUV_max': 8.02, 'SUV_mean': 5.16, 'SD': 0.92}, 6: {'SUV_max': 14.22, 'SUV_mean': 7.55, 'SD': 1.51}, 7: {'SUV_max': 9.42, 'SUV_mean': 5.43, 'SD': 1.02}, 8: {'SUV_max': 11.28, 'SUV_mean': 6.32, 'SD': 1.23}, 9: {'SUV_max': 7.68, 'SUV_mean': 4.46, 'SD': 0.98}, 10: {'SUV_max': 5.39, 'SUV_mean': 3.08, 'SD': 0.7}, 11: {'SUV_max': 2.98, 'SUV_mean': 2.03, 'SD': 0.39}, 12: {'SUV_max': 2.99, 'SUV_mean': 1.6, 'SD': 0.34}, 13: {'SUV_max': 5.26, 'SUV_mean': 3.1, 'SD': 0.68}, 14: {'SUV_max': 3.1, 'SUV_mean': 1.95, 'SD': 0.49}, 15: {'SUV_max': 8.75, 'SUV_mean': 5.17, 'SD': 1.24}}\n",
      "[11, 'POLYGON', 0.1299999999999999]\n",
      "[]\n",
      "[]\n",
      "1\n",
      "taille mask :  (200, 200, 481, 9)\n",
      "MASK CORRECT\n",
      "EXPORT NIFTI PT\n",
      "EXPORT NIFTI CT\n",
      "EXPORT NIFTI MASK\n",
      "2\n",
      "taille mask :  (144, 144, 276, 58)\n",
      "FALSE MASK\n",
      "{1: {'SUV_max': 11.0, 'SUV_mean': 6.47, 'SD': 1.7}, 2: {'SUV_max': 14.66, 'SUV_mean': 8.71, 'SD': 2.07}, 3: {'SUV_max': 6.71, 'SUV_mean': 4.13, 'SD': 1.02}, 4: {'SUV_max': 16.98, 'SUV_mean': 10.28, 'SD': 2.44}, 5: {'SUV_max': 16.76, 'SUV_mean': 9.55, 'SD': 2.04}, 6: {'SUV_max': 11.31, 'SUV_mean': 6.88, 'SD': 1.72}, 7: {'SUV_max': 12.46, 'SUV_mean': 7.43, 'SD': 1.62}, 8: {'SUV_max': 17.24, 'SUV_mean': 10.74, 'SD': 2.42}, 9: {'SUV_max': 17.88, 'SUV_mean': 10.57, 'SD': 2.64}, 10: {'SUV_max': 20.49, 'SUV_mean': 12.08, 'SD': 2.83}, 11: {'SUV_max': 18.16, 'SUV_mean': 11.24, 'SD': 2.95}, 12: {'SUV_max': 11.51, 'SUV_mean': 6.9, 'SD': 1.73}, 13: {'SUV_max': 12.42, 'SUV_mean': 7.55, 'SD': 1.89}, 14: {'SUV_max': 7.28, 'SUV_mean': 4.52, 'SD': 1.16}, 15: {'SUV_max': 10.47, 'SUV_mean': 5.9, 'SD': 1.51}, 16: {'SUV_max': 6.59, 'SUV_mean': 3.87, 'SD': 0.97}, 17: {'SUV_max': 7.54, 'SUV_mean': 4.36, 'SD': 1.13}, 18: {'SUV_max': 6.49, 'SUV_mean': 3.74, 'SD': 0.96}, 19: {'SUV_max': 21.0, 'SUV_mean': 13.16, 'SD': 2.72}, 20: {'SUV_max': 14.34, 'SUV_mean': 8.85, 'SD': 2.31}, 21: {'SUV_max': 5.32, 'SUV_mean': 3.07, 'SD': 0.69}, 22: {'SUV_max': 19.36, 'SUV_mean': 12.26, 'SD': 3.16}, 23: {'SUV_max': 19.06, 'SUV_mean': 12.18, 'SD': 2.77}, 24: {'SUV_max': 18.92, 'SUV_mean': 12.02, 'SD': 2.83}, 25: {'SUV_max': 9.65, 'SUV_mean': 5.96, 'SD': 1.49}, 26: {'SUV_max': 7.2, 'SUV_mean': 4.21, 'SD': 0.98}, 27: {'SUV_max': 11.63, 'SUV_mean': 7.3, 'SD': 1.69}, 28: {'SUV_max': 15.31, 'SUV_mean': 8.76, 'SD': 2.12}, 29: {'SUV_max': 16.03, 'SUV_mean': 9.3, 'SD': 2.3}, 30: {'SUV_max': 18.16, 'SUV_mean': 10.54, 'SD': 2.42}, 31: {'SUV_max': 11.11, 'SUV_mean': 6.95, 'SD': 1.61}, 32: {'SUV_max': 14.56, 'SUV_mean': 8.84, 'SD': 2.48}, 33: {'SUV_max': 18.8, 'SUV_mean': 11.32, 'SD': 2.33}, 34: {'SUV_max': 14.7, 'SUV_mean': 8.73, 'SD': 1.78}, 35: {'SUV_max': 12.6, 'SUV_mean': 8.05, 'SD': 1.7}, 36: {'SUV_max': 14.27, 'SUV_mean': 8.85, 'SD': 1.94}, 37: {'SUV_max': 10.29, 'SUV_mean': 5.6, 'SD': 1.12}, 38: {'SUV_max': 15.96, 'SUV_mean': 10.06, 'SD': 2.79}, 39: {'SUV_max': 21.48, 'SUV_mean': 13.32, 'SD': 3.41}, 40: {'SUV_max': 7.97, 'SUV_mean': 4.41, 'SD': 1.15}, 41: {'SUV_max': 8.97, 'SUV_mean': 5.58, 'SD': 1.31}, 42: {'SUV_max': 12.61, 'SUV_mean': 7.46, 'SD': 1.59}, 43: {'SUV_max': 8.59, 'SUV_mean': 5.12, 'SD': 1.61}, 44: {'SUV_max': 9.73, 'SUV_mean': 5.97, 'SD': 1.57}, 45: {'SUV_max': 10.17, 'SUV_mean': 6.39, 'SD': 1.66}, 46: {'SUV_max': 5.58, 'SUV_mean': 3.38, 'SD': 0.94}, 47: {'SUV_max': 15.49, 'SUV_mean': 9.74, 'SD': 2.59}, 48: {'SUV_max': 5.89, 'SUV_mean': 3.94, 'SD': 0.99}, 49: {'SUV_max': 12.05, 'SUV_mean': 6.87, 'SD': 1.7}, 50: {'SUV_max': 6.54, 'SUV_mean': 3.9, 'SD': 1.17}, 51: {'SUV_max': 4.87, 'SUV_mean': 2.87, 'SD': 0.65}, 52: {'SUV_max': 3.3, 'SUV_mean': 2.04, 'SD': 0.56}, 53: {'SUV_max': 4.88, 'SUV_mean': 2.83, 'SD': 0.72}, 54: {'SUV_max': 4.98, 'SUV_mean': 2.93, 'SD': 0.75}, 55: {'SUV_max': 8.21, 'SUV_mean': 5.1, 'SD': 1.38}, 56: {'SUV_max': 4.31, 'SUV_mean': 2.52, 'SD': 0.68}, 57: {'SUV_max': 8.4, 'SUV_mean': 5.18, 'SD': 1.66}, 58: {'SUV_max': 5.27, 'SUV_mean': 2.97, 'SD': 0.83}}\n",
      "[49, 'POLYGON', 3.3500000000000014, 57, 'POLYGON', 1.0899999999999999]\n",
      "[49, 'POLYGON', 1.6900000000000004, 57, 'POLYGON', 0.7400000000000002]\n",
      "[49, 'POLYGON', 0.32000000000000006, 57, 'POLYGON', 0.3400000000000001]\n",
      "3\n",
      "taille mask :  (200, 200, 246, 70)\n",
      "FALSE MASK\n",
      "{1: {'SUV_max': 19.44, 'SUV_mean': 11.56, 'SD': 2.84}, 2: {'SUV_max': 11.03, 'SUV_mean': 6.66, 'SD': 1.65}, 3: {'SUV_max': 17.19, 'SUV_mean': 10.5, 'SD': 2.59}, 4: {'SUV_max': 19.66, 'SUV_mean': 14.28, 'SD': 4.07}, 5: {'SUV_max': 28.5, 'SUV_mean': 18.5, 'SD': 5.37}, 6: {'SUV_max': 17.8, 'SUV_mean': 11.3, 'SD': 3.42}, 7: {'SUV_max': 24.62, 'SUV_mean': 16.46, 'SD': 4.64}, 8: {'SUV_max': 28.47, 'SUV_mean': 19.9, 'SD': 5.04}, 9: {'SUV_max': 15.31, 'SUV_mean': 8.83, 'SD': 2.28}, 10: {'SUV_max': 13.97, 'SUV_mean': 8.78, 'SD': 2.31}, 11: {'SUV_max': 18.72, 'SUV_mean': 11.54, 'SD': 3.49}, 12: {'SUV_max': 12.19, 'SUV_mean': 7.26, 'SD': 2.03}, 13: {'SUV_max': 17.05, 'SUV_mean': 10.46, 'SD': 2.54}, 14: {'SUV_max': 17.29, 'SUV_mean': 10.88, 'SD': 2.67}, 15: {'SUV_max': 9.47, 'SUV_mean': 5.72, 'SD': 1.54}, 16: {'SUV_max': 23.0, 'SUV_mean': 15.04, 'SD': 4.26}, 17: {'SUV_max': 16.34, 'SUV_mean': 11.14, 'SD': 2.84}, 18: {'SUV_max': 28.23, 'SUV_mean': 17.96, 'SD': 4.44}, 19: {'SUV_max': 19.29, 'SUV_mean': 11.95, 'SD': 3.44}, 20: {'SUV_max': 18.87, 'SUV_mean': 10.72, 'SD': 3.79}, 21: {'SUV_max': 15.78, 'SUV_mean': 10.58, 'SD': 2.9}, 22: {'SUV_max': 13.49, 'SUV_mean': 8.22, 'SD': 3.05}, 23: {'SUV_max': 10.02, 'SUV_mean': 6.19, 'SD': 1.67}, 24: {'SUV_max': 13.61, 'SUV_mean': 7.88, 'SD': 2.1}, 25: {'SUV_max': 22.59, 'SUV_mean': 13.43, 'SD': 4.73}, 26: {'SUV_max': 14.22, 'SUV_mean': 9.4, 'SD': 2.47}, 27: {'SUV_max': 28.84, 'SUV_mean': 20.26, 'SD': 4.98}, 28: {'SUV_max': 7.92, 'SUV_mean': 4.53, 'SD': 1.3}, 29: {'SUV_max': 13.15, 'SUV_mean': 8.04, 'SD': 2.23}, 30: {'SUV_max': 8.15, 'SUV_mean': 5.02, 'SD': 1.51}, 31: {'SUV_max': 24.38, 'SUV_mean': 13.88, 'SD': 2.87}, 32: {'SUV_max': 23.25, 'SUV_mean': 16.52, 'SD': 3.73}, 33: {'SUV_max': 23.38, 'SUV_mean': 14.21, 'SD': 3.51}, 34: {'SUV_max': 24.22, 'SUV_mean': 13.79, 'SD': 2.91}, 35: {'SUV_max': 22.7, 'SUV_mean': 13.92, 'SD': 3.51}, 36: {'SUV_max': 17.48, 'SUV_mean': 12.14, 'SD': 4.3}, 37: {'SUV_max': 24.73, 'SUV_mean': 15.46, 'SD': 3.6}, 38: {'SUV_max': 19.32, 'SUV_mean': 12.03, 'SD': 2.88}, 39: {'SUV_max': 18.23, 'SUV_mean': 12.55, 'SD': 3.04}, 40: {'SUV_max': 7.21, 'SUV_mean': 4.8, 'SD': 1.4}, 41: {'SUV_max': 28.92, 'SUV_mean': 16.99, 'SD': 4.09}, 42: {'SUV_max': 16.82, 'SUV_mean': 10.82, 'SD': 3.06}, 43: {'SUV_max': 28.87, 'SUV_mean': 18.66, 'SD': 4.01}, 44: {'SUV_max': 29.66, 'SUV_mean': 18.28, 'SD': 4.4}, 45: {'SUV_max': 21.57, 'SUV_mean': 12.84, 'SD': 3.24}, 46: {'SUV_max': 21.67, 'SUV_mean': 13.9, 'SD': 3.75}, 47: {'SUV_max': 16.66, 'SUV_mean': 10.78, 'SD': 3.23}, 48: {'SUV_max': 10.23, 'SUV_mean': 7.3, 'SD': 2.53}, 49: {'SUV_max': 4.54, 'SUV_mean': 2.88, 'SD': 1.04}, 50: {'SUV_max': 6.38, 'SUV_mean': 3.43, 'SD': 1.03}, 51: {'SUV_max': 14.23, 'SUV_mean': 8.82, 'SD': 3.14}, 52: {'SUV_max': 15.22, 'SUV_mean': 10.11, 'SD': 2.71}, 53: {'SUV_max': 26.03, 'SUV_mean': 17.28, 'SD': 4.0}, 54: {'SUV_max': 19.43, 'SUV_mean': 12.45, 'SD': 3.02}, 55: {'SUV_max': 26.31, 'SUV_mean': 15.21, 'SD': 3.53}, 56: {'SUV_max': 18.35, 'SUV_mean': 11.57, 'SD': 2.84}, 57: {'SUV_max': 8.85, 'SUV_mean': 5.96, 'SD': 1.61}, 58: {'SUV_max': 6.9, 'SUV_mean': 4.35, 'SD': 1.52}, 59: {'SUV_max': 7.23, 'SUV_mean': 4.9, 'SD': 2.04}, 60: {'SUV_max': 4.93, 'SUV_mean': 2.81, 'SD': 0.73}, 61: {'SUV_max': 7.6, 'SUV_mean': 4.47, 'SD': 2.12}, 62: {'SUV_max': 8.74, 'SUV_mean': 5.15, 'SD': 1.44}, 63: {'SUV_max': 5.06, 'SUV_mean': 4.09, 'SD': 1.18}, 64: {'SUV_max': 6.82, 'SUV_mean': 3.97, 'SD': 1.09}, 65: {'SUV_max': 19.29, 'SUV_mean': 11.87, 'SD': 2.8}, 66: {'SUV_max': 14.24, 'SUV_mean': 8.41, 'SD': 2.09}, 67: {'SUV_max': 24.83, 'SUV_mean': 14.44, 'SD': 6.05}, 68: {'SUV_max': 8.21, 'SUV_mean': 5.04, 'SD': 1.51}, 69: {'SUV_max': 11.5, 'SUV_mean': 7.92, 'SD': 2.07}, 70: {'SUV_max': 9.24, 'SUV_mean': 5.38, 'SD': 1.79}}\n",
      "[58, 'POLYGON', 0.10999999999999943, 66, 'POLYGON', 2.139999999999999]\n",
      "[55, 'POLYGON', 0.120000000000001, 58, 'POLYGON', 0.8700000000000001, 66, 'POLYGON', 1.0099999999999998]\n",
      "[]\n",
      "4\n"
     ]
    },
    {
     "name": "stdout",
     "output_type": "stream",
     "text": [
      "taille mask :  (144, 144, 254, 13)\n",
      "FALSE MASK\n",
      "{1: {'SUV_max': 20.86, 'SUV_mean': 13.56, 'SD': 2.12}, 2: {'SUV_max': 13.58, 'SUV_mean': 10.02, 'SD': 1.53}, 3: {'SUV_max': 21.37, 'SUV_mean': 13.15, 'SD': 1.88}, 4: {'SUV_max': 10.22, 'SUV_mean': 6.25, 'SD': 1.83}, 5: {'SUV_max': 18.99, 'SUV_mean': 11.93, 'SD': 1.99}, 6: {'SUV_max': 9.04, 'SUV_mean': 5.54, 'SD': 1.24}, 7: {'SUV_max': 4.35, 'SUV_mean': 3.07, 'SD': 0.36}, 8: {'SUV_max': 8.42, 'SUV_mean': 5.2, 'SD': 1.34}, 9: {'SUV_max': 7.19, 'SUV_mean': 4.39, 'SD': 1.14}, 10: {'SUV_max': 10.06, 'SUV_mean': 5.96, 'SD': 1.46}, 11: {'SUV_max': 6.85, 'SUV_mean': 3.86, 'SD': 0.91}, 12: {'SUV_max': 14.4, 'SUV_mean': 8.79, 'SD': 2.46}, 13: {'SUV_max': 12.53, 'SUV_mean': 7.31, 'SD': 1.87}}\n",
      "[]\n",
      "[12, 'ELLIPSE', 0.14999999999999858]\n",
      "[]\n",
      "5\n",
      "taille mask :  (256, 256, 299, 9)\n",
      "MASK CORRECT\n",
      "EXPORT NIFTI PT\n",
      "EXPORT NIFTI CT\n",
      "EXPORT NIFTI MASK\n",
      "6\n",
      "taille mask :  (256, 256, 263, 13)\n",
      "FALSE MASK\n",
      "{1: {'SUV_max': 23.43, 'SUV_mean': 12.05, 'SD': 2.37}, 2: {'SUV_max': 21.16, 'SUV_mean': 11.86, 'SD': 2.66}, 3: {'SUV_max': 11.84, 'SUV_mean': 7.07, 'SD': 1.83}, 4: {'SUV_max': 7.33, 'SUV_mean': 4.65, 'SD': 1.0}, 5: {'SUV_max': 15.62, 'SUV_mean': 9.75, 'SD': 2.66}, 6: {'SUV_max': 11.01, 'SUV_mean': 5.93, 'SD': 1.34}, 7: {'SUV_max': 14.45, 'SUV_mean': 8.39, 'SD': 2.08}, 8: {'SUV_max': 18.02, 'SUV_mean': 10.31, 'SD': 2.69}, 9: {'SUV_max': 6.9, 'SUV_mean': 4.39, 'SD': 1.08}, 10: {'SUV_max': 7.59, 'SUV_mean': 4.69, 'SD': 1.08}, 11: {'SUV_max': 3.83, 'SUV_mean': 2.52, 'SD': 0.6}, 12: {'SUV_max': 3.34, 'SUV_mean': 1.99, 'SD': 0.36}, 13: {'SUV_max': 3.08, 'SUV_mean': 1.85, 'SD': 0.41}}\n",
      "[]\n",
      "[5, 'ELLIPSE', 0.14000000000000057]\n",
      "[]\n",
      "7\n",
      "taille mask :  (200, 200, 543, 3)\n",
      "MASK CORRECT\n",
      "EXPORT NIFTI PT\n",
      "EXPORT NIFTI CT\n",
      "EXPORT NIFTI MASK\n",
      "8\n",
      "taille mask :  (168, 168, 405, 6)\n",
      "FALSE MASK\n",
      "{1: {'SUV_max': 27.43, 'SUV_mean': 14.85, 'SD': 2.59}, 2: {'SUV_max': 20.58, 'SUV_mean': 12.71, 'SD': 2.93}, 3: {'SUV_max': 22.84, 'SUV_mean': 13.85, 'SD': 2.5}, 4: {'SUV_max': 7.27, 'SUV_mean': 4.24, 'SD': 1.03}, 5: {'SUV_max': 8.76, 'SUV_mean': 5.0, 'SD': 0.99}, 6: {'SUV_max': 7.14, 'SUV_mean': 3.76, 'SD': 0.95}}\n",
      "[]\n",
      "[2, 'ELLIPSE', 0.10000000000000142]\n",
      "[]\n",
      "9\n",
      "taille mask :  (168, 168, 405, 36)\n",
      "FALSE MASK\n",
      "{1: {'SUV_max': 29.18, 'SUV_mean': 16.53, 'SD': 3.19}, 2: {'SUV_max': 22.61, 'SUV_mean': 15.32, 'SD': 2.83}, 3: {'SUV_max': 26.7, 'SUV_mean': 17.18, 'SD': 2.92}, 4: {'SUV_max': 26.23, 'SUV_mean': 14.62, 'SD': 2.87}, 5: {'SUV_max': 21.41, 'SUV_mean': 13.89, 'SD': 3.67}, 6: {'SUV_max': 17.09, 'SUV_mean': 10.94, 'SD': 2.72}, 7: {'SUV_max': 11.25, 'SUV_mean': 6.65, 'SD': 2.21}, 8: {'SUV_max': 16.03, 'SUV_mean': 10.14, 'SD': 3.07}, 9: {'SUV_max': 27.81, 'SUV_mean': 17.31, 'SD': 3.03}, 10: {'SUV_max': 26.44, 'SUV_mean': 15.3, 'SD': 3.02}, 11: {'SUV_max': 11.97, 'SUV_mean': 7.48, 'SD': 2.23}, 12: {'SUV_max': 25.0, 'SUV_mean': 15.04, 'SD': 2.86}, 13: {'SUV_max': 25.36, 'SUV_mean': 15.41, 'SD': 3.79}, 14: {'SUV_max': 10.13, 'SUV_mean': 5.95, 'SD': 1.48}, 15: {'SUV_max': 16.09, 'SUV_mean': 9.49, 'SD': 1.77}, 16: {'SUV_max': 19.89, 'SUV_mean': 12.6, 'SD': 2.23}, 17: {'SUV_max': 23.29, 'SUV_mean': 14.45, 'SD': 2.76}, 18: {'SUV_max': 22.17, 'SUV_mean': 13.7, 'SD': 3.09}, 19: {'SUV_max': 22.07, 'SUV_mean': 13.11, 'SD': 2.63}, 20: {'SUV_max': 30.34, 'SUV_mean': 17.37, 'SD': 3.24}, 21: {'SUV_max': 30.0, 'SUV_mean': 18.58, 'SD': 4.27}, 22: {'SUV_max': 28.63, 'SUV_mean': 17.58, 'SD': 4.64}, 23: {'SUV_max': 27.74, 'SUV_mean': 15.2, 'SD': 3.67}, 24: {'SUV_max': 25.54, 'SUV_mean': 15.57, 'SD': 3.92}, 25: {'SUV_max': 13.42, 'SUV_mean': 7.98, 'SD': 2.26}, 26: {'SUV_max': 27.51, 'SUV_mean': 15.93, 'SD': 2.57}, 27: {'SUV_max': 23.64, 'SUV_mean': 14.67, 'SD': 3.39}, 28: {'SUV_max': 19.42, 'SUV_mean': 13.41, 'SD': 3.55}, 29: {'SUV_max': 7.64, 'SUV_mean': 4.92, 'SD': 1.19}, 30: {'SUV_max': 11.2, 'SUV_mean': 7.26, 'SD': 2.48}, 31: {'SUV_max': 30.47, 'SUV_mean': 17.96, 'SD': 5.83}, 32: {'SUV_max': 6.24, 'SUV_mean': 4.06, 'SD': 0.99}, 33: {'SUV_max': 19.05, 'SUV_mean': 13.0, 'SD': 2.86}, 34: {'SUV_max': 27.51, 'SUV_mean': 16.03, 'SD': 4.17}, 35: {'SUV_max': 20.7, 'SUV_mean': 12.53, 'SD': 3.23}, 36: {'SUV_max': 19.19, 'SUV_mean': 13.69, 'SD': 4.67}}\n",
      "[35, 'ELLIPSE', 0.6499999999999986]\n",
      "[]\n",
      "[35, 'ELLIPSE', 0.22999999999999998]\n",
      "10\n",
      "taille mask :  (168, 168, 405, 104)\n",
      "FALSE MASK\n",
      "{1: {'SUV_max': 11.02, 'SUV_mean': 5.68, 'SD': 1.27}, 2: {'SUV_max': 6.84, 'SUV_mean': 3.96, 'SD': 0.93}, 3: {'SUV_max': 8.86, 'SUV_mean': 5.18, 'SD': 1.44}, 4: {'SUV_max': 10.75, 'SUV_mean': 6.59, 'SD': 1.9}, 5: {'SUV_max': 30.57, 'SUV_mean': 19.31, 'SD': 4.84}, 6: {'SUV_max': 24.6, 'SUV_mean': 13.8, 'SD': 3.07}, 7: {'SUV_max': 24.11, 'SUV_mean': 14.66, 'SD': 3.58}, 8: {'SUV_max': 20.52, 'SUV_mean': 12.37, 'SD': 3.15}, 9: {'SUV_max': 11.77, 'SUV_mean': 6.99, 'SD': 2.01}, 10: {'SUV_max': 27.58, 'SUV_mean': 16.78, 'SD': 4.52}, 11: {'SUV_max': 20.89, 'SUV_mean': 14.11, 'SD': 4.03}, 12: {'SUV_max': 22.39, 'SUV_mean': 12.13, 'SD': 2.86}, 13: {'SUV_max': 24.26, 'SUV_mean': 13.26, 'SD': 2.94}, 14: {'SUV_max': 18.06, 'SUV_mean': 9.83, 'SD': 2.14}, 15: {'SUV_max': 23.74, 'SUV_mean': 13.7, 'SD': 2.87}, 16: {'SUV_max': 24.35, 'SUV_mean': 13.61, 'SD': 3.33}, 17: {'SUV_max': 13.43, 'SUV_mean': 7.86, 'SD': 2.11}, 18: {'SUV_max': 10.35, 'SUV_mean': 5.98, 'SD': 1.78}, 19: {'SUV_max': 22.76, 'SUV_mean': 13.01, 'SD': 3.02}, 20: {'SUV_max': 27.53, 'SUV_mean': 14.14, 'SD': 2.76}, 21: {'SUV_max': 28.31, 'SUV_mean': 16.8, 'SD': 3.49}, 22: {'SUV_max': 33.88, 'SUV_mean': 19.03, 'SD': 4.33}, 23: {'SUV_max': 29.86, 'SUV_mean': 18.36, 'SD': 4.6}, 24: {'SUV_max': 21.96, 'SUV_mean': 12.14, 'SD': 2.69}, 25: {'SUV_max': 17.21, 'SUV_mean': 9.71, 'SD': 2.56}, 26: {'SUV_max': 8.17, 'SUV_mean': 4.55, 'SD': 1.01}, 27: {'SUV_max': 17.71, 'SUV_mean': 10.35, 'SD': 2.51}, 28: {'SUV_max': 15.29, 'SUV_mean': 8.57, 'SD': 2.1}, 29: {'SUV_max': 20.75, 'SUV_mean': 11.83, 'SD': 2.71}, 30: {'SUV_max': 21.72, 'SUV_mean': 13.45, 'SD': 3.46}, 31: {'SUV_max': 19.03, 'SUV_mean': 10.83, 'SD': 2.64}, 32: {'SUV_max': 25.37, 'SUV_mean': 14.11, 'SD': 2.65}, 33: {'SUV_max': 20.14, 'SUV_mean': 11.03, 'SD': 2.47}, 34: {'SUV_max': 26.13, 'SUV_mean': 16.61, 'SD': 3.9}, 35: {'SUV_max': 9.96, 'SUV_mean': 5.94, 'SD': 1.61}, 36: {'SUV_max': 21.26, 'SUV_mean': 12.37, 'SD': 3.05}, 37: {'SUV_max': 15.62, 'SUV_mean': 7.52, 'SD': 1.34}, 38: {'SUV_max': 27.02, 'SUV_mean': 17.45, 'SD': 4.4}, 39: {'SUV_max': 17.89, 'SUV_mean': 10.04, 'SD': 2.7}, 40: {'SUV_max': 24.75, 'SUV_mean': 14.73, 'SD': 3.91}, 41: {'SUV_max': 12.53, 'SUV_mean': 6.54, 'SD': 1.47}, 42: {'SUV_max': 20.52, 'SUV_mean': 13.07, 'SD': 3.23}, 43: {'SUV_max': 16.5, 'SUV_mean': 10.43, 'SD': 2.76}, 44: {'SUV_max': 5.66, 'SUV_mean': 3.28, 'SD': 0.85}, 45: {'SUV_max': 15.6, 'SUV_mean': 9.93, 'SD': 2.88}, 46: {'SUV_max': 37.46, 'SUV_mean': 21.59, 'SD': 4.33}, 47: {'SUV_max': 24.55, 'SUV_mean': 16.13, 'SD': 5.2}, 48: {'SUV_max': 9.63, 'SUV_mean': 5.44, 'SD': 1.23}, 49: {'SUV_max': 11.85, 'SUV_mean': 8.18, 'SD': 2.43}, 50: {'SUV_max': 17.19, 'SUV_mean': 10.82, 'SD': 2.58}, 51: {'SUV_max': 11.86, 'SUV_mean': 7.37, 'SD': 2.01}, 52: {'SUV_max': 19.93, 'SUV_mean': 13.14, 'SD': 4.78}, 53: {'SUV_max': 19.3, 'SUV_mean': 12.85, 'SD': 3.25}, 54: {'SUV_max': 9.73, 'SUV_mean': 6.33, 'SD': 1.73}, 55: {'SUV_max': 25.18, 'SUV_mean': 17.4, 'SD': 4.92}, 56: {'SUV_max': 27.23, 'SUV_mean': 17.14, 'SD': 5.48}, 57: {'SUV_max': 14.36, 'SUV_mean': 10.3, 'SD': 2.3}, 58: {'SUV_max': 5.44, 'SUV_mean': 3.46, 'SD': 1.08}, 59: {'SUV_max': 3.26, 'SUV_mean': 2.02, 'SD': 0.7}, 60: {'SUV_max': 10.6, 'SUV_mean': 7.08, 'SD': 2.48}, 61: {'SUV_max': 5.41, 'SUV_mean': 3.03, 'SD': 0.91}, 62: {'SUV_max': 6.36, 'SUV_mean': 3.85, 'SD': 1.05}, 63: {'SUV_max': 8.87, 'SUV_mean': 6.49, 'SD': 1.56}, 64: {'SUV_max': 13.52, 'SUV_mean': 8.64, 'SD': 2.51}, 65: {'SUV_max': 16.24, 'SUV_mean': 11.96, 'SD': 3.07}, 66: {'SUV_max': 2.98, 'SUV_mean': 1.63, 'SD': 0.46}, 67: {'SUV_max': 6.83, 'SUV_mean': 3.79, 'SD': 0.95}, 68: {'SUV_max': 4.29, 'SUV_mean': 2.45, 'SD': 0.65}, 69: {'SUV_max': 3.03, 'SUV_mean': 1.74, 'SD': 0.49}, 70: {'SUV_max': 6.28, 'SUV_mean': 3.64, 'SD': 0.86}, 71: {'SUV_max': 2.94, 'SUV_mean': 1.79, 'SD': 0.38}, 72: {'SUV_max': 6.18, 'SUV_mean': 3.33, 'SD': 0.71}, 73: {'SUV_max': 5.58, 'SUV_mean': 3.5, 'SD': 1.15}, 74: {'SUV_max': 4.61, 'SUV_mean': 2.7, 'SD': 0.73}, 75: {'SUV_max': 4.55, 'SUV_mean': 2.91, 'SD': 0.85}, 76: {'SUV_max': 6.27, 'SUV_mean': 3.89, 'SD': 1.29}, 77: {'SUV_max': 3.66, 'SUV_mean': 2.42, 'SD': 0.75}, 78: {'SUV_max': 4.29, 'SUV_mean': 2.44, 'SD': 0.69}, 79: {'SUV_max': 17.19, 'SUV_mean': 10.82, 'SD': 2.58}, 80: {'SUV_max': 8.18, 'SUV_mean': 5.17, 'SD': 1.35}, 81: {'SUV_max': 4.52, 'SUV_mean': 2.48, 'SD': 0.58}, 82: {'SUV_max': 3.23, 'SUV_mean': 1.7, 'SD': 0.37}, 83: {'SUV_max': 4.81, 'SUV_mean': 3.04, 'SD': 0.76}, 84: {'SUV_max': 5.04, 'SUV_mean': 2.93, 'SD': 0.74}, 85: {'SUV_max': 6.04, 'SUV_mean': 3.85, 'SD': 0.85}, 86: {'SUV_max': 4.05, 'SUV_mean': 2.24, 'SD': 0.56}, 87: {'SUV_max': 4.86, 'SUV_mean': 3.07, 'SD': 0.7}, 88: {'SUV_max': 5.07, 'SUV_mean': 2.91, 'SD': 0.64}, 89: {'SUV_max': 23.18, 'SUV_mean': 16.84, 'SD': 4.12}, 90: {'SUV_max': 5.7, 'SUV_mean': 3.36, 'SD': 1.03}, 91: {'SUV_max': 6.12, 'SUV_mean': 3.48, 'SD': 0.8}, 92: {'SUV_max': 7.29, 'SUV_mean': 4.46, 'SD': 1.18}, 93: {'SUV_max': 18.29, 'SUV_mean': 11.53, 'SD': 3.2}, 94: {'SUV_max': 9.95, 'SUV_mean': 6.43, 'SD': 1.73}, 95: {'SUV_max': 8.8, 'SUV_mean': 5.05, 'SD': 1.37}, 96: {'SUV_max': 7.22, 'SUV_mean': 4.04, 'SD': 0.96}, 97: {'SUV_max': 9.28, 'SUV_mean': 5.92, 'SD': 1.86}, 98: {'SUV_max': 7.96, 'SUV_mean': 4.57, 'SD': 1.14}, 99: {'SUV_max': 11.35, 'SUV_mean': 7.63, 'SD': 2.09}, 100: {'SUV_max': 18.41, 'SUV_mean': 11.86, 'SD': 3.56}, 101: {'SUV_max': 10.42, 'SUV_mean': 5.84, 'SD': 1.68}, 102: {'SUV_max': 6.23, 'SUV_mean': 3.61, 'SD': 0.83}, 103: {'SUV_max': 19.19, 'SUV_mean': 11.1, 'SD': 3.46}, 104: {'SUV_max': 14.05, 'SUV_mean': 7.92, 'SD': 1.9}}\n",
      "[]\n",
      "[93, 'ELLIPSE', 0.2699999999999996]\n",
      "[]\n",
      "11\n"
     ]
    },
    {
     "name": "stdout",
     "output_type": "stream",
     "text": [
      "taille mask :  (168, 168, 479, 33)\n",
      "FALSE MASK\n",
      "{1: {'SUV_max': 24.73, 'SUV_mean': 14.72, 'SD': 3.45}, 2: {'SUV_max': 14.39, 'SUV_mean': 7.65, 'SD': 1.85}, 3: {'SUV_max': 6.34, 'SUV_mean': 3.39, 'SD': 0.68}, 4: {'SUV_max': 12.02, 'SUV_mean': 6.41, 'SD': 1.36}, 5: {'SUV_max': 12.46, 'SUV_mean': 7.26, 'SD': 1.92}, 6: {'SUV_max': 8.18, 'SUV_mean': 4.56, 'SD': 0.96}, 7: {'SUV_max': 6.67, 'SUV_mean': 3.99, 'SD': 0.99}, 8: {'SUV_max': 6.85, 'SUV_mean': 3.9, 'SD': 0.83}, 9: {'SUV_max': 6.39, 'SUV_mean': 3.79, 'SD': 0.89}, 10: {'SUV_max': 8.56, 'SUV_mean': 4.73, 'SD': 1.08}, 11: {'SUV_max': 4.04, 'SUV_mean': 2.32, 'SD': 0.54}, 12: {'SUV_max': 30.34, 'SUV_mean': 18.24, 'SD': 3.66}, 13: {'SUV_max': 27.85, 'SUV_mean': 16.73, 'SD': 4.42}, 14: {'SUV_max': 30.53, 'SUV_mean': 18.16, 'SD': 3.53}, 15: {'SUV_max': 25.05, 'SUV_mean': 14.43, 'SD': 4.13}, 16: {'SUV_max': 11.69, 'SUV_mean': 6.14, 'SD': 1.44}, 17: {'SUV_max': 21.8, 'SUV_mean': 11.6, 'SD': 2.82}, 18: {'SUV_max': 25.19, 'SUV_mean': 13.27, 'SD': 2.94}, 19: {'SUV_max': 30.01, 'SUV_mean': 18.18, 'SD': 3.55}, 20: {'SUV_max': 30.01, 'SUV_mean': 17.76, 'SD': 3.28}, 21: {'SUV_max': 28.16, 'SUV_mean': 16.85, 'SD': 3.12}, 22: {'SUV_max': 10.65, 'SUV_mean': 5.88, 'SD': 1.11}, 23: {'SUV_max': 18.75, 'SUV_mean': 9.95, 'SD': 2.08}, 24: {'SUV_max': 22.29, 'SUV_mean': 14.22, 'SD': 3.25}, 25: {'SUV_max': 22.57, 'SUV_mean': 13.3, 'SD': 3.01}, 26: {'SUV_max': 25.68, 'SUV_mean': 15.63, 'SD': 3.47}, 27: {'SUV_max': 18.8, 'SUV_mean': 10.17, 'SD': 2.3}, 28: {'SUV_max': 23.39, 'SUV_mean': 13.28, 'SD': 3.11}, 29: {'SUV_max': 28.23, 'SUV_mean': 16.53, 'SD': 3.35}, 30: {'SUV_max': 21.42, 'SUV_mean': 11.1, 'SD': 2.26}, 31: {'SUV_max': 9.66, 'SUV_mean': 5.16, 'SD': 1.06}, 32: {'SUV_max': 13.39, 'SUV_mean': 6.77, 'SD': 1.41}, 33: {'SUV_max': 18.02, 'SUV_mean': 9.95, 'SD': 1.96}}\n",
      "[2, 'ELLIPSE', 0.8100000000000005, 3, 'ELLIPSE', 1.2999999999999998]\n",
      "[2, 'ELLIPSE', 0.41999999999999993, 3, 'ELLIPSE', 0.33000000000000007]\n",
      "[2, 'ELLIPSE', 0.1200000000000001]\n",
      "12\n",
      "taille mask :  (168, 168, 374, 10)\n",
      "MASK CORRECT\n",
      "EXPORT NIFTI PT\n",
      "EXPORT NIFTI CT\n",
      "EXPORT NIFTI MASK\n",
      "13\n",
      "taille mask :  (168, 168, 324, 13)\n",
      "MASK CORRECT\n",
      "EXPORT NIFTI PT\n",
      "EXPORT NIFTI CT\n",
      "EXPORT NIFTI MASK\n",
      "14\n",
      "taille mask :  (144, 144, 276, 2)\n",
      "FALSE MASK\n",
      "{1: {'SUV_max': 20.52, 'SUV_mean': 13.71, 'SD': 3.51}, 2: {'SUV_max': 19.84, 'SUV_mean': 12.09, 'SD': 3.51}}\n",
      "[1, 'ELLIPSE', 16.689999999999998, 2, 'ELLIPSE', 16.15]\n",
      "[1, 'ELLIPSE', 10.780000000000001, 2, 'ELLIPSE', 9.719999999999999]\n",
      "[1, 'ELLIPSE', 3.01, 2, 'ELLIPSE', 3.01]\n",
      "15\n",
      "taille mask :  (128, 128, 287, 17)\n",
      "MASK CORRECT\n",
      "EXPORT NIFTI PT\n",
      "EXPORT NIFTI CT\n",
      "EXPORT NIFTI MASK\n",
      "16\n",
      "taille mask :  (128, 128, 287, 29)\n",
      "MASK CORRECT\n",
      "EXPORT NIFTI PT\n",
      "EXPORT NIFTI CT\n",
      "EXPORT NIFTI MASK\n",
      "17\n",
      "taille mask :  (256, 256, 299, 18)\n",
      "FALSE MASK\n",
      "{1: {'SUV_max': 24.08, 'SUV_mean': 17.09, 'SD': 2.72}, 2: {'SUV_max': 21.9, 'SUV_mean': 13.91, 'SD': 2.62}, 3: {'SUV_max': 8.7, 'SUV_mean': 5.09, 'SD': 1.34}, 4: {'SUV_max': 29.22, 'SUV_mean': 17.58, 'SD': 3.07}, 5: {'SUV_max': 20.26, 'SUV_mean': 11.37, 'SD': 2.07}, 6: {'SUV_max': 10.77, 'SUV_mean': 6.23, 'SD': 1.68}, 7: {'SUV_max': 20.37, 'SUV_mean': 12.89, 'SD': 2.75}, 8: {'SUV_max': 15.86, 'SUV_mean': 9.26, 'SD': 2.24}, 9: {'SUV_max': 7.39, 'SUV_mean': 4.36, 'SD': 1.15}, 10: {'SUV_max': 16.51, 'SUV_mean': 11.28, 'SD': 2.42}, 11: {'SUV_max': 8.27, 'SUV_mean': 5.07, 'SD': 1.29}, 12: {'SUV_max': 5.51, 'SUV_mean': 3.21, 'SD': 0.65}, 13: {'SUV_max': 10.27, 'SUV_mean': 5.35, 'SD': 0.98}, 14: {'SUV_max': 11.6, 'SUV_mean': 6.7, 'SD': 1.95}, 15: {'SUV_max': 12.29, 'SUV_mean': 7.63, 'SD': 2.0}, 16: {'SUV_max': 6.87, 'SUV_mean': 4.35, 'SD': 1.25}, 17: {'SUV_max': 13.96, 'SUV_mean': 8.66, 'SD': 2.47}, 18: {'SUV_max': 4.64, 'SUV_mean': 2.55, 'SD': 0.69}}\n",
      "[17, 'ELLIPSE', 2.41]\n",
      "[17, 'ELLIPSE', 1.5499999999999998]\n",
      "[17, 'ELLIPSE', 0.5600000000000003]\n",
      "18\n",
      "taille mask :  (200, 200, 481, 109)\n",
      "FALSE MASK\n",
      "{1: {'SUV_max': 23.25, 'SUV_mean': 14.59, 'SD': 4.83}, 2: {'SUV_max': 27.53, 'SUV_mean': 19.87, 'SD': 5.21}, 3: {'SUV_max': 32.51, 'SUV_mean': 20.82, 'SD': 4.59}, 4: {'SUV_max': 24.33, 'SUV_mean': 16.05, 'SD': 4.54}, 5: {'SUV_max': 28.97, 'SUV_mean': 17.86, 'SD': 4.42}, 6: {'SUV_max': 21.12, 'SUV_mean': 12.68, 'SD': 3.82}, 7: {'SUV_max': 17.47, 'SUV_mean': 11.6, 'SD': 3.44}, 8: {'SUV_max': 21.9, 'SUV_mean': 12.79, 'SD': 3.5}, 9: {'SUV_max': 36.0, 'SUV_mean': 21.02, 'SD': 4.56}, 10: {'SUV_max': 27.77, 'SUV_mean': 17.28, 'SD': 5.94}, 11: {'SUV_max': 15.51, 'SUV_mean': 10.68, 'SD': 2.73}, 12: {'SUV_max': 20.5, 'SUV_mean': 14.07, 'SD': 3.95}, 13: {'SUV_max': 13.76, 'SUV_mean': 9.17, 'SD': 2.59}, 14: {'SUV_max': 38.87, 'SUV_mean': 23.88, 'SD': 3.89}, 15: {'SUV_max': 41.45, 'SUV_mean': 24.54, 'SD': 4.6}, 16: {'SUV_max': 36.21, 'SUV_mean': 23.41, 'SD': 6.11}, 17: {'SUV_max': 32.91, 'SUV_mean': 21.17, 'SD': 5.25}, 18: {'SUV_max': 13.04, 'SUV_mean': 8.49, 'SD': 2.36}, 19: {'SUV_max': 35.41, 'SUV_mean': 20.45, 'SD': 3.82}, 20: {'SUV_max': 17.91, 'SUV_mean': 10.48, 'SD': 3.49}, 21: {'SUV_max': 17.48, 'SUV_mean': 10.4, 'SD': 2.9}, 22: {'SUV_max': 41.0, 'SUV_mean': 23.72, 'SD': 4.66}, 23: {'SUV_max': 40.78, 'SUV_mean': 24.63, 'SD': 6.63}, 24: {'SUV_max': 37.91, 'SUV_mean': 21.08, 'SD': 5.12}, 25: {'SUV_max': 40.41, 'SUV_mean': 22.5, 'SD': 5.15}, 26: {'SUV_max': 23.97, 'SUV_mean': 15.11, 'SD': 4.63}, 27: {'SUV_max': 8.95, 'SUV_mean': 6.29, 'SD': 1.6}, 28: {'SUV_max': 34.43, 'SUV_mean': 20.88, 'SD': 5.27}, 29: {'SUV_max': 18.34, 'SUV_mean': 11.6, 'SD': 3.02}, 30: {'SUV_max': 14.48, 'SUV_mean': 9.18, 'SD': 3.02}, 31: {'SUV_max': 22.39, 'SUV_mean': 13.88, 'SD': 3.32}, 32: {'SUV_max': 22.99, 'SUV_mean': 13.27, 'SD': 3.18}, 33: {'SUV_max': 8.31, 'SUV_mean': 4.36, 'SD': 0.9}, 34: {'SUV_max': 19.12, 'SUV_mean': 12.1, 'SD': 3.85}, 35: {'SUV_max': 11.23, 'SUV_mean': 7.08, 'SD': 2.05}, 36: {'SUV_max': 8.84, 'SUV_mean': 4.96, 'SD': 1.15}, 37: {'SUV_max': 19.01, 'SUV_mean': 9.5, 'SD': 1.44}, 38: {'SUV_max': 8.87, 'SUV_mean': 5.47, 'SD': 1.66}, 39: {'SUV_max': 8.85, 'SUV_mean': 4.96, 'SD': 1.42}, 40: {'SUV_max': 15.53, 'SUV_mean': 8.51, 'SD': 1.3}, 41: {'SUV_max': 28.15, 'SUV_mean': 15.53, 'SD': 4.18}, 42: {'SUV_max': 36.11, 'SUV_mean': 20.71, 'SD': 4.46}, 43: {'SUV_max': 6.93, 'SUV_mean': 3.55, 'SD': 0.69}, 44: {'SUV_max': 6.91, 'SUV_mean': 4.0, 'SD': 1.11}, 45: {'SUV_max': 13.1, 'SUV_mean': 7.9, 'SD': 1.16}, 46: {'SUV_max': 15.92, 'SUV_mean': 9.72, 'SD': 2.76}, 47: {'SUV_max': 8.37, 'SUV_mean': 4.89, 'SD': 1.24}, 48: {'SUV_max': 17.94, 'SUV_mean': 9.8, 'SD': 2.02}, 49: {'SUV_max': 19.67, 'SUV_mean': 11.37, 'SD': 2.81}, 50: {'SUV_max': 7.43, 'SUV_mean': 4.28, 'SD': 1.02}, 51: {'SUV_max': 18.41, 'SUV_mean': 8.47, 'SD': 0.84}, 52: {'SUV_max': 5.7, 'SUV_mean': 3.3, 'SD': 0.63}, 53: {'SUV_max': 39.37, 'SUV_mean': 24.07, 'SD': 5.01}, 54: {'SUV_max': 27.67, 'SUV_mean': 17.94, 'SD': 4.44}, 55: {'SUV_max': 6.85, 'SUV_mean': 3.85, 'SD': 0.98}, 56: {'SUV_max': 10.31, 'SUV_mean': 5.72, 'SD': 1.36}, 57: {'SUV_max': 12.56, 'SUV_mean': 8.29, 'SD': 1.49}, 58: {'SUV_max': 7.12, 'SUV_mean': 4.21, 'SD': 1.09}, 59: {'SUV_max': 5.48, 'SUV_mean': 3.05, 'SD': 0.71}, 60: {'SUV_max': 25.25, 'SUV_mean': 16.96, 'SD': 4.14}, 61: {'SUV_max': 7.81, 'SUV_mean': 4.16, 'SD': 0.88}, 62: {'SUV_max': 14.34, 'SUV_mean': 8.92, 'SD': 2.47}, 63: {'SUV_max': 18.78, 'SUV_mean': 10.15, 'SD': 1.73}, 64: {'SUV_max': 17.68, 'SUV_mean': 9.59, 'SD': 1.97}, 65: {'SUV_max': 6.41, 'SUV_mean': 3.49, 'SD': 0.93}, 66: {'SUV_max': 19.69, 'SUV_mean': 12.52, 'SD': 3.09}, 67: {'SUV_max': 6.56, 'SUV_mean': 3.83, 'SD': 0.91}, 68: {'SUV_max': 16.32, 'SUV_mean': 9.24, 'SD': 1.61}, 69: {'SUV_max': 6.97, 'SUV_mean': 3.71, 'SD': 0.85}, 70: {'SUV_max': 19.77, 'SUV_mean': 12.45, 'SD': 3.46}, 71: {'SUV_max': 17.83, 'SUV_mean': 10.12, 'SD': 2.02}, 72: {'SUV_max': 24.04, 'SUV_mean': 16.29, 'SD': 4.82}, 73: {'SUV_max': 4.7, 'SUV_mean': 3.05, 'SD': 0.52}, 74: {'SUV_max': 39.52, 'SUV_mean': 23.25, 'SD': 6.0}, 75: {'SUV_max': 6.74, 'SUV_mean': 3.88, 'SD': 1.02}, 76: {'SUV_max': 30.63, 'SUV_mean': 20.11, 'SD': 4.69}, 77: {'SUV_max': 17.38, 'SUV_mean': 11.18, 'SD': 3.43}, 78: {'SUV_max': 27.14, 'SUV_mean': 16.05, 'SD': 5.19}, 79: {'SUV_max': 19.26, 'SUV_mean': 11.98, 'SD': 3.56}, 80: {'SUV_max': 11.37, 'SUV_mean': 6.81, 'SD': 2.42}, 81: {'SUV_max': 21.72, 'SUV_mean': 13.37, 'SD': 3.36}, 82: {'SUV_max': 10.31, 'SUV_mean': 6.86, 'SD': 1.85}, 83: {'SUV_max': 25.67, 'SUV_mean': 16.59, 'SD': 4.51}, 84: {'SUV_max': 11.5, 'SUV_mean': 7.3, 'SD': 2.19}, 85: {'SUV_max': 29.47, 'SUV_mean': 17.73, 'SD': 5.34}, 86: {'SUV_max': 34.15, 'SUV_mean': 22.38, 'SD': 5.98}, 87: {'SUV_max': 15.33, 'SUV_mean': 9.39, 'SD': 3.88}, 88: {'SUV_max': 32.93, 'SUV_mean': 20.97, 'SD': 5.78}, 89: {'SUV_max': 32.91, 'SUV_mean': 20.39, 'SD': 6.33}, 90: {'SUV_max': 10.99, 'SUV_mean': 7.51, 'SD': 1.9}, 91: {'SUV_max': 13.0, 'SUV_mean': 8.9, 'SD': 2.54}, 92: {'SUV_max': 29.71, 'SUV_mean': 17.82, 'SD': 6.35}, 93: {'SUV_max': 30.0, 'SUV_mean': 18.39, 'SD': 5.72}, 94: {'SUV_max': 15.97, 'SUV_mean': 10.27, 'SD': 3.4}, 95: {'SUV_max': 27.21, 'SUV_mean': 16.44, 'SD': 4.29}, 96: {'SUV_max': 10.47, 'SUV_mean': 7.32, 'SD': 1.8}, 97: {'SUV_max': 16.13, 'SUV_mean': 10.04, 'SD': 2.89}, 98: {'SUV_max': 9.97, 'SUV_mean': 6.66, 'SD': 1.76}, 99: {'SUV_max': 8.3, 'SUV_mean': 5.31, 'SD': 1.55}, 100: {'SUV_max': 12.39, 'SUV_mean': 7.57, 'SD': 2.21}, 101: {'SUV_max': 31.87, 'SUV_mean': 18.8, 'SD': 5.39}, 102: {'SUV_max': 37.17, 'SUV_mean': 22.32, 'SD': 4.79}, 103: {'SUV_max': 19.03, 'SUV_mean': 12.51, 'SD': 3.01}, 104: {'SUV_max': 10.04, 'SUV_mean': 6.11, 'SD': 1.68}, 105: {'SUV_max': 27.35, 'SUV_mean': 16.41, 'SD': 4.02}, 106: {'SUV_max': 20.67, 'SUV_mean': 16.95, 'SD': 6.18}, 107: {'SUV_max': 15.12, 'SUV_mean': 10.43, 'SD': 2.76}, 108: {'SUV_max': 7.36, 'SUV_mean': 4.68, 'SD': 1.59}, 109: {'SUV_max': 15.59, 'SUV_mean': 10.2, 'SD': 3.14}}\n",
      "[]\n",
      "[101, 'ELLIPSE', 0.120000000000001]\n",
      "[]\n",
      "19\n"
     ]
    },
    {
     "name": "stdout",
     "output_type": "stream",
     "text": [
      "taille mask :  (144, 144, 255, 28)\n",
      "FALSE MASK\n",
      "{1: {'SUV_max': 18.72, 'SUV_mean': 10.57, 'SD': 2.28}, 2: {'SUV_max': 20.57, 'SUV_mean': 11.44, 'SD': 2.37}, 3: {'SUV_max': 20.57, 'SUV_mean': 11.3, 'SD': 2.19}, 4: {'SUV_max': 21.27, 'SUV_mean': 11.64, 'SD': 2.18}, 5: {'SUV_max': 21.43, 'SUV_mean': 11.82, 'SD': 2.2}, 6: {'SUV_max': 14.0, 'SUV_mean': 8.25, 'SD': 2.19}, 7: {'SUV_max': 15.32, 'SUV_mean': 8.7, 'SD': 1.89}, 8: {'SUV_max': 18.69, 'SUV_mean': 10.99, 'SD': 2.3}, 9: {'SUV_max': 17.08, 'SUV_mean': 9.64, 'SD': 2.19}, 10: {'SUV_max': 18.26, 'SUV_mean': 11.04, 'SD': 2.75}, 11: {'SUV_max': 16.92, 'SUV_mean': 9.95, 'SD': 2.3}, 12: {'SUV_max': 14.23, 'SUV_mean': 8.04, 'SD': 2.2}, 13: {'SUV_max': 24.71, 'SUV_mean': 14.48, 'SD': 3.06}, 14: {'SUV_max': 13.12, 'SUV_mean': 7.87, 'SD': 1.76}, 15: {'SUV_max': 8.2, 'SUV_mean': 5.46, 'SD': 1.46}, 16: {'SUV_max': 9.73, 'SUV_mean': 6.06, 'SD': 1.41}, 17: {'SUV_max': 12.8, 'SUV_mean': 5.97, 'SD': 0.71}, 18: {'SUV_max': 7.72, 'SUV_mean': 4.79, 'SD': 0.93}, 19: {'SUV_max': 7.68, 'SUV_mean': 4.43, 'SD': 0.73}, 20: {'SUV_max': 6.82, 'SUV_mean': 3.55, 'SD': 0.68}, 21: {'SUV_max': 10.96, 'SUV_mean': 6.39, 'SD': 1.4}, 22: {'SUV_max': 10.96, 'SUV_mean': 5.9, 'SD': 1.2}, 23: {'SUV_max': 11.25, 'SUV_mean': 5.75, 'SD': 0.99}, 24: {'SUV_max': 11.25, 'SUV_mean': 5.82, 'SD': 0.98}, 25: {'SUV_max': 14.82, 'SUV_mean': 7.93, 'SD': 1.69}, 26: {'SUV_max': 14.33, 'SUV_mean': 7.34, 'SD': 1.26}, 27: {'SUV_max': 8.91, 'SUV_mean': 5.09, 'SD': 1.09}, 28: {'SUV_max': 9.42, 'SUV_mean': 5.15, 'SD': 1.09}}\n",
      "[26, 'POLYGON', 3.4000000000000004]\n",
      "[26, 'POLYGON', 1.0999999999999996]\n",
      "[]\n",
      "20\n",
      "taille mask :  (144, 144, 255, 31)\n",
      "FALSE MASK\n",
      "{1: {'SUV_max': 7.89, 'SUV_mean': 4.83, 'SD': 1.24}, 2: {'SUV_max': 11.62, 'SUV_mean': 7.03, 'SD': 1.64}, 3: {'SUV_max': 10.33, 'SUV_mean': 5.95, 'SD': 1.42}, 4: {'SUV_max': 5.36, 'SUV_mean': 3.27, 'SD': 0.87}, 5: {'SUV_max': 14.03, 'SUV_mean': 8.24, 'SD': 1.9}, 6: {'SUV_max': 10.61, 'SUV_mean': 6.93, 'SD': 1.56}, 7: {'SUV_max': 5.39, 'SUV_mean': 3.22, 'SD': 0.61}, 8: {'SUV_max': 10.15, 'SUV_mean': 5.97, 'SD': 1.33}, 9: {'SUV_max': 4.63, 'SUV_mean': 3.21, 'SD': 0.56}, 10: {'SUV_max': 3.41, 'SUV_mean': 3.02, 'SD': 0.25}, 11: {'SUV_max': 6.64, 'SUV_mean': 3.69, 'SD': 0.9}, 12: {'SUV_max': 4.61, 'SUV_mean': 3.09, 'SD': 0.56}, 13: {'SUV_max': 10.99, 'SUV_mean': 6.64, 'SD': 1.71}, 14: {'SUV_max': 8.22, 'SUV_mean': 4.77, 'SD': 1.22}, 15: {'SUV_max': 4.52, 'SUV_mean': 3.12, 'SD': 0.52}, 16: {'SUV_max': 6.77, 'SUV_mean': 3.94, 'SD': 0.92}, 17: {'SUV_max': 4.77, 'SUV_mean': 3.09, 'SD': 0.58}, 18: {'SUV_max': 5.2, 'SUV_mean': 3.1, 'SD': 0.6}, 19: {'SUV_max': 5.2, 'SUV_mean': 3.24, 'SD': 0.76}, 20: {'SUV_max': 7.96, 'SUV_mean': 4.68, 'SD': 1.21}, 21: {'SUV_max': 7.05, 'SUV_mean': 4.3, 'SD': 1.01}, 22: {'SUV_max': 12.72, 'SUV_mean': 7.23, 'SD': 1.89}, 23: {'SUV_max': 4.09, 'SUV_mean': 3.04, 'SD': 0.39}, 24: {'SUV_max': 5.77, 'SUV_mean': 3.53, 'SD': 0.89}, 25: {'SUV_max': 4.21, 'SUV_mean': 3.09, 'SD': 0.46}, 26: {'SUV_max': 2.99, 'SUV_mean': 1.82, 'SD': 0.42}, 27: {'SUV_max': 11.7, 'SUV_mean': 6.24, 'SD': 1.92}, 28: {'SUV_max': 4.29, 'SUV_mean': 2.38, 'SD': 0.67}, 29: {'SUV_max': 4.34, 'SUV_mean': 2.54, 'SD': 0.62}, 30: {'SUV_max': 4.93, 'SUV_mean': 2.91, 'SD': 0.64}, 31: {'SUV_max': 4.85, 'SUV_mean': 2.86, 'SD': 0.68}}\n",
      "[]\n",
      "[27, 'ELLIPSE', 0.28000000000000025]\n",
      "[]\n",
      "21\n",
      "taille mask :  (256, 256, 299, 38)\n",
      "MASK CORRECT\n",
      "EXPORT NIFTI PT\n",
      "EXPORT NIFTI CT\n",
      "EXPORT NIFTI MASK\n",
      "22\n",
      "taille mask :  (168, 168, 324, 61)\n",
      "FALSE MASK\n",
      "{1: {'SUV_max': 22.53, 'SUV_mean': 13.69, 'SD': 3.33}, 2: {'SUV_max': 19.0, 'SUV_mean': 11.91, 'SD': 2.86}, 3: {'SUV_max': 13.38, 'SUV_mean': 7.65, 'SD': 1.77}, 4: {'SUV_max': 15.59, 'SUV_mean': 8.77, 'SD': 1.96}, 5: {'SUV_max': 18.34, 'SUV_mean': 10.21, 'SD': 2.17}, 6: {'SUV_max': 15.39, 'SUV_mean': 8.91, 'SD': 1.9}, 7: {'SUV_max': 19.11, 'SUV_mean': 10.49, 'SD': 1.99}, 8: {'SUV_max': 25.33, 'SUV_mean': 14.71, 'SD': 3.81}, 9: {'SUV_max': 16.22, 'SUV_mean': 9.15, 'SD': 2.02}, 10: {'SUV_max': 20.28, 'SUV_mean': 11.39, 'SD': 2.39}, 11: {'SUV_max': 12.86, 'SUV_mean': 7.69, 'SD': 2.16}, 12: {'SUV_max': 16.27, 'SUV_mean': 9.12, 'SD': 2.9}, 13: {'SUV_max': 19.48, 'SUV_mean': 11.87, 'SD': 2.91}, 14: {'SUV_max': 19.45, 'SUV_mean': 11.35, 'SD': 2.68}, 15: {'SUV_max': 29.9, 'SUV_mean': 17.45, 'SD': 3.83}, 16: {'SUV_max': 14.62, 'SUV_mean': 7.7, 'SD': 1.54}, 17: {'SUV_max': 15.54, 'SUV_mean': 8.5, 'SD': 2.03}, 18: {'SUV_max': 15.16, 'SUV_mean': 9.03, 'SD': 2.09}, 19: {'SUV_max': 6.08, 'SUV_mean': 3.74, 'SD': 0.91}, 20: {'SUV_max': 14.48, 'SUV_mean': 8.64, 'SD': 2.23}, 21: {'SUV_max': 8.14, 'SUV_mean': 4.36, 'SD': 1.29}, 22: {'SUV_max': 28.09, 'SUV_mean': 15.09, 'SD': 5.08}, 23: {'SUV_max': 19.72, 'SUV_mean': 10.91, 'SD': 2.63}, 24: {'SUV_max': 10.73, 'SUV_mean': 6.75, 'SD': 1.83}, 25: {'SUV_max': 21.75, 'SUV_mean': 12.13, 'SD': 2.96}, 26: {'SUV_max': 19.72, 'SUV_mean': 11.29, 'SD': 2.46}, 27: {'SUV_max': 16.64, 'SUV_mean': 10.28, 'SD': 2.79}, 28: {'SUV_max': 11.39, 'SUV_mean': 6.15, 'SD': 1.28}, 29: {'SUV_max': 19.5, 'SUV_mean': 11.23, 'SD': 2.33}, 30: {'SUV_max': 15.16, 'SUV_mean': 7.84, 'SD': 1.58}, 31: {'SUV_max': 16.59, 'SUV_mean': 9.37, 'SD': 2.68}, 32: {'SUV_max': 8.5, 'SUV_mean': 4.58, 'SD': 1.25}, 33: {'SUV_max': 7.99, 'SUV_mean': 4.65, 'SD': 1.09}, 34: {'SUV_max': 10.96, 'SUV_mean': 6.34, 'SD': 1.56}, 35: {'SUV_max': 2.92, 'SUV_mean': 1.79, 'SD': 0.47}, 36: {'SUV_max': 27.71, 'SUV_mean': 15.83, 'SD': 4.39}, 37: {'SUV_max': 27.82, 'SUV_mean': 14.08, 'SD': 3.28}, 38: {'SUV_max': 18.23, 'SUV_mean': 11.04, 'SD': 2.29}, 39: {'SUV_max': 19.19, 'SUV_mean': 11.9, 'SD': 2.83}, 40: {'SUV_max': 12.98, 'SUV_mean': 7.77, 'SD': 2.3}, 41: {'SUV_max': 16.85, 'SUV_mean': 8.96, 'SD': 1.79}, 42: {'SUV_max': 26.67, 'SUV_mean': 16.23, 'SD': 5.09}, 43: {'SUV_max': 15.39, 'SUV_mean': 9.17, 'SD': 2.28}, 44: {'SUV_max': 17.38, 'SUV_mean': 10.51, 'SD': 2.75}, 45: {'SUV_max': 23.76, 'SUV_mean': 13.05, 'SD': 2.51}, 46: {'SUV_max': 5.32, 'SUV_mean': 3.12, 'SD': 0.83}, 47: {'SUV_max': 0.89, 'SUV_mean': 0.63, 'SD': 0.19}, 48: {'SUV_max': 5.43, 'SUV_mean': 3.54, 'SD': 0.91}, 49: {'SUV_max': 6.31, 'SUV_mean': 3.97, 'SD': 1.08}, 50: {'SUV_max': 4.25, 'SUV_mean': 2.65, 'SD': 0.67}, 51: {'SUV_max': 3.5, 'SUV_mean': 2.17, 'SD': 0.53}, 52: {'SUV_max': 19.92, 'SUV_mean': 11.93, 'SD': 2.61}, 53: {'SUV_max': 14.4, 'SUV_mean': 8.63, 'SD': 2.39}, 54: {'SUV_max': 18.81, 'SUV_mean': 11.81, 'SD': 2.91}, 55: {'SUV_max': 18.81, 'SUV_mean': 12.04, 'SD': 2.58}, 56: {'SUV_max': 21.75, 'SUV_mean': 13.16, 'SD': 2.5}, 57: {'SUV_max': 18.01, 'SUV_mean': 11.04, 'SD': 2.63}, 58: {'SUV_max': 21.48, 'SUV_mean': 14.03, 'SD': 3.33}, 59: {'SUV_max': 20.96, 'SUV_mean': 12.59, 'SD': 2.89}, 60: {'SUV_max': 30.4, 'SUV_mean': 17.67, 'SD': 4.65}, 61: {'SUV_max': 22.93, 'SUV_mean': 14.43, 'SD': 4.65}}\n",
      "[]\n",
      "[]\n",
      "[22, 'ELLIPSE', 0.1299999999999999]\n",
      "23\n",
      "taille mask :  (168, 168, 274, 11)\n",
      "MASK CORRECT\n",
      "EXPORT NIFTI PT\n",
      "EXPORT NIFTI CT\n",
      "EXPORT NIFTI MASK\n"
     ]
    }
   ],
   "source": [
    "mip_directory = '/media/salim/DD 2To/GAINED_MIP'\n",
    "csv_directory = '/media/salim/DD 2To/GAINED_CSV_DATA/Export_Gained/CSV41/PET0'\n",
    "nifti_directory = '/media/salim/DD 2To/GAINED_NIFTI'\n",
    "\n",
    "mask_false = []\n",
    "\n",
    "for serie in serie_mip: \n",
    "        print(serie_mip.index(serie))\n",
    "        if serie[1] == 'PT' : \n",
    "                serie_pt_objet = SeriesPT(serie[0])\n",
    "                \n",
    "                nifti_array = serie_pt_objet.get_numpy_array()\n",
    "\n",
    "                study_uid = serie_pt_objet.get_series_details()['study']['StudyInstanceUID']\n",
    "\n",
    "                angle_filename = mip_projection(nifti_array, 0, mip_directory, study_uid, borne_max = 5.0)             #mip.png PET\n",
    "            \n",
    "\n",
    "                size_matrix = serie_pt_objet.get_size_matrix()\n",
    "                mask_objet = MaskBuilder(os.path.join(csv_directory, serie[6]), size_matrix)\n",
    "                mask_4D = mask_objet.mask_array\n",
    "\n",
    "                number_roi = mask_4D.shape[3]\n",
    "                threshold = mask_objet.details_rois['SUVlo']\n",
    "                        #seuillage\n",
    "                mask_4D = threshold_mask(mask_4D, mask_objet.details_rois, nifti_array)\n",
    "                angle_filename_mask = mip_projection_4D(mask_4D, 0, mip_directory, study_uid, number_roi, borne_max = 1.0)\n",
    "\n",
    "                if mask_objet.is_correct_suv(nifti_array) == True : #si mask correct \n",
    "                        print(\"MASK CORRECT\")\n",
    "                        #generation nifti PT\n",
    "                        filename_pt = study_uid+'_'+'nifti_'+'PT'+'.nii'\n",
    "                        serie_pt_objet.export_nifti(os.path.join(nifti_directory, filename_pt))\n",
    "                        print(\"EXPORT NIFTI PT\")\n",
    "                        #generation nifti CT\n",
    "                        serie_ct_objet = SeriesCT(serie[2])\n",
    "                        serie_ct_objet.get_numpy_array()\n",
    "                        filename_ct = study_uid+'_'+'nifti_'+'CT'+'.nii'\n",
    "                        serie_ct_objet.export_nifti(os.path.join(nifti_directory, filename_ct))\n",
    "                        print(\"EXPORT NIFTI CT\")\n",
    "                        #generation nifti mask\n",
    "                        filename_mask = study_uid+'_'+'nifti_'+'mask'+'.nii'\n",
    "                        serie_pt_objet.export_nifti(os.path.join(nifti_directory, filename_mask), mask_4D)\n",
    "                        print(\"EXPORT NIFTI MASK\")\n",
    "                else : \n",
    "                        print(\"FALSE MASK\")\n",
    "                        mask_false.append(serie)\n",
    "                        print(mask_objet.calcul_suv(nifti_array))\n",
    "                        print(mask_objet.ecart_suv_max(nifti_array))\n",
    "                        print(mask_objet.ecart_suv_mean(nifti_array))\n",
    "                        print(mask_objet.ecart_SD(nifti_array))\n",
    "                \n",
    "                        #mip.png MASK\n",
    "        else  : \n",
    "                serie_pt_objet = SeriesPT(serie[2])\n",
    "\n",
    "                nifti_array = serie_pt_objet.get_numpy_array()\n",
    "\n",
    "                study_uid = serie_pt_objet.get_series_details()['study']['StudyInstanceUID']\n",
    " \n",
    "                angle_filename = mip_projection(nifti_array, 0, mip_directory, study_uid, borne_max = 5.0)             #mip.png PET\n",
    "\n",
    "\n",
    "                size_matrix = serie_pt_objet.get_size_matrix()\n",
    "                mask_objet = MaskBuilder(os.path.join(csv_directory, serie[6]), size_matrix)\n",
    "                mask_4D = mask_objet.mask_array\n",
    "\n",
    "                number_roi = mask_4D.shape[3]\n",
    "                threshold = mask_objet.details_rois['SUVlo']\n",
    "                        #seuillage\n",
    "                mask_4D = threshold_mask(mask_4D, mask_objet.details_rois, nifti_array)\n",
    "                angle_filename_mask = mip_projection_4D(mask_4D, 0, mip_directory, study_uid, number_roi, borne_max = 1.0)\n",
    "\n",
    "                if mask_objet.is_correct_suv(nifti_array) == True : #si mask correct \n",
    "                        print(\"MASK CORRECT\")\n",
    "                        #generation nifti PT\n",
    "                        filename_pt = study_uid+'_'+'nifti_'+'PT'+'.nii'\n",
    "                        serie_pt_objet.export_nifti(os.path.join(nifti_directory, filename_pt))\n",
    "                        print(\"EXPORT NIFTI PT\")\n",
    "                        #generation nifti CT\n",
    "                        serie_ct_objet = SeriesCT(serie[2])\n",
    "                        serie_ct_objet.get_numpy_array()\n",
    "                        filename_ct = study_uid+'_'+'nifti_'+'CT'+'.nii'\n",
    "                        serie_ct_objet.export_nifti(os.path.join(nifti_directory, filename_ct))\n",
    "                        print(\"EXPORT NIFTI CT\")\n",
    "                        #generation nifti mask\n",
    "                        filename_mask = study_uid+'_'+'nifti_'+'mask'+'.nii'\n",
    "                        serie_pt_objet.export_nifti(os.path.join(nifti_directory, filename_mask), mask_4D)\n",
    "                        print(\"EXPORT NIFTI MASK\")\n",
    "                else : \n",
    "                        print(\"FALSE MASK\")\n",
    "                        mask_false.append(serie)\n",
    "                        print(mask_objet.calcul_suv(nifti_array))\n",
    "                        print(mask_objet.ecart_suv_max(nifti_array))\n",
    "                        print(mask_objet.ecart_suv_mean(nifti_array))\n",
    "                        print(mask_objet.ecart_SD(nifti_array))"
   ]
  },
  {
   "cell_type": "code",
   "execution_count": 10,
   "metadata": {},
   "outputs": [],
   "source": [
    "write_json_file('/media/salim/DD 2To/GAINED_NIFTI','dataset_1_serie_false_mask', mask_false)"
   ]
  }
 ],
 "metadata": {
  "file_extension": ".py",
  "kernelspec": {
   "display_name": "Python 3.8.2 64-bit",
   "language": "python",
   "name": "python38264bit741c38d3bcec48dc835c8ad5f1161b3f"
  },
  "language_info": {
   "codemirror_mode": {
    "name": "ipython",
    "version": 3
   },
   "file_extension": ".py",
   "mimetype": "text/x-python",
   "name": "python",
   "nbconvert_exporter": "python",
   "pygments_lexer": "ipython3",
   "version": "3.8.2"
  },
  "mimetype": "text/x-python",
  "name": "python",
  "npconvert_exporter": "python",
  "pygments_lexer": "ipython3",
  "version": 3
 },
 "nbformat": 4,
 "nbformat_minor": 2
}
