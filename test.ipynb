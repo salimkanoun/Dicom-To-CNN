{
 "nbformat": 4,
 "nbformat_minor": 2,
 "metadata": {
  "language_info": {
   "name": "python",
   "codemirror_mode": {
    "name": "ipython",
    "version": 3
   },
   "version": "3.8.2-final"
  },
  "orig_nbformat": 2,
  "file_extension": ".py",
  "mimetype": "text/x-python",
  "name": "python",
  "npconvert_exporter": "python",
  "pygments_lexer": "ipython3",
  "version": 3,
  "kernelspec": {
   "name": "python38264bit741c38d3bcec48dc835c8ad5f1161b3f",
   "display_name": "Python 3.8.2 64-bit"
  }
 },
 "cells": [
  {
   "cell_type": "code",
   "execution_count": 1,
   "metadata": {},
   "outputs": [],
   "source": [
    "import json\n",
    "import os\n",
    "from library_dicom.dicom_processor.model.Series import Series \n",
    "from library_dicom.dicom_processor.model.SeriesPT import SeriesPT\n",
    "from library_dicom.dicom_processor.model.SeriesCT import SeriesCT\n",
    "from library_dicom.dicom_processor.model.csv_reader.MaskBuilder import MaskBuilder\n",
    "\n",
    "from library_dicom.dicom_processor.tools.folders import *\n",
    "\n",
    "from library_dicom.dicom_processor.tools.create_mip import *\n",
    "from library_dicom.dicom_processor.tools.threshold_mask import *\n",
    "\n",
    "import numpy as np\n",
    "import SimpleITK as sitk\n",
    "\n",
    "import csv"
   ]
  },
  {
   "cell_type": "code",
   "execution_count": 2,
   "metadata": {},
   "outputs": [],
   "source": [
    "csv_file = '/home/salim/Documents/DeepOncopole/MedicalSegmentation_10082020/vol_lymphoma_mask_before_after_resample.csv'\n",
    "\n",
    "with open(csv_file, 'r') as csv_file :\n",
    "    reader = csv.reader(csv_file, delimiter = ',') #liste pour chaque ligne \n",
    "    csv_data = []\n",
    "    for row in reader :\n",
    "        csv_data.append(row)\n",
    "        \n",
    "del csv_data[0] #enlever première ligne"
   ]
  },
  {
   "cell_type": "code",
   "execution_count": 3,
   "metadata": {},
   "outputs": [
    {
     "name": "stdout",
     "output_type": "stream",
     "text": "['0', '/media/salim/DD 2To/AHL2011_NIFTI/1.2.124.113532.10.149.172.5.20131107.93455.7725981_nifti_PT.nii', '/media/salim/DD 2To/AHL2011_NIFTI/1.2.124.113532.10.149.172.5.20131107.93455.7725981_nifti_CT.nii', '/media/salim/DD 2To/AHL2011_NIFTI/1.2.124.113532.10.149.172.5.20131107.93455.7725981_nifti_mask.nii', '539128.3736253536', '536592.384']\n"
    }
   ],
   "source": [
    "print(csv_data[0])"
   ]
  },
  {
   "cell_type": "code",
   "execution_count": 4,
   "metadata": {},
   "outputs": [
    {
     "name": "stdout",
     "output_type": "stream",
     "text": "539128.3736253536\n539.1283736253536\n"
    }
   ],
   "source": [
    "volume = []\n",
    "for item in csv_data : \n",
    "    volume.append(float(item[4]))\n",
    "print(volume[0])\n",
    "for i in range(len(volume)) :\n",
    "    volume[i] = volume[i] * 10**(-3)\n",
    "\n",
    "print(volume[0])"
   ]
  },
  {
   "cell_type": "code",
   "execution_count": 5,
   "metadata": {},
   "outputs": [],
   "source": [
    "study_uid = []\n",
    "for item in csv_data : \n",
    "    study_uid.append(item[1].split('/')[5].split('_')[0])"
   ]
  },
  {
   "cell_type": "code",
   "execution_count": 41,
   "metadata": {},
   "outputs": [
    {
     "output_type": "stream",
     "name": "stdout",
     "text": "1.2.124.113532.10.149.172.5.20131107.93455.7725981\n"
    }
   ],
   "source": [
    "print(study_uid[0])"
   ]
  },
  {
   "cell_type": "code",
   "execution_count": 7,
   "metadata": {},
   "outputs": [],
   "source": [
    "csv_file_2 = '/media/salim/DD 2To/AHL2011_CSV_DATA/pet0.csv'\n",
    "\n",
    "with open(csv_file_2, 'r') as csv_file :\n",
    "    reader = csv.reader(csv_file, delimiter = ';') #liste pour chaque ligne \n",
    "    csv_data_2 = []\n",
    "    for row in reader :\n",
    "        csv_data_2.append(row)\n",
    "        \n",
    "del csv_data_2[0] #enlever première ligne"
   ]
  },
  {
   "cell_type": "code",
   "execution_count": 43,
   "metadata": {},
   "outputs": [
    {
     "output_type": "execute_result",
     "data": {
      "text/plain": "['CON,DA',\n '13011101331015',\n '1.2.124.113532.10.149.172.5.20131107.93455.7725981',\n '4',\n 'con_da_nov 7_2013.csv',\n '5',\n '13.79',\n 'Mediastinal',\n '15.5',\n 'Mediastinal',\n '1.4',\n '1.6',\n '2.08',\n '2.17',\n '3',\n '1',\n '5',\n '2.62',\n '4',\n '2.5',\n '2']"
     },
     "metadata": {},
     "execution_count": 43
    }
   ],
   "source": [
    "csv_data_2[1]"
   ]
  },
  {
   "cell_type": "code",
   "execution_count": 8,
   "metadata": {},
   "outputs": [],
   "source": [
    "csv_directory = '/media/salim/DD 2To/AHL2011_CSV_DATA/AHL2011-CSV'\n",
    "list_csv = []\n",
    "for uid in study_uid : \n",
    "    for data in csv_data_2 : \n",
    "        if uid in data : \n",
    "            list_csv.append(os.path.join(csv_directory, data[4]))\n",
    "            break\n"
   ]
  },
  {
   "cell_type": "code",
   "execution_count": 9,
   "metadata": {},
   "outputs": [
    {
     "name": "stdout",
     "output_type": "stream",
     "text": "355\n"
    }
   ],
   "source": [
    "print(len(list_csv))"
   ]
  },
  {
   "cell_type": "code",
   "execution_count": 17,
   "metadata": {},
   "outputs": [
    {
     "data": {
      "text/plain": "'/media/salim/DD 2To/AHL2011_CSV_DATA/AHL2011-CSV/con_da_nov 7_2013.csv'"
     },
     "execution_count": 17,
     "metadata": {},
     "output_type": "execute_result"
    }
   ],
   "source": [
    "list_csv[0]"
   ]
  },
  {
   "cell_type": "code",
   "execution_count": 35,
   "metadata": {},
   "outputs": [],
   "source": [
    "def csv_reader_volume(csv_path) :\n",
    "    \n",
    "    with open(csv_path, 'r') as csv_file :\n",
    "        reader = csv.reader(csv_file, delimiter = ',') #liste pour chaque ligne \n",
    "        csv_data = []\n",
    "        for row in reader :\n",
    "            csv_data.append(row)\n",
    "\n",
    "    for i in range(len(csv_data)) :\n",
    "        #print(i)\n",
    "        #print(csv_data[i])\n",
    "        if ' sum' in csv_data[i] :\n",
    "            return float(csv_data[i][3])\n",
    ""
   ]
  },
  {
   "cell_type": "code",
   "execution_count": 36,
   "metadata": {},
   "outputs": [
    {
     "output_type": "execute_result",
     "data": {
      "text/plain": "564.63"
     },
     "metadata": {},
     "execution_count": 36
    }
   ],
   "source": [
    "csv_reader_volume(list_csv[0])"
   ]
  },
  {
   "cell_type": "code",
   "execution_count": 37,
   "metadata": {},
   "outputs": [],
   "source": [
    "volume_csv_original = []\n",
    "for csv_file in list_csv : \n",
    "    volume_csv_original.append(csv_reader_volume(csv_file))\n",
    ""
   ]
  },
  {
   "cell_type": "code",
   "execution_count": 38,
   "metadata": {},
   "outputs": [
    {
     "output_type": "stream",
     "name": "stdout",
     "text": "[564.63, 130.75, 92.8, 133.44, 163.71, 434.24, 230.91, 427.39, 627.58, 187.97, 122.05, 113.11, 370.74, 167.85, 83.22, 353.99, 159.71, 52.05, 323.49, 628.39, 78.85, 59.28, 32.04, 243.44, 128.38, 106.92, 81.54, 57.8, 48.45, 42.53, 149.79, 122.29, 88.87, 110.25, 225.73, 1109.65, 89.06, 234.76, 49.33, 216.61, 231.72, 1302.68, 106.07, 1861.35, 183.72, 140.16, 137.41, 587.58, 598.34, 216.96, 606.85, 159.42, 271.17, 464.06, 247.74, 51.38, 280.29, 140.31, 77.1, 310.11, 267.52, 528.19, 572.8, 56.45, 145.06, 416.42, 234.98, 59.66, 94.67, 390.6, 100.37, 363.22, 129.43, 92.32, 122.76, 202.85, 72.66, 224.96, 155.01, 86.27, 266.94, 187.65, 136.96, 46.72, 386.88, 82.24, 401.65, 932.61, 128.7, 297.98, 37.12, 531.07, 217.02, 257.01, 352.96, 58.37, 261.44, 654.34, 159.62, 352.9, 610.18, 41.92, 179.16, 223.17, 1134.73, 429.91, 89.23, 277.43, 459.25, 121.55, 114.75, 294.92, 193.15, 33.98, 401.84, 247.52, 119.02, 576.9, 136.82, 49.34, 270.08, 1173.42, 53.76, 268.45, 206.12, 162.13, 200.83, 782.91, 129.6, 203.14, 164.92, 48.92, 87.46, 96.9, 638.85, 230.78, 252.38, 185.41, 252.86, 480.64, 168.4, 44.11, 40.52, 148.08, 90.43, 241.13, 87.36, 84.88, 713.21, 45.85, 479.32, 745.38, 232.88, 396.16, 233.02, 185.13, 97.21, 126.19, 203.07, 64.52, 56.52, 359.1, 224.77, 271.36, 52.61, 331.46, 781.54, 868.61, 555.65, 367.17, 137.09, 215.81, 209.86, 1378.24, 94.08, 112.77, 141.89, 1209.47, 162.69, 562.62, 549.18, 137.28, 238.08, 499.52, 255.49, 1804.48, 332.86, 1087.17, 315.26, 58.18, 414.87, 126.11, 93.84, 89.85, 148.24, 125.01, 124.4, 81.46, 102.03, 146.08, 342.29, 186.06, 88.84, 307.42, 162.26, 250.19, 233.02, 135.64, 74.25, 193.03, 131.44, 246.5, 1053.44, 55.7, 52.08, 619.86, 165.62, 251.22, 98.02, 64.15, 123.17, 114.62, 224.32, 166.03, 218.45, 503.63, 151.9, 445.15, 360.55, 170.22, 289.84, 281.19, 150.44, 114.76, 295.35, 200.04, 322.44, 255.64, 73.57, 197.04, 120.0, 504.31, 175.86, 102.96, 605.26, 271.73, 135.4, 128.63, 369.08, 409.21, 327.5, 88.75, 173.2, 173.74, 101.07, 343.22, 195.13, 120.0, 586.8, 178.87, 305.79, 762.23, 102.98, 1007.28, 311.07, 188.94, 125.08, 363.12, 468.93, 268.89, 178.43, 148.36, 131.9, 266.52, 49.8, 619.06, 78.39, 115.18, 440.3, 71.56, 175.42, 240.04, 141.83, 119.27, 70.56, 91.75, 200.56, 153.05, 70.78, 109.63, 242.62, 127.04, 1579.07, 140.03, 383.3, 880.77, 1225.47, 916.74, 779.33, 138.3, 164.8, 142.14, 98.5, 156.16, 467.2, 304.51, 259.26, 149.5, 932.54, 536.7, 74.88, 91.78, 331.33, 234.82, 173.7, 318.85, 198.34, 663.62, 62.85, 44.16, 111.42, 205.76, 274.3, 821.06, 316.1, 118.72, 685.38, 228.35, 458.69, 230.66, 393.73, 305.28, 372.99, 167.62, 929.86, 121.73, 417.47, 25.34, 442.62, 292.1, 249.41, 263.68, 164.1, 152.77, 364.86, 822.02, 414.08, 237.25, 1812.54, 135.74, 130.82, 151.94, 154.11, 81.81, 263.04]\n"
    }
   ],
   "source": [
    "print(volume_csv_original)"
   ]
  },
  {
   "cell_type": "code",
   "execution_count": 40,
   "metadata": {},
   "outputs": [],
   "source": [
    "nifti_directory = '/media/salim/DD 2To'\n",
    "\n",
    "with open(os.path.join(nifti_directory, 'AHL2011_volume.csv'), 'w') as csv_file : \n",
    "    csv_writer = csv.writer(csv_file, delimiter=',', quotechar='\"', quoting=csv.QUOTE_MINIMAL)\n",
    "    csv_writer.writerow([\"CSV_VOLUME\", \"CALCULATED_VOLUME_BEFORE_RESAMPLE\"])\n",
    "    for i in range(len(volume_csv_original)) :\n",
    "        csv_writer.writerow([volume_csv_original[i], volume[i]])"
   ]
  },
  {
   "cell_type": "code",
   "execution_count": null,
   "metadata": {},
   "outputs": [],
   "source": []
  },
  {
   "cell_type": "code",
   "execution_count": null,
   "metadata": {},
   "outputs": [],
   "source": []
  },
  {
   "cell_type": "code",
   "execution_count": null,
   "metadata": {},
   "outputs": [],
   "source": []
  }
 ]
}