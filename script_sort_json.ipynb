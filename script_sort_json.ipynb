{
 "nbformat": 4,
 "nbformat_minor": 2,
 "metadata": {
  "language_info": {
   "name": "python",
   "codemirror_mode": {
    "name": "ipython",
    "version": 2
   },
   "version": "3.8.5-final"
  },
  "orig_nbformat": 2,
  "file_extension": ".py",
  "mimetype": "text/x-python",
  "name": "python",
  "npconvert_exporter": "python",
  "pygments_lexer": "ipython2",
  "version": 2,
  "kernelspec": {
   "name": "python38564bit9a8409779cd04c3cbd0c5f1e859a644e",
   "display_name": "Python 3.8.5 64-bit"
  }
 },
 "cells": [
  {
   "cell_type": "code",
   "execution_count": 1,
   "metadata": {},
   "outputs": [],
   "source": [
    "import json\n",
    "import os\n",
    "import pprint\n",
    "import shutil\n",
    "from collections import defaultdict, Counter\n",
    "from library_dicom.dicom_processor.tools.folders import write_json_file\n",
    "from library_dicom.dicom_processor.tools.cleaning_series import *"
   ]
  },
  {
   "source": [
    "liste_json = os.listdir('/home/deeplearning/AHL/JSON')\n",
    "merged_content = generate_merged_file('/home/deeplearning/AHL/JSON')\n",
    "write_json_file('/home/deeplearning/AHL/JSON', 'merged_files', merged_content)"
   ],
   "cell_type": "code",
   "metadata": {},
   "execution_count": 28,
   "outputs": []
  },
  {
   "cell_type": "code",
   "execution_count": null,
   "metadata": {},
   "outputs": [],
   "source": [
    "#CHECK Non_interesting_series and delete series_json in list of json , and recreate merged_file"
   ]
  },
  {
   "cell_type": "code",
   "execution_count": 36,
   "metadata": {},
   "outputs": [
    {
     "output_type": "stream",
     "name": "stdout",
     "text": [
      "49\n"
     ]
    }
   ],
   "source": [
    "non_interesting_series  = find_non_intersting_series('/home/deeplearning/AHL/JSON/merged_files.json')\n",
    "print(len(non_interesting_series))"
   ]
  },
  {
   "cell_type": "code",
   "execution_count": 22,
   "metadata": {
    "tags": []
   },
   "outputs": [],
   "source": [
    "non_interest = []\n",
    "for path in non_interesting_series:\n",
    "    non_interest.append(uid)"
   ]
  },
  {
   "cell_type": "code",
   "execution_count": 24,
   "metadata": {},
   "outputs": [],
   "source": [
    "remove_ = []\n",
    "for uid in non_interest : \n",
    "    for json_file in liste_json : \n",
    "        try : \n",
    "            uid_json = json_file[:-5]\n",
    "            if uid == uid_json : \n",
    "                remove_.append(json_file)\n",
    "                break\n",
    "        except Exception as err : \n",
    "            pass\n"
   ]
  },
  {
   "cell_type": "code",
   "execution_count": 27,
   "metadata": {
    "tags": []
   },
   "outputs": [],
   "source": [
    "for remove_file in remove_ : \n",
    "    os.remove(os.path.join('/home/deeplearning/AHL/JSON', remove_file))"
   ]
  },
  {
   "cell_type": "code",
   "execution_count": null,
   "metadata": {},
   "outputs": [],
   "source": []
  },
  {
   "cell_type": "code",
   "execution_count": 29,
   "metadata": {},
   "outputs": [
    {
     "output_type": "stream",
     "name": "stdout",
     "text": [
      "234\n"
     ]
    }
   ],
   "source": [
    "series_ready = find_studies_with_two_series(\"/home/deeplearning/AHL/JSON/merged_files.json\")\n",
    "print(len(series_ready))"
   ]
  },
  {
   "source": [
    "studies_over_two_series, paths = find_studies_over_two_series('/home/deeplearning/AHL/JSON/merged_files.json')\n",
    "print(len(studies_over_two_series))\n",
    "print(Counter(studies_over_two_series))"
   ],
   "cell_type": "code",
   "metadata": {
    "tags": []
   },
   "execution_count": 30,
   "outputs": [
    {
     "output_type": "stream",
     "name": "stdout",
     "text": [
      "1184\nCounter({'Body-Low Dose CT': 132, '[WB_CTAC] Body': 86, 'CT TAP  3.0  B70s': 77, 'PET TAP Corrected': 76, 'CT TAP  3.0  B30s': 42, 'CT TAP IV  3.0  B30s': 31, 'TEP CORR ATT 3D': 28, 'CT 1.25mm': 27, 'CTAC 3.75': 27, 'CT CE STANDARD': 22, 'CT 2.5mm': 22, 'PET TAP (AC)': 21, 'CT TAP 4.0 B20s': 20, 'ABDO': 20, 'TEP_CE_AC': 18, 'CTAC CE': 17, 'TEP CE AC': 16, 'CT TAP 4.0 B70s': 15, 'CT 1.25MM': 15, 'CT CORPS ENTIER 2.5MM': 15, 'TEP CA': 14, 'CT STANDARD': 13, 'TEP NC': 13, 'TDM CTAC': 13, 'POUMON': 12, 'AC  CT TAP ss IV': 11, 'PET Thorax': 11, 'AC_CT TAP': 10, 'TEP STANDARD AC': 10, 'Thorax IV': 10, 'Abdo IV': 10, 'VOL': 10, 'PET WB [Transformed Object]': 10, 'PET WB': 10, 'MEDIAST. 5/5 600': 9, 'MEDIAST. 5/5 ZM': 9, 'PULM. 5/5 ZM': 9, 'CT TAP 5.0 B40s': 9, 'CT 3.75mm': 7, 'POUMON inspi': 7, 'CE PET AC': 7, 'CE CT STANDARD': 6, 'AC_CT': 5, 'TDM 2.5': 5, 'TEP CE CTAC': 5, 'CT CE': 5, 'CT TAP 4.0 B31s': 5, '[HN_CTAC_2B] Body': 5, 'ABDOMEN': 5, 'TEP AC': 4, 'CT TAP  3.0  B20s': 4, 'Recon Foie lissée': 4, 'CTAC': 4, 'AC CT TAP': 4, 'MEDIASTIN': 4, 'PET TAP AC HD': 4, 'CT TAP 3.0  B30': 4, 'CT TAP 3.0 B70': 4, 'CT TAP  2.0  B20f': 3, 'CT TAP+bras  3.0   B20s': 3, 'PET TAP+bras Corrected Protocol 2': 3, 'PET TAP+bras Corrected': 3, 'Body-Low Dose500': 3, 'CE_3D_VP_AC_128': 3, 'CT CE STANDARD 3.75': 3, 'CT TAP  3.0  B20f': 2, 'PET TAP Corrected Protocol 2': 2, 'PET TAP': 2, 'CT Standard 3.75': 2, 'TEP AC 3D': 2, 'MIP': 2, 'CT ORL Stnd': 2, 'TEP AC ORL': 2, 'CT Atten Cor Head In 3.75 thk': 2, 'Recon 2: CT Atten Cor Head In 3': 2, 'TEP 3D AC 30.2': 2, 'p11274s2_wb_ctac.img: LOR-RAMLA': 2, 'TEP TAP Corrected HD+TOF': 2, '<MIP Collection>': 2, 'TAP INJ': 2, 'FDG WB AC': 2, 'CT 500': 2, 'PET MEP (AC)': 2, 'AC CT': 2, 'CT THORAX': 1, 'CT RADIOTHERAPIE': 1, 'p11515s2_wb_nac.img: 3D-RAMLA': 1, 'p11515s2_wb_ctac.img: LOR-RAMLA': 1, 'TETE-COU 5/5': 1, 'PULM. 5/5': 1, 'COU 3/3': 1, 'MEDIAST. 5/5': 1, 'ABDO 5/5': 1, 'p9147s0_wb_ctac.img: LOR-RAMLA': 1, 'p9147s0_wb_nac.img: 3D-RAMLA': 1, 'p9147s1_wb_nac.img: 3D-RAMLA': 1, 'p9147s1_wb_ctac.img: LOR-RAMLA': 1, 'p9869s0_wb_ctac.img: LOR-RAMLA': 1, 'p9869s0_wb_nac.img: 3D-RAMLA': 1, 'p10107s0_wb_nac.img: 3D-RAMLA': 1, 'p10107s0_wb_ctac.img: LOR-RAMLA': 1, 'COU 5/5': 1, 'WB 5/5 600': 1, 'Con THO 5/5': 1, 'Con ABD0 5/5': 1, 'PET AC': 1, 'CT CorpsEntier Std': 1, 'TEP TAP Corrected SUV HD+TOF': 1, 'p8880s1_wb_ctac.img: 3D-RAMLA': 1, 'p8880s2_wb_ctac.img: 3D-RAMLA': 1, 'p8880s0_wb_ctac.img: 3D-RAMLA': 1, 'CT CRANE MI-CUISSE STD': 1, 'TEP WB CORRECTED': 1, '': 1, 'p20370s0_POL_ctac-1.img: 3D-RAMLA': 1, 'TEP axial': 1, 'p2141s0_wb_ctac.img: LOR-RAMLA': 1, 'p2141s0_wb_nac.img: 3D-RAMLA': 1, '[WB_CTAC_cou] Body': 1, 'CT THORAX  3.0  eFoV': 1, 'CT 1.25mm WB Soft': 1, 'CTAC WB soft': 1, 'WB VPFX AC 2min': 1, 'COUPES CT': 1, 'COUPES FINES': 1, '[WB_CTAC_ctac2] Body': 1, 'CT TAP epais 5.0 B40s': 1, 'Fusion TAP': 1, 'p10485s0_wb_nac.img: 3D-RAMLA': 1, 'p10485s0_wb_ctac.img: LOR-RAMLA': 1, 'p10485s1_wb_ctac.img: LOR-RAMLA': 1, 'p10485s1_wb_nac.img: 3D-RAMLA': 1, 'p10485s2_wb_ctac.img: LOR-RAMLA': 1, 'p10485s2_wb_nac.img: 3D-RAMLA': 1, 'coupes fines': 1, 'p10483s1_wb_nac.img: 3D-RAMLA': 1, 'p10483s1_wb_ctac.img: LOR-RAMLA': 1, 'p10483s2_wb_ctac.img: LOR-RAMLA': 1, 'p10483s2_wb_nac.img: 3D-RAMLA': 1, 'p10483s0_wb_ctac.img: LOR-RAMLA': 1, 'p10483s0_wb_nac.img: 3D-RAMLA': 1, 'FOIE SANS INJ': 1, 'p13648s0_wb_ctac.img: LOR-RAMLA': 1, 'TEP RADIOTHERAPIE AC': 1, 'CT RADIOTHERAPIE + IV': 1, '[PREVIEW] Body': 1, 'Body-ldCT': 1, 'CE CT COUPES FINES': 1, 'AC  CT TAP': 1, 'CT TAP  3.0  I30s  2 SAFIRE': 1, 'PET TAP Corr HD': 1, 'PET TAP Corr': 1, '2mm TAP Tissus mous IV': 1, 'p10513s2_wb_nac.img: 3D-RAMLA': 1, 'p10513s2_wb_ctac.img: LOR-RAMLA': 1, 'p10443s1_wb_ctac.img: 3D-RAMLA': 1, 'p10443s2_wb_ctac.img: 3D-RAMLA': 1, 'p10443s0_wb_ctac.img: 3D-RAMLA': 1, 'PET TAP 6I8SG5': 1, 'p9615s0_wb_ctac.img: 3D-RAMLA': 1, 'CT WB PT CONTRAST NI30 SS40': 1, 'CT WB PT ULD SS40': 1, 'CT Standard': 1, 'Head-Low Dose CT': 1, '[HN_CTAC] Head+Neck': 1, 'p10355s2_wb_nac.img: 3D-RAMLA': 1, 'p10355s2_wb_ctac.img: LOR-RAMLA': 1, 'p22032s0_wb_ctac.img: LOR-RAMLA': 1, 'CE CTAC': 1, 'CT TAP MEP': 1, '[WB_CTAC_1] Body': 1, 'CT TAP  3.0  B31s': 1, 'PET TAP AC (AC)': 1, '[PREVIEW_remap] Body': 1, '[WB_CTAC_remap] Body': 1, 'PET TAP Corrected HD TOF': 1, 'CT TAP Fort  3.0   B20s': 1, 'PET TAP Fort Corrected Protocol 2': 1, 'PET TAP Fort Corrected': 1, 'CT WB PT SS40': 1, 'CTAC WB NI30': 1, 'CT TAP 3.0 B31f': 1, 'CT Attenuation': 1, 'CT CORPS ENTIER': 1, 'TEP CORPS ENTIER AC': 1, 'p24473s0_wb_nac.img: 3D-RAMLA': 1, 'p24473s0_wb_ctac.img: LOR-RAMLA': 1, 'p9815s2_wb_ctac.img: 3D-RAMLA': 1, 'p9815s0_wb_ctac.img: 3D-RAMLA': 1, 'p9815s1_wb_ctac.img: 3D-RAMLA': 1, '[OFOV_CTAC] Body': 1})\n"
     ]
    }
   ]
  },
  {
   "source": [
    "for non_interisting in non_interesting_series:\n",
    "    try : \n",
    "        shutil.rmtree(non_interisting)\n",
    "    except Exception as err : \n",
    "        print(err)"
   ],
   "cell_type": "markdown",
   "metadata": {}
  },
  {
   "cell_type": "code",
   "execution_count": null,
   "metadata": {},
   "outputs": [],
   "source": []
  },
  {
   "source": [
    "#copy studies with more than 2 series to check \n",
    "export_folder = '/home/deeplearning/AHL/check_serie'\n",
    "cpt = []\n",
    "for path in paths : \n",
    "    try : \n",
    "        dest = '/'.join(path.split('/')[7:])\n",
    "        #print(dest)\n",
    "        destination = export_folder+'/'+dest\n",
    "        if 'AHLGroupe' in dest : \n",
    "            new = \"/\".join(dest.split('/')[2:])\n",
    "            #print(new)\n",
    "            destination = export_folder+'/'+new\n",
    "        #print(destination)\n",
    "\n",
    "\n",
    "        shutil.copytree(path, destination)\n",
    "    except Exception as err : \n",
    "        print(err)"
   ],
   "cell_type": "code",
   "metadata": {
    "tags": []
   },
   "execution_count": 86,
   "outputs": []
  },
  {
   "source": [
    "import shutil \n",
    "root_destination = \"/home/deeplearning/AHL/AHL_Validated_DICOM\"\n",
    "for seriesID in series_ready : \n",
    "    try : \n",
    "        source_path = series_ready[seriesID]['path']\n",
    "        parentPatientID = series_ready[seriesID]['parentPatientID']\n",
    "        parentStudyUID = series_ready[seriesID]['parentStudyUID']\n",
    "        \n",
    "        #type_ = source_path.split('/')[6]\n",
    "        #print(source_path)\n",
    "        if 'PET0' in source_path : \n",
    "            type_ = 'pet0'\n",
    "\n",
    "        elif 'PET2' in source_path : \n",
    "            type_ = 'pet2'\n",
    "\n",
    "        elif 'PET4' in source_path : \n",
    "            type_ = 'pet4'\n",
    "        \n",
    "        #print(type_)\n",
    "        destination = root_destination+\"/\"+parentPatientID+\"/\"+type_+\"/\"+seriesID\n",
    "        #print(destination)\n",
    "        #os.makedirs(destination, exist_ok=True)\n",
    "        #copy and not move \n",
    "        shutil.copytree(source_path, destination)\n",
    "        #shutil.move(source_path, destination)\n",
    "    except Exception as err : \n",
    "        print(err)"
   ],
   "cell_type": "code",
   "metadata": {
    "tags": []
   },
   "execution_count": 85,
   "outputs": [
    {
     "output_type": "stream",
     "name": "stdout",
     "text": [
      "'path'\n"
     ]
    }
   ]
  }
 ]
}