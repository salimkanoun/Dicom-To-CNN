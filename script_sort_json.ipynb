{
 "nbformat": 4,
 "nbformat_minor": 2,
 "metadata": {
  "language_info": {
   "name": "python",
   "codemirror_mode": {
    "name": "ipython",
    "version": 2
   },
   "version": "3.8.5-final"
  },
  "orig_nbformat": 2,
  "file_extension": ".py",
  "mimetype": "text/x-python",
  "name": "python",
  "npconvert_exporter": "python",
  "pygments_lexer": "ipython2",
  "version": 2,
  "kernelspec": {
   "name": "python38564bit9a8409779cd04c3cbd0c5f1e859a644e",
   "display_name": "Python 3.8.5 64-bit"
  }
 },
 "cells": [
  {
   "cell_type": "code",
   "execution_count": 2,
   "metadata": {},
   "outputs": [],
   "source": [
    "import json\n",
    "import os\n",
    "import pprint\n",
    "import shutil\n",
    "from collections import defaultdict, Counter\n",
    "from library_dicom.dicom_processor.tools.folders import write_json_file\n",
    "from library_dicom.dicom_processor.tools.cleaning_series import *"
   ]
  },
  {
   "source": [
    "merged_content = generate_merged_file('/media/deeplearning/Elements/json')\n",
    "write_json_file('/media/deeplearning/Elements/json', 'merged_files', merged_content)"
   ],
   "cell_type": "code",
   "metadata": {},
   "execution_count": 29,
   "outputs": []
  },
  {
   "cell_type": "code",
   "execution_count": 30,
   "metadata": {},
   "outputs": [
    {
     "output_type": "stream",
     "name": "stdout",
     "text": [
      "32\n"
     ]
    }
   ],
   "source": [
    "series_ready = find_studies_with_two_series(\"/media/deeplearning/Elements/json/merged_files.json\")\n",
    "print(len(series_ready))"
   ]
  },
  {
   "source": [
    "studies_over_two_series, paths = find_studies_over_two_series('/media/deeplearning/Elements/json/merged_files.json')\n",
    "print(len(studies_over_two_series))\n",
    "print(Counter(studies_over_two_series))"
   ],
   "cell_type": "code",
   "metadata": {
    "tags": []
   },
   "execution_count": 32,
   "outputs": [
    {
     "output_type": "stream",
     "name": "stdout",
     "text": [
      "0\nCounter()\n"
     ]
    }
   ]
  },
  {
   "cell_type": "code",
   "execution_count": 21,
   "metadata": {},
   "outputs": [
    {
     "output_type": "stream",
     "name": "stdout",
     "text": [
      "6\n"
     ]
    }
   ],
   "source": [
    "non_interesting_series  = find_non_intersting_series('/media/deeplearning/78ca2911-9e9f-4f78-b80a-848024b95f92/Relevance_json_dernier/merged_files.json')\n",
    "print(len(non_interesting_series))"
   ]
  },
  {
   "cell_type": "code",
   "execution_count": 22,
   "metadata": {},
   "outputs": [],
   "source": [
    "for non_interisting in non_interesting_series:\n",
    "    try : \n",
    "        shutil.rmtree(non_interisting)\n",
    "    except Exception as err : \n",
    "        print(err)"
   ]
  },
  {
   "source": [
    "export_folder = '/media/deeplearning/Elements/check_serie'\n",
    "for path in paths : \n",
    "    try : \n",
    "        dest = '/'.join(path.split('/')[6:])\n",
    "        destination = export_folder+'/'+dest\n",
    "        shutil.copytree(path, destination)\n",
    "    except Exception as err : \n",
    "        print(err)"
   ],
   "cell_type": "code",
   "metadata": {
    "tags": []
   },
   "execution_count": 24,
   "outputs": [
    {
     "output_type": "stream",
     "name": "stdout",
     "text": [
      "[Errno 2] No such file or directory: '/media/deeplearning/Elements/Relevance Dernier/Envoi22/52011101901102/PET_Screening/1.3.46.670589.28.2.10.4.9187.6863.2.224.0.1401969863'\n",
      "[Errno 2] No such file or directory: '/media/deeplearning/Elements/Relevance Dernier/Envoi22/52011101821203/PET_Screening/1.2.840.113704.7.32.01.35610578463022207055.29347590783244996877'\n",
      "[Errno 2] No such file or directory: '/media/deeplearning/Elements/Relevance Dernier/Envoi22/52011102341105/PET_Screening/1.2.840.113619.2.290.3.1141511464.843.1373951239.949.4'\n",
      "[Errno 2] No such file or directory: '/media/deeplearning/Elements/Relevance Dernier/Envoi22/52011101871103/PET_Screening/1.3.46.670589.28.2.10.14.3191.41891.2.2360.0.1363344626'\n",
      "[Errno 2] No such file or directory: '/media/deeplearning/Elements/Relevance Dernier/Envoi22/52011101821105/PET_Screening/1.2.840.113704.7.32.0.1.6392577432853751872.26559230792226827355'\n",
      "[Errno 2] No such file or directory: '/media/deeplearning/Elements/Relevance Dernier/Envoi22/52011106341103/PET_Screening/1.2.840.113619.2.248.114374074502585.25654.1401275058805.10'\n"
     ]
    }
   ]
  },
  {
   "source": [
    "root_destination = \"/media/deeplearning/Elements/RELEVANCE_Valid_DICOM\"\n",
    "for seriesID in series_ready : \n",
    "    try : \n",
    "        source_path = series_ready[seriesID]['path']\n",
    "        parentPatientID = series_ready[seriesID]['parentPatientID']\n",
    "        parentStudyUID = series_ready[seriesID]['parentStudyUID']\n",
    "        type_ = source_path.split('/')[6]\n",
    "        \n",
    "        #print(type_)\n",
    "        destination = root_destination+\"/\"+parentPatientID+\"/\"+type_+\"/\"+seriesID\n",
    "        os.makedirs(destination, exist_ok=True)\n",
    "        shutil.move(source_path, destination)\n",
    "    except Exception as err : \n",
    "        print(err)"
   ],
   "cell_type": "code",
   "metadata": {
    "tags": []
   },
   "execution_count": 35,
   "outputs": []
  }
 ]
}