{
 "nbformat": 4,
 "nbformat_minor": 2,
 "metadata": {
  "language_info": {
   "name": "python",
   "codemirror_mode": {
    "name": "ipython",
    "version": 2
   },
   "version": "3.8.2-final"
  },
  "orig_nbformat": 2,
  "file_extension": ".py",
  "mimetype": "text/x-python",
  "name": "python",
  "npconvert_exporter": "python",
  "pygments_lexer": "ipython2",
  "version": 2,
  "kernelspec": {
   "name": "python38264bit741c38d3bcec48dc835c8ad5f1161b3f",
   "display_name": "Python 3.8.2 64-bit"
  }
 },
 "cells": [
  {
   "cell_type": "code",
   "execution_count": null,
   "metadata": {},
   "outputs": [],
   "source": [
    "import json\n",
    "import os\n",
    "import pprint\n",
    "from collections import defaultdict, Counter\n",
    "from library_dicom.dicom_processor.tools.folders import write_json_file\n",
    "import shutil\n"
   ]
  },
  {
   "cell_type": "code",
   "execution_count": null,
   "metadata": {},
   "outputs": [],
   "source": [
    "path = \"/media/salim/DD 2To/Json Ahl\"\n",
    "filenames = os.listdir(path)\n",
    "print(filenames)"
   ]
  },
  {
   "cell_type": "code",
   "execution_count": null,
   "metadata": {},
   "outputs": [],
   "source": [
    "paths = []\n",
    "for filename in filenames:\n",
    "    with open(os.path.join(path, filename)) as json_file:\n",
    "        data = json.load(json_file)\n",
    "        series_description = data[\"series\"][\"SeriesDescription\"].encode('utf-8')\n",
    "        if(\"CT COUPES FINES\" in series_description): \n",
    "            paths.append( data[\"path\"])\n",
    "        if(\"_wb_nac\" in series_description) : \n",
    "            paths.append( data[\"path\"])\n",
    "        if(\"POUMON\" in series_description):\n",
    "            paths.append( data[\"path\"])\n",
    "        if(\"PARENCHYME\" in series_description):\n",
    "            paths.append( data[\"path\"])\n",
    "        if(\"CT ORL\" in series_description):\n",
    "            paths.append( data[\"path\"])\n",
    "\n",
    "\n",
    "print(len(paths))\n"
   ]
  },
  {
   "cell_type": "code",
   "execution_count": null,
   "metadata": {},
   "outputs": [],
   "source": [
    "for path in paths:\n",
    "    try:\n",
    "        shutil.rmtree(path)\n",
    "    except Exception as err:\n",
    "        print(err)"
   ]
  },
  {
   "cell_type": "code",
   "execution_count": null,
   "metadata": {},
   "outputs": [],
   "source": [
    "data = json.load(open(\"/media/salim/DD 2To/Json Ahl/merged.json\"))\n",
    "number = 0\n",
    "series_to_check=[]\n",
    "series_list = []\n",
    "for patientID in data:\n",
    "    for studyUID in data[patientID]:\n",
    "        if( len(data[patientID][studyUID]['Series']) >2 ):\n",
    "            number +=1\n",
    "            for seriesUID in data[patientID][studyUID]['Series']:\n",
    "                series_list.append(data[patientID][studyUID]['Series'][seriesUID]['SeriesDescription'].encode('utf-8'))\n",
    "            series_to_check.append(data[patientID][studyUID]['Series'])\n",
    "\n",
    "write_json_file(\"/media/salim/DD 2To/Json Ahl/\", \"studiesOver2Series\", json.dumps(series_to_check))\n",
    "print(Counter(series_list))"
   ]
  },
  {
   "cell_type": "code",
   "execution_count": null,
   "metadata": {},
   "outputs": [],
   "source": []
  }
 ]
}