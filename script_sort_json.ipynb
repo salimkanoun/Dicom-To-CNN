{
 "nbformat": 4,
 "nbformat_minor": 2,
 "metadata": {
  "language_info": {
   "name": "python",
   "codemirror_mode": {
    "name": "ipython",
    "version": 2
   },
   "version": "3.8.2-final"
  },
  "orig_nbformat": 2,
  "file_extension": ".py",
  "mimetype": "text/x-python",
  "name": "python",
  "npconvert_exporter": "python",
  "pygments_lexer": "ipython2",
  "version": 2,
  "kernelspec": {
   "name": "python38264bit741c38d3bcec48dc835c8ad5f1161b3f",
   "display_name": "Python 3.8.2 64-bit"
  }
 },
 "cells": [
  {
   "cell_type": "code",
   "execution_count": null,
   "metadata": {},
   "outputs": [],
   "source": [
    "import json\n",
    "import os\n",
    "import pprint\n",
    "import shutil\n",
    "from collections import defaultdict, Counter\n",
    "from library_dicom.dicom_processor.tools.folders import write_json_file\n",
    "from library_dicom.dicom_processor.tools.cleaning_series import *\n"
   ]
  },
  {
   "cell_type": "code",
   "execution_count": null,
   "metadata": {},
   "outputs": [],
   "source": [
    "merged_content = generate_merged_file(\"/media/salim/DD 2To/Json Ahl\")\n",
    "write_json_file(\"/media/salim/DD 2To/Json Ahl\", 'merged_files', merged_content)"
   ]
  },
  {
   "cell_type": "code",
   "execution_count": null,
   "metadata": {},
   "outputs": [],
   "source": [
    "series_ready = find_studies_with_two_series(\"/media/salim/DD 2To/Json Ahl/merged_files.json\")\n"
   ]
  },
  {
   "cell_type": "code",
   "execution_count": null,
   "metadata": {},
   "outputs": [],
   "source": [
    "root_destination = \"/media/salim/DD 2To/AHL2011_Validated_DICOMS\"\n",
    "for seriesID in series_ready : \n",
    "    print(seriesID)\n",
    "    source_path = series_ready[seriesID]['path']\n",
    "    parentPatientID = series_ready[seriesID]['parentPatientID']\n",
    "    parentStudyUID = series_ready[seriesID]['parentStudyUID']\n",
    "    print( series_ready[seriesID]['path'] )\n",
    "    print( series_ready[seriesID]['parentStudyUID'] )\n",
    "    print( series_ready[seriesID]['parentPatientID'] )\n",
    "    destination = root_destination+\"/\"+parentPatientID+\"/\"+parentStudyUID+\"/\"+seriesID\n",
    "    os.makedirs(destination, exist_ok=True)\n",
    "    shutil.move(source_path, destination)"
   ]
  },
  {
   "cell_type": "code",
   "execution_count": null,
   "metadata": {},
   "outputs": [],
   "source": []
  }
 ]
}