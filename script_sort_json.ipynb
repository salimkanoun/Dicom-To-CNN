{
 "nbformat": 4,
 "nbformat_minor": 2,
 "metadata": {
  "language_info": {
   "name": "python",
   "codemirror_mode": {
    "name": "ipython",
    "version": 2
   },
   "version": "3.8.5-final"
  },
  "orig_nbformat": 2,
  "file_extension": ".py",
  "mimetype": "text/x-python",
  "name": "python",
  "npconvert_exporter": "python",
  "pygments_lexer": "ipython2",
  "version": 2,
  "kernelspec": {
   "name": "python38564bit9a8409779cd04c3cbd0c5f1e859a644e",
   "display_name": "Python 3.8.5 64-bit"
  }
 },
 "cells": [
  {
   "cell_type": "code",
   "execution_count": 1,
   "metadata": {},
   "outputs": [],
   "source": [
    "import json\n",
    "import os\n",
    "import pprint\n",
    "import shutil\n",
    "from collections import defaultdict, Counter\n",
    "from library_dicom.dicom_processor.tools.folders import write_json_file\n",
    "from library_dicom.dicom_processor.tools.cleaning_series import *\n"
   ]
  },
  {
   "source": [
    "merged_content = generate_merged_file('/media/deeplearning/78ca2911-9e9f-4f78-b80a-848024b95f92/RELEVANCE_json')\n",
    "write_json_file('/media/deeplearning/78ca2911-9e9f-4f78-b80a-848024b95f92/RELEVANCE_json', 'merged_files', merged_content)"
   ],
   "cell_type": "code",
   "metadata": {},
   "execution_count": null,
   "outputs": []
  },
  {
   "cell_type": "code",
   "execution_count": 6,
   "metadata": {},
   "outputs": [
    {
     "output_type": "stream",
     "name": "stdout",
     "text": [
      "300\n"
     ]
    }
   ],
   "source": [
    "series_ready = find_studies_with_two_series(\"/media/deeplearning/78ca2911-9e9f-4f78-b80a-848024b95f92/RELEVANCE_json/merged_files.json\")\n",
    "print(len(series_ready))"
   ]
  },
  {
   "cell_type": "code",
   "execution_count": 7,
   "metadata": {
    "tags": [
     "outputPrepend"
    ]
   },
   "outputs": [
    {
     "output_type": "stream",
     "name": "stdout",
     "text": [
      "3D-RAMLA': 1, 'p487s0_wb_ctac.img: LOR-RAMLA': 1, 'CT CORPS ENTIER 2.5MM': 1, 'CT 1.25MM': 1, 'PARENCHYME 1,5/1MM': 1, 'p11550s0_wb_ctac.img: LOR-RAMLA': 1, 'p11550s0_wb_nac.img: 3D-RAMLA': 1, 'p11550s2_wb_ctac.img: LOR-RAMLA': 1, 'p11550s2_wb_nac.img: 3D-RAMLA': 1, 'p13201s0_wb_nac.img: 3D-RAMLA': 1, 'p13201s0_wb_ctac.img: LOR-RAMLA': 1, 'p13201s2_wb_nac.img: 3D-RAMLA': 1, 'p13201s2_wb_ctac.img: LOR-RAMLA': 1, 'p2442s0_wb_nac.img: 3D-RAMLA': 1, 'p2442s0_wb_ctac.img: LOR-RAMLA': 1, 'p11363s2_wb_ctac.img: LOR-RAMLA': 1, 'p11363s2_wb_nac.img: 3D-RAMLA': 1, 'p11363s0_wb_nac.img: 3D-RAMLA': 1, 'p11363s0_wb_ctac.img: LOR-RAMLA': 1, 'p12902s2_wb_ctac.img: LOR-RAMLA': 1, 'p12902s2_wb_nac.img: 3D-RAMLA': 1, 'p12902s0_wb_nac.img: 3D-RAMLA': 1, 'p12902s0_wb_ctac.img: LOR-RAMLA': 1, 'CT TAP  2.0  B70f': 1, 'CT TAP  2.0  B20f': 1, 'CT TAP 5.0 B40s': 1, 'p18624s0_wb_ctac.img: LOR-RAMLA': 1, 'p18624s0_wb_nac.img: 3D-RAMLA': 1, 'p1689s0_wb_ctac.img: LOR-RAMLA': 1, 'p1689s0_wb_nac.img: 3D-RAMLA': 1})\n"
     ]
    }
   ],
   "source": [
    "studies_over_two_series, paths = find_studies_over_two_series(\"/media/deeplearning/78ca2911-9e9f-4f78-b80a-848024b95f92/RELEVANCE_json/merged_files.json\")\n",
    "print(len(studies_over_two_series))\n",
    "print(Counter(studies_over_two_series))"
   ]
  },
  {
   "cell_type": "code",
   "execution_count": 9,
   "metadata": {},
   "outputs": [
    {
     "output_type": "execute_result",
     "data": {
      "text/plain": [
       "130"
      ]
     },
     "metadata": {},
     "execution_count": 9
    }
   ],
   "source": [
    "len(studies_over_two_series)"
   ]
  },
  {
   "cell_type": "code",
   "execution_count": 11,
   "metadata": {},
   "outputs": [
    {
     "output_type": "execute_result",
     "data": {
      "text/plain": [
       "130"
      ]
     },
     "metadata": {},
     "execution_count": 11
    }
   ],
   "source": [
    "len(paths)"
   ]
  },
  {
   "cell_type": "code",
   "execution_count": 8,
   "metadata": {},
   "outputs": [
    {
     "output_type": "execute_result",
     "data": {
      "text/plain": [
       "é': 8,\n",
       "         'CT TAP  2.0  I30f  3': 7,\n",
       "         'CT TAP  2.0  I70f  3': 7,\n",
       "         'p13201s0_wb_nac.img: 3D-RAMLA': 1,\n",
       "         'p13201s0_wb_ctac.img: LOR-RAMLA': 1,\n",
       "         'p13201s2_wb_nac.img: 3D-RAMLA': 1,\n",
       "         'p13201s2_wb_ctac.img: LOR-RAMLA': 1,\n",
       "         'p2442s0_wb_nac.img: 3D-RAMLA': 1,\n",
       "         'p2442s0_wb_ctac.img: LOR-RAMLA': 1,\n",
       "         'p11363s2_wb_ctac.img: LOR-RAMLA': 1,\n",
       "         'p11363s2_wb_nac.img: 3D-RAMLA': 1,\n",
       "         'p11363s0_wb_nac.img: 3D-RAMLA': 1,\n",
       "         'p11363s0_wb_ctac.img: LOR-RAMLA': 1,\n",
       "         'p12902s2_wb_ctac.img: LOR-RAMLA': 1,\n",
       "         'p12902s2_wb_nac.img: 3D-RAMLA': 1,\n",
       "         'p12902s0_wb_nac.img: 3D-RAMLA': 1,\n",
       "         'p12902s0_wb_ctac.img: LOR-RAMLA': 1,\n",
       "         'CT TAP  2.0  B70f': 1,\n",
       "         'CT TAP  2.0  B20f': 1,\n",
       "         'CT TAP 5.0 B40s': 1,\n",
       "         'p18624s0_wb_ctac.img: LOR-RAMLA': 1,\n",
       "         'p18624s0_wb_nac.img: 3D-RAMLA': 1,\n",
       "         'p1689s0_wb_ctac.img: LOR-RAMLA': 1,\n",
       "         'p1689s0_wb_nac.img: 3D-RAMLA': 1})"
      ]
     },
     "metadata": {},
     "execution_count": 8
    }
   ],
   "source": [
    "Counter(studies_over_two_series)"
   ]
  },
  {
   "cell_type": "code",
   "execution_count": null,
   "metadata": {},
   "outputs": [],
   "source": [
    "#copy study more than 2 series "
   ]
  },
  {
   "cell_type": "code",
   "execution_count": 21,
   "metadata": {
    "tags": [
     "outputPrepend"
    ]
   },
   "outputs": [
    {
     "output_type": "stream",
     "name": "stdout",
     "text": [
      "ements/RElevance envoi 2/Envoi6/12011101191103/PET_24weeks/1.3.46.670589.28.2.10.7.59695.20379.2.2608.0.1385643844'\n",
      "[Errno 2] No such file or directory: '/media/deeplearning/Elements/RElevance envoi 2/Envoi6/12011101191103/PET_Screening/1.3.46.670589.28.2.10.4.9171.50270.2.2300.0.1367932888'\n",
      "[Errno 2] No such file or directory: '/media/deeplearning/Elements/RElevance envoi 2/Envoi6/12011101191107/PET_24weeks/1.3.46.670589.28.2.10.4.9171.50072.2.1392.0.1413543606'\n",
      "[Errno 2] No such file or directory: '/media/deeplearning/Elements/RElevance envoi 2/Envoi6/12011101191107/PET_Screening/1.3.46.670589.28.2.10.4.9171.50072.2.920.0.1396621084'\n",
      "[Errno 2] No such file or directory: '/media/deeplearning/Elements/RElevance envoi 2/Envoi18/52011104081104/PET_Screening/1.3.46.670589.28.2.10.14.3191.41891.2.3872.0.1401794572'\n",
      "[Errno 2] No such file or directory: '/media/deeplearning/Elements/RElevance envoi 2/Envoi18/52011104081104/PET_24weeks/1.3.46.670589.28.2.10.14.3191.41891.2.3656.0.1418201773'\n"
     ]
    }
   ],
   "source": [
    "export_folder = '/media/deeplearning/Elements/check_serie'\n",
    "for path in paths : \n",
    "    try : \n",
    "        dest = '/'.join(path.split('/')[6:])\n",
    "        #print(dest)\n",
    "        destination = export_folder+'/'+dest\n",
    "        shutil.copytree(path, destination)\n",
    "    except Exception as err : \n",
    "        print(err)"
   ]
  },
  {
   "cell_type": "code",
   "execution_count": 46,
   "metadata": {},
   "outputs": [
    {
     "output_type": "stream",
     "name": "stdout",
     "text": [
      "24\n"
     ]
    }
   ],
   "source": [
    "non_interesting_series  = find_non_intersting_series(\"/media/deeplearning/78ca2911-9e9f-4f78-b80a-848024b95f92/RELEVANCE_json/merged_files.json\")\n",
    "print(len(non_interesting_series))"
   ]
  },
  {
   "cell_type": "code",
   "execution_count": 49,
   "metadata": {},
   "outputs": [
    {
     "output_type": "stream",
     "name": "stdout",
     "text": [
      "[Errno 2] No such file or directory: '/media/deeplearning/Elements/RElevance envoi 2/Envoi6/12011101191105/PET_Screening/1.3.46.670589.28.2.10.4.9171.50270.2.340.0.1379595907'\n[Errno 2] No such file or directory: '/media/deeplearning/Elements/RElevance envoi 2/Envoi6/12011101191105/PET_24weeks/1.3.46.670589.28.2.10.4.9171.50072.2.1948.0.1395751673'\n[Errno 2] No such file or directory: '/media/deeplearning/Elements/RElevance envoi 2/Envoi9/12011101231103/PET_Screening/1.3.12.2.1107.5.1.4.1003.30000013012308271776500014551'\n[Errno 2] No such file or directory: '/media/deeplearning/Elements/RElevance envoi 2/Envoi9/12011101231103/PET_Screening/1.3.12.2.1107.5.1.4.1003.30000013012308270176500010521'\n"
     ]
    }
   ],
   "source": [
    "for non_interisting in non_interesting_series:\n",
    "    try : \n",
    "        shutil.rmtree(non_interisting)\n",
    "    except Exception as err : \n",
    "        print(err)"
   ]
  },
  {
   "source": [
    "root_destination = \"/media/deeplearning/Elements/RELEVANCE_Validated_DICOM\"\n",
    "for seriesID in series_ready : \n",
    "    source_path = series_ready[seriesID]['path']\n",
    "    parentPatientID = series_ready[seriesID]['parentPatientID']\n",
    "    parentStudyUID = series_ready[seriesID]['parentStudyUID']\n",
    "    destination = root_destination+\"/\"+parentPatientID+\"/\"+parentStudyUID+\"/\"+seriesID\n",
    "    os.makedirs(destination, exist_ok=True)\n",
    "    shutil.move(source_path, destination)"
   ],
   "cell_type": "code",
   "metadata": {},
   "execution_count": null,
   "outputs": []
  }
 ]
}