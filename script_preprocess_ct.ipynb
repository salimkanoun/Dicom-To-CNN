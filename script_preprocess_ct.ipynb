{
 "cells": [
  {
   "cell_type": "code",
   "execution_count": 2,
   "metadata": {},
   "outputs": [],
   "source": [
    "from library_dicom.dicom_processor.tools.preprocessing import *\n",
    "import matplotlib.pyplot as plt\n",
    "import numpy as np\n",
    "from library_dicom.dicom_processor.model.SeriesPT import SeriesPT\n",
    "from library_dicom.dicom_processor.model.SeriesCT import SeriesCT\n",
    "from library_dicom.dicom_processor.tools.create_mip import *\n",
    "from library_dicom.dicom_processor.model.csv_reader.MaskBuilder import MaskBuilder"
   ]
  },
  {
   "cell_type": "code",
   "execution_count": 3,
   "metadata": {},
   "outputs": [],
   "source": [
    "#generate for pet0 in ahl\n",
    "import csv \n",
    "csv_gained_pet0= '/media/deeplearning/Elements/AHL2011_NIFTI.csv'\n",
    "with open(csv_gained_pet0, 'r') as csv_file :\n",
    "    reader = csv.reader(csv_file, delimiter = ',') #liste pour chaque ligne \n",
    "    csv_data = []\n",
    "    for row in reader :\n",
    "        csv_data.append(row)\n",
    "        \n",
    "del csv_data[0] #enlever première ligne"
   ]
  },
  {
   "cell_type": "code",
   "execution_count": 4,
   "metadata": {},
   "outputs": [
    {
     "output_type": "execute_result",
     "data": {
      "text/plain": "1755"
     },
     "metadata": {},
     "execution_count": 4
    }
   ],
   "source": [
    "len(csv_data)"
   ]
  },
  {
   "cell_type": "code",
   "execution_count": 5,
   "metadata": {},
   "outputs": [
    {
     "output_type": "execute_result",
     "data": {
      "text/plain": "['CON,DA',\n '13011101331015',\n '1.2.124.113532.10.149.172.5.20131107.93455.7725981',\n 'pet0',\n '/media/storage/AHL2011_NIFTI/1.2.124.113532.10.149.172.5.20131107.93455.7725981_nifti_CT.nii',\n '/media/storage/AHL2011_NIFTI/1.2.124.113532.10.149.172.5.20131107.93455.7725981_nifti_PT.nii',\n '/media/storage/AHL2011_NIFTI/1.2.124.113532.10.149.172.5.20131107.93455.7725981_nifti_mask.nii']"
     },
     "metadata": {},
     "execution_count": 5
    }
   ],
   "source": [
    "csv_data[0]"
   ]
  },
  {
   "source": [
    "pet2 = csv_data[578:1231]"
   ],
   "cell_type": "code",
   "metadata": {},
   "execution_count": 6,
   "outputs": []
  },
  {
   "source": [
    "pet2[-1]"
   ],
   "cell_type": "code",
   "metadata": {},
   "execution_count": 7,
   "outputs": [
    {
     "output_type": "execute_result",
     "data": {
      "text/plain": "['BES,LA',\n '13011101331006',\n '1.2.124.113532.10.149.172.5.20130213.83635.7098207',\n 'pet4',\n '/media/storage/AHL2011_NIFTI_PET24/1.2.124.113532.10.149.172.5.20130213.83635.7098207_nifti_CT.nii',\n '/media/storage/AHL2011_NIFTI_PET24/1.2.124.113532.10.149.172.5.20130213.83635.7098207_nifti_PT.nii',\n ' ']"
     },
     "metadata": {},
     "execution_count": 7
    }
   ]
  },
  {
   "source": [
    "len(pet2)"
   ],
   "cell_type": "code",
   "metadata": {},
   "execution_count": 8,
   "outputs": [
    {
     "output_type": "execute_result",
     "data": {
      "text/plain": "653"
     },
     "metadata": {},
     "execution_count": 8
    }
   ]
  },
  {
   "source": [
    "for serie in pet2 : \n",
    "    ct = serie[4].replace('storage', 'deeplearning/Elements')\n",
    "    serie[4] = ct "
   ],
   "cell_type": "code",
   "metadata": {},
   "execution_count": 9,
   "outputs": []
  },
  {
   "source": [
    "pet2[-1]"
   ],
   "cell_type": "code",
   "metadata": {},
   "execution_count": 10,
   "outputs": [
    {
     "output_type": "execute_result",
     "data": {
      "text/plain": "['BES,LA',\n '13011101331006',\n '1.2.124.113532.10.149.172.5.20130213.83635.7098207',\n 'pet4',\n '/media/deeplearning/Elements/AHL2011_NIFTI_PET24/1.2.124.113532.10.149.172.5.20130213.83635.7098207_nifti_CT.nii',\n '/media/storage/AHL2011_NIFTI_PET24/1.2.124.113532.10.149.172.5.20130213.83635.7098207_nifti_PT.nii',\n ' ']"
     },
     "metadata": {},
     "execution_count": 10
    }
   ]
  },
  {
   "cell_type": "code",
   "execution_count": 19,
   "metadata": {
    "tags": [
     "outputPrepend"
    ]
   },
   "outputs": [
    {
     "output_type": "stream",
     "name": "stdout",
     "text": "SimpleITK ReadImage: /tmp/SimpleITK/Code/IO/src/sitkImageReaderBase.cxx:99:\nsitk::ERROR: The file \"/media/storage/AHL2011_NIFTI_PET24/2.16.56.465769650.2551326252.3216962169_nifti_CT.nii\" does not exist.\n1670\nException thrown in SimpleITK ReadImage: /tmp/SimpleITK/Code/IO/src/sitkImageReaderBase.cxx:99:\nsitk::ERROR: The file \"/media/storage/AHL2011_NIFTI_PET24/2.16.56.465769650.2551326252.3508094928_nifti_CT.nii\" does not exist.\n1671\nException thrown in SimpleITK ReadImage: /tmp/SimpleITK/Code/IO/src/sitkImageReaderBase.cxx:99:\nsitk::ERROR: The file \"/media/storage/AHL2011_NIFTI_PET24/2.16.56.465769650.2551326252.819247385_nifti_CT.nii\" does not exist.\n1672\nException thrown in SimpleITK ReadImage: /tmp/SimpleITK/Code/IO/src/sitkImageReaderBase.cxx:99:\nsitk::ERROR: The file \"/media/storage/AHL2011_NIFTI_PET24/2.16.56.465769650.2551326252.3760137111_nifti_CT.nii\" does not exist.\n1673\nException thrown in SimpleITK ReadImage: /tmp/SimpleITK/Code/IO/src/sitkImageReaderBase.cxx:99:\nsitk::ERROR: The file \"/media/storage/AHL2011_NIFTI_PET24/2.16.56.465769650.2551326252.494943377_nifti_CT.nii\" does not exist.\n1674\nException thrown in SimpleITK ReadImage: /tmp/SimpleITK/Code/IO/src/sitkImageReaderBase.cxx:99:\nsitk::ERROR: The file \"/media/storage/AHL2011_NIFTI_PET24/2.16.56.465769650.3867004694.474443967_nifti_CT.nii\" does not exist.\n1675\nException thrown in SimpleITK ReadImage: /tmp/SimpleITK/Code/IO/src/sitkImageReaderBase.cxx:99:\nsitk::ERROR: The file \"/media/storage/AHL2011_NIFTI_PET24/2.16.56.465769650.3867004694.2109826007_nifti_CT.nii\" does not exist.\n1676\nException thrown in SimpleITK ReadImage: /tmp/SimpleITK/Code/IO/src/sitkImageReaderBase.cxx:99:\nsitk::ERROR: The file \"/media/storage/AHL2011_NIFTI_PET24/2.16.840.1.113669.632.20.210791.10000155373_nifti_CT.nii\" does not exist.\n1677\nException thrown in SimpleITK ReadImage: /tmp/SimpleITK/Code/IO/src/sitkImageReaderBase.cxx:99:\nsitk::ERROR: The file \"/media/storage/AHL2011_NIFTI_PET24/2.16.840.1.113669.632.20.210791.10000155394_nifti_CT.nii\" does not exist.\n1678\nException thrown in SimpleITK ReadImage: /tmp/SimpleITK/Code/IO/src/sitkImageReaderBase.cxx:99:\nsitk::ERROR: The file \"/media/storage/AHL2011_NIFTI_PET24/2.16.840.1.113669.632.20.210791.20000001834_nifti_CT.nii\" does not exist.\n1679\nException thrown in SimpleITK ReadImage: /tmp/SimpleITK/Code/IO/src/sitkImageReaderBase.cxx:99:\nsitk::ERROR: The file \"/media/storage/AHL2011_NIFTI_PET24/2.16.840.1.113669.632.20.210791.20000003666_nifti_CT.nii\" does not exist.\n1680\nException thrown in SimpleITK ReadImage: /tmp/SimpleITK/Code/IO/src/sitkImageReaderBase.cxx:99:\nsitk::ERROR: The file \"/media/storage/AHL2011_NIFTI_PET24/2.16.840.1.113669.632.20.210791.20000008052_nifti_CT.nii\" does not exist.\n1681\nException thrown in SimpleITK ReadImage: /tmp/SimpleITK/Code/IO/src/sitkImageReaderBase.cxx:99:\nsitk::ERROR: The file \"/media/storage/AHL2011_NIFTI_PET24/2.16.840.1.113669.632.20.210791.20000011093_nifti_CT.nii\" does not exist.\n1682\nException thrown in SimpleITK ReadImage: /tmp/SimpleITK/Code/IO/src/sitkImageReaderBase.cxx:99:\nsitk::ERROR: The file \"/media/storage/AHL2011_NIFTI_PET24/2.16.840.1.113669.632.20.210791.20000010974_nifti_CT.nii\" does not exist.\n1683\nException thrown in SimpleITK ReadImage: /tmp/SimpleITK/Code/IO/src/sitkImageReaderBase.cxx:99:\nsitk::ERROR: The file \"/media/storage/AHL2011_NIFTI_PET24/2.16.840.1.113669.632.20.210791.20000009641_nifti_CT.nii\" does not exist.\n1684\nException thrown in SimpleITK ReadImage: /tmp/SimpleITK/Code/IO/src/sitkImageReaderBase.cxx:99:\nsitk::ERROR: The file \"/media/storage/AHL2011_NIFTI_PET24/2.16.840.1.113669.632.20.210791.20000015048_nifti_CT.nii\" does not exist.\n1685\nException thrown in SimpleITK ReadImage: /tmp/SimpleITK/Code/IO/src/sitkImageReaderBase.cxx:99:\nsitk::ERROR: The file \"/media/storage/AHL2011_NIFTI_PET24/2.16.840.1.113669.632.20.210791.20000017420_nifti_CT.nii\" does not exist.\n1686\nException thrown in SimpleITK ReadImage: /tmp/SimpleITK/Code/IO/src/sitkImageReaderBase.cxx:99:\nsitk::ERROR: The file \"/media/storage/AHL2011_NIFTI_PET24/2.16.840.1.113669.632.20.210791.20000025848_nifti_CT.nii\" does not exist.\n1687\nException thrown in SimpleITK ReadImage: /tmp/SimpleITK/Code/IO/src/sitkImageReaderBase.cxx:99:\nsitk::ERROR: The file \"/media/storage/AHL2011_NIFTI_PET24/2.16.840.1.113669.632.20.210791.20000028051_nifti_CT.nii\" does not exist.\n1688\nException thrown in SimpleITK ReadImage: /tmp/SimpleITK/Code/IO/src/sitkImageReaderBase.cxx:99:\nsitk::ERROR: The file \"/media/storage/AHL2011_NIFTI_PET24/2.16.840.1.113669.632.20.210791.20000058538_nifti_CT.nii\" does not exist.\n1689\nException thrown in SimpleITK ReadImage: /tmp/SimpleITK/Code/IO/src/sitkImageReaderBase.cxx:99:\nsitk::ERROR: The file \"/media/storage/AHL2011_NIFTI_PET24/2.16.840.1.113669.632.20.210791.20000058326_nifti_CT.nii\" does not exist.\n1690\nException thrown in SimpleITK ReadImage: /tmp/SimpleITK/Code/IO/src/sitkImageReaderBase.cxx:99:\nsitk::ERROR: The file \"/media/storage/AHL2011_NIFTI_PET24/2.16.840.1.113669.632.20.210791.20000071314_nifti_CT.nii\" does not exist.\n1691\nException thrown in SimpleITK ReadImage: /tmp/SimpleITK/Code/IO/src/sitkImageReaderBase.cxx:99:\nsitk::ERROR: The file \"/media/storage/AHL2011_NIFTI_PET24/2.16.840.1.113669.632.20.210791.20000077749_nifti_CT.nii\" does not exist.\n1692\nException thrown in SimpleITK ReadImage: /tmp/SimpleITK/Code/IO/src/sitkImageReaderBase.cxx:99:\nsitk::ERROR: The file \"/media/storage/AHL2011_NIFTI_PET24/2.16.840.1.113669.632.20.210791.20000073268_nifti_CT.nii\" does not exist.\n1693\nException thrown in SimpleITK ReadImage: /tmp/SimpleITK/Code/IO/src/sitkImageReaderBase.cxx:99:\nsitk::ERROR: The file \"/media/storage/AHL2011_NIFTI_PET24/2.16.840.1.113669.632.20.210791.20000073600_nifti_CT.nii\" does not exist.\n1694\nException thrown in SimpleITK ReadImage: /tmp/SimpleITK/Code/IO/src/sitkImageReaderBase.cxx:99:\nsitk::ERROR: The file \"/media/storage/AHL2011_NIFTI_PET24/2.16.840.1.113669.632.20.210791.20000082112_nifti_CT.nii\" does not exist.\n1695\nException thrown in SimpleITK ReadImage: /tmp/SimpleITK/Code/IO/src/sitkImageReaderBase.cxx:99:\nsitk::ERROR: The file \"/media/storage/AHL2011_NIFTI_PET24/2.16.840.1.113669.632.20.210791.20000176394_nifti_CT.nii\" does not exist.\n1696\nException thrown in SimpleITK ReadImage: /tmp/SimpleITK/Code/IO/src/sitkImageReaderBase.cxx:99:\nsitk::ERROR: The file \"/media/storage/AHL2011_NIFTI_PET24/2.16.840.1.113669.632.20.210791.20000203534_nifti_CT.nii\" does not exist.\n1697\nException thrown in SimpleITK ReadImage: /tmp/SimpleITK/Code/IO/src/sitkImageReaderBase.cxx:99:\nsitk::ERROR: The file \"/media/storage/AHL2011_NIFTI_PET24/2.16.840.1.113669.632.20.300001.10000576664_nifti_CT.nii\" does not exist.\n1698\nException thrown in SimpleITK ReadImage: /tmp/SimpleITK/Code/IO/src/sitkImageReaderBase.cxx:99:\nsitk::ERROR: The file \"/media/storage/AHL2011_NIFTI_PET24/2.16.840.1.113669.632.20.300001.10000610283_nifti_CT.nii\" does not exist.\n1699\nException thrown in SimpleITK ReadImage: /tmp/SimpleITK/Code/IO/src/sitkImageReaderBase.cxx:99:\nsitk::ERROR: The file \"/media/storage/AHL2011_NIFTI_PET24/2.16.840.1.113669.632.20.330001.10001905919_nifti_CT.nii\" does not exist.\n1700\nException thrown in SimpleITK ReadImage: /tmp/SimpleITK/Code/IO/src/sitkImageReaderBase.cxx:99:\nsitk::ERROR: The file \"/media/storage/AHL2011_NIFTI_PET24/2.16.840.1.113669.632.20.330001.10001926437_nifti_CT.nii\" does not exist.\n1701\nException thrown in SimpleITK ReadImage: /tmp/SimpleITK/Code/IO/src/sitkImageReaderBase.cxx:99:\nsitk::ERROR: The file \"/media/storage/AHL2011_NIFTI_PET24/2.16.840.1.113669.632.20.330001.10001951466_nifti_CT.nii\" does not exist.\n1702\nException thrown in SimpleITK ReadImage: /tmp/SimpleITK/Code/IO/src/sitkImageReaderBase.cxx:99:\nsitk::ERROR: The file \"/media/storage/AHL2011_NIFTI_PET24/2.16.840.1.113669.632.20.330001.10001998734_nifti_CT.nii\" does not exist.\n1703\nException thrown in SimpleITK ReadImage: /tmp/SimpleITK/Code/IO/src/sitkImageReaderBase.cxx:99:\nsitk::ERROR: The file \"/media/storage/AHL2011_NIFTI_PET24/2.16.840.1.113669.632.20.330001.10002036437_nifti_CT.nii\" does not exist.\n1704\nException thrown in SimpleITK ReadImage: /tmp/SimpleITK/Code/IO/src/sitkImageReaderBase.cxx:99:\nsitk::ERROR: The file \"/media/storage/AHL2011_NIFTI_PET24/2.16.840.1.113669.632.20.330001.10002147686_nifti_CT.nii\" does not exist.\n1705\nException thrown in SimpleITK ReadImage: /tmp/SimpleITK/Code/IO/src/sitkImageReaderBase.cxx:99:\nsitk::ERROR: The file \"/media/storage/AHL2011_NIFTI_PET24/2.16.840.1.113669.632.20.330001.10002151055_nifti_CT.nii\" does not exist.\n1706\nException thrown in SimpleITK ReadImage: /tmp/SimpleITK/Code/IO/src/sitkImageReaderBase.cxx:99:\nsitk::ERROR: The file \"/media/storage/AHL2011_NIFTI_PET24/2.16.840.1.113669.632.20.330001.10002147734_nifti_CT.nii\" does not exist.\n1707\nException thrown in SimpleITK ReadImage: /tmp/SimpleITK/Code/IO/src/sitkImageReaderBase.cxx:99:\nsitk::ERROR: The file \"/media/storage/AHL2011_NIFTI_PET24/2.16.840.1.113669.632.20.330001.10002217703_nifti_CT.nii\" does not exist.\n1708\nException thrown in SimpleITK ReadImage: /tmp/SimpleITK/Code/IO/src/sitkImageReaderBase.cxx:99:\nsitk::ERROR: The file \"/media/storage/AHL2011_NIFTI_PET24/2.16.840.1.113669.632.20.330001.10002209026_nifti_CT.nii\" does not exist.\n1709\nException thrown in SimpleITK ReadImage: /tmp/SimpleITK/Code/IO/src/sitkImageReaderBase.cxx:99:\nsitk::ERROR: The file \"/media/storage/AHL2011_NIFTI_PET24/2.16.840.1.113669.632.20.330001.10002243092_nifti_CT.nii\" does not exist.\n1710\nException thrown in SimpleITK ReadImage: /tmp/SimpleITK/Code/IO/src/sitkImageReaderBase.cxx:99:\nsitk::ERROR: The file \"/media/storage/AHL2011_NIFTI_PET24/2.16.840.1.113669.632.20.330001.10002297836_nifti_CT.nii\" does not exist.\n1711\nException thrown in SimpleITK ReadImage: /tmp/SimpleITK/Code/IO/src/sitkImageReaderBase.cxx:99:\nsitk::ERROR: The file \"/media/storage/AHL2011_NIFTI_PET24/2.16.840.1.113669.632.20.330001.10002389027_nifti_CT.nii\" does not exist.\n1712\nException thrown in SimpleITK ReadImage: /tmp/SimpleITK/Code/IO/src/sitkImageReaderBase.cxx:99:\nsitk::ERROR: The file \"/media/storage/AHL2011_NIFTI_PET24/2.16.840.1.113669.632.20.540001.10003198925_nifti_CT.nii\" does not exist.\n1713\nException thrown in SimpleITK ReadImage: /tmp/SimpleITK/Code/IO/src/sitkImageReaderBase.cxx:99:\nsitk::ERROR: The file \"/media/storage/AHL2011_NIFTI_PET24/2.16.840.1.113669.632.20.540001.10003196580_nifti_CT.nii\" does not exist.\n1714\nException thrown in SimpleITK ReadImage: /tmp/SimpleITK/Code/IO/src/sitkImageReaderBase.cxx:99:\nsitk::ERROR: The file \"/media/storage/AHL2011_NIFTI_PET24/2.16.840.1.113669.632.20.540001.10003213518_nifti_CT.nii\" does not exist.\n1715\nException thrown in SimpleITK ReadImage: /tmp/SimpleITK/Code/IO/src/sitkImageReaderBase.cxx:99:\nsitk::ERROR: The file \"/media/storage/AHL2011_NIFTI_PET24/2.16.840.1.113669.632.20.540001.10003302807_nifti_CT.nii\" does not exist.\n1716\nException thrown in SimpleITK ReadImage: /tmp/SimpleITK/Code/IO/src/sitkImageReaderBase.cxx:99:\nsitk::ERROR: The file \"/media/storage/AHL2011_NIFTI_PET24/2.16.840.1.113669.632.20.540001.10003389793_nifti_CT.nii\" does not exist.\n1717\nException thrown in SimpleITK ReadImage: /tmp/SimpleITK/Code/IO/src/sitkImageReaderBase.cxx:99:\nsitk::ERROR: The file \"/media/storage/AHL2011_NIFTI_PET24/2.16.840.1.113669.632.20.540001.10003509273_nifti_CT.nii\" does not exist.\n1718\nException thrown in SimpleITK ReadImage: /tmp/SimpleITK/Code/IO/src/sitkImageReaderBase.cxx:99:\nsitk::ERROR: The file \"/media/storage/AHL2011_NIFTI_PET24/2.16.840.1.113669.632.20.540001.10003503804_nifti_CT.nii\" does not exist.\n1719\nException thrown in SimpleITK ReadImage: /tmp/SimpleITK/Code/IO/src/sitkImageReaderBase.cxx:99:\nsitk::ERROR: The file \"/media/storage/AHL2011_NIFTI_PET24/2.16.840.1.113669.632.20.540001.10003483430_nifti_CT.nii\" does not exist.\n1720\nException thrown in SimpleITK ReadImage: /tmp/SimpleITK/Code/IO/src/sitkImageReaderBase.cxx:99:\nsitk::ERROR: The file \"/media/storage/AHL2011_NIFTI_PET24/2.16.840.1.113669.632.20.540001.10003556264_nifti_CT.nii\" does not exist.\n1721\nException thrown in SimpleITK ReadImage: /tmp/SimpleITK/Code/IO/src/sitkImageReaderBase.cxx:99:\nsitk::ERROR: The file \"/media/storage/AHL2011_NIFTI_PET24/2.16.840.1.113669.632.20.540001.10003580838_nifti_CT.nii\" does not exist.\n1722\nException thrown in SimpleITK ReadImage: /tmp/SimpleITK/Code/IO/src/sitkImageReaderBase.cxx:99:\nsitk::ERROR: The file \"/media/storage/AHL2011_NIFTI_PET24/2.16.840.1.113669.632.20.540001.10003865944_nifti_CT.nii\" does not exist.\n1723\nException thrown in SimpleITK ReadImage: /tmp/SimpleITK/Code/IO/src/sitkImageReaderBase.cxx:99:\nsitk::ERROR: The file \"/media/storage/AHL2011_NIFTI_PET24/2.16.840.1.113669.632.20.540001.10003867203_nifti_CT.nii\" does not exist.\n1724\nException thrown in SimpleITK ReadImage: /tmp/SimpleITK/Code/IO/src/sitkImageReaderBase.cxx:99:\nsitk::ERROR: The file \"/media/storage/AHL2011_NIFTI_PET24/2.16.840.1.113669.632.20.540001.10003927189_nifti_CT.nii\" does not exist.\n1725\nException thrown in SimpleITK ReadImage: /tmp/SimpleITK/Code/IO/src/sitkImageReaderBase.cxx:99:\nsitk::ERROR: The file \"/media/storage/AHL2011_NIFTI_PET24/2.16.840.1.113669.632.20.540001.10004004672_nifti_CT.nii\" does not exist.\n1726\nException thrown in SimpleITK ReadImage: /tmp/SimpleITK/Code/IO/src/sitkImageReaderBase.cxx:99:\nsitk::ERROR: The file \"/media/storage/AHL2011_NIFTI_PET24/2.16.840.1.113669.632.20.620001.10000600514_nifti_CT.nii\" does not exist.\n1727\nException thrown in SimpleITK ReadImage: /tmp/SimpleITK/Code/IO/src/sitkImageReaderBase.cxx:99:\nsitk::ERROR: The file \"/media/storage/AHL2011_NIFTI_PET24/2.16.840.1.113669.632.20.670001.10001544813_nifti_CT.nii\" does not exist.\n1728\nException thrown in SimpleITK ReadImage: /tmp/SimpleITK/Code/IO/src/sitkImageReaderBase.cxx:99:\nsitk::ERROR: The file \"/media/storage/AHL2011_NIFTI_PET24/2.16.840.1.113669.632.20.670001.10001679375_nifti_CT.nii\" does not exist.\n1729\nException thrown in SimpleITK ReadImage: /tmp/SimpleITK/Code/IO/src/sitkImageReaderBase.cxx:99:\nsitk::ERROR: The file \"/media/storage/AHL2011_NIFTI_PET24/2.16.840.1.113669.632.20.689996.10000441772_nifti_CT.nii\" does not exist.\n1730\nException thrown in SimpleITK ReadImage: /tmp/SimpleITK/Code/IO/src/sitkImageReaderBase.cxx:99:\nsitk::ERROR: The file \"/media/storage/AHL2011_NIFTI_PET24/2.16.840.1.113669.632.20.670001.10002012694_nifti_CT.nii\" does not exist.\n1731\nException thrown in SimpleITK ReadImage: /tmp/SimpleITK/Code/IO/src/sitkImageReaderBase.cxx:99:\nsitk::ERROR: The file \"/media/storage/AHL2011_NIFTI_PET24/2.16.840.1.113669.632.20.670001.10002040978_nifti_CT.nii\" does not exist.\n1732\nException thrown in SimpleITK ReadImage: /tmp/SimpleITK/Code/IO/src/sitkImageReaderBase.cxx:99:\nsitk::ERROR: The file \"/media/storage/AHL2011_NIFTI_PET24/2.16.840.1.113669.632.20.670001.10002134373_nifti_CT.nii\" does not exist.\n1733\nException thrown in SimpleITK ReadImage: /tmp/SimpleITK/Code/IO/src/sitkImageReaderBase.cxx:99:\nsitk::ERROR: The file \"/media/storage/AHL2011_NIFTI_PET24/2.16.840.1.113669.632.20.670001.900000045301_nifti_CT.nii\" does not exist.\n1734\nException thrown in SimpleITK ReadImage: /tmp/SimpleITK/Code/IO/src/sitkImageReaderBase.cxx:99:\nsitk::ERROR: The file \"/media/storage/AHL2011_NIFTI_PET24/2.16.840.1.113669.632.20.670001.900000085727_nifti_CT.nii\" does not exist.\n1735\nException thrown in SimpleITK ReadImage: /tmp/SimpleITK/Code/IO/src/sitkImageReaderBase.cxx:99:\nsitk::ERROR: The file \"/media/storage/AHL2011_NIFTI_PET24/2.16.840.1.113669.632.20.670001.900000137238_nifti_CT.nii\" does not exist.\n1736\nException thrown in SimpleITK ReadImage: /tmp/SimpleITK/Code/IO/src/sitkImageReaderBase.cxx:99:\nsitk::ERROR: The file \"/media/storage/AHL2011_NIFTI_PET24/2.16.840.1.113669.632.20.689996.10000317932_nifti_CT.nii\" does not exist.\n1737\nException thrown in SimpleITK ReadImage: /tmp/SimpleITK/Code/IO/src/sitkImageReaderBase.cxx:99:\nsitk::ERROR: The file \"/media/storage/AHL2011_NIFTI_PET24/2.16.840.1.113669.632.20.689996.10000316066_nifti_CT.nii\" does not exist.\n1738\nException thrown in SimpleITK ReadImage: /tmp/SimpleITK/Code/IO/src/sitkImageReaderBase.cxx:99:\nsitk::ERROR: The file \"/media/storage/AHL2011_NIFTI_PET24/2.16.840.1.113669.632.20.689996.10000339264_nifti_CT.nii\" does not exist.\n1739\nException thrown in SimpleITK ReadImage: /tmp/SimpleITK/Code/IO/src/sitkImageReaderBase.cxx:99:\nsitk::ERROR: The file \"/media/storage/AHL2011_NIFTI_PET24/2.16.840.1.113669.632.20.689996.10000409719_nifti_CT.nii\" does not exist.\n1740\nException thrown in SimpleITK ReadImage: /tmp/SimpleITK/Code/IO/src/sitkImageReaderBase.cxx:99:\nsitk::ERROR: The file \"/media/storage/AHL2011_NIFTI_PET24/2.16.840.1.113669.632.20.689996.10000424404_nifti_CT.nii\" does not exist.\n1741\nException thrown in SimpleITK ReadImage: /tmp/SimpleITK/Code/IO/src/sitkImageReaderBase.cxx:99:\nsitk::ERROR: The file \"/media/storage/AHL2011_NIFTI_PET24/2.16.840.1.113669.632.20.689996.10000433441_nifti_CT.nii\" does not exist.\n1742\nException thrown in SimpleITK ReadImage: /tmp/SimpleITK/Code/IO/src/sitkImageReaderBase.cxx:99:\nsitk::ERROR: The file \"/media/storage/AHL2011_NIFTI_PET24/2.16.840.1.113669.632.20.689996.10000438043_nifti_CT.nii\" does not exist.\n1743\nException thrown in SimpleITK ReadImage: /tmp/SimpleITK/Code/IO/src/sitkImageReaderBase.cxx:99:\nsitk::ERROR: The file \"/media/storage/AHL2011_NIFTI_PET24/2.16.840.1.113669.632.20.689996.10000482968_nifti_CT.nii\" does not exist.\n1744\nException thrown in SimpleITK ReadImage: /tmp/SimpleITK/Code/IO/src/sitkImageReaderBase.cxx:99:\nsitk::ERROR: The file \"/media/storage/AHL2011_NIFTI_PET24/2.16.840.1.113669.632.20.689996.10000481996_nifti_CT.nii\" does not exist.\n1745\nException thrown in SimpleITK ReadImage: /tmp/SimpleITK/Code/IO/src/sitkImageReaderBase.cxx:99:\nsitk::ERROR: The file \"/media/storage/AHL2011_NIFTI_PET24/2.16.840.1.113669.632.20.689996.10000485894_nifti_CT.nii\" does not exist.\n1746\nException thrown in SimpleITK ReadImage: /tmp/SimpleITK/Code/IO/src/sitkImageReaderBase.cxx:99:\nsitk::ERROR: The file \"/media/storage/AHL2011_NIFTI_PET24/2.16.840.1.113669.632.20.689996.10000489582_nifti_CT.nii\" does not exist.\n1747\nException thrown in SimpleITK ReadImage: /tmp/SimpleITK/Code/IO/src/sitkImageReaderBase.cxx:99:\nsitk::ERROR: The file \"/media/storage/AHL2011_NIFTI_PET24/2.16.840.1.113669.632.20.689996.10000564102_nifti_CT.nii\" does not exist.\n1748\nException thrown in SimpleITK ReadImage: /tmp/SimpleITK/Code/IO/src/sitkImageReaderBase.cxx:99:\nsitk::ERROR: The file \"/media/storage/AHL2011_NIFTI_PET24/2.16.840.1.113669.632.20.689996.10000589219_nifti_CT.nii\" does not exist.\n1749\nException thrown in SimpleITK ReadImage: /tmp/SimpleITK/Code/IO/src/sitkImageReaderBase.cxx:99:\nsitk::ERROR: The file \"/media/storage/AHL2011_NIFTI_PET24/2.16.840.1.113669.632.20.870421.10000293026_nifti_CT.nii\" does not exist.\n1750\nException thrown in SimpleITK ReadImage: /tmp/SimpleITK/Code/IO/src/sitkImageReaderBase.cxx:99:\nsitk::ERROR: The file \"/media/storage/AHL2011_NIFTI_PET24/2.16.840.1.113669.632.20.870421.10000312920_nifti_CT.nii\" does not exist.\n1751\nException thrown in SimpleITK ReadImage: /tmp/SimpleITK/Code/IO/src/sitkImageReaderBase.cxx:99:\nsitk::ERROR: The file \"/media/storage/AHL2011_NIFTI_PET24/2.16.840.1.113669.632.20.870421.10000766225_nifti_CT.nii\" does not exist.\n1752\nException thrown in SimpleITK ReadImage: /tmp/SimpleITK/Code/IO/src/sitkImageReaderBase.cxx:99:\nsitk::ERROR: The file \"/media/storage/AHL2011_NIFTI_PET24/2.16.840.1.113669.632.20.870421.10000785518_nifti_CT.nii\" does not exist.\n1753\nException thrown in SimpleITK ReadImage: /tmp/SimpleITK/Code/IO/src/sitkImageReaderBase.cxx:99:\nsitk::ERROR: The file \"/media/storage/AHL2011_NIFTI_PET24/2.16.840.1.113669.632.20.870421.10000789985_nifti_CT.nii\" does not exist.\n1754\nException thrown in SimpleITK ReadImage: /tmp/SimpleITK/Code/IO/src/sitkImageReaderBase.cxx:99:\nsitk::ERROR: The file \"/media/storage/AHL2011_NIFTI_PET24/7.29041416391284011361921821017482152178771397203594137988_nifti_CT.nii\" does not exist.\n"
    }
   ],
   "source": [
    "error = []\n",
    "\n",
    "directory_png = '/media/deeplearning/Elements/classif_ct/ahl_pet2'\n",
    "directory_nifti = '/media/deeplearning/Elements/classif_ct/nifti_ahl_pet2'\n",
    "#path_png = []\n",
    "\n",
    "for serie in csv_data : \n",
    "    print(csv_data.index(serie))\n",
    "    try : \n",
    "        ct_img = normalize_CT(serie[4])\n",
    "\n",
    "        result = resample_CT(ct_img, directory_nifti, serie[2])\n",
    "        filename = save_mip(result, directory_png, serie[2])\n",
    "\n",
    "        #path_png.append(filename)\n",
    "    except Exception as err : \n",
    "        print(err)\n",
    "        error.append(serie)"
   ]
  },
  {
   "cell_type": "code",
   "execution_count": null,
   "metadata": {},
   "outputs": [],
   "source": []
  }
 ],
 "metadata": {
  "kernelspec": {
   "display_name": "Python 3",
   "language": "python",
   "name": "python3"
  },
  "language_info": {
   "codemirror_mode": {
    "name": "ipython",
    "version": 3
   },
   "file_extension": ".py",
   "mimetype": "text/x-python",
   "name": "python",
   "nbconvert_exporter": "python",
   "pygments_lexer": "ipython3",
   "version": "3.8.5-final"
  }
 },
 "nbformat": 4,
 "nbformat_minor": 2
}