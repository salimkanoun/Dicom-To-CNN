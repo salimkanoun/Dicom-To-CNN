{
 "cells": [
  {
   "cell_type": "code",
   "execution_count": null,
   "metadata": {},
   "outputs": [],
   "source": [
    "from library_dicom.rtss_processor.model.RTSS import RTSS\n",
    "from library_dicom.rtss_processor.model.ROI_Contour import ROI_Contour\n",
    "\n",
    "from library_dicom.rtss_processor.model.ROI_RTSS import ROI_RTSS\n",
    "\n",
    "from library_dicom.rtss_processor.model.New_Empty_RTSS import New_Empty_RTSS"
   ]
  },
  {
   "cell_type": "code",
   "execution_count": null,
   "metadata": {},
   "outputs": [],
   "source": [
    "CT_path=r'C:\\Users\\wendy\\Documents\\STAGE\\DicomRT\\201802409 BARAT GALPIN ELIANE\\103893708 Tepscan FDG\\CT CT STD 2.5mm'"
   ]
  },
  {
   "cell_type": "code",
   "execution_count": null,
   "metadata": {},
   "outputs": [],
   "source": [
    "rtss = RTSS('mask', 'filename', CT_path)"
   ]
  },
  {
   "cell_type": "code",
   "execution_count": null,
   "metadata": {},
   "outputs": [],
   "source": [
    "rtss.save_as('C:\\Users\\wendy\\Documents\\STAGE\\DicomRT\\201802409 BARAT GALPIN ELIANE\\103893708 Tepscan FDG\\rtss')"
   ]
  },
  {
   "cell_type": "code",
   "execution_count": null,
   "metadata": {},
   "outputs": [],
   "source": [
    "rtss.file_meta"
   ]
  },
  {
   "cell_type": "code",
   "execution_count": null,
   "metadata": {},
   "outputs": [],
   "source": [
    "rtss.tags"
   ]
  },
  {
   "cell_type": "code",
   "execution_count": null,
   "metadata": {},
   "outputs": [],
   "source": [
    "rtss.RTSS_tags"
   ]
  },
  {
   "cell_type": "code",
   "execution_count": null,
   "metadata": {},
   "outputs": [],
   "source": [
    "rtss.set_StructureSetROISequence(1, 'referencedframeofreferencUID', 'ROIName', 'ROIDescription', 10000, 'ROIGenerationAlgorithm')"
   ]
  },
  {
   "cell_type": "code",
   "execution_count": null,
   "metadata": {},
   "outputs": [],
   "source": [
    "rtss.StructureSetROI"
   ]
  },
  {
   "cell_type": "code",
   "execution_count": null,
   "metadata": {},
   "outputs": [],
   "source": [
    "rtss.StructureSetROISequence"
   ]
  },
  {
   "cell_type": "code",
   "execution_count": null,
   "metadata": {},
   "outputs": [],
   "source": [
    "rtss.set_RTROIObservationSequence(2, 1)"
   ]
  },
  {
   "cell_type": "code",
   "execution_count": null,
   "metadata": {},
   "outputs": [],
   "source": [
    "rtss.RTROIObservation"
   ]
  },
  {
   "cell_type": "code",
   "execution_count": null,
   "metadata": {},
   "outputs": [],
   "source": [
    "rtss.RTROIObservationsSequence"
   ]
  },
  {
   "cell_type": "code",
   "execution_count": null,
   "metadata": {},
   "outputs": [],
   "source": [
    "rtss.set_ReferencedFrameOfReferenceSequence('FrameOfReferenceUID', 'StudyInstanceUID', 'SeriesInstanceUID', 'ReferencedSOPClassUID', ['1', '2', '3'])"
   ]
  },
  {
   "cell_type": "code",
   "execution_count": null,
   "metadata": {},
   "outputs": [],
   "source": [
    "rtss.ReferencedFrameOfReference"
   ]
  },
  {
   "cell_type": "code",
   "execution_count": null,
   "metadata": {},
   "outputs": [],
   "source": [
    "rtss.ReferencedFrameOfReferenceSequence"
   ]
  },
  {
   "cell_type": "code",
   "execution_count": null,
   "metadata": {},
   "outputs": [],
   "source": [
    "rtss.set_ROIContourSequence([255,0,0], 'ReferencedSOPClassUID',  ['1', '2', '3'], 'ContourGeometricType',  [[1,2,3,4,5,6], [7,8,9]] )"
   ]
  },
  {
   "cell_type": "code",
   "execution_count": null,
   "metadata": {},
   "outputs": [],
   "source": [
    "rtss.ROIContour"
   ]
  },
  {
   "cell_type": "code",
   "execution_count": null,
   "metadata": {},
   "outputs": [],
   "source": [
    "rtss.ROIContourSequence"
   ]
  },
  {
   "cell_type": "markdown",
   "metadata": {},
   "source": [
    "## Generate New Empty STRUCT from a CT serie\n"
   ]
  },
  {
   "cell_type": "code",
   "execution_count": null,
   "metadata": {},
   "outputs": [],
   "source": [
    "path_directory = r'C:\\Users\\wendy\\Documents\\STAGE\\DicomRT\\201802409 BARAT GALPIN ELIANE\\103893708 Tepscan FDG\\new_rtss'"
   ]
  },
  {
   "cell_type": "code",
   "execution_count": null,
   "metadata": {},
   "outputs": [],
   "source": [
    "new_rtss = New_Empty_RTSS('origin', \"pseudo_rt.dcm\", CT_path, path_directory )"
   ]
  },
  {
   "cell_type": "code",
   "execution_count": null,
   "metadata": {},
   "outputs": [],
   "source": []
  }
 ],
 "metadata": {
  "kernelspec": {
   "display_name": "Python 3",
   "language": "python",
   "name": "python3"
  },
  "language_info": {
   "codemirror_mode": {
    "name": "ipython",
    "version": 3
   },
   "file_extension": ".py",
   "mimetype": "text/x-python",
   "name": "python",
   "nbconvert_exporter": "python",
   "pygments_lexer": "ipython3",
   "version": "3.7.4"
  }
 },
 "nbformat": 4,
 "nbformat_minor": 2
}
