{
 "cells": [
  {
   "cell_type": "code",
   "execution_count": 1,
   "metadata": {},
   "outputs": [],
   "source": [
    "from library_dicom.rtss_processor.model.RTSS_Reader import RTSS_Reader\n",
    "from library_dicom.dicom_processor.model.Series import Series"
   ]
  },
  {
   "cell_type": "code",
   "execution_count": 2,
   "metadata": {},
   "outputs": [],
   "source": [
    "rtss_path = r'C:\\Users\\wendy\\Documents\\STAGE\\DicomRT\\201802409 BARAT GALPIN ELIANE\\103893708 Tepscan FDG\\RTSTRUCT PETVCAR RTSS RTSS'"
   ]
  },
  {
   "cell_type": "code",
   "execution_count": 3,
   "metadata": {},
   "outputs": [],
   "source": [
    "CT_path = r'C:\\Users\\wendy\\Documents\\STAGE\\DicomRT\\201802409 BARAT GALPIN ELIANE\\103893708 Tepscan FDG\\CT CT STD 2.5mm'"
   ]
  },
  {
   "cell_type": "code",
   "execution_count": 4,
   "metadata": {},
   "outputs": [],
   "source": [
    "rtss = RTSS_Reader(rtss_path)"
   ]
  },
  {
   "cell_type": "code",
   "execution_count": null,
   "metadata": {},
   "outputs": [],
   "source": [
    "rtss.get_number_of_roi()"
   ]
  },
  {
   "cell_type": "code",
   "execution_count": null,
   "metadata": {},
   "outputs": [],
   "source": [
    "rtss.get_list_all_SOP_Instance_UID()"
   ]
  },
  {
   "cell_type": "code",
   "execution_count": null,
   "metadata": {},
   "outputs": [],
   "source": [
    "rtss.get_list_referenced_SOP_Instance_UID(1) #Contour ROI 1 "
   ]
  },
  {
   "cell_type": "code",
   "execution_count": null,
   "metadata": {},
   "outputs": [],
   "source": [
    "rtss.get_number_of_contour_points(1)"
   ]
  },
  {
   "cell_type": "code",
   "execution_count": null,
   "metadata": {},
   "outputs": [],
   "source": [
    "rtss.get_contour_data(1)"
   ]
  },
  {
   "cell_type": "code",
   "execution_count": 5,
   "metadata": {},
   "outputs": [
    {
     "name": "stdout",
     "output_type": "stream",
     "text": [
      "pixel spacing :  [1.171875, 1.171875]\n",
      "image position : [-300.000, -300.000, 325.000]\n",
      "image position : [-256.0, -256.0, 325.000]\n"
     ]
    },
    {
     "data": {
      "text/plain": [
       "{1: {'x': [195, 198, 198, 193, 193, 195, 195],\n",
       "  'y': [215, 215, 220, 220, 217, 217, 216],\n",
       "  'z': 325},\n",
       " 2: {'x': [195,\n",
       "   202,\n",
       "   202,\n",
       "   204,\n",
       "   204,\n",
       "   202,\n",
       "   202,\n",
       "   198,\n",
       "   198,\n",
       "   193,\n",
       "   193,\n",
       "   191,\n",
       "   191,\n",
       "   193,\n",
       "   193,\n",
       "   195,\n",
       "   195],\n",
       "  'y': [213,\n",
       "   213,\n",
       "   215,\n",
       "   215,\n",
       "   218,\n",
       "   218,\n",
       "   220,\n",
       "   220,\n",
       "   222,\n",
       "   222,\n",
       "   220,\n",
       "   220,\n",
       "   217,\n",
       "   217,\n",
       "   215,\n",
       "   215,\n",
       "   214],\n",
       "  'z': 326},\n",
       " 3: {'x': [195,\n",
       "   204,\n",
       "   204,\n",
       "   206,\n",
       "   206,\n",
       "   204,\n",
       "   204,\n",
       "   202,\n",
       "   202,\n",
       "   193,\n",
       "   193,\n",
       "   191,\n",
       "   191,\n",
       "   193,\n",
       "   193,\n",
       "   195,\n",
       "   195],\n",
       "  'y': [213,\n",
       "   213,\n",
       "   215,\n",
       "   215,\n",
       "   218,\n",
       "   218,\n",
       "   220,\n",
       "   220,\n",
       "   222,\n",
       "   222,\n",
       "   218,\n",
       "   218,\n",
       "   217,\n",
       "   217,\n",
       "   215,\n",
       "   215,\n",
       "   214],\n",
       "  'z': 327},\n",
       " 4: {'x': [199,\n",
       "   204,\n",
       "   204,\n",
       "   206,\n",
       "   206,\n",
       "   204,\n",
       "   204,\n",
       "   200,\n",
       "   200,\n",
       "   197,\n",
       "   197,\n",
       "   195,\n",
       "   195,\n",
       "   193,\n",
       "   193,\n",
       "   195,\n",
       "   195,\n",
       "   199,\n",
       "   199],\n",
       "  'y': [213,\n",
       "   213,\n",
       "   215,\n",
       "   215,\n",
       "   218,\n",
       "   218,\n",
       "   220,\n",
       "   220,\n",
       "   222,\n",
       "   222,\n",
       "   220,\n",
       "   220,\n",
       "   218,\n",
       "   218,\n",
       "   217,\n",
       "   217,\n",
       "   215,\n",
       "   215,\n",
       "   214],\n",
       "  'z': 328},\n",
       " 5: {'x': [199,\n",
       "   204,\n",
       "   204,\n",
       "   206,\n",
       "   206,\n",
       "   204,\n",
       "   204,\n",
       "   200,\n",
       "   200,\n",
       "   197,\n",
       "   197,\n",
       "   195,\n",
       "   195,\n",
       "   193,\n",
       "   193,\n",
       "   195,\n",
       "   195,\n",
       "   199,\n",
       "   199],\n",
       "  'y': [213,\n",
       "   213,\n",
       "   215,\n",
       "   215,\n",
       "   218,\n",
       "   218,\n",
       "   220,\n",
       "   220,\n",
       "   222,\n",
       "   222,\n",
       "   220,\n",
       "   220,\n",
       "   218,\n",
       "   218,\n",
       "   217,\n",
       "   217,\n",
       "   215,\n",
       "   215,\n",
       "   214],\n",
       "  'z': 329}}"
      ]
     },
     "execution_count": 5,
     "metadata": {},
     "output_type": "execute_result"
    }
   ],
   "source": [
    "rtss.spatial_to_pixels(2, CT_path)"
   ]
  },
  {
   "cell_type": "code",
   "execution_count": 10,
   "metadata": {},
   "outputs": [
    {
     "name": "stdout",
     "output_type": "stream",
     "text": [
      "pixel spacing :  [1.171875, 1.171875]\n",
      "image position : [-300.000, -300.000, 325.000]\n",
      "image position : [-256.0, -256.0, 325.000]\n",
      "1\n",
      "2\n",
      "3\n",
      "4\n",
      "5\n"
     ]
    },
    {
     "data": {
      "text/plain": [
       "list"
      ]
     },
     "execution_count": 10,
     "metadata": {},
     "output_type": "execute_result"
    }
   ],
   "source": [
    "type(rtss.get_list_points(2, CT_path)[0][0])\n"
   ]
  },
  {
   "cell_type": "code",
   "execution_count": 13,
   "metadata": {},
   "outputs": [],
   "source": [
    "import numpy as np"
   ]
  }
 ],
 "metadata": {
  "kernelspec": {
   "display_name": "Python 3",
   "language": "python",
   "name": "python3"
  },
  "language_info": {
   "codemirror_mode": {
    "name": "ipython",
    "version": 3
   },
   "file_extension": ".py",
   "mimetype": "text/x-python",
   "name": "python",
   "nbconvert_exporter": "python",
   "pygments_lexer": "ipython3",
   "version": "3.7.4"
  }
 },
 "nbformat": 4,
 "nbformat_minor": 2
}
