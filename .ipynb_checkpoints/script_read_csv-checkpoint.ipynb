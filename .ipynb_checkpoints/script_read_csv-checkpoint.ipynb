{
 "cells": [
  {
   "cell_type": "code",
   "execution_count": 1,
   "metadata": {},
   "outputs": [],
   "source": [
    "from library_dicom.dicom_processor.model.csv_reader.CsvReader import CsvReader\n",
    "from library_dicom.dicom_processor.model.csv_reader.RoiFactory import RoiFactory\n",
    "import matplotlib.pyplot as plt\n",
    "from library_dicom.dicom_processor.model.csv_reader.MaskBuilder import MaskBuilder"
   ]
  },
  {
   "cell_type": "code",
   "execution_count": 2,
   "metadata": {},
   "outputs": [],
   "source": [
    "from library_dicom.dicom_processor.model.NiftiBuilder import NiftiBuilder\n",
    "import os\n",
    "import json\n",
    "\n",
    "from library_dicom.dicom_processor.model.Series import Series\n",
    "from library_dicom.dicom_processor.model.SeriesPT import SeriesPT\n",
    "from library_dicom.dicom_processor.tools.folders import get_series_path, write_json_file, remove_bi_file\n",
    "from library_dicom.dicom_processor.tools.series import get_series_object\n"
   ]
  },
  {
   "cell_type": "code",
   "execution_count": 3,
   "metadata": {},
   "outputs": [],
   "source": [
    "import numpy as np\n",
    "import csv"
   ]
  },
  {
   "cell_type": "markdown",
   "metadata": {},
   "source": [
    "### Build mask from roi in CSV file "
   ]
  },
  {
   "cell_type": "code",
   "execution_count": 14,
   "metadata": {},
   "outputs": [],
   "source": [
    "mask_build = MaskBuilder(r'C:\\Users\\wendy\\Documents\\STAGE\\CSV CHALLENGE\\11009101406003_apr 14_2010.csv', [144, 144, 255])\n"
   ]
  },
  {
   "cell_type": "code",
   "execution_count": 15,
   "metadata": {},
   "outputs": [],
   "source": [
    "mask_csv = mask_build.read_csv()\n"
   ]
  },
  {
   "cell_type": "code",
   "execution_count": 16,
   "metadata": {},
   "outputs": [],
   "source": [
    "file = r'C:\\Users\\wendy\\Documents\\STAGE\\CSV CHALLENGE\\1.3.46.670589.28.2.12.4.9177.6631.2.448.0.1271249841' #serie PET"
   ]
  },
  {
   "cell_type": "code",
   "execution_count": null,
   "metadata": {},
   "outputs": [],
   "source": []
  },
  {
   "cell_type": "code",
   "execution_count": 7,
   "metadata": {},
   "outputs": [
    {
     "data": {
      "text/plain": [
       "{1: {'SUV_max': 17.81, 'SUV_mean': 10.44},\n",
       " 2: {'SUV_max': 16.38, 'SUV_mean': 9.54},\n",
       " 3: {'SUV_max': 10.06, 'SUV_mean': 5.99},\n",
       " 4: {'SUV_max': 11.56, 'SUV_mean': 6.68}}"
      ]
     },
     "execution_count": 7,
     "metadata": {},
     "output_type": "execute_result"
    }
   ],
   "source": [
    "mask_build.calcul_suv_max_mean_mask(file)"
   ]
  },
  {
   "cell_type": "code",
   "execution_count": 8,
   "metadata": {},
   "outputs": [
    {
     "data": {
      "text/plain": [
       "True"
      ]
     },
     "execution_count": 8,
     "metadata": {},
     "output_type": "execute_result"
    }
   ],
   "source": [
    "mask_build.is_correct_suv(file)"
   ]
  },
  {
   "cell_type": "code",
   "execution_count": 9,
   "metadata": {},
   "outputs": [
    {
     "name": "stdout",
     "output_type": "stream",
     "text": [
      "0.76398\n",
      "0.76398\n"
     ]
    },
    {
     "data": {
      "text/plain": [
       "True"
      ]
     },
     "execution_count": 9,
     "metadata": {},
     "output_type": "execute_result"
    }
   ],
   "source": [
    "mask_build.is_calcul_sul_correct(file)"
   ]
  },
  {
   "cell_type": "markdown",
   "metadata": {},
   "source": [
    "## Nifti\n"
   ]
  },
  {
   "cell_type": "code",
   "execution_count": 5,
   "metadata": {},
   "outputs": [],
   "source": [
    "mask_build = MaskBuilder(r'C:\\Users\\wendy\\Documents\\STAGE\\CSV CHALLENGE\\11009101406003_apr 14_2010_NIFTI.csv', [144, 144, 255])"
   ]
  },
  {
   "cell_type": "code",
   "execution_count": 6,
   "metadata": {},
   "outputs": [],
   "source": [
    "mask_csv = mask_build.read_csv()\n"
   ]
  },
  {
   "cell_type": "code",
   "execution_count": 7,
   "metadata": {},
   "outputs": [
    {
     "data": {
      "text/plain": [
       "{1: {'SUV_max': 23.58, 'SUV_mean': 9.27},\n",
       " 2: {'SUV_max': 11.56, 'SUV_mean': 6.11},\n",
       " 3: {'SUV_max': 9.44, 'SUV_mean': 6.03},\n",
       " 4: {'SUV_max': 9.03, 'SUV_mean': 5.82},\n",
       " 5: {'SUV_max': 6.72, 'SUV_mean': 5.06},\n",
       " 6: {'SUV_max': 14.89, 'SUV_mean': 9.12},\n",
       " 7: {'SUV_max': 13.81, 'SUV_mean': 9.42},\n",
       " 8: {'SUV_max': 12.58, 'SUV_mean': 7.76},\n",
       " 9: {'SUV_max': 16.0, 'SUV_mean': 10.89},\n",
       " 10: {'SUV_max': 17.66, 'SUV_mean': 11.8},\n",
       " 11: {'SUV_max': 16.38, 'SUV_mean': 9.78},\n",
       " 12: {'SUV_max': 12.75, 'SUV_mean': 8.06},\n",
       " 13: {'SUV_max': 17.3, 'SUV_mean': 11.27},\n",
       " 14: {'SUV_max': 17.33, 'SUV_mean': 11.14},\n",
       " 15: {'SUV_max': 14.11, 'SUV_mean': 9.79},\n",
       " 16: {'SUV_max': 15.3, 'SUV_mean': 8.91},\n",
       " 17: {'SUV_max': 4.76, 'SUV_mean': 4.28},\n",
       " 18: {'SUV_max': 13.46, 'SUV_mean': 8.54},\n",
       " 19: {'SUV_max': 8.44, 'SUV_mean': 5.42},\n",
       " 20: {'SUV_max': 0.0, 'SUV_mean': 0.0},\n",
       " 21: {'SUV_max': 14.9, 'SUV_mean': 10.9},\n",
       " 22: {'SUV_max': 17.81, 'SUV_mean': 11.21},\n",
       " 23: {'SUV_max': 0.0, 'SUV_mean': 0.0},\n",
       " 24: {'SUV_max': 8.55, 'SUV_mean': 5.35},\n",
       " 25: {'SUV_max': 0.0, 'SUV_mean': 0.0},\n",
       " 26: {'SUV_max': 0.0, 'SUV_mean': 0.0},\n",
       " 27: {'SUV_max': 5.95, 'SUV_mean': 4.62},\n",
       " 28: {'SUV_max': 4.17, 'SUV_mean': 4.11}}"
      ]
     },
     "execution_count": 7,
     "metadata": {},
     "output_type": "execute_result"
    }
   ],
   "source": [
    "mask_build.calcul_suv_max_mean_mask(file)"
   ]
  },
  {
   "cell_type": "code",
   "execution_count": null,
   "metadata": {},
   "outputs": [],
   "source": []
  },
  {
   "cell_type": "code",
   "execution_count": null,
   "metadata": {},
   "outputs": [],
   "source": []
  },
  {
   "cell_type": "markdown",
   "metadata": {},
   "source": [
    "## Example 1"
   ]
  },
  {
   "cell_type": "code",
   "execution_count": 10,
   "metadata": {},
   "outputs": [],
   "source": [
    "mask_build = MaskBuilder(r'C:\\Users\\wendy\\Documents\\STAGE\\CSV CHALLENGE\\Example 1\\dub_er_jan 17_2013-EV.csv', [256, 256, 299])\n",
    "mask_csv = mask_build.read_csv()\n"
   ]
  },
  {
   "cell_type": "code",
   "execution_count": 11,
   "metadata": {},
   "outputs": [
    {
     "data": {
      "text/plain": [
       "90"
      ]
     },
     "execution_count": 11,
     "metadata": {},
     "output_type": "execute_result"
    }
   ],
   "source": [
    "mask_build.number_of_rois"
   ]
  },
  {
   "cell_type": "code",
   "execution_count": 12,
   "metadata": {},
   "outputs": [],
   "source": [
    "file = r'C:\\Users\\wendy\\Documents\\STAGE\\CSV CHALLENGE\\Example 1\\DIcom\\13011105051004 DUB ER\\13011105051004 DUB ER\\PET0 PET0\\PT TEP WB CORRECTED' #serie PET"
   ]
  },
  {
   "cell_type": "code",
   "execution_count": 13,
   "metadata": {},
   "outputs": [
    {
     "data": {
      "text/plain": [
       "{1: {'SUV_max': 5.83, 'SUV_mean': 3.48},\n",
       " 2: {'SUV_max': 6.03, 'SUV_mean': 3.47},\n",
       " 3: {'SUV_max': 6.19, 'SUV_mean': 3.64},\n",
       " 4: {'SUV_max': 6.34, 'SUV_mean': 3.58}}"
      ]
     },
     "execution_count": 13,
     "metadata": {},
     "output_type": "execute_result"
    }
   ],
   "source": [
    "mask_build.calcul_suv_max_mean_mask(file)"
   ]
  }
 ],
 "metadata": {
  "kernelspec": {
   "display_name": "Python 3",
   "language": "python",
   "name": "python3"
  },
  "language_info": {
   "codemirror_mode": {
    "name": "ipython",
    "version": 3
   },
   "file_extension": ".py",
   "mimetype": "text/x-python",
   "name": "python",
   "nbconvert_exporter": "python",
   "pygments_lexer": "ipython3",
   "version": "3.7.4"
  }
 },
 "nbformat": 4,
 "nbformat_minor": 2
}
