{
 "nbformat": 4,
 "nbformat_minor": 2,
 "metadata": {
  "language_info": {
   "name": "python",
   "codemirror_mode": {
    "name": "ipython",
    "version": 3
   },
   "version": "3.8.2-final"
  },
  "orig_nbformat": 2,
  "file_extension": ".py",
  "mimetype": "text/x-python",
  "name": "python",
  "npconvert_exporter": "python",
  "pygments_lexer": "ipython3",
  "version": 3,
  "kernelspec": {
   "name": "python38264bit741c38d3bcec48dc835c8ad5f1161b3f",
   "display_name": "Python 3.8.2 64-bit"
  }
 },
 "cells": [
  {
   "cell_type": "code",
   "execution_count": 3,
   "metadata": {},
   "outputs": [],
   "source": [
    "import json\n",
    "import os\n",
    "from library_dicom.dicom_processor.tools.folders import *\n",
    "\n",
    "from library_dicom.dicom_processor.tools.create_mip import *\n",
    "from library_dicom.dicom_processor.tools.threshold_mask import *\n",
    "\n",
    "import numpy as np\n",
    "import SimpleITK as sitk\n",
    "\n",
    "import csv"
   ]
  },
  {
   "cell_type": "code",
   "execution_count": null,
   "metadata": {},
   "outputs": [],
   "source": []
  },
  {
   "cell_type": "code",
   "execution_count": 4,
   "metadata": {},
   "outputs": [],
   "source": [
    "#CREATE CSV FILE FOR NIFTI\n",
    "#PATIENT NAME  |  STUDY UID  | CT PATH  |  PET PATH  |  MASK PATH \n",
    "\n",
    "csv_pet0_path = '/media/salim/DD 2To/AHL2011_CSV_DATA/pet0.csv'\n",
    "\n",
    "with open(csv_pet0_path, 'r') as csv_file :\n",
    "    reader = csv.reader(csv_file, delimiter = ';') #liste pour chaque ligne \n",
    "    csv_data = []\n",
    "    for row in reader :\n",
    "        csv_data.append(row)\n",
    "        \n",
    "del csv_data[0] #enlever première ligne"
   ]
  },
  {
   "cell_type": "code",
   "execution_count": 5,
   "metadata": {},
   "outputs": [
    {
     "name": "stdout",
     "output_type": "stream",
     "text": "796\n1738\n"
    }
   ],
   "source": [
    "print(len(csv_data))\n",
    "list_nifti = os.listdir('/media/salim/DD 2To/AHL2011_NIFTI')\n",
    "\n",
    "print(len(list_nifti))"
   ]
  },
  {
   "cell_type": "code",
   "execution_count": 6,
   "metadata": {},
   "outputs": [],
   "source": [
    "#CLEAN TO WRITE THE CSV "
   ]
  },
  {
   "cell_type": "code",
   "execution_count": 7,
   "metadata": {},
   "outputs": [],
   "source": [
    "all_liste = []\n",
    "for i in range(len(csv_data)) : \n",
    "    subliste = []\n",
    "    subliste.append(csv_data[i][0])\n",
    "    study_uid = csv_data[i][2]\n",
    "    subliste.append(study_uid)\n",
    "    for nifti in list_nifti : \n",
    "        if study_uid in nifti : \n",
    "            subliste.append(nifti)\n",
    "\n",
    "    all_liste.append(subliste)"
   ]
  },
  {
   "cell_type": "code",
   "execution_count": 8,
   "metadata": {},
   "outputs": [],
   "source": [
    "#si pas de nifti, on enleve les patients\n",
    "no_nifti  = []\n",
    "for liste in all_liste : \n",
    "    if len(liste) != 5 : \n",
    "        no_nifti.append(liste)"
   ]
  },
  {
   "cell_type": "code",
   "execution_count": 9,
   "metadata": {},
   "outputs": [
    {
     "name": "stdout",
     "output_type": "stream",
     "text": "166\n"
    }
   ],
   "source": [
    "print(len(no_nifti))"
   ]
  },
  {
   "cell_type": "code",
   "execution_count": 10,
   "metadata": {},
   "outputs": [],
   "source": [
    "for serie in no_nifti : \n",
    "    all_liste.remove(serie)"
   ]
  },
  {
   "cell_type": "code",
   "execution_count": 11,
   "metadata": {},
   "outputs": [
    {
     "name": "stdout",
     "output_type": "stream",
     "text": "630\n"
    }
   ],
   "source": [
    "print(len(all_liste))"
   ]
  },
  {
   "cell_type": "code",
   "execution_count": 12,
   "metadata": {},
   "outputs": [],
   "source": [
    "#enlever doublon \n",
    "new_liste = []\n",
    "new_liste.append(all_liste[0])\n",
    "for i in range(len(all_liste)) : \n",
    "    if all_liste[i] != new_liste[-1] : \n",
    "        new_liste.append(all_liste[i])\n"
   ]
  },
  {
   "cell_type": "code",
   "execution_count": 13,
   "metadata": {},
   "outputs": [
    {
     "name": "stdout",
     "output_type": "stream",
     "text": "578\n"
    }
   ],
   "source": [
    "print(len(new_liste))"
   ]
  },
  {
   "cell_type": "code",
   "execution_count": 14,
   "metadata": {},
   "outputs": [
    {
     "name": "stdout",
     "output_type": "stream",
     "text": "578\n"
    }
   ],
   "source": [
    "#TRIER LA LISTE POUR ENSUITE ECRIRE LE CSV\n",
    "sorted_serie = []\n",
    "for serie in new_liste : \n",
    "    sorted_serie.append(sorted(serie))\n",
    "print(len(sorted_serie))\n"
   ]
  },
  {
   "cell_type": "code",
   "execution_count": 15,
   "metadata": {},
   "outputs": [],
   "source": [
    "#ECRIRE CSV \n",
    "\n",
    "nifti_directory = '/media/salim/DD 2To/AHL2011_NIFTI'\n",
    "\n",
    "with open(os.path.join(nifti_directory, 'AHL2011_PET0_NIFTI.csv'), 'w') as csv_file : \n",
    "    csv_writer = csv.writer(csv_file, delimiter=',', quotechar='\"', quoting=csv.QUOTE_MINIMAL)\n",
    "    csv_writer.writerow([\"PATIENT NAME\", \"STUDY UID\", \"NIFTI_CT\", \"NIFTI_PET\", \"NIFTI_MASK\"])\n",
    "    for serie in sorted_serie : \n",
    "        csv_writer.writerow([serie[4], serie[0], os.path.join(nifti_directory,serie[1]), os.path.join(nifti_directory,serie[2]), os.path.join(nifti_directory,serie[3])])\n"
   ]
  },
  {
   "cell_type": "code",
   "execution_count": null,
   "metadata": {},
   "outputs": [],
   "source": []
  },
  {
   "cell_type": "code",
   "execution_count": null,
   "metadata": {},
   "outputs": [],
   "source": []
  },
  {
   "cell_type": "code",
   "execution_count": null,
   "metadata": {},
   "outputs": [],
   "source": []
  },
  {
   "cell_type": "code",
   "execution_count": null,
   "metadata": {},
   "outputs": [],
   "source": []
  },
  {
   "cell_type": "code",
   "execution_count": null,
   "metadata": {},
   "outputs": [],
   "source": []
  },
  {
   "cell_type": "code",
   "execution_count": null,
   "metadata": {},
   "outputs": [],
   "source": []
  }
 ]
}