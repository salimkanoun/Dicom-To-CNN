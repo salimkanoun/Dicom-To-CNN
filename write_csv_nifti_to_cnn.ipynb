{
 "cells": [
  {
   "cell_type": "code",
   "execution_count": 2,
   "metadata": {},
   "outputs": [],
   "source": [
    "import json\n",
    "import os\n",
    "from library_dicom.dicom_processor.tools.folders import *\n",
    "\n",
    "from library_dicom.dicom_processor.tools.create_mip import *\n",
    "from library_dicom.dicom_processor.tools.threshold_mask import *\n",
    "\n",
    "import numpy as np\n",
    "import SimpleITK as sitk\n",
    "\n",
    "import csv"
   ]
  },
  {
   "cell_type": "code",
   "execution_count": null,
   "metadata": {},
   "outputs": [],
   "source": []
  },
  {
   "cell_type": "code",
   "execution_count": 3,
   "metadata": {},
   "outputs": [],
   "source": [
    "#PET4\n",
    "\n",
    "csv_pet4_path = '/media/deeplearning/78ca2911-9e9f-4f78-b80a-848024b95f92/GAINED_CSV_DATA/Export_Gained/data.csv'\n",
    "\n",
    "with open(csv_pet4_path, 'r') as csv_file :\n",
    "    reader = csv.reader(csv_file, delimiter = ',') #liste pour chaque ligne \n",
    "    csv_data = []\n",
    "    for row in reader :\n",
    "        csv_data.append(row)\n",
    "        \n",
    "del csv_data[0] #enlever première ligne\n"
   ]
  },
  {
   "cell_type": "code",
   "execution_count": 4,
   "metadata": {},
   "outputs": [
    {
     "output_type": "execute_result",
     "data": {
      "text/plain": "['alina',\n '11011101021002',\n '0',\n '18',\n '1.2.250.1.59.470.940100027.1.20130128113103.7763.17688',\n '2013-01-30',\n '0',\n '0',\n '0',\n 'review18.csv',\n '4',\n '29.35',\n 'Abdominal',\n '13.6',\n 'Abdominal',\n '1.35',\n '1.17',\n '0.1',\n '1.84',\n '1.49',\n '0.11',\n '1.99',\n '1.52',\n '0.17',\n '0',\n '12',\n '3.17',\n '2.36',\n '0.49',\n '2',\n '2',\n '19',\n '1.2.840.113704.1.111.2180.1361963756.13',\n '2013-02-27',\n '0',\n '0',\n '0',\n 'review19.csv',\n '1.96',\n 'Intestine - small and colon',\n '1.53',\n '1.4',\n '0.12',\n '2.27',\n '1.86',\n '0.16',\n '1',\n '0',\n '0',\n '4',\n '20',\n '1.2.840.113704.1.111.4636.1364288605.3',\n '2013-03-26',\n '0',\n '0',\n '0',\n 'review20.csv',\n '1.96',\n 'Intestine - small and colon',\n '1.53',\n '1.4',\n '0.12',\n '2.27',\n '1.86',\n '0.16',\n '1',\n '0',\n '0']"
     },
     "metadata": {},
     "execution_count": 4
    }
   ],
   "source": [
    "csv_data[1]"
   ]
  },
  {
   "cell_type": "code",
   "execution_count": 5,
   "metadata": {},
   "outputs": [],
   "source": [
    "nifti_directory = '/media/deeplearning/78ca2911-9e9f-4f78-b80a-848024b95f92/GAINED_NIFTI_PET4'\n",
    "liste_nifti = os.listdir(nifti_directory)"
   ]
  },
  {
   "cell_type": "code",
   "execution_count": 6,
   "metadata": {
    "tags": []
   },
   "outputs": [],
   "source": [
    "liste = []\n",
    "for row in csv_data : \n",
    "    subliste = []\n",
    "    #subliste.append(row[0])\n",
    "    subliste.append(row[1])\n",
    "    subliste.append(row[51])\n",
    "    study_uid = row[51]\n",
    "    subsubliste = []\n",
    "    for nifti in liste_nifti : \n",
    "        if study_uid in nifti: \n",
    "            subsubliste.append(nifti)\n",
    "    if len(subsubliste) == 2 : \n",
    "        subsubliste = sorted(subsubliste)\n",
    "        #print(subsubliste)\n",
    "        subliste.append(subsubliste[0])\n",
    "        subliste.append(subsubliste[1])\n",
    "        #subliste.append(subsubliste[2])\n",
    "    else : \n",
    "        pass\n",
    "    subliste.append(\"pet4\")\n",
    "    liste.append(subliste)\n",
    "\n"
   ]
  },
  {
   "cell_type": "code",
   "execution_count": 7,
   "metadata": {},
   "outputs": [
    {
     "output_type": "execute_result",
     "data": {
      "text/plain": "728"
     },
     "metadata": {},
     "execution_count": 7
    }
   ],
   "source": [
    "len(liste)"
   ]
  },
  {
   "cell_type": "code",
   "execution_count": 8,
   "metadata": {},
   "outputs": [
    {
     "output_type": "execute_result",
     "data": {
      "text/plain": "['11011101021011',\n '1.2.250.1.59.470.940100027.1.20140619143155.5902.130185',\n '1.2.250.1.59.470.940100027.1.20140619143155.5902.130185_nifti_CT.nii',\n '1.2.250.1.59.470.940100027.1.20140619143155.5902.130185_nifti_PT.nii',\n 'pet4']"
     },
     "metadata": {},
     "execution_count": 8
    }
   ],
   "source": [
    "liste[10]"
   ]
  },
  {
   "cell_type": "code",
   "execution_count": 9,
   "metadata": {},
   "outputs": [],
   "source": [
    "#clean -> if len != 6 \n",
    "#doit y avoir 573\n",
    "completed_liste = []\n",
    "for serie in liste : \n",
    "    if len(serie) == 5 : \n",
    "        completed_liste.append(serie)\n"
   ]
  },
  {
   "cell_type": "code",
   "execution_count": 10,
   "metadata": {},
   "outputs": [
    {
     "output_type": "execute_result",
     "data": {
      "text/plain": "586"
     },
     "metadata": {},
     "execution_count": 10
    }
   ],
   "source": [
    "len(completed_liste)"
   ]
  },
  {
   "cell_type": "code",
   "execution_count": 11,
   "metadata": {},
   "outputs": [],
   "source": [
    "new_liste = []\n",
    "new_liste.append(completed_liste[0])\n",
    "for i in range(1, len(completed_liste)) :\n",
    "    if completed_liste[i] not in new_liste : \n",
    "        new_liste.append(completed_liste[i])"
   ]
  },
  {
   "cell_type": "code",
   "execution_count": 12,
   "metadata": {},
   "outputs": [
    {
     "output_type": "execute_result",
     "data": {
      "text/plain": "527"
     },
     "metadata": {},
     "execution_count": 12
    }
   ],
   "source": [
    "len(new_liste)"
   ]
  },
  {
   "cell_type": "code",
   "execution_count": 24,
   "metadata": {},
   "outputs": [
    {
     "output_type": "execute_result",
     "data": {
      "text/plain": "['11011101021014',\n '1.2.840.113704.1.111.3608.1434978016.23',\n '1.2.840.113704.1.111.3608.1434978016.23_nifti_CT.nii',\n '1.2.840.113704.1.111.3608.1434978016.23_nifti_PT.nii',\n 'pet2']"
     },
     "metadata": {},
     "execution_count": 24
    }
   ],
   "source": [
    "new_liste[10]"
   ]
  },
  {
   "cell_type": "code",
   "execution_count": 13,
   "metadata": {},
   "outputs": [],
   "source": [
    "import shutil"
   ]
  },
  {
   "cell_type": "code",
   "execution_count": 16,
   "metadata": {},
   "outputs": [
    {
     "output_type": "execute_result",
     "data": {
      "text/plain": "['11011101021004',\n '1.2.840.113704.1.111.2304.1369728102.4',\n '1.2.840.113704.1.111.2304.1369728102.4_nifti_CT.nii',\n '1.2.840.113704.1.111.2304.1369728102.4_nifti_PT.nii',\n 'pet4']"
     },
     "metadata": {},
     "execution_count": 16
    }
   ],
   "source": [
    "new_liste[1]"
   ]
  },
  {
   "cell_type": "code",
   "execution_count": 19,
   "metadata": {
    "tags": [
     "outputPrepend"
    ]
   },
   "outputs": [
    {
     "output_type": "stream",
     "name": "stdout",
     "text": "8024b95f92/GAINED_NIFTI/11011108371001 Dossier patient déjà crée\n/media/deeplearning/78ca2911-9e9f-4f78-b80a-848024b95f92/GAINED_NIFTI/11011108371001/pet4 created\n/media/deeplearning/78ca2911-9e9f-4f78-b80a-848024b95f92/GAINED_NIFTI/11011108371002 Dossier patient déjà crée\n/media/deeplearning/78ca2911-9e9f-4f78-b80a-848024b95f92/GAINED_NIFTI/11011108371002/pet4 created\n/media/deeplearning/78ca2911-9e9f-4f78-b80a-848024b95f92/GAINED_NIFTI/11011108371003 Dossier patient déjà crée\n/media/deeplearning/78ca2911-9e9f-4f78-b80a-848024b95f92/GAINED_NIFTI/11011108371003/pet4 created\n/media/deeplearning/78ca2911-9e9f-4f78-b80a-848024b95f92/GAINED_NIFTI/11011108371004 Dossier patient déjà crée\n/media/deeplearning/78ca2911-9e9f-4f78-b80a-848024b95f92/GAINED_NIFTI/11011108371004/pet4 created\n/media/deeplearning/78ca2911-9e9f-4f78-b80a-848024b95f92/GAINED_NIFTI/11011108611001 Dossier patient déjà crée\n/media/deeplearning/78ca2911-9e9f-4f78-b80a-848024b95f92/GAINED_NIFTI/11011108611001/pet4 created\n/media/deeplearning/78ca2911-9e9f-4f78-b80a-848024b95f92/GAINED_NIFTI/11011108611002 Dossier patient déjà crée\n/media/deeplearning/78ca2911-9e9f-4f78-b80a-848024b95f92/GAINED_NIFTI/11011108611002/pet4 created\n/media/deeplearning/78ca2911-9e9f-4f78-b80a-848024b95f92/GAINED_NIFTI/11011109131001 Dossier patient déjà crée\n/media/deeplearning/78ca2911-9e9f-4f78-b80a-848024b95f92/GAINED_NIFTI/11011109131001/pet4 created\n/media/deeplearning/78ca2911-9e9f-4f78-b80a-848024b95f92/GAINED_NIFTI/11011109131002 Dossier patient déjà crée\n/media/deeplearning/78ca2911-9e9f-4f78-b80a-848024b95f92/GAINED_NIFTI/11011109131002/pet4 created\n/media/deeplearning/78ca2911-9e9f-4f78-b80a-848024b95f92/GAINED_NIFTI/11011109131003 Dossier patient déjà crée\n/media/deeplearning/78ca2911-9e9f-4f78-b80a-848024b95f92/GAINED_NIFTI/11011109131003/pet4 created\n/media/deeplearning/78ca2911-9e9f-4f78-b80a-848024b95f92/GAINED_NIFTI/11011109131005 Dossier patient déjà crée\n/media/deeplearning/78ca2911-9e9f-4f78-b80a-848024b95f92/GAINED_NIFTI/11011109131005/pet4 created\n/media/deeplearning/78ca2911-9e9f-4f78-b80a-848024b95f92/GAINED_NIFTI/51011101111001 Dossier patient déjà crée\n/media/deeplearning/78ca2911-9e9f-4f78-b80a-848024b95f92/GAINED_NIFTI/51011101111001/pet4 created\n/media/deeplearning/78ca2911-9e9f-4f78-b80a-848024b95f92/GAINED_NIFTI/51011101111002 created\n/media/deeplearning/78ca2911-9e9f-4f78-b80a-848024b95f92/GAINED_NIFTI/51011101111002/pet4 created\n/media/deeplearning/78ca2911-9e9f-4f78-b80a-848024b95f92/GAINED_NIFTI/51011101111003 Dossier patient déjà crée\n/media/deeplearning/78ca2911-9e9f-4f78-b80a-848024b95f92/GAINED_NIFTI/51011101111003/pet4 created\n/media/deeplearning/78ca2911-9e9f-4f78-b80a-848024b95f92/GAINED_NIFTI/51011101111005 Dossier patient déjà crée\n/media/deeplearning/78ca2911-9e9f-4f78-b80a-848024b95f92/GAINED_NIFTI/51011101111005/pet4 created\n/media/deeplearning/78ca2911-9e9f-4f78-b80a-848024b95f92/GAINED_NIFTI/51011101111006 Dossier patient déjà crée\n/media/deeplearning/78ca2911-9e9f-4f78-b80a-848024b95f92/GAINED_NIFTI/51011101111006/pet4 created\n/media/deeplearning/78ca2911-9e9f-4f78-b80a-848024b95f92/GAINED_NIFTI/51011101261001 Dossier patient déjà crée\n/media/deeplearning/78ca2911-9e9f-4f78-b80a-848024b95f92/GAINED_NIFTI/51011101261001/pet4 created\n/media/deeplearning/78ca2911-9e9f-4f78-b80a-848024b95f92/GAINED_NIFTI/51011101261002 Dossier patient déjà crée\n/media/deeplearning/78ca2911-9e9f-4f78-b80a-848024b95f92/GAINED_NIFTI/51011101261002/pet4 created\n/media/deeplearning/78ca2911-9e9f-4f78-b80a-848024b95f92/GAINED_NIFTI/51011101261003 Dossier patient déjà crée\n/media/deeplearning/78ca2911-9e9f-4f78-b80a-848024b95f92/GAINED_NIFTI/51011101261003/pet4 created\n/media/deeplearning/78ca2911-9e9f-4f78-b80a-848024b95f92/GAINED_NIFTI/51011101261004 Dossier patient déjà crée\n/media/deeplearning/78ca2911-9e9f-4f78-b80a-848024b95f92/GAINED_NIFTI/51011101261004/pet4 created\n/media/deeplearning/78ca2911-9e9f-4f78-b80a-848024b95f92/GAINED_NIFTI/51011101261005 Dossier patient déjà crée\n/media/deeplearning/78ca2911-9e9f-4f78-b80a-848024b95f92/GAINED_NIFTI/51011101261005/pet4 created\n/media/deeplearning/78ca2911-9e9f-4f78-b80a-848024b95f92/GAINED_NIFTI/51011101261006 Dossier patient déjà crée\n/media/deeplearning/78ca2911-9e9f-4f78-b80a-848024b95f92/GAINED_NIFTI/51011101261006/pet4 created\n/media/deeplearning/78ca2911-9e9f-4f78-b80a-848024b95f92/GAINED_NIFTI/51011101261007 Dossier patient déjà crée\n/media/deeplearning/78ca2911-9e9f-4f78-b80a-848024b95f92/GAINED_NIFTI/51011101261007/pet4 created\n/media/deeplearning/78ca2911-9e9f-4f78-b80a-848024b95f92/GAINED_NIFTI/51011101261008 Dossier patient déjà crée\n/media/deeplearning/78ca2911-9e9f-4f78-b80a-848024b95f92/GAINED_NIFTI/51011101261008/pet4 created\n/media/deeplearning/78ca2911-9e9f-4f78-b80a-848024b95f92/GAINED_NIFTI/51011101261009 Dossier patient déjà crée\n/media/deeplearning/78ca2911-9e9f-4f78-b80a-848024b95f92/GAINED_NIFTI/51011101261009/pet4 created\n/media/deeplearning/78ca2911-9e9f-4f78-b80a-848024b95f92/GAINED_NIFTI/51011101261010 Dossier patient déjà crée\n/media/deeplearning/78ca2911-9e9f-4f78-b80a-848024b95f92/GAINED_NIFTI/51011101261010/pet4 created\n/media/deeplearning/78ca2911-9e9f-4f78-b80a-848024b95f92/GAINED_NIFTI/51011101261011 Dossier patient déjà crée\n/media/deeplearning/78ca2911-9e9f-4f78-b80a-848024b95f92/GAINED_NIFTI/51011101261011/pet4 created\n/media/deeplearning/78ca2911-9e9f-4f78-b80a-848024b95f92/GAINED_NIFTI/51011101261012 Dossier patient déjà crée\n/media/deeplearning/78ca2911-9e9f-4f78-b80a-848024b95f92/GAINED_NIFTI/51011101261012/pet4 created\n/media/deeplearning/78ca2911-9e9f-4f78-b80a-848024b95f92/GAINED_NIFTI/51011101261013 Dossier patient déjà crée\n/media/deeplearning/78ca2911-9e9f-4f78-b80a-848024b95f92/GAINED_NIFTI/51011101261013/pet4 created\n/media/deeplearning/78ca2911-9e9f-4f78-b80a-848024b95f92/GAINED_NIFTI/51011101291001 Dossier patient déjà crée\n/media/deeplearning/78ca2911-9e9f-4f78-b80a-848024b95f92/GAINED_NIFTI/51011101291001/pet4 created\n/media/deeplearning/78ca2911-9e9f-4f78-b80a-848024b95f92/GAINED_NIFTI/51011101291002 Dossier patient déjà crée\n/media/deeplearning/78ca2911-9e9f-4f78-b80a-848024b95f92/GAINED_NIFTI/51011101291002/pet4 created\n/media/deeplearning/78ca2911-9e9f-4f78-b80a-848024b95f92/GAINED_NIFTI/51011101301001 Dossier patient déjà crée\n/media/deeplearning/78ca2911-9e9f-4f78-b80a-848024b95f92/GAINED_NIFTI/51011101301001/pet4 created\n/media/deeplearning/78ca2911-9e9f-4f78-b80a-848024b95f92/GAINED_NIFTI/51011101301002 Dossier patient déjà crée\n/media/deeplearning/78ca2911-9e9f-4f78-b80a-848024b95f92/GAINED_NIFTI/51011101301002/pet4 created\n/media/deeplearning/78ca2911-9e9f-4f78-b80a-848024b95f92/GAINED_NIFTI/51011101371001 Dossier patient déjà crée\n/media/deeplearning/78ca2911-9e9f-4f78-b80a-848024b95f92/GAINED_NIFTI/51011101371001/pet4 created\n/media/deeplearning/78ca2911-9e9f-4f78-b80a-848024b95f92/GAINED_NIFTI/51011101371002 Dossier patient déjà crée\n/media/deeplearning/78ca2911-9e9f-4f78-b80a-848024b95f92/GAINED_NIFTI/51011101371002/pet4 created\n/media/deeplearning/78ca2911-9e9f-4f78-b80a-848024b95f92/GAINED_NIFTI/51011101371003 Dossier patient déjà crée\n/media/deeplearning/78ca2911-9e9f-4f78-b80a-848024b95f92/GAINED_NIFTI/51011101371003/pet4 created\n/media/deeplearning/78ca2911-9e9f-4f78-b80a-848024b95f92/GAINED_NIFTI/51011101371004 Dossier patient déjà crée\n/media/deeplearning/78ca2911-9e9f-4f78-b80a-848024b95f92/GAINED_NIFTI/51011101371004/pet4 created\n/media/deeplearning/78ca2911-9e9f-4f78-b80a-848024b95f92/GAINED_NIFTI/51011101371005 Dossier patient déjà crée\n/media/deeplearning/78ca2911-9e9f-4f78-b80a-848024b95f92/GAINED_NIFTI/51011101371005/pet4 created\n/media/deeplearning/78ca2911-9e9f-4f78-b80a-848024b95f92/GAINED_NIFTI/51011101371006 Dossier patient déjà crée\n/media/deeplearning/78ca2911-9e9f-4f78-b80a-848024b95f92/GAINED_NIFTI/51011101371006/pet4 created\n/media/deeplearning/78ca2911-9e9f-4f78-b80a-848024b95f92/GAINED_NIFTI/51011101371008 Dossier patient déjà crée\n/media/deeplearning/78ca2911-9e9f-4f78-b80a-848024b95f92/GAINED_NIFTI/51011101371008/pet4 created\n/media/deeplearning/78ca2911-9e9f-4f78-b80a-848024b95f92/GAINED_NIFTI/51011101371009 Dossier patient déjà crée\n/media/deeplearning/78ca2911-9e9f-4f78-b80a-848024b95f92/GAINED_NIFTI/51011101371009/pet4 created\n/media/deeplearning/78ca2911-9e9f-4f78-b80a-848024b95f92/GAINED_NIFTI/51011101371010 Dossier patient déjà crée\n/media/deeplearning/78ca2911-9e9f-4f78-b80a-848024b95f92/GAINED_NIFTI/51011101371010/pet4 created\n/media/deeplearning/78ca2911-9e9f-4f78-b80a-848024b95f92/GAINED_NIFTI/51011101371011 Dossier patient déjà crée\n/media/deeplearning/78ca2911-9e9f-4f78-b80a-848024b95f92/GAINED_NIFTI/51011101371011/pet4 created\n/media/deeplearning/78ca2911-9e9f-4f78-b80a-848024b95f92/GAINED_NIFTI/51011101371012 Dossier patient déjà crée\n/media/deeplearning/78ca2911-9e9f-4f78-b80a-848024b95f92/GAINED_NIFTI/51011101371012/pet4 created\n/media/deeplearning/78ca2911-9e9f-4f78-b80a-848024b95f92/GAINED_NIFTI/51011101871002 Dossier patient déjà crée\n/media/deeplearning/78ca2911-9e9f-4f78-b80a-848024b95f92/GAINED_NIFTI/51011101871002/pet4 created\n/media/deeplearning/78ca2911-9e9f-4f78-b80a-848024b95f92/GAINED_NIFTI/51011101871003 Dossier patient déjà crée\n/media/deeplearning/78ca2911-9e9f-4f78-b80a-848024b95f92/GAINED_NIFTI/51011101871003/pet4 created\n/media/deeplearning/78ca2911-9e9f-4f78-b80a-848024b95f92/GAINED_NIFTI/51011101871004 Dossier patient déjà crée\n/media/deeplearning/78ca2911-9e9f-4f78-b80a-848024b95f92/GAINED_NIFTI/51011101871004/pet4 created\n/media/deeplearning/78ca2911-9e9f-4f78-b80a-848024b95f92/GAINED_NIFTI/51011101871005 Dossier patient déjà crée\n/media/deeplearning/78ca2911-9e9f-4f78-b80a-848024b95f92/GAINED_NIFTI/51011101871005/pet4 created\n/media/deeplearning/78ca2911-9e9f-4f78-b80a-848024b95f92/GAINED_NIFTI/51011101871008 Dossier patient déjà crée\n/media/deeplearning/78ca2911-9e9f-4f78-b80a-848024b95f92/GAINED_NIFTI/51011101871008/pet4 created\n/media/deeplearning/78ca2911-9e9f-4f78-b80a-848024b95f92/GAINED_NIFTI/51011101871009 Dossier patient déjà crée\n/media/deeplearning/78ca2911-9e9f-4f78-b80a-848024b95f92/GAINED_NIFTI/51011101871009/pet4 created\n/media/deeplearning/78ca2911-9e9f-4f78-b80a-848024b95f92/GAINED_NIFTI/51011101871011 Dossier patient déjà crée\n/media/deeplearning/78ca2911-9e9f-4f78-b80a-848024b95f92/GAINED_NIFTI/51011101871011/pet4 created\n/media/deeplearning/78ca2911-9e9f-4f78-b80a-848024b95f92/GAINED_NIFTI/51011101881001 Dossier patient déjà crée\n/media/deeplearning/78ca2911-9e9f-4f78-b80a-848024b95f92/GAINED_NIFTI/51011101881001/pet4 created\n/media/deeplearning/78ca2911-9e9f-4f78-b80a-848024b95f92/GAINED_NIFTI/51011101881002 Dossier patient déjà crée\n/media/deeplearning/78ca2911-9e9f-4f78-b80a-848024b95f92/GAINED_NIFTI/51011101881002/pet4 created\n/media/deeplearning/78ca2911-9e9f-4f78-b80a-848024b95f92/GAINED_NIFTI/51011101881003 Dossier patient déjà crée\n/media/deeplearning/78ca2911-9e9f-4f78-b80a-848024b95f92/GAINED_NIFTI/51011101881003/pet4 created\n/media/deeplearning/78ca2911-9e9f-4f78-b80a-848024b95f92/GAINED_NIFTI/51011101881004 Dossier patient déjà crée\n/media/deeplearning/78ca2911-9e9f-4f78-b80a-848024b95f92/GAINED_NIFTI/51011101881004/pet4 created\n/media/deeplearning/78ca2911-9e9f-4f78-b80a-848024b95f92/GAINED_NIFTI/51011101881005 Dossier patient déjà crée\n/media/deeplearning/78ca2911-9e9f-4f78-b80a-848024b95f92/GAINED_NIFTI/51011101881005/pet4 created\n/media/deeplearning/78ca2911-9e9f-4f78-b80a-848024b95f92/GAINED_NIFTI/51011101881006 Dossier patient déjà crée\n/media/deeplearning/78ca2911-9e9f-4f78-b80a-848024b95f92/GAINED_NIFTI/51011101881006/pet4 created\n/media/deeplearning/78ca2911-9e9f-4f78-b80a-848024b95f92/GAINED_NIFTI/51011101881007 Dossier patient déjà crée\n/media/deeplearning/78ca2911-9e9f-4f78-b80a-848024b95f92/GAINED_NIFTI/51011101881007/pet4 created\n/media/deeplearning/78ca2911-9e9f-4f78-b80a-848024b95f92/GAINED_NIFTI/51011101881008 Dossier patient déjà crée\n/media/deeplearning/78ca2911-9e9f-4f78-b80a-848024b95f92/GAINED_NIFTI/51011101881008/pet4 created\n/media/deeplearning/78ca2911-9e9f-4f78-b80a-848024b95f92/GAINED_NIFTI/51011101881009 Dossier patient déjà crée\n/media/deeplearning/78ca2911-9e9f-4f78-b80a-848024b95f92/GAINED_NIFTI/51011101881009/pet4 created\n/media/deeplearning/78ca2911-9e9f-4f78-b80a-848024b95f92/GAINED_NIFTI/51011101881010 Dossier patient déjà crée\n/media/deeplearning/78ca2911-9e9f-4f78-b80a-848024b95f92/GAINED_NIFTI/51011101881010/pet4 created\n/media/deeplearning/78ca2911-9e9f-4f78-b80a-848024b95f92/GAINED_NIFTI/51011101881011 Dossier patient déjà crée\n/media/deeplearning/78ca2911-9e9f-4f78-b80a-848024b95f92/GAINED_NIFTI/51011101881011/pet4 created\n/media/deeplearning/78ca2911-9e9f-4f78-b80a-848024b95f92/GAINED_NIFTI/51011101881012 Dossier patient déjà crée\n/media/deeplearning/78ca2911-9e9f-4f78-b80a-848024b95f92/GAINED_NIFTI/51011101881012/pet4 created\n/media/deeplearning/78ca2911-9e9f-4f78-b80a-848024b95f92/GAINED_NIFTI/51011101881013 Dossier patient déjà crée\n/media/deeplearning/78ca2911-9e9f-4f78-b80a-848024b95f92/GAINED_NIFTI/51011101881013/pet4 created\n/media/deeplearning/78ca2911-9e9f-4f78-b80a-848024b95f92/GAINED_NIFTI/51011101881014 Dossier patient déjà crée\n/media/deeplearning/78ca2911-9e9f-4f78-b80a-848024b95f92/GAINED_NIFTI/51011101881014/pet4 created\n/media/deeplearning/78ca2911-9e9f-4f78-b80a-848024b95f92/GAINED_NIFTI/51011101881015 Dossier patient déjà crée\n/media/deeplearning/78ca2911-9e9f-4f78-b80a-848024b95f92/GAINED_NIFTI/51011101881015/pet4 created\n/media/deeplearning/78ca2911-9e9f-4f78-b80a-848024b95f92/GAINED_NIFTI/51011101881016 Dossier patient déjà crée\n/media/deeplearning/78ca2911-9e9f-4f78-b80a-848024b95f92/GAINED_NIFTI/51011101881016/pet4 created\n/media/deeplearning/78ca2911-9e9f-4f78-b80a-848024b95f92/GAINED_NIFTI/51011101881017 Dossier patient déjà crée\n/media/deeplearning/78ca2911-9e9f-4f78-b80a-848024b95f92/GAINED_NIFTI/51011101881017/pet4 created\n/media/deeplearning/78ca2911-9e9f-4f78-b80a-848024b95f92/GAINED_NIFTI/51011101881018 Dossier patient déjà crée\n/media/deeplearning/78ca2911-9e9f-4f78-b80a-848024b95f92/GAINED_NIFTI/51011101881018/pet4 created\n/media/deeplearning/78ca2911-9e9f-4f78-b80a-848024b95f92/GAINED_NIFTI/51011101881019 Dossier patient déjà crée\n/media/deeplearning/78ca2911-9e9f-4f78-b80a-848024b95f92/GAINED_NIFTI/51011101881019/pet4 created\n/media/deeplearning/78ca2911-9e9f-4f78-b80a-848024b95f92/GAINED_NIFTI/51011101881020 Dossier patient déjà crée\n/media/deeplearning/78ca2911-9e9f-4f78-b80a-848024b95f92/GAINED_NIFTI/51011101881020/pet4 created\n/media/deeplearning/78ca2911-9e9f-4f78-b80a-848024b95f92/GAINED_NIFTI/51011101881021 Dossier patient déjà crée\n/media/deeplearning/78ca2911-9e9f-4f78-b80a-848024b95f92/GAINED_NIFTI/51011101881021/pet4 created\n/media/deeplearning/78ca2911-9e9f-4f78-b80a-848024b95f92/GAINED_NIFTI/51011101881023 Dossier patient déjà crée\n/media/deeplearning/78ca2911-9e9f-4f78-b80a-848024b95f92/GAINED_NIFTI/51011101881023/pet4 created\n/media/deeplearning/78ca2911-9e9f-4f78-b80a-848024b95f92/GAINED_NIFTI/51011101881024 Dossier patient déjà crée\n/media/deeplearning/78ca2911-9e9f-4f78-b80a-848024b95f92/GAINED_NIFTI/51011101881024/pet4 created\n/media/deeplearning/78ca2911-9e9f-4f78-b80a-848024b95f92/GAINED_NIFTI/51011101881025 Dossier patient déjà crée\n/media/deeplearning/78ca2911-9e9f-4f78-b80a-848024b95f92/GAINED_NIFTI/51011101881025/pet4 created\n/media/deeplearning/78ca2911-9e9f-4f78-b80a-848024b95f92/GAINED_NIFTI/51011101881026 Dossier patient déjà crée\n/media/deeplearning/78ca2911-9e9f-4f78-b80a-848024b95f92/GAINED_NIFTI/51011101881026/pet4 created\n/media/deeplearning/78ca2911-9e9f-4f78-b80a-848024b95f92/GAINED_NIFTI/51011101881027 Dossier patient déjà crée\n/media/deeplearning/78ca2911-9e9f-4f78-b80a-848024b95f92/GAINED_NIFTI/51011101881027/pet4 created\n/media/deeplearning/78ca2911-9e9f-4f78-b80a-848024b95f92/GAINED_NIFTI/51011101881028 Dossier patient déjà crée\n/media/deeplearning/78ca2911-9e9f-4f78-b80a-848024b95f92/GAINED_NIFTI/51011101881028/pet4 created\n/media/deeplearning/78ca2911-9e9f-4f78-b80a-848024b95f92/GAINED_NIFTI/51011101901002 Dossier patient déjà crée\n/media/deeplearning/78ca2911-9e9f-4f78-b80a-848024b95f92/GAINED_NIFTI/51011101901002/pet4 created\n/media/deeplearning/78ca2911-9e9f-4f78-b80a-848024b95f92/GAINED_NIFTI/51011101901003 Dossier patient déjà crée\n/media/deeplearning/78ca2911-9e9f-4f78-b80a-848024b95f92/GAINED_NIFTI/51011101901003/pet4 created\n/media/deeplearning/78ca2911-9e9f-4f78-b80a-848024b95f92/GAINED_NIFTI/51011101901004 Dossier patient déjà crée\n/media/deeplearning/78ca2911-9e9f-4f78-b80a-848024b95f92/GAINED_NIFTI/51011101901004/pet4 created\n/media/deeplearning/78ca2911-9e9f-4f78-b80a-848024b95f92/GAINED_NIFTI/51011101901005 Dossier patient déjà crée\n/media/deeplearning/78ca2911-9e9f-4f78-b80a-848024b95f92/GAINED_NIFTI/51011101901005/pet4 created\n/media/deeplearning/78ca2911-9e9f-4f78-b80a-848024b95f92/GAINED_NIFTI/51011101901006 Dossier patient déjà crée\n/media/deeplearning/78ca2911-9e9f-4f78-b80a-848024b95f92/GAINED_NIFTI/51011101901006/pet4 created\n/media/deeplearning/78ca2911-9e9f-4f78-b80a-848024b95f92/GAINED_NIFTI/51011101901007 Dossier patient déjà crée\n/media/deeplearning/78ca2911-9e9f-4f78-b80a-848024b95f92/GAINED_NIFTI/51011101901007/pet4 created\n/media/deeplearning/78ca2911-9e9f-4f78-b80a-848024b95f92/GAINED_NIFTI/51011102161001 Dossier patient déjà crée\n/media/deeplearning/78ca2911-9e9f-4f78-b80a-848024b95f92/GAINED_NIFTI/51011102161001/pet4 created\n/media/deeplearning/78ca2911-9e9f-4f78-b80a-848024b95f92/GAINED_NIFTI/51011102161002 Dossier patient déjà crée\n/media/deeplearning/78ca2911-9e9f-4f78-b80a-848024b95f92/GAINED_NIFTI/51011102161002/pet4 created\n/media/deeplearning/78ca2911-9e9f-4f78-b80a-848024b95f92/GAINED_NIFTI/51011102161003 Dossier patient déjà crée\n/media/deeplearning/78ca2911-9e9f-4f78-b80a-848024b95f92/GAINED_NIFTI/51011102161003/pet4 created\n/media/deeplearning/78ca2911-9e9f-4f78-b80a-848024b95f92/GAINED_NIFTI/51011102171001 Dossier patient déjà crée\n/media/deeplearning/78ca2911-9e9f-4f78-b80a-848024b95f92/GAINED_NIFTI/51011102171001/pet4 created\n/media/deeplearning/78ca2911-9e9f-4f78-b80a-848024b95f92/GAINED_NIFTI/51011102171002 Dossier patient déjà crée\n/media/deeplearning/78ca2911-9e9f-4f78-b80a-848024b95f92/GAINED_NIFTI/51011102171002/pet4 created\n/media/deeplearning/78ca2911-9e9f-4f78-b80a-848024b95f92/GAINED_NIFTI/51011102171003 Dossier patient déjà crée\n/media/deeplearning/78ca2911-9e9f-4f78-b80a-848024b95f92/GAINED_NIFTI/51011102171003/pet4 created\n/media/deeplearning/78ca2911-9e9f-4f78-b80a-848024b95f92/GAINED_NIFTI/51011102171004 Dossier patient déjà crée\n/media/deeplearning/78ca2911-9e9f-4f78-b80a-848024b95f92/GAINED_NIFTI/51011102171004/pet4 created\n/media/deeplearning/78ca2911-9e9f-4f78-b80a-848024b95f92/GAINED_NIFTI/51011102171005 Dossier patient déjà crée\n/media/deeplearning/78ca2911-9e9f-4f78-b80a-848024b95f92/GAINED_NIFTI/51011102171005/pet4 created\n/media/deeplearning/78ca2911-9e9f-4f78-b80a-848024b95f92/GAINED_NIFTI/51011102171006 Dossier patient déjà crée\n/media/deeplearning/78ca2911-9e9f-4f78-b80a-848024b95f92/GAINED_NIFTI/51011102171006/pet4 created\n/media/deeplearning/78ca2911-9e9f-4f78-b80a-848024b95f92/GAINED_NIFTI/51011102171007 Dossier patient déjà crée\n/media/deeplearning/78ca2911-9e9f-4f78-b80a-848024b95f92/GAINED_NIFTI/51011102171007/pet4 created\n/media/deeplearning/78ca2911-9e9f-4f78-b80a-848024b95f92/GAINED_NIFTI/51011102171008 Dossier patient déjà crée\n/media/deeplearning/78ca2911-9e9f-4f78-b80a-848024b95f92/GAINED_NIFTI/51011102171008/pet4 created\n/media/deeplearning/78ca2911-9e9f-4f78-b80a-848024b95f92/GAINED_NIFTI/51011102171009 Dossier patient déjà crée\n/media/deeplearning/78ca2911-9e9f-4f78-b80a-848024b95f92/GAINED_NIFTI/51011102171009/pet4 created\n/media/deeplearning/78ca2911-9e9f-4f78-b80a-848024b95f92/GAINED_NIFTI/51011102181001 Dossier patient déjà crée\n/media/deeplearning/78ca2911-9e9f-4f78-b80a-848024b95f92/GAINED_NIFTI/51011102181001/pet4 created\n"
    }
   ],
   "source": [
    "#creation sous dossier patient id -> pet0 -> mask ct pt \n",
    "\n",
    "for serie in new_liste: \n",
    "    patient_id = serie[0]\n",
    "    pet_type = serie[-1]\n",
    "    nifti_ct = serie[2]\n",
    "    nifti_pet = serie[3]\n",
    "        #nifti_mask = serie[5]\n",
    "\n",
    "    folder = '/media/deeplearning/78ca2911-9e9f-4f78-b80a-848024b95f92/GAINED_NIFTI'+'/'+patient_id\n",
    "\n",
    "    if not os.path.exists(folder):\n",
    "        os.makedirs(folder)\n",
    "        print(folder, 'created')\n",
    "    else : print(folder, \"Dossier patient déjà crée\")\n",
    "\n",
    "    subfolder = folder+'/'+pet_type\n",
    "    if not os.path.exists(subfolder) :\n",
    "        os.makedirs(subfolder)\n",
    "        print(subfolder, 'created')\n",
    "    else : print(subfolder, \"déjà crée => prblm\")\n",
    "\n",
    "    ct_path = '/media/deeplearning/78ca2911-9e9f-4f78-b80a-848024b95f92/GAINED_NIFTI_PET4'+'/'+nifti_ct\n",
    "    pt_path = '/media/deeplearning/78ca2911-9e9f-4f78-b80a-848024b95f92/GAINED_NIFTI_PET4'+'/'+nifti_pet\n",
    "        #mask_path = '/media/deeplearning/78ca2911-9e9f-4f78-b80a-848024b95f92/FLIP_NIFTI'+'/'+nifti_mask\n",
    "\n",
    "    new_ct_path = subfolder+'/'+nifti_ct\n",
    "    new_pet_path = subfolder+'/'+nifti_pet\n",
    "        #new_mask_path = subfolder+'/'+nifti_mask\n",
    "    try : \n",
    "\n",
    "        os.rename(ct_path, subfolder+'/'+nifti_ct)\n",
    "        os.rename(pt_path, subfolder+'/'+nifti_pet)\n",
    "        #os.rename(mask_path, subfolder+'/'+nifti_mask)\n",
    "    except Exception as err : \n",
    "        print(err)\n",
    "\n",
    "\n",
    "\n",
    "\n",
    "    \n",
    "\n"
   ]
  },
  {
   "cell_type": "code",
   "execution_count": null,
   "metadata": {},
   "outputs": [],
   "source": []
  },
  {
   "cell_type": "code",
   "execution_count": null,
   "metadata": {},
   "outputs": [],
   "source": [
    "#REUNITE CSV \n"
   ]
  },
  {
   "cell_type": "code",
   "execution_count": null,
   "metadata": {},
   "outputs": [],
   "source": []
  }
 ],
 "metadata": {
  "file_extension": ".py",
  "kernelspec": {
   "display_name": "Python 3.8.2 64-bit",
   "language": "python",
   "name": "python38264bit4afc185bc98b42c389abdbb3fbeec8dd"
  },
  "language_info": {
   "codemirror_mode": {
    "name": "ipython",
    "version": 3
   },
   "file_extension": ".py",
   "mimetype": "text/x-python",
   "name": "python",
   "nbconvert_exporter": "python",
   "pygments_lexer": "ipython3",
   "version": "3.8.2-final"
  },
  "mimetype": "text/x-python",
  "name": "python",
  "npconvert_exporter": "python",
  "pygments_lexer": "ipython3",
  "version": 3
 },
 "nbformat": 4,
 "nbformat_minor": 2
}