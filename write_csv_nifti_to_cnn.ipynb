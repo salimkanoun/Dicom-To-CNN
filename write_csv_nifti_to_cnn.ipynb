{
 "cells": [
  {
   "cell_type": "code",
   "execution_count": 1,
   "metadata": {},
   "outputs": [],
   "source": [
    "import json\n",
    "import os\n",
    "from library_dicom.dicom_processor.tools.folders import *\n",
    "from library_dicom.dicom_processor.tools.create_mip import *\n",
    "from library_dicom.dicom_processor.tools.threshold_mask import *\n",
    "import numpy as np\n",
    "import SimpleITK as sitk\n",
    "import csv\n",
    "import shutil"
   ]
  },
  {
   "cell_type": "code",
   "execution_count": null,
   "metadata": {},
   "outputs": [],
   "source": [
    "#Script to write csv to use in Deep Learning "
   ]
  },
  {
   "cell_type": "code",
   "execution_count": 3,
   "metadata": {},
   "outputs": [
    {
     "output_type": "stream",
     "name": "stdout",
     "text": [
      "206\n499\n"
     ]
    }
   ],
   "source": [
    "json_path = '/media/deeplearning/Elements/RELEVANCE_Valid_DICOM/relevance_data.json'\n",
    "dataset = []\n",
    "with open(json_path) as json_file : \n",
    "    reader = json.load(json_file)\n",
    "    for info in reader :\n",
    "        dataset.append(info)\n",
    "\n",
    "cpt = 0\n",
    "for serie in dataset : \n",
    "    if 'PET_Screening' in serie : \n",
    "        cpt += 1\n",
    "\n",
    "print(cpt)\n",
    "print(len(dataset))"
   ]
  },
  {
   "cell_type": "code",
   "execution_count": 4,
   "metadata": {},
   "outputs": [],
   "source": [
    "#open csv with informations about dataset\n",
    "csv_path = '/media/deeplearning/Elements/relevance_data_v2.csv'\n",
    "\n",
    "with open(csv_path, 'r') as csv_file :\n",
    "    reader = csv.reader(csv_file, delimiter = ',') \n",
    "    csv_data = []\n",
    "    for row in reader :\n",
    "        csv_data.append(row)\n",
    "        \n",
    "del csv_data[0] "
   ]
  },
  {
   "cell_type": "code",
   "execution_count": 22,
   "metadata": {},
   "outputs": [],
   "source": [
    "#PET_Screening only \n",
    "\n",
    "data = []\n",
    "for row in csv_data : \n",
    "    if 'PET_Screening' in row : \n",
    "        data.append(row)"
   ]
  },
  {
   "cell_type": "code",
   "execution_count": 23,
   "metadata": {},
   "outputs": [
    {
     "output_type": "execute_result",
     "data": {
      "text/plain": [
       "208"
      ]
     },
     "metadata": {},
     "execution_count": 23
    }
   ],
   "source": [
    "len(data)"
   ]
  },
  {
   "cell_type": "code",
   "execution_count": 7,
   "metadata": {},
   "outputs": [],
   "source": [
    "#liste of generated nifti by \"nifti_builder_from_json\" script \n",
    "\n",
    "nifti_directory = '/media/deeplearning/Elements/RELEVANCE_NIFTI'\n",
    "liste_nifti = os.listdir(nifti_directory)"
   ]
  },
  {
   "cell_type": "code",
   "execution_count": 8,
   "metadata": {},
   "outputs": [
    {
     "output_type": "execute_result",
     "data": {
      "text/plain": [
       "392"
      ]
     },
     "metadata": {},
     "execution_count": 8
    }
   ],
   "source": [
    "len(liste_nifti)"
   ]
  },
  {
   "cell_type": "code",
   "execution_count": 24,
   "metadata": {
    "tags": []
   },
   "outputs": [],
   "source": [
    "liste = []\n",
    "type_ = 'PET_Screening'\n",
    "for row in data : \n",
    "    subliste = []\n",
    "    subliste.append(row[0]) #patient id \n",
    "        #add other informations if need \n",
    "\n",
    "    study_uid = row[1]\n",
    "    subliste.append(study_uid)\n",
    "\n",
    "    subsubliste = []\n",
    "    for nifti in liste_nifti : \n",
    "        if study_uid in nifti: \n",
    "            subsubliste.append(nifti)\n",
    "    if len(subsubliste) == 2 : #or == 3 if there is a mask \n",
    "        subsubliste = sorted(subsubliste)\n",
    "        subliste.append(subsubliste[0])\n",
    "        subliste.append(subsubliste[1])\n",
    "            #subliste.append(subsubliste[2]) #add it if there is a mask \n",
    "    else : \n",
    "        pass\n",
    "    subliste.append(type_)\n",
    "    liste.append(subliste)\n",
    "\n"
   ]
  },
  {
   "cell_type": "code",
   "execution_count": 33,
   "metadata": {},
   "outputs": [
    {
     "output_type": "execute_result",
     "data": {
      "text/plain": [
       "['12011101171110',\n",
       " '1.2.840.113619.2.55.3.34213890.138.1392963185.715',\n",
       " '1.2.840.113619.2.55.3.34213890.138.1392963185.715_nifti_CT.nii',\n",
       " '1.2.840.113619.2.55.3.34213890.138.1392963185.715_nifti_PT.nii',\n",
       " 'PET_Screening']"
      ]
     },
     "metadata": {},
     "execution_count": 33
    }
   ],
   "source": [
    "liste[100]"
   ]
  },
  {
   "cell_type": "code",
   "execution_count": 34,
   "metadata": {},
   "outputs": [],
   "source": [
    "#clean serie : must have patient ID, study_UID, CT_path, PET_path, MASK_path if pet0, and type \"PET\" (0,2,4)\n",
    "completed_liste = []\n",
    "for serie in liste : \n",
    "    if len(serie) == 5 : #== 6 if Mask_path \n",
    "        completed_liste.append(serie)"
   ]
  },
  {
   "cell_type": "code",
   "execution_count": 35,
   "metadata": {},
   "outputs": [],
   "source": [
    "#here check for double : if there are 2 patient with same ID, or same STUDY_UID, delete the other(s) serie(s)\n",
    "\n",
    "dataset = []\n",
    "dataset.append(completed_liste[0])\n",
    "for i in range(1, len(completed_liste)) :\n",
    "    if completed_liste[i] not in dataset : \n",
    "        dataset.append(completed_liste[i])"
   ]
  },
  {
   "cell_type": "code",
   "execution_count": 37,
   "metadata": {},
   "outputs": [
    {
     "output_type": "stream",
     "name": "stdout",
     "text": [
      "nombre de study :  194\n"
     ]
    }
   ],
   "source": [
    "print(\"nombre de study : \", len(dataset))"
   ]
  },
  {
   "cell_type": "code",
   "execution_count": 38,
   "metadata": {},
   "outputs": [
    {
     "output_type": "execute_result",
     "data": {
      "text/plain": [
       "['12011101031111',\n",
       " '1.2.250.1.74.20130606181600.17000002986493',\n",
       " '1.2.250.1.74.20130606181600.17000002986493_nifti_CT.nii',\n",
       " '1.2.250.1.74.20130606181600.17000002986493_nifti_PT.nii',\n",
       " 'PET_Screening']"
      ]
     },
     "metadata": {},
     "execution_count": 38
    }
   ],
   "source": [
    "dataset[0]"
   ]
  },
  {
   "cell_type": "code",
   "execution_count": 40,
   "metadata": {
    "tags": [
     "outputPrepend"
    ]
   },
   "outputs": [
    {
     "output_type": "stream",
     "name": "stdout",
     "text": [
      "ready folder for  PET_Screening\n/media/deeplearning/Elements/RELEVANCE_NIFTI/12011101071106 Dossier patient déjà crée\n/media/deeplearning/Elements/RELEVANCE_NIFTI/12011101071106/PET_Screening Déjà creer => already folder for  PET_Screening\n/media/deeplearning/Elements/RELEVANCE_NIFTI/12011101071107 Dossier patient déjà crée\n/media/deeplearning/Elements/RELEVANCE_NIFTI/12011101071107/PET_Screening Déjà creer => already folder for  PET_Screening\n/media/deeplearning/Elements/RELEVANCE_NIFTI/12011101071108 Dossier patient déjà crée\n/media/deeplearning/Elements/RELEVANCE_NIFTI/12011101071108/PET_Screening Déjà creer => already folder for  PET_Screening\n/media/deeplearning/Elements/RELEVANCE_NIFTI/12011101071109 Dossier patient déjà crée\n/media/deeplearning/Elements/RELEVANCE_NIFTI/12011101071109/PET_Screening Déjà creer => already folder for  PET_Screening\n/media/deeplearning/Elements/RELEVANCE_NIFTI/12011101071110 Dossier patient déjà crée\n/media/deeplearning/Elements/RELEVANCE_NIFTI/12011101071110/PET_Screening Déjà creer => already folder for  PET_Screening\n/media/deeplearning/Elements/RELEVANCE_NIFTI/12011101071111 Dossier patient déjà crée\n/media/deeplearning/Elements/RELEVANCE_NIFTI/12011101071111/PET_Screening Déjà creer => already folder for  PET_Screening\n/media/deeplearning/Elements/RELEVANCE_NIFTI/12011101071112 Dossier patient déjà crée\n/media/deeplearning/Elements/RELEVANCE_NIFTI/12011101071112/PET_Screening Déjà creer => already folder for  PET_Screening\n/media/deeplearning/Elements/RELEVANCE_NIFTI/12011101071114 Dossier patient déjà crée\n/media/deeplearning/Elements/RELEVANCE_NIFTI/12011101071114/PET_Screening Déjà creer => already folder for  PET_Screening\n/media/deeplearning/Elements/RELEVANCE_NIFTI/12011101071115 Dossier patient déjà crée\n/media/deeplearning/Elements/RELEVANCE_NIFTI/12011101071115/PET_Screening Déjà creer => already folder for  PET_Screening\n/media/deeplearning/Elements/RELEVANCE_NIFTI/12011101221101 Dossier patient déjà crée\n/media/deeplearning/Elements/RELEVANCE_NIFTI/12011101221101/PET_Screening Déjà creer => already folder for  PET_Screening\n/media/deeplearning/Elements/RELEVANCE_NIFTI/12011101221102 Dossier patient déjà crée\n/media/deeplearning/Elements/RELEVANCE_NIFTI/12011101221102/PET_Screening Déjà creer => already folder for  PET_Screening\n/media/deeplearning/Elements/RELEVANCE_NIFTI/12011101221103 Dossier patient déjà crée\n/media/deeplearning/Elements/RELEVANCE_NIFTI/12011101221103/PET_Screening Déjà creer => already folder for  PET_Screening\n/media/deeplearning/Elements/RELEVANCE_NIFTI/12011101221104 Dossier patient déjà crée\n/media/deeplearning/Elements/RELEVANCE_NIFTI/12011101221104/PET_Screening Déjà creer => already folder for  PET_Screening\n/media/deeplearning/Elements/RELEVANCE_NIFTI/12011101221105 Dossier patient déjà crée\n/media/deeplearning/Elements/RELEVANCE_NIFTI/12011101221105/PET_Screening Déjà creer => already folder for  PET_Screening\n/media/deeplearning/Elements/RELEVANCE_NIFTI/12011101221106 Dossier patient déjà crée\n/media/deeplearning/Elements/RELEVANCE_NIFTI/12011101221106/PET_Screening Déjà creer => already folder for  PET_Screening\n/media/deeplearning/Elements/RELEVANCE_NIFTI/12011101221107 Dossier patient déjà crée\n/media/deeplearning/Elements/RELEVANCE_NIFTI/12011101221107/PET_Screening Déjà creer => already folder for  PET_Screening\n/media/deeplearning/Elements/RELEVANCE_NIFTI/12011101231102 Dossier patient déjà crée\n/media/deeplearning/Elements/RELEVANCE_NIFTI/12011101231102/PET_Screening Déjà creer => already folder for  PET_Screening\n/media/deeplearning/Elements/RELEVANCE_NIFTI/12011101231103 Dossier patient déjà crée\n/media/deeplearning/Elements/RELEVANCE_NIFTI/12011101231103/PET_Screening Déjà creer => already folder for  PET_Screening\n/media/deeplearning/Elements/RELEVANCE_NIFTI/12011101231104 Dossier patient déjà crée\n/media/deeplearning/Elements/RELEVANCE_NIFTI/12011101231104/PET_Screening Déjà creer => already folder for  PET_Screening\n/media/deeplearning/Elements/RELEVANCE_NIFTI/12011101231105 Dossier patient déjà crée\n/media/deeplearning/Elements/RELEVANCE_NIFTI/12011101231105/PET_Screening Déjà creer => already folder for  PET_Screening\n/media/deeplearning/Elements/RELEVANCE_NIFTI/12011101241101 Dossier patient déjà crée\n/media/deeplearning/Elements/RELEVANCE_NIFTI/12011101241101/PET_Screening Déjà creer => already folder for  PET_Screening\n/media/deeplearning/Elements/RELEVANCE_NIFTI/12011101241103 Dossier patient déjà crée\n/media/deeplearning/Elements/RELEVANCE_NIFTI/12011101241103/PET_Screening Déjà creer => already folder for  PET_Screening\n/media/deeplearning/Elements/RELEVANCE_NIFTI/12011101241104 Dossier patient déjà crée\n/media/deeplearning/Elements/RELEVANCE_NIFTI/12011101241104/PET_Screening Déjà creer => already folder for  PET_Screening\n/media/deeplearning/Elements/RELEVANCE_NIFTI/12011101241109 Dossier patient déjà crée\n/media/deeplearning/Elements/RELEVANCE_NIFTI/12011101241109/PET_Screening Déjà creer => already folder for  PET_Screening\n/media/deeplearning/Elements/RELEVANCE_NIFTI/12011101071118 Dossier patient déjà crée\n/media/deeplearning/Elements/RELEVANCE_NIFTI/12011101071118/PET_Screening Déjà creer => already folder for  PET_Screening\n/media/deeplearning/Elements/RELEVANCE_NIFTI/12011101071120 Dossier patient déjà crée\n/media/deeplearning/Elements/RELEVANCE_NIFTI/12011101071120/PET_Screening Déjà creer => already folder for  PET_Screening\n/media/deeplearning/Elements/RELEVANCE_NIFTI/12011101091101 Dossier patient déjà crée\n/media/deeplearning/Elements/RELEVANCE_NIFTI/12011101091101/PET_Screening Déjà creer => already folder for  PET_Screening\n/media/deeplearning/Elements/RELEVANCE_NIFTI/12011101091102 Dossier patient déjà crée\n/media/deeplearning/Elements/RELEVANCE_NIFTI/12011101091102/PET_Screening Déjà creer => already folder for  PET_Screening\n/media/deeplearning/Elements/RELEVANCE_NIFTI/12011101091103 Dossier patient déjà crée\n/media/deeplearning/Elements/RELEVANCE_NIFTI/12011101091103/PET_Screening Déjà creer => already folder for  PET_Screening\n/media/deeplearning/Elements/RELEVANCE_NIFTI/12011101091104 Dossier patient déjà crée\n/media/deeplearning/Elements/RELEVANCE_NIFTI/12011101091104/PET_Screening Déjà creer => already folder for  PET_Screening\n/media/deeplearning/Elements/RELEVANCE_NIFTI/12011101091105 Dossier patient déjà crée\n/media/deeplearning/Elements/RELEVANCE_NIFTI/12011101091105/PET_Screening Déjà creer => already folder for  PET_Screening\n/media/deeplearning/Elements/RELEVANCE_NIFTI/12011101091106 Dossier patient déjà crée\n/media/deeplearning/Elements/RELEVANCE_NIFTI/12011101091106/PET_Screening Déjà creer => already folder for  PET_Screening\n/media/deeplearning/Elements/RELEVANCE_NIFTI/12011101091107 Dossier patient déjà crée\n/media/deeplearning/Elements/RELEVANCE_NIFTI/12011101091107/PET_Screening Déjà creer => already folder for  PET_Screening\n/media/deeplearning/Elements/RELEVANCE_NIFTI/12011101091108 Dossier patient déjà crée\n/media/deeplearning/Elements/RELEVANCE_NIFTI/12011101091108/PET_Screening Déjà creer => already folder for  PET_Screening\n/media/deeplearning/Elements/RELEVANCE_NIFTI/12011101091109 Dossier patient déjà crée\n/media/deeplearning/Elements/RELEVANCE_NIFTI/12011101091109/PET_Screening Déjà creer => already folder for  PET_Screening\n/media/deeplearning/Elements/RELEVANCE_NIFTI/12011101091110 Dossier patient déjà crée\n/media/deeplearning/Elements/RELEVANCE_NIFTI/12011101091110/PET_Screening Déjà creer => already folder for  PET_Screening\n/media/deeplearning/Elements/RELEVANCE_NIFTI/12011101091111 Dossier patient déjà crée\n/media/deeplearning/Elements/RELEVANCE_NIFTI/12011101091111/PET_Screening Déjà creer => already folder for  PET_Screening\n/media/deeplearning/Elements/RELEVANCE_NIFTI/12011101091112 Dossier patient déjà crée\n/media/deeplearning/Elements/RELEVANCE_NIFTI/12011101091112/PET_Screening Déjà creer => already folder for  PET_Screening\n/media/deeplearning/Elements/RELEVANCE_NIFTI/12011101091113 Dossier patient déjà crée\n/media/deeplearning/Elements/RELEVANCE_NIFTI/12011101091113/PET_Screening Déjà creer => already folder for  PET_Screening\n/media/deeplearning/Elements/RELEVANCE_NIFTI/12011101091114 Dossier patient déjà crée\n/media/deeplearning/Elements/RELEVANCE_NIFTI/12011101091114/PET_Screening Déjà creer => already folder for  PET_Screening\n/media/deeplearning/Elements/RELEVANCE_NIFTI/12011107211101 Dossier patient déjà crée\n/media/deeplearning/Elements/RELEVANCE_NIFTI/12011107211101/PET_Screening Déjà creer => already folder for  PET_Screening\n/media/deeplearning/Elements/RELEVANCE_NIFTI/52011101871109 Dossier patient déjà crée\n/media/deeplearning/Elements/RELEVANCE_NIFTI/52011101871109/PET_Screening Déjà creer => already folder for  PET_Screening\n/media/deeplearning/Elements/RELEVANCE_NIFTI/52011101871110 Dossier patient déjà crée\n/media/deeplearning/Elements/RELEVANCE_NIFTI/52011101871110/PET_Screening Déjà creer => already folder for  PET_Screening\n/media/deeplearning/Elements/RELEVANCE_NIFTI/52011101871111 Dossier patient déjà crée\n/media/deeplearning/Elements/RELEVANCE_NIFTI/52011101871111/PET_Screening Déjà creer => already folder for  PET_Screening\n/media/deeplearning/Elements/RELEVANCE_NIFTI/52011101881107 Dossier patient déjà crée\n/media/deeplearning/Elements/RELEVANCE_NIFTI/52011101881107/PET_Screening Déjà creer => already folder for  PET_Screening\n/media/deeplearning/Elements/RELEVANCE_NIFTI/52011101881108 Dossier patient déjà crée\n/media/deeplearning/Elements/RELEVANCE_NIFTI/52011101881108/PET_Screening Déjà creer => already folder for  PET_Screening\n/media/deeplearning/Elements/RELEVANCE_NIFTI/52011101881109 Dossier patient déjà crée\n/media/deeplearning/Elements/RELEVANCE_NIFTI/52011101881109/PET_Screening Déjà creer => already folder for  PET_Screening\n/media/deeplearning/Elements/RELEVANCE_NIFTI/52011101881110 Dossier patient déjà crée\n/media/deeplearning/Elements/RELEVANCE_NIFTI/52011101881110/PET_Screening Déjà creer => already folder for  PET_Screening\n/media/deeplearning/Elements/RELEVANCE_NIFTI/52011101881111 Dossier patient déjà crée\n/media/deeplearning/Elements/RELEVANCE_NIFTI/52011101881111/PET_Screening Déjà creer => already folder for  PET_Screening\n/media/deeplearning/Elements/RELEVANCE_NIFTI/52011101901101 Dossier patient déjà crée\n/media/deeplearning/Elements/RELEVANCE_NIFTI/52011101901101/PET_Screening Déjà creer => already folder for  PET_Screening\n/media/deeplearning/Elements/RELEVANCE_NIFTI/52011104081103 Dossier patient déjà crée\n/media/deeplearning/Elements/RELEVANCE_NIFTI/52011104081103/PET_Screening Déjà creer => already folder for  PET_Screening\n/media/deeplearning/Elements/RELEVANCE_NIFTI/52011104081104 Dossier patient déjà crée\n/media/deeplearning/Elements/RELEVANCE_NIFTI/52011104081104/PET_Screening Déjà creer => already folder for  PET_Screening\n/media/deeplearning/Elements/RELEVANCE_NIFTI/12011101191103 Dossier patient déjà crée\n/media/deeplearning/Elements/RELEVANCE_NIFTI/12011101191103/PET_Screening Déjà creer => already folder for  PET_Screening\n/media/deeplearning/Elements/RELEVANCE_NIFTI/52011101871106 Dossier patient déjà crée\n/media/deeplearning/Elements/RELEVANCE_NIFTI/52011101871106/PET_Screening Déjà creer => already folder for  PET_Screening\n/media/deeplearning/Elements/RELEVANCE_NIFTI/12011101191104 Dossier patient déjà crée\n/media/deeplearning/Elements/RELEVANCE_NIFTI/12011101191104/PET_Screening Déjà creer => already folder for  PET_Screening\n/media/deeplearning/Elements/RELEVANCE_NIFTI/12011101191105 Dossier patient déjà crée\n/media/deeplearning/Elements/RELEVANCE_NIFTI/12011101191105/PET_Screening Déjà creer => already folder for  PET_Screening\n/media/deeplearning/Elements/RELEVANCE_NIFTI/12011101191107 Dossier patient déjà crée\n/media/deeplearning/Elements/RELEVANCE_NIFTI/12011101191107/PET_Screening Déjà creer => already folder for  PET_Screening\n/media/deeplearning/Elements/RELEVANCE_NIFTI/12011101191109 Dossier patient déjà crée\n/media/deeplearning/Elements/RELEVANCE_NIFTI/12011101191109/PET_Screening Déjà creer => already folder for  PET_Screening\n/media/deeplearning/Elements/RELEVANCE_NIFTI/12011101191111 Dossier patient déjà crée\n/media/deeplearning/Elements/RELEVANCE_NIFTI/12011101191111/PET_Screening Déjà creer => already folder for  PET_Screening\n/media/deeplearning/Elements/RELEVANCE_NIFTI/12011101191101 Dossier patient déjà crée\n/media/deeplearning/Elements/RELEVANCE_NIFTI/12011101191101/PET_Screening Déjà creer => already folder for  PET_Screening\n/media/deeplearning/Elements/RELEVANCE_NIFTI/12011101031107 Dossier patient déjà crée\n/media/deeplearning/Elements/RELEVANCE_NIFTI/12011101031107/PET_Screening Déjà creer => already folder for  PET_Screening\n/media/deeplearning/Elements/RELEVANCE_NIFTI/12011101021101 Dossier patient déjà crée\n/media/deeplearning/Elements/RELEVANCE_NIFTI/12011101021101/PET_Screening Déjà creer => already folder for  PET_Screening\n/media/deeplearning/Elements/RELEVANCE_NIFTI/12011101021102 Dossier patient déjà crée\n/media/deeplearning/Elements/RELEVANCE_NIFTI/12011101021102/PET_Screening Déjà creer => already folder for  PET_Screening\n/media/deeplearning/Elements/RELEVANCE_NIFTI/12011101021103 Dossier patient déjà crée\n/media/deeplearning/Elements/RELEVANCE_NIFTI/12011101021103/PET_Screening Déjà creer => already folder for  PET_Screening\n/media/deeplearning/Elements/RELEVANCE_NIFTI/12011101021104 Dossier patient déjà crée\n/media/deeplearning/Elements/RELEVANCE_NIFTI/12011101021104/PET_Screening Déjà creer => already folder for  PET_Screening\n/media/deeplearning/Elements/RELEVANCE_NIFTI/12011101021107 Dossier patient déjà crée\n/media/deeplearning/Elements/RELEVANCE_NIFTI/12011101021107/PET_Screening Déjà creer => already folder for  PET_Screening\n/media/deeplearning/Elements/RELEVANCE_NIFTI/12011101021109 Dossier patient déjà crée\n/media/deeplearning/Elements/RELEVANCE_NIFTI/12011101021109/PET_Screening Déjà creer => already folder for  PET_Screening\n/media/deeplearning/Elements/RELEVANCE_NIFTI/12011101021111 Dossier patient déjà crée\n/media/deeplearning/Elements/RELEVANCE_NIFTI/12011101021111/PET_Screening Déjà creer => already folder for  PET_Screening\n/media/deeplearning/Elements/RELEVANCE_NIFTI/12011101021112 Dossier patient déjà crée\n/media/deeplearning/Elements/RELEVANCE_NIFTI/12011101021112/PET_Screening Déjà creer => already folder for  PET_Screening\n/media/deeplearning/Elements/RELEVANCE_NIFTI/12011101021113 Dossier patient déjà crée\n/media/deeplearning/Elements/RELEVANCE_NIFTI/12011101021113/PET_Screening Déjà creer => already folder for  PET_Screening\n/media/deeplearning/Elements/RELEVANCE_NIFTI/12011101021114 Dossier patient déjà crée\n/media/deeplearning/Elements/RELEVANCE_NIFTI/12011101021114/PET_Screening Déjà creer => already folder for  PET_Screening\n/media/deeplearning/Elements/RELEVANCE_NIFTI/12011101021115 Dossier patient déjà crée\n/media/deeplearning/Elements/RELEVANCE_NIFTI/12011101021115/PET_Screening Déjà creer => already folder for  PET_Screening\n/media/deeplearning/Elements/RELEVANCE_NIFTI/12011101021116 Dossier patient déjà crée\n/media/deeplearning/Elements/RELEVANCE_NIFTI/12011101021116/PET_Screening Déjà creer => already folder for  PET_Screening\n/media/deeplearning/Elements/RELEVANCE_NIFTI/12011101021117 Dossier patient déjà crée\n/media/deeplearning/Elements/RELEVANCE_NIFTI/12011101021117/PET_Screening Déjà creer => already folder for  PET_Screening\n/media/deeplearning/Elements/RELEVANCE_NIFTI/12011101021118 Dossier patient déjà crée\n/media/deeplearning/Elements/RELEVANCE_NIFTI/12011101021118/PET_Screening Déjà creer => already folder for  PET_Screening\n/media/deeplearning/Elements/RELEVANCE_NIFTI/12011101021119 Dossier patient déjà crée\n/media/deeplearning/Elements/RELEVANCE_NIFTI/12011101021119/PET_Screening Déjà creer => already folder for  PET_Screening\n/media/deeplearning/Elements/RELEVANCE_NIFTI/12011101031101 Dossier patient déjà crée\n/media/deeplearning/Elements/RELEVANCE_NIFTI/12011101031101/PET_Screening Déjà creer => already folder for  PET_Screening\n/media/deeplearning/Elements/RELEVANCE_NIFTI/12011101031102 Dossier patient déjà crée\n/media/deeplearning/Elements/RELEVANCE_NIFTI/12011101031102/PET_Screening Déjà creer => already folder for  PET_Screening\n/media/deeplearning/Elements/RELEVANCE_NIFTI/12011101031106 Dossier patient déjà crée\n/media/deeplearning/Elements/RELEVANCE_NIFTI/12011101031106/PET_Screening Déjà creer => already folder for  PET_Screening\n/media/deeplearning/Elements/RELEVANCE_NIFTI/12011101031108 Dossier patient déjà crée\n/media/deeplearning/Elements/RELEVANCE_NIFTI/12011101031108/PET_Screening Déjà creer => already folder for  PET_Screening\n/media/deeplearning/Elements/RELEVANCE_NIFTI/12011101031109 Dossier patient déjà crée\n/media/deeplearning/Elements/RELEVANCE_NIFTI/12011101031109/PET_Screening Déjà creer => already folder for  PET_Screening\n/media/deeplearning/Elements/RELEVANCE_NIFTI/12011101031110 Dossier patient déjà crée\n/media/deeplearning/Elements/RELEVANCE_NIFTI/12011101031110/PET_Screening Déjà creer => already folder for  PET_Screening\n/media/deeplearning/Elements/RELEVANCE_NIFTI/12011101031112 Dossier patient déjà crée\n/media/deeplearning/Elements/RELEVANCE_NIFTI/12011101031112/PET_Screening Déjà creer => already folder for  PET_Screening\n/media/deeplearning/Elements/RELEVANCE_NIFTI/12011101031113 Dossier patient déjà crée\n/media/deeplearning/Elements/RELEVANCE_NIFTI/12011101031113/PET_Screening Déjà creer => already folder for  PET_Screening\n/media/deeplearning/Elements/RELEVANCE_NIFTI/12011101031114 Dossier patient déjà crée\n/media/deeplearning/Elements/RELEVANCE_NIFTI/12011101031114/PET_Screening Déjà creer => already folder for  PET_Screening\n/media/deeplearning/Elements/RELEVANCE_NIFTI/12011101031115 Dossier patient déjà crée\n/media/deeplearning/Elements/RELEVANCE_NIFTI/12011101031115/PET_Screening Déjà creer => already folder for  PET_Screening\n/media/deeplearning/Elements/RELEVANCE_NIFTI/12011101031116 Dossier patient déjà crée\n/media/deeplearning/Elements/RELEVANCE_NIFTI/12011101031116/PET_Screening Déjà creer => already folder for  PET_Screening\n/media/deeplearning/Elements/RELEVANCE_NIFTI/12011101031117 Dossier patient déjà crée\n/media/deeplearning/Elements/RELEVANCE_NIFTI/12011101031117/PET_Screening Déjà creer => already folder for  PET_Screening\n/media/deeplearning/Elements/RELEVANCE_NIFTI/12011101031119 Dossier patient déjà crée\n/media/deeplearning/Elements/RELEVANCE_NIFTI/12011101031119/PET_Screening Déjà creer => already folder for  PET_Screening\n/media/deeplearning/Elements/RELEVANCE_NIFTI/12011101071105 Dossier patient déjà crée\n/media/deeplearning/Elements/RELEVANCE_NIFTI/12011101071105/PET_Screening Déjà creer => already folder for  PET_Screening\n/media/deeplearning/Elements/RELEVANCE_NIFTI/12011101151104 Dossier patient déjà crée\n/media/deeplearning/Elements/RELEVANCE_NIFTI/12011101151104/PET_Screening Déjà creer => already folder for  PET_Screening\n/media/deeplearning/Elements/RELEVANCE_NIFTI/12011101151107 Dossier patient déjà crée\n/media/deeplearning/Elements/RELEVANCE_NIFTI/12011101151107/PET_Screening Déjà creer => already folder for  PET_Screening\n/media/deeplearning/Elements/RELEVANCE_NIFTI/12011101191110 Dossier patient déjà crée\n/media/deeplearning/Elements/RELEVANCE_NIFTI/12011101191110/PET_Screening Déjà creer => already folder for  PET_Screening\n/media/deeplearning/Elements/RELEVANCE_NIFTI/12011101211108 Dossier patient déjà crée\n/media/deeplearning/Elements/RELEVANCE_NIFTI/12011101211108/PET_Screening Déjà creer => already folder for  PET_Screening\n/media/deeplearning/Elements/RELEVANCE_NIFTI/12011101211110 Dossier patient déjà crée\n/media/deeplearning/Elements/RELEVANCE_NIFTI/12011101211110/PET_Screening Déjà creer => already folder for  PET_Screening\n/media/deeplearning/Elements/RELEVANCE_NIFTI/12011101211120 Dossier patient déjà crée\n/media/deeplearning/Elements/RELEVANCE_NIFTI/12011101211120/PET_Screening Déjà creer => already folder for  PET_Screening\n"
     ]
    }
   ],
   "source": [
    "#create folder to save nifti\n",
    "\n",
    "for serie in dataset: \n",
    "    patient_id = serie[0]\n",
    "    pet_type = serie[-1]\n",
    "    nifti_ct = serie[2]\n",
    "    nifti_pet = serie[3]\n",
    "    #nifti_mask = serie[5] #if pet0\n",
    "\n",
    "    folder = '/media/deeplearning/Elements/RELEVANCE_NIFTI'+'/'+patient_id\n",
    "\n",
    "    if not os.path.exists(folder):\n",
    "        os.makedirs(folder)\n",
    "        print(folder, 'created')\n",
    "    else : print(folder, \"Dossier patient déjà crée\")\n",
    "\n",
    "    subfolder = folder+'/'+pet_type\n",
    "    if not os.path.exists(subfolder) :\n",
    "        os.makedirs(subfolder)\n",
    "        print(subfolder, 'created')\n",
    "    else : print(subfolder, \"Déjà creer => already folder for \", pet_type)\n",
    "\n",
    "    ct_path = '/media/deeplearning/Elements/RELEVANCE_NIFTI'+'/'+nifti_ct\n",
    "    pt_path = '/media/deeplearning/Elements/RELEVANCE_NIFTI'+'/'+nifti_pet\n",
    "        #mask_path = '/media/deeplearning/78ca2911-9e9f-4f78-b80a-848024b95f92/FLIP_NIFTI'+'/'+nifti_mask\n",
    "\n",
    "    new_ct_path = subfolder+'/'+nifti_ct\n",
    "    new_pet_path = subfolder+'/'+nifti_pet\n",
    "    #new_mask_path = subfolder+'/'+nifti_mask\n",
    "    try : \n",
    "\n",
    "        os.rename(ct_path, subfolder+'/'+nifti_ct)\n",
    "        os.rename(pt_path, subfolder+'/'+nifti_pet)\n",
    "        #os.rename(mask_path, subfolder+'/'+nifti_mask)\n",
    "\n",
    "\n",
    "        serie[2] = new_ct_path\n",
    "        serie[3] = new_pet_path \n",
    "        #serie[4] = new_mask_path\n",
    "    except Exception as err : \n",
    "        print(err)\n"
   ]
  },
  {
   "cell_type": "code",
   "execution_count": 41,
   "metadata": {},
   "outputs": [],
   "source": [
    "#write csv , add NIFTI_MASK column if there is a mask \n",
    "nifti_directory = '/media/deeplearning/Elements/RELEVANCE_NIFTI'\n",
    "filename = 'RELEVANCE_NIFTI_SCREENING.csv'\n",
    "with open(os.path.join(nifti_directory, filename), 'w') as csv_file : \n",
    "    csv_writer = csv.writer(csv_file, delimiter=',', quotechar='\"', quoting=csv.QUOTE_MINIMAL)\n",
    "    csv_writer.writerow([\"PATIENT ID\", \"STUDY UID\", \"PET\", \"NIFTI_CT\", \"NIFTI_PET\"])\n",
    "    for serie in dataset: \n",
    "        csv_writer.writerow([serie[0], serie[1], serie[-1], serie[2], serie[3]])"
   ]
  }
 ],
 "metadata": {
  "file_extension": ".py",
  "kernelspec": {
   "display_name": "Python 3.8.2 64-bit",
   "language": "python",
   "name": "python38264bit4afc185bc98b42c389abdbb3fbeec8dd"
  },
  "language_info": {
   "codemirror_mode": {
    "name": "ipython",
    "version": 3
   },
   "file_extension": ".py",
   "mimetype": "text/x-python",
   "name": "python",
   "nbconvert_exporter": "python",
   "pygments_lexer": "ipython3",
   "version": "3.8.5-final"
  },
  "mimetype": "text/x-python",
  "name": "python",
  "npconvert_exporter": "python",
  "pygments_lexer": "ipython3",
  "version": 3
 },
 "nbformat": 4,
 "nbformat_minor": 2
}