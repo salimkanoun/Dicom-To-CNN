{
 "cells": [
  {
   "cell_type": "code",
   "execution_count": 2,
   "metadata": {},
   "outputs": [],
   "source": [
    "import json\n",
    "import os\n",
    "from library_dicom.dicom_processor.tools.folders import *\n",
    "\n",
    "from library_dicom.dicom_processor.tools.create_mip import *\n",
    "from library_dicom.dicom_processor.tools.threshold_mask import *\n",
    "\n",
    "import numpy as np\n",
    "import SimpleITK as sitk\n",
    "\n",
    "import csv"
   ]
  },
  {
   "cell_type": "code",
   "execution_count": 5,
   "metadata": {},
   "outputs": [],
   "source": [
    "#PET0 \n",
    "\n",
    "csv_pet0_path = '/media/deeplearning/78ca2911-9e9f-4f78-b80a-848024b95f92/GAINED_CSV_DATA/Export_Gained/data.csv'\n",
    "\n",
    "with open(csv_pet0_path, 'r') as csv_file :\n",
    "    reader = csv.reader(csv_file, delimiter = ',') #liste pour chaque ligne \n",
    "    csv_data = []\n",
    "    for row in reader :\n",
    "        csv_data.append(row)\n",
    "        \n",
    "del csv_data[0] #enlever première ligne\n"
   ]
  },
  {
   "cell_type": "code",
   "execution_count": 7,
   "metadata": {},
   "outputs": [
    {
     "output_type": "execute_result",
     "data": {
      "text/plain": "['alina',\n '11011101021002',\n '0',\n '18',\n '1.2.250.1.59.470.940100027.1.20130128113103.7763.17688',\n '2013-01-30',\n '0',\n '0',\n '0',\n 'review18.csv',\n '4',\n '29.35',\n 'Abdominal',\n '13.6',\n 'Abdominal',\n '1.35',\n '1.17',\n '0.1',\n '1.84',\n '1.49',\n '0.11',\n '1.99',\n '1.52',\n '0.17',\n '0',\n '12',\n '3.17',\n '2.36',\n '0.49',\n '2',\n '2',\n '19',\n '1.2.840.113704.1.111.2180.1361963756.13',\n '2013-02-27',\n '0',\n '0',\n '0',\n 'review19.csv',\n '1.96',\n 'Intestine - small and colon',\n '1.53',\n '1.4',\n '0.12',\n '2.27',\n '1.86',\n '0.16',\n '1',\n '0',\n '0',\n '4',\n '20',\n '1.2.840.113704.1.111.4636.1364288605.3',\n '2013-03-26',\n '0',\n '0',\n '0',\n 'review20.csv',\n '1.96',\n 'Intestine - small and colon',\n '1.53',\n '1.4',\n '0.12',\n '2.27',\n '1.86',\n '0.16',\n '1',\n '0',\n '0']"
     },
     "metadata": {},
     "execution_count": 7
    }
   ],
   "source": [
    "csv_data[1]"
   ]
  },
  {
   "cell_type": "code",
   "execution_count": 16,
   "metadata": {},
   "outputs": [],
   "source": [
    "nifti_directory = '/media/deeplearning/78ca2911-9e9f-4f78-b80a-848024b95f92/GAINED_NIFTI_PET2'\n",
    "liste_nifti = os.listdir(nifti_directory)"
   ]
  },
  {
   "cell_type": "code",
   "execution_count": 17,
   "metadata": {
    "tags": []
   },
   "outputs": [],
   "source": [
    "liste = []\n",
    "for row in csv_data : \n",
    "    subliste = []\n",
    "    #subliste.append(row[0])\n",
    "    subliste.append(row[1])\n",
    "    subliste.append(row[32])\n",
    "    study_uid = row[32]\n",
    "    subsubliste = []\n",
    "    for nifti in liste_nifti : \n",
    "        if study_uid in nifti: \n",
    "            subsubliste.append(nifti)\n",
    "    if len(subsubliste) == 2 : \n",
    "        subsubliste = sorted(subsubliste)\n",
    "        #print(subsubliste)\n",
    "        subliste.append(subsubliste[0])\n",
    "        subliste.append(subsubliste[1])\n",
    "        #subliste.append(subsubliste[2])\n",
    "    else : \n",
    "        pass\n",
    "    subliste.append(\"pet2\")\n",
    "    liste.append(subliste)\n",
    "\n"
   ]
  },
  {
   "cell_type": "code",
   "execution_count": 18,
   "metadata": {},
   "outputs": [
    {
     "output_type": "execute_result",
     "data": {
      "text/plain": "728"
     },
     "metadata": {},
     "execution_count": 18
    }
   ],
   "source": [
    "len(liste)"
   ]
  },
  {
   "cell_type": "code",
   "execution_count": 19,
   "metadata": {},
   "outputs": [
    {
     "output_type": "execute_result",
     "data": {
      "text/plain": "['11011101021011',\n '1.2.250.1.59.470.940100027.1.20140522113117.1243.111672',\n '1.2.250.1.59.470.940100027.1.20140522113117.1243.111672_nifti_CT.nii',\n '1.2.250.1.59.470.940100027.1.20140522113117.1243.111672_nifti_PT.nii',\n 'pet2']"
     },
     "metadata": {},
     "execution_count": 19
    }
   ],
   "source": [
    "liste[10]"
   ]
  },
  {
   "cell_type": "code",
   "execution_count": 20,
   "metadata": {},
   "outputs": [],
   "source": [
    "#clean -> if len != 6 \n",
    "#doit y avoir 573\n",
    "completed_liste = []\n",
    "for serie in liste : \n",
    "    if len(serie) == 5 : \n",
    "        completed_liste.append(serie)\n"
   ]
  },
  {
   "cell_type": "code",
   "execution_count": 21,
   "metadata": {},
   "outputs": [
    {
     "output_type": "execute_result",
     "data": {
      "text/plain": "595"
     },
     "metadata": {},
     "execution_count": 21
    }
   ],
   "source": [
    "len(completed_liste)"
   ]
  },
  {
   "cell_type": "code",
   "execution_count": 22,
   "metadata": {},
   "outputs": [],
   "source": [
    "new_liste = []\n",
    "new_liste.append(completed_liste[0])\n",
    "for i in range(1, len(completed_liste)) :\n",
    "    if completed_liste[i] not in new_liste : \n",
    "        new_liste.append(completed_liste[i])"
   ]
  },
  {
   "cell_type": "code",
   "execution_count": 23,
   "metadata": {},
   "outputs": [
    {
     "output_type": "execute_result",
     "data": {
      "text/plain": "536"
     },
     "metadata": {},
     "execution_count": 23
    }
   ],
   "source": [
    "len(new_liste)"
   ]
  },
  {
   "cell_type": "code",
   "execution_count": 24,
   "metadata": {},
   "outputs": [
    {
     "output_type": "execute_result",
     "data": {
      "text/plain": "['11011101021014',\n '1.2.840.113704.1.111.3608.1434978016.23',\n '1.2.840.113704.1.111.3608.1434978016.23_nifti_CT.nii',\n '1.2.840.113704.1.111.3608.1434978016.23_nifti_PT.nii',\n 'pet2']"
     },
     "metadata": {},
     "execution_count": 24
    }
   ],
   "source": [
    "new_liste[10]"
   ]
  },
  {
   "cell_type": "code",
   "execution_count": 25,
   "metadata": {},
   "outputs": [],
   "source": [
    "import shutil"
   ]
  },
  {
   "cell_type": "code",
   "execution_count": 30,
   "metadata": {
    "tags": [
     "outputPrepend"
    ]
   },
   "outputs": [
    {
     "output_type": "stream",
     "name": "stdout",
     "text": "r patient déjà crée\n/media/deeplearning/78ca2911-9e9f-4f78-b80a-848024b95f92/GAINED_NIFTI/51011101881010/pet2 created\n['51011101881010', '1.2.250.1.199.10.90001.91642.20131206121722', '1.2.250.1.199.10.90001.91642.20131206121722_nifti_CT.nii', '1.2.250.1.199.10.90001.91642.20131206121722_nifti_PT.nii', 'pet2']\n[Errno 2] No such file or directory: '/media/deeplearning/Elements/GAINED_Validated_DICOMS/51011101881010/1.2.840.113619.2.55.3.279710477.416.1398319155.499'\n/media/deeplearning/78ca2911-9e9f-4f78-b80a-848024b95f92/GAINED_NIFTI/51011101881011 Dossier patient déjà crée\n/media/deeplearning/78ca2911-9e9f-4f78-b80a-848024b95f92/GAINED_NIFTI/51011101881011/pet2 created\n['51011101881011', '1.2.250.1.199.10.90001.91745.20131226085649', '1.2.250.1.199.10.90001.91745.20131226085649_nifti_CT.nii', '1.2.250.1.199.10.90001.91745.20131226085649_nifti_PT.nii', 'pet2']\n[Errno 2] No such file or directory: '/media/deeplearning/Elements/GAINED_Validated_DICOMS/51011101881011/1.2.840.113619.2.55.3.279710477.416.1398319155.499'\n/media/deeplearning/78ca2911-9e9f-4f78-b80a-848024b95f92/GAINED_NIFTI/51011101881012 Dossier patient déjà crée\n/media/deeplearning/78ca2911-9e9f-4f78-b80a-848024b95f92/GAINED_NIFTI/51011101881012/pet2 created\n['51011101881012', '1.2.250.1.199.10.90001.94549.20140109113543', '1.2.250.1.199.10.90001.94549.20140109113543_nifti_CT.nii', '1.2.250.1.199.10.90001.94549.20140109113543_nifti_PT.nii', 'pet2']\n[Errno 2] No such file or directory: '/media/deeplearning/Elements/GAINED_Validated_DICOMS/51011101881012/1.2.840.113619.2.55.3.279710477.416.1398319155.499'\n/media/deeplearning/78ca2911-9e9f-4f78-b80a-848024b95f92/GAINED_NIFTI/51011101881013 Dossier patient déjà crée\n/media/deeplearning/78ca2911-9e9f-4f78-b80a-848024b95f92/GAINED_NIFTI/51011101881013/pet2 created\n['51011101881013', '1.2.250.1.199.10.90001.96493.20140116091836', '1.2.250.1.199.10.90001.96493.20140116091836_nifti_CT.nii', '1.2.250.1.199.10.90001.96493.20140116091836_nifti_PT.nii', 'pet2']\n[Errno 2] No such file or directory: '/media/deeplearning/Elements/GAINED_Validated_DICOMS/51011101881013/1.2.840.113619.2.55.3.279710477.416.1398319155.499'\n/media/deeplearning/78ca2911-9e9f-4f78-b80a-848024b95f92/GAINED_NIFTI/51011101881014 Dossier patient déjà crée\n/media/deeplearning/78ca2911-9e9f-4f78-b80a-848024b95f92/GAINED_NIFTI/51011101881014/pet2 created\n['51011101881014', '1.2.250.1.199.10.90001.93266.20140203091215', '1.2.250.1.199.10.90001.93266.20140203091215_nifti_CT.nii', '1.2.250.1.199.10.90001.93266.20140203091215_nifti_PT.nii', 'pet2']\n[Errno 2] No such file or directory: '/media/deeplearning/Elements/GAINED_Validated_DICOMS/51011101881014/1.2.840.113619.2.55.3.279710477.416.1398319155.499'\n/media/deeplearning/78ca2911-9e9f-4f78-b80a-848024b95f92/GAINED_NIFTI/51011101881015 Dossier patient déjà crée\n/media/deeplearning/78ca2911-9e9f-4f78-b80a-848024b95f92/GAINED_NIFTI/51011101881015/pet2 created\n['51011101881015', '1.3.12.2.1107.5.1.4.1007.30000014040207063589000000007', '1.3.12.2.1107.5.1.4.1007.30000014040207063589000000007_nifti_CT.nii', '1.3.12.2.1107.5.1.4.1007.30000014040207063589000000007_nifti_PT.nii', 'pet2']\n[Errno 2] No such file or directory: '/media/deeplearning/Elements/GAINED_Validated_DICOMS/51011101881015/1.2.840.113619.2.55.3.279710477.416.1398319155.499'\n/media/deeplearning/78ca2911-9e9f-4f78-b80a-848024b95f92/GAINED_NIFTI/51011101881016 Dossier patient déjà crée\n/media/deeplearning/78ca2911-9e9f-4f78-b80a-848024b95f92/GAINED_NIFTI/51011101881016/pet2 created\n['51011101881016', '1.2.250.1.199.10.90001.90535.20140410112647', '1.2.250.1.199.10.90001.90535.20140410112647_nifti_CT.nii', '1.2.250.1.199.10.90001.90535.20140410112647_nifti_PT.nii', 'pet2']\n[Errno 2] No such file or directory: '/media/deeplearning/Elements/GAINED_Validated_DICOMS/51011101881016/1.2.840.113619.2.55.3.279710477.416.1398319155.499'\n/media/deeplearning/78ca2911-9e9f-4f78-b80a-848024b95f92/GAINED_NIFTI/51011101881017 Dossier patient déjà crée\n/media/deeplearning/78ca2911-9e9f-4f78-b80a-848024b95f92/GAINED_NIFTI/51011101881017/pet2 created\n['51011101881017', '1.2.250.1.199.10.90001.98683.20140522081631', '1.2.250.1.199.10.90001.98683.20140522081631_nifti_CT.nii', '1.2.250.1.199.10.90001.98683.20140522081631_nifti_PT.nii', 'pet2']\n[Errno 2] No such file or directory: '/media/deeplearning/Elements/GAINED_Validated_DICOMS/51011101881017/1.2.840.113619.2.55.3.279710477.416.1398319155.499'\n/media/deeplearning/78ca2911-9e9f-4f78-b80a-848024b95f92/GAINED_NIFTI/51011101881019 Dossier patient déjà crée\n/media/deeplearning/78ca2911-9e9f-4f78-b80a-848024b95f92/GAINED_NIFTI/51011101881019/pet2 created\n['51011101881019', '1.2.250.1.199.10.90001.97758.20140731081848', '1.2.250.1.199.10.90001.97758.20140731081848_nifti_CT.nii', '1.2.250.1.199.10.90001.97758.20140731081848_nifti_PT.nii', 'pet2']\n[Errno 2] No such file or directory: '/media/deeplearning/Elements/GAINED_Validated_DICOMS/51011101881019/1.2.840.113619.2.55.3.279710477.416.1398319155.499'\n/media/deeplearning/78ca2911-9e9f-4f78-b80a-848024b95f92/GAINED_NIFTI/51011101881020 Dossier patient déjà crée\n/media/deeplearning/78ca2911-9e9f-4f78-b80a-848024b95f92/GAINED_NIFTI/51011101881020/pet2 created\n['51011101881020', '1.2.250.1.199.10.90001.90024.20140818112327', '1.2.250.1.199.10.90001.90024.20140818112327_nifti_CT.nii', '1.2.250.1.199.10.90001.90024.20140818112327_nifti_PT.nii', 'pet2']\n[Errno 2] No such file or directory: '/media/deeplearning/Elements/GAINED_Validated_DICOMS/51011101881020/1.2.840.113619.2.55.3.279710477.416.1398319155.499'\n/media/deeplearning/78ca2911-9e9f-4f78-b80a-848024b95f92/GAINED_NIFTI/51011101881021 Dossier patient déjà crée\n/media/deeplearning/78ca2911-9e9f-4f78-b80a-848024b95f92/GAINED_NIFTI/51011101881021/pet2 created\n['51011101881021', '1.2.250.1.199.10.90001.97933.20140922083508', '1.2.250.1.199.10.90001.97933.20140922083508_nifti_CT.nii', '1.2.250.1.199.10.90001.97933.20140922083508_nifti_PT.nii', 'pet2']\n[Errno 2] No such file or directory: '/media/deeplearning/Elements/GAINED_Validated_DICOMS/51011101881021/1.2.840.113619.2.55.3.279710477.416.1398319155.499'\n/media/deeplearning/78ca2911-9e9f-4f78-b80a-848024b95f92/GAINED_NIFTI/51011101881023 Dossier patient déjà crée\n/media/deeplearning/78ca2911-9e9f-4f78-b80a-848024b95f92/GAINED_NIFTI/51011101881023/pet2 created\n['51011101881023', '1.2.250.1.74.20150129081500.230000003465954', '1.2.250.1.74.20150129081500.230000003465954_nifti_CT.nii', '1.2.250.1.74.20150129081500.230000003465954_nifti_PT.nii', 'pet2']\n[Errno 2] No such file or directory: '/media/deeplearning/Elements/GAINED_Validated_DICOMS/51011101881023/1.2.840.113619.2.55.3.279710477.416.1398319155.499'\n/media/deeplearning/78ca2911-9e9f-4f78-b80a-848024b95f92/GAINED_NIFTI/51011101881024 Dossier patient déjà crée\n/media/deeplearning/78ca2911-9e9f-4f78-b80a-848024b95f92/GAINED_NIFTI/51011101881024/pet2 created\n['51011101881024', '1.2.250.1.74.20150202082000.230000003549525', '1.2.250.1.74.20150202082000.230000003549525_nifti_CT.nii', '1.2.250.1.74.20150202082000.230000003549525_nifti_PT.nii', 'pet2']\n[Errno 2] No such file or directory: '/media/deeplearning/Elements/GAINED_Validated_DICOMS/51011101881024/1.2.840.113619.2.55.3.279710477.416.1398319155.499'\n/media/deeplearning/78ca2911-9e9f-4f78-b80a-848024b95f92/GAINED_NIFTI/51011101881025 Dossier patient déjà crée\n/media/deeplearning/78ca2911-9e9f-4f78-b80a-848024b95f92/GAINED_NIFTI/51011101881025/pet2 created\n['51011101881025', '1.2.250.1.74.20150330080000.230000004198922', '1.2.250.1.74.20150330080000.230000004198922_nifti_CT.nii', '1.2.250.1.74.20150330080000.230000004198922_nifti_PT.nii', 'pet2']\n[Errno 2] No such file or directory: '/media/deeplearning/Elements/GAINED_Validated_DICOMS/51011101881025/1.2.840.113619.2.55.3.279710477.416.1398319155.499'\n/media/deeplearning/78ca2911-9e9f-4f78-b80a-848024b95f92/GAINED_NIFTI/51011101881026 Dossier patient déjà crée\n/media/deeplearning/78ca2911-9e9f-4f78-b80a-848024b95f92/GAINED_NIFTI/51011101881026/pet2 created\n['51011101881026', '1.2.250.1.74.20150706080000.230000005491349', '1.2.250.1.74.20150706080000.230000005491349_nifti_CT.nii', '1.2.250.1.74.20150706080000.230000005491349_nifti_PT.nii', 'pet2']\n[Errno 2] No such file or directory: '/media/deeplearning/Elements/GAINED_Validated_DICOMS/51011101881026/1.2.840.113619.2.55.3.279710477.416.1398319155.499'\n/media/deeplearning/78ca2911-9e9f-4f78-b80a-848024b95f92/GAINED_NIFTI/51011101881027 Dossier patient déjà crée\n/media/deeplearning/78ca2911-9e9f-4f78-b80a-848024b95f92/GAINED_NIFTI/51011101881027/pet2 created\n['51011101881027', '1.2.250.1.74.20150803124500.230000005857965', '1.2.250.1.74.20150803124500.230000005857965_nifti_CT.nii', '1.2.250.1.74.20150803124500.230000005857965_nifti_PT.nii', 'pet2']\n[Errno 2] No such file or directory: '/media/deeplearning/Elements/GAINED_Validated_DICOMS/51011101881027/1.2.840.113619.2.55.3.279710477.416.1398319155.499'\n/media/deeplearning/78ca2911-9e9f-4f78-b80a-848024b95f92/GAINED_NIFTI/51011101881028 Dossier patient déjà crée\n/media/deeplearning/78ca2911-9e9f-4f78-b80a-848024b95f92/GAINED_NIFTI/51011101881028/pet2 created\n['51011101881028', '1.2.250.1.74.20150810074500.230000005968927', '1.2.250.1.74.20150810074500.230000005968927_nifti_CT.nii', '1.2.250.1.74.20150810074500.230000005968927_nifti_PT.nii', 'pet2']\n[Errno 2] No such file or directory: '/media/deeplearning/Elements/GAINED_Validated_DICOMS/51011101881028/1.2.840.113619.2.55.3.279710477.416.1398319155.499'\n/media/deeplearning/78ca2911-9e9f-4f78-b80a-848024b95f92/GAINED_NIFTI/51011101901001 Dossier patient déjà crée\n/media/deeplearning/78ca2911-9e9f-4f78-b80a-848024b95f92/GAINED_NIFTI/51011101901001/pet2 created\n['51011101901001', '1.2.276.0.7230010.3.2.241127', '1.2.276.0.7230010.3.2.241127_nifti_CT.nii', '1.2.276.0.7230010.3.2.241127_nifti_PT.nii', 'pet2']\n[Errno 2] No such file or directory: '/media/deeplearning/Elements/GAINED_Validated_DICOMS/51011101901001/1.2.840.113619.2.55.3.279710477.416.1398319155.499'\n/media/deeplearning/78ca2911-9e9f-4f78-b80a-848024b95f92/GAINED_NIFTI/51011101901002 Dossier patient déjà crée\n/media/deeplearning/78ca2911-9e9f-4f78-b80a-848024b95f92/GAINED_NIFTI/51011101901002/pet2 created\n['51011101901002', '1.2.276.0.7230010.3.2.248742', '1.2.276.0.7230010.3.2.248742_nifti_CT.nii', '1.2.276.0.7230010.3.2.248742_nifti_PT.nii', 'pet2']\n[Errno 2] No such file or directory: '/media/deeplearning/Elements/GAINED_Validated_DICOMS/51011101901002/1.2.840.113619.2.55.3.279710477.416.1398319155.499'\n/media/deeplearning/78ca2911-9e9f-4f78-b80a-848024b95f92/GAINED_NIFTI/51011101901003 Dossier patient déjà crée\n/media/deeplearning/78ca2911-9e9f-4f78-b80a-848024b95f92/GAINED_NIFTI/51011101901003/pet2 created\n['51011101901003', '1.2.276.0.7230010.3.2.255503', '1.2.276.0.7230010.3.2.255503_nifti_CT.nii', '1.2.276.0.7230010.3.2.255503_nifti_PT.nii', 'pet2']\n[Errno 2] No such file or directory: '/media/deeplearning/Elements/GAINED_Validated_DICOMS/51011101901003/1.2.840.113619.2.55.3.279710477.416.1398319155.499'\n/media/deeplearning/78ca2911-9e9f-4f78-b80a-848024b95f92/GAINED_NIFTI/51011101901004 Dossier patient déjà crée\n/media/deeplearning/78ca2911-9e9f-4f78-b80a-848024b95f92/GAINED_NIFTI/51011101901004/pet2 created\n['51011101901004', '1.2.276.0.7230010.3.2.256498', '1.2.276.0.7230010.3.2.256498_nifti_CT.nii', '1.2.276.0.7230010.3.2.256498_nifti_PT.nii', 'pet2']\n[Errno 2] No such file or directory: '/media/deeplearning/Elements/GAINED_Validated_DICOMS/51011101901004/1.2.840.113619.2.55.3.279710477.416.1398319155.499'\n/media/deeplearning/78ca2911-9e9f-4f78-b80a-848024b95f92/GAINED_NIFTI/51011101901005 Dossier patient déjà crée\n/media/deeplearning/78ca2911-9e9f-4f78-b80a-848024b95f92/GAINED_NIFTI/51011101901005/pet2 created\n['51011101901005', '1.2.276.0.7230010.3.2.255373', '1.2.276.0.7230010.3.2.255373_nifti_CT.nii', '1.2.276.0.7230010.3.2.255373_nifti_PT.nii', 'pet2']\n[Errno 2] No such file or directory: '/media/deeplearning/Elements/GAINED_Validated_DICOMS/51011101901005/1.2.840.113619.2.55.3.279710477.416.1398319155.499'\n/media/deeplearning/78ca2911-9e9f-4f78-b80a-848024b95f92/GAINED_NIFTI/51011101901006 Dossier patient déjà crée\n/media/deeplearning/78ca2911-9e9f-4f78-b80a-848024b95f92/GAINED_NIFTI/51011101901006/pet2 created\n['51011101901006', '1.2.276.0.7230010.3.2.259616', '1.2.276.0.7230010.3.2.259616_nifti_CT.nii', '1.2.276.0.7230010.3.2.259616_nifti_PT.nii', 'pet2']\n[Errno 2] No such file or directory: '/media/deeplearning/Elements/GAINED_Validated_DICOMS/51011101901006/1.2.840.113619.2.55.3.279710477.416.1398319155.499'\n/media/deeplearning/78ca2911-9e9f-4f78-b80a-848024b95f92/GAINED_NIFTI/51011101901007 Dossier patient déjà crée\n/media/deeplearning/78ca2911-9e9f-4f78-b80a-848024b95f92/GAINED_NIFTI/51011101901007/pet2 created\n['51011101901007', '1.2.276.0.7230010.3.2.262081', '1.2.276.0.7230010.3.2.262081_nifti_CT.nii', '1.2.276.0.7230010.3.2.262081_nifti_PT.nii', 'pet2']\n[Errno 2] No such file or directory: '/media/deeplearning/Elements/GAINED_Validated_DICOMS/51011101901007/1.2.840.113619.2.55.3.279710477.416.1398319155.499'\n/media/deeplearning/78ca2911-9e9f-4f78-b80a-848024b95f92/GAINED_NIFTI/51011102161001 Dossier patient déjà crée\n/media/deeplearning/78ca2911-9e9f-4f78-b80a-848024b95f92/GAINED_NIFTI/51011102161001/pet2 created\n['51011102161001', '2.16.840.1.113669.632.20.689996.10000669762', '2.16.840.1.113669.632.20.689996.10000669762_nifti_CT.nii', '2.16.840.1.113669.632.20.689996.10000669762_nifti_PT.nii', 'pet2']\n[Errno 2] No such file or directory: '/media/deeplearning/Elements/GAINED_Validated_DICOMS/51011102161001/1.2.840.113619.2.55.3.279710477.416.1398319155.499'\n/media/deeplearning/78ca2911-9e9f-4f78-b80a-848024b95f92/GAINED_NIFTI/51011102161002 Dossier patient déjà crée\n/media/deeplearning/78ca2911-9e9f-4f78-b80a-848024b95f92/GAINED_NIFTI/51011102161002/pet2 created\n['51011102161002', '2.16.840.1.113669.632.20.689996.10000676177', '2.16.840.1.113669.632.20.689996.10000676177_nifti_CT.nii', '2.16.840.1.113669.632.20.689996.10000676177_nifti_PT.nii', 'pet2']\n[Errno 2] No such file or directory: '/media/deeplearning/Elements/GAINED_Validated_DICOMS/51011102161002/1.2.840.113619.2.55.3.279710477.416.1398319155.499'\n/media/deeplearning/78ca2911-9e9f-4f78-b80a-848024b95f92/GAINED_NIFTI/51011102161003 Dossier patient déjà crée\n/media/deeplearning/78ca2911-9e9f-4f78-b80a-848024b95f92/GAINED_NIFTI/51011102161003/pet2 created\n['51011102161003', '2.16.840.1.113669.632.20.689996.10000684523', '2.16.840.1.113669.632.20.689996.10000684523_nifti_CT.nii', '2.16.840.1.113669.632.20.689996.10000684523_nifti_PT.nii', 'pet2']\n[Errno 2] No such file or directory: '/media/deeplearning/Elements/GAINED_Validated_DICOMS/51011102161003/1.2.840.113619.2.55.3.279710477.416.1398319155.499'\n/media/deeplearning/78ca2911-9e9f-4f78-b80a-848024b95f92/GAINED_NIFTI/51011102171001 Dossier patient déjà crée\n/media/deeplearning/78ca2911-9e9f-4f78-b80a-848024b95f92/GAINED_NIFTI/51011102171001/pet2 created\n['51011102171001', '1.2.276.0.7230010.3.2.279999', '1.2.276.0.7230010.3.2.279999_nifti_CT.nii', '1.2.276.0.7230010.3.2.279999_nifti_PT.nii', 'pet2']\n[Errno 2] No such file or directory: '/media/deeplearning/Elements/GAINED_Validated_DICOMS/51011102171001/1.2.840.113619.2.55.3.279710477.416.1398319155.499'\n/media/deeplearning/78ca2911-9e9f-4f78-b80a-848024b95f92/GAINED_NIFTI/51011102171002 Dossier patient déjà crée\n/media/deeplearning/78ca2911-9e9f-4f78-b80a-848024b95f92/GAINED_NIFTI/51011102171002/pet2 created\n['51011102171002', '1.2.276.0.7230010.3.2.285583', '1.2.276.0.7230010.3.2.285583_nifti_CT.nii', '1.2.276.0.7230010.3.2.285583_nifti_PT.nii', 'pet2']\n[Errno 2] No such file or directory: '/media/deeplearning/Elements/GAINED_Validated_DICOMS/51011102171002/1.2.840.113619.2.55.3.279710477.416.1398319155.499'\n/media/deeplearning/78ca2911-9e9f-4f78-b80a-848024b95f92/GAINED_NIFTI/51011102171003 Dossier patient déjà crée\n/media/deeplearning/78ca2911-9e9f-4f78-b80a-848024b95f92/GAINED_NIFTI/51011102171003/pet2 created\n['51011102171003', '1.2.276.0.7230010.3.2.288634', '1.2.276.0.7230010.3.2.288634_nifti_CT.nii', '1.2.276.0.7230010.3.2.288634_nifti_PT.nii', 'pet2']\n[Errno 2] No such file or directory: '/media/deeplearning/Elements/GAINED_Validated_DICOMS/51011102171003/1.2.840.113619.2.55.3.279710477.416.1398319155.499'\n/media/deeplearning/78ca2911-9e9f-4f78-b80a-848024b95f92/GAINED_NIFTI/51011102171004 Dossier patient déjà crée\n/media/deeplearning/78ca2911-9e9f-4f78-b80a-848024b95f92/GAINED_NIFTI/51011102171004/pet2 created\n['51011102171004', '1.2.276.0.7230010.3.2.291225', '1.2.276.0.7230010.3.2.291225_nifti_CT.nii', '1.2.276.0.7230010.3.2.291225_nifti_PT.nii', 'pet2']\n[Errno 2] No such file or directory: '/media/deeplearning/Elements/GAINED_Validated_DICOMS/51011102171004/1.2.840.113619.2.55.3.279710477.416.1398319155.499'\n/media/deeplearning/78ca2911-9e9f-4f78-b80a-848024b95f92/GAINED_NIFTI/51011102171005 Dossier patient déjà crée\n/media/deeplearning/78ca2911-9e9f-4f78-b80a-848024b95f92/GAINED_NIFTI/51011102171005/pet2 created\n['51011102171005', '1.2.276.0.7230010.3.2.298511', '1.2.276.0.7230010.3.2.298511_nifti_CT.nii', '1.2.276.0.7230010.3.2.298511_nifti_PT.nii', 'pet2']\n[Errno 2] No such file or directory: '/media/deeplearning/Elements/GAINED_Validated_DICOMS/51011102171005/1.2.840.113619.2.55.3.279710477.416.1398319155.499'\n/media/deeplearning/78ca2911-9e9f-4f78-b80a-848024b95f92/GAINED_NIFTI/51011102171006 Dossier patient déjà crée\n/media/deeplearning/78ca2911-9e9f-4f78-b80a-848024b95f92/GAINED_NIFTI/51011102171006/pet2 created\n['51011102171006', '1.2.276.0.7230010.3.2.298691', '1.2.276.0.7230010.3.2.298691_nifti_CT.nii', '1.2.276.0.7230010.3.2.298691_nifti_PT.nii', 'pet2']\n[Errno 2] No such file or directory: '/media/deeplearning/Elements/GAINED_Validated_DICOMS/51011102171006/1.2.840.113619.2.55.3.279710477.416.1398319155.499'\n/media/deeplearning/78ca2911-9e9f-4f78-b80a-848024b95f92/GAINED_NIFTI/51011102171007 Dossier patient déjà crée\n/media/deeplearning/78ca2911-9e9f-4f78-b80a-848024b95f92/GAINED_NIFTI/51011102171007/pet2 created\n['51011102171007', '1.2.276.0.7230010.3.2.301063', '1.2.276.0.7230010.3.2.301063_nifti_CT.nii', '1.2.276.0.7230010.3.2.301063_nifti_PT.nii', 'pet2']\n[Errno 2] No such file or directory: '/media/deeplearning/Elements/GAINED_Validated_DICOMS/51011102171007/1.2.840.113619.2.55.3.279710477.416.1398319155.499'\n/media/deeplearning/78ca2911-9e9f-4f78-b80a-848024b95f92/GAINED_NIFTI/51011102171008 Dossier patient déjà crée\n/media/deeplearning/78ca2911-9e9f-4f78-b80a-848024b95f92/GAINED_NIFTI/51011102171008/pet2 created\n['51011102171008', '1.2.276.0.7230010.3.2.302008', '1.2.276.0.7230010.3.2.302008_nifti_CT.nii', '1.2.276.0.7230010.3.2.302008_nifti_PT.nii', 'pet2']\n[Errno 2] No such file or directory: '/media/deeplearning/Elements/GAINED_Validated_DICOMS/51011102171008/1.2.840.113619.2.55.3.279710477.416.1398319155.499'\n/media/deeplearning/78ca2911-9e9f-4f78-b80a-848024b95f92/GAINED_NIFTI/51011102171009 Dossier patient déjà crée\n/media/deeplearning/78ca2911-9e9f-4f78-b80a-848024b95f92/GAINED_NIFTI/51011102171009/pet2 created\n['51011102171009', '1.2.276.0.7230010.3.2.309435', '1.2.276.0.7230010.3.2.309435_nifti_CT.nii', '1.2.276.0.7230010.3.2.309435_nifti_PT.nii', 'pet2']\n[Errno 2] No such file or directory: '/media/deeplearning/Elements/GAINED_Validated_DICOMS/51011102171009/1.2.840.113619.2.55.3.279710477.416.1398319155.499'\n/media/deeplearning/78ca2911-9e9f-4f78-b80a-848024b95f92/GAINED_NIFTI/51011102181001 Dossier patient déjà crée\n/media/deeplearning/78ca2911-9e9f-4f78-b80a-848024b95f92/GAINED_NIFTI/51011102181001/pet2 created\n['51011102181001', '1.2.840.113619.2.55.3.279710477.731.1382076810.203', '1.2.840.113619.2.55.3.279710477.731.1382076810.203_nifti_CT.nii', '1.2.840.113619.2.55.3.279710477.731.1382076810.203_nifti_PT.nii', 'pet2']\n[Errno 2] No such file or directory: '/media/deeplearning/Elements/GAINED_Validated_DICOMS/51011102181001/1.2.840.113619.2.55.3.279710477.416.1398319155.499'\n"
    }
   ],
   "source": [
    "#creation sous dossier patient id -> pet0 -> mask ct pt \n",
    "\n",
    "for serie in new_liste: \n",
    "    patient_id = serie[0]\n",
    "    pet_type = serie[-1]\n",
    "    nifti_ct = serie[2]\n",
    "    nifti_pet = serie[3]\n",
    "    #nifti_mask = serie[5]\n",
    "\n",
    "    folder = '/media/deeplearning/78ca2911-9e9f-4f78-b80a-848024b95f92/GAINED_NIFTI'+'/'+patient_id\n",
    "\n",
    "    if not os.path.exists(folder):\n",
    "        os.makedirs(folder)\n",
    "        print(folder, 'created')\n",
    "    else : print(folder, \"Dossier patient déjà crée\")\n",
    "\n",
    "    subfolder = folder+'/'+pet_type\n",
    "    if not os.path.exists(subfolder) :\n",
    "        os.makedirs(subfolder)\n",
    "        print(subfolder, 'created')\n",
    "    else : print(subfolder, \"déjà crée => prblm\")\n",
    "\n",
    "    ct_path = '/media/deeplearning/78ca2911-9e9f-4f78-b80a-848024b95f92/GAINED_NIFTI_PET2'+'/'+nifti_ct\n",
    "    pt_path = '/media/deeplearning/78ca2911-9e9f-4f78-b80a-848024b95f92/GAINED_NIFTI_PET2'+'/'+nifti_pet\n",
    "    #mask_path = '/media/deeplearning/78ca2911-9e9f-4f78-b80a-848024b95f92/FLIP_NIFTI'+'/'+nifti_mask\n",
    "\n",
    "    new_ct_path = subfolder+'/'+nifti_ct\n",
    "    new_pet_path = subfolder+'/'+nifti_pet\n",
    "    #new_mask_path = subfolder+'/'+nifti_mask\n",
    "\n",
    "    os.rename(ct_path, subfolder+'/'+nifti_ct)\n",
    "    os.rename(pt_path, subfolder+'/'+nifti_pet)\n",
    "    #os.rename(mask_path, subfolder+'/'+nifti_mask)\n",
    "    try : \n",
    "        shutil.rmtree('/media/deeplearning/Elements/GAINED_Validated_DICOMS'+'/'+patient_id+'/'+study_uid)\n",
    "    except Exception as err : \n",
    "        print(serie)\n",
    "        print(err)\n",
    "\n",
    "\n",
    "\n",
    "    \n",
    "\n"
   ]
  },
  {
   "cell_type": "code",
   "execution_count": null,
   "metadata": {},
   "outputs": [],
   "source": []
  },
  {
   "cell_type": "code",
   "execution_count": 18,
   "metadata": {
    "tags": []
   },
   "outputs": [
    {
     "output_type": "stream",
     "name": "stdout",
     "text": "63\n"
    }
   ],
   "source": [
    "json_path = '/media/deeplearning/78ca2911-9e9f-4f78-b80a-848024b95f92/FLIP_NIFTI/json/dataset.json'\n",
    "dataset = []\n",
    "with open(json_path) as json_file : \n",
    "    reader = json.load(json_file)\n",
    "    for info in reader :\n",
    "        dataset.append(info)\n",
    "\n",
    "print(len(dataset))"
   ]
  },
  {
   "cell_type": "code",
   "execution_count": 27,
   "metadata": {
    "tags": []
   },
   "outputs": [
    {
     "output_type": "stream",
     "name": "stdout",
     "text": "['/media/deeplearning/78ca2911-9e9f-4f78-b80a-848024b95f92/FLIP/DICOM/Derniers patients/2017097 CR 097/A20080862074 CORPS ENTIER AU FDG/CT CT TAP 55 B30s', 'CT', '/media/deeplearning/78ca2911-9e9f-4f78-b80a-848024b95f92/FLIP/DICOM/Derniers patients/2017097 CR 097/A20080862074 CORPS ENTIER AU FDG/PT PET TAP AC HD', 'PT', '2.16.840.1.113669.632.20.310000.20001712333', '2017097', 'cr_097_dec 22_2009.csv', 'cr_097_dec 7_2011.csv']\n['/media/deeplearning/78ca2911-9e9f-4f78-b80a-848024b95f92/FLIP/DICOM/Derniers patients/2017097 CR 097/A21386336556 TEP corps entier/PT PET TAP AC HD', 'PT', '/media/deeplearning/78ca2911-9e9f-4f78-b80a-848024b95f92/FLIP/DICOM/Derniers patients/2017097 CR 097/A21386336556 TEP corps entier/CT CT TAP 3.0 B30s', 'CT', '2.16.840.1.113669.632.20.310000.20002475031', '2017097', 'cr_097_dec 7_2011.csv']\n"
    }
   ],
   "source": [
    "for serie in dataset :\n",
    "    if 'CR 097' in serie[0] : \n",
    "        print(serie)"
   ]
  },
  {
   "cell_type": "code",
   "execution_count": null,
   "metadata": {},
   "outputs": [],
   "source": []
  },
  {
   "cell_type": "code",
   "execution_count": null,
   "metadata": {},
   "outputs": [],
   "source": []
  },
  {
   "cell_type": "code",
   "execution_count": 17,
   "metadata": {
    "tags": []
   },
   "outputs": [
    {
     "output_type": "stream",
     "name": "stdout",
     "text": "['CR,002', '2017002', '1.2.840.113711.41813.3.12152.423471272.26.2116281012.135370', '1.2.840.113711.41813.3.12152.423471272.26.2116281012.135370_nifti_CT.nii', '1.2.840.113711.41813.3.12152.423471272.26.2116281012.135370_nifti_PT.nii', '1.2.840.113711.41813.3.12152.423471272.26.2116281012.135370_nifti_mask.nii', 'pet0']\n['CR,002', '2017002', '1.3.51.0.1.1.10.10.13.63.102986123.4600889', '1.3.51.0.1.1.10.10.13.63.102986123.4600889_nifti_CT.nii', '1.3.51.0.1.1.10.10.13.63.102986123.4600889_nifti_PT.nii', '1.3.51.0.1.1.10.10.13.63.102986123.4600889_nifti_mask.nii', 'pet0']\n['CR,002', '2017002', '2.16.840.1.113669.632.20.310000.20002733290', '2.16.840.1.113669.632.20.310000.20002733290_nifti_CT.nii', '2.16.840.1.113669.632.20.310000.20002733290_nifti_PT.nii', '2.16.840.1.113669.632.20.310000.20002733290_nifti_mask.nii', 'pet0']\n"
    }
   ],
   "source": [
    "for serie in new_liste : \n",
    "    if 'CR,002' in serie : \n",
    "        print(serie)"
   ]
  },
  {
   "cell_type": "code",
   "execution_count": 16,
   "metadata": {},
   "outputs": [],
   "source": [
    "nifti_directory = '/media/deeplearning/78ca2911-9e9f-4f78-b80a-848024b95f92/FLIP_NIFTI'\n",
    "\n",
    "with open(os.path.join(nifti_directory, 'FLIP_PET0_NIFTI.csv'), 'w') as csv_file : \n",
    "    csv_writer = csv.writer(csv_file, delimiter=',', quotechar='\"', quoting=csv.QUOTE_MINIMAL)\n",
    "    csv_writer.writerow([\"PATIENT_NAME\", \"PATIENT ID\", \"STUDY UID\", \"PET\", \"NIFTI_CT\", \"NIFTI_PET\", \"NIFTI_MASK\"])\n",
    "    for serie in new_liste: \n",
    "        csv_writer.writerow([serie[0], serie[1], serie[2], serie[-1], os.path.join(nifti_directory+'/'+serie[0]+'/'+serie[-1]+'/'+serie[3]), os.path.join(nifti_directory+'/'+serie[0]+'/'+serie[-1]+'/'+serie[4]), os.path.join(nifti_directory+'/'+serie[0]+'/'+serie[-1]+'/'+serie[5])])\n"
   ]
  },
  {
   "cell_type": "code",
   "execution_count": null,
   "metadata": {},
   "outputs": [],
   "source": [
    "#REUNITE CSV \n"
   ]
  },
  {
   "cell_type": "code",
   "execution_count": null,
   "metadata": {},
   "outputs": [],
   "source": []
  }
 ],
 "metadata": {
  "file_extension": ".py",
  "kernelspec": {
   "display_name": "Python 3.8.2 64-bit",
   "language": "python",
   "name": "python38264bit4afc185bc98b42c389abdbb3fbeec8dd"
  },
  "language_info": {
   "codemirror_mode": {
    "name": "ipython",
    "version": 3
   },
   "file_extension": ".py",
   "mimetype": "text/x-python",
   "name": "python",
   "nbconvert_exporter": "python",
   "pygments_lexer": "ipython3",
   "version": "3.8.2-final"
  },
  "mimetype": "text/x-python",
  "name": "python",
  "npconvert_exporter": "python",
  "pygments_lexer": "ipython3",
  "version": 3
 },
 "nbformat": 4,
 "nbformat_minor": 2
}