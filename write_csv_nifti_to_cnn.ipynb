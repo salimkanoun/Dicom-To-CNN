{
 "cells": [
  {
   "cell_type": "code",
   "execution_count": 2,
   "metadata": {},
   "outputs": [],
   "source": [
    "import json\n",
    "import os\n",
    "from library_dicom.dicom_processor.tools.folders import *\n",
    "\n",
    "from library_dicom.dicom_processor.tools.create_mip import *\n",
    "from library_dicom.dicom_processor.tools.threshold_mask import *\n",
    "\n",
    "import numpy as np\n",
    "import SimpleITK as sitk\n",
    "\n",
    "import csv"
   ]
  },
  {
   "cell_type": "code",
   "execution_count": 72,
   "metadata": {},
   "outputs": [],
   "source": [
    "#PET0 \n",
    "\n",
    "csv_pet0_path = '/media/deeplearning/78ca2911-9e9f-4f78-b80a-848024b95f92/GAINED_CSV_DATA/Export_Gained/data.csv'\n",
    "\n",
    "with open(csv_pet0_path, 'r') as csv_file :\n",
    "    reader = csv.reader(csv_file, delimiter = ',') #liste pour chaque ligne \n",
    "    csv_data = []\n",
    "    for row in reader :\n",
    "        csv_data.append(row)\n",
    "        \n",
    "del csv_data[0] #enlever première ligne\n"
   ]
  },
  {
   "cell_type": "code",
   "execution_count": 73,
   "metadata": {},
   "outputs": [
    {
     "output_type": "execute_result",
     "data": {
      "text/plain": "['alina',\n '11011101021001',\n '0',\n '8',\n '1.2.840.113704.1.111.3296.1350645932.9',\n '2012-10-19',\n '0',\n '0',\n '0',\n 'review8.csv',\n '4',\n '37.34',\n 'Adrenal',\n '12.6',\n 'Adrenal',\n '1.43',\n '1.17',\n '0.15',\n '2.56',\n '2.06',\n '0.18',\n '2.29',\n '1.64',\n '0.35',\n '0',\n '10.1',\n '2.13',\n '1.56',\n '0.2',\n '0',\n 'Missing Review',\n 'Missing Review',\n 'Missing Review',\n 'Missing Review',\n 'Missing Review',\n 'Missing Review',\n 'Missing Review',\n 'Missing Review',\n 'Missing Review',\n 'Missing Review',\n 'Missing Review',\n 'Missing Review',\n 'Missing Review',\n 'Missing Review',\n 'Missing Review',\n 'Missing Review',\n 'Missing Review',\n 'Missing Review',\n 'Missing Review',\n 'Missing Review',\n 'Missing Review',\n 'Missing Review',\n 'Missing Review',\n 'Missing Review',\n 'Missing Review',\n 'Missing Review',\n 'Missing Review',\n 'Missing Review',\n 'Missing Review',\n 'Missing Review',\n 'Missing Review',\n 'Missing Review',\n 'Missing Review',\n 'Missing Review',\n 'Missing Review',\n 'Missing Review',\n 'Missing Review',\n 'Missing Review']"
     },
     "metadata": {},
     "execution_count": 73
    }
   ],
   "source": [
    "csv_data[0]"
   ]
  },
  {
   "cell_type": "code",
   "execution_count": 74,
   "metadata": {},
   "outputs": [],
   "source": [
    "nifti_directory = '/media/deeplearning/78ca2911-9e9f-4f78-b80a-848024b95f92/GAINED_NIFTI'\n",
    "liste_nifti = os.listdir(nifti_directory)"
   ]
  },
  {
   "cell_type": "code",
   "execution_count": 78,
   "metadata": {
    "tags": []
   },
   "outputs": [],
   "source": [
    "liste = []\n",
    "for row in csv_data : \n",
    "    subliste = []\n",
    "    subliste.append(row[1])\n",
    "    subliste.append(row[4])\n",
    "    study_uid = row[4]\n",
    "    subsubliste = []\n",
    "    for nifti in liste_nifti : \n",
    "        if study_uid in nifti: \n",
    "            subsubliste.append(nifti)\n",
    "    if len(subsubliste) != 0 : \n",
    "        subsubliste = sorted(subsubliste)\n",
    "        #print(subsubliste)\n",
    "        subliste.append(subsubliste[0])\n",
    "        subliste.append(subsubliste[1])\n",
    "        subliste.append(subsubliste[2])\n",
    "    else : \n",
    "        pass\n",
    "    subliste.append(\"pet0\")\n",
    "    liste.append(subliste)\n",
    "\n"
   ]
  },
  {
   "cell_type": "code",
   "execution_count": 79,
   "metadata": {},
   "outputs": [
    {
     "output_type": "execute_result",
     "data": {
      "text/plain": "728"
     },
     "metadata": {},
     "execution_count": 79
    }
   ],
   "source": [
    "len(liste)"
   ]
  },
  {
   "cell_type": "code",
   "execution_count": 80,
   "metadata": {},
   "outputs": [
    {
     "output_type": "execute_result",
     "data": {
      "text/plain": "['11011101021011',\n '1.2.250.1.59.470.940100027.1.20140506113137.1168.19970',\n '1.2.250.1.59.470.940100027.1.20140506113137.1168.19970_nifti_CT.nii',\n '1.2.250.1.59.470.940100027.1.20140506113137.1168.19970_nifti_PT.nii',\n '1.2.250.1.59.470.940100027.1.20140506113137.1168.19970_nifti_mask.nii',\n 'pet0']"
     },
     "metadata": {},
     "execution_count": 80
    }
   ],
   "source": [
    "liste[10]"
   ]
  },
  {
   "cell_type": "code",
   "execution_count": 81,
   "metadata": {},
   "outputs": [],
   "source": [
    "#clean -> if len != 6 \n",
    "#doit y avoir 573\n",
    "completed_liste = []\n",
    "for serie in liste : \n",
    "    if len(serie) == 6 : \n",
    "        completed_liste.append(serie)\n"
   ]
  },
  {
   "cell_type": "code",
   "execution_count": 82,
   "metadata": {},
   "outputs": [
    {
     "output_type": "execute_result",
     "data": {
      "text/plain": "644"
     },
     "metadata": {},
     "execution_count": 82
    }
   ],
   "source": [
    "len(completed_liste)"
   ]
  },
  {
   "cell_type": "code",
   "execution_count": 83,
   "metadata": {},
   "outputs": [],
   "source": [
    "new_liste = []\n",
    "new_liste.append(completed_liste[0])\n",
    "for i in range(1, len(completed_liste)) :\n",
    "    if completed_liste[i] not in new_liste : \n",
    "        new_liste.append(completed_liste[i])"
   ]
  },
  {
   "cell_type": "code",
   "execution_count": 84,
   "metadata": {},
   "outputs": [
    {
     "output_type": "execute_result",
     "data": {
      "text/plain": "573"
     },
     "metadata": {},
     "execution_count": 84
    }
   ],
   "source": [
    "len(new_liste)"
   ]
  },
  {
   "cell_type": "code",
   "execution_count": 88,
   "metadata": {
    "tags": [
     "outputPrepend"
    ]
   },
   "outputs": [
    {
     "output_type": "stream",
     "name": "stdout",
     "text": "78ca2911-9e9f-4f78-b80a-848024b95f92/GAINED_NIFTI/11011109131004 Dossier patient déjà crée\n/media/deeplearning/78ca2911-9e9f-4f78-b80a-848024b95f92/GAINED_NIFTI/11011109131004/pet0 déjà crée => prblm\n/media/deeplearning/78ca2911-9e9f-4f78-b80a-848024b95f92/GAINED_NIFTI/11011109131005 Dossier patient déjà crée\n/media/deeplearning/78ca2911-9e9f-4f78-b80a-848024b95f92/GAINED_NIFTI/11011109131005/pet0 déjà crée => prblm\n/media/deeplearning/78ca2911-9e9f-4f78-b80a-848024b95f92/GAINED_NIFTI/51011101111001 Dossier patient déjà crée\n/media/deeplearning/78ca2911-9e9f-4f78-b80a-848024b95f92/GAINED_NIFTI/51011101111001/pet0 déjà crée => prblm\n/media/deeplearning/78ca2911-9e9f-4f78-b80a-848024b95f92/GAINED_NIFTI/51011101111003 Dossier patient déjà crée\n/media/deeplearning/78ca2911-9e9f-4f78-b80a-848024b95f92/GAINED_NIFTI/51011101111003/pet0 déjà crée => prblm\n/media/deeplearning/78ca2911-9e9f-4f78-b80a-848024b95f92/GAINED_NIFTI/51011101111005 Dossier patient déjà crée\n/media/deeplearning/78ca2911-9e9f-4f78-b80a-848024b95f92/GAINED_NIFTI/51011101111005/pet0 déjà crée => prblm\n/media/deeplearning/78ca2911-9e9f-4f78-b80a-848024b95f92/GAINED_NIFTI/51011101111006 Dossier patient déjà crée\n/media/deeplearning/78ca2911-9e9f-4f78-b80a-848024b95f92/GAINED_NIFTI/51011101111006/pet0 déjà crée => prblm\n/media/deeplearning/78ca2911-9e9f-4f78-b80a-848024b95f92/GAINED_NIFTI/51011101261001 Dossier patient déjà crée\n/media/deeplearning/78ca2911-9e9f-4f78-b80a-848024b95f92/GAINED_NIFTI/51011101261001/pet0 déjà crée => prblm\n/media/deeplearning/78ca2911-9e9f-4f78-b80a-848024b95f92/GAINED_NIFTI/51011101261002 Dossier patient déjà crée\n/media/deeplearning/78ca2911-9e9f-4f78-b80a-848024b95f92/GAINED_NIFTI/51011101261002/pet0 déjà crée => prblm\n/media/deeplearning/78ca2911-9e9f-4f78-b80a-848024b95f92/GAINED_NIFTI/51011101261003 Dossier patient déjà crée\n/media/deeplearning/78ca2911-9e9f-4f78-b80a-848024b95f92/GAINED_NIFTI/51011101261003/pet0 déjà crée => prblm\n/media/deeplearning/78ca2911-9e9f-4f78-b80a-848024b95f92/GAINED_NIFTI/51011101261004 Dossier patient déjà crée\n/media/deeplearning/78ca2911-9e9f-4f78-b80a-848024b95f92/GAINED_NIFTI/51011101261004/pet0 déjà crée => prblm\n/media/deeplearning/78ca2911-9e9f-4f78-b80a-848024b95f92/GAINED_NIFTI/51011101261005 Dossier patient déjà crée\n/media/deeplearning/78ca2911-9e9f-4f78-b80a-848024b95f92/GAINED_NIFTI/51011101261005/pet0 déjà crée => prblm\n/media/deeplearning/78ca2911-9e9f-4f78-b80a-848024b95f92/GAINED_NIFTI/51011101261006 Dossier patient déjà crée\n/media/deeplearning/78ca2911-9e9f-4f78-b80a-848024b95f92/GAINED_NIFTI/51011101261006/pet0 déjà crée => prblm\n/media/deeplearning/78ca2911-9e9f-4f78-b80a-848024b95f92/GAINED_NIFTI/51011101261007 Dossier patient déjà crée\n/media/deeplearning/78ca2911-9e9f-4f78-b80a-848024b95f92/GAINED_NIFTI/51011101261007/pet0 déjà crée => prblm\n/media/deeplearning/78ca2911-9e9f-4f78-b80a-848024b95f92/GAINED_NIFTI/51011101261008 Dossier patient déjà crée\n/media/deeplearning/78ca2911-9e9f-4f78-b80a-848024b95f92/GAINED_NIFTI/51011101261008/pet0 déjà crée => prblm\n/media/deeplearning/78ca2911-9e9f-4f78-b80a-848024b95f92/GAINED_NIFTI/51011101261009 Dossier patient déjà crée\n/media/deeplearning/78ca2911-9e9f-4f78-b80a-848024b95f92/GAINED_NIFTI/51011101261009/pet0 déjà crée => prblm\n/media/deeplearning/78ca2911-9e9f-4f78-b80a-848024b95f92/GAINED_NIFTI/51011101261010 Dossier patient déjà crée\n/media/deeplearning/78ca2911-9e9f-4f78-b80a-848024b95f92/GAINED_NIFTI/51011101261010/pet0 déjà crée => prblm\n/media/deeplearning/78ca2911-9e9f-4f78-b80a-848024b95f92/GAINED_NIFTI/51011101261011 Dossier patient déjà crée\n/media/deeplearning/78ca2911-9e9f-4f78-b80a-848024b95f92/GAINED_NIFTI/51011101261011/pet0 déjà crée => prblm\n/media/deeplearning/78ca2911-9e9f-4f78-b80a-848024b95f92/GAINED_NIFTI/51011101261012 Dossier patient déjà crée\n/media/deeplearning/78ca2911-9e9f-4f78-b80a-848024b95f92/GAINED_NIFTI/51011101261012/pet0 déjà crée => prblm\n/media/deeplearning/78ca2911-9e9f-4f78-b80a-848024b95f92/GAINED_NIFTI/51011101261013 Dossier patient déjà crée\n/media/deeplearning/78ca2911-9e9f-4f78-b80a-848024b95f92/GAINED_NIFTI/51011101261013/pet0 déjà crée => prblm\n/media/deeplearning/78ca2911-9e9f-4f78-b80a-848024b95f92/GAINED_NIFTI/51011101291002 Dossier patient déjà crée\n/media/deeplearning/78ca2911-9e9f-4f78-b80a-848024b95f92/GAINED_NIFTI/51011101291002/pet0 déjà crée => prblm\n/media/deeplearning/78ca2911-9e9f-4f78-b80a-848024b95f92/GAINED_NIFTI/51011101291003 Dossier patient déjà crée\n/media/deeplearning/78ca2911-9e9f-4f78-b80a-848024b95f92/GAINED_NIFTI/51011101291003/pet0 déjà crée => prblm\n/media/deeplearning/78ca2911-9e9f-4f78-b80a-848024b95f92/GAINED_NIFTI/51011101301001 Dossier patient déjà crée\n/media/deeplearning/78ca2911-9e9f-4f78-b80a-848024b95f92/GAINED_NIFTI/51011101301001/pet0 déjà crée => prblm\n/media/deeplearning/78ca2911-9e9f-4f78-b80a-848024b95f92/GAINED_NIFTI/51011101301002 Dossier patient déjà crée\n/media/deeplearning/78ca2911-9e9f-4f78-b80a-848024b95f92/GAINED_NIFTI/51011101301002/pet0 déjà crée => prblm\n/media/deeplearning/78ca2911-9e9f-4f78-b80a-848024b95f92/GAINED_NIFTI/51011101371001 Dossier patient déjà crée\n/media/deeplearning/78ca2911-9e9f-4f78-b80a-848024b95f92/GAINED_NIFTI/51011101371001/pet0 déjà crée => prblm\n/media/deeplearning/78ca2911-9e9f-4f78-b80a-848024b95f92/GAINED_NIFTI/51011101371002 Dossier patient déjà crée\n/media/deeplearning/78ca2911-9e9f-4f78-b80a-848024b95f92/GAINED_NIFTI/51011101371002/pet0 déjà crée => prblm\n/media/deeplearning/78ca2911-9e9f-4f78-b80a-848024b95f92/GAINED_NIFTI/51011101371003 Dossier patient déjà crée\n/media/deeplearning/78ca2911-9e9f-4f78-b80a-848024b95f92/GAINED_NIFTI/51011101371003/pet0 déjà crée => prblm\n/media/deeplearning/78ca2911-9e9f-4f78-b80a-848024b95f92/GAINED_NIFTI/51011101371004 Dossier patient déjà crée\n/media/deeplearning/78ca2911-9e9f-4f78-b80a-848024b95f92/GAINED_NIFTI/51011101371004/pet0 déjà crée => prblm\n/media/deeplearning/78ca2911-9e9f-4f78-b80a-848024b95f92/GAINED_NIFTI/51011101371005 Dossier patient déjà crée\n/media/deeplearning/78ca2911-9e9f-4f78-b80a-848024b95f92/GAINED_NIFTI/51011101371005/pet0 déjà crée => prblm\n/media/deeplearning/78ca2911-9e9f-4f78-b80a-848024b95f92/GAINED_NIFTI/51011101371006 Dossier patient déjà crée\n/media/deeplearning/78ca2911-9e9f-4f78-b80a-848024b95f92/GAINED_NIFTI/51011101371006/pet0 déjà crée => prblm\n/media/deeplearning/78ca2911-9e9f-4f78-b80a-848024b95f92/GAINED_NIFTI/51011101371008 Dossier patient déjà crée\n/media/deeplearning/78ca2911-9e9f-4f78-b80a-848024b95f92/GAINED_NIFTI/51011101371008/pet0 déjà crée => prblm\n/media/deeplearning/78ca2911-9e9f-4f78-b80a-848024b95f92/GAINED_NIFTI/51011101371009 Dossier patient déjà crée\n/media/deeplearning/78ca2911-9e9f-4f78-b80a-848024b95f92/GAINED_NIFTI/51011101371009/pet0 déjà crée => prblm\n/media/deeplearning/78ca2911-9e9f-4f78-b80a-848024b95f92/GAINED_NIFTI/51011101371010 Dossier patient déjà crée\n/media/deeplearning/78ca2911-9e9f-4f78-b80a-848024b95f92/GAINED_NIFTI/51011101371010/pet0 déjà crée => prblm\n/media/deeplearning/78ca2911-9e9f-4f78-b80a-848024b95f92/GAINED_NIFTI/51011101371011 Dossier patient déjà crée\n/media/deeplearning/78ca2911-9e9f-4f78-b80a-848024b95f92/GAINED_NIFTI/51011101371011/pet0 déjà crée => prblm\n/media/deeplearning/78ca2911-9e9f-4f78-b80a-848024b95f92/GAINED_NIFTI/51011101371012 Dossier patient déjà crée\n/media/deeplearning/78ca2911-9e9f-4f78-b80a-848024b95f92/GAINED_NIFTI/51011101371012/pet0 déjà crée => prblm\n/media/deeplearning/78ca2911-9e9f-4f78-b80a-848024b95f92/GAINED_NIFTI/51011101871002 Dossier patient déjà crée\n/media/deeplearning/78ca2911-9e9f-4f78-b80a-848024b95f92/GAINED_NIFTI/51011101871002/pet0 déjà crée => prblm\n/media/deeplearning/78ca2911-9e9f-4f78-b80a-848024b95f92/GAINED_NIFTI/51011101871003 Dossier patient déjà crée\n/media/deeplearning/78ca2911-9e9f-4f78-b80a-848024b95f92/GAINED_NIFTI/51011101871003/pet0 déjà crée => prblm\n/media/deeplearning/78ca2911-9e9f-4f78-b80a-848024b95f92/GAINED_NIFTI/51011101871004 Dossier patient déjà crée\n/media/deeplearning/78ca2911-9e9f-4f78-b80a-848024b95f92/GAINED_NIFTI/51011101871004/pet0 déjà crée => prblm\n/media/deeplearning/78ca2911-9e9f-4f78-b80a-848024b95f92/GAINED_NIFTI/51011101871005 Dossier patient déjà crée\n/media/deeplearning/78ca2911-9e9f-4f78-b80a-848024b95f92/GAINED_NIFTI/51011101871005/pet0 déjà crée => prblm\n/media/deeplearning/78ca2911-9e9f-4f78-b80a-848024b95f92/GAINED_NIFTI/51011101871006 Dossier patient déjà crée\n/media/deeplearning/78ca2911-9e9f-4f78-b80a-848024b95f92/GAINED_NIFTI/51011101871006/pet0 déjà crée => prblm\n/media/deeplearning/78ca2911-9e9f-4f78-b80a-848024b95f92/GAINED_NIFTI/51011101871008 Dossier patient déjà crée\n/media/deeplearning/78ca2911-9e9f-4f78-b80a-848024b95f92/GAINED_NIFTI/51011101871008/pet0 déjà crée => prblm\n/media/deeplearning/78ca2911-9e9f-4f78-b80a-848024b95f92/GAINED_NIFTI/51011101871009 Dossier patient déjà crée\n/media/deeplearning/78ca2911-9e9f-4f78-b80a-848024b95f92/GAINED_NIFTI/51011101871009/pet0 déjà crée => prblm\n/media/deeplearning/78ca2911-9e9f-4f78-b80a-848024b95f92/GAINED_NIFTI/51011101871010 Dossier patient déjà crée\n/media/deeplearning/78ca2911-9e9f-4f78-b80a-848024b95f92/GAINED_NIFTI/51011101871010/pet0 déjà crée => prblm\n/media/deeplearning/78ca2911-9e9f-4f78-b80a-848024b95f92/GAINED_NIFTI/51011101871011 Dossier patient déjà crée\n/media/deeplearning/78ca2911-9e9f-4f78-b80a-848024b95f92/GAINED_NIFTI/51011101871011/pet0 déjà crée => prblm\n/media/deeplearning/78ca2911-9e9f-4f78-b80a-848024b95f92/GAINED_NIFTI/51011101881001 Dossier patient déjà crée\n/media/deeplearning/78ca2911-9e9f-4f78-b80a-848024b95f92/GAINED_NIFTI/51011101881001/pet0 déjà crée => prblm\n/media/deeplearning/78ca2911-9e9f-4f78-b80a-848024b95f92/GAINED_NIFTI/51011101881002 Dossier patient déjà crée\n/media/deeplearning/78ca2911-9e9f-4f78-b80a-848024b95f92/GAINED_NIFTI/51011101881002/pet0 déjà crée => prblm\n/media/deeplearning/78ca2911-9e9f-4f78-b80a-848024b95f92/GAINED_NIFTI/51011101881003 Dossier patient déjà crée\n/media/deeplearning/78ca2911-9e9f-4f78-b80a-848024b95f92/GAINED_NIFTI/51011101881003/pet0 déjà crée => prblm\n/media/deeplearning/78ca2911-9e9f-4f78-b80a-848024b95f92/GAINED_NIFTI/51011101881004 Dossier patient déjà crée\n/media/deeplearning/78ca2911-9e9f-4f78-b80a-848024b95f92/GAINED_NIFTI/51011101881004/pet0 déjà crée => prblm\n/media/deeplearning/78ca2911-9e9f-4f78-b80a-848024b95f92/GAINED_NIFTI/51011101881005 Dossier patient déjà crée\n/media/deeplearning/78ca2911-9e9f-4f78-b80a-848024b95f92/GAINED_NIFTI/51011101881005/pet0 déjà crée => prblm\n/media/deeplearning/78ca2911-9e9f-4f78-b80a-848024b95f92/GAINED_NIFTI/51011101881006 Dossier patient déjà crée\n/media/deeplearning/78ca2911-9e9f-4f78-b80a-848024b95f92/GAINED_NIFTI/51011101881006/pet0 déjà crée => prblm\n/media/deeplearning/78ca2911-9e9f-4f78-b80a-848024b95f92/GAINED_NIFTI/51011101881007 Dossier patient déjà crée\n/media/deeplearning/78ca2911-9e9f-4f78-b80a-848024b95f92/GAINED_NIFTI/51011101881007/pet0 déjà crée => prblm\n/media/deeplearning/78ca2911-9e9f-4f78-b80a-848024b95f92/GAINED_NIFTI/51011101881008 Dossier patient déjà crée\n/media/deeplearning/78ca2911-9e9f-4f78-b80a-848024b95f92/GAINED_NIFTI/51011101881008/pet0 déjà crée => prblm\n/media/deeplearning/78ca2911-9e9f-4f78-b80a-848024b95f92/GAINED_NIFTI/51011101881009 Dossier patient déjà crée\n/media/deeplearning/78ca2911-9e9f-4f78-b80a-848024b95f92/GAINED_NIFTI/51011101881009/pet0 déjà crée => prblm\n/media/deeplearning/78ca2911-9e9f-4f78-b80a-848024b95f92/GAINED_NIFTI/51011101881010 Dossier patient déjà crée\n/media/deeplearning/78ca2911-9e9f-4f78-b80a-848024b95f92/GAINED_NIFTI/51011101881010/pet0 déjà crée => prblm\n/media/deeplearning/78ca2911-9e9f-4f78-b80a-848024b95f92/GAINED_NIFTI/51011101881011 Dossier patient déjà crée\n/media/deeplearning/78ca2911-9e9f-4f78-b80a-848024b95f92/GAINED_NIFTI/51011101881011/pet0 déjà crée => prblm\n/media/deeplearning/78ca2911-9e9f-4f78-b80a-848024b95f92/GAINED_NIFTI/51011101881012 Dossier patient déjà crée\n/media/deeplearning/78ca2911-9e9f-4f78-b80a-848024b95f92/GAINED_NIFTI/51011101881012/pet0 déjà crée => prblm\n/media/deeplearning/78ca2911-9e9f-4f78-b80a-848024b95f92/GAINED_NIFTI/51011101881013 Dossier patient déjà crée\n/media/deeplearning/78ca2911-9e9f-4f78-b80a-848024b95f92/GAINED_NIFTI/51011101881013/pet0 déjà crée => prblm\n/media/deeplearning/78ca2911-9e9f-4f78-b80a-848024b95f92/GAINED_NIFTI/51011101881014 Dossier patient déjà crée\n/media/deeplearning/78ca2911-9e9f-4f78-b80a-848024b95f92/GAINED_NIFTI/51011101881014/pet0 déjà crée => prblm\n/media/deeplearning/78ca2911-9e9f-4f78-b80a-848024b95f92/GAINED_NIFTI/51011101881015 Dossier patient déjà crée\n/media/deeplearning/78ca2911-9e9f-4f78-b80a-848024b95f92/GAINED_NIFTI/51011101881015/pet0 déjà crée => prblm\n/media/deeplearning/78ca2911-9e9f-4f78-b80a-848024b95f92/GAINED_NIFTI/51011101881016 Dossier patient déjà crée\n/media/deeplearning/78ca2911-9e9f-4f78-b80a-848024b95f92/GAINED_NIFTI/51011101881016/pet0 déjà crée => prblm\n/media/deeplearning/78ca2911-9e9f-4f78-b80a-848024b95f92/GAINED_NIFTI/51011101881017 Dossier patient déjà crée\n/media/deeplearning/78ca2911-9e9f-4f78-b80a-848024b95f92/GAINED_NIFTI/51011101881017/pet0 déjà crée => prblm\n/media/deeplearning/78ca2911-9e9f-4f78-b80a-848024b95f92/GAINED_NIFTI/51011101881018 Dossier patient déjà crée\n/media/deeplearning/78ca2911-9e9f-4f78-b80a-848024b95f92/GAINED_NIFTI/51011101881018/pet0 déjà crée => prblm\n/media/deeplearning/78ca2911-9e9f-4f78-b80a-848024b95f92/GAINED_NIFTI/51011101881019 Dossier patient déjà crée\n/media/deeplearning/78ca2911-9e9f-4f78-b80a-848024b95f92/GAINED_NIFTI/51011101881019/pet0 déjà crée => prblm\n/media/deeplearning/78ca2911-9e9f-4f78-b80a-848024b95f92/GAINED_NIFTI/51011101881020 Dossier patient déjà crée\n/media/deeplearning/78ca2911-9e9f-4f78-b80a-848024b95f92/GAINED_NIFTI/51011101881020/pet0 déjà crée => prblm\n/media/deeplearning/78ca2911-9e9f-4f78-b80a-848024b95f92/GAINED_NIFTI/51011101881021 Dossier patient déjà crée\n/media/deeplearning/78ca2911-9e9f-4f78-b80a-848024b95f92/GAINED_NIFTI/51011101881021/pet0 déjà crée => prblm\n/media/deeplearning/78ca2911-9e9f-4f78-b80a-848024b95f92/GAINED_NIFTI/51011101881022 Dossier patient déjà crée\n/media/deeplearning/78ca2911-9e9f-4f78-b80a-848024b95f92/GAINED_NIFTI/51011101881022/pet0 déjà crée => prblm\n/media/deeplearning/78ca2911-9e9f-4f78-b80a-848024b95f92/GAINED_NIFTI/51011101881023 Dossier patient déjà crée\n/media/deeplearning/78ca2911-9e9f-4f78-b80a-848024b95f92/GAINED_NIFTI/51011101881023/pet0 déjà crée => prblm\n/media/deeplearning/78ca2911-9e9f-4f78-b80a-848024b95f92/GAINED_NIFTI/51011101881024 Dossier patient déjà crée\n/media/deeplearning/78ca2911-9e9f-4f78-b80a-848024b95f92/GAINED_NIFTI/51011101881024/pet0 déjà crée => prblm\n/media/deeplearning/78ca2911-9e9f-4f78-b80a-848024b95f92/GAINED_NIFTI/51011101881025 Dossier patient déjà crée\n/media/deeplearning/78ca2911-9e9f-4f78-b80a-848024b95f92/GAINED_NIFTI/51011101881025/pet0 déjà crée => prblm\n/media/deeplearning/78ca2911-9e9f-4f78-b80a-848024b95f92/GAINED_NIFTI/51011101881026 Dossier patient déjà crée\n/media/deeplearning/78ca2911-9e9f-4f78-b80a-848024b95f92/GAINED_NIFTI/51011101881026/pet0 déjà crée => prblm\n/media/deeplearning/78ca2911-9e9f-4f78-b80a-848024b95f92/GAINED_NIFTI/51011101881027 Dossier patient déjà crée\n/media/deeplearning/78ca2911-9e9f-4f78-b80a-848024b95f92/GAINED_NIFTI/51011101881027/pet0 déjà crée => prblm\n/media/deeplearning/78ca2911-9e9f-4f78-b80a-848024b95f92/GAINED_NIFTI/51011101881028 Dossier patient déjà crée\n/media/deeplearning/78ca2911-9e9f-4f78-b80a-848024b95f92/GAINED_NIFTI/51011101881028/pet0 déjà crée => prblm\n/media/deeplearning/78ca2911-9e9f-4f78-b80a-848024b95f92/GAINED_NIFTI/51011101901001 Dossier patient déjà crée\n/media/deeplearning/78ca2911-9e9f-4f78-b80a-848024b95f92/GAINED_NIFTI/51011101901001/pet0 déjà crée => prblm\n/media/deeplearning/78ca2911-9e9f-4f78-b80a-848024b95f92/GAINED_NIFTI/51011101901002 Dossier patient déjà crée\n/media/deeplearning/78ca2911-9e9f-4f78-b80a-848024b95f92/GAINED_NIFTI/51011101901002/pet0 déjà crée => prblm\n/media/deeplearning/78ca2911-9e9f-4f78-b80a-848024b95f92/GAINED_NIFTI/51011101901003 Dossier patient déjà crée\n/media/deeplearning/78ca2911-9e9f-4f78-b80a-848024b95f92/GAINED_NIFTI/51011101901003/pet0 déjà crée => prblm\n/media/deeplearning/78ca2911-9e9f-4f78-b80a-848024b95f92/GAINED_NIFTI/51011101901004 Dossier patient déjà crée\n/media/deeplearning/78ca2911-9e9f-4f78-b80a-848024b95f92/GAINED_NIFTI/51011101901004/pet0 déjà crée => prblm\n/media/deeplearning/78ca2911-9e9f-4f78-b80a-848024b95f92/GAINED_NIFTI/51011101901005 Dossier patient déjà crée\n/media/deeplearning/78ca2911-9e9f-4f78-b80a-848024b95f92/GAINED_NIFTI/51011101901005/pet0 déjà crée => prblm\n/media/deeplearning/78ca2911-9e9f-4f78-b80a-848024b95f92/GAINED_NIFTI/51011101901006 Dossier patient déjà crée\n/media/deeplearning/78ca2911-9e9f-4f78-b80a-848024b95f92/GAINED_NIFTI/51011101901006/pet0 déjà crée => prblm\n/media/deeplearning/78ca2911-9e9f-4f78-b80a-848024b95f92/GAINED_NIFTI/51011101901007 Dossier patient déjà crée\n/media/deeplearning/78ca2911-9e9f-4f78-b80a-848024b95f92/GAINED_NIFTI/51011101901007/pet0 déjà crée => prblm\n/media/deeplearning/78ca2911-9e9f-4f78-b80a-848024b95f92/GAINED_NIFTI/51011102161001 Dossier patient déjà crée\n/media/deeplearning/78ca2911-9e9f-4f78-b80a-848024b95f92/GAINED_NIFTI/51011102161001/pet0 déjà crée => prblm\n/media/deeplearning/78ca2911-9e9f-4f78-b80a-848024b95f92/GAINED_NIFTI/51011102161002 Dossier patient déjà crée\n/media/deeplearning/78ca2911-9e9f-4f78-b80a-848024b95f92/GAINED_NIFTI/51011102161002/pet0 déjà crée => prblm\n/media/deeplearning/78ca2911-9e9f-4f78-b80a-848024b95f92/GAINED_NIFTI/51011102161003 Dossier patient déjà crée\n/media/deeplearning/78ca2911-9e9f-4f78-b80a-848024b95f92/GAINED_NIFTI/51011102161003/pet0 déjà crée => prblm\n/media/deeplearning/78ca2911-9e9f-4f78-b80a-848024b95f92/GAINED_NIFTI/51011102171001 Dossier patient déjà crée\n/media/deeplearning/78ca2911-9e9f-4f78-b80a-848024b95f92/GAINED_NIFTI/51011102171001/pet0 déjà crée => prblm\n/media/deeplearning/78ca2911-9e9f-4f78-b80a-848024b95f92/GAINED_NIFTI/51011102171002 Dossier patient déjà crée\n/media/deeplearning/78ca2911-9e9f-4f78-b80a-848024b95f92/GAINED_NIFTI/51011102171002/pet0 déjà crée => prblm\n/media/deeplearning/78ca2911-9e9f-4f78-b80a-848024b95f92/GAINED_NIFTI/51011102171003 Dossier patient déjà crée\n/media/deeplearning/78ca2911-9e9f-4f78-b80a-848024b95f92/GAINED_NIFTI/51011102171003/pet0 déjà crée => prblm\n/media/deeplearning/78ca2911-9e9f-4f78-b80a-848024b95f92/GAINED_NIFTI/51011102171004 Dossier patient déjà crée\n/media/deeplearning/78ca2911-9e9f-4f78-b80a-848024b95f92/GAINED_NIFTI/51011102171004/pet0 déjà crée => prblm\n/media/deeplearning/78ca2911-9e9f-4f78-b80a-848024b95f92/GAINED_NIFTI/51011102171005 Dossier patient déjà crée\n/media/deeplearning/78ca2911-9e9f-4f78-b80a-848024b95f92/GAINED_NIFTI/51011102171005/pet0 déjà crée => prblm\n/media/deeplearning/78ca2911-9e9f-4f78-b80a-848024b95f92/GAINED_NIFTI/51011102171006 Dossier patient déjà crée\n/media/deeplearning/78ca2911-9e9f-4f78-b80a-848024b95f92/GAINED_NIFTI/51011102171006/pet0 déjà crée => prblm\n/media/deeplearning/78ca2911-9e9f-4f78-b80a-848024b95f92/GAINED_NIFTI/51011102171007 Dossier patient déjà crée\n/media/deeplearning/78ca2911-9e9f-4f78-b80a-848024b95f92/GAINED_NIFTI/51011102171007/pet0 déjà crée => prblm\n/media/deeplearning/78ca2911-9e9f-4f78-b80a-848024b95f92/GAINED_NIFTI/51011102171008 Dossier patient déjà crée\n/media/deeplearning/78ca2911-9e9f-4f78-b80a-848024b95f92/GAINED_NIFTI/51011102171008/pet0 déjà crée => prblm\n/media/deeplearning/78ca2911-9e9f-4f78-b80a-848024b95f92/GAINED_NIFTI/51011102171009 Dossier patient déjà crée\n/media/deeplearning/78ca2911-9e9f-4f78-b80a-848024b95f92/GAINED_NIFTI/51011102171009/pet0 déjà crée => prblm\n/media/deeplearning/78ca2911-9e9f-4f78-b80a-848024b95f92/GAINED_NIFTI/51011102181001 Dossier patient déjà crée\n/media/deeplearning/78ca2911-9e9f-4f78-b80a-848024b95f92/GAINED_NIFTI/51011102181001/pet0 déjà crée => prblm\n"
    }
   ],
   "source": [
    "#creation sous dossier patient id -> pet0 -> mask ct pt \n",
    "\n",
    "for serie in new_liste: \n",
    "    patient_id = serie[0]\n",
    "    pet_type = serie[-1]\n",
    "    nifti_ct = serie[2]\n",
    "    nifti_pet = serie[3]\n",
    "    nifti_mask = serie[4]\n",
    "\n",
    "    folder = '/media/deeplearning/78ca2911-9e9f-4f78-b80a-848024b95f92/GAINED_NIFTI'+'/'+patient_id\n",
    "\n",
    "    if not os.path.exists(folder):\n",
    "        os.makedirs(folder)\n",
    "        print(folder, 'created')\n",
    "    else : print(folder, \"Dossier patient déjà crée\")\n",
    "\n",
    "    subfolder = folder+'/'+pet_type\n",
    "    if not os.path.exists(subfolder) :\n",
    "        os.makedirs(subfolder)\n",
    "        print(subfolder, 'created')\n",
    "    else : print(subfolder, \"déjà crée => prblm\")\n",
    "\n",
    "    ct_path = '/media/deeplearning/78ca2911-9e9f-4f78-b80a-848024b95f92/GAINED_NIFTI'+'/'+nifti_ct\n",
    "    pt_path = '/media/deeplearning/78ca2911-9e9f-4f78-b80a-848024b95f92/GAINED_NIFTI'+'/'+nifti_pet\n",
    "    mask_path = '/media/deeplearning/78ca2911-9e9f-4f78-b80a-848024b95f92/GAINED_NIFTI'+'/'+nifti_mask\n",
    "\n",
    "    new_ct_path = subfolder+'/'+nifti_ct\n",
    "    new_pet_path = subfolder+'/'+nifti_pet\n",
    "    new_mask_path = subfolder+'/'+nifti_mask\n",
    "\n",
    "    os.rename(ct_path, subfolder+'/'+nifti_ct)\n",
    "    os.rename(pt_path, subfolder+'/'+nifti_pet)\n",
    "    os.rename(mask_path, subfolder+'/'+nifti_mask)\n",
    "\n",
    "    \n",
    "\n"
   ]
  },
  {
   "cell_type": "code",
   "execution_count": null,
   "metadata": {},
   "outputs": [],
   "source": []
  },
  {
   "cell_type": "code",
   "execution_count": 89,
   "metadata": {},
   "outputs": [
    {
     "output_type": "execute_result",
     "data": {
      "text/plain": "['11011101021001',\n '1.2.840.113704.1.111.3296.1350645932.9',\n '1.2.840.113704.1.111.3296.1350645932.9_nifti_CT.nii',\n '1.2.840.113704.1.111.3296.1350645932.9_nifti_PT.nii',\n '1.2.840.113704.1.111.3296.1350645932.9_nifti_mask.nii',\n 'pet0']"
     },
     "metadata": {},
     "execution_count": 89
    }
   ],
   "source": [
    "new_liste[0]"
   ]
  },
  {
   "cell_type": "code",
   "execution_count": 90,
   "metadata": {},
   "outputs": [],
   "source": [
    "nifti_directory = '/media/deeplearning/78ca2911-9e9f-4f78-b80a-848024b95f92/GAINED_NIFTI'\n",
    "\n",
    "with open(os.path.join(nifti_directory, 'GAINED_PET0_NIFTI.csv'), 'w') as csv_file : \n",
    "    csv_writer = csv.writer(csv_file, delimiter=',', quotechar='\"', quoting=csv.QUOTE_MINIMAL)\n",
    "    csv_writer.writerow([\"PATIENT ID\", \"STUDY UID\", \"PET\", \"NIFTI_CT\", \"NIFTI_PET\", \"NIFTI_MASK\"])\n",
    "    for serie in new_liste: \n",
    "        csv_writer.writerow([serie[0], serie[1], serie[-1], os.path.join(nifti_directory+'/'+serie[0]+'/'+serie[-1]+'/'+serie[2]), os.path.join(nifti_directory+'/'+serie[0]+'/'+serie[-1]+'/'+serie[3]), os.path.join(nifti_directory+'/'+serie[0]+'/'+serie[-1]+'/'+serie[4])])\n"
   ]
  },
  {
   "cell_type": "code",
   "execution_count": null,
   "metadata": {},
   "outputs": [],
   "source": [
    "#REUNITE CSV \n"
   ]
  },
  {
   "cell_type": "code",
   "execution_count": null,
   "metadata": {},
   "outputs": [],
   "source": []
  },
  {
   "cell_type": "code",
   "execution_count": null,
   "metadata": {},
   "outputs": [],
   "source": []
  },
  {
   "cell_type": "code",
   "execution_count": null,
   "metadata": {},
   "outputs": [],
   "source": []
  },
  {
   "cell_type": "code",
   "execution_count": 2,
   "metadata": {},
   "outputs": [],
   "source": [
    "#CREATE CSV FILE FOR NIFTI\n",
    "#PATIENT NAME  |  STUDY UID  | CT PATH  |  PET PATH  |  MASK PATH \n",
    "\n",
    "csv_pet24_path = '/media/salim/DD 2To/AHL2011_CSV_DATA/pet24.csv'\n",
    "\n",
    "with open(csv_pet24_path, 'r') as csv_file :\n",
    "    reader = csv.reader(csv_file, delimiter = ';') #liste pour chaque ligne \n",
    "    csv_data = []\n",
    "    for row in reader :\n",
    "        csv_data.append(row)\n",
    "        \n",
    "del csv_data[0] #enlever première ligne"
   ]
  },
  {
   "cell_type": "code",
   "execution_count": 3,
   "metadata": {},
   "outputs": [
    {
     "name": "stdout",
     "output_type": "stream",
     "text": [
      "1528\n",
      "2390\n"
     ]
    }
   ],
   "source": [
    "print(len(csv_data))\n",
    "\n",
    "list_nifti = os.listdir('/media/salim/DD 2To/AHL2011_NIFTI_PET24')\n",
    "\n",
    "print(len(list_nifti))"
   ]
  },
  {
   "cell_type": "code",
   "execution_count": 4,
   "metadata": {},
   "outputs": [],
   "source": [
    "#CLEAN TO WRITE THE CSV "
   ]
  },
  {
   "cell_type": "code",
   "execution_count": 4,
   "metadata": {},
   "outputs": [],
   "source": [
    "all_liste = []\n",
    "for i in range(len(csv_data)) : \n",
    "    subliste = []\n",
    "    subliste.append(csv_data[i][0])\n",
    "    patient_id = csv_data[i][1]\n",
    "    subliste.append(patient_id)\n",
    "    study_uid = csv_data[i][2]\n",
    "    subliste.append(study_uid)\n",
    "    subliste.append(csv_data[i][4])\n",
    "    for nifti in list_nifti : \n",
    "        if study_uid in nifti : \n",
    "            subliste.append(nifti)\n",
    "\n",
    "    all_liste.append(subliste)"
   ]
  },
  {
   "cell_type": "code",
   "execution_count": 5,
   "metadata": {},
   "outputs": [
    {
     "name": "stdout",
     "output_type": "stream",
     "text": [
      "['BES,LA', '13011101331006', '1.2.124.113532.10.149.172.5.20130104.83257.6993772', 'bes_la_jan 4_2013.csv', '1.2.124.113532.10.149.172.5.20130104.83257.6993772_nifti_CT.nii', '1.2.124.113532.10.149.172.5.20130104.83257.6993772_nifti_PT.nii']\n"
     ]
    }
   ],
   "source": [
    "len(all_liste)\n",
    "print(all_liste[0])"
   ]
  },
  {
   "cell_type": "code",
   "execution_count": 6,
   "metadata": {},
   "outputs": [],
   "source": [
    "#si pas de nifti, on enleve les patients (=> pas de json)\n",
    "no_nifti  = []\n",
    "for liste in all_liste : \n",
    "    if len(liste) != 6 : \n",
    "        no_nifti.append(liste)"
   ]
  },
  {
   "cell_type": "code",
   "execution_count": 7,
   "metadata": {},
   "outputs": [
    {
     "name": "stdout",
     "output_type": "stream",
     "text": [
      "249\n"
     ]
    }
   ],
   "source": [
    "print(len(no_nifti))"
   ]
  },
  {
   "cell_type": "code",
   "execution_count": 8,
   "metadata": {},
   "outputs": [],
   "source": [
    "for serie in no_nifti : \n",
    "    all_liste.remove(serie)"
   ]
  },
  {
   "cell_type": "code",
   "execution_count": 9,
   "metadata": {},
   "outputs": [
    {
     "name": "stdout",
     "output_type": "stream",
     "text": [
      "1279\n"
     ]
    }
   ],
   "source": [
    "print(len(all_liste))"
   ]
  },
  {
   "cell_type": "code",
   "execution_count": 10,
   "metadata": {},
   "outputs": [
    {
     "data": {
      "text/plain": [
       "['BES,LA',\n",
       " '13011101331006',\n",
       " '1.2.124.113532.10.149.172.5.20130104.83257.6993772',\n",
       " 'bes_la_jan 4_2013.csv',\n",
       " '1.2.124.113532.10.149.172.5.20130104.83257.6993772_nifti_CT.nii',\n",
       " '1.2.124.113532.10.149.172.5.20130104.83257.6993772_nifti_PT.nii']"
      ]
     },
     "execution_count": 10,
     "metadata": {},
     "output_type": "execute_result"
    }
   ],
   "source": [
    "all_liste[0]"
   ]
  },
  {
   "cell_type": "code",
   "execution_count": 11,
   "metadata": {},
   "outputs": [
    {
     "name": "stdout",
     "output_type": "stream",
     "text": [
      "652\n"
     ]
    }
   ],
   "source": [
    "#trier PET2 et PET4\n",
    "\n",
    "patient_id = []\n",
    "patient_id.append(all_liste[0][1])\n",
    "for i in range(1, len(all_liste)) : \n",
    "    if all_liste[i][1] not in patient_id : \n",
    "        patient_id.append(all_liste[i][1])\n",
    "\n",
    "print(len(patient_id))\n",
    "\n",
    "complete_liste = []\n",
    "\n",
    "\n",
    "for name in patient_id : \n",
    "    subliste = []\n",
    "    for serie in all_liste : \n",
    "        if name in serie : \n",
    "            subliste.append(serie)\n",
    "    complete_liste.append(subliste)"
   ]
  },
  {
   "cell_type": "code",
   "execution_count": 12,
   "metadata": {},
   "outputs": [
    {
     "data": {
      "text/plain": [
       "652"
      ]
     },
     "execution_count": 12,
     "metadata": {},
     "output_type": "execute_result"
    }
   ],
   "source": [
    "len(complete_liste)"
   ]
  },
  {
   "cell_type": "code",
   "execution_count": 108,
   "metadata": {},
   "outputs": [
    {
     "name": "stdout",
     "output_type": "stream",
     "text": [
      "['mar 26', '2013']\n",
      "['mar 26', '2013-EV']\n"
     ]
    },
    {
     "ename": "ValueError",
     "evalue": "substring not found",
     "output_type": "error",
     "traceback": [
      "\u001b[0;31m---------------------------------------------------------------------------\u001b[0m",
      "\u001b[0;31mValueError\u001b[0m                                Traceback (most recent call last)",
      "\u001b[0;32m<ipython-input-108-a332e577da07>\u001b[0m in \u001b[0;36m<module>\u001b[0;34m\u001b[0m\n\u001b[1;32m      8\u001b[0m \u001b[0mdate_2\u001b[0m \u001b[0;34m=\u001b[0m \u001b[0;34m(\u001b[0m\u001b[0;34m' '\u001b[0m\u001b[0;34m.\u001b[0m\u001b[0mjoin\u001b[0m\u001b[0;34m(\u001b[0m\u001b[0mdate_2\u001b[0m\u001b[0;34m)\u001b[0m\u001b[0;34m)\u001b[0m\u001b[0;34m\u001b[0m\u001b[0;34m\u001b[0m\u001b[0m\n\u001b[1;32m      9\u001b[0m \u001b[0;32mif\u001b[0m \u001b[0;34m'-'\u001b[0m \u001b[0;32min\u001b[0m \u001b[0mdate_1\u001b[0m \u001b[0;32mor\u001b[0m \u001b[0;34m'-'\u001b[0m \u001b[0;32min\u001b[0m \u001b[0mdate_2\u001b[0m \u001b[0;34m:\u001b[0m\u001b[0;34m\u001b[0m\u001b[0;34m\u001b[0m\u001b[0m\n\u001b[0;32m---> 10\u001b[0;31m     \u001b[0mdate_1\u001b[0m \u001b[0;34m=\u001b[0m \u001b[0mdate_1\u001b[0m\u001b[0;34m[\u001b[0m\u001b[0;36m0\u001b[0m \u001b[0;34m:\u001b[0m \u001b[0mdate_1\u001b[0m\u001b[0;34m.\u001b[0m\u001b[0mindex\u001b[0m\u001b[0;34m(\u001b[0m\u001b[0;34m'-'\u001b[0m\u001b[0;34m)\u001b[0m\u001b[0;34m]\u001b[0m\u001b[0;34m\u001b[0m\u001b[0;34m\u001b[0m\u001b[0m\n\u001b[0m\u001b[1;32m     11\u001b[0m     \u001b[0mdate_2\u001b[0m \u001b[0;34m=\u001b[0m \u001b[0mdate_2\u001b[0m\u001b[0;34m[\u001b[0m\u001b[0;36m0\u001b[0m \u001b[0;34m:\u001b[0m \u001b[0mdate_2\u001b[0m\u001b[0;34m.\u001b[0m\u001b[0mindex\u001b[0m\u001b[0;34m(\u001b[0m\u001b[0;34m'-'\u001b[0m\u001b[0;34m)\u001b[0m\u001b[0;34m]\u001b[0m\u001b[0;34m\u001b[0m\u001b[0;34m\u001b[0m\u001b[0m\n\u001b[1;32m     12\u001b[0m \u001b[0mprint\u001b[0m\u001b[0;34m(\u001b[0m\u001b[0mdate_1\u001b[0m\u001b[0;34m)\u001b[0m\u001b[0;34m\u001b[0m\u001b[0;34m\u001b[0m\u001b[0m\n",
      "\u001b[0;31mValueError\u001b[0m: substring not found"
     ]
    }
   ],
   "source": [
    "from datetime import datetime, timedelta\n",
    "\n",
    "date_1 = complete_liste[247][0][3].split('.')[0].split('_')[2:4]\n",
    "date_2 = complete_liste[247][1][3].split('.')[0].split('_')[2:4]\n",
    "print(date_1)\n",
    "print(date_2)\n",
    "date_1 = (' '.join(date_1))\n",
    "date_2 = (' '.join(date_2))\n",
    "if '-' in date_1 or '-' in date_2 : \n",
    "    date_1 = date_1[0 : date_1.index('-')]\n",
    "    date_2 = date_2[0 : date_2.index('-')]\n",
    "print(date_1)\n",
    "print(date_2)\n",
    "\n",
    "date_1 = datetime.strptime(date_1, \"%b %d %Y\")\n",
    "date_2 = datetime.strptime(date_2, \"%b %d %Y\")\n",
    "\n",
    "print(date_1)\n",
    "print(date_2)\n",
    "\n",
    "print(date_1 < date_2)\n",
    "delta = date_1 < date_2\n",
    "if (delta== True) : \n",
    "    print(\"ok\")\n",
    "    "
   ]
  },
  {
   "cell_type": "code",
   "execution_count": 14,
   "metadata": {},
   "outputs": [],
   "source": [
    "from datetime import datetime, timedelta\n",
    "pet_2 = []\n",
    "pet_4 = []\n",
    "\n",
    "for liste in complete_liste : \n",
    "    #print(complete_liste.index(liste))\n",
    "    if len(liste) == 2 :\n",
    "        date_1 = liste[0][3].split('.')[0].split('_')[2:4]\n",
    "        date_2 = liste[1][3].split('.')[0].split('_')[2:4]\n",
    "        date_1 = (' '.join(date_1))\n",
    "        date_2 = (' '.join(date_2))\n",
    "        if '-' in date_1 : \n",
    "            date_1 = date_1[0 : date_1.index('-')]\n",
    "        if '-' in date_2 : \n",
    "            date_2 = date_2[0 : date_2.index('-')]\n",
    "        date_1 = datetime.strptime(date_1, \"%b %d %Y\")\n",
    "        date_2 = datetime.strptime(date_2, \"%b %d %Y\")\n",
    "        delta = date_1 < date_2\n",
    "        if (delta== True) : \n",
    "        #la premiere liste est la pet2\n",
    "            pet_2.append(liste[0])\n",
    "            pet_4.append(liste[1])\n",
    "        else : \n",
    "            pet_2.append(liste[1])\n",
    "            pet_4.append(liste[0])\n",
    "\n",
    "\n",
    "\n",
    "    else : \n",
    "        pet_2.append(liste[0])"
   ]
  },
  {
   "cell_type": "code",
   "execution_count": 15,
   "metadata": {},
   "outputs": [
    {
     "name": "stdout",
     "output_type": "stream",
     "text": [
      "652\n",
      "525\n"
     ]
    }
   ],
   "source": [
    "print(len(pet_2))\n",
    "print(len(pet_4))"
   ]
  },
  {
   "cell_type": "code",
   "execution_count": 16,
   "metadata": {},
   "outputs": [
    {
     "name": "stdout",
     "output_type": "stream",
     "text": [
      "['BES,LA', '13011101331006', '1.2.124.113532.10.149.172.5.20130104.83257.6993772', 'bes_la_jan 4_2013.csv', '1.2.124.113532.10.149.172.5.20130104.83257.6993772_nifti_CT.nii', '1.2.124.113532.10.149.172.5.20130104.83257.6993772_nifti_PT.nii']\n",
      "['BES,LA', '13011101331006', '1.2.124.113532.10.149.172.5.20130213.83635.7098207', 'bes_la_feb 13_2013.csv', '1.2.124.113532.10.149.172.5.20130213.83635.7098207_nifti_PT.nii', '1.2.124.113532.10.149.172.5.20130213.83635.7098207_nifti_CT.nii']\n"
     ]
    }
   ],
   "source": [
    "print(pet_2[0])\n",
    "print(pet_4[0])"
   ]
  },
  {
   "cell_type": "code",
   "execution_count": 20,
   "metadata": {},
   "outputs": [
    {
     "name": "stdout",
     "output_type": "stream",
     "text": [
      "652\n"
     ]
    }
   ],
   "source": [
    "sorted_pet_2 = []\n",
    "for serie in pet_2 : \n",
    "    sub = []\n",
    "    sub.append(serie[0])\n",
    "    sub.append(serie[1])\n",
    "    sub.append(serie[2])\n",
    "    if 'CT' in serie[4] :\n",
    "        sub.append(serie[4])\n",
    "        sub.append(serie[5])\n",
    "\n",
    "    else : \n",
    "        sub.append(serie[5])\n",
    "        sub.append(serie[4])\n",
    "\n",
    "    #sorted_serie = sorted(serie)\n",
    "    sub.append(\"pet2\")\n",
    "    sorted_pet_2.append(sub)\n",
    "\n",
    "print(len(sorted_pet_2))\n"
   ]
  },
  {
   "cell_type": "code",
   "execution_count": 21,
   "metadata": {},
   "outputs": [
    {
     "name": "stdout",
     "output_type": "stream",
     "text": [
      "525\n"
     ]
    }
   ],
   "source": [
    "sorted_pet_4 = []\n",
    "for serie in pet_4 :\n",
    "    sub = []\n",
    "    sub.append(serie[0])\n",
    "    sub.append(serie[1])\n",
    "    sub.append(serie[2])\n",
    "    if 'CT' in serie[4] :\n",
    "        sub.append(serie[4])\n",
    "        sub.append(serie[5])\n",
    "\n",
    "    else : \n",
    "        sub.append(serie[5])\n",
    "        sub.append(serie[4])\n",
    "\n",
    "    #sorted_serie = sorted(serie)\n",
    "    sub.append(\"pet4\")\n",
    "    sorted_pet_4.append(sub)\n",
    "\n",
    "print(len(sorted_pet_4))"
   ]
  },
  {
   "cell_type": "code",
   "execution_count": 22,
   "metadata": {},
   "outputs": [
    {
     "name": "stdout",
     "output_type": "stream",
     "text": [
      "['BES,LA', '13011101331006', '1.2.124.113532.10.149.172.5.20130104.83257.6993772', '1.2.124.113532.10.149.172.5.20130104.83257.6993772_nifti_CT.nii', '1.2.124.113532.10.149.172.5.20130104.83257.6993772_nifti_PT.nii', 'pet2']\n",
      "['BES,LA', '13011101331006', '1.2.124.113532.10.149.172.5.20130213.83635.7098207', '1.2.124.113532.10.149.172.5.20130213.83635.7098207_nifti_CT.nii', '1.2.124.113532.10.149.172.5.20130213.83635.7098207_nifti_PT.nii', 'pet4']\n"
     ]
    }
   ],
   "source": [
    "print(sorted_pet_2[0])\n",
    "print(sorted_pet_4[0])"
   ]
  },
  {
   "cell_type": "code",
   "execution_count": 141,
   "metadata": {},
   "outputs": [],
   "source": [
    "#print(len(new_liste))"
   ]
  },
  {
   "cell_type": "code",
   "execution_count": 11,
   "metadata": {},
   "outputs": [
    {
     "name": "stdout",
     "output_type": "stream",
     "text": [
      "578\n"
     ]
    }
   ],
   "source": [
    "#TRIER LA LISTE POUR ENSUITE ECRIRE LE CSV\n",
    "#sorted_serie = []\n",
    "#for serie in new_liste : \n",
    "    #sorted_serie.append(sorted(serie))\n",
    "#print(len(sorted_serie))\n"
   ]
  },
  {
   "cell_type": "code",
   "execution_count": 23,
   "metadata": {},
   "outputs": [
    {
     "name": "stdout",
     "output_type": "stream",
     "text": [
      "['BES,LA', '13011101331006', '1.2.124.113532.10.149.172.5.20130104.83257.6993772', '1.2.124.113532.10.149.172.5.20130104.83257.6993772_nifti_CT.nii', '1.2.124.113532.10.149.172.5.20130104.83257.6993772_nifti_PT.nii', 'pet2']\n",
      "['MOR,GU', '13011101481003', '2.16.56.465769650.3867004694.402311097', '2.16.56.465769650.3867004694.402311097_nifti_CT.nii', '2.16.56.465769650.3867004694.402311097_nifti_PT.nii', 'pet2']\n"
     ]
    }
   ],
   "source": [
    "print(sorted_pet_2[0])\n",
    "print(sorted_pet_2[79])"
   ]
  },
  {
   "cell_type": "code",
   "execution_count": 25,
   "metadata": {},
   "outputs": [],
   "source": [
    "#ECRIRE CSV \n",
    "\n",
    "nifti_directory = '/media/salim/DD 2To/AHL2011_NIFTI_PET24'\n",
    "\n",
    "with open(os.path.join(nifti_directory, 'AHL2011_PET24_NIFTI.csv'), 'w') as csv_file : \n",
    "    csv_writer = csv.writer(csv_file, delimiter=',', quotechar='\"', quoting=csv.QUOTE_MINIMAL)\n",
    "    csv_writer.writerow([\"PATIENT NAME\", \"PATIENT ID\", \"STUDY UID\", \"PET\", \"NIFTI_CT\", \"NIFTI_PET\", \"NIFTI_MASK\"])\n",
    "    for serie in sorted_pet_2: \n",
    "        csv_writer.writerow([serie[0], serie[1], serie[2], serie[5], os.path.join(nifti_directory,serie[3]), os.path.join(nifti_directory,serie[4]), ' '])\n",
    "\n",
    "    for serie in sorted_pet_4: \n",
    "        csv_writer.writerow([serie[0], serie[1], serie[2], serie[5], os.path.join(nifti_directory,serie[3]), os.path.join(nifti_directory,serie[4]), ' '])\n"
   ]
  },
  {
   "cell_type": "code",
   "execution_count": 2,
   "metadata": {},
   "outputs": [],
   "source": [
    "#REUNITE CSV \n",
    "\n",
    "csv_pet0 = '/media/storage/AHL2011_NIFTI/AHL2011_PET0_NIFTI.csv'\n",
    "\n",
    "with open(csv_pet0, 'r') as csv_file :\n",
    "    reader = csv.reader(csv_file, delimiter = ',') #liste pour chaque ligne \n",
    "    csv_data_pet0 = []\n",
    "    for row in reader :\n",
    "        csv_data_pet0.append(row)\n",
    "        \n",
    "del csv_data_pet0[0] #enlever première ligne"
   ]
  },
  {
   "cell_type": "code",
   "execution_count": 3,
   "metadata": {},
   "outputs": [],
   "source": [
    "for serie in csv_data_pet0 : \n",
    "    ct = serie[4].split('/')[4:]\n",
    "    ct = '/'.join(ct)\n",
    "    pt = serie[5].split('/')[4:]\n",
    "    pt = '/'.join(pt)\n",
    "    mask = serie[6].split('/')[4:]\n",
    "    mask = '/'.join(mask)\n",
    "    \n",
    "    serie[4] = ct\n",
    "    serie[5] = pt\n",
    "    serie[6] = mask "
   ]
  },
  {
   "cell_type": "code",
   "execution_count": 4,
   "metadata": {},
   "outputs": [
    {
     "data": {
      "text/plain": [
       "578"
      ]
     },
     "execution_count": 4,
     "metadata": {},
     "output_type": "execute_result"
    }
   ],
   "source": [
    "len(csv_data_pet0)"
   ]
  },
  {
   "cell_type": "code",
   "execution_count": 9,
   "metadata": {},
   "outputs": [
    {
     "data": {
      "text/plain": [
       "['CON,DA',\n",
       " '13011101331015',\n",
       " '1.2.124.113532.10.149.172.5.20131107.93455.7725981',\n",
       " 'pet0',\n",
       " 'AHL2011_NIFTI/1.2.124.113532.10.149.172.5.20131107.93455.7725981_nifti_CT.nii',\n",
       " 'AHL2011_NIFTI/1.2.124.113532.10.149.172.5.20131107.93455.7725981_nifti_PT.nii',\n",
       " 'AHL2011_NIFTI/1.2.124.113532.10.149.172.5.20131107.93455.7725981_nifti_mask.nii']"
      ]
     },
     "execution_count": 9,
     "metadata": {},
     "output_type": "execute_result"
    }
   ],
   "source": [
    "csv_data_pet0[0]"
   ]
  },
  {
   "cell_type": "code",
   "execution_count": 5,
   "metadata": {},
   "outputs": [],
   "source": [
    "csv_pet24= '/media/storage/AHL2011_NIFTI_PET24/AHL2011_PET24_NIFTI.csv'\n",
    "\n",
    "with open(csv_pet24, 'r') as csv_file :\n",
    "    reader = csv.reader(csv_file, delimiter = ',') #liste pour chaque ligne \n",
    "    csv_data_pet24 = []\n",
    "    for row in reader :\n",
    "        csv_data_pet24.append(row)\n",
    "        \n",
    "del csv_data_pet24[0] #enlever première ligne"
   ]
  },
  {
   "cell_type": "code",
   "execution_count": 6,
   "metadata": {},
   "outputs": [],
   "source": [
    "for serie in csv_data_pet24 : \n",
    "    ct = serie[4].split('/')[4:]\n",
    "    ct = '/'.join(ct)\n",
    "    pt = serie[5].split('/')[4:]\n",
    "    pt = '/'.join(pt)\n",
    "    mask = serie[6].split('/')[4:]\n",
    "    mask = '/'.join(mask)\n",
    "    \n",
    "    serie[4] = ct\n",
    "    serie[5] = pt\n",
    "    serie[6] = mask "
   ]
  },
  {
   "cell_type": "code",
   "execution_count": 7,
   "metadata": {},
   "outputs": [
    {
     "data": {
      "text/plain": [
       "1177"
      ]
     },
     "execution_count": 7,
     "metadata": {},
     "output_type": "execute_result"
    }
   ],
   "source": [
    "len(csv_data_pet24)"
   ]
  },
  {
   "cell_type": "code",
   "execution_count": 10,
   "metadata": {},
   "outputs": [
    {
     "data": {
      "text/plain": [
       "['BES,LA',\n",
       " '13011101331006',\n",
       " '1.2.124.113532.10.149.172.5.20130104.83257.6993772',\n",
       " 'pet2',\n",
       " 'AHL2011_NIFTI_PET24/1.2.124.113532.10.149.172.5.20130104.83257.6993772_nifti_CT.nii',\n",
       " 'AHL2011_NIFTI_PET24/1.2.124.113532.10.149.172.5.20130104.83257.6993772_nifti_PT.nii',\n",
       " '']"
      ]
     },
     "execution_count": 10,
     "metadata": {},
     "output_type": "execute_result"
    }
   ],
   "source": [
    "csv_data_pet24[0]"
   ]
  },
  {
   "cell_type": "code",
   "execution_count": 11,
   "metadata": {},
   "outputs": [],
   "source": [
    "nifti_directory_pet0 = '/media/storage'\n",
    "nifti_directory_pet24 = '/media/storage'\n",
    "\n",
    "with open(os.path.join('/media/storage', 'AHL2011_NIFTI.csv'), 'w') as csv_file : \n",
    "    csv_writer = csv.writer(csv_file, delimiter=',', quotechar='\"', quoting=csv.QUOTE_MINIMAL)\n",
    "    csv_writer.writerow([\"PATIENT NAME\", \"PATIENT ID\", \"STUDY UID\", \"PET\", \"NIFTI_CT\", \"NIFTI_PET\", \"NIFTI_MASK\"])\n",
    "    for serie in csv_data_pet0: \n",
    "        csv_writer.writerow([serie[0], serie[1], serie[2], serie[3], os.path.join(nifti_directory_pet0,serie[4]), os.path.join(nifti_directory_pet0,serie[5]), os.path.join(nifti_directory_pet0,serie[6])])\n",
    "\n",
    "    for serie in csv_data_pet24: \n",
    "        csv_writer.writerow([serie[0], serie[1], serie[2], serie[3], os.path.join(nifti_directory_pet24,serie[4]), os.path.join(nifti_directory_pet24,serie[5]), ' '])"
   ]
  },
  {
   "cell_type": "code",
   "execution_count": null,
   "metadata": {},
   "outputs": [],
   "source": []
  },
  {
   "cell_type": "code",
   "execution_count": null,
   "metadata": {},
   "outputs": [],
   "source": []
  }
 ],
 "metadata": {
  "file_extension": ".py",
  "kernelspec": {
   "display_name": "Python 3.8.2 64-bit",
   "language": "python",
   "name": "python38264bit4afc185bc98b42c389abdbb3fbeec8dd"
  },
  "language_info": {
   "codemirror_mode": {
    "name": "ipython",
    "version": 3
   },
   "file_extension": ".py",
   "mimetype": "text/x-python",
   "name": "python",
   "nbconvert_exporter": "python",
   "pygments_lexer": "ipython3",
   "version": "3.8.2-final"
  },
  "mimetype": "text/x-python",
  "name": "python",
  "npconvert_exporter": "python",
  "pygments_lexer": "ipython3",
  "version": 3
 },
 "nbformat": 4,
 "nbformat_minor": 2
}