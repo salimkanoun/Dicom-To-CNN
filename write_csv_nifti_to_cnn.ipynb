{
 "cells": [
  {
   "cell_type": "code",
   "execution_count": 1,
   "metadata": {},
   "outputs": [],
   "source": [
    "import json\n",
    "import os\n",
    "from library_dicom.dicom_processor.tools.folders import *\n",
    "\n",
    "from library_dicom.dicom_processor.tools.create_mip import *\n",
    "from library_dicom.dicom_processor.tools.threshold_mask import *\n",
    "\n",
    "import numpy as np\n",
    "import SimpleITK as sitk\n",
    "\n",
    "import csv"
   ]
  },
  {
   "cell_type": "code",
   "execution_count": null,
   "metadata": {},
   "outputs": [],
   "source": []
  },
  {
   "cell_type": "code",
   "execution_count": 3,
   "metadata": {},
   "outputs": [],
   "source": [
    "#PET4\n",
    "\n",
    "csv_pet4_path = '/media/deeplearning/78ca2911-9e9f-4f78-b80a-848024b95f92/GAINED_CSV_DATA/Export_Gained/data.csv'\n",
    "\n",
    "with open(csv_pet4_path, 'r') as csv_file :\n",
    "    reader = csv.reader(csv_file, delimiter = ',') #liste pour chaque ligne \n",
    "    csv_data = []\n",
    "    for row in reader :\n",
    "        csv_data.append(row)\n",
    "        \n",
    "del csv_data[0] #enlever première ligne\n"
   ]
  },
  {
   "cell_type": "code",
   "execution_count": 8,
   "metadata": {},
   "outputs": [
    {
     "output_type": "execute_result",
     "data": {
      "text/plain": "['alina',\n '11011101021001',\n '0',\n '8',\n '1.2.840.113704.1.111.3296.1350645932.9',\n '2012-10-19',\n '0',\n '0',\n '0',\n 'review8.csv',\n '4',\n '37.34',\n 'Adrenal',\n '12.6',\n 'Adrenal',\n '1.43',\n '1.17',\n '0.15',\n '2.56',\n '2.06',\n '0.18',\n '2.29',\n '1.64',\n '0.35',\n '0',\n '10.1',\n '2.13',\n '1.56',\n '0.2',\n '0',\n 'Missing Review',\n 'Missing Review',\n 'Missing Review',\n 'Missing Review',\n 'Missing Review',\n 'Missing Review',\n 'Missing Review',\n 'Missing Review',\n 'Missing Review',\n 'Missing Review',\n 'Missing Review',\n 'Missing Review',\n 'Missing Review',\n 'Missing Review',\n 'Missing Review',\n 'Missing Review',\n 'Missing Review',\n 'Missing Review',\n 'Missing Review',\n 'Missing Review',\n 'Missing Review',\n 'Missing Review',\n 'Missing Review',\n 'Missing Review',\n 'Missing Review',\n 'Missing Review',\n 'Missing Review',\n 'Missing Review',\n 'Missing Review',\n 'Missing Review',\n 'Missing Review',\n 'Missing Review',\n 'Missing Review',\n 'Missing Review',\n 'Missing Review',\n 'Missing Review',\n 'Missing Review',\n 'Missing Review']"
     },
     "metadata": {},
     "execution_count": 8
    }
   ],
   "source": [
    "csv_data[0]"
   ]
  },
  {
   "cell_type": "code",
   "execution_count": 7,
   "metadata": {},
   "outputs": [
    {
     "output_type": "execute_result",
     "data": {
      "text/plain": "'1.2.840.113704.1.111.4636.1364288605.3'"
     },
     "metadata": {},
     "execution_count": 7
    }
   ],
   "source": [
    "csv_data[1][51]"
   ]
  },
  {
   "cell_type": "code",
   "execution_count": null,
   "metadata": {},
   "outputs": [],
   "source": []
  },
  {
   "cell_type": "code",
   "execution_count": 5,
   "metadata": {},
   "outputs": [],
   "source": [
    "nifti_directory = '/media/deeplearning/78ca2911-9e9f-4f78-b80a-848024b95f92/GAINED_NIFTI_PET4'\n",
    "liste_nifti = os.listdir(nifti_directory)"
   ]
  },
  {
   "cell_type": "code",
   "execution_count": 6,
   "metadata": {
    "tags": []
   },
   "outputs": [],
   "source": [
    "liste = []\n",
    "for row in csv_data : \n",
    "    subliste = []\n",
    "    #subliste.append(row[0])\n",
    "    subliste.append(row[1])\n",
    "    subliste.append(row[51])\n",
    "    study_uid = row[51]\n",
    "    subsubliste = []\n",
    "    for nifti in liste_nifti : \n",
    "        if study_uid in nifti: \n",
    "            subsubliste.append(nifti)\n",
    "    if len(subsubliste) == 2 : \n",
    "        subsubliste = sorted(subsubliste)\n",
    "        #print(subsubliste)\n",
    "        subliste.append(subsubliste[0])\n",
    "        subliste.append(subsubliste[1])\n",
    "        #subliste.append(subsubliste[2])\n",
    "    else : \n",
    "        pass\n",
    "    subliste.append(\"pet4\")\n",
    "    liste.append(subliste)\n",
    "\n"
   ]
  },
  {
   "cell_type": "code",
   "execution_count": 7,
   "metadata": {},
   "outputs": [
    {
     "output_type": "execute_result",
     "data": {
      "text/plain": "728"
     },
     "metadata": {},
     "execution_count": 7
    }
   ],
   "source": [
    "len(liste)"
   ]
  },
  {
   "cell_type": "code",
   "execution_count": 8,
   "metadata": {},
   "outputs": [
    {
     "output_type": "execute_result",
     "data": {
      "text/plain": "['11011101021011',\n '1.2.250.1.59.470.940100027.1.20140619143155.5902.130185',\n '1.2.250.1.59.470.940100027.1.20140619143155.5902.130185_nifti_CT.nii',\n '1.2.250.1.59.470.940100027.1.20140619143155.5902.130185_nifti_PT.nii',\n 'pet4']"
     },
     "metadata": {},
     "execution_count": 8
    }
   ],
   "source": [
    "liste[10]"
   ]
  },
  {
   "cell_type": "code",
   "execution_count": 9,
   "metadata": {},
   "outputs": [],
   "source": [
    "#clean -> if len != 6 \n",
    "#doit y avoir 573\n",
    "completed_liste = []\n",
    "for serie in liste : \n",
    "    if len(serie) == 5 : \n",
    "        completed_liste.append(serie)\n"
   ]
  },
  {
   "cell_type": "code",
   "execution_count": 10,
   "metadata": {},
   "outputs": [
    {
     "output_type": "execute_result",
     "data": {
      "text/plain": "586"
     },
     "metadata": {},
     "execution_count": 10
    }
   ],
   "source": [
    "len(completed_liste)"
   ]
  },
  {
   "cell_type": "code",
   "execution_count": 11,
   "metadata": {},
   "outputs": [],
   "source": [
    "new_liste = []\n",
    "new_liste.append(completed_liste[0])\n",
    "for i in range(1, len(completed_liste)) :\n",
    "    if completed_liste[i] not in new_liste : \n",
    "        new_liste.append(completed_liste[i])"
   ]
  },
  {
   "cell_type": "code",
   "execution_count": 12,
   "metadata": {},
   "outputs": [
    {
     "output_type": "execute_result",
     "data": {
      "text/plain": "527"
     },
     "metadata": {},
     "execution_count": 12
    }
   ],
   "source": [
    "len(new_liste)"
   ]
  },
  {
   "cell_type": "code",
   "execution_count": 24,
   "metadata": {},
   "outputs": [
    {
     "output_type": "execute_result",
     "data": {
      "text/plain": "['11011101021014',\n '1.2.840.113704.1.111.3608.1434978016.23',\n '1.2.840.113704.1.111.3608.1434978016.23_nifti_CT.nii',\n '1.2.840.113704.1.111.3608.1434978016.23_nifti_PT.nii',\n 'pet2']"
     },
     "metadata": {},
     "execution_count": 24
    }
   ],
   "source": [
    "new_liste[10]"
   ]
  },
  {
   "cell_type": "code",
   "execution_count": 13,
   "metadata": {},
   "outputs": [],
   "source": [
    "import shutil"
   ]
  },
  {
   "cell_type": "code",
   "execution_count": 16,
   "metadata": {},
   "outputs": [
    {
     "output_type": "execute_result",
     "data": {
      "text/plain": "['11011101021004',\n '1.2.840.113704.1.111.2304.1369728102.4',\n '1.2.840.113704.1.111.2304.1369728102.4_nifti_CT.nii',\n '1.2.840.113704.1.111.2304.1369728102.4_nifti_PT.nii',\n 'pet4']"
     },
     "metadata": {},
     "execution_count": 16
    }
   ],
   "source": [
    "new_liste[1]"
   ]
  },
  {
   "cell_type": "code",
   "execution_count": 19,
   "metadata": {
    "tags": [
     "outputPrepend"
    ]
   },
   "outputs": [
    {
     "output_type": "stream",
     "name": "stdout",
     "text": "8024b95f92/GAINED_NIFTI/11011108371001 Dossier patient déjà crée\n/media/deeplearning/78ca2911-9e9f-4f78-b80a-848024b95f92/GAINED_NIFTI/11011108371001/pet4 created\n/media/deeplearning/78ca2911-9e9f-4f78-b80a-848024b95f92/GAINED_NIFTI/11011108371002 Dossier patient déjà crée\n/media/deeplearning/78ca2911-9e9f-4f78-b80a-848024b95f92/GAINED_NIFTI/11011108371002/pet4 created\n/media/deeplearning/78ca2911-9e9f-4f78-b80a-848024b95f92/GAINED_NIFTI/11011108371003 Dossier patient déjà crée\n/media/deeplearning/78ca2911-9e9f-4f78-b80a-848024b95f92/GAINED_NIFTI/11011108371003/pet4 created\n/media/deeplearning/78ca2911-9e9f-4f78-b80a-848024b95f92/GAINED_NIFTI/11011108371004 Dossier patient déjà crée\n/media/deeplearning/78ca2911-9e9f-4f78-b80a-848024b95f92/GAINED_NIFTI/11011108371004/pet4 created\n/media/deeplearning/78ca2911-9e9f-4f78-b80a-848024b95f92/GAINED_NIFTI/11011108611001 Dossier patient déjà crée\n/media/deeplearning/78ca2911-9e9f-4f78-b80a-848024b95f92/GAINED_NIFTI/11011108611001/pet4 created\n/media/deeplearning/78ca2911-9e9f-4f78-b80a-848024b95f92/GAINED_NIFTI/11011108611002 Dossier patient déjà crée\n/media/deeplearning/78ca2911-9e9f-4f78-b80a-848024b95f92/GAINED_NIFTI/11011108611002/pet4 created\n/media/deeplearning/78ca2911-9e9f-4f78-b80a-848024b95f92/GAINED_NIFTI/11011109131001 Dossier patient déjà crée\n/media/deeplearning/78ca2911-9e9f-4f78-b80a-848024b95f92/GAINED_NIFTI/11011109131001/pet4 created\n/media/deeplearning/78ca2911-9e9f-4f78-b80a-848024b95f92/GAINED_NIFTI/11011109131002 Dossier patient déjà crée\n/media/deeplearning/78ca2911-9e9f-4f78-b80a-848024b95f92/GAINED_NIFTI/11011109131002/pet4 created\n/media/deeplearning/78ca2911-9e9f-4f78-b80a-848024b95f92/GAINED_NIFTI/11011109131003 Dossier patient déjà crée\n/media/deeplearning/78ca2911-9e9f-4f78-b80a-848024b95f92/GAINED_NIFTI/11011109131003/pet4 created\n/media/deeplearning/78ca2911-9e9f-4f78-b80a-848024b95f92/GAINED_NIFTI/11011109131005 Dossier patient déjà crée\n/media/deeplearning/78ca2911-9e9f-4f78-b80a-848024b95f92/GAINED_NIFTI/11011109131005/pet4 created\n/media/deeplearning/78ca2911-9e9f-4f78-b80a-848024b95f92/GAINED_NIFTI/51011101111001 Dossier patient déjà crée\n/media/deeplearning/78ca2911-9e9f-4f78-b80a-848024b95f92/GAINED_NIFTI/51011101111001/pet4 created\n/media/deeplearning/78ca2911-9e9f-4f78-b80a-848024b95f92/GAINED_NIFTI/51011101111002 created\n/media/deeplearning/78ca2911-9e9f-4f78-b80a-848024b95f92/GAINED_NIFTI/51011101111002/pet4 created\n/media/deeplearning/78ca2911-9e9f-4f78-b80a-848024b95f92/GAINED_NIFTI/51011101111003 Dossier patient déjà crée\n/media/deeplearning/78ca2911-9e9f-4f78-b80a-848024b95f92/GAINED_NIFTI/51011101111003/pet4 created\n/media/deeplearning/78ca2911-9e9f-4f78-b80a-848024b95f92/GAINED_NIFTI/51011101111005 Dossier patient déjà crée\n/media/deeplearning/78ca2911-9e9f-4f78-b80a-848024b95f92/GAINED_NIFTI/51011101111005/pet4 created\n/media/deeplearning/78ca2911-9e9f-4f78-b80a-848024b95f92/GAINED_NIFTI/51011101111006 Dossier patient déjà crée\n/media/deeplearning/78ca2911-9e9f-4f78-b80a-848024b95f92/GAINED_NIFTI/51011101111006/pet4 created\n/media/deeplearning/78ca2911-9e9f-4f78-b80a-848024b95f92/GAINED_NIFTI/51011101261001 Dossier patient déjà crée\n/media/deeplearning/78ca2911-9e9f-4f78-b80a-848024b95f92/GAINED_NIFTI/51011101261001/pet4 created\n/media/deeplearning/78ca2911-9e9f-4f78-b80a-848024b95f92/GAINED_NIFTI/51011101261002 Dossier patient déjà crée\n/media/deeplearning/78ca2911-9e9f-4f78-b80a-848024b95f92/GAINED_NIFTI/51011101261002/pet4 created\n/media/deeplearning/78ca2911-9e9f-4f78-b80a-848024b95f92/GAINED_NIFTI/51011101261003 Dossier patient déjà crée\n/media/deeplearning/78ca2911-9e9f-4f78-b80a-848024b95f92/GAINED_NIFTI/51011101261003/pet4 created\n/media/deeplearning/78ca2911-9e9f-4f78-b80a-848024b95f92/GAINED_NIFTI/51011101261004 Dossier patient déjà crée\n/media/deeplearning/78ca2911-9e9f-4f78-b80a-848024b95f92/GAINED_NIFTI/51011101261004/pet4 created\n/media/deeplearning/78ca2911-9e9f-4f78-b80a-848024b95f92/GAINED_NIFTI/51011101261005 Dossier patient déjà crée\n/media/deeplearning/78ca2911-9e9f-4f78-b80a-848024b95f92/GAINED_NIFTI/51011101261005/pet4 created\n/media/deeplearning/78ca2911-9e9f-4f78-b80a-848024b95f92/GAINED_NIFTI/51011101261006 Dossier patient déjà crée\n/media/deeplearning/78ca2911-9e9f-4f78-b80a-848024b95f92/GAINED_NIFTI/51011101261006/pet4 created\n/media/deeplearning/78ca2911-9e9f-4f78-b80a-848024b95f92/GAINED_NIFTI/51011101261007 Dossier patient déjà crée\n/media/deeplearning/78ca2911-9e9f-4f78-b80a-848024b95f92/GAINED_NIFTI/51011101261007/pet4 created\n/media/deeplearning/78ca2911-9e9f-4f78-b80a-848024b95f92/GAINED_NIFTI/51011101261008 Dossier patient déjà crée\n/media/deeplearning/78ca2911-9e9f-4f78-b80a-848024b95f92/GAINED_NIFTI/51011101261008/pet4 created\n/media/deeplearning/78ca2911-9e9f-4f78-b80a-848024b95f92/GAINED_NIFTI/51011101261009 Dossier patient déjà crée\n/media/deeplearning/78ca2911-9e9f-4f78-b80a-848024b95f92/GAINED_NIFTI/51011101261009/pet4 created\n/media/deeplearning/78ca2911-9e9f-4f78-b80a-848024b95f92/GAINED_NIFTI/51011101261010 Dossier patient déjà crée\n/media/deeplearning/78ca2911-9e9f-4f78-b80a-848024b95f92/GAINED_NIFTI/51011101261010/pet4 created\n/media/deeplearning/78ca2911-9e9f-4f78-b80a-848024b95f92/GAINED_NIFTI/51011101261011 Dossier patient déjà crée\n/media/deeplearning/78ca2911-9e9f-4f78-b80a-848024b95f92/GAINED_NIFTI/51011101261011/pet4 created\n/media/deeplearning/78ca2911-9e9f-4f78-b80a-848024b95f92/GAINED_NIFTI/51011101261012 Dossier patient déjà crée\n/media/deeplearning/78ca2911-9e9f-4f78-b80a-848024b95f92/GAINED_NIFTI/51011101261012/pet4 created\n/media/deeplearning/78ca2911-9e9f-4f78-b80a-848024b95f92/GAINED_NIFTI/51011101261013 Dossier patient déjà crée\n/media/deeplearning/78ca2911-9e9f-4f78-b80a-848024b95f92/GAINED_NIFTI/51011101261013/pet4 created\n/media/deeplearning/78ca2911-9e9f-4f78-b80a-848024b95f92/GAINED_NIFTI/51011101291001 Dossier patient déjà crée\n/media/deeplearning/78ca2911-9e9f-4f78-b80a-848024b95f92/GAINED_NIFTI/51011101291001/pet4 created\n/media/deeplearning/78ca2911-9e9f-4f78-b80a-848024b95f92/GAINED_NIFTI/51011101291002 Dossier patient déjà crée\n/media/deeplearning/78ca2911-9e9f-4f78-b80a-848024b95f92/GAINED_NIFTI/51011101291002/pet4 created\n/media/deeplearning/78ca2911-9e9f-4f78-b80a-848024b95f92/GAINED_NIFTI/51011101301001 Dossier patient déjà crée\n/media/deeplearning/78ca2911-9e9f-4f78-b80a-848024b95f92/GAINED_NIFTI/51011101301001/pet4 created\n/media/deeplearning/78ca2911-9e9f-4f78-b80a-848024b95f92/GAINED_NIFTI/51011101301002 Dossier patient déjà crée\n/media/deeplearning/78ca2911-9e9f-4f78-b80a-848024b95f92/GAINED_NIFTI/51011101301002/pet4 created\n/media/deeplearning/78ca2911-9e9f-4f78-b80a-848024b95f92/GAINED_NIFTI/51011101371001 Dossier patient déjà crée\n/media/deeplearning/78ca2911-9e9f-4f78-b80a-848024b95f92/GAINED_NIFTI/51011101371001/pet4 created\n/media/deeplearning/78ca2911-9e9f-4f78-b80a-848024b95f92/GAINED_NIFTI/51011101371002 Dossier patient déjà crée\n/media/deeplearning/78ca2911-9e9f-4f78-b80a-848024b95f92/GAINED_NIFTI/51011101371002/pet4 created\n/media/deeplearning/78ca2911-9e9f-4f78-b80a-848024b95f92/GAINED_NIFTI/51011101371003 Dossier patient déjà crée\n/media/deeplearning/78ca2911-9e9f-4f78-b80a-848024b95f92/GAINED_NIFTI/51011101371003/pet4 created\n/media/deeplearning/78ca2911-9e9f-4f78-b80a-848024b95f92/GAINED_NIFTI/51011101371004 Dossier patient déjà crée\n/media/deeplearning/78ca2911-9e9f-4f78-b80a-848024b95f92/GAINED_NIFTI/51011101371004/pet4 created\n/media/deeplearning/78ca2911-9e9f-4f78-b80a-848024b95f92/GAINED_NIFTI/51011101371005 Dossier patient déjà crée\n/media/deeplearning/78ca2911-9e9f-4f78-b80a-848024b95f92/GAINED_NIFTI/51011101371005/pet4 created\n/media/deeplearning/78ca2911-9e9f-4f78-b80a-848024b95f92/GAINED_NIFTI/51011101371006 Dossier patient déjà crée\n/media/deeplearning/78ca2911-9e9f-4f78-b80a-848024b95f92/GAINED_NIFTI/51011101371006/pet4 created\n/media/deeplearning/78ca2911-9e9f-4f78-b80a-848024b95f92/GAINED_NIFTI/51011101371008 Dossier patient déjà crée\n/media/deeplearning/78ca2911-9e9f-4f78-b80a-848024b95f92/GAINED_NIFTI/51011101371008/pet4 created\n/media/deeplearning/78ca2911-9e9f-4f78-b80a-848024b95f92/GAINED_NIFTI/51011101371009 Dossier patient déjà crée\n/media/deeplearning/78ca2911-9e9f-4f78-b80a-848024b95f92/GAINED_NIFTI/51011101371009/pet4 created\n/media/deeplearning/78ca2911-9e9f-4f78-b80a-848024b95f92/GAINED_NIFTI/51011101371010 Dossier patient déjà crée\n/media/deeplearning/78ca2911-9e9f-4f78-b80a-848024b95f92/GAINED_NIFTI/51011101371010/pet4 created\n/media/deeplearning/78ca2911-9e9f-4f78-b80a-848024b95f92/GAINED_NIFTI/51011101371011 Dossier patient déjà crée\n/media/deeplearning/78ca2911-9e9f-4f78-b80a-848024b95f92/GAINED_NIFTI/51011101371011/pet4 created\n/media/deeplearning/78ca2911-9e9f-4f78-b80a-848024b95f92/GAINED_NIFTI/51011101371012 Dossier patient déjà crée\n/media/deeplearning/78ca2911-9e9f-4f78-b80a-848024b95f92/GAINED_NIFTI/51011101371012/pet4 created\n/media/deeplearning/78ca2911-9e9f-4f78-b80a-848024b95f92/GAINED_NIFTI/51011101871002 Dossier patient déjà crée\n/media/deeplearning/78ca2911-9e9f-4f78-b80a-848024b95f92/GAINED_NIFTI/51011101871002/pet4 created\n/media/deeplearning/78ca2911-9e9f-4f78-b80a-848024b95f92/GAINED_NIFTI/51011101871003 Dossier patient déjà crée\n/media/deeplearning/78ca2911-9e9f-4f78-b80a-848024b95f92/GAINED_NIFTI/51011101871003/pet4 created\n/media/deeplearning/78ca2911-9e9f-4f78-b80a-848024b95f92/GAINED_NIFTI/51011101871004 Dossier patient déjà crée\n/media/deeplearning/78ca2911-9e9f-4f78-b80a-848024b95f92/GAINED_NIFTI/51011101871004/pet4 created\n/media/deeplearning/78ca2911-9e9f-4f78-b80a-848024b95f92/GAINED_NIFTI/51011101871005 Dossier patient déjà crée\n/media/deeplearning/78ca2911-9e9f-4f78-b80a-848024b95f92/GAINED_NIFTI/51011101871005/pet4 created\n/media/deeplearning/78ca2911-9e9f-4f78-b80a-848024b95f92/GAINED_NIFTI/51011101871008 Dossier patient déjà crée\n/media/deeplearning/78ca2911-9e9f-4f78-b80a-848024b95f92/GAINED_NIFTI/51011101871008/pet4 created\n/media/deeplearning/78ca2911-9e9f-4f78-b80a-848024b95f92/GAINED_NIFTI/51011101871009 Dossier patient déjà crée\n/media/deeplearning/78ca2911-9e9f-4f78-b80a-848024b95f92/GAINED_NIFTI/51011101871009/pet4 created\n/media/deeplearning/78ca2911-9e9f-4f78-b80a-848024b95f92/GAINED_NIFTI/51011101871011 Dossier patient déjà crée\n/media/deeplearning/78ca2911-9e9f-4f78-b80a-848024b95f92/GAINED_NIFTI/51011101871011/pet4 created\n/media/deeplearning/78ca2911-9e9f-4f78-b80a-848024b95f92/GAINED_NIFTI/51011101881001 Dossier patient déjà crée\n/media/deeplearning/78ca2911-9e9f-4f78-b80a-848024b95f92/GAINED_NIFTI/51011101881001/pet4 created\n/media/deeplearning/78ca2911-9e9f-4f78-b80a-848024b95f92/GAINED_NIFTI/51011101881002 Dossier patient déjà crée\n/media/deeplearning/78ca2911-9e9f-4f78-b80a-848024b95f92/GAINED_NIFTI/51011101881002/pet4 created\n/media/deeplearning/78ca2911-9e9f-4f78-b80a-848024b95f92/GAINED_NIFTI/51011101881003 Dossier patient déjà crée\n/media/deeplearning/78ca2911-9e9f-4f78-b80a-848024b95f92/GAINED_NIFTI/51011101881003/pet4 created\n/media/deeplearning/78ca2911-9e9f-4f78-b80a-848024b95f92/GAINED_NIFTI/51011101881004 Dossier patient déjà crée\n/media/deeplearning/78ca2911-9e9f-4f78-b80a-848024b95f92/GAINED_NIFTI/51011101881004/pet4 created\n/media/deeplearning/78ca2911-9e9f-4f78-b80a-848024b95f92/GAINED_NIFTI/51011101881005 Dossier patient déjà crée\n/media/deeplearning/78ca2911-9e9f-4f78-b80a-848024b95f92/GAINED_NIFTI/51011101881005/pet4 created\n/media/deeplearning/78ca2911-9e9f-4f78-b80a-848024b95f92/GAINED_NIFTI/51011101881006 Dossier patient déjà crée\n/media/deeplearning/78ca2911-9e9f-4f78-b80a-848024b95f92/GAINED_NIFTI/51011101881006/pet4 created\n/media/deeplearning/78ca2911-9e9f-4f78-b80a-848024b95f92/GAINED_NIFTI/51011101881007 Dossier patient déjà crée\n/media/deeplearning/78ca2911-9e9f-4f78-b80a-848024b95f92/GAINED_NIFTI/51011101881007/pet4 created\n/media/deeplearning/78ca2911-9e9f-4f78-b80a-848024b95f92/GAINED_NIFTI/51011101881008 Dossier patient déjà crée\n/media/deeplearning/78ca2911-9e9f-4f78-b80a-848024b95f92/GAINED_NIFTI/51011101881008/pet4 created\n/media/deeplearning/78ca2911-9e9f-4f78-b80a-848024b95f92/GAINED_NIFTI/51011101881009 Dossier patient déjà crée\n/media/deeplearning/78ca2911-9e9f-4f78-b80a-848024b95f92/GAINED_NIFTI/51011101881009/pet4 created\n/media/deeplearning/78ca2911-9e9f-4f78-b80a-848024b95f92/GAINED_NIFTI/51011101881010 Dossier patient déjà crée\n/media/deeplearning/78ca2911-9e9f-4f78-b80a-848024b95f92/GAINED_NIFTI/51011101881010/pet4 created\n/media/deeplearning/78ca2911-9e9f-4f78-b80a-848024b95f92/GAINED_NIFTI/51011101881011 Dossier patient déjà crée\n/media/deeplearning/78ca2911-9e9f-4f78-b80a-848024b95f92/GAINED_NIFTI/51011101881011/pet4 created\n/media/deeplearning/78ca2911-9e9f-4f78-b80a-848024b95f92/GAINED_NIFTI/51011101881012 Dossier patient déjà crée\n/media/deeplearning/78ca2911-9e9f-4f78-b80a-848024b95f92/GAINED_NIFTI/51011101881012/pet4 created\n/media/deeplearning/78ca2911-9e9f-4f78-b80a-848024b95f92/GAINED_NIFTI/51011101881013 Dossier patient déjà crée\n/media/deeplearning/78ca2911-9e9f-4f78-b80a-848024b95f92/GAINED_NIFTI/51011101881013/pet4 created\n/media/deeplearning/78ca2911-9e9f-4f78-b80a-848024b95f92/GAINED_NIFTI/51011101881014 Dossier patient déjà crée\n/media/deeplearning/78ca2911-9e9f-4f78-b80a-848024b95f92/GAINED_NIFTI/51011101881014/pet4 created\n/media/deeplearning/78ca2911-9e9f-4f78-b80a-848024b95f92/GAINED_NIFTI/51011101881015 Dossier patient déjà crée\n/media/deeplearning/78ca2911-9e9f-4f78-b80a-848024b95f92/GAINED_NIFTI/51011101881015/pet4 created\n/media/deeplearning/78ca2911-9e9f-4f78-b80a-848024b95f92/GAINED_NIFTI/51011101881016 Dossier patient déjà crée\n/media/deeplearning/78ca2911-9e9f-4f78-b80a-848024b95f92/GAINED_NIFTI/51011101881016/pet4 created\n/media/deeplearning/78ca2911-9e9f-4f78-b80a-848024b95f92/GAINED_NIFTI/51011101881017 Dossier patient déjà crée\n/media/deeplearning/78ca2911-9e9f-4f78-b80a-848024b95f92/GAINED_NIFTI/51011101881017/pet4 created\n/media/deeplearning/78ca2911-9e9f-4f78-b80a-848024b95f92/GAINED_NIFTI/51011101881018 Dossier patient déjà crée\n/media/deeplearning/78ca2911-9e9f-4f78-b80a-848024b95f92/GAINED_NIFTI/51011101881018/pet4 created\n/media/deeplearning/78ca2911-9e9f-4f78-b80a-848024b95f92/GAINED_NIFTI/51011101881019 Dossier patient déjà crée\n/media/deeplearning/78ca2911-9e9f-4f78-b80a-848024b95f92/GAINED_NIFTI/51011101881019/pet4 created\n/media/deeplearning/78ca2911-9e9f-4f78-b80a-848024b95f92/GAINED_NIFTI/51011101881020 Dossier patient déjà crée\n/media/deeplearning/78ca2911-9e9f-4f78-b80a-848024b95f92/GAINED_NIFTI/51011101881020/pet4 created\n/media/deeplearning/78ca2911-9e9f-4f78-b80a-848024b95f92/GAINED_NIFTI/51011101881021 Dossier patient déjà crée\n/media/deeplearning/78ca2911-9e9f-4f78-b80a-848024b95f92/GAINED_NIFTI/51011101881021/pet4 created\n/media/deeplearning/78ca2911-9e9f-4f78-b80a-848024b95f92/GAINED_NIFTI/51011101881023 Dossier patient déjà crée\n/media/deeplearning/78ca2911-9e9f-4f78-b80a-848024b95f92/GAINED_NIFTI/51011101881023/pet4 created\n/media/deeplearning/78ca2911-9e9f-4f78-b80a-848024b95f92/GAINED_NIFTI/51011101881024 Dossier patient déjà crée\n/media/deeplearning/78ca2911-9e9f-4f78-b80a-848024b95f92/GAINED_NIFTI/51011101881024/pet4 created\n/media/deeplearning/78ca2911-9e9f-4f78-b80a-848024b95f92/GAINED_NIFTI/51011101881025 Dossier patient déjà crée\n/media/deeplearning/78ca2911-9e9f-4f78-b80a-848024b95f92/GAINED_NIFTI/51011101881025/pet4 created\n/media/deeplearning/78ca2911-9e9f-4f78-b80a-848024b95f92/GAINED_NIFTI/51011101881026 Dossier patient déjà crée\n/media/deeplearning/78ca2911-9e9f-4f78-b80a-848024b95f92/GAINED_NIFTI/51011101881026/pet4 created\n/media/deeplearning/78ca2911-9e9f-4f78-b80a-848024b95f92/GAINED_NIFTI/51011101881027 Dossier patient déjà crée\n/media/deeplearning/78ca2911-9e9f-4f78-b80a-848024b95f92/GAINED_NIFTI/51011101881027/pet4 created\n/media/deeplearning/78ca2911-9e9f-4f78-b80a-848024b95f92/GAINED_NIFTI/51011101881028 Dossier patient déjà crée\n/media/deeplearning/78ca2911-9e9f-4f78-b80a-848024b95f92/GAINED_NIFTI/51011101881028/pet4 created\n/media/deeplearning/78ca2911-9e9f-4f78-b80a-848024b95f92/GAINED_NIFTI/51011101901002 Dossier patient déjà crée\n/media/deeplearning/78ca2911-9e9f-4f78-b80a-848024b95f92/GAINED_NIFTI/51011101901002/pet4 created\n/media/deeplearning/78ca2911-9e9f-4f78-b80a-848024b95f92/GAINED_NIFTI/51011101901003 Dossier patient déjà crée\n/media/deeplearning/78ca2911-9e9f-4f78-b80a-848024b95f92/GAINED_NIFTI/51011101901003/pet4 created\n/media/deeplearning/78ca2911-9e9f-4f78-b80a-848024b95f92/GAINED_NIFTI/51011101901004 Dossier patient déjà crée\n/media/deeplearning/78ca2911-9e9f-4f78-b80a-848024b95f92/GAINED_NIFTI/51011101901004/pet4 created\n/media/deeplearning/78ca2911-9e9f-4f78-b80a-848024b95f92/GAINED_NIFTI/51011101901005 Dossier patient déjà crée\n/media/deeplearning/78ca2911-9e9f-4f78-b80a-848024b95f92/GAINED_NIFTI/51011101901005/pet4 created\n/media/deeplearning/78ca2911-9e9f-4f78-b80a-848024b95f92/GAINED_NIFTI/51011101901006 Dossier patient déjà crée\n/media/deeplearning/78ca2911-9e9f-4f78-b80a-848024b95f92/GAINED_NIFTI/51011101901006/pet4 created\n/media/deeplearning/78ca2911-9e9f-4f78-b80a-848024b95f92/GAINED_NIFTI/51011101901007 Dossier patient déjà crée\n/media/deeplearning/78ca2911-9e9f-4f78-b80a-848024b95f92/GAINED_NIFTI/51011101901007/pet4 created\n/media/deeplearning/78ca2911-9e9f-4f78-b80a-848024b95f92/GAINED_NIFTI/51011102161001 Dossier patient déjà crée\n/media/deeplearning/78ca2911-9e9f-4f78-b80a-848024b95f92/GAINED_NIFTI/51011102161001/pet4 created\n/media/deeplearning/78ca2911-9e9f-4f78-b80a-848024b95f92/GAINED_NIFTI/51011102161002 Dossier patient déjà crée\n/media/deeplearning/78ca2911-9e9f-4f78-b80a-848024b95f92/GAINED_NIFTI/51011102161002/pet4 created\n/media/deeplearning/78ca2911-9e9f-4f78-b80a-848024b95f92/GAINED_NIFTI/51011102161003 Dossier patient déjà crée\n/media/deeplearning/78ca2911-9e9f-4f78-b80a-848024b95f92/GAINED_NIFTI/51011102161003/pet4 created\n/media/deeplearning/78ca2911-9e9f-4f78-b80a-848024b95f92/GAINED_NIFTI/51011102171001 Dossier patient déjà crée\n/media/deeplearning/78ca2911-9e9f-4f78-b80a-848024b95f92/GAINED_NIFTI/51011102171001/pet4 created\n/media/deeplearning/78ca2911-9e9f-4f78-b80a-848024b95f92/GAINED_NIFTI/51011102171002 Dossier patient déjà crée\n/media/deeplearning/78ca2911-9e9f-4f78-b80a-848024b95f92/GAINED_NIFTI/51011102171002/pet4 created\n/media/deeplearning/78ca2911-9e9f-4f78-b80a-848024b95f92/GAINED_NIFTI/51011102171003 Dossier patient déjà crée\n/media/deeplearning/78ca2911-9e9f-4f78-b80a-848024b95f92/GAINED_NIFTI/51011102171003/pet4 created\n/media/deeplearning/78ca2911-9e9f-4f78-b80a-848024b95f92/GAINED_NIFTI/51011102171004 Dossier patient déjà crée\n/media/deeplearning/78ca2911-9e9f-4f78-b80a-848024b95f92/GAINED_NIFTI/51011102171004/pet4 created\n/media/deeplearning/78ca2911-9e9f-4f78-b80a-848024b95f92/GAINED_NIFTI/51011102171005 Dossier patient déjà crée\n/media/deeplearning/78ca2911-9e9f-4f78-b80a-848024b95f92/GAINED_NIFTI/51011102171005/pet4 created\n/media/deeplearning/78ca2911-9e9f-4f78-b80a-848024b95f92/GAINED_NIFTI/51011102171006 Dossier patient déjà crée\n/media/deeplearning/78ca2911-9e9f-4f78-b80a-848024b95f92/GAINED_NIFTI/51011102171006/pet4 created\n/media/deeplearning/78ca2911-9e9f-4f78-b80a-848024b95f92/GAINED_NIFTI/51011102171007 Dossier patient déjà crée\n/media/deeplearning/78ca2911-9e9f-4f78-b80a-848024b95f92/GAINED_NIFTI/51011102171007/pet4 created\n/media/deeplearning/78ca2911-9e9f-4f78-b80a-848024b95f92/GAINED_NIFTI/51011102171008 Dossier patient déjà crée\n/media/deeplearning/78ca2911-9e9f-4f78-b80a-848024b95f92/GAINED_NIFTI/51011102171008/pet4 created\n/media/deeplearning/78ca2911-9e9f-4f78-b80a-848024b95f92/GAINED_NIFTI/51011102171009 Dossier patient déjà crée\n/media/deeplearning/78ca2911-9e9f-4f78-b80a-848024b95f92/GAINED_NIFTI/51011102171009/pet4 created\n/media/deeplearning/78ca2911-9e9f-4f78-b80a-848024b95f92/GAINED_NIFTI/51011102181001 Dossier patient déjà crée\n/media/deeplearning/78ca2911-9e9f-4f78-b80a-848024b95f92/GAINED_NIFTI/51011102181001/pet4 created\n"
    }
   ],
   "source": [
    "#creation sous dossier patient id -> pet0 -> mask ct pt \n",
    "\n",
    "for serie in new_liste: \n",
    "    patient_id = serie[0]\n",
    "    pet_type = serie[-1]\n",
    "    nifti_ct = serie[2]\n",
    "    nifti_pet = serie[3]\n",
    "        #nifti_mask = serie[5]\n",
    "\n",
    "    folder = '/media/deeplearning/78ca2911-9e9f-4f78-b80a-848024b95f92/GAINED_NIFTI'+'/'+patient_id\n",
    "\n",
    "    if not os.path.exists(folder):\n",
    "        os.makedirs(folder)\n",
    "        print(folder, 'created')\n",
    "    else : print(folder, \"Dossier patient déjà crée\")\n",
    "\n",
    "    subfolder = folder+'/'+pet_type\n",
    "    if not os.path.exists(subfolder) :\n",
    "        os.makedirs(subfolder)\n",
    "        print(subfolder, 'created')\n",
    "    else : print(subfolder, \"déjà crée => prblm\")\n",
    "\n",
    "    ct_path = '/media/deeplearning/78ca2911-9e9f-4f78-b80a-848024b95f92/GAINED_NIFTI_PET4'+'/'+nifti_ct\n",
    "    pt_path = '/media/deeplearning/78ca2911-9e9f-4f78-b80a-848024b95f92/GAINED_NIFTI_PET4'+'/'+nifti_pet\n",
    "        #mask_path = '/media/deeplearning/78ca2911-9e9f-4f78-b80a-848024b95f92/FLIP_NIFTI'+'/'+nifti_mask\n",
    "\n",
    "    new_ct_path = subfolder+'/'+nifti_ct\n",
    "    new_pet_path = subfolder+'/'+nifti_pet\n",
    "        #new_mask_path = subfolder+'/'+nifti_mask\n",
    "    try : \n",
    "\n",
    "        os.rename(ct_path, subfolder+'/'+nifti_ct)\n",
    "        os.rename(pt_path, subfolder+'/'+nifti_pet)\n",
    "        #os.rename(mask_path, subfolder+'/'+nifti_mask)\n",
    "    except Exception as err : \n",
    "        print(err)\n"
   ]
  },
  {
   "cell_type": "code",
   "execution_count": 9,
   "metadata": {},
   "outputs": [],
   "source": [
    "\n",
    "\n",
    "nifti_directory = '/media/deeplearning/78ca2911-9e9f-4f78-b80a-848024b95f92/GAINED_NIFTI'\n",
    "\n"
   ]
  },
  {
   "cell_type": "code",
   "execution_count": null,
   "metadata": {},
   "outputs": [],
   "source": []
  },
  {
   "cell_type": "code",
   "execution_count": 10,
   "metadata": {},
   "outputs": [],
   "source": [
    "csv_pet4_path = '/media/deeplearning/78ca2911-9e9f-4f78-b80a-848024b95f92/GAINED_CSV_DATA/Export_Gained/data.csv'\n",
    "\n",
    "with open(csv_pet4_path, 'r') as csv_file :\n",
    "    reader = csv.reader(csv_file, delimiter = ',') #liste pour chaque ligne \n",
    "    csv_data = []\n",
    "    for row in reader :\n",
    "        csv_data.append(row)\n",
    "        \n",
    "del csv_data[0] #enlever première ligne"
   ]
  },
  {
   "cell_type": "code",
   "execution_count": 11,
   "metadata": {},
   "outputs": [
    {
     "output_type": "execute_result",
     "data": {
      "text/plain": "['alina',\n '11011101021001',\n '0',\n '8',\n '1.2.840.113704.1.111.3296.1350645932.9',\n '2012-10-19',\n '0',\n '0',\n '0',\n 'review8.csv',\n '4',\n '37.34',\n 'Adrenal',\n '12.6',\n 'Adrenal',\n '1.43',\n '1.17',\n '0.15',\n '2.56',\n '2.06',\n '0.18',\n '2.29',\n '1.64',\n '0.35',\n '0',\n '10.1',\n '2.13',\n '1.56',\n '0.2',\n '0',\n 'Missing Review',\n 'Missing Review',\n 'Missing Review',\n 'Missing Review',\n 'Missing Review',\n 'Missing Review',\n 'Missing Review',\n 'Missing Review',\n 'Missing Review',\n 'Missing Review',\n 'Missing Review',\n 'Missing Review',\n 'Missing Review',\n 'Missing Review',\n 'Missing Review',\n 'Missing Review',\n 'Missing Review',\n 'Missing Review',\n 'Missing Review',\n 'Missing Review',\n 'Missing Review',\n 'Missing Review',\n 'Missing Review',\n 'Missing Review',\n 'Missing Review',\n 'Missing Review',\n 'Missing Review',\n 'Missing Review',\n 'Missing Review',\n 'Missing Review',\n 'Missing Review',\n 'Missing Review',\n 'Missing Review',\n 'Missing Review',\n 'Missing Review',\n 'Missing Review',\n 'Missing Review',\n 'Missing Review']"
     },
     "metadata": {},
     "execution_count": 11
    }
   ],
   "source": [
    "csv_data[0]\n"
   ]
  },
  {
   "cell_type": "code",
   "execution_count": 19,
   "metadata": {},
   "outputs": [],
   "source": [
    "data = []\n",
    "for row in csv_data : \n",
    "    subliste = []\n",
    "    subliste.append(row[1])\n",
    "    subliste.append(row[51])\n",
    "    subliste.append('pet4')\n",
    "    if subliste[-2] != 'Missing Review' :\n",
    "        data.append(subliste)"
   ]
  },
  {
   "cell_type": "code",
   "execution_count": 23,
   "metadata": {},
   "outputs": [
    {
     "output_type": "execute_result",
     "data": {
      "text/plain": "['11011101031010',\n '1.2.840.113619.2.290.3.279710052.204.1392878330.491',\n 'pet4']"
     },
     "metadata": {},
     "execution_count": 23
    }
   ],
   "source": [
    "data[20]"
   ]
  },
  {
   "cell_type": "code",
   "execution_count": 24,
   "metadata": {},
   "outputs": [],
   "source": [
    "for serie in data:\n",
    "    folder = nifti_directory+'/'+serie[0]+'/'+'pet4'\n",
    "    if os.path.exists(folder): \n",
    "        extract = os.listdir(folder)\n",
    "        if 'CT' in extract[0] : \n",
    "            serie.append(folder+'/'+extract[0])\n",
    "            serie.append(folder+'/'+extract[1])\n",
    "        else : \n",
    "            serie.append(folder+'/'+extract[1])\n",
    "            serie.append(folder+'/'+extract[0])\n",
    "\n"
   ]
  },
  {
   "cell_type": "code",
   "execution_count": 27,
   "metadata": {},
   "outputs": [
    {
     "output_type": "execute_result",
     "data": {
      "text/plain": "['11011101031010',\n '1.2.840.113619.2.290.3.279710052.204.1392878330.491',\n 'pet4',\n '/media/deeplearning/78ca2911-9e9f-4f78-b80a-848024b95f92/GAINED_NIFTI/11011101031010/pet4/1.2.840.113619.2.290.3.279710052.204.1392878330.491_nifti_CT.nii',\n '/media/deeplearning/78ca2911-9e9f-4f78-b80a-848024b95f92/GAINED_NIFTI/11011101031010/pet4/1.2.840.113619.2.290.3.279710052.204.1392878330.491_nifti_PT.nii']"
     },
     "metadata": {},
     "execution_count": 27
    }
   ],
   "source": [
    "data[20]"
   ]
  },
  {
   "cell_type": "code",
   "execution_count": 31,
   "metadata": {
    "tags": []
   },
   "outputs": [
    {
     "output_type": "stream",
     "name": "stdout",
     "text": "['11011101051007', '1.2.250.1.74.20130808091500.60000025600407', 'pet4']\n['11011101051008', '1.2.250.1.74.20130823083500.60000025759284', 'pet4']\n['11011101051009', '1.2.250.1.74.20131021075500.60000026411911', 'pet4']\n['11011101051010', '1.2.250.1.74.20131021083500.60000026411852', 'pet4']\n['11011101051011', '7.1712131130122501742013112007500060000026721932', 'pet4']\n['51011102181002', '1.2.840.113619.2.55.3.279710477.550.1401430249.944', 'pet4']\n['51011102181003', '1.2.840.113619.2.55.3.279710477.311.1408947299.335', 'pet4']\n['51011102341001', '1.3.51.0.1.1.129.10.7.50.1308821.308851', 'pet4']\n['51011102341002', '2.16.840.1.113669.632.20.330001.10002000027', 'pet4']\n['51011102341003', '2.16.840.1.113669.632.20.330001.10002029541', 'pet4']\n['51011102341004', '2.16.840.1.113669.632.20.330001.10002146308', 'pet4']\n['51011102341005', '2.16.840.1.113669.632.20.330001.10002190354', 'pet4']\n['51011102341006', '1.2.840.113704.1.111.7820.1387364903.1', 'pet4']\n['51011102341007', '2.16.840.1.113669.632.20.330001.10002354304', 'pet4']\n['51011102341008', '1.2.840.113619.2.55.3.2831211778.440.1403761083.482', 'pet4']\n['51011102341009', '2.16.840.1.113669.632.20.330001.10002386625', 'pet4']\n['51011102341010', '2.16.840.1.113669.632.20.330001.10002451286', 'pet4']\n['51011102341011', '2.16.840.1.113669.632.20.330001.10002474398', 'pet4']\n['51011102341012', '2.16.840.1.113669.632.20.330001.10002674231', 'pet4']\n['51011102341013', '1.3.51.0.1.1.129.10.7.50.1466653.466683', 'pet4']\n['51011102341014', '2.16.840.1.113669.632.20.330001.10002743544', 'pet4']\n['51011103011002', '1.2.928.1024117870', 'pet4']\n['51011103011003', '1.2.928.1024120332', 'pet4']\n['51011103011004', '1.2.928.1024122451', 'pet4']\n['51011103031001', '1.2.840.113619.2.290.3.4195011167.942.1376028846.619', 'pet4']\n['51011103031002', '1.2.840.113619.2.290.3.4195011167.802.1380519680.85', 'pet4']\n['51011103031003', '1.2.840.113619.2.290.3.4195011167.909.1382681334.840', 'pet4']\n['51011103031004', '1.2.840.113619.2.290.3.4195011167.342.1392274040.931', 'pet4']\n['51011103031005', '1.2.840.113619.2.290.3.4195011167.376.1405921611.665', 'pet4']\n['51011103031006', '1.2.840.113619.2.290.3.4195011167.337.1409896196.367', 'pet4']\n['51011103031007', '1.2.840.113619.2.290.3.4195011167.555.1419316853.133', 'pet4']\n['51011103031008', '1.2.840.113619.2.290.3.4195011167.723.1425883576.920', 'pet4']\n['51011103031009', '1.2.840.113619.2.290.3.4195011167.823.1437111776.26', 'pet4']\n['51011103031010', '1.2.840.113619.2.290.3.1074398311.965.1437629286.984', 'pet4']\n['51011103071001', '1.2.276.0.7230010.3.2.114588', 'pet4']\n['51011103071002', '1.2.276.0.7230010.3.2.125961', 'pet4']\n['51011103071003', '1.2.276.0.7230010.3.2.169514', 'pet4']\n['51011103071005', '1.2.276.0.7230010.3.2.170765', 'pet4']\n['51011103071006', '1.2.276.0.7230010.3.2.196452', 'pet4']\n['51011103071007', '1.2.276.0.7230010.3.2.269850', 'pet4']\n['51011103071008', '1.2.276.0.7230010.3.2.301215', 'pet4']\n['51011103471001', '1.2.826.0.1.3680043.2.455.30.11.5.116865', 'pet4']\n['51011103471002', '1.2.826.0.1.3680043.2.455.30.11.5.116883', 'pet4']\n['51011104081002', '2.16.840.1.113669.632.20.300001.10000629973', 'pet4']\n['51011104081004', '2.16.840.1.113669.632.20.300001.10000694536', 'pet4']\n['51011104081006', '2.16.840.1.113669.632.20.300001.10000840350', 'pet4']\n['51011104081007', '2.16.840.1.113669.632.20.300001.10000891315', 'pet4']\n['51011104121001', '1.2.928.102490740', 'pet4']\n['51011104121002', '1.2.928.102491495', 'pet4']\n['51011104121003', '1.2.928.102492895', 'pet4']\n['51011104121004', '1.2.928.102494116', 'pet4']\n['51011104121005', '1.2.928.102494714', 'pet4']\n['51011105351001', '1.2.276.0.19.4.2013.8.30.6.38.4.734.208.28333', 'pet4']\n['51011105351002', '1.2.250.1.199.10.90257.90297.20131003094013', 'pet4']\n['51011105351003', '1.2.250.1.199.10.90257.96627.20140603095531', 'pet4']\n['51011107081003', '2.16.840.1.113669.632.20.300001.10000990173', 'pet4']\n['51011101731006', '1.2.840.113619.2.290.3.2831166708.745.1410849399.962', 'pet4']\n['51011101811001', '1.2.250.1.74.20140425100000.31000034077649', 'pet4']\n['11011101091009', '1.2.840.113619.2.290.3.279710523.580.1396589391.969', 'pet4']\n['11011101091012', '1.2.840.113619.2.290.3.279710523.891.1403587728.894', 'pet4']\n['11011101141002', '1.2.840.113704.1.111.3520.1419844597.4', 'pet4']\n['11011101141002', '1.2.840.113704.1.111.3520.1419844597.4', 'pet4']\n['11011101211005', '1.3.51.0.1.1.10.49.10.222.1749139.1747518', 'pet4']\n['11011101391010', '1.2.250.1.59.453.859.92444169.3704.1405064502.5.1.1', 'pet4']\n['11011101391020', '1.2.250.1.59.453.859.520827403.5240.1443169864.1.1.1', 'pet4']\n['11011101621002', '1.2.840.113619.2.290.3.2831155579.132.1437370103.475', 'pet4']\n['11011101821001', '1.2.840.113711.17041813.3.5372.381321236.26.248614862.342', 'pet4']\n['11011102411001', '1.2.250.1.59.0.8559.20130606123422.3517137', 'pet4']\n['11011102441002', '1.2.840.113845.11.1000000001951524609.20141223101032.2336191', 'pet4']\n['11011102871001', '1.2.840.113619.2.290.3.50988289.741.1436767613.923', 'pet4']\n['11011104211008', '1.2.826.0.1.3680043.2.455.30.11.86000.1751.1090256', 'pet4']\n['11011104341002', '1.2.840.113704.1.111.2308.1393490850.6', 'pet4']\n['11011106341001', '1.3.51.0.1.1.129.10.7.50.1322060.322090', 'pet4']\n['11011106341004', '1.3.51.0.1.1.129.10.7.50.1380908.380938', 'pet4']\n['11011107641001', '2.16.56.465769650.3284058294.1735875859', 'pet4']\n['51011101871007', '1.2.250.1.38.2.1.102.140401085147.103146268', 'pet4']\n['51011102181002', '1.2.840.113619.2.55.3.279710477.550.1401430249.944', 'pet4']\n"
    },
    {
     "output_type": "execute_result",
     "data": {
      "text/plain": "77"
     },
     "metadata": {},
     "execution_count": 31
    }
   ],
   "source": [
    "\n",
    "cpt = 0\n",
    "for serie in data : \n",
    "    if len(serie) != 5 : \n",
    "        print(serie)\n",
    "        cpt += 1 \n",
    "cpt"
   ]
  },
  {
   "cell_type": "code",
   "execution_count": 35,
   "metadata": {},
   "outputs": [],
   "source": [
    "#doublon \n",
    "new_liste = []\n",
    "new_liste.append(data[0])\n",
    "for serie in data : \n",
    "    if serie not in new_liste and len(serie) == 5 : \n",
    "        new_liste.append(serie)\n"
   ]
  },
  {
   "cell_type": "code",
   "execution_count": 36,
   "metadata": {},
   "outputs": [
    {
     "output_type": "execute_result",
     "data": {
      "text/plain": "527"
     },
     "metadata": {},
     "execution_count": 36
    }
   ],
   "source": [
    "len(new_liste)"
   ]
  },
  {
   "cell_type": "code",
   "execution_count": null,
   "metadata": {},
   "outputs": [],
   "source": []
  },
  {
   "cell_type": "code",
   "execution_count": 38,
   "metadata": {},
   "outputs": [],
   "source": [
    "#write csv \n",
    "nifti_directory = '/media/deeplearning/78ca2911-9e9f-4f78-b80a-848024b95f92/GAINED_NIFTI'\n",
    "\n",
    "with open(os.path.join(nifti_directory, 'GAINED_PET4_NIFTI.csv'), 'w') as csv_file : \n",
    "    csv_writer = csv.writer(csv_file, delimiter=',', quotechar='\"', quoting=csv.QUOTE_MINIMAL)\n",
    "    csv_writer.writerow([\"PATIENT ID\", \"STUDY UID\", \"PET\", \"NIFTI_CT\", \"NIFTI_PET\"])\n",
    "    for serie in new_liste: \n",
    "        if len(serie) == 5 : \n",
    "            csv_writer.writerow([serie[0], serie[1], serie[2], serie[3], serie[4]])"
   ]
  }
 ],
 "metadata": {
  "file_extension": ".py",
  "kernelspec": {
   "display_name": "Python 3.8.2 64-bit",
   "language": "python",
   "name": "python38264bit4afc185bc98b42c389abdbb3fbeec8dd"
  },
  "language_info": {
   "codemirror_mode": {
    "name": "ipython",
    "version": 3
   },
   "file_extension": ".py",
   "mimetype": "text/x-python",
   "name": "python",
   "nbconvert_exporter": "python",
   "pygments_lexer": "ipython3",
   "version": "3.8.2-final"
  },
  "mimetype": "text/x-python",
  "name": "python",
  "npconvert_exporter": "python",
  "pygments_lexer": "ipython3",
  "version": 3
 },
 "nbformat": 4,
 "nbformat_minor": 2
}