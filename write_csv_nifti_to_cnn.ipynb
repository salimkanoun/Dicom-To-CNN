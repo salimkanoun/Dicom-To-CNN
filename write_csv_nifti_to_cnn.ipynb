{
 "cells": [
  {
   "cell_type": "code",
   "execution_count": 1,
   "metadata": {},
   "outputs": [],
   "source": [
    "import json\n",
    "import os\n",
    "from library_dicom.dicom_processor.tools.folders import *\n",
    "from library_dicom.dicom_processor.tools.create_mip import *\n",
    "from library_dicom.dicom_processor.tools.threshold_mask import *\n",
    "import numpy as np\n",
    "import SimpleITK as sitk\n",
    "import csv\n",
    "import shutil"
   ]
  },
  {
   "cell_type": "code",
   "execution_count": null,
   "metadata": {},
   "outputs": [],
   "source": [
    "#Script to write csv to use in Deep Learning "
   ]
  },
  {
   "cell_type": "code",
   "execution_count": 3,
   "metadata": {},
   "outputs": [
    {
     "output_type": "stream",
     "name": "stdout",
     "text": [
      "36\n36\n"
     ]
    }
   ],
   "source": [
    "json_path = '/media/deeplearning/Elements/RELEVANCE_Valid_DICOM/relevance_data_dernier.json'\n",
    "dataset = []\n",
    "with open(json_path) as json_file : \n",
    "    reader = json.load(json_file)\n",
    "    for info in reader :\n",
    "        dataset.append(info)\n",
    "\n",
    "cpt = 0\n",
    "for serie in dataset : \n",
    "    if 'PET_Screening' in serie : \n",
    "        cpt += 1\n",
    "\n",
    "print(cpt)\n",
    "print(len(dataset))"
   ]
  },
  {
   "cell_type": "code",
   "execution_count": 4,
   "metadata": {},
   "outputs": [],
   "source": [
    "data = []\n",
    "for row in dataset : \n",
    "    if 'PET_Screening' in row : \n",
    "        data.append(row)"
   ]
  },
  {
   "cell_type": "code",
   "execution_count": 5,
   "metadata": {},
   "outputs": [
    {
     "output_type": "execute_result",
     "data": {
      "text/plain": [
       "36"
      ]
     },
     "metadata": {},
     "execution_count": 5
    }
   ],
   "source": [
    "len(data)"
   ]
  },
  {
   "cell_type": "code",
   "execution_count": 6,
   "metadata": {},
   "outputs": [],
   "source": [
    "#liste of generated nifti by \"nifti_builder_from_json\" script \n",
    "\n",
    "nifti_directory = '/media/deeplearning/Elements/RELEVANCE_NIFTI'\n",
    "liste_nifti = os.listdir(nifti_directory)\n",
    "no_nifti = []\n",
    "for nifti in liste_nifti : \n",
    "    if \"nifti\" not in nifti : \n",
    "        no_nifti.append(nifti)\n",
    "\n",
    "for fold in no_nifti : \n",
    "    liste_nifti.remove(fold)"
   ]
  },
  {
   "cell_type": "code",
   "execution_count": 7,
   "metadata": {},
   "outputs": [
    {
     "output_type": "execute_result",
     "data": {
      "text/plain": [
       "70"
      ]
     },
     "metadata": {},
     "execution_count": 7
    }
   ],
   "source": [
    "len(liste_nifti)"
   ]
  },
  {
   "cell_type": "code",
   "execution_count": 8,
   "metadata": {
    "tags": []
   },
   "outputs": [],
   "source": [
    "#liste = []\n",
    "#type_ = 'PET_Screening'\n",
    "for row in data : \n",
    "    #subliste = []\n",
    "    #subliste.append(row[0]) #patient id \n",
    "        #add other informations if need \n",
    "\n",
    "    #study_uid = row[1]\n",
    "    #subliste.append(study_uid)\n",
    "\n",
    "    subsubliste = []\n",
    "    for nifti in liste_nifti : \n",
    "        if row[-3] in nifti: \n",
    "            subsubliste.append(nifti)\n",
    "    if len(subsubliste) == 2 : #or == 3 if there is a mask \n",
    "        subsubliste = sorted(subsubliste)\n",
    "        row.append(subsubliste[0])\n",
    "        row.append(subsubliste[1])\n",
    "            #subliste.append(subsubliste[2]) #add it if there is a mask \n",
    "    else : \n",
    "        pass\n",
    "    #subliste.append(type_)\n",
    "    #liste.append(subliste)\n",
    "\n"
   ]
  },
  {
   "cell_type": "code",
   "execution_count": 9,
   "metadata": {},
   "outputs": [
    {
     "output_type": "execute_result",
     "data": {
      "text/plain": [
       "['/media/deeplearning/Elements/RELEVANCE_Valid_DICOM/52011101831102/PET_Screening/1.2.840.113619.2.290.3.2831182250.47.1369721662.966.3/1.2.840.113619.2.290.3.2831182250.47.1369721662.966.3',\n",
       " 'CT',\n",
       " '/media/deeplearning/Elements/RELEVANCE_Valid_DICOM/52011101831102/PET_Screening/1.2.840.113619.2.290.3.2831182250.47.1369721663.231/1.2.840.113619.2.290.3.2831182250.47.1369721663.231',\n",
       " 'PT',\n",
       " '1.2.840.113619.2.290.3.2831182250.47.1369721662.961',\n",
       " 'PET_Screening',\n",
       " '52011101831102',\n",
       " '1.2.840.113619.2.290.3.2831182250.47.1369721662.961_nifti_CT.nii',\n",
       " '1.2.840.113619.2.290.3.2831182250.47.1369721662.961_nifti_PT.nii']"
      ]
     },
     "metadata": {},
     "execution_count": 9
    }
   ],
   "source": [
    "data[10]"
   ]
  },
  {
   "cell_type": "code",
   "execution_count": 10,
   "metadata": {},
   "outputs": [],
   "source": [
    "#clean serie : must have patient ID, study_UID, CT_path, PET_path, MASK_path if pet0, and type \"PET\" (0,2,4)\n",
    "completed_liste = []\n",
    "for serie in data : \n",
    "    if len(serie) == 9 : #== 10 if Mask_path \n",
    "        completed_liste.append(serie)"
   ]
  },
  {
   "cell_type": "code",
   "execution_count": 35,
   "metadata": {},
   "outputs": [],
   "source": [
    "#here check for double : if there are 2 patient with same ID, or same STUDY_UID, delete the other(s) serie(s)\n",
    "\n",
    "dataset = []\n",
    "dataset.append(completed_liste[0])\n",
    "for i in range(1, len(completed_liste)) :\n",
    "    if completed_liste[i] not in dataset : \n",
    "        dataset.append(completed_liste[i])"
   ]
  },
  {
   "cell_type": "code",
   "execution_count": 11,
   "metadata": {},
   "outputs": [
    {
     "output_type": "stream",
     "name": "stdout",
     "text": [
      "nombre de study :  35\n"
     ]
    }
   ],
   "source": [
    "print(\"nombre de study : \", len(completed_liste))"
   ]
  },
  {
   "cell_type": "code",
   "execution_count": 12,
   "metadata": {},
   "outputs": [
    {
     "output_type": "execute_result",
     "data": {
      "text/plain": [
       "['/media/deeplearning/Elements/RELEVANCE_Valid_DICOM/52011101841108/PET_Screening/1.3.12.2.1107.5.1.4.1007.30000013061907282506200012391/1.3.12.2.1107.5.1.4.1007.30000013061907282506200012391',\n",
       " 'CT',\n",
       " '/media/deeplearning/Elements/RELEVANCE_Valid_DICOM/52011101841108/PET_Screening/1.3.12.2.1107.5.1.4.1007.30000013061907284295300020931/1.3.12.2.1107.5.1.4.1007.30000013061907284295300020931',\n",
       " 'PT',\n",
       " '1.3.12.2.1107.5.1.4.1007.30000013061907243685900000017',\n",
       " 'PET_Screening',\n",
       " '52011101841108',\n",
       " '1.3.12.2.1107.5.1.4.1007.30000013061907243685900000017_nifti_CT.nii',\n",
       " '1.3.12.2.1107.5.1.4.1007.30000013061907243685900000017_nifti_PT.nii']"
      ]
     },
     "metadata": {},
     "execution_count": 12
    }
   ],
   "source": [
    "completed_liste[0]"
   ]
  },
  {
   "cell_type": "code",
   "execution_count": 13,
   "metadata": {
    "tags": []
   },
   "outputs": [
    {
     "output_type": "stream",
     "name": "stdout",
     "text": [
      "/media/deeplearning/Elements/RELEVANCE_NIFTI/52011101841108 created\n/media/deeplearning/Elements/RELEVANCE_NIFTI/52011101841108/PET_Screening created\n/media/deeplearning/Elements/RELEVANCE_NIFTI/52011101731105 created\n/media/deeplearning/Elements/RELEVANCE_NIFTI/52011101731105/PET_Screening created\n/media/deeplearning/Elements/RELEVANCE_NIFTI/52011101731107 created\n/media/deeplearning/Elements/RELEVANCE_NIFTI/52011101731107/PET_Screening created\n/media/deeplearning/Elements/RELEVANCE_NIFTI/52011101811103 created\n/media/deeplearning/Elements/RELEVANCE_NIFTI/52011101811103/PET_Screening created\n/media/deeplearning/Elements/RELEVANCE_NIFTI/52011101811104 created\n/media/deeplearning/Elements/RELEVANCE_NIFTI/52011101811104/PET_Screening created\n/media/deeplearning/Elements/RELEVANCE_NIFTI/52011101811106 created\n/media/deeplearning/Elements/RELEVANCE_NIFTI/52011101811106/PET_Screening created\n/media/deeplearning/Elements/RELEVANCE_NIFTI/52011101811107 created\n/media/deeplearning/Elements/RELEVANCE_NIFTI/52011101811107/PET_Screening created\n/media/deeplearning/Elements/RELEVANCE_NIFTI/52011101821102 created\n/media/deeplearning/Elements/RELEVANCE_NIFTI/52011101821102/PET_Screening created\n/media/deeplearning/Elements/RELEVANCE_NIFTI/52011101821105 created\n/media/deeplearning/Elements/RELEVANCE_NIFTI/52011101821105/PET_Screening created\n/media/deeplearning/Elements/RELEVANCE_NIFTI/52011101821203 created\n/media/deeplearning/Elements/RELEVANCE_NIFTI/52011101821203/PET_Screening created\n/media/deeplearning/Elements/RELEVANCE_NIFTI/52011101831102 created\n/media/deeplearning/Elements/RELEVANCE_NIFTI/52011101831102/PET_Screening created\n/media/deeplearning/Elements/RELEVANCE_NIFTI/52011101831108 created\n/media/deeplearning/Elements/RELEVANCE_NIFTI/52011101831108/PET_Screening created\n/media/deeplearning/Elements/RELEVANCE_NIFTI/52011101841109 created\n/media/deeplearning/Elements/RELEVANCE_NIFTI/52011101841109/PET_Screening created\n/media/deeplearning/Elements/RELEVANCE_NIFTI/52011101871103 created\n/media/deeplearning/Elements/RELEVANCE_NIFTI/52011101871103/PET_Screening created\n/media/deeplearning/Elements/RELEVANCE_NIFTI/52011101871107 created\n/media/deeplearning/Elements/RELEVANCE_NIFTI/52011101871107/PET_Screening created\n/media/deeplearning/Elements/RELEVANCE_NIFTI/52011101881114 created\n/media/deeplearning/Elements/RELEVANCE_NIFTI/52011101881114/PET_Screening created\n/media/deeplearning/Elements/RELEVANCE_NIFTI/52011101881115 created\n/media/deeplearning/Elements/RELEVANCE_NIFTI/52011101881115/PET_Screening created\n/media/deeplearning/Elements/RELEVANCE_NIFTI/52011101881118 created\n/media/deeplearning/Elements/RELEVANCE_NIFTI/52011101881118/PET_Screening created\n/media/deeplearning/Elements/RELEVANCE_NIFTI/52011101901102 created\n/media/deeplearning/Elements/RELEVANCE_NIFTI/52011101901102/PET_Screening created\n/media/deeplearning/Elements/RELEVANCE_NIFTI/52011102341106 created\n/media/deeplearning/Elements/RELEVANCE_NIFTI/52011102341106/PET_Screening created\n/media/deeplearning/Elements/RELEVANCE_NIFTI/52011106341101 created\n/media/deeplearning/Elements/RELEVANCE_NIFTI/52011106341101/PET_Screening created\n/media/deeplearning/Elements/RELEVANCE_NIFTI/52011106341102 created\n/media/deeplearning/Elements/RELEVANCE_NIFTI/52011106341102/PET_Screening created\n/media/deeplearning/Elements/RELEVANCE_NIFTI/52011106341103 created\n/media/deeplearning/Elements/RELEVANCE_NIFTI/52011106341103/PET_Screening created\n/media/deeplearning/Elements/RELEVANCE_NIFTI/52011106341104 created\n/media/deeplearning/Elements/RELEVANCE_NIFTI/52011106341104/PET_Screening created\n/media/deeplearning/Elements/RELEVANCE_NIFTI/52011106341107 created\n/media/deeplearning/Elements/RELEVANCE_NIFTI/52011106341107/PET_Screening created\n/media/deeplearning/Elements/RELEVANCE_NIFTI/52011106341109 created\n/media/deeplearning/Elements/RELEVANCE_NIFTI/52011106341109/PET_Screening created\n/media/deeplearning/Elements/RELEVANCE_NIFTI/52011106341110 created\n/media/deeplearning/Elements/RELEVANCE_NIFTI/52011106341110/PET_Screening created\n/media/deeplearning/Elements/RELEVANCE_NIFTI/52011106341112 created\n/media/deeplearning/Elements/RELEVANCE_NIFTI/52011106341112/PET_Screening created\n/media/deeplearning/Elements/RELEVANCE_NIFTI/62011201291102 created\n/media/deeplearning/Elements/RELEVANCE_NIFTI/62011201291102/PET_Screening created\n/media/deeplearning/Elements/RELEVANCE_NIFTI/62011224111106 created\n/media/deeplearning/Elements/RELEVANCE_NIFTI/62011224111106/PET_Screening created\n/media/deeplearning/Elements/RELEVANCE_NIFTI/62011224111108 created\n/media/deeplearning/Elements/RELEVANCE_NIFTI/62011224111108/PET_Screening created\n/media/deeplearning/Elements/RELEVANCE_NIFTI/62011224111109 created\n/media/deeplearning/Elements/RELEVANCE_NIFTI/62011224111109/PET_Screening created\n/media/deeplearning/Elements/RELEVANCE_NIFTI/62011242111102 created\n/media/deeplearning/Elements/RELEVANCE_NIFTI/62011242111102/PET_Screening created\n/media/deeplearning/Elements/RELEVANCE_NIFTI/62011243111102 created\n/media/deeplearning/Elements/RELEVANCE_NIFTI/62011243111102/PET_Screening created\n/media/deeplearning/Elements/RELEVANCE_NIFTI/62011245111107 created\n/media/deeplearning/Elements/RELEVANCE_NIFTI/62011245111107/PET_Screening created\n"
     ]
    }
   ],
   "source": [
    "#create folder to save nifti\n",
    "\n",
    "for serie in completed_liste: \n",
    "    patient_id = serie[6]\n",
    "    pet_type = serie[5]\n",
    "    nifti_ct = serie[7]\n",
    "    nifti_pet = serie[8]\n",
    "    #nifti_mask = serie[5] #if pet0\n",
    "\n",
    "    folder = '/media/deeplearning/Elements/RELEVANCE_NIFTI'+'/'+patient_id\n",
    "\n",
    "    if not os.path.exists(folder):\n",
    "        os.makedirs(folder)\n",
    "        print(folder, 'created')\n",
    "    else : print(folder, \"Dossier patient déjà crée\")\n",
    "\n",
    "    subfolder = folder+'/'+pet_type\n",
    "    if not os.path.exists(subfolder) :\n",
    "        os.makedirs(subfolder)\n",
    "        print(subfolder, 'created')\n",
    "    else : print(subfolder, \"Déjà creer => already folder for \", pet_type)\n",
    "\n",
    "    ct_path = '/media/deeplearning/Elements/RELEVANCE_NIFTI'+'/'+nifti_ct\n",
    "    pt_path = '/media/deeplearning/Elements/RELEVANCE_NIFTI'+'/'+nifti_pet\n",
    "        #mask_path = '/media/deeplearning/78ca2911-9e9f-4f78-b80a-848024b95f92/FLIP_NIFTI'+'/'+nifti_mask\n",
    "\n",
    "    new_ct_path = subfolder+'/'+nifti_ct\n",
    "    new_pet_path = subfolder+'/'+nifti_pet\n",
    "    #new_mask_path = subfolder+'/'+nifti_mask\n",
    "    try : \n",
    "\n",
    "        os.rename(ct_path, subfolder+'/'+nifti_ct)\n",
    "        os.rename(pt_path, subfolder+'/'+nifti_pet)\n",
    "        #os.rename(mask_path, subfolder+'/'+nifti_mask)\n",
    "\n",
    "\n",
    "        serie[7] = new_ct_path\n",
    "        serie[8] = new_pet_path \n",
    "        #serie[4] = new_mask_path\n",
    "    except Exception as err : \n",
    "        print(err)\n"
   ]
  },
  {
   "cell_type": "code",
   "execution_count": 21,
   "metadata": {},
   "outputs": [
    {
     "output_type": "execute_result",
     "data": {
      "text/plain": [
       "['/media/deeplearning/Elements/RELEVANCE_Valid_DICOM/12011101251120/PET_Screening/1.3.12.2.1107.5.1.4.11061.30000013080608134926500014351/1.3.12.2.1107.5.1.4.11061.30000013080608134926500014351',\n",
       " 'CT',\n",
       " '/media/deeplearning/Elements/RELEVANCE_Valid_DICOM/12011101251120/PET_Screening/1.3.12.2.1107.5.1.4.11061.30000013080608151906200020007/1.3.12.2.1107.5.1.4.11061.30000013080608151906200020007',\n",
       " 'PT',\n",
       " '1.2.840.113711.93413733.10800.397477827.26.2116281012.10',\n",
       " 'PET_Screening',\n",
       " '12011101251120',\n",
       " '/media/deeplearning/Elements/RELEVANCE_NIFTI/12011101251120/PET_Screening/1.2.840.113711.93413733.10800.397477827.26.2116281012.10_nifti_CT.nii',\n",
       " '/media/deeplearning/Elements/RELEVANCE_NIFTI/12011101251120/PET_Screening/1.2.840.113711.93413733.10800.397477827.26.2116281012.10_nifti_PT.nii']"
      ]
     },
     "metadata": {},
     "execution_count": 21
    }
   ],
   "source": [
    "completed_liste[0]"
   ]
  },
  {
   "cell_type": "code",
   "execution_count": 14,
   "metadata": {},
   "outputs": [],
   "source": [
    "#write csv , add NIFTI_MASK column if there is a mask \n",
    "nifti_directory = '/media/deeplearning/Elements/RELEVANCE_NIFTI'\n",
    "filename = 'RELEVANCE_NIFTI_SCREENING_v3.csv'\n",
    "\n",
    "\n",
    "csv_path= '/media/deeplearning/Elements/RELEVANCE_NIFTI/RELEVANCE_NIFTI_SCREENING_v2.csv'\n",
    "dataset_1 = []\n",
    "with open(csv_path, 'r') as csv_file :\n",
    "    reader = csv.reader(csv_file, delimiter = ',') #liste pour chaque ligne \n",
    "    dataset_1 = []\n",
    "    for row in reader :\n",
    "        dataset_1.append(row)\n",
    "        \n",
    "del dataset_1[0] #enlever première ligne\n",
    "\n",
    "\n",
    "\n",
    "with open(os.path.join(nifti_directory, filename), 'w') as csv_file : \n",
    "    csv_writer = csv.writer(csv_file, delimiter=',', quotechar='\"', quoting=csv.QUOTE_MINIMAL)\n",
    "    csv_writer.writerow([\"PATIENT ID\", \"STUDY UID\", \"PET\", \"NIFTI_CT\", \"NIFTI_PET\"])\n",
    "    for serie in dataset_1 : \n",
    "        csv_writer.writerow([serie[0], serie[1], serie[2], serie[3], serie[4]])\n",
    "    for serie in completed_liste: \n",
    "        csv_writer.writerow([serie[6], serie[4], serie[5], serie[7], serie[8]])\n"
   ]
  }
 ],
 "metadata": {
  "file_extension": ".py",
  "kernelspec": {
   "display_name": "Python 3.8.2 64-bit",
   "language": "python",
   "name": "python38264bit4afc185bc98b42c389abdbb3fbeec8dd"
  },
  "language_info": {
   "codemirror_mode": {
    "name": "ipython",
    "version": 3
   },
   "file_extension": ".py",
   "mimetype": "text/x-python",
   "name": "python",
   "nbconvert_exporter": "python",
   "pygments_lexer": "ipython3",
   "version": "3.8.5-final"
  },
  "mimetype": "text/x-python",
  "name": "python",
  "npconvert_exporter": "python",
  "pygments_lexer": "ipython3",
  "version": 3
 },
 "nbformat": 4,
 "nbformat_minor": 2
}