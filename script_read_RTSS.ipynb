{
 "cells": [
  {
   "cell_type": "code",
   "execution_count": null,
   "metadata": {},
   "outputs": [],
   "source": [
    "from library_dicom.rtss_processor.model.RTSS_Reader import RTSS_Reader\n",
    "from library_dicom.dicom_processor.model.Series import Series\n",
    "import matplotlib.pyplot as plt"
   ]
  },
  {
   "cell_type": "code",
   "execution_count": null,
   "metadata": {},
   "outputs": [],
   "source": [
    "rtss_path = r'C:\\Users\\wendy\\Documents\\STAGE\\DicomRT\\201802409 BARAT GALPIN ELIANE\\103893708 Tepscan FDG\\RTSTRUCT PETVCAR RTSS RTSS'"
   ]
  },
  {
   "cell_type": "code",
   "execution_count": null,
   "metadata": {},
   "outputs": [],
   "source": [
    "CT_path = r'C:\\Users\\wendy\\Documents\\STAGE\\DicomRT\\201802409 BARAT GALPIN ELIANE\\103893708 Tepscan FDG\\CT CT STD 2.5mm'"
   ]
  },
  {
   "cell_type": "code",
   "execution_count": null,
   "metadata": {},
   "outputs": [],
   "source": [
    "rtss = RTSS_Reader(rtss_path)"
   ]
  },
  {
   "cell_type": "code",
   "execution_count": null,
   "metadata": {},
   "outputs": [],
   "source": [
    "rtss.get_number_of_roi()"
   ]
  },
  {
   "cell_type": "code",
   "execution_count": null,
   "metadata": {},
   "outputs": [],
   "source": [
    "rtss.get_list_all_SOP_Instance_UID()"
   ]
  },
  {
   "cell_type": "code",
   "execution_count": null,
   "metadata": {},
   "outputs": [],
   "source": [
    "rtss.get_list_referenced_SOP_Instance_UID(1) #Contour ROI 1 "
   ]
  },
  {
   "cell_type": "code",
   "execution_count": null,
   "metadata": {},
   "outputs": [],
   "source": [
    "rtss.get_number_of_contour_points(1)"
   ]
  },
  {
   "cell_type": "code",
   "execution_count": null,
   "metadata": {},
   "outputs": [],
   "source": [
    "rtss.get_list_points(2, CT_path)"
   ]
  },
  {
   "cell_type": "code",
   "execution_count": null,
   "metadata": {},
   "outputs": [],
   "source": []
  },
  {
   "cell_type": "code",
   "execution_count": null,
   "metadata": {},
   "outputs": [],
   "source": [
    "#!!! décalage de 1 entre 3D Slicer et python \n",
    "mask_4D = rtss.rtss_to_4D_mask([512,512], CT_path, matrix_4D=True)"
   ]
  },
  {
   "cell_type": "code",
   "execution_count": null,
   "metadata": {},
   "outputs": [],
   "source": [
    "plt.imshow(mask_4D[:,:,308,0]) #0 pour ROI 1\n",
    "plt.show()\n",
    "#3Dslicer : 309 ième slice = 308 ième : Python "
   ]
  },
  {
   "cell_type": "markdown",
   "metadata": {},
   "source": [
    "### DICOM Soléa"
   ]
  },
  {
   "cell_type": "code",
   "execution_count": null,
   "metadata": {},
   "outputs": [],
   "source": [
    "rtss2_path = r'C:\\Users\\wendy\\Documents\\STAGE\\DicomRT\\L4684m64qSHJaw5upAPTQ2f3L pVxpmuOowtbWLirb\\Unknown Study\\RTSTRUCT'"
   ]
  },
  {
   "cell_type": "code",
   "execution_count": null,
   "metadata": {},
   "outputs": [],
   "source": [
    "CT2_path = r'C:\\Users\\wendy\\Documents\\STAGE\\DicomRT\\L4684m64qSHJaw5upAPTQ2f3L pVxpmuOowtbWLirb\\Unknown Study\\CT'"
   ]
  },
  {
   "cell_type": "code",
   "execution_count": null,
   "metadata": {},
   "outputs": [],
   "source": [
    "serie = Series(CT2_path)"
   ]
  },
  {
   "cell_type": "code",
   "execution_count": null,
   "metadata": {},
   "outputs": [],
   "source": [
    "#nbr de coupes\n",
    "len(serie.get_all_SOPInstanceIUD())"
   ]
  },
  {
   "cell_type": "code",
   "execution_count": null,
   "metadata": {},
   "outputs": [],
   "source": [
    "rtss2 = RTSS_Reader(rtss2_path)"
   ]
  },
  {
   "cell_type": "code",
   "execution_count": null,
   "metadata": {},
   "outputs": [],
   "source": [
    "mask2 = rtss2.rtss_to_4D_mask([512,512], CT2_path, matrix_4D=True)"
   ]
  },
  {
   "cell_type": "code",
   "execution_count": null,
   "metadata": {},
   "outputs": [],
   "source": [
    "plt.imshow(mask2[:,:,0,0]) #ROI 1 SLICE 1\n",
    "plt.show()"
   ]
  }
 ],
 "metadata": {
  "kernelspec": {
   "display_name": "Python 3",
   "language": "python",
   "name": "python3"
  },
  "language_info": {
   "codemirror_mode": {
    "name": "ipython",
    "version": 3
   },
   "file_extension": ".py",
   "mimetype": "text/x-python",
   "name": "python",
   "nbconvert_exporter": "python",
   "pygments_lexer": "ipython3",
   "version": "3.7.4"
  }
 },
 "nbformat": 4,
 "nbformat_minor": 2
}