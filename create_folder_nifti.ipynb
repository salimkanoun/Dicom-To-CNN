{
 "metadata": {
  "language_info": {
   "codemirror_mode": {
    "name": "ipython",
    "version": 3
   },
   "file_extension": ".py",
   "mimetype": "text/x-python",
   "name": "python",
   "nbconvert_exporter": "python",
   "pygments_lexer": "ipython3",
   "version": 3
  },
  "orig_nbformat": 2,
  "kernelspec": {
   "name": "python_defaultSpec_1595494045796",
   "display_name": "Python 3.7.4 64-bit ('base': conda)"
  }
 },
 "nbformat": 4,
 "nbformat_minor": 2,
 "cells": [
  {
   "cell_type": "code",
   "execution_count": 1,
   "metadata": {},
   "outputs": [],
   "source": [
    "import os \n",
    "import csv"
   ]
  },
  {
   "cell_type": "code",
   "execution_count": null,
   "metadata": {},
   "outputs": [],
   "source": []
  },
  {
   "cell_type": "code",
   "execution_count": null,
   "metadata": {},
   "outputs": [],
   "source": [
    "csv_nifti = '/media/storage/AHL2011_NIFTI.csv'\n",
    "\n",
    "with open(csv_pet0_path, 'r') as csv_file :\n",
    "    reader = csv.reader(csv_file, delimiter = ';') #liste pour chaque ligne \n",
    "    csv_data = []\n",
    "    for row in reader :\n",
    "        csv_data.append(row)\n",
    "        \n",
    "del csv_data[0] #enlever première ligne"
   ]
  },
  {
   "cell_type": "code",
   "execution_count": null,
   "metadata": {},
   "outputs": [],
   "source": [
    "for nifti in csv_data : \n",
    "    patient_id = nifti[1]\n",
    "    type_pet = nifti[3]\n",
    "    ct_path = nifti[4]\n",
    "    pt_path = nifti[5]\n",
    "    mask_path = nifti[6]\n",
    "\n",
    "    ct_file = nifti[4].split('/')\n",
    "    pt_file = nifti[5].split('/')\n",
    "    mask_file = nifti[6].split('/')\n",
    "\n",
    "    folder = '/media/storage/AHL2011_nifti'+'/'+patient_id\n",
    "\n",
    "    if not os.path.exists(folder):\n",
    "        os.makedirs(folder)\n",
    "        print(folder, 'created')\n",
    "    else : print(folder, \"Dossier patient déjà crée\")\n",
    "\n",
    "    subfolder = folder+'/'+type_pet\n",
    "    if not os.path.exists(subfolder) :\n",
    "        os.makedirs(subfolder)\n",
    "        print(subfolder, 'created')\n",
    "    else : print(subfolder, \"déjà crée => prblm\")\n",
    "\n",
    "    #deplacer les fichiers chemin+nom\n",
    "\n",
    "    os.rename(ct_path, subfolder+'/'+ct_file)\n",
    "    os.rename(pt_path, subfolder+'/'+pt_file)\n",
    "    os.rename(mask_path, subfolder+'/'+mask_file)\n",
    "\n",
    "\n",
    "\n",
    "    \n",
    "\n"
   ]
  }
 ]
}