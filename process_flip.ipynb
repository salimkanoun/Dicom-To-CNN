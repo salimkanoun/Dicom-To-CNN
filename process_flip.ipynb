{
 "metadata": {
  "language_info": {
   "codemirror_mode": {
    "name": "ipython",
    "version": 3
   },
   "file_extension": ".py",
   "mimetype": "text/x-python",
   "name": "python",
   "nbconvert_exporter": "python",
   "pygments_lexer": "ipython3",
   "version": "3.7.4-final"
  },
  "orig_nbformat": 2,
  "kernelspec": {
   "name": "python_defaultSpec_1599219495642",
   "display_name": "Python 3.7.4 64-bit ('base': conda)"
  }
 },
 "nbformat": 4,
 "nbformat_minor": 2,
 "cells": [
  {
   "cell_type": "code",
   "execution_count": 1,
   "metadata": {
    "tags": []
   },
   "outputs": [],
   "source": [
    "from library_dicom.dicom_processor.tools.flip import *\n",
    "from library_dicom.dicom_processor.tools.create_mip import *\n",
    "from radiomics.featureextractor import RadiomicsFeatureExtractor \n",
    "import os \n",
    "import SimpleITK as sitk "
   ]
  },
  {
   "cell_type": "code",
   "execution_count": null,
   "metadata": {},
   "outputs": [],
   "source": [
    "#get bigger diameter "
   ]
  },
  {
   "cell_type": "code",
   "execution_count": 2,
   "metadata": {},
   "outputs": [],
   "source": [
    "csv_flip_path = r'D:\\FLIP_NIFTI\\FLIP_metrics.csv'\n",
    "\n",
    "with open(csv_flip_path, 'r') as csv_file :\n",
    "    reader = csv.reader(csv_file, delimiter = ',') #liste pour chaque ligne \n",
    "    csv_data = []\n",
    "    for row in reader :\n",
    "        csv_data.append(row)\n",
    "        \n",
    "del csv_data[0] #enlever première ligne"
   ]
  },
  {
   "cell_type": "code",
   "execution_count": 3,
   "metadata": {},
   "outputs": [
    {
     "output_type": "execute_result",
     "data": {
      "text/plain": "['CR,014',\n '2017014',\n '1.2.250.1.38.2.1.102.140724093005.103468016',\n 'cr_014_jul 25_2014.csv',\n 'pet0',\n '/media/deeplearning/78ca2911-9e9f-4f78-b80a-848024b95f92/FLIP_NIFTI/CR,014/pet0/1.2.250.1.38.2.1.102.140724093005.103468016_nifti_CT.nii',\n '/media/deeplearning/78ca2911-9e9f-4f78-b80a-848024b95f92/FLIP_NIFTI/CR,014/pet0/1.2.250.1.38.2.1.102.140724093005.103468016_nifti_PT.nii',\n '/media/deeplearning/78ca2911-9e9f-4f78-b80a-848024b95f92/FLIP_NIFTI/CR,014/pet0/1.2.250.1.38.2.1.102.140724093005.103468016_nifti_mask.nii',\n '20',\n '9.66']"
     },
     "metadata": {},
     "execution_count": 3
    }
   ],
   "source": [
    "csv_data[0]"
   ]
  },
  {
   "cell_type": "code",
   "execution_count": 4,
   "metadata": {
    "tags": []
   },
   "outputs": [],
   "source": [
    "#good path \n",
    "for row in csv_data : \n",
    "    ct_path = row[5]\n",
    "    pt_path = row[6]\n",
    "    mask_path = row[7]\n",
    "\n",
    "    new_ct_path =  os.path.join( r'D:', '/'.join(ct_path.split('/')[-4:]))\n",
    "    new_pt_path =  os.path.join( r'D:', '/'.join(pt_path.split('/')[-4:]))\n",
    "    new_mask_path =  os.path.join( r'D:', '/'.join(mask_path.split('/')[-4:]))\n",
    "\n",
    "    row[5] = new_ct_path\n",
    "    row[6] = new_pt_path\n",
    "    row[7] = new_mask_path \n",
    "\n"
   ]
  },
  {
   "cell_type": "code",
   "execution_count": 5,
   "metadata": {},
   "outputs": [
    {
     "output_type": "execute_result",
     "data": {
      "text/plain": "['CR,014',\n '2017014',\n '1.2.250.1.38.2.1.102.140724093005.103468016',\n 'cr_014_jul 25_2014.csv',\n 'pet0',\n 'D:FLIP_NIFTI/CR,014/pet0/1.2.250.1.38.2.1.102.140724093005.103468016_nifti_CT.nii',\n 'D:FLIP_NIFTI/CR,014/pet0/1.2.250.1.38.2.1.102.140724093005.103468016_nifti_PT.nii',\n 'D:FLIP_NIFTI/CR,014/pet0/1.2.250.1.38.2.1.102.140724093005.103468016_nifti_mask.nii',\n '20',\n '9.66']"
     },
     "metadata": {},
     "execution_count": 5
    }
   ],
   "source": [
    "csv_data[0]"
   ]
  },
  {
   "cell_type": "code",
   "execution_count": 7,
   "metadata": {
    "tags": []
   },
   "outputs": [
    {
     "output_type": "stream",
     "name": "stdout",
     "text": "0\nGLCM is symmetrical, therefore Sum Average = 2 * Joint Average, only 1 needs to be calculated\n1\nGLCM is symmetrical, therefore Sum Average = 2 * Joint Average, only 1 needs to be calculated\n2\nGLCM is symmetrical, therefore Sum Average = 2 * Joint Average, only 1 needs to be calculated\n3\nGLCM is symmetrical, therefore Sum Average = 2 * Joint Average, only 1 needs to be calculated\n4\nGLCM is symmetrical, therefore Sum Average = 2 * Joint Average, only 1 needs to be calculated\n5\nGLCM is symmetrical, therefore Sum Average = 2 * Joint Average, only 1 needs to be calculated\n6\nGLCM is symmetrical, therefore Sum Average = 2 * Joint Average, only 1 needs to be calculated\n7\nGLCM is symmetrical, therefore Sum Average = 2 * Joint Average, only 1 needs to be calculated\n8\nGLCM is symmetrical, therefore Sum Average = 2 * Joint Average, only 1 needs to be calculated\n9\nGLCM is symmetrical, therefore Sum Average = 2 * Joint Average, only 1 needs to be calculated\n10\nGLCM is symmetrical, therefore Sum Average = 2 * Joint Average, only 1 needs to be calculated\n11\nGLCM is symmetrical, therefore Sum Average = 2 * Joint Average, only 1 needs to be calculated\n12\nGLCM is symmetrical, therefore Sum Average = 2 * Joint Average, only 1 needs to be calculated\n13\nGLCM is symmetrical, therefore Sum Average = 2 * Joint Average, only 1 needs to be calculated\n14\nGLCM is symmetrical, therefore Sum Average = 2 * Joint Average, only 1 needs to be calculated\n15\nGLCM is symmetrical, therefore Sum Average = 2 * Joint Average, only 1 needs to be calculated\n16\nGLCM is symmetrical, therefore Sum Average = 2 * Joint Average, only 1 needs to be calculated\n17\nGLCM is symmetrical, therefore Sum Average = 2 * Joint Average, only 1 needs to be calculated\n18\nGLCM is symmetrical, therefore Sum Average = 2 * Joint Average, only 1 needs to be calculated\n19\nGLCM is symmetrical, therefore Sum Average = 2 * Joint Average, only 1 needs to be calculated\n20\nGLCM is symmetrical, therefore Sum Average = 2 * Joint Average, only 1 needs to be calculated\n21\nGLCM is symmetrical, therefore Sum Average = 2 * Joint Average, only 1 needs to be calculated\n22\nGLCM is symmetrical, therefore Sum Average = 2 * Joint Average, only 1 needs to be calculated\n23\nGLCM is symmetrical, therefore Sum Average = 2 * Joint Average, only 1 needs to be calculated\n24\nGLCM is symmetrical, therefore Sum Average = 2 * Joint Average, only 1 needs to be calculated\n25\nGLCM is symmetrical, therefore Sum Average = 2 * Joint Average, only 1 needs to be calculated\n26\nGLCM is symmetrical, therefore Sum Average = 2 * Joint Average, only 1 needs to be calculated\n27\nGLCM is symmetrical, therefore Sum Average = 2 * Joint Average, only 1 needs to be calculated\n28\nGLCM is symmetrical, therefore Sum Average = 2 * Joint Average, only 1 needs to be calculated\n29\nGLCM is symmetrical, therefore Sum Average = 2 * Joint Average, only 1 needs to be calculated\n30\nGLCM is symmetrical, therefore Sum Average = 2 * Joint Average, only 1 needs to be calculated\n31\nGLCM is symmetrical, therefore Sum Average = 2 * Joint Average, only 1 needs to be calculated\n32\nGLCM is symmetrical, therefore Sum Average = 2 * Joint Average, only 1 needs to be calculated\n33\nGLCM is symmetrical, therefore Sum Average = 2 * Joint Average, only 1 needs to be calculated\n34\nGLCM is symmetrical, therefore Sum Average = 2 * Joint Average, only 1 needs to be calculated\n35\nGLCM is symmetrical, therefore Sum Average = 2 * Joint Average, only 1 needs to be calculated\n36\nGLCM is symmetrical, therefore Sum Average = 2 * Joint Average, only 1 needs to be calculated\n37\nGLCM is symmetrical, therefore Sum Average = 2 * Joint Average, only 1 needs to be calculated\n38\nGLCM is symmetrical, therefore Sum Average = 2 * Joint Average, only 1 needs to be calculated\n39\nGLCM is symmetrical, therefore Sum Average = 2 * Joint Average, only 1 needs to be calculated\n40\nGLCM is symmetrical, therefore Sum Average = 2 * Joint Average, only 1 needs to be calculated\n41\nGLCM is symmetrical, therefore Sum Average = 2 * Joint Average, only 1 needs to be calculated\n42\nGLCM is symmetrical, therefore Sum Average = 2 * Joint Average, only 1 needs to be calculated\n43\nGLCM is symmetrical, therefore Sum Average = 2 * Joint Average, only 1 needs to be calculated\n44\nGLCM is symmetrical, therefore Sum Average = 2 * Joint Average, only 1 needs to be calculated\n45\nGLCM is symmetrical, therefore Sum Average = 2 * Joint Average, only 1 needs to be calculated\n46\nGLCM is symmetrical, therefore Sum Average = 2 * Joint Average, only 1 needs to be calculated\n47\nGLCM is symmetrical, therefore Sum Average = 2 * Joint Average, only 1 needs to be calculated\n48\nGLCM is symmetrical, therefore Sum Average = 2 * Joint Average, only 1 needs to be calculated\n49\nGLCM is symmetrical, therefore Sum Average = 2 * Joint Average, only 1 needs to be calculated\n50\nGLCM is symmetrical, therefore Sum Average = 2 * Joint Average, only 1 needs to be calculated\n51\nGLCM is symmetrical, therefore Sum Average = 2 * Joint Average, only 1 needs to be calculated\n52\nGLCM is symmetrical, therefore Sum Average = 2 * Joint Average, only 1 needs to be calculated\n53\nGLCM is symmetrical, therefore Sum Average = 2 * Joint Average, only 1 needs to be calculated\n54\nGLCM is symmetrical, therefore Sum Average = 2 * Joint Average, only 1 needs to be calculated\n55\nGLCM is symmetrical, therefore Sum Average = 2 * Joint Average, only 1 needs to be calculated\n56\nGLCM is symmetrical, therefore Sum Average = 2 * Joint Average, only 1 needs to be calculated\n57\nGLCM is symmetrical, therefore Sum Average = 2 * Joint Average, only 1 needs to be calculated\n58\nGLCM is symmetrical, therefore Sum Average = 2 * Joint Average, only 1 needs to be calculated\n59\nGLCM is symmetrical, therefore Sum Average = 2 * Joint Average, only 1 needs to be calculated\n"
    }
   ],
   "source": [
    "diam_2d = []\n",
    "diam_3d = []\n",
    "for row in csv_data : \n",
    "    print(csv_data.index(row))\n",
    "    diameter_2d, diameter_3d = extract_features(row[7], row[6], int(row[8]))\n",
    "    diam_2d.append(diameter_2d)\n",
    "    diam_3d.append(diameter_3d)\n"
   ]
  },
  {
   "cell_type": "code",
   "execution_count": 8,
   "metadata": {},
   "outputs": [
    {
     "output_type": "execute_result",
     "data": {
      "text/plain": "60"
     },
     "metadata": {},
     "execution_count": 8
    }
   ],
   "source": [
    "len(csv_data)"
   ]
  },
  {
   "cell_type": "code",
   "execution_count": 13,
   "metadata": {},
   "outputs": [
    {
     "output_type": "execute_result",
     "data": {
      "text/plain": "['CR,014',\n '2017014',\n '1.2.250.1.38.2.1.102.140724093005.103468016',\n 'cr_014_jul 25_2014.csv',\n 'pet0',\n 'D:FLIP_NIFTI/CR,014/pet0/1.2.250.1.38.2.1.102.140724093005.103468016_nifti_CT.nii',\n 'D:FLIP_NIFTI/CR,014/pet0/1.2.250.1.38.2.1.102.140724093005.103468016_nifti_PT.nii',\n 'D:FLIP_NIFTI/CR,014/pet0/1.2.250.1.38.2.1.102.140724093005.103468016_nifti_mask.nii',\n '20',\n '9.66']"
     },
     "metadata": {},
     "execution_count": 13
    }
   ],
   "source": [
    "csv_data[0]"
   ]
  },
  {
   "cell_type": "code",
   "execution_count": 9,
   "metadata": {},
   "outputs": [
    {
     "output_type": "execute_result",
     "data": {
      "text/plain": "60"
     },
     "metadata": {},
     "execution_count": 9
    }
   ],
   "source": [
    "len(diam_2d)"
   ]
  },
  {
   "cell_type": "code",
   "execution_count": 10,
   "metadata": {},
   "outputs": [
    {
     "output_type": "execute_result",
     "data": {
      "text/plain": "60"
     },
     "metadata": {},
     "execution_count": 10
    }
   ],
   "source": [
    "len(diam_3d)"
   ]
  },
  {
   "cell_type": "code",
   "execution_count": 14,
   "metadata": {},
   "outputs": [],
   "source": [
    "nifti_directory = r'D:\\FLIP_NIFTI'\n",
    "\n",
    "with open(os.path.join(nifti_directory, 'FLIP_metrics_v2.csv'), 'w') as csv_file : \n",
    "    csv_writer = csv.writer(csv_file, delimiter=',', quotechar='\"', quoting=csv.QUOTE_MINIMAL)\n",
    "    csv_writer.writerow([\"PATIENT_NAME\", \"PATIENT_ID\", \"STUDY_UID\", \"CSV_NAME\", \"PET\", \"NIFTI_CT\" ,\"NIFTI_PET\", \"NIFTI_MASK\", \"ROI\", \"SUV_MAX\", \"DIAM_2D\", \"DIAM_3D\"])\n",
    "    for serie in csv_data: \n",
    "        index = csv_data.index(serie)\n",
    "        csv_writer.writerow([serie[0], serie[1], serie[2], serie[3], serie[4], serie[5], serie[6], serie[7], serie[8], serie[9], diam_2d[index], diam_3d[index]])"
   ]
  },
  {
   "cell_type": "code",
   "execution_count": null,
   "metadata": {},
   "outputs": [],
   "source": []
  }
 ]
}