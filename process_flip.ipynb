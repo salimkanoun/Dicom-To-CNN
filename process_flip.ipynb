{
 "metadata": {
  "language_info": {
   "codemirror_mode": {
    "name": "ipython",
    "version": 3
   },
   "file_extension": ".py",
   "mimetype": "text/x-python",
   "name": "python",
   "nbconvert_exporter": "python",
   "pygments_lexer": "ipython3",
   "version": "3.8.5-final"
  },
  "orig_nbformat": 2,
  "kernelspec": {
   "name": "python38264bit4afc185bc98b42c389abdbb3fbeec8dd",
   "display_name": "Python 3.8.2 64-bit"
  }
 },
 "nbformat": 4,
 "nbformat_minor": 2,
 "cells": [
  {
   "cell_type": "code",
   "execution_count": 3,
   "metadata": {
    "tags": []
   },
   "outputs": [],
   "source": [
    "from library_dicom.dicom_processor.tools.flip import *\n",
    "from library_dicom.dicom_processor.tools.create_mip import *\n",
    "from radiomics.featureextractor import RadiomicsFeatureExtractor \n",
    "import os \n",
    "import SimpleITK as sitk \n",
    "from library_dicom.dicom_processor.tools.threshold_mask import * "
   ]
  },
  {
   "cell_type": "code",
   "execution_count": null,
   "metadata": {},
   "outputs": [],
   "source": [
    "#get tmtv "
   ]
  },
  {
   "cell_type": "code",
   "execution_count": 2,
   "metadata": {},
   "outputs": [],
   "source": [
    "csv_flip_path = '/media/deeplearning/78ca2911-9e9f-4f78-b80a-848024b95f92/FLIP_NIFTI/FLIP_metrics_v2.csv'\n",
    "\n",
    "with open(csv_flip_path, 'r') as csv_file :\n",
    "    reader = csv.reader(csv_file, delimiter = ',') #liste pour chaque ligne \n",
    "    csv_data = []\n",
    "    for row in reader :\n",
    "        csv_data.append(row)\n",
    "        \n",
    "del csv_data[0] #enlever première ligne"
   ]
  },
  {
   "cell_type": "code",
   "execution_count": 3,
   "metadata": {},
   "outputs": [
    {
     "output_type": "execute_result",
     "data": {
      "text/plain": "['CR,014',\n '2017014',\n '1.2.250.1.38.2.1.102.140724093005.103468016',\n 'cr_014_jul 25_2014.csv',\n 'pet0',\n 'D:FLIP_NIFTI/CR,014/pet0/1.2.250.1.38.2.1.102.140724093005.103468016_nifti_CT.nii',\n 'D:FLIP_NIFTI/CR,014/pet0/1.2.250.1.38.2.1.102.140724093005.103468016_nifti_PT.nii',\n 'D:FLIP_NIFTI/CR,014/pet0/1.2.250.1.38.2.1.102.140724093005.103468016_nifti_mask.nii',\n '20',\n '9.66',\n '90.1559396901572',\n '144.317313517697']"
     },
     "metadata": {},
     "execution_count": 3
    }
   ],
   "source": [
    "csv_data[0]"
   ]
  },
  {
   "cell_type": "code",
   "execution_count": 4,
   "metadata": {
    "tags": []
   },
   "outputs": [],
   "source": [
    "old = 'D:FLIP_NIFTI'\n",
    "new = '/media/deeplearning/78ca2911-9e9f-4f78-b80a-848024b95f92/FLIP_NIFTI'\n",
    "\n",
    "for serie in csv_data : \n",
    "    ct_path = '/'.join(serie[5].split('/')[-3:])\n",
    "    pet_path = '/'.join(serie[6].split('/')[-3:])\n",
    "    mask_path = '/'.join(serie[7].split('/')[-3:])\n",
    "\n",
    "    new_ct_path = os.path.join(new, ct_path)\n",
    "    new_pet_path = os.path.join(new, pet_path)\n",
    "    new_mask_path = os.path.join(new, mask_path)\n",
    "\n",
    "    serie[5] = new_ct_path\n",
    "    serie[6] = new_pet_path \n",
    "    serie[7] = new_mask_path"
   ]
  },
  {
   "cell_type": "code",
   "execution_count": 5,
   "metadata": {},
   "outputs": [
    {
     "output_type": "execute_result",
     "data": {
      "text/plain": "['CR,014',\n '2017014',\n '1.2.250.1.38.2.1.102.140724093005.103468016',\n 'cr_014_jul 25_2014.csv',\n 'pet0',\n '/media/deeplearning/78ca2911-9e9f-4f78-b80a-848024b95f92/FLIP_NIFTI/CR,014/pet0/1.2.250.1.38.2.1.102.140724093005.103468016_nifti_CT.nii',\n '/media/deeplearning/78ca2911-9e9f-4f78-b80a-848024b95f92/FLIP_NIFTI/CR,014/pet0/1.2.250.1.38.2.1.102.140724093005.103468016_nifti_PT.nii',\n '/media/deeplearning/78ca2911-9e9f-4f78-b80a-848024b95f92/FLIP_NIFTI/CR,014/pet0/1.2.250.1.38.2.1.102.140724093005.103468016_nifti_mask.nii',\n '20',\n '9.66',\n '90.1559396901572',\n '144.317313517697']"
     },
     "metadata": {},
     "execution_count": 5
    }
   ],
   "source": [
    "csv_data[0]"
   ]
  },
  {
   "cell_type": "code",
   "execution_count": 6,
   "metadata": {
    "tags": []
   },
   "outputs": [
    {
     "output_type": "stream",
     "name": "stdout",
     "text": "0\n1\n2\n3\n4\n5\n6\n7\n8\n9\n10\n11\n12\n13\n14\n15\n16\n17\n18\n19\n20\n21\n22\n23\n24\n25\n26\n27\n28\n29\n30\n31\n32\n33\n34\n35\n36\n37\n38\n39\n40\n41\n42\n43\n44\n45\n46\n47\n48\n49\n50\n51\n52\n53\n54\n55\n56\n57\n58\n59\n"
    }
   ],
   "source": [
    "volume = []\n",
    "for serie in csv_data : \n",
    "    print(csv_data.index(serie))\n",
    "    img = sitk.ReadImage(serie[7])\n",
    "    mask_array = sitk.GetArrayFromImage(img).transpose()\n",
    "\n",
    "    pet_img = sitk.ReadImage(serie[6])\n",
    "\n",
    "    spacing = pet_img.GetSpacing() \n",
    "\n",
    "    volume_voxel = spacing[0]*spacing[1]*spacing[2]* 10**(-3)\n",
    "\n",
    "    pet_array = sitk.GetArrayFromImage(pet_img).transpose()\n",
    "    mask_array = get_threshold_matrix_4D(mask_array , pet_array, 0.41)\n",
    "\n",
    "    number_pixel = len(np.where(mask_array != 0)[0])\n",
    "\n",
    "    volume.append(number_pixel * volume_voxel)\n"
   ]
  },
  {
   "cell_type": "code",
   "execution_count": 7,
   "metadata": {},
   "outputs": [
    {
     "output_type": "execute_result",
     "data": {
      "text/plain": "[392.49021344768613,\n 126.33246117828094,\n 61.54881573791499,\n 142.492691889056,\n 2210.5621395293565,\n 1448.5192340437789,\n 1329.342925701494,\n 72.76369349696324,\n 21.37599872589111,\n 1257.792,\n 1351.1680000000001,\n 242.9470547671183,\n 1567.759937194448,\n 42.29926189103862,\n 155.21340922135232,\n 174.27295899107912,\n 1121.6271338377876,\n 1976.2215155493245,\n 239.5631138158352,\n 1148.682044636953,\n 929.8146953791729,\n 117.95585662664962,\n 26.109448165807407,\n 64.56726055330364,\n 796.6246924937877,\n 95.27152987266163,\n 84.61395238919067,\n 32.090624906122684,\n 1489.8681474970363,\n 825.8500830332923,\n 15.902050734730437,\n 140.29104015935445,\n 603.968,\n 793.344,\n 192.12800000000001,\n 646.464,\n 1788.288,\n 0.768,\n 90.56,\n 330.88,\n 16.37230254370789,\n 55.188095808425686,\n 351.73080358336586,\n 558.3004931241909,\n 628.7163232133905,\n 732.3246329276757,\n 3.8815793264717793,\n 662.7547880762969,\n 226.37569687333493,\n 20.751520245368358,\n 700.2767215655241,\n 43.34430247893487,\n 125.60392589762527,\n 1775.822541860839,\n 42.39878956607636,\n 4.578273051735945,\n 416.87166689556534,\n 4.130398514066124,\n 42.29926189103862,\n 29.36066413613269]"
     },
     "metadata": {},
     "execution_count": 7
    }
   ],
   "source": [
    "volume"
   ]
  },
  {
   "cell_type": "code",
   "execution_count": 8,
   "metadata": {},
   "outputs": [],
   "source": [
    "nifti_directory = '/media/deeplearning/78ca2911-9e9f-4f78-b80a-848024b95f92/FLIP_NIFTI'\n",
    "\n",
    "with open(os.path.join(nifti_directory, 'FLIP_metrics_v3.csv'), 'w') as csv_file : \n",
    "    csv_writer = csv.writer(csv_file, delimiter=',', quotechar='\"', quoting=csv.QUOTE_MINIMAL)\n",
    "    csv_writer.writerow([\"PATIENT_NAME\", \"PATIENT_ID\", \"STUDY_UID\", \"CSV_NAME\", \"PET\", \"NIFTI_CT\" ,\"NIFTI_PET\", \"NIFTI_MASK\", \"ROI\", \"SUV_MAX\", \"DIAM_2D\", \"DIAM_3D\", \"TMTV\"])\n",
    "    for serie in csv_data: \n",
    "        index = csv_data.index(serie)\n",
    "        csv_writer.writerow([serie[0], serie[1], serie[2], serie[3], serie[4], serie[5], serie[6], serie[7], serie[8], serie[9], serie[10], serie[11], volume[index]])"
   ]
  },
  {
   "cell_type": "code",
   "execution_count": null,
   "metadata": {},
   "outputs": [],
   "source": []
  },
  {
   "cell_type": "code",
   "execution_count": null,
   "metadata": {},
   "outputs": [],
   "source": [
    "#READ CSV "
   ]
  },
  {
   "cell_type": "code",
   "execution_count": 2,
   "metadata": {},
   "outputs": [],
   "source": [
    "csv_flip_path = '/media/deeplearning/78ca2911-9e9f-4f78-b80a-848024b95f92/FLIP_NIFTI/FLIP_metrics_v3.csv'\n",
    "\n",
    "with open(csv_flip_path, 'r') as csv_file :\n",
    "    reader = csv.reader(csv_file, delimiter = ',') #liste pour chaque ligne \n",
    "    csv_data = []\n",
    "    for row in reader :\n",
    "        csv_data.append(row)\n",
    "        \n",
    "del csv_data[0] #enlever première ligne"
   ]
  },
  {
   "cell_type": "code",
   "execution_count": 3,
   "metadata": {},
   "outputs": [
    {
     "output_type": "execute_result",
     "data": {
      "text/plain": "['CR,014',\n '2017014',\n '1.2.250.1.38.2.1.102.140724093005.103468016',\n 'cr_014_jul 25_2014.csv',\n 'pet0',\n '/media/deeplearning/78ca2911-9e9f-4f78-b80a-848024b95f92/FLIP_NIFTI/CR,014/pet0/1.2.250.1.38.2.1.102.140724093005.103468016_nifti_CT.nii',\n '/media/deeplearning/78ca2911-9e9f-4f78-b80a-848024b95f92/FLIP_NIFTI/CR,014/pet0/1.2.250.1.38.2.1.102.140724093005.103468016_nifti_PT.nii',\n '/media/deeplearning/78ca2911-9e9f-4f78-b80a-848024b95f92/FLIP_NIFTI/CR,014/pet0/1.2.250.1.38.2.1.102.140724093005.103468016_nifti_mask.nii',\n '20',\n '9.66',\n '90.1559396901572',\n '144.317313517697',\n '392.49021344768613']"
     },
     "metadata": {},
     "execution_count": 3
    }
   ],
   "source": [
    "csv_data[0]"
   ]
  },
  {
   "cell_type": "code",
   "execution_count": 13,
   "metadata": {},
   "outputs": [],
   "source": [
    "#correlation plus grand diametre 3d  / tmtv\n",
    "diametre = []\n",
    "suv = []\n",
    "for serie in csv_data : \n",
    "    index = csv_data.index(serie)\n",
    "    diametre.append(float(serie[-2]))\n",
    "    suv.append(float(serie[-4]))"
   ]
  },
  {
   "cell_type": "code",
   "execution_count": 15,
   "metadata": {},
   "outputs": [
    {
     "output_type": "execute_result",
     "data": {
      "text/plain": "Text(0, 0.5, 'suv')"
     },
     "metadata": {},
     "execution_count": 15
    },
    {
     "output_type": "display_data",
     "data": {
      "text/plain": "<Figure size 432x288 with 1 Axes>",
      "image/svg+xml": "<?xml version=\"1.0\" encoding=\"utf-8\" standalone=\"no\"?>\n<!DOCTYPE svg PUBLIC \"-//W3C//DTD SVG 1.1//EN\"\n  \"http://www.w3.org/Graphics/SVG/1.1/DTD/svg11.dtd\">\n<!-- Created with matplotlib (https://matplotlib.org/) -->\n<svg height=\"262.19625pt\" version=\"1.1\" viewBox=\"0 0 382.603125 262.19625\" width=\"382.603125pt\" xmlns=\"http://www.w3.org/2000/svg\" xmlns:xlink=\"http://www.w3.org/1999/xlink\">\n <metadata>\n  <rdf:RDF xmlns:cc=\"http://creativecommons.org/ns#\" xmlns:dc=\"http://purl.org/dc/elements/1.1/\" xmlns:rdf=\"http://www.w3.org/1999/02/22-rdf-syntax-ns#\">\n   <cc:Work>\n    <dc:type rdf:resource=\"http://purl.org/dc/dcmitype/StillImage\"/>\n    <dc:date>2020-09-08T10:11:01.641752</dc:date>\n    <dc:format>image/svg+xml</dc:format>\n    <dc:creator>\n     <cc:Agent>\n      <dc:title>Matplotlib v3.3.0, https://matplotlib.org/</dc:title>\n     </cc:Agent>\n    </dc:creator>\n   </cc:Work>\n  </rdf:RDF>\n </metadata>\n <defs>\n  <style type=\"text/css\">*{stroke-linecap:butt;stroke-linejoin:round;}</style>\n </defs>\n <g id=\"figure_1\">\n  <g id=\"patch_1\">\n   <path d=\"M 0 262.19625 \nL 382.603125 262.19625 \nL 382.603125 0 \nL 0 0 \nz\n\" style=\"fill:none;\"/>\n  </g>\n  <g id=\"axes_1\">\n   <g id=\"patch_2\">\n    <path d=\"M 40.603125 224.64 \nL 375.403125 224.64 \nL 375.403125 7.2 \nL 40.603125 7.2 \nz\n\" style=\"fill:#ffffff;\"/>\n   </g>\n   <g id=\"PathCollection_1\">\n    <defs>\n     <path d=\"M 0 3 \nC 0.795609 3 1.55874 2.683901 2.12132 2.12132 \nC 2.683901 1.55874 3 0.795609 3 0 \nC 3 -0.795609 2.683901 -1.55874 2.12132 -2.12132 \nC 1.55874 -2.683901 0.795609 -3 0 -3 \nC -0.795609 -3 -1.55874 -2.683901 -2.12132 -2.12132 \nC -2.683901 -1.55874 -3 -0.795609 -3 0 \nC -3 0.795609 -2.683901 1.55874 -2.12132 2.12132 \nC -1.55874 2.683901 -0.795609 3 0 3 \nz\n\" id=\"m57750588f1\" style=\"stroke:#1f77b4;stroke-opacity:0.7;\"/>\n    </defs>\n    <g clip-path=\"url(#p8ce5abeebc)\">\n     <use style=\"fill:#1f77b4;fill-opacity:0.7;stroke:#1f77b4;stroke-opacity:0.7;\" x=\"233.043231\" xlink:href=\"#m57750588f1\" y=\"164.185266\"/>\n     <use style=\"fill:#1f77b4;fill-opacity:0.7;stroke:#1f77b4;stroke-opacity:0.7;\" x=\"181.100779\" xlink:href=\"#m57750588f1\" y=\"171.888842\"/>\n     <use style=\"fill:#1f77b4;fill-opacity:0.7;stroke:#1f77b4;stroke-opacity:0.7;\" x=\"69.667387\" xlink:href=\"#m57750588f1\" y=\"194.056277\"/>\n     <use style=\"fill:#1f77b4;fill-opacity:0.7;stroke:#1f77b4;stroke-opacity:0.7;\" x=\"131.642617\" xlink:href=\"#m57750588f1\" y=\"129.650184\"/>\n     <use style=\"fill:#1f77b4;fill-opacity:0.7;stroke:#1f77b4;stroke-opacity:0.7;\" x=\"219.654964\" xlink:href=\"#m57750588f1\" y=\"190.859555\"/>\n     <use style=\"fill:#1f77b4;fill-opacity:0.7;stroke:#1f77b4;stroke-opacity:0.7;\" x=\"265.602503\" xlink:href=\"#m57750588f1\" y=\"173.723027\"/>\n     <use style=\"fill:#1f77b4;fill-opacity:0.7;stroke:#1f77b4;stroke-opacity:0.7;\" x=\"255.388094\" xlink:href=\"#m57750588f1\" y=\"182.317493\"/>\n     <use style=\"fill:#1f77b4;fill-opacity:0.7;stroke:#1f77b4;stroke-opacity:0.7;\" x=\"87.518754\" xlink:href=\"#m57750588f1\" y=\"200.397316\"/>\n     <use style=\"fill:#1f77b4;fill-opacity:0.7;stroke:#1f77b4;stroke-opacity:0.7;\" x=\"79.050489\" xlink:href=\"#m57750588f1\" y=\"177.653423\"/>\n     <use style=\"fill:#1f77b4;fill-opacity:0.7;stroke:#1f77b4;stroke-opacity:0.7;\" x=\"256.75782\" xlink:href=\"#m57750588f1\" y=\"163.661213\"/>\n     <use style=\"fill:#1f77b4;fill-opacity:0.7;stroke:#1f77b4;stroke-opacity:0.7;\" x=\"236.270395\" xlink:href=\"#m57750588f1\" y=\"172.046058\"/>\n     <use style=\"fill:#1f77b4;fill-opacity:0.7;stroke:#1f77b4;stroke-opacity:0.7;\" x=\"177.080922\" xlink:href=\"#m57750588f1\" y=\"17.083636\"/>\n     <use style=\"fill:#1f77b4;fill-opacity:0.7;stroke:#1f77b4;stroke-opacity:0.7;\" x=\"249.793613\" xlink:href=\"#m57750588f1\" y=\"170.107063\"/>\n     <use style=\"fill:#1f77b4;fill-opacity:0.7;stroke:#1f77b4;stroke-opacity:0.7;\" x=\"200.712702\" xlink:href=\"#m57750588f1\" y=\"121.632176\"/>\n     <use style=\"fill:#1f77b4;fill-opacity:0.7;stroke:#1f77b4;stroke-opacity:0.7;\" x=\"212.638375\" xlink:href=\"#m57750588f1\" y=\"137.877814\"/>\n     <use style=\"fill:#1f77b4;fill-opacity:0.7;stroke:#1f77b4;stroke-opacity:0.7;\" x=\"149.586025\" xlink:href=\"#m57750588f1\" y=\"140.91732\"/>\n     <use style=\"fill:#1f77b4;fill-opacity:0.7;stroke:#1f77b4;stroke-opacity:0.7;\" x=\"238.712489\" xlink:href=\"#m57750588f1\" y=\"173.932648\"/>\n     <use style=\"fill:#1f77b4;fill-opacity:0.7;stroke:#1f77b4;stroke-opacity:0.7;\" x=\"250.622698\" xlink:href=\"#m57750588f1\" y=\"186.824348\"/>\n     <use style=\"fill:#1f77b4;fill-opacity:0.7;stroke:#1f77b4;stroke-opacity:0.7;\" x=\"162.457195\" xlink:href=\"#m57750588f1\" y=\"52.614418\"/>\n     <use style=\"fill:#1f77b4;fill-opacity:0.7;stroke:#1f77b4;stroke-opacity:0.7;\" x=\"306.083696\" xlink:href=\"#m57750588f1\" y=\"159.311574\"/>\n     <use style=\"fill:#1f77b4;fill-opacity:0.7;stroke:#1f77b4;stroke-opacity:0.7;\" x=\"241.748145\" xlink:href=\"#m57750588f1\" y=\"183.208383\"/>\n     <use style=\"fill:#1f77b4;fill-opacity:0.7;stroke:#1f77b4;stroke-opacity:0.7;\" x=\"176.236312\" xlink:href=\"#m57750588f1\" y=\"83.847967\"/>\n     <use style=\"fill:#1f77b4;fill-opacity:0.7;stroke:#1f77b4;stroke-opacity:0.7;\" x=\"106.376178\" xlink:href=\"#m57750588f1\" y=\"173.198974\"/>\n     <use style=\"fill:#1f77b4;fill-opacity:0.7;stroke:#1f77b4;stroke-opacity:0.7;\" x=\"183.928843\" xlink:href=\"#m57750588f1\" y=\"178.387097\"/>\n     <use style=\"fill:#1f77b4;fill-opacity:0.7;stroke:#1f77b4;stroke-opacity:0.7;\" x=\"208.471487\" xlink:href=\"#m57750588f1\" y=\"186.824348\"/>\n     <use style=\"fill:#1f77b4;fill-opacity:0.7;stroke:#1f77b4;stroke-opacity:0.7;\" x=\"201.976499\" xlink:href=\"#m57750588f1\" y=\"181.636225\"/>\n     <use style=\"fill:#1f77b4;fill-opacity:0.7;stroke:#1f77b4;stroke-opacity:0.7;\" x=\"164.614709\" xlink:href=\"#m57750588f1\" y=\"194.527924\"/>\n     <use style=\"fill:#1f77b4;fill-opacity:0.7;stroke:#1f77b4;stroke-opacity:0.7;\" x=\"82.689062\" xlink:href=\"#m57750588f1\" y=\"189.287396\"/>\n     <use style=\"fill:#1f77b4;fill-opacity:0.7;stroke:#1f77b4;stroke-opacity:0.7;\" x=\"295.820826\" xlink:href=\"#m57750588f1\" y=\"151.293566\"/>\n     <use style=\"fill:#1f77b4;fill-opacity:0.7;stroke:#1f77b4;stroke-opacity:0.7;\" x=\"248.006771\" xlink:href=\"#m57750588f1\" y=\"175.452401\"/>\n     <use style=\"fill:#1f77b4;fill-opacity:0.7;stroke:#1f77b4;stroke-opacity:0.7;\" x=\"84.55236\" xlink:href=\"#m57750588f1\" y=\"156.114852\"/>\n     <use style=\"fill:#1f77b4;fill-opacity:0.7;stroke:#1f77b4;stroke-opacity:0.7;\" x=\"171.121804\" xlink:href=\"#m57750588f1\" y=\"199.663642\"/>\n     <use style=\"fill:#1f77b4;fill-opacity:0.7;stroke:#1f77b4;stroke-opacity:0.7;\" x=\"93.342333\" xlink:href=\"#m57750588f1\" y=\"196.676541\"/>\n     <use style=\"fill:#1f77b4;fill-opacity:0.7;stroke:#1f77b4;stroke-opacity:0.7;\" x=\"226.682263\" xlink:href=\"#m57750588f1\" y=\"176.657723\"/>\n     <use style=\"fill:#1f77b4;fill-opacity:0.7;stroke:#1f77b4;stroke-opacity:0.7;\" x=\"140.250592\" xlink:href=\"#m57750588f1\" y=\"179.80204\"/>\n     <use style=\"fill:#1f77b4;fill-opacity:0.7;stroke:#1f77b4;stroke-opacity:0.7;\" x=\"231.238103\" xlink:href=\"#m57750588f1\" y=\"163.084755\"/>\n     <use style=\"fill:#1f77b4;fill-opacity:0.7;stroke:#1f77b4;stroke-opacity:0.7;\" x=\"360.184943\" xlink:href=\"#m57750588f1\" y=\"170.211873\"/>\n     <use style=\"fill:#1f77b4;fill-opacity:0.7;stroke:#1f77b4;stroke-opacity:0.7;\" x=\"61.040344\" xlink:href=\"#m57750588f1\" y=\"214.756364\"/>\n     <use style=\"fill:#1f77b4;fill-opacity:0.7;stroke:#1f77b4;stroke-opacity:0.7;\" x=\"67.171183\" xlink:href=\"#m57750588f1\" y=\"199.034779\"/>\n     <use style=\"fill:#1f77b4;fill-opacity:0.7;stroke:#1f77b4;stroke-opacity:0.7;\" x=\"243.174507\" xlink:href=\"#m57750588f1\" y=\"159.206764\"/>\n     <use style=\"fill:#1f77b4;fill-opacity:0.7;stroke:#1f77b4;stroke-opacity:0.7;\" x=\"106.456894\" xlink:href=\"#m57750588f1\" y=\"197.619836\"/>\n     <use style=\"fill:#1f77b4;fill-opacity:0.7;stroke:#1f77b4;stroke-opacity:0.7;\" x=\"89.601975\" xlink:href=\"#m57750588f1\" y=\"194.842356\"/>\n     <use style=\"fill:#1f77b4;fill-opacity:0.7;stroke:#1f77b4;stroke-opacity:0.7;\" x=\"192.684103\" xlink:href=\"#m57750588f1\" y=\"164.237671\"/>\n     <use style=\"fill:#1f77b4;fill-opacity:0.7;stroke:#1f77b4;stroke-opacity:0.7;\" x=\"213.32175\" xlink:href=\"#m57750588f1\" y=\"168.901741\"/>\n     <use style=\"fill:#1f77b4;fill-opacity:0.7;stroke:#1f77b4;stroke-opacity:0.7;\" x=\"214.438695\" xlink:href=\"#m57750588f1\" y=\"188.082075\"/>\n     <use style=\"fill:#1f77b4;fill-opacity:0.7;stroke:#1f77b4;stroke-opacity:0.7;\" x=\"278.177323\" xlink:href=\"#m57750588f1\" y=\"133.370959\"/>\n     <use style=\"fill:#1f77b4;fill-opacity:0.7;stroke:#1f77b4;stroke-opacity:0.7;\" x=\"65.320301\" xlink:href=\"#m57750588f1\" y=\"173.880243\"/>\n     <use style=\"fill:#1f77b4;fill-opacity:0.7;stroke:#1f77b4;stroke-opacity:0.7;\" x=\"265.678083\" xlink:href=\"#m57750588f1\" y=\"147.258359\"/>\n     <use style=\"fill:#1f77b4;fill-opacity:0.7;stroke:#1f77b4;stroke-opacity:0.7;\" x=\"164.618939\" xlink:href=\"#m57750588f1\" y=\"168.69212\"/>\n     <use style=\"fill:#1f77b4;fill-opacity:0.7;stroke:#1f77b4;stroke-opacity:0.7;\" x=\"98.897667\" xlink:href=\"#m57750588f1\" y=\"168.954146\"/>\n     <use style=\"fill:#1f77b4;fill-opacity:0.7;stroke:#1f77b4;stroke-opacity:0.7;\" x=\"218.548274\" xlink:href=\"#m57750588f1\" y=\"176.02886\"/>\n     <use style=\"fill:#1f77b4;fill-opacity:0.7;stroke:#1f77b4;stroke-opacity:0.7;\" x=\"72.510248\" xlink:href=\"#m57750588f1\" y=\"189.654233\"/>\n     <use style=\"fill:#1f77b4;fill-opacity:0.7;stroke:#1f77b4;stroke-opacity:0.7;\" x=\"236.771449\" xlink:href=\"#m57750588f1\" y=\"179.644824\"/>\n     <use style=\"fill:#1f77b4;fill-opacity:0.7;stroke:#1f77b4;stroke-opacity:0.7;\" x=\"285.359957\" xlink:href=\"#m57750588f1\" y=\"184.832947\"/>\n     <use style=\"fill:#1f77b4;fill-opacity:0.7;stroke:#1f77b4;stroke-opacity:0.7;\" x=\"87.871473\" xlink:href=\"#m57750588f1\" y=\"77.454522\"/>\n     <use style=\"fill:#1f77b4;fill-opacity:0.7;stroke:#1f77b4;stroke-opacity:0.7;\" x=\"63.283504\" xlink:href=\"#m57750588f1\" y=\"109.159718\"/>\n     <use style=\"fill:#1f77b4;fill-opacity:0.7;stroke:#1f77b4;stroke-opacity:0.7;\" x=\"300.779814\" xlink:href=\"#m57750588f1\" y=\"182.474709\"/>\n     <use style=\"fill:#1f77b4;fill-opacity:0.7;stroke:#1f77b4;stroke-opacity:0.7;\" x=\"55.821307\" xlink:href=\"#m57750588f1\" y=\"161.25057\"/>\n     <use style=\"fill:#1f77b4;fill-opacity:0.7;stroke:#1f77b4;stroke-opacity:0.7;\" x=\"80.540004\" xlink:href=\"#m57750588f1\" y=\"191.488418\"/>\n     <use style=\"fill:#1f77b4;fill-opacity:0.7;stroke:#1f77b4;stroke-opacity:0.7;\" x=\"106.547522\" xlink:href=\"#m57750588f1\" y=\"157.477389\"/>\n    </g>\n   </g>\n   <g id=\"matplotlib.axis_1\">\n    <g id=\"xtick_1\">\n     <g id=\"line2d_1\">\n      <defs>\n       <path d=\"M 0 0 \nL 0 3.5 \n\" id=\"m7b5fac775e\" style=\"stroke:#000000;stroke-width:0.8;\"/>\n      </defs>\n      <g>\n       <use style=\"stroke:#000000;stroke-width:0.8;\" x=\"54.888028\" xlink:href=\"#m7b5fac775e\" y=\"224.64\"/>\n      </g>\n     </g>\n     <g id=\"text_1\">\n      <!-- 25 -->\n      <g transform=\"translate(48.525528 239.238438)scale(0.1 -0.1)\">\n       <defs>\n        <path d=\"M 19.1875 8.296875 \nL 53.609375 8.296875 \nL 53.609375 0 \nL 7.328125 0 \nL 7.328125 8.296875 \nQ 12.9375 14.109375 22.625 23.890625 \nQ 32.328125 33.6875 34.8125 36.53125 \nQ 39.546875 41.84375 41.421875 45.53125 \nQ 43.3125 49.21875 43.3125 52.78125 \nQ 43.3125 58.59375 39.234375 62.25 \nQ 35.15625 65.921875 28.609375 65.921875 \nQ 23.96875 65.921875 18.8125 64.3125 \nQ 13.671875 62.703125 7.8125 59.421875 \nL 7.8125 69.390625 \nQ 13.765625 71.78125 18.9375 73 \nQ 24.125 74.21875 28.421875 74.21875 \nQ 39.75 74.21875 46.484375 68.546875 \nQ 53.21875 62.890625 53.21875 53.421875 \nQ 53.21875 48.921875 51.53125 44.890625 \nQ 49.859375 40.875 45.40625 35.40625 \nQ 44.1875 33.984375 37.640625 27.21875 \nQ 31.109375 20.453125 19.1875 8.296875 \nz\n\" id=\"DejaVuSans-50\"/>\n        <path d=\"M 10.796875 72.90625 \nL 49.515625 72.90625 \nL 49.515625 64.59375 \nL 19.828125 64.59375 \nL 19.828125 46.734375 \nQ 21.96875 47.46875 24.109375 47.828125 \nQ 26.265625 48.1875 28.421875 48.1875 \nQ 40.625 48.1875 47.75 41.5 \nQ 54.890625 34.8125 54.890625 23.390625 \nQ 54.890625 11.625 47.5625 5.09375 \nQ 40.234375 -1.421875 26.90625 -1.421875 \nQ 22.3125 -1.421875 17.546875 -0.640625 \nQ 12.796875 0.140625 7.71875 1.703125 \nL 7.71875 11.625 \nQ 12.109375 9.234375 16.796875 8.0625 \nQ 21.484375 6.890625 26.703125 6.890625 \nQ 35.15625 6.890625 40.078125 11.328125 \nQ 45.015625 15.765625 45.015625 23.390625 \nQ 45.015625 31 40.078125 35.4375 \nQ 35.15625 39.890625 26.703125 39.890625 \nQ 22.75 39.890625 18.8125 39.015625 \nQ 14.890625 38.140625 10.796875 36.28125 \nz\n\" id=\"DejaVuSans-53\"/>\n       </defs>\n       <use xlink:href=\"#DejaVuSans-50\"/>\n       <use x=\"63.623047\" xlink:href=\"#DejaVuSans-53\"/>\n      </g>\n     </g>\n    </g>\n    <g id=\"xtick_2\">\n     <g id=\"line2d_2\">\n      <g>\n       <use style=\"stroke:#000000;stroke-width:0.8;\" x=\"92.216057\" xlink:href=\"#m7b5fac775e\" y=\"224.64\"/>\n      </g>\n     </g>\n     <g id=\"text_2\">\n      <!-- 50 -->\n      <g transform=\"translate(85.853557 239.238438)scale(0.1 -0.1)\">\n       <defs>\n        <path d=\"M 31.78125 66.40625 \nQ 24.171875 66.40625 20.328125 58.90625 \nQ 16.5 51.421875 16.5 36.375 \nQ 16.5 21.390625 20.328125 13.890625 \nQ 24.171875 6.390625 31.78125 6.390625 \nQ 39.453125 6.390625 43.28125 13.890625 \nQ 47.125 21.390625 47.125 36.375 \nQ 47.125 51.421875 43.28125 58.90625 \nQ 39.453125 66.40625 31.78125 66.40625 \nz\nM 31.78125 74.21875 \nQ 44.046875 74.21875 50.515625 64.515625 \nQ 56.984375 54.828125 56.984375 36.375 \nQ 56.984375 17.96875 50.515625 8.265625 \nQ 44.046875 -1.421875 31.78125 -1.421875 \nQ 19.53125 -1.421875 13.0625 8.265625 \nQ 6.59375 17.96875 6.59375 36.375 \nQ 6.59375 54.828125 13.0625 64.515625 \nQ 19.53125 74.21875 31.78125 74.21875 \nz\n\" id=\"DejaVuSans-48\"/>\n       </defs>\n       <use xlink:href=\"#DejaVuSans-53\"/>\n       <use x=\"63.623047\" xlink:href=\"#DejaVuSans-48\"/>\n      </g>\n     </g>\n    </g>\n    <g id=\"xtick_3\">\n     <g id=\"line2d_3\">\n      <g>\n       <use style=\"stroke:#000000;stroke-width:0.8;\" x=\"129.544085\" xlink:href=\"#m7b5fac775e\" y=\"224.64\"/>\n      </g>\n     </g>\n     <g id=\"text_3\">\n      <!-- 75 -->\n      <g transform=\"translate(123.181585 239.238438)scale(0.1 -0.1)\">\n       <defs>\n        <path d=\"M 8.203125 72.90625 \nL 55.078125 72.90625 \nL 55.078125 68.703125 \nL 28.609375 0 \nL 18.3125 0 \nL 43.21875 64.59375 \nL 8.203125 64.59375 \nz\n\" id=\"DejaVuSans-55\"/>\n       </defs>\n       <use xlink:href=\"#DejaVuSans-55\"/>\n       <use x=\"63.623047\" xlink:href=\"#DejaVuSans-53\"/>\n      </g>\n     </g>\n    </g>\n    <g id=\"xtick_4\">\n     <g id=\"line2d_4\">\n      <g>\n       <use style=\"stroke:#000000;stroke-width:0.8;\" x=\"166.872114\" xlink:href=\"#m7b5fac775e\" y=\"224.64\"/>\n      </g>\n     </g>\n     <g id=\"text_4\">\n      <!-- 100 -->\n      <g transform=\"translate(157.328364 239.238438)scale(0.1 -0.1)\">\n       <defs>\n        <path d=\"M 12.40625 8.296875 \nL 28.515625 8.296875 \nL 28.515625 63.921875 \nL 10.984375 60.40625 \nL 10.984375 69.390625 \nL 28.421875 72.90625 \nL 38.28125 72.90625 \nL 38.28125 8.296875 \nL 54.390625 8.296875 \nL 54.390625 0 \nL 12.40625 0 \nz\n\" id=\"DejaVuSans-49\"/>\n       </defs>\n       <use xlink:href=\"#DejaVuSans-49\"/>\n       <use x=\"63.623047\" xlink:href=\"#DejaVuSans-48\"/>\n       <use x=\"127.246094\" xlink:href=\"#DejaVuSans-48\"/>\n      </g>\n     </g>\n    </g>\n    <g id=\"xtick_5\">\n     <g id=\"line2d_5\">\n      <g>\n       <use style=\"stroke:#000000;stroke-width:0.8;\" x=\"204.200142\" xlink:href=\"#m7b5fac775e\" y=\"224.64\"/>\n      </g>\n     </g>\n     <g id=\"text_5\">\n      <!-- 125 -->\n      <g transform=\"translate(194.656392 239.238438)scale(0.1 -0.1)\">\n       <use xlink:href=\"#DejaVuSans-49\"/>\n       <use x=\"63.623047\" xlink:href=\"#DejaVuSans-50\"/>\n       <use x=\"127.246094\" xlink:href=\"#DejaVuSans-53\"/>\n      </g>\n     </g>\n    </g>\n    <g id=\"xtick_6\">\n     <g id=\"line2d_6\">\n      <g>\n       <use style=\"stroke:#000000;stroke-width:0.8;\" x=\"241.528171\" xlink:href=\"#m7b5fac775e\" y=\"224.64\"/>\n      </g>\n     </g>\n     <g id=\"text_6\">\n      <!-- 150 -->\n      <g transform=\"translate(231.984421 239.238438)scale(0.1 -0.1)\">\n       <use xlink:href=\"#DejaVuSans-49\"/>\n       <use x=\"63.623047\" xlink:href=\"#DejaVuSans-53\"/>\n       <use x=\"127.246094\" xlink:href=\"#DejaVuSans-48\"/>\n      </g>\n     </g>\n    </g>\n    <g id=\"xtick_7\">\n     <g id=\"line2d_7\">\n      <g>\n       <use style=\"stroke:#000000;stroke-width:0.8;\" x=\"278.856199\" xlink:href=\"#m7b5fac775e\" y=\"224.64\"/>\n      </g>\n     </g>\n     <g id=\"text_7\">\n      <!-- 175 -->\n      <g transform=\"translate(269.312449 239.238438)scale(0.1 -0.1)\">\n       <use xlink:href=\"#DejaVuSans-49\"/>\n       <use x=\"63.623047\" xlink:href=\"#DejaVuSans-55\"/>\n       <use x=\"127.246094\" xlink:href=\"#DejaVuSans-53\"/>\n      </g>\n     </g>\n    </g>\n    <g id=\"xtick_8\">\n     <g id=\"line2d_8\">\n      <g>\n       <use style=\"stroke:#000000;stroke-width:0.8;\" x=\"316.184228\" xlink:href=\"#m7b5fac775e\" y=\"224.64\"/>\n      </g>\n     </g>\n     <g id=\"text_8\">\n      <!-- 200 -->\n      <g transform=\"translate(306.640478 239.238438)scale(0.1 -0.1)\">\n       <use xlink:href=\"#DejaVuSans-50\"/>\n       <use x=\"63.623047\" xlink:href=\"#DejaVuSans-48\"/>\n       <use x=\"127.246094\" xlink:href=\"#DejaVuSans-48\"/>\n      </g>\n     </g>\n    </g>\n    <g id=\"xtick_9\">\n     <g id=\"line2d_9\">\n      <g>\n       <use style=\"stroke:#000000;stroke-width:0.8;\" x=\"353.512256\" xlink:href=\"#m7b5fac775e\" y=\"224.64\"/>\n      </g>\n     </g>\n     <g id=\"text_9\">\n      <!-- 225 -->\n      <g transform=\"translate(343.968506 239.238438)scale(0.1 -0.1)\">\n       <use xlink:href=\"#DejaVuSans-50\"/>\n       <use x=\"63.623047\" xlink:href=\"#DejaVuSans-50\"/>\n       <use x=\"127.246094\" xlink:href=\"#DejaVuSans-53\"/>\n      </g>\n     </g>\n    </g>\n    <g id=\"text_10\">\n     <!-- diamètre 3d -->\n     <g transform=\"translate(177.504687 252.916563)scale(0.1 -0.1)\">\n      <defs>\n       <path d=\"M 45.40625 46.390625 \nL 45.40625 75.984375 \nL 54.390625 75.984375 \nL 54.390625 0 \nL 45.40625 0 \nL 45.40625 8.203125 \nQ 42.578125 3.328125 38.25 0.953125 \nQ 33.9375 -1.421875 27.875 -1.421875 \nQ 17.96875 -1.421875 11.734375 6.484375 \nQ 5.515625 14.40625 5.515625 27.296875 \nQ 5.515625 40.1875 11.734375 48.09375 \nQ 17.96875 56 27.875 56 \nQ 33.9375 56 38.25 53.625 \nQ 42.578125 51.265625 45.40625 46.390625 \nz\nM 14.796875 27.296875 \nQ 14.796875 17.390625 18.875 11.75 \nQ 22.953125 6.109375 30.078125 6.109375 \nQ 37.203125 6.109375 41.296875 11.75 \nQ 45.40625 17.390625 45.40625 27.296875 \nQ 45.40625 37.203125 41.296875 42.84375 \nQ 37.203125 48.484375 30.078125 48.484375 \nQ 22.953125 48.484375 18.875 42.84375 \nQ 14.796875 37.203125 14.796875 27.296875 \nz\n\" id=\"DejaVuSans-100\"/>\n       <path d=\"M 9.421875 54.6875 \nL 18.40625 54.6875 \nL 18.40625 0 \nL 9.421875 0 \nz\nM 9.421875 75.984375 \nL 18.40625 75.984375 \nL 18.40625 64.59375 \nL 9.421875 64.59375 \nz\n\" id=\"DejaVuSans-105\"/>\n       <path d=\"M 34.28125 27.484375 \nQ 23.390625 27.484375 19.1875 25 \nQ 14.984375 22.515625 14.984375 16.5 \nQ 14.984375 11.71875 18.140625 8.90625 \nQ 21.296875 6.109375 26.703125 6.109375 \nQ 34.1875 6.109375 38.703125 11.40625 \nQ 43.21875 16.703125 43.21875 25.484375 \nL 43.21875 27.484375 \nz\nM 52.203125 31.203125 \nL 52.203125 0 \nL 43.21875 0 \nL 43.21875 8.296875 \nQ 40.140625 3.328125 35.546875 0.953125 \nQ 30.953125 -1.421875 24.3125 -1.421875 \nQ 15.921875 -1.421875 10.953125 3.296875 \nQ 6 8.015625 6 15.921875 \nQ 6 25.140625 12.171875 29.828125 \nQ 18.359375 34.515625 30.609375 34.515625 \nL 43.21875 34.515625 \nL 43.21875 35.40625 \nQ 43.21875 41.609375 39.140625 45 \nQ 35.0625 48.390625 27.6875 48.390625 \nQ 23 48.390625 18.546875 47.265625 \nQ 14.109375 46.140625 10.015625 43.890625 \nL 10.015625 52.203125 \nQ 14.9375 54.109375 19.578125 55.046875 \nQ 24.21875 56 28.609375 56 \nQ 40.484375 56 46.34375 49.84375 \nQ 52.203125 43.703125 52.203125 31.203125 \nz\n\" id=\"DejaVuSans-97\"/>\n       <path d=\"M 52 44.1875 \nQ 55.375 50.25 60.0625 53.125 \nQ 64.75 56 71.09375 56 \nQ 79.640625 56 84.28125 50.015625 \nQ 88.921875 44.046875 88.921875 33.015625 \nL 88.921875 0 \nL 79.890625 0 \nL 79.890625 32.71875 \nQ 79.890625 40.578125 77.09375 44.375 \nQ 74.3125 48.1875 68.609375 48.1875 \nQ 61.625 48.1875 57.5625 43.546875 \nQ 53.515625 38.921875 53.515625 30.90625 \nL 53.515625 0 \nL 44.484375 0 \nL 44.484375 32.71875 \nQ 44.484375 40.625 41.703125 44.40625 \nQ 38.921875 48.1875 33.109375 48.1875 \nQ 26.21875 48.1875 22.15625 43.53125 \nQ 18.109375 38.875 18.109375 30.90625 \nL 18.109375 0 \nL 9.078125 0 \nL 9.078125 54.6875 \nL 18.109375 54.6875 \nL 18.109375 46.1875 \nQ 21.1875 51.21875 25.484375 53.609375 \nQ 29.78125 56 35.6875 56 \nQ 41.65625 56 45.828125 52.96875 \nQ 50 49.953125 52 44.1875 \nz\n\" id=\"DejaVuSans-109\"/>\n       <path d=\"M 56.203125 29.59375 \nL 56.203125 25.203125 \nL 14.890625 25.203125 \nQ 15.484375 15.921875 20.484375 11.0625 \nQ 25.484375 6.203125 34.421875 6.203125 \nQ 39.59375 6.203125 44.453125 7.46875 \nQ 49.3125 8.734375 54.109375 11.28125 \nL 54.109375 2.78125 \nQ 49.265625 0.734375 44.1875 -0.34375 \nQ 39.109375 -1.421875 33.890625 -1.421875 \nQ 20.796875 -1.421875 13.15625 6.1875 \nQ 5.515625 13.8125 5.515625 26.8125 \nQ 5.515625 40.234375 12.765625 48.109375 \nQ 20.015625 56 32.328125 56 \nQ 43.359375 56 49.78125 48.890625 \nQ 56.203125 41.796875 56.203125 29.59375 \nz\nM 47.21875 32.234375 \nQ 47.125 39.59375 43.09375 43.984375 \nQ 39.0625 48.390625 32.421875 48.390625 \nQ 24.90625 48.390625 20.390625 44.140625 \nQ 15.875 39.890625 15.1875 32.171875 \nz\nM 24.671875 79.984375 \nL 38.4375 61.71875 \nL 30.96875 61.71875 \nL 15.046875 79.984375 \nz\n\" id=\"DejaVuSans-232\"/>\n       <path d=\"M 18.3125 70.21875 \nL 18.3125 54.6875 \nL 36.8125 54.6875 \nL 36.8125 47.703125 \nL 18.3125 47.703125 \nL 18.3125 18.015625 \nQ 18.3125 11.328125 20.140625 9.421875 \nQ 21.96875 7.515625 27.59375 7.515625 \nL 36.8125 7.515625 \nL 36.8125 0 \nL 27.59375 0 \nQ 17.1875 0 13.234375 3.875 \nQ 9.28125 7.765625 9.28125 18.015625 \nL 9.28125 47.703125 \nL 2.6875 47.703125 \nL 2.6875 54.6875 \nL 9.28125 54.6875 \nL 9.28125 70.21875 \nz\n\" id=\"DejaVuSans-116\"/>\n       <path d=\"M 41.109375 46.296875 \nQ 39.59375 47.171875 37.8125 47.578125 \nQ 36.03125 48 33.890625 48 \nQ 26.265625 48 22.1875 43.046875 \nQ 18.109375 38.09375 18.109375 28.8125 \nL 18.109375 0 \nL 9.078125 0 \nL 9.078125 54.6875 \nL 18.109375 54.6875 \nL 18.109375 46.1875 \nQ 20.953125 51.171875 25.484375 53.578125 \nQ 30.03125 56 36.53125 56 \nQ 37.453125 56 38.578125 55.875 \nQ 39.703125 55.765625 41.0625 55.515625 \nz\n\" id=\"DejaVuSans-114\"/>\n       <path d=\"M 56.203125 29.59375 \nL 56.203125 25.203125 \nL 14.890625 25.203125 \nQ 15.484375 15.921875 20.484375 11.0625 \nQ 25.484375 6.203125 34.421875 6.203125 \nQ 39.59375 6.203125 44.453125 7.46875 \nQ 49.3125 8.734375 54.109375 11.28125 \nL 54.109375 2.78125 \nQ 49.265625 0.734375 44.1875 -0.34375 \nQ 39.109375 -1.421875 33.890625 -1.421875 \nQ 20.796875 -1.421875 13.15625 6.1875 \nQ 5.515625 13.8125 5.515625 26.8125 \nQ 5.515625 40.234375 12.765625 48.109375 \nQ 20.015625 56 32.328125 56 \nQ 43.359375 56 49.78125 48.890625 \nQ 56.203125 41.796875 56.203125 29.59375 \nz\nM 47.21875 32.234375 \nQ 47.125 39.59375 43.09375 43.984375 \nQ 39.0625 48.390625 32.421875 48.390625 \nQ 24.90625 48.390625 20.390625 44.140625 \nQ 15.875 39.890625 15.1875 32.171875 \nz\n\" id=\"DejaVuSans-101\"/>\n       <path id=\"DejaVuSans-32\"/>\n       <path d=\"M 40.578125 39.3125 \nQ 47.65625 37.796875 51.625 33 \nQ 55.609375 28.21875 55.609375 21.1875 \nQ 55.609375 10.40625 48.1875 4.484375 \nQ 40.765625 -1.421875 27.09375 -1.421875 \nQ 22.515625 -1.421875 17.65625 -0.515625 \nQ 12.796875 0.390625 7.625 2.203125 \nL 7.625 11.71875 \nQ 11.71875 9.328125 16.59375 8.109375 \nQ 21.484375 6.890625 26.8125 6.890625 \nQ 36.078125 6.890625 40.9375 10.546875 \nQ 45.796875 14.203125 45.796875 21.1875 \nQ 45.796875 27.640625 41.28125 31.265625 \nQ 36.765625 34.90625 28.71875 34.90625 \nL 20.21875 34.90625 \nL 20.21875 43.015625 \nL 29.109375 43.015625 \nQ 36.375 43.015625 40.234375 45.921875 \nQ 44.09375 48.828125 44.09375 54.296875 \nQ 44.09375 59.90625 40.109375 62.90625 \nQ 36.140625 65.921875 28.71875 65.921875 \nQ 24.65625 65.921875 20.015625 65.03125 \nQ 15.375 64.15625 9.8125 62.3125 \nL 9.8125 71.09375 \nQ 15.4375 72.65625 20.34375 73.4375 \nQ 25.25 74.21875 29.59375 74.21875 \nQ 40.828125 74.21875 47.359375 69.109375 \nQ 53.90625 64.015625 53.90625 55.328125 \nQ 53.90625 49.265625 50.4375 45.09375 \nQ 46.96875 40.921875 40.578125 39.3125 \nz\n\" id=\"DejaVuSans-51\"/>\n      </defs>\n      <use xlink:href=\"#DejaVuSans-100\"/>\n      <use x=\"63.476562\" xlink:href=\"#DejaVuSans-105\"/>\n      <use x=\"91.259766\" xlink:href=\"#DejaVuSans-97\"/>\n      <use x=\"152.539062\" xlink:href=\"#DejaVuSans-109\"/>\n      <use x=\"249.951172\" xlink:href=\"#DejaVuSans-232\"/>\n      <use x=\"311.474609\" xlink:href=\"#DejaVuSans-116\"/>\n      <use x=\"350.683594\" xlink:href=\"#DejaVuSans-114\"/>\n      <use x=\"389.546875\" xlink:href=\"#DejaVuSans-101\"/>\n      <use x=\"451.070312\" xlink:href=\"#DejaVuSans-32\"/>\n      <use x=\"482.857422\" xlink:href=\"#DejaVuSans-51\"/>\n      <use x=\"546.480469\" xlink:href=\"#DejaVuSans-100\"/>\n     </g>\n    </g>\n   </g>\n   <g id=\"matplotlib.axis_2\">\n    <g id=\"ytick_1\">\n     <g id=\"line2d_10\">\n      <defs>\n       <path d=\"M 0 0 \nL -3.5 0 \n\" id=\"m44c184908e\" style=\"stroke:#000000;stroke-width:0.8;\"/>\n      </defs>\n      <g>\n       <use style=\"stroke:#000000;stroke-width:0.8;\" x=\"40.603125\" xlink:href=\"#m44c184908e\" y=\"214.808769\"/>\n      </g>\n     </g>\n     <g id=\"text_11\">\n      <!-- 0 -->\n      <g transform=\"translate(27.240625 218.607988)scale(0.1 -0.1)\">\n       <use xlink:href=\"#DejaVuSans-48\"/>\n      </g>\n     </g>\n    </g>\n    <g id=\"ytick_2\">\n     <g id=\"line2d_11\">\n      <g>\n       <use style=\"stroke:#000000;stroke-width:0.8;\" x=\"40.603125\" xlink:href=\"#m44c184908e\" y=\"188.606127\"/>\n      </g>\n     </g>\n     <g id=\"text_12\">\n      <!-- 5 -->\n      <g transform=\"translate(27.240625 192.405346)scale(0.1 -0.1)\">\n       <use xlink:href=\"#DejaVuSans-53\"/>\n      </g>\n     </g>\n    </g>\n    <g id=\"ytick_3\">\n     <g id=\"line2d_12\">\n      <g>\n       <use style=\"stroke:#000000;stroke-width:0.8;\" x=\"40.603125\" xlink:href=\"#m44c184908e\" y=\"162.403486\"/>\n      </g>\n     </g>\n     <g id=\"text_13\">\n      <!-- 10 -->\n      <g transform=\"translate(20.878125 166.202705)scale(0.1 -0.1)\">\n       <use xlink:href=\"#DejaVuSans-49\"/>\n       <use x=\"63.623047\" xlink:href=\"#DejaVuSans-48\"/>\n      </g>\n     </g>\n    </g>\n    <g id=\"ytick_4\">\n     <g id=\"line2d_13\">\n      <g>\n       <use style=\"stroke:#000000;stroke-width:0.8;\" x=\"40.603125\" xlink:href=\"#m44c184908e\" y=\"136.200845\"/>\n      </g>\n     </g>\n     <g id=\"text_14\">\n      <!-- 15 -->\n      <g transform=\"translate(20.878125 140.000063)scale(0.1 -0.1)\">\n       <use xlink:href=\"#DejaVuSans-49\"/>\n       <use x=\"63.623047\" xlink:href=\"#DejaVuSans-53\"/>\n      </g>\n     </g>\n    </g>\n    <g id=\"ytick_5\">\n     <g id=\"line2d_14\">\n      <g>\n       <use style=\"stroke:#000000;stroke-width:0.8;\" x=\"40.603125\" xlink:href=\"#m44c184908e\" y=\"109.998203\"/>\n      </g>\n     </g>\n     <g id=\"text_15\">\n      <!-- 20 -->\n      <g transform=\"translate(20.878125 113.797422)scale(0.1 -0.1)\">\n       <use xlink:href=\"#DejaVuSans-50\"/>\n       <use x=\"63.623047\" xlink:href=\"#DejaVuSans-48\"/>\n      </g>\n     </g>\n    </g>\n    <g id=\"ytick_6\">\n     <g id=\"line2d_15\">\n      <g>\n       <use style=\"stroke:#000000;stroke-width:0.8;\" x=\"40.603125\" xlink:href=\"#m44c184908e\" y=\"83.795562\"/>\n      </g>\n     </g>\n     <g id=\"text_16\">\n      <!-- 25 -->\n      <g transform=\"translate(20.878125 87.59478)scale(0.1 -0.1)\">\n       <use xlink:href=\"#DejaVuSans-50\"/>\n       <use x=\"63.623047\" xlink:href=\"#DejaVuSans-53\"/>\n      </g>\n     </g>\n    </g>\n    <g id=\"ytick_7\">\n     <g id=\"line2d_16\">\n      <g>\n       <use style=\"stroke:#000000;stroke-width:0.8;\" x=\"40.603125\" xlink:href=\"#m44c184908e\" y=\"57.59292\"/>\n      </g>\n     </g>\n     <g id=\"text_17\">\n      <!-- 30 -->\n      <g transform=\"translate(20.878125 61.392139)scale(0.1 -0.1)\">\n       <use xlink:href=\"#DejaVuSans-51\"/>\n       <use x=\"63.623047\" xlink:href=\"#DejaVuSans-48\"/>\n      </g>\n     </g>\n    </g>\n    <g id=\"ytick_8\">\n     <g id=\"line2d_17\">\n      <g>\n       <use style=\"stroke:#000000;stroke-width:0.8;\" x=\"40.603125\" xlink:href=\"#m44c184908e\" y=\"31.390279\"/>\n      </g>\n     </g>\n     <g id=\"text_18\">\n      <!-- 35 -->\n      <g transform=\"translate(20.878125 35.189497)scale(0.1 -0.1)\">\n       <use xlink:href=\"#DejaVuSans-51\"/>\n       <use x=\"63.623047\" xlink:href=\"#DejaVuSans-53\"/>\n      </g>\n     </g>\n    </g>\n    <g id=\"text_19\">\n     <!-- suv -->\n     <g transform=\"translate(14.798438 124.652813)rotate(-90)scale(0.1 -0.1)\">\n      <defs>\n       <path d=\"M 44.28125 53.078125 \nL 44.28125 44.578125 \nQ 40.484375 46.53125 36.375 47.5 \nQ 32.28125 48.484375 27.875 48.484375 \nQ 21.1875 48.484375 17.84375 46.4375 \nQ 14.5 44.390625 14.5 40.28125 \nQ 14.5 37.15625 16.890625 35.375 \nQ 19.28125 33.59375 26.515625 31.984375 \nL 29.59375 31.296875 \nQ 39.15625 29.25 43.1875 25.515625 \nQ 47.21875 21.78125 47.21875 15.09375 \nQ 47.21875 7.46875 41.1875 3.015625 \nQ 35.15625 -1.421875 24.609375 -1.421875 \nQ 20.21875 -1.421875 15.453125 -0.5625 \nQ 10.6875 0.296875 5.421875 2 \nL 5.421875 11.28125 \nQ 10.40625 8.6875 15.234375 7.390625 \nQ 20.0625 6.109375 24.8125 6.109375 \nQ 31.15625 6.109375 34.5625 8.28125 \nQ 37.984375 10.453125 37.984375 14.40625 \nQ 37.984375 18.0625 35.515625 20.015625 \nQ 33.0625 21.96875 24.703125 23.78125 \nL 21.578125 24.515625 \nQ 13.234375 26.265625 9.515625 29.90625 \nQ 5.8125 33.546875 5.8125 39.890625 \nQ 5.8125 47.609375 11.28125 51.796875 \nQ 16.75 56 26.8125 56 \nQ 31.78125 56 36.171875 55.265625 \nQ 40.578125 54.546875 44.28125 53.078125 \nz\n\" id=\"DejaVuSans-115\"/>\n       <path d=\"M 8.5 21.578125 \nL 8.5 54.6875 \nL 17.484375 54.6875 \nL 17.484375 21.921875 \nQ 17.484375 14.15625 20.5 10.265625 \nQ 23.53125 6.390625 29.59375 6.390625 \nQ 36.859375 6.390625 41.078125 11.03125 \nQ 45.3125 15.671875 45.3125 23.6875 \nL 45.3125 54.6875 \nL 54.296875 54.6875 \nL 54.296875 0 \nL 45.3125 0 \nL 45.3125 8.40625 \nQ 42.046875 3.421875 37.71875 1 \nQ 33.40625 -1.421875 27.6875 -1.421875 \nQ 18.265625 -1.421875 13.375 4.4375 \nQ 8.5 10.296875 8.5 21.578125 \nz\nM 31.109375 56 \nz\n\" id=\"DejaVuSans-117\"/>\n       <path d=\"M 2.984375 54.6875 \nL 12.5 54.6875 \nL 29.59375 8.796875 \nL 46.6875 54.6875 \nL 56.203125 54.6875 \nL 35.6875 0 \nL 23.484375 0 \nz\n\" id=\"DejaVuSans-118\"/>\n      </defs>\n      <use xlink:href=\"#DejaVuSans-115\"/>\n      <use x=\"52.099609\" xlink:href=\"#DejaVuSans-117\"/>\n      <use x=\"115.478516\" xlink:href=\"#DejaVuSans-118\"/>\n     </g>\n    </g>\n   </g>\n   <g id=\"patch_3\">\n    <path d=\"M 40.603125 224.64 \nL 40.603125 7.2 \n\" style=\"fill:none;stroke:#000000;stroke-linecap:square;stroke-linejoin:miter;stroke-width:0.8;\"/>\n   </g>\n   <g id=\"patch_4\">\n    <path d=\"M 375.403125 224.64 \nL 375.403125 7.2 \n\" style=\"fill:none;stroke:#000000;stroke-linecap:square;stroke-linejoin:miter;stroke-width:0.8;\"/>\n   </g>\n   <g id=\"patch_5\">\n    <path d=\"M 40.603125 224.64 \nL 375.403125 224.64 \n\" style=\"fill:none;stroke:#000000;stroke-linecap:square;stroke-linejoin:miter;stroke-width:0.8;\"/>\n   </g>\n   <g id=\"patch_6\">\n    <path d=\"M 40.603125 7.2 \nL 375.403125 7.2 \n\" style=\"fill:none;stroke:#000000;stroke-linecap:square;stroke-linejoin:miter;stroke-width:0.8;\"/>\n   </g>\n  </g>\n </g>\n <defs>\n  <clipPath id=\"p8ce5abeebc\">\n   <rect height=\"217.44\" width=\"334.8\" x=\"40.603125\" y=\"7.2\"/>\n  </clipPath>\n </defs>\n</svg>\n",
      "image/png": "[encoded data removed]"
     },
     "metadata": {
      "needs_background": "light"
     }
    }
   ],
   "source": [
    "import matplotlib.pyplot as plt \n",
    "\n",
    "plt.scatter(diametre, suv, alpha=0.7)\n",
    "plt.xlabel(\"diamètre 3d\")\n",
    "plt.ylabel(\"suv\")\n"
   ]
  },
  {
   "cell_type": "code",
   "execution_count": 16,
   "metadata": {},
   "outputs": [
    {
     "output_type": "execute_result",
     "data": {
      "text/plain": "SpearmanrResult(correlation=0.19338973869244327, pvalue=0.13874123712932174)"
     },
     "metadata": {},
     "execution_count": 16
    }
   ],
   "source": [
    "from scipy.stats import spearmanr\n",
    "\n",
    "spearmanr(diametre, suv)"
   ]
  },
  {
   "cell_type": "code",
   "execution_count": 17,
   "metadata": {
    "tags": []
   },
   "outputs": [
    {
     "output_type": "stream",
     "name": "stdout",
     "text": "(0.04468181733854691, 0.7346153049523119)\n"
    }
   ],
   "source": [
    "from scipy.stats import pearsonr \n",
    "\n",
    "print(pearsonr(diametre, suv))\n"
   ]
  },
  {
   "cell_type": "code",
   "execution_count": null,
   "metadata": {},
   "outputs": [],
   "source": []
  },
  {
   "cell_type": "code",
   "execution_count": 18,
   "metadata": {},
   "outputs": [
    {
     "output_type": "execute_result",
     "data": {
      "text/plain": "Text(0, 0.5, 'suv')"
     },
     "metadata": {},
     "execution_count": 18
    },
    {
     "output_type": "display_data",
     "data": {
      "text/plain": "<Figure size 432x288 with 1 Axes>",
      "image/svg+xml": "<?xml version=\"1.0\" encoding=\"utf-8\" standalone=\"no\"?>\n<!DOCTYPE svg PUBLIC \"-//W3C//DTD SVG 1.1//EN\"\n  \"http://www.w3.org/Graphics/SVG/1.1/DTD/svg11.dtd\">\n<!-- Created with matplotlib (https://matplotlib.org/) -->\n<svg height=\"262.19625pt\" version=\"1.1\" viewBox=\"0 0 382.603125 262.19625\" width=\"382.603125pt\" xmlns=\"http://www.w3.org/2000/svg\" xmlns:xlink=\"http://www.w3.org/1999/xlink\">\n <metadata>\n  <rdf:RDF xmlns:cc=\"http://creativecommons.org/ns#\" xmlns:dc=\"http://purl.org/dc/elements/1.1/\" xmlns:rdf=\"http://www.w3.org/1999/02/22-rdf-syntax-ns#\">\n   <cc:Work>\n    <dc:type rdf:resource=\"http://purl.org/dc/dcmitype/StillImage\"/>\n    <dc:date>2020-09-08T10:11:09.336537</dc:date>\n    <dc:format>image/svg+xml</dc:format>\n    <dc:creator>\n     <cc:Agent>\n      <dc:title>Matplotlib v3.3.0, https://matplotlib.org/</dc:title>\n     </cc:Agent>\n    </dc:creator>\n   </cc:Work>\n  </rdf:RDF>\n </metadata>\n <defs>\n  <style type=\"text/css\">*{stroke-linecap:butt;stroke-linejoin:round;}</style>\n </defs>\n <g id=\"figure_1\">\n  <g id=\"patch_1\">\n   <path d=\"M 0 262.19625 \nL 382.603125 262.19625 \nL 382.603125 0 \nL 0 0 \nz\n\" style=\"fill:none;\"/>\n  </g>\n  <g id=\"axes_1\">\n   <g id=\"patch_2\">\n    <path d=\"M 40.603125 224.64 \nL 375.403125 224.64 \nL 375.403125 7.2 \nL 40.603125 7.2 \nz\n\" style=\"fill:#ffffff;\"/>\n   </g>\n   <g id=\"PathCollection_1\">\n    <defs>\n     <path d=\"M 0 3 \nC 0.795609 3 1.55874 2.683901 2.12132 2.12132 \nC 2.683901 1.55874 3 0.795609 3 0 \nC 3 -0.795609 2.683901 -1.55874 2.12132 -2.12132 \nC 1.55874 -2.683901 0.795609 -3 0 -3 \nC -0.795609 -3 -1.55874 -2.683901 -2.12132 -2.12132 \nC -2.683901 -1.55874 -3 -0.795609 -3 0 \nC -3 0.795609 -2.683901 1.55874 -2.12132 2.12132 \nC -1.55874 2.683901 -0.795609 3 0 3 \nz\n\" id=\"mda0634b13a\" style=\"stroke:#1f77b4;stroke-opacity:0.7;\"/>\n    </defs>\n    <g clip-path=\"url(#p7d33fa6501)\">\n     <use style=\"fill:#1f77b4;fill-opacity:0.7;stroke:#1f77b4;stroke-opacity:0.7;\" x=\"160.800354\" xlink:href=\"#mda0634b13a\" y=\"164.185266\"/>\n     <use style=\"fill:#1f77b4;fill-opacity:0.7;stroke:#1f77b4;stroke-opacity:0.7;\" x=\"140.7145\" xlink:href=\"#mda0634b13a\" y=\"171.888842\"/>\n     <use style=\"fill:#1f77b4;fill-opacity:0.7;stroke:#1f77b4;stroke-opacity:0.7;\" x=\"69.695494\" xlink:href=\"#mda0634b13a\" y=\"194.056277\"/>\n     <use style=\"fill:#1f77b4;fill-opacity:0.7;stroke:#1f77b4;stroke-opacity:0.7;\" x=\"113.31766\" xlink:href=\"#mda0634b13a\" y=\"129.650184\"/>\n     <use style=\"fill:#1f77b4;fill-opacity:0.7;stroke:#1f77b4;stroke-opacity:0.7;\" x=\"211.496531\" xlink:href=\"#mda0634b13a\" y=\"190.859555\"/>\n     <use style=\"fill:#1f77b4;fill-opacity:0.7;stroke:#1f77b4;stroke-opacity:0.7;\" x=\"220.900014\" xlink:href=\"#mda0634b13a\" y=\"173.723027\"/>\n     <use style=\"fill:#1f77b4;fill-opacity:0.7;stroke:#1f77b4;stroke-opacity:0.7;\" x=\"206.000004\" xlink:href=\"#mda0634b13a\" y=\"182.317493\"/>\n     <use style=\"fill:#1f77b4;fill-opacity:0.7;stroke:#1f77b4;stroke-opacity:0.7;\" x=\"97.706565\" xlink:href=\"#mda0634b13a\" y=\"200.397316\"/>\n     <use style=\"fill:#1f77b4;fill-opacity:0.7;stroke:#1f77b4;stroke-opacity:0.7;\" x=\"80.735034\" xlink:href=\"#mda0634b13a\" y=\"177.653423\"/>\n     <use style=\"fill:#1f77b4;fill-opacity:0.7;stroke:#1f77b4;stroke-opacity:0.7;\" x=\"261.112895\" xlink:href=\"#mda0634b13a\" y=\"163.661213\"/>\n     <use style=\"fill:#1f77b4;fill-opacity:0.7;stroke:#1f77b4;stroke-opacity:0.7;\" x=\"211.618541\" xlink:href=\"#mda0634b13a\" y=\"172.046058\"/>\n     <use style=\"fill:#1f77b4;fill-opacity:0.7;stroke:#1f77b4;stroke-opacity:0.7;\" x=\"161.196132\" xlink:href=\"#mda0634b13a\" y=\"17.083636\"/>\n     <use style=\"fill:#1f77b4;fill-opacity:0.7;stroke:#1f77b4;stroke-opacity:0.7;\" x=\"218.865832\" xlink:href=\"#mda0634b13a\" y=\"170.107063\"/>\n     <use style=\"fill:#1f77b4;fill-opacity:0.7;stroke:#1f77b4;stroke-opacity:0.7;\" x=\"181.136608\" xlink:href=\"#mda0634b13a\" y=\"121.632176\"/>\n     <use style=\"fill:#1f77b4;fill-opacity:0.7;stroke:#1f77b4;stroke-opacity:0.7;\" x=\"212.933869\" xlink:href=\"#mda0634b13a\" y=\"137.877814\"/>\n     <use style=\"fill:#1f77b4;fill-opacity:0.7;stroke:#1f77b4;stroke-opacity:0.7;\" x=\"151.906615\" xlink:href=\"#mda0634b13a\" y=\"140.91732\"/>\n     <use style=\"fill:#1f77b4;fill-opacity:0.7;stroke:#1f77b4;stroke-opacity:0.7;\" x=\"220.319735\" xlink:href=\"#mda0634b13a\" y=\"173.932648\"/>\n     <use style=\"fill:#1f77b4;fill-opacity:0.7;stroke:#1f77b4;stroke-opacity:0.7;\" x=\"245.842777\" xlink:href=\"#mda0634b13a\" y=\"186.824348\"/>\n     <use style=\"fill:#1f77b4;fill-opacity:0.7;stroke:#1f77b4;stroke-opacity:0.7;\" x=\"163.286906\" xlink:href=\"#mda0634b13a\" y=\"52.614418\"/>\n     <use style=\"fill:#1f77b4;fill-opacity:0.7;stroke:#1f77b4;stroke-opacity:0.7;\" x=\"290.598266\" xlink:href=\"#mda0634b13a\" y=\"159.311574\"/>\n     <use style=\"fill:#1f77b4;fill-opacity:0.7;stroke:#1f77b4;stroke-opacity:0.7;\" x=\"212.495594\" xlink:href=\"#mda0634b13a\" y=\"183.208383\"/>\n     <use style=\"fill:#1f77b4;fill-opacity:0.7;stroke:#1f77b4;stroke-opacity:0.7;\" x=\"164.481426\" xlink:href=\"#mda0634b13a\" y=\"83.847967\"/>\n     <use style=\"fill:#1f77b4;fill-opacity:0.7;stroke:#1f77b4;stroke-opacity:0.7;\" x=\"101.603017\" xlink:href=\"#mda0634b13a\" y=\"173.198974\"/>\n     <use style=\"fill:#1f77b4;fill-opacity:0.7;stroke:#1f77b4;stroke-opacity:0.7;\" x=\"132.650532\" xlink:href=\"#mda0634b13a\" y=\"178.387097\"/>\n     <use style=\"fill:#1f77b4;fill-opacity:0.7;stroke:#1f77b4;stroke-opacity:0.7;\" x=\"196.806539\" xlink:href=\"#mda0634b13a\" y=\"186.824348\"/>\n     <use style=\"fill:#1f77b4;fill-opacity:0.7;stroke:#1f77b4;stroke-opacity:0.7;\" x=\"111.54436\" xlink:href=\"#mda0634b13a\" y=\"181.636225\"/>\n     <use style=\"fill:#1f77b4;fill-opacity:0.7;stroke:#1f77b4;stroke-opacity:0.7;\" x=\"113.864719\" xlink:href=\"#mda0634b13a\" y=\"194.527924\"/>\n     <use style=\"fill:#1f77b4;fill-opacity:0.7;stroke:#1f77b4;stroke-opacity:0.7;\" x=\"87.742584\" xlink:href=\"#mda0634b13a\" y=\"189.287396\"/>\n     <use style=\"fill:#1f77b4;fill-opacity:0.7;stroke:#1f77b4;stroke-opacity:0.7;\" x=\"199.926733\" xlink:href=\"#mda0634b13a\" y=\"151.293566\"/>\n     <use style=\"fill:#1f77b4;fill-opacity:0.7;stroke:#1f77b4;stroke-opacity:0.7;\" x=\"221.28811\" xlink:href=\"#mda0634b13a\" y=\"175.452401\"/>\n     <use style=\"fill:#1f77b4;fill-opacity:0.7;stroke:#1f77b4;stroke-opacity:0.7;\" x=\"55.821307\" xlink:href=\"#mda0634b13a\" y=\"156.114852\"/>\n     <use style=\"fill:#1f77b4;fill-opacity:0.7;stroke:#1f77b4;stroke-opacity:0.7;\" x=\"165.835981\" xlink:href=\"#mda0634b13a\" y=\"199.663642\"/>\n     <use style=\"fill:#1f77b4;fill-opacity:0.7;stroke:#1f77b4;stroke-opacity:0.7;\" x=\"100.731577\" xlink:href=\"#mda0634b13a\" y=\"196.676541\"/>\n     <use style=\"fill:#1f77b4;fill-opacity:0.7;stroke:#1f77b4;stroke-opacity:0.7;\" x=\"179.017197\" xlink:href=\"#mda0634b13a\" y=\"176.657723\"/>\n     <use style=\"fill:#1f77b4;fill-opacity:0.7;stroke:#1f77b4;stroke-opacity:0.7;\" x=\"146.214029\" xlink:href=\"#mda0634b13a\" y=\"179.80204\"/>\n     <use style=\"fill:#1f77b4;fill-opacity:0.7;stroke:#1f77b4;stroke-opacity:0.7;\" x=\"163.947479\" xlink:href=\"#mda0634b13a\" y=\"163.084755\"/>\n     <use style=\"fill:#1f77b4;fill-opacity:0.7;stroke:#1f77b4;stroke-opacity:0.7;\" x=\"360.184943\" xlink:href=\"#mda0634b13a\" y=\"170.211873\"/>\n     <use style=\"fill:#1f77b4;fill-opacity:0.7;stroke:#1f77b4;stroke-opacity:0.7;\" x=\"66.260289\" xlink:href=\"#mda0634b13a\" y=\"214.756364\"/>\n     <use style=\"fill:#1f77b4;fill-opacity:0.7;stroke:#1f77b4;stroke-opacity:0.7;\" x=\"77.632377\" xlink:href=\"#mda0634b13a\" y=\"199.034779\"/>\n     <use style=\"fill:#1f77b4;fill-opacity:0.7;stroke:#1f77b4;stroke-opacity:0.7;\" x=\"168.353437\" xlink:href=\"#mda0634b13a\" y=\"159.206764\"/>\n     <use style=\"fill:#1f77b4;fill-opacity:0.7;stroke:#1f77b4;stroke-opacity:0.7;\" x=\"94.316687\" xlink:href=\"#mda0634b13a\" y=\"197.619836\"/>\n     <use style=\"fill:#1f77b4;fill-opacity:0.7;stroke:#1f77b4;stroke-opacity:0.7;\" x=\"90.102359\" xlink:href=\"#mda0634b13a\" y=\"194.842356\"/>\n     <use style=\"fill:#1f77b4;fill-opacity:0.7;stroke:#1f77b4;stroke-opacity:0.7;\" x=\"153.457241\" xlink:href=\"#mda0634b13a\" y=\"164.237671\"/>\n     <use style=\"fill:#1f77b4;fill-opacity:0.7;stroke:#1f77b4;stroke-opacity:0.7;\" x=\"191.938163\" xlink:href=\"#mda0634b13a\" y=\"168.901741\"/>\n     <use style=\"fill:#1f77b4;fill-opacity:0.7;stroke:#1f77b4;stroke-opacity:0.7;\" x=\"213.498196\" xlink:href=\"#mda0634b13a\" y=\"188.082075\"/>\n     <use style=\"fill:#1f77b4;fill-opacity:0.7;stroke:#1f77b4;stroke-opacity:0.7;\" x=\"272.498068\" xlink:href=\"#mda0634b13a\" y=\"133.370959\"/>\n     <use style=\"fill:#1f77b4;fill-opacity:0.7;stroke:#1f77b4;stroke-opacity:0.7;\" x=\"73.900491\" xlink:href=\"#mda0634b13a\" y=\"173.880243\"/>\n     <use style=\"fill:#1f77b4;fill-opacity:0.7;stroke:#1f77b4;stroke-opacity:0.7;\" x=\"227.863345\" xlink:href=\"#mda0634b13a\" y=\"147.258359\"/>\n     <use style=\"fill:#1f77b4;fill-opacity:0.7;stroke:#1f77b4;stroke-opacity:0.7;\" x=\"136.769329\" xlink:href=\"#mda0634b13a\" y=\"168.69212\"/>\n     <use style=\"fill:#1f77b4;fill-opacity:0.7;stroke:#1f77b4;stroke-opacity:0.7;\" x=\"79.551744\" xlink:href=\"#mda0634b13a\" y=\"168.954146\"/>\n     <use style=\"fill:#1f77b4;fill-opacity:0.7;stroke:#1f77b4;stroke-opacity:0.7;\" x=\"206.898968\" xlink:href=\"#mda0634b13a\" y=\"176.02886\"/>\n     <use style=\"fill:#1f77b4;fill-opacity:0.7;stroke:#1f77b4;stroke-opacity:0.7;\" x=\"78.4757\" xlink:href=\"#mda0634b13a\" y=\"189.654233\"/>\n     <use style=\"fill:#1f77b4;fill-opacity:0.7;stroke:#1f77b4;stroke-opacity:0.7;\" x=\"200.143196\" xlink:href=\"#mda0634b13a\" y=\"179.644824\"/>\n     <use style=\"fill:#1f77b4;fill-opacity:0.7;stroke:#1f77b4;stroke-opacity:0.7;\" x=\"275.108577\" xlink:href=\"#mda0634b13a\" y=\"184.832947\"/>\n     <use style=\"fill:#1f77b4;fill-opacity:0.7;stroke:#1f77b4;stroke-opacity:0.7;\" x=\"98.010234\" xlink:href=\"#mda0634b13a\" y=\"77.454522\"/>\n     <use style=\"fill:#1f77b4;fill-opacity:0.7;stroke:#1f77b4;stroke-opacity:0.7;\" x=\"68.310932\" xlink:href=\"#mda0634b13a\" y=\"109.159718\"/>\n     <use style=\"fill:#1f77b4;fill-opacity:0.7;stroke:#1f77b4;stroke-opacity:0.7;\" x=\"302.294964\" xlink:href=\"#mda0634b13a\" y=\"182.474709\"/>\n     <use style=\"fill:#1f77b4;fill-opacity:0.7;stroke:#1f77b4;stroke-opacity:0.7;\" x=\"61.142105\" xlink:href=\"#mda0634b13a\" y=\"161.25057\"/>\n     <use style=\"fill:#1f77b4;fill-opacity:0.7;stroke:#1f77b4;stroke-opacity:0.7;\" x=\"89.81061\" xlink:href=\"#mda0634b13a\" y=\"191.488418\"/>\n     <use style=\"fill:#1f77b4;fill-opacity:0.7;stroke:#1f77b4;stroke-opacity:0.7;\" x=\"110.877572\" xlink:href=\"#mda0634b13a\" y=\"157.477389\"/>\n    </g>\n   </g>\n   <g id=\"matplotlib.axis_1\">\n    <g id=\"xtick_1\">\n     <g id=\"line2d_1\">\n      <defs>\n       <path d=\"M 0 0 \nL 0 3.5 \n\" id=\"m54f1cf1ca7\" style=\"stroke:#000000;stroke-width:0.8;\"/>\n      </defs>\n      <g>\n       <use style=\"stroke:#000000;stroke-width:0.8;\" x=\"103.126954\" xlink:href=\"#m54f1cf1ca7\" y=\"224.64\"/>\n      </g>\n     </g>\n     <g id=\"text_1\">\n      <!-- 50 -->\n      <g transform=\"translate(96.764454 239.238438)scale(0.1 -0.1)\">\n       <defs>\n        <path d=\"M 10.796875 72.90625 \nL 49.515625 72.90625 \nL 49.515625 64.59375 \nL 19.828125 64.59375 \nL 19.828125 46.734375 \nQ 21.96875 47.46875 24.109375 47.828125 \nQ 26.265625 48.1875 28.421875 48.1875 \nQ 40.625 48.1875 47.75 41.5 \nQ 54.890625 34.8125 54.890625 23.390625 \nQ 54.890625 11.625 47.5625 5.09375 \nQ 40.234375 -1.421875 26.90625 -1.421875 \nQ 22.3125 -1.421875 17.546875 -0.640625 \nQ 12.796875 0.140625 7.71875 1.703125 \nL 7.71875 11.625 \nQ 12.109375 9.234375 16.796875 8.0625 \nQ 21.484375 6.890625 26.703125 6.890625 \nQ 35.15625 6.890625 40.078125 11.328125 \nQ 45.015625 15.765625 45.015625 23.390625 \nQ 45.015625 31 40.078125 35.4375 \nQ 35.15625 39.890625 26.703125 39.890625 \nQ 22.75 39.890625 18.8125 39.015625 \nQ 14.890625 38.140625 10.796875 36.28125 \nz\n\" id=\"DejaVuSans-53\"/>\n        <path d=\"M 31.78125 66.40625 \nQ 24.171875 66.40625 20.328125 58.90625 \nQ 16.5 51.421875 16.5 36.375 \nQ 16.5 21.390625 20.328125 13.890625 \nQ 24.171875 6.390625 31.78125 6.390625 \nQ 39.453125 6.390625 43.28125 13.890625 \nQ 47.125 21.390625 47.125 36.375 \nQ 47.125 51.421875 43.28125 58.90625 \nQ 39.453125 66.40625 31.78125 66.40625 \nz\nM 31.78125 74.21875 \nQ 44.046875 74.21875 50.515625 64.515625 \nQ 56.984375 54.828125 56.984375 36.375 \nQ 56.984375 17.96875 50.515625 8.265625 \nQ 44.046875 -1.421875 31.78125 -1.421875 \nQ 19.53125 -1.421875 13.0625 8.265625 \nQ 6.59375 17.96875 6.59375 36.375 \nQ 6.59375 54.828125 13.0625 64.515625 \nQ 19.53125 74.21875 31.78125 74.21875 \nz\n\" id=\"DejaVuSans-48\"/>\n       </defs>\n       <use xlink:href=\"#DejaVuSans-53\"/>\n       <use x=\"63.623047\" xlink:href=\"#DejaVuSans-48\"/>\n      </g>\n     </g>\n    </g>\n    <g id=\"xtick_2\">\n     <g id=\"line2d_2\">\n      <g>\n       <use style=\"stroke:#000000;stroke-width:0.8;\" x=\"174.938746\" xlink:href=\"#m54f1cf1ca7\" y=\"224.64\"/>\n      </g>\n     </g>\n     <g id=\"text_2\">\n      <!-- 100 -->\n      <g transform=\"translate(165.394996 239.238438)scale(0.1 -0.1)\">\n       <defs>\n        <path d=\"M 12.40625 8.296875 \nL 28.515625 8.296875 \nL 28.515625 63.921875 \nL 10.984375 60.40625 \nL 10.984375 69.390625 \nL 28.421875 72.90625 \nL 38.28125 72.90625 \nL 38.28125 8.296875 \nL 54.390625 8.296875 \nL 54.390625 0 \nL 12.40625 0 \nz\n\" id=\"DejaVuSans-49\"/>\n       </defs>\n       <use xlink:href=\"#DejaVuSans-49\"/>\n       <use x=\"63.623047\" xlink:href=\"#DejaVuSans-48\"/>\n       <use x=\"127.246094\" xlink:href=\"#DejaVuSans-48\"/>\n      </g>\n     </g>\n    </g>\n    <g id=\"xtick_3\">\n     <g id=\"line2d_3\">\n      <g>\n       <use style=\"stroke:#000000;stroke-width:0.8;\" x=\"246.750537\" xlink:href=\"#m54f1cf1ca7\" y=\"224.64\"/>\n      </g>\n     </g>\n     <g id=\"text_3\">\n      <!-- 150 -->\n      <g transform=\"translate(237.206787 239.238438)scale(0.1 -0.1)\">\n       <use xlink:href=\"#DejaVuSans-49\"/>\n       <use x=\"63.623047\" xlink:href=\"#DejaVuSans-53\"/>\n       <use x=\"127.246094\" xlink:href=\"#DejaVuSans-48\"/>\n      </g>\n     </g>\n    </g>\n    <g id=\"xtick_4\">\n     <g id=\"line2d_4\">\n      <g>\n       <use style=\"stroke:#000000;stroke-width:0.8;\" x=\"318.562328\" xlink:href=\"#m54f1cf1ca7\" y=\"224.64\"/>\n      </g>\n     </g>\n     <g id=\"text_4\">\n      <!-- 200 -->\n      <g transform=\"translate(309.018578 239.238438)scale(0.1 -0.1)\">\n       <defs>\n        <path d=\"M 19.1875 8.296875 \nL 53.609375 8.296875 \nL 53.609375 0 \nL 7.328125 0 \nL 7.328125 8.296875 \nQ 12.9375 14.109375 22.625 23.890625 \nQ 32.328125 33.6875 34.8125 36.53125 \nQ 39.546875 41.84375 41.421875 45.53125 \nQ 43.3125 49.21875 43.3125 52.78125 \nQ 43.3125 58.59375 39.234375 62.25 \nQ 35.15625 65.921875 28.609375 65.921875 \nQ 23.96875 65.921875 18.8125 64.3125 \nQ 13.671875 62.703125 7.8125 59.421875 \nL 7.8125 69.390625 \nQ 13.765625 71.78125 18.9375 73 \nQ 24.125 74.21875 28.421875 74.21875 \nQ 39.75 74.21875 46.484375 68.546875 \nQ 53.21875 62.890625 53.21875 53.421875 \nQ 53.21875 48.921875 51.53125 44.890625 \nQ 49.859375 40.875 45.40625 35.40625 \nQ 44.1875 33.984375 37.640625 27.21875 \nQ 31.109375 20.453125 19.1875 8.296875 \nz\n\" id=\"DejaVuSans-50\"/>\n       </defs>\n       <use xlink:href=\"#DejaVuSans-50\"/>\n       <use x=\"63.623047\" xlink:href=\"#DejaVuSans-48\"/>\n       <use x=\"127.246094\" xlink:href=\"#DejaVuSans-48\"/>\n      </g>\n     </g>\n    </g>\n    <g id=\"text_5\">\n     <!-- diamètre 2d -->\n     <g transform=\"translate(177.504687 252.916563)scale(0.1 -0.1)\">\n      <defs>\n       <path d=\"M 45.40625 46.390625 \nL 45.40625 75.984375 \nL 54.390625 75.984375 \nL 54.390625 0 \nL 45.40625 0 \nL 45.40625 8.203125 \nQ 42.578125 3.328125 38.25 0.953125 \nQ 33.9375 -1.421875 27.875 -1.421875 \nQ 17.96875 -1.421875 11.734375 6.484375 \nQ 5.515625 14.40625 5.515625 27.296875 \nQ 5.515625 40.1875 11.734375 48.09375 \nQ 17.96875 56 27.875 56 \nQ 33.9375 56 38.25 53.625 \nQ 42.578125 51.265625 45.40625 46.390625 \nz\nM 14.796875 27.296875 \nQ 14.796875 17.390625 18.875 11.75 \nQ 22.953125 6.109375 30.078125 6.109375 \nQ 37.203125 6.109375 41.296875 11.75 \nQ 45.40625 17.390625 45.40625 27.296875 \nQ 45.40625 37.203125 41.296875 42.84375 \nQ 37.203125 48.484375 30.078125 48.484375 \nQ 22.953125 48.484375 18.875 42.84375 \nQ 14.796875 37.203125 14.796875 27.296875 \nz\n\" id=\"DejaVuSans-100\"/>\n       <path d=\"M 9.421875 54.6875 \nL 18.40625 54.6875 \nL 18.40625 0 \nL 9.421875 0 \nz\nM 9.421875 75.984375 \nL 18.40625 75.984375 \nL 18.40625 64.59375 \nL 9.421875 64.59375 \nz\n\" id=\"DejaVuSans-105\"/>\n       <path d=\"M 34.28125 27.484375 \nQ 23.390625 27.484375 19.1875 25 \nQ 14.984375 22.515625 14.984375 16.5 \nQ 14.984375 11.71875 18.140625 8.90625 \nQ 21.296875 6.109375 26.703125 6.109375 \nQ 34.1875 6.109375 38.703125 11.40625 \nQ 43.21875 16.703125 43.21875 25.484375 \nL 43.21875 27.484375 \nz\nM 52.203125 31.203125 \nL 52.203125 0 \nL 43.21875 0 \nL 43.21875 8.296875 \nQ 40.140625 3.328125 35.546875 0.953125 \nQ 30.953125 -1.421875 24.3125 -1.421875 \nQ 15.921875 -1.421875 10.953125 3.296875 \nQ 6 8.015625 6 15.921875 \nQ 6 25.140625 12.171875 29.828125 \nQ 18.359375 34.515625 30.609375 34.515625 \nL 43.21875 34.515625 \nL 43.21875 35.40625 \nQ 43.21875 41.609375 39.140625 45 \nQ 35.0625 48.390625 27.6875 48.390625 \nQ 23 48.390625 18.546875 47.265625 \nQ 14.109375 46.140625 10.015625 43.890625 \nL 10.015625 52.203125 \nQ 14.9375 54.109375 19.578125 55.046875 \nQ 24.21875 56 28.609375 56 \nQ 40.484375 56 46.34375 49.84375 \nQ 52.203125 43.703125 52.203125 31.203125 \nz\n\" id=\"DejaVuSans-97\"/>\n       <path d=\"M 52 44.1875 \nQ 55.375 50.25 60.0625 53.125 \nQ 64.75 56 71.09375 56 \nQ 79.640625 56 84.28125 50.015625 \nQ 88.921875 44.046875 88.921875 33.015625 \nL 88.921875 0 \nL 79.890625 0 \nL 79.890625 32.71875 \nQ 79.890625 40.578125 77.09375 44.375 \nQ 74.3125 48.1875 68.609375 48.1875 \nQ 61.625 48.1875 57.5625 43.546875 \nQ 53.515625 38.921875 53.515625 30.90625 \nL 53.515625 0 \nL 44.484375 0 \nL 44.484375 32.71875 \nQ 44.484375 40.625 41.703125 44.40625 \nQ 38.921875 48.1875 33.109375 48.1875 \nQ 26.21875 48.1875 22.15625 43.53125 \nQ 18.109375 38.875 18.109375 30.90625 \nL 18.109375 0 \nL 9.078125 0 \nL 9.078125 54.6875 \nL 18.109375 54.6875 \nL 18.109375 46.1875 \nQ 21.1875 51.21875 25.484375 53.609375 \nQ 29.78125 56 35.6875 56 \nQ 41.65625 56 45.828125 52.96875 \nQ 50 49.953125 52 44.1875 \nz\n\" id=\"DejaVuSans-109\"/>\n       <path d=\"M 56.203125 29.59375 \nL 56.203125 25.203125 \nL 14.890625 25.203125 \nQ 15.484375 15.921875 20.484375 11.0625 \nQ 25.484375 6.203125 34.421875 6.203125 \nQ 39.59375 6.203125 44.453125 7.46875 \nQ 49.3125 8.734375 54.109375 11.28125 \nL 54.109375 2.78125 \nQ 49.265625 0.734375 44.1875 -0.34375 \nQ 39.109375 -1.421875 33.890625 -1.421875 \nQ 20.796875 -1.421875 13.15625 6.1875 \nQ 5.515625 13.8125 5.515625 26.8125 \nQ 5.515625 40.234375 12.765625 48.109375 \nQ 20.015625 56 32.328125 56 \nQ 43.359375 56 49.78125 48.890625 \nQ 56.203125 41.796875 56.203125 29.59375 \nz\nM 47.21875 32.234375 \nQ 47.125 39.59375 43.09375 43.984375 \nQ 39.0625 48.390625 32.421875 48.390625 \nQ 24.90625 48.390625 20.390625 44.140625 \nQ 15.875 39.890625 15.1875 32.171875 \nz\nM 24.671875 79.984375 \nL 38.4375 61.71875 \nL 30.96875 61.71875 \nL 15.046875 79.984375 \nz\n\" id=\"DejaVuSans-232\"/>\n       <path d=\"M 18.3125 70.21875 \nL 18.3125 54.6875 \nL 36.8125 54.6875 \nL 36.8125 47.703125 \nL 18.3125 47.703125 \nL 18.3125 18.015625 \nQ 18.3125 11.328125 20.140625 9.421875 \nQ 21.96875 7.515625 27.59375 7.515625 \nL 36.8125 7.515625 \nL 36.8125 0 \nL 27.59375 0 \nQ 17.1875 0 13.234375 3.875 \nQ 9.28125 7.765625 9.28125 18.015625 \nL 9.28125 47.703125 \nL 2.6875 47.703125 \nL 2.6875 54.6875 \nL 9.28125 54.6875 \nL 9.28125 70.21875 \nz\n\" id=\"DejaVuSans-116\"/>\n       <path d=\"M 41.109375 46.296875 \nQ 39.59375 47.171875 37.8125 47.578125 \nQ 36.03125 48 33.890625 48 \nQ 26.265625 48 22.1875 43.046875 \nQ 18.109375 38.09375 18.109375 28.8125 \nL 18.109375 0 \nL 9.078125 0 \nL 9.078125 54.6875 \nL 18.109375 54.6875 \nL 18.109375 46.1875 \nQ 20.953125 51.171875 25.484375 53.578125 \nQ 30.03125 56 36.53125 56 \nQ 37.453125 56 38.578125 55.875 \nQ 39.703125 55.765625 41.0625 55.515625 \nz\n\" id=\"DejaVuSans-114\"/>\n       <path d=\"M 56.203125 29.59375 \nL 56.203125 25.203125 \nL 14.890625 25.203125 \nQ 15.484375 15.921875 20.484375 11.0625 \nQ 25.484375 6.203125 34.421875 6.203125 \nQ 39.59375 6.203125 44.453125 7.46875 \nQ 49.3125 8.734375 54.109375 11.28125 \nL 54.109375 2.78125 \nQ 49.265625 0.734375 44.1875 -0.34375 \nQ 39.109375 -1.421875 33.890625 -1.421875 \nQ 20.796875 -1.421875 13.15625 6.1875 \nQ 5.515625 13.8125 5.515625 26.8125 \nQ 5.515625 40.234375 12.765625 48.109375 \nQ 20.015625 56 32.328125 56 \nQ 43.359375 56 49.78125 48.890625 \nQ 56.203125 41.796875 56.203125 29.59375 \nz\nM 47.21875 32.234375 \nQ 47.125 39.59375 43.09375 43.984375 \nQ 39.0625 48.390625 32.421875 48.390625 \nQ 24.90625 48.390625 20.390625 44.140625 \nQ 15.875 39.890625 15.1875 32.171875 \nz\n\" id=\"DejaVuSans-101\"/>\n       <path id=\"DejaVuSans-32\"/>\n      </defs>\n      <use xlink:href=\"#DejaVuSans-100\"/>\n      <use x=\"63.476562\" xlink:href=\"#DejaVuSans-105\"/>\n      <use x=\"91.259766\" xlink:href=\"#DejaVuSans-97\"/>\n      <use x=\"152.539062\" xlink:href=\"#DejaVuSans-109\"/>\n      <use x=\"249.951172\" xlink:href=\"#DejaVuSans-232\"/>\n      <use x=\"311.474609\" xlink:href=\"#DejaVuSans-116\"/>\n      <use x=\"350.683594\" xlink:href=\"#DejaVuSans-114\"/>\n      <use x=\"389.546875\" xlink:href=\"#DejaVuSans-101\"/>\n      <use x=\"451.070312\" xlink:href=\"#DejaVuSans-32\"/>\n      <use x=\"482.857422\" xlink:href=\"#DejaVuSans-50\"/>\n      <use x=\"546.480469\" xlink:href=\"#DejaVuSans-100\"/>\n     </g>\n    </g>\n   </g>\n   <g id=\"matplotlib.axis_2\">\n    <g id=\"ytick_1\">\n     <g id=\"line2d_5\">\n      <defs>\n       <path d=\"M 0 0 \nL -3.5 0 \n\" id=\"m4ac09481ee\" style=\"stroke:#000000;stroke-width:0.8;\"/>\n      </defs>\n      <g>\n       <use style=\"stroke:#000000;stroke-width:0.8;\" x=\"40.603125\" xlink:href=\"#m4ac09481ee\" y=\"214.808769\"/>\n      </g>\n     </g>\n     <g id=\"text_6\">\n      <!-- 0 -->\n      <g transform=\"translate(27.240625 218.607988)scale(0.1 -0.1)\">\n       <use xlink:href=\"#DejaVuSans-48\"/>\n      </g>\n     </g>\n    </g>\n    <g id=\"ytick_2\">\n     <g id=\"line2d_6\">\n      <g>\n       <use style=\"stroke:#000000;stroke-width:0.8;\" x=\"40.603125\" xlink:href=\"#m4ac09481ee\" y=\"188.606127\"/>\n      </g>\n     </g>\n     <g id=\"text_7\">\n      <!-- 5 -->\n      <g transform=\"translate(27.240625 192.405346)scale(0.1 -0.1)\">\n       <use xlink:href=\"#DejaVuSans-53\"/>\n      </g>\n     </g>\n    </g>\n    <g id=\"ytick_3\">\n     <g id=\"line2d_7\">\n      <g>\n       <use style=\"stroke:#000000;stroke-width:0.8;\" x=\"40.603125\" xlink:href=\"#m4ac09481ee\" y=\"162.403486\"/>\n      </g>\n     </g>\n     <g id=\"text_8\">\n      <!-- 10 -->\n      <g transform=\"translate(20.878125 166.202705)scale(0.1 -0.1)\">\n       <use xlink:href=\"#DejaVuSans-49\"/>\n       <use x=\"63.623047\" xlink:href=\"#DejaVuSans-48\"/>\n      </g>\n     </g>\n    </g>\n    <g id=\"ytick_4\">\n     <g id=\"line2d_8\">\n      <g>\n       <use style=\"stroke:#000000;stroke-width:0.8;\" x=\"40.603125\" xlink:href=\"#m4ac09481ee\" y=\"136.200845\"/>\n      </g>\n     </g>\n     <g id=\"text_9\">\n      <!-- 15 -->\n      <g transform=\"translate(20.878125 140.000063)scale(0.1 -0.1)\">\n       <use xlink:href=\"#DejaVuSans-49\"/>\n       <use x=\"63.623047\" xlink:href=\"#DejaVuSans-53\"/>\n      </g>\n     </g>\n    </g>\n    <g id=\"ytick_5\">\n     <g id=\"line2d_9\">\n      <g>\n       <use style=\"stroke:#000000;stroke-width:0.8;\" x=\"40.603125\" xlink:href=\"#m4ac09481ee\" y=\"109.998203\"/>\n      </g>\n     </g>\n     <g id=\"text_10\">\n      <!-- 20 -->\n      <g transform=\"translate(20.878125 113.797422)scale(0.1 -0.1)\">\n       <use xlink:href=\"#DejaVuSans-50\"/>\n       <use x=\"63.623047\" xlink:href=\"#DejaVuSans-48\"/>\n      </g>\n     </g>\n    </g>\n    <g id=\"ytick_6\">\n     <g id=\"line2d_10\">\n      <g>\n       <use style=\"stroke:#000000;stroke-width:0.8;\" x=\"40.603125\" xlink:href=\"#m4ac09481ee\" y=\"83.795562\"/>\n      </g>\n     </g>\n     <g id=\"text_11\">\n      <!-- 25 -->\n      <g transform=\"translate(20.878125 87.59478)scale(0.1 -0.1)\">\n       <use xlink:href=\"#DejaVuSans-50\"/>\n       <use x=\"63.623047\" xlink:href=\"#DejaVuSans-53\"/>\n      </g>\n     </g>\n    </g>\n    <g id=\"ytick_7\">\n     <g id=\"line2d_11\">\n      <g>\n       <use style=\"stroke:#000000;stroke-width:0.8;\" x=\"40.603125\" xlink:href=\"#m4ac09481ee\" y=\"57.59292\"/>\n      </g>\n     </g>\n     <g id=\"text_12\">\n      <!-- 30 -->\n      <g transform=\"translate(20.878125 61.392139)scale(0.1 -0.1)\">\n       <defs>\n        <path d=\"M 40.578125 39.3125 \nQ 47.65625 37.796875 51.625 33 \nQ 55.609375 28.21875 55.609375 21.1875 \nQ 55.609375 10.40625 48.1875 4.484375 \nQ 40.765625 -1.421875 27.09375 -1.421875 \nQ 22.515625 -1.421875 17.65625 -0.515625 \nQ 12.796875 0.390625 7.625 2.203125 \nL 7.625 11.71875 \nQ 11.71875 9.328125 16.59375 8.109375 \nQ 21.484375 6.890625 26.8125 6.890625 \nQ 36.078125 6.890625 40.9375 10.546875 \nQ 45.796875 14.203125 45.796875 21.1875 \nQ 45.796875 27.640625 41.28125 31.265625 \nQ 36.765625 34.90625 28.71875 34.90625 \nL 20.21875 34.90625 \nL 20.21875 43.015625 \nL 29.109375 43.015625 \nQ 36.375 43.015625 40.234375 45.921875 \nQ 44.09375 48.828125 44.09375 54.296875 \nQ 44.09375 59.90625 40.109375 62.90625 \nQ 36.140625 65.921875 28.71875 65.921875 \nQ 24.65625 65.921875 20.015625 65.03125 \nQ 15.375 64.15625 9.8125 62.3125 \nL 9.8125 71.09375 \nQ 15.4375 72.65625 20.34375 73.4375 \nQ 25.25 74.21875 29.59375 74.21875 \nQ 40.828125 74.21875 47.359375 69.109375 \nQ 53.90625 64.015625 53.90625 55.328125 \nQ 53.90625 49.265625 50.4375 45.09375 \nQ 46.96875 40.921875 40.578125 39.3125 \nz\n\" id=\"DejaVuSans-51\"/>\n       </defs>\n       <use xlink:href=\"#DejaVuSans-51\"/>\n       <use x=\"63.623047\" xlink:href=\"#DejaVuSans-48\"/>\n      </g>\n     </g>\n    </g>\n    <g id=\"ytick_8\">\n     <g id=\"line2d_12\">\n      <g>\n       <use style=\"stroke:#000000;stroke-width:0.8;\" x=\"40.603125\" xlink:href=\"#m4ac09481ee\" y=\"31.390279\"/>\n      </g>\n     </g>\n     <g id=\"text_13\">\n      <!-- 35 -->\n      <g transform=\"translate(20.878125 35.189497)scale(0.1 -0.1)\">\n       <use xlink:href=\"#DejaVuSans-51\"/>\n       <use x=\"63.623047\" xlink:href=\"#DejaVuSans-53\"/>\n      </g>\n     </g>\n    </g>\n    <g id=\"text_14\">\n     <!-- suv -->\n     <g transform=\"translate(14.798438 124.652813)rotate(-90)scale(0.1 -0.1)\">\n      <defs>\n       <path d=\"M 44.28125 53.078125 \nL 44.28125 44.578125 \nQ 40.484375 46.53125 36.375 47.5 \nQ 32.28125 48.484375 27.875 48.484375 \nQ 21.1875 48.484375 17.84375 46.4375 \nQ 14.5 44.390625 14.5 40.28125 \nQ 14.5 37.15625 16.890625 35.375 \nQ 19.28125 33.59375 26.515625 31.984375 \nL 29.59375 31.296875 \nQ 39.15625 29.25 43.1875 25.515625 \nQ 47.21875 21.78125 47.21875 15.09375 \nQ 47.21875 7.46875 41.1875 3.015625 \nQ 35.15625 -1.421875 24.609375 -1.421875 \nQ 20.21875 -1.421875 15.453125 -0.5625 \nQ 10.6875 0.296875 5.421875 2 \nL 5.421875 11.28125 \nQ 10.40625 8.6875 15.234375 7.390625 \nQ 20.0625 6.109375 24.8125 6.109375 \nQ 31.15625 6.109375 34.5625 8.28125 \nQ 37.984375 10.453125 37.984375 14.40625 \nQ 37.984375 18.0625 35.515625 20.015625 \nQ 33.0625 21.96875 24.703125 23.78125 \nL 21.578125 24.515625 \nQ 13.234375 26.265625 9.515625 29.90625 \nQ 5.8125 33.546875 5.8125 39.890625 \nQ 5.8125 47.609375 11.28125 51.796875 \nQ 16.75 56 26.8125 56 \nQ 31.78125 56 36.171875 55.265625 \nQ 40.578125 54.546875 44.28125 53.078125 \nz\n\" id=\"DejaVuSans-115\"/>\n       <path d=\"M 8.5 21.578125 \nL 8.5 54.6875 \nL 17.484375 54.6875 \nL 17.484375 21.921875 \nQ 17.484375 14.15625 20.5 10.265625 \nQ 23.53125 6.390625 29.59375 6.390625 \nQ 36.859375 6.390625 41.078125 11.03125 \nQ 45.3125 15.671875 45.3125 23.6875 \nL 45.3125 54.6875 \nL 54.296875 54.6875 \nL 54.296875 0 \nL 45.3125 0 \nL 45.3125 8.40625 \nQ 42.046875 3.421875 37.71875 1 \nQ 33.40625 -1.421875 27.6875 -1.421875 \nQ 18.265625 -1.421875 13.375 4.4375 \nQ 8.5 10.296875 8.5 21.578125 \nz\nM 31.109375 56 \nz\n\" id=\"DejaVuSans-117\"/>\n       <path d=\"M 2.984375 54.6875 \nL 12.5 54.6875 \nL 29.59375 8.796875 \nL 46.6875 54.6875 \nL 56.203125 54.6875 \nL 35.6875 0 \nL 23.484375 0 \nz\n\" id=\"DejaVuSans-118\"/>\n      </defs>\n      <use xlink:href=\"#DejaVuSans-115\"/>\n      <use x=\"52.099609\" xlink:href=\"#DejaVuSans-117\"/>\n      <use x=\"115.478516\" xlink:href=\"#DejaVuSans-118\"/>\n     </g>\n    </g>\n   </g>\n   <g id=\"patch_3\">\n    <path d=\"M 40.603125 224.64 \nL 40.603125 7.2 \n\" style=\"fill:none;stroke:#000000;stroke-linecap:square;stroke-linejoin:miter;stroke-width:0.8;\"/>\n   </g>\n   <g id=\"patch_4\">\n    <path d=\"M 375.403125 224.64 \nL 375.403125 7.2 \n\" style=\"fill:none;stroke:#000000;stroke-linecap:square;stroke-linejoin:miter;stroke-width:0.8;\"/>\n   </g>\n   <g id=\"patch_5\">\n    <path d=\"M 40.603125 224.64 \nL 375.403125 224.64 \n\" style=\"fill:none;stroke:#000000;stroke-linecap:square;stroke-linejoin:miter;stroke-width:0.8;\"/>\n   </g>\n   <g id=\"patch_6\">\n    <path d=\"M 40.603125 7.2 \nL 375.403125 7.2 \n\" style=\"fill:none;stroke:#000000;stroke-linecap:square;stroke-linejoin:miter;stroke-width:0.8;\"/>\n   </g>\n  </g>\n </g>\n <defs>\n  <clipPath id=\"p7d33fa6501\">\n   <rect height=\"217.44\" width=\"334.8\" x=\"40.603125\" y=\"7.2\"/>\n  </clipPath>\n </defs>\n</svg>\n",
      "image/png": "[encoded data removed]"
     },
     "metadata": {
      "needs_background": "light"
     }
    }
   ],
   "source": [
    "#correlation plus grand diametre 2d  / tmtv\n",
    "diametre_2d = []\n",
    "for serie in csv_data : \n",
    "    index = csv_data.index(serie)\n",
    "    diametre_2d.append(float(serie[-3]))\n",
    "\n",
    "plt.scatter(diametre_2d, suv, alpha=0.7)\n",
    "plt.xlabel(\"diamètre 2d\")\n",
    "plt.ylabel(\"suv\")\n"
   ]
  },
  {
   "cell_type": "code",
   "execution_count": 19,
   "metadata": {},
   "outputs": [
    {
     "output_type": "execute_result",
     "data": {
      "text/plain": "SpearmanrResult(correlation=0.16724322373416897, pvalue=0.2015222550985773)"
     },
     "metadata": {},
     "execution_count": 19
    }
   ],
   "source": [
    "spearmanr(diametre_2d, suv)"
   ]
  },
  {
   "cell_type": "code",
   "execution_count": 20,
   "metadata": {},
   "outputs": [
    {
     "output_type": "execute_result",
     "data": {
      "text/plain": "(0.05504208728426504, 0.6761647975383036)"
     },
     "metadata": {},
     "execution_count": 20
    }
   ],
   "source": [
    "pearsonr(diametre_2d, suv)"
   ]
  },
  {
   "cell_type": "code",
   "execution_count": null,
   "metadata": {},
   "outputs": [],
   "source": []
  },
  {
   "cell_type": "code",
   "execution_count": null,
   "metadata": {},
   "outputs": [],
   "source": []
  },
  {
   "cell_type": "code",
   "execution_count": null,
   "metadata": {},
   "outputs": [],
   "source": [
    "#get bigger diameter "
   ]
  },
  {
   "cell_type": "code",
   "execution_count": 2,
   "metadata": {},
   "outputs": [],
   "source": [
    "csv_flip_path = r'D:\\FLIP_NIFTI\\FLIP_metrics.csv'\n",
    "\n",
    "with open(csv_flip_path, 'r') as csv_file :\n",
    "    reader = csv.reader(csv_file, delimiter = ',') #liste pour chaque ligne \n",
    "    csv_data = []\n",
    "    for row in reader :\n",
    "        csv_data.append(row)\n",
    "        \n",
    "del csv_data[0] #enlever première ligne"
   ]
  },
  {
   "cell_type": "code",
   "execution_count": 3,
   "metadata": {},
   "outputs": [
    {
     "output_type": "execute_result",
     "data": {
      "text/plain": "['CR,014',\n '2017014',\n '1.2.250.1.38.2.1.102.140724093005.103468016',\n 'cr_014_jul 25_2014.csv',\n 'pet0',\n '/media/deeplearning/78ca2911-9e9f-4f78-b80a-848024b95f92/FLIP_NIFTI/CR,014/pet0/1.2.250.1.38.2.1.102.140724093005.103468016_nifti_CT.nii',\n '/media/deeplearning/78ca2911-9e9f-4f78-b80a-848024b95f92/FLIP_NIFTI/CR,014/pet0/1.2.250.1.38.2.1.102.140724093005.103468016_nifti_PT.nii',\n '/media/deeplearning/78ca2911-9e9f-4f78-b80a-848024b95f92/FLIP_NIFTI/CR,014/pet0/1.2.250.1.38.2.1.102.140724093005.103468016_nifti_mask.nii',\n '20',\n '9.66']"
     },
     "metadata": {},
     "execution_count": 3
    }
   ],
   "source": [
    "csv_data[0]"
   ]
  },
  {
   "cell_type": "code",
   "execution_count": 4,
   "metadata": {
    "tags": []
   },
   "outputs": [],
   "source": [
    "#good path \n",
    "for row in csv_data : \n",
    "    ct_path = row[5]\n",
    "    pt_path = row[6]\n",
    "    mask_path = row[7]\n",
    "\n",
    "    new_ct_path =  os.path.join( r'D:', '/'.join(ct_path.split('/')[-4:]))\n",
    "    new_pt_path =  os.path.join( r'D:', '/'.join(pt_path.split('/')[-4:]))\n",
    "    new_mask_path =  os.path.join( r'D:', '/'.join(mask_path.split('/')[-4:]))\n",
    "\n",
    "    row[5] = new_ct_path\n",
    "    row[6] = new_pt_path\n",
    "    row[7] = new_mask_path \n",
    "\n"
   ]
  },
  {
   "cell_type": "code",
   "execution_count": 5,
   "metadata": {},
   "outputs": [
    {
     "output_type": "execute_result",
     "data": {
      "text/plain": "['CR,014',\n '2017014',\n '1.2.250.1.38.2.1.102.140724093005.103468016',\n 'cr_014_jul 25_2014.csv',\n 'pet0',\n 'D:FLIP_NIFTI/CR,014/pet0/1.2.250.1.38.2.1.102.140724093005.103468016_nifti_CT.nii',\n 'D:FLIP_NIFTI/CR,014/pet0/1.2.250.1.38.2.1.102.140724093005.103468016_nifti_PT.nii',\n 'D:FLIP_NIFTI/CR,014/pet0/1.2.250.1.38.2.1.102.140724093005.103468016_nifti_mask.nii',\n '20',\n '9.66']"
     },
     "metadata": {},
     "execution_count": 5
    }
   ],
   "source": [
    "csv_data[0]"
   ]
  },
  {
   "cell_type": "code",
   "execution_count": 7,
   "metadata": {
    "tags": []
   },
   "outputs": [
    {
     "output_type": "stream",
     "name": "stdout",
     "text": "0\nGLCM is symmetrical, therefore Sum Average = 2 * Joint Average, only 1 needs to be calculated\n1\nGLCM is symmetrical, therefore Sum Average = 2 * Joint Average, only 1 needs to be calculated\n2\nGLCM is symmetrical, therefore Sum Average = 2 * Joint Average, only 1 needs to be calculated\n3\nGLCM is symmetrical, therefore Sum Average = 2 * Joint Average, only 1 needs to be calculated\n4\nGLCM is symmetrical, therefore Sum Average = 2 * Joint Average, only 1 needs to be calculated\n5\nGLCM is symmetrical, therefore Sum Average = 2 * Joint Average, only 1 needs to be calculated\n6\nGLCM is symmetrical, therefore Sum Average = 2 * Joint Average, only 1 needs to be calculated\n7\nGLCM is symmetrical, therefore Sum Average = 2 * Joint Average, only 1 needs to be calculated\n8\nGLCM is symmetrical, therefore Sum Average = 2 * Joint Average, only 1 needs to be calculated\n9\nGLCM is symmetrical, therefore Sum Average = 2 * Joint Average, only 1 needs to be calculated\n10\nGLCM is symmetrical, therefore Sum Average = 2 * Joint Average, only 1 needs to be calculated\n11\nGLCM is symmetrical, therefore Sum Average = 2 * Joint Average, only 1 needs to be calculated\n12\nGLCM is symmetrical, therefore Sum Average = 2 * Joint Average, only 1 needs to be calculated\n13\nGLCM is symmetrical, therefore Sum Average = 2 * Joint Average, only 1 needs to be calculated\n14\nGLCM is symmetrical, therefore Sum Average = 2 * Joint Average, only 1 needs to be calculated\n15\nGLCM is symmetrical, therefore Sum Average = 2 * Joint Average, only 1 needs to be calculated\n16\nGLCM is symmetrical, therefore Sum Average = 2 * Joint Average, only 1 needs to be calculated\n17\nGLCM is symmetrical, therefore Sum Average = 2 * Joint Average, only 1 needs to be calculated\n18\nGLCM is symmetrical, therefore Sum Average = 2 * Joint Average, only 1 needs to be calculated\n19\nGLCM is symmetrical, therefore Sum Average = 2 * Joint Average, only 1 needs to be calculated\n20\nGLCM is symmetrical, therefore Sum Average = 2 * Joint Average, only 1 needs to be calculated\n21\nGLCM is symmetrical, therefore Sum Average = 2 * Joint Average, only 1 needs to be calculated\n22\nGLCM is symmetrical, therefore Sum Average = 2 * Joint Average, only 1 needs to be calculated\n23\nGLCM is symmetrical, therefore Sum Average = 2 * Joint Average, only 1 needs to be calculated\n24\nGLCM is symmetrical, therefore Sum Average = 2 * Joint Average, only 1 needs to be calculated\n25\nGLCM is symmetrical, therefore Sum Average = 2 * Joint Average, only 1 needs to be calculated\n26\nGLCM is symmetrical, therefore Sum Average = 2 * Joint Average, only 1 needs to be calculated\n27\nGLCM is symmetrical, therefore Sum Average = 2 * Joint Average, only 1 needs to be calculated\n28\nGLCM is symmetrical, therefore Sum Average = 2 * Joint Average, only 1 needs to be calculated\n29\nGLCM is symmetrical, therefore Sum Average = 2 * Joint Average, only 1 needs to be calculated\n30\nGLCM is symmetrical, therefore Sum Average = 2 * Joint Average, only 1 needs to be calculated\n31\nGLCM is symmetrical, therefore Sum Average = 2 * Joint Average, only 1 needs to be calculated\n32\nGLCM is symmetrical, therefore Sum Average = 2 * Joint Average, only 1 needs to be calculated\n33\nGLCM is symmetrical, therefore Sum Average = 2 * Joint Average, only 1 needs to be calculated\n34\nGLCM is symmetrical, therefore Sum Average = 2 * Joint Average, only 1 needs to be calculated\n35\nGLCM is symmetrical, therefore Sum Average = 2 * Joint Average, only 1 needs to be calculated\n36\nGLCM is symmetrical, therefore Sum Average = 2 * Joint Average, only 1 needs to be calculated\n37\nGLCM is symmetrical, therefore Sum Average = 2 * Joint Average, only 1 needs to be calculated\n38\nGLCM is symmetrical, therefore Sum Average = 2 * Joint Average, only 1 needs to be calculated\n39\nGLCM is symmetrical, therefore Sum Average = 2 * Joint Average, only 1 needs to be calculated\n40\nGLCM is symmetrical, therefore Sum Average = 2 * Joint Average, only 1 needs to be calculated\n41\nGLCM is symmetrical, therefore Sum Average = 2 * Joint Average, only 1 needs to be calculated\n42\nGLCM is symmetrical, therefore Sum Average = 2 * Joint Average, only 1 needs to be calculated\n43\nGLCM is symmetrical, therefore Sum Average = 2 * Joint Average, only 1 needs to be calculated\n44\nGLCM is symmetrical, therefore Sum Average = 2 * Joint Average, only 1 needs to be calculated\n45\nGLCM is symmetrical, therefore Sum Average = 2 * Joint Average, only 1 needs to be calculated\n46\nGLCM is symmetrical, therefore Sum Average = 2 * Joint Average, only 1 needs to be calculated\n47\nGLCM is symmetrical, therefore Sum Average = 2 * Joint Average, only 1 needs to be calculated\n48\nGLCM is symmetrical, therefore Sum Average = 2 * Joint Average, only 1 needs to be calculated\n49\nGLCM is symmetrical, therefore Sum Average = 2 * Joint Average, only 1 needs to be calculated\n50\nGLCM is symmetrical, therefore Sum Average = 2 * Joint Average, only 1 needs to be calculated\n51\nGLCM is symmetrical, therefore Sum Average = 2 * Joint Average, only 1 needs to be calculated\n52\nGLCM is symmetrical, therefore Sum Average = 2 * Joint Average, only 1 needs to be calculated\n53\nGLCM is symmetrical, therefore Sum Average = 2 * Joint Average, only 1 needs to be calculated\n54\nGLCM is symmetrical, therefore Sum Average = 2 * Joint Average, only 1 needs to be calculated\n55\nGLCM is symmetrical, therefore Sum Average = 2 * Joint Average, only 1 needs to be calculated\n56\nGLCM is symmetrical, therefore Sum Average = 2 * Joint Average, only 1 needs to be calculated\n57\nGLCM is symmetrical, therefore Sum Average = 2 * Joint Average, only 1 needs to be calculated\n58\nGLCM is symmetrical, therefore Sum Average = 2 * Joint Average, only 1 needs to be calculated\n59\nGLCM is symmetrical, therefore Sum Average = 2 * Joint Average, only 1 needs to be calculated\n"
    }
   ],
   "source": [
    "diam_2d = []\n",
    "diam_3d = []\n",
    "for row in csv_data : \n",
    "    print(csv_data.index(row))\n",
    "    diameter_2d, diameter_3d = extract_features(row[7], row[6], int(row[8]))\n",
    "    diam_2d.append(diameter_2d)\n",
    "    diam_3d.append(diameter_3d)\n"
   ]
  },
  {
   "cell_type": "code",
   "execution_count": 8,
   "metadata": {},
   "outputs": [
    {
     "output_type": "execute_result",
     "data": {
      "text/plain": "60"
     },
     "metadata": {},
     "execution_count": 8
    }
   ],
   "source": [
    "len(csv_data)"
   ]
  },
  {
   "cell_type": "code",
   "execution_count": 13,
   "metadata": {},
   "outputs": [
    {
     "output_type": "execute_result",
     "data": {
      "text/plain": "['CR,014',\n '2017014',\n '1.2.250.1.38.2.1.102.140724093005.103468016',\n 'cr_014_jul 25_2014.csv',\n 'pet0',\n 'D:FLIP_NIFTI/CR,014/pet0/1.2.250.1.38.2.1.102.140724093005.103468016_nifti_CT.nii',\n 'D:FLIP_NIFTI/CR,014/pet0/1.2.250.1.38.2.1.102.140724093005.103468016_nifti_PT.nii',\n 'D:FLIP_NIFTI/CR,014/pet0/1.2.250.1.38.2.1.102.140724093005.103468016_nifti_mask.nii',\n '20',\n '9.66']"
     },
     "metadata": {},
     "execution_count": 13
    }
   ],
   "source": [
    "csv_data[0]"
   ]
  },
  {
   "cell_type": "code",
   "execution_count": 9,
   "metadata": {},
   "outputs": [
    {
     "output_type": "execute_result",
     "data": {
      "text/plain": "60"
     },
     "metadata": {},
     "execution_count": 9
    }
   ],
   "source": [
    "len(diam_2d)"
   ]
  },
  {
   "cell_type": "code",
   "execution_count": 10,
   "metadata": {},
   "outputs": [
    {
     "output_type": "execute_result",
     "data": {
      "text/plain": "60"
     },
     "metadata": {},
     "execution_count": 10
    }
   ],
   "source": [
    "len(diam_3d)"
   ]
  },
  {
   "cell_type": "code",
   "execution_count": 14,
   "metadata": {},
   "outputs": [],
   "source": [
    "nifti_directory = r'D:\\FLIP_NIFTI'\n",
    "\n",
    "with open(os.path.join(nifti_directory, 'FLIP_metrics_v2.csv'), 'w') as csv_file : \n",
    "    csv_writer = csv.writer(csv_file, delimiter=',', quotechar='\"', quoting=csv.QUOTE_MINIMAL)\n",
    "    csv_writer.writerow([\"PATIENT_NAME\", \"PATIENT_ID\", \"STUDY_UID\", \"CSV_NAME\", \"PET\", \"NIFTI_CT\" ,\"NIFTI_PET\", \"NIFTI_MASK\", \"ROI\", \"SUV_MAX\", \"DIAM_2D\", \"DIAM_3D\"])\n",
    "    for serie in csv_data: \n",
    "        index = csv_data.index(serie)\n",
    "        csv_writer.writerow([serie[0], serie[1], serie[2], serie[3], serie[4], serie[5], serie[6], serie[7], serie[8], serie[9], diam_2d[index], diam_3d[index]])"
   ]
  },
  {
   "cell_type": "code",
   "execution_count": null,
   "metadata": {},
   "outputs": [],
   "source": []
  }
 ]
}