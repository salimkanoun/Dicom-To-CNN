{
 "metadata": {
  "language_info": {
   "codemirror_mode": {
    "name": "ipython",
    "version": 3
   },
   "file_extension": ".py",
   "mimetype": "text/x-python",
   "name": "python",
   "nbconvert_exporter": "python",
   "pygments_lexer": "ipython3",
   "version": "3.8.2-final"
  },
  "orig_nbformat": 2,
  "kernelspec": {
   "name": "python38264bit4afc185bc98b42c389abdbb3fbeec8dd",
   "display_name": "Python 3.8.2 64-bit"
  }
 },
 "nbformat": 4,
 "nbformat_minor": 2,
 "cells": [
  {
   "cell_type": "code",
   "execution_count": 7,
   "metadata": {
    "tags": []
   },
   "outputs": [],
   "source": [
    "from library_dicom.dicom_processor.tools.flip import *\n",
    "from library_dicom.dicom_processor.tools.create_mip import *"
   ]
  },
  {
   "cell_type": "code",
   "execution_count": null,
   "metadata": {},
   "outputs": [],
   "source": []
  },
  {
   "cell_type": "code",
   "execution_count": 13,
   "metadata": {},
   "outputs": [],
   "source": [
    "\n",
    "csv_flip_path = '/media/deeplearning/78ca2911-9e9f-4f78-b80a-848024b95f92/FLIP/petIni.csv'\n",
    "\n",
    "with open(csv_flip_path, 'r') as csv_file :\n",
    "    reader = csv.reader(csv_file, delimiter = ';') #liste pour chaque ligne \n",
    "    csv_data = []\n",
    "    for row in reader :\n",
    "        csv_data.append(row)\n",
    "        \n",
    "del csv_data[0] #enlever première ligne\n"
   ]
  },
  {
   "cell_type": "code",
   "execution_count": 14,
   "metadata": {},
   "outputs": [
    {
     "output_type": "execute_result",
     "data": {
      "text/plain": "['CR,014',\n '2017014',\n '1.2.250.1.38.2.1.102.140724093005.103468016',\n '1',\n 'cr_014_jul 25_2014.csv',\n '1',\n '5',\n '11.13',\n 'Bone Marrow',\n '3.4',\n 'Abdominal',\n '2.19',\n '3.05',\n '4.08',\n '2.61',\n '3.35',\n '1',\n '6.7',\n '3.46',\n '4',\n '3.54',\n '2']"
     },
     "metadata": {},
     "execution_count": 14
    }
   ],
   "source": [
    "csv_data[0]"
   ]
  },
  {
   "cell_type": "code",
   "execution_count": 4,
   "metadata": {
    "tags": []
   },
   "outputs": [
    {
     "output_type": "stream",
     "name": "stdout",
     "text": "0\n1\n2\n3\n4\n5\n6\n7\n8\n9\n10\n11\n12\n13\n14\n15\n16\n17\n18\n19\n20\n21\n22\n23\n24\n25\n26\n27\n28\n29\n30\n31\n32\n33\n34\n35\n36\n37\n38\n39\n40\n41\n42\n43\n44\n45\n46\n47\n48\n49\n50\n51\n52\n53\n54\n55\n56\n57\n58\n59\n"
    }
   ],
   "source": [
    "for serie in csv_data:\n",
    "    print(csv_data.index(serie))\n",
    "    roi, suv_max = get_suv_max_value(serie[6], serie[5])\n",
    "    serie.append(roi)\n",
    "    serie.append(suv_max)"
   ]
  },
  {
   "cell_type": "code",
   "execution_count": 5,
   "metadata": {},
   "outputs": [
    {
     "output_type": "execute_result",
     "data": {
      "text/plain": "['CR,014',\n '2017014',\n '1.2.250.1.38.2.1.102.140724093005.103468016',\n 'pet0',\n '/media/deeplearning/78ca2911-9e9f-4f78-b80a-848024b95f92/FLIP_NIFTI/CR,014/pet0/1.2.250.1.38.2.1.102.140724093005.103468016_nifti_CT.nii',\n '/media/deeplearning/78ca2911-9e9f-4f78-b80a-848024b95f92/FLIP_NIFTI/CR,014/pet0/1.2.250.1.38.2.1.102.140724093005.103468016_nifti_PT.nii',\n '/media/deeplearning/78ca2911-9e9f-4f78-b80a-848024b95f92/FLIP_NIFTI/CR,014/pet0/1.2.250.1.38.2.1.102.140724093005.103468016_nifti_mask.nii',\n 19,\n 9.66]"
     },
     "metadata": {},
     "execution_count": 5
    }
   ],
   "source": [
    "csv_data[0]"
   ]
  },
  {
   "cell_type": "code",
   "execution_count": null,
   "metadata": {},
   "outputs": [],
   "source": []
  },
  {
   "cell_type": "code",
   "execution_count": 15,
   "metadata": {},
   "outputs": [],
   "source": [
    "csv_flip_path = '/media/deeplearning/78ca2911-9e9f-4f78-b80a-848024b95f92/FLIP_NIFTI/FLIP_SUV_MAX_BIGGER_ROI.csv'\n",
    "\n",
    "with open(csv_flip_path, 'r') as csv_file :\n",
    "    reader = csv.reader(csv_file, delimiter = ',') #liste pour chaque ligne \n",
    "    csv_data_2 = []\n",
    "    for row in reader :\n",
    "        csv_data_2.append(row)\n",
    "        \n",
    "del csv_data_2[0] #enlever première ligne\n"
   ]
  },
  {
   "cell_type": "code",
   "execution_count": 16,
   "metadata": {},
   "outputs": [
    {
     "output_type": "execute_result",
     "data": {
      "text/plain": "['CR,017',\n '2017017',\n '1.2.840.113619.2.354.3.3523896338.523.1419230918.308',\n 'pet0',\n '/media/deeplearning/78ca2911-9e9f-4f78-b80a-848024b95f92/FLIP_NIFTI/CR,017/pet0/1.2.840.113619.2.354.3.3523896338.523.1419230918.308_nifti_CT.nii',\n '/media/deeplearning/78ca2911-9e9f-4f78-b80a-848024b95f92/FLIP_NIFTI/CR,017/pet0/1.2.840.113619.2.354.3.3523896338.523.1419230918.308_nifti_PT.nii',\n '/media/deeplearning/78ca2911-9e9f-4f78-b80a-848024b95f92/FLIP_NIFTI/CR,017/pet0/1.2.840.113619.2.354.3.3523896338.523.1419230918.308_nifti_mask.nii',\n '3',\n '8.19']"
     },
     "metadata": {},
     "execution_count": 16
    }
   ],
   "source": [
    "csv_data_2[1]"
   ]
  },
  {
   "cell_type": "code",
   "execution_count": 17,
   "metadata": {},
   "outputs": [],
   "source": [
    "for row in csv_data_2 : \n",
    "    for ligne in csv_data : \n",
    "        if row[1] in ligne : \n",
    "            row.append(ligne[4])"
   ]
  },
  {
   "cell_type": "code",
   "execution_count": 18,
   "metadata": {},
   "outputs": [
    {
     "output_type": "execute_result",
     "data": {
      "text/plain": "['CR,014',\n '2017014',\n '1.2.250.1.38.2.1.102.140724093005.103468016',\n 'pet0',\n '/media/deeplearning/78ca2911-9e9f-4f78-b80a-848024b95f92/FLIP_NIFTI/CR,014/pet0/1.2.250.1.38.2.1.102.140724093005.103468016_nifti_CT.nii',\n '/media/deeplearning/78ca2911-9e9f-4f78-b80a-848024b95f92/FLIP_NIFTI/CR,014/pet0/1.2.250.1.38.2.1.102.140724093005.103468016_nifti_PT.nii',\n '/media/deeplearning/78ca2911-9e9f-4f78-b80a-848024b95f92/FLIP_NIFTI/CR,014/pet0/1.2.250.1.38.2.1.102.140724093005.103468016_nifti_mask.nii',\n '20',\n '9.66',\n 'cr_014_jul 25_2014.csv']"
     },
     "metadata": {},
     "execution_count": 18
    }
   ],
   "source": [
    "csv_data_2[0]"
   ]
  },
  {
   "cell_type": "code",
   "execution_count": 23,
   "metadata": {},
   "outputs": [],
   "source": [
    "nifti_directory = '/media/deeplearning/78ca2911-9e9f-4f78-b80a-848024b95f92/FLIP_NIFTI'\n",
    "\n",
    "with open(os.path.join(nifti_directory, 'FLIP_metrics.csv'), 'w') as csv_file : \n",
    "    csv_writer = csv.writer(csv_file, delimiter=',', quotechar='\"', quoting=csv.QUOTE_MINIMAL)\n",
    "    csv_writer.writerow([\"PATIENT_NAME\", \"PATIENT_ID\", \"STUDY_UID\", \"CSV_NAME\", \"PET\", \"NIFTI_CT\" ,\"NIFTI_PET\", \"NIFTI_MASK\", \"ROI\", \"SUV_MAX\"])\n",
    "    for serie in csv_data_2: \n",
    "        csv_writer.writerow([serie[0], serie[1], serie[2], serie[-1], serie[3], serie[4], serie[5], serie[6], serie[7], serie[8]])"
   ]
  }
 ]
}