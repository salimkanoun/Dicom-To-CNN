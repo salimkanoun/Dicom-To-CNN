{
 "metadata": {
  "language_info": {
   "codemirror_mode": {
    "name": "ipython",
    "version": 3
   },
   "file_extension": ".py",
   "mimetype": "text/x-python",
   "name": "python",
   "nbconvert_exporter": "python",
   "pygments_lexer": "ipython3",
   "version": "3.8.2-final"
  },
  "orig_nbformat": 2,
  "kernelspec": {
   "name": "python38264bit4afc185bc98b42c389abdbb3fbeec8dd",
   "display_name": "Python 3.8.2 64-bit"
  }
 },
 "nbformat": 4,
 "nbformat_minor": 2,
 "cells": [
  {
   "cell_type": "code",
   "execution_count": 1,
   "metadata": {
    "tags": []
   },
   "outputs": [
    {
     "output_type": "stream",
     "name": "stdout",
     "text": "/home/deeplearning/Dicom-To-CNN\n/tmp/0ed42a98-b821-4fdf-9a65-921f51808625\n/home/deeplearning/.vscode/extensions/ms-python.python-2020.8.105369/pythonFiles\n/home/deeplearning/.vscode/extensions/ms-python.python-2020.8.105369/pythonFiles/lib/python\n/usr/lib/python38.zip\n/usr/lib/python3.8\n/usr/lib/python3.8/lib-dynload\n\n/home/deeplearning/.local/lib/python3.8/site-packages\n/usr/local/lib/python3.8/dist-packages\n/usr/lib/python3/dist-packages\n/home/deeplearning/.local/lib/python3.8/site-packages/IPython/extensions\n/home/deeplearning/.ipython\n\n\n/home/deeplearning/Dicom-To-CNN\n/tmp/0ed42a98-b821-4fdf-9a65-921f51808625\n/home/deeplearning/.vscode/extensions/ms-python.python-2020.8.105369/pythonFiles\n/home/deeplearning/.vscode/extensions/ms-python.python-2020.8.105369/pythonFiles/lib/python\n/usr/lib/python38.zip\n/usr/lib/python3.8\n/usr/lib/python3.8/lib-dynload\n\n/home/deeplearning/.local/lib/python3.8/site-packages\n/usr/local/lib/python3.8/dist-packages\n/usr/lib/python3/dist-packages\n/home/deeplearning/.local/lib/python3.8/site-packages/IPython/extensions\n/home/deeplearning/.ipython\n/home/deeplearning/.local/lib/python3.7/site-packages\n"
    }
   ],
   "source": [
    "import sys \n",
    "print('\\n'.join(sys.path))\n",
    "sys.path.append('/home/deeplearning/.local/lib/python3.7/site-packages')\n",
    "print('\\n')\n",
    "print('\\n'.join(sys.path))"
   ]
  },
  {
   "cell_type": "code",
   "execution_count": 2,
   "metadata": {
    "tags": []
   },
   "outputs": [],
   "source": [
    "from library_dicom.dicom_processor.tools.flip import *\n",
    "from library_dicom.dicom_processor.tools.create_mip import *"
   ]
  },
  {
   "cell_type": "code",
   "execution_count": 3,
   "metadata": {
    "tags": []
   },
   "outputs": [
    {
     "output_type": "stream",
     "name": "stderr",
     "text": "Error loading C extensions\nTraceback (most recent call last):\n  File \"/home/deeplearning/.local/lib/python3.7/site-packages/radiomics/__init__.py\", line 283, in <module>\n    from radiomics import _cmatrices as cMatrices  # noqa: F401\nImportError: cannot import name '_cmatrices' from partially initialized module 'radiomics' (most likely due to a circular import) (/home/deeplearning/.local/lib/python3.7/site-packages/radiomics/__init__.py)\n"
    },
    {
     "output_type": "error",
     "ename": "ImportError",
     "evalue": "cannot import name '_cmatrices' from partially initialized module 'radiomics' (most likely due to a circular import) (/home/deeplearning/.local/lib/python3.7/site-packages/radiomics/__init__.py)",
     "traceback": [
      "\u001b[0;31m---------------------------------------------------------------------------\u001b[0m",
      "\u001b[0;31mImportError\u001b[0m                               Traceback (most recent call last)",
      "\u001b[0;32m<ipython-input-3-ba9523cedc29>\u001b[0m in \u001b[0;36m<module>\u001b[0;34m\u001b[0m\n\u001b[0;32m----> 1\u001b[0;31m \u001b[0;32mfrom\u001b[0m \u001b[0mradiomics\u001b[0m \u001b[0;32mimport\u001b[0m \u001b[0mfeatureextractor\u001b[0m\u001b[0;34m\u001b[0m\u001b[0;34m\u001b[0m\u001b[0m\n\u001b[0m",
      "\u001b[0;32m~/.local/lib/python3.7/site-packages/radiomics/__init__.py\u001b[0m in \u001b[0;36m<module>\u001b[0;34m\u001b[0m\n\u001b[1;32m    292\u001b[0m   \u001b[0;32melse\u001b[0m\u001b[0;34m:\u001b[0m\u001b[0;34m\u001b[0m\u001b[0;34m\u001b[0m\u001b[0m\n\u001b[1;32m    293\u001b[0m     \u001b[0mlogger\u001b[0m\u001b[0;34m.\u001b[0m\u001b[0mcritical\u001b[0m\u001b[0;34m(\u001b[0m\u001b[0;34m'Error loading C extensions'\u001b[0m\u001b[0;34m,\u001b[0m \u001b[0mexc_info\u001b[0m\u001b[0;34m=\u001b[0m\u001b[0;32mTrue\u001b[0m\u001b[0;34m)\u001b[0m\u001b[0;34m\u001b[0m\u001b[0;34m\u001b[0m\u001b[0m\n\u001b[0;32m--> 294\u001b[0;31m     \u001b[0;32mraise\u001b[0m \u001b[0me\u001b[0m\u001b[0;34m\u001b[0m\u001b[0;34m\u001b[0m\u001b[0m\n\u001b[0m\u001b[1;32m    295\u001b[0m \u001b[0;34m\u001b[0m\u001b[0m\n\u001b[1;32m    296\u001b[0m \u001b[0;31m# 4. Enumerate implemented feature classes and input image types available in PyRadiomics\u001b[0m\u001b[0;34m\u001b[0m\u001b[0;34m\u001b[0m\u001b[0;34m\u001b[0m\u001b[0m\n",
      "\u001b[0;32m~/.local/lib/python3.7/site-packages/radiomics/__init__.py\u001b[0m in \u001b[0;36m<module>\u001b[0;34m\u001b[0m\n\u001b[1;32m    281\u001b[0m \u001b[0mcShape\u001b[0m \u001b[0;34m=\u001b[0m \u001b[0;32mNone\u001b[0m\u001b[0;34m\u001b[0m\u001b[0;34m\u001b[0m\u001b[0m\n\u001b[1;32m    282\u001b[0m \u001b[0;32mtry\u001b[0m\u001b[0;34m:\u001b[0m\u001b[0;34m\u001b[0m\u001b[0;34m\u001b[0m\u001b[0m\n\u001b[0;32m--> 283\u001b[0;31m   \u001b[0;32mfrom\u001b[0m \u001b[0mradiomics\u001b[0m \u001b[0;32mimport\u001b[0m \u001b[0m_cmatrices\u001b[0m \u001b[0;32mas\u001b[0m \u001b[0mcMatrices\u001b[0m  \u001b[0;31m# noqa: F401\u001b[0m\u001b[0;34m\u001b[0m\u001b[0;34m\u001b[0m\u001b[0m\n\u001b[0m\u001b[1;32m    284\u001b[0m   \u001b[0;32mfrom\u001b[0m \u001b[0mradiomics\u001b[0m \u001b[0;32mimport\u001b[0m \u001b[0m_cshape\u001b[0m \u001b[0;32mas\u001b[0m \u001b[0mcShape\u001b[0m  \u001b[0;31m# noqa: F401\u001b[0m\u001b[0;34m\u001b[0m\u001b[0;34m\u001b[0m\u001b[0m\n\u001b[1;32m    285\u001b[0m \u001b[0;32mexcept\u001b[0m \u001b[0mImportError\u001b[0m \u001b[0;32mas\u001b[0m \u001b[0me\u001b[0m\u001b[0;34m:\u001b[0m\u001b[0;34m\u001b[0m\u001b[0;34m\u001b[0m\u001b[0m\n",
      "\u001b[0;31mImportError\u001b[0m: cannot import name '_cmatrices' from partially initialized module 'radiomics' (most likely due to a circular import) (/home/deeplearning/.local/lib/python3.7/site-packages/radiomics/__init__.py)"
     ]
    }
   ],
   "source": [
    "from radiomics import featureextractor"
   ]
  },
  {
   "cell_type": "code",
   "execution_count": null,
   "metadata": {},
   "outputs": [],
   "source": []
  },
  {
   "cell_type": "code",
   "execution_count": null,
   "metadata": {},
   "outputs": [],
   "source": []
  },
  {
   "cell_type": "code",
   "execution_count": null,
   "metadata": {},
   "outputs": [],
   "source": []
  },
  {
   "cell_type": "code",
   "execution_count": 2,
   "metadata": {},
   "outputs": [],
   "source": [
    "\n",
    "csv_flip_path = '/media/deeplearning/78ca2911-9e9f-4f78-b80a-848024b95f92/FLIP_NIFTI/FLIP_PET0_NIFTI.csv'\n",
    "\n",
    "with open(csv_flip_path, 'r') as csv_file :\n",
    "    reader = csv.reader(csv_file, delimiter = ',') #liste pour chaque ligne \n",
    "    csv_data = []\n",
    "    for row in reader :\n",
    "        csv_data.append(row)\n",
    "        \n",
    "del csv_data[0] #enlever première ligne\n"
   ]
  },
  {
   "cell_type": "code",
   "execution_count": 3,
   "metadata": {},
   "outputs": [
    {
     "output_type": "execute_result",
     "data": {
      "text/plain": "['CR,014',\n '2017014',\n '1.2.250.1.38.2.1.102.140724093005.103468016',\n 'pet0',\n '/media/deeplearning/78ca2911-9e9f-4f78-b80a-848024b95f92/FLIP_NIFTI/CR,014/pet0/1.2.250.1.38.2.1.102.140724093005.103468016_nifti_CT.nii',\n '/media/deeplearning/78ca2911-9e9f-4f78-b80a-848024b95f92/FLIP_NIFTI/CR,014/pet0/1.2.250.1.38.2.1.102.140724093005.103468016_nifti_PT.nii',\n '/media/deeplearning/78ca2911-9e9f-4f78-b80a-848024b95f92/FLIP_NIFTI/CR,014/pet0/1.2.250.1.38.2.1.102.140724093005.103468016_nifti_mask.nii']"
     },
     "metadata": {},
     "execution_count": 3
    }
   ],
   "source": [
    "csv_data[0]"
   ]
  },
  {
   "cell_type": "code",
   "execution_count": 4,
   "metadata": {
    "tags": []
   },
   "outputs": [
    {
     "output_type": "stream",
     "name": "stdout",
     "text": "0\n1\n2\n3\n4\n5\n6\n7\n8\n9\n10\n11\n12\n13\n14\n15\n16\n17\n18\n19\n20\n21\n22\n23\n24\n25\n26\n27\n28\n29\n30\n31\n32\n33\n34\n35\n36\n37\n38\n39\n40\n41\n42\n43\n44\n45\n46\n47\n48\n49\n50\n51\n52\n53\n54\n55\n56\n57\n58\n59\n"
    }
   ],
   "source": [
    "for serie in csv_data:\n",
    "    print(csv_data.index(serie))\n",
    "    roi, suv_max = get_suv_max_value(serie[6], serie[5])\n",
    "    serie.append(roi)\n",
    "    serie.append(suv_max)"
   ]
  },
  {
   "cell_type": "code",
   "execution_count": 5,
   "metadata": {},
   "outputs": [
    {
     "output_type": "execute_result",
     "data": {
      "text/plain": "['CR,014',\n '2017014',\n '1.2.250.1.38.2.1.102.140724093005.103468016',\n 'pet0',\n '/media/deeplearning/78ca2911-9e9f-4f78-b80a-848024b95f92/FLIP_NIFTI/CR,014/pet0/1.2.250.1.38.2.1.102.140724093005.103468016_nifti_CT.nii',\n '/media/deeplearning/78ca2911-9e9f-4f78-b80a-848024b95f92/FLIP_NIFTI/CR,014/pet0/1.2.250.1.38.2.1.102.140724093005.103468016_nifti_PT.nii',\n '/media/deeplearning/78ca2911-9e9f-4f78-b80a-848024b95f92/FLIP_NIFTI/CR,014/pet0/1.2.250.1.38.2.1.102.140724093005.103468016_nifti_mask.nii',\n 19,\n 9.66]"
     },
     "metadata": {},
     "execution_count": 5
    }
   ],
   "source": [
    "csv_data[0]"
   ]
  },
  {
   "cell_type": "code",
   "execution_count": 7,
   "metadata": {},
   "outputs": [],
   "source": [
    "nifti_directory = '/media/deeplearning/78ca2911-9e9f-4f78-b80a-848024b95f92/FLIP_NIFTI'\n",
    "\n",
    "with open(os.path.join(nifti_directory, 'FLIP_SUV_MAX_BIGGER_ROI.csv'), 'w') as csv_file : \n",
    "    csv_writer = csv.writer(csv_file, delimiter=',', quotechar='\"', quoting=csv.QUOTE_MINIMAL)\n",
    "    csv_writer.writerow([\"PATIENT_NAME\", \"PATIENT_ID\", \"STUDY_UID\", \"PET\", \"NIFTI_CT\" \"NIFTI_PET\", \"NIFTI_MASK\", \"ROI\", \"SUV_MAX\"])\n",
    "    for serie in csv_data: \n",
    "        csv_writer.writerow([serie[0], serie[1], serie[2], serie[3], serie[4], serie[5], serie[6], serie[7]+1, serie[8]])"
   ]
  }
 ]
}