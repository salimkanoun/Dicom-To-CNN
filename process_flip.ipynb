{
 "metadata": {
  "language_info": {
   "codemirror_mode": {
    "name": "ipython",
    "version": 3
   },
   "file_extension": ".py",
   "mimetype": "text/x-python",
   "name": "python",
   "nbconvert_exporter": "python",
   "pygments_lexer": "ipython3",
   "version": "3.7.4-final"
  },
  "orig_nbformat": 2,
  "kernelspec": {
   "name": "python_defaultSpec_1599219495642",
   "display_name": "Python 3.7.4 64-bit ('base': conda)"
  }
 },
 "nbformat": 4,
 "nbformat_minor": 2,
 "cells": [
  {
   "cell_type": "code",
   "execution_count": 1,
   "metadata": {
    "tags": []
   },
   "outputs": [],
   "source": [
    "from library_dicom.dicom_processor.tools.flip import *\n",
    "from library_dicom.dicom_processor.tools.create_mip import *\n",
    "from radiomics.featureextractor import RadiomicsFeatureExtractor \n",
    "import os \n",
    "import SimpleITK as sitk "
   ]
  },
  {
   "cell_type": "code",
   "execution_count": null,
   "metadata": {},
   "outputs": [],
   "source": [
    "#get bigger diameter "
   ]
  },
  {
   "cell_type": "code",
   "execution_count": 2,
   "metadata": {},
   "outputs": [],
   "source": [
    "csv_flip_path = r'D:\\FLIP_NIFTI\\FLIP_metrics.csv'\n",
    "\n",
    "with open(csv_flip_path, 'r') as csv_file :\n",
    "    reader = csv.reader(csv_file, delimiter = ',') #liste pour chaque ligne \n",
    "    csv_data = []\n",
    "    for row in reader :\n",
    "        csv_data.append(row)\n",
    "        \n",
    "del csv_data[0] #enlever première ligne"
   ]
  },
  {
   "cell_type": "code",
   "execution_count": 3,
   "metadata": {},
   "outputs": [
    {
     "output_type": "execute_result",
     "data": {
      "text/plain": "['CR,014',\n '2017014',\n '1.2.250.1.38.2.1.102.140724093005.103468016',\n 'cr_014_jul 25_2014.csv',\n 'pet0',\n '/media/deeplearning/78ca2911-9e9f-4f78-b80a-848024b95f92/FLIP_NIFTI/CR,014/pet0/1.2.250.1.38.2.1.102.140724093005.103468016_nifti_CT.nii',\n '/media/deeplearning/78ca2911-9e9f-4f78-b80a-848024b95f92/FLIP_NIFTI/CR,014/pet0/1.2.250.1.38.2.1.102.140724093005.103468016_nifti_PT.nii',\n '/media/deeplearning/78ca2911-9e9f-4f78-b80a-848024b95f92/FLIP_NIFTI/CR,014/pet0/1.2.250.1.38.2.1.102.140724093005.103468016_nifti_mask.nii',\n '20',\n '9.66']"
     },
     "metadata": {},
     "execution_count": 3
    }
   ],
   "source": [
    "csv_data[0]"
   ]
  },
  {
   "cell_type": "code",
   "execution_count": 4,
   "metadata": {
    "tags": []
   },
   "outputs": [],
   "source": [
    "#good path \n",
    "for row in csv_data : \n",
    "    ct_path = row[5]\n",
    "    pt_path = row[6]\n",
    "    mask_path = row[7]\n",
    "\n",
    "    new_ct_path =  os.path.join( r'D:', '/'.join(ct_path.split('/')[-4:]))\n",
    "    new_pt_path =  os.path.join( r'D:', '/'.join(pt_path.split('/')[-4:]))\n",
    "    new_mask_path =  os.path.join( r'D:', '/'.join(mask_path.split('/')[-4:]))\n",
    "\n",
    "    row[5] = new_ct_path\n",
    "    row[6] = new_pt_path\n",
    "    row[7] = new_mask_path \n",
    "\n"
   ]
  },
  {
   "cell_type": "code",
   "execution_count": 5,
   "metadata": {},
   "outputs": [
    {
     "output_type": "execute_result",
     "data": {
      "text/plain": "['CR,014',\n '2017014',\n '1.2.250.1.38.2.1.102.140724093005.103468016',\n 'cr_014_jul 25_2014.csv',\n 'pet0',\n 'D:FLIP_NIFTI/CR,014/pet0/1.2.250.1.38.2.1.102.140724093005.103468016_nifti_CT.nii',\n 'D:FLIP_NIFTI/CR,014/pet0/1.2.250.1.38.2.1.102.140724093005.103468016_nifti_PT.nii',\n 'D:FLIP_NIFTI/CR,014/pet0/1.2.250.1.38.2.1.102.140724093005.103468016_nifti_mask.nii',\n '20',\n '9.66']"
     },
     "metadata": {},
     "execution_count": 5
    }
   ],
   "source": [
    "csv_data[0]"
   ]
  },
  {
   "cell_type": "code",
   "execution_count": 7,
   "metadata": {
    "tags": []
   },
   "outputs": [
    {
     "output_type": "stream",
     "name": "stdout",
     "text": "0\nGLCM is symmetrical, therefore Sum Average = 2 * Joint Average, only 1 needs to be calculated\n1\nGLCM is symmetrical, therefore Sum Average = 2 * Joint Average, only 1 needs to be calculated\n2\nGLCM is symmetrical, therefore Sum Average = 2 * Joint Average, only 1 needs to be calculated\n3\nGLCM is symmetrical, therefore Sum Average = 2 * Joint Average, only 1 needs to be calculated\n4\nGLCM is symmetrical, therefore Sum Average = 2 * Joint Average, only 1 needs to be calculated\n5\nGLCM is symmetrical, therefore Sum Average = 2 * Joint Average, only 1 needs to be calculated\n6\nGLCM is symmetrical, therefore Sum Average = 2 * Joint Average, only 1 needs to be calculated\n7\nGLCM is symmetrical, therefore Sum Average = 2 * Joint Average, only 1 needs to be calculated\n8\nGLCM is symmetrical, therefore Sum Average = 2 * Joint Average, only 1 needs to be calculated\n9\nGLCM is symmetrical, therefore Sum Average = 2 * Joint Average, only 1 needs to be calculated\n10\nGLCM is symmetrical, therefore Sum Average = 2 * Joint Average, only 1 needs to be calculated\n11\nGLCM is symmetrical, therefore Sum Average = 2 * Joint Average, only 1 needs to be calculated\n12\nGLCM is symmetrical, therefore Sum Average = 2 * Joint Average, only 1 needs to be calculated\n13\nGLCM is symmetrical, therefore Sum Average = 2 * Joint Average, only 1 needs to be calculated\n14\nGLCM is symmetrical, therefore Sum Average = 2 * Joint Average, only 1 needs to be calculated\n15\nGLCM is symmetrical, therefore Sum Average = 2 * Joint Average, only 1 needs to be calculated\n16\nGLCM is symmetrical, therefore Sum Average = 2 * Joint Average, only 1 needs to be calculated\n17\nGLCM is symmetrical, therefore Sum Average = 2 * Joint Average, only 1 needs to be calculated\n18\nGLCM is symmetrical, therefore Sum Average = 2 * Joint Average, only 1 needs to be calculated\n19\nGLCM is symmetrical, therefore Sum Average = 2 * Joint Average, only 1 needs to be calculated\n20\nGLCM is symmetrical, therefore Sum Average = 2 * Joint Average, only 1 needs to be calculated\n21\nGLCM is symmetrical, therefore Sum Average = 2 * Joint Average, only 1 needs to be calculated\n22\nGLCM is symmetrical, therefore Sum Average = 2 * Joint Average, only 1 needs to be calculated\n23\nGLCM is symmetrical, therefore Sum Average = 2 * Joint Average, only 1 needs to be calculated\n24\nGLCM is symmetrical, therefore Sum Average = 2 * Joint Average, only 1 needs to be calculated\n25\nGLCM is symmetrical, therefore Sum Average = 2 * Joint Average, only 1 needs to be calculated\n26\nGLCM is symmetrical, therefore Sum Average = 2 * Joint Average, only 1 needs to be calculated\n27\nGLCM is symmetrical, therefore Sum Average = 2 * Joint Average, only 1 needs to be calculated\n28\nGLCM is symmetrical, therefore Sum Average = 2 * Joint Average, only 1 needs to be calculated\n29\nGLCM is symmetrical, therefore Sum Average = 2 * Joint Average, only 1 needs to be calculated\n30\nGLCM is symmetrical, therefore Sum Average = 2 * Joint Average, only 1 needs to be calculated\n31\nGLCM is symmetrical, therefore Sum Average = 2 * Joint Average, only 1 needs to be calculated\n32\nGLCM is symmetrical, therefore Sum Average = 2 * Joint Average, only 1 needs to be calculated\n33\nGLCM is symmetrical, therefore Sum Average = 2 * Joint Average, only 1 needs to be calculated\n34\nGLCM is symmetrical, therefore Sum Average = 2 * Joint Average, only 1 needs to be calculated\n35\nGLCM is symmetrical, therefore Sum Average = 2 * Joint Average, only 1 needs to be calculated\n36\nGLCM is symmetrical, therefore Sum Average = 2 * Joint Average, only 1 needs to be calculated\n37\nGLCM is symmetrical, therefore Sum Average = 2 * Joint Average, only 1 needs to be calculated\n38\nGLCM is symmetrical, therefore Sum Average = 2 * Joint Average, only 1 needs to be calculated\n39\nGLCM is symmetrical, therefore Sum Average = 2 * Joint Average, only 1 needs to be calculated\n40\nGLCM is symmetrical, therefore Sum Average = 2 * Joint Average, only 1 needs to be calculated\n41\nGLCM is symmetrical, therefore Sum Average = 2 * Joint Average, only 1 needs to be calculated\n42\nGLCM is symmetrical, therefore Sum Average = 2 * Joint Average, only 1 needs to be calculated\n43\nGLCM is symmetrical, therefore Sum Average = 2 * Joint Average, only 1 needs to be calculated\n44\nGLCM is symmetrical, therefore Sum Average = 2 * Joint Average, only 1 needs to be calculated\n45\nGLCM is symmetrical, therefore Sum Average = 2 * Joint Average, only 1 needs to be calculated\n46\nGLCM is symmetrical, therefore Sum Average = 2 * Joint Average, only 1 needs to be calculated\n47\nGLCM is symmetrical, therefore Sum Average = 2 * Joint Average, only 1 needs to be calculated\n48\nGLCM is symmetrical, therefore Sum Average = 2 * Joint Average, only 1 needs to be calculated\n49\nGLCM is symmetrical, therefore Sum Average = 2 * Joint Average, only 1 needs to be calculated\n50\nGLCM is symmetrical, therefore Sum Average = 2 * Joint Average, only 1 needs to be calculated\n51\nGLCM is symmetrical, therefore Sum Average = 2 * Joint Average, only 1 needs to be calculated\n52\nGLCM is symmetrical, therefore Sum Average = 2 * Joint Average, only 1 needs to be calculated\n53\nGLCM is symmetrical, therefore Sum Average = 2 * Joint Average, only 1 needs to be calculated\n54\nGLCM is symmetrical, therefore Sum Average = 2 * Joint Average, only 1 needs to be calculated\n55\nGLCM is symmetrical, therefore Sum Average = 2 * Joint Average, only 1 needs to be calculated\n56\nGLCM is symmetrical, therefore Sum Average = 2 * Joint Average, only 1 needs to be calculated\n57\nGLCM is symmetrical, therefore Sum Average = 2 * Joint Average, only 1 needs to be calculated\n58\nGLCM is symmetrical, therefore Sum Average = 2 * Joint Average, only 1 needs to be calculated\n59\nGLCM is symmetrical, therefore Sum Average = 2 * Joint Average, only 1 needs to be calculated\n"
    }
   ],
   "source": [
    "diam_2d = []\n",
    "diam_3d = []\n",
    "for row in csv_data : \n",
    "    print(csv_data.index(row))\n",
    "    diameter_2d, diameter_3d = extract_features(row[7], row[6], int(row[8]))\n",
    "    diam_2d.append(diameter_2d)\n",
    "    diam_3d.append(diameter_3d)\n"
   ]
  },
  {
   "cell_type": "code",
   "execution_count": 8,
   "metadata": {},
   "outputs": [
    {
     "output_type": "execute_result",
     "data": {
      "text/plain": "60"
     },
     "metadata": {},
     "execution_count": 8
    }
   ],
   "source": [
    "len(csv_data)"
   ]
  },
  {
   "cell_type": "code",
   "execution_count": 13,
   "metadata": {},
   "outputs": [
    {
     "output_type": "execute_result",
     "data": {
      "text/plain": "['CR,014',\n '2017014',\n '1.2.250.1.38.2.1.102.140724093005.103468016',\n 'cr_014_jul 25_2014.csv',\n 'pet0',\n 'D:FLIP_NIFTI/CR,014/pet0/1.2.250.1.38.2.1.102.140724093005.103468016_nifti_CT.nii',\n 'D:FLIP_NIFTI/CR,014/pet0/1.2.250.1.38.2.1.102.140724093005.103468016_nifti_PT.nii',\n 'D:FLIP_NIFTI/CR,014/pet0/1.2.250.1.38.2.1.102.140724093005.103468016_nifti_mask.nii',\n '20',\n '9.66']"
     },
     "metadata": {},
     "execution_count": 13
    }
   ],
   "source": [
    "csv_data[0]"
   ]
  },
  {
   "cell_type": "code",
   "execution_count": 9,
   "metadata": {},
   "outputs": [
    {
     "output_type": "execute_result",
     "data": {
      "text/plain": "60"
     },
     "metadata": {},
     "execution_count": 9
    }
   ],
   "source": [
    "len(diam_2d)"
   ]
  },
  {
   "cell_type": "code",
   "execution_count": 10,
   "metadata": {},
   "outputs": [
    {
     "output_type": "execute_result",
     "data": {
      "text/plain": "60"
     },
     "metadata": {},
     "execution_count": 10
    }
   ],
   "source": [
    "len(diam_3d)"
   ]
  },
  {
   "cell_type": "code",
   "execution_count": 14,
   "metadata": {},
   "outputs": [],
   "source": [
    "nifti_directory = r'D:\\FLIP_NIFTI'\n",
    "\n",
    "with open(os.path.join(nifti_directory, 'FLIP_metrics_v2.csv'), 'w') as csv_file : \n",
    "    csv_writer = csv.writer(csv_file, delimiter=',', quotechar='\"', quoting=csv.QUOTE_MINIMAL)\n",
    "    csv_writer.writerow([\"PATIENT_NAME\", \"PATIENT_ID\", \"STUDY_UID\", \"CSV_NAME\", \"PET\", \"NIFTI_CT\" ,\"NIFTI_PET\", \"NIFTI_MASK\", \"ROI\", \"SUV_MAX\", \"DIAM_2D\", \"DIAM_3D\"])\n",
    "    for serie in csv_data: \n",
    "        index = csv_data.index(serie)\n",
    "        csv_writer.writerow([serie[0], serie[1], serie[2], serie[3], serie[4], serie[5], serie[6], serie[7], serie[8], serie[9], diam_2d[index], diam_3d[index]])"
   ]
  },
  {
   "cell_type": "code",
   "execution_count": null,
   "metadata": {},
   "outputs": [],
   "source": []
  },
  {
   "cell_type": "code",
   "execution_count": null,
   "metadata": {},
   "outputs": [],
   "source": []
  },
  {
   "cell_type": "code",
   "execution_count": null,
   "metadata": {},
   "outputs": [],
   "source": []
  },
  {
   "cell_type": "code",
   "execution_count": null,
   "metadata": {},
   "outputs": [],
   "source": []
  },
  {
   "cell_type": "code",
   "execution_count": null,
   "metadata": {},
   "outputs": [],
   "source": []
  },
  {
   "cell_type": "code",
   "execution_count": 8,
   "metadata": {},
   "outputs": [],
   "source": [
    "mask_img = sitk.ReadImage(csv_data[0][7])\n",
    "mask_array = sitk.GetArrayFromImage(mask_img).transpose()\n",
    "\n",
    "pet_img = sitk.ReadImage(csv_data[0][6])\n",
    "pet_array = sitk.GetArrayFromImage(pet_img).transpose()"
   ]
  },
  {
   "cell_type": "code",
   "execution_count": 9,
   "metadata": {},
   "outputs": [],
   "source": [
    "mask_seuil = get_threshold_matrix_4D(mask_array, pet_array, 0.41 )"
   ]
  },
  {
   "cell_type": "code",
   "execution_count": null,
   "metadata": {},
   "outputs": [],
   "source": []
  },
  {
   "cell_type": "code",
   "execution_count": null,
   "metadata": {},
   "outputs": [],
   "source": []
  },
  {
   "cell_type": "code",
   "execution_count": 6,
   "metadata": {
    "tags": []
   },
   "outputs": [],
   "source": [
    "pet_img, mask_img = extract_features(csv_data[0][7], csv_data[0][6], 20)"
   ]
  },
  {
   "cell_type": "code",
   "execution_count": 7,
   "metadata": {},
   "outputs": [
    {
     "output_type": "execute_result",
     "data": {
      "text/plain": "(array([ 82,  83,  83, ..., 104, 104, 104], dtype=int64),\n array([113, 113, 113, ..., 127, 128, 128], dtype=int64),\n array([132, 124, 125, ...,  93,  87,  88], dtype=int64))"
     },
     "metadata": {},
     "execution_count": 7
    }
   ],
   "source": [
    "mask_array = sitk.GetArrayFromImage(mask_img).transpose()\n",
    "np.where(mask_array == 1)"
   ]
  },
  {
   "cell_type": "code",
   "execution_count": 10,
   "metadata": {
    "tags": []
   },
   "outputs": [
    {
     "output_type": "stream",
     "name": "stderr",
     "text": "GLCM is symmetrical, therefore Sum Average = 2 * Joint Average, only 1 needs to be calculated\n"
    }
   ],
   "source": [
    "extractor = RadiomicsFeatureExtractor()\n",
    "results = extractor.execute(pet_img, mask_img)"
   ]
  },
  {
   "cell_type": "code",
   "execution_count": 13,
   "metadata": {},
   "outputs": [
    {
     "output_type": "execute_result",
     "data": {
      "text/plain": "OrderedDict([('diagnostics_Versions_PyRadiomics', 'v3.0'),\n             ('diagnostics_Versions_Numpy', '1.17.4'),\n             ('diagnostics_Versions_SimpleITK', '1.2.3'),\n             ('diagnostics_Versions_PyWavelet', '1.0.0'),\n             ('diagnostics_Versions_Python', '3.7.4'),\n             ('diagnostics_Configuration_Settings',\n              {'minimumROIDimensions': 2,\n               'minimumROISize': None,\n               'normalize': False,\n               'normalizeScale': 1,\n               'removeOutliers': None,\n               'resampledPixelSpacing': None,\n               'interpolator': 'sitkBSpline',\n               'preCrop': False,\n               'padDistance': 5,\n               'distances': [1],\n               'force2D': False,\n               'force2Ddimension': 0,\n               'resegmentRange': None,\n               'label': 1,\n               'additionalInfo': True}),\n             ('diagnostics_Configuration_EnabledImageTypes', {'Original': {}}),\n             ('diagnostics_Image-original_Hash',\n              '1cfbde4f19687cad1686eaa06743bc6e544d1d0e'),\n             ('diagnostics_Image-original_Dimensionality', '3D'),\n             ('diagnostics_Image-original_Spacing',\n              (4.0728302001953125, 4.0728302001953125, 2.0269999504089355)),\n             ('diagnostics_Image-original_Size', (200, 200, 449)),\n             ('diagnostics_Image-original_Mean', 6.876391982182628e-05),\n             ('diagnostics_Image-original_Minimum', 0.0),\n             ('diagnostics_Image-original_Maximum', 1.0),\n             ('diagnostics_Mask-original_Hash',\n              'cad7f7387935f65216885e1b8b13cfce54a8f1d2'),\n             ('diagnostics_Mask-original_Spacing',\n              (4.0728302001953125, 4.0728302001953125, 2.0269999504089355)),\n             ('diagnostics_Mask-original_Size', (200, 200, 449)),\n             ('diagnostics_Mask-original_BoundingBox',\n              (82, 110, 86, 23, 19, 47)),\n             ('diagnostics_Mask-original_VoxelNum', 1235),\n             ('diagnostics_Mask-original_VolumeNum', 8),\n             ('diagnostics_Mask-original_CenterOfMassIndex',\n              (91.99676113360324, 118.10931174089069, 105.28421052631579)),\n             ('diagnostics_Mask-original_CenterOfMass',\n              (-32.50479901889071, -84.2678350533551, -1209.6888860702516)),\n             ('original_shape_Elongation', 0.5851908213684305),\n             ('original_shape_Flatness', 0.39355955495149336),\n             ('original_shape_LeastAxisLength', 41.97766025704317),\n             ('original_shape_MajorAxisLength', 106.66151978502202),\n             ('original_shape_Maximum2DDiameterColumn', array(101.95682211)),\n             ('original_shape_Maximum2DDiameterRow', array(100.97319812)),\n             ('original_shape_Maximum2DDiameterSlice', array(90.15593969)),\n             ('original_shape_Maximum3DDiameter', array(144.31731352)),\n             ('original_shape_MeshVolume', array(39359.41937448)),\n             ('original_shape_MinorAxisLength', 62.417342371402135),\n             ('original_shape_Sphericity', array(0.32193341)),\n             ('original_shape_SurfaceArea', array(17381.36417291)),\n             ('original_shape_SurfaceVolumeRatio', array(0.44160621)),\n             ('original_shape_VoxelVolume', 41525.350261962856),\n             ('original_firstorder_10Percentile', array(1.)),\n             ('original_firstorder_90Percentile', array(1.)),\n             ('original_firstorder_Energy', array(1235.)),\n             ('original_firstorder_Entropy', array(-3.2034265e-16)),\n             ('original_firstorder_InterquartileRange', array(0.)),\n             ('original_firstorder_Kurtosis', array(0.)),\n             ('original_firstorder_Maximum', array(1.)),\n             ('original_firstorder_MeanAbsoluteDeviation', array(0.)),\n             ('original_firstorder_Mean', array(1.)),\n             ('original_firstorder_Median', array(1.)),\n             ('original_firstorder_Minimum', array(1.)),\n             ('original_firstorder_Range', array(0.)),\n             ('original_firstorder_RobustMeanAbsoluteDeviation', array(0.)),\n             ('original_firstorder_RootMeanSquared', array(1.)),\n             ('original_firstorder_Skewness', array(0.)),\n             ('original_firstorder_TotalEnergy', array(41525.35026196)),\n             ('original_firstorder_Uniformity', array(1.)),\n             ('original_firstorder_Variance', array(0.)),\n             ('original_glcm_Autocorrelation', array(1.)),\n             ('original_glcm_ClusterProminence', array(0.)),\n             ('original_glcm_ClusterShade', array(0.)),\n             ('original_glcm_ClusterTendency', array(0.)),\n             ('original_glcm_Contrast', array(0.)),\n             ('original_glcm_Correlation', array(1.)),\n             ('original_glcm_DifferenceAverage', array(0.)),\n             ('original_glcm_DifferenceEntropy', array(-3.2034265e-16)),\n             ('original_glcm_DifferenceVariance', array(0.)),\n             ('original_glcm_Id', array(1.)),\n             ('original_glcm_Idm', array(1.)),\n             ('original_glcm_Idmn', array(1.)),\n             ('original_glcm_Idn', array(1.)),\n             ('original_glcm_Imc1', array(0.)),\n             ('original_glcm_Imc2', array(0.)),\n             ('original_glcm_InverseVariance', array(0.)),\n             ('original_glcm_JointAverage', array(1.)),\n             ('original_glcm_JointEnergy', array(1.)),\n             ('original_glcm_JointEntropy', array(-3.2034265e-16)),\n             ('original_glcm_MCC', array(1)),\n             ('original_glcm_MaximumProbability', array(1.)),\n             ('original_glcm_SumAverage', array(2.)),\n             ('original_glcm_SumEntropy', array(-3.2034265e-16)),\n             ('original_glcm_SumSquares', array(0.)),\n             ('original_gldm_DependenceEntropy', array(4.324691)),\n             ('original_gldm_DependenceNonUniformity', array(69.76761134)),\n             ('original_gldm_DependenceNonUniformityNormalized',\n              array(0.05649199)),\n             ('original_gldm_DependenceVariance', array(25.18663541)),\n             ('original_gldm_GrayLevelNonUniformity', array(1235.)),\n             ('original_gldm_GrayLevelVariance', array(0.)),\n             ('original_gldm_HighGrayLevelEmphasis', array(1.)),\n             ('original_gldm_LargeDependenceEmphasis', array(258.47206478)),\n             ('original_gldm_LargeDependenceHighGrayLevelEmphasis',\n              array(258.47206478)),\n             ('original_gldm_LargeDependenceLowGrayLevelEmphasis',\n              array(258.47206478)),\n             ('original_gldm_LowGrayLevelEmphasis', array(1.)),\n             ('original_gldm_SmallDependenceEmphasis', array(0.00865567)),\n             ('original_gldm_SmallDependenceHighGrayLevelEmphasis',\n              array(0.00865567)),\n             ('original_gldm_SmallDependenceLowGrayLevelEmphasis',\n              array(0.00865567)),\n             ('original_glrlm_GrayLevelNonUniformity', array(557.)),\n             ('original_glrlm_GrayLevelNonUniformityNormalized', array(1.)),\n             ('original_glrlm_GrayLevelVariance', array(0.)),\n             ('original_glrlm_HighGrayLevelRunEmphasis', array(1.)),\n             ('original_glrlm_LongRunEmphasis', array(8.82707317)),\n             ('original_glrlm_LongRunHighGrayLevelEmphasis',\n              array(8.82707317)),\n             ('original_glrlm_LongRunLowGrayLevelEmphasis', array(8.82707317)),\n             ('original_glrlm_LowGrayLevelRunEmphasis', array(1.)),\n             ('original_glrlm_RunEntropy', array(2.1454123)),\n             ('original_glrlm_RunLengthNonUniformity', array(165.76436887)),\n             ('original_glrlm_RunLengthNonUniformityNormalized',\n              array(0.27774638)),\n             ('original_glrlm_RunPercentage', array(0.45101215)),\n             ('original_glrlm_RunVariance', array(2.39161675)),\n             ('original_glrlm_ShortRunEmphasis', array(0.45308007)),\n             ('original_glrlm_ShortRunHighGrayLevelEmphasis',\n              array(0.45308007)),\n             ('original_glrlm_ShortRunLowGrayLevelEmphasis',\n              array(0.45308007)),\n             ('original_glszm_GrayLevelNonUniformity', array(8.)),\n             ('original_glszm_GrayLevelNonUniformityNormalized', array(1.)),\n             ('original_glszm_GrayLevelVariance', array(0.)),\n             ('original_glszm_HighGrayLevelZoneEmphasis', array(1.)),\n             ('original_glszm_LargeAreaEmphasis', array(77756.625)),\n             ('original_glszm_LargeAreaHighGrayLevelEmphasis',\n              array(77756.625)),\n             ('original_glszm_LargeAreaLowGrayLevelEmphasis',\n              array(77756.625)),\n             ('original_glszm_LowGrayLevelZoneEmphasis', array(1.)),\n             ('original_glszm_SizeZoneNonUniformity', array(1.25)),\n             ('original_glszm_SizeZoneNonUniformityNormalized',\n              array(0.15625)),\n             ('original_glszm_SmallAreaEmphasis', array(0.25707175)),\n             ('original_glszm_SmallAreaHighGrayLevelEmphasis',\n              array(0.25707175)),\n             ('original_glszm_SmallAreaLowGrayLevelEmphasis',\n              array(0.25707175)),\n             ('original_glszm_ZoneEntropy', array(2.75)),\n             ('original_glszm_ZonePercentage', array(0.00647773)),\n             ('original_glszm_ZoneVariance', array(53924.984375)),\n             ('original_ngtdm_Busyness', array(0.)),\n             ('original_ngtdm_Coarseness', array(1000000.)),\n             ('original_ngtdm_Complexity', array(0.)),\n             ('original_ngtdm_Contrast', array(0.)),\n             ('original_ngtdm_Strength', array(0.))])"
     },
     "metadata": {},
     "execution_count": 13
    }
   ],
   "source": [
    "results"
   ]
  },
  {
   "cell_type": "code",
   "execution_count": 16,
   "metadata": {},
   "outputs": [
    {
     "output_type": "execute_result",
     "data": {
      "text/plain": "numpy.float64"
     },
     "metadata": {},
     "execution_count": 16
    }
   ],
   "source": [
    "results['original_shape_MajorAxisLength']"
   ]
  },
  {
   "cell_type": "code",
   "execution_count": 25,
   "metadata": {},
   "outputs": [
    {
     "output_type": "execute_result",
     "data": {
      "text/plain": "144.3173135176973"
     },
     "metadata": {},
     "execution_count": 25
    }
   ],
   "source": [
    "arr = results['original_shape_Maximum3DDiameter']\n",
    "float(arr)"
   ]
  },
  {
   "cell_type": "code",
   "execution_count": null,
   "metadata": {},
   "outputs": [],
   "source": [
    "'original_shape_MajorAxisLength', 106.66151978502202)\n",
    "('original_shape_Maximum3DDiameter', array(144.31731352))"
   ]
  },
  {
   "cell_type": "code",
   "execution_count": 13,
   "metadata": {},
   "outputs": [],
   "source": [
    "\n",
    "csv_flip_path = '/media/deeplearning/78ca2911-9e9f-4f78-b80a-848024b95f92/FLIP/petIni.csv'\n",
    "\n",
    "with open(csv_flip_path, 'r') as csv_file :\n",
    "    reader = csv.reader(csv_file, delimiter = ';') #liste pour chaque ligne \n",
    "    csv_data = []\n",
    "    for row in reader :\n",
    "        csv_data.append(row)\n",
    "        \n",
    "del csv_data[0] #enlever première ligne\n"
   ]
  },
  {
   "cell_type": "code",
   "execution_count": 14,
   "metadata": {},
   "outputs": [
    {
     "output_type": "execute_result",
     "data": {
      "text/plain": "['CR,014',\n '2017014',\n '1.2.250.1.38.2.1.102.140724093005.103468016',\n '1',\n 'cr_014_jul 25_2014.csv',\n '1',\n '5',\n '11.13',\n 'Bone Marrow',\n '3.4',\n 'Abdominal',\n '2.19',\n '3.05',\n '4.08',\n '2.61',\n '3.35',\n '1',\n '6.7',\n '3.46',\n '4',\n '3.54',\n '2']"
     },
     "metadata": {},
     "execution_count": 14
    }
   ],
   "source": [
    "csv_data[0]"
   ]
  },
  {
   "cell_type": "code",
   "execution_count": 4,
   "metadata": {
    "tags": []
   },
   "outputs": [
    {
     "output_type": "stream",
     "name": "stdout",
     "text": "0\n1\n2\n3\n4\n5\n6\n7\n8\n9\n10\n11\n12\n13\n14\n15\n16\n17\n18\n19\n20\n21\n22\n23\n24\n25\n26\n27\n28\n29\n30\n31\n32\n33\n34\n35\n36\n37\n38\n39\n40\n41\n42\n43\n44\n45\n46\n47\n48\n49\n50\n51\n52\n53\n54\n55\n56\n57\n58\n59\n"
    }
   ],
   "source": [
    "for serie in csv_data:\n",
    "    print(csv_data.index(serie))\n",
    "    roi, suv_max = get_suv_max_value(serie[6], serie[5])\n",
    "    serie.append(roi)\n",
    "    serie.append(suv_max)"
   ]
  },
  {
   "cell_type": "code",
   "execution_count": 5,
   "metadata": {},
   "outputs": [
    {
     "output_type": "execute_result",
     "data": {
      "text/plain": "['CR,014',\n '2017014',\n '1.2.250.1.38.2.1.102.140724093005.103468016',\n 'pet0',\n '/media/deeplearning/78ca2911-9e9f-4f78-b80a-848024b95f92/FLIP_NIFTI/CR,014/pet0/1.2.250.1.38.2.1.102.140724093005.103468016_nifti_CT.nii',\n '/media/deeplearning/78ca2911-9e9f-4f78-b80a-848024b95f92/FLIP_NIFTI/CR,014/pet0/1.2.250.1.38.2.1.102.140724093005.103468016_nifti_PT.nii',\n '/media/deeplearning/78ca2911-9e9f-4f78-b80a-848024b95f92/FLIP_NIFTI/CR,014/pet0/1.2.250.1.38.2.1.102.140724093005.103468016_nifti_mask.nii',\n 19,\n 9.66]"
     },
     "metadata": {},
     "execution_count": 5
    }
   ],
   "source": [
    "csv_data[0]"
   ]
  },
  {
   "cell_type": "code",
   "execution_count": null,
   "metadata": {},
   "outputs": [],
   "source": []
  },
  {
   "cell_type": "code",
   "execution_count": 15,
   "metadata": {},
   "outputs": [],
   "source": [
    "csv_flip_path = '/media/deeplearning/78ca2911-9e9f-4f78-b80a-848024b95f92/FLIP_NIFTI/FLIP_SUV_MAX_BIGGER_ROI.csv'\n",
    "\n",
    "with open(csv_flip_path, 'r') as csv_file :\n",
    "    reader = csv.reader(csv_file, delimiter = ',') #liste pour chaque ligne \n",
    "    csv_data_2 = []\n",
    "    for row in reader :\n",
    "        csv_data_2.append(row)\n",
    "        \n",
    "del csv_data_2[0] #enlever première ligne\n"
   ]
  },
  {
   "cell_type": "code",
   "execution_count": 16,
   "metadata": {},
   "outputs": [
    {
     "output_type": "execute_result",
     "data": {
      "text/plain": "['CR,017',\n '2017017',\n '1.2.840.113619.2.354.3.3523896338.523.1419230918.308',\n 'pet0',\n '/media/deeplearning/78ca2911-9e9f-4f78-b80a-848024b95f92/FLIP_NIFTI/CR,017/pet0/1.2.840.113619.2.354.3.3523896338.523.1419230918.308_nifti_CT.nii',\n '/media/deeplearning/78ca2911-9e9f-4f78-b80a-848024b95f92/FLIP_NIFTI/CR,017/pet0/1.2.840.113619.2.354.3.3523896338.523.1419230918.308_nifti_PT.nii',\n '/media/deeplearning/78ca2911-9e9f-4f78-b80a-848024b95f92/FLIP_NIFTI/CR,017/pet0/1.2.840.113619.2.354.3.3523896338.523.1419230918.308_nifti_mask.nii',\n '3',\n '8.19']"
     },
     "metadata": {},
     "execution_count": 16
    }
   ],
   "source": [
    "csv_data_2[1]"
   ]
  },
  {
   "cell_type": "code",
   "execution_count": 17,
   "metadata": {},
   "outputs": [],
   "source": [
    "for row in csv_data_2 : \n",
    "    for ligne in csv_data : \n",
    "        if row[1] in ligne : \n",
    "            row.append(ligne[4])"
   ]
  },
  {
   "cell_type": "code",
   "execution_count": 18,
   "metadata": {},
   "outputs": [
    {
     "output_type": "execute_result",
     "data": {
      "text/plain": "['CR,014',\n '2017014',\n '1.2.250.1.38.2.1.102.140724093005.103468016',\n 'pet0',\n '/media/deeplearning/78ca2911-9e9f-4f78-b80a-848024b95f92/FLIP_NIFTI/CR,014/pet0/1.2.250.1.38.2.1.102.140724093005.103468016_nifti_CT.nii',\n '/media/deeplearning/78ca2911-9e9f-4f78-b80a-848024b95f92/FLIP_NIFTI/CR,014/pet0/1.2.250.1.38.2.1.102.140724093005.103468016_nifti_PT.nii',\n '/media/deeplearning/78ca2911-9e9f-4f78-b80a-848024b95f92/FLIP_NIFTI/CR,014/pet0/1.2.250.1.38.2.1.102.140724093005.103468016_nifti_mask.nii',\n '20',\n '9.66',\n 'cr_014_jul 25_2014.csv']"
     },
     "metadata": {},
     "execution_count": 18
    }
   ],
   "source": [
    "csv_data_2[0]"
   ]
  },
  {
   "cell_type": "code",
   "execution_count": 23,
   "metadata": {},
   "outputs": [],
   "source": [
    "nifti_directory = '/media/deeplearning/78ca2911-9e9f-4f78-b80a-848024b95f92/FLIP_NIFTI'\n",
    "\n",
    "with open(os.path.join(nifti_directory, 'FLIP_metrics.csv'), 'w') as csv_file : \n",
    "    csv_writer = csv.writer(csv_file, delimiter=',', quotechar='\"', quoting=csv.QUOTE_MINIMAL)\n",
    "    csv_writer.writerow([\"PATIENT_NAME\", \"PATIENT_ID\", \"STUDY_UID\", \"CSV_NAME\", \"PET\", \"NIFTI_CT\" ,\"NIFTI_PET\", \"NIFTI_MASK\", \"ROI\", \"SUV_MAX\"])\n",
    "    for serie in csv_data_2: \n",
    "        csv_writer.writerow([serie[0], serie[1], serie[2], serie[-1], serie[3], serie[4], serie[5], serie[6], serie[7], serie[8]])"
   ]
  }
 ]
}