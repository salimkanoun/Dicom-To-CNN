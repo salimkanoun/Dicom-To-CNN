{
 "cells": [
  {
   "cell_type": "code",
   "execution_count": 1,
   "metadata": {},
   "outputs": [],
   "source": [
    "from library_dicom.dicom_processor.tools.preprocess_ct_pt import *"
   ]
  },
  {
   "cell_type": "code",
   "execution_count": 2,
   "metadata": {},
   "outputs": [
    {
     "name": "stdout",
     "output_type": "stream",
     "text": [
      "[['C:\\\\Users\\\\wendy\\\\Documents\\\\STAGE\\\\exemple\\\\1.2.124.113532.10.149.172.5.20131107.93455.7725981_nifti_PT.nii', 'C:\\\\Users\\\\wendy\\\\Documents\\\\STAGE\\\\exemple\\\\1.2.124.113532.10.149.172.5.20131107.93455.7725981_nifti_CT.nii', 'C:\\\\Users\\\\wendy\\\\Documents\\\\STAGE\\\\exemple\\\\1.2.124.113532.10.149.172.5.20131107.93455.7725981_nifti_mask.nii']]\n"
     ]
    }
   ],
   "source": [
    "PET = r'C:\\Users\\wendy\\Documents\\STAGE\\exemple\\1.2.124.113532.10.149.172.5.20131107.93455.7725981_nifti_PT.nii'\n",
    "CT = r'C:\\Users\\wendy\\Documents\\STAGE\\exemple\\1.2.124.113532.10.149.172.5.20131107.93455.7725981_nifti_CT.nii'\n",
    "MASK = r'C:\\Users\\wendy\\Documents\\STAGE\\exemple\\1.2.124.113532.10.149.172.5.20131107.93455.7725981_nifti_mask.nii'\n",
    "subliste = []\n",
    "subliste.append(PET)\n",
    "subliste.append(CT)\n",
    "subliste.append(MASK)\n",
    "patient = []\n",
    "patient.append(subliste)\n",
    "print(patient)"
   ]
  },
  {
   "cell_type": "code",
   "execution_count": 3,
   "metadata": {},
   "outputs": [],
   "source": [
    "IMAGE_SHAPE  = [368,128,128]\n",
    "PIXEL_SIZE   = [4.8,4.8,4.8]\n",
    "RESIZE       = True\n",
    "NORMALIZE    = True"
   ]
  },
  {
   "cell_type": "code",
   "execution_count": 4,
   "metadata": {},
   "outputs": [
    {
     "name": "stdout",
     "output_type": "stream",
     "text": [
      "['C:\\\\Users\\\\wendy\\\\Documents\\\\STAGE\\\\exemple\\\\1.2.124.113532.10.149.172.5.20131107.93455.7725981_nifti_PT.nii', 'C:\\\\Users\\\\wendy\\\\Documents\\\\STAGE\\\\exemple\\\\1.2.124.113532.10.149.172.5.20131107.93455.7725981_nifti_CT.nii', 'C:\\\\Users\\\\wendy\\\\Documents\\\\STAGE\\\\exemple\\\\1.2.124.113532.10.149.172.5.20131107.93455.7725981_nifti_mask.nii']\n",
      "1/1 [==============================>] : 1.2.124.113532.10.149.172.5.20131107.93455.7725981_nifti_PT.nii    ReadImage PET\n",
      "ReadImage CT\n",
      "readImage MASK\n",
      "ReadImage OK\n"
     ]
    },
    {
     "ename": "RuntimeError",
     "evalue": "Exception thrown in SimpleITK Threshold: d:\\a\\1\\work\\code\\common\\include\\sitkMemberFunctionFactory.hxx:185:\nsitk::ERROR: Pixel type: 8-bit unsigned integer is not supported in 4D by class itk::simple::ThresholdImageFilter or SimpleITK compiled with SimpleITK_4D_IMAGES set to OFF.",
     "output_type": "error",
     "traceback": [
      "\u001b[1;31m---------------------------------------------------------------------------\u001b[0m",
      "\u001b[1;31mRuntimeError\u001b[0m                              Traceback (most recent call last)",
      "\u001b[1;32m<ipython-input-4-00e5bbefc6ef>\u001b[0m in \u001b[0;36m<module>\u001b[1;34m\u001b[0m\n\u001b[0;32m      2\u001b[0m                                              \u001b[0mpixel_size\u001b[0m\u001b[1;33m=\u001b[0m\u001b[0mPIXEL_SIZE\u001b[0m\u001b[1;33m,\u001b[0m\u001b[1;33m\u001b[0m\u001b[1;33m\u001b[0m\u001b[0m\n\u001b[0;32m      3\u001b[0m                                              \u001b[0mresample\u001b[0m\u001b[1;33m=\u001b[0m\u001b[0mRESIZE\u001b[0m\u001b[1;33m,\u001b[0m\u001b[1;33m\u001b[0m\u001b[1;33m\u001b[0m\u001b[0m\n\u001b[1;32m----> 4\u001b[1;33m                                              normalize=NORMALIZE)\n\u001b[0m",
      "\u001b[1;32m~\\Documents\\STAGE\\library-DICOM\\library_dicom\\dicom_processor\\tools\\preprocess_ct_pt.py\u001b[0m in \u001b[0;36mPREPROCESS\u001b[1;34m(data_set_ids, path_output, output_shape, pixel_size, resample, normalize)\u001b[0m\n\u001b[0;32m    114\u001b[0m \u001b[1;33m\u001b[0m\u001b[0m\n\u001b[0;32m    115\u001b[0m         \u001b[1;32mif\u001b[0m \u001b[0mnormalize\u001b[0m\u001b[1;33m:\u001b[0m\u001b[1;33m\u001b[0m\u001b[1;33m\u001b[0m\u001b[0m\n\u001b[1;32m--> 116\u001b[1;33m             \u001b[0mPET_img\u001b[0m\u001b[1;33m,\u001b[0m \u001b[0mCT_img\u001b[0m\u001b[1;33m,\u001b[0m \u001b[0mMASK_img\u001b[0m \u001b[1;33m=\u001b[0m \u001b[0mPREPROCESS_normalize\u001b[0m\u001b[1;33m(\u001b[0m\u001b[0mPET_img\u001b[0m\u001b[1;33m,\u001b[0m \u001b[0mCT_img\u001b[0m\u001b[1;33m,\u001b[0m \u001b[0mMASK_img\u001b[0m\u001b[1;33m)\u001b[0m\u001b[1;33m\u001b[0m\u001b[1;33m\u001b[0m\u001b[0m\n\u001b[0m\u001b[0;32m    117\u001b[0m \u001b[1;33m\u001b[0m\u001b[0m\n\u001b[0;32m    118\u001b[0m         \u001b[1;32mif\u001b[0m \u001b[0mresample\u001b[0m\u001b[1;33m:\u001b[0m\u001b[1;33m\u001b[0m\u001b[1;33m\u001b[0m\u001b[0m\n",
      "\u001b[1;32m~\\Documents\\STAGE\\library-DICOM\\library_dicom\\dicom_processor\\tools\\preprocess_ct_pt.py\u001b[0m in \u001b[0;36mPREPROCESS_normalize\u001b[1;34m(PET_img, CT_img, MASK_img)\u001b[0m\n\u001b[0;32m    146\u001b[0m     \u001b[0mCT_img\u001b[0m \u001b[1;33m=\u001b[0m \u001b[0msitk\u001b[0m\u001b[1;33m.\u001b[0m\u001b[0mShiftScale\u001b[0m\u001b[1;33m(\u001b[0m\u001b[0mCT_img\u001b[0m\u001b[1;33m,\u001b[0m\u001b[0mshift\u001b[0m\u001b[1;33m=\u001b[0m\u001b[1;36m1000\u001b[0m\u001b[1;33m,\u001b[0m \u001b[0mscale\u001b[0m\u001b[1;33m=\u001b[0m\u001b[1;36m1.\u001b[0m\u001b[1;33m/\u001b[0m\u001b[1;36m2000.\u001b[0m\u001b[1;33m)\u001b[0m\u001b[1;33m\u001b[0m\u001b[1;33m\u001b[0m\u001b[0m\n\u001b[0;32m    147\u001b[0m         \u001b[1;31m# normalization MASK\u001b[0m\u001b[1;33m\u001b[0m\u001b[1;33m\u001b[0m\u001b[1;33m\u001b[0m\u001b[0m\n\u001b[1;32m--> 148\u001b[1;33m     \u001b[0mMASK_img\u001b[0m \u001b[1;33m=\u001b[0m \u001b[0msitk\u001b[0m\u001b[1;33m.\u001b[0m\u001b[0mThreshold\u001b[0m\u001b[1;33m(\u001b[0m\u001b[0mMASK_img\u001b[0m\u001b[1;33m,\u001b[0m \u001b[0mlower\u001b[0m\u001b[1;33m=\u001b[0m\u001b[1;36m0.0\u001b[0m\u001b[1;33m,\u001b[0m \u001b[0mupper\u001b[0m\u001b[1;33m=\u001b[0m\u001b[1;36m1.0\u001b[0m\u001b[1;33m,\u001b[0m \u001b[0moutsideValue\u001b[0m\u001b[1;33m=\u001b[0m\u001b[1;36m1.0\u001b[0m\u001b[1;33m)\u001b[0m\u001b[1;33m\u001b[0m\u001b[1;33m\u001b[0m\u001b[0m\n\u001b[0m\u001b[0;32m    149\u001b[0m \u001b[1;33m\u001b[0m\u001b[0m\n\u001b[0;32m    150\u001b[0m     \u001b[1;32mreturn\u001b[0m \u001b[0mPET_img\u001b[0m\u001b[1;33m,\u001b[0m \u001b[0mCT_img\u001b[0m\u001b[1;33m,\u001b[0m \u001b[0mMASK_img\u001b[0m\u001b[1;33m\u001b[0m\u001b[1;33m\u001b[0m\u001b[0m\n",
      "\u001b[1;32m~\\Anaconda3\\lib\\site-packages\\SimpleITK\\SimpleITK.py\u001b[0m in \u001b[0;36mThreshold\u001b[1;34m(image1, lower, upper, outsideValue)\u001b[0m\n\u001b[0;32m  66758\u001b[0m \u001b[1;33m\u001b[0m\u001b[0m\n\u001b[0;32m  66759\u001b[0m     \"\"\"\n\u001b[1;32m> 66760\u001b[1;33m     \u001b[1;32mreturn\u001b[0m \u001b[0m_SimpleITK\u001b[0m\u001b[1;33m.\u001b[0m\u001b[0mThreshold\u001b[0m\u001b[1;33m(\u001b[0m\u001b[0mimage1\u001b[0m\u001b[1;33m,\u001b[0m \u001b[0mlower\u001b[0m\u001b[1;33m,\u001b[0m \u001b[0mupper\u001b[0m\u001b[1;33m,\u001b[0m \u001b[0moutsideValue\u001b[0m\u001b[1;33m)\u001b[0m\u001b[1;33m\u001b[0m\u001b[1;33m\u001b[0m\u001b[0m\n\u001b[0m\u001b[0;32m  66761\u001b[0m \u001b[1;32mclass\u001b[0m \u001b[0mThresholdMaximumConnectedComponentsImageFilter\u001b[0m\u001b[1;33m(\u001b[0m\u001b[0mImageFilter_1\u001b[0m\u001b[1;33m)\u001b[0m\u001b[1;33m:\u001b[0m\u001b[1;33m\u001b[0m\u001b[1;33m\u001b[0m\u001b[0m\n\u001b[0;32m  66762\u001b[0m     \"\"\"\n",
      "\u001b[1;31mRuntimeError\u001b[0m: Exception thrown in SimpleITK Threshold: d:\\a\\1\\work\\code\\common\\include\\sitkMemberFunctionFactory.hxx:185:\nsitk::ERROR: Pixel type: 8-bit unsigned integer is not supported in 4D by class itk::simple::ThresholdImageFilter or SimpleITK compiled with SimpleITK_4D_IMAGES set to OFF."
     ]
    }
   ],
   "source": [
    "PREPROCESS(patient, r'C:\\Users\\wendy\\Documents\\STAGE\\exemple\\PREPROCESS', output_shape=IMAGE_SHAPE,\n",
    "                                             pixel_size=PIXEL_SIZE,\n",
    "                                             resample=RESIZE,\n",
    "                                             normalize=NORMALIZE)"
   ]
  }
 ],
 "metadata": {
  "kernelspec": {
   "display_name": "Python 3",
   "language": "python",
   "name": "python3"
  },
  "language_info": {
   "codemirror_mode": {
    "name": "ipython",
    "version": 3
   },
   "file_extension": ".py",
   "mimetype": "text/x-python",
   "name": "python",
   "nbconvert_exporter": "python",
   "pygments_lexer": "ipython3",
   "version": "3.7.4"
  }
 },
 "nbformat": 4,
 "nbformat_minor": 2
}
