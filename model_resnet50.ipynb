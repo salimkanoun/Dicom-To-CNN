{
 "metadata": {
  "language_info": {
   "codemirror_mode": {
    "name": "ipython",
    "version": 3
   },
   "file_extension": ".py",
   "mimetype": "text/x-python",
   "name": "python",
   "nbconvert_exporter": "python",
   "pygments_lexer": "ipython3",
   "version": "3.8.5-final"
  },
  "orig_nbformat": 2,
  "kernelspec": {
   "name": "python38264bit4afc185bc98b42c389abdbb3fbeec8dd",
   "display_name": "Python 3.8.2 64-bit"
  }
 },
 "nbformat": 4,
 "nbformat_minor": 2,
 "cells": [
  {
   "cell_type": "code",
   "execution_count": 10,
   "metadata": {},
   "outputs": [],
   "source": [
    "import SimpleITK as sitk \n",
    "import numpy as np \n",
    "import matplotlib.pyplot as plt \n",
    "from library_dicom.dicom_processor.tools.preprocessing import *\n",
    "import json \n",
    "import csv \n",
    "from sklearn.model_selection import train_test_split \n",
    "import tensorflow as tf \n",
    "from classification.Prep_CSV import Prep_CSV\n",
    "from classification.Preprocessing import Preprocessing \n",
    "from classification.resnet50 import *"
   ]
  },
  {
   "cell_type": "code",
   "execution_count": 2,
   "metadata": {
    "tags": []
   },
   "outputs": [
    {
     "output_type": "stream",
     "name": "stdout",
     "text": [
      "/media/deeplearning/78ca2911-9e9f-4f78-b80a-848024b95f92/classif_test.csv\n"
     ]
    }
   ],
   "source": [
    "#csv \n",
    "json_path = '/media/deeplearning/78ca2911-9e9f-4f78-b80a-848024b95f92/result.json'\n",
    "nifti_directory = '/media/deeplearning/78ca2911-9e9f-4f78-b80a-848024b95f92'\n",
    "objet = Prep_CSV(json_path)\n",
    "objet.result_csv(nifti_directory)\n",
    "print(objet.csv_result_path)"
   ]
  },
  {
   "cell_type": "code",
   "execution_count": 3,
   "metadata": {},
   "outputs": [],
   "source": [
    "prep_objet = Preprocessing(objet.csv_result_path)\n",
    "X, y = prep_objet.normalize_encoding_dataset()"
   ]
  },
  {
   "cell_type": "code",
   "execution_count": 4,
   "metadata": {},
   "outputs": [
    {
     "output_type": "stream",
     "name": "stdout",
     "text": [
      "size of X :  (526, 1024, 256, 1)\nsize of y :  (526, 4)\n"
     ]
    }
   ],
   "source": [
    "print(\"size of X : \", X.shape)\n",
    "print(\"size of y : \",y.shape)"
   ]
  },
  {
   "cell_type": "code",
   "execution_count": 6,
   "metadata": {
    "tags": []
   },
   "outputs": [
    {
     "output_type": "stream",
     "name": "stdout",
     "text": [
      "size of X_train :  (336, 1024, 256, 1)\nsize of y_train :  (336, 4)\n\nsize of X_test :  (106, 1024, 256, 1)\nsize of y_test :  (106, 4)\n\nsize of X_val :  (84, 1024, 256, 1)\nsize of y_val :  (84, 4)\n"
     ]
    }
   ],
   "source": [
    "#Prepare Train, Test, Val set \n",
    "X_train, X_test, y_train, y_test = train_test_split(X, y, test_size = 0.20)\n",
    "X_train, X_val, y_train, y_val = train_test_split(X_train, y_train, test_size = 0.20)\n",
    "\n",
    "print(\"size of X_train : \", X_train.shape)\n",
    "print(\"size of y_train : \",y_train.shape)\n",
    "print(\"\")\n",
    "print(\"size of X_test : \", X_test.shape)\n",
    "print(\"size of y_test : \",y_test.shape)\n",
    "print(\"\")\n",
    "print(\"size of X_val : \", X_val.shape)\n",
    "print(\"size of y_val : \",y_val.shape)\n"
   ]
  },
  {
   "cell_type": "code",
   "execution_count": 7,
   "metadata": {},
   "outputs": [],
   "source": [
    "#Model \n",
    "model = ResNet50(input_shape=(1024, 256, 1))"
   ]
  },
  {
   "cell_type": "code",
   "execution_count": 8,
   "metadata": {
    "tags": [
     "outputPrepend"
    ]
   },
   "outputs": [
    {
     "output_type": "stream",
     "name": "stdout",
     "text": [
      "_________________________\nhead (Dense)                    (None, 3)            24579       flatten[0][0]                    \n__________________________________________________________________________________________________\nleg (Dense)                     (None, 3)            24579       flatten[0][0]                    \n__________________________________________________________________________________________________\nright_arm (Dense)               (None, 2)            16386       flatten[0][0]                    \n__________________________________________________________________________________________________\nleft_arm (Dense)                (None, 2)            16386       flatten[0][0]                    \n==================================================================================================\nTotal params: 23,663,370\nTrainable params: 23,610,250\nNon-trainable params: 53,120\n__________________________________________________________________________________________________\n"
     ]
    }
   ],
   "source": [
    "model.summary()"
   ]
  },
  {
   "cell_type": "code",
   "execution_count": 11,
   "metadata": {},
   "outputs": [],
   "source": [
    "#compile \n",
    "optimizer = tf.keras.optimizers.SGD(learning_rate=1e-5) #param\n",
    "        #loss = tf.keras.losses.CategoricalCrossentropy(#param)\n",
    "model.compile(optimizer = optimizer, \n",
    "        loss={'left_arm' : 'binary_crossentropy', \n",
    "            'right_arm' : 'binary_crossentropy', \n",
    "             'head' : 'binary_crossentropy', \n",
    "             'leg' : 'binary_crossentropy'}, \n",
    "        loss_weights ={'left_arm': 1., \n",
    "                       'right_arm' : 1., \n",
    "                        'head' : 1., \n",
    "                        'leg': 1.}, \n",
    "        metrics = {'left_arm': ['accuracy', 'BinaryCrossentropy'], \n",
    "                    'right_arm' : ['accuracy', 'BinaryCrossentropy'], \n",
    "                    'head' : ['accuracy', 'BinaryCrossentropy'], \n",
    "                    'leg':['accuracy', 'BinaryCrossentropy']}) #a voir pour loss"
   ]
  },
  {
   "cell_type": "code",
   "execution_count": 12,
   "metadata": {},
   "outputs": [
    {
     "output_type": "stream",
     "name": "stdout",
     "text": [
      "Epoch 1/10\n"
     ]
    }
   ],
   "source": [
    "#fit \n",
    "#K Fold, Xtrain_test_val qui change a chaque epoch : boucle ici \n",
    "\n",
    "\n",
    "history = model.fit(X_train, {'head': y_train[:,0], \n",
    "                                    'leg': y_train[:,1],\n",
    "                                    'right_arm' : y_train[:,2],\n",
    "                                    'left_arm' : y_train[:,3] ,\n",
    "                                    }, \n",
    "                                    \n",
    "                        epochs = 1, \n",
    "                        batch_size = 100, \n",
    "                        verbose = 1, \n",
    "                        validation_data = (X_val, {'head': y_val[:,0], \n",
    "                                    'leg': y_val[:,1],\n",
    "                                    'right_arm' : y_val[:,2],\n",
    "                                    'left_arm' : y_val[:,3] ,\n",
    "                                    }))\n",
    "\n",
    "\n",
    "#model evaluate with X_test and Y_test\n",
    "\n",
    "score = model.evaluate(X_test, {'head': y_test[:,0], \n",
    "                                    'leg': y_test[:,1],\n",
    "                                    'right_arm' : y_test[:,2],\n",
    "                                    'left_arm' : y_test[:,3] ,\n",
    "                                    }, verbose=1,  return_dict = True) #see other parameters"
   ]
  },
  {
   "cell_type": "code",
   "execution_count": null,
   "metadata": {},
   "outputs": [],
   "source": [
    "#save model \n",
    "model.save('/media/deeplearning/78ca2911-9e9f-4f78-b80a-848024b95f92/Classification/Resnet50/resnet50', save_format='h5')"
   ]
  },
  {
   "cell_type": "code",
   "execution_count": null,
   "metadata": {},
   "outputs": [],
   "source": []
  },
  {
   "cell_type": "code",
   "execution_count": null,
   "metadata": {},
   "outputs": [],
   "source": []
  },
  {
   "cell_type": "code",
   "execution_count": 23,
   "metadata": {
    "tags": []
   },
   "outputs": [
    {
     "output_type": "stream",
     "name": "stdout",
     "text": "336\n106\n84\n"
    }
   ],
   "source": [
    "print(len(model.X_train))\n",
    "print(len(model.X_test))\n",
    "print(len(model.X_val))"
   ]
  },
  {
   "cell_type": "code",
   "execution_count": 28,
   "metadata": {},
   "outputs": [
    {
     "output_type": "execute_result",
     "data": {
      "text/plain": "array([[0., 0., 0., ..., 0., 0., 0.],\n       [0., 0., 0., ..., 0., 0., 0.],\n       [0., 0., 0., ..., 0., 0., 0.],\n       ...,\n       [0., 0., 0., ..., 0., 0., 0.],\n       [0., 0., 0., ..., 0., 0., 0.],\n       [0., 0., 0., ..., 0., 0., 0.]])"
     },
     "metadata": {},
     "execution_count": 28
    }
   ],
   "source": [
    "model.X_train[0]"
   ]
  },
  {
   "cell_type": "code",
   "execution_count": 30,
   "metadata": {},
   "outputs": [
    {
     "output_type": "execute_result",
     "data": {
      "text/plain": "array([2, 0, 1, 1])"
     },
     "metadata": {},
     "execution_count": 30
    }
   ],
   "source": [
    "model.y_train[0]"
   ]
  }
 ]
}