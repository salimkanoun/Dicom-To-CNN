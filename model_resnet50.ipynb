{
 "cells": [
  {
   "cell_type": "code",
   "execution_count": 1,
   "metadata": {},
   "outputs": [],
   "source": [
    "import SimpleITK as sitk \n",
    "import numpy as np \n",
    "import matplotlib.pyplot as plt \n",
    "from library_dicom.dicom_processor.tools.preprocessing import *\n",
    "import json \n",
    "import csv \n",
    "from sklearn.model_selection import train_test_split \n",
    "import tensorflow as tf \n",
    "from classification.Prep_CSV import Prep_CSV\n",
    "from classification.Preprocessing import Preprocessing \n",
    "from classification.resnet50 import *"
   ]
  },
  {
   "cell_type": "code",
   "execution_count": null,
   "metadata": {},
   "outputs": [],
   "source": [
    "json_path = '/media/deeplearning/78ca2911-9e9f-4f78-b80a-848024b95f92/result.json'\n",
    "nifti_directory = '/media/deeplearning/78ca2911-9e9f-4f78-b80a-848024b95f92'\n",
    "objet = Prep_CSV(json_path)\n",
    "objet.result_csv(nifti_directory)\n",
    "print(objet.csv_result_path)\n",
    "\n",
    "prep_objet = Preprocessing(objet.csv_result_path)\n",
    "X, y = prep_objet.normalize_encoding_dataset()\n",
    "\n",
    "X_train, X_test, y_train, y_test = train_test_split(X,y, random_state=1, test_size = 0.15)\n",
    "\n",
    "print(\"size of X_train : \", X_train.shape)\n",
    "print(\"size of y_train : \",y_train.shape)\n",
    "print(\"\")\n",
    "print(\"size of X_test : \", X_test.shape)\n",
    "print(\"size of y_test : \",y_test.shape)\n",
    "#print(\"\")\n",
    "#print(\"size of X_val : \", X_val.shape)\n",
    "#print(\"size of y_val : \",y_val.shape)\n",
    "\n",
    "\n",
    "#model \n",
    "model = ResNet50(input_shape=(1024, 256, 1))\n",
    "model.summary()\n",
    "#compile \n",
    "optimizer = tf.keras.optimizers.Adam(learning_rate=1e-4) #param\n",
    "model.compile(optimizer = optimizer, \n",
    "        loss={'left_arm' : 'sparse_categorical_crossentropy', \n",
    "            'right_arm' : 'sparse_categorical_crossentropy', \n",
    "             'head' : 'sparse_categorical_crossentropy', \n",
    "             'leg' : 'sparse_categorical_crossentropy'}, \n",
    "        loss_weights ={'left_arm': 0.25, 'right_arm' : 0.25, \n",
    "                        'head' : 0.25, \n",
    "                        'leg': 0.25}, \n",
    "        metrics = {'left_arm': ['accuracy'], #'SparseCategoricalCrossentropy'\n",
    "                    'right_arm' : ['accuracy'], \n",
    "                    'head' : ['accuracy'], \n",
    "                    'leg':['accuracy']}) #a voir pour loss\n",
    "\n",
    "#log_dir = '/home/deeplearning/Dicom-To-CNN/Classification/Resnet50/logs'\n",
    "#tensorboard_callback = tf.keras.callbacks.TensorBoard(log_dir=log_dir, update_freq='epoch', write_graph=True, write_images=True)\n"
   ]
  },
  {
   "cell_type": "code",
   "execution_count": null,
   "metadata": {},
   "outputs": [],
   "source": [
    "history = model.fit(X_train, {'head': y_train[:,0], \n",
    "                                    'leg': y_train[:,1],\n",
    "                                    'right_arm' : y_train[:,2],\n",
    "                                    'left_arm' : y_train[:,3] ,\n",
    "                                    }, \n",
    "                                    \n",
    "                        epochs = 10, \n",
    "                        batch_size = 50, \n",
    "                        verbose = 1, \n",
    "                        validation_split= 0.15)\n",
    "                        #validation_data = (X_val, {'head': y_val[:,0], \n",
    "                                    #'leg': y_val[:,1],\n",
    "                                    #'right_arm' : y_val[:,2],\n",
    "                                    #'left_arm' : y_val[:,3] ,\n",
    "                                    #}))\n",
    "                        #callbacks=[tensorboard_callback])\n",
    "\n",
    "#print(y_val)\n",
    "#predictions = model.predict(X_val[0:10])\n",
    "#print(\"Predictions done !\")\n",
    "#print(predictions)\n",
    "#from classification.resnet50 import predictions_decoding \n",
    "#predi = predictions_decoding(predictions)\n",
    "#print(predi)\n",
    "\n",
    "\n",
    "#save \n",
    "model.save('/media/deeplearning/78ca2911-9e9f-4f78-b80a-848024b95f92/Classification/Resnet50/resnet50', save_format='h5')"
   ]
  },
  {
   "cell_type": "code",
   "execution_count": null,
   "metadata": {},
   "outputs": [],
   "source": []
  },
  {
   "cell_type": "code",
   "execution_count": null,
   "metadata": {},
   "outputs": [],
   "source": []
  },
  {
   "cell_type": "code",
   "execution_count": null,
   "metadata": {},
   "outputs": [],
   "source": []
  },
  {
   "cell_type": "code",
   "execution_count": null,
   "metadata": {},
   "outputs": [],
   "source": []
  },
  {
   "cell_type": "code",
   "execution_count": 11,
   "metadata": {},
   "outputs": [],
   "source": [
    "pred = [np.array([[0.35805932, 0.325679  , 0.3162617 ],\n",
    "       [0.3583647 , 0.3258384 , 0.3157969 ],\n",
    "       [0.35832056, 0.32527184, 0.31640765],\n",
    "       [0.35825935, 0.32591996, 0.31582072],\n",
    "       [0.35852462, 0.3256994 , 0.31577596],\n",
    "       [0.35781434, 0.3257167 , 0.31646898],\n",
    "       [0.35850057, 0.3255967 , 0.31590277],\n",
    "       [0.35806704, 0.32569864, 0.31623432],\n",
    "       [0.35794508, 0.32569015, 0.3163648 ],\n",
    "       [0.35804483, 0.32574567, 0.3162095 ]]), np.array([[0.35203746, 0.3414531 , 0.30650944],\n",
    "       [0.35249195, 0.34101707, 0.306491  ],\n",
    "       [0.35207516, 0.34141713, 0.3065077 ],\n",
    "       [0.35236207, 0.3414479 , 0.30619007],\n",
    "       [0.35234544, 0.34109735, 0.30655718],\n",
    "       [0.35247347, 0.34153646, 0.30599004],\n",
    "       [0.35245287, 0.34099725, 0.30654997],\n",
    "       [0.35227928, 0.34146503, 0.30625573],\n",
    "       [0.35257983, 0.3415341 , 0.30588606],\n",
    "       [0.3521983 , 0.34119767, 0.306604  ]]), np.array([[0.49849725, 0.50150275],\n",
    "       [0.49877256, 0.5012274 ],\n",
    "       [0.49910057, 0.50089943],\n",
    "       [0.4987126 , 0.5012874 ],\n",
    "       [0.49852982, 0.5014702 ],\n",
    "       [0.4990961 , 0.50090384],\n",
    "       [0.49894577, 0.50105417],\n",
    "       [0.4986342 , 0.5013658 ],\n",
    "       [0.49890473, 0.50109524],\n",
    "       [0.4987169 , 0.5012831 ]]), np.array([[0.5195359 , 0.4804641 ],\n",
    "       [0.51906794, 0.4809321 ],\n",
    "       [0.51953894, 0.480461  ],\n",
    "       [0.51931673, 0.48068327],\n",
    "       [0.51934695, 0.48065302],\n",
    "       [0.5194422 , 0.48055786],\n",
    "       [0.519488  , 0.480512  ],\n",
    "       [0.5195441 , 0.4804559 ],\n",
    "       [0.51943207, 0.48056793],\n",
    "       [0.51944226, 0.4805577 ]])]\n"
   ]
  },
  {
   "cell_type": "code",
   "execution_count": 38,
   "metadata": {
    "tags": []
   },
   "outputs": [
    {
     "output_type": "stream",
     "name": "stdout",
     "text": [
      "[0.35805932, 0.325679, 0.3162617]\n0\n[0.35203746, 0.3414531, 0.30650944]\n0\n[0.49849725, 0.50150275]\n1\n[0.5195359, 0.4804641]\n0\n"
     ]
    }
   ],
   "source": [
    "pred[0].shape[0]\n",
    "predi = []\n",
    "for i in range(0, 1) : \n",
    "    subliste = []\n",
    "    for j in range(0,4):\n",
    "        liste = pred[j][i].tolist()\n",
    "        print(liste)\n",
    "        maxi = np.max(liste)\n",
    "        index = liste.index(maxi)\n",
    "        print(index)\n",
    "        if j == 0 : #head\n",
    "            if index == 0 : \n",
    "                subliste.append(\"Vertex\")\n",
    "            if index == 1 : \n",
    "                subliste.append(\"Eyes\")\n",
    "            if index == 2 : \n",
    "                subliste.append(\"Mouth\")\n",
    "        if j == 1 : #leg\n",
    "            if index == 0 : \n",
    "                subliste.append(\"Hips\")\n",
    "            if index == 1 : \n",
    "                subliste.append(\"Knee\")\n",
    "            if index == 2 : \n",
    "                subliste.append(\"Foot\")\n",
    "    predi.append(subliste)"
   ]
  },
  {
   "cell_type": "code",
   "execution_count": 39,
   "metadata": {},
   "outputs": [
    {
     "output_type": "execute_result",
     "data": {
      "text/plain": [
       "[['Vertex', 'Hips']]"
      ]
     },
     "metadata": {},
     "execution_count": 39
    }
   ],
   "source": [
    "predi"
   ]
  }
 ],
 "metadata": {
  "kernelspec": {
   "display_name": "Python 3.8.2 64-bit",
   "language": "python",
   "name": "python38264bit4afc185bc98b42c389abdbb3fbeec8dd"
  },
  "language_info": {
   "codemirror_mode": {
    "name": "ipython",
    "version": 3
   },
   "file_extension": ".py",
   "mimetype": "text/x-python",
   "name": "python",
   "nbconvert_exporter": "python",
   "pygments_lexer": "ipython3",
   "version": "3.8.5-final"
  }
 },
 "nbformat": 4,
 "nbformat_minor": 2
}