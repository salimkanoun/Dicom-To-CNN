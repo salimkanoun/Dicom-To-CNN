{
 "metadata": {
  "language_info": {
   "codemirror_mode": {
    "name": "ipython",
    "version": 3
   },
   "file_extension": ".py",
   "mimetype": "text/x-python",
   "name": "python",
   "nbconvert_exporter": "python",
   "pygments_lexer": "ipython3",
   "version": "3.8.2-final"
  },
  "orig_nbformat": 2,
  "kernelspec": {
   "name": "python38264bit4afc185bc98b42c389abdbb3fbeec8dd",
   "display_name": "Python 3.8.2 64-bit"
  }
 },
 "nbformat": 4,
 "nbformat_minor": 2,
 "cells": [
  {
   "cell_type": "code",
   "execution_count": 1,
   "metadata": {
    "tags": []
   },
   "outputs": [],
   "source": [
    "import numpy as np\n",
    "from library_dicom.dicom_processor.tools.create_mip import *\n",
    "import matplotlib.pyplot as plt\n",
    "#from radiomics.featureextractor import *\n",
    "from sklearn import mixture\n",
    "import SimpleITK as sitk\n",
    "\n",
    "from library_dicom.post_processing.PostProcess_Reader import PostProcess_Reader\n",
    "from library_dicom.post_processing.Mask4D import Mask4D\n",
    "from library_dicom.post_processing.WatershedModel import WatershedModel \n",
    "from library_dicom.dicom_processor.tools.folders import *\n",
    "from library_dicom.dicom_processor.tools.threshold_mask import *\n",
    "from library_dicom.dicom_processor.tools.postprocessing import *\n",
    "import csv"
   ]
  },
  {
   "cell_type": "code",
   "execution_count": 2,
   "metadata": {},
   "outputs": [],
   "source": [
    "#predictions \n",
    "\n",
    "pred_1 = os.listdir('/media/deeplearning/Elements/train')\n",
    "pred_2 = os.listdir('/media/deeplearning/Elements/val')\n",
    "\n",
    "pred = pred_1 + pred_2\n",
    "\n",
    "study_uid = []\n",
    "\n",
    "for item in pred_1 : \n",
    "    subliste = []\n",
    "    subliste.append(item.split('_')[0]) \n",
    "    subliste.append('train')\n",
    "    study_uid.append(subliste)\n",
    "\n",
    "for item in pred_2 : \n",
    "    subliste = []\n",
    "    subliste.append(item.split('_')[0]) \n",
    "    subliste.append('val')\n",
    "    study_uid.append(subliste)\n",
    "\n",
    "\n",
    "#charger csv agl, gained, flip \n",
    "csv_ahl=  '/media/deeplearning/Elements/AHL2011_NIFTI.csv'\n",
    "\n",
    "with open(csv_ahl, 'r') as csv_file :\n",
    "    reader = csv.reader(csv_file, delimiter = ',') #liste pour chaque ligne \n",
    "    data_ahl = []\n",
    "    for row in reader :\n",
    "        data_ahl.append(row)\n",
    "        \n",
    "del data_ahl[0] #enlever première ligne\n",
    " \n",
    "\n",
    "\n",
    "\n",
    "\n",
    "csv_gained= '/media/deeplearning/78ca2911-9e9f-4f78-b80a-848024b95f92/GAINED_NIFTI/GAINED_PET0_NIFTI.csv'\n",
    "\n",
    "with open(csv_gained, 'r') as csv_file :\n",
    "    reader = csv.reader(csv_file, delimiter = ',') #liste pour chaque ligne \n",
    "    data_gained = []\n",
    "    for row in reader :\n",
    "        data_gained.append(row)\n",
    "        \n",
    "del data_gained[0] #enlever première ligne\n",
    "\n",
    "\n",
    "\n",
    "csv_flip= '/media/deeplearning/78ca2911-9e9f-4f78-b80a-848024b95f92/FLIP_NIFTI/FLIP_PET0_NIFTI.csv'\n",
    "\n",
    "with open(csv_flip, 'r') as csv_file :\n",
    "    reader = csv.reader(csv_file, delimiter = ',') #liste pour chaque ligne \n",
    "    data_flip = []\n",
    "    for row in reader :\n",
    "        data_flip.append(row)\n",
    "        \n",
    "del data_flip[0] #enlever première ligne"
   ]
  },
  {
   "cell_type": "code",
   "execution_count": 3,
   "metadata": {},
   "outputs": [
    {
     "output_type": "execute_result",
     "data": {
      "text/plain": "1005"
     },
     "metadata": {},
     "execution_count": 3
    }
   ],
   "source": [
    "len(study_uid)"
   ]
  },
  {
   "cell_type": "code",
   "execution_count": 4,
   "metadata": {},
   "outputs": [
    {
     "output_type": "execute_result",
     "data": {
      "text/plain": "['1.2.276.0.7230010.3.2.138382', 'train']"
     },
     "metadata": {},
     "execution_count": 4
    }
   ],
   "source": [
    "study_uid[0]"
   ]
  },
  {
   "cell_type": "code",
   "execution_count": 5,
   "metadata": {},
   "outputs": [],
   "source": [
    "#find associated serie nifti \n",
    "dataset = []\n",
    "for item in study_uid : \n",
    "    subliste = []\n",
    "    subliste.append(item[0])\n",
    "    subliste.append(item[1])\n",
    "    for ahl in data_ahl : \n",
    "        if item[0] in ahl : \n",
    "            subliste.append(ahl[1]) #patient id \n",
    "            subliste.append(ahl[5]) #pet\n",
    "            subliste.append(ahl[6]) #mask\n",
    "            subliste.append('AHL')\n",
    "            dataset.append(subliste)\n",
    "        \n",
    "    for gained in data_gained : \n",
    "        if item[0] in gained : \n",
    "            subliste.append(gained[0]) #patient id \n",
    "            subliste.append(gained[4]) #pet\n",
    "            subliste.append(gained[5]) #mask \n",
    "            subliste.append('GAINED')\n",
    "            dataset.append(subliste)\n",
    "\n",
    "    for flip in data_flip : \n",
    "        if item[0] in flip : \n",
    "            subliste.append(flip[1]) #patient id \n",
    "            subliste.append(flip[5]) #pet\n",
    "            subliste.append(flip[6]) #mask \n",
    "            subliste.append('FLIP')\n",
    "            dataset.append(subliste)\n"
   ]
  },
  {
   "cell_type": "code",
   "execution_count": 6,
   "metadata": {},
   "outputs": [
    {
     "output_type": "execute_result",
     "data": {
      "text/plain": "1005"
     },
     "metadata": {},
     "execution_count": 6
    }
   ],
   "source": [
    "len(dataset)"
   ]
  },
  {
   "cell_type": "code",
   "execution_count": 7,
   "metadata": {},
   "outputs": [
    {
     "output_type": "execute_result",
     "data": {
      "text/plain": "['1.2.276.0.7230010.3.2.138382',\n 'train',\n '13011101031031',\n '/media/storage/AHL2011_NIFTI/1.2.276.0.7230010.3.2.138382_nifti_PT.nii',\n '/media/storage/AHL2011_NIFTI/1.2.276.0.7230010.3.2.138382_nifti_mask.nii',\n 'AHL']"
     },
     "metadata": {},
     "execution_count": 7
    }
   ],
   "source": [
    "dataset[0]"
   ]
  },
  {
   "cell_type": "code",
   "execution_count": 8,
   "metadata": {},
   "outputs": [],
   "source": [
    "#include prediction \n",
    "for serie in dataset : \n",
    "    for prediction in pred :\n",
    "        if serie[0] in prediction : \n",
    "            serie.append(prediction)\n",
    "            break"
   ]
  },
  {
   "cell_type": "code",
   "execution_count": 9,
   "metadata": {},
   "outputs": [
    {
     "output_type": "execute_result",
     "data": {
      "text/plain": "['1.2.276.0.7230010.3.2.138382',\n 'train',\n '13011101031031',\n '/media/storage/AHL2011_NIFTI/1.2.276.0.7230010.3.2.138382_nifti_PT.nii',\n '/media/storage/AHL2011_NIFTI/1.2.276.0.7230010.3.2.138382_nifti_mask.nii',\n 'AHL',\n '1.2.276.0.7230010.3.2.138382_mask_pred_float.nii']"
     },
     "metadata": {},
     "execution_count": 9
    }
   ],
   "source": [
    "dataset[0]"
   ]
  },
  {
   "cell_type": "code",
   "execution_count": 8,
   "metadata": {
    "tags": []
   },
   "outputs": [],
   "source": [
    "for serie in dataset : \n",
    "    if len(serie) != 7 : \n",
    "        print(serie)"
   ]
  },
  {
   "cell_type": "code",
   "execution_count": 10,
   "metadata": {},
   "outputs": [],
   "source": [
    "#rewrite path for ahl and relative path for pred\n",
    "for serie in dataset : \n",
    "    if 'AHL' in serie : \n",
    "        txt = serie[3].replace('storage', 'deeplearning/Elements')\n",
    "        serie[3] = txt \n",
    "\n",
    "        txt_2 = serie[4].replace('storage', 'deeplearning/Elements')\n",
    "        serie[4] = txt_2 \n",
    "\n",
    "    if 'train' in serie : \n",
    "        path = '/media/deeplearning/Elements'+'/'+'train'+'/'+serie[-1]\n",
    "        serie[-1] = path \n",
    "\n",
    "    else : \n",
    "        path = '/media/deeplearning/Elements'+'/'+'val'+'/'+serie[-1]\n",
    "        serie[-1] = path \n",
    "\n"
   ]
  },
  {
   "cell_type": "code",
   "execution_count": 11,
   "metadata": {},
   "outputs": [
    {
     "output_type": "execute_result",
     "data": {
      "text/plain": "['1.2.276.0.7230010.3.2.138382',\n 'train',\n '13011101031031',\n '/media/deeplearning/Elements/AHL2011_NIFTI/1.2.276.0.7230010.3.2.138382_nifti_PT.nii',\n '/media/deeplearning/Elements/AHL2011_NIFTI/1.2.276.0.7230010.3.2.138382_nifti_mask.nii',\n 'AHL',\n '/media/deeplearning/Elements/train/1.2.276.0.7230010.3.2.138382_mask_pred_float.nii']"
     },
     "metadata": {},
     "execution_count": 11
    }
   ],
   "source": [
    "dataset[0]"
   ]
  },
  {
   "cell_type": "code",
   "execution_count": 12,
   "metadata": {},
   "outputs": [],
   "source": [
    "#write csv \n",
    "nifti_directory = '/media/deeplearning/78ca2911-9e9f-4f78-b80a-848024b95f92/post_processing/pred_2'\n",
    "\n",
    "with open(os.path.join(nifti_directory, 'dataset_post_processing_pred2.csv'), 'w') as csv_file : \n",
    "    csv_writer = csv.writer(csv_file, delimiter=',', quotechar='\"', quoting=csv.QUOTE_MINIMAL)\n",
    "    csv_writer.writerow([\"PATIENT ID\", \"STUDY UID\", \"NIFTI_PET\", \"NIFTI_MASK\", \"PRED_MASK\", \"TYPE\", \"STUDY\"])\n",
    "    for serie in dataset:\n",
    "        csv_writer.writerow([serie[2], serie[0], serie[3], serie[4], serie[6], serie[1], serie[5]])  "
   ]
  },
  {
   "cell_type": "code",
   "execution_count": 13,
   "metadata": {},
   "outputs": [],
   "source": [
    "#read csv \n",
    "csv_ahl_post_process= '/media/deeplearning/78ca2911-9e9f-4f78-b80a-848024b95f92/post_processing/pred_2/dataset_post_processing_pred2.csv'\n",
    "\n",
    "with open(csv_ahl_post_process, 'r') as csv_file :\n",
    "    reader = csv.reader(csv_file, delimiter = ',') #liste pour chaque ligne \n",
    "    dataset = []\n",
    "    for row in reader :\n",
    "        dataset.append(row)\n",
    "        \n",
    "del dataset[0] #enlever première ligne"
   ]
  },
  {
   "cell_type": "code",
   "execution_count": 14,
   "metadata": {},
   "outputs": [
    {
     "output_type": "execute_result",
     "data": {
      "text/plain": "['13011101031031',\n '1.2.276.0.7230010.3.2.138382',\n '/media/deeplearning/Elements/AHL2011_NIFTI/1.2.276.0.7230010.3.2.138382_nifti_PT.nii',\n '/media/deeplearning/Elements/AHL2011_NIFTI/1.2.276.0.7230010.3.2.138382_nifti_mask.nii',\n '/media/deeplearning/Elements/train/1.2.276.0.7230010.3.2.138382_mask_pred_float.nii',\n 'train',\n 'AHL']"
     },
     "metadata": {},
     "execution_count": 14
    }
   ],
   "source": [
    "dataset[0]"
   ]
  },
  {
   "cell_type": "code",
   "execution_count": 15,
   "metadata": {
    "tags": [
     "outputPrepend"
    ]
   },
   "outputs": [
    {
     "output_type": "stream",
     "name": "stdout",
     "text": "VOL TRUTH OK \n628\nVOL WITH WATERSHED OK\nVOL PRED OK \nVOL TRUTH OK \n629\nVOL WITH WATERSHED OK\nVOL PRED OK \nVOL TRUTH OK \n630\nVOL WITH WATERSHED OK\nVOL PRED OK \nVOL TRUTH OK \n631\nVOL WITH WATERSHED OK\nVOL PRED OK \nVOL TRUTH OK \n632\nVOL WITH WATERSHED OK\nVOL PRED OK \nVOL TRUTH OK \n633\nVOL WITH WATERSHED OK\nVOL PRED OK \nVOL TRUTH OK \n634\nVOL WITH WATERSHED OK\nVOL PRED OK \nVOL TRUTH OK \n635\nVOL WITH WATERSHED OK\nVOL PRED OK \nVOL TRUTH OK \n636\nVOL WITH WATERSHED OK\nVOL PRED OK \nVOL TRUTH OK \n637\nVOL WITH WATERSHED OK\nVOL PRED OK \nVOL TRUTH OK \n638\nVOL WITH WATERSHED OK\nVOL PRED OK \nVOL TRUTH OK \n639\nVOL WITH WATERSHED OK\nVOL PRED OK \nVOL TRUTH OK \n640\nVOL WITH WATERSHED OK\nVOL PRED OK \nVOL TRUTH OK \n641\nVOL WITH WATERSHED OK\nVOL PRED OK \nVOL TRUTH OK \n642\nVOL WITH WATERSHED OK\nVOL PRED OK \nVOL TRUTH OK \n643\nVOL WITH WATERSHED OK\nVOL PRED OK \nVOL TRUTH OK \n644\nVOL WITH WATERSHED OK\nVOL PRED OK \nVOL TRUTH OK \n645\nVOL WITH WATERSHED OK\nVOL PRED OK \nVOL TRUTH OK \n646\nVOL WITH WATERSHED OK\nVOL PRED OK \nVOL TRUTH OK \n647\nVOL WITH WATERSHED OK\nVOL PRED OK \nVOL TRUTH OK \n648\nVOL WITH WATERSHED OK\nVOL PRED OK \nVOL TRUTH OK \n649\nVOL WITH WATERSHED OK\nVOL PRED OK \nVOL TRUTH OK \n650\nVOL WITH WATERSHED OK\nVOL PRED OK \nVOL TRUTH OK \n651\nVOL WITH WATERSHED OK\nVOL PRED OK \nVOL TRUTH OK \n652\nVOL WITH WATERSHED OK\nVOL PRED OK \nVOL TRUTH OK \n653\nVOL WITH WATERSHED OK\nVOL PRED OK \nVOL TRUTH OK \n654\nVOL WITH WATERSHED OK\nVOL PRED OK \nVOL TRUTH OK \n655\nVOL WITH WATERSHED OK\nVOL PRED OK \nVOL TRUTH OK \n656\nVOL WITH WATERSHED OK\nVOL PRED OK \nVOL TRUTH OK \n657\nVOL WITH WATERSHED OK\nVOL PRED OK \nVOL TRUTH OK \n658\nVOL WITH WATERSHED OK\nVOL PRED OK \nVOL TRUTH OK \n659\nVOL WITH WATERSHED OK\nVOL PRED OK \nVOL TRUTH OK \n660\nVOL WITH WATERSHED OK\nVOL PRED OK \nVOL TRUTH OK \n661\nVOL WITH WATERSHED OK\nVOL PRED OK \nVOL TRUTH OK \n662\nVOL WITH WATERSHED OK\nVOL PRED OK \nVOL TRUTH OK \n663\nVOL WITH WATERSHED OK\nVOL PRED OK \nVOL TRUTH OK \n664\nVOL WITH WATERSHED OK\nVOL PRED OK \nVOL TRUTH OK \n665\nVOL WITH WATERSHED OK\nVOL PRED OK \nVOL TRUTH OK \n666\nVOL WITH WATERSHED OK\nVOL PRED OK \nVOL TRUTH OK \n667\nVOL WITH WATERSHED OK\nVOL PRED OK \nVOL TRUTH OK \n668\nVOL WITH WATERSHED OK\nVOL PRED OK \nVOL TRUTH OK \n669\nVOL WITH WATERSHED OK\nVOL PRED OK \nVOL TRUTH OK \n670\nVOL WITH WATERSHED OK\nVOL PRED OK \nVOL TRUTH OK \n671\nVOL WITH WATERSHED OK\nVOL PRED OK \nVOL TRUTH OK \n672\nVOL WITH WATERSHED OK\nVOL PRED OK \nVOL TRUTH OK \n673\nVOL WITH WATERSHED OK\nVOL PRED OK \nVOL TRUTH OK \n674\nVOL WITH WATERSHED OK\nVOL PRED OK \nVOL TRUTH OK \n675\nVOL WITH WATERSHED OK\nVOL PRED OK \nVOL TRUTH OK \n676\nVOL WITH WATERSHED OK\nVOL PRED OK \nVOL TRUTH OK \n677\nVOL WITH WATERSHED OK\nVOL PRED OK \nVOL TRUTH OK \n678\nVOL WITH WATERSHED OK\nVOL PRED OK \nVOL TRUTH OK \n679\nVOL WITH WATERSHED OK\nVOL PRED OK \nVOL TRUTH OK \n680\nVOL WITH WATERSHED OK\nVOL PRED OK \nVOL TRUTH OK \n681\nVOL WITH WATERSHED OK\nVOL PRED OK \nVOL TRUTH OK \n682\nVOL WITH WATERSHED OK\nVOL PRED OK \nVOL TRUTH OK \n683\nVOL WITH WATERSHED OK\nVOL PRED OK \nVOL TRUTH OK \n684\nVOL WITH WATERSHED OK\nVOL PRED OK \nVOL TRUTH OK \n685\nVOL WITH WATERSHED OK\nVOL PRED OK \nVOL TRUTH OK \n686\nVOL WITH WATERSHED OK\nVOL PRED OK \nVOL TRUTH OK \n687\nVOL WITH WATERSHED OK\nVOL PRED OK \nVOL TRUTH OK \n688\nVOL WITH WATERSHED OK\nVOL PRED OK \nVOL TRUTH OK \n689\nVOL WITH WATERSHED OK\nVOL PRED OK \nVOL TRUTH OK \n690\nVOL WITH WATERSHED OK\nVOL PRED OK \nVOL TRUTH OK \n691\nVOL WITH WATERSHED OK\nVOL PRED OK \nVOL TRUTH OK \n692\nVOL WITH WATERSHED OK\nVOL PRED OK \nVOL TRUTH OK \n693\nVOL WITH WATERSHED OK\nVOL PRED OK \nVOL TRUTH OK \n694\nVOL WITH WATERSHED OK\nVOL PRED OK \nVOL TRUTH OK \n695\nVOL WITH WATERSHED OK\nVOL PRED OK \nVOL TRUTH OK \n696\nVOL WITH WATERSHED OK\nVOL PRED OK \nVOL TRUTH OK \n697\nVOL WITH WATERSHED OK\nVOL PRED OK \nVOL TRUTH OK \n698\nVOL WITH WATERSHED OK\nVOL PRED OK \nVOL TRUTH OK \n699\nVOL WITH WATERSHED OK\nVOL PRED OK \nVOL TRUTH OK \n700\nVOL WITH WATERSHED OK\nVOL PRED OK \nVOL TRUTH OK \n701\nVOL WITH WATERSHED OK\nVOL PRED OK \nVOL TRUTH OK \n702\nVOL WITH WATERSHED OK\nVOL PRED OK \nVOL TRUTH OK \n703\nVOL WITH WATERSHED OK\nVOL PRED OK \nVOL TRUTH OK \n704\nVOL WITH WATERSHED OK\nVOL PRED OK \nVOL TRUTH OK \n705\nVOL WITH WATERSHED OK\nVOL PRED OK \nVOL TRUTH OK \n706\nVOL WITH WATERSHED OK\nVOL PRED OK \nVOL TRUTH OK \n707\nVOL WITH WATERSHED OK\nVOL PRED OK \nVOL TRUTH OK \n708\nVOL WITH WATERSHED OK\nVOL PRED OK \nVOL TRUTH OK \n709\nVOL WITH WATERSHED OK\nVOL PRED OK \nVOL TRUTH OK \n710\nVOL WITH WATERSHED OK\nVOL PRED OK \nVOL TRUTH OK \n711\nVOL WITH WATERSHED OK\nVOL PRED OK \nVOL TRUTH OK \n712\nVOL WITH WATERSHED OK\nVOL PRED OK \nVOL TRUTH OK \n713\nVOL WITH WATERSHED OK\nVOL PRED OK \nVOL TRUTH OK \n714\nVOL WITH WATERSHED OK\nVOL PRED OK \nVOL TRUTH OK \n715\nVOL WITH WATERSHED OK\nVOL PRED OK \nVOL TRUTH OK \n716\nVOL WITH WATERSHED OK\nVOL PRED OK \nVOL TRUTH OK \n717\nVOL WITH WATERSHED OK\nVOL PRED OK \nVOL TRUTH OK \n718\nVOL WITH WATERSHED OK\nVOL PRED OK \nVOL TRUTH OK \n719\nVOL WITH WATERSHED OK\nVOL PRED OK \nVOL TRUTH OK \n720\nVOL WITH WATERSHED OK\nVOL PRED OK \nVOL TRUTH OK \n721\nVOL WITH WATERSHED OK\nVOL PRED OK \nVOL TRUTH OK \n722\nVOL WITH WATERSHED OK\nVOL PRED OK \nVOL TRUTH OK \n723\nVOL WITH WATERSHED OK\nVOL PRED OK \nVOL TRUTH OK \n724\nVOL WITH WATERSHED OK\nVOL PRED OK \nVOL TRUTH OK \n725\nVOL WITH WATERSHED OK\nVOL PRED OK \nVOL TRUTH OK \n726\nVOL WITH WATERSHED OK\nVOL PRED OK \nVOL TRUTH OK \n727\nVOL WITH WATERSHED OK\nVOL PRED OK \nVOL TRUTH OK \n728\nVOL WITH WATERSHED OK\nVOL PRED OK \nVOL TRUTH OK \n729\nVOL WITH WATERSHED OK\nVOL PRED OK \nVOL TRUTH OK \n730\nVOL WITH WATERSHED OK\nVOL PRED OK \nVOL TRUTH OK \n731\nVOL WITH WATERSHED OK\nVOL PRED OK \nVOL TRUTH OK \n732\nVOL WITH WATERSHED OK\nVOL PRED OK \nVOL TRUTH OK \n733\nVOL WITH WATERSHED OK\nVOL PRED OK \nVOL TRUTH OK \n734\nVOL WITH WATERSHED OK\nVOL PRED OK \nVOL TRUTH OK \n735\nVOL WITH WATERSHED OK\nVOL PRED OK \nVOL TRUTH OK \n736\nVOL WITH WATERSHED OK\nVOL PRED OK \nVOL TRUTH OK \n737\nVOL WITH WATERSHED OK\nVOL PRED OK \nVOL TRUTH OK \n738\nVOL WITH WATERSHED OK\nVOL PRED OK \nVOL TRUTH OK \n739\nVOL WITH WATERSHED OK\nVOL PRED OK \nVOL TRUTH OK \n740\nVOL WITH WATERSHED OK\nVOL PRED OK \nVOL TRUTH OK \n741\nVOL WITH WATERSHED OK\nVOL PRED OK \nVOL TRUTH OK \n742\nVOL WITH WATERSHED OK\nVOL PRED OK \nVOL TRUTH OK \n743\nVOL WITH WATERSHED OK\nVOL PRED OK \nVOL TRUTH OK \n744\nVOL WITH WATERSHED OK\nVOL PRED OK \nVOL TRUTH OK \n745\nVOL WITH WATERSHED OK\nVOL PRED OK \nVOL TRUTH OK \n746\nVOL WITH WATERSHED OK\nVOL PRED OK \nVOL TRUTH OK \n747\nVOL WITH WATERSHED OK\nVOL PRED OK \nVOL TRUTH OK \n748\nVOL WITH WATERSHED OK\nVOL PRED OK \nVOL TRUTH OK \n749\nVOL WITH WATERSHED OK\nVOL PRED OK \nVOL TRUTH OK \n750\nVOL WITH WATERSHED OK\nVOL PRED OK \nVOL TRUTH OK \n751\nVOL WITH WATERSHED OK\nVOL PRED OK \nVOL TRUTH OK \n752\nVOL WITH WATERSHED OK\nVOL PRED OK \nVOL TRUTH OK \n753\nVOL WITH WATERSHED OK\nVOL PRED OK \nVOL TRUTH OK \n754\nVOL WITH WATERSHED OK\nVOL PRED OK \nVOL TRUTH OK \n755\nVOL WITH WATERSHED OK\nVOL PRED OK \nVOL TRUTH OK \n756\nVOL WITH WATERSHED OK\nVOL PRED OK \nVOL TRUTH OK \n757\nVOL WITH WATERSHED OK\nVOL PRED OK \nVOL TRUTH OK \n758\nVOL WITH WATERSHED OK\nVOL PRED OK \nVOL TRUTH OK \n759\nVOL WITH WATERSHED OK\nVOL PRED OK \nVOL TRUTH OK \n760\nVOL WITH WATERSHED OK\nVOL PRED OK \nVOL TRUTH OK \n761\nVOL WITH WATERSHED OK\nVOL PRED OK \nVOL TRUTH OK \n762\nVOL WITH WATERSHED OK\nVOL PRED OK \nVOL TRUTH OK \n763\nVOL WITH WATERSHED OK\nVOL PRED OK \nVOL TRUTH OK \n764\nVOL WITH WATERSHED OK\nVOL PRED OK \nVOL TRUTH OK \n765\nVOL WITH WATERSHED OK\nVOL PRED OK \nVOL TRUTH OK \n766\nVOL WITH WATERSHED OK\nVOL PRED OK \nVOL TRUTH OK \n767\nVOL WITH WATERSHED OK\nVOL PRED OK \nVOL TRUTH OK \n768\nVOL WITH WATERSHED OK\nVOL PRED OK \nVOL TRUTH OK \n769\nVOL WITH WATERSHED OK\nVOL PRED OK \nVOL TRUTH OK \n770\nVOL WITH WATERSHED OK\nVOL PRED OK \nVOL TRUTH OK \n771\nVOL WITH WATERSHED OK\nVOL PRED OK \nVOL TRUTH OK \n772\nVOL WITH WATERSHED OK\nVOL PRED OK \nVOL TRUTH OK \n773\nVOL WITH WATERSHED OK\nVOL PRED OK \nVOL TRUTH OK \n774\nVOL WITH WATERSHED OK\nVOL PRED OK \nVOL TRUTH OK \n775\nVOL WITH WATERSHED OK\nVOL PRED OK \nVOL TRUTH OK \n776\nVOL WITH WATERSHED OK\nVOL PRED OK \nVOL TRUTH OK \n777\nVOL WITH WATERSHED OK\nVOL PRED OK \nVOL TRUTH OK \n778\nVOL WITH WATERSHED OK\nVOL PRED OK \nVOL TRUTH OK \n779\nVOL WITH WATERSHED OK\nVOL PRED OK \nVOL TRUTH OK \n780\nVOL WITH WATERSHED OK\nVOL PRED OK \nVOL TRUTH OK \n781\nVOL WITH WATERSHED OK\nVOL PRED OK \nVOL TRUTH OK \n782\nVOL WITH WATERSHED OK\nVOL PRED OK \nVOL TRUTH OK \n783\nVOL WITH WATERSHED OK\nVOL PRED OK \nVOL TRUTH OK \n784\nVOL WITH WATERSHED OK\nVOL PRED OK \nVOL TRUTH OK \n785\nVOL WITH WATERSHED OK\nVOL PRED OK \nVOL TRUTH OK \n786\nVOL WITH WATERSHED OK\nVOL PRED OK \nVOL TRUTH OK \n787\nVOL WITH WATERSHED OK\nVOL PRED OK \nVOL TRUTH OK \n788\nVOL WITH WATERSHED OK\nVOL PRED OK \nVOL TRUTH OK \n789\nVOL WITH WATERSHED OK\nVOL PRED OK \nVOL TRUTH OK \n790\nVOL WITH WATERSHED OK\nVOL PRED OK \nVOL TRUTH OK \n791\nVOL WITH WATERSHED OK\nVOL PRED OK \nVOL TRUTH OK \n792\nVOL WITH WATERSHED OK\nVOL PRED OK \nVOL TRUTH OK \n793\nVOL WITH WATERSHED OK\nVOL PRED OK \nVOL TRUTH OK \n794\nVOL WITH WATERSHED OK\nVOL PRED OK \nVOL TRUTH OK \n795\nVOL WITH WATERSHED OK\nVOL PRED OK \nVOL TRUTH OK \n796\nVOL WITH WATERSHED OK\nVOL PRED OK \nVOL TRUTH OK \n797\nVOL WITH WATERSHED OK\nVOL PRED OK \nVOL TRUTH OK \n798\nVOL WITH WATERSHED OK\nVOL PRED OK \nVOL TRUTH OK \n799\nVOL WITH WATERSHED OK\nVOL PRED OK \nVOL TRUTH OK \n800\nVOL WITH WATERSHED OK\nVOL PRED OK \nVOL TRUTH OK \n801\nVOL WITH WATERSHED OK\nVOL PRED OK \nVOL TRUTH OK \n802\nVOL WITH WATERSHED OK\nVOL PRED OK \nVOL TRUTH OK \n803\nVOL WITH WATERSHED OK\nVOL PRED OK \nVOL TRUTH OK \n804\nVOL WITH WATERSHED OK\nVOL PRED OK \nVOL TRUTH OK \n805\nVOL WITH WATERSHED OK\nVOL PRED OK \nVOL TRUTH OK \n806\nVOL WITH WATERSHED OK\nVOL PRED OK \nVOL TRUTH OK \n807\nVOL WITH WATERSHED OK\nVOL PRED OK \nVOL TRUTH OK \n808\nVOL WITH WATERSHED OK\nVOL PRED OK \nVOL TRUTH OK \n809\nVOL WITH WATERSHED OK\nVOL PRED OK \nVOL TRUTH OK \n810\nVOL WITH WATERSHED OK\nVOL PRED OK \nVOL TRUTH OK \n811\nVOL WITH WATERSHED OK\nVOL PRED OK \nVOL TRUTH OK \n812\nVOL WITH WATERSHED OK\nVOL PRED OK \nVOL TRUTH OK \n813\nVOL WITH WATERSHED OK\nVOL PRED OK \nVOL TRUTH OK \n814\nVOL WITH WATERSHED OK\nVOL PRED OK \nVOL TRUTH OK \n815\nVOL WITH WATERSHED OK\nVOL PRED OK \nVOL TRUTH OK \n816\nVOL WITH WATERSHED OK\nVOL PRED OK \nVOL TRUTH OK \n817\nVOL WITH WATERSHED OK\nVOL PRED OK \nVOL TRUTH OK \n818\nVOL WITH WATERSHED OK\nVOL PRED OK \nVOL TRUTH OK \n819\nVOL WITH WATERSHED OK\nVOL PRED OK \nVOL TRUTH OK \n820\nVOL WITH WATERSHED OK\nVOL PRED OK \nVOL TRUTH OK \n821\nVOL WITH WATERSHED OK\nVOL PRED OK \nVOL TRUTH OK \n822\nVOL WITH WATERSHED OK\nVOL PRED OK \nVOL TRUTH OK \n823\nVOL WITH WATERSHED OK\nVOL PRED OK \nVOL TRUTH OK \n824\nVOL WITH WATERSHED OK\nVOL PRED OK \nVOL TRUTH OK \n825\nVOL WITH WATERSHED OK\nVOL PRED OK \nVOL TRUTH OK \n826\nVOL WITH WATERSHED OK\nVOL PRED OK \nVOL TRUTH OK \n827\nVOL WITH WATERSHED OK\nVOL PRED OK \nVOL TRUTH OK \n828\nVOL WITH WATERSHED OK\nVOL PRED OK \nVOL TRUTH OK \n829\nVOL WITH WATERSHED OK\nVOL PRED OK \nVOL TRUTH OK \n830\nVOL WITH WATERSHED OK\nVOL PRED OK \nVOL TRUTH OK \n831\nVOL WITH WATERSHED OK\nVOL PRED OK \nVOL TRUTH OK \n832\nVOL WITH WATERSHED OK\nVOL PRED OK \nVOL TRUTH OK \n833\nVOL WITH WATERSHED OK\nVOL PRED OK \nVOL TRUTH OK \n834\nVOL WITH WATERSHED OK\nVOL PRED OK \nVOL TRUTH OK \n835\nVOL WITH WATERSHED OK\nVOL PRED OK \nVOL TRUTH OK \n836\nVOL WITH WATERSHED OK\nVOL PRED OK \nVOL TRUTH OK \n837\nVOL WITH WATERSHED OK\nVOL PRED OK \nVOL TRUTH OK \n838\nVOL WITH WATERSHED OK\nVOL PRED OK \nVOL TRUTH OK \n839\nVOL WITH WATERSHED OK\nVOL PRED OK \nVOL TRUTH OK \n840\nVOL WITH WATERSHED OK\nVOL PRED OK \nVOL TRUTH OK \n841\nVOL WITH WATERSHED OK\nVOL PRED OK \nVOL TRUTH OK \n842\nVOL WITH WATERSHED OK\nVOL PRED OK \nVOL TRUTH OK \n843\nVOL WITH WATERSHED OK\nVOL PRED OK \nVOL TRUTH OK \n844\nVOL WITH WATERSHED OK\nVOL PRED OK \nVOL TRUTH OK \n845\nVOL WITH WATERSHED OK\nVOL PRED OK \nVOL TRUTH OK \n846\nVOL WITH WATERSHED OK\nVOL PRED OK \nVOL TRUTH OK \n847\nVOL WITH WATERSHED OK\nVOL PRED OK \nVOL TRUTH OK \n848\nVOL WITH WATERSHED OK\nVOL PRED OK \nVOL TRUTH OK \n849\nVOL WITH WATERSHED OK\nVOL PRED OK \nVOL TRUTH OK \n850\nVOL WITH WATERSHED OK\nVOL PRED OK \nVOL TRUTH OK \n851\nVOL WITH WATERSHED OK\nVOL PRED OK \nVOL TRUTH OK \n852\nVOL WITH WATERSHED OK\nVOL PRED OK \nVOL TRUTH OK \n853\nVOL WITH WATERSHED OK\nVOL PRED OK \nVOL TRUTH OK \n854\nVOL WITH WATERSHED OK\nVOL PRED OK \nVOL TRUTH OK \n855\nVOL WITH WATERSHED OK\nVOL PRED OK \nVOL TRUTH OK \n856\nVOL WITH WATERSHED OK\nVOL PRED OK \nVOL TRUTH OK \n857\nVOL WITH WATERSHED OK\nVOL PRED OK \nVOL TRUTH OK \n858\nVOL WITH WATERSHED OK\nVOL PRED OK \nVOL TRUTH OK \n859\nVOL WITH WATERSHED OK\nVOL PRED OK \nVOL TRUTH OK \n860\nVOL WITH WATERSHED OK\nVOL PRED OK \nVOL TRUTH OK \n861\nVOL WITH WATERSHED OK\nVOL PRED OK \nVOL TRUTH OK \n862\nVOL WITH WATERSHED OK\nVOL PRED OK \nVOL TRUTH OK \n863\nVOL WITH WATERSHED OK\nVOL PRED OK \nVOL TRUTH OK \n864\nVOL WITH WATERSHED OK\nVOL PRED OK \nVOL TRUTH OK \n865\nVOL WITH WATERSHED OK\nVOL PRED OK \nVOL TRUTH OK \n866\nVOL WITH WATERSHED OK\nVOL PRED OK \nVOL TRUTH OK \n867\nVOL WITH WATERSHED OK\nVOL PRED OK \nVOL TRUTH OK \n868\nVOL WITH WATERSHED OK\nVOL PRED OK \nVOL TRUTH OK \n869\nVOL WITH WATERSHED OK\nVOL PRED OK \nVOL TRUTH OK \n870\nVOL WITH WATERSHED OK\nVOL PRED OK \nVOL TRUTH OK \n871\nVOL WITH WATERSHED OK\nVOL PRED OK \nVOL TRUTH OK \n872\nVOL WITH WATERSHED OK\nVOL PRED OK \nVOL TRUTH OK \n873\nVOL WITH WATERSHED OK\nVOL PRED OK \nVOL TRUTH OK \n874\nVOL WITH WATERSHED OK\nVOL PRED OK \nVOL TRUTH OK \n875\nVOL WITH WATERSHED OK\nVOL PRED OK \nVOL TRUTH OK \n876\nVOL WITH WATERSHED OK\nVOL PRED OK \nVOL TRUTH OK \n877\nVOL WITH WATERSHED OK\nVOL PRED OK \nVOL TRUTH OK \n878\nVOL WITH WATERSHED OK\nVOL PRED OK \nVOL TRUTH OK \n879\nVOL WITH WATERSHED OK\nVOL PRED OK \nVOL TRUTH OK \n880\nVOL WITH WATERSHED OK\nVOL PRED OK \nVOL TRUTH OK \n881\nVOL WITH WATERSHED OK\nVOL PRED OK \nVOL TRUTH OK \n882\nVOL WITH WATERSHED OK\nVOL PRED OK \nVOL TRUTH OK \n883\nVOL WITH WATERSHED OK\nVOL PRED OK \nVOL TRUTH OK \n884\nVOL WITH WATERSHED OK\nVOL PRED OK \nVOL TRUTH OK \n885\nVOL WITH WATERSHED OK\nVOL PRED OK \nVOL TRUTH OK \n886\nVOL WITH WATERSHED OK\nVOL PRED OK \nVOL TRUTH OK \n887\nVOL WITH WATERSHED OK\nVOL PRED OK \nVOL TRUTH OK \n888\nVOL WITH WATERSHED OK\nVOL PRED OK \nVOL TRUTH OK \n889\nVOL WITH WATERSHED OK\nVOL PRED OK \nVOL TRUTH OK \n890\nVOL WITH WATERSHED OK\nVOL PRED OK \nVOL TRUTH OK \n891\nVOL WITH WATERSHED OK\nVOL PRED OK \nVOL TRUTH OK \n892\nVOL WITH WATERSHED OK\nVOL PRED OK \nVOL TRUTH OK \n893\nVOL WITH WATERSHED OK\nVOL PRED OK \nVOL TRUTH OK \n894\nVOL WITH WATERSHED OK\nVOL PRED OK \nVOL TRUTH OK \n895\nVOL WITH WATERSHED OK\nVOL PRED OK \nVOL TRUTH OK \n896\nVOL WITH WATERSHED OK\nVOL PRED OK \nVOL TRUTH OK \n897\nVOL WITH WATERSHED OK\nVOL PRED OK \nVOL TRUTH OK \n898\nVOL WITH WATERSHED OK\nVOL PRED OK \nVOL TRUTH OK \n899\nVOL WITH WATERSHED OK\nVOL PRED OK \nVOL TRUTH OK \n900\nVOL WITH WATERSHED OK\nVOL PRED OK \nVOL TRUTH OK \n901\nVOL WITH WATERSHED OK\nVOL PRED OK \nVOL TRUTH OK \n902\nVOL WITH WATERSHED OK\nVOL PRED OK \nVOL TRUTH OK \n903\nVOL WITH WATERSHED OK\nVOL PRED OK \nVOL TRUTH OK \n904\nVOL WITH WATERSHED OK\nVOL PRED OK \nVOL TRUTH OK \n905\nVOL WITH WATERSHED OK\nVOL PRED OK \nVOL TRUTH OK \n906\nVOL WITH WATERSHED OK\nVOL PRED OK \nVOL TRUTH OK \n907\nVOL WITH WATERSHED OK\nVOL PRED OK \nVOL TRUTH OK \n908\nVOL WITH WATERSHED OK\nVOL PRED OK \nVOL TRUTH OK \n909\nVOL WITH WATERSHED OK\nVOL PRED OK \nVOL TRUTH OK \n910\nVOL WITH WATERSHED OK\nVOL PRED OK \nVOL TRUTH OK \n911\nVOL WITH WATERSHED OK\nVOL PRED OK \nVOL TRUTH OK \n912\nVOL WITH WATERSHED OK\nVOL PRED OK \nVOL TRUTH OK \n913\nVOL WITH WATERSHED OK\nVOL PRED OK \nVOL TRUTH OK \n914\nVOL WITH WATERSHED OK\nVOL PRED OK \nVOL TRUTH OK \n915\nVOL WITH WATERSHED OK\nVOL PRED OK \nVOL TRUTH OK \n916\nVOL WITH WATERSHED OK\nVOL PRED OK \nVOL TRUTH OK \n917\nVOL WITH WATERSHED OK\nVOL PRED OK \nVOL TRUTH OK \n918\nVOL WITH WATERSHED OK\nVOL PRED OK \nVOL TRUTH OK \n919\nVOL WITH WATERSHED OK\nVOL PRED OK \nVOL TRUTH OK \n920\nVOL WITH WATERSHED OK\nVOL PRED OK \nVOL TRUTH OK \n921\nVOL WITH WATERSHED OK\nVOL PRED OK \nVOL TRUTH OK \n922\nVOL WITH WATERSHED OK\nVOL PRED OK \nVOL TRUTH OK \n923\nVOL WITH WATERSHED OK\nVOL PRED OK \nVOL TRUTH OK \n924\nVOL WITH WATERSHED OK\nVOL PRED OK \nVOL TRUTH OK \n925\nVOL WITH WATERSHED OK\nVOL PRED OK \nVOL TRUTH OK \n926\nVOL WITH WATERSHED OK\nVOL PRED OK \nVOL TRUTH OK \n927\nVOL WITH WATERSHED OK\nVOL PRED OK \nVOL TRUTH OK \n928\nVOL WITH WATERSHED OK\nVOL PRED OK \nVOL TRUTH OK \n929\nVOL WITH WATERSHED OK\nVOL PRED OK \nVOL TRUTH OK \n930\nVOL WITH WATERSHED OK\nVOL PRED OK \nVOL TRUTH OK \n931\nVOL WITH WATERSHED OK\nVOL PRED OK \nVOL TRUTH OK \n932\nVOL WITH WATERSHED OK\nVOL PRED OK \nVOL TRUTH OK \n933\nVOL WITH WATERSHED OK\nVOL PRED OK \nVOL TRUTH OK \n934\nVOL WITH WATERSHED OK\nVOL PRED OK \nVOL TRUTH OK \n935\nVOL WITH WATERSHED OK\nVOL PRED OK \nVOL TRUTH OK \n936\nVOL WITH WATERSHED OK\nVOL PRED OK \nVOL TRUTH OK \n937\nVOL WITH WATERSHED OK\nVOL PRED OK \nVOL TRUTH OK \n938\nVOL WITH WATERSHED OK\nVOL PRED OK \nVOL TRUTH OK \n939\nVOL WITH WATERSHED OK\nVOL PRED OK \nVOL TRUTH OK \n940\nVOL WITH WATERSHED OK\nVOL PRED OK \nVOL TRUTH OK \n941\nVOL WITH WATERSHED OK\nVOL PRED OK \nVOL TRUTH OK \n942\nVOL WITH WATERSHED OK\nVOL PRED OK \nVOL TRUTH OK \n943\nVOL WITH WATERSHED OK\nVOL PRED OK \nVOL TRUTH OK \n944\nVOL WITH WATERSHED OK\nVOL PRED OK \nVOL TRUTH OK \n945\nVOL WITH WATERSHED OK\nVOL PRED OK \nVOL TRUTH OK \n946\nVOL WITH WATERSHED OK\nVOL PRED OK \nVOL TRUTH OK \n947\nVOL WITH WATERSHED OK\nVOL PRED OK \nVOL TRUTH OK \n948\nVOL WITH WATERSHED OK\nVOL PRED OK \nVOL TRUTH OK \n949\nVOL WITH WATERSHED OK\nVOL PRED OK \nVOL TRUTH OK \n950\nVOL WITH WATERSHED OK\nVOL PRED OK \nVOL TRUTH OK \n951\nVOL WITH WATERSHED OK\nVOL PRED OK \nVOL TRUTH OK \n952\nVOL WITH WATERSHED OK\nVOL PRED OK \nVOL TRUTH OK \n953\nVOL WITH WATERSHED OK\nVOL PRED OK \nVOL TRUTH OK \n954\nVOL WITH WATERSHED OK\nVOL PRED OK \nVOL TRUTH OK \n955\nVOL WITH WATERSHED OK\nVOL PRED OK \nVOL TRUTH OK \n956\nVOL WITH WATERSHED OK\nVOL PRED OK \nVOL TRUTH OK \n957\nVOL WITH WATERSHED OK\nVOL PRED OK \nVOL TRUTH OK \n958\nVOL WITH WATERSHED OK\nVOL PRED OK \nVOL TRUTH OK \n959\nVOL WITH WATERSHED OK\nVOL PRED OK \nVOL TRUTH OK \n960\nVOL WITH WATERSHED OK\nVOL PRED OK \nVOL TRUTH OK \n961\nVOL WITH WATERSHED OK\nVOL PRED OK \nVOL TRUTH OK \n962\nVOL WITH WATERSHED OK\nVOL PRED OK \nVOL TRUTH OK \n963\nVOL WITH WATERSHED OK\nVOL PRED OK \nVOL TRUTH OK \n964\nVOL WITH WATERSHED OK\nVOL PRED OK \nVOL TRUTH OK \n965\nVOL WITH WATERSHED OK\nVOL PRED OK \nVOL TRUTH OK \n966\nVOL WITH WATERSHED OK\nVOL PRED OK \nVOL TRUTH OK \n967\nVOL WITH WATERSHED OK\nVOL PRED OK \nVOL TRUTH OK \n968\nVOL WITH WATERSHED OK\nVOL PRED OK \nVOL TRUTH OK \n969\nVOL WITH WATERSHED OK\nVOL PRED OK \nVOL TRUTH OK \n970\nVOL WITH WATERSHED OK\nVOL PRED OK \nVOL TRUTH OK \n971\nVOL WITH WATERSHED OK\nVOL PRED OK \nVOL TRUTH OK \n972\nVOL WITH WATERSHED OK\nVOL PRED OK \nVOL TRUTH OK \n973\nVOL WITH WATERSHED OK\nVOL PRED OK \nVOL TRUTH OK \n974\nVOL WITH WATERSHED OK\nVOL PRED OK \nVOL TRUTH OK \n975\nVOL WITH WATERSHED OK\nVOL PRED OK \nVOL TRUTH OK \n976\nVOL WITH WATERSHED OK\nVOL PRED OK \nVOL TRUTH OK \n977\nVOL WITH WATERSHED OK\nVOL PRED OK \nVOL TRUTH OK \n978\nVOL WITH WATERSHED OK\nVOL PRED OK \nVOL TRUTH OK \n979\nVOL WITH WATERSHED OK\nVOL PRED OK \nVOL TRUTH OK \n980\nVOL WITH WATERSHED OK\nVOL PRED OK \nVOL TRUTH OK \n981\nVOL WITH WATERSHED OK\nVOL PRED OK \nVOL TRUTH OK \n982\nVOL WITH WATERSHED OK\nVOL PRED OK \nVOL TRUTH OK \n983\nVOL WITH WATERSHED OK\nVOL PRED OK \nVOL TRUTH OK \n984\nVOL WITH WATERSHED OK\nVOL PRED OK \nVOL TRUTH OK \n985\nVOL WITH WATERSHED OK\nVOL PRED OK \nVOL TRUTH OK \n986\nVOL WITH WATERSHED OK\nVOL PRED OK \nVOL TRUTH OK \n987\nVOL WITH WATERSHED OK\nVOL PRED OK \nVOL TRUTH OK \n988\nVOL WITH WATERSHED OK\nVOL PRED OK \nVOL TRUTH OK \n989\nVOL WITH WATERSHED OK\nVOL PRED OK \nVOL TRUTH OK \n990\nVOL WITH WATERSHED OK\nVOL PRED OK \nVOL TRUTH OK \n991\nVOL WITH WATERSHED OK\nVOL PRED OK \nVOL TRUTH OK \n992\nVOL WITH WATERSHED OK\nVOL PRED OK \nVOL TRUTH OK \n993\nVOL WITH WATERSHED OK\nVOL PRED OK \nVOL TRUTH OK \n994\nVOL WITH WATERSHED OK\nVOL PRED OK \nVOL TRUTH OK \n995\nVOL WITH WATERSHED OK\nVOL PRED OK \nVOL TRUTH OK \n996\nVOL WITH WATERSHED OK\nVOL PRED OK \nVOL TRUTH OK \n997\nVOL WITH WATERSHED OK\nVOL PRED OK \nVOL TRUTH OK \n998\nVOL WITH WATERSHED OK\nVOL PRED OK \nVOL TRUTH OK \n999\nVOL WITH WATERSHED OK\nVOL PRED OK \nVOL TRUTH OK \n1000\nVOL WITH WATERSHED OK\nVOL PRED OK \nVOL TRUTH OK \n1001\nVOL WITH WATERSHED OK\nVOL PRED OK \nVOL TRUTH OK \n1002\nVOL WITH WATERSHED OK\nVOL PRED OK \nVOL TRUTH OK \n1003\nVOL WITH WATERSHED OK\nVOL PRED OK \nVOL TRUTH OK \n1004\nVOL WITH WATERSHED OK\nVOL PRED OK \nVOL TRUTH OK \n"
    }
   ],
   "source": [
    "results_directory = '/media/deeplearning/78ca2911-9e9f-4f78-b80a-848024b95f92/post_processing/pred_2'\n",
    "error = []\n",
    "#path_mip = []\n",
    "\n",
    "\n",
    "for serie in dataset: \n",
    "    print(dataset.index(serie))\n",
    "    subliste = []\n",
    "    try : \n",
    "        model = WatershedModel(serie[4], serie[2], type = '3d')\n",
    "        ws_array, label_number = model.watershed_model(0.5)\n",
    "\n",
    "\n",
    "        volume_voxel = model.pet_spacing[0]*model.pet_spacing[1]*model.pet_spacing[2]*10**(-3) #ml \n",
    "\n",
    "\n",
    "        #VOLUME PREDICTION AVEC WATERSHED AFTER SEUIL 41%\n",
    "        ws_array = get_threshold_matrix(ws_array, model.pet_array, label_number, 0.41)\n",
    "        number_pixel = len(np.where(ws_array != 0)[0])\n",
    "        vol_sous_seg_seuil = number_pixel * volume_voxel\n",
    "        serie.append(vol_sous_seg_seuil)\n",
    "        #tmtv.append(vol_sous_seg_seuil)\n",
    "        print(\"VOL WITH WATERSHED OK\")\n",
    "\n",
    "\n",
    "        #VOLUME BINARY MASK \n",
    "        binary_img = model.get_binary_threshold_mask_img(0.5)\n",
    "        binary_array = model.remove_small_roi(binary_img)\n",
    "\n",
    "        number_pixel_binaire = len(np.where(binary_array != 0 )[0])\n",
    "        vol_binaire = number_pixel_binaire * volume_voxel \n",
    "        serie.append(vol_binaire)\n",
    "        print(\"VOL PRED OK \")\n",
    "\n",
    "        #VOLUME TRUTH- 41%\n",
    "        img_4d = sitk.ReadImage(serie[3])\n",
    "        mask = sitk.GetArrayFromImage(img_4d).transpose()\n",
    "        mask = get_threshold_matrix_4D(mask, model.pet_array, 0.41)\n",
    "\n",
    "        if len(mask.shape) != 3 : \n",
    "            mask_sum = np.sum(mask, axis = -1)\n",
    "        else : \n",
    "            mask_sum = mask \n",
    "\n",
    "        number_pixel_truth = len(np.where(mask_sum != 0)[0])\n",
    "        vol_truth = number_pixel_truth * volume_voxel\n",
    "        serie.append(vol_truth) \n",
    "        print(\"VOL TRUTH OK \")\n",
    "\n",
    "\n",
    "        #here to write stats results from the watershed labelled 3D matrix\n",
    "        #json_details = model.label_stat_results(img2)\n",
    "        #tmtv.append(json_details['total_vol'])\n",
    "        #write_json_file(folder, serie[1]+'_details', json_details)\n",
    "\n",
    "        #can add method to save result as nifti \n",
    "\n",
    "    except Exception as err : \n",
    "        print(err)\n",
    "        print(serie)\n",
    "        error.append(serie)"
   ]
  },
  {
   "cell_type": "code",
   "execution_count": 16,
   "metadata": {},
   "outputs": [],
   "source": [
    "#write csv \n",
    "nifti_directory = '/media/deeplearning/78ca2911-9e9f-4f78-b80a-848024b95f92/post_processing/pred_2'\n",
    "\n",
    "with open(os.path.join(nifti_directory, 'result_tmtv_sous_seg.csv'), 'w') as csv_file : \n",
    "    csv_writer = csv.writer(csv_file, delimiter=',', quotechar='\"', quoting=csv.QUOTE_MINIMAL)\n",
    "    csv_writer.writerow([\"PATIENT ID\", \"STUDY UID\", \"NIFTI_PET\", \"NIFTI_MASK\", \"PRED_MASK\", \"TYPE\", \"STUDY\", \"VOL_TRUTH\", \"VOL_PRED\", \"VOL_WS\"])\n",
    "    for serie in dataset:\n",
    "        csv_writer.writerow([serie[0], serie[1], serie[2], serie[3], serie[4], serie[5], serie[6], serie[-1], serie[-2], serie[-3]])  "
   ]
  },
  {
   "cell_type": "code",
   "execution_count": null,
   "metadata": {},
   "outputs": [],
   "source": [
    "#Here, can add pourcent of difference between VOL_WS-41% and VOL_TRUTH , and plot the Bland Altmann result "
   ]
  },
  {
   "cell_type": "code",
   "execution_count": null,
   "metadata": {},
   "outputs": [],
   "source": [
    "#Open CSV with VOLUME result \n",
    "csv_ahl_post_process= '/media/deeplearning/78ca2911-9e9f-4f78-b80a-848024b95f92/post_processing/pred_2/result_tmtv_sous_seg.csv'\n",
    "\n",
    "with open(csv_ahl_post_process, 'r') as csv_file :\n",
    "    reader = csv.reader(csv_file, delimiter = ',') #liste pour chaque ligne \n",
    "    csv_data = []\n",
    "    for row in reader :\n",
    "        csv_data.append(row)\n",
    "        \n",
    "del csv_data[0] #enlever première ligne"
   ]
  },
  {
   "cell_type": "code",
   "execution_count": null,
   "metadata": {},
   "outputs": [],
   "source": [
    "#calcul percentage of difference \n",
    "for row in csv_data : \n",
    "    vol_truth = float(row[-3])\n",
    "    vol_ws = float(row[-1])\n",
    "    diff = (vol_ws - vol_truth) / vol_truth * 100 \n",
    "\n",
    "    row.append(diff)"
   ]
  },
  {
   "cell_type": "code",
   "execution_count": null,
   "metadata": {},
   "outputs": [],
   "source": [
    "#Get liste of all volume and percentage, only on vol_prediction bigger than volume_truth , compteur cpt to count it \n",
    "truth = []\n",
    "sous_seg = []\n",
    "pourcent = []\n",
    "pred = []\n",
    "cpt = 0\n",
    "for row in csv_data : \n",
    "    if float(row[-3]) > float(row[-4]) : #if vol pred > vol truth\n",
    "        cpt += 1 \n",
    "        truth.append(float(row[-4]))\n",
    "        sous_seg.append(float(row[-2]))\n",
    "        pourcent.append(float(row[-1]))\n",
    "        pred.append(float(row[-3]))\n",
    "\n",
    "print(cpt)\n",
    "print(len(truth))\n",
    "print(len(sous_seg))\n",
    "print(len(pourcent))\n",
    "print(len(pred))"
   ]
  },
  {
   "cell_type": "code",
   "execution_count": null,
   "metadata": {},
   "outputs": [],
   "source": [
    "#Bland Altmann plot \n",
    "mean = []\n",
    "diff = []\n",
    "for i in range(len(truth)):\n",
    "    subliste = []\n",
    "    subliste.append(truth[i])\n",
    "    subliste.append(sous_seg[i])\n",
    "    mean.append(np.mean(subliste))\n",
    "\n",
    "    diff.append(truth[i] - sous_seg[i])\n",
    "\n",
    "#y = pourcent \n",
    "f = plt.figure(figsize=(8,5))\n",
    "axes = plt.gca()\n",
    "moy = np.mean(pourcent)\n",
    "sd = np.std(pourcent)\n",
    "print(moy)\n",
    "print(sd)\n",
    "plt.axhline(moy, c='r', label='mean', linewidth=3)\n",
    "plt.axhline(moy + 2*sd, c='green', label = 'm + 2sd' )\n",
    "plt.axhline(moy - 2*sd, c='green', label = 'm - 2sd' )\n",
    "plt.axhline(0, c='black', linestyle='--',label = '0' )\n",
    "plt.axhline(20, c='blue',label = '20%', linestyle='dashdot' )\n",
    "plt.axhline(-20, c='blue',label = '-20%' ,linestyle='dashdot' )\n",
    "plt.scatter(mean, pourcent, alpha=0.6)\n",
    "plt.ylim(-200, 300)\n",
    "plt.xlabel('mean')\n",
    "plt.ylabel('pourcent diff')\n",
    "plt.legend()\n",
    "plt.title('Bland Altman after watershed')\n",
    "\n",
    "#y = difference\n",
    "f = plt.figure(figsize=(8,5))\n",
    "axes = plt.gca()\n",
    "moy = np.mean(diff)\n",
    "sd = np.std(diff)\n",
    "print(moy)\n",
    "print(sd)\n",
    "plt.axhline(moy, c='r', label='mean', linewidth=3)\n",
    "plt.axhline(moy + 2*sd, c='green', label = 'm + 2sd' )\n",
    "plt.axhline(moy - 2*sd, c='green', label = 'm - 2sd' )\n",
    "plt.scatter(mean, diff, alpha=0.6)\n",
    "#plt.xlim(0, 500)\n",
    "plt.xlabel('mean')\n",
    "plt.ylabel('diff')\n",
    "plt.legend()\n",
    "plt.title('Bland Altman after watershed')\n",
    "\n",
    "\n",
    "#linear regression \n",
    "from scipy import stats\n",
    "#linregress() renvoie plusieurs variables de retour. On s'interessera \n",
    "# particulierement au slope et intercept\n",
    "slope, intercept, r_value, p_value, std_err = stats.linregress(truth, sous_seg)\n",
    "\n",
    "def regression(x, slope, intercept):\n",
    "    y = []\n",
    "    for i in range(len(x)):\n",
    "        y.append(slope * x[i] + intercept)\n",
    "\n",
    "    return y \n",
    "\n",
    "\n",
    "f = plt.figure(figsize=(8,5))\n",
    "axes = plt.gca()\n",
    "plt.scatter(truth, sous_seg, alpha=0.6)\n",
    "plt.plot(truth, regression(truth, slope, intercept), c='green', label='regression lin')\n",
    "plt.plot([0,2300], [0,2300], 'r--', label='x=y')\n",
    "plt.xlabel('truth')\n",
    "plt.ylabel('sous_seg')"
   ]
  }
 ]
}