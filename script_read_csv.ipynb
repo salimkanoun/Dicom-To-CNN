{
 "cells": [
  {
   "cell_type": "code",
   "execution_count": 1,
   "metadata": {},
   "outputs": [],
   "source": [
    "from library_dicom.dicom_processor.model.csv_reader.CsvReader import CsvReader\n",
    "from library_dicom.dicom_processor.model.csv_reader.RoiFactory import RoiFactory\n",
    "import matplotlib.pyplot as plt\n",
    "from library_dicom.dicom_processor.model.csv_reader.MaskBuilder import MaskBuilder"
   ]
  },
  {
   "cell_type": "code",
   "execution_count": 2,
   "metadata": {},
   "outputs": [],
   "source": [
    "from library_dicom.dicom_processor.model.NiftiBuilder import NiftiBuilder\n",
    "import os\n",
    "import json\n",
    "\n",
    "from library_dicom.dicom_processor.model.Series import Series\n",
    "from library_dicom.dicom_processor.model.SeriesPT import SeriesPT\n",
    "from library_dicom.dicom_processor.tools.folders import get_series_path, write_json_file, remove_bi_file\n",
    "from library_dicom.dicom_processor.tools.series import get_series_object\n"
   ]
  },
  {
   "cell_type": "code",
   "execution_count": 3,
   "metadata": {},
   "outputs": [],
   "source": [
    "import numpy as np"
   ]
  },
  {
   "cell_type": "markdown",
   "metadata": {},
   "source": [
    "### Build mask from roi in CSV file "
   ]
  },
  {
   "cell_type": "code",
   "execution_count": 4,
   "metadata": {},
   "outputs": [],
   "source": [
    "mask_build = MaskBuilder(r'C:\\Users\\wendy\\Documents\\STAGE\\CSV CHALLENGE/11009101406003_apr 14_2010_Saggital.csv', [144, 144, 255])\n"
   ]
  },
  {
   "cell_type": "code",
   "execution_count": 5,
   "metadata": {},
   "outputs": [],
   "source": [
    "mask_csv = mask_build.read_csv()"
   ]
  },
  {
   "cell_type": "code",
   "execution_count": 6,
   "metadata": {},
   "outputs": [
    {
     "data": {
      "text/plain": [
       "1"
      ]
     },
     "execution_count": 6,
     "metadata": {},
     "output_type": "execute_result"
    }
   ],
   "source": [
    "mask_build.number_of_rois"
   ]
  },
  {
   "cell_type": "code",
   "execution_count": 8,
   "metadata": {},
   "outputs": [
    {
     "data": {
      "image/png": "[encoded data removed]",
      "text/plain": [
       "<Figure size 432x288 with 1 Axes>"
      ]
     },
     "metadata": {
      "needs_background": "light"
     },
     "output_type": "display_data"
    },
    {
     "data": {
      "image/png": "[encoded data removed]",
      "text/plain": [
       "<Figure size 432x288 with 1 Axes>"
      ]
     },
     "metadata": {
      "needs_background": "light"
     },
     "output_type": "display_data"
    },
    {
     "data": {
      "image/png": "[encoded data removed]",
      "text/plain": [
       "<Figure size 432x288 with 1 Axes>"
      ]
     },
     "metadata": {
      "needs_background": "light"
     },
     "output_type": "display_data"
    }
   ],
   "source": [
    "mask_build.show_axial_to_coronal_saggital(mask_csv, 1, 87, 76, 100)"
   ]
  },
  {
   "cell_type": "markdown",
   "metadata": {},
   "source": [
    "mask_build.show_axial_to_coronal_saggital(mask_csv, 1, 95, 63, 82)"
   ]
  },
  {
   "cell_type": "markdown",
   "metadata": {},
   "source": [
    "mask_build.show_axial_to_coronal_saggital(mask_csv, 2, 99, 89, 52)\n"
   ]
  },
  {
   "cell_type": "markdown",
   "metadata": {},
   "source": [
    "mask_build.show_axial_to_coronal_saggital(mask_csv, 3, 161, 88 , 87 )"
   ]
  },
  {
   "cell_type": "markdown",
   "metadata": {},
   "source": [
    "### Superposition Nifti/SUV au mask crée "
   ]
  },
  {
   "cell_type": "code",
   "execution_count": 9,
   "metadata": {},
   "outputs": [],
   "source": [
    "file = r'C:\\Users\\wendy\\Documents\\STAGE\\CSV CHALLENGE\\1.3.46.670589.28.2.12.4.9177.6631.2.448.0.1271249841'"
   ]
  },
  {
   "cell_type": "code",
   "execution_count": 10,
   "metadata": {},
   "outputs": [],
   "source": [
    "series_pet = SeriesPT(file)"
   ]
  },
  {
   "cell_type": "code",
   "execution_count": 11,
   "metadata": {},
   "outputs": [],
   "source": [
    "nifti = series_pet.get_numpy_array()"
   ]
  },
  {
   "cell_type": "code",
   "execution_count": 12,
   "metadata": {},
   "outputs": [],
   "source": [
    "def calcul_max_mean(nifti, mask_cvs, number_of_roi):\n",
    "    pixels = []\n",
    "    for z in range(255):\n",
    "        for x in range(144):\n",
    "            for y in range(144):\n",
    "                if mask_csv[x,y,z, number_of_roi - 1] == number_of_roi : \n",
    "                    pixels.append(nifti[ x, y,254 - z])\n",
    "    print(\"SUV max : \", np.max(pixels))\n",
    "    print(\"SUV mean : \", np.mean(pixels))"
   ]
  },
  {
   "cell_type": "code",
   "execution_count": 13,
   "metadata": {},
   "outputs": [
    {
     "name": "stdout",
     "output_type": "stream",
     "text": [
      "SUV max :  11.561557074604734\n",
      "SUV mean :  1.080858546169723\n"
     ]
    }
   ],
   "source": [
    "calcul_max_mean(nifti, mask_csv, 1)"
   ]
  },
  {
   "cell_type": "code",
   "execution_count": 18,
   "metadata": {},
   "outputs": [
    {
     "name": "stdout",
     "output_type": "stream",
     "text": [
      "ROI : 1\n",
      "SUV max :  1.8478228394936183\n",
      "SUV mean :  0.981795921720745\n",
      "ROI : 2\n",
      "SUV max :  12.017083202687408\n",
      "SUV mean :  2.5649490521362077\n",
      "ROI : 3\n",
      "SUV max :  17.192312036790053\n",
      "SUV mean :  6.751727461396326\n",
      "ROI : 4\n",
      "SUV max :  12.466374584791192\n",
      "SUV mean :  1.2403058358048975\n",
      "ROI : 5\n",
      "SUV max :  13.521995013342059\n",
      "SUV mean :  3.5938658674500603\n",
      "ROI : 6\n",
      "SUV max :  2.6337905044574788\n",
      "SUV mean :  1.0380770223811409\n",
      "ROI : 7\n",
      "SUV max :  1.8610716746987601\n",
      "SUV mean :  0.5423401242273652\n",
      "ROI : 8\n",
      "SUV max :  0.9410569711887574\n",
      "SUV mean :  0.39583647865689114\n",
      "ROI : 9\n",
      "SUV max :  1.048996010948296\n",
      "SUV mean :  0.39452611997044595\n",
      "ROI : 10\n",
      "SUV max :  1.0856251435742768\n",
      "SUV mean :  0.382589134648109\n",
      "ROI : 11\n",
      "SUV max :  2.1264380504252793\n",
      "SUV mean :  0.9961577077920716\n",
      "ROI : 12\n",
      "SUV max :  1.6818227278056634\n",
      "SUV mean :  0.5541910832426757\n",
      "ROI : 13\n",
      "SUV max :  2.493508719932447\n",
      "SUV mean :  1.2137817462718492\n",
      "ROI : 14\n",
      "SUV max :  7.545601320952008\n",
      "SUV mean :  1.1761709514612493\n",
      "ROI : 15\n",
      "SUV max :  2.130724438285766\n",
      "SUV mean :  0.9995914941399455\n",
      "ROI : 16\n",
      "SUV max :  1.247728539025425\n",
      "SUV mean :  0.8884311465630594\n",
      "ROI : 17\n",
      "SUV max :  1.5068601687730538\n",
      "SUV mean :  0.7154047583328986\n",
      "ROI : 18\n",
      "SUV max :  1.5586864947225796\n",
      "SUV mean :  0.7226893663464459\n",
      "ROI : 19\n",
      "SUV max :  1.5282921080754894\n",
      "SUV mean :  0.5971600497147261\n",
      "ROI : 20\n",
      "SUV max :  0.5373571690556094\n",
      "SUV mean :  0.12270294150152845\n",
      "ROI : 21\n",
      "SUV max :  2.0746117244757536\n",
      "SUV mean :  1.0450255149739176\n",
      "ROI : 22\n",
      "SUV max :  1.8306772880516697\n",
      "SUV mean :  0.9777246813054825\n",
      "ROI : 23\n",
      "SUV max :  2.2842550580159404\n",
      "SUV mean :  1.0850453215691005\n",
      "ROI : 24\n",
      "SUV max :  2.385569680172908\n",
      "SUV mean :  1.348938249591402\n",
      "ROI : 25\n",
      "SUV max :  2.0551281432917214\n",
      "SUV mean :  0.8642472387585708\n",
      "ROI : 26\n",
      "SUV max :  2.1392972140067403\n",
      "SUV mean :  0.9402624002927753\n",
      "ROI : 27\n",
      "SUV max :  1.4940010051915926\n",
      "SUV mean :  0.9381275167633949\n",
      "ROI : 28\n",
      "SUV max :  12.112163078865485\n",
      "SUV mean :  3.9316448424666874\n"
     ]
    }
   ],
   "source": [
    "mask_build.read_roi(nifti, mask_csv)"
   ]
  }
 ],
 "metadata": {
  "kernelspec": {
   "display_name": "Python 3",
   "language": "python",
   "name": "python3"
  },
  "language_info": {
   "codemirror_mode": {
    "name": "ipython",
    "version": 3
   },
   "file_extension": ".py",
   "mimetype": "text/x-python",
   "name": "python",
   "nbconvert_exporter": "python",
   "pygments_lexer": "ipython3",
   "version": "3.7.4"
  }
 },
 "nbformat": 4,
 "nbformat_minor": 2
}
