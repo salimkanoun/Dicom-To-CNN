{
 "nbformat": 4,
 "nbformat_minor": 2,
 "metadata": {
  "language_info": {
   "name": "python",
   "codemirror_mode": {
    "name": "ipython",
    "version": 2
   },
   "version": "2.7.17-final"
  },
  "orig_nbformat": 2,
  "file_extension": ".py",
  "mimetype": "text/x-python",
  "name": "python",
  "npconvert_exporter": "python",
  "pygments_lexer": "ipython2",
  "version": 2,
  "kernelspec": {
   "name": "python271764bitd02fd4fabacc45f6a0a9c63569f130f0",
   "display_name": "Python 2.7.17 64-bit"
  }
 },
 "cells": [
  {
   "cell_type": "code",
   "execution_count": null,
   "metadata": {},
   "outputs": [],
   "source": [
    "import json\n",
    "import os\n",
    "from collections import defaultdict\n",
    "from library_dicom.dicom_processor.tools.folders import write_json_file"
   ]
  },
  {
   "cell_type": "code",
   "execution_count": null,
   "metadata": {},
   "outputs": [],
   "source": [
    "path = \"/media/salim/DD 2To/Json Ahl\"\n",
    "filenames = os.listdir(path)\n",
    "print(filenames)"
   ]
  },
  {
   "cell_type": "code",
   "execution_count": null,
   "metadata": {},
   "outputs": [],
   "source": [
    "content_map = defaultdict(dict)\n",
    "\n",
    "for filename in filenames:\n",
    "    with open(os.path.join(path, filename)) as json_file:\n",
    "        data = json.load(json_file)\n",
    "        patientID = str(data['patient']['PatientID'])\n",
    "        studyUID = str(data['study']['StudyInstanceUID'])\n",
    "        studyDetails = data['study']\n",
    "        seriesDetails = data['series']\n",
    "        seriesInstanceUID = data['series']['SeriesInstanceUID']\n",
    "        if(studyUID not in content_map[patientID]) :\n",
    "            content_map[patientID][studyUID]=studyDetails\n",
    "        \n",
    "        if('Series' not in content_map[patientID][studyUID] ):\n",
    "            content_map[patientID][studyUID]['Series']={}\n",
    "        content_map[patientID][studyUID]['Series'][seriesInstanceUID]=seriesDetails\n",
    "        content_map[patientID][studyUID]['Series'][seriesInstanceUID]['path'] = data['path']\n",
    "print(content_map)\n",
    "\n",
    "write_json_file(path, \"merged\", json.dumps(content_map))"
   ]
  },
  {
   "cell_type": "code",
   "execution_count": null,
   "metadata": {},
   "outputs": [],
   "source": []
  }
 ]
}