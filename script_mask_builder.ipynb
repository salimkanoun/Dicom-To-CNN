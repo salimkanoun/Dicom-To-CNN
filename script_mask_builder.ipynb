{
 "cells": [
  {
   "cell_type": "code",
   "execution_count": 1,
   "metadata": {},
   "outputs": [],
   "source": [
    "from library_dicom.dicom_processor.model.csv_reader.MaskBuilder import MaskBuilder\n",
    "from library_dicom.dicom_processor.model.SeriesPT import SeriesPT\n",
    "import matplotlib.pyplot as plt \n",
    "import numpy as np"
   ]
  },
  {
   "cell_type": "code",
   "execution_count": 2,
   "metadata": {},
   "outputs": [],
   "source": [
    "PT_path = r'C:\\Users\\wendy\\Documents\\STAGE\\CSV CHALLENGE\\1.3.46.670589.28.2.12.4.9177.6631.2.448.0.1271249841'"
   ]
  },
  {
   "cell_type": "code",
   "execution_count": null,
   "metadata": {},
   "outputs": [],
   "source": [
    "serie = SeriesPT(PT_path)"
   ]
  },
  {
   "cell_type": "code",
   "execution_count": null,
   "metadata": {},
   "outputs": [],
   "source": [
    "serie.get_series_details()"
   ]
  },
  {
   "cell_type": "code",
   "execution_count": null,
   "metadata": {},
   "outputs": [],
   "source": [
    "serie.get_numpy_array()"
   ]
  },
  {
   "cell_type": "code",
   "execution_count": null,
   "metadata": {},
   "outputs": [],
   "source": [
    "serie.get_z_spacing()"
   ]
  },
  {
   "cell_type": "code",
   "execution_count": null,
   "metadata": {},
   "outputs": [],
   "source": []
  },
  {
   "cell_type": "code",
   "execution_count": 4,
   "metadata": {},
   "outputs": [
    {
     "name": "stdout",
     "output_type": "stream",
     "text": [
      "0\n",
      "1\n"
     ]
    }
   ],
   "source": [
    "for i in range(0,2):\n",
    "    print(i)"
   ]
  },
  {
   "cell_type": "code",
   "execution_count": 3,
   "metadata": {},
   "outputs": [
    {
     "name": "stdout",
     "output_type": "stream",
     "text": [
      "0.0\n",
      "0.37115374447904514\n",
      "0.5150787536377127\n",
      "0.618589574131742\n",
      "0.6998542122237651\n",
      "0.7659860924831149\n",
      "0.8206518066482898\n",
      "0.8660254037844386\n",
      "0.9035079029052513\n",
      "0.9340497736158586\n",
      "0.9583148474999099\n",
      "0.9767710236555246\n",
      "0.989743318610787\n",
      "0.9974457174120672\n",
      "1.0\n",
      "0.9974457174120672\n",
      "0.989743318610787\n",
      "0.9767710236555246\n",
      "0.9583148474999099\n",
      "0.9340497736158586\n",
      "0.9035079029052513\n",
      "0.8660254037844386\n",
      "0.8206518066482898\n",
      "0.7659860924831149\n",
      "0.6998542122237651\n",
      "0.618589574131742\n",
      "0.5150787536377127\n",
      "0.37115374447904514\n",
      "0.0\n",
      "0.0\n",
      "0.4581228472908512\n",
      "0.628539361054709\n",
      "0.7453559924999299\n",
      "0.8314794192830981\n",
      "0.8958064164776166\n",
      "0.9428090415820632\n",
      "0.9749960430435691\n",
      "0.9938079899999066\n",
      "1.0\n",
      "0.9938079899999066\n",
      "0.9749960430435691\n",
      "0.9428090415820632\n",
      "0.8958064164776166\n",
      "0.8314794192830981\n",
      "0.7453559924999299\n",
      "0.628539361054709\n",
      "0.4581228472908512\n",
      "0.0\n"
     ]
    }
   ],
   "source": [
    "mask = MaskBuilder(r'C:\\Users\\wendy\\Documents\\STAGE\\CSV CHALLENGE\\11009101406003_apr 14_2010.csv', [144, 144, 255])"
   ]
  },
  {
   "cell_type": "code",
   "execution_count": null,
   "metadata": {},
   "outputs": [],
   "source": [
    "len(mask.details_rois[4]['list_points'])"
   ]
  },
  {
   "cell_type": "code",
   "execution_count": null,
   "metadata": {},
   "outputs": [],
   "source": []
  },
  {
   "cell_type": "code",
   "execution_count": null,
   "metadata": {},
   "outputs": [],
   "source": [
    "for i in range(142, 171):\n",
    "    \n",
    "    plt.imshow(mask.mask_array[:,:,i,2])\n",
    "    plt.show()"
   ]
  },
  {
   "cell_type": "code",
   "execution_count": null,
   "metadata": {},
   "outputs": [],
   "source": []
  },
  {
   "cell_type": "code",
   "execution_count": null,
   "metadata": {},
   "outputs": [],
   "source": []
  },
  {
   "cell_type": "code",
   "execution_count": null,
   "metadata": {},
   "outputs": [],
   "source": [
    "serie = SeriesPT(PT_path)"
   ]
  },
  {
   "cell_type": "code",
   "execution_count": null,
   "metadata": {},
   "outputs": [],
   "source": [
    "nifti_array = serie.get_numpy_array()\n",
    "print(nifti_array.shape)"
   ]
  },
  {
   "cell_type": "code",
   "execution_count": null,
   "metadata": {},
   "outputs": [],
   "source": [
    "mask.calcul_suv(nifti_array)"
   ]
  },
  {
   "cell_type": "code",
   "execution_count": null,
   "metadata": {},
   "outputs": [],
   "source": [
    "mask.is_correct_suv(nifti_array)"
   ]
  },
  {
   "cell_type": "code",
   "execution_count": null,
   "metadata": {},
   "outputs": [],
   "source": []
  }
 ],
 "metadata": {
  "kernelspec": {
   "display_name": "Python 3",
   "language": "python",
   "name": "python3"
  },
  "language_info": {
   "codemirror_mode": {
    "name": "ipython",
    "version": 3
   },
   "file_extension": ".py",
   "mimetype": "text/x-python",
   "name": "python",
   "nbconvert_exporter": "python",
   "pygments_lexer": "ipython3",
   "version": "3.7.4"
  }
 },
 "nbformat": 4,
 "nbformat_minor": 2
}
