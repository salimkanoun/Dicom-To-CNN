{
 "cells": [
  {
   "cell_type": "code",
   "execution_count": null,
   "metadata": {},
   "outputs": [],
   "source": [
    "from library_dicom.dicom_processor.model.csv_reader.MaskBuilder import MaskBuilder\n",
    "from library_dicom.dicom_processor.model.SeriesPT import SeriesPT\n",
    "import matplotlib.pyplot as plt \n",
    "import numpy as np\n",
    "import scipy.ndimage"
   ]
  },
  {
   "cell_type": "code",
   "execution_count": null,
   "metadata": {},
   "outputs": [],
   "source": [
    "PT_path = r'C:\\Users\\wendy\\Documents\\STAGE\\CSV CHALLENGE\\1.3.46.670589.28.2.12.4.9177.6631.2.448.0.1271249841'"
   ]
  },
  {
   "cell_type": "code",
   "execution_count": null,
   "metadata": {},
   "outputs": [],
   "source": []
  },
  {
   "cell_type": "code",
   "execution_count": null,
   "metadata": {},
   "outputs": [],
   "source": [
    "mask = MaskBuilder(r'C:\\Users\\wendy\\Documents\\STAGE\\CSV CHALLENGE\\11009101406003_apr 14_2010.csv', [144, 144, 255])"
   ]
  },
  {
   "cell_type": "code",
   "execution_count": null,
   "metadata": {},
   "outputs": [],
   "source": [
    "mask.mask_array[:,:,:,0]"
   ]
  },
  {
   "cell_type": "code",
   "execution_count": null,
   "metadata": {},
   "outputs": [],
   "source": [
    "def mip_projection(numpy_array, angle, borne_max=1.0):\n",
    "    x,y,z = numpy_array.shape \n",
    "\n",
    "    for i in range(z):\n",
    "        vol_angle = scipy.ndimage.interpolation.rotate(np.array([numpy_array[i]]) , angle , reshape=False, axes = (2,1)) #auto axes(1,0)\n",
    "        # (144, 144)\n",
    "        MIP = np.amax(vol_angle,axis=1) #valeur voxel max sur chaque colonne de la numpy array de la coupe\n",
    "        # [[., ., ., ., ......]]\n",
    "        plt.imshow(MIP,cmap='Greys',origin='lower',vmax=borne_max)\n",
    "            \n",
    "        \n",
    "    return None\n",
    "    "
   ]
  },
  {
   "cell_type": "code",
   "execution_count": null,
   "metadata": {},
   "outputs": [],
   "source": [
    "mip_projection(mask.mask_array[:,:,:,0], 0, borne_max = 1.0)"
   ]
  },
  {
   "cell_type": "code",
   "execution_count": null,
   "metadata": {},
   "outputs": [],
   "source": []
  },
  {
   "cell_type": "code",
   "execution_count": null,
   "metadata": {},
   "outputs": [],
   "source": []
  },
  {
   "cell_type": "code",
   "execution_count": null,
   "metadata": {},
   "outputs": [],
   "source": [
    "serie = SeriesPT(PT_path)"
   ]
  },
  {
   "cell_type": "code",
   "execution_count": null,
   "metadata": {},
   "outputs": [],
   "source": [
    "nifti_array = serie.get_numpy_array()\n"
   ]
  },
  {
   "cell_type": "code",
   "execution_count": null,
   "metadata": {},
   "outputs": [],
   "source": [
    "mask.calcul_suv(nifti_array)"
   ]
  },
  {
   "cell_type": "code",
   "execution_count": null,
   "metadata": {},
   "outputs": [],
   "source": [
    "mask.is_correct_suv(nifti_array)"
   ]
  },
  {
   "cell_type": "code",
   "execution_count": null,
   "metadata": {},
   "outputs": [],
   "source": []
  }
 ],
 "metadata": {
  "kernelspec": {
   "display_name": "Python 3",
   "language": "python",
   "name": "python3"
  },
  "language_info": {
   "codemirror_mode": {
    "name": "ipython",
    "version": 3
   },
   "file_extension": ".py",
   "mimetype": "text/x-python",
   "name": "python",
   "nbconvert_exporter": "python",
   "pygments_lexer": "ipython3",
   "version": "3.7.4"
  }
 },
 "nbformat": 4,
 "nbformat_minor": 2
}