{
 "nbformat": 4,
 "nbformat_minor": 2,
 "metadata": {
  "language_info": {
   "name": "python",
   "codemirror_mode": {
    "name": "ipython",
    "version": 3
   },
   "version": "3.8.2-final"
  },
  "orig_nbformat": 2,
  "file_extension": ".py",
  "mimetype": "text/x-python",
  "name": "python",
  "npconvert_exporter": "python",
  "pygments_lexer": "ipython3",
  "version": 3,
  "kernelspec": {
   "name": "python38264bit741c38d3bcec48dc835c8ad5f1161b3f",
   "display_name": "Python 3.8.2 64-bit"
  }
 },
 "cells": [
  {
   "cell_type": "code",
   "execution_count": 1,
   "metadata": {},
   "outputs": [],
   "source": [
    "import os\n",
    "import json\n",
    "import csv\n",
    "import numpy as np\n",
    "import matplotlib.pyplot as plt\n",
    "\n",
    "from library_dicom.dicom_processor.model.csv_reader.CsvReader import CsvReader\n",
    "from library_dicom.dicom_processor.model.csv_reader.RoiFactory import RoiFactory\n",
    "from library_dicom.dicom_processor.model.csv_reader.MaskBuilder import MaskBuilder\n",
    "from library_dicom.dicom_processor.model.NiftiBuilder import NiftiBuilder\n",
    "\n",
    "from library_dicom.dicom_processor.model.Series import Series\n",
    "from library_dicom.dicom_processor.model.SeriesPT import SeriesPT\n",
    "from library_dicom.dicom_processor.tools.folders import get_series_path, write_json_file, remove_bi_file\n",
    "from library_dicom.dicom_processor.tools.series import get_series_object\n"
   ]
  },
  {
   "cell_type": "code",
   "execution_count": null,
   "metadata": {},
   "outputs": [],
   "source": []
  },
  {
   "cell_type": "code",
   "execution_count": 2,
   "metadata": {},
   "outputs": [
    {
     "name": "stdout",
     "output_type": "stream",
     "text": "(512, 512, 192)\nFalse\n"
    }
   ],
   "source": [
    "original_study_folder = r'/media/salim/DD 2To/GAINED_Validated_DICOMS/11011101021001/1.2.840.113704.1.111.3296.1350645932.9/1.2.840.113704.1.111.5352.1350646167.8' #studyFolder\n",
    "series_paths = get_series_path(original_study_folder)\n",
    "for serie_path in series_paths :\n",
    "    series_object = get_series_object(serie_path)\n",
    "    series_array = series_object.get_numpy_array()\n",
    "    print(series_array.shape)\n",
    "    mask_build = MaskBuilder(r'/media/salim/DD 2To/GAINED_CSV/patient_11011101021001_PET_0_review_8_4.csv', series_array.shape)\n",
    "    print(mask_build.is_correct_suv(series_array))\n",
    "    \n"
   ]
  },
  {
   "cell_type": "code",
   "execution_count": null,
   "metadata": {},
   "outputs": [],
   "source": [
    "mask_build = MaskBuilder(r'/media/salim/DD 2To/GAINED_CSV/patient_11011101021001_PET_0_review_8_4.csv', [144, 144, 255])\n",
    "mask_csv = mask_build.read_csv()\n",
    "original_study_folder = r'/media/salim/DD 2To/GAINED_Validated_DICOMS/11011101021001/1.2.840.113704.1.111.3296.1350645932.9/1.2.840.113704.1.111.5352.1350646167.8' #studyFolder\n",
    "mask_build.calcul_suv_max_mean_mask(file)\n",
    "mask_build.is_correct_suv(file)\n",
    "mask_build.is_calcul_sul_correct(file)\n"
   ]
  }
 ]
}