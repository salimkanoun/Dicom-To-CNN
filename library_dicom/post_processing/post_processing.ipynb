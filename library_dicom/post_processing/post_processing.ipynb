{
 "metadata": {
  "language_info": {
   "codemirror_mode": {
    "name": "ipython",
    "version": 3
   },
   "file_extension": ".py",
   "mimetype": "text/x-python",
   "name": "python",
   "nbconvert_exporter": "python",
   "pygments_lexer": "ipython3",
   "version": 3
  },
  "orig_nbformat": 2,
  "kernelspec": {
   "name": "python_defaultSpec_1595510470942",
   "display_name": "Python 3.7.4 64-bit ('base': conda)"
  }
 },
 "nbformat": 4,
 "nbformat_minor": 2,
 "cells": [
  {
   "cell_type": "code",
   "execution_count": 1,
   "metadata": {},
   "outputs": [],
   "source": [
    "from Mask import *\n",
    "import numpy as np"
   ]
  },
  {
   "cell_type": "code",
   "execution_count": 2,
   "metadata": {
    "tags": []
   },
   "outputs": [
    {
     "output_type": "stream",
     "name": "stdout",
     "text": "(4, 4, 3)\n(4, 4, 3)\n"
    }
   ],
   "source": [
    "a = np.array([[0,0,0,0], [0,1,1,0], [0,1,1,0], [0,0,0,0]])\n",
    "b = np.array([[0,0,0,0], [0,1,1,0], [0,1,1,0], [0,0,0,0]])\n",
    "c = np.array([[0,0,0,0], [0,1,1,0], [0,1,1,0], [0,0,0,0]])\n",
    "liste = []\n",
    "liste.append(a)\n",
    "liste.append(b)\n",
    "liste.append(c)\n",
    "\n",
    "new_array = np.stack((liste), axis = 2)\n",
    "print(new_array.shape)\n",
    "\n",
    "a_2 = np.array([[0,2,2,0], [0,2,2,0], [0,0,0,0], [0,0,0,0]])\n",
    "b_2 = np.array([[0,2,2,0], [0,2,2,0], [0,0,0,0], [0,0,0,0]])\n",
    "c_2 = np.array([[0,2,2,0], [0,2,2,0], [0,0,0,0], [0,0,0,0]])\n",
    "\n",
    "liste_2 = []\n",
    "liste_2.append(a_2)\n",
    "liste_2.append(b_2)\n",
    "liste_2.append(c_2)\n",
    "\n",
    "new_array_2 = np.stack((liste_2), axis = 2)\n",
    "print(new_array_2.shape)\n",
    "\n"
   ]
  },
  {
   "cell_type": "code",
   "execution_count": 3,
   "metadata": {},
   "outputs": [
    {
     "output_type": "execute_result",
     "data": {
      "text/plain": "12"
     },
     "metadata": {},
     "execution_count": 3
    }
   ],
   "source": [
    "np.sum(new_array)"
   ]
  },
  {
   "cell_type": "code",
   "execution_count": 4,
   "metadata": {
    "tags": []
   },
   "outputs": [
    {
     "output_type": "stream",
     "name": "stdout",
     "text": "(4, 4, 3)\n"
    }
   ],
   "source": [
    "binary = new_array + new_array_2\n",
    "print(binary.shape)"
   ]
  },
  {
   "cell_type": "code",
   "execution_count": 5,
   "metadata": {
    "tags": []
   },
   "outputs": [
    {
     "output_type": "stream",
     "name": "stdout",
     "text": "(4, 4, 3, 2)\n"
    }
   ],
   "source": [
    "liste_4D = []\n",
    "liste_4D.append(new_array)\n",
    "liste_4D.append(new_array_2)\n",
    "\n",
    "mask_4D = np.stack((liste_4D), axis = 3)\n",
    "print(mask_4D.shape)"
   ]
  },
  {
   "cell_type": "code",
   "execution_count": 6,
   "metadata": {},
   "outputs": [
    {
     "output_type": "execute_result",
     "data": {
      "text/plain": "array([[0, 2, 2, 0],\n       [0, 3, 3, 0],\n       [0, 1, 1, 0],\n       [0, 0, 0, 0]])"
     },
     "metadata": {},
     "execution_count": 6
    }
   ],
   "source": [
    "binary[:,:,0]"
   ]
  },
  {
   "cell_type": "code",
   "execution_count": 7,
   "metadata": {},
   "outputs": [],
   "source": [
    "binary_sitk = sitk.GetImageFromArray(binary)"
   ]
  },
  {
   "cell_type": "code",
   "execution_count": 2,
   "metadata": {},
   "outputs": [],
   "source": [
    "import SimpleITK as sitk  \n",
    "mask_path = r'C:\\Users\\wendy\\Documents\\STAGE\\1.3.51.0.1.1.10.59.68.153.13234026.5114204_nifti_mask.nii'"
   ]
  },
  {
   "cell_type": "code",
   "execution_count": 3,
   "metadata": {},
   "outputs": [],
   "source": [
    "mask_object = Mask(mask_path)"
   ]
  },
  {
   "cell_type": "code",
   "execution_count": 4,
   "metadata": {
    "tags": []
   },
   "outputs": [
    {
     "output_type": "stream",
     "name": "stdout",
     "text": "(200, 200, 481)\n"
    }
   ],
   "source": [
    "binary_mask = mask_object.binary_mask\n",
    "print(binary_mask.shape)"
   ]
  },
  {
   "cell_type": "code",
   "execution_count": 7,
   "metadata": {
    "tags": []
   },
   "outputs": [
    {
     "output_type": "stream",
     "name": "stdout",
     "text": "19240000\n"
    }
   ],
   "source": [
    "print(200*200*481)"
   ]
  },
  {
   "cell_type": "code",
   "execution_count": 5,
   "metadata": {},
   "outputs": [
    {
     "output_type": "execute_result",
     "data": {
      "text/plain": "{1: {'number_of_pixel': 1008, 'volume': 33.441298812679946},\n 2: {'number_of_pixel': 25803, 'volume': 856.037532999584},\n 3: {'number_of_pixel': 18369, 'volume': 609.4079542560694},\n 4: {'number_of_pixel': 2808, 'volume': 93.15790383532271},\n 5: {'number_of_pixel': 5635, 'volume': 186.9461496125511},\n 6: {'number_of_pixel': 232, 'volume': 7.6968068695850675},\n 7: {'number_of_pixel': 1282, 'volume': 42.531493132793344},\n 8: {'number_of_pixel': 1008, 'volume': 33.441298812679946},\n 9: {'number_of_pixel': 512, 'volume': 16.98605653977394},\n 10: {'number_of_pixel': 1500, 'volume': 49.76383751886897},\n 11: {'number_of_pixel': 4109, 'volume': 136.31973891002173},\n 12: {'number_of_pixel': 8796, 'volume': 291.81514321064765},\n 13: {'number_of_pixel': 2629, 'volume': 87.21941922473768}}"
     },
     "metadata": {},
     "execution_count": 5
    }
   ],
   "source": [
    "mask_object.get_connected_components() #29"
   ]
  },
  {
   "cell_type": "code",
   "execution_count": 6,
   "metadata": {},
   "outputs": [
    {
     "output_type": "execute_result",
     "data": {
      "text/plain": "2444.7646337353153"
     },
     "metadata": {},
     "execution_count": 6
    }
   ],
   "source": [
    "mask_object.get_total_lymphoma_volume()"
   ]
  },
  {
   "cell_type": "code",
   "execution_count": null,
   "metadata": {},
   "outputs": [],
   "source": []
  },
  {
   "cell_type": "code",
   "execution_count": null,
   "metadata": {},
   "outputs": [],
   "source": []
  }
 ]
}