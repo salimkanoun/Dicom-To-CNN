{
 "nbformat": 4,
 "nbformat_minor": 2,
 "metadata": {
  "language_info": {
   "name": "python",
   "codemirror_mode": {
    "name": "ipython",
    "version": 3
   },
   "version": "3.8.2-final"
  },
  "orig_nbformat": 2,
  "file_extension": ".py",
  "mimetype": "text/x-python",
  "name": "python",
  "npconvert_exporter": "python",
  "pygments_lexer": "ipython3",
  "version": 3,
  "kernelspec": {
   "name": "python38264bit741c38d3bcec48dc835c8ad5f1161b3f",
   "display_name": "Python 3.8.2 64-bit"
  }
 },
 "cells": [
  {
   "cell_type": "code",
   "execution_count": 1,
   "metadata": {},
   "outputs": [],
   "source": [
    "import json\n",
    "import os\n",
    "from library_dicom.dicom_processor.model.Series import Series \n",
    "from library_dicom.dicom_processor.model.SeriesPT import SeriesPT\n",
    "from library_dicom.dicom_processor.model.SeriesCT import SeriesCT\n",
    "from library_dicom.dicom_processor.model.csv_reader.MaskBuilder import MaskBuilder\n",
    "\n",
    "import numpy as np\n",
    "import SimpleITK as sitk"
   ]
  },
  {
   "cell_type": "code",
   "execution_count": 2,
   "metadata": {},
   "outputs": [],
   "source": [
    "json_path = '/media/salim/DD 2To/AHL2011_NIFTI/AHL2011_list_path_csv.json'"
   ]
  },
  {
   "cell_type": "code",
   "execution_count": 3,
   "metadata": {},
   "outputs": [],
   "source": [
    "data = []\n",
    "with open(json_path) as json_file : \n",
    "    reader = json.load(json_file)\n",
    "    for info in reader :\n",
    "        for path in reader[info] :\n",
    "            data.append(path)"
   ]
  },
  {
   "cell_type": "code",
   "execution_count": 11,
   "metadata": {},
   "outputs": [],
   "source": [
    "dataset = []\n",
    "for i in range(0,len(data),5):\n",
    "    subliste = []\n",
    "    subliste.append(data[i])\n",
    "    subliste.append(data[i+1])\n",
    "    subliste.append(data[i+2])\n",
    "    subliste.append(data[i+3])\n",
    "    subliste.append(data[i+4])\n",
    "    dataset.append(subliste)"
   ]
  },
  {
   "cell_type": "code",
   "execution_count": 12,
   "metadata": {},
   "outputs": [
    {
     "name": "stdout",
     "output_type": "stream",
     "text": "['/media/salim/DD 2To/AHL2011_Validated_DICOMS/13011101431010/1.2.124.113532.172.16.25.2.20120605.739.1104125/1.2.840.113704.1.111.5244.1339151088.11/imagys_AHL2011_13011101431010_f812bc05-4748-4b0a-bd1c-1e4a3954c530', 'CT', '/media/salim/DD 2To/AHL2011_Validated_DICOMS/13011101431010/1.2.124.113532.172.16.25.2.20120605.739.1104125/1.3.46.670589.28.2.12.21.6047.2953.2.2200.0.1339152332/imagys_AHL2011_13011101431010_37a1f66e-91db-4705-824e-33524671308e', 'PT', 'san_ma_jun 8_2012.csv']\n"
    }
   ],
   "source": [
    "print(dataset[3])\n"
   ]
  },
  {
   "cell_type": "code",
   "execution_count": null,
   "metadata": {},
   "outputs": [],
   "source": [
    "#genere la liste des series qui ont le unconstant spacing \n",
    "liste_unconstant_z_spacing = []\n",
    "for liste in dataset : \n",
    "    for i in range(0,4,2) : \n",
    "        serie_objet = Series(liste[i])\n",
    "        serie_objet.get_numpy_array()\n",
    "        if serie_objet.get_z_spacing() == 'Unconstant Spacing' : \n",
    "            print(liste)\n",
    "            liste_unconstant_z_spacing.append(liste)\n",
    "            list_z_spacing = serie_objet.calculate_z_spacing()\n",
    "            print(list_z_spacing)\n",
    "            liste_unconstant_z_spacing.append(list_z_spacing)\n",
    "\n",
    "\n",
    "#save it as json\n",
    "\n",
    "write_json_file('/media/salim/DD 2To/AHL2011_NIFTI', 'AHL2011_problem_unconstant_spacing', liste_unconstant_z_spacing)"
   ]
  },
  {
   "cell_type": "code",
   "execution_count": 7,
   "metadata": {},
   "outputs": [],
   "source": [
    "#read json with unconstant spacing liste\n",
    "path = '/media/salim/DD 2To/AHL2011_NIFTI/AHL2011_spacing_problem.json'\n",
    "liste_unconstant_spacing = []\n",
    "with open(path) as json_file: \n",
    "    reader = json.load(json_file)\n",
    "    for info in reader : \n",
    "        liste_unconstant_spacing.append(info)\n",
    "\n"
   ]
  },
  {
   "cell_type": "code",
   "execution_count": 7,
   "metadata": {},
   "outputs": [],
   "source": [
    "\n",
    "def ecart_spacing(liste):\n",
    "    ecart = []\n",
    "    ecart.append(abs(liste[0] - liste[1]))\n",
    "    \n",
    "    for j in range(2, len(liste)):\n",
    "        ecart.append(abs(liste[j-1] - liste[j]))\n",
    "    return round(np.max(ecart),1)"
   ]
  },
  {
   "cell_type": "code",
   "execution_count": 6,
   "metadata": {},
   "outputs": [
    {
     "name": "stdout",
     "output_type": "stream",
     "text": "['/media/salim/DD 2To/AHL2011_Validated_DICOMS/13011101331015/1.2.124.113532.10.149.172.5.20131107.93455.7725981/1.2.840.113619.2.290.3.2500492204.268.1383804922.866.3/1.2.840.113619.2.290.3.2500492204.268.1383804922.866.3', 'CT', '/media/salim/DD 2To/AHL2011_Validated_DICOMS/13011101331015/1.2.124.113532.10.149.172.5.20131107.93455.7725981/1.2.840.113619.2.290.3.2500492204.268.1383804923.167/1.2.840.113619.2.290.3.2500492204.268.1383804923.167', 'PT', 'con_da_nov 7_2013.csv']\nserie PT, generation du mask avec fichier csv associée\n[256, 256, 299]\nGE MEDICAL SYSTEMS\n{1: {'SUV_max': 4.52, 'SUV_mean': 2.66, 'SD': 0.55}, 2: {'SUV_max': 8.19, 'SUV_mean': 4.58, 'SD': 1.14}, 3: {'SUV_max': 3.58, 'SUV_mean': 2.16, 'SD': 0.53}, 4: {'SUV_max': 8.34, 'SUV_mean': 5.24, 'SD': 1.28}, 5: {'SUV_max': 9.27, 'SUV_mean': 5.31, 'SD': 1.14}, 6: {'SUV_max': 5.78, 'SUV_mean': 3.27, 'SD': 0.63}, 7: {'SUV_max': 11.71, 'SUV_mean': 6.21, 'SD': 1.23}, 8: {'SUV_max': 13.11, 'SUV_mean': 7.16, 'SD': 1.38}, 9: {'SUV_max': 12.21, 'SUV_mean': 6.77, 'SD': 1.38}, 10: {'SUV_max': 13.79, 'SUV_mean': 7.71, 'SD': 1.48}, 11: {'SUV_max': 5.99, 'SUV_mean': 3.29, 'SD': 0.62}, 12: {'SUV_max': 4.23, 'SUV_mean': 2.42, 'SD': 0.56}, 13: {'SUV_max': 5.19, 'SUV_mean': 2.82, 'SD': 0.65}, 14: {'SUV_max': 4.97, 'SUV_mean': 2.97, 'SD': 0.59}, 15: {'SUV_max': 8.78, 'SUV_mean': 4.29, 'SD': 0.61}, 16: {'SUV_max': 5.75, 'SUV_mean': 3.25, 'SD': 0.73}, 17: {'SUV_max': 7.35, 'SUV_mean': 4.29, 'SD': 1.12}, 18: {'SUV_max': 5.99, 'SUV_mean': 3.25, 'SD': 0.64}}\n['/media/salim/DD 2To/AHL2011_Validated_DICOMS/13011101051001/1.2.124.113532.172.16.25.2.20110720.111654.943617/1.3.46.670589.28.2.12.21.6047.2953.2.3340.0.1311158101/1.3.46.670589.28.2.12.21.6047.2953.2.3340.0.1311158101', 'PT', '/media/salim/DD 2To/AHL2011_Validated_DICOMS/13011101051001/1.2.124.113532.172.16.25.2.20110720.111654.943617/1.2.840.113704.1.111.7748.1311156931.8/1.2.840.113704.1.111.7748.1311156931.8', 'CT', 'bou_sa_jul 20_2011.csv']\nserie PT, generation du mask avec fichier csv associée\nError generating result array 'PhilipsBqMlFactor'\nError generating result array 'PhilipsBqMlFactor'\n"
    },
    {
     "ename": "ValueError",
     "evalue": "axes don't match array",
     "output_type": "error",
     "traceback": [
      "\u001b[0;31m---------------------------------------------------------------------------\u001b[0m",
      "\u001b[0;31mValueError\u001b[0m                                Traceback (most recent call last)",
      "\u001b[0;32m<ipython-input-6-550bbbefbddd>\u001b[0m in \u001b[0;36m<module>\u001b[0;34m\u001b[0m\n\u001b[1;32m     35\u001b[0m             \u001b[0;32mif\u001b[0m \u001b[0mserie_pt_objet\u001b[0m\u001b[0;34m.\u001b[0m\u001b[0mget_z_spacing\u001b[0m\u001b[0;34m(\u001b[0m\u001b[0;34m)\u001b[0m \u001b[0;34m!=\u001b[0m \u001b[0;34m'Unconstant Spacing'\u001b[0m \u001b[0;34m:\u001b[0m\u001b[0;34m\u001b[0m\u001b[0;34m\u001b[0m\u001b[0m\n\u001b[1;32m     36\u001b[0m                 \u001b[0mfilename\u001b[0m \u001b[0;34m=\u001b[0m \u001b[0mstudy_uid\u001b[0m\u001b[0;34m+\u001b[0m\u001b[0;34m'_'\u001b[0m\u001b[0;34m+\u001b[0m\u001b[0;34m'nifti_'\u001b[0m\u001b[0;34m+\u001b[0m\u001b[0;34m'PT'\u001b[0m\u001b[0;34m+\u001b[0m\u001b[0;34m'.nii'\u001b[0m\u001b[0;34m\u001b[0m\u001b[0;34m\u001b[0m\u001b[0m\n\u001b[0;32m---> 37\u001b[0;31m                 \u001b[0mserie_pt_objet\u001b[0m\u001b[0;34m.\u001b[0m\u001b[0mexport_nifti\u001b[0m\u001b[0;34m(\u001b[0m\u001b[0mos\u001b[0m\u001b[0;34m.\u001b[0m\u001b[0mpath\u001b[0m\u001b[0;34m.\u001b[0m\u001b[0mjoin\u001b[0m\u001b[0;34m(\u001b[0m\u001b[0mnifti_directory\u001b[0m\u001b[0;34m,\u001b[0m \u001b[0mfilename\u001b[0m\u001b[0;34m)\u001b[0m\u001b[0;34m)\u001b[0m\u001b[0;34m\u001b[0m\u001b[0;34m\u001b[0m\u001b[0m\n\u001b[0m\u001b[1;32m     38\u001b[0m \u001b[0;34m\u001b[0m\u001b[0m\n\u001b[1;32m     39\u001b[0m                 \u001b[0msize_matrix\u001b[0m \u001b[0;34m=\u001b[0m \u001b[0mserie_pt_objet\u001b[0m\u001b[0;34m.\u001b[0m\u001b[0mget_size_matrix\u001b[0m\u001b[0;34m(\u001b[0m\u001b[0;34m)\u001b[0m\u001b[0;34m\u001b[0m\u001b[0;34m\u001b[0m\u001b[0m\n",
      "\u001b[0;32m~/library-DICOM/library_dicom/dicom_processor/model/Series.py\u001b[0m in \u001b[0;36mexport_nifti\u001b[0;34m(self, file_path, mask)\u001b[0m\n\u001b[1;32m    136\u001b[0m         \u001b[0;32mif\u001b[0m \u001b[0;34m(\u001b[0m\u001b[0mmask\u001b[0m \u001b[0;34m==\u001b[0m \u001b[0;32mNone\u001b[0m\u001b[0;34m)\u001b[0m \u001b[0;34m:\u001b[0m\u001b[0;34m\u001b[0m\u001b[0;34m\u001b[0m\u001b[0m\n\u001b[1;32m    137\u001b[0m             \u001b[0mnifti_builder\u001b[0m \u001b[0;34m=\u001b[0m \u001b[0mNiftiBuilder\u001b[0m\u001b[0;34m(\u001b[0m\u001b[0mself\u001b[0m\u001b[0;34m)\u001b[0m\u001b[0;34m\u001b[0m\u001b[0;34m\u001b[0m\u001b[0m\n\u001b[0;32m--> 138\u001b[0;31m             \u001b[0mnifti_builder\u001b[0m\u001b[0;34m.\u001b[0m\u001b[0msave_nifti\u001b[0m\u001b[0;34m(\u001b[0m\u001b[0mfile_path\u001b[0m\u001b[0;34m)\u001b[0m\u001b[0;34m\u001b[0m\u001b[0;34m\u001b[0m\u001b[0m\n\u001b[0m\u001b[1;32m    139\u001b[0m         \u001b[0;32melse\u001b[0m \u001b[0;34m:\u001b[0m\u001b[0;34m\u001b[0m\u001b[0;34m\u001b[0m\u001b[0m\n\u001b[1;32m    140\u001b[0m             \u001b[0mnifti_builder\u001b[0m \u001b[0;34m=\u001b[0m \u001b[0mNiftiBuilder\u001b[0m\u001b[0;34m(\u001b[0m\u001b[0mself\u001b[0m\u001b[0;34m)\u001b[0m\u001b[0;34m\u001b[0m\u001b[0;34m\u001b[0m\u001b[0m\n",
      "\u001b[0;32m~/library-DICOM/library_dicom/dicom_processor/model/NiftiBuilder.py\u001b[0m in \u001b[0;36msave_nifti\u001b[0;34m(self, filename, mask)\u001b[0m\n\u001b[1;32m     12\u001b[0m     \u001b[0;32mdef\u001b[0m \u001b[0msave_nifti\u001b[0m\u001b[0;34m(\u001b[0m\u001b[0mself\u001b[0m\u001b[0;34m,\u001b[0m \u001b[0mfilename\u001b[0m\u001b[0;34m,\u001b[0m \u001b[0mmask\u001b[0m \u001b[0;34m=\u001b[0m \u001b[0;32mNone\u001b[0m\u001b[0;34m)\u001b[0m\u001b[0;34m:\u001b[0m\u001b[0;34m\u001b[0m\u001b[0;34m\u001b[0m\u001b[0m\n\u001b[1;32m     13\u001b[0m         \u001b[0;32mif\u001b[0m\u001b[0;34m(\u001b[0m \u001b[0mmask\u001b[0m \u001b[0;34m==\u001b[0m \u001b[0;32mNone\u001b[0m\u001b[0;34m)\u001b[0m \u001b[0;34m:\u001b[0m\u001b[0;34m\u001b[0m\u001b[0;34m\u001b[0m\u001b[0m\n\u001b[0;32m---> 14\u001b[0;31m             \u001b[0msitk_img\u001b[0m \u001b[0;34m=\u001b[0m \u001b[0msitk\u001b[0m\u001b[0;34m.\u001b[0m\u001b[0mGetImageFromArray\u001b[0m\u001b[0;34m(\u001b[0m \u001b[0mnp\u001b[0m\u001b[0;34m.\u001b[0m\u001b[0mtranspose\u001b[0m\u001b[0;34m(\u001b[0m\u001b[0mself\u001b[0m\u001b[0;34m.\u001b[0m\u001b[0mseries\u001b[0m\u001b[0;34m.\u001b[0m\u001b[0mget_numpy_array\u001b[0m\u001b[0;34m(\u001b[0m\u001b[0;34m)\u001b[0m\u001b[0;34m,\u001b[0m \u001b[0;34m(\u001b[0m\u001b[0;36m2\u001b[0m\u001b[0;34m,\u001b[0m\u001b[0;36m0\u001b[0m\u001b[0;34m,\u001b[0m\u001b[0;36m1\u001b[0m\u001b[0;34m)\u001b[0m \u001b[0;34m)\u001b[0m\u001b[0;34m)\u001b[0m\u001b[0;34m\u001b[0m\u001b[0;34m\u001b[0m\u001b[0m\n\u001b[0m\u001b[1;32m     15\u001b[0m             \u001b[0moriginal_pixel_spacing\u001b[0m \u001b[0;34m=\u001b[0m \u001b[0mself\u001b[0m\u001b[0;34m.\u001b[0m\u001b[0mseries\u001b[0m\u001b[0;34m.\u001b[0m\u001b[0minstance_array\u001b[0m\u001b[0;34m[\u001b[0m\u001b[0;36m0\u001b[0m\u001b[0;34m]\u001b[0m\u001b[0;34m.\u001b[0m\u001b[0mget_pixel_spacing\u001b[0m\u001b[0;34m(\u001b[0m\u001b[0;34m)\u001b[0m\u001b[0;34m\u001b[0m\u001b[0;34m\u001b[0m\u001b[0m\n\u001b[1;32m     16\u001b[0m             \u001b[0;31m#print(self.series.instance_array[0].get_image_orientation())\u001b[0m\u001b[0;34m\u001b[0m\u001b[0;34m\u001b[0m\u001b[0;34m\u001b[0m\u001b[0m\n",
      "\u001b[0;32m<__array_function__ internals>\u001b[0m in \u001b[0;36mtranspose\u001b[0;34m(*args, **kwargs)\u001b[0m\n",
      "\u001b[0;32m~/.local/lib/python3.8/site-packages/numpy/core/fromnumeric.py\u001b[0m in \u001b[0;36mtranspose\u001b[0;34m(a, axes)\u001b[0m\n\u001b[1;32m    649\u001b[0m \u001b[0;34m\u001b[0m\u001b[0m\n\u001b[1;32m    650\u001b[0m     \"\"\"\n\u001b[0;32m--> 651\u001b[0;31m     \u001b[0;32mreturn\u001b[0m \u001b[0m_wrapfunc\u001b[0m\u001b[0;34m(\u001b[0m\u001b[0ma\u001b[0m\u001b[0;34m,\u001b[0m \u001b[0;34m'transpose'\u001b[0m\u001b[0;34m,\u001b[0m \u001b[0maxes\u001b[0m\u001b[0;34m)\u001b[0m\u001b[0;34m\u001b[0m\u001b[0;34m\u001b[0m\u001b[0m\n\u001b[0m\u001b[1;32m    652\u001b[0m \u001b[0;34m\u001b[0m\u001b[0m\n\u001b[1;32m    653\u001b[0m \u001b[0;34m\u001b[0m\u001b[0m\n",
      "\u001b[0;32m~/.local/lib/python3.8/site-packages/numpy/core/fromnumeric.py\u001b[0m in \u001b[0;36m_wrapfunc\u001b[0;34m(obj, method, *args, **kwds)\u001b[0m\n\u001b[1;32m     56\u001b[0m     \u001b[0mbound\u001b[0m \u001b[0;34m=\u001b[0m \u001b[0mgetattr\u001b[0m\u001b[0;34m(\u001b[0m\u001b[0mobj\u001b[0m\u001b[0;34m,\u001b[0m \u001b[0mmethod\u001b[0m\u001b[0;34m,\u001b[0m \u001b[0;32mNone\u001b[0m\u001b[0;34m)\u001b[0m\u001b[0;34m\u001b[0m\u001b[0;34m\u001b[0m\u001b[0m\n\u001b[1;32m     57\u001b[0m     \u001b[0;32mif\u001b[0m \u001b[0mbound\u001b[0m \u001b[0;32mis\u001b[0m \u001b[0;32mNone\u001b[0m\u001b[0;34m:\u001b[0m\u001b[0;34m\u001b[0m\u001b[0;34m\u001b[0m\u001b[0m\n\u001b[0;32m---> 58\u001b[0;31m         \u001b[0;32mreturn\u001b[0m \u001b[0m_wrapit\u001b[0m\u001b[0;34m(\u001b[0m\u001b[0mobj\u001b[0m\u001b[0;34m,\u001b[0m \u001b[0mmethod\u001b[0m\u001b[0;34m,\u001b[0m \u001b[0;34m*\u001b[0m\u001b[0margs\u001b[0m\u001b[0;34m,\u001b[0m \u001b[0;34m**\u001b[0m\u001b[0mkwds\u001b[0m\u001b[0;34m)\u001b[0m\u001b[0;34m\u001b[0m\u001b[0;34m\u001b[0m\u001b[0m\n\u001b[0m\u001b[1;32m     59\u001b[0m \u001b[0;34m\u001b[0m\u001b[0m\n\u001b[1;32m     60\u001b[0m     \u001b[0;32mtry\u001b[0m\u001b[0;34m:\u001b[0m\u001b[0;34m\u001b[0m\u001b[0;34m\u001b[0m\u001b[0m\n",
      "\u001b[0;32m~/.local/lib/python3.8/site-packages/numpy/core/fromnumeric.py\u001b[0m in \u001b[0;36m_wrapit\u001b[0;34m(obj, method, *args, **kwds)\u001b[0m\n\u001b[1;32m     45\u001b[0m     \u001b[0;32mexcept\u001b[0m \u001b[0mAttributeError\u001b[0m\u001b[0;34m:\u001b[0m\u001b[0;34m\u001b[0m\u001b[0;34m\u001b[0m\u001b[0m\n\u001b[1;32m     46\u001b[0m         \u001b[0mwrap\u001b[0m \u001b[0;34m=\u001b[0m \u001b[0;32mNone\u001b[0m\u001b[0;34m\u001b[0m\u001b[0;34m\u001b[0m\u001b[0m\n\u001b[0;32m---> 47\u001b[0;31m     \u001b[0mresult\u001b[0m \u001b[0;34m=\u001b[0m \u001b[0mgetattr\u001b[0m\u001b[0;34m(\u001b[0m\u001b[0masarray\u001b[0m\u001b[0;34m(\u001b[0m\u001b[0mobj\u001b[0m\u001b[0;34m)\u001b[0m\u001b[0;34m,\u001b[0m \u001b[0mmethod\u001b[0m\u001b[0;34m)\u001b[0m\u001b[0;34m(\u001b[0m\u001b[0;34m*\u001b[0m\u001b[0margs\u001b[0m\u001b[0;34m,\u001b[0m \u001b[0;34m**\u001b[0m\u001b[0mkwds\u001b[0m\u001b[0;34m)\u001b[0m\u001b[0;34m\u001b[0m\u001b[0;34m\u001b[0m\u001b[0m\n\u001b[0m\u001b[1;32m     48\u001b[0m     \u001b[0;32mif\u001b[0m \u001b[0mwrap\u001b[0m\u001b[0;34m:\u001b[0m\u001b[0;34m\u001b[0m\u001b[0;34m\u001b[0m\u001b[0m\n\u001b[1;32m     49\u001b[0m         \u001b[0;32mif\u001b[0m \u001b[0;32mnot\u001b[0m \u001b[0misinstance\u001b[0m\u001b[0;34m(\u001b[0m\u001b[0mresult\u001b[0m\u001b[0;34m,\u001b[0m \u001b[0mmu\u001b[0m\u001b[0;34m.\u001b[0m\u001b[0mndarray\u001b[0m\u001b[0;34m)\u001b[0m\u001b[0;34m:\u001b[0m\u001b[0;34m\u001b[0m\u001b[0;34m\u001b[0m\u001b[0m\n",
      "\u001b[0;31mValueError\u001b[0m: axes don't match array"
     ]
    }
   ],
   "source": [
    "\n",
    "nifti_directory = '/media/salim/DD 2To/AHL2011_NIFTI'\n",
    "\n",
    "\n",
    "csv_directory = '/media/salim/DD 2To/AHL2011_CSV_DATA/AHL2011-CSV'\n",
    "\n",
    "\n",
    "for serie in dataset : \n",
    "    print(serie)\n",
    "\n",
    "    for i in range(1,4,2): #inde 1 et 3 => CT OU PT\n",
    "\n",
    "\n",
    "        if serie[i] == 'CT' : \n",
    "            serie_ct_objet = SeriesCT(serie[i - 1])\n",
    "            study_uid = serie_ct_objet.get_series_details()['study']['StudyInstanceUID']\n",
    "            serie_ct_objet.get_numpy_array()\n",
    "            if serie_ct_objet.get_z_spacing() != 'Unconstant Spacing' : \n",
    "                filename = study_uid+'_'+'nifti_'+'CT'+'.nii'\n",
    "                serie_ct_objet.export_nifti(os.path.join(nifti_directory, filename))\n",
    "                \n",
    "\n",
    "            else : \n",
    "                print(\"Unconstant Spacing à la série CT \" , dataset.index(serie))\n",
    "\n",
    "\n",
    "\n",
    "    \n",
    "\n",
    "        if serie[i] == 'PT' :\n",
    "            print('serie PT, generation du mask avec fichier csv associée')\n",
    "            serie_pt_objet = SeriesPT(serie[i - 1])\n",
    "            study_uid = serie_pt_objet.get_series_details()['study']['StudyInstanceUID']\n",
    "\n",
    "            nifti_array = serie_pt_objet.get_numpy_array()\n",
    "            if serie_pt_objet.get_z_spacing() != 'Unconstant Spacing' : \n",
    "                filename = study_uid+'_'+'nifti_'+'PT'+'.nii'\n",
    "                serie_pt_objet.export_nifti(os.path.join(nifti_directory, filename))\n",
    "\n",
    "                size_matrix = serie_pt_objet.get_size_matrix()\n",
    "                print(size_matrix)\n",
    "                print(serie_pt_objet.get_series_details()['series']['Manufacturer'])\n",
    "\n",
    "                mask_objet = MaskBuilder(os.path.join(csv_directory, serie[4]), size_matrix)\n",
    "                mask_4D = mask_objet.mask_array\n",
    "                #si le masque est ok, alors generer nifti :\n",
    "                #filename = study_uid+'_'+'nifti'+'mask_4D'+'.nii'\n",
    "                #serie_pt_objet.export_nifti(os.path.join(nifti_directory, filename), mask_4D)\n",
    "                print(mask_objet.calcul_suv(serie_pt_objet.get_numpy_array()))\n",
    "                if mask_objet.is_correct_suv(serie_pt_objet.get_numpy_array()) == False : \n",
    "                    print(mask_objet.ecart_suv_max(nifti_array))\n",
    "\n",
    "            else : print(\"Unconstant Spacing à la série PT \" , dataset.index(serie))\n",
    "\n"
   ]
  },
  {
   "cell_type": "code",
   "execution_count": 13,
   "metadata": {},
   "outputs": [
    {
     "name": "stdout",
     "output_type": "stream",
     "text": "{'series': {'Manufacturer': 'Philips Medical Systems', 'Modality': 'PT', 'SeriesDate': '20120608', 'SeriesTime': '122638', 'SeriesDescription': '[WB_CTAC] Body', 'SeriesInstanceUID': '1.3.46.670589.28.2.12.21.6047.2953.2.2200.0.1339152332', 'SeriesNumber': \"523320\", 'AcquisitionDate': '20120608', 'AcquisitionTime': '123555.518', 'NumberOfSlices': 213, 'ImageInAcquisition': 'Undefined', 'Units': 'BQML', 'DecayCorrection': 'START', 'ImageType': ['ORIGINAL', 'PRIMARY'], 'PixelSpacing': [\"4.0\", \"4.0\"]}, 'study': {'AccessionNumber': 'PET0', 'InstitutionName': '', 'StudyDate': '20120608', 'StudyTime': '122634', 'StudyDescription': 'PET0', 'StudyID': '15085', 'StudyInstanceUID': '1.2.124.113532.172.16.25.2.20120605.739.1104125', 'PatientWeight': \"48.0\", 'PatientHeight': 'Undefined'}, 'patient': {'PatientName': 'SAN^MA', 'PatientID': '13011101431010', 'PatientBirthDate': '19000101', 'PatientSex': 'F'}, 'path': '/media/salim/DD 2To/AHL2011_Validated_DICOMS/13011101431010/1.2.124.113532.172.16.25.2.20120605.739.1104125/1.3.46.670589.28.2.12.21.6047.2953.2.2200.0.1339152332/imagys_AHL2011_13011101431010_37a1f66e-91db-4705-824e-33524671308e', 'files': 213, 'instance': {'PixelSpacing': [\"4.0\", \"4.0\"], 'ImagePosition': [\"-286.585938\", \"-216.585938\", \"-607.5\"], 'ImageOrientation': [\"1.0\", \"0.0\", \"0.0\", \"0.0\", \"1.0\", \"0.0\"], 'RescaleSlope': \"7.418175\", 'RescaleIntercept': \"0.0\", 'SOPInstanceUID': '1.3.46.670589.28.2.15.21.6047.2953.3.3316.84.1339152332'}, 'radiopharmaceutical': {'RadionuclideHalfLife': \"6586.199707\", 'TotalDose': \"143000000.0\", 'RadiopharmaceuticalStartDateTime': '20120608112440', 'RadiopharmaceuticalStartTime': '112400'}, 'pet_correction': ['DECY', 'RADL', 'ATTN', 'SCAT', 'DTIM', 'RAN', 'NORM'], 'philips_tags': {}}\n"
    }
   ],
   "source": [
    "serie_pt = '/media/salim/DD 2To/AHL2011_Validated_DICOMS/13011101431010/1.2.124.113532.172.16.25.2.20120605.739.1104125/1.3.46.670589.28.2.12.21.6047.2953.2.2200.0.1339152332/imagys_AHL2011_13011101431010_37a1f66e-91db-4705-824e-33524671308e'\n",
    "serie_objet = SeriesPT(serie_pt)\n",
    "print(serie_objet.get_series_details())\n",
    "dataset = serie_objet.get_first_instance_metadata()\n"
   ]
  },
  {
   "cell_type": "code",
   "execution_count": 15,
   "metadata": {},
   "outputs": [
    {
     "ename": "KeyError",
     "evalue": "(7053, 1000)",
     "output_type": "error",
     "traceback": [
      "\u001b[0;31m---------------------------------------------------------------------------\u001b[0m",
      "\u001b[0;31mKeyError\u001b[0m                                  Traceback (most recent call last)",
      "\u001b[0;32m<ipython-input-15-1bb721a217ff>\u001b[0m in \u001b[0;36m<module>\u001b[0;34m\u001b[0m\n\u001b[0;32m----> 1\u001b[0;31m \u001b[0mdataset\u001b[0m\u001b[0;34m.\u001b[0m\u001b[0mdicomData\u001b[0m\u001b[0;34m[\u001b[0m\u001b[0;36m0x70531000\u001b[0m\u001b[0;34m]\u001b[0m\u001b[0;34m.\u001b[0m\u001b[0mvalue\u001b[0m\u001b[0;34m\u001b[0m\u001b[0;34m\u001b[0m\u001b[0m\n\u001b[0m",
      "\u001b[0;32m~/.local/lib/python3.8/site-packages/pydicom/dataset.py\u001b[0m in \u001b[0;36m__getitem__\u001b[0;34m(self, key)\u001b[0m\n\u001b[1;32m    850\u001b[0m         \u001b[0;32melse\u001b[0m\u001b[0;34m:\u001b[0m\u001b[0;34m\u001b[0m\u001b[0;34m\u001b[0m\u001b[0m\n\u001b[1;32m    851\u001b[0m             \u001b[0mtag\u001b[0m \u001b[0;34m=\u001b[0m \u001b[0mTag\u001b[0m\u001b[0;34m(\u001b[0m\u001b[0mkey\u001b[0m\u001b[0;34m)\u001b[0m\u001b[0;34m\u001b[0m\u001b[0;34m\u001b[0m\u001b[0m\n\u001b[0;32m--> 852\u001b[0;31m         \u001b[0mdata_elem\u001b[0m \u001b[0;34m=\u001b[0m \u001b[0mself\u001b[0m\u001b[0;34m.\u001b[0m\u001b[0m_dict\u001b[0m\u001b[0;34m[\u001b[0m\u001b[0mtag\u001b[0m\u001b[0;34m]\u001b[0m\u001b[0;34m\u001b[0m\u001b[0;34m\u001b[0m\u001b[0m\n\u001b[0m\u001b[1;32m    853\u001b[0m \u001b[0;34m\u001b[0m\u001b[0m\n\u001b[1;32m    854\u001b[0m         \u001b[0;32mif\u001b[0m \u001b[0misinstance\u001b[0m\u001b[0;34m(\u001b[0m\u001b[0mdata_elem\u001b[0m\u001b[0;34m,\u001b[0m \u001b[0mDataElement\u001b[0m\u001b[0;34m)\u001b[0m\u001b[0;34m:\u001b[0m\u001b[0;34m\u001b[0m\u001b[0;34m\u001b[0m\u001b[0m\n",
      "\u001b[0;31mKeyError\u001b[0m: (7053, 1000)"
     ]
    }
   ],
   "source": [
    "dataset.dicomData[0x70531000].value"
   ]
  },
  {
   "cell_type": "code",
   "execution_count": null,
   "metadata": {},
   "outputs": [],
   "source": []
  },
  {
   "cell_type": "code",
   "execution_count": 8,
   "metadata": {},
   "outputs": [
    {
     "name": "stdout",
     "output_type": "stream",
     "text": "['GE MEDICAL SYSTEMS', 'Philips Medical Systems', 'Philips Medical Systems', 'Philips Medical Systems', 'Philips Medical Systems', 'Philips Medical Systems', 'Philips Medical Systems', 'Philips Medical Systems', 'Philips Medical Systems', 'Philips Medical Systems', 'GE MEDICAL SYSTEMS', 'SIEMENS', 'SIEMENS', 'SIEMENS', 'SIEMENS', 'SIEMENS', 'SIEMENS', 'SIEMENS', 'SIEMENS', 'SIEMENS', 'SIEMENS', 'SIEMENS', 'SIEMENS', 'SIEMENS', 'SIEMENS', 'SIEMENS', 'SIEMENS', 'SIEMENS', 'SIEMENS', 'SIEMENS', 'SIEMENS', 'SIEMENS', 'SIEMENS', 'GE MEDICAL SYSTEMS', 'GE MEDICAL SYSTEMS', 'GE MEDICAL SYSTEMS', 'GE MEDICAL SYSTEMS', 'GE MEDICAL SYSTEMS', 'GE MEDICAL SYSTEMS', 'CPS', 'CPS', 'CPS', 'CPS', 'CPS', 'CPS', 'CPS', 'CPS', 'CPS', 'CPS', 'CPS', 'CPS', 'CPS', 'Philips Medical Systems', 'Philips Medical Systems', 'Philips Medical Systems', 'Philips Medical Systems', 'Philips Medical Systems', 'Philips Medical Systems', 'Philips Medical Systems', 'Philips Medical Systems', 'Philips Medical Systems', 'Philips Medical Systems', 'SIEMENS', 'SIEMENS', 'SIEMENS', 'SIEMENS', 'SIEMENS', 'Philips Medical Systems', 'Philips Medical Systems', 'Philips Medical Systems', 'Philips Medical Systems', 'GE MEDICAL SYSTEMS', 'GE MEDICAL SYSTEMS', 'GE MEDICAL SYSTEMS', 'GE MEDICAL SYSTEMS', 'GE MEDICAL SYSTEMS', 'GE MEDICAL SYSTEMS', 'GE MEDICAL SYSTEMS', 'GE MEDICAL SYSTEMS', 'GE MEDICAL SYSTEMS', 'CPS', 'GE MEDICAL SYSTEMS', 'GE MEDICAL SYSTEMS', 'GE MEDICAL SYSTEMS', 'GE MEDICAL SYSTEMS', 'GE MEDICAL SYSTEMS', 'GE MEDICAL SYSTEMS', 'SIEMENS', 'Philips Medical Systems', 'Philips Medical Systems', 'Philips Medical Systems', 'Philips Medical Systems', 'Philips Medical Systems', 'Philips Medical Systems', 'Philips Medical Systems', 'Philips Medical Systems', 'Philips Medical Systems', 'Philips Medical Systems', 'Philips Medical Systems', 'Philips Medical Systems', 'GE MEDICAL SYSTEMS', 'Philips Medical Systems', 'Philips Medical Systems', 'GE MEDICAL SYSTEMS', 'Philips Medical Systems', 'Philips Medical Systems', 'Philips Medical Systems', 'Philips Medical Systems', 'GE MEDICAL SYSTEMS', 'Philips Medical Systems', 'Philips Medical Systems', 'Philips Medical Systems', 'Philips Medical Systems', 'Philips Medical Systems', 'Philips Medical Systems', 'Philips Medical Systems', 'Philips Medical Systems', 'Philips Medical Systems', 'Philips Medical Systems', 'GE MEDICAL SYSTEMS', 'Philips Medical Systems', 'GE MEDICAL SYSTEMS', 'GE MEDICAL SYSTEMS', 'SIEMENS', 'SIEMENS', 'GE MEDICAL SYSTEMS', 'SIEMENS', 'SIEMENS', 'SIEMENS', 'Philips Medical Systems', 'Philips Medical Systems', 'SIEMENS', 'GE MEDICAL SYSTEMS', 'GE MEDICAL SYSTEMS', 'Philips Medical Systems', 'GE MEDICAL SYSTEMS', 'Philips Medical Systems', 'Philips Medical Systems', 'SIEMENS', 'SIEMENS', 'GE MEDICAL SYSTEMS', 'SIEMENS', 'SIEMENS', 'Philips Medical Systems', 'Philips Medical Systems', 'Philips Medical Systems', 'Philips Medical Systems', 'SIEMENS', 'SIEMENS', 'SIEMENS', 'SIEMENS', 'Philips Medical Systems', 'Philips Medical Systems', 'SIEMENS', 'Philips Medical Systems', 'Philips Medical Systems', 'SIEMENS', 'SIEMENS', 'SIEMENS', 'SIEMENS', 'CPS', 'Philips Medical Systems', 'CPS', 'GE MEDICAL SYSTEMS', 'SIEMENS', 'SIEMENS', 'SIEMENS', 'SIEMENS', 'SIEMENS', 'SIEMENS', 'SIEMENS', 'Philips Medical Systems', 'Philips Medical Systems', 'SIEMENS', 'SIEMENS', 'SIEMENS', 'Philips Medical Systems', 'SIEMENS', 'SIEMENS', 'Philips Medical Systems', 'Philips Medical Systems', 'Philips Medical Systems', 'Philips Medical Systems', 'Philips Medical Systems', 'SIEMENS', 'Philips Medical Systems', 'Philips Medical Systems', 'Philips Medical Systems', 'Philips Medical Systems', 'Philips Medical Systems', 'Philips Medical Systems', 'Philips Medical Systems', 'Philips Medical Systems', 'Philips Medical Systems', 'Philips Medical Systems', 'Philips Medical Systems', 'Philips Medical Systems', 'Philips Medical Systems', 'Philips Medical Systems', 'Philips Medical Systems', 'Philips Medical Systems', 'Philips Medical Systems', 'Philips Medical Systems', 'Philips Medical Systems', 'Philips Medical Systems', 'Philips Medical Systems', 'Philips Medical Systems', 'Philips Medical Systems', 'CPS', 'CPS', 'GE MEDICAL SYSTEMS', 'SIEMENS', 'GE MEDICAL SYSTEMS', 'GE MEDICAL SYSTEMS', 'GE MEDICAL SYSTEMS', 'GE MEDICAL SYSTEMS', 'GE MEDICAL SYSTEMS', 'GE MEDICAL SYSTEMS', 'GE MEDICAL SYSTEMS', 'GE MEDICAL SYSTEMS', 'GE MEDICAL SYSTEMS', 'GE MEDICAL SYSTEMS', 'GE MEDICAL SYSTEMS', 'GE MEDICAL SYSTEMS', 'GE MEDICAL SYSTEMS', 'GE MEDICAL SYSTEMS', 'GE MEDICAL SYSTEMS', 'GE MEDICAL SYSTEMS', 'GE MEDICAL SYSTEMS', 'GE MEDICAL SYSTEMS', 'GE MEDICAL SYSTEMS', 'GE MEDICAL SYSTEMS', 'GE MEDICAL SYSTEMS', 'GE MEDICAL SYSTEMS', 'GE MEDICAL SYSTEMS', 'GE MEDICAL SYSTEMS', 'GE MEDICAL SYSTEMS', 'GE MEDICAL SYSTEMS', 'GE MEDICAL SYSTEMS', 'GE MEDICAL SYSTEMS', 'GE MEDICAL SYSTEMS', 'GE MEDICAL SYSTEMS', 'GE MEDICAL SYSTEMS', 'GE MEDICAL SYSTEMS', 'GE MEDICAL SYSTEMS', 'GE MEDICAL SYSTEMS', 'GE MEDICAL SYSTEMS', 'GE MEDICAL SYSTEMS', 'GE MEDICAL SYSTEMS', 'GE MEDICAL SYSTEMS', 'GE MEDICAL SYSTEMS', 'GE MEDICAL SYSTEMS', 'GE MEDICAL SYSTEMS', 'GE MEDICAL SYSTEMS', 'GE MEDICAL SYSTEMS', 'GE MEDICAL SYSTEMS', 'GE MEDICAL SYSTEMS', 'GE MEDICAL SYSTEMS', 'GE MEDICAL SYSTEMS', 'GE MEDICAL SYSTEMS', 'GE MEDICAL SYSTEMS', 'GE MEDICAL SYSTEMS', 'GE MEDICAL SYSTEMS', 'GE MEDICAL SYSTEMS', 'GE MEDICAL SYSTEMS', 'GE MEDICAL SYSTEMS', 'GE MEDICAL SYSTEMS', 'GE MEDICAL SYSTEMS', 'GE MEDICAL SYSTEMS', 'GE MEDICAL SYSTEMS', 'GE MEDICAL SYSTEMS', 'GE MEDICAL SYSTEMS', 'GE MEDICAL SYSTEMS', 'GE MEDICAL SYSTEMS', 'GE MEDICAL SYSTEMS', 'GE MEDICAL SYSTEMS', 'GE MEDICAL SYSTEMS', 'GE MEDICAL SYSTEMS', 'GE MEDICAL SYSTEMS', 'GE MEDICAL SYSTEMS', 'GE MEDICAL SYSTEMS', 'GE MEDICAL SYSTEMS', 'GE MEDICAL SYSTEMS', 'GE MEDICAL SYSTEMS', 'GE MEDICAL SYSTEMS', 'GE MEDICAL SYSTEMS', 'GE MEDICAL SYSTEMS', 'GE MEDICAL SYSTEMS', 'GE MEDICAL SYSTEMS', 'GE MEDICAL SYSTEMS', 'GE MEDICAL SYSTEMS', 'GE MEDICAL SYSTEMS', 'GE MEDICAL SYSTEMS', 'GE MEDICAL SYSTEMS', 'GE MEDICAL SYSTEMS', 'GE MEDICAL SYSTEMS', 'GE MEDICAL SYSTEMS', 'GE MEDICAL SYSTEMS', 'GE MEDICAL SYSTEMS', 'GE MEDICAL SYSTEMS', 'GE MEDICAL SYSTEMS', 'GE MEDICAL SYSTEMS', 'GE MEDICAL SYSTEMS', 'GE MEDICAL SYSTEMS', 'GE MEDICAL SYSTEMS', 'GE MEDICAL SYSTEMS', 'GE MEDICAL SYSTEMS', 'GE MEDICAL SYSTEMS', 'GE MEDICAL SYSTEMS', 'GE MEDICAL SYSTEMS', 'GE MEDICAL SYSTEMS', 'GE MEDICAL SYSTEMS', 'GE MEDICAL SYSTEMS', 'GE MEDICAL SYSTEMS', 'GE MEDICAL SYSTEMS', 'GE MEDICAL SYSTEMS', 'GE MEDICAL SYSTEMS', 'GE MEDICAL SYSTEMS', 'GE MEDICAL SYSTEMS', 'GE MEDICAL SYSTEMS', 'GE MEDICAL SYSTEMS', 'GE MEDICAL SYSTEMS', 'GE MEDICAL SYSTEMS', 'Philips Medical Systems', 'Philips Medical Systems', 'Philips Medical Systems', 'Philips Medical Systems', 'Philips Medical Systems', 'Philips Medical Systems', 'Philips Medical Systems', 'Philips Medical Systems', 'Philips Medical Systems', 'Philips Medical Systems', 'Philips Medical Systems', 'Philips Medical Systems', 'Philips Medical Systems', 'Philips Medical Systems', 'Philips Medical Systems', 'Philips Medical Systems', 'Philips Medical Systems', 'Philips Medical Systems', 'Philips Medical Systems', 'Philips Medical Systems', 'Philips Medical Systems', 'Philips Medical Systems', 'Philips Medical Systems', 'Philips Medical Systems', 'Philips Medical Systems', 'Philips Medical Systems', 'Philips Medical Systems', 'Philips Medical Systems', 'Philips Medical Systems', 'Philips Medical Systems', 'Philips Medical Systems', 'Philips Medical Systems', 'Philips Medical Systems', 'Philips Medical Systems', 'Philips Medical Systems', 'Philips Medical Systems', 'Philips Medical Systems', 'Philips Medical Systems', 'Philips Medical Systems', 'Philips Medical Systems', 'Philips Medical Systems', 'Philips Medical Systems', 'Philips Medical Systems', 'Philips Medical Systems', 'Philips Medical Systems', 'Philips Medical Systems', 'Philips Medical Systems', 'Philips Medical Systems', 'Philips Medical Systems', 'Philips Medical Systems', 'Philips Medical Systems', 'Philips Medical Systems', 'Philips Medical Systems', 'Philips Medical Systems', 'Philips Medical Systems', 'Philips Medical Systems', 'Philips Medical Systems', 'Philips Medical Systems', 'Philips Medical Systems', 'Philips Medical Systems', 'Philips Medical Systems', 'Philips Medical Systems', 'Philips Medical Systems', 'Philips Medical Systems', 'Philips Medical Systems', 'SIEMENS', 'SIEMENS', 'GE MEDICAL SYSTEMS', 'Philips Medical Systems', 'Philips Medical Systems', 'Philips Medical Systems', 'Philips Medical Systems', 'Philips Medical Systems', 'Philips Medical Systems', 'Philips Medical Systems', 'Philips Medical Systems', 'CPS', 'CPS', 'CPS', 'SIEMENS', 'CPS', 'SIEMENS', 'SIEMENS', 'SIEMENS', 'SIEMENS', 'SIEMENS', 'SIEMENS', 'SIEMENS', 'SIEMENS', 'SIEMENS', 'SIEMENS', 'SIEMENS', 'SIEMENS', 'SIEMENS', 'SIEMENS', 'Philips Medical Systems', 'Philips Medical Systems', 'Philips Medical Systems', 'Philips Medical Systems', 'Philips Medical Systems', 'Philips Medical Systems', 'Philips Medical Systems', 'GE MEDICAL SYSTEMS', 'GE MEDICAL SYSTEMS', 'GE MEDICAL SYSTEMS', 'GE MEDICAL SYSTEMS', 'SIEMENS', 'SIEMENS', 'SIEMENS', 'SIEMENS', 'SIEMENS', 'SIEMENS', 'SIEMENS', 'SIEMENS', 'SIEMENS', 'SIEMENS', 'SIEMENS', 'SIEMENS', 'SIEMENS', 'SIEMENS', 'SIEMENS', 'SIEMENS', 'SIEMENS', 'SIEMENS', 'SIEMENS', 'SIEMENS', 'SIEMENS', 'SIEMENS', 'SIEMENS', 'SIEMENS', 'SIEMENS', 'SIEMENS', 'SIEMENS', 'SIEMENS', 'SIEMENS', 'SIEMENS', 'SIEMENS', 'SIEMENS', 'SIEMENS', 'SIEMENS', 'SIEMENS', 'SIEMENS', 'SIEMENS', 'SIEMENS', 'SIEMENS', 'SIEMENS', 'SIEMENS', 'SIEMENS', 'SIEMENS', 'SIEMENS', 'SIEMENS', 'Philips Medical Systems', 'Philips Medical Systems', 'GE MEDICAL SYSTEMS', 'GE MEDICAL SYSTEMS', 'GE MEDICAL SYSTEMS', 'GE MEDICAL SYSTEMS', 'GE MEDICAL SYSTEMS', 'GE MEDICAL SYSTEMS', 'GE MEDICAL SYSTEMS', 'GE MEDICAL SYSTEMS', 'GE MEDICAL SYSTEMS', 'GE MEDICAL SYSTEMS', 'GE MEDICAL SYSTEMS', 'GE MEDICAL SYSTEMS', 'GE MEDICAL SYSTEMS', 'GE MEDICAL SYSTEMS', 'SIEMENS', 'SIEMENS', 'SIEMENS', 'SIEMENS', 'SIEMENS', 'Philips Medical Systems', 'Philips Medical Systems', 'Philips Medical Systems', 'Philips Medical Systems', 'CPS', 'CPS', 'CPS', 'SIEMENS', 'SIEMENS', 'SIEMENS', 'SIEMENS', 'CPS', 'SIEMENS', 'SIEMENS', 'SIEMENS', 'CPS', 'SIEMENS', 'SIEMENS', 'SIEMENS', 'SIEMENS', 'SIEMENS', 'SIEMENS', 'SIEMENS', 'SIEMENS', 'CPS', 'SIEMENS', 'SIEMENS', 'Philips Medical Systems', 'Philips Medical Systems', 'Philips Medical Systems', 'Philips Medical Systems', 'Philips Medical Systems', 'Philips Medical Systems', 'Philips Medical Systems', 'Philips Medical Systems', 'Philips Medical Systems', 'Philips Medical Systems', 'Philips Medical Systems', 'Philips Medical Systems', 'Philips Medical Systems', 'Philips Medical Systems', 'Philips Medical Systems', 'Philips Medical Systems', 'Philips Medical Systems', 'Philips Medical Systems', 'Philips Medical Systems', 'Philips Medical Systems', 'Philips Medical Systems', 'Philips Medical Systems', 'Philips Medical Systems', 'Philips Medical Systems', 'Philips Medical Systems', 'GE MEDICAL SYSTEMS', 'GE MEDICAL SYSTEMS', 'GE MEDICAL SYSTEMS', 'GE MEDICAL SYSTEMS', 'GE MEDICAL SYSTEMS', 'GE MEDICAL SYSTEMS', 'GE MEDICAL SYSTEMS', 'GE MEDICAL SYSTEMS', 'GE MEDICAL SYSTEMS', 'GE MEDICAL SYSTEMS', 'GE MEDICAL SYSTEMS', 'GE MEDICAL SYSTEMS', 'GE MEDICAL SYSTEMS', 'GE MEDICAL SYSTEMS', 'SIEMENS', 'SIEMENS', 'SIEMENS', 'SIEMENS', 'SIEMENS', 'SIEMENS', 'SIEMENS', 'SIEMENS', 'SIEMENS', 'SIEMENS', 'GE MEDICAL SYSTEMS', 'SIEMENS', 'SIEMENS', 'CPS', 'SIEMENS', 'SIEMENS', 'SIEMENS', 'SIEMENS', 'GE MEDICAL SYSTEMS', 'SIEMENS', 'GE MEDICAL SYSTEMS', 'GE MEDICAL SYSTEMS', 'GE MEDICAL SYSTEMS', 'GE MEDICAL SYSTEMS', 'GE MEDICAL SYSTEMS', 'SIEMENS', 'SIEMENS', 'SIEMENS', 'SIEMENS', 'SIEMENS', 'SIEMENS', 'SIEMENS', 'SIEMENS', 'SIEMENS', 'SIEMENS', 'SIEMENS', 'SIEMENS', 'SIEMENS', 'SIEMENS', 'SIEMENS', 'SIEMENS', 'SIEMENS', 'SIEMENS', 'SIEMENS', 'SIEMENS', 'SIEMENS', 'SIEMENS', 'SIEMENS', 'SIEMENS', 'SIEMENS', 'GE MEDICAL SYSTEMS']\n"
    }
   ],
   "source": [
    "list_manufacturer = []\n",
    "for serie in dataset : \n",
    "#serie CT / PT \n",
    "    for i in range(2):\n",
    "        #print(i)\n",
    "        #recupérer study IUD et CT PT dans le tri des données, dans le json \n",
    "        serie_object = Series(serie[i])\n",
    "        serie_data = serie_object.get_series_details()\n",
    "        modality = serie_data['series']['Modality'] #CT ou PT\n",
    "\n",
    "        if modality == 'PT' :\n",
    "            serie_pt = SeriesPT(serie[i])\n",
    "            list_manufacturer.append(serie_pt.get_series_details()['series']['Manufacturer'])\n",
    "\n",
    "print(list_manufacturer)"
   ]
  },
  {
   "cell_type": "code",
   "execution_count": null,
   "metadata": {},
   "outputs": [],
   "source": [
    "\n"
   ]
  },
  {
   "cell_type": "code",
   "execution_count": 16,
   "metadata": {},
   "outputs": [
    {
     "data": {
      "text/plain": "105"
     },
     "execution_count": 16,
     "metadata": {},
     "output_type": "execute_result"
    }
   ],
   "source": [
    "len([74.0, 1.25, 0.009999999999999787, 0.009999999999999787, 0.009999999999999787, 0.009999999999999787, 0.009999999999999787, 0.009999999999999787, 0.009999999999999787, 0.009999999999999787, 0.009999999999999787, 0.009999999999999787, 0.009999999999999787, 0.06000000000000005, 0.06000000000000005, 0.06000000000000005, 0.06000000000000005, 0.06000000000000005, 0.06000000000000005, 0.3999999999999999, 0.009999999999999787, 0.009999999999999787, 1.25, 1.25, 1.25, 1.25, 2.5, 0.009999999999999787, 0.009999999999999787, 0.009999999999999787, 0.009999999999999787, 0.009999999999999787, 0.009999999999999787, 0.009999999999999787, 0.009999999999999787, 0.009999999999999787, 0.7999999999999998, 1.0, 1.0, 1.0, 1.0, 1.0, 1.0, 1.25, 0.06000000000000005, 0.06000000000000005, 0.08000000000000007, 0.06000000000000005, 0.06000000000000005, 0.06000000000000005, 0.06000000000000005, 0.009999999999999787, 0.009999999999999787, 0.009999999999999787, 0.009999999999999787, 0.009999999999999787, 2.0, 0.009999999999999787, 2.0, 0.009999999999999787, 0.40000000000000036, 0.009999999999999787, 0.40000000000000036, 0.009999999999999787, 0.009999999999999787, 0.009999999999999787, 0.009999999999999787, 0.009999999999999787, 0.009999999999999787, 0.08000000000000007, 0.08000000000000007, 0.08000000000000007, 0.08000000000000007, 0.08000000000000007, 0.08000000000000007, 0.08000000000000007, 0.08000000000000007, 0.08000000000000007, 0.08000000000000007, 0.08000000000000007, 0.08000000000000007, 0.08000000000000007, 0.08000000000000007, 0.009999999999999787, 0.009999999999999787, 0.009999999999999787, 0.009999999999999787, 0.08000000000000007, 0.06000000000000005, 0.06000000000000005, 0.06000000000000005, 0.06000000000000005, 0.06000000000000005, 1.0, 0.009999999999999787, 0.009999999999999787, 0.009999999999999787, 0.009999999999999787, 0.009999999999999787, 0.009999999999999787, 0.009999999999999787, 0.009999999999999787, 0.009999999999999787, 0.009999999999999787, 0.009999999999999787])"
   ]
  }
 ]
}