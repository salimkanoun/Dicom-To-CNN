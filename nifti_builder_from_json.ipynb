{
 "cells": [
  {
   "cell_type": "code",
   "execution_count": 1,
   "metadata": {},
   "outputs": [],
   "source": [
    "import json\n",
    "import os\n",
    "from library_dicom.dicom_processor.model.Series import Series \n",
    "from library_dicom.dicom_processor.model.SeriesPT import SeriesPT\n",
    "from library_dicom.dicom_processor.model.SeriesCT import SeriesCT\n",
    "from library_dicom.dicom_processor.model.csv_reader.MaskBuilder import MaskBuilder\n",
    "\n",
    "from library_dicom.dicom_processor.tools.folders import *\n",
    "\n",
    "from library_dicom.dicom_processor.tools.create_mip import *\n",
    "from library_dicom.dicom_processor.tools.threshold_mask import *\n",
    "\n",
    "import numpy as np\n",
    "import SimpleITK as sitk"
   ]
  },
  {
   "cell_type": "code",
   "execution_count": 2,
   "metadata": {},
   "outputs": [],
   "source": [
    "#LIST FROM PARSE_FILTERED_DICOM_DATASET"
   ]
  },
  {
   "cell_type": "code",
   "execution_count": 2,
   "metadata": {},
   "outputs": [],
   "source": [
    "nifti_directory = '/media/salim/DD 2To/AHL2011_NIFTI'\n",
    "\n",
    "csv_directory = '/media/salim/DD 2To/AHL2011_CSV_DATA/AHL2011-CSV'"
   ]
  },
  {
   "cell_type": "code",
   "execution_count": 4,
   "metadata": {},
   "outputs": [],
   "source": [
    "json_path = '/media/salim/DD 2To/AHL2011_NIFTI/AHL2011_list_path_csv.json'"
   ]
  },
  {
   "cell_type": "code",
   "execution_count": 8,
   "metadata": {},
   "outputs": [],
   "source": [
    "data = []\n",
    "with open(json_path) as json_file : \n",
    "    reader = json.load(json_file)\n",
    "    for info in reader :\n",
    "        for path in reader[info] :\n",
    "            data.append(path)"
   ]
  },
  {
   "cell_type": "code",
   "execution_count": 9,
   "metadata": {},
   "outputs": [],
   "source": [
    "dataset = []\n",
    "for i in range(0,len(data),5):\n",
    "    subliste = []\n",
    "    subliste.append(data[i])\n",
    "    subliste.append(data[i+1])\n",
    "    subliste.append(data[i+2])\n",
    "    subliste.append(data[i+3])\n",
    "    subliste.append(data[i+4])\n",
    "    dataset.append(subliste)"
   ]
  },
  {
   "cell_type": "code",
   "execution_count": 10,
   "metadata": {},
   "outputs": [
    {
     "name": "stdout",
     "output_type": "stream",
     "text": "617\n"
    }
   ],
   "source": [
    "print(len(dataset))\n"
   ]
  },
  {
   "cell_type": "code",
   "execution_count": null,
   "metadata": {},
   "outputs": [],
   "source": [
    "#GENERE LA LISTE DES JSON AVEC UN UNCONSTANT SPACING, SAVE IT AS JSON "
   ]
  },
  {
   "cell_type": "code",
   "execution_count": null,
   "metadata": {},
   "outputs": [],
   "source": [
    "\n",
    "from library_dicom.dicom_processor.tools.folders import *\n",
    "liste_unconstant_z_spacing = []\n",
    "for liste in dataset : \n",
    "    print(dataset.index(liste))\n",
    "    for i in range(0,4,2) : \n",
    "        serie_objet = Series(liste[i])\n",
    "        serie_objet.get_numpy_array()\n",
    "        if serie_objet.get_z_spacing() == 'Unconstant Spacing' : \n",
    "            print(liste)\n",
    "            liste_unconstant_z_spacing.append(liste)\n",
    "            list_z_spacing = serie_objet.calculate_z_spacing()\n",
    "            print(list_z_spacing)\n",
    "            #liste_unconstant_z_spacing.append(list_z_spacing)\n",
    "\n",
    "\n",
    "#save it as json\n",
    "\n",
    "write_json_file('/media/salim/DD 2To/AHL2011_NIFTI', 'AHL2011_problem_unconstant_spacing', liste_unconstant_z_spacing)"
   ]
  },
  {
   "cell_type": "code",
   "execution_count": null,
   "metadata": {},
   "outputs": [],
   "source": [
    "from library_dicom.dicom_processor.tools.folders import *\n",
    "write_json_file('/media/salim/DD 2To/AHL2011_NIFTI', 'AHL2011_problem_unconstant_spacing', liste_unconstant_z_spacing)"
   ]
  },
  {
   "cell_type": "code",
   "execution_count": null,
   "metadata": {},
   "outputs": [],
   "source": [
    "#On enleve les series avec un unconstant spacing \n",
    "for serie in liste_unconstant_z_spacing : \n",
    "    dataset.remove(serie)"
   ]
  },
  {
   "cell_type": "code",
   "execution_count": null,
   "metadata": {},
   "outputs": [],
   "source": [
    "#SAVE AS JSON THE FINAL LIST WITHOUT UNCONSTANT SPACING ERROR"
   ]
  },
  {
   "cell_type": "code",
   "execution_count": null,
   "metadata": {},
   "outputs": [],
   "source": [
    "from library_dicom.dicom_processor.tools.folders import *\n",
    "write_json_file('/media/salim/DD 2To/AHL2011_NIFTI', 'AHL2011_final_list_dataset', dataset)\n"
   ]
  },
  {
   "cell_type": "code",
   "execution_count": null,
   "metadata": {},
   "outputs": [],
   "source": [
    "print(len(dataset)) #589\n"
   ]
  },
  {
   "cell_type": "code",
   "execution_count": 30,
   "metadata": {},
   "outputs": [
    {
     "name": "stdout",
     "output_type": "stream",
     "text": "589\n"
    }
   ],
   "source": [
    "#RECHARGEZ LE JSON AVEC LES SERIES \n",
    "json_path = '/media/salim/DD 2To/AHL2011_NIFTI/AHL2011_final_list_dataset.json'\n",
    "dataset = []\n",
    "with open(json_path) as json_file : \n",
    "    reader = json.load(json_file)\n",
    "    for info in reader :\n",
    "        dataset.append(info)\n",
    "\n",
    "print(len(dataset))"
   ]
  },
  {
   "cell_type": "code",
   "execution_count": null,
   "metadata": {},
   "outputs": [],
   "source": [
    "#IF MASK IS CORRECT => GENERATE NIFTI \n",
    "#IF PHILIPS, OR MASK FALSE => PUT SERIE IN A NEW LISTE "
   ]
  },
  {
   "cell_type": "code",
   "execution_count": null,
   "metadata": {},
   "outputs": [],
   "source": [
    "untreated_liste = []\n",
    "#CT et PT pas dans le même ordre suivant les séries \n",
    "#voir pour les ranger avant PT en premier puis CT \n",
    "#On traite meme les philips\n",
    "#On met les erreurs de coté\n",
    "#si erreur sur les ellipse on tolere\n",
    "#si erreur polygone alors faut checker\n",
    "\n",
    "\n",
    "\n",
    "#error = []\n",
    "\n",
    "\n",
    "for serie in dataset : \n",
    "    try : \n",
    "        print(serie)\n",
    "        print(dataset.index(serie))\n",
    "        if serie[1] == 'PT' : \n",
    "            serie_pt_objet = SeriesPT(serie[0])\n",
    "            manufacturer = serie_pt_objet.get_series_details()['series']['Manufacturer'] \n",
    "            if 'philips' in manufacturer.lower() :\n",
    "                untreated_liste.append(serie)\n",
    "            else : \n",
    "                nifti_array = serie_pt_objet.get_numpy_array()\n",
    "                study_uid = serie_pt_objet.get_series_details()['study']['StudyInstanceUID']\n",
    "                size_matrix = serie_pt_objet.get_size_matrix()\n",
    "                mask_objet = MaskBuilder(os.path.join(csv_directory, serie[4]), size_matrix)\n",
    "                mask_4D = mask_objet.mask_array\n",
    "                if mask_objet.is_correct_suv(nifti_array) == True : #si mask correct \n",
    "                    print(\"MASK CORRECT\")\n",
    "                    #generation nifti PT\n",
    "                    filename_pt = study_uid+'_'+'nifti_'+'PT'+'.nii'\n",
    "                    serie_pt_objet.export_nifti(os.path.join(nifti_directory, filename_pt))\n",
    "                    print(\"EXPORT NIFTI PT\")\n",
    "                    #generation nifti CT\n",
    "                    serie_ct_objet = SeriesCT(serie[2])\n",
    "                    serie_ct_objet.get_numpy_array()\n",
    "                    filename_ct = study_uid+'_'+'nifti_'+'CT'+'.nii'\n",
    "                    serie_ct_objet.export_nifti(os.path.join(nifti_directory, filename_ct))\n",
    "                    print(\"EXPORT NIFTI CT\")\n",
    "                    #generation nifti mask\n",
    "                    filename_mask = study_uid+'_'+'nifti_'+'mask'+'.nii'\n",
    "                    serie_pt_objet.export_nifti(os.path.join(nifti_directory, filename_mask), mask_4D)\n",
    "                    print(\"EXPORT NIFTI MASK\")\n",
    "                else : \n",
    "                    untreated_liste.append(serie)\n",
    "        else : \n",
    "            serie_pt_objet = SeriesPT(serie[2])\n",
    "            manufacturer = serie_pt_objet.get_series_details()['series']['Manufacturer'] \n",
    "            if 'philips' in manufacturer.lower() :\n",
    "                untreated_liste.append(serie)\n",
    "            else : \n",
    "                nifti_array = serie_pt_objet.get_numpy_array()\n",
    "                study_uid = serie_pt_objet.get_series_details()['study']['StudyInstanceUID']\n",
    "                size_matrix = serie_pt_objet.get_size_matrix()\n",
    "                mask_objet = MaskBuilder(os.path.join(csv_directory, serie[4]), size_matrix)\n",
    "                mask_4D = mask_objet.mask_array\n",
    "                if mask_objet.is_correct_suv(nifti_array) == True : #si mask correct \n",
    "                    print(\"MASK CORRECT\")\n",
    "                    #generation nifti PT\n",
    "                    filename_pt = study_uid+'_'+'nifti_'+'PT'+'.nii'\n",
    "                    serie_pt_objet.export_nifti(os.path.join(nifti_directory, filename_pt))\n",
    "                    print(\"EXPORT NIFTI PT\")\n",
    "                     #generation nifti CT\n",
    "                    serie_ct_objet = SeriesCT(serie[0])\n",
    "                    serie_ct_objet.get_numpy_array()\n",
    "                    filename_ct = study_uid+'_'+'nifti_'+'CT'+'.nii'\n",
    "                    serie_ct_objet.export_nifti(os.path.join(nifti_directory, filename_ct))\n",
    "                    print(\"EXPORT NIFTI CT\")\n",
    "                    #generation nifti mask\n",
    "                    filename_mask = study_uid+'_'+'nifti_'+'mask'+'.nii'\n",
    "                    serie_pt_objet.export_nifti(os.path.join(nifti_directory, filename_mask), mask_4D)\n",
    "                    print(\"EXPORT NIFTI MASK\")\n",
    "                else : \n",
    "                    untreated_liste.append(serie)\n",
    "                   \n",
    "\n",
    "\n",
    "    except Exception as err : \n",
    "        print(err)\n",
    "        #error.append(serie)\n",
    "\n",
    "        \n"
   ]
  },
  {
   "cell_type": "code",
   "execution_count": null,
   "metadata": {},
   "outputs": [],
   "source": [
    "len(untreated_liste) #392 "
   ]
  },
  {
   "cell_type": "code",
   "execution_count": null,
   "metadata": {},
   "outputs": [],
   "source": [
    "#SAVE THE SERIE WITH FALSE MASK \n",
    "#SAVE THE SERIE WITH ERROR\n",
    "from library_dicom.dicom_processor.tools.folders import *\n",
    "write_json_file('/media/salim/DD 2To/AHL2011_NIFTI', 'AHL2011_serie_with_false_mask', untreated_liste)\n",
    "print(len(untreated_liste))"
   ]
  },
  {
   "cell_type": "code",
   "execution_count": null,
   "metadata": {},
   "outputs": [],
   "source": []
  },
  {
   "cell_type": "code",
   "execution_count": null,
   "metadata": {},
   "outputs": [],
   "source": []
  },
  {
   "cell_type": "code",
   "execution_count": null,
   "metadata": {},
   "outputs": [],
   "source": [
    "#IMPORT SERIES WITH FALSE MASK,\n",
    "#CHECK FLIP AXE Z + SMALL ERROR ON ELLIPSE "
   ]
  },
  {
   "cell_type": "code",
   "execution_count": 13,
   "metadata": {},
   "outputs": [
    {
     "name": "stdout",
     "output_type": "stream",
     "text": "392\n"
    }
   ],
   "source": [
    "#importer la liste untreated_serie pour la suite : \n",
    "json_path = '/media/salim/DD 2To/AHL2011_NIFTI/AHL2011_serie_with_false_mask.json'\n",
    "untreated_liste = []\n",
    "with open(json_path) as json_file : \n",
    "    reader = json.load(json_file)\n",
    "    for info in reader :\n",
    "        untreated_liste.append(info)\n",
    "\n",
    "print(len(untreated_liste)) #392"
   ]
  },
  {
   "cell_type": "code",
   "execution_count": 14,
   "metadata": {},
   "outputs": [
    {
     "name": "stdout",
     "output_type": "stream",
     "text": "203\n189\n"
    }
   ],
   "source": [
    "#SEPARE LES SERIES PHILIPS DES AUTRES SERIES UNTREATED\n",
    "philips_serie = []\n",
    "untreated_liste_2 = []\n",
    "for serie in untreated_liste : \n",
    "    #print(untreated_liste.index(serie))\n",
    "    try : \n",
    "        if serie[1] == 'PT' : \n",
    "            serie_pt_objet = SeriesPT(serie[0]) \n",
    "            manufacturer = serie_pt_objet.get_series_details()['series']['Manufacturer'] \n",
    "            #si philips on retraitera plus tard \n",
    "            if 'philips' in manufacturer.lower() :\n",
    "                philips_serie.append(serie)\n",
    "            else : untreated_liste_2.append(serie)\n",
    "\n",
    "        else : \n",
    "            serie_pt_objet = SeriesPT(serie[2]) \n",
    "            manufacturer = serie_pt_objet.get_series_details()['series']['Manufacturer'] \n",
    "            #si philips on retraitera plus tard \n",
    "            if 'philips' in manufacturer.lower() :\n",
    "                philips_serie.append(serie)\n",
    "            else : untreated_liste_2.append(serie)\n",
    "\n",
    "    except Exception as err : \n",
    "        print(serie)\n",
    "        print(err)\n",
    "\n",
    "\n",
    "print(len(philips_serie))\n",
    "write_json_file('/media/salim/DD 2To/AHL2011_NIFTI', 'AHL2011_untreated_philips_serie', philips_serie)\n",
    "print(len(untreated_liste_2))\n",
    "write_json_file('/media/salim/DD 2To/AHL2011_NIFTI', 'AHL2011_untreated_serie', untreated_liste_2)"
   ]
  },
  {
   "cell_type": "code",
   "execution_count": null,
   "metadata": {},
   "outputs": [],
   "source": []
  },
  {
   "cell_type": "code",
   "execution_count": 3,
   "metadata": {},
   "outputs": [
    {
     "name": "stdout",
     "output_type": "stream",
     "text": "189\n"
    }
   ],
   "source": [
    "#IMPORT JSON (serie with false mask, except Philips)\n",
    "json_path = '/media/salim/DD 2To/AHL2011_NIFTI/AHL2011_untreated_serie.json'\n",
    "untreated_liste_2 = []\n",
    "with open(json_path) as json_file : \n",
    "    reader = json.load(json_file)\n",
    "    for info in reader :\n",
    "        untreated_liste_2.append(info)\n",
    "\n",
    "print(len(untreated_liste_2)) #189"
   ]
  },
  {
   "cell_type": "code",
   "execution_count": 4,
   "metadata": {},
   "outputs": [
    {
     "name": "stdout",
     "output_type": "stream",
     "text": "0\nSMALL ERRORS ON ELLIPSE, MASK CORRECT\nEXPORT NIFTI PT\nEXPORT NIFTI CT\nEXPORT NIFTI MASK\n1\nSMALL ERRORS ON ELLIPSE, MASK CORRECT\nEXPORT NIFTI PT\nEXPORT NIFTI CT\nEXPORT NIFTI MASK\n2\nSMALL ERRORS ON ELLIPSE, MASK CORRECT\nEXPORT NIFTI PT\nEXPORT NIFTI CT\nEXPORT NIFTI MASK\n3\nSMALL ERRORS ON ELLIPSE, MASK CORRECT\nEXPORT NIFTI PT\nEXPORT NIFTI CT\nEXPORT NIFTI MASK\n4\nPROBLEME SUV MAX POLYGON\n5\nSMALL ERRORS ON ELLIPSE, MASK CORRECT\nEXPORT NIFTI PT\nEXPORT NIFTI CT\nEXPORT NIFTI MASK\n6\nSMALL ERRORS ON ELLIPSE, MASK CORRECT\nEXPORT NIFTI PT\nEXPORT NIFTI CT\nEXPORT NIFTI MASK\n7\nSMALL ERRORS ON ELLIPSE, MASK CORRECT\nEXPORT NIFTI PT\nEXPORT NIFTI CT\nEXPORT NIFTI MASK\n8\nSMALL ERRORS ON ELLIPSE, MASK CORRECT\nEXPORT NIFTI PT\nEXPORT NIFTI CT\nEXPORT NIFTI MASK\n9\nSMALL ERRORS ON ELLIPSE, MASK CORRECT\nEXPORT NIFTI PT\nEXPORT NIFTI CT\nEXPORT NIFTI MASK\n10\nSMALL ERRORS ON ELLIPSE, MASK CORRECT\nEXPORT NIFTI PT\nEXPORT NIFTI CT\nEXPORT NIFTI MASK\n11\nSMALL ERRORS ON ELLIPSE, MASK CORRECT\nEXPORT NIFTI PT\nEXPORT NIFTI CT\nEXPORT NIFTI MASK\n12\nSMALL ERRORS ON ELLIPSE, MASK CORRECT\nEXPORT NIFTI PT\nEXPORT NIFTI CT\nEXPORT NIFTI MASK\n13\nPROBLEME SUV MAX POLYGON\n14\nPROBLEME SUV MAX POLYGON\n15\nPROBLEME SUV MAX POLYGON\n16\nPROBLEME SUV MAX POLYGON\n17\nPROBLEME SUV MAX POLYGON\n18\nSMALL ERRORS ON ELLIPSE, MASK CORRECT\nEXPORT NIFTI PT\nEXPORT NIFTI CT\nEXPORT NIFTI MASK\n19\nSMALL ERRORS ON ELLIPSE, MASK CORRECT\nEXPORT NIFTI PT\nEXPORT NIFTI CT\nEXPORT NIFTI MASK\n20\nSMALL ERRORS ON ELLIPSE, MASK CORRECT\nEXPORT NIFTI PT\nEXPORT NIFTI CT\nEXPORT NIFTI MASK\n21\nSMALL ERRORS ON ELLIPSE, MASK CORRECT\nEXPORT NIFTI PT\nEXPORT NIFTI CT\nEXPORT NIFTI MASK\n22\nPROBLEME SUV MAX POLYGON\n23\nSMALL ERRORS ON ELLIPSE, MASK CORRECT\nEXPORT NIFTI PT\nEXPORT NIFTI CT\nEXPORT NIFTI MASK\n24\nPROBLEME SUV MAX POLYGON\n25\nPROBLEME SUV MAX POLYGON\n26\nPROBLEME SUV MAX POLYGON\n27\nPROBLEME SUV MAX POLYGON\n28\nPROBLEME SUV MAX POLYGON\n29\nSMALL ERRORS ON ELLIPSE, MASK CORRECT\nEXPORT NIFTI PT\nEXPORT NIFTI CT\nEXPORT NIFTI MASK\n30\nSMALL ERRORS ON ELLIPSE, MASK CORRECT\nEXPORT NIFTI PT\nEXPORT NIFTI CT\nEXPORT NIFTI MASK\n31\nSMALL ERRORS ON ELLIPSE, MASK CORRECT\nEXPORT NIFTI PT\nEXPORT NIFTI CT\nEXPORT NIFTI MASK\n32\nSMALL ERRORS ON ELLIPSE, MASK CORRECT\nEXPORT NIFTI PT\nEXPORT NIFTI CT\nEXPORT NIFTI MASK\n33\nPROBLEME SUV MAX POLYGON\n34\nPROBLEME SUV MAX POLYGON\n35\nSMALL ERRORS ON ELLIPSE, MASK CORRECT\nEXPORT NIFTI PT\nEXPORT NIFTI CT\nEXPORT NIFTI MASK\n36\nSMALL ERRORS ON ELLIPSE, MASK CORRECT\nEXPORT NIFTI PT\nEXPORT NIFTI CT\nEXPORT NIFTI MASK\n37\nSMALL ERRORS ON ELLIPSE, MASK CORRECT\nEXPORT NIFTI PT\nEXPORT NIFTI CT\nEXPORT NIFTI MASK\n38\nPROBLEME SUV MAX POLYGON\n39\nPROBLEME SUV MAX POLYGON\n40\nPROBLEME SUV MAX POLYGON\n41\nPROBLEME SUV MAX POLYGON\n42\nPROBLEME SUV MAX POLYGON\n43\nPROBLEME SUV MAX POLYGON\n44\nPROBLEME SUV MAX POLYGON\n45\nSMALL ERRORS ON ELLIPSE, MASK CORRECT\nEXPORT NIFTI PT\nEXPORT NIFTI CT\nEXPORT NIFTI MASK\n46\nSMALL ERRORS ON ELLIPSE, MASK CORRECT\nEXPORT NIFTI PT\nEXPORT NIFTI CT\nEXPORT NIFTI MASK\n47\nSMALL ERRORS ON ELLIPSE, MASK CORRECT\nEXPORT NIFTI PT\nEXPORT NIFTI CT\nEXPORT NIFTI MASK\n48\nPROBLEME SUV MAX POLYGON\n49\nPROBLEME SUV MAX POLYGON\n50\nPROBLEME SUV MAX POLYGON\n51\nSMALL ERRORS ON ELLIPSE, MASK CORRECT\nEXPORT NIFTI PT\nEXPORT NIFTI CT\nEXPORT NIFTI MASK\n52\nSMALL ERRORS ON ELLIPSE, MASK CORRECT\nEXPORT NIFTI PT\nEXPORT NIFTI CT\nEXPORT NIFTI MASK\n53\nPROBLEME SUV MAX POLYGON\n54\nSMALL ERRORS ON ELLIPSE, MASK CORRECT\nEXPORT NIFTI PT\nEXPORT NIFTI CT\nEXPORT NIFTI MASK\n55\nPROBLEME SUV MAX POLYGON\n56\nPROBLEME SUV MAX POLYGON\n57\nSMALL ERRORS ON ELLIPSE, MASK CORRECT\nEXPORT NIFTI PT\nEXPORT NIFTI CT\nEXPORT NIFTI MASK\n58\nSMALL ERRORS ON ELLIPSE, MASK CORRECT\nEXPORT NIFTI PT\nEXPORT NIFTI CT\nEXPORT NIFTI MASK\n59\nSMALL ERRORS ON ELLIPSE, MASK CORRECT\nEXPORT NIFTI PT\nEXPORT NIFTI CT\nEXPORT NIFTI MASK\n60\nSMALL ERRORS ON ELLIPSE, MASK CORRECT\nEXPORT NIFTI PT\nEXPORT NIFTI CT\nEXPORT NIFTI MASK\n61\nPROBLEME SUV MAX POLYGON\n62\nPROBLEME SUV MAX POLYGON\n63\nPROBLEME SUV MAX POLYGON\n64\nSMALL ERRORS ON ELLIPSE, MASK CORRECT\nEXPORT NIFTI PT\nEXPORT NIFTI CT\nEXPORT NIFTI MASK\n65\nSMALL ERRORS ON ELLIPSE, MASK CORRECT\nEXPORT NIFTI PT\nEXPORT NIFTI CT\nEXPORT NIFTI MASK\n66\nPROBLEME SUV MAX POLYGON\n67\nSMALL ERRORS ON ELLIPSE, MASK CORRECT\nEXPORT NIFTI PT\nEXPORT NIFTI CT\nEXPORT NIFTI MASK\n68\nSMALL ERRORS ON ELLIPSE, MASK CORRECT\nEXPORT NIFTI PT\nEXPORT NIFTI CT\nEXPORT NIFTI MASK\n69\nSMALL ERRORS ON ELLIPSE, MASK CORRECT\nEXPORT NIFTI PT\nEXPORT NIFTI CT\nEXPORT NIFTI MASK\n70\nSMALL ERRORS ON ELLIPSE, MASK CORRECT\nEXPORT NIFTI PT\nEXPORT NIFTI CT\nEXPORT NIFTI MASK\n71\nPROBLEME SUV MAX POLYGON\n72\nSMALL ERRORS ON ELLIPSE, MASK CORRECT\nEXPORT NIFTI PT\nEXPORT NIFTI CT\nEXPORT NIFTI MASK\n73\nSMALL ERRORS ON ELLIPSE, MASK CORRECT\nEXPORT NIFTI PT\nEXPORT NIFTI CT\nEXPORT NIFTI MASK\n74\nPROBLEME SUV MAX POLYGON\n75\nPROBLEME SUV MAX POLYGON\n76\nPROBLEME SUV MAX POLYGON\n77\nPROBLEME SUV MAX POLYGON\n78\nPROBLEME SUV MAX POLYGON\n79\nPROBLEME SUV MAX POLYGON\n80\nPROBLEME SUV MAX POLYGON\n81\nPROBLEME SUV MAX POLYGON\n82\nPROBLEME SUV MAX POLYGON\n83\nPROBLEME SUV MAX POLYGON\n84\nPROBLEME SUV MAX POLYGON\n85\nPROBLEME SUV MAX POLYGON\n86\nPROBLEME SUV MAX POLYGON\n87\nPROBLEME SUV MAX POLYGON\n88\nSMALL ERRORS ON ELLIPSE, MASK CORRECT\nEXPORT NIFTI PT\nEXPORT NIFTI CT\nEXPORT NIFTI MASK\n89\nPROBLEME SUV MAX POLYGON\n90\nPROBLEME SUV MAX POLYGON\n91\nPROBLEME SUV MAX POLYGON\n92\nPROBLEME SUV MAX POLYGON\n93\nPROBLEME SUV MAX POLYGON\n94\nPROBLEME SUV MAX POLYGON\n95\nSMALL ERRORS ON ELLIPSE, MASK CORRECT\nEXPORT NIFTI PT\nEXPORT NIFTI CT\nEXPORT NIFTI MASK\n96\nSMALL ERRORS ON ELLIPSE, MASK CORRECT\nEXPORT NIFTI PT\nEXPORT NIFTI CT\nEXPORT NIFTI MASK\n97\nSMALL ERRORS ON ELLIPSE, MASK CORRECT\nEXPORT NIFTI PT\nEXPORT NIFTI CT\nEXPORT NIFTI MASK\n98\nSMALL ERRORS ON ELLIPSE, MASK CORRECT\nEXPORT NIFTI PT\nEXPORT NIFTI CT\nEXPORT NIFTI MASK\n99\nSMALL ERRORS ON ELLIPSE, MASK CORRECT\nEXPORT NIFTI PT\nEXPORT NIFTI CT\nEXPORT NIFTI MASK\n100\nPROBLEME SUV MAX POLYGON\n101\nPROBLEME SUV MEAN ET SD POLYGONE\necart mean [16, 'POLYGON', 0.25]\necart sd [3, 'POLYGON', 0.16999999999999993, 16, 'POLYGON', 0.15999999999999998]\n102\nSMALL ERRORS ON ELLIPSE, MASK CORRECT\nEXPORT NIFTI PT\nEXPORT NIFTI CT\nEXPORT NIFTI MASK\n103\nSMALL ERRORS ON ELLIPSE, MASK CORRECT\nEXPORT NIFTI PT\nEXPORT NIFTI CT\nEXPORT NIFTI MASK\n104\nSMALL ERRORS ON ELLIPSE, MASK CORRECT\nEXPORT NIFTI PT\nEXPORT NIFTI CT\nEXPORT NIFTI MASK\n105\nSMALL ERRORS ON ELLIPSE, MASK CORRECT\nEXPORT NIFTI PT\nEXPORT NIFTI CT\nEXPORT NIFTI MASK\n106\nSMALL ERRORS ON ELLIPSE, MASK CORRECT\nEXPORT NIFTI PT\nEXPORT NIFTI CT\nEXPORT NIFTI MASK\n107\nPROBLEME SUV MAX POLYGON\n108\nPROBLEME SUV MAX POLYGON\n109\nPROBLEME SUV MAX POLYGON\n110\nSMALL ERRORS ON ELLIPSE, MASK CORRECT\nEXPORT NIFTI PT\nEXPORT NIFTI CT\nEXPORT NIFTI MASK\n111\nSMALL ERRORS ON ELLIPSE, MASK CORRECT\nEXPORT NIFTI PT\nEXPORT NIFTI CT\nEXPORT NIFTI MASK\n112\nSMALL ERRORS ON ELLIPSE, MASK CORRECT\nEXPORT NIFTI PT\nEXPORT NIFTI CT\nEXPORT NIFTI MASK\n113\nSMALL ERRORS ON ELLIPSE, MASK CORRECT\nEXPORT NIFTI PT\nEXPORT NIFTI CT\nEXPORT NIFTI MASK\n114\nSMALL ERRORS ON ELLIPSE, MASK CORRECT\nEXPORT NIFTI PT\nEXPORT NIFTI CT\nEXPORT NIFTI MASK\n115\nPROBLEME SUV MAX POLYGON\n116\nSMALL ERRORS ON ELLIPSE, MASK CORRECT\nEXPORT NIFTI PT\nEXPORT NIFTI CT\nEXPORT NIFTI MASK\n117\nSMALL ERRORS ON ELLIPSE, MASK CORRECT\nEXPORT NIFTI PT\nEXPORT NIFTI CT\nEXPORT NIFTI MASK\n118\nSMALL ERRORS ON ELLIPSE, MASK CORRECT\nEXPORT NIFTI PT\nEXPORT NIFTI CT\nEXPORT NIFTI MASK\n119\nSMALL ERRORS ON ELLIPSE, MASK CORRECT\nEXPORT NIFTI PT\nEXPORT NIFTI CT\nEXPORT NIFTI MASK\n120\nSMALL ERRORS ON ELLIPSE, MASK CORRECT\nEXPORT NIFTI PT\nEXPORT NIFTI CT\nEXPORT NIFTI MASK\n121\nPROBLEME SUV MAX POLYGON\n122\nSMALL ERRORS ON ELLIPSE, MASK CORRECT\nEXPORT NIFTI PT\nEXPORT NIFTI CT\nEXPORT NIFTI MASK\n123\nPROBLEME SUV MAX POLYGON\n124\nSMALL ERRORS ON ELLIPSE, MASK CORRECT\nEXPORT NIFTI PT\nEXPORT NIFTI CT\nEXPORT NIFTI MASK\n125\nSMALL ERRORS ON ELLIPSE, MASK CORRECT\nEXPORT NIFTI PT\nEXPORT NIFTI CT\nEXPORT NIFTI MASK\n126\nPROBLEME SUV MAX POLYGON\n127\nPROBLEME SUV MAX POLYGON\n128\nSMALL ERRORS ON ELLIPSE, MASK CORRECT\nEXPORT NIFTI PT\nEXPORT NIFTI CT\nEXPORT NIFTI MASK\n129\nSMALL ERRORS ON ELLIPSE, MASK CORRECT\nEXPORT NIFTI PT\nEXPORT NIFTI CT\nEXPORT NIFTI MASK\n130\nSMALL ERRORS ON ELLIPSE, MASK CORRECT\nEXPORT NIFTI PT\nEXPORT NIFTI CT\nEXPORT NIFTI MASK\n131\nPROBLEME SUV MAX POLYGON\n132\nPROBLEME SUV MAX POLYGON\n133\nPROBLEME SUV MAX POLYGON\n134\nPROBLEME SUV MAX POLYGON\n135\nPROBLEME SUV MAX POLYGON\n136\nPROBLEME SUV MAX POLYGON\n137\nPROBLEME SUV MEAN ET SD POLYGONE\necart mean [22, 'POLYGON', 0.2400000000000002]\necart sd [22, 'POLYGON', 0.1299999999999999]\n138\nSMALL ERRORS ON ELLIPSE, MASK CORRECT\nEXPORT NIFTI PT\nEXPORT NIFTI CT\nEXPORT NIFTI MASK\n139\nSMALL ERRORS ON ELLIPSE, MASK CORRECT\nEXPORT NIFTI PT\nEXPORT NIFTI CT\nEXPORT NIFTI MASK\n140\nPROBLEME SUV MAX POLYGON\n141\nPROBLEME SUV MAX POLYGON\n142\nSMALL ERRORS ON ELLIPSE, MASK CORRECT\nEXPORT NIFTI PT\nEXPORT NIFTI CT\nEXPORT NIFTI MASK\n143\nSMALL ERRORS ON ELLIPSE, MASK CORRECT\nEXPORT NIFTI PT\nEXPORT NIFTI CT\nEXPORT NIFTI MASK\n144\nSMALL ERRORS ON ELLIPSE, MASK CORRECT\nEXPORT NIFTI PT\nEXPORT NIFTI CT\nEXPORT NIFTI MASK\n145\nPROBLEME SUV MAX POLYGON\n146\nSMALL ERRORS ON ELLIPSE, MASK CORRECT\nEXPORT NIFTI PT\nEXPORT NIFTI CT\nEXPORT NIFTI MASK\n147\nSMALL ERRORS ON ELLIPSE, MASK CORRECT\nEXPORT NIFTI PT\nEXPORT NIFTI CT\nEXPORT NIFTI MASK\n148\nSMALL ERRORS ON ELLIPSE, MASK CORRECT\nEXPORT NIFTI PT\nEXPORT NIFTI CT\nEXPORT NIFTI MASK\n149\nSMALL ERRORS ON ELLIPSE, MASK CORRECT\nEXPORT NIFTI PT\nEXPORT NIFTI CT\nEXPORT NIFTI MASK\n150\nSMALL ERRORS ON ELLIPSE, MASK CORRECT\nEXPORT NIFTI PT\nEXPORT NIFTI CT\nEXPORT NIFTI MASK\n151\nPROBLEME SUV MAX POLYGON\n152\nSMALL ERRORS ON ELLIPSE, MASK CORRECT\nEXPORT NIFTI PT\nEXPORT NIFTI CT\nEXPORT NIFTI MASK\n153\nSMALL ERRORS ON ELLIPSE, MASK CORRECT\nEXPORT NIFTI PT\nEXPORT NIFTI CT\nEXPORT NIFTI MASK\n154\nSMALL ERRORS ON ELLIPSE, MASK CORRECT\nEXPORT NIFTI PT\nEXPORT NIFTI CT\nEXPORT NIFTI MASK\n155\nSMALL ERRORS ON ELLIPSE, MASK CORRECT\nEXPORT NIFTI PT\nEXPORT NIFTI CT\nEXPORT NIFTI MASK\n156\nSMALL ERRORS ON ELLIPSE, MASK CORRECT\nEXPORT NIFTI PT\nEXPORT NIFTI CT\nEXPORT NIFTI MASK\n157\nSMALL ERRORS ON ELLIPSE, MASK CORRECT\nEXPORT NIFTI PT\nEXPORT NIFTI CT\nEXPORT NIFTI MASK\n158\nSMALL ERRORS ON ELLIPSE, MASK CORRECT\nEXPORT NIFTI PT\nEXPORT NIFTI CT\nEXPORT NIFTI MASK\n159\nPROBLEME SUV MEAN ET SD POLYGONE\necart mean [4, 'ELLIPSE', 0.10000000000000053, 9, 'POLYGON', 0.46999999999999886]\necart sd [9, 'POLYGON', 0.18000000000000016]\n160\nSMALL ERRORS ON ELLIPSE, MASK CORRECT\nEXPORT NIFTI PT\nEXPORT NIFTI CT\nEXPORT NIFTI MASK\n161\nPROBLEME SUV MAX POLYGON\n162\nPROBLEME SUV MAX POLYGON\n163\nPROBLEME SUV MAX POLYGON\n164\nPROBLEME SUV MAX POLYGON\n165\nPROBLEME SUV MAX POLYGON\n166\nSMALL ERRORS ON ELLIPSE, MASK CORRECT\nEXPORT NIFTI PT\nEXPORT NIFTI CT\nEXPORT NIFTI MASK\n167\nSMALL ERRORS ON ELLIPSE, MASK CORRECT\nEXPORT NIFTI PT\nEXPORT NIFTI CT\nEXPORT NIFTI MASK\n168\nSMALL ERRORS ON ELLIPSE, MASK CORRECT\nEXPORT NIFTI PT\nEXPORT NIFTI CT\nEXPORT NIFTI MASK\n169\nSMALL ERRORS ON ELLIPSE, MASK CORRECT\nEXPORT NIFTI PT\nEXPORT NIFTI CT\nEXPORT NIFTI MASK\n170\nPROBLEME SUV MAX POLYGON\n171\nPROBLEME SUV MAX POLYGON\n172\nSMALL ERRORS ON ELLIPSE, MASK CORRECT\nEXPORT NIFTI PT\nEXPORT NIFTI CT\nEXPORT NIFTI MASK\n173\nPROBLEME SUV MAX POLYGON\n174\nPROBLEME SUV MAX POLYGON\n175\nPROBLEME SUV MAX POLYGON\n176\nPROBLEME SUV MAX POLYGON\n177\nPROBLEME SUV MAX POLYGON\n178\nPROBLEME SUV MAX POLYGON\n179\nPROBLEME SUV MAX POLYGON\n180\nPROBLEME SUV MAX POLYGON\n181\nPROBLEME SUV MAX POLYGON\n182\nPROBLEME SUV MAX POLYGON\n183\nPROBLEME SUV MAX POLYGON\n184\nSMALL ERRORS ON ELLIPSE, MASK CORRECT\nEXPORT NIFTI PT\nEXPORT NIFTI CT\nEXPORT NIFTI MASK\n185\nSMALL ERRORS ON ELLIPSE, MASK CORRECT\nEXPORT NIFTI PT\nEXPORT NIFTI CT\nEXPORT NIFTI MASK\n186\nSMALL ERRORS ON ELLIPSE, MASK CORRECT\nEXPORT NIFTI PT\nEXPORT NIFTI CT\nEXPORT NIFTI MASK\n187\nSMALL ERRORS ON ELLIPSE, MASK CORRECT\nEXPORT NIFTI PT\nEXPORT NIFTI CT\nEXPORT NIFTI MASK\n188\nSMALL ERRORS ON ELLIPSE, MASK CORRECT\nEXPORT NIFTI PT\nEXPORT NIFTI CT\nEXPORT NIFTI MASK\n"
    }
   ],
   "source": [
    "#SUR LES LISTES NON PHILIPS, ON REGARDE\n",
    "#SI ERREUR SUR SUV MAX MEAN SD SEULEMENT SUR DES ELLIPSES, SI OUI => GENERER NIFTI \n",
    "\n",
    "erreur_polygone_max = []\n",
    "erreur_polygone_mean_sd = []\n",
    "for serie in untreated_liste_2 : \n",
    "    print(untreated_liste_2.index(serie))\n",
    "    try : \n",
    "        if serie[1] == 'PT' : \n",
    "            serie_pt_objet = SeriesPT(serie[0]) \n",
    "            nifti_array = serie_pt_objet.get_numpy_array()\n",
    "            study_uid = serie_pt_objet.get_series_details()['study']['StudyInstanceUID']\n",
    "            size_matrix = serie_pt_objet.get_size_matrix()\n",
    "            mask_objet = MaskBuilder(os.path.join(csv_directory, serie[4]), size_matrix)\n",
    "            mask_4D = mask_objet.mask_array\n",
    "\n",
    "            if 'POLYGON' in mask_objet.ecart_suv_max(nifti_array) :\n",
    "                print(\"PROBLEME SUV MAX POLYGON\")\n",
    "                erreur_polygone_max.append(serie)\n",
    "            \n",
    "            else : \n",
    "\n",
    "                result_mean = mask_objet.ecart_suv_mean(nifti_array)\n",
    "                result_sd = mask_objet.ecart_SD(nifti_array)\n",
    "                if (('POLYGON' in result_mean) and ('POLYGON' in result_sd)) : \n",
    "                    print(\"PROBLEME SUV MEAN ET SD POLYGONE\")\n",
    "                    print(\"ecart mean\", result_mean)\n",
    "                    print(\"ecart sd\", result_sd)\n",
    "                    erreur_polygone_mean_sd.append(serie)\n",
    "\n",
    "                else : \n",
    "                    #si erreur sur les sd et mean QUE sur les ellipses, on tolère \n",
    "                    print(\"SMALL ERRORS ON ELLIPSE, MASK CORRECT\")\n",
    "                    #generation nifti PT\n",
    "                    filename_pt = study_uid+'_'+'nifti_'+'PT'+'.nii'\n",
    "                    serie_pt_objet.export_nifti(os.path.join(nifti_directory, filename_pt))\n",
    "                    print(\"EXPORT NIFTI PT\")\n",
    "                    #generation nifti CT\n",
    "                    serie_ct_objet = SeriesCT(serie[2])\n",
    "                    serie_ct_objet.get_numpy_array()\n",
    "                    filename_ct = study_uid+'_'+'nifti_'+'CT'+'.nii'\n",
    "                    serie_ct_objet.export_nifti(os.path.join(nifti_directory, filename_ct))\n",
    "                    print(\"EXPORT NIFTI CT\")\n",
    "                    #generation nifti mask\n",
    "                    filename_mask = study_uid+'_'+'nifti_'+'mask'+'.nii'\n",
    "                    serie_pt_objet.export_nifti(os.path.join(nifti_directory, filename_mask), mask_4D)\n",
    "                    print(\"EXPORT NIFTI MASK\")\n",
    "\n",
    "\n",
    "        else : \n",
    "            serie_pt_objet = SeriesPT(serie[2]) \n",
    "            nifti_array = serie_pt_objet.get_numpy_array()\n",
    "            study_uid = serie_pt_objet.get_series_details()['study']['StudyInstanceUID']\n",
    "            size_matrix = serie_pt_objet.get_size_matrix()\n",
    "            mask_objet = MaskBuilder(os.path.join(csv_directory, serie[4]), size_matrix)\n",
    "            mask_4D = mask_objet.mask_array\n",
    "\n",
    "            if 'POLYGON' in mask_objet.ecart_suv_max(nifti_array)  :\n",
    "                print(\"PROBLEME SUV MAX POLYGON\")\n",
    "                erreur_polygone_max.append(serie)\n",
    "            else : \n",
    "\n",
    "                result_mean = mask_objet.ecart_suv_mean(nifti_array)\n",
    "                result_sd = mask_objet.ecart_SD(nifti_array)\n",
    "                if (('POLYGON' in result_mean) and ('POLYGON' in result_sd)) : \n",
    "                    print(\"PROBLEME SUV MEAN ET SD POLYGONE\")\n",
    "                    print(\"ecart mean\", result_mean)\n",
    "                    print(\"ecart sd\", result_sd)\n",
    "                    erreur_polygone_mean_sd.append(serie)\n",
    "\n",
    "                else : \n",
    "                    #si erreur sur les sd et mean QUE sur les ellipses, on tolère \n",
    "                    print(\"SMALL ERRORS ON ELLIPSE, MASK CORRECT\")\n",
    "                    #generation nifti PT\n",
    "                    filename_pt = study_uid+'_'+'nifti_'+'PT'+'.nii'\n",
    "                    serie_pt_objet.export_nifti(os.path.join(nifti_directory, filename_pt))\n",
    "                    print(\"EXPORT NIFTI PT\")\n",
    "                    #generation nifti CT\n",
    "                    serie_ct_objet = SeriesCT(serie[0])\n",
    "                    serie_ct_objet.get_numpy_array()\n",
    "                    filename_ct = study_uid+'_'+'nifti_'+'CT'+'.nii'\n",
    "                    serie_ct_objet.export_nifti(os.path.join(nifti_directory, filename_ct))\n",
    "                    print(\"EXPORT NIFTI CT\")\n",
    "                    #generation nifti mask\n",
    "                    filename_mask = study_uid+'_'+'nifti_'+'mask'+'.nii'\n",
    "                    serie_pt_objet.export_nifti(os.path.join(nifti_directory, filename_mask), mask_4D)\n",
    "                    print(\"EXPORT NIFTI MASK\")\n",
    "\n",
    "\n",
    "    except Exception as err : \n",
    "        print(serie)\n",
    "        print(err)"
   ]
  },
  {
   "cell_type": "code",
   "execution_count": 5,
   "metadata": {},
   "outputs": [
    {
     "name": "stdout",
     "output_type": "stream",
     "text": "89\n3\n"
    }
   ],
   "source": [
    "print(len(erreur_polygone_max))\n",
    "print(len(erreur_polygone_mean_sd))"
   ]
  },
  {
   "cell_type": "code",
   "execution_count": 6,
   "metadata": {},
   "outputs": [],
   "source": [
    "#save as json the list of serie which have a mask problem \n",
    "write_json_file('/media/salim/DD 2To/AHL2011_NIFTI', 'AHL2011_serie_error_polygone_max', erreur_polygone_max)\n",
    "write_json_file('/media/salim/DD 2To/AHL2011_NIFTI', 'AHL2011_serie_error_polygone_mean_sd', erreur_polygone_mean_sd)"
   ]
  },
  {
   "cell_type": "code",
   "execution_count": null,
   "metadata": {},
   "outputs": [],
   "source": []
  },
  {
   "cell_type": "code",
   "execution_count": null,
   "metadata": {},
   "outputs": [],
   "source": []
  },
  {
   "cell_type": "code",
   "execution_count": null,
   "metadata": {},
   "outputs": [],
   "source": [
    "#CHECKER LE FLIP : AUCUNE SERIE GENERER AVEC LE FLIP "
   ]
  },
  {
   "cell_type": "code",
   "execution_count": 19,
   "metadata": {},
   "outputs": [
    {
     "name": "stdout",
     "output_type": "stream",
     "text": "0\n1\n2\n3\n4\n5\n6\n7\n8\n9\n10\n11\n12\n13\n14\n15\n16\n17\n18\n19\n20\n21\n22\n23\n24\n25\n26\n27\n28\n29\n30\n31\n32\n33\n34\n35\n36\n37\n38\n39\n40\n41\n42\n43\n44\n45\n46\n47\n48\n49\n50\n51\n52\n53\n54\n55\n56\n57\n58\n59\n60\n61\n62\n63\n64\n65\n66\n67\n68\n69\n70\n71\n72\n73\n74\n75\n76\n77\n78\n79\n80\n81\n82\n83\n84\n85\n86\n87\n88\n89\n90\n91\n92\n93\n94\n95\n96\n97\n98\n99\n100\n101\n102\n103\n104\n105\n106\n107\n108\n109\n110\n111\n112\n113\n114\n115\n116\n117\n118\n119\n120\n121\n122\n123\n124\n125\n126\n127\n128\n129\n130\n131\n132\n133\n134\n135\n136\n137\n138\n139\n140\n141\n142\n143\n144\n145\n146\n147\n148\n149\n150\n151\n152\n153\n154\n155\n156\n"
    }
   ],
   "source": [
    "#ON FLIP LE MASK ET ON REGARDE SI LES CALCLS SUV MAX MEAN SD SONT BONS\n",
    "#SI OUI => GENERE NIFTI \n",
    "\n",
    "serie_with_flip = []\n",
    "for serie in serie_error_mask: \n",
    "    print(serie_error_mask.index(serie))\n",
    "    try : \n",
    "        if serie[1] == 'PT' : \n",
    "            serie_pt_objet = SeriesPT(serie[0]) \n",
    "            nifti_array = serie_pt_objet.get_numpy_array()\n",
    "            study_uid = serie_pt_objet.get_series_details()['study']['StudyInstanceUID']\n",
    "            size_matrix = serie_pt_objet.get_size_matrix()\n",
    "            mask_objet = MaskBuilder(os.path.join(csv_directory, serie[4]), size_matrix)\n",
    "            mask_4D = mask_objet.mask_array\n",
    "            if (mask_objet.is_correct_suv(nifti_array, flip = True) == True) : #si mask correct APRES LE FLIP \n",
    "                print(\"MASK CORRECT APRES FLIP\")\n",
    "                #generation nifti PT\n",
    "                filename_pt = study_uid+'_'+'nifti_'+'PT'+'.nii'\n",
    "                serie_pt_objet.export_nifti(os.path.join(nifti_directory, filename_pt))\n",
    "                print(\"EXPORT NIFTI PT\")\n",
    "                #generation nifti CT\n",
    "                serie_ct_objet = SeriesCT(serie[2])\n",
    "                serie_ct_objet.get_numpy_array()\n",
    "                filename_ct = study_uid+'_'+'nifti_'+'CT'+'.nii'\n",
    "                serie_ct_objet.export_nifti(os.path.join(nifti_directory, filename_ct))\n",
    "                print(\"EXPORT NIFTI CT\")\n",
    "                #generation nifti mask\n",
    "                mask_objet.flip_z(mask_4D)\n",
    "                mask_4D_flip = mask_objet.mask_array\n",
    "                filename_mask = study_uid+'_'+'nifti_'+'mask'+'.nii'\n",
    "                serie_pt_objet.export_nifti(os.path.join(nifti_directory, filename_mask), mask_4D_flip)\n",
    "                print(\"EXPORT NIFTI MASK\")\n",
    "                serie_with_flip.append(serie)\n",
    "\n",
    "        else : \n",
    "            serie_pt_objet = SeriesPT(serie[2]) \n",
    "            nifti_array = serie_pt_objet.get_numpy_array()\n",
    "            study_uid = serie_pt_objet.get_series_details()['study']['StudyInstanceUID']\n",
    "            size_matrix = serie_pt_objet.get_size_matrix()\n",
    "            mask_objet = MaskBuilder(os.path.join(csv_directory, serie[4]), size_matrix)\n",
    "            mask_4D = mask_objet.mask_array\n",
    "            if (mask_objet.is_correct_suv(nifti_array, flip = True) == True) : #si mask correct APRES LE FLIP \n",
    "                print(\"MASK CORRECT APRES FLIP\")\n",
    "                #generation nifti PT\n",
    "                filename_pt = study_uid+'_'+'nifti_'+'PT'+'.nii'\n",
    "                serie_pt_objet.export_nifti(os.path.join(nifti_directory, filename_pt))\n",
    "                print(\"EXPORT NIFTI PT\")\n",
    "                #generation nifti CT\n",
    "                serie_ct_objet = SeriesCT(serie[0])\n",
    "                serie_ct_objet.get_numpy_array()\n",
    "                filename_ct = study_uid+'_'+'nifti_'+'CT'+'.nii'\n",
    "                serie_ct_objet.export_nifti(os.path.join(nifti_directory, filename_ct))\n",
    "                print(\"EXPORT NIFTI CT\")\n",
    "                #generation nifti mask\n",
    "                mask_objet.flip_z(mask_4D)\n",
    "                mask_4D_flip = mask_objet.mask_array\n",
    "                filename_mask = study_uid+'_'+'nifti_'+'mask'+'.nii'\n",
    "                serie_pt_objet.export_nifti(os.path.join(nifti_directory, filename_mask), mask_4D_flip)\n",
    "                print(\"EXPORT NIFTI MASK\")\n",
    "                serie_with_flip.append(serie)\n",
    "\n",
    "\n",
    "\n",
    "    except Exception as err : \n",
    "        print(serie)\n",
    "        print(err)"
   ]
  },
  {
   "cell_type": "code",
   "execution_count": 20,
   "metadata": {},
   "outputs": [],
   "source": [
    "#APRES FLIP, REGARDER SI SMALL ERRORS SUR ELLIPSE\n",
    "#SI PAS DE PROBLEMES SUR LES POLYGONES ON PEUT GENERER LE NIFTI "
   ]
  },
  {
   "cell_type": "code",
   "execution_count": 4,
   "metadata": {},
   "outputs": [
    {
     "name": "stdout",
     "output_type": "stream",
     "text": "0\nPROBLEME SUV MAX\n1\nPROBLEME SUV MAX\n2\nPROBLEME SUV MAX\n3\nPROBLEME SUV MAX\n4\nPROBLEME SUV MAX\n5\nPROBLEME SUV MAX\n6\nPROBLEME SUV MAX\n7\nPROBLEME SUV MAX\n8\nPROBLEME SUV MAX\n9\nPROBLEME SUV MAX\n10\nPROBLEME SUV MAX\n11\nPROBLEME SUV MAX\n12\nPROBLEME SUV MAX\n13\nPROBLEME SUV MAX\n14\nPROBLEME SUV MAX\n15\nPROBLEME SUV MAX\n16\nPROBLEME SUV MAX\n17\nPROBLEME SUV MAX\n18\nPROBLEME SUV MAX\n19\nPROBLEME SUV MAX\n20\nPROBLEME SUV MAX\n21\nPROBLEME SUV MAX\n22\nPROBLEME SUV MAX\n23\nPROBLEME SUV MAX\n24\nPROBLEME SUV MAX\n25\nPROBLEME SUV MAX\n26\nPROBLEME SUV MAX\n27\nPROBLEME SUV MAX\n28\nPROBLEME SUV MAX\n29\nPROBLEME SUV MAX\n30\nPROBLEME SUV MAX\n31\nPROBLEME SUV MAX\n32\nPROBLEME SUV MAX\n33\nPROBLEME SUV MAX\n34\nPROBLEME SUV MAX\n35\nPROBLEME SUV MAX\n36\nPROBLEME SUV MAX\n37\nPROBLEME SUV MAX\n38\nPROBLEME SUV MAX\n39\nPROBLEME SUV MAX\n40\nPROBLEME SUV MAX\n41\nPROBLEME SUV MAX\n42\nPROBLEME SUV MAX\n43\nPROBLEME SUV MAX\n44\nPROBLEME SUV MAX\n45\nPROBLEME SUV MAX\n46\nPROBLEME SUV MAX\n47\nPROBLEME SUV MAX\n48\nPROBLEME SUV MAX\n49\nPROBLEME SUV MAX\n50\nPROBLEME SUV MAX\n51\nPROBLEME SUV MAX\n52\nPROBLEME SUV MAX\n53\nPROBLEME SUV MAX\n54\nPROBLEME SUV MAX\n55\nPROBLEME SUV MAX\n56\nPROBLEME SUV MAX\n57\nPROBLEME SUV MAX\n58\nPROBLEME SUV MAX\n59\nPROBLEME SUV MAX\n60\nPROBLEME SUV MAX\n61\nPROBLEME SUV MAX\n62\nPROBLEME SUV MAX\n63\nPROBLEME SUV MAX\n64\nPROBLEME SUV MAX\n65\nPROBLEME SUV MAX\n66\nPROBLEME SUV MAX\n67\nPROBLEME SUV MAX\n68\nPROBLEME SUV MAX\n69\nPROBLEME SUV MAX\n70\nPROBLEME SUV MAX\n71\nPROBLEME SUV MAX\n72\nPROBLEME SUV MAX\n73\nPROBLEME SUV MAX\n74\nPROBLEME SUV MAX\n75\nPROBLEME SUV MAX\n76\nPROBLEME SUV MAX\n77\nPROBLEME SUV MAX\n78\nPROBLEME SUV MAX\n79\nPROBLEME SUV MAX\n80\nPROBLEME SUV MAX\n81\nPROBLEME SUV MAX\n82\nPROBLEME SUV MAX\n83\nPROBLEME SUV MAX\n84\nPROBLEME SUV MAX\n85\nPROBLEME SUV MAX\n86\nPROBLEME SUV MAX\n87\nPROBLEME SUV MAX\n88\nPROBLEME SUV MAX\n89\nPROBLEME SUV MAX\n90\nPROBLEME SUV MAX\n91\nPROBLEME SUV MAX\n92\nPROBLEME SUV MAX\n93\nPROBLEME SUV MAX\n94\nPROBLEME SUV MAX\n95\nPROBLEME SUV MAX\n96\nPROBLEME SUV MAX\n97\nPROBLEME SUV MAX\n98\nPROBLEME SUV MAX\n99\nPROBLEME SUV MAX\n100\nPROBLEME SUV MAX\n101\nPROBLEME SUV MAX\n102\nPROBLEME SUV MAX\n103\nPROBLEME SUV MAX\n104\nPROBLEME SUV MAX\n105\nPROBLEME SUV MAX\n106\nPROBLEME SUV MAX\n107\nPROBLEME SUV MAX\n108\nPROBLEME SUV MAX\n109\nPROBLEME SUV MAX\n110\nPROBLEME SUV MAX\n111\nPROBLEME SUV MAX\n112\nPROBLEME SUV MAX\n113\nPROBLEME SUV MAX\n114\nPROBLEME SUV MAX\n115\nPROBLEME SUV MAX\n116\nPROBLEME SUV MAX\n117\nPROBLEME SUV MAX\n118\nPROBLEME SUV MAX\n119\nPROBLEME SUV MAX\n120\nPROBLEME SUV MAX\n121\nPROBLEME SUV MAX\n122\nPROBLEME SUV MAX\n123\nPROBLEME SUV MAX\n124\nPROBLEME SUV MAX\n125\nPROBLEME SUV MAX\n126\nPROBLEME SUV MAX\n127\nPROBLEME SUV MAX\n128\nPROBLEME SUV MAX\n129\nPROBLEME SUV MAX\n130\nPROBLEME SUV MAX\n131\nPROBLEME SUV MAX\n132\nPROBLEME SUV MAX\n133\nPROBLEME SUV MAX\n134\nPROBLEME SUV MAX\n135\nPROBLEME SUV MAX\n136\nPROBLEME SUV MAX\n137\nPROBLEME SUV MAX\n138\nPROBLEME SUV MAX\n139\nPROBLEME SUV MAX\n140\nPROBLEME SUV MAX\n141\nPROBLEME SUV MAX\n142\nPROBLEME SUV MAX\n143\nPROBLEME SUV MAX\n144\nPROBLEME SUV MAX\n145\nPROBLEME SUV MAX\n146\nPROBLEME SUV MAX\n147\nPROBLEME SUV MAX\n148\nPROBLEME SUV MAX\n149\nPROBLEME SUV MAX\n150\nPROBLEME SUV MAX\n151\nPROBLEME SUV MAX\n152\nPROBLEME SUV MAX\n153\nPROBLEME SUV MAX\n154\nPROBLEME SUV MAX\n155\nPROBLEME SUV MAX\n156\nPROBLEME SUV MAX\n"
    }
   ],
   "source": [
    "#MASK AVEC FLIP FAUX : \n",
    "serie_problem = []\n",
    "\n",
    "for serie in serie_error_mask: \n",
    "    print(serie_error_mask.index(serie))\n",
    "    try : \n",
    "        if serie[1] == 'PT' : \n",
    "            serie_pt_objet = SeriesPT(serie[0]) \n",
    "            nifti_array = serie_pt_objet.get_numpy_array()\n",
    "            study_uid = serie_pt_objet.get_series_details()['study']['StudyInstanceUID']\n",
    "            size_matrix = serie_pt_objet.get_size_matrix()\n",
    "            mask_objet = MaskBuilder(os.path.join(csv_directory, serie[4]), size_matrix)\n",
    "            mask_4D = mask_objet.mask_array\n",
    "            if 'POLYGON' in mask_objet.ecart_suv_max(nifti_array, flip = True) :\n",
    "                print(\"PROBLEME SUV MAX POLYGON\")\n",
    "                serie_problem.append(serie)\n",
    "            else : \n",
    "                result_mean = mask_objet.ecart_suv_mean(nifti_array, flip = True)\n",
    "                result_sd = mask_objet.ecart_SD(nifti_array, flip = True)\n",
    "                if (('POLYGON' not in result_mean) and ('POLYGON' not in result_sd)) : \n",
    "                    #si erreur sur les sd et mean QUE sur les ellipses, on tolère \n",
    "                    print(\"SMALL ERRORS ON ELLIPSE AFTER FLIP, MASK CORRECT\")\n",
    "                    #generation nifti PT\n",
    "                    filename_pt = study_uid+'_'+'nifti_'+'PT'+'.nii'\n",
    "                    serie_pt_objet.export_nifti(os.path.join(nifti_directory, filename_pt))\n",
    "                    print(\"EXPORT NIFTI PT\")\n",
    "                    #generation nifti CT\n",
    "                    serie_ct_objet = SeriesCT(serie[2])\n",
    "                    serie_ct_objet.get_numpy_array()\n",
    "                    filename_ct = study_uid+'_'+'nifti_'+'CT'+'.nii'\n",
    "                    serie_ct_objet.export_nifti(os.path.join(nifti_directory, filename_ct))\n",
    "                    print(\"EXPORT NIFTI CT\")\n",
    "                    #generation nifti mask\n",
    "                    mask_objet.flip_z(mask_4D)\n",
    "                    mask_4D_flip = mask_objet.mask_array\n",
    "                    filename_mask = study_uid+'_'+'nifti_'+'mask'+'.nii'\n",
    "                    serie_pt_objet.export_nifti(os.path.join(nifti_directory, filename_mask), mask_4D_flip)\n",
    "                    print(\"EXPORT NIFTI MASK\")\n",
    "                else : #sinon problème sur lles polygones\n",
    "                    serie_problem.append(serie)\n",
    "\n",
    "\n",
    "\n",
    "\n",
    "\n",
    "        else : \n",
    "            serie_pt_objet = SeriesPT(serie[2]) \n",
    "            nifti_array = serie_pt_objet.get_numpy_array()\n",
    "            study_uid = serie_pt_objet.get_series_details()['study']['StudyInstanceUID']\n",
    "            size_matrix = serie_pt_objet.get_size_matrix()\n",
    "            mask_objet = MaskBuilder(os.path.join(csv_directory, serie[4]), size_matrix)\n",
    "            mask_4D = mask_objet.mask_array\n",
    "            if 'POLYGON' in mask_objet.ecart_suv_max(nifti_array, flip = True) :\n",
    "                print(\"PROBLEME SUV MAX POLYGONE\")\n",
    "                serie_problem.append(serie)\n",
    "            else : \n",
    "                result_mean = mask_objet.ecart_suv_mean(nifti_array, flip = True)\n",
    "                result_sd = mask_objet.ecart_SD(nifti_array, flip = True)\n",
    "                if (('POLYGON' not in result_mean) and ('POLYGON' not in result_sd)) : \n",
    "                    #si erreur sur les sd et mean QUE sur les ellipses, on tolère \n",
    "                    print(\"SMALL ERRORS ON ELLIPSE AFTER FLIP, MASK CORRECT\")\n",
    "                    #generation nifti PT\n",
    "                    filename_pt = study_uid+'_'+'nifti_'+'PT'+'.nii'\n",
    "                    serie_pt_objet.export_nifti(os.path.join(nifti_directory, filename_pt))\n",
    "                    print(\"EXPORT NIFTI PT\")\n",
    "                    #generation nifti CT\n",
    "                    serie_ct_objet = SeriesCT(serie[0])\n",
    "                    serie_ct_objet.get_numpy_array()\n",
    "                    filename_ct = study_uid+'_'+'nifti_'+'CT'+'.nii'\n",
    "                    serie_ct_objet.export_nifti(os.path.join(nifti_directory, filename_ct))\n",
    "                    print(\"EXPORT NIFTI CT\")\n",
    "                    #generation nifti mask\n",
    "                    mask_objet.flip_z(mask_4D)\n",
    "                    mask_4D_flip = mask_objet.mask_array\n",
    "                    filename_mask = study_uid+'_'+'nifti_'+'mask'+'.nii'\n",
    "                    serie_pt_objet.export_nifti(os.path.join(nifti_directory, filename_mask), mask_4D_flip)\n",
    "                    print(\"EXPORT NIFTI MASK\")\n",
    "                else : #sinon problème sur les polygones\n",
    "                    serie_problem.append(serie)\n",
    "            \n",
    "\n",
    "    except Exception as err : \n",
    "        print(serie)\n",
    "        print(err)"
   ]
  },
  {
   "cell_type": "code",
   "execution_count": null,
   "metadata": {},
   "outputs": [],
   "source": [
    "#GENERER MIP DES MASK FAUX"
   ]
  },
  {
   "cell_type": "code",
   "execution_count": 6,
   "metadata": {},
   "outputs": [
    {
     "name": "stdout",
     "output_type": "stream",
     "text": "95\n"
    }
   ],
   "source": [
    "#SERIE WITH ERROR SUV MAX POLYGONE\n",
    "json_path = '/media/salim/DD 2To/AHL2011_MIP/AHL2011_false_mask.json'\n",
    "false_mask = []\n",
    "with open(json_path) as json_file : \n",
    "    reader = json.load(json_file)\n",
    "    for info in reader :\n",
    "        false_mask.append(info)\n",
    "\n",
    "print(len(false_mask))"
   ]
  },
  {
   "cell_type": "code",
   "execution_count": null,
   "metadata": {},
   "outputs": [],
   "source": [
    "#RAJOUTER METHODE POUR SEUIL DES MASKS\n",
    "#1 RECUPERER LIST POINTS APRES LE MASK (METTRE EN PARAMETRE LA LISTE DES POINTS DANS MA FONCTION)\n",
    "# ET RECUPERER LE SEUIL\n",
    "# 2 REGARDER DANS LE NIFTI A CES POINTS SI LA VALEUR DU SUV DEPASSE LE SEUIL*NP MAX OU SEUIL\n",
    "# 3 SI VALEUR PLUS PETITE QUE LE SEUIL, ON MET 0 DANS LE MASK AUX COORDONNEES DE LA ROI\n",
    "#RETURN 4D MASK SEUILLE"
   ]
  },
  {
   "cell_type": "code",
   "execution_count": 7,
   "metadata": {},
   "outputs": [
    {
     "name": "stdout",
     "output_type": "stream",
     "text": "0\ntaille mask :  (128, 128, 313, 10)\n1\ntaille mask :  (128, 128, 275, 16)\n2\ntaille mask :  (128, 128, 275, 5)\n3\ntaille mask :  (128, 128, 275, 30)\n4\ntaille mask :  (128, 128, 275, 20)\n5\ntaille mask :  (128, 128, 287, 46)\n6\ntaille mask :  (128, 128, 287, 15)\n7\ntaille mask :  (168, 168, 405, 70)\n8\ntaille mask :  (168, 168, 479, 38)\n9\ntaille mask :  (200, 200, 481, 21)\n10\ntaille mask :  (168, 168, 390, 6)\n11\ntaille mask :  (200, 200, 481, 19)\n12\ntaille mask :  (200, 200, 481, 5)\n13\ntaille mask :  (192, 192, 299, 12)\n14\ntaille mask :  (256, 256, 335, 13)\n15\ntaille mask :  (256, 256, 299, 13)\n16\ntaille mask :  (256, 256, 299, 27)\n17\ntaille mask :  (256, 256, 299, 8)\n18\ntaille mask :  (256, 256, 335, 16)\n19\ntaille mask :  (256, 256, 335, 10)\n20\ntaille mask :  (192, 192, 299, 8)\n21\ntaille mask :  (256, 256, 299, 20)\n22\ntaille mask :  (256, 256, 299, 18)\n23\ntaille mask :  (256, 256, 335, 13)\n24\ntaille mask :  (256, 256, 299, 24)\n25\ntaille mask :  (256, 256, 299, 11)\n26\ntaille mask :  (256, 256, 299, 7)\n27\ntaille mask :  (256, 256, 335, 18)\n28\ntaille mask :  (256, 256, 299, 23)\n29\ntaille mask :  (256, 256, 335, 18)\n30\ntaille mask :  (256, 256, 299, 19)\n31\ntaille mask :  (128, 128, 287, 22)\n32\ntaille mask :  (128, 128, 327, 3)\n33\ntaille mask :  (128, 128, 327, 22)\n34\ntaille mask :  (128, 128, 327, 17)\n"
    }
   ],
   "source": [
    "#GENERATE PDF WITH MIP ANGLE 0 OF PET AND MASK FOR EVERY SERIE\n",
    "\n",
    "from library_dicom.dicom_processor.tools.create_mip import *\n",
    "from library_dicom.dicom_processor.tools.threshold_mask import *\n",
    "mip_directory = '/media/salim/DD 2To/AHL2011_MIP'\n",
    "\n",
    "\n",
    "\n",
    "path_mip = []\n",
    "for serie in false_mask : \n",
    "    index = false_mask.index(serie)\n",
    "    print(index)\n",
    "    subliste = []\n",
    "    if serie[1] =='PT' :\n",
    "        serie_pt_objet = SeriesPT(serie[0])\n",
    "        study_uid = serie_pt_objet.get_series_details()['study']['StudyInstanceUID']\n",
    "        nifti_array = serie_pt_objet.get_numpy_array()\n",
    "        angle_filename = mip_projection(nifti_array, 0, mip_directory, study_uid, borne_max = 5.0)             #mip.png PET\n",
    "        subliste.append(angle_filename)\n",
    "\n",
    "        size_matrix = serie_pt_objet.get_size_matrix()\n",
    "        mask_objet = MaskBuilder(os.path.join(csv_directory, serie[4]), size_matrix)\n",
    "        mask_4D = mask_objet.mask_array\n",
    "        number_roi = mask_4D.shape[3]\n",
    "        threshold = mask_objet.details_rois['SUVlo']\n",
    "        #seuillage\n",
    "        mask_4D = threshold_mask(mask_4D, mask_objet.details_rois, nifti_array,  flip = False)\n",
    "        angle_filename_mask = mip_projection_4D(mask_4D, 0, mip_directory, study_uid, number_roi, borne_max = 5.0)\n",
    "        #mip.png MASK\n",
    "        subliste.append(angle_filename_mask)\n",
    "\n",
    "        path_mip.append(subliste)\n",
    "\n",
    "\n",
    "    else : \n",
    "        serie_pt_objet = SeriesPT(serie[2])\n",
    "        study_uid = serie_pt_objet.get_series_details()['study']['StudyInstanceUID']\n",
    "        nifti_array = serie_pt_objet.get_numpy_array()\n",
    "        angle_filename = mip_projection(nifti_array, 0, mip_directory, study_uid, borne_max = 5.0) \n",
    "        #mip.png PET\n",
    "        subliste.append(angle_filename)\n",
    "        size_matrix = serie_pt_objet.get_size_matrix()\n",
    "        mask_objet = MaskBuilder(os.path.join(csv_directory, serie[4]), size_matrix)\n",
    "        mask_4D = mask_objet.mask_array\n",
    "        number_roi = mask_4D.shape[3]\n",
    "        threshold = mask_objet.details_rois['SUVlo']\n",
    "        #seuillage\n",
    "        mask_4D = threshold_mask(mask_4D, mask_objet.details_rois, nifti_array, flip = False)\n",
    "        angle_filename_mask = mip_projection_4D(mask_4D, 0, mip_directory, study_uid, number_roi, borne_max = 5.0)\n",
    "        #mip.png MASK\n",
    "        subliste.append(angle_filename_mask)\n",
    "\n",
    "        path_mip.append(subliste)\n",
    "\n"
   ]
  },
  {
   "cell_type": "code",
   "execution_count": 9,
   "metadata": {},
   "outputs": [
    {
     "name": "stdout",
     "output_type": "stream",
     "text": "148\n"
    }
   ],
   "source": [
    "print(len(path_mip))\n",
    "write_json_file('/media/salim/DD 2To/AHL2011_MIP', 'AHL2011_list_mip', path_mip)"
   ]
  },
  {
   "cell_type": "code",
   "execution_count": 4,
   "metadata": {},
   "outputs": [],
   "source": [
    "#create pdf \n",
    "\n",
    "mip_directory = '/media/salim/DD 2To/AHL2011_MIP'\n",
    "filename = os.path.join(mip_directory, 'list_mip.pdf')\n",
    "create_pdf_mip(path_mip, filename)"
   ]
  },
  {
   "cell_type": "code",
   "execution_count": null,
   "metadata": {},
   "outputs": [],
   "source": [
    "#GENERER MIP DES SERIES AVEC ERREURS SUR SUV MEAN  SD \n"
   ]
  },
  {
   "cell_type": "code",
   "execution_count": 3,
   "metadata": {},
   "outputs": [
    {
     "name": "stdout",
     "output_type": "stream",
     "text": "3\n"
    }
   ],
   "source": [
    "json_path = '/media/salim/DD 2To/AHL2011_NIFTI/AHL2011_serie_error_polygone_mean_sd.json'\n",
    "error_mean = []\n",
    "with open(json_path) as json_file : \n",
    "    reader = json.load(json_file)\n",
    "    for info in reader :\n",
    "        error_mean.append(info)\n",
    "\n",
    "print(len(error_mean))"
   ]
  },
  {
   "cell_type": "code",
   "execution_count": 4,
   "metadata": {},
   "outputs": [
    {
     "name": "stdout",
     "output_type": "stream",
     "text": "0\ntaille mask :  (200, 200, 294, 16)\n1\ntaille mask :  (128, 128, 299, 29)\n2\ntaille mask :  (128, 128, 404, 23)\n"
    }
   ],
   "source": [
    "mip_directory = '/media/salim/DD 2To/AHL2011_MIP'\n",
    "\n",
    "\n",
    "\n",
    "path_mip = []\n",
    "for serie in error_mean : \n",
    "    index = error_mean.index(serie)\n",
    "    print(index)\n",
    "    subliste = []\n",
    "    if serie[1] =='PT' :\n",
    "        serie_pt_objet = SeriesPT(serie[0])\n",
    "        study_uid = serie_pt_objet.get_series_details()['study']['StudyInstanceUID']\n",
    "        nifti_array = serie_pt_objet.get_numpy_array()\n",
    "        angle_filename = mip_projection(nifti_array, 0, mip_directory, study_uid, borne_max = 5.0)             #mip.png PET\n",
    "        subliste.append(angle_filename)\n",
    "\n",
    "        size_matrix = serie_pt_objet.get_size_matrix()\n",
    "        mask_objet = MaskBuilder(os.path.join(csv_directory, serie[4]), size_matrix)\n",
    "        mask_4D = mask_objet.mask_array\n",
    "        number_roi = mask_4D.shape[3]\n",
    "        threshold = mask_objet.details_rois['SUVlo']\n",
    "        #seuillage\n",
    "        mask_4D = threshold_mask(mask_4D, mask_objet.details_rois, nifti_array,  flip = False)\n",
    "        angle_filename_mask = mip_projection_4D(mask_4D, 0, mip_directory, study_uid, number_roi, borne_max = 5.0)\n",
    "        #mip.png MASK\n",
    "        subliste.append(angle_filename_mask)\n",
    "\n",
    "        path_mip.append(subliste)\n",
    "\n",
    "\n",
    "    else : \n",
    "        serie_pt_objet = SeriesPT(serie[2])\n",
    "        study_uid = serie_pt_objet.get_series_details()['study']['StudyInstanceUID']\n",
    "        nifti_array = serie_pt_objet.get_numpy_array()\n",
    "        angle_filename = mip_projection(nifti_array, 0, mip_directory, study_uid, borne_max = 5.0) \n",
    "        #mip.png PET\n",
    "        subliste.append(angle_filename)\n",
    "        size_matrix = serie_pt_objet.get_size_matrix()\n",
    "        mask_objet = MaskBuilder(os.path.join(csv_directory, serie[4]), size_matrix)\n",
    "        mask_4D = mask_objet.mask_array\n",
    "        number_roi = mask_4D.shape[3]\n",
    "        threshold = mask_objet.details_rois['SUVlo']\n",
    "        #seuillage\n",
    "        mask_4D = threshold_mask(mask_4D, mask_objet.details_rois, nifti_array, flip = False)\n",
    "        angle_filename_mask = mip_projection_4D(mask_4D, 0, mip_directory, study_uid, number_roi, borne_max = 5.0)\n",
    "        #mip.png MASK\n",
    "        subliste.append(angle_filename_mask)\n",
    "\n",
    "        path_mip.append(subliste)\n"
   ]
  },
  {
   "cell_type": "code",
   "execution_count": 5,
   "metadata": {},
   "outputs": [
    {
     "name": "stdout",
     "output_type": "stream",
     "text": "3\n"
    }
   ],
   "source": [
    "print(len(path_mip))\n",
    "write_json_file('/media/salim/DD 2To/AHL2011_MIP', 'AHL2011_list_mip_error_mean', path_mip)\n",
    "\n",
    "mip_directory = '/media/salim/DD 2To/AHL2011_MIP'\n",
    "filename = os.path.join(mip_directory, 'list_mip_error_mean.pdf')\n",
    "create_pdf_mip(path_mip, filename)"
   ]
  },
  {
   "cell_type": "code",
   "execution_count": null,
   "metadata": {},
   "outputs": [],
   "source": []
  },
  {
   "cell_type": "code",
   "execution_count": null,
   "metadata": {},
   "outputs": [],
   "source": [
    "#GENERER MIP MASK CORONAL "
   ]
  },
  {
   "cell_type": "code",
   "execution_count": 4,
   "metadata": {},
   "outputs": [
    {
     "name": "stdout",
     "output_type": "stream",
     "text": "15\n"
    }
   ],
   "source": [
    "json_path = '/media/salim/DD 2To/AHL2011_MIP/AHL2011_list_coronal.json'\n",
    "list_coronal= []\n",
    "with open(json_path) as json_file : \n",
    "    reader = json.load(json_file)\n",
    "    for info in reader :\n",
    "        list_coronal.append(info)\n",
    "\n",
    "print(len(list_coronal))"
   ]
  },
  {
   "cell_type": "code",
   "execution_count": 5,
   "metadata": {},
   "outputs": [
    {
     "name": "stdout",
     "output_type": "stream",
     "text": "0\ntaille mask :  (144, 144, 234, 21)\n1\ntaille mask :  (144, 144, 234, 30)\n2\ntaille mask :  (144, 144, 213, 13)\n3\ntaille mask :  (144, 144, 276, 15)\n4\ntaille mask :  (144, 144, 276, 31)\n5\ntaille mask :  (144, 144, 276, 15)\n6\ntaille mask :  (144, 144, 234, 11)\n7\ntaille mask :  (144, 144, 255, 5)\n8\ntaille mask :  (256, 256, 335, 25)\n9\ntaille mask :  (256, 256, 299, 11)\n10\ntaille mask :  (168, 168, 405, 32)\n11\ntaille mask :  (256, 256, 515, 12)\n12\ntaille mask :  (144, 144, 255, 4)\n13\ntaille mask :  (144, 144, 255, 12)\n14\ntaille mask :  (144, 144, 255, 15)\n"
    }
   ],
   "source": [
    "# A FAIRE AUSSI LES SERIES EN CORONAL (FLIP Z) \n",
    "mip_directory = '/media/salim/DD 2To/AHL2011_MIP_FLIP'\n",
    "\n",
    "\n",
    "\n",
    "path_mip = []\n",
    "for serie in list_coronal : \n",
    "    index = list_coronal.index(serie)\n",
    "    print(index)\n",
    "    subliste = []\n",
    "    if serie[1] =='PT' :\n",
    "        serie_pt_objet = SeriesPT(serie[0])\n",
    "        study_uid = serie_pt_objet.get_series_details()['study']['StudyInstanceUID']\n",
    "        nifti_array = serie_pt_objet.get_numpy_array()\n",
    "        angle_filename = mip_projection(nifti_array, 0, mip_directory, study_uid, borne_max = 5.0)             #mip.png PET\n",
    "        subliste.append(angle_filename)\n",
    "\n",
    "        size_matrix = serie_pt_objet.get_size_matrix()\n",
    "        mask_objet = MaskBuilder(os.path.join(csv_directory, serie[4]), size_matrix)\n",
    "        mask_4D = mask_objet.mask_array\n",
    "        number_roi = mask_4D.shape[3]\n",
    "        threshold = mask_objet.details_rois['SUVlo']\n",
    "        #seuillage\n",
    "        mask_objet.flip_z(mask_4D)\n",
    "        mask_4D_flip = mask_objet.mask_array\n",
    "        mask_4D_flip = threshold_mask(mask_4D_flip, mask_objet.details_rois, nifti_array,  flip = True)\n",
    "        angle_filename_mask = mip_projection_4D(mask_4D_flip, 0, mip_directory, study_uid, number_roi, borne_max = 5.0)\n",
    "        #mip.png MASK\n",
    "        subliste.append(angle_filename_mask)\n",
    "\n",
    "        path_mip.append(subliste)\n",
    "\n",
    "        \n",
    "\n",
    "\n",
    "\n",
    "\n",
    "    else : \n",
    "        serie_pt_objet = SeriesPT(serie[2])\n",
    "        study_uid = serie_pt_objet.get_series_details()['study']['StudyInstanceUID']\n",
    "        nifti_array = serie_pt_objet.get_numpy_array()\n",
    "        angle_filename = mip_projection(nifti_array, 0, mip_directory, study_uid, borne_max = 5.0) \n",
    "        #mip.png PET\n",
    "        subliste.append(angle_filename)\n",
    "        size_matrix = serie_pt_objet.get_size_matrix()\n",
    "        mask_objet = MaskBuilder(os.path.join(csv_directory, serie[4]), size_matrix)\n",
    "        mask_4D = mask_objet.mask_array\n",
    "        number_roi = mask_4D.shape[3]\n",
    "        threshold = mask_objet.details_rois['SUVlo']\n",
    "        #seuillage\n",
    "\n",
    "        mask_objet.flip_z(mask_4D)\n",
    "        mask_4D_flip = mask_objet.mask_array\n",
    "        mask_4D_flip = threshold_mask(mask_4D_flip, mask_objet.details_rois, nifti_array,  flip = True)\n",
    "        angle_filename_mask = mip_projection_4D(mask_4D_flip, 0, mip_directory, study_uid, number_roi, borne_max = 5.0)\n",
    "        #mip.png MASK\n",
    "        subliste.append(angle_filename_mask)\n",
    "\n",
    "        path_mip.append(subliste)\n"
   ]
  },
  {
   "cell_type": "code",
   "execution_count": 6,
   "metadata": {},
   "outputs": [],
   "source": [
    "mip_directory = '/media/salim/DD 2To/AHL2011_MIP_FLIP'\n",
    "filename = os.path.join(mip_directory, 'list_mip_coronal.pdf')\n",
    "create_pdf_mip(path_mip, filename)"
   ]
  },
  {
   "cell_type": "code",
   "execution_count": 13,
   "metadata": {},
   "outputs": [
    {
     "name": "stdout",
     "output_type": "stream",
     "text": "0\nNBR DE ROI : 57\nNBR DE ROI FAUSSE : 2.0\n1\nNBR DE ROI : 10\nNBR DE ROI FAUSSE : 10.0\n2\nNBR DE ROI : 16\nNBR DE ROI FAUSSE : 16.0\n3\nNBR DE ROI : 5\nNBR DE ROI FAUSSE : 5.0\n4\nNBR DE ROI : 30\nNBR DE ROI FAUSSE : 30.0\n5\nNBR DE ROI : 20\nNBR DE ROI FAUSSE : 20.0\n6\nNBR DE ROI : 26\nNBR DE ROI FAUSSE : 1.0\n7\nNBR DE ROI : 31\nNBR DE ROI FAUSSE : 2.0\n8\nNBR DE ROI : 43\nNBR DE ROI FAUSSE : 2.0\n9\nNBR DE ROI : 17\nNBR DE ROI FAUSSE : 1.0\n10\nNBR DE ROI : 46\nNBR DE ROI FAUSSE : 46.0\n11\nNBR DE ROI : 15\nNBR DE ROI FAUSSE : 15.0\n12\nNBR DE ROI : 70\nNBR DE ROI FAUSSE : 69.0\n13\nNBR DE ROI : 38\nNBR DE ROI FAUSSE : 38.0\n14\nNBR DE ROI : 21\nNBR DE ROI FAUSSE : 21.0\n15\nNBR DE ROI : 29\nNBR DE ROI FAUSSE : 2.0\n16\nNBR DE ROI : 6\nNBR DE ROI FAUSSE : 6.0\n17\nNBR DE ROI : 19\nNBR DE ROI FAUSSE : 19.0\n18\nNBR DE ROI : 5\nNBR DE ROI FAUSSE : 5.0\n19\nNBR DE ROI : 12\nNBR DE ROI FAUSSE : 12.0\n20\nNBR DE ROI : 42\nNBR DE ROI FAUSSE : 1.0\n21\nNBR DE ROI : 13\nNBR DE ROI FAUSSE : 13.0\n22\nNBR DE ROI : 13\nNBR DE ROI FAUSSE : 13.0\n23\nNBR DE ROI : 27\nNBR DE ROI FAUSSE : 27.0\n24\nNBR DE ROI : 8\nNBR DE ROI FAUSSE : 8.0\n25\nNBR DE ROI : 16\nNBR DE ROI FAUSSE : 16.0\n26\nNBR DE ROI : 10\nNBR DE ROI FAUSSE : 10.0\n27\nNBR DE ROI : 25\nNBR DE ROI FAUSSE : 24.0\n28\nNBR DE ROI : 8\nNBR DE ROI FAUSSE : 7.0\n29\nNBR DE ROI : 115\nNBR DE ROI FAUSSE : 4.0\n30\nNBR DE ROI : 21\nNBR DE ROI FAUSSE : 1.0\n31\nNBR DE ROI : 20\nNBR DE ROI FAUSSE : 20.0\n32\nNBR DE ROI : 12\nNBR DE ROI FAUSSE : 2.0\n33\nNBR DE ROI : 16\nNBR DE ROI FAUSSE : 1.0\n34\nNBR DE ROI : 11\nNBR DE ROI FAUSSE : 11.0\n35\nNBR DE ROI : 18\nNBR DE ROI FAUSSE : 18.0\n36\nNBR DE ROI : 13\nNBR DE ROI FAUSSE : 12.0\n37\nNBR DE ROI : 24\nNBR DE ROI FAUSSE : 23.0\n38\nNBR DE ROI : 28\nNBR DE ROI FAUSSE : 1.0\n39\nNBR DE ROI : 11\nNBR DE ROI FAUSSE : 11.0\n40\nNBR DE ROI : 7\nNBR DE ROI FAUSSE : 7.0\n41\nNBR DE ROI : 18\nNBR DE ROI FAUSSE : 18.0\n42\nNBR DE ROI : 23\nNBR DE ROI FAUSSE : 23.0\n43\nNBR DE ROI : 18\nNBR DE ROI FAUSSE : 18.0\n44\nNBR DE ROI : 19\nNBR DE ROI FAUSSE : 19.0\n45\nNBR DE ROI : 31\nNBR DE ROI FAUSSE : 1.0\n46\nNBR DE ROI : 22\nNBR DE ROI FAUSSE : 22.0\n47\nNBR DE ROI : 3\nNBR DE ROI FAUSSE : 3.0\n48\nNBR DE ROI : 22\nNBR DE ROI FAUSSE : 22.0\n49\nNBR DE ROI : 17\nNBR DE ROI FAUSSE : 17.0\n50\nNBR DE ROI : 9\nNBR DE ROI FAUSSE : 9.0\n51\nNBR DE ROI : 12\nNBR DE ROI FAUSSE : 11.0\n52\nNBR DE ROI : 39\nNBR DE ROI FAUSSE : 39.0\n53\nNBR DE ROI : 40\nNBR DE ROI FAUSSE : 1.0\n54\nNBR DE ROI : 22\nNBR DE ROI FAUSSE : 1.0\n55\nNBR DE ROI : 16\nNBR DE ROI FAUSSE : 1.0\n56\nNBR DE ROI : 27\nNBR DE ROI FAUSSE : 26.0\n57\nNBR DE ROI : 32\nNBR DE ROI FAUSSE : 32.0\n58\nNBR DE ROI : 17\nNBR DE ROI FAUSSE : 1.0\n59\nNBR DE ROI : 3\nNBR DE ROI FAUSSE : 3.0\n60\nNBR DE ROI : 30\nNBR DE ROI FAUSSE : 1.0\n61\nNBR DE ROI : 22\nNBR DE ROI FAUSSE : 1.0\n62\nNBR DE ROI : 13\nNBR DE ROI FAUSSE : 13.0\n63\nNBR DE ROI : 16\nNBR DE ROI FAUSSE : 16.0\n64\nNBR DE ROI : 12\nNBR DE ROI FAUSSE : 12.0\n65\nNBR DE ROI : 19\nNBR DE ROI FAUSSE : 18.0\n66\nNBR DE ROI : 13\nNBR DE ROI FAUSSE : 13.0\n67\nNBR DE ROI : 28\nNBR DE ROI FAUSSE : 27.0\n68\nNBR DE ROI : 28\nNBR DE ROI FAUSSE : 27.0\n69\nNBR DE ROI : 60\nNBR DE ROI FAUSSE : 60.0\n70\nNBR DE ROI : 54\nNBR DE ROI FAUSSE : 1.0\n71\nNBR DE ROI : 30\nNBR DE ROI FAUSSE : 30.0\n72\nNBR DE ROI : 56\nNBR DE ROI FAUSSE : 1.0\n73\nNBR DE ROI : 7\nNBR DE ROI FAUSSE : 1.0\n74\nNBR DE ROI : 16\nNBR DE ROI FAUSSE : 16.0\n75\nNBR DE ROI : 55\nNBR DE ROI FAUSSE : 1.0\n76\nNBR DE ROI : 23\nNBR DE ROI FAUSSE : 23.0\n77\nNBR DE ROI : 21\nNBR DE ROI FAUSSE : 1.0\n78\nNBR DE ROI : 11\nNBR DE ROI FAUSSE : 11.0\n79\nNBR DE ROI : 7\nNBR DE ROI FAUSSE : 7.0\n80\nNBR DE ROI : 8\nNBR DE ROI FAUSSE : 8.0\n81\nNBR DE ROI : 15\nNBR DE ROI FAUSSE : 15.0\n82\nNBR DE ROI : 23\nNBR DE ROI FAUSSE : 23.0\n83\nNBR DE ROI : 21\nNBR DE ROI FAUSSE : 21.0\n84\nNBR DE ROI : 8\nNBR DE ROI FAUSSE : 8.0\n85\nNBR DE ROI : 10\nNBR DE ROI FAUSSE : 10.0\n86\nNBR DE ROI : 6\nNBR DE ROI FAUSSE : 6.0\n87\nNBR DE ROI : 5\nNBR DE ROI FAUSSE : 5.0\n88\nNBR DE ROI : 6\nNBR DE ROI FAUSSE : 6.0\n89\nNBR DE ROI : 26\nNBR DE ROI FAUSSE : 1.0\n90\nNBR DE ROI : 18\nNBR DE ROI FAUSSE : 16.0\n91\nNBR DE ROI : 19\nNBR DE ROI FAUSSE : 18.0\n92\nNBR DE ROI : 118\nNBR DE ROI FAUSSE : 117.0\n93\nNBR DE ROI : 30\nNBR DE ROI FAUSSE : 26.0\n94\nNBR DE ROI : 13\nNBR DE ROI FAUSSE : 13.0\n95\nNBR DE ROI : 12\nNBR DE ROI FAUSSE : 12.0\n96\nNBR DE ROI : 68\nNBR DE ROI FAUSSE : 1.0\n97\nNBR DE ROI : 19\nNBR DE ROI FAUSSE : 19.0\n98\nNBR DE ROI : 19\nNBR DE ROI FAUSSE : 19.0\n99\nNBR DE ROI : 1\nNBR DE ROI FAUSSE : 1.0\n100\nNBR DE ROI : 40\nNBR DE ROI FAUSSE : 40.0\n101\nNBR DE ROI : 15\nNBR DE ROI FAUSSE : 15.0\n102\nNBR DE ROI : 12\nNBR DE ROI FAUSSE : 12.0\n103\nNBR DE ROI : 18\nNBR DE ROI FAUSSE : 16.0\n104\nNBR DE ROI : 20\nNBR DE ROI FAUSSE : 1.0\n105\nNBR DE ROI : 18\nNBR DE ROI FAUSSE : 2.0\n106\nNBR DE ROI : 42\nNBR DE ROI FAUSSE : 14.0\n107\nNBR DE ROI : 26\nNBR DE ROI FAUSSE : 1.0\n108\nNBR DE ROI : 4\nNBR DE ROI FAUSSE : 4.0\n109\nNBR DE ROI : 14\nNBR DE ROI FAUSSE : 3.0\n110\nNBR DE ROI : 25\nNBR DE ROI FAUSSE : 2.0\n111\nNBR DE ROI : 8\nNBR DE ROI FAUSSE : 8.0\n112\nNBR DE ROI : 11\nNBR DE ROI FAUSSE : 11.0\n113\nNBR DE ROI : 4\nNBR DE ROI FAUSSE : 4.0\n114\nNBR DE ROI : 11\nNBR DE ROI FAUSSE : 1.0\n115\nNBR DE ROI : 12\nNBR DE ROI FAUSSE : 11.0\n116\nNBR DE ROI : 13\nNBR DE ROI FAUSSE : 1.0\n117\nNBR DE ROI : 26\nNBR DE ROI FAUSSE : 26.0\n89\nNBR DE ROI : 26\nNBR DE ROI FAUSSE : 1.0\n119\nNBR DE ROI : 33\nNBR DE ROI FAUSSE : 6.0\n120\nNBR DE ROI : 24\nNBR DE ROI FAUSSE : 1.0\n121\nNBR DE ROI : 9\nNBR DE ROI FAUSSE : 1.0\n122\nNBR DE ROI : 21\nNBR DE ROI FAUSSE : 1.0\n123\nNBR DE ROI : 10\nNBR DE ROI FAUSSE : 1.0\n124\nNBR DE ROI : 15\nNBR DE ROI FAUSSE : 15.0\n125\nNBR DE ROI : 20\nNBR DE ROI FAUSSE : 2.0\n126\nNBR DE ROI : 23\nNBR DE ROI FAUSSE : 23.0\n127\nNBR DE ROI : 15\nNBR DE ROI FAUSSE : 7.0\n128\nNBR DE ROI : 16\nNBR DE ROI FAUSSE : 1.0\n129\nNBR DE ROI : 23\nNBR DE ROI FAUSSE : 1.0\n130\nNBR DE ROI : 34\nNBR DE ROI FAUSSE : 1.0\n131\nNBR DE ROI : 4\nNBR DE ROI FAUSSE : 4.0\n132\nNBR DE ROI : 11\nNBR DE ROI FAUSSE : 2.0\n133\nNBR DE ROI : 15\nNBR DE ROI FAUSSE : 15.0\n134\nNBR DE ROI : 26\nNBR DE ROI FAUSSE : 26.0\n135\nNBR DE ROI : 37\nNBR DE ROI FAUSSE : 37.0\n136\nNBR DE ROI : 10\nNBR DE ROI FAUSSE : 10.0\n137\nNBR DE ROI : 39\nNBR DE ROI FAUSSE : 39.0\n138\nNBR DE ROI : 9\nNBR DE ROI FAUSSE : 9.0\n139\nNBR DE ROI : 118\nNBR DE ROI FAUSSE : 118.0\n140\nNBR DE ROI : 4\nNBR DE ROI FAUSSE : 1.0\n141\nNBR DE ROI : 22\nNBR DE ROI FAUSSE : 22.0\n142\nNBR DE ROI : 17\nNBR DE ROI FAUSSE : 17.0\n143\nNBR DE ROI : 29\nNBR DE ROI FAUSSE : 29.0\n144\nNBR DE ROI : 14\nNBR DE ROI FAUSSE : 2.0\n145\nNBR DE ROI : 19\nNBR DE ROI FAUSSE : 1.0\n146\nNBR DE ROI : 7\nNBR DE ROI FAUSSE : 6.0\n147\nNBR DE ROI : 21\nNBR DE ROI FAUSSE : 1.0\n"
    }
   ],
   "source": [
    "false_mask = []\n",
    "\n",
    "mask_correct = []\n",
    "liste = []\n",
    "for serie in error_suv : \n",
    "    index = error_suv.index(serie)\n",
    "    print(error_suv.index(serie))\n",
    "    subliste = []\n",
    "    try : \n",
    "        if serie[1] == 'PT' : \n",
    "            serie_pt_objet = SeriesPT(serie[0]) \n",
    "            nifti_array = serie_pt_objet.get_numpy_array()\n",
    "            study_uid = serie_pt_objet.get_series_details()['study']['StudyInstanceUID']\n",
    "            size_matrix = serie_pt_objet.get_size_matrix()\n",
    "            mask_objet = MaskBuilder(os.path.join(csv_directory, serie[4]), size_matrix)\n",
    "            mask_4D = mask_objet.mask_array\n",
    "            number_roi = mask_4D.shape[3]\n",
    "            print(\"NBR DE ROI :\", number_roi)\n",
    "            ecart_suv_max = mask_objet.ecart_suv_max(nifti_array)\n",
    "            number_false_roi = len(ecart_suv_max)/3\n",
    "            print(\"NBR DE ROI FAUSSE :\", number_false_roi)\n",
    "            subliste.append(index)\n",
    "            subliste.append(number_roi)\n",
    "            subliste.append(number_false_roi)\n",
    "\n",
    "            liste.append(subliste)\n",
    "\n",
    "            seuil = float(number_false_roi / number_roi)\n",
    "            if seuil <= float(0.2) :\n",
    "                mask_correct.append(serie)\n",
    "\n",
    "            else : \n",
    "                false_mask.append(serie)\n",
    "\n",
    "\n",
    "        else : \n",
    "            serie_pt_objet = SeriesPT(serie[2]) \n",
    "            nifti_array = serie_pt_objet.get_numpy_array()\n",
    "            study_uid = serie_pt_objet.get_series_details()['study']['StudyInstanceUID']\n",
    "            size_matrix = serie_pt_objet.get_size_matrix()\n",
    "            mask_objet = MaskBuilder(os.path.join(csv_directory, serie[4]), size_matrix)\n",
    "            mask_4D = mask_objet.mask_array\n",
    "            number_roi = mask_4D.shape[3]\n",
    "            print(\"NBR DE ROI :\", number_roi)\n",
    "            ecart_suv_max = mask_objet.ecart_suv_max(nifti_array)\n",
    "            number_false_roi = len(ecart_suv_max)/3\n",
    "            print(\"NBR DE ROI FAUSSE :\", number_false_roi)\n",
    "            subliste.append(index)\n",
    "            subliste.append(number_roi)\n",
    "            subliste.append(number_false_roi)\n",
    "\n",
    "            liste.append(subliste)\n",
    "\n",
    "            seuil = float(number_false_roi / number_roi)\n",
    "            if seuil <= float(0.2) :\n",
    "                mask_correct.append(serie)\n",
    "\n",
    "            else : \n",
    "                false_mask.append(serie)\n",
    "\n",
    "\n",
    "    except Exception as err : \n",
    "        print(serie)\n",
    "        print(err)"
   ]
  },
  {
   "cell_type": "code",
   "execution_count": 14,
   "metadata": {},
   "outputs": [
    {
     "name": "stdout",
     "output_type": "stream",
     "text": "148\n46\n102\n"
    }
   ],
   "source": [
    "print(len(liste))\n",
    "print(len(mask_correct))\n",
    "print(len(false_mask))\n",
    "write_json_file('/media/salim/DD 2To/AHL2011_MIP', 'AHL2011_list_false_roi', liste)\n",
    "write_json_file('/media/salim/DD 2To/AHL2011_MIP', 'AHL2011_false_mask', false_mask)\n",
    "write_json_file('/media/salim/DD 2To/AHL2011_MIP', 'AHL2011_mask_correct', mask_correct)\n",
    "\n",
    "#CHECKER DOUBLON"
   ]
  },
  {
   "cell_type": "code",
   "execution_count": null,
   "metadata": {},
   "outputs": [],
   "source": []
  },
  {
   "cell_type": "code",
   "execution_count": null,
   "metadata": {},
   "outputs": [],
   "source": []
  },
  {
   "cell_type": "code",
   "execution_count": null,
   "metadata": {},
   "outputs": [],
   "source": [
    "#ALGO GENERATION DE CT PET MASK NIFTI SI MASK VALIDE"
   ]
  },
  {
   "cell_type": "code",
   "execution_count": 16,
   "metadata": {},
   "outputs": [
    {
     "name": "stdout",
     "output_type": "stream",
     "text": "0\nMASK CORRECT\nEXPORT NIFTI PT\nEXPORT NIFTI CT\nEXPORT NIFTI MASK\n1\nMASK CORRECT\nEXPORT NIFTI PT\nEXPORT NIFTI CT\nEXPORT NIFTI MASK\n2\nMASK CORRECT\nEXPORT NIFTI PT\nEXPORT NIFTI CT\nEXPORT NIFTI MASK\n3\nMASK CORRECT\nEXPORT NIFTI PT\nEXPORT NIFTI CT\nEXPORT NIFTI MASK\n4\nMASK CORRECT\nEXPORT NIFTI PT\nEXPORT NIFTI CT\nEXPORT NIFTI MASK\n5\nMASK CORRECT\nEXPORT NIFTI PT\nEXPORT NIFTI CT\nEXPORT NIFTI MASK\n6\nMASK CORRECT\nEXPORT NIFTI PT\nEXPORT NIFTI CT\nEXPORT NIFTI MASK\n7\nMASK CORRECT\nEXPORT NIFTI PT\nEXPORT NIFTI CT\nEXPORT NIFTI MASK\n8\nMASK CORRECT\nEXPORT NIFTI PT\nEXPORT NIFTI CT\nEXPORT NIFTI MASK\n9\nMASK CORRECT\nEXPORT NIFTI PT\nEXPORT NIFTI CT\nEXPORT NIFTI MASK\n10\nMASK CORRECT\nEXPORT NIFTI PT\nEXPORT NIFTI CT\nEXPORT NIFTI MASK\n11\nMASK CORRECT\nEXPORT NIFTI PT\nEXPORT NIFTI CT\nEXPORT NIFTI MASK\n12\nMASK CORRECT\nEXPORT NIFTI PT\nEXPORT NIFTI CT\nEXPORT NIFTI MASK\n13\nMASK CORRECT\nEXPORT NIFTI PT\nEXPORT NIFTI CT\nEXPORT NIFTI MASK\n14\nMASK CORRECT\nEXPORT NIFTI PT\nEXPORT NIFTI CT\nEXPORT NIFTI MASK\n15\nMASK CORRECT\nEXPORT NIFTI PT\nEXPORT NIFTI CT\nEXPORT NIFTI MASK\n16\nMASK CORRECT\nEXPORT NIFTI PT\nEXPORT NIFTI CT\nEXPORT NIFTI MASK\n17\nMASK CORRECT\nEXPORT NIFTI PT\nEXPORT NIFTI CT\nEXPORT NIFTI MASK\n18\nMASK CORRECT\nEXPORT NIFTI PT\nEXPORT NIFTI CT\nEXPORT NIFTI MASK\n19\nMASK CORRECT\nEXPORT NIFTI PT\nEXPORT NIFTI CT\nEXPORT NIFTI MASK\n20\nMASK CORRECT\nEXPORT NIFTI PT\nEXPORT NIFTI CT\nEXPORT NIFTI MASK\n21\nMASK CORRECT\nEXPORT NIFTI PT\nEXPORT NIFTI CT\nEXPORT NIFTI MASK\n22\nMASK CORRECT\nEXPORT NIFTI PT\nEXPORT NIFTI CT\nEXPORT NIFTI MASK\n23\nMASK CORRECT\nEXPORT NIFTI PT\nEXPORT NIFTI CT\nEXPORT NIFTI MASK\n24\nMASK CORRECT\nEXPORT NIFTI PT\nEXPORT NIFTI CT\nEXPORT NIFTI MASK\n25\nMASK CORRECT\nEXPORT NIFTI PT\nEXPORT NIFTI CT\nEXPORT NIFTI MASK\n26\nMASK CORRECT\nEXPORT NIFTI PT\nEXPORT NIFTI CT\nEXPORT NIFTI MASK\n27\nMASK CORRECT\nEXPORT NIFTI PT\nEXPORT NIFTI CT\nEXPORT NIFTI MASK\n28\nMASK CORRECT\nEXPORT NIFTI PT\nEXPORT NIFTI CT\nEXPORT NIFTI MASK\n29\nMASK CORRECT\nEXPORT NIFTI PT\nEXPORT NIFTI CT\nEXPORT NIFTI MASK\n30\nMASK CORRECT\nEXPORT NIFTI PT\nEXPORT NIFTI CT\nEXPORT NIFTI MASK\n31\nMASK CORRECT\nEXPORT NIFTI PT\nEXPORT NIFTI CT\nEXPORT NIFTI MASK\n24\nMASK CORRECT\nEXPORT NIFTI PT\nEXPORT NIFTI CT\nEXPORT NIFTI MASK\n33\nMASK CORRECT\nEXPORT NIFTI PT\nEXPORT NIFTI CT\nEXPORT NIFTI MASK\n34\nMASK CORRECT\nEXPORT NIFTI PT\nEXPORT NIFTI CT\nEXPORT NIFTI MASK\n35\nMASK CORRECT\nEXPORT NIFTI PT\nEXPORT NIFTI CT\nEXPORT NIFTI MASK\n36\nMASK CORRECT\nEXPORT NIFTI PT\nEXPORT NIFTI CT\nEXPORT NIFTI MASK\n37\nMASK CORRECT\nEXPORT NIFTI PT\nEXPORT NIFTI CT\nEXPORT NIFTI MASK\n38\nMASK CORRECT\nEXPORT NIFTI PT\nEXPORT NIFTI CT\nEXPORT NIFTI MASK\n39\nMASK CORRECT\nEXPORT NIFTI PT\nEXPORT NIFTI CT\nEXPORT NIFTI MASK\n40\nMASK CORRECT\nEXPORT NIFTI PT\nEXPORT NIFTI CT\nEXPORT NIFTI MASK\n41\nMASK CORRECT\nEXPORT NIFTI PT\nEXPORT NIFTI CT\nEXPORT NIFTI MASK\n42\nMASK CORRECT\nEXPORT NIFTI PT\nEXPORT NIFTI CT\nEXPORT NIFTI MASK\n43\nMASK CORRECT\nEXPORT NIFTI PT\nEXPORT NIFTI CT\nEXPORT NIFTI MASK\n44\nMASK CORRECT\nEXPORT NIFTI PT\nEXPORT NIFTI CT\nEXPORT NIFTI MASK\n45\nMASK CORRECT\nEXPORT NIFTI PT\nEXPORT NIFTI CT\nEXPORT NIFTI MASK\n"
    }
   ],
   "source": [
    "for serie in mask_correct : \n",
    "    print(mask_correct.index(serie))\n",
    "    try : \n",
    "        if serie[1] == 'PT' : \n",
    "            serie_pt_objet = SeriesPT(serie[0]) \n",
    "            nifti_array = serie_pt_objet.get_numpy_array()\n",
    "            study_uid = serie_pt_objet.get_series_details()['study']['StudyInstanceUID']\n",
    "            size_matrix = serie_pt_objet.get_size_matrix()\n",
    "            mask_objet = MaskBuilder(os.path.join(csv_directory, serie[4]), size_matrix)\n",
    "            mask_4D = mask_objet.mask_array\n",
    "\n",
    "                    #si erreur sur les sd et mean QUE sur les ellipses, on tolère \n",
    "            print(\"MASK CORRECT\")\n",
    "                    #generation nifti PT\n",
    "            filename_pt = study_uid+'_'+'nifti_'+'PT'+'.nii'\n",
    "            serie_pt_objet.export_nifti(os.path.join(nifti_directory, filename_pt))\n",
    "            print(\"EXPORT NIFTI PT\")\n",
    "                    #generation nifti CT\n",
    "            serie_ct_objet = SeriesCT(serie[2])\n",
    "            serie_ct_objet.get_numpy_array()\n",
    "            filename_ct = study_uid+'_'+'nifti_'+'CT'+'.nii'\n",
    "            serie_ct_objet.export_nifti(os.path.join(nifti_directory, filename_ct))\n",
    "            print(\"EXPORT NIFTI CT\")\n",
    "                    #generation nifti mask\n",
    "            filename_mask = study_uid+'_'+'nifti_'+'mask'+'.nii'\n",
    "            serie_pt_objet.export_nifti(os.path.join(nifti_directory, filename_mask), mask_4D)\n",
    "            print(\"EXPORT NIFTI MASK\")\n",
    "\n",
    "\n",
    "        else : \n",
    "            serie_pt_objet = SeriesPT(serie[2]) \n",
    "            nifti_array = serie_pt_objet.get_numpy_array()\n",
    "            study_uid = serie_pt_objet.get_series_details()['study']['StudyInstanceUID']\n",
    "            size_matrix = serie_pt_objet.get_size_matrix()\n",
    "            mask_objet = MaskBuilder(os.path.join(csv_directory, serie[4]), size_matrix)\n",
    "            mask_4D = mask_objet.mask_array\n",
    "            print(\"MASK CORRECT\")\n",
    "                    #generation nifti PT\n",
    "            filename_pt = study_uid+'_'+'nifti_'+'PT'+'.nii'\n",
    "            serie_pt_objet.export_nifti(os.path.join(nifti_directory, filename_pt))\n",
    "            print(\"EXPORT NIFTI PT\")\n",
    "                    #generation nifti CT\n",
    "            serie_ct_objet = SeriesCT(serie[0])\n",
    "            serie_ct_objet.get_numpy_array()\n",
    "            filename_ct = study_uid+'_'+'nifti_'+'CT'+'.nii'\n",
    "            serie_ct_objet.export_nifti(os.path.join(nifti_directory, filename_ct))\n",
    "            print(\"EXPORT NIFTI CT\")\n",
    "                    #generation nifti mask\n",
    "            filename_mask = study_uid+'_'+'nifti_'+'mask'+'.nii'\n",
    "            serie_pt_objet.export_nifti(os.path.join(nifti_directory, filename_mask), mask_4D)\n",
    "            print(\"EXPORT NIFTI MASK\")\n",
    " \n",
    "\n",
    "    except Exception as err : \n",
    "        print(serie)\n",
    "        print(err)"
   ]
  },
  {
   "cell_type": "code",
   "execution_count": null,
   "metadata": {},
   "outputs": [],
   "source": []
  },
  {
   "cell_type": "code",
   "execution_count": null,
   "metadata": {},
   "outputs": [],
   "source": []
  },
  {
   "cell_type": "code",
   "execution_count": null,
   "metadata": {},
   "outputs": [],
   "source": []
  }
 ],
 "metadata": {
  "language_info": {
   "name": "python",
   "codemirror_mode": {
    "name": "ipython",
    "version": 3
   },
   "version": "3.8.2-final"
  },
  "orig_nbformat": 2,
  "file_extension": ".py",
  "mimetype": "text/x-python",
  "name": "python",
  "npconvert_exporter": "python",
  "pygments_lexer": "ipython3",
  "version": 3,
  "kernelspec": {
   "name": "python3",
   "display_name": "Python 3"
  }
 },
 "nbformat": 4,
 "nbformat_minor": 2
}