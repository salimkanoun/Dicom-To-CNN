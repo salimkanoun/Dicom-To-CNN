{
 "nbformat": 4,
 "nbformat_minor": 2,
 "metadata": {
  "language_info": {
   "name": "python",
   "codemirror_mode": {
    "name": "ipython",
    "version": 3
   },
   "version": "3.8.2-final"
  },
  "orig_nbformat": 2,
  "file_extension": ".py",
  "mimetype": "text/x-python",
  "name": "python",
  "npconvert_exporter": "python",
  "pygments_lexer": "ipython3",
  "version": 3,
  "kernelspec": {
   "name": "python38264bit741c38d3bcec48dc835c8ad5f1161b3f",
   "display_name": "Python 3.8.2 64-bit"
  }
 },
 "cells": [
  {
   "cell_type": "code",
   "execution_count": 1,
   "metadata": {},
   "outputs": [],
   "source": [
    "import json\n",
    "import os\n",
    "from library_dicom.dicom_processor.model.Series import Series \n",
    "from library_dicom.dicom_processor.model.SeriesPT import SeriesPT\n",
    "from library_dicom.dicom_processor.model.SeriesCT import SeriesCT\n",
    "from library_dicom.dicom_processor.model.csv_reader.MaskBuilder import MaskBuilder"
   ]
  },
  {
   "cell_type": "code",
   "execution_count": 2,
   "metadata": {},
   "outputs": [],
   "source": [
    "json_path = '/media/salim/DD 2To/AHL2011_NIFTI/AHL2011_list_path_csv.json'"
   ]
  },
  {
   "cell_type": "code",
   "execution_count": 3,
   "metadata": {},
   "outputs": [],
   "source": [
    "data = []\n",
    "with open(json_path) as json_file : \n",
    "    reader = json.load(json_file)\n",
    "    for info in reader :\n",
    "        for path in reader[info] :\n",
    "            data.append(path)"
   ]
  },
  {
   "cell_type": "code",
   "execution_count": 4,
   "metadata": {},
   "outputs": [],
   "source": [
    "dataset = []\n",
    "for i in range(0,len(data),3):\n",
    "    subliste = []\n",
    "    subliste.append(data[i])\n",
    "    subliste.append(data[i+1])\n",
    "    subliste.append(data[i+2])\n",
    "    dataset.append(subliste)"
   ]
  },
  {
   "cell_type": "code",
   "execution_count": 6,
   "metadata": {},
   "outputs": [
    {
     "data": {
      "text/plain": "['/media/salim/DD 2To/AHL2011_Validated_DICOMS/13011101391019/1.2.124.113532.172.16.4.13.20130416.213156.2050918/1.2.840.113619.2.290.3.279712783.8.1366178187.547/1.2.840.113619.2.290.3.279712783.8.1366178187.547',\n '/media/salim/DD 2To/AHL2011_Validated_DICOMS/13011101391019/1.2.124.113532.172.16.4.13.20130416.213156.2050918/1.2.840.113619.2.290.3.279712783.8.1366178186.947.3/1.2.840.113619.2.290.3.279712783.8.1366178186.947.3',\n 'arb_al_apr 17_2013.csv']"
     },
     "execution_count": 6,
     "metadata": {},
     "output_type": "execute_result"
    }
   ],
   "source": [
    "dataset[11]\n"
   ]
  },
  {
   "cell_type": "code",
   "execution_count": 5,
   "metadata": {},
   "outputs": [
    {
     "data": {
      "text/plain": "['/media/salim/DD 2To/AHL2011_Validated_DICOMS/13011101331015/1.2.124.113532.10.149.172.5.20131107.93455.7725981/1.2.840.113619.2.290.3.2500492204.268.1383804922.866.3/1.2.840.113619.2.290.3.2500492204.268.1383804922.866.3',\n '/media/salim/DD 2To/AHL2011_Validated_DICOMS/13011101331015/1.2.124.113532.10.149.172.5.20131107.93455.7725981/1.2.840.113619.2.290.3.2500492204.268.1383804923.167/1.2.840.113619.2.290.3.2500492204.268.1383804923.167',\n 'con_da_nov 7_2013.csv']"
     },
     "execution_count": 5,
     "metadata": {},
     "output_type": "execute_result"
    }
   ],
   "source": [
    "#Unconstant spacing \n",
    "#dataset[6] \n",
    "\n",
    "#['/media/salim/DD 2To/AHL2011_Validated_DICOMS/13011101431012/1.2.124.113532.172.16.25.2.20130121.814.1220583/1.3.46.670589.28.2.12.30.26421.36112.2.3508.0.1359080111/imagys_AHL2011_13011101431012_c72b9b8c-80b3-4803-a240-62a9ec6b6302',\n",
    " #'/media/salim/DD 2To/AHL2011_Validated_DICOMS/13011101431012/1.2.124.113532.172.16.25.2.20130121.814.1220583/1.2.840.113704.1.111.3652.1359035909.11/imagys_AHL2011_13011101431012_ce32ad94-1872-4340-9e14-a2b6ec451cf0',\n",
    " #'can_sy_jan 24_2013.csv']\n",
    "\n",
    "#dataset[10]\n",
    "\n",
    "# ['/media/salim/DD 2To/AHL2011_Validated_DICOMS/13011101391019/1.2.124.113532.172.16.4.13.20130416.213156.2050918/1.2.840.113619.2.290.3.279712783.8.1366178187.547/1.2.840.113619.2.290.3.279712783.8.1366178187.547', '/media/salim/DD 2To/AHL2011_Validated_DICOMS/13011101391019/1.2.124.113532.172.16.4.13.20130416.213156.2050918/1.2.840.113619.2.290.3.279712783.8.1366178186.947.3/1.2.840.113619.2.290.3.279712783.8.1366178186.947.3', 'arb_al_apr 17_2013.csv']"
   ]
  },
  {
   "cell_type": "code",
   "execution_count": 5,
   "metadata": {},
   "outputs": [
    {
     "data": {
      "text/plain": "['/media/salim/DD 2To/AHL2011_Validated_DICOMS/13011101391021/1.2.124.113532.172.16.4.13.20130618.214008.2108115/1.2.840.113619.2.290.3.279712783.738.1371622390.965/1.2.840.113619.2.290.3.279712783.738.1371622390.965',\n '/media/salim/DD 2To/AHL2011_Validated_DICOMS/13011101391021/1.2.124.113532.172.16.4.13.20130618.214008.2108115/1.2.840.113619.2.290.3.279712783.738.1371622390.664.3/1.2.840.113619.2.290.3.279712783.738.1371622390.664.3',\n 'lop_jo_jun 19_2013.csv']"
     },
     "execution_count": 5,
     "metadata": {},
     "output_type": "execute_result"
    }
   ],
   "source": [
    "#index des unconstant sapcing serie = 6, 11\n",
    "dataset.pop(6)\n",
    "dataset.pop(11)\n"
   ]
  },
  {
   "cell_type": "code",
   "execution_count": 8,
   "metadata": {},
   "outputs": [
    {
     "data": {
      "text/plain": "615"
     },
     "execution_count": 8,
     "metadata": {},
     "output_type": "execute_result"
    }
   ],
   "source": [
    "len(dataset)"
   ]
  },
  {
   "cell_type": "code",
   "execution_count": 7,
   "metadata": {},
   "outputs": [
    {
     "name": "stdout",
     "output_type": "stream",
     "text": "['/media/salim/DD 2To/AHL2011_Validated_DICOMS/13011101331015/1.2.124.113532.10.149.172.5.20131107.93455.7725981/1.2.840.113619.2.290.3.2500492204.268.1383804922.866.3/1.2.840.113619.2.290.3.2500492204.268.1383804922.866.3', '/media/salim/DD 2To/AHL2011_Validated_DICOMS/13011101331015/1.2.124.113532.10.149.172.5.20131107.93455.7725981/1.2.840.113619.2.290.3.2500492204.268.1383804923.167/1.2.840.113619.2.290.3.2500492204.268.1383804923.167', 'con_da_nov 7_2013.csv']\nCT\nPT\nserie PT, generation du mask avec fichier csv associée\n[256, 256, 299]\n{1: {'SUV_max': 4.52, 'SUV_mean': 2.66, 'SD': 0.55}, 2: {'SUV_max': 8.19, 'SUV_mean': 4.58, 'SD': 1.14}, 3: {'SUV_max': 3.58, 'SUV_mean': 2.16, 'SD': 0.53}, 4: {'SUV_max': 8.34, 'SUV_mean': 5.24, 'SD': 1.28}, 5: {'SUV_max': 9.27, 'SUV_mean': 5.31, 'SD': 1.14}, 6: {'SUV_max': 5.78, 'SUV_mean': 3.27, 'SD': 0.63}, 7: {'SUV_max': 11.71, 'SUV_mean': 6.21, 'SD': 1.23}, 8: {'SUV_max': 13.11, 'SUV_mean': 7.16, 'SD': 1.38}, 9: {'SUV_max': 12.21, 'SUV_mean': 6.77, 'SD': 1.38}, 10: {'SUV_max': 13.79, 'SUV_mean': 7.71, 'SD': 1.48}, 11: {'SUV_max': 5.99, 'SUV_mean': 3.29, 'SD': 0.62}, 12: {'SUV_max': 4.23, 'SUV_mean': 2.42, 'SD': 0.56}, 13: {'SUV_max': 5.19, 'SUV_mean': 2.82, 'SD': 0.65}, 14: {'SUV_max': 4.97, 'SUV_mean': 2.97, 'SD': 0.59}, 15: {'SUV_max': 8.78, 'SUV_mean': 4.29, 'SD': 0.61}, 16: {'SUV_max': 5.75, 'SUV_mean': 3.25, 'SD': 0.73}, 17: {'SUV_max': 7.35, 'SUV_mean': 4.29, 'SD': 1.12}, 18: {'SUV_max': 5.99, 'SUV_mean': 3.25, 'SD': 0.64}}\nerreur calcul suv, philips\n[]\n['/media/salim/DD 2To/AHL2011_Validated_DICOMS/13011101051001/1.2.124.113532.172.16.25.2.20110720.111654.943617/1.3.46.670589.28.2.12.21.6047.2953.2.3340.0.1311158101/1.3.46.670589.28.2.12.21.6047.2953.2.3340.0.1311158101', '/media/salim/DD 2To/AHL2011_Validated_DICOMS/13011101051001/1.2.124.113532.172.16.25.2.20110720.111654.943617/1.2.840.113704.1.111.7748.1311156931.8/1.2.840.113704.1.111.7748.1311156931.8', 'bou_sa_jul 20_2011.csv']\nPT\nserie PT, generation du mask avec fichier csv associée\n[144, 144, 213]\n{1: {'SUV_max': 17.28, 'SUV_mean': 12.03, 'SD': 2.46}}\nerreur calcul suv, philips\n[]\nCT\n['/media/salim/DD 2To/AHL2011_Validated_DICOMS/13011101431006/1.2.124.113532.172.16.25.2.20120125.456.1038547/1.3.46.670589.28.2.12.21.6047.2953.2.2148.0.1327586717/1.3.46.670589.28.2.12.21.6047.2953.2.2148.0.1327586717', '/media/salim/DD 2To/AHL2011_Validated_DICOMS/13011101431006/1.2.124.113532.172.16.25.2.20120125.456.1038547/1.2.840.113704.1.111.6380.1327585449.11/1.2.840.113704.1.111.6380.1327585449.11', 'bou_ya_jan 26_2012.csv']\nPT\nserie PT, generation du mask avec fichier csv associée\n[144, 144, 213]\n{1: {'SUV_max': 3.75, 'SUV_mean': 2.18, 'SD': 0.57}, 2: {'SUV_max': 3.39, 'SUV_mean': 2.12, 'SD': 0.52}, 3: {'SUV_max': 4.06, 'SUV_mean': 2.56, 'SD': 0.63}, 4: {'SUV_max': 2.32, 'SUV_mean': 1.29, 'SD': 0.31}, 5: {'SUV_max': 4.18, 'SUV_mean': 2.45, 'SD': 0.61}, 6: {'SUV_max': 4.41, 'SUV_mean': 2.34, 'SD': 0.54}, 7: {'SUV_max': 3.03, 'SUV_mean': 1.68, 'SD': 0.4}, 8: {'SUV_max': 6.97, 'SUV_mean': 3.98, 'SD': 0.99}, 9: {'SUV_max': 3.09, 'SUV_mean': 1.8, 'SD': 0.53}, 10: {'SUV_max': 2.55, 'SUV_mean': 1.63, 'SD': 0.36}, 11: {'SUV_max': 2.87, 'SUV_mean': 1.65, 'SD': 0.39}, 12: {'SUV_max': 4.94, 'SUV_mean': 2.84, 'SD': 0.72}, 13: {'SUV_max': 3.42, 'SUV_mean': 1.95, 'SD': 0.49}, 14: {'SUV_max': 4.06, 'SUV_mean': 2.18, 'SD': 0.47}, 15: {'SUV_max': 2.94, 'SUV_mean': 1.57, 'SD': 0.38}, 16: {'SUV_max': 8.19, 'SUV_mean': 5.2, 'SD': 1.34}, 17: {'SUV_max': 2.04, 'SUV_mean': 1.2, 'SD': 0.26}, 18: {'SUV_max': 4.76, 'SUV_mean': 2.67, 'SD': 0.64}, 19: {'SUV_max': 1.97, 'SUV_mean': 1.54, 'SD': 0.23}}\nerreur calcul suv, philips\n[0.29000000000000004, 0.27, 0.3200000000000003, 0.18000000000000016, 0.33000000000000007, 0.34999999999999964, 0.2400000000000002, 0.5600000000000005, 0.25, 0.20000000000000018, 0.22999999999999998, 0.3899999999999997, 0.27, 0.3200000000000003, 0.22999999999999998, 0.6500000000000004, 0.16000000000000014, 0.3700000000000001, 0.15999999999999992]\nCT\n['/media/salim/DD 2To/AHL2011_Validated_DICOMS/13011101431010/1.2.124.113532.172.16.25.2.20120605.739.1104125/1.2.840.113704.1.111.5244.1339151088.11/imagys_AHL2011_13011101431010_f812bc05-4748-4b0a-bd1c-1e4a3954c530', '/media/salim/DD 2To/AHL2011_Validated_DICOMS/13011101431010/1.2.124.113532.172.16.25.2.20120605.739.1104125/1.3.46.670589.28.2.12.21.6047.2953.2.2200.0.1339152332/imagys_AHL2011_13011101431010_37a1f66e-91db-4705-824e-33524671308e', 'san_ma_jun 8_2012.csv']\nCT\nPT\nserie PT, generation du mask avec fichier csv associée\n[144, 144, 213]\n{1: {'SUV_max': 3.85, 'SUV_mean': 2.11, 'SD': 0.43}, 2: {'SUV_max': 5.4, 'SUV_mean': 2.88, 'SD': 0.59}, 3: {'SUV_max': 4.5, 'SUV_mean': 2.63, 'SD': 0.62}, 4: {'SUV_max': 2.65, 'SUV_mean': 1.62, 'SD': 0.48}, 5: {'SUV_max': 7.59, 'SUV_mean': 3.81, 'SD': 0.78}, 6: {'SUV_max': 7.07, 'SUV_mean': 3.65, 'SD': 0.68}, 7: {'SUV_max': 5.55, 'SUV_mean': 3.07, 'SD': 0.62}, 8: {'SUV_max': 4.61, 'SUV_mean': 2.65, 'SD': 0.7}, 9: {'SUV_max': 2.57, 'SUV_mean': 1.59, 'SD': 0.43}, 10: {'SUV_max': 2.73, 'SUV_mean': 1.66, 'SD': 0.43}, 11: {'SUV_max': 3.18, 'SUV_mean': 1.98, 'SD': 0.51}, 12: {'SUV_max': 5.46, 'SUV_mean': 3.01, 'SD': 0.63}, 13: {'SUV_max': 4.41, 'SUV_mean': 2.54, 'SD': 0.62}, 14: {'SUV_max': 3.7, 'SUV_mean': 2.2, 'SD': 0.55}, 15: {'SUV_max': 2.53, 'SUV_mean': 1.6, 'SD': 0.39}, 16: {'SUV_max': 2.72, 'SUV_mean': 1.51, 'SD': 0.34}, 17: {'SUV_max': 5.83, 'SUV_mean': 3.21, 'SD': 0.72}, 18: {'SUV_max': 4.5, 'SUV_mean': 2.67, 'SD': 0.63}, 19: {'SUV_max': 3.18, 'SUV_mean': 2.46, 'SD': 0.39}}\nerreur calcul suv, philips\n[0.30000000000000027, 0.4299999999999997, 0.3600000000000003, 0.20999999999999996, 0.6099999999999994, 0.5599999999999996, 0.4400000000000004, 0.35999999999999943, 0.20999999999999996, 0.20999999999999996, 0.25, 0.4299999999999997, 0.34999999999999964, 0.2999999999999998, 0.11000000000000032, 0.31000000000000005, 0.46999999999999975, 0.3600000000000003, 0.25]\n['/media/salim/DD 2To/AHL2011_Validated_DICOMS/13011101431009/1.2.124.113532.172.16.25.2.20120606.612.1104622/1.2.840.113704.1.111.7208.1339152358.11/1.2.840.113704.1.111.7208.1339152358.11', '/media/salim/DD 2To/AHL2011_Validated_DICOMS/13011101431009/1.2.124.113532.172.16.25.2.20120606.612.1104622/1.3.46.670589.28.2.12.21.6046.64205.2.1432.0.1339153772/1.3.46.670589.28.2.12.21.6046.64205.2.1432.0.1339153772', 'rig_el_jun 8_2012.csv']\nCT\nPT\nserie PT, generation du mask avec fichier csv associée\n[144, 144, 234]\n{1: {'SUV_max': 10.86, 'SUV_mean': 6.68, 'SD': 1.37}}\nerreur calcul suv, philips\n[0.9900000000000002]\n['/media/salim/DD 2To/AHL2011_Validated_DICOMS/13011101431011/1.2.124.113532.172.16.25.2.20120716.81922.1126423/1.2.840.113704.1.111.7108.1342703962.11/imagys_AHL2011_13011101431011_4f47b5d8-c16e-4f32-842c-c9c3d36b7124', '/media/salim/DD 2To/AHL2011_Validated_DICOMS/13011101431011/1.2.124.113532.172.16.25.2.20120716.81922.1126423/1.3.46.670589.28.2.12.21.6046.64205.2.1680.0.1342705432/1.3.46.670589.28.2.12.21.6046.64205.2.1680.0.1342705432', 'aul_fl_jul 19_2012.csv']\nCT\nPT\nserie PT, generation du mask avec fichier csv associée\n[144, 144, 213]\n{1: {'SUV_max': 8.77, 'SUV_mean': 5.34, 'SD': 1.23}, 2: {'SUV_max': 11.7, 'SUV_mean': 6.67, 'SD': 1.55}, 3: {'SUV_max': 8.83, 'SUV_mean': 5.13, 'SD': 1.25}, 4: {'SUV_max': 11.02, 'SUV_mean': 6.43, 'SD': 1.49}, 5: {'SUV_max': 15.04, 'SUV_mean': 8.95, 'SD': 2.27}, 6: {'SUV_max': 13.89, 'SUV_mean': 8.07, 'SD': 2.3}, 7: {'SUV_max': 12.08, 'SUV_mean': 7.26, 'SD': 1.88}, 8: {'SUV_max': 7.35, 'SUV_mean': 4.37, 'SD': 1.09}, 9: {'SUV_max': 6.29, 'SUV_mean': 3.86, 'SD': 0.99}, 10: {'SUV_max': 8.32, 'SUV_mean': 5.19, 'SD': 1.39}, 11: {'SUV_max': 11.72, 'SUV_mean': 6.58, 'SD': 1.46}, 12: {'SUV_max': 13.35, 'SUV_mean': 7.38, 'SD': 1.69}, 13: {'SUV_max': 12.01, 'SUV_mean': 6.71, 'SD': 1.46}, 14: {'SUV_max': 7.63, 'SUV_mean': 4.66, 'SD': 1.2}, 15: {'SUV_max': 6.85, 'SUV_mean': 4.02, 'SD': 0.99}, 16: {'SUV_max': 7.74, 'SUV_mean': 4.19, 'SD': 0.97}, 17: {'SUV_max': 7.97, 'SUV_mean': 4.51, 'SD': 1.02}, 18: {'SUV_max': 5.06, 'SUV_mean': 3.03, 'SD': 0.8}, 19: {'SUV_max': 6.58, 'SUV_mean': 4.04, 'SD': 1.05}, 20: {'SUV_max': 3.91, 'SUV_mean': 2.57, 'SD': 0.63}, 21: {'SUV_max': 16.96, 'SUV_mean': 9.12, 'SD': 1.67}, 22: {'SUV_max': 12.9, 'SUV_mean': 6.81, 'SD': 1.35}, 23: {'SUV_max': 4.7, 'SUV_mean': 2.82, 'SD': 0.81}, 24: {'SUV_max': 7.77, 'SUV_mean': 4.95, 'SD': 1.38}, 25: {'SUV_max': 11.02, 'SUV_mean': 6.11, 'SD': 1.27}, 26: {'SUV_max': 3.68, 'SUV_mean': 2.17, 'SD': 0.56}, 27: {'SUV_max': 6.23, 'SUV_mean': 3.7, 'SD': 0.91}, 28: {'SUV_max': 2.93, 'SUV_mean': 2.23, 'SD': 0.34}, 29: {'SUV_max': 4.93, 'SUV_mean': 3.56, 'SD': 0.66}, 30: {'SUV_max': 5.02, 'SUV_mean': 3.42, 'SD': 0.68}, 31: {'SUV_max': 5.01, 'SUV_mean': 4.18, 'SD': 0.42}, 32: {'SUV_max': 4.87, 'SUV_mean': 3.56, 'SD': 0.63}, 33: {'SUV_max': 4.77, 'SUV_mean': 3.33, 'SD': 0.69}, 34: {'SUV_max': 4.95, 'SUV_mean': 3.52, 'SD': 0.59}, 35: {'SUV_max': 4.69, 'SUV_mean': 3.74, 'SD': 0.5}, 36: {'SUV_max': 4.54, 'SUV_mean': 3.59, 'SD': 0.66}, 37: {'SUV_max': 4.81, 'SUV_mean': 4.04, 'SD': 0.36}, 38: {'SUV_max': 4.93, 'SUV_mean': 3.12, 'SD': 0.72}, 39: {'SUV_max': 5.12, 'SUV_mean': 3.13, 'SD': 0.68}, 40: {'SUV_max': 4.72, 'SUV_mean': 3.33, 'SD': 0.69}}\nerreur calcul suv, philips\n[0.7000000000000011, 0.9400000000000013, 0.6999999999999993, 0.8800000000000008, 1.1999999999999993, 1.1099999999999994, 0.9599999999999991, 0.5900000000000007, 0.5099999999999998, 0.6699999999999999, 0.9299999999999997, 1.0600000000000005, 0.41999999999999993, 0.6100000000000003, 0.5500000000000007, 0.6099999999999994, 0.6399999999999997, 0.40000000000000036, 0.5199999999999996, 0.3099999999999996, 1.3499999999999979, 1.0299999999999994, 0.3799999999999999, 0.620000000000001, 0.8800000000000008, 0.29000000000000004, 0.4899999999999993, 0.22999999999999998, 0.39000000000000057, 0.40000000000000036, 0.40000000000000036, 0.3899999999999997, 0.3800000000000008, 0.3899999999999997, 0.3699999999999992, 0.3600000000000003, 0.3800000000000008, 0.40000000000000036, 0.41000000000000014, 0.3700000000000001]\n['/media/salim/DD 2To/AHL2011_Validated_DICOMS/13011101431013/1.2.124.113532.172.16.25.2.20130227.619.1243517/1.3.46.670589.28.2.12.48.18629.43624.2.3692.0.1362048220/1.3.46.670589.28.2.12.48.18629.43624.2.3692.0.1362048220', '/media/salim/DD 2To/AHL2011_Validated_DICOMS/13011101431013/1.2.124.113532.172.16.25.2.20130227.619.1243517/1.2.840.113704.1.111.8164.1362046854.11/1.2.840.113704.1.111.8164.1362046854.11', 'pin_jo_feb 28_2013.csv']\nPT\nserie PT, generation du mask avec fichier csv associée\n[144, 144, 234]\n{1: {'SUV_max': 16.5, 'SUV_mean': 9.9, 'SD': 2.35}, 2: {'SUV_max': 5.75, 'SUV_mean': 3.3, 'SD': 0.76}, 3: {'SUV_max': 4.66, 'SUV_mean': 2.56, 'SD': 0.6}, 4: {'SUV_max': 3.33, 'SUV_mean': 2.01, 'SD': 0.51}, 5: {'SUV_max': 5.51, 'SUV_mean': 3.1, 'SD': 0.68}, 6: {'SUV_max': 7.06, 'SUV_mean': 4.07, 'SD': 0.93}, 7: {'SUV_max': 4.43, 'SUV_mean': 2.8, 'SD': 0.74}, 8: {'SUV_max': 4.29, 'SUV_mean': 2.48, 'SD': 0.6}, 9: {'SUV_max': 10.62, 'SUV_mean': 5.7, 'SD': 1.06}, 10: {'SUV_max': 8.12, 'SUV_mean': 4.87, 'SD': 1.09}, 11: {'SUV_max': 3.6, 'SUV_mean': 2.0, 'SD': 0.49}, 12: {'SUV_max': 6.4, 'SUV_mean': 3.63, 'SD': 0.81}, 13: {'SUV_max': 3.41, 'SUV_mean': 2.06, 'SD': 0.44}, 14: {'SUV_max': 3.55, 'SUV_mean': 2.15, 'SD': 0.56}, 15: {'SUV_max': 2.82, 'SUV_mean': 2.04, 'SD': 0.36}}\nerreur calcul suv, philips\n[1.4800000000000004, 0.5099999999999998, 0.41999999999999993, 0.29000000000000004, 0.4900000000000002, 0.6300000000000008, 0.39000000000000057, 0.3899999999999997, 0.9500000000000011, 0.7300000000000004, 0.31999999999999984, 0.5499999999999998, 0.31000000000000005, 0.31000000000000005, 0.25]\nCT\n['/media/salim/DD 2To/AHL2011_Validated_DICOMS/13011101431016/1.2.124.113532.172.16.25.2.20130601.521.1298162/1.2.840.113704.1.111.6448.1370336460.11/1.2.840.113704.1.111.6448.1370336460.11', '/media/salim/DD 2To/AHL2011_Validated_DICOMS/13011101431016/1.2.124.113532.172.16.25.2.20130601.521.1298162/1.3.46.670589.28.2.12.30.26421.40576.2.1336.0.1370380574/1.3.46.670589.28.2.12.30.26421.40576.2.1336.0.1370380574', 'alt_bi_jun 4_2013.csv']\nCT\nPT\nserie PT, generation du mask avec fichier csv associée\n[144, 144, 234]\n{1: {'SUV_max': 4.13, 'SUV_mean': 2.33, 'SD': 0.61}, 2: {'SUV_max': 6.73, 'SUV_mean': 3.95, 'SD': 0.95}, 3: {'SUV_max': 8.96, 'SUV_mean': 4.81, 'SD': 0.95}, 4: {'SUV_max': 5.92, 'SUV_mean': 3.45, 'SD': 0.86}, 5: {'SUV_max': 7.57, 'SUV_mean': 4.21, 'SD': 0.78}, 6: {'SUV_max': 10.13, 'SUV_mean': 5.15, 'SD': 0.96}, 7: {'SUV_max': 9.35, 'SUV_mean': 4.91, 'SD': 1.1}, 8: {'SUV_max': 4.09, 'SUV_mean': 2.25, 'SD': 0.5}, 9: {'SUV_max': 3.52, 'SUV_mean': 1.96, 'SD': 0.4}, 10: {'SUV_max': 4.07, 'SUV_mean': 2.32, 'SD': 0.57}, 11: {'SUV_max': 4.86, 'SUV_mean': 2.71, 'SD': 0.6}, 12: {'SUV_max': 3.55, 'SUV_mean': 2.17, 'SD': 0.54}}\nerreur calcul suv, philips\n[0.3700000000000001, 0.5999999999999996, 0.7999999999999989, 0.5300000000000002, 0.6799999999999997, 0.9099999999999984, 0.8399999999999999, 0.3700000000000001, 0.31999999999999984, 0.3700000000000001, 0.7400000000000002, 0.3200000000000003]\n['/media/salim/DD 2To/AHL2011_Validated_DICOMS/13011101431017/1.2.124.113532.172.16.25.2.20130717.529.1327224/1.2.840.113704.1.111.7840.1374146611.11/1.2.840.113704.1.111.7840.1374146611.11', '/media/salim/DD 2To/AHL2011_Validated_DICOMS/13011101431017/1.2.124.113532.172.16.25.2.20130717.529.1327224/1.3.46.670589.28.2.12.30.26421.36112.2.2640.0.1374191278/1.3.46.670589.28.2.12.30.26421.36112.2.2640.0.1374191278', 'ber_gr_jul 18_2013.csv']\nCT\nPT\nserie PT, generation du mask avec fichier csv associée\n[169, 169, 255]\n{1: {'SUV_max': 8.69, 'SUV_mean': 5.45, 'SD': 1.45}, 2: {'SUV_max': 3.36, 'SUV_mean': 2.01, 'SD': 0.64}, 3: {'SUV_max': 2.38, 'SUV_mean': 1.51, 'SD': 0.34}, 4: {'SUV_max': 4.18, 'SUV_mean': 2.28, 'SD': 0.49}, 5: {'SUV_max': 5.63, 'SUV_mean': 3.39, 'SD': 0.81}, 6: {'SUV_max': 4.45, 'SUV_mean': 2.73, 'SD': 0.74}, 7: {'SUV_max': 3.15, 'SUV_mean': 1.82, 'SD': 0.41}, 8: {'SUV_max': 5.21, 'SUV_mean': 2.93, 'SD': 0.6}, 9: {'SUV_max': 5.21, 'SUV_mean': 2.85, 'SD': 0.55}, 10: {'SUV_max': 3.3, 'SUV_mean': 1.84, 'SD': 0.44}, 11: {'SUV_max': 2.7, 'SUV_mean': 1.41, 'SD': 0.28}, 12: {'SUV_max': 2.14, 'SUV_mean': 1.24, 'SD': 0.35}, 13: {'SUV_max': 8.33, 'SUV_mean': 5.73, 'SD': 0.95}, 14: {'SUV_max': 7.51, 'SUV_mean': 5.26, 'SD': 1.05}, 15: {'SUV_max': 2.73, 'SUV_mean': 1.64, 'SD': 0.4}, 16: {'SUV_max': 2.48, 'SUV_mean': 1.56, 'SD': 0.34}, 17: {'SUV_max': 2.46, 'SUV_mean': 1.7, 'SD': 0.28}, 18: {'SUV_max': 2.65, 'SUV_mean': 1.93, 'SD': 0.36}}\nerreur calcul suv, philips\n[1.0700000000000003, 0.41000000000000014, 0.29000000000000004, 0.5100000000000007, 0.7000000000000002, 0.5499999999999998, 0.3900000000000001, 0.6399999999999997, 0.6399999999999997, 0.40000000000000036, 0.33999999999999986, 1.0199999999999996, 0.9199999999999999, 0.33000000000000007, 0.31000000000000005, 0.33000000000000007]\n['/media/salim/DD 2To/AHL2011_Validated_DICOMS/13011101051023/1.2.124.113532.172.16.25.2.20130913.93308.1355502/1.2.840.113704.1.111.9676.1379066058.11/1.2.840.113704.1.111.9676.1379066058.11', '/media/salim/DD 2To/AHL2011_Validated_DICOMS/13011101051023/1.2.124.113532.172.16.25.2.20130913.93308.1355502/1.3.46.670589.28.2.12.21.6074.1601.2.1312.0.1379068562/1.3.46.670589.28.2.12.21.6074.1601.2.1312.0.1379068562', 'eyn_so_sep 13_2013.csv']\nCT\nPT\nserie PT, generation du mask avec fichier csv associée\n[169, 169, 234]\n{1: {'SUV_max': 6.96, 'SUV_mean': 4.28, 'SD': 1.01}, 2: {'SUV_max': 17.97, 'SUV_mean': 11.38, 'SD': 2.85}, 3: {'SUV_max': 17.97, 'SUV_mean': 11.05, 'SD': 2.71}, 4: {'SUV_max': 7.92, 'SUV_mean': 4.34, 'SD': 0.94}, 5: {'SUV_max': 16.63, 'SUV_mean': 10.77, 'SD': 2.39}, 6: {'SUV_max': 22.27, 'SUV_mean': 13.83, 'SD': 2.72}, 7: {'SUV_max': 18.47, 'SUV_mean': 12.16, 'SD': 2.44}, 8: {'SUV_max': 16.65, 'SUV_mean': 11.14, 'SD': 2.52}, 9: {'SUV_max': 10.98, 'SUV_mean': 6.97, 'SD': 1.77}, 10: {'SUV_max': 16.65, 'SUV_mean': 12.13, 'SD': 2.26}, 11: {'SUV_max': 8.09, 'SUV_mean': 5.06, 'SD': 1.43}, 12: {'SUV_max': 21.17, 'SUV_mean': 14.72, 'SD': 3.69}, 13: {'SUV_max': 7.33, 'SUV_mean': 4.4, 'SD': 0.98}}\nerreur calcul suv, philips\n[1.0200000000000005]\n['/media/salim/DD 2To/AHL2011_Validated_DICOMS/13011101391019/1.2.124.113532.172.16.4.13.20130416.213156.2050918/1.2.840.113619.2.290.3.279712783.8.1366178187.547/1.2.840.113619.2.290.3.279712783.8.1366178187.547', '/media/salim/DD 2To/AHL2011_Validated_DICOMS/13011101391019/1.2.124.113532.172.16.4.13.20130416.213156.2050918/1.2.840.113619.2.290.3.279712783.8.1366178186.947.3/1.2.840.113619.2.290.3.279712783.8.1366178186.947.3', 'arb_al_apr 17_2013.csv']\nPT\nserie PT, generation du mask avec fichier csv associée\n[256, 256, 299]\n{1: {'SUV_max': 6.89, 'SUV_mean': 4.2, 'SD': 1.09}, 2: {'SUV_max': 10.51, 'SUV_mean': 5.9, 'SD': 1.3}, 3: {'SUV_max': 9.5, 'SUV_mean': 5.17, 'SD': 1.13}, 4: {'SUV_max': 10.07, 'SUV_mean': 5.97, 'SD': 1.27}, 5: {'SUV_max': 11.88, 'SUV_mean': 6.48, 'SD': 1.21}, 6: {'SUV_max': 11.15, 'SUV_mean': 6.72, 'SD': 1.54}, 7: {'SUV_max': 3.47, 'SUV_mean': 2.13, 'SD': 0.57}, 8: {'SUV_max': 3.31, 'SUV_mean': 2.13, 'SD': 0.44}, 9: {'SUV_max': 5.26, 'SUV_mean': 3.32, 'SD': 0.78}, 10: {'SUV_max': 2.87, 'SUV_mean': 1.8, 'SD': 0.46}, 11: {'SUV_max': 4.2, 'SUV_mean': 2.39, 'SD': 0.63}, 12: {'SUV_max': 5.85, 'SUV_mean': 3.38, 'SD': 0.79}, 13: {'SUV_max': 5.75, 'SUV_mean': 3.2, 'SD': 0.72}, 14: {'SUV_max': 3.6, 'SUV_mean': 2.1, 'SD': 0.53}, 15: {'SUV_max': 6.61, 'SUV_mean': 3.82, 'SD': 0.92}, 16: {'SUV_max': 6.52, 'SUV_mean': 4.02, 'SD': 0.96}, 17: {'SUV_max': 5.28, 'SUV_mean': 2.9, 'SD': 0.67}, 18: {'SUV_max': 7.88, 'SUV_mean': 4.63, 'SD': 1.16}, 19: {'SUV_max': 9.71, 'SUV_mean': 5.66, 'SD': 1.36}, 20: {'SUV_max': 5.0, 'SUV_mean': 2.84, 'SD': 0.63}, 21: {'SUV_max': 12.09, 'SUV_mean': 6.91, 'SD': 1.37}, 22: {'SUV_max': 5.43, 'SUV_mean': 3.28, 'SD': 0.77}, 23: {'SUV_max': 2.73, 'SUV_mean': 1.78, 'SD': 0.43}, 24: {'SUV_max': 2.9, 'SUV_mean': 2.01, 'SD': 0.47}, 25: {'SUV_max': 7.08, 'SUV_mean': 4.52, 'SD': 1.15}, 26: {'SUV_max': 6.06, 'SUV_mean': 3.29, 'SD': 0.72}, 27: {'SUV_max': 10.09, 'SUV_mean': 5.66, 'SD': 1.21}, 28: {'SUV_max': 10.32, 'SUV_mean': 6.13, 'SD': 1.44}, 29: {'SUV_max': 4.96, 'SUV_mean': 2.74, 'SD': 0.61}, 30: {'SUV_max': 2.88, 'SUV_mean': 1.95, 'SD': 0.54}, 31: {'SUV_max': 4.1, 'SUV_mean': 2.44, 'SD': 0.54}}\nerreur calcul suv, philips\n[0.48, 1.4099999999999993]\nCT\n"
    },
    {
     "ename": "Exception",
     "evalue": "Unconstant Spacing",
     "output_type": "error",
     "traceback": [
      "\u001b[0;31m---------------------------------------------------------------------------\u001b[0m",
      "\u001b[0;31mException\u001b[0m                                 Traceback (most recent call last)",
      "\u001b[0;32m<ipython-input-7-f433aa618a72>\u001b[0m in \u001b[0;36m<module>\u001b[0;34m\u001b[0m\n\u001b[1;32m     24\u001b[0m             \u001b[0mserie_ct_objet\u001b[0m \u001b[0;34m=\u001b[0m \u001b[0mSeriesCT\u001b[0m\u001b[0;34m(\u001b[0m\u001b[0mserie\u001b[0m\u001b[0;34m[\u001b[0m\u001b[0mi\u001b[0m\u001b[0;34m]\u001b[0m\u001b[0;34m)\u001b[0m\u001b[0;34m\u001b[0m\u001b[0;34m\u001b[0m\u001b[0m\n\u001b[1;32m     25\u001b[0m             \u001b[0mserie_ct_objet\u001b[0m\u001b[0;34m.\u001b[0m\u001b[0mget_numpy_array\u001b[0m\u001b[0;34m(\u001b[0m\u001b[0;34m)\u001b[0m\u001b[0;34m\u001b[0m\u001b[0;34m\u001b[0m\u001b[0m\n\u001b[0;32m---> 26\u001b[0;31m             \u001b[0mserie_ct_objet\u001b[0m\u001b[0;34m.\u001b[0m\u001b[0mexport_nifti\u001b[0m\u001b[0;34m(\u001b[0m\u001b[0mos\u001b[0m\u001b[0;34m.\u001b[0m\u001b[0mpath\u001b[0m\u001b[0;34m.\u001b[0m\u001b[0mjoin\u001b[0m\u001b[0;34m(\u001b[0m\u001b[0mnifti_directory\u001b[0m\u001b[0;34m,\u001b[0m \u001b[0mfilename\u001b[0m\u001b[0;34m)\u001b[0m\u001b[0;34m)\u001b[0m\u001b[0;34m\u001b[0m\u001b[0;34m\u001b[0m\u001b[0m\n\u001b[0m\u001b[1;32m     27\u001b[0m \u001b[0;34m\u001b[0m\u001b[0m\n\u001b[1;32m     28\u001b[0m \u001b[0;34m\u001b[0m\u001b[0m\n",
      "\u001b[0;32m~/library-DICOM/library_dicom/dicom_processor/model/Series.py\u001b[0m in \u001b[0;36mexport_nifti\u001b[0;34m(self, file_path)\u001b[0m\n\u001b[1;32m    117\u001b[0m     \u001b[0;32mdef\u001b[0m \u001b[0mexport_nifti\u001b[0m\u001b[0;34m(\u001b[0m\u001b[0mself\u001b[0m\u001b[0;34m,\u001b[0m \u001b[0mfile_path\u001b[0m\u001b[0;34m)\u001b[0m\u001b[0;34m:\u001b[0m\u001b[0;34m\u001b[0m\u001b[0;34m\u001b[0m\u001b[0m\n\u001b[1;32m    118\u001b[0m         \u001b[0mnifti_builder\u001b[0m \u001b[0;34m=\u001b[0m \u001b[0mNiftiBuilder\u001b[0m\u001b[0;34m(\u001b[0m\u001b[0mself\u001b[0m\u001b[0;34m)\u001b[0m\u001b[0;34m\u001b[0m\u001b[0;34m\u001b[0m\u001b[0m\n\u001b[0;32m--> 119\u001b[0;31m         \u001b[0mnifti_builder\u001b[0m\u001b[0;34m.\u001b[0m\u001b[0msave_nifti\u001b[0m\u001b[0;34m(\u001b[0m\u001b[0mfile_path\u001b[0m\u001b[0;34m)\u001b[0m\u001b[0;34m\u001b[0m\u001b[0;34m\u001b[0m\u001b[0m\n\u001b[0m\u001b[1;32m    120\u001b[0m \u001b[0;34m\u001b[0m\u001b[0m\n\u001b[1;32m    121\u001b[0m     \u001b[0;32mdef\u001b[0m \u001b[0mget_all_SOPInstanceIUD\u001b[0m\u001b[0;34m(\u001b[0m\u001b[0mself\u001b[0m\u001b[0;34m)\u001b[0m\u001b[0;34m:\u001b[0m\u001b[0;34m\u001b[0m\u001b[0;34m\u001b[0m\u001b[0m\n",
      "\u001b[0;32m~/library-DICOM/library_dicom/dicom_processor/model/NiftiBuilder.py\u001b[0m in \u001b[0;36msave_nifti\u001b[0;34m(self, filename, mask)\u001b[0m\n\u001b[1;32m     20\u001b[0m         \u001b[0msitk_img\u001b[0m\u001b[0;34m.\u001b[0m\u001b[0mSetDirection\u001b[0m\u001b[0;34m(\u001b[0m \u001b[0;34m(\u001b[0m\u001b[0;36m1.0\u001b[0m\u001b[0;34m,\u001b[0m \u001b[0;36m0.0\u001b[0m\u001b[0;34m,\u001b[0m \u001b[0;36m0.0\u001b[0m\u001b[0;34m,\u001b[0m \u001b[0;36m0.0\u001b[0m\u001b[0;34m,\u001b[0m \u001b[0;36m1.0\u001b[0m\u001b[0;34m,\u001b[0m \u001b[0;36m0.0\u001b[0m\u001b[0;34m,\u001b[0m \u001b[0;36m0.0\u001b[0m\u001b[0;34m,\u001b[0m \u001b[0;36m0.0\u001b[0m\u001b[0;34m,\u001b[0m \u001b[0;36m1.0\u001b[0m\u001b[0;34m)\u001b[0m \u001b[0;34m)\u001b[0m\u001b[0;34m\u001b[0m\u001b[0;34m\u001b[0m\u001b[0m\n\u001b[1;32m     21\u001b[0m         \u001b[0msitk_img\u001b[0m\u001b[0;34m.\u001b[0m\u001b[0mSetOrigin\u001b[0m\u001b[0;34m(\u001b[0m \u001b[0mself\u001b[0m\u001b[0;34m.\u001b[0m\u001b[0mseries\u001b[0m\u001b[0;34m.\u001b[0m\u001b[0minstance_array\u001b[0m\u001b[0;34m[\u001b[0m\u001b[0;36m0\u001b[0m\u001b[0;34m]\u001b[0m\u001b[0;34m.\u001b[0m\u001b[0mget_image_position\u001b[0m\u001b[0;34m(\u001b[0m\u001b[0;34m)\u001b[0m \u001b[0;34m)\u001b[0m\u001b[0;34m\u001b[0m\u001b[0;34m\u001b[0m\u001b[0m\n\u001b[0;32m---> 22\u001b[0;31m         \u001b[0msitk_img\u001b[0m\u001b[0;34m.\u001b[0m\u001b[0mSetSpacing\u001b[0m\u001b[0;34m(\u001b[0m \u001b[0;34m(\u001b[0m\u001b[0moriginal_pixel_spacing\u001b[0m\u001b[0;34m[\u001b[0m\u001b[0;36m0\u001b[0m\u001b[0;34m]\u001b[0m\u001b[0;34m,\u001b[0m \u001b[0moriginal_pixel_spacing\u001b[0m\u001b[0;34m[\u001b[0m\u001b[0;36m1\u001b[0m\u001b[0;34m]\u001b[0m\u001b[0;34m,\u001b[0m \u001b[0mself\u001b[0m\u001b[0;34m.\u001b[0m\u001b[0mseries\u001b[0m\u001b[0;34m.\u001b[0m\u001b[0mget_z_spacing\u001b[0m\u001b[0;34m(\u001b[0m\u001b[0;34m)\u001b[0m\u001b[0;34m)\u001b[0m \u001b[0;34m)\u001b[0m\u001b[0;34m\u001b[0m\u001b[0;34m\u001b[0m\u001b[0m\n\u001b[0m\u001b[1;32m     23\u001b[0m         \u001b[0msitk\u001b[0m\u001b[0;34m.\u001b[0m\u001b[0mWriteImage\u001b[0m\u001b[0;34m(\u001b[0m\u001b[0msitk_img\u001b[0m\u001b[0;34m,\u001b[0m \u001b[0mfilename\u001b[0m\u001b[0;34m)\u001b[0m\u001b[0;34m\u001b[0m\u001b[0;34m\u001b[0m\u001b[0m\n",
      "\u001b[0;32m~/library-DICOM/library_dicom/dicom_processor/model/Series.py\u001b[0m in \u001b[0;36mget_z_spacing\u001b[0;34m(self)\u001b[0m\n\u001b[1;32m    110\u001b[0m             \u001b[0mz_spacing\u001b[0m \u001b[0;34m=\u001b[0m \u001b[0mround\u001b[0m\u001b[0;34m(\u001b[0m\u001b[0mZ_positions\u001b[0m\u001b[0;34m[\u001b[0m\u001b[0mi\u001b[0m\u001b[0;34m-\u001b[0m\u001b[0;36m1\u001b[0m\u001b[0;34m]\u001b[0m\u001b[0;34m-\u001b[0m\u001b[0mZ_positions\u001b[0m\u001b[0;34m[\u001b[0m\u001b[0mi\u001b[0m\u001b[0;34m]\u001b[0m\u001b[0;34m,\u001b[0m\u001b[0;36m2\u001b[0m\u001b[0;34m)\u001b[0m\u001b[0;34m\u001b[0m\u001b[0;34m\u001b[0m\u001b[0m\n\u001b[1;32m    111\u001b[0m             \u001b[0;32mif\u001b[0m \u001b[0;34m(\u001b[0m\u001b[0mz_spacing\u001b[0m\u001b[0;34m!=\u001b[0m\u001b[0minitial_z_spacing\u001b[0m\u001b[0;34m)\u001b[0m\u001b[0;34m:\u001b[0m\u001b[0;34m\u001b[0m\u001b[0;34m\u001b[0m\u001b[0m\n\u001b[0;32m--> 112\u001b[0;31m                 \u001b[0;32mraise\u001b[0m \u001b[0mException\u001b[0m\u001b[0;34m(\u001b[0m\u001b[0;34m'Unconstant Spacing'\u001b[0m\u001b[0;34m)\u001b[0m\u001b[0;34m\u001b[0m\u001b[0;34m\u001b[0m\u001b[0m\n\u001b[0m\u001b[1;32m    113\u001b[0m         \u001b[0;32mreturn\u001b[0m \u001b[0minitial_z_spacing\u001b[0m\u001b[0;34m\u001b[0m\u001b[0;34m\u001b[0m\u001b[0m\n\u001b[1;32m    114\u001b[0m \u001b[0;34m\u001b[0m\u001b[0m\n",
      "\u001b[0;31mException\u001b[0m: Unconstant Spacing"
     ]
    }
   ],
   "source": [
    "#serie1 = dataset[0]\n",
    "#print(serie1)\n",
    "nifti_directory = '/media/salim/DD 2To/AHL2011_NIFTI'\n",
    "\n",
    "\n",
    "csv_directory = '/media/salim/DD 2To/AHL2011_CSV_DATA/AHL2011-CSV'\n",
    "\n",
    "cpt = 0\n",
    "for serie in dataset : \n",
    "    print(serie)\n",
    "#serie CT / PT \n",
    "    for i in range(2):\n",
    "        #print(i)\n",
    "        #recupérer study IUD et CT PT dans le tri des données, dans le json \n",
    "        serie_object = Series(serie[i])\n",
    "        serie_data = serie_object.get_series_details()\n",
    "        modality = serie_data['series']['Modality'] #CT ou PT\n",
    "        print(modality)\n",
    "        study_uid = serie_data['study']['StudyInstanceUID']\n",
    "        filename = study_uid+'_'+'nifti_'+modality+'.nii'\n",
    "\n",
    "\n",
    "        if modality == 'CT' :\n",
    "            serie_ct_objet = SeriesCT(serie[i])\n",
    "            serie_ct_objet.get_numpy_array()\n",
    "            serie_ct_objet.export_nifti(os.path.join(nifti_directory, filename))\n",
    "            \n",
    "\n",
    "        if modality == 'PT':\n",
    "            print('serie PT, generation du mask avec fichier csv associée')\n",
    "            #print('1')\n",
    "            serie_pt_objet = SeriesPT(serie[i])\n",
    "            #print('2')\n",
    "            nifti_array = serie_pt_objet.get_numpy_array()\n",
    "            #print('3')\n",
    "\n",
    "            size_matrix = serie_pt_objet.get_size_matrix()\n",
    "            print(size_matrix)\n",
    "\n",
    "            mask_objet = MaskBuilder(os.path.join(csv_directory, serie[2]), size_matrix)\n",
    "            mask_4D = mask_objet.mask_array\n",
    "            print(mask_objet.calcul_suv(serie_pt_objet.get_numpy_array()))\n",
    "            if mask_objet.is_correct_suv(serie_object.get_numpy_array()) == False : \n",
    "                print(\"erreur calcul suv, philips\")\n",
    "                print(mask_objet.ecart_suv_max(nifti_array))\n",
    "\n",
    "                \n",
    "\n",
    "                \n",
    "                \n",
    "            \n",
    "            serie_object.export_nifti(os.path.join(nifti_directory, filename))\n",
    "\n",
    "    cpt += 1\n"
   ]
  },
  {
   "cell_type": "code",
   "execution_count": 61,
   "metadata": {},
   "outputs": [],
   "source": [
    "None"
   ]
  },
  {
   "cell_type": "code",
   "execution_count": 8,
   "metadata": {},
   "outputs": [
    {
     "name": "stdout",
     "output_type": "stream",
     "text": "['GE MEDICAL SYSTEMS', 'Philips Medical Systems', 'Philips Medical Systems', 'Philips Medical Systems', 'Philips Medical Systems', 'Philips Medical Systems', 'Philips Medical Systems', 'Philips Medical Systems', 'Philips Medical Systems', 'Philips Medical Systems', 'GE MEDICAL SYSTEMS', 'SIEMENS', 'SIEMENS', 'SIEMENS', 'SIEMENS', 'SIEMENS', 'SIEMENS', 'SIEMENS', 'SIEMENS', 'SIEMENS', 'SIEMENS', 'SIEMENS', 'SIEMENS', 'SIEMENS', 'SIEMENS', 'SIEMENS', 'SIEMENS', 'SIEMENS', 'SIEMENS', 'SIEMENS', 'SIEMENS', 'SIEMENS', 'SIEMENS', 'GE MEDICAL SYSTEMS', 'GE MEDICAL SYSTEMS', 'GE MEDICAL SYSTEMS', 'GE MEDICAL SYSTEMS', 'GE MEDICAL SYSTEMS', 'GE MEDICAL SYSTEMS', 'CPS', 'CPS', 'CPS', 'CPS', 'CPS', 'CPS', 'CPS', 'CPS', 'CPS', 'CPS', 'CPS', 'CPS', 'CPS', 'Philips Medical Systems', 'Philips Medical Systems', 'Philips Medical Systems', 'Philips Medical Systems', 'Philips Medical Systems', 'Philips Medical Systems', 'Philips Medical Systems', 'Philips Medical Systems', 'Philips Medical Systems', 'Philips Medical Systems', 'SIEMENS', 'SIEMENS', 'SIEMENS', 'SIEMENS', 'SIEMENS', 'Philips Medical Systems', 'Philips Medical Systems', 'Philips Medical Systems', 'Philips Medical Systems', 'GE MEDICAL SYSTEMS', 'GE MEDICAL SYSTEMS', 'GE MEDICAL SYSTEMS', 'GE MEDICAL SYSTEMS', 'GE MEDICAL SYSTEMS', 'GE MEDICAL SYSTEMS', 'GE MEDICAL SYSTEMS', 'GE MEDICAL SYSTEMS', 'GE MEDICAL SYSTEMS', 'CPS', 'GE MEDICAL SYSTEMS', 'GE MEDICAL SYSTEMS', 'GE MEDICAL SYSTEMS', 'GE MEDICAL SYSTEMS', 'GE MEDICAL SYSTEMS', 'GE MEDICAL SYSTEMS', 'SIEMENS', 'Philips Medical Systems', 'Philips Medical Systems', 'Philips Medical Systems', 'Philips Medical Systems', 'Philips Medical Systems', 'Philips Medical Systems', 'Philips Medical Systems', 'Philips Medical Systems', 'Philips Medical Systems', 'Philips Medical Systems', 'Philips Medical Systems', 'Philips Medical Systems', 'GE MEDICAL SYSTEMS', 'Philips Medical Systems', 'Philips Medical Systems', 'GE MEDICAL SYSTEMS', 'Philips Medical Systems', 'Philips Medical Systems', 'Philips Medical Systems', 'Philips Medical Systems', 'GE MEDICAL SYSTEMS', 'Philips Medical Systems', 'Philips Medical Systems', 'Philips Medical Systems', 'Philips Medical Systems', 'Philips Medical Systems', 'Philips Medical Systems', 'Philips Medical Systems', 'Philips Medical Systems', 'Philips Medical Systems', 'Philips Medical Systems', 'GE MEDICAL SYSTEMS', 'Philips Medical Systems', 'GE MEDICAL SYSTEMS', 'GE MEDICAL SYSTEMS', 'SIEMENS', 'SIEMENS', 'GE MEDICAL SYSTEMS', 'SIEMENS', 'SIEMENS', 'SIEMENS', 'Philips Medical Systems', 'Philips Medical Systems', 'SIEMENS', 'GE MEDICAL SYSTEMS', 'GE MEDICAL SYSTEMS', 'Philips Medical Systems', 'GE MEDICAL SYSTEMS', 'Philips Medical Systems', 'Philips Medical Systems', 'SIEMENS', 'SIEMENS', 'GE MEDICAL SYSTEMS', 'SIEMENS', 'SIEMENS', 'Philips Medical Systems', 'Philips Medical Systems', 'Philips Medical Systems', 'Philips Medical Systems', 'SIEMENS', 'SIEMENS', 'SIEMENS', 'SIEMENS', 'Philips Medical Systems', 'Philips Medical Systems', 'SIEMENS', 'Philips Medical Systems', 'Philips Medical Systems', 'SIEMENS', 'SIEMENS', 'SIEMENS', 'SIEMENS', 'CPS', 'Philips Medical Systems', 'CPS', 'GE MEDICAL SYSTEMS', 'SIEMENS', 'SIEMENS', 'SIEMENS', 'SIEMENS', 'SIEMENS', 'SIEMENS', 'SIEMENS', 'Philips Medical Systems', 'Philips Medical Systems', 'SIEMENS', 'SIEMENS', 'SIEMENS', 'Philips Medical Systems', 'SIEMENS', 'SIEMENS', 'Philips Medical Systems', 'Philips Medical Systems', 'Philips Medical Systems', 'Philips Medical Systems', 'Philips Medical Systems', 'SIEMENS', 'Philips Medical Systems', 'Philips Medical Systems', 'Philips Medical Systems', 'Philips Medical Systems', 'Philips Medical Systems', 'Philips Medical Systems', 'Philips Medical Systems', 'Philips Medical Systems', 'Philips Medical Systems', 'Philips Medical Systems', 'Philips Medical Systems', 'Philips Medical Systems', 'Philips Medical Systems', 'Philips Medical Systems', 'Philips Medical Systems', 'Philips Medical Systems', 'Philips Medical Systems', 'Philips Medical Systems', 'Philips Medical Systems', 'Philips Medical Systems', 'Philips Medical Systems', 'Philips Medical Systems', 'Philips Medical Systems', 'CPS', 'CPS', 'GE MEDICAL SYSTEMS', 'SIEMENS', 'GE MEDICAL SYSTEMS', 'GE MEDICAL SYSTEMS', 'GE MEDICAL SYSTEMS', 'GE MEDICAL SYSTEMS', 'GE MEDICAL SYSTEMS', 'GE MEDICAL SYSTEMS', 'GE MEDICAL SYSTEMS', 'GE MEDICAL SYSTEMS', 'GE MEDICAL SYSTEMS', 'GE MEDICAL SYSTEMS', 'GE MEDICAL SYSTEMS', 'GE MEDICAL SYSTEMS', 'GE MEDICAL SYSTEMS', 'GE MEDICAL SYSTEMS', 'GE MEDICAL SYSTEMS', 'GE MEDICAL SYSTEMS', 'GE MEDICAL SYSTEMS', 'GE MEDICAL SYSTEMS', 'GE MEDICAL SYSTEMS', 'GE MEDICAL SYSTEMS', 'GE MEDICAL SYSTEMS', 'GE MEDICAL SYSTEMS', 'GE MEDICAL SYSTEMS', 'GE MEDICAL SYSTEMS', 'GE MEDICAL SYSTEMS', 'GE MEDICAL SYSTEMS', 'GE MEDICAL SYSTEMS', 'GE MEDICAL SYSTEMS', 'GE MEDICAL SYSTEMS', 'GE MEDICAL SYSTEMS', 'GE MEDICAL SYSTEMS', 'GE MEDICAL SYSTEMS', 'GE MEDICAL SYSTEMS', 'GE MEDICAL SYSTEMS', 'GE MEDICAL SYSTEMS', 'GE MEDICAL SYSTEMS', 'GE MEDICAL SYSTEMS', 'GE MEDICAL SYSTEMS', 'GE MEDICAL SYSTEMS', 'GE MEDICAL SYSTEMS', 'GE MEDICAL SYSTEMS', 'GE MEDICAL SYSTEMS', 'GE MEDICAL SYSTEMS', 'GE MEDICAL SYSTEMS', 'GE MEDICAL SYSTEMS', 'GE MEDICAL SYSTEMS', 'GE MEDICAL SYSTEMS', 'GE MEDICAL SYSTEMS', 'GE MEDICAL SYSTEMS', 'GE MEDICAL SYSTEMS', 'GE MEDICAL SYSTEMS', 'GE MEDICAL SYSTEMS', 'GE MEDICAL SYSTEMS', 'GE MEDICAL SYSTEMS', 'GE MEDICAL SYSTEMS', 'GE MEDICAL SYSTEMS', 'GE MEDICAL SYSTEMS', 'GE MEDICAL SYSTEMS', 'GE MEDICAL SYSTEMS', 'GE MEDICAL SYSTEMS', 'GE MEDICAL SYSTEMS', 'GE MEDICAL SYSTEMS', 'GE MEDICAL SYSTEMS', 'GE MEDICAL SYSTEMS', 'GE MEDICAL SYSTEMS', 'GE MEDICAL SYSTEMS', 'GE MEDICAL SYSTEMS', 'GE MEDICAL SYSTEMS', 'GE MEDICAL SYSTEMS', 'GE MEDICAL SYSTEMS', 'GE MEDICAL SYSTEMS', 'GE MEDICAL SYSTEMS', 'GE MEDICAL SYSTEMS', 'GE MEDICAL SYSTEMS', 'GE MEDICAL SYSTEMS', 'GE MEDICAL SYSTEMS', 'GE MEDICAL SYSTEMS', 'GE MEDICAL SYSTEMS', 'GE MEDICAL SYSTEMS', 'GE MEDICAL SYSTEMS', 'GE MEDICAL SYSTEMS', 'GE MEDICAL SYSTEMS', 'GE MEDICAL SYSTEMS', 'GE MEDICAL SYSTEMS', 'GE MEDICAL SYSTEMS', 'GE MEDICAL SYSTEMS', 'GE MEDICAL SYSTEMS', 'GE MEDICAL SYSTEMS', 'GE MEDICAL SYSTEMS', 'GE MEDICAL SYSTEMS', 'GE MEDICAL SYSTEMS', 'GE MEDICAL SYSTEMS', 'GE MEDICAL SYSTEMS', 'GE MEDICAL SYSTEMS', 'GE MEDICAL SYSTEMS', 'GE MEDICAL SYSTEMS', 'GE MEDICAL SYSTEMS', 'GE MEDICAL SYSTEMS', 'GE MEDICAL SYSTEMS', 'GE MEDICAL SYSTEMS', 'GE MEDICAL SYSTEMS', 'GE MEDICAL SYSTEMS', 'GE MEDICAL SYSTEMS', 'GE MEDICAL SYSTEMS', 'GE MEDICAL SYSTEMS', 'GE MEDICAL SYSTEMS', 'GE MEDICAL SYSTEMS', 'GE MEDICAL SYSTEMS', 'GE MEDICAL SYSTEMS', 'GE MEDICAL SYSTEMS', 'GE MEDICAL SYSTEMS', 'Philips Medical Systems', 'Philips Medical Systems', 'Philips Medical Systems', 'Philips Medical Systems', 'Philips Medical Systems', 'Philips Medical Systems', 'Philips Medical Systems', 'Philips Medical Systems', 'Philips Medical Systems', 'Philips Medical Systems', 'Philips Medical Systems', 'Philips Medical Systems', 'Philips Medical Systems', 'Philips Medical Systems', 'Philips Medical Systems', 'Philips Medical Systems', 'Philips Medical Systems', 'Philips Medical Systems', 'Philips Medical Systems', 'Philips Medical Systems', 'Philips Medical Systems', 'Philips Medical Systems', 'Philips Medical Systems', 'Philips Medical Systems', 'Philips Medical Systems', 'Philips Medical Systems', 'Philips Medical Systems', 'Philips Medical Systems', 'Philips Medical Systems', 'Philips Medical Systems', 'Philips Medical Systems', 'Philips Medical Systems', 'Philips Medical Systems', 'Philips Medical Systems', 'Philips Medical Systems', 'Philips Medical Systems', 'Philips Medical Systems', 'Philips Medical Systems', 'Philips Medical Systems', 'Philips Medical Systems', 'Philips Medical Systems', 'Philips Medical Systems', 'Philips Medical Systems', 'Philips Medical Systems', 'Philips Medical Systems', 'Philips Medical Systems', 'Philips Medical Systems', 'Philips Medical Systems', 'Philips Medical Systems', 'Philips Medical Systems', 'Philips Medical Systems', 'Philips Medical Systems', 'Philips Medical Systems', 'Philips Medical Systems', 'Philips Medical Systems', 'Philips Medical Systems', 'Philips Medical Systems', 'Philips Medical Systems', 'Philips Medical Systems', 'Philips Medical Systems', 'Philips Medical Systems', 'Philips Medical Systems', 'Philips Medical Systems', 'Philips Medical Systems', 'Philips Medical Systems', 'SIEMENS', 'SIEMENS', 'GE MEDICAL SYSTEMS', 'Philips Medical Systems', 'Philips Medical Systems', 'Philips Medical Systems', 'Philips Medical Systems', 'Philips Medical Systems', 'Philips Medical Systems', 'Philips Medical Systems', 'Philips Medical Systems', 'CPS', 'CPS', 'CPS', 'SIEMENS', 'CPS', 'SIEMENS', 'SIEMENS', 'SIEMENS', 'SIEMENS', 'SIEMENS', 'SIEMENS', 'SIEMENS', 'SIEMENS', 'SIEMENS', 'SIEMENS', 'SIEMENS', 'SIEMENS', 'SIEMENS', 'SIEMENS', 'Philips Medical Systems', 'Philips Medical Systems', 'Philips Medical Systems', 'Philips Medical Systems', 'Philips Medical Systems', 'Philips Medical Systems', 'Philips Medical Systems', 'GE MEDICAL SYSTEMS', 'GE MEDICAL SYSTEMS', 'GE MEDICAL SYSTEMS', 'GE MEDICAL SYSTEMS', 'SIEMENS', 'SIEMENS', 'SIEMENS', 'SIEMENS', 'SIEMENS', 'SIEMENS', 'SIEMENS', 'SIEMENS', 'SIEMENS', 'SIEMENS', 'SIEMENS', 'SIEMENS', 'SIEMENS', 'SIEMENS', 'SIEMENS', 'SIEMENS', 'SIEMENS', 'SIEMENS', 'SIEMENS', 'SIEMENS', 'SIEMENS', 'SIEMENS', 'SIEMENS', 'SIEMENS', 'SIEMENS', 'SIEMENS', 'SIEMENS', 'SIEMENS', 'SIEMENS', 'SIEMENS', 'SIEMENS', 'SIEMENS', 'SIEMENS', 'SIEMENS', 'SIEMENS', 'SIEMENS', 'SIEMENS', 'SIEMENS', 'SIEMENS', 'SIEMENS', 'SIEMENS', 'SIEMENS', 'SIEMENS', 'SIEMENS', 'SIEMENS', 'Philips Medical Systems', 'Philips Medical Systems', 'GE MEDICAL SYSTEMS', 'GE MEDICAL SYSTEMS', 'GE MEDICAL SYSTEMS', 'GE MEDICAL SYSTEMS', 'GE MEDICAL SYSTEMS', 'GE MEDICAL SYSTEMS', 'GE MEDICAL SYSTEMS', 'GE MEDICAL SYSTEMS', 'GE MEDICAL SYSTEMS', 'GE MEDICAL SYSTEMS', 'GE MEDICAL SYSTEMS', 'GE MEDICAL SYSTEMS', 'GE MEDICAL SYSTEMS', 'GE MEDICAL SYSTEMS', 'SIEMENS', 'SIEMENS', 'SIEMENS', 'SIEMENS', 'SIEMENS', 'Philips Medical Systems', 'Philips Medical Systems', 'Philips Medical Systems', 'Philips Medical Systems', 'CPS', 'CPS', 'CPS', 'SIEMENS', 'SIEMENS', 'SIEMENS', 'SIEMENS', 'CPS', 'SIEMENS', 'SIEMENS', 'SIEMENS', 'CPS', 'SIEMENS', 'SIEMENS', 'SIEMENS', 'SIEMENS', 'SIEMENS', 'SIEMENS', 'SIEMENS', 'SIEMENS', 'CPS', 'SIEMENS', 'SIEMENS', 'Philips Medical Systems', 'Philips Medical Systems', 'Philips Medical Systems', 'Philips Medical Systems', 'Philips Medical Systems', 'Philips Medical Systems', 'Philips Medical Systems', 'Philips Medical Systems', 'Philips Medical Systems', 'Philips Medical Systems', 'Philips Medical Systems', 'Philips Medical Systems', 'Philips Medical Systems', 'Philips Medical Systems', 'Philips Medical Systems', 'Philips Medical Systems', 'Philips Medical Systems', 'Philips Medical Systems', 'Philips Medical Systems', 'Philips Medical Systems', 'Philips Medical Systems', 'Philips Medical Systems', 'Philips Medical Systems', 'Philips Medical Systems', 'Philips Medical Systems', 'GE MEDICAL SYSTEMS', 'GE MEDICAL SYSTEMS', 'GE MEDICAL SYSTEMS', 'GE MEDICAL SYSTEMS', 'GE MEDICAL SYSTEMS', 'GE MEDICAL SYSTEMS', 'GE MEDICAL SYSTEMS', 'GE MEDICAL SYSTEMS', 'GE MEDICAL SYSTEMS', 'GE MEDICAL SYSTEMS', 'GE MEDICAL SYSTEMS', 'GE MEDICAL SYSTEMS', 'GE MEDICAL SYSTEMS', 'GE MEDICAL SYSTEMS', 'SIEMENS', 'SIEMENS', 'SIEMENS', 'SIEMENS', 'SIEMENS', 'SIEMENS', 'SIEMENS', 'SIEMENS', 'SIEMENS', 'SIEMENS', 'GE MEDICAL SYSTEMS', 'SIEMENS', 'SIEMENS', 'CPS', 'SIEMENS', 'SIEMENS', 'SIEMENS', 'SIEMENS', 'GE MEDICAL SYSTEMS', 'SIEMENS', 'GE MEDICAL SYSTEMS', 'GE MEDICAL SYSTEMS', 'GE MEDICAL SYSTEMS', 'GE MEDICAL SYSTEMS', 'GE MEDICAL SYSTEMS', 'SIEMENS', 'SIEMENS', 'SIEMENS', 'SIEMENS', 'SIEMENS', 'SIEMENS', 'SIEMENS', 'SIEMENS', 'SIEMENS', 'SIEMENS', 'SIEMENS', 'SIEMENS', 'SIEMENS', 'SIEMENS', 'SIEMENS', 'SIEMENS', 'SIEMENS', 'SIEMENS', 'SIEMENS', 'SIEMENS', 'SIEMENS', 'SIEMENS', 'SIEMENS', 'SIEMENS', 'SIEMENS', 'GE MEDICAL SYSTEMS']\n"
    }
   ],
   "source": [
    "list_manufacturer = []\n",
    "for serie in dataset : \n",
    "#serie CT / PT \n",
    "    for i in range(2):\n",
    "        #print(i)\n",
    "        #recupérer study IUD et CT PT dans le tri des données, dans le json \n",
    "        serie_object = Series(serie[i])\n",
    "        serie_data = serie_object.get_series_details()\n",
    "        modality = serie_data['series']['Modality'] #CT ou PT\n",
    "\n",
    "        if modality == 'PT' :\n",
    "            serie_pt = SeriesPT(serie[i])\n",
    "            list_manufacturer.append(serie_pt.get_series_details()['series']['Manufacturer'])\n",
    "\n",
    "print(list_manufacturer)"
   ]
  },
  {
   "cell_type": "code",
   "execution_count": 21,
   "metadata": {},
   "outputs": [],
   "source": [
    "\n"
   ]
  },
  {
   "cell_type": "code",
   "execution_count": 22,
   "metadata": {},
   "outputs": [],
   "source": [
    "serie_one = data[0::3] \n",
    "serie_two = data[1::3]\n",
    "number_serie = len(serie_one)\n",
    "all_serie = []\n",
    "for i in range(number_serie):\n",
    "    serie = []\n",
    "    serie.append(serie_one[i])\n",
    "    serie.append(serie_two[i])\n",
    "    all_serie.append(serie)\n"
   ]
  },
  {
   "cell_type": "code",
   "execution_count": 39,
   "metadata": {},
   "outputs": [],
   "source": [
    "None"
   ]
  },
  {
   "cell_type": "code",
   "execution_count": 40,
   "metadata": {},
   "outputs": [],
   "source": [
    "None"
   ]
  },
  {
   "cell_type": "code",
   "execution_count": 32,
   "metadata": {},
   "outputs": [],
   "source": [
    "None"
   ]
  },
  {
   "cell_type": "code",
   "execution_count": null,
   "metadata": {},
   "outputs": [],
   "source": [
    "\n"
   ]
  }
 ]
}