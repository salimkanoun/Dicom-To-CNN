{
 "nbformat": 4,
 "nbformat_minor": 2,
 "metadata": {
  "language_info": {
   "name": "python",
   "codemirror_mode": {
    "name": "ipython",
    "version": 3
   },
   "version": "3.8.2-final"
  },
  "orig_nbformat": 2,
  "file_extension": ".py",
  "mimetype": "text/x-python",
  "name": "python",
  "npconvert_exporter": "python",
  "pygments_lexer": "ipython3",
  "version": 3,
  "kernelspec": {
   "name": "python38264bit741c38d3bcec48dc835c8ad5f1161b3f",
   "display_name": "Python 3.8.2 64-bit"
  }
 },
 "cells": [
  {
   "cell_type": "code",
   "execution_count": 5,
   "metadata": {},
   "outputs": [],
   "source": [
    "import json\n",
    "import os\n",
    "from library_dicom.dicom_processor.model.Series import Series \n",
    "from library_dicom.dicom_processor.model.SeriesPT import SeriesPT\n",
    "from library_dicom.dicom_processor.model.SeriesCT import SeriesCT\n",
    "from library_dicom.dicom_processor.model.csv_reader.MaskBuilder import MaskBuilder\n",
    "\n",
    "import numpy as np\n",
    "import SimpleITK as sitk"
   ]
  },
  {
   "cell_type": "code",
   "execution_count": 6,
   "metadata": {},
   "outputs": [],
   "source": [
    "json_path = '/media/salim/DD 2To/AHL2011_NIFTI/AHL2011_list_path_csv.json'"
   ]
  },
  {
   "cell_type": "code",
   "execution_count": 7,
   "metadata": {},
   "outputs": [],
   "source": [
    "data = []\n",
    "with open(json_path) as json_file : \n",
    "    reader = json.load(json_file)\n",
    "    for info in reader :\n",
    "        for path in reader[info] :\n",
    "            data.append(path)"
   ]
  },
  {
   "cell_type": "code",
   "execution_count": 8,
   "metadata": {},
   "outputs": [],
   "source": [
    "dataset = []\n",
    "for i in range(0,len(data),5):\n",
    "    subliste = []\n",
    "    subliste.append(data[i])\n",
    "    subliste.append(data[i+1])\n",
    "    subliste.append(data[i+2])\n",
    "    subliste.append(data[i+3])\n",
    "    subliste.append(data[i+4])\n",
    "    dataset.append(subliste)"
   ]
  },
  {
   "cell_type": "code",
   "execution_count": 9,
   "metadata": {},
   "outputs": [
    {
     "name": "stdout",
     "output_type": "stream",
     "text": "['/media/salim/DD 2To/AHL2011_Validated_DICOMS/13011101331015/1.2.124.113532.10.149.172.5.20131107.93455.7725981/1.2.840.113619.2.290.3.2500492204.268.1383804922.866.3/1.2.840.113619.2.290.3.2500492204.268.1383804922.866.3', 'CT', '/media/salim/DD 2To/AHL2011_Validated_DICOMS/13011101331015/1.2.124.113532.10.149.172.5.20131107.93455.7725981/1.2.840.113619.2.290.3.2500492204.268.1383804923.167/1.2.840.113619.2.290.3.2500492204.268.1383804923.167', 'PT', 'con_da_nov 7_2013.csv']\n"
    }
   ],
   "source": [
    "print(dataset[0])\n"
   ]
  },
  {
   "cell_type": "code",
   "execution_count": 11,
   "metadata": {},
   "outputs": [
    {
     "name": "stdout",
     "output_type": "stream",
     "text": "['/media/salim/DD 2To/AHL2011_Validated_DICOMS/13011101431012/1.2.124.113532.172.16.25.2.20130121.814.1220583/1.3.46.670589.28.2.12.30.26421.36112.2.3508.0.1359080111/imagys_AHL2011_13011101431012_c72b9b8c-80b3-4803-a240-62a9ec6b6302', 'PT', '/media/salim/DD 2To/AHL2011_Validated_DICOMS/13011101431012/1.2.124.113532.172.16.25.2.20130121.814.1220583/1.2.840.113704.1.111.3652.1359035909.11/imagys_AHL2011_13011101431012_ce32ad94-1872-4340-9e14-a2b6ec451cf0', 'CT', 'can_sy_jan 24_2013.csv']\n['/media/salim/DD 2To/AHL2011_Validated_DICOMS/13011101391019/1.2.124.113532.172.16.4.13.20130416.213156.2050918/1.2.840.113619.2.290.3.279712783.8.1366178187.547/1.2.840.113619.2.290.3.279712783.8.1366178187.547', 'PT', '/media/salim/DD 2To/AHL2011_Validated_DICOMS/13011101391019/1.2.124.113532.172.16.4.13.20130416.213156.2050918/1.2.840.113619.2.290.3.279712783.8.1366178186.947.3/1.2.840.113619.2.290.3.279712783.8.1366178186.947.3', 'CT', 'arb_al_apr 17_2013.csv']\n['/media/salim/DD 2To/AHL2011_Validated_DICOMS/53011101881001/1.2.250.1.199.10.90001.90058.20111108121116/1.3.12.2.1107.5.1.4.1007.30000011110810212964000002409/1.3.12.2.1107.5.1.4.1007.30000011110810212964000002409', 'CT', '/media/salim/DD 2To/AHL2011_Validated_DICOMS/53011101881001/1.2.250.1.199.10.90001.90058.20111108121116/1.3.12.2.1107.5.1.4.1007.30000011110810215329600007119/1.3.12.2.1107.5.1.4.1007.30000011110810215329600007119', 'PT', 'led_ji_nov 8_2011.csv']\n['/media/salim/DD 2To/AHL2011_Validated_DICOMS/53011101881021/1.2.250.1.199.10.90001.90136.20140121151028/1.3.12.2.1107.5.1.4.1007.30000014012108195990600018631/1.3.12.2.1107.5.1.4.1007.30000014012108195990600018631', 'PT', '/media/salim/DD 2To/AHL2011_Validated_DICOMS/53011101881021/1.2.250.1.199.10.90001.90136.20140121151028/1.3.12.2.1107.5.1.4.1007.30000014012108193979600012415/1.3.12.2.1107.5.1.4.1007.30000014012108193979600012415', 'CT', 'rob_ma_jan 21_2014.csv']\n['/media/salim/DD 2To/AHL2011_Validated_DICOMS/53011101881018/1.2.250.1.199.10.90001.90488.20130715090608/1.3.12.2.1107.5.1.4.1007.30000013071507340843700003733/1.3.12.2.1107.5.1.4.1007.30000013071507340843700003733', 'CT', '/media/salim/DD 2To/AHL2011_Validated_DICOMS/53011101881018/1.2.250.1.199.10.90001.90488.20130715090608/1.3.12.2.1107.5.1.4.1007.30000013071507342845300006679/1.3.12.2.1107.5.1.4.1007.30000013071507342845300006679', 'PT', 'gro_je_jul 15_2013.csv']\n['/media/salim/DD 2To/AHL2011_Validated_DICOMS/53011101881019/1.2.250.1.199.10.90001.90530.20130717090614/1.3.12.2.1107.5.1.4.1007.30000013071707321521800006555/1.3.12.2.1107.5.1.4.1007.30000013071707321521800006555', 'PT', '/media/salim/DD 2To/AHL2011_Validated_DICOMS/53011101881019/1.2.250.1.199.10.90001.90530.20130717090614/1.3.12.2.1107.5.1.4.1007.30000013071707315501500003607/1.3.12.2.1107.5.1.4.1007.30000013071707315501500003607', 'CT', 'ani_ma_jul 17_2013.csv']\n['/media/salim/DD 2To/AHL2011_Validated_DICOMS/53011101881010/1.2.250.1.199.10.90001.90773.20130129055923/1.3.12.2.1107.5.1.4.1007.30000013012908524001500023093/1.3.12.2.1107.5.1.4.1007.30000013012908524001500023093', 'PT', '/media/salim/DD 2To/AHL2011_Validated_DICOMS/53011101881010/1.2.250.1.199.10.90001.90773.20130129055923/1.3.12.2.1107.5.1.4.1007.30000013012908522282800008113/1.3.12.2.1107.5.1.4.1007.30000013012908522282800008113', 'CT', 'rim_ol_jan 29_2013.csv']\n['/media/salim/DD 2To/AHL2011_Validated_DICOMS/53011101841010/1.2.250.1.199.10.90001.91224.20131205091730/1.3.12.2.1107.5.1.4.11087.30000013120508071476500003884/1.3.12.2.1107.5.1.4.11087.30000013120508071476500003884', 'CT', '/media/salim/DD 2To/AHL2011_Validated_DICOMS/53011101841010/1.2.250.1.199.10.90001.91224.20131205091730/1.3.12.2.1107.5.1.4.11087.30000013120508084648400006499/1.3.12.2.1107.5.1.4.11087.30000013120508084648400006499', 'PT', 'yaz_da_dec 5_2013.csv']\n['/media/salim/DD 2To/AHL2011_Validated_DICOMS/53011101881016/1.2.250.1.199.10.90001.92145.20130415105401/1.3.12.2.1107.5.1.4.1007.30000013041507293168700006075/1.3.12.2.1107.5.1.4.1007.30000013041507293168700006075', 'CT', '/media/salim/DD 2To/AHL2011_Validated_DICOMS/53011101881016/1.2.250.1.199.10.90001.92145.20130415105401/1.3.12.2.1107.5.1.4.1007.30000013041507295118700019747/1.3.12.2.1107.5.1.4.1007.30000013041507295118700019747', 'PT', 'oge_cl_apr 15_2013.csv']\n['/media/salim/DD 2To/AHL2011_Validated_DICOMS/53011101841003/1.2.250.1.199.10.90001.93080.20120515093605/1.3.12.2.1107.5.1.4.1007.30000012051508433995300002569/1.3.12.2.1107.5.1.4.1007.30000012051508433995300002569', 'CT', '/media/salim/DD 2To/AHL2011_Validated_DICOMS/53011101841003/1.2.250.1.199.10.90001.93080.20120515093605/1.3.12.2.1107.5.1.4.1007.30000012051508440440600007559/1.3.12.2.1107.5.1.4.1007.30000012051508440440600007559', 'PT', 'bar_br_may 15_2012.csv']\n['/media/salim/DD 2To/AHL2011_Validated_DICOMS/53011101841004/1.2.250.1.199.10.90001.94004.20120727134908/1.3.12.2.1107.5.1.4.1007.30000012072708390571800022047/1.3.12.2.1107.5.1.4.1007.30000012072708390571800022047', 'PT', '/media/salim/DD 2To/AHL2011_Validated_DICOMS/53011101841004/1.2.250.1.199.10.90001.94004.20120727134908/1.3.12.2.1107.5.1.4.1007.30000012072708380834300007729/1.3.12.2.1107.5.1.4.1007.30000012072708380834300007729', 'CT', 'bil_sy_jul 27_2012.csv']\n"
    }
   ],
   "source": [
    "#voir pour gérer les liste de ceux qui ont un unconstant spacing ici \n",
    "liste_unconstant_spacing = []\n",
    "for liste in dataset : \n",
    "    for i in range(0,4,2) : \n",
    "        serie_objet = Series(liste[i])\n",
    "        serie_objet.get_numpy_array()\n",
    "        if serie_objet.get_z_spacing() == 'Unconstant Spacing' : \n",
    "            print(liste)\n",
    "            liste_unconstant_spacing.append(liste)\n",
    "       "
   ]
  },
  {
   "cell_type": "code",
   "execution_count": 6,
   "metadata": {},
   "outputs": [
    {
     "name": "stdout",
     "output_type": "stream",
     "text": "953.2.2148.0.1327586717/1.3.46.670589.28.2.12.21.6047.2953.2.2148.0.1327586717', 'PT', '/media/salim/DD 2To/AHL2011_Validated_DICOMS/13011101431006/1.2.124.113532.172.16.25.2.20120125.456.1038547/1.2.840.113704.1.111.6380.1327585449.11/1.2.840.113704.1.111.6380.1327585449.11', 'CT', 'bou_ya_jan 26_2012.csv']\nserie PT, generation du mask avec fichier csv associée\n[144, 144, 213]\n{1: {'SUV_max': 3.75, 'SUV_mean': 2.18, 'SD': 0.57}, 2: {'SUV_max': 3.39, 'SUV_mean': 2.12, 'SD': 0.52}, 3: {'SUV_max': 4.06, 'SUV_mean': 2.56, 'SD': 0.63}, 4: {'SUV_max': 2.32, 'SUV_mean': 1.29, 'SD': 0.31}, 5: {'SUV_max': 4.18, 'SUV_mean': 2.45, 'SD': 0.61}, 6: {'SUV_max': 4.41, 'SUV_mean': 2.34, 'SD': 0.54}, 7: {'SUV_max': 3.03, 'SUV_mean': 1.68, 'SD': 0.4}, 8: {'SUV_max': 6.97, 'SUV_mean': 3.98, 'SD': 0.99}, 9: {'SUV_max': 3.09, 'SUV_mean': 1.8, 'SD': 0.53}, 10: {'SUV_max': 2.55, 'SUV_mean': 1.63, 'SD': 0.36}, 11: {'SUV_max': 2.87, 'SUV_mean': 1.65, 'SD': 0.39}, 12: {'SUV_max': 4.94, 'SUV_mean': 2.84, 'SD': 0.72}, 13: {'SUV_max': 3.42, 'SUV_mean': 1.95, 'SD': 0.49}, 14: {'SUV_max': 4.06, 'SUV_mean': 2.18, 'SD': 0.47}, 15: {'SUV_max': 2.94, 'SUV_mean': 1.57, 'SD': 0.38}, 16: {'SUV_max': 8.19, 'SUV_mean': 5.2, 'SD': 1.34}, 17: {'SUV_max': 2.04, 'SUV_mean': 1.2, 'SD': 0.26}, 18: {'SUV_max': 4.76, 'SUV_mean': 2.67, 'SD': 0.64}, 19: {'SUV_max': 1.97, 'SUV_mean': 1.54, 'SD': 0.23}}\nerreur calcul suv, philips\n[0.29000000000000004, 0.27, 0.3200000000000003, 0.18000000000000016, 0.33000000000000007, 0.34999999999999964, 0.2400000000000002, 0.5600000000000005, 0.25, 0.20000000000000018, 0.22999999999999998, 0.3899999999999997, 0.27, 0.3200000000000003, 0.22999999999999998, 0.6500000000000004, 0.16000000000000014, 0.3700000000000001, 0.15999999999999992]\n['/media/salim/DD 2To/AHL2011_Validated_DICOMS/13011101431010/1.2.124.113532.172.16.25.2.20120605.739.1104125/1.2.840.113704.1.111.5244.1339151088.11/imagys_AHL2011_13011101431010_f812bc05-4748-4b0a-bd1c-1e4a3954c530', 'CT', '/media/salim/DD 2To/AHL2011_Validated_DICOMS/13011101431010/1.2.124.113532.172.16.25.2.20120605.739.1104125/1.3.46.670589.28.2.12.21.6047.2953.2.2200.0.1339152332/imagys_AHL2011_13011101431010_37a1f66e-91db-4705-824e-33524671308e', 'PT', 'san_ma_jun 8_2012.csv']\nserie PT, generation du mask avec fichier csv associée\n[144, 144, 213]\n{1: {'SUV_max': 3.85, 'SUV_mean': 2.11, 'SD': 0.43}, 2: {'SUV_max': 5.4, 'SUV_mean': 2.88, 'SD': 0.59}, 3: {'SUV_max': 4.5, 'SUV_mean': 2.63, 'SD': 0.62}, 4: {'SUV_max': 2.65, 'SUV_mean': 1.62, 'SD': 0.48}, 5: {'SUV_max': 7.59, 'SUV_mean': 3.81, 'SD': 0.78}, 6: {'SUV_max': 7.07, 'SUV_mean': 3.65, 'SD': 0.68}, 7: {'SUV_max': 5.55, 'SUV_mean': 3.07, 'SD': 0.62}, 8: {'SUV_max': 4.61, 'SUV_mean': 2.65, 'SD': 0.7}, 9: {'SUV_max': 2.57, 'SUV_mean': 1.59, 'SD': 0.43}, 10: {'SUV_max': 2.73, 'SUV_mean': 1.66, 'SD': 0.43}, 11: {'SUV_max': 3.18, 'SUV_mean': 1.98, 'SD': 0.51}, 12: {'SUV_max': 5.46, 'SUV_mean': 3.01, 'SD': 0.63}, 13: {'SUV_max': 4.41, 'SUV_mean': 2.54, 'SD': 0.62}, 14: {'SUV_max': 3.7, 'SUV_mean': 2.2, 'SD': 0.55}, 15: {'SUV_max': 2.53, 'SUV_mean': 1.6, 'SD': 0.39}, 16: {'SUV_max': 2.72, 'SUV_mean': 1.51, 'SD': 0.34}, 17: {'SUV_max': 5.83, 'SUV_mean': 3.21, 'SD': 0.72}, 18: {'SUV_max': 4.5, 'SUV_mean': 2.67, 'SD': 0.63}, 19: {'SUV_max': 3.18, 'SUV_mean': 2.46, 'SD': 0.39}}\nerreur calcul suv, philips\n[0.30000000000000027, 0.4299999999999997, 0.3600000000000003, 0.20999999999999996, 0.6099999999999994, 0.5599999999999996, 0.4400000000000004, 0.35999999999999943, 0.20999999999999996, 0.20999999999999996, 0.25, 0.4299999999999997, 0.34999999999999964, 0.2999999999999998, 0.11000000000000032, 0.31000000000000005, 0.46999999999999975, 0.3600000000000003, 0.25]\n['/media/salim/DD 2To/AHL2011_Validated_DICOMS/13011101431009/1.2.124.113532.172.16.25.2.20120606.612.1104622/1.2.840.113704.1.111.7208.1339152358.11/1.2.840.113704.1.111.7208.1339152358.11', 'CT', '/media/salim/DD 2To/AHL2011_Validated_DICOMS/13011101431009/1.2.124.113532.172.16.25.2.20120606.612.1104622/1.3.46.670589.28.2.12.21.6046.64205.2.1432.0.1339153772/1.3.46.670589.28.2.12.21.6046.64205.2.1432.0.1339153772', 'PT', 'rig_el_jun 8_2012.csv']\nserie PT, generation du mask avec fichier csv associée\n[144, 144, 234]\n{1: {'SUV_max': 10.86, 'SUV_mean': 6.68, 'SD': 1.37}}\nerreur calcul suv, philips\n[0.9900000000000002]\n['/media/salim/DD 2To/AHL2011_Validated_DICOMS/13011101431011/1.2.124.113532.172.16.25.2.20120716.81922.1126423/1.2.840.113704.1.111.7108.1342703962.11/imagys_AHL2011_13011101431011_4f47b5d8-c16e-4f32-842c-c9c3d36b7124', 'CT', '/media/salim/DD 2To/AHL2011_Validated_DICOMS/13011101431011/1.2.124.113532.172.16.25.2.20120716.81922.1126423/1.3.46.670589.28.2.12.21.6046.64205.2.1680.0.1342705432/1.3.46.670589.28.2.12.21.6046.64205.2.1680.0.1342705432', 'PT', 'aul_fl_jul 19_2012.csv']\nserie PT, generation du mask avec fichier csv associée\n[144, 144, 213]\n{1: {'SUV_max': 8.77, 'SUV_mean': 5.34, 'SD': 1.23}, 2: {'SUV_max': 11.7, 'SUV_mean': 6.67, 'SD': 1.55}, 3: {'SUV_max': 8.83, 'SUV_mean': 5.13, 'SD': 1.25}, 4: {'SUV_max': 11.02, 'SUV_mean': 6.43, 'SD': 1.49}, 5: {'SUV_max': 15.04, 'SUV_mean': 8.95, 'SD': 2.27}, 6: {'SUV_max': 13.89, 'SUV_mean': 8.07, 'SD': 2.3}, 7: {'SUV_max': 12.08, 'SUV_mean': 7.26, 'SD': 1.88}, 8: {'SUV_max': 7.35, 'SUV_mean': 4.37, 'SD': 1.09}, 9: {'SUV_max': 6.29, 'SUV_mean': 3.86, 'SD': 0.99}, 10: {'SUV_max': 8.32, 'SUV_mean': 5.19, 'SD': 1.39}, 11: {'SUV_max': 11.72, 'SUV_mean': 6.58, 'SD': 1.46}, 12: {'SUV_max': 13.35, 'SUV_mean': 7.38, 'SD': 1.69}, 13: {'SUV_max': 12.01, 'SUV_mean': 6.71, 'SD': 1.46}, 14: {'SUV_max': 7.63, 'SUV_mean': 4.66, 'SD': 1.2}, 15: {'SUV_max': 6.85, 'SUV_mean': 4.02, 'SD': 0.99}, 16: {'SUV_max': 7.74, 'SUV_mean': 4.19, 'SD': 0.97}, 17: {'SUV_max': 7.97, 'SUV_mean': 4.51, 'SD': 1.02}, 18: {'SUV_max': 5.06, 'SUV_mean': 3.03, 'SD': 0.8}, 19: {'SUV_max': 6.58, 'SUV_mean': 4.04, 'SD': 1.05}, 20: {'SUV_max': 3.91, 'SUV_mean': 2.57, 'SD': 0.63}, 21: {'SUV_max': 16.96, 'SUV_mean': 9.12, 'SD': 1.67}, 22: {'SUV_max': 12.9, 'SUV_mean': 6.81, 'SD': 1.35}, 23: {'SUV_max': 4.7, 'SUV_mean': 2.82, 'SD': 0.81}, 24: {'SUV_max': 7.77, 'SUV_mean': 4.95, 'SD': 1.38}, 25: {'SUV_max': 11.02, 'SUV_mean': 6.11, 'SD': 1.27}, 26: {'SUV_max': 3.68, 'SUV_mean': 2.17, 'SD': 0.56}, 27: {'SUV_max': 6.23, 'SUV_mean': 3.7, 'SD': 0.91}, 28: {'SUV_max': 2.93, 'SUV_mean': 2.23, 'SD': 0.34}, 29: {'SUV_max': 4.93, 'SUV_mean': 3.56, 'SD': 0.66}, 30: {'SUV_max': 5.02, 'SUV_mean': 3.42, 'SD': 0.68}, 31: {'SUV_max': 5.01, 'SUV_mean': 4.18, 'SD': 0.42}, 32: {'SUV_max': 4.87, 'SUV_mean': 3.56, 'SD': 0.63}, 33: {'SUV_max': 4.77, 'SUV_mean': 3.33, 'SD': 0.69}, 34: {'SUV_max': 4.95, 'SUV_mean': 3.52, 'SD': 0.59}, 35: {'SUV_max': 4.69, 'SUV_mean': 3.74, 'SD': 0.5}, 36: {'SUV_max': 4.54, 'SUV_mean': 3.59, 'SD': 0.66}, 37: {'SUV_max': 4.81, 'SUV_mean': 4.04, 'SD': 0.36}, 38: {'SUV_max': 4.93, 'SUV_mean': 3.12, 'SD': 0.72}, 39: {'SUV_max': 5.12, 'SUV_mean': 3.13, 'SD': 0.68}, 40: {'SUV_max': 4.72, 'SUV_mean': 3.33, 'SD': 0.69}}\nerreur calcul suv, philips\n[0.7000000000000011, 0.9400000000000013, 0.6999999999999993, 0.8800000000000008, 1.1999999999999993, 1.1099999999999994, 0.9599999999999991, 0.5900000000000007, 0.5099999999999998, 0.6699999999999999, 0.9299999999999997, 1.0600000000000005, 0.41999999999999993, 0.6100000000000003, 0.5500000000000007, 0.6099999999999994, 0.6399999999999997, 0.40000000000000036, 0.5199999999999996, 0.3099999999999996, 1.3499999999999979, 1.0299999999999994, 0.3799999999999999, 0.620000000000001, 0.8800000000000008, 0.29000000000000004, 0.4899999999999993, 0.22999999999999998, 0.39000000000000057, 0.40000000000000036, 0.40000000000000036, 0.3899999999999997, 0.3800000000000008, 0.3899999999999997, 0.3699999999999992, 0.3600000000000003, 0.3800000000000008, 0.40000000000000036, 0.41000000000000014, 0.3700000000000001]\n['/media/salim/DD 2To/AHL2011_Validated_DICOMS/13011101431012/1.2.124.113532.172.16.25.2.20130121.814.1220583/1.3.46.670589.28.2.12.30.26421.36112.2.3508.0.1359080111/imagys_AHL2011_13011101431012_c72b9b8c-80b3-4803-a240-62a9ec6b6302', 'PT', '/media/salim/DD 2To/AHL2011_Validated_DICOMS/13011101431012/1.2.124.113532.172.16.25.2.20130121.814.1220583/1.2.840.113704.1.111.3652.1359035909.11/imagys_AHL2011_13011101431012_ce32ad94-1872-4340-9e14-a2b6ec451cf0', 'CT', 'can_sy_jan 24_2013.csv']\nserie PT, generation du mask avec fichier csv associée\n[144, 144, 213]\n{1: {'SUV_max': 14.7, 'SUV_mean': 8.54, 'SD': 2.01}, 2: {'SUV_max': 7.8, 'SUV_mean': 4.46, 'SD': 1.03}, 3: {'SUV_max': 13.84, 'SUV_mean': 7.5, 'SD': 1.67}, 4: {'SUV_max': 9.05, 'SUV_mean': 4.27, 'SD': 0.52}, 5: {'SUV_max': 11.69, 'SUV_mean': 5.92, 'SD': 1.31}, 6: {'SUV_max': 8.59, 'SUV_mean': 5.1, 'SD': 1.41}, 7: {'SUV_max': 4.53, 'SUV_mean': 2.42, 'SD': 0.53}, 8: {'SUV_max': 9.49, 'SUV_mean': 4.89, 'SD': 0.9}, 9: {'SUV_max': 5.89, 'SUV_mean': 3.62, 'SD': 0.84}, 10: {'SUV_max': 4.07, 'SUV_mean': 2.75, 'SD': 0.63}, 11: {'SUV_max': 10.28, 'SUV_mean': 6.06, 'SD': 1.43}, 12: {'SUV_max': 4.53, 'SUV_mean': 2.8, 'SD': 0.7}, 13: {'SUV_max': 5.47, 'SUV_mean': 3.09, 'SD': 0.8}, 14: {'SUV_max': 4.31, 'SUV_mean': 2.5, 'SD': 0.58}, 15: {'SUV_max': 3.88, 'SUV_mean': 2.27, 'SD': 0.48}, 16: {'SUV_max': 7.08, 'SUV_mean': 4.25, 'SD': 1.09}, 17: {'SUV_max': 6.51, 'SUV_mean': 4.03, 'SD': 0.91}, 18: {'SUV_max': 2.96, 'SUV_mean': 1.74, 'SD': 0.46}}\nerreur calcul suv, philips\n[1.1800000000000015, 0.6200000000000001, 1.1099999999999994, 0.7199999999999989, 0.9299999999999997, 0.6899999999999995, 0.35999999999999943, 0.7599999999999998, 0.2400000000000002, 0.3199999999999994, 0.8200000000000003, 0.35999999999999943, 0.4400000000000004, 0.35000000000000053, 0.5700000000000003, 0.5200000000000005, 0.2400000000000002]\nUnconstant Spacing à la série CT  6\n['/media/salim/DD 2To/AHL2011_Validated_DICOMS/13011101431013/1.2.124.113532.172.16.25.2.20130227.619.1243517/1.3.46.670589.28.2.12.48.18629.43624.2.3692.0.1362048220/1.3.46.670589.28.2.12.48.18629.43624.2.3692.0.1362048220', 'PT', '/media/salim/DD 2To/AHL2011_Validated_DICOMS/13011101431013/1.2.124.113532.172.16.25.2.20130227.619.1243517/1.2.840.113704.1.111.8164.1362046854.11/1.2.840.113704.1.111.8164.1362046854.11', 'CT', 'pin_jo_feb 28_2013.csv']\nserie PT, generation du mask avec fichier csv associée\n[144, 144, 234]\n{1: {'SUV_max': 16.5, 'SUV_mean': 9.9, 'SD': 2.35}, 2: {'SUV_max': 5.75, 'SUV_mean': 3.3, 'SD': 0.76}, 3: {'SUV_max': 4.66, 'SUV_mean': 2.56, 'SD': 0.6}, 4: {'SUV_max': 3.33, 'SUV_mean': 2.01, 'SD': 0.51}, 5: {'SUV_max': 5.51, 'SUV_mean': 3.1, 'SD': 0.68}, 6: {'SUV_max': 7.06, 'SUV_mean': 4.07, 'SD': 0.93}, 7: {'SUV_max': 4.43, 'SUV_mean': 2.8, 'SD': 0.74}, 8: {'SUV_max': 4.29, 'SUV_mean': 2.48, 'SD': 0.6}, 9: {'SUV_max': 10.62, 'SUV_mean': 5.7, 'SD': 1.06}, 10: {'SUV_max': 8.12, 'SUV_mean': 4.87, 'SD': 1.09}, 11: {'SUV_max': 3.6, 'SUV_mean': 2.0, 'SD': 0.49}, 12: {'SUV_max': 6.4, 'SUV_mean': 3.63, 'SD': 0.81}, 13: {'SUV_max': 3.41, 'SUV_mean': 2.06, 'SD': 0.44}, 14: {'SUV_max': 3.55, 'SUV_mean': 2.15, 'SD': 0.56}, 15: {'SUV_max': 2.82, 'SUV_mean': 2.04, 'SD': 0.36}}\nerreur calcul suv, philips\n[1.4800000000000004, 0.5099999999999998, 0.41999999999999993, 0.29000000000000004, 0.4900000000000002, 0.6300000000000008, 0.39000000000000057, 0.3899999999999997, 0.9500000000000011, 0.7300000000000004, 0.31999999999999984, 0.5499999999999998, 0.31000000000000005, 0.31000000000000005, 0.25]\n['/media/salim/DD 2To/AHL2011_Validated_DICOMS/13011101431016/1.2.124.113532.172.16.25.2.20130601.521.1298162/1.2.840.113704.1.111.6448.1370336460.11/1.2.840.113704.1.111.6448.1370336460.11', 'CT', '/media/salim/DD 2To/AHL2011_Validated_DICOMS/13011101431016/1.2.124.113532.172.16.25.2.20130601.521.1298162/1.3.46.670589.28.2.12.30.26421.40576.2.1336.0.1370380574/1.3.46.670589.28.2.12.30.26421.40576.2.1336.0.1370380574', 'PT', 'alt_bi_jun 4_2013.csv']\nserie PT, generation du mask avec fichier csv associée\n[144, 144, 234]\n{1: {'SUV_max': 4.13, 'SUV_mean': 2.33, 'SD': 0.61}, 2: {'SUV_max': 6.73, 'SUV_mean': 3.95, 'SD': 0.95}, 3: {'SUV_max': 8.96, 'SUV_mean': 4.81, 'SD': 0.95}, 4: {'SUV_max': 5.92, 'SUV_mean': 3.45, 'SD': 0.86}, 5: {'SUV_max': 7.57, 'SUV_mean': 4.21, 'SD': 0.78}, 6: {'SUV_max': 10.13, 'SUV_mean': 5.15, 'SD': 0.96}, 7: {'SUV_max': 9.35, 'SUV_mean': 4.91, 'SD': 1.1}, 8: {'SUV_max': 4.09, 'SUV_mean': 2.25, 'SD': 0.5}, 9: {'SUV_max': 3.52, 'SUV_mean': 1.96, 'SD': 0.4}, 10: {'SUV_max': 4.07, 'SUV_mean': 2.32, 'SD': 0.57}, 11: {'SUV_max': 4.86, 'SUV_mean': 2.71, 'SD': 0.6}, 12: {'SUV_max': 3.55, 'SUV_mean': 2.17, 'SD': 0.54}}\nerreur calcul suv, philips\n[0.3700000000000001, 0.5999999999999996, 0.7999999999999989, 0.5300000000000002, 0.6799999999999997, 0.9099999999999984, 0.8399999999999999, 0.3700000000000001, 0.31999999999999984, 0.3700000000000001, 0.7400000000000002, 0.3200000000000003]\n['/media/salim/DD 2To/AHL2011_Validated_DICOMS/13011101431017/1.2.124.113532.172.16.25.2.20130717.529.1327224/1.2.840.113704.1.111.7840.1374146611.11/1.2.840.113704.1.111.7840.1374146611.11', 'CT', '/media/salim/DD 2To/AHL2011_Validated_DICOMS/13011101431017/1.2.124.113532.172.16.25.2.20130717.529.1327224/1.3.46.670589.28.2.12.30.26421.36112.2.2640.0.1374191278/1.3.46.670589.28.2.12.30.26421.36112.2.2640.0.1374191278', 'PT', 'ber_gr_jul 18_2013.csv']\nserie PT, generation du mask avec fichier csv associée\n[169, 169, 255]\n{1: {'SUV_max': 8.69, 'SUV_mean': 5.45, 'SD': 1.45}, 2: {'SUV_max': 3.36, 'SUV_mean': 2.01, 'SD': 0.64}, 3: {'SUV_max': 2.38, 'SUV_mean': 1.51, 'SD': 0.34}, 4: {'SUV_max': 4.18, 'SUV_mean': 2.28, 'SD': 0.49}, 5: {'SUV_max': 5.63, 'SUV_mean': 3.39, 'SD': 0.81}, 6: {'SUV_max': 4.45, 'SUV_mean': 2.73, 'SD': 0.74}, 7: {'SUV_max': 3.15, 'SUV_mean': 1.82, 'SD': 0.41}, 8: {'SUV_max': 5.21, 'SUV_mean': 2.93, 'SD': 0.6}, 9: {'SUV_max': 5.21, 'SUV_mean': 2.85, 'SD': 0.55}, 10: {'SUV_max': 3.3, 'SUV_mean': 1.84, 'SD': 0.44}, 11: {'SUV_max': 2.7, 'SUV_mean': 1.41, 'SD': 0.28}, 12: {'SUV_max': 2.14, 'SUV_mean': 1.24, 'SD': 0.35}, 13: {'SUV_max': 8.33, 'SUV_mean': 5.73, 'SD': 0.95}, 14: {'SUV_max': 7.51, 'SUV_mean': 5.26, 'SD': 1.05}, 15: {'SUV_max': 2.73, 'SUV_mean': 1.64, 'SD': 0.4}, 16: {'SUV_max': 2.48, 'SUV_mean': 1.56, 'SD': 0.34}, 17: {'SUV_max': 2.46, 'SUV_mean': 1.7, 'SD': 0.28}, 18: {'SUV_max': 2.65, 'SUV_mean': 1.93, 'SD': 0.36}}\nerreur calcul suv, philips\n[1.0700000000000003, 0.41000000000000014, 0.29000000000000004, 0.5100000000000007, 0.7000000000000002, 0.5499999999999998, 0.3900000000000001, 0.6399999999999997, 0.6399999999999997, 0.40000000000000036, 0.33999999999999986, 1.0199999999999996, 0.9199999999999999, 0.33000000000000007, 0.31000000000000005, 0.33000000000000007]\n['/media/salim/DD 2To/AHL2011_Validated_DICOMS/13011101051023/1.2.124.113532.172.16.25.2.20130913.93308.1355502/1.2.840.113704.1.111.9676.1379066058.11/1.2.840.113704.1.111.9676.1379066058.11', 'CT', '/media/salim/DD 2To/AHL2011_Validated_DICOMS/13011101051023/1.2.124.113532.172.16.25.2.20130913.93308.1355502/1.3.46.670589.28.2.12.21.6074.1601.2.1312.0.1379068562/1.3.46.670589.28.2.12.21.6074.1601.2.1312.0.1379068562', 'PT', 'eyn_so_sep 13_2013.csv']\nserie PT, generation du mask avec fichier csv associée\n[169, 169, 234]\n{1: {'SUV_max': 6.96, 'SUV_mean': 4.28, 'SD': 1.01}, 2: {'SUV_max': 17.97, 'SUV_mean': 11.38, 'SD': 2.85}, 3: {'SUV_max': 17.97, 'SUV_mean': 11.05, 'SD': 2.71}, 4: {'SUV_max': 7.92, 'SUV_mean': 4.34, 'SD': 0.94}, 5: {'SUV_max': 16.63, 'SUV_mean': 10.77, 'SD': 2.39}, 6: {'SUV_max': 22.27, 'SUV_mean': 13.83, 'SD': 2.72}, 7: {'SUV_max': 18.47, 'SUV_mean': 12.16, 'SD': 2.44}, 8: {'SUV_max': 16.65, 'SUV_mean': 11.14, 'SD': 2.52}, 9: {'SUV_max': 10.98, 'SUV_mean': 6.97, 'SD': 1.77}, 10: {'SUV_max': 16.65, 'SUV_mean': 12.13, 'SD': 2.26}, 11: {'SUV_max': 8.09, 'SUV_mean': 5.06, 'SD': 1.43}, 12: {'SUV_max': 21.17, 'SUV_mean': 14.72, 'SD': 3.69}, 13: {'SUV_max': 7.33, 'SUV_mean': 4.4, 'SD': 0.98}}\nerreur calcul suv, philips\n[1.0200000000000005]\n['/media/salim/DD 2To/AHL2011_Validated_DICOMS/13011101391019/1.2.124.113532.172.16.4.13.20130416.213156.2050918/1.2.840.113619.2.290.3.279712783.8.1366178187.547/1.2.840.113619.2.290.3.279712783.8.1366178187.547', 'PT', '/media/salim/DD 2To/AHL2011_Validated_DICOMS/13011101391019/1.2.124.113532.172.16.4.13.20130416.213156.2050918/1.2.840.113619.2.290.3.279712783.8.1366178186.947.3/1.2.840.113619.2.290.3.279712783.8.1366178186.947.3', 'CT', 'arb_al_apr 17_2013.csv']\nserie PT, generation du mask avec fichier csv associée\n[256, 256, 299]\n{1: {'SUV_max': 6.89, 'SUV_mean': 4.2, 'SD': 1.09}, 2: {'SUV_max': 10.51, 'SUV_mean': 5.9, 'SD': 1.3}, 3: {'SUV_max': 9.5, 'SUV_mean': 5.17, 'SD': 1.13}, 4: {'SUV_max': 10.07, 'SUV_mean': 5.97, 'SD': 1.27}, 5: {'SUV_max': 11.88, 'SUV_mean': 6.48, 'SD': 1.21}, 6: {'SUV_max': 11.15, 'SUV_mean': 6.72, 'SD': 1.54}, 7: {'SUV_max': 3.47, 'SUV_mean': 2.13, 'SD': 0.57}, 8: {'SUV_max': 3.31, 'SUV_mean': 2.13, 'SD': 0.44}, 9: {'SUV_max': 5.26, 'SUV_mean': 3.32, 'SD': 0.78}, 10: {'SUV_max': 2.87, 'SUV_mean': 1.8, 'SD': 0.46}, 11: {'SUV_max': 4.2, 'SUV_mean': 2.39, 'SD': 0.63}, 12: {'SUV_max': 5.85, 'SUV_mean': 3.38, 'SD': 0.79}, 13: {'SUV_max': 5.75, 'SUV_mean': 3.2, 'SD': 0.72}, 14: {'SUV_max': 3.6, 'SUV_mean': 2.1, 'SD': 0.53}, 15: {'SUV_max': 6.61, 'SUV_mean': 3.82, 'SD': 0.92}, 16: {'SUV_max': 6.52, 'SUV_mean': 4.02, 'SD': 0.96}, 17: {'SUV_max': 5.28, 'SUV_mean': 2.9, 'SD': 0.67}, 18: {'SUV_max': 7.88, 'SUV_mean': 4.63, 'SD': 1.16}, 19: {'SUV_max': 9.71, 'SUV_mean': 5.66, 'SD': 1.36}, 20: {'SUV_max': 5.0, 'SUV_mean': 2.84, 'SD': 0.63}, 21: {'SUV_max': 12.09, 'SUV_mean': 6.91, 'SD': 1.37}, 22: {'SUV_max': 5.43, 'SUV_mean': 3.28, 'SD': 0.77}, 23: {'SUV_max': 2.73, 'SUV_mean': 1.78, 'SD': 0.43}, 24: {'SUV_max': 2.9, 'SUV_mean': 2.01, 'SD': 0.47}, 25: {'SUV_max': 7.08, 'SUV_mean': 4.52, 'SD': 1.15}, 26: {'SUV_max': 6.06, 'SUV_mean': 3.29, 'SD': 0.72}, 27: {'SUV_max': 10.09, 'SUV_mean': 5.66, 'SD': 1.21}, 28: {'SUV_max': 10.32, 'SUV_mean': 6.13, 'SD': 1.44}, 29: {'SUV_max': 4.96, 'SUV_mean': 2.74, 'SD': 0.61}, 30: {'SUV_max': 2.88, 'SUV_mean': 1.95, 'SD': 0.54}, 31: {'SUV_max': 4.1, 'SUV_mean': 2.44, 'SD': 0.54}}\nerreur calcul suv, philips\n[0.48, 1.4099999999999993]\nUnconstant Spacing à la série CT  11\n['/media/salim/DD 2To/AHL2011_Validated_DICOMS/13011101391021/1.2.124.113532.172.16.4.13.20130618.214008.2108115/1.2.840.113619.2.290.3.279712783.738.1371622390.965/1.2.840.113619.2.290.3.279712783.738.1371622390.965', 'PT', '/media/salim/DD 2To/AHL2011_Validated_DICOMS/13011101391021/1.2.124.113532.172.16.4.13.20130618.214008.2108115/1.2.840.113619.2.290.3.279712783.738.1371622390.664.3/1.2.840.113619.2.290.3.279712783.738.1371622390.664.3', 'CT', 'lop_jo_jun 19_2013.csv']\nserie PT, generation du mask avec fichier csv associée\n[256, 256, 299]\n{1: {'SUV_max': 14.94, 'SUV_mean': 8.42, 'SD': 1.53}, 2: {'SUV_max': 9.31, 'SUV_mean': 6.22, 'SD': 1.58}, 3: {'SUV_max': 8.19, 'SUV_mean': 4.93, 'SD': 1.15}, 4: {'SUV_max': 3.05, 'SUV_mean': 2.11, 'SD': 0.33}}\n['/media/salim/DD 2To/AHL2011_Validated_DICOMS/53011101881001/1.2.250.1.199.10.90001.90058.20111108121116/1.3.12.2.1107.5.1.4.1007.30000011110810212964000002409/1.3.12.2.1107.5.1.4.1007.30000011110810212964000002409', 'CT', '/media/salim/DD 2To/AHL2011_Validated_DICOMS/53011101881001/1.2.250.1.199.10.90001.90058.20111108121116/1.3.12.2.1107.5.1.4.1007.30000011110810215329600007119/1.3.12.2.1107.5.1.4.1007.30000011110810215329600007119', 'PT', 'led_ji_nov 8_2011.csv']\nserie PT, generation du mask avec fichier csv associée\nUnconstant Spacing à la série PT  13\n['/media/salim/DD 2To/AHL2011_Validated_DICOMS/53011101881004/1.2.250.1.199.10.90001.90072.20120424135403/1.3.12.2.1107.5.1.4.1007.30000012042407331576500017268/1.3.12.2.1107.5.1.4.1007.30000012042407331576500017268', 'PT', '/media/salim/DD 2To/AHL2011_Validated_DICOMS/53011101881004/1.2.250.1.199.10.90001.90072.20120424135403/1.3.12.2.1107.5.1.4.1007.30000012042408512556200006011/1.3.12.2.1107.5.1.4.1007.30000012042408512556200006011', 'CT', 'wil_ol_apr 24_2012.csv']\nserie PT, generation du mask avec fichier csv associée\n[200, 200, 481]\n"
    }
   ],
   "source": [
    "\n",
    "nifti_directory = '/media/salim/DD 2To/AHL2011_NIFTI'\n",
    "\n",
    "\n",
    "csv_directory = '/media/salim/DD 2To/AHL2011_CSV_DATA/AHL2011-CSV'\n",
    "\n",
    "\n",
    "for serie in dataset : \n",
    "    print(serie)\n",
    "\n",
    "    for i in range(1,4,2): #inde 1 et 3 => CT OU PT\n",
    "\n",
    "\n",
    "        if serie[i] == 'CT' : \n",
    "            serie_ct_objet = SeriesCT(serie[i - 1])\n",
    "            study_uid = serie_ct_objet.get_series_details()['study']['StudyInstanceUID']\n",
    "            serie_ct_objet.get_numpy_array()\n",
    "            if serie_ct_objet.get_z_spacing() != 'Unconstant Spacing' : \n",
    "                filename = study_uid+'_'+'nifti_'+'CT'+'.nii'\n",
    "                serie_ct_objet.export_nifti(os.path.join(nifti_directory, filename))\n",
    "                \n",
    "\n",
    "            else : \n",
    "                print(\"Unconstant Spacing à la série CT \" , dataset.index(serie))\n",
    "\n",
    "\n",
    "\n",
    "    \n",
    "\n",
    "        if serie[i] == 'PT' :\n",
    "            print('serie PT, generation du mask avec fichier csv associée')\n",
    "            serie_pt_objet = SeriesPT(serie[i - 1])\n",
    "            study_uid = serie_pt_objet.get_series_details()['study']['StudyInstanceUID']\n",
    "\n",
    "            nifti_array = serie_pt_objet.get_numpy_array()\n",
    "            if serie_pt_objet.get_z_spacing() != 'Unconstant Spacing' : \n",
    "                filename = study_uid+'_'+'nifti_'+'PT'+'.nii'\n",
    "                serie_pt_objet.export_nifti(os.path.join(nifti_directory, filename))\n",
    "\n",
    "                size_matrix = serie_pt_objet.get_size_matrix()\n",
    "                print(size_matrix)\n",
    "\n",
    "                mask_objet = MaskBuilder(os.path.join(csv_directory, serie[4]), size_matrix)\n",
    "                mask_4D = mask_objet.mask_array\n",
    "                #si le masque est ok, alors generer nifti :\n",
    "                #filename = study_uid+'_'+'nifti'+'mask_4D'+'.nii'\n",
    "                #serie_pt_objet.export_nifti(os.path.join(nifti_directory, filename), mask_4D)\n",
    "                print(mask_objet.calcul_suv(serie_pt_objet.get_numpy_array()))\n",
    "                if mask_objet.is_correct_suv(serie_pt_objet.get_numpy_array()) == False : \n",
    "                    print(\"erreur calcul suv, philips\")\n",
    "                    print(mask_objet.ecart_suv_max(nifti_array))\n",
    "\n",
    "            else : print(\"Unconstant Spacing à la série PT \" , dataset.index(serie))\n",
    "\n"
   ]
  },
  {
   "cell_type": "code",
   "execution_count": 7,
   "metadata": {},
   "outputs": [
    {
     "name": "stdout",
     "output_type": "stream",
     "text": "[200, 200, 481]\n"
    }
   ],
   "source": [
    "#pblm ici sur la méthode de calcul des SUV max mean, bcp trop long \n",
    "csv_directory = '/media/salim/DD 2To/AHL2011_CSV_DATA/AHL2011-CSV'\n",
    "dataset[14]\n",
    "objet = SeriesCT(dataset[14][0])\n",
    "nifti = objet.get_numpy_array()\n",
    "size_matrix = objet.get_size_matrix()\n",
    "print(size_matrix)\n",
    "mask_objet= MaskBuilder(os.path.join(csv_directory, dataset[14][4]), size_matrix)\n"
   ]
  },
  {
   "cell_type": "code",
   "execution_count": 3,
   "metadata": {},
   "outputs": [
    {
     "data": {
      "text/plain": "[['Cervical',\n  ' 1',\n  ' 394',\n  ' 425',\n  ' num points = 6',\n  ' 127 105',\n  ' 115 94',\n  ' 107 99',\n  ' 108 106',\n  ' 116 118',\n  ' 125 112'],\n ['Cervical',\n  ' 1',\n  ' 378',\n  ' 408',\n  ' num points = 6',\n  ' 124 110',\n  ' 117 96',\n  ' 107 97',\n  ' 111 110',\n  ' 120 120',\n  ' 128 119'],\n ['Cervical',\n  ' 11',\n  ' 370',\n  ' 384',\n  ' num points = 3',\n  ' 128 120',\n  ' 132 120',\n  ' 128 116'],\n ['Cervical',\n  ' 11',\n  ' 368',\n  ' 386',\n  ' num points = 3',\n  ' 124 123',\n  ' 128 123',\n  ' 124 119'],\n ['Cervical',\n  ' 1',\n  ' 388',\n  ' 426',\n  ' num points = 7',\n  ' 98 99',\n  ' 94 97',\n  ' 82 102',\n  ' 78 118',\n  ' 86 120',\n  ' 93 108',\n  ' 97 106'],\n ['Cervical',\n  ' 1',\n  ' 368',\n  ' 406',\n  ' num points = 6',\n  ' 98 108',\n  ' 89 108',\n  ' 87 97',\n  ' 94 95',\n  ' 103 101',\n  ' 103 104'],\n ['Cervical',\n  ' 1',\n  ' 368',\n  ' 393',\n  ' num points = 7',\n  ' 90 123',\n  ' 88 112',\n  ' 84 109',\n  ' 80 114',\n  ' 76 124',\n  ' 80 130',\n  ' 87 129'],\n ['Mediastinal',\n  ' 1',\n  ' 349',\n  ' 371',\n  ' num points = 7',\n  ' 88 93',\n  ' 88 102',\n  ' 77 110',\n  ' 68 117',\n  ' 55 107',\n  ' 66 90',\n  ' 83 88'],\n ['Axillary',\n  ' 1',\n  ' 320',\n  ' 352',\n  ' num points = 7',\n  ' 71 102',\n  ' 64 100',\n  ' 57 104',\n  ' 60 111',\n  ' 67 115',\n  ' 72 114',\n  ' 74 108'],\n ['Axillary',\n  ' 11',\n  ' 360',\n  ' 384',\n  ' num points = 3',\n  ' 76 114',\n  ' 82 114',\n  ' 76 108'],\n ['Axillary',\n  ' 11',\n  ' 367',\n  ' 387',\n  ' num points = 3',\n  ' 77 107',\n  ' 82 107',\n  ' 77 102'],\n ['Axillary',\n  ' 11',\n  ' 359',\n  ' 377',\n  ' num points = 3',\n  ' 69 105',\n  ' 73 105',\n  ' 69 101'],\n ['Axillary',\n  ' 11',\n  ' 363',\n  ' 375',\n  ' num points = 3',\n  ' 86 104',\n  ' 89 104',\n  ' 86 101'],\n ['Axillary',\n  ' 11',\n  ' 340',\n  ' 353',\n  ' num points = 3',\n  ' 76 103',\n  ' 81 103',\n  ' 76 98'],\n ['Mediastinal',\n  ' 11',\n  ' 355',\n  ' 371',\n  ' num points = 3',\n  ' 92 105',\n  ' 96 105',\n  ' 92 101'],\n ['Mediastinal',\n  ' 1',\n  ' 339',\n  ' 366',\n  ' num points = 13',\n  ' 115 116',\n  ' 117 109',\n  ' 119 104',\n  ' 120 98',\n  ' 113 89',\n  ' 97 86',\n  ' 86 90',\n  ' 91 104',\n  ' 94 116',\n  ' 100 116',\n  ' 103 114',\n  ' 106 116',\n  ' 111 121'],\n ['Mediastinal',\n  ' 11',\n  ' 363',\n  ' 387',\n  ' num points = 3',\n  ' 111 103',\n  ' 117 103',\n  ' 111 97'],\n ['Mediastinal',\n  ' 11',\n  ' 363',\n  ' 387',\n  ' num points = 3',\n  ' 99 109',\n  ' 105 109',\n  ' 99 103'],\n ['Mediastinal',\n  ' 1',\n  ' 327',\n  ' 338',\n  ' num points = 11',\n  ' 116 117',\n  ' 109 118',\n  ' 104 114',\n  ' 98 117',\n  ' 86 119',\n  ' 88 101',\n  ' 88 87',\n  ' 106 86',\n  ' 118 90',\n  ' 120 104',\n  ' 120 110'],\n ['Mediastinal',\n  ' 1',\n  ' 314',\n  ' 330',\n  ' num points = 10',\n  ' 112 83',\n  ' 87 87',\n  ' 84 103',\n  ' 87 121',\n  ' 101 117',\n  ' 107 118',\n  ' 113 122',\n  ' 120 124',\n  ' 122 104',\n  ' 116 85'],\n ['Mediastinal',\n  ' 1',\n  ' 297',\n  ' 315',\n  ' num points = 8',\n  ' 100 91',\n  ' 107 112',\n  ' 106 117',\n  ' 93 121',\n  ' 87 121',\n  ' 83 108',\n  ' 89 89',\n  ' 94 87'],\n ['Mediastinal',\n  ' 1',\n  ' 306',\n  ' 323',\n  ' num points = 8',\n  ' 114 98',\n  ' 107 111',\n  ' 106 118',\n  ' 109 124',\n  ' 120 123',\n  ' 125 114',\n  ' 121 105',\n  ' 119 102'],\n ['Mediastinal',\n  ' 11',\n  ' 298',\n  ' 316',\n  ' num points = 3',\n  ' 106 89',\n  ' 110 89',\n  ' 106 85'],\n ['Mediastinal',\n  ' 1',\n  ' 303',\n  ' 321',\n  ' num points = 6',\n  ' 104 86',\n  ' 101 92',\n  ' 103 100',\n  ' 112 98',\n  ' 114 93',\n  ' 113 85'],\n ['Mediastinal',\n  ' 11',\n  ' 278',\n  ' 298',\n  ' num points = 3',\n  ' 108 117',\n  ' 113 117',\n  ' 108 112'],\n ['Mediastinal',\n  ' 11',\n  ' 282',\n  ' 294',\n  ' num points = 3',\n  ' 100 115',\n  ' 103 115',\n  ' 100 112'],\n ['Mediastinal',\n  ' 1',\n  ' 287',\n  ' 309',\n  ' num points = 7',\n  ' 118 110',\n  ' 105 115',\n  ' 107 120',\n  ' 114 120',\n  ' 123 118',\n  ' 125 115',\n  ' 122 111'],\n ['Mediastinal',\n  ' 11',\n  ' 276',\n  ' 290',\n  ' num points = 3',\n  ' 116 118',\n  ' 120 118',\n  ' 116 114'],\n ['Axillary',\n  ' 1',\n  ' 359',\n  ' 376',\n  ' num points = 6',\n  ' 130 104',\n  ' 124 98',\n  ' 120 100',\n  ' 122 107',\n  ' 129 112',\n  ' 136 108'],\n ['Axillary',\n  ' 11',\n  ' 341',\n  ' 355',\n  ' num points = 3',\n  ' 140 97',\n  ' 144 97',\n  ' 140 93'],\n ['Bone Marrow',\n  ' 11',\n  ' 364',\n  ' 378',\n  ' num points = 3',\n  ' 138 115',\n  ' 142 115',\n  ' 138 111'],\n ['Lung',\n  ' 11',\n  ' 273',\n  ' 289',\n  ' num points = 3',\n  ' 89 92',\n  ' 93 92',\n  ' 89 88'],\n ['Lung',\n  ' 11',\n  ' 284',\n  ' 296',\n  ' num points = 3',\n  ' 81 126',\n  ' 84 126',\n  ' 81 123'],\n ['Lung',\n  ' 11',\n  ' 286',\n  ' 294',\n  ' num points = 3',\n  ' 74 120',\n  ' 77 120',\n  ' 74 118'],\n ['Lung',\n  ' 11',\n  ' 284',\n  ' 296',\n  ' num points = 3',\n  ' 85 114',\n  ' 88 114',\n  ' 85 111'],\n ['Lung',\n  ' 11',\n  ' 282',\n  ' 300',\n  ' num points = 3',\n  ' 90 99',\n  ' 94 99',\n  ' 90 95'],\n ['Lung',\n  ' 11',\n  ' 279',\n  ' 295',\n  ' num points = 3',\n  ' 97 121',\n  ' 101 121',\n  ' 97 117'],\n ['Lung',\n  ' 11',\n  ' 289',\n  ' 301',\n  ' num points = 3',\n  ' 130 108',\n  ' 133 108',\n  ' 130 105'],\n ['Lung',\n  ' 11',\n  ' 274',\n  ' 288',\n  ' num points = 3',\n  ' 132 104',\n  ' 136 104',\n  ' 132 100'],\n ['Lung',\n  ' 11',\n  ' 263',\n  ' 281',\n  ' num points = 3',\n  ' 126 126',\n  ' 130 126',\n  ' 126 122'],\n ['Lung',\n  ' 11',\n  ' 262',\n  ' 282',\n  ' num points = 3',\n  ' 117 127',\n  ' 122 127',\n  ' 117 122'],\n ['Lung',\n  ' 11',\n  ' 249',\n  ' 269',\n  ' num points = 3',\n  ' 113 125',\n  ' 118 125',\n  ' 113 120'],\n ['Lung',\n  ' 11',\n  ' 306',\n  ' 322',\n  ' num points = 3',\n  ' 126 123',\n  ' 130 123',\n  ' 126 119'],\n ['Lung',\n  ' 11',\n  ' 256',\n  ' 274',\n  ' num points = 3',\n  ' 128 120',\n  ' 132 120',\n  ' 128 116'],\n ['Lung',\n  ' 11',\n  ' 297',\n  ' 311',\n  ' num points = 3',\n  ' 123 124',\n  ' 127 124',\n  ' 123 120'],\n ['Lung',\n  ' 11',\n  ' 254',\n  ' 266',\n  ' num points = 3',\n  ' 119 113',\n  ' 122 113',\n  ' 119 110'],\n ['Mediastinal',\n  ' 11',\n  ' 282',\n  ' 302',\n  ' num points = 3',\n  ' 91 84',\n  ' 96 84',\n  ' 91 79'],\n ['Mediastinal',\n  ' 11',\n  ' 297',\n  ' 315',\n  ' num points = 3',\n  ' 91 86',\n  ' 95 86',\n  ' 91 82'],\n ['Mediastinal',\n  ' 11',\n  ' 309',\n  ' 325',\n  ' num points = 3',\n  ' 96 87',\n  ' 100 87',\n  ' 96 83'],\n ['Pelvis',\n  ' 11',\n  ' 69',\n  ' 93',\n  ' num points = 3',\n  ' 114 97',\n  ' 120 97',\n  ' 114 91'],\n ['Pelvis',\n  ' 11',\n  ' 76',\n  ' 100',\n  ' num points = 3',\n  ' 113 104',\n  ' 119 104',\n  ' 113 98'],\n ['Pelvis',\n  ' 11',\n  ' 96',\n  ' 108',\n  ' num points = 3',\n  ' 112 108',\n  ' 115 108',\n  ' 112 105'],\n ['Pelvis',\n  ' 11',\n  ' 104',\n  ' 124',\n  ' num points = 3',\n  ' 92 110',\n  ' 97 110',\n  ' 92 105'],\n ['Pelvis',\n  ' 11',\n  ' 124',\n  ' 144',\n  ' num points = 3',\n  ' 94 104',\n  ' 99 104',\n  ' 94 99'],\n ['Pelvis',\n  ' 11',\n  ' 124',\n  ' 144',\n  ' num points = 3',\n  ' 109 102',\n  ' 114 102',\n  ' 109 97'],\n ['Pelvis',\n  ' 11',\n  ' 112',\n  ' 128',\n  ' num points = 3',\n  ' 110 109',\n  ' 114 109',\n  ' 110 105'],\n ['Abdominal',\n  ' 1',\n  ' 136',\n  ' 186',\n  ' num points = 5',\n  ' 103 104',\n  ' 96 106',\n  ' 91 101',\n  ' 100 94',\n  ' 106 98'],\n ['Abdominal',\n  ' 1',\n  ' 157',\n  ' 196',\n  ' num points = 8',\n  ' 110 94',\n  ' 102 93',\n  ' 102 102',\n  ' 104 106',\n  ' 109 109',\n  ' 119 112',\n  ' 124 101',\n  ' 116 98'],\n ['Abdominal',\n  ' 11',\n  ' 140',\n  ' 164',\n  ' num points = 3',\n  ' 108 102',\n  ' 114 102',\n  ' 108 96'],\n ['Abdominal',\n  ' 1',\n  ' 186',\n  ' 227',\n  ' num points = 9',\n  ' 120 103',\n  ' 119 114',\n  ' 112 113',\n  ' 103 109',\n  ' 97 105',\n  ' 98 98',\n  ' 109 95',\n  ' 117 97',\n  ' 119 99'],\n ['Abdominal',\n  ' 11',\n  ' 228',\n  ' 252',\n  ' num points = 3',\n  ' 104 103',\n  ' 110 103',\n  ' 104 97'],\n ['Splenic',\n  ' 1',\n  ' 234',\n  ' 257',\n  ' num points = 9',\n  ' 129 96',\n  ' 124 105',\n  ' 115 108',\n  ' 111 115',\n  ' 119 131',\n  ' 134 134',\n  ' 149 111',\n  ' 138 92',\n  ' 133 87'],\n ['Splenic',\n  ' 1',\n  ' 228',\n  ' 233',\n  ' num points = 7',\n  ' 129 92',\n  ' 120 109',\n  ' 122 118',\n  ' 128 132',\n  ' 137 130',\n  ' 147 110',\n  ' 137 90'],\n ['Splenic',\n  ' 1',\n  ' 210',\n  ' 227',\n  ' num points = 6',\n  ' 128 95',\n  ' 128 105',\n  ' 127 129',\n  ' 139 122',\n  ' 139 104',\n  ' 134 93'],\n ['Mediastinal',\n  ' 11',\n  ' 230',\n  ' 254',\n  ' num points = 3',\n  ' 103 112',\n  ' 109 112',\n  ' 103 106'],\n ['Mediastinal',\n  ' 11',\n  ' 279',\n  ' 291',\n  ' num points = 3',\n  ' 122 118',\n  ' 125 118',\n  ' 122 115'],\n ['Abdominal',\n  ' 11',\n  ' 113',\n  ' 129',\n  ' num points = 3',\n  ' 113 100',\n  ' 117 100',\n  ' 113 96'],\n ['Abdominal',\n  ' 11',\n  ' 199',\n  ' 220',\n  ' num points = 3',\n  ' 96 110',\n  ' 100 110',\n  ' 96 106'],\n ['Abdominal',\n  ' 11',\n  ' 189',\n  ' 197',\n  ' num points = 3',\n  ' 97 108',\n  ' 100 108',\n  ' 97 106'],\n ['Abdominal',\n  ' 1',\n  ' 226',\n  ' 241',\n  ' num points = 6',\n  ' 134 93',\n  ' 129 95',\n  ' 119 88',\n  ' 116 82',\n  ' 123 80',\n  ' 134 88']]"
     },
     "execution_count": 3,
     "metadata": {},
     "output_type": "execute_result"
    }
   ],
   "source": [
    "import os \n",
    "from library_dicom.dicom_processor.model.csv_reader.CsvReader import CsvReader\n",
    "csv_directory = '/media/salim/DD 2To/AHL2011_CSV_DATA/AHL2011-CSV'\n",
    "filename = 'wil_ol_apr 24_2012.csv'\n",
    "\n",
    "objet_csv_reader = CsvReader(os.path.join(csv_directory, filename))\n",
    "objet_csv_reader .get_manual_rois()"
   ]
  },
  {
   "cell_type": "code",
   "execution_count": null,
   "metadata": {},
   "outputs": [],
   "source": [
    "None"
   ]
  },
  {
   "cell_type": "code",
   "execution_count": 39,
   "metadata": {},
   "outputs": [],
   "source": [
    "None"
   ]
  },
  {
   "cell_type": "code",
   "execution_count": 40,
   "metadata": {},
   "outputs": [],
   "source": [
    "None"
   ]
  },
  {
   "cell_type": "code",
   "execution_count": 32,
   "metadata": {},
   "outputs": [],
   "source": [
    "None"
   ]
  },
  {
   "cell_type": "code",
   "execution_count": 8,
   "metadata": {},
   "outputs": [
    {
     "name": "stdout",
     "output_type": "stream",
     "text": "['GE MEDICAL SYSTEMS', 'Philips Medical Systems', 'Philips Medical Systems', 'Philips Medical Systems', 'Philips Medical Systems', 'Philips Medical Systems', 'Philips Medical Systems', 'Philips Medical Systems', 'Philips Medical Systems', 'Philips Medical Systems', 'GE MEDICAL SYSTEMS', 'SIEMENS', 'SIEMENS', 'SIEMENS', 'SIEMENS', 'SIEMENS', 'SIEMENS', 'SIEMENS', 'SIEMENS', 'SIEMENS', 'SIEMENS', 'SIEMENS', 'SIEMENS', 'SIEMENS', 'SIEMENS', 'SIEMENS', 'SIEMENS', 'SIEMENS', 'SIEMENS', 'SIEMENS', 'SIEMENS', 'SIEMENS', 'SIEMENS', 'GE MEDICAL SYSTEMS', 'GE MEDICAL SYSTEMS', 'GE MEDICAL SYSTEMS', 'GE MEDICAL SYSTEMS', 'GE MEDICAL SYSTEMS', 'GE MEDICAL SYSTEMS', 'CPS', 'CPS', 'CPS', 'CPS', 'CPS', 'CPS', 'CPS', 'CPS', 'CPS', 'CPS', 'CPS', 'CPS', 'CPS', 'Philips Medical Systems', 'Philips Medical Systems', 'Philips Medical Systems', 'Philips Medical Systems', 'Philips Medical Systems', 'Philips Medical Systems', 'Philips Medical Systems', 'Philips Medical Systems', 'Philips Medical Systems', 'Philips Medical Systems', 'SIEMENS', 'SIEMENS', 'SIEMENS', 'SIEMENS', 'SIEMENS', 'Philips Medical Systems', 'Philips Medical Systems', 'Philips Medical Systems', 'Philips Medical Systems', 'GE MEDICAL SYSTEMS', 'GE MEDICAL SYSTEMS', 'GE MEDICAL SYSTEMS', 'GE MEDICAL SYSTEMS', 'GE MEDICAL SYSTEMS', 'GE MEDICAL SYSTEMS', 'GE MEDICAL SYSTEMS', 'GE MEDICAL SYSTEMS', 'GE MEDICAL SYSTEMS', 'CPS', 'GE MEDICAL SYSTEMS', 'GE MEDICAL SYSTEMS', 'GE MEDICAL SYSTEMS', 'GE MEDICAL SYSTEMS', 'GE MEDICAL SYSTEMS', 'GE MEDICAL SYSTEMS', 'SIEMENS', 'Philips Medical Systems', 'Philips Medical Systems', 'Philips Medical Systems', 'Philips Medical Systems', 'Philips Medical Systems', 'Philips Medical Systems', 'Philips Medical Systems', 'Philips Medical Systems', 'Philips Medical Systems', 'Philips Medical Systems', 'Philips Medical Systems', 'Philips Medical Systems', 'GE MEDICAL SYSTEMS', 'Philips Medical Systems', 'Philips Medical Systems', 'GE MEDICAL SYSTEMS', 'Philips Medical Systems', 'Philips Medical Systems', 'Philips Medical Systems', 'Philips Medical Systems', 'GE MEDICAL SYSTEMS', 'Philips Medical Systems', 'Philips Medical Systems', 'Philips Medical Systems', 'Philips Medical Systems', 'Philips Medical Systems', 'Philips Medical Systems', 'Philips Medical Systems', 'Philips Medical Systems', 'Philips Medical Systems', 'Philips Medical Systems', 'GE MEDICAL SYSTEMS', 'Philips Medical Systems', 'GE MEDICAL SYSTEMS', 'GE MEDICAL SYSTEMS', 'SIEMENS', 'SIEMENS', 'GE MEDICAL SYSTEMS', 'SIEMENS', 'SIEMENS', 'SIEMENS', 'Philips Medical Systems', 'Philips Medical Systems', 'SIEMENS', 'GE MEDICAL SYSTEMS', 'GE MEDICAL SYSTEMS', 'Philips Medical Systems', 'GE MEDICAL SYSTEMS', 'Philips Medical Systems', 'Philips Medical Systems', 'SIEMENS', 'SIEMENS', 'GE MEDICAL SYSTEMS', 'SIEMENS', 'SIEMENS', 'Philips Medical Systems', 'Philips Medical Systems', 'Philips Medical Systems', 'Philips Medical Systems', 'SIEMENS', 'SIEMENS', 'SIEMENS', 'SIEMENS', 'Philips Medical Systems', 'Philips Medical Systems', 'SIEMENS', 'Philips Medical Systems', 'Philips Medical Systems', 'SIEMENS', 'SIEMENS', 'SIEMENS', 'SIEMENS', 'CPS', 'Philips Medical Systems', 'CPS', 'GE MEDICAL SYSTEMS', 'SIEMENS', 'SIEMENS', 'SIEMENS', 'SIEMENS', 'SIEMENS', 'SIEMENS', 'SIEMENS', 'Philips Medical Systems', 'Philips Medical Systems', 'SIEMENS', 'SIEMENS', 'SIEMENS', 'Philips Medical Systems', 'SIEMENS', 'SIEMENS', 'Philips Medical Systems', 'Philips Medical Systems', 'Philips Medical Systems', 'Philips Medical Systems', 'Philips Medical Systems', 'SIEMENS', 'Philips Medical Systems', 'Philips Medical Systems', 'Philips Medical Systems', 'Philips Medical Systems', 'Philips Medical Systems', 'Philips Medical Systems', 'Philips Medical Systems', 'Philips Medical Systems', 'Philips Medical Systems', 'Philips Medical Systems', 'Philips Medical Systems', 'Philips Medical Systems', 'Philips Medical Systems', 'Philips Medical Systems', 'Philips Medical Systems', 'Philips Medical Systems', 'Philips Medical Systems', 'Philips Medical Systems', 'Philips Medical Systems', 'Philips Medical Systems', 'Philips Medical Systems', 'Philips Medical Systems', 'Philips Medical Systems', 'CPS', 'CPS', 'GE MEDICAL SYSTEMS', 'SIEMENS', 'GE MEDICAL SYSTEMS', 'GE MEDICAL SYSTEMS', 'GE MEDICAL SYSTEMS', 'GE MEDICAL SYSTEMS', 'GE MEDICAL SYSTEMS', 'GE MEDICAL SYSTEMS', 'GE MEDICAL SYSTEMS', 'GE MEDICAL SYSTEMS', 'GE MEDICAL SYSTEMS', 'GE MEDICAL SYSTEMS', 'GE MEDICAL SYSTEMS', 'GE MEDICAL SYSTEMS', 'GE MEDICAL SYSTEMS', 'GE MEDICAL SYSTEMS', 'GE MEDICAL SYSTEMS', 'GE MEDICAL SYSTEMS', 'GE MEDICAL SYSTEMS', 'GE MEDICAL SYSTEMS', 'GE MEDICAL SYSTEMS', 'GE MEDICAL SYSTEMS', 'GE MEDICAL SYSTEMS', 'GE MEDICAL SYSTEMS', 'GE MEDICAL SYSTEMS', 'GE MEDICAL SYSTEMS', 'GE MEDICAL SYSTEMS', 'GE MEDICAL SYSTEMS', 'GE MEDICAL SYSTEMS', 'GE MEDICAL SYSTEMS', 'GE MEDICAL SYSTEMS', 'GE MEDICAL SYSTEMS', 'GE MEDICAL SYSTEMS', 'GE MEDICAL SYSTEMS', 'GE MEDICAL SYSTEMS', 'GE MEDICAL SYSTEMS', 'GE MEDICAL SYSTEMS', 'GE MEDICAL SYSTEMS', 'GE MEDICAL SYSTEMS', 'GE MEDICAL SYSTEMS', 'GE MEDICAL SYSTEMS', 'GE MEDICAL SYSTEMS', 'GE MEDICAL SYSTEMS', 'GE MEDICAL SYSTEMS', 'GE MEDICAL SYSTEMS', 'GE MEDICAL SYSTEMS', 'GE MEDICAL SYSTEMS', 'GE MEDICAL SYSTEMS', 'GE MEDICAL SYSTEMS', 'GE MEDICAL SYSTEMS', 'GE MEDICAL SYSTEMS', 'GE MEDICAL SYSTEMS', 'GE MEDICAL SYSTEMS', 'GE MEDICAL SYSTEMS', 'GE MEDICAL SYSTEMS', 'GE MEDICAL SYSTEMS', 'GE MEDICAL SYSTEMS', 'GE MEDICAL SYSTEMS', 'GE MEDICAL SYSTEMS', 'GE MEDICAL SYSTEMS', 'GE MEDICAL SYSTEMS', 'GE MEDICAL SYSTEMS', 'GE MEDICAL SYSTEMS', 'GE MEDICAL SYSTEMS', 'GE MEDICAL SYSTEMS', 'GE MEDICAL SYSTEMS', 'GE MEDICAL SYSTEMS', 'GE MEDICAL SYSTEMS', 'GE MEDICAL SYSTEMS', 'GE MEDICAL SYSTEMS', 'GE MEDICAL SYSTEMS', 'GE MEDICAL SYSTEMS', 'GE MEDICAL SYSTEMS', 'GE MEDICAL SYSTEMS', 'GE MEDICAL SYSTEMS', 'GE MEDICAL SYSTEMS', 'GE MEDICAL SYSTEMS', 'GE MEDICAL SYSTEMS', 'GE MEDICAL SYSTEMS', 'GE MEDICAL SYSTEMS', 'GE MEDICAL SYSTEMS', 'GE MEDICAL SYSTEMS', 'GE MEDICAL SYSTEMS', 'GE MEDICAL SYSTEMS', 'GE MEDICAL SYSTEMS', 'GE MEDICAL SYSTEMS', 'GE MEDICAL SYSTEMS', 'GE MEDICAL SYSTEMS', 'GE MEDICAL SYSTEMS', 'GE MEDICAL SYSTEMS', 'GE MEDICAL SYSTEMS', 'GE MEDICAL SYSTEMS', 'GE MEDICAL SYSTEMS', 'GE MEDICAL SYSTEMS', 'GE MEDICAL SYSTEMS', 'GE MEDICAL SYSTEMS', 'GE MEDICAL SYSTEMS', 'GE MEDICAL SYSTEMS', 'GE MEDICAL SYSTEMS', 'GE MEDICAL SYSTEMS', 'GE MEDICAL SYSTEMS', 'GE MEDICAL SYSTEMS', 'GE MEDICAL SYSTEMS', 'GE MEDICAL SYSTEMS', 'GE MEDICAL SYSTEMS', 'GE MEDICAL SYSTEMS', 'GE MEDICAL SYSTEMS', 'GE MEDICAL SYSTEMS', 'GE MEDICAL SYSTEMS', 'GE MEDICAL SYSTEMS', 'GE MEDICAL SYSTEMS', 'GE MEDICAL SYSTEMS', 'GE MEDICAL SYSTEMS', 'Philips Medical Systems', 'Philips Medical Systems', 'Philips Medical Systems', 'Philips Medical Systems', 'Philips Medical Systems', 'Philips Medical Systems', 'Philips Medical Systems', 'Philips Medical Systems', 'Philips Medical Systems', 'Philips Medical Systems', 'Philips Medical Systems', 'Philips Medical Systems', 'Philips Medical Systems', 'Philips Medical Systems', 'Philips Medical Systems', 'Philips Medical Systems', 'Philips Medical Systems', 'Philips Medical Systems', 'Philips Medical Systems', 'Philips Medical Systems', 'Philips Medical Systems', 'Philips Medical Systems', 'Philips Medical Systems', 'Philips Medical Systems', 'Philips Medical Systems', 'Philips Medical Systems', 'Philips Medical Systems', 'Philips Medical Systems', 'Philips Medical Systems', 'Philips Medical Systems', 'Philips Medical Systems', 'Philips Medical Systems', 'Philips Medical Systems', 'Philips Medical Systems', 'Philips Medical Systems', 'Philips Medical Systems', 'Philips Medical Systems', 'Philips Medical Systems', 'Philips Medical Systems', 'Philips Medical Systems', 'Philips Medical Systems', 'Philips Medical Systems', 'Philips Medical Systems', 'Philips Medical Systems', 'Philips Medical Systems', 'Philips Medical Systems', 'Philips Medical Systems', 'Philips Medical Systems', 'Philips Medical Systems', 'Philips Medical Systems', 'Philips Medical Systems', 'Philips Medical Systems', 'Philips Medical Systems', 'Philips Medical Systems', 'Philips Medical Systems', 'Philips Medical Systems', 'Philips Medical Systems', 'Philips Medical Systems', 'Philips Medical Systems', 'Philips Medical Systems', 'Philips Medical Systems', 'Philips Medical Systems', 'Philips Medical Systems', 'Philips Medical Systems', 'Philips Medical Systems', 'SIEMENS', 'SIEMENS', 'GE MEDICAL SYSTEMS', 'Philips Medical Systems', 'Philips Medical Systems', 'Philips Medical Systems', 'Philips Medical Systems', 'Philips Medical Systems', 'Philips Medical Systems', 'Philips Medical Systems', 'Philips Medical Systems', 'CPS', 'CPS', 'CPS', 'SIEMENS', 'CPS', 'SIEMENS', 'SIEMENS', 'SIEMENS', 'SIEMENS', 'SIEMENS', 'SIEMENS', 'SIEMENS', 'SIEMENS', 'SIEMENS', 'SIEMENS', 'SIEMENS', 'SIEMENS', 'SIEMENS', 'SIEMENS', 'Philips Medical Systems', 'Philips Medical Systems', 'Philips Medical Systems', 'Philips Medical Systems', 'Philips Medical Systems', 'Philips Medical Systems', 'Philips Medical Systems', 'GE MEDICAL SYSTEMS', 'GE MEDICAL SYSTEMS', 'GE MEDICAL SYSTEMS', 'GE MEDICAL SYSTEMS', 'SIEMENS', 'SIEMENS', 'SIEMENS', 'SIEMENS', 'SIEMENS', 'SIEMENS', 'SIEMENS', 'SIEMENS', 'SIEMENS', 'SIEMENS', 'SIEMENS', 'SIEMENS', 'SIEMENS', 'SIEMENS', 'SIEMENS', 'SIEMENS', 'SIEMENS', 'SIEMENS', 'SIEMENS', 'SIEMENS', 'SIEMENS', 'SIEMENS', 'SIEMENS', 'SIEMENS', 'SIEMENS', 'SIEMENS', 'SIEMENS', 'SIEMENS', 'SIEMENS', 'SIEMENS', 'SIEMENS', 'SIEMENS', 'SIEMENS', 'SIEMENS', 'SIEMENS', 'SIEMENS', 'SIEMENS', 'SIEMENS', 'SIEMENS', 'SIEMENS', 'SIEMENS', 'SIEMENS', 'SIEMENS', 'SIEMENS', 'SIEMENS', 'Philips Medical Systems', 'Philips Medical Systems', 'GE MEDICAL SYSTEMS', 'GE MEDICAL SYSTEMS', 'GE MEDICAL SYSTEMS', 'GE MEDICAL SYSTEMS', 'GE MEDICAL SYSTEMS', 'GE MEDICAL SYSTEMS', 'GE MEDICAL SYSTEMS', 'GE MEDICAL SYSTEMS', 'GE MEDICAL SYSTEMS', 'GE MEDICAL SYSTEMS', 'GE MEDICAL SYSTEMS', 'GE MEDICAL SYSTEMS', 'GE MEDICAL SYSTEMS', 'GE MEDICAL SYSTEMS', 'SIEMENS', 'SIEMENS', 'SIEMENS', 'SIEMENS', 'SIEMENS', 'Philips Medical Systems', 'Philips Medical Systems', 'Philips Medical Systems', 'Philips Medical Systems', 'CPS', 'CPS', 'CPS', 'SIEMENS', 'SIEMENS', 'SIEMENS', 'SIEMENS', 'CPS', 'SIEMENS', 'SIEMENS', 'SIEMENS', 'CPS', 'SIEMENS', 'SIEMENS', 'SIEMENS', 'SIEMENS', 'SIEMENS', 'SIEMENS', 'SIEMENS', 'SIEMENS', 'CPS', 'SIEMENS', 'SIEMENS', 'Philips Medical Systems', 'Philips Medical Systems', 'Philips Medical Systems', 'Philips Medical Systems', 'Philips Medical Systems', 'Philips Medical Systems', 'Philips Medical Systems', 'Philips Medical Systems', 'Philips Medical Systems', 'Philips Medical Systems', 'Philips Medical Systems', 'Philips Medical Systems', 'Philips Medical Systems', 'Philips Medical Systems', 'Philips Medical Systems', 'Philips Medical Systems', 'Philips Medical Systems', 'Philips Medical Systems', 'Philips Medical Systems', 'Philips Medical Systems', 'Philips Medical Systems', 'Philips Medical Systems', 'Philips Medical Systems', 'Philips Medical Systems', 'Philips Medical Systems', 'GE MEDICAL SYSTEMS', 'GE MEDICAL SYSTEMS', 'GE MEDICAL SYSTEMS', 'GE MEDICAL SYSTEMS', 'GE MEDICAL SYSTEMS', 'GE MEDICAL SYSTEMS', 'GE MEDICAL SYSTEMS', 'GE MEDICAL SYSTEMS', 'GE MEDICAL SYSTEMS', 'GE MEDICAL SYSTEMS', 'GE MEDICAL SYSTEMS', 'GE MEDICAL SYSTEMS', 'GE MEDICAL SYSTEMS', 'GE MEDICAL SYSTEMS', 'SIEMENS', 'SIEMENS', 'SIEMENS', 'SIEMENS', 'SIEMENS', 'SIEMENS', 'SIEMENS', 'SIEMENS', 'SIEMENS', 'SIEMENS', 'GE MEDICAL SYSTEMS', 'SIEMENS', 'SIEMENS', 'CPS', 'SIEMENS', 'SIEMENS', 'SIEMENS', 'SIEMENS', 'GE MEDICAL SYSTEMS', 'SIEMENS', 'GE MEDICAL SYSTEMS', 'GE MEDICAL SYSTEMS', 'GE MEDICAL SYSTEMS', 'GE MEDICAL SYSTEMS', 'GE MEDICAL SYSTEMS', 'SIEMENS', 'SIEMENS', 'SIEMENS', 'SIEMENS', 'SIEMENS', 'SIEMENS', 'SIEMENS', 'SIEMENS', 'SIEMENS', 'SIEMENS', 'SIEMENS', 'SIEMENS', 'SIEMENS', 'SIEMENS', 'SIEMENS', 'SIEMENS', 'SIEMENS', 'SIEMENS', 'SIEMENS', 'SIEMENS', 'SIEMENS', 'SIEMENS', 'SIEMENS', 'SIEMENS', 'SIEMENS', 'GE MEDICAL SYSTEMS']\n"
    }
   ],
   "source": [
    "list_manufacturer = []\n",
    "for serie in dataset : \n",
    "#serie CT / PT \n",
    "    for i in range(2):\n",
    "        #print(i)\n",
    "        #recupérer study IUD et CT PT dans le tri des données, dans le json \n",
    "        serie_object = Series(serie[i])\n",
    "        serie_data = serie_object.get_series_details()\n",
    "        modality = serie_data['series']['Modality'] #CT ou PT\n",
    "\n",
    "        if modality == 'PT' :\n",
    "            serie_pt = SeriesPT(serie[i])\n",
    "            list_manufacturer.append(serie_pt.get_series_details()['series']['Manufacturer'])\n",
    "\n",
    "print(list_manufacturer)"
   ]
  },
  {
   "cell_type": "code",
   "execution_count": null,
   "metadata": {},
   "outputs": [],
   "source": [
    "\n"
   ]
  }
 ]
}