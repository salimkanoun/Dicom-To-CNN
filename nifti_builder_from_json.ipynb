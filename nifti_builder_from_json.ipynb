{
 "cells": [
  {
   "cell_type": "code",
   "execution_count": 4,
   "metadata": {},
   "outputs": [],
   "source": [
    "import json\n",
    "import os\n",
    "from library_dicom.dicom_processor.model.Series import Series \n",
    "from library_dicom.dicom_processor.model.SeriesPT import SeriesPT\n",
    "from library_dicom.dicom_processor.model.SeriesCT import SeriesCT\n",
    "from library_dicom.dicom_processor.model.csv_reader.MaskBuilder import MaskBuilder\n",
    "\n",
    "from library_dicom.dicom_processor.tools.folders import *\n",
    "\n",
    "from library_dicom.dicom_processor.tools.create_mip import *\n",
    "from library_dicom.dicom_processor.tools.threshold_mask import *\n",
    "\n",
    "import numpy as np\n",
    "import SimpleITK as sitk"
   ]
  },
  {
   "cell_type": "code",
   "execution_count": null,
   "metadata": {},
   "outputs": [],
   "source": []
  },
  {
   "cell_type": "code",
   "execution_count": 2,
   "metadata": {},
   "outputs": [],
   "source": [
    "#LIST FROM PARSE_FILTERED_DICOM_DATASET"
   ]
  },
  {
   "cell_type": "code",
   "execution_count": 5,
   "metadata": {},
   "outputs": [],
   "source": [
    "nifti_directory = '/media/salim/DD 2To/AHL2011_NIFTI'\n",
    "\n",
    "csv_directory = '/media/salim/DD 2To/AHL2011_CSV_DATA/AHL2011-CSV'"
   ]
  },
  {
   "cell_type": "code",
   "execution_count": 6,
   "metadata": {},
   "outputs": [],
   "source": [
    "json_path = '/media/salim/DD 2To/AHL2011_NIFTI/json/AHL2011_list_path_csv.json'"
   ]
  },
  {
   "cell_type": "code",
   "execution_count": 7,
   "metadata": {},
   "outputs": [],
   "source": [
    "data = []\n",
    "with open(json_path) as json_file : \n",
    "    reader = json.load(json_file)\n",
    "    for info in reader :\n",
    "        for path in reader[info] :\n",
    "            data.append(path)"
   ]
  },
  {
   "cell_type": "code",
   "execution_count": 8,
   "metadata": {},
   "outputs": [],
   "source": [
    "dataset = []\n",
    "for i in range(0,len(data),5):\n",
    "    subliste = []\n",
    "    subliste.append(data[i])\n",
    "    subliste.append(data[i+1])\n",
    "    subliste.append(data[i+2])\n",
    "    subliste.append(data[i+3])\n",
    "    subliste.append(data[i+4])\n",
    "    dataset.append(subliste)"
   ]
  },
  {
   "cell_type": "code",
   "execution_count": null,
   "metadata": {},
   "outputs": [],
   "source": [
    "#GENERE LA LISTE DES JSON AVEC UN UNCONSTANT SPACING, SAVE IT AS JSON "
   ]
  },
  {
   "cell_type": "code",
   "execution_count": null,
   "metadata": {},
   "outputs": [],
   "source": [
    "\n",
    "from library_dicom.dicom_processor.tools.folders import *\n",
    "liste_unconstant_z_spacing = []\n",
    "for liste in dataset : \n",
    "    print(dataset.index(liste))\n",
    "    for i in range(0,4,2) : \n",
    "        serie_objet = Series(liste[i])\n",
    "        serie_objet.get_numpy_array()\n",
    "        if serie_objet.get_z_spacing() == 'Unconstant Spacing' : \n",
    "            print(liste)\n",
    "            liste_unconstant_z_spacing.append(liste)\n",
    "            list_z_spacing = serie_objet.calculate_z_spacing()\n",
    "            print(list_z_spacing)\n",
    "            #liste_unconstant_z_spacing.append(list_z_spacing)\n",
    "\n",
    "\n",
    "#save it as json\n",
    "\n",
    "write_json_file('/media/salim/DD 2To/AHL2011_NIFTI', 'AHL2011_problem_unconstant_spacing', liste_unconstant_z_spacing)"
   ]
  },
  {
   "cell_type": "code",
   "execution_count": null,
   "metadata": {},
   "outputs": [],
   "source": [
    "write_json_file('/media/salim/DD 2To/AHL2011_NIFTI', 'AHL2011_problem_unconstant_spacing', liste_unconstant_z_spacing)"
   ]
  },
  {
   "cell_type": "code",
   "execution_count": null,
   "metadata": {},
   "outputs": [],
   "source": [
    "#On enleve les series avec un unconstant spacing \n",
    "for serie in liste_unconstant_z_spacing : \n",
    "    dataset.remove(serie)"
   ]
  },
  {
   "cell_type": "code",
   "execution_count": null,
   "metadata": {},
   "outputs": [],
   "source": [
    "#SAVE AS JSON THE FINAL LIST WITHOUT UNCONSTANT SPACING ERROR"
   ]
  },
  {
   "cell_type": "code",
   "execution_count": null,
   "metadata": {},
   "outputs": [],
   "source": [
    "write_json_file('/media/salim/DD 2To/AHL2011_NIFTI', 'AHL2011_final_list_dataset', dataset)\n"
   ]
  },
  {
   "cell_type": "code",
   "execution_count": null,
   "metadata": {},
   "outputs": [],
   "source": [
    "print(len(dataset)) #589\n"
   ]
  },
  {
   "cell_type": "code",
   "execution_count": 30,
   "metadata": {},
   "outputs": [
    {
     "name": "stdout",
     "output_type": "stream",
     "text": "589\n"
    }
   ],
   "source": [
    "#RECHARGEZ LE JSON AVEC LES SERIES \n",
    "json_path = '/media/salim/DD 2To/AHL2011_NIFTI/AHL2011_final_list_dataset.json'\n",
    "dataset = []\n",
    "with open(json_path) as json_file : \n",
    "    reader = json.load(json_file)\n",
    "    for info in reader :\n",
    "        dataset.append(info)\n",
    "\n",
    "print(len(dataset))"
   ]
  },
  {
   "cell_type": "code",
   "execution_count": null,
   "metadata": {},
   "outputs": [],
   "source": [
    "#IF MASK IS CORRECT => GENERATE NIFTI \n",
    "#IF PHILIPS, OR MASK FALSE => PUT SERIE IN A NEW LISTE "
   ]
  },
  {
   "cell_type": "code",
   "execution_count": null,
   "metadata": {},
   "outputs": [],
   "source": [
    "untreated_liste = []\n",
    "#CT et PT pas dans le même ordre suivant les séries \n",
    "#voir pour les ranger avant PT en premier puis CT \n",
    "#On traite meme les philips\n",
    "#On met les erreurs de coté\n",
    "#si erreur sur les ellipse on tolere\n",
    "#si erreur polygone alors faut checker\n",
    "\n",
    "\n",
    "\n",
    "#error = []\n",
    "\n",
    "\n",
    "for serie in dataset : \n",
    "    try : \n",
    "        print(serie)\n",
    "        print(dataset.index(serie))\n",
    "        if serie[1] == 'PT' : \n",
    "            serie_pt_objet = SeriesPT(serie[0])\n",
    "            manufacturer = serie_pt_objet.get_series_details()['series']['Manufacturer'] \n",
    "            if 'philips' in manufacturer.lower() :\n",
    "                untreated_liste.append(serie)\n",
    "            else : \n",
    "                nifti_array = serie_pt_objet.get_numpy_array()\n",
    "                study_uid = serie_pt_objet.get_series_details()['study']['StudyInstanceUID']\n",
    "                size_matrix = serie_pt_objet.get_size_matrix()\n",
    "                mask_objet = MaskBuilder(os.path.join(csv_directory, serie[4]), size_matrix)\n",
    "                mask_4D = mask_objet.mask_array\n",
    "                if mask_objet.is_correct_suv(nifti_array) == True : #si mask correct \n",
    "                    print(\"MASK CORRECT\")\n",
    "                    #generation nifti PT\n",
    "                    filename_pt = study_uid+'_'+'nifti_'+'PT'+'.nii'\n",
    "                    serie_pt_objet.export_nifti(os.path.join(nifti_directory, filename_pt))\n",
    "                    print(\"EXPORT NIFTI PT\")\n",
    "                    #generation nifti CT\n",
    "                    serie_ct_objet = SeriesCT(serie[2])\n",
    "                    serie_ct_objet.get_numpy_array()\n",
    "                    filename_ct = study_uid+'_'+'nifti_'+'CT'+'.nii'\n",
    "                    serie_ct_objet.export_nifti(os.path.join(nifti_directory, filename_ct))\n",
    "                    print(\"EXPORT NIFTI CT\")\n",
    "                    #generation nifti mask\n",
    "                    filename_mask = study_uid+'_'+'nifti_'+'mask'+'.nii'\n",
    "                    serie_pt_objet.export_nifti(os.path.join(nifti_directory, filename_mask), mask_4D)\n",
    "                    print(\"EXPORT NIFTI MASK\")\n",
    "                else : \n",
    "                    untreated_liste.append(serie)\n",
    "        else : \n",
    "            serie_pt_objet = SeriesPT(serie[2])\n",
    "            manufacturer = serie_pt_objet.get_series_details()['series']['Manufacturer'] \n",
    "            if 'philips' in manufacturer.lower() :\n",
    "                untreated_liste.append(serie)\n",
    "            else : \n",
    "                nifti_array = serie_pt_objet.get_numpy_array()\n",
    "                study_uid = serie_pt_objet.get_series_details()['study']['StudyInstanceUID']\n",
    "                size_matrix = serie_pt_objet.get_size_matrix()\n",
    "                mask_objet = MaskBuilder(os.path.join(csv_directory, serie[4]), size_matrix)\n",
    "                mask_4D = mask_objet.mask_array\n",
    "                if mask_objet.is_correct_suv(nifti_array) == True : #si mask correct \n",
    "                    print(\"MASK CORRECT\")\n",
    "                    #generation nifti PT\n",
    "                    filename_pt = study_uid+'_'+'nifti_'+'PT'+'.nii'\n",
    "                    serie_pt_objet.export_nifti(os.path.join(nifti_directory, filename_pt))\n",
    "                    print(\"EXPORT NIFTI PT\")\n",
    "                     #generation nifti CT\n",
    "                    serie_ct_objet = SeriesCT(serie[0])\n",
    "                    serie_ct_objet.get_numpy_array()\n",
    "                    filename_ct = study_uid+'_'+'nifti_'+'CT'+'.nii'\n",
    "                    serie_ct_objet.export_nifti(os.path.join(nifti_directory, filename_ct))\n",
    "                    print(\"EXPORT NIFTI CT\")\n",
    "                    #generation nifti mask\n",
    "                    filename_mask = study_uid+'_'+'nifti_'+'mask'+'.nii'\n",
    "                    serie_pt_objet.export_nifti(os.path.join(nifti_directory, filename_mask), mask_4D)\n",
    "                    print(\"EXPORT NIFTI MASK\")\n",
    "                else : \n",
    "                    untreated_liste.append(serie)\n",
    "                   \n",
    "\n",
    "\n",
    "    except Exception as err : \n",
    "        print(err)\n",
    "        #error.append(serie)\n",
    "\n",
    "        \n"
   ]
  },
  {
   "cell_type": "code",
   "execution_count": null,
   "metadata": {},
   "outputs": [],
   "source": [
    "len(untreated_liste) #392 "
   ]
  },
  {
   "cell_type": "code",
   "execution_count": null,
   "metadata": {},
   "outputs": [],
   "source": [
    "#SAVE THE SERIE WITH FALSE MASK \n",
    "#SAVE THE SERIE WITH ERROR\n",
    "from library_dicom.dicom_processor.tools.folders import *\n",
    "write_json_file('/media/salim/DD 2To/AHL2011_NIFTI', 'AHL2011_serie_with_false_mask', untreated_liste)\n",
    "print(len(untreated_liste))"
   ]
  },
  {
   "cell_type": "code",
   "execution_count": null,
   "metadata": {},
   "outputs": [],
   "source": []
  },
  {
   "cell_type": "code",
   "execution_count": null,
   "metadata": {},
   "outputs": [],
   "source": []
  },
  {
   "cell_type": "code",
   "execution_count": null,
   "metadata": {},
   "outputs": [],
   "source": [
    "#IMPORT SERIES WITH FALSE MASK,\n",
    "#CHECK FLIP AXE Z + SMALL ERROR ON ELLIPSE "
   ]
  },
  {
   "cell_type": "code",
   "execution_count": 13,
   "metadata": {},
   "outputs": [
    {
     "name": "stdout",
     "output_type": "stream",
     "text": "392\n"
    }
   ],
   "source": [
    "#importer la liste untreated_serie pour la suite : \n",
    "json_path = '/media/salim/DD 2To/AHL2011_NIFTI/AHL2011_serie_with_false_mask.json'\n",
    "untreated_liste = []\n",
    "with open(json_path) as json_file : \n",
    "    reader = json.load(json_file)\n",
    "    for info in reader :\n",
    "        untreated_liste.append(info)\n",
    "\n",
    "print(len(untreated_liste)) #392"
   ]
  },
  {
   "cell_type": "code",
   "execution_count": 14,
   "metadata": {},
   "outputs": [
    {
     "name": "stdout",
     "output_type": "stream",
     "text": "203\n189\n"
    }
   ],
   "source": [
    "#SEPARE LES SERIES PHILIPS DES AUTRES SERIES UNTREATED\n",
    "philips_serie = []\n",
    "untreated_liste_2 = []\n",
    "for serie in untreated_liste : \n",
    "    #print(untreated_liste.index(serie))\n",
    "    try : \n",
    "        if serie[1] == 'PT' : \n",
    "            serie_pt_objet = SeriesPT(serie[0]) \n",
    "            manufacturer = serie_pt_objet.get_series_details()['series']['Manufacturer'] \n",
    "            #si philips on retraitera plus tard \n",
    "            if 'philips' in manufacturer.lower() :\n",
    "                philips_serie.append(serie)\n",
    "            else : untreated_liste_2.append(serie)\n",
    "\n",
    "        else : \n",
    "            serie_pt_objet = SeriesPT(serie[2]) \n",
    "            manufacturer = serie_pt_objet.get_series_details()['series']['Manufacturer'] \n",
    "            #si philips on retraitera plus tard \n",
    "            if 'philips' in manufacturer.lower() :\n",
    "                philips_serie.append(serie)\n",
    "            else : untreated_liste_2.append(serie)\n",
    "\n",
    "    except Exception as err : \n",
    "        print(serie)\n",
    "        print(err)\n",
    "\n",
    "\n",
    "print(len(philips_serie))\n",
    "write_json_file('/media/salim/DD 2To/AHL2011_NIFTI', 'AHL2011_untreated_philips_serie', philips_serie)\n",
    "print(len(untreated_liste_2))\n",
    "write_json_file('/media/salim/DD 2To/AHL2011_NIFTI', 'AHL2011_untreated_serie', untreated_liste_2)"
   ]
  },
  {
   "cell_type": "code",
   "execution_count": null,
   "metadata": {},
   "outputs": [],
   "source": []
  },
  {
   "cell_type": "code",
   "execution_count": 3,
   "metadata": {},
   "outputs": [
    {
     "name": "stdout",
     "output_type": "stream",
     "text": "189\n"
    }
   ],
   "source": [
    "#IMPORT JSON (serie with false mask, except Philips)\n",
    "json_path = '/media/salim/DD 2To/AHL2011_NIFTI/AHL2011_untreated_serie.json'\n",
    "untreated_liste_2 = []\n",
    "with open(json_path) as json_file : \n",
    "    reader = json.load(json_file)\n",
    "    for info in reader :\n",
    "        untreated_liste_2.append(info)\n",
    "\n",
    "print(len(untreated_liste_2)) #189"
   ]
  },
  {
   "cell_type": "code",
   "execution_count": 4,
   "metadata": {},
   "outputs": [
    {
     "name": "stdout",
     "output_type": "stream",
     "text": "0\nSMALL ERRORS ON ELLIPSE, MASK CORRECT\nEXPORT NIFTI PT\nEXPORT NIFTI CT\nEXPORT NIFTI MASK\n1\nSMALL ERRORS ON ELLIPSE, MASK CORRECT\nEXPORT NIFTI PT\nEXPORT NIFTI CT\nEXPORT NIFTI MASK\n2\nSMALL ERRORS ON ELLIPSE, MASK CORRECT\nEXPORT NIFTI PT\nEXPORT NIFTI CT\nEXPORT NIFTI MASK\n3\nSMALL ERRORS ON ELLIPSE, MASK CORRECT\nEXPORT NIFTI PT\nEXPORT NIFTI CT\nEXPORT NIFTI MASK\n4\nPROBLEME SUV MAX POLYGON\n5\nSMALL ERRORS ON ELLIPSE, MASK CORRECT\nEXPORT NIFTI PT\nEXPORT NIFTI CT\nEXPORT NIFTI MASK\n6\nSMALL ERRORS ON ELLIPSE, MASK CORRECT\nEXPORT NIFTI PT\nEXPORT NIFTI CT\nEXPORT NIFTI MASK\n7\nSMALL ERRORS ON ELLIPSE, MASK CORRECT\nEXPORT NIFTI PT\nEXPORT NIFTI CT\nEXPORT NIFTI MASK\n8\nSMALL ERRORS ON ELLIPSE, MASK CORRECT\nEXPORT NIFTI PT\nEXPORT NIFTI CT\nEXPORT NIFTI MASK\n9\nSMALL ERRORS ON ELLIPSE, MASK CORRECT\nEXPORT NIFTI PT\nEXPORT NIFTI CT\nEXPORT NIFTI MASK\n10\nSMALL ERRORS ON ELLIPSE, MASK CORRECT\nEXPORT NIFTI PT\nEXPORT NIFTI CT\nEXPORT NIFTI MASK\n11\nSMALL ERRORS ON ELLIPSE, MASK CORRECT\nEXPORT NIFTI PT\nEXPORT NIFTI CT\nEXPORT NIFTI MASK\n12\nSMALL ERRORS ON ELLIPSE, MASK CORRECT\nEXPORT NIFTI PT\nEXPORT NIFTI CT\nEXPORT NIFTI MASK\n13\nPROBLEME SUV MAX POLYGON\n14\nPROBLEME SUV MAX POLYGON\n15\nPROBLEME SUV MAX POLYGON\n16\nPROBLEME SUV MAX POLYGON\n17\nPROBLEME SUV MAX POLYGON\n18\nSMALL ERRORS ON ELLIPSE, MASK CORRECT\nEXPORT NIFTI PT\nEXPORT NIFTI CT\nEXPORT NIFTI MASK\n19\nSMALL ERRORS ON ELLIPSE, MASK CORRECT\nEXPORT NIFTI PT\nEXPORT NIFTI CT\nEXPORT NIFTI MASK\n20\nSMALL ERRORS ON ELLIPSE, MASK CORRECT\nEXPORT NIFTI PT\nEXPORT NIFTI CT\nEXPORT NIFTI MASK\n21\nSMALL ERRORS ON ELLIPSE, MASK CORRECT\nEXPORT NIFTI PT\nEXPORT NIFTI CT\nEXPORT NIFTI MASK\n22\nPROBLEME SUV MAX POLYGON\n23\nSMALL ERRORS ON ELLIPSE, MASK CORRECT\nEXPORT NIFTI PT\nEXPORT NIFTI CT\nEXPORT NIFTI MASK\n24\nPROBLEME SUV MAX POLYGON\n25\nPROBLEME SUV MAX POLYGON\n26\nPROBLEME SUV MAX POLYGON\n27\nPROBLEME SUV MAX POLYGON\n28\nPROBLEME SUV MAX POLYGON\n29\nSMALL ERRORS ON ELLIPSE, MASK CORRECT\nEXPORT NIFTI PT\nEXPORT NIFTI CT\nEXPORT NIFTI MASK\n30\nSMALL ERRORS ON ELLIPSE, MASK CORRECT\nEXPORT NIFTI PT\nEXPORT NIFTI CT\nEXPORT NIFTI MASK\n31\nSMALL ERRORS ON ELLIPSE, MASK CORRECT\nEXPORT NIFTI PT\nEXPORT NIFTI CT\nEXPORT NIFTI MASK\n32\nSMALL ERRORS ON ELLIPSE, MASK CORRECT\nEXPORT NIFTI PT\nEXPORT NIFTI CT\nEXPORT NIFTI MASK\n33\nPROBLEME SUV MAX POLYGON\n34\nPROBLEME SUV MAX POLYGON\n35\nSMALL ERRORS ON ELLIPSE, MASK CORRECT\nEXPORT NIFTI PT\nEXPORT NIFTI CT\nEXPORT NIFTI MASK\n36\nSMALL ERRORS ON ELLIPSE, MASK CORRECT\nEXPORT NIFTI PT\nEXPORT NIFTI CT\nEXPORT NIFTI MASK\n37\nSMALL ERRORS ON ELLIPSE, MASK CORRECT\nEXPORT NIFTI PT\nEXPORT NIFTI CT\nEXPORT NIFTI MASK\n38\nPROBLEME SUV MAX POLYGON\n39\nPROBLEME SUV MAX POLYGON\n40\nPROBLEME SUV MAX POLYGON\n41\nPROBLEME SUV MAX POLYGON\n42\nPROBLEME SUV MAX POLYGON\n43\nPROBLEME SUV MAX POLYGON\n44\nPROBLEME SUV MAX POLYGON\n45\nSMALL ERRORS ON ELLIPSE, MASK CORRECT\nEXPORT NIFTI PT\nEXPORT NIFTI CT\nEXPORT NIFTI MASK\n46\nSMALL ERRORS ON ELLIPSE, MASK CORRECT\nEXPORT NIFTI PT\nEXPORT NIFTI CT\nEXPORT NIFTI MASK\n47\nSMALL ERRORS ON ELLIPSE, MASK CORRECT\nEXPORT NIFTI PT\nEXPORT NIFTI CT\nEXPORT NIFTI MASK\n48\nPROBLEME SUV MAX POLYGON\n49\nPROBLEME SUV MAX POLYGON\n50\nPROBLEME SUV MAX POLYGON\n51\nSMALL ERRORS ON ELLIPSE, MASK CORRECT\nEXPORT NIFTI PT\nEXPORT NIFTI CT\nEXPORT NIFTI MASK\n52\nSMALL ERRORS ON ELLIPSE, MASK CORRECT\nEXPORT NIFTI PT\nEXPORT NIFTI CT\nEXPORT NIFTI MASK\n53\nPROBLEME SUV MAX POLYGON\n54\nSMALL ERRORS ON ELLIPSE, MASK CORRECT\nEXPORT NIFTI PT\nEXPORT NIFTI CT\nEXPORT NIFTI MASK\n55\nPROBLEME SUV MAX POLYGON\n56\nPROBLEME SUV MAX POLYGON\n57\nSMALL ERRORS ON ELLIPSE, MASK CORRECT\nEXPORT NIFTI PT\nEXPORT NIFTI CT\nEXPORT NIFTI MASK\n58\nSMALL ERRORS ON ELLIPSE, MASK CORRECT\nEXPORT NIFTI PT\nEXPORT NIFTI CT\nEXPORT NIFTI MASK\n59\nSMALL ERRORS ON ELLIPSE, MASK CORRECT\nEXPORT NIFTI PT\nEXPORT NIFTI CT\nEXPORT NIFTI MASK\n60\nSMALL ERRORS ON ELLIPSE, MASK CORRECT\nEXPORT NIFTI PT\nEXPORT NIFTI CT\nEXPORT NIFTI MASK\n61\nPROBLEME SUV MAX POLYGON\n62\nPROBLEME SUV MAX POLYGON\n63\nPROBLEME SUV MAX POLYGON\n64\nSMALL ERRORS ON ELLIPSE, MASK CORRECT\nEXPORT NIFTI PT\nEXPORT NIFTI CT\nEXPORT NIFTI MASK\n65\nSMALL ERRORS ON ELLIPSE, MASK CORRECT\nEXPORT NIFTI PT\nEXPORT NIFTI CT\nEXPORT NIFTI MASK\n66\nPROBLEME SUV MAX POLYGON\n67\nSMALL ERRORS ON ELLIPSE, MASK CORRECT\nEXPORT NIFTI PT\nEXPORT NIFTI CT\nEXPORT NIFTI MASK\n68\nSMALL ERRORS ON ELLIPSE, MASK CORRECT\nEXPORT NIFTI PT\nEXPORT NIFTI CT\nEXPORT NIFTI MASK\n69\nSMALL ERRORS ON ELLIPSE, MASK CORRECT\nEXPORT NIFTI PT\nEXPORT NIFTI CT\nEXPORT NIFTI MASK\n70\nSMALL ERRORS ON ELLIPSE, MASK CORRECT\nEXPORT NIFTI PT\nEXPORT NIFTI CT\nEXPORT NIFTI MASK\n71\nPROBLEME SUV MAX POLYGON\n72\nSMALL ERRORS ON ELLIPSE, MASK CORRECT\nEXPORT NIFTI PT\nEXPORT NIFTI CT\nEXPORT NIFTI MASK\n73\nSMALL ERRORS ON ELLIPSE, MASK CORRECT\nEXPORT NIFTI PT\nEXPORT NIFTI CT\nEXPORT NIFTI MASK\n74\nPROBLEME SUV MAX POLYGON\n75\nPROBLEME SUV MAX POLYGON\n76\nPROBLEME SUV MAX POLYGON\n77\nPROBLEME SUV MAX POLYGON\n78\nPROBLEME SUV MAX POLYGON\n79\nPROBLEME SUV MAX POLYGON\n80\nPROBLEME SUV MAX POLYGON\n81\nPROBLEME SUV MAX POLYGON\n82\nPROBLEME SUV MAX POLYGON\n83\nPROBLEME SUV MAX POLYGON\n84\nPROBLEME SUV MAX POLYGON\n85\nPROBLEME SUV MAX POLYGON\n86\nPROBLEME SUV MAX POLYGON\n87\nPROBLEME SUV MAX POLYGON\n88\nSMALL ERRORS ON ELLIPSE, MASK CORRECT\nEXPORT NIFTI PT\nEXPORT NIFTI CT\nEXPORT NIFTI MASK\n89\nPROBLEME SUV MAX POLYGON\n90\nPROBLEME SUV MAX POLYGON\n91\nPROBLEME SUV MAX POLYGON\n92\nPROBLEME SUV MAX POLYGON\n93\nPROBLEME SUV MAX POLYGON\n94\nPROBLEME SUV MAX POLYGON\n95\nSMALL ERRORS ON ELLIPSE, MASK CORRECT\nEXPORT NIFTI PT\nEXPORT NIFTI CT\nEXPORT NIFTI MASK\n96\nSMALL ERRORS ON ELLIPSE, MASK CORRECT\nEXPORT NIFTI PT\nEXPORT NIFTI CT\nEXPORT NIFTI MASK\n97\nSMALL ERRORS ON ELLIPSE, MASK CORRECT\nEXPORT NIFTI PT\nEXPORT NIFTI CT\nEXPORT NIFTI MASK\n98\nSMALL ERRORS ON ELLIPSE, MASK CORRECT\nEXPORT NIFTI PT\nEXPORT NIFTI CT\nEXPORT NIFTI MASK\n99\nSMALL ERRORS ON ELLIPSE, MASK CORRECT\nEXPORT NIFTI PT\nEXPORT NIFTI CT\nEXPORT NIFTI MASK\n100\nPROBLEME SUV MAX POLYGON\n101\nPROBLEME SUV MEAN ET SD POLYGONE\necart mean [16, 'POLYGON', 0.25]\necart sd [3, 'POLYGON', 0.16999999999999993, 16, 'POLYGON', 0.15999999999999998]\n102\nSMALL ERRORS ON ELLIPSE, MASK CORRECT\nEXPORT NIFTI PT\nEXPORT NIFTI CT\nEXPORT NIFTI MASK\n103\nSMALL ERRORS ON ELLIPSE, MASK CORRECT\nEXPORT NIFTI PT\nEXPORT NIFTI CT\nEXPORT NIFTI MASK\n104\nSMALL ERRORS ON ELLIPSE, MASK CORRECT\nEXPORT NIFTI PT\nEXPORT NIFTI CT\nEXPORT NIFTI MASK\n105\nSMALL ERRORS ON ELLIPSE, MASK CORRECT\nEXPORT NIFTI PT\nEXPORT NIFTI CT\nEXPORT NIFTI MASK\n106\nSMALL ERRORS ON ELLIPSE, MASK CORRECT\nEXPORT NIFTI PT\nEXPORT NIFTI CT\nEXPORT NIFTI MASK\n107\nPROBLEME SUV MAX POLYGON\n108\nPROBLEME SUV MAX POLYGON\n109\nPROBLEME SUV MAX POLYGON\n110\nSMALL ERRORS ON ELLIPSE, MASK CORRECT\nEXPORT NIFTI PT\nEXPORT NIFTI CT\nEXPORT NIFTI MASK\n111\nSMALL ERRORS ON ELLIPSE, MASK CORRECT\nEXPORT NIFTI PT\nEXPORT NIFTI CT\nEXPORT NIFTI MASK\n112\nSMALL ERRORS ON ELLIPSE, MASK CORRECT\nEXPORT NIFTI PT\nEXPORT NIFTI CT\nEXPORT NIFTI MASK\n113\nSMALL ERRORS ON ELLIPSE, MASK CORRECT\nEXPORT NIFTI PT\nEXPORT NIFTI CT\nEXPORT NIFTI MASK\n114\nSMALL ERRORS ON ELLIPSE, MASK CORRECT\nEXPORT NIFTI PT\nEXPORT NIFTI CT\nEXPORT NIFTI MASK\n115\nPROBLEME SUV MAX POLYGON\n116\nSMALL ERRORS ON ELLIPSE, MASK CORRECT\nEXPORT NIFTI PT\nEXPORT NIFTI CT\nEXPORT NIFTI MASK\n117\nSMALL ERRORS ON ELLIPSE, MASK CORRECT\nEXPORT NIFTI PT\nEXPORT NIFTI CT\nEXPORT NIFTI MASK\n118\nSMALL ERRORS ON ELLIPSE, MASK CORRECT\nEXPORT NIFTI PT\nEXPORT NIFTI CT\nEXPORT NIFTI MASK\n119\nSMALL ERRORS ON ELLIPSE, MASK CORRECT\nEXPORT NIFTI PT\nEXPORT NIFTI CT\nEXPORT NIFTI MASK\n120\nSMALL ERRORS ON ELLIPSE, MASK CORRECT\nEXPORT NIFTI PT\nEXPORT NIFTI CT\nEXPORT NIFTI MASK\n121\nPROBLEME SUV MAX POLYGON\n122\nSMALL ERRORS ON ELLIPSE, MASK CORRECT\nEXPORT NIFTI PT\nEXPORT NIFTI CT\nEXPORT NIFTI MASK\n123\nPROBLEME SUV MAX POLYGON\n124\nSMALL ERRORS ON ELLIPSE, MASK CORRECT\nEXPORT NIFTI PT\nEXPORT NIFTI CT\nEXPORT NIFTI MASK\n125\nSMALL ERRORS ON ELLIPSE, MASK CORRECT\nEXPORT NIFTI PT\nEXPORT NIFTI CT\nEXPORT NIFTI MASK\n126\nPROBLEME SUV MAX POLYGON\n127\nPROBLEME SUV MAX POLYGON\n128\nSMALL ERRORS ON ELLIPSE, MASK CORRECT\nEXPORT NIFTI PT\nEXPORT NIFTI CT\nEXPORT NIFTI MASK\n129\nSMALL ERRORS ON ELLIPSE, MASK CORRECT\nEXPORT NIFTI PT\nEXPORT NIFTI CT\nEXPORT NIFTI MASK\n130\nSMALL ERRORS ON ELLIPSE, MASK CORRECT\nEXPORT NIFTI PT\nEXPORT NIFTI CT\nEXPORT NIFTI MASK\n131\nPROBLEME SUV MAX POLYGON\n132\nPROBLEME SUV MAX POLYGON\n133\nPROBLEME SUV MAX POLYGON\n134\nPROBLEME SUV MAX POLYGON\n135\nPROBLEME SUV MAX POLYGON\n136\nPROBLEME SUV MAX POLYGON\n137\nPROBLEME SUV MEAN ET SD POLYGONE\necart mean [22, 'POLYGON', 0.2400000000000002]\necart sd [22, 'POLYGON', 0.1299999999999999]\n138\nSMALL ERRORS ON ELLIPSE, MASK CORRECT\nEXPORT NIFTI PT\nEXPORT NIFTI CT\nEXPORT NIFTI MASK\n139\nSMALL ERRORS ON ELLIPSE, MASK CORRECT\nEXPORT NIFTI PT\nEXPORT NIFTI CT\nEXPORT NIFTI MASK\n140\nPROBLEME SUV MAX POLYGON\n141\nPROBLEME SUV MAX POLYGON\n142\nSMALL ERRORS ON ELLIPSE, MASK CORRECT\nEXPORT NIFTI PT\nEXPORT NIFTI CT\nEXPORT NIFTI MASK\n143\nSMALL ERRORS ON ELLIPSE, MASK CORRECT\nEXPORT NIFTI PT\nEXPORT NIFTI CT\nEXPORT NIFTI MASK\n144\nSMALL ERRORS ON ELLIPSE, MASK CORRECT\nEXPORT NIFTI PT\nEXPORT NIFTI CT\nEXPORT NIFTI MASK\n145\nPROBLEME SUV MAX POLYGON\n146\nSMALL ERRORS ON ELLIPSE, MASK CORRECT\nEXPORT NIFTI PT\nEXPORT NIFTI CT\nEXPORT NIFTI MASK\n147\nSMALL ERRORS ON ELLIPSE, MASK CORRECT\nEXPORT NIFTI PT\nEXPORT NIFTI CT\nEXPORT NIFTI MASK\n148\nSMALL ERRORS ON ELLIPSE, MASK CORRECT\nEXPORT NIFTI PT\nEXPORT NIFTI CT\nEXPORT NIFTI MASK\n149\nSMALL ERRORS ON ELLIPSE, MASK CORRECT\nEXPORT NIFTI PT\nEXPORT NIFTI CT\nEXPORT NIFTI MASK\n150\nSMALL ERRORS ON ELLIPSE, MASK CORRECT\nEXPORT NIFTI PT\nEXPORT NIFTI CT\nEXPORT NIFTI MASK\n151\nPROBLEME SUV MAX POLYGON\n152\nSMALL ERRORS ON ELLIPSE, MASK CORRECT\nEXPORT NIFTI PT\nEXPORT NIFTI CT\nEXPORT NIFTI MASK\n153\nSMALL ERRORS ON ELLIPSE, MASK CORRECT\nEXPORT NIFTI PT\nEXPORT NIFTI CT\nEXPORT NIFTI MASK\n154\nSMALL ERRORS ON ELLIPSE, MASK CORRECT\nEXPORT NIFTI PT\nEXPORT NIFTI CT\nEXPORT NIFTI MASK\n155\nSMALL ERRORS ON ELLIPSE, MASK CORRECT\nEXPORT NIFTI PT\nEXPORT NIFTI CT\nEXPORT NIFTI MASK\n156\nSMALL ERRORS ON ELLIPSE, MASK CORRECT\nEXPORT NIFTI PT\nEXPORT NIFTI CT\nEXPORT NIFTI MASK\n157\nSMALL ERRORS ON ELLIPSE, MASK CORRECT\nEXPORT NIFTI PT\nEXPORT NIFTI CT\nEXPORT NIFTI MASK\n158\nSMALL ERRORS ON ELLIPSE, MASK CORRECT\nEXPORT NIFTI PT\nEXPORT NIFTI CT\nEXPORT NIFTI MASK\n159\nPROBLEME SUV MEAN ET SD POLYGONE\necart mean [4, 'ELLIPSE', 0.10000000000000053, 9, 'POLYGON', 0.46999999999999886]\necart sd [9, 'POLYGON', 0.18000000000000016]\n160\nSMALL ERRORS ON ELLIPSE, MASK CORRECT\nEXPORT NIFTI PT\nEXPORT NIFTI CT\nEXPORT NIFTI MASK\n161\nPROBLEME SUV MAX POLYGON\n162\nPROBLEME SUV MAX POLYGON\n163\nPROBLEME SUV MAX POLYGON\n164\nPROBLEME SUV MAX POLYGON\n165\nPROBLEME SUV MAX POLYGON\n166\nSMALL ERRORS ON ELLIPSE, MASK CORRECT\nEXPORT NIFTI PT\nEXPORT NIFTI CT\nEXPORT NIFTI MASK\n167\nSMALL ERRORS ON ELLIPSE, MASK CORRECT\nEXPORT NIFTI PT\nEXPORT NIFTI CT\nEXPORT NIFTI MASK\n168\nSMALL ERRORS ON ELLIPSE, MASK CORRECT\nEXPORT NIFTI PT\nEXPORT NIFTI CT\nEXPORT NIFTI MASK\n169\nSMALL ERRORS ON ELLIPSE, MASK CORRECT\nEXPORT NIFTI PT\nEXPORT NIFTI CT\nEXPORT NIFTI MASK\n170\nPROBLEME SUV MAX POLYGON\n171\nPROBLEME SUV MAX POLYGON\n172\nSMALL ERRORS ON ELLIPSE, MASK CORRECT\nEXPORT NIFTI PT\nEXPORT NIFTI CT\nEXPORT NIFTI MASK\n173\nPROBLEME SUV MAX POLYGON\n174\nPROBLEME SUV MAX POLYGON\n175\nPROBLEME SUV MAX POLYGON\n176\nPROBLEME SUV MAX POLYGON\n177\nPROBLEME SUV MAX POLYGON\n178\nPROBLEME SUV MAX POLYGON\n179\nPROBLEME SUV MAX POLYGON\n180\nPROBLEME SUV MAX POLYGON\n181\nPROBLEME SUV MAX POLYGON\n182\nPROBLEME SUV MAX POLYGON\n183\nPROBLEME SUV MAX POLYGON\n184\nSMALL ERRORS ON ELLIPSE, MASK CORRECT\nEXPORT NIFTI PT\nEXPORT NIFTI CT\nEXPORT NIFTI MASK\n185\nSMALL ERRORS ON ELLIPSE, MASK CORRECT\nEXPORT NIFTI PT\nEXPORT NIFTI CT\nEXPORT NIFTI MASK\n186\nSMALL ERRORS ON ELLIPSE, MASK CORRECT\nEXPORT NIFTI PT\nEXPORT NIFTI CT\nEXPORT NIFTI MASK\n187\nSMALL ERRORS ON ELLIPSE, MASK CORRECT\nEXPORT NIFTI PT\nEXPORT NIFTI CT\nEXPORT NIFTI MASK\n188\nSMALL ERRORS ON ELLIPSE, MASK CORRECT\nEXPORT NIFTI PT\nEXPORT NIFTI CT\nEXPORT NIFTI MASK\n"
    }
   ],
   "source": [
    "#SUR LES LISTES NON PHILIPS, ON REGARDE\n",
    "#SI ERREUR SUR SUV MAX MEAN SD SEULEMENT SUR DES ELLIPSES, SI OUI => GENERER NIFTI \n",
    "\n",
    "erreur_polygone_max = []\n",
    "erreur_polygone_mean_sd = []\n",
    "for serie in untreated_liste_2 : \n",
    "    print(untreated_liste_2.index(serie))\n",
    "    try : \n",
    "        if serie[1] == 'PT' : \n",
    "            serie_pt_objet = SeriesPT(serie[0]) \n",
    "            nifti_array = serie_pt_objet.get_numpy_array()\n",
    "            study_uid = serie_pt_objet.get_series_details()['study']['StudyInstanceUID']\n",
    "            size_matrix = serie_pt_objet.get_size_matrix()\n",
    "            mask_objet = MaskBuilder(os.path.join(csv_directory, serie[4]), size_matrix)\n",
    "            mask_4D = mask_objet.mask_array\n",
    "\n",
    "            if 'POLYGON' in mask_objet.ecart_suv_max(nifti_array) :\n",
    "                print(\"PROBLEME SUV MAX POLYGON\")\n",
    "                erreur_polygone_max.append(serie)\n",
    "            \n",
    "            else : \n",
    "\n",
    "                result_mean = mask_objet.ecart_suv_mean(nifti_array)\n",
    "                result_sd = mask_objet.ecart_SD(nifti_array)\n",
    "                if (('POLYGON' in result_mean) and ('POLYGON' in result_sd)) : \n",
    "                    print(\"PROBLEME SUV MEAN ET SD POLYGONE\")\n",
    "                    print(\"ecart mean\", result_mean)\n",
    "                    print(\"ecart sd\", result_sd)\n",
    "                    erreur_polygone_mean_sd.append(serie)\n",
    "\n",
    "                else : \n",
    "                    #si erreur sur les sd et mean QUE sur les ellipses, on tolère \n",
    "                    print(\"SMALL ERRORS ON ELLIPSE, MASK CORRECT\")\n",
    "                    #generation nifti PT\n",
    "                    filename_pt = study_uid+'_'+'nifti_'+'PT'+'.nii'\n",
    "                    serie_pt_objet.export_nifti(os.path.join(nifti_directory, filename_pt))\n",
    "                    print(\"EXPORT NIFTI PT\")\n",
    "                    #generation nifti CT\n",
    "                    serie_ct_objet = SeriesCT(serie[2])\n",
    "                    serie_ct_objet.get_numpy_array()\n",
    "                    filename_ct = study_uid+'_'+'nifti_'+'CT'+'.nii'\n",
    "                    serie_ct_objet.export_nifti(os.path.join(nifti_directory, filename_ct))\n",
    "                    print(\"EXPORT NIFTI CT\")\n",
    "                    #generation nifti mask\n",
    "                    filename_mask = study_uid+'_'+'nifti_'+'mask'+'.nii'\n",
    "                    serie_pt_objet.export_nifti(os.path.join(nifti_directory, filename_mask), mask_4D)\n",
    "                    print(\"EXPORT NIFTI MASK\")\n",
    "\n",
    "\n",
    "        else : \n",
    "            serie_pt_objet = SeriesPT(serie[2]) \n",
    "            nifti_array = serie_pt_objet.get_numpy_array()\n",
    "            study_uid = serie_pt_objet.get_series_details()['study']['StudyInstanceUID']\n",
    "            size_matrix = serie_pt_objet.get_size_matrix()\n",
    "            mask_objet = MaskBuilder(os.path.join(csv_directory, serie[4]), size_matrix)\n",
    "            mask_4D = mask_objet.mask_array\n",
    "\n",
    "            if 'POLYGON' in mask_objet.ecart_suv_max(nifti_array)  :\n",
    "                print(\"PROBLEME SUV MAX POLYGON\")\n",
    "                erreur_polygone_max.append(serie)\n",
    "            else : \n",
    "\n",
    "                result_mean = mask_objet.ecart_suv_mean(nifti_array)\n",
    "                result_sd = mask_objet.ecart_SD(nifti_array)\n",
    "                if (('POLYGON' in result_mean) and ('POLYGON' in result_sd)) : \n",
    "                    print(\"PROBLEME SUV MEAN ET SD POLYGONE\")\n",
    "                    print(\"ecart mean\", result_mean)\n",
    "                    print(\"ecart sd\", result_sd)\n",
    "                    erreur_polygone_mean_sd.append(serie)\n",
    "\n",
    "                else : \n",
    "                    #si erreur sur les sd et mean QUE sur les ellipses, on tolère \n",
    "                    print(\"SMALL ERRORS ON ELLIPSE, MASK CORRECT\")\n",
    "                    #generation nifti PT\n",
    "                    filename_pt = study_uid+'_'+'nifti_'+'PT'+'.nii'\n",
    "                    serie_pt_objet.export_nifti(os.path.join(nifti_directory, filename_pt))\n",
    "                    print(\"EXPORT NIFTI PT\")\n",
    "                    #generation nifti CT\n",
    "                    serie_ct_objet = SeriesCT(serie[0])\n",
    "                    serie_ct_objet.get_numpy_array()\n",
    "                    filename_ct = study_uid+'_'+'nifti_'+'CT'+'.nii'\n",
    "                    serie_ct_objet.export_nifti(os.path.join(nifti_directory, filename_ct))\n",
    "                    print(\"EXPORT NIFTI CT\")\n",
    "                    #generation nifti mask\n",
    "                    filename_mask = study_uid+'_'+'nifti_'+'mask'+'.nii'\n",
    "                    serie_pt_objet.export_nifti(os.path.join(nifti_directory, filename_mask), mask_4D)\n",
    "                    print(\"EXPORT NIFTI MASK\")\n",
    "\n",
    "\n",
    "    except Exception as err : \n",
    "        print(serie)\n",
    "        print(err)"
   ]
  },
  {
   "cell_type": "code",
   "execution_count": 5,
   "metadata": {},
   "outputs": [
    {
     "name": "stdout",
     "output_type": "stream",
     "text": "89\n3\n"
    }
   ],
   "source": [
    "print(len(erreur_polygone_max))\n",
    "print(len(erreur_polygone_mean_sd))"
   ]
  },
  {
   "cell_type": "code",
   "execution_count": 6,
   "metadata": {},
   "outputs": [],
   "source": [
    "#save as json the list of serie which have a mask problem \n",
    "write_json_file('/media/salim/DD 2To/AHL2011_NIFTI', 'AHL2011_serie_error_polygone_max', erreur_polygone_max)\n",
    "write_json_file('/media/salim/DD 2To/AHL2011_NIFTI', 'AHL2011_serie_error_polygone_mean_sd', erreur_polygone_mean_sd)"
   ]
  },
  {
   "cell_type": "code",
   "execution_count": null,
   "metadata": {},
   "outputs": [],
   "source": []
  },
  {
   "cell_type": "code",
   "execution_count": null,
   "metadata": {},
   "outputs": [],
   "source": []
  },
  {
   "cell_type": "code",
   "execution_count": null,
   "metadata": {},
   "outputs": [],
   "source": [
    "#CHECKER LE FLIP : AUCUNE SERIE GENERER AVEC LE FLIP "
   ]
  },
  {
   "cell_type": "code",
   "execution_count": 19,
   "metadata": {},
   "outputs": [
    {
     "name": "stdout",
     "output_type": "stream",
     "text": "0\n1\n2\n3\n4\n5\n6\n7\n8\n9\n10\n11\n12\n13\n14\n15\n16\n17\n18\n19\n20\n21\n22\n23\n24\n25\n26\n27\n28\n29\n30\n31\n32\n33\n34\n35\n36\n37\n38\n39\n40\n41\n42\n43\n44\n45\n46\n47\n48\n49\n50\n51\n52\n53\n54\n55\n56\n57\n58\n59\n60\n61\n62\n63\n64\n65\n66\n67\n68\n69\n70\n71\n72\n73\n74\n75\n76\n77\n78\n79\n80\n81\n82\n83\n84\n85\n86\n87\n88\n89\n90\n91\n92\n93\n94\n95\n96\n97\n98\n99\n100\n101\n102\n103\n104\n105\n106\n107\n108\n109\n110\n111\n112\n113\n114\n115\n116\n117\n118\n119\n120\n121\n122\n123\n124\n125\n126\n127\n128\n129\n130\n131\n132\n133\n134\n135\n136\n137\n138\n139\n140\n141\n142\n143\n144\n145\n146\n147\n148\n149\n150\n151\n152\n153\n154\n155\n156\n"
    }
   ],
   "source": [
    "#ON FLIP LE MASK ET ON REGARDE SI LES CALCLS SUV MAX MEAN SD SONT BONS\n",
    "#SI OUI => GENERE NIFTI \n",
    "\n",
    "serie_with_flip = []\n",
    "for serie in serie_error_mask: \n",
    "    print(serie_error_mask.index(serie))\n",
    "    try : \n",
    "        if serie[1] == 'PT' : \n",
    "            serie_pt_objet = SeriesPT(serie[0]) \n",
    "            nifti_array = serie_pt_objet.get_numpy_array()\n",
    "            study_uid = serie_pt_objet.get_series_details()['study']['StudyInstanceUID']\n",
    "            size_matrix = serie_pt_objet.get_size_matrix()\n",
    "            mask_objet = MaskBuilder(os.path.join(csv_directory, serie[4]), size_matrix)\n",
    "            mask_4D = mask_objet.mask_array\n",
    "            if (mask_objet.is_correct_suv(nifti_array, flip = True) == True) : #si mask correct APRES LE FLIP \n",
    "                print(\"MASK CORRECT APRES FLIP\")\n",
    "                #generation nifti PT\n",
    "                filename_pt = study_uid+'_'+'nifti_'+'PT'+'.nii'\n",
    "                serie_pt_objet.export_nifti(os.path.join(nifti_directory, filename_pt))\n",
    "                print(\"EXPORT NIFTI PT\")\n",
    "                #generation nifti CT\n",
    "                serie_ct_objet = SeriesCT(serie[2])\n",
    "                serie_ct_objet.get_numpy_array()\n",
    "                filename_ct = study_uid+'_'+'nifti_'+'CT'+'.nii'\n",
    "                serie_ct_objet.export_nifti(os.path.join(nifti_directory, filename_ct))\n",
    "                print(\"EXPORT NIFTI CT\")\n",
    "                #generation nifti mask\n",
    "                mask_objet.flip_z(mask_4D)\n",
    "                mask_4D_flip = mask_objet.mask_array\n",
    "                filename_mask = study_uid+'_'+'nifti_'+'mask'+'.nii'\n",
    "                serie_pt_objet.export_nifti(os.path.join(nifti_directory, filename_mask), mask_4D_flip)\n",
    "                print(\"EXPORT NIFTI MASK\")\n",
    "                serie_with_flip.append(serie)\n",
    "\n",
    "        else : \n",
    "            serie_pt_objet = SeriesPT(serie[2]) \n",
    "            nifti_array = serie_pt_objet.get_numpy_array()\n",
    "            study_uid = serie_pt_objet.get_series_details()['study']['StudyInstanceUID']\n",
    "            size_matrix = serie_pt_objet.get_size_matrix()\n",
    "            mask_objet = MaskBuilder(os.path.join(csv_directory, serie[4]), size_matrix)\n",
    "            mask_4D = mask_objet.mask_array\n",
    "            if (mask_objet.is_correct_suv(nifti_array, flip = True) == True) : #si mask correct APRES LE FLIP \n",
    "                print(\"MASK CORRECT APRES FLIP\")\n",
    "                #generation nifti PT\n",
    "                filename_pt = study_uid+'_'+'nifti_'+'PT'+'.nii'\n",
    "                serie_pt_objet.export_nifti(os.path.join(nifti_directory, filename_pt))\n",
    "                print(\"EXPORT NIFTI PT\")\n",
    "                #generation nifti CT\n",
    "                serie_ct_objet = SeriesCT(serie[0])\n",
    "                serie_ct_objet.get_numpy_array()\n",
    "                filename_ct = study_uid+'_'+'nifti_'+'CT'+'.nii'\n",
    "                serie_ct_objet.export_nifti(os.path.join(nifti_directory, filename_ct))\n",
    "                print(\"EXPORT NIFTI CT\")\n",
    "                #generation nifti mask\n",
    "                mask_objet.flip_z(mask_4D)\n",
    "                mask_4D_flip = mask_objet.mask_array\n",
    "                filename_mask = study_uid+'_'+'nifti_'+'mask'+'.nii'\n",
    "                serie_pt_objet.export_nifti(os.path.join(nifti_directory, filename_mask), mask_4D_flip)\n",
    "                print(\"EXPORT NIFTI MASK\")\n",
    "                serie_with_flip.append(serie)\n",
    "\n",
    "\n",
    "\n",
    "    except Exception as err : \n",
    "        print(serie)\n",
    "        print(err)"
   ]
  },
  {
   "cell_type": "code",
   "execution_count": 20,
   "metadata": {},
   "outputs": [],
   "source": [
    "#APRES FLIP, REGARDER SI SMALL ERRORS SUR ELLIPSE\n",
    "#SI PAS DE PROBLEMES SUR LES POLYGONES ON PEUT GENERER LE NIFTI "
   ]
  },
  {
   "cell_type": "code",
   "execution_count": 4,
   "metadata": {},
   "outputs": [
    {
     "name": "stdout",
     "output_type": "stream",
     "text": "0\nPROBLEME SUV MAX\n1\nPROBLEME SUV MAX\n2\nPROBLEME SUV MAX\n3\nPROBLEME SUV MAX\n4\nPROBLEME SUV MAX\n5\nPROBLEME SUV MAX\n6\nPROBLEME SUV MAX\n7\nPROBLEME SUV MAX\n8\nPROBLEME SUV MAX\n9\nPROBLEME SUV MAX\n10\nPROBLEME SUV MAX\n11\nPROBLEME SUV MAX\n12\nPROBLEME SUV MAX\n13\nPROBLEME SUV MAX\n14\nPROBLEME SUV MAX\n15\nPROBLEME SUV MAX\n16\nPROBLEME SUV MAX\n17\nPROBLEME SUV MAX\n18\nPROBLEME SUV MAX\n19\nPROBLEME SUV MAX\n20\nPROBLEME SUV MAX\n21\nPROBLEME SUV MAX\n22\nPROBLEME SUV MAX\n23\nPROBLEME SUV MAX\n24\nPROBLEME SUV MAX\n25\nPROBLEME SUV MAX\n26\nPROBLEME SUV MAX\n27\nPROBLEME SUV MAX\n28\nPROBLEME SUV MAX\n29\nPROBLEME SUV MAX\n30\nPROBLEME SUV MAX\n31\nPROBLEME SUV MAX\n32\nPROBLEME SUV MAX\n33\nPROBLEME SUV MAX\n34\nPROBLEME SUV MAX\n35\nPROBLEME SUV MAX\n36\nPROBLEME SUV MAX\n37\nPROBLEME SUV MAX\n38\nPROBLEME SUV MAX\n39\nPROBLEME SUV MAX\n40\nPROBLEME SUV MAX\n41\nPROBLEME SUV MAX\n42\nPROBLEME SUV MAX\n43\nPROBLEME SUV MAX\n44\nPROBLEME SUV MAX\n45\nPROBLEME SUV MAX\n46\nPROBLEME SUV MAX\n47\nPROBLEME SUV MAX\n48\nPROBLEME SUV MAX\n49\nPROBLEME SUV MAX\n50\nPROBLEME SUV MAX\n51\nPROBLEME SUV MAX\n52\nPROBLEME SUV MAX\n53\nPROBLEME SUV MAX\n54\nPROBLEME SUV MAX\n55\nPROBLEME SUV MAX\n56\nPROBLEME SUV MAX\n57\nPROBLEME SUV MAX\n58\nPROBLEME SUV MAX\n59\nPROBLEME SUV MAX\n60\nPROBLEME SUV MAX\n61\nPROBLEME SUV MAX\n62\nPROBLEME SUV MAX\n63\nPROBLEME SUV MAX\n64\nPROBLEME SUV MAX\n65\nPROBLEME SUV MAX\n66\nPROBLEME SUV MAX\n67\nPROBLEME SUV MAX\n68\nPROBLEME SUV MAX\n69\nPROBLEME SUV MAX\n70\nPROBLEME SUV MAX\n71\nPROBLEME SUV MAX\n72\nPROBLEME SUV MAX\n73\nPROBLEME SUV MAX\n74\nPROBLEME SUV MAX\n75\nPROBLEME SUV MAX\n76\nPROBLEME SUV MAX\n77\nPROBLEME SUV MAX\n78\nPROBLEME SUV MAX\n79\nPROBLEME SUV MAX\n80\nPROBLEME SUV MAX\n81\nPROBLEME SUV MAX\n82\nPROBLEME SUV MAX\n83\nPROBLEME SUV MAX\n84\nPROBLEME SUV MAX\n85\nPROBLEME SUV MAX\n86\nPROBLEME SUV MAX\n87\nPROBLEME SUV MAX\n88\nPROBLEME SUV MAX\n89\nPROBLEME SUV MAX\n90\nPROBLEME SUV MAX\n91\nPROBLEME SUV MAX\n92\nPROBLEME SUV MAX\n93\nPROBLEME SUV MAX\n94\nPROBLEME SUV MAX\n95\nPROBLEME SUV MAX\n96\nPROBLEME SUV MAX\n97\nPROBLEME SUV MAX\n98\nPROBLEME SUV MAX\n99\nPROBLEME SUV MAX\n100\nPROBLEME SUV MAX\n101\nPROBLEME SUV MAX\n102\nPROBLEME SUV MAX\n103\nPROBLEME SUV MAX\n104\nPROBLEME SUV MAX\n105\nPROBLEME SUV MAX\n106\nPROBLEME SUV MAX\n107\nPROBLEME SUV MAX\n108\nPROBLEME SUV MAX\n109\nPROBLEME SUV MAX\n110\nPROBLEME SUV MAX\n111\nPROBLEME SUV MAX\n112\nPROBLEME SUV MAX\n113\nPROBLEME SUV MAX\n114\nPROBLEME SUV MAX\n115\nPROBLEME SUV MAX\n116\nPROBLEME SUV MAX\n117\nPROBLEME SUV MAX\n118\nPROBLEME SUV MAX\n119\nPROBLEME SUV MAX\n120\nPROBLEME SUV MAX\n121\nPROBLEME SUV MAX\n122\nPROBLEME SUV MAX\n123\nPROBLEME SUV MAX\n124\nPROBLEME SUV MAX\n125\nPROBLEME SUV MAX\n126\nPROBLEME SUV MAX\n127\nPROBLEME SUV MAX\n128\nPROBLEME SUV MAX\n129\nPROBLEME SUV MAX\n130\nPROBLEME SUV MAX\n131\nPROBLEME SUV MAX\n132\nPROBLEME SUV MAX\n133\nPROBLEME SUV MAX\n134\nPROBLEME SUV MAX\n135\nPROBLEME SUV MAX\n136\nPROBLEME SUV MAX\n137\nPROBLEME SUV MAX\n138\nPROBLEME SUV MAX\n139\nPROBLEME SUV MAX\n140\nPROBLEME SUV MAX\n141\nPROBLEME SUV MAX\n142\nPROBLEME SUV MAX\n143\nPROBLEME SUV MAX\n144\nPROBLEME SUV MAX\n145\nPROBLEME SUV MAX\n146\nPROBLEME SUV MAX\n147\nPROBLEME SUV MAX\n148\nPROBLEME SUV MAX\n149\nPROBLEME SUV MAX\n150\nPROBLEME SUV MAX\n151\nPROBLEME SUV MAX\n152\nPROBLEME SUV MAX\n153\nPROBLEME SUV MAX\n154\nPROBLEME SUV MAX\n155\nPROBLEME SUV MAX\n156\nPROBLEME SUV MAX\n"
    }
   ],
   "source": [
    "#MASK AVEC FLIP FAUX : \n",
    "serie_problem = []\n",
    "\n",
    "for serie in serie_error_mask: \n",
    "    print(serie_error_mask.index(serie))\n",
    "    try : \n",
    "        if serie[1] == 'PT' : \n",
    "            serie_pt_objet = SeriesPT(serie[0]) \n",
    "            nifti_array = serie_pt_objet.get_numpy_array()\n",
    "            study_uid = serie_pt_objet.get_series_details()['study']['StudyInstanceUID']\n",
    "            size_matrix = serie_pt_objet.get_size_matrix()\n",
    "            mask_objet = MaskBuilder(os.path.join(csv_directory, serie[4]), size_matrix)\n",
    "            mask_4D = mask_objet.mask_array\n",
    "            if 'POLYGON' in mask_objet.ecart_suv_max(nifti_array, flip = True) :\n",
    "                print(\"PROBLEME SUV MAX POLYGON\")\n",
    "                serie_problem.append(serie)\n",
    "            else : \n",
    "                result_mean = mask_objet.ecart_suv_mean(nifti_array, flip = True)\n",
    "                result_sd = mask_objet.ecart_SD(nifti_array, flip = True)\n",
    "                if (('POLYGON' not in result_mean) and ('POLYGON' not in result_sd)) : \n",
    "                    #si erreur sur les sd et mean QUE sur les ellipses, on tolère \n",
    "                    print(\"SMALL ERRORS ON ELLIPSE AFTER FLIP, MASK CORRECT\")\n",
    "                    #generation nifti PT\n",
    "                    filename_pt = study_uid+'_'+'nifti_'+'PT'+'.nii'\n",
    "                    serie_pt_objet.export_nifti(os.path.join(nifti_directory, filename_pt))\n",
    "                    print(\"EXPORT NIFTI PT\")\n",
    "                    #generation nifti CT\n",
    "                    serie_ct_objet = SeriesCT(serie[2])\n",
    "                    serie_ct_objet.get_numpy_array()\n",
    "                    filename_ct = study_uid+'_'+'nifti_'+'CT'+'.nii'\n",
    "                    serie_ct_objet.export_nifti(os.path.join(nifti_directory, filename_ct))\n",
    "                    print(\"EXPORT NIFTI CT\")\n",
    "                    #generation nifti mask\n",
    "                    mask_objet.flip_z(mask_4D)\n",
    "                    mask_4D_flip = mask_objet.mask_array\n",
    "                    filename_mask = study_uid+'_'+'nifti_'+'mask'+'.nii'\n",
    "                    serie_pt_objet.export_nifti(os.path.join(nifti_directory, filename_mask), mask_4D_flip)\n",
    "                    print(\"EXPORT NIFTI MASK\")\n",
    "                else : #sinon problème sur lles polygones\n",
    "                    serie_problem.append(serie)\n",
    "\n",
    "\n",
    "\n",
    "\n",
    "\n",
    "        else : \n",
    "            serie_pt_objet = SeriesPT(serie[2]) \n",
    "            nifti_array = serie_pt_objet.get_numpy_array()\n",
    "            study_uid = serie_pt_objet.get_series_details()['study']['StudyInstanceUID']\n",
    "            size_matrix = serie_pt_objet.get_size_matrix()\n",
    "            mask_objet = MaskBuilder(os.path.join(csv_directory, serie[4]), size_matrix)\n",
    "            mask_4D = mask_objet.mask_array\n",
    "            if 'POLYGON' in mask_objet.ecart_suv_max(nifti_array, flip = True) :\n",
    "                print(\"PROBLEME SUV MAX POLYGONE\")\n",
    "                serie_problem.append(serie)\n",
    "            else : \n",
    "                result_mean = mask_objet.ecart_suv_mean(nifti_array, flip = True)\n",
    "                result_sd = mask_objet.ecart_SD(nifti_array, flip = True)\n",
    "                if (('POLYGON' not in result_mean) and ('POLYGON' not in result_sd)) : \n",
    "                    #si erreur sur les sd et mean QUE sur les ellipses, on tolère \n",
    "                    print(\"SMALL ERRORS ON ELLIPSE AFTER FLIP, MASK CORRECT\")\n",
    "                    #generation nifti PT\n",
    "                    filename_pt = study_uid+'_'+'nifti_'+'PT'+'.nii'\n",
    "                    serie_pt_objet.export_nifti(os.path.join(nifti_directory, filename_pt))\n",
    "                    print(\"EXPORT NIFTI PT\")\n",
    "                    #generation nifti CT\n",
    "                    serie_ct_objet = SeriesCT(serie[0])\n",
    "                    serie_ct_objet.get_numpy_array()\n",
    "                    filename_ct = study_uid+'_'+'nifti_'+'CT'+'.nii'\n",
    "                    serie_ct_objet.export_nifti(os.path.join(nifti_directory, filename_ct))\n",
    "                    print(\"EXPORT NIFTI CT\")\n",
    "                    #generation nifti mask\n",
    "                    mask_objet.flip_z(mask_4D)\n",
    "                    mask_4D_flip = mask_objet.mask_array\n",
    "                    filename_mask = study_uid+'_'+'nifti_'+'mask'+'.nii'\n",
    "                    serie_pt_objet.export_nifti(os.path.join(nifti_directory, filename_mask), mask_4D_flip)\n",
    "                    print(\"EXPORT NIFTI MASK\")\n",
    "                else : #sinon problème sur les polygones\n",
    "                    serie_problem.append(serie)\n",
    "            \n",
    "\n",
    "    except Exception as err : \n",
    "        print(serie)\n",
    "        print(err)"
   ]
  },
  {
   "cell_type": "code",
   "execution_count": null,
   "metadata": {},
   "outputs": [],
   "source": [
    "#GENERER MIP DES MASK FAUX"
   ]
  },
  {
   "cell_type": "code",
   "execution_count": 4,
   "metadata": {},
   "outputs": [
    {
     "name": "stdout",
     "output_type": "stream",
     "text": "95\n"
    }
   ],
   "source": [
    "#SERIE WITH ERROR SUV MAX POLYGONE\n",
    "json_path = '/media/salim/DD 2To/AHL2011_MIP/AHL2011_false_mask.json'\n",
    "false_mask = []\n",
    "with open(json_path) as json_file : \n",
    "    reader = json.load(json_file)\n",
    "    for info in reader :\n",
    "        false_mask.append(info)\n",
    "\n",
    "print(len(false_mask))"
   ]
  },
  {
   "cell_type": "code",
   "execution_count": 7,
   "metadata": {},
   "outputs": [
    {
     "name": "stdout",
     "output_type": "stream",
     "text": "0\ntaille mask :  (128, 128, 313, 10)\n1\ntaille mask :  (128, 128, 275, 16)\n2\ntaille mask :  (128, 128, 275, 5)\n3\ntaille mask :  (128, 128, 275, 30)\n4\ntaille mask :  (128, 128, 275, 20)\n5\ntaille mask :  (128, 128, 287, 46)\n6\ntaille mask :  (128, 128, 287, 15)\n7\ntaille mask :  (168, 168, 405, 70)\n8\ntaille mask :  (168, 168, 479, 38)\n9\ntaille mask :  (200, 200, 481, 21)\n10\ntaille mask :  (168, 168, 390, 6)\n11\ntaille mask :  (200, 200, 481, 19)\n12\ntaille mask :  (200, 200, 481, 5)\n13\ntaille mask :  (192, 192, 299, 12)\n14\ntaille mask :  (256, 256, 335, 13)\n15\ntaille mask :  (256, 256, 299, 13)\n16\ntaille mask :  (256, 256, 299, 27)\n17\ntaille mask :  (256, 256, 299, 8)\n18\ntaille mask :  (256, 256, 335, 16)\n19\ntaille mask :  (256, 256, 335, 10)\n20\ntaille mask :  (192, 192, 299, 8)\n21\ntaille mask :  (256, 256, 299, 20)\n22\ntaille mask :  (256, 256, 299, 18)\n23\ntaille mask :  (256, 256, 335, 13)\n24\ntaille mask :  (256, 256, 299, 24)\n25\ntaille mask :  (256, 256, 299, 11)\n26\ntaille mask :  (256, 256, 299, 7)\n27\ntaille mask :  (256, 256, 335, 18)\n28\ntaille mask :  (256, 256, 299, 23)\n29\ntaille mask :  (256, 256, 335, 18)\n30\ntaille mask :  (256, 256, 299, 19)\n31\ntaille mask :  (128, 128, 287, 22)\n32\ntaille mask :  (128, 128, 327, 3)\n33\ntaille mask :  (128, 128, 327, 22)\n34\ntaille mask :  (128, 128, 327, 17)\n35\ntaille mask :  (128, 128, 327, 9)\n36\ntaille mask :  (128, 128, 327, 12)\n37\ntaille mask :  (168, 168, 390, 39)\n38\ntaille mask :  (168, 168, 344, 27)\n39\ntaille mask :  (168, 168, 479, 3)\n40\ntaille mask :  (128, 128, 263, 13)\n41\ntaille mask :  (128, 128, 263, 16)\n42\ntaille mask :  (128, 128, 299, 12)\n43\ntaille mask :  (128, 128, 263, 19)\n44\ntaille mask :  (128, 128, 263, 13)\n45\ntaille mask :  (128, 128, 263, 28)\n46\ntaille mask :  (128, 128, 263, 28)\n47\ntaille mask :  (168, 168, 487, 60)\n48\ntaille mask :  (256, 256, 263, 30)\n49\ntaille mask :  (256, 256, 227, 16)\n50\ntaille mask :  (128, 128, 297, 23)\n51\ntaille mask :  (256, 256, 335, 11)\n52\ntaille mask :  (128, 128, 275, 7)\n53\ntaille mask :  (128, 128, 275, 8)\n54\ntaille mask :  (128, 128, 313, 15)\n55\ntaille mask :  (128, 128, 313, 23)\n56\ntaille mask :  (200, 200, 221, 21)\n57\ntaille mask :  (200, 200, 481, 8)\n58\ntaille mask :  (200, 200, 543, 10)\n59\ntaille mask :  (200, 200, 481, 6)\n60\ntaille mask :  (200, 200, 543, 5)\n61\ntaille mask :  (200, 200, 481, 6)\n62\ntaille mask :  (128, 128, 299, 18)\n63\ntaille mask :  (128, 128, 335, 19)\n64\ntaille mask :  (168, 168, 405, 118)\n65\ntaille mask :  (128, 128, 299, 30)\n66\ntaille mask :  (256, 256, 263, 13)\n67\ntaille mask :  (144, 144, 213, 19)\n68\ntaille mask :  (144, 144, 213, 19)\n69\ntaille mask :  (144, 144, 234, 1)\n70\ntaille mask :  (144, 144, 213, 40)\n71\ntaille mask :  (144, 144, 234, 15)\n72\ntaille mask :  (144, 144, 234, 12)\n73\ntaille mask :  (169, 169, 255, 18)\n74\ntaille mask :  (169, 169, 255, 42)\n75\ntaille mask :  (144, 144, 255, 14)\n76\ntaille mask :  (144, 144, 276, 8)\n77\ntaille mask :  (144, 144, 255, 11)\n78\ntaille mask :  (169, 169, 255, 4)\n79\ntaille mask :  (144, 144, 234, 26)\n80\ntaille mask :  (169, 169, 255, 23)\n81\ntaille mask :  (144, 144, 213, 15)\n82\ntaille mask :  (169, 169, 234, 4)\n83\ntaille mask :  (144, 144, 297, 15)\n84\ntaille mask :  (144, 144, 297, 26)\n85\ntaille mask :  (144, 144, 297, 37)\n86\ntaille mask :  (144, 144, 276, 10)\n87\ntaille mask :  (144, 144, 339, 39)\n88\ntaille mask :  (144, 144, 276, 9)\n89\ntaille mask :  (144, 144, 297, 118)\n90\ntaille mask :  (144, 144, 317, 4)\n91\ntaille mask :  (144, 144, 297, 22)\n92\ntaille mask :  (144, 144, 297, 17)\n93\ntaille mask :  (144, 144, 234, 29)\n94\ntaille mask :  (144, 144, 297, 7)\n"
    }
   ],
   "source": [
    "#GENERATE PDF WITH MIP ANGLE 0 OF PET AND MASK FOR EVERY SERIE\n",
    "\n",
    "from library_dicom.dicom_processor.tools.create_mip import *\n",
    "from library_dicom.dicom_processor.tools.threshold_mask import *\n",
    "mip_directory = '/media/salim/DD 2To/AHL2011_MIP'\n",
    "\n",
    "\n",
    "\n",
    "path_mip = []\n",
    "for serie in false_mask : \n",
    "    index = false_mask.index(serie)\n",
    "    print(index)\n",
    "    subliste = []\n",
    "    if serie[1] =='PT' :\n",
    "        serie_pt_objet = SeriesPT(serie[0])\n",
    "        study_uid = serie_pt_objet.get_series_details()['study']['StudyInstanceUID']\n",
    "        nifti_array = serie_pt_objet.get_numpy_array()\n",
    "        angle_filename = mip_projection(nifti_array, 0, mip_directory, study_uid, borne_max = 5.0)             #mip.png PET\n",
    "        subliste.append(angle_filename)\n",
    "\n",
    "        size_matrix = serie_pt_objet.get_size_matrix()\n",
    "        mask_objet = MaskBuilder(os.path.join(csv_directory, serie[4]), size_matrix)\n",
    "        mask_4D = mask_objet.mask_array\n",
    "        number_roi = mask_4D.shape[3]\n",
    "        threshold = mask_objet.details_rois['SUVlo']\n",
    "        #seuillage\n",
    "        mask_4D = threshold_mask(mask_4D, mask_objet.details_rois, nifti_array,  flip = False)\n",
    "        angle_filename_mask = mip_projection_4D(mask_4D, 0, mip_directory, study_uid, number_roi, borne_max = 5.0)\n",
    "        #mip.png MASK\n",
    "        subliste.append(angle_filename_mask)\n",
    "\n",
    "        path_mip.append(subliste)\n",
    "\n",
    "\n",
    "    else : \n",
    "        serie_pt_objet = SeriesPT(serie[2])\n",
    "        study_uid = serie_pt_objet.get_series_details()['study']['StudyInstanceUID']\n",
    "        nifti_array = serie_pt_objet.get_numpy_array()\n",
    "        angle_filename = mip_projection(nifti_array, 0, mip_directory, study_uid, borne_max = 5.0) \n",
    "        #mip.png PET\n",
    "        subliste.append(angle_filename)\n",
    "        size_matrix = serie_pt_objet.get_size_matrix()\n",
    "        mask_objet = MaskBuilder(os.path.join(csv_directory, serie[4]), size_matrix)\n",
    "        mask_4D = mask_objet.mask_array\n",
    "        number_roi = mask_4D.shape[3]\n",
    "        threshold = mask_objet.details_rois['SUVlo']\n",
    "        #seuillage\n",
    "        mask_4D = threshold_mask(mask_4D, mask_objet.details_rois, nifti_array, flip = False)\n",
    "        angle_filename_mask = mip_projection_4D(mask_4D, 0, mip_directory, study_uid, number_roi, borne_max = 5.0)\n",
    "        #mip.png MASK\n",
    "        subliste.append(angle_filename_mask)\n",
    "\n",
    "        path_mip.append(subliste)\n",
    "\n"
   ]
  },
  {
   "cell_type": "code",
   "execution_count": 8,
   "metadata": {},
   "outputs": [
    {
     "name": "stdout",
     "output_type": "stream",
     "text": "95\n"
    }
   ],
   "source": [
    "print(len(path_mip))\n",
    "write_json_file('/media/salim/DD 2To/AHL2011_MIP', 'AHL2011_list_mip', path_mip)"
   ]
  },
  {
   "cell_type": "code",
   "execution_count": 9,
   "metadata": {},
   "outputs": [],
   "source": [
    "#create pdf \n",
    "\n",
    "mip_directory = '/media/salim/DD 2To/AHL2011_MIP'\n",
    "filename = os.path.join(mip_directory, 'list_mip.pdf')\n",
    "create_pdf_mip(path_mip, filename)"
   ]
  },
  {
   "cell_type": "code",
   "execution_count": null,
   "metadata": {},
   "outputs": [],
   "source": [
    "#GENERER MIP MASK CORONAL "
   ]
  },
  {
   "cell_type": "code",
   "execution_count": 3,
   "metadata": {},
   "outputs": [
    {
     "name": "stdout",
     "output_type": "stream",
     "text": "15\n"
    }
   ],
   "source": [
    "json_path = '/media/salim/DD 2To/AHL2011_MIP_FLIP/AHL2011_list_coronal.json'\n",
    "list_coronal= []\n",
    "with open(json_path) as json_file : \n",
    "    reader = json.load(json_file)\n",
    "    for info in reader :\n",
    "        list_coronal.append(info)\n",
    "\n",
    "print(len(list_coronal))"
   ]
  },
  {
   "cell_type": "code",
   "execution_count": 4,
   "metadata": {},
   "outputs": [
    {
     "name": "stdout",
     "output_type": "stream",
     "text": "0\n(144, 144, 234, 21)\n(144, 144, 234, 21)\ntaille mask :  (144, 144, 234, 21)\n1\n(144, 144, 234, 30)\n(144, 144, 234, 30)\ntaille mask :  (144, 144, 234, 30)\n2\n(144, 144, 213, 13)\n(144, 144, 213, 13)\ntaille mask :  (144, 144, 213, 13)\n3\n(144, 144, 276, 15)\n(144, 144, 276, 15)\ntaille mask :  (144, 144, 276, 15)\n4\n(144, 144, 276, 31)\n(144, 144, 276, 31)\ntaille mask :  (144, 144, 276, 31)\n5\n(144, 144, 276, 15)\n(144, 144, 276, 15)\ntaille mask :  (144, 144, 276, 15)\n6\n(144, 144, 234, 11)\n(144, 144, 234, 11)\ntaille mask :  (144, 144, 234, 11)\n7\n(144, 144, 255, 5)\n(144, 144, 255, 5)\ntaille mask :  (144, 144, 255, 5)\n8\n(256, 256, 335, 25)\n(256, 256, 335, 25)\ntaille mask :  (256, 256, 335, 25)\n9\n(256, 256, 299, 11)\n(256, 256, 299, 11)\ntaille mask :  (256, 256, 299, 11)\n10\n(168, 168, 405, 32)\n(168, 168, 405, 32)\ntaille mask :  (168, 168, 405, 32)\n11\n(256, 256, 515, 12)\n(256, 256, 515, 12)\ntaille mask :  (256, 256, 515, 12)\n12\n(144, 144, 255, 4)\n(144, 144, 255, 4)\ntaille mask :  (144, 144, 255, 4)\n13\n(144, 144, 255, 12)\n(144, 144, 255, 12)\ntaille mask :  (144, 144, 255, 12)\n14\n(144, 144, 255, 15)\n(144, 144, 255, 15)\ntaille mask :  (144, 144, 255, 15)\n"
    }
   ],
   "source": [
    "# A FAIRE AUSSI LES SERIES EN CORONAL (FLIP Z) \n",
    "mip_directory = '/media/salim/DD 2To/AHL2011_MIP_FLIP'\n",
    "\n",
    "\n",
    "\n",
    "path_mip = []\n",
    "for serie in list_coronal : \n",
    "    index = list_coronal.index(serie)\n",
    "    print(index)\n",
    "    subliste = []\n",
    "    if serie[1] =='PT' :\n",
    "        serie_pt_objet = SeriesPT(serie[0])\n",
    "        study_uid = serie_pt_objet.get_series_details()['study']['StudyInstanceUID']\n",
    "        nifti_array = serie_pt_objet.get_numpy_array()\n",
    "        angle_filename = mip_projection(nifti_array, 0, mip_directory, study_uid, borne_max = 5.0)             #mip.png PET\n",
    "        subliste.append(angle_filename)\n",
    "\n",
    "        size_matrix = serie_pt_objet.get_size_matrix()\n",
    "        mask_objet = MaskBuilder(os.path.join(csv_directory, serie[4]), size_matrix)\n",
    "        mask_4D = mask_objet.mask_array\n",
    "\n",
    "        print(mask_4D.shape)\n",
    "        number_roi = mask_4D.shape[3]\n",
    "        threshold = mask_objet.details_rois['SUVlo']\n",
    "        #seuillage\n",
    "        flip_mask = mask_objet.flip_z(mask_4D)\n",
    "        print(flip_mask.shape)\n",
    "        #mask_4D_flip = mask_objet.mask_array\n",
    "        new_mask_4D_flip = threshold_mask(flip_mask, mask_objet.details_rois, nifti_array)\n",
    "        angle_filename_mask = mip_projection_4D(new_mask_4D_flip, 0, mip_directory, study_uid, number_roi, borne_max = 5.0)\n",
    "        #mip.png MASK\n",
    "        subliste.append(angle_filename_mask)\n",
    "\n",
    "        path_mip.append(subliste)\n",
    "\n",
    "        \n",
    "\n",
    "\n",
    "\n",
    "\n",
    "    else : \n",
    "        serie_pt_objet = SeriesPT(serie[2])\n",
    "        study_uid = serie_pt_objet.get_series_details()['study']['StudyInstanceUID']\n",
    "        nifti_array = serie_pt_objet.get_numpy_array()\n",
    "        angle_filename = mip_projection(nifti_array, 0, mip_directory, study_uid, borne_max = 5.0) \n",
    "        #mip.png PET\n",
    "        subliste.append(angle_filename)\n",
    "        size_matrix = serie_pt_objet.get_size_matrix()\n",
    "        mask_objet = MaskBuilder(os.path.join(csv_directory, serie[4]), size_matrix)\n",
    "        \n",
    "        mask_4D = mask_objet.mask_array\n",
    "\n",
    "        print(mask_4D.shape)\n",
    "        number_roi = mask_4D.shape[3]\n",
    "        threshold = mask_objet.details_rois['SUVlo']\n",
    "        #seuillage\n",
    "\n",
    "        flip_mask = mask_objet.flip_z(mask_4D)\n",
    "        \n",
    "        print(flip_mask.shape)\n",
    "        #mask_4D_flip = mask_objet.mask_array\n",
    "        new_mask_4D_flip = threshold_mask(flip_mask, mask_objet.details_rois, nifti_array)\n",
    "        angle_filename_mask = mip_projection_4D(new_mask_4D_flip, 0, mip_directory, study_uid, number_roi, borne_max = 5.0)\n",
    "        #mip.png MASK\n",
    "        subliste.append(angle_filename_mask)\n",
    "\n",
    "        path_mip.append(subliste)\n"
   ]
  },
  {
   "cell_type": "code",
   "execution_count": 8,
   "metadata": {},
   "outputs": [],
   "source": [
    "mip_directory = '/media/salim/DD 2To/AHL2011_MIP_FLIP'\n",
    "filename = os.path.join(mip_directory, 'list_mip_coronal.pdf')\n",
    "create_pdf_mip(path_mip, filename)"
   ]
  },
  {
   "cell_type": "code",
   "execution_count": null,
   "metadata": {},
   "outputs": [],
   "source": [
    "#ALGO GENERATION DE CT PET MASK NIFTI SI MASK VALIDE"
   ]
  },
  {
   "cell_type": "code",
   "execution_count": 10,
   "metadata": {},
   "outputs": [
    {
     "name": "stdout",
     "output_type": "stream",
     "text": "0\nMASK CORRECT\nEXPORT NIFTI PT\nEXPORT NIFTI CT\nEXPORT NIFTI MASK\n1\nMASK CORRECT\nEXPORT NIFTI PT\nEXPORT NIFTI CT\nEXPORT NIFTI MASK\n2\nMASK CORRECT\nEXPORT NIFTI PT\nEXPORT NIFTI CT\nEXPORT NIFTI MASK\n3\nMASK CORRECT\nEXPORT NIFTI PT\nEXPORT NIFTI CT\nEXPORT NIFTI MASK\n4\nMASK CORRECT\nEXPORT NIFTI PT\nEXPORT NIFTI CT\nEXPORT NIFTI MASK\n5\nMASK CORRECT\nEXPORT NIFTI PT\nEXPORT NIFTI CT\nEXPORT NIFTI MASK\n6\nMASK CORRECT\nEXPORT NIFTI PT\nEXPORT NIFTI CT\nEXPORT NIFTI MASK\n7\nMASK CORRECT\nEXPORT NIFTI PT\nEXPORT NIFTI CT\nEXPORT NIFTI MASK\n8\nMASK CORRECT\nEXPORT NIFTI PT\nEXPORT NIFTI CT\nEXPORT NIFTI MASK\n9\nMASK CORRECT\nEXPORT NIFTI PT\nEXPORT NIFTI CT\nEXPORT NIFTI MASK\n10\nMASK CORRECT\nEXPORT NIFTI PT\nEXPORT NIFTI CT\nEXPORT NIFTI MASK\n11\nMASK CORRECT\nEXPORT NIFTI PT\nEXPORT NIFTI CT\nEXPORT NIFTI MASK\n12\nMASK CORRECT\nEXPORT NIFTI PT\nEXPORT NIFTI CT\nEXPORT NIFTI MASK\n13\nMASK CORRECT\nEXPORT NIFTI PT\nEXPORT NIFTI CT\nEXPORT NIFTI MASK\n14\nMASK CORRECT\nEXPORT NIFTI PT\nEXPORT NIFTI CT\nEXPORT NIFTI MASK\n"
    }
   ],
   "source": [
    "for serie in list_coronal : \n",
    "    print(list_coronal.index(serie))\n",
    "    try : \n",
    "        if serie[1] == 'PT' : \n",
    "            serie_pt_objet = SeriesPT(serie[0]) \n",
    "            nifti_array = serie_pt_objet.get_numpy_array()\n",
    "            study_uid = serie_pt_objet.get_series_details()['study']['StudyInstanceUID']\n",
    "            size_matrix = serie_pt_objet.get_size_matrix()\n",
    "            mask_objet = MaskBuilder(os.path.join(csv_directory, serie[4]), size_matrix)\n",
    "            mask_4D = mask_objet.mask_array\n",
    "\n",
    "                    #si erreur sur les sd et mean QUE sur les ellipses, on tolère \n",
    "            print(\"MASK CORRECT\")\n",
    "                    #generation nifti PT\n",
    "            filename_pt = study_uid+'_'+'nifti_'+'PT'+'.nii'\n",
    "            serie_pt_objet.export_nifti(os.path.join(nifti_directory, filename_pt))\n",
    "            print(\"EXPORT NIFTI PT\")\n",
    "                    #generation nifti CT\n",
    "            serie_ct_objet = SeriesCT(serie[2])\n",
    "            serie_ct_objet.get_numpy_array()\n",
    "            filename_ct = study_uid+'_'+'nifti_'+'CT'+'.nii'\n",
    "            serie_ct_objet.export_nifti(os.path.join(nifti_directory, filename_ct))\n",
    "            print(\"EXPORT NIFTI CT\")\n",
    "                    #generation nifti mask\n",
    "            filename_mask = study_uid+'_'+'nifti_'+'mask'+'.nii'\n",
    "            serie_pt_objet.export_nifti(os.path.join(nifti_directory, filename_mask), mask_4D)\n",
    "            print(\"EXPORT NIFTI MASK\")\n",
    "\n",
    "\n",
    "        else : \n",
    "            serie_pt_objet = SeriesPT(serie[2]) \n",
    "            nifti_array = serie_pt_objet.get_numpy_array()\n",
    "            study_uid = serie_pt_objet.get_series_details()['study']['StudyInstanceUID']\n",
    "            size_matrix = serie_pt_objet.get_size_matrix()\n",
    "            mask_objet = MaskBuilder(os.path.join(csv_directory, serie[4]), size_matrix)\n",
    "            mask_4D = mask_objet.mask_array\n",
    "            print(\"MASK CORRECT\")\n",
    "                    #generation nifti PT\n",
    "            filename_pt = study_uid+'_'+'nifti_'+'PT'+'.nii'\n",
    "            serie_pt_objet.export_nifti(os.path.join(nifti_directory, filename_pt))\n",
    "            print(\"EXPORT NIFTI PT\")\n",
    "                    #generation nifti CT\n",
    "            serie_ct_objet = SeriesCT(serie[0])\n",
    "            serie_ct_objet.get_numpy_array()\n",
    "            filename_ct = study_uid+'_'+'nifti_'+'CT'+'.nii'\n",
    "            serie_ct_objet.export_nifti(os.path.join(nifti_directory, filename_ct))\n",
    "            print(\"EXPORT NIFTI CT\")\n",
    "                    #generation nifti mask\n",
    "            filename_mask = study_uid+'_'+'nifti_'+'mask'+'.nii'\n",
    "            serie_pt_objet.export_nifti(os.path.join(nifti_directory, filename_mask), mask_4D)\n",
    "            print(\"EXPORT NIFTI MASK\")\n",
    " \n",
    "\n",
    "    except Exception as err : \n",
    "        print(serie)\n",
    "        print(err)"
   ]
  },
  {
   "cell_type": "code",
   "execution_count": null,
   "metadata": {},
   "outputs": [],
   "source": []
  },
  {
   "cell_type": "code",
   "execution_count": 9,
   "metadata": {},
   "outputs": [],
   "source": [
    "#REGENERER PET ET CT \n",
    "import csv\n",
    "\n",
    "csv_pet0_nifti = '/media/salim/DD 2To/AHL2011_NIFTI/AHL2011_PET0_NIFTI.csv'\n",
    "\n",
    "with open(csv_pet0_nifti, 'r') as csv_file :\n",
    "    reader = csv.reader(csv_file, delimiter = ',') #liste pour chaque ligne \n",
    "    csv_data = []\n",
    "    for row in reader :\n",
    "        csv_data.append(row)\n",
    "        \n",
    "del csv_data[0] #enlever première ligne\n",
    "\n",
    "#all_list = []\n",
    "\n",
    "#for item in csv_data :\n",
    "    #study_uid_csv = item[2]"
   ]
  },
  {
   "cell_type": "code",
   "execution_count": 10,
   "metadata": {},
   "outputs": [
    {
     "name": "stdout",
     "output_type": "stream",
     "text": "578\n"
    }
   ],
   "source": [
    "#dataset complet = dataset \n",
    "#ICI ON REGENERE LES LISTES DES SERIES VALIDEES\n",
    "liste = []\n",
    "for data in csv_data : \n",
    "    study_uid = data[1]\n",
    "\n",
    "    for serie in dataset : \n",
    "        if study_uid in serie[0] : \n",
    "            liste.append(serie)\n",
    "\n",
    "    \n",
    "print(len(liste))"
   ]
  },
  {
   "cell_type": "code",
   "execution_count": 9,
   "metadata": {},
   "outputs": [
    {
     "name": "stdout",
     "output_type": "stream",
     "text": "NIFTI PT\nEXPORT NIFTI CT\n317\nEXPORT NIFTI PT\nEXPORT NIFTI CT\n318\nEXPORT NIFTI PT\nEXPORT NIFTI CT\n319\nEXPORT NIFTI PT\nEXPORT NIFTI CT\n320\nEXPORT NIFTI PT\nEXPORT NIFTI CT\n321\nEXPORT NIFTI PT\nEXPORT NIFTI CT\n322\nEXPORT NIFTI PT\nEXPORT NIFTI CT\n323\nEXPORT NIFTI PT\nEXPORT NIFTI CT\n324\nEXPORT NIFTI PT\nEXPORT NIFTI CT\n325\nEXPORT NIFTI PT\nEXPORT NIFTI CT\n326\nEXPORT NIFTI PT\nEXPORT NIFTI CT\n327\nEXPORT NIFTI PT\nEXPORT NIFTI CT\n328\nEXPORT NIFTI PT\nEXPORT NIFTI CT\n329\nEXPORT NIFTI PT\nEXPORT NIFTI CT\n330\nEXPORT NIFTI PT\nEXPORT NIFTI CT\n331\nEXPORT NIFTI PT\nEXPORT NIFTI CT\n332\nEXPORT NIFTI PT\nEXPORT NIFTI CT\n333\nEXPORT NIFTI PT\nEXPORT NIFTI CT\n334\nEXPORT NIFTI PT\nEXPORT NIFTI CT\n335\nEXPORT NIFTI PT\nEXPORT NIFTI CT\n336\nEXPORT NIFTI PT\nEXPORT NIFTI CT\n337\nEXPORT NIFTI PT\nEXPORT NIFTI CT\n338\nEXPORT NIFTI PT\nEXPORT NIFTI CT\n339\nEXPORT NIFTI PT\nEXPORT NIFTI CT\n340\nEXPORT NIFTI PT\nEXPORT NIFTI CT\n341\nEXPORT NIFTI PT\nEXPORT NIFTI CT\n342\nEXPORT NIFTI PT\nEXPORT NIFTI CT\n343\nEXPORT NIFTI PT\nEXPORT NIFTI CT\n344\nEXPORT NIFTI PT\nEXPORT NIFTI CT\n345\nEXPORT NIFTI PT\nEXPORT NIFTI CT\n346\nEXPORT NIFTI PT\nEXPORT NIFTI CT\n347\nEXPORT NIFTI PT\nEXPORT NIFTI CT\n348\nEXPORT NIFTI PT\nEXPORT NIFTI CT\n349\nEXPORT NIFTI PT\nEXPORT NIFTI CT\n350\nEXPORT NIFTI PT\nEXPORT NIFTI CT\n351\nEXPORT NIFTI PT\nEXPORT NIFTI CT\n352\nEXPORT NIFTI PT\nEXPORT NIFTI CT\n353\nEXPORT NIFTI PT\nEXPORT NIFTI CT\n354\nEXPORT NIFTI PT\nEXPORT NIFTI CT\n355\nEXPORT NIFTI PT\nEXPORT NIFTI CT\n356\nEXPORT NIFTI PT\nEXPORT NIFTI CT\n357\nEXPORT NIFTI PT\nEXPORT NIFTI CT\n358\nEXPORT NIFTI PT\nEXPORT NIFTI CT\n359\nEXPORT NIFTI PT\nEXPORT NIFTI CT\n360\nEXPORT NIFTI PT\nEXPORT NIFTI CT\n361\nEXPORT NIFTI PT\nEXPORT NIFTI CT\n362\nEXPORT NIFTI PT\nEXPORT NIFTI CT\n363\nEXPORT NIFTI PT\nEXPORT NIFTI CT\n364\nEXPORT NIFTI PT\nEXPORT NIFTI CT\n365\nEXPORT NIFTI PT\nEXPORT NIFTI CT\n366\nEXPORT NIFTI PT\nEXPORT NIFTI CT\n367\nEXPORT NIFTI PT\nEXPORT NIFTI CT\n368\nEXPORT NIFTI PT\nEXPORT NIFTI CT\n369\nEXPORT NIFTI PT\nEXPORT NIFTI CT\n370\nEXPORT NIFTI PT\nEXPORT NIFTI CT\n371\nEXPORT NIFTI PT\nEXPORT NIFTI CT\n372\nEXPORT NIFTI PT\nEXPORT NIFTI CT\n373\nEXPORT NIFTI PT\nEXPORT NIFTI CT\n374\nEXPORT NIFTI PT\nEXPORT NIFTI CT\n375\nEXPORT NIFTI PT\nEXPORT NIFTI CT\n376\nEXPORT NIFTI PT\nEXPORT NIFTI CT\n377\nEXPORT NIFTI PT\nEXPORT NIFTI CT\n378\nEXPORT NIFTI PT\nEXPORT NIFTI CT\n379\nEXPORT NIFTI PT\nEXPORT NIFTI CT\n380\nEXPORT NIFTI PT\nEXPORT NIFTI CT\n381\nEXPORT NIFTI PT\nEXPORT NIFTI CT\n382\nEXPORT NIFTI PT\nEXPORT NIFTI CT\n383\nEXPORT NIFTI PT\nEXPORT NIFTI CT\n384\nEXPORT NIFTI PT\nEXPORT NIFTI CT\n385\nEXPORT NIFTI PT\nEXPORT NIFTI CT\n386\nEXPORT NIFTI PT\nEXPORT NIFTI CT\n387\nEXPORT NIFTI PT\nEXPORT NIFTI CT\n388\nEXPORT NIFTI PT\nEXPORT NIFTI CT\n389\nEXPORT NIFTI PT\nEXPORT NIFTI CT\n390\nEXPORT NIFTI PT\nEXPORT NIFTI CT\n391\nEXPORT NIFTI PT\nEXPORT NIFTI CT\n392\nEXPORT NIFTI PT\nEXPORT NIFTI CT\n393\nEXPORT NIFTI PT\nEXPORT NIFTI CT\n394\nEXPORT NIFTI PT\nEXPORT NIFTI CT\n395\nEXPORT NIFTI PT\nEXPORT NIFTI CT\n396\nEXPORT NIFTI PT\nEXPORT NIFTI CT\n397\nEXPORT NIFTI PT\nEXPORT NIFTI CT\n398\nEXPORT NIFTI PT\nEXPORT NIFTI CT\n399\nEXPORT NIFTI PT\nEXPORT NIFTI CT\n400\nEXPORT NIFTI PT\nEXPORT NIFTI CT\n401\nEXPORT NIFTI PT\nEXPORT NIFTI CT\n402\nEXPORT NIFTI PT\nEXPORT NIFTI CT\n403\nEXPORT NIFTI PT\nEXPORT NIFTI CT\n404\nEXPORT NIFTI PT\nEXPORT NIFTI CT\n405\nEXPORT NIFTI PT\nEXPORT NIFTI CT\n406\nEXPORT NIFTI PT\nEXPORT NIFTI CT\n407\nEXPORT NIFTI PT\nEXPORT NIFTI CT\n408\nEXPORT NIFTI PT\nEXPORT NIFTI CT\n409\nEXPORT NIFTI PT\nEXPORT NIFTI CT\n410\nEXPORT NIFTI PT\nEXPORT NIFTI CT\n411\nEXPORT NIFTI PT\nEXPORT NIFTI CT\n412\nEXPORT NIFTI PT\nEXPORT NIFTI CT\n413\nEXPORT NIFTI PT\nEXPORT NIFTI CT\n414\nEXPORT NIFTI PT\nEXPORT NIFTI CT\n415\nEXPORT NIFTI PT\nEXPORT NIFTI CT\n416\nEXPORT NIFTI PT\nEXPORT NIFTI CT\n417\nEXPORT NIFTI PT\nEXPORT NIFTI CT\n418\nEXPORT NIFTI PT\nEXPORT NIFTI CT\n419\nEXPORT NIFTI PT\nEXPORT NIFTI CT\n420\nEXPORT NIFTI PT\nEXPORT NIFTI CT\n421\nEXPORT NIFTI PT\nEXPORT NIFTI CT\n422\nEXPORT NIFTI PT\nEXPORT NIFTI CT\n423\nEXPORT NIFTI PT\nEXPORT NIFTI CT\n424\nEXPORT NIFTI PT\nEXPORT NIFTI CT\n425\nEXPORT NIFTI PT\nEXPORT NIFTI CT\n426\nEXPORT NIFTI PT\nEXPORT NIFTI CT\n427\nEXPORT NIFTI PT\nEXPORT NIFTI CT\n428\nEXPORT NIFTI PT\nEXPORT NIFTI CT\n429\nEXPORT NIFTI PT\nEXPORT NIFTI CT\n430\nEXPORT NIFTI PT\nEXPORT NIFTI CT\n431\nEXPORT NIFTI PT\nEXPORT NIFTI CT\n432\nEXPORT NIFTI PT\nEXPORT NIFTI CT\n433\nEXPORT NIFTI PT\nEXPORT NIFTI CT\n434\nEXPORT NIFTI PT\nEXPORT NIFTI CT\n435\nEXPORT NIFTI PT\nEXPORT NIFTI CT\n436\nEXPORT NIFTI PT\nEXPORT NIFTI CT\n437\nEXPORT NIFTI PT\nEXPORT NIFTI CT\n438\nEXPORT NIFTI PT\nEXPORT NIFTI CT\n439\nEXPORT NIFTI PT\nEXPORT NIFTI CT\n440\nEXPORT NIFTI PT\nEXPORT NIFTI CT\n441\nEXPORT NIFTI PT\nEXPORT NIFTI CT\n442\nEXPORT NIFTI PT\nEXPORT NIFTI CT\n443\nEXPORT NIFTI PT\nEXPORT NIFTI CT\n444\n['/media/salim/DD 2To/AHL2011_Validated_DICOMS/13011101211003/1.3.51.0.1.1.10.49.10.222.1020253.1018308/1.2.840.113619.2.55.3.168466380.575.1330325614.321.3/1.2.840.113619.2.55.3.168466380.575.1330325614.321.3', 'CT', '/media/salim/DD 2To/AHL2011_Validated_DICOMS/13011101211003/1.3.51.0.1.1.10.49.10.222.1020253.1018308/1.2.840.113619.2.131.168466380.1330339448.215316/1.2.840.113619.2.131.168466380.1330339448.215316', 'PT', 'lec_va_feb 27_2012-EV.csv']\nin method 'Image_SetSpacing', argument 2 of type 'std::vector< double,std::allocator< double > > const &'\n445\n['/media/salim/DD 2To/AHL2011_Validated_DICOMS/13011101211006/1.3.51.0.1.1.10.49.10.222.1106415.1104494/1.2.840.113619.2.131.168466380.1335528052.357742/1.2.840.113619.2.131.168466380.1335528052.357742', 'PT', '/media/salim/DD 2To/AHL2011_Validated_DICOMS/13011101211006/1.3.51.0.1.1.10.49.10.222.1106415.1104494/1.2.840.113619.2.55.3.168466380.106.1335506724.586.3/1.2.840.113619.2.55.3.168466380.106.1335506724.586.3', 'CT', 'duf_cl_apr 27_2012-EV.csv']\nin method 'Image_SetSpacing', argument 2 of type 'std::vector< double,std::allocator< double > > const &'\n446\n['/media/salim/DD 2To/AHL2011_Validated_DICOMS/13011101211004/1.3.51.0.1.1.10.49.10.222.1106502.1104581/1.2.840.113619.2.131.168466380.1335944432.490629/1.2.840.113619.2.131.168466380.1335944432.490629', 'PT', '/media/salim/DD 2To/AHL2011_Validated_DICOMS/13011101211004/1.3.51.0.1.1.10.49.10.222.1106502.1104581/1.2.840.113619.2.55.3.168466380.34.1335938834.162.3/1.2.840.113619.2.55.3.168466380.34.1335938834.162.3', 'CT', 'kry_ca_may 2_2012-EV.csv']\nin method 'Image_SetSpacing', argument 2 of type 'std::vector< double,std::allocator< double > > const &'\n447\n['/media/salim/DD 2To/AHL2011_Validated_DICOMS/13011101211008/1.3.51.0.1.1.10.49.10.222.1128865.1126955/1.2.840.113619.2.131.168466380.1335972265.22200/1.2.840.113619.2.131.168466380.1335972265.22200', 'PT', '/media/salim/DD 2To/AHL2011_Validated_DICOMS/13011101211008/1.3.51.0.1.1.10.49.10.222.1128865.1126955/1.2.840.113619.2.55.3.168466380.34.1335938840.348.3/1.2.840.113619.2.55.3.168466380.34.1335938840.348.3', 'CT', 'lem_sa_may 2_2012-EV.csv']\nin method 'Image_SetSpacing', argument 2 of type 'std::vector< double,std::allocator< double > > const &'\n448\n['/media/salim/DD 2To/AHL2011_Validated_DICOMS/13011101211007/1.3.51.0.1.1.10.49.10.222.1176870.1174990/1.2.840.113619.2.55.3.168466380.619.1338530908.917.3/1.2.840.113619.2.55.3.168466380.619.1338530908.917.3', 'CT', '/media/salim/DD 2To/AHL2011_Validated_DICOMS/13011101211007/1.3.51.0.1.1.10.49.10.222.1176870.1174990/1.2.840.113619.2.131.168466380.1338560302.398910/1.2.840.113619.2.131.168466380.1338560302.398910', 'PT', 'ned_gu_jun 1_2012-EV.csv']\nin method 'Image_SetSpacing', argument 2 of type 'std::vector< double,std::allocator< double > > const &'\n449\n['/media/salim/DD 2To/AHL2011_Validated_DICOMS/13011101211009/1.3.51.0.1.1.10.49.10.222.1389324.1387520/1.2.840.113619.2.55.3.168466380.733.1351058182.384.3/1.2.840.113619.2.55.3.168466380.733.1351058182.384.3', 'CT', '/media/salim/DD 2To/AHL2011_Validated_DICOMS/13011101211009/1.3.51.0.1.1.10.49.10.222.1389324.1387520/1.2.840.113619.2.131.168466380.1351079089.593538/1.2.840.113619.2.131.168466380.1351079089.593538', 'PT', 'por_si_oct 24_2012-EV.csv']\nin method 'Image_SetSpacing', argument 2 of type 'std::vector< double,std::allocator< double > > const &'\n450\n['/media/salim/DD 2To/AHL2011_Validated_DICOMS/13011101211011/1.3.51.0.1.1.10.49.10.222.1516072.1514317/1.2.840.113619.2.131.168466380.1357547455.988260/1.2.840.113619.2.131.168466380.1357547455.988260', 'PT', '/media/salim/DD 2To/AHL2011_Validated_DICOMS/13011101211011/1.3.51.0.1.1.10.49.10.222.1516072.1514317/1.2.840.113619.2.55.3.168466380.78.1357543149.729.3/1.2.840.113619.2.55.3.168466380.78.1357543149.729.3', 'CT', 'lem_na_jan 7_2013-EV.csv']\nin method 'Image_SetSpacing', argument 2 of type 'std::vector< double,std::allocator< double > > const &'\n451\n['/media/salim/DD 2To/AHL2011_Validated_DICOMS/13011101211015/1.3.51.0.1.1.10.49.10.222.1938298.1936753/1.2.840.113619.2.131.168466380.1379675797.717241/1.2.840.113619.2.131.168466380.1379675797.717241', 'PT', '/media/salim/DD 2To/AHL2011_Validated_DICOMS/13011101211015/1.3.51.0.1.1.10.49.10.222.1938298.1936753/1.2.840.113619.2.55.3.168466380.8.1379488758.756.3/1.2.840.113619.2.55.3.168466380.8.1379488758.756.3', 'CT', 'dou_au_sep 20_2013-EV.csv']\nin method 'Image_SetSpacing', argument 2 of type 'std::vector< double,std::allocator< double > > const &'\n452\n['/media/salim/DD 2To/AHL2011_Validated_DICOMS/13011101211018/1.3.51.0.1.1.10.49.10.222.2155145.2153717/1.2.840.113619.2.55.3.168466380.749.1389941641.163.3/1.2.840.113619.2.55.3.168466380.749.1389941641.163.3', 'CT', '/media/salim/DD 2To/AHL2011_Validated_DICOMS/13011101211018/1.3.51.0.1.1.10.49.10.222.2155145.2153717/1.2.840.113619.2.131.168466380.1389948917.168818/1.2.840.113619.2.131.168466380.1389948917.168818', 'PT', 'vid_ma_jan 17_2014-EV.csv']\nin method 'Image_SetSpacing', argument 2 of type 'std::vector< double,std::allocator< double > > const &'\n453\n['/media/salim/DD 2To/AHL2011_Validated_DICOMS/13011101211017/1.3.51.0.1.1.10.49.10.222.2162783.2161355/1.2.840.113619.2.55.3.168466380.658.1390373839.739.3/1.2.840.113619.2.55.3.168466380.658.1390373839.739.3', 'CT', '/media/salim/DD 2To/AHL2011_Validated_DICOMS/13011101211017/1.3.51.0.1.1.10.49.10.222.2162783.2161355/1.2.840.113619.2.131.168466380.1390393052.24596/1.2.840.113619.2.131.168466380.1390393052.24596', 'PT', 'vau_fa_jan 22_2014-EV.csv']\nin method 'Image_SetSpacing', argument 2 of type 'std::vector< double,std::allocator< double > > const &'\n454\n['/media/salim/DD 2To/AHL2011_Validated_DICOMS/13011101211019/1.3.51.0.1.1.10.49.10.222.2168333.2166905/1.2.840.113619.2.131.168466380.1391594350.940093/1.2.840.113619.2.131.168466380.1391594350.940093', 'PT', '/media/salim/DD 2To/AHL2011_Validated_DICOMS/13011101211019/1.3.51.0.1.1.10.49.10.222.2168333.2166905/1.2.840.113619.2.55.3.168466380.613.1391583425.604.3/1.2.840.113619.2.55.3.168466380.613.1391583425.604.3', 'CT', 'bou_er_feb 5_2014-EV.csv']\nin method 'Image_SetSpacing', argument 2 of type 'std::vector< double,std::allocator< double > > const &'\n455\n['/media/salim/DD 2To/AHL2011_Validated_DICOMS/13011101211020/1.3.51.0.1.1.10.49.10.222.2251567.2250183/1.2.840.113619.2.55.3.168466380.691.1394434740.453.3/1.2.840.113619.2.55.3.168466380.691.1394434740.453.3', 'CT', '/media/salim/DD 2To/AHL2011_Validated_DICOMS/13011101211020/1.3.51.0.1.1.10.49.10.222.2251567.2250183/1.2.840.113619.2.131.168466380.1394458143.491283/1.2.840.113619.2.131.168466380.1394458143.491283', 'PT', 'fer_pr_mar 10_2014-EV.csv']\nin method 'Image_SetSpacing', argument 2 of type 'std::vector< double,std::allocator< double > > const &'\n456\n['/media/salim/DD 2To/AHL2011_Validated_DICOMS/13011101211001/1.3.51.0.1.1.10.49.10.222.965962.963981/1.2.840.113619.2.131.168466380.1327931166.852714/1.2.840.113619.2.131.168466380.1327931166.852714', 'PT', '/media/salim/DD 2To/AHL2011_Validated_DICOMS/13011101211001/1.3.51.0.1.1.10.49.10.222.965962.963981/1.2.840.113619.2.55.3.168466380.583.1327907238.594.3/1.2.840.113619.2.55.3.168466380.583.1327907238.594.3', 'CT', 'duc_ce_jan 30_2012-EV.csv']\nin method 'Image_SetSpacing', argument 2 of type 'std::vector< double,std::allocator< double > > const &'\n457\n['/media/salim/DD 2To/AHL2011_Validated_DICOMS/13011101211002/1.3.51.0.1.1.10.49.10.222.987570.985613/1.2.840.113619.2.131.168466380.1329146527.163207/1.2.840.113619.2.131.168466380.1329146527.163207', 'PT', '/media/salim/DD 2To/AHL2011_Validated_DICOMS/13011101211002/1.3.51.0.1.1.10.49.10.222.987570.985613/1.2.840.113619.2.55.3.168466380.744.1329116003.472.3/1.2.840.113619.2.55.3.168466380.744.1329116003.472.3', 'CT', 'kow_em_feb 13_2012-EV.csv']\nin method 'Image_SetSpacing', argument 2 of type 'std::vector< double,std::allocator< double > > const &'\n458\nEXPORT NIFTI PT\nEXPORT NIFTI CT\n459\nEXPORT NIFTI PT\nEXPORT NIFTI CT\n460\nEXPORT NIFTI PT\nEXPORT NIFTI CT\n461\nEXPORT NIFTI PT\nEXPORT NIFTI CT\n462\nEXPORT NIFTI PT\nEXPORT NIFTI CT\n463\nEXPORT NIFTI PT\nEXPORT NIFTI CT\n464\nEXPORT NIFTI PT\nEXPORT NIFTI CT\n465\nEXPORT NIFTI PT\nEXPORT NIFTI CT\n466\nEXPORT NIFTI PT\nEXPORT NIFTI CT\n467\nEXPORT NIFTI PT\nEXPORT NIFTI CT\n468\nEXPORT NIFTI PT\nEXPORT NIFTI CT\n469\nEXPORT NIFTI PT\nEXPORT NIFTI CT\n470\nEXPORT NIFTI PT\nEXPORT NIFTI CT\n471\nEXPORT NIFTI PT\nEXPORT NIFTI CT\n472\nEXPORT NIFTI PT\nEXPORT NIFTI CT\n473\nEXPORT NIFTI PT\nEXPORT NIFTI CT\n474\nEXPORT NIFTI PT\nEXPORT NIFTI CT\n475\nEXPORT NIFTI PT\nEXPORT NIFTI CT\n476\nEXPORT NIFTI PT\nEXPORT NIFTI CT\n477\nEXPORT NIFTI PT\nEXPORT NIFTI CT\n478\nEXPORT NIFTI PT\nEXPORT NIFTI CT\n479\nEXPORT NIFTI PT\nEXPORT NIFTI CT\n480\nEXPORT NIFTI PT\nEXPORT NIFTI CT\n481\nEXPORT NIFTI PT\nEXPORT NIFTI CT\n482\nEXPORT NIFTI PT\nEXPORT NIFTI CT\n483\nEXPORT NIFTI PT\nEXPORT NIFTI CT\n484\nEXPORT NIFTI PT\nEXPORT NIFTI CT\n485\nEXPORT NIFTI PT\nEXPORT NIFTI CT\n486\nEXPORT NIFTI PT\nEXPORT NIFTI CT\n487\nEXPORT NIFTI PT\nEXPORT NIFTI CT\n488\nEXPORT NIFTI PT\nEXPORT NIFTI CT\n489\nEXPORT NIFTI PT\nEXPORT NIFTI CT\n490\nEXPORT NIFTI PT\nEXPORT NIFTI CT\n491\nEXPORT NIFTI PT\nEXPORT NIFTI CT\n492\nEXPORT NIFTI PT\nEXPORT NIFTI CT\n493\nEXPORT NIFTI PT\nEXPORT NIFTI CT\n494\nEXPORT NIFTI PT\nEXPORT NIFTI CT\n495\nEXPORT NIFTI PT\nEXPORT NIFTI CT\n496\nEXPORT NIFTI PT\nEXPORT NIFTI CT\n497\nEXPORT NIFTI PT\nEXPORT NIFTI CT\n498\nEXPORT NIFTI PT\nEXPORT NIFTI CT\n499\nEXPORT NIFTI PT\nEXPORT NIFTI CT\n500\nEXPORT NIFTI PT\nEXPORT NIFTI CT\n501\nEXPORT NIFTI PT\nEXPORT NIFTI CT\n502\nEXPORT NIFTI PT\nEXPORT NIFTI CT\n503\nEXPORT NIFTI PT\nEXPORT NIFTI CT\n504\nEXPORT NIFTI PT\nEXPORT NIFTI CT\n505\nEXPORT NIFTI PT\nEXPORT NIFTI CT\n506\nEXPORT NIFTI PT\nEXPORT NIFTI CT\n507\nEXPORT NIFTI PT\nEXPORT NIFTI CT\n508\nEXPORT NIFTI PT\nEXPORT NIFTI CT\n509\nEXPORT NIFTI PT\nEXPORT NIFTI CT\n510\nEXPORT NIFTI PT\nEXPORT NIFTI CT\n511\nEXPORT NIFTI PT\nEXPORT NIFTI CT\n512\nEXPORT NIFTI PT\nEXPORT NIFTI CT\n513\nEXPORT NIFTI PT\nEXPORT NIFTI CT\n514\nEXPORT NIFTI PT\nEXPORT NIFTI CT\n515\nEXPORT NIFTI PT\nEXPORT NIFTI CT\n516\nEXPORT NIFTI PT\nEXPORT NIFTI CT\n517\nEXPORT NIFTI PT\nEXPORT NIFTI CT\n518\n['/media/salim/DD 2To/AHL2011_Validated_DICOMS/53011102341005/2.16.840.1.113669.632.20.330001.10001825088/1.2.840.113619.2.55.3.1141511208.932.1350278326.578.3/1.2.840.113619.2.55.3.1141511208.932.1350278326.578.3', 'CT', '/media/salim/DD 2To/AHL2011_Validated_DICOMS/53011102341005/2.16.840.1.113669.632.20.330001.10001825088/1.2.840.113619.2.131.1141511208.1350295833.176115/1.2.840.113619.2.131.1141511208.1350295833.176115', 'PT', 'vou_se_oct 15_2012.csv']\nin method 'Image_SetSpacing', argument 2 of type 'std::vector< double,std::allocator< double > > const &'\n519\nEXPORT NIFTI PT\nEXPORT NIFTI CT\n520\nEXPORT NIFTI PT\nEXPORT NIFTI CT\n521\nEXPORT NIFTI PT\nEXPORT NIFTI CT\n522\nEXPORT NIFTI PT\nEXPORT NIFTI CT\n523\nEXPORT NIFTI PT\nEXPORT NIFTI CT\n524\nEXPORT NIFTI PT\nEXPORT NIFTI CT\n525\nEXPORT NIFTI PT\nEXPORT NIFTI CT\n526\nEXPORT NIFTI PT\nEXPORT NIFTI CT\n527\nEXPORT NIFTI PT\nEXPORT NIFTI CT\n528\nEXPORT NIFTI PT\nEXPORT NIFTI CT\n529\nEXPORT NIFTI PT\nEXPORT NIFTI CT\n530\nEXPORT NIFTI PT\nEXPORT NIFTI CT\n531\nEXPORT NIFTI PT\nEXPORT NIFTI CT\n532\nEXPORT NIFTI PT\nEXPORT NIFTI CT\n533\nEXPORT NIFTI PT\nEXPORT NIFTI CT\n534\nEXPORT NIFTI PT\nEXPORT NIFTI CT\n535\nEXPORT NIFTI PT\nEXPORT NIFTI CT\n536\nEXPORT NIFTI PT\nEXPORT NIFTI CT\n537\nEXPORT NIFTI PT\nEXPORT NIFTI CT\n538\nEXPORT NIFTI PT\nEXPORT NIFTI CT\n539\nEXPORT NIFTI PT\nEXPORT NIFTI CT\n540\nEXPORT NIFTI PT\nEXPORT NIFTI CT\n541\nEXPORT NIFTI PT\nEXPORT NIFTI CT\n542\nEXPORT NIFTI PT\nEXPORT NIFTI CT\n543\nEXPORT NIFTI PT\nEXPORT NIFTI CT\n544\nEXPORT NIFTI PT\nEXPORT NIFTI CT\n545\nEXPORT NIFTI PT\nEXPORT NIFTI CT\n546\nEXPORT NIFTI PT\nEXPORT NIFTI CT\n547\n['/media/salim/DD 2To/AHL2011_Validated_DICOMS/13011101241016/2.16.840.1.113669.632.20.540001.10086060365/1.2.840.113619.2.55.3.29392897.877.1366020085.427.3/1.2.840.113619.2.55.3.29392897.877.1366020085.427.3', 'CT', '/media/salim/DD 2To/AHL2011_Validated_DICOMS/13011101241016/2.16.840.1.113669.632.20.540001.10086060365/1.2.840.113619.2.131.29392897.1366881387.257381/1.2.840.113619.2.131.29392897.1366881387.257381', 'PT', 'mar_jf_apr 25_2013-EV.csv']\nin method 'Image_SetSpacing', argument 2 of type 'std::vector< double,std::allocator< double > > const &'\n548\nEXPORT NIFTI PT\nEXPORT NIFTI CT\n549\nEXPORT NIFTI PT\nEXPORT NIFTI CT\n550\n['/media/salim/DD 2To/AHL2011_Validated_DICOMS/53011101261001/2.16.840.1.113669.632.20.670001.10001421848/1.2.840.113619.2.55.3.296490054.451.1332430545.930.3/1.2.840.113619.2.55.3.296490054.451.1332430545.930.3', 'CT', '/media/salim/DD 2To/AHL2011_Validated_DICOMS/53011101261001/2.16.840.1.113669.632.20.670001.10001421848/1.2.840.113619.2.131.296490054.1332849388.387172/1.2.840.113619.2.131.296490054.1332849388.387172', 'PT', 'yah_ka_mar 27_2012.csv']\nin method 'Image_SetSpacing', argument 2 of type 'std::vector< double,std::allocator< double > > const &'\n551\n['/media/salim/DD 2To/AHL2011_Validated_DICOMS/53011101261003/2.16.840.1.113669.632.20.670001.10001646174/1.2.840.113619.2.131.296490054.1349707934.896212/1.2.840.113619.2.131.296490054.1349707934.896212', 'PT', '/media/salim/DD 2To/AHL2011_Validated_DICOMS/53011101261003/2.16.840.1.113669.632.20.670001.10001646174/1.2.840.113619.2.55.3.296490054.308.1349178752.322.3/1.2.840.113619.2.55.3.296490054.308.1349178752.322.3', 'CT', 'run_mi_oct 8_2012.csv']\nin method 'Image_SetSpacing', argument 2 of type 'std::vector< double,std::allocator< double > > const &'\n552\n['/media/salim/DD 2To/AHL2011_Validated_DICOMS/53011101261004/2.16.840.1.113669.632.20.670001.10001708201/1.2.840.113619.2.131.296490054.1354206204.562837/1.2.840.113619.2.131.296490054.1354206204.562837', 'PT', '/media/salim/DD 2To/AHL2011_Validated_DICOMS/53011101261004/2.16.840.1.113669.632.20.670001.10001708201/1.2.840.113619.2.55.3.296490054.616.1352743611.723.3/1.2.840.113619.2.55.3.296490054.616.1352743611.723.3', 'CT', 'ham_ab_nov 29_2012.csv']\nin method 'Image_SetSpacing', argument 2 of type 'std::vector< double,std::allocator< double > > const &'\n553\n['/media/salim/DD 2To/AHL2011_Validated_DICOMS/53011101261005/2.16.840.1.113669.632.20.670001.10001741704/1.2.840.113619.2.131.296490054.1356710408.63807/1.2.840.113619.2.131.296490054.1356710408.63807', 'PT', '/media/salim/DD 2To/AHL2011_Validated_DICOMS/53011101261005/2.16.840.1.113669.632.20.670001.10001741704/1.2.840.113619.2.55.3.296490054.514.1356696753.575.3/1.2.840.113619.2.55.3.296490054.514.1356696753.575.3', 'CT', 'loe_st_dec 28_2012.csv']\nin method 'Image_SetSpacing', argument 2 of type 'std::vector< double,std::allocator< double > > const &'\n554\nEXPORT NIFTI PT\nEXPORT NIFTI CT\n555\nEXPORT NIFTI PT\nEXPORT NIFTI CT\n556\nEXPORT NIFTI PT\nEXPORT NIFTI CT\n557\nEXPORT NIFTI PT\nEXPORT NIFTI CT\n558\nEXPORT NIFTI PT\nEXPORT NIFTI CT\n559\nEXPORT NIFTI PT\nEXPORT NIFTI CT\n560\nEXPORT NIFTI PT\nEXPORT NIFTI CT\n561\nEXPORT NIFTI PT\nEXPORT NIFTI CT\n562\nEXPORT NIFTI PT\nEXPORT NIFTI CT\n563\nEXPORT NIFTI PT\nEXPORT NIFTI CT\n564\nEXPORT NIFTI PT\nEXPORT NIFTI CT\n565\nEXPORT NIFTI PT\nEXPORT NIFTI CT\n566\nEXPORT NIFTI PT\nEXPORT NIFTI CT\n567\nEXPORT NIFTI PT\nEXPORT NIFTI CT\n568\nEXPORT NIFTI PT\nEXPORT NIFTI CT\n569\nEXPORT NIFTI PT\nEXPORT NIFTI CT\n570\nEXPORT NIFTI PT\nEXPORT NIFTI CT\n571\nEXPORT NIFTI PT\nEXPORT NIFTI CT\n572\nEXPORT NIFTI PT\nEXPORT NIFTI CT\n573\nEXPORT NIFTI PT\nEXPORT NIFTI CT\n574\nEXPORT NIFTI PT\nEXPORT NIFTI CT\n575\nEXPORT NIFTI PT\nEXPORT NIFTI CT\n576\nEXPORT NIFTI PT\nEXPORT NIFTI CT\n577\nEXPORT NIFTI PT\nEXPORT NIFTI CT\n"
    }
   ],
   "source": [
    "#REGENERE PET ET CT \n",
    "serie_error = []\n",
    "for serie in liste: \n",
    "    print(liste.index(serie))\n",
    "    try : \n",
    "        if serie[1] == 'PT' : \n",
    "            serie_pt_objet = SeriesPT(serie[0]) \n",
    "            nifti_array = serie_pt_objet.get_numpy_array()\n",
    "            study_uid = serie_pt_objet.get_series_details()['study']['StudyInstanceUID']\n",
    "           \n",
    "                    #generation nifti PT\n",
    "            filename_pt = study_uid+'_'+'nifti_'+'PT'+'.nii'\n",
    "            serie_pt_objet.export_nifti(os.path.join(nifti_directory, filename_pt))\n",
    "            print(\"EXPORT NIFTI PT\")\n",
    "                    #generation nifti CT\n",
    "            serie_ct_objet = SeriesCT(serie[2])\n",
    "            serie_ct_objet.get_numpy_array()\n",
    "            filename_ct = study_uid+'_'+'nifti_'+'CT'+'.nii'\n",
    "            serie_ct_objet.export_nifti(os.path.join(nifti_directory, filename_ct))\n",
    "            print(\"EXPORT NIFTI CT\")\n",
    "\n",
    "\n",
    "        else : \n",
    "            serie_pt_objet = SeriesPT(serie[2]) \n",
    "            nifti_array = serie_pt_objet.get_numpy_array()\n",
    "            study_uid = serie_pt_objet.get_series_details()['study']['StudyInstanceUID']\n",
    "            size_matrix = serie_pt_objet.get_size_matrix()\n",
    "\n",
    "                    #generation nifti PT\n",
    "            filename_pt = study_uid+'_'+'nifti_'+'PT'+'.nii'\n",
    "            serie_pt_objet.export_nifti(os.path.join(nifti_directory, filename_pt))\n",
    "            print(\"EXPORT NIFTI PT\")\n",
    "                    #generation nifti CT\n",
    "            serie_ct_objet = SeriesCT(serie[0])\n",
    "            serie_ct_objet.get_numpy_array()\n",
    "            filename_ct = study_uid+'_'+'nifti_'+'CT'+'.nii'\n",
    "            serie_ct_objet.export_nifti(os.path.join(nifti_directory, filename_ct))\n",
    "            print(\"EXPORT NIFTI CT\")\n",
    " \n",
    "\n",
    "    except Exception as err : \n",
    "        print(serie)\n",
    "        print(err)\n",
    "        serie_error.append(serie)"
   ]
  },
  {
   "cell_type": "code",
   "execution_count": 21,
   "metadata": {},
   "outputs": [
    {
     "name": "stdout",
     "output_type": "stream",
     "text": "Image Orientation PET  [\"1.0\", \"0.0\", \"0.0\", \"0.0\", \"1.0\", \"0.0\"]\n6\n1\nImage Orientation CT  [\"1.0\", \"0.0\", \"0.0\", \"0.0\", \"1.0\", \"0.0\"]\n6\n"
    }
   ],
   "source": [
    "\n",
    "serie_pt_objet = SeriesPT(serie[0]) \n",
    "print(\"Image Orientation PET \", serie_pt_objet.get_first_instance_metadata().get_image_orientation())\n",
    "print(len(serie_pt_objet.get_first_instance_metadata().get_image_orientation()))\n",
    "print(serie_pt_objet.get_first_instance_metadata().get_image_orientation()[0])\n",
    "                    #generation nifti CT\n",
    "serie_ct_objet = SeriesCT(serie[2])\n",
    "print(\"Image Orientation CT \", serie_ct_objet.get_first_instance_metadata().get_image_orientation())\n",
    "print(len(serie_ct_objet.get_first_instance_metadata().get_image_orientation()))\n",
    "       "
   ]
  },
  {
   "cell_type": "code",
   "execution_count": 9,
   "metadata": {},
   "outputs": [
    {
     "name": "stdout",
     "output_type": "stream",
     "text": "1196\n"
    }
   ],
   "source": [
    "#POUR PET 2 ET PET 4 (SANS MASK)\n",
    "\n",
    "#RELOAD JSON \n",
    "\n",
    "\n",
    "json_path = '/media/salim/DD 2To/AHL2011_NIFTI_PET24/AHL2011_list_path_CT_PET.json'\n",
    "dataset = []\n",
    "with open(json_path) as json_file : \n",
    "    reader = json.load(json_file)\n",
    "    for info in reader :\n",
    "        dataset.append(info)\n",
    "\n",
    "print(len(dataset))"
   ]
  },
  {
   "cell_type": "code",
   "execution_count": 12,
   "metadata": {},
   "outputs": [
    {
     "ename": "KeyboardInterrupt",
     "evalue": "",
     "output_type": "error",
     "traceback": [
      "\u001b[0;31m---------------------------------------------------------------------------\u001b[0m",
      "\u001b[0;31mKeyboardInterrupt\u001b[0m                         Traceback (most recent call last)",
      "\u001b[0;32m<ipython-input-12-9ef2b4db5fbc>\u001b[0m in \u001b[0;36m<module>\u001b[0;34m\u001b[0m\n\u001b[1;32m     11\u001b[0m             \u001b[0;32melse\u001b[0m \u001b[0;34m:\u001b[0m\u001b[0;34m\u001b[0m\u001b[0;34m\u001b[0m\u001b[0m\n\u001b[1;32m     12\u001b[0m                 \u001b[0mserie_ct_objet\u001b[0m \u001b[0;34m=\u001b[0m \u001b[0mSeriesCT\u001b[0m\u001b[0;34m(\u001b[0m\u001b[0mserie\u001b[0m\u001b[0;34m[\u001b[0m\u001b[0;36m2\u001b[0m\u001b[0;34m]\u001b[0m\u001b[0;34m)\u001b[0m\u001b[0;34m\u001b[0m\u001b[0;34m\u001b[0m\u001b[0m\n\u001b[0;32m---> 13\u001b[0;31m                 \u001b[0mnifti_array\u001b[0m \u001b[0;34m=\u001b[0m \u001b[0mserie_ct_objet\u001b[0m\u001b[0;34m.\u001b[0m\u001b[0mget_numpy_array\u001b[0m\u001b[0;34m(\u001b[0m\u001b[0;34m)\u001b[0m\u001b[0;34m\u001b[0m\u001b[0;34m\u001b[0m\u001b[0m\n\u001b[0m\u001b[1;32m     14\u001b[0m                 \u001b[0;32mif\u001b[0m \u001b[0mserie_ct_objet\u001b[0m\u001b[0;34m.\u001b[0m\u001b[0mget_z_spacing\u001b[0m \u001b[0;34m==\u001b[0m\u001b[0;34m'Unconstant Spacing'\u001b[0m \u001b[0;34m:\u001b[0m\u001b[0;34m\u001b[0m\u001b[0;34m\u001b[0m\u001b[0m\n\u001b[1;32m     15\u001b[0m                     \u001b[0munconstant_spacing\u001b[0m\u001b[0;34m.\u001b[0m\u001b[0mappend\u001b[0m\u001b[0;34m(\u001b[0m\u001b[0mserie\u001b[0m\u001b[0;34m)\u001b[0m\u001b[0;34m\u001b[0m\u001b[0;34m\u001b[0m\u001b[0m\n",
      "\u001b[0;32m~/library-DICOM/library_dicom/dicom_processor/model/SeriesCT.py\u001b[0m in \u001b[0;36mget_numpy_array\u001b[0;34m(self)\u001b[0m\n\u001b[1;32m     13\u001b[0m \u001b[0;34m\u001b[0m\u001b[0m\n\u001b[1;32m     14\u001b[0m     \u001b[0;32mdef\u001b[0m \u001b[0mget_numpy_array\u001b[0m\u001b[0;34m(\u001b[0m\u001b[0mself\u001b[0m\u001b[0;34m)\u001b[0m\u001b[0;34m:\u001b[0m\u001b[0;34m\u001b[0m\u001b[0;34m\u001b[0m\u001b[0m\n\u001b[0;32m---> 15\u001b[0;31m         \u001b[0mnumpy_array\u001b[0m \u001b[0;34m=\u001b[0m \u001b[0msuper\u001b[0m\u001b[0;34m(\u001b[0m\u001b[0;34m)\u001b[0m\u001b[0;34m.\u001b[0m\u001b[0mget_numpy_array\u001b[0m\u001b[0;34m(\u001b[0m\u001b[0;34m)\u001b[0m\u001b[0;34m\u001b[0m\u001b[0;34m\u001b[0m\u001b[0m\n\u001b[0m\u001b[1;32m     16\u001b[0m         \u001b[0;32mreturn\u001b[0m \u001b[0mnumpy_array\u001b[0m\u001b[0;34m.\u001b[0m\u001b[0mastype\u001b[0m\u001b[0;34m(\u001b[0m\u001b[0mnp\u001b[0m\u001b[0;34m.\u001b[0m\u001b[0mint16\u001b[0m\u001b[0;34m)\u001b[0m\u001b[0;34m\u001b[0m\u001b[0;34m\u001b[0m\u001b[0m\n",
      "\u001b[0;32m~/library-DICOM/library_dicom/dicom_processor/model/Series.py\u001b[0m in \u001b[0;36mget_numpy_array\u001b[0;34m(self)\u001b[0m\n\u001b[1;32m     91\u001b[0m     \u001b[0;32mdef\u001b[0m \u001b[0mget_numpy_array\u001b[0m\u001b[0;34m(\u001b[0m\u001b[0mself\u001b[0m\u001b[0;34m)\u001b[0m\u001b[0;34m:\u001b[0m\u001b[0;34m\u001b[0m\u001b[0;34m\u001b[0m\u001b[0m\n\u001b[1;32m     92\u001b[0m         \u001b[0;32mif\u001b[0m \u001b[0mself\u001b[0m\u001b[0;34m.\u001b[0m\u001b[0mis_image_modality\u001b[0m \u001b[0;34m==\u001b[0m \u001b[0;32mFalse\u001b[0m \u001b[0;34m:\u001b[0m \u001b[0;32mreturn\u001b[0m\u001b[0;34m\u001b[0m\u001b[0;34m\u001b[0m\u001b[0m\n\u001b[0;32m---> 93\u001b[0;31m         \u001b[0minstance_array\u001b[0m \u001b[0;34m=\u001b[0m \u001b[0;34m[\u001b[0m\u001b[0mInstance\u001b[0m\u001b[0;34m(\u001b[0m\u001b[0mos\u001b[0m\u001b[0;34m.\u001b[0m\u001b[0mpath\u001b[0m\u001b[0;34m.\u001b[0m\u001b[0mjoin\u001b[0m\u001b[0;34m(\u001b[0m\u001b[0mself\u001b[0m\u001b[0;34m.\u001b[0m\u001b[0mpath\u001b[0m\u001b[0;34m,\u001b[0m \u001b[0mfile_name\u001b[0m\u001b[0;34m)\u001b[0m\u001b[0;34m,\u001b[0m \u001b[0mload_image\u001b[0m\u001b[0;34m=\u001b[0m\u001b[0;32mTrue\u001b[0m\u001b[0;34m)\u001b[0m \u001b[0;32mfor\u001b[0m \u001b[0mfile_name\u001b[0m \u001b[0;32min\u001b[0m \u001b[0mself\u001b[0m\u001b[0;34m.\u001b[0m\u001b[0mfile_names\u001b[0m\u001b[0;34m]\u001b[0m\u001b[0;34m\u001b[0m\u001b[0;34m\u001b[0m\u001b[0m\n\u001b[0m\u001b[1;32m     94\u001b[0m         \u001b[0minstance_array\u001b[0m\u001b[0;34m.\u001b[0m\u001b[0msort\u001b[0m\u001b[0;34m(\u001b[0m\u001b[0mkey\u001b[0m\u001b[0;34m=\u001b[0m\u001b[0;32mlambda\u001b[0m \u001b[0minstance_array\u001b[0m\u001b[0;34m:\u001b[0m\u001b[0mint\u001b[0m\u001b[0;34m(\u001b[0m\u001b[0minstance_array\u001b[0m\u001b[0;34m.\u001b[0m\u001b[0mget_image_position\u001b[0m\u001b[0;34m(\u001b[0m\u001b[0;34m)\u001b[0m\u001b[0;34m[\u001b[0m\u001b[0;36m2\u001b[0m\u001b[0;34m]\u001b[0m\u001b[0;34m)\u001b[0m\u001b[0;34m)\u001b[0m\u001b[0;34m\u001b[0m\u001b[0;34m\u001b[0m\u001b[0m\n\u001b[1;32m     95\u001b[0m         \u001b[0mpixel_data\u001b[0m \u001b[0;34m=\u001b[0m \u001b[0;34m[\u001b[0m\u001b[0minstance\u001b[0m\u001b[0;34m.\u001b[0m\u001b[0mget_image_nparray\u001b[0m\u001b[0;34m(\u001b[0m\u001b[0;34m)\u001b[0m \u001b[0;32mfor\u001b[0m \u001b[0minstance\u001b[0m \u001b[0;32min\u001b[0m \u001b[0minstance_array\u001b[0m\u001b[0;34m]\u001b[0m\u001b[0;34m\u001b[0m\u001b[0;34m\u001b[0m\u001b[0m\n",
      "\u001b[0;32m~/library-DICOM/library_dicom/dicom_processor/model/Series.py\u001b[0m in \u001b[0;36m<listcomp>\u001b[0;34m(.0)\u001b[0m\n\u001b[1;32m     91\u001b[0m     \u001b[0;32mdef\u001b[0m \u001b[0mget_numpy_array\u001b[0m\u001b[0;34m(\u001b[0m\u001b[0mself\u001b[0m\u001b[0;34m)\u001b[0m\u001b[0;34m:\u001b[0m\u001b[0;34m\u001b[0m\u001b[0;34m\u001b[0m\u001b[0m\n\u001b[1;32m     92\u001b[0m         \u001b[0;32mif\u001b[0m \u001b[0mself\u001b[0m\u001b[0;34m.\u001b[0m\u001b[0mis_image_modality\u001b[0m \u001b[0;34m==\u001b[0m \u001b[0;32mFalse\u001b[0m \u001b[0;34m:\u001b[0m \u001b[0;32mreturn\u001b[0m\u001b[0;34m\u001b[0m\u001b[0;34m\u001b[0m\u001b[0m\n\u001b[0;32m---> 93\u001b[0;31m         \u001b[0minstance_array\u001b[0m \u001b[0;34m=\u001b[0m \u001b[0;34m[\u001b[0m\u001b[0mInstance\u001b[0m\u001b[0;34m(\u001b[0m\u001b[0mos\u001b[0m\u001b[0;34m.\u001b[0m\u001b[0mpath\u001b[0m\u001b[0;34m.\u001b[0m\u001b[0mjoin\u001b[0m\u001b[0;34m(\u001b[0m\u001b[0mself\u001b[0m\u001b[0;34m.\u001b[0m\u001b[0mpath\u001b[0m\u001b[0;34m,\u001b[0m \u001b[0mfile_name\u001b[0m\u001b[0;34m)\u001b[0m\u001b[0;34m,\u001b[0m \u001b[0mload_image\u001b[0m\u001b[0;34m=\u001b[0m\u001b[0;32mTrue\u001b[0m\u001b[0;34m)\u001b[0m \u001b[0;32mfor\u001b[0m \u001b[0mfile_name\u001b[0m \u001b[0;32min\u001b[0m \u001b[0mself\u001b[0m\u001b[0;34m.\u001b[0m\u001b[0mfile_names\u001b[0m\u001b[0;34m]\u001b[0m\u001b[0;34m\u001b[0m\u001b[0;34m\u001b[0m\u001b[0m\n\u001b[0m\u001b[1;32m     94\u001b[0m         \u001b[0minstance_array\u001b[0m\u001b[0;34m.\u001b[0m\u001b[0msort\u001b[0m\u001b[0;34m(\u001b[0m\u001b[0mkey\u001b[0m\u001b[0;34m=\u001b[0m\u001b[0;32mlambda\u001b[0m \u001b[0minstance_array\u001b[0m\u001b[0;34m:\u001b[0m\u001b[0mint\u001b[0m\u001b[0;34m(\u001b[0m\u001b[0minstance_array\u001b[0m\u001b[0;34m.\u001b[0m\u001b[0mget_image_position\u001b[0m\u001b[0;34m(\u001b[0m\u001b[0;34m)\u001b[0m\u001b[0;34m[\u001b[0m\u001b[0;36m2\u001b[0m\u001b[0;34m]\u001b[0m\u001b[0;34m)\u001b[0m\u001b[0;34m)\u001b[0m\u001b[0;34m\u001b[0m\u001b[0;34m\u001b[0m\u001b[0m\n\u001b[1;32m     95\u001b[0m         \u001b[0mpixel_data\u001b[0m \u001b[0;34m=\u001b[0m \u001b[0;34m[\u001b[0m\u001b[0minstance\u001b[0m\u001b[0;34m.\u001b[0m\u001b[0mget_image_nparray\u001b[0m\u001b[0;34m(\u001b[0m\u001b[0;34m)\u001b[0m \u001b[0;32mfor\u001b[0m \u001b[0minstance\u001b[0m \u001b[0;32min\u001b[0m \u001b[0minstance_array\u001b[0m\u001b[0;34m]\u001b[0m\u001b[0;34m\u001b[0m\u001b[0;34m\u001b[0m\u001b[0m\n",
      "\u001b[0;32m~/library-DICOM/library_dicom/dicom_processor/model/reader/Instance.py\u001b[0m in \u001b[0;36m__init__\u001b[0;34m(self, path, load_image)\u001b[0m\n\u001b[1;32m     17\u001b[0m         \"\"\"\n\u001b[1;32m     18\u001b[0m         \u001b[0mself\u001b[0m\u001b[0;34m.\u001b[0m\u001b[0mpath\u001b[0m \u001b[0;34m=\u001b[0m \u001b[0mpath\u001b[0m\u001b[0;34m\u001b[0m\u001b[0;34m\u001b[0m\u001b[0m\n\u001b[0;32m---> 19\u001b[0;31m         \u001b[0;32mif\u001b[0m \u001b[0;34m(\u001b[0m\u001b[0mload_image\u001b[0m\u001b[0;34m)\u001b[0m \u001b[0;34m:\u001b[0m \u001b[0mself\u001b[0m\u001b[0;34m.\u001b[0m\u001b[0m__load_full_instance\u001b[0m\u001b[0;34m(\u001b[0m\u001b[0;34m)\u001b[0m\u001b[0;34m\u001b[0m\u001b[0;34m\u001b[0m\u001b[0m\n\u001b[0m\u001b[1;32m     20\u001b[0m         \u001b[0;32melse\u001b[0m \u001b[0;34m:\u001b[0m \u001b[0mself\u001b[0m\u001b[0;34m.\u001b[0m\u001b[0m__load_metadata\u001b[0m\u001b[0;34m(\u001b[0m\u001b[0;34m)\u001b[0m\u001b[0;34m\u001b[0m\u001b[0;34m\u001b[0m\u001b[0m\n\u001b[1;32m     21\u001b[0m \u001b[0;34m\u001b[0m\u001b[0m\n",
      "\u001b[0;32m~/library-DICOM/library_dicom/dicom_processor/model/reader/Instance.py\u001b[0m in \u001b[0;36m__load_full_instance\u001b[0;34m(self)\u001b[0m\n\u001b[1;32m     24\u001b[0m \u001b[0;34m\u001b[0m\u001b[0m\n\u001b[1;32m     25\u001b[0m     \u001b[0;32mdef\u001b[0m \u001b[0m__load_full_instance\u001b[0m\u001b[0;34m(\u001b[0m\u001b[0mself\u001b[0m\u001b[0;34m)\u001b[0m\u001b[0;34m:\u001b[0m\u001b[0;34m\u001b[0m\u001b[0;34m\u001b[0m\u001b[0m\n\u001b[0;32m---> 26\u001b[0;31m         \u001b[0mself\u001b[0m\u001b[0;34m.\u001b[0m\u001b[0mdicomData\u001b[0m \u001b[0;34m=\u001b[0m \u001b[0mpydicom\u001b[0m\u001b[0;34m.\u001b[0m\u001b[0mdcmread\u001b[0m\u001b[0;34m(\u001b[0m\u001b[0mself\u001b[0m\u001b[0;34m.\u001b[0m\u001b[0mpath\u001b[0m\u001b[0;34m)\u001b[0m\u001b[0;34m\u001b[0m\u001b[0;34m\u001b[0m\u001b[0m\n\u001b[0m\u001b[1;32m     27\u001b[0m \u001b[0;34m\u001b[0m\u001b[0m\n\u001b[1;32m     28\u001b[0m     \u001b[0;32mdef\u001b[0m \u001b[0mget_series_tags\u001b[0m\u001b[0;34m(\u001b[0m\u001b[0mself\u001b[0m\u001b[0;34m)\u001b[0m\u001b[0;34m:\u001b[0m\u001b[0;34m\u001b[0m\u001b[0;34m\u001b[0m\u001b[0m\n",
      "\u001b[0;32m~/.local/lib/python3.8/site-packages/pydicom/filereader.py\u001b[0m in \u001b[0;36mdcmread\u001b[0;34m(fp, defer_size, stop_before_pixels, force, specific_tags)\u001b[0m\n\u001b[1;32m    867\u001b[0m         \u001b[0mstop_when\u001b[0m \u001b[0;34m=\u001b[0m \u001b[0m_at_pixel_data\u001b[0m\u001b[0;34m\u001b[0m\u001b[0;34m\u001b[0m\u001b[0m\n\u001b[1;32m    868\u001b[0m     \u001b[0;32mtry\u001b[0m\u001b[0;34m:\u001b[0m\u001b[0;34m\u001b[0m\u001b[0;34m\u001b[0m\u001b[0m\n\u001b[0;32m--> 869\u001b[0;31m         dataset = read_partial(fp, stop_when, defer_size=defer_size,\n\u001b[0m\u001b[1;32m    870\u001b[0m                                force=force, specific_tags=specific_tags)\n\u001b[1;32m    871\u001b[0m     \u001b[0;32mfinally\u001b[0m\u001b[0;34m:\u001b[0m\u001b[0;34m\u001b[0m\u001b[0;34m\u001b[0m\u001b[0m\n",
      "\u001b[0;32m~/.local/lib/python3.8/site-packages/pydicom/filereader.py\u001b[0m in \u001b[0;36mread_partial\u001b[0;34m(fileobj, stop_when, defer_size, force, specific_tags)\u001b[0m\n\u001b[1;32m    740\u001b[0m     \u001b[0;31m#   the transfer syntax (whether read from the file meta or guessed at)\u001b[0m\u001b[0;34m\u001b[0m\u001b[0;34m\u001b[0m\u001b[0;34m\u001b[0m\u001b[0m\n\u001b[1;32m    741\u001b[0m     \u001b[0;32mtry\u001b[0m\u001b[0;34m:\u001b[0m\u001b[0;34m\u001b[0m\u001b[0;34m\u001b[0m\u001b[0m\n\u001b[0;32m--> 742\u001b[0;31m         dataset = read_dataset(fileobj, is_implicit_VR, is_little_endian,\n\u001b[0m\u001b[1;32m    743\u001b[0m                                \u001b[0mstop_when\u001b[0m\u001b[0;34m=\u001b[0m\u001b[0mstop_when\u001b[0m\u001b[0;34m,\u001b[0m \u001b[0mdefer_size\u001b[0m\u001b[0;34m=\u001b[0m\u001b[0mdefer_size\u001b[0m\u001b[0;34m,\u001b[0m\u001b[0;34m\u001b[0m\u001b[0;34m\u001b[0m\u001b[0m\n\u001b[1;32m    744\u001b[0m                                specific_tags=specific_tags)\n",
      "\u001b[0;32m~/.local/lib/python3.8/site-packages/pydicom/filereader.py\u001b[0m in \u001b[0;36mread_dataset\u001b[0;34m(fp, is_implicit_VR, is_little_endian, bytelength, stop_when, defer_size, parent_encoding, specific_tags, at_top_level)\u001b[0m\n\u001b[1;32m    367\u001b[0m     \u001b[0;32mtry\u001b[0m\u001b[0;34m:\u001b[0m\u001b[0;34m\u001b[0m\u001b[0;34m\u001b[0m\u001b[0m\n\u001b[1;32m    368\u001b[0m         \u001b[0;32mwhile\u001b[0m \u001b[0;34m(\u001b[0m\u001b[0mbytelength\u001b[0m \u001b[0;32mis\u001b[0m \u001b[0;32mNone\u001b[0m\u001b[0;34m)\u001b[0m \u001b[0;32mor\u001b[0m \u001b[0;34m(\u001b[0m\u001b[0mfp\u001b[0m\u001b[0;34m.\u001b[0m\u001b[0mtell\u001b[0m\u001b[0;34m(\u001b[0m\u001b[0;34m)\u001b[0m \u001b[0;34m-\u001b[0m \u001b[0mfp_start\u001b[0m \u001b[0;34m<\u001b[0m \u001b[0mbytelength\u001b[0m\u001b[0;34m)\u001b[0m\u001b[0;34m:\u001b[0m\u001b[0;34m\u001b[0m\u001b[0;34m\u001b[0m\u001b[0m\n\u001b[0;32m--> 369\u001b[0;31m             \u001b[0mraw_data_element\u001b[0m \u001b[0;34m=\u001b[0m \u001b[0mnext\u001b[0m\u001b[0;34m(\u001b[0m\u001b[0mde_gen\u001b[0m\u001b[0;34m)\u001b[0m\u001b[0;34m\u001b[0m\u001b[0;34m\u001b[0m\u001b[0m\n\u001b[0m\u001b[1;32m    370\u001b[0m             \u001b[0;31m# Read data elements. Stop on some errors, but return what was read\u001b[0m\u001b[0;34m\u001b[0m\u001b[0;34m\u001b[0m\u001b[0;34m\u001b[0m\u001b[0m\n\u001b[1;32m    371\u001b[0m             \u001b[0mtag\u001b[0m \u001b[0;34m=\u001b[0m \u001b[0mraw_data_element\u001b[0m\u001b[0;34m.\u001b[0m\u001b[0mtag\u001b[0m\u001b[0;34m\u001b[0m\u001b[0;34m\u001b[0m\u001b[0m\n",
      "\u001b[0;32m~/.local/lib/python3.8/site-packages/pydicom/filereader.py\u001b[0m in \u001b[0;36mdata_element_generator\u001b[0;34m(fp, is_implicit_VR, is_little_endian, stop_when, defer_size, encoding, specific_tags)\u001b[0m\n\u001b[1;32m    194\u001b[0m                 \u001b[0mfp\u001b[0m\u001b[0;34m.\u001b[0m\u001b[0mseek\u001b[0m\u001b[0;34m(\u001b[0m\u001b[0mfp_tell\u001b[0m\u001b[0;34m(\u001b[0m\u001b[0;34m)\u001b[0m \u001b[0;34m+\u001b[0m \u001b[0mlength\u001b[0m\u001b[0;34m)\u001b[0m\u001b[0;34m\u001b[0m\u001b[0;34m\u001b[0m\u001b[0m\n\u001b[1;32m    195\u001b[0m             \u001b[0;32melse\u001b[0m\u001b[0;34m:\u001b[0m\u001b[0;34m\u001b[0m\u001b[0;34m\u001b[0m\u001b[0m\n\u001b[0;32m--> 196\u001b[0;31m                 value = (fp_read(length) if length > 0\n\u001b[0m\u001b[1;32m    197\u001b[0m                          else empty_value_for_VR(VR, raw=True))\n\u001b[1;32m    198\u001b[0m                 \u001b[0;32mif\u001b[0m \u001b[0mdebugging\u001b[0m\u001b[0;34m:\u001b[0m\u001b[0;34m\u001b[0m\u001b[0;34m\u001b[0m\u001b[0m\n",
      "\u001b[0;31mKeyboardInterrupt\u001b[0m: "
     ]
    }
   ],
   "source": [
    "#CHECKER LES UNCONSTANT SPACING\n",
    "unconstant_spacing = []\n",
    "for serie in dataset : \n",
    "    try : \n",
    "        if serie[1] =='PT' : \n",
    "            serie_pt_objet = SeriesPT(serie[0])\n",
    "            nifti_array = serie_pt_objet.get_numpy_array()\n",
    "            if serie_pt_objet.get_z_spacing =='Unconstant Spacing' :\n",
    "                print(\"Unconstant Spacing PET\")\n",
    "                unconstant_spacing.append(serie)\n",
    "            else : \n",
    "                serie_ct_objet = SeriesCT(serie[2])\n",
    "                nifti_array = serie_ct_objet.get_numpy_array()\n",
    "                if serie_ct_objet.get_z_spacing =='Unconstant Spacing' :\n",
    "                    unconstant_spacing.append(serie)\n",
    "\n",
    "        else : \n",
    "            serie_pt_objet = SeriesPT(serie[2])\n",
    "            nifti_array = serie_pt_objet.get_numpy_array()\n",
    "            if serie_pt_objet.get_z_spacing =='Unconstant Spacing' :\n",
    "                print(\"Unconstant Spacing CT\")\n",
    "                unconstant_spacing.append(serie)\n",
    "            else : \n",
    "                serie_ct_objet = SeriesCT(serie[0])\n",
    "                nifti_array = serie_ct_objet.get_numpy_array()\n",
    "                if serie_ct_objet.get_z_spacing =='Unconstant Spacing' :\n",
    "                    unconstant_spacing.append(serie)\n",
    "\n",
    "    except Exception as err : \n",
    "        print(serie)\n",
    "        print(err)"
   ]
  },
  {
   "cell_type": "code",
   "execution_count": null,
   "metadata": {},
   "outputs": [],
   "source": []
  }
 ],
 "metadata": {
  "language_info": {
   "name": "python",
   "codemirror_mode": {
    "name": "ipython",
    "version": 3
   },
   "version": "3.8.2-final"
  },
  "orig_nbformat": 2,
  "file_extension": ".py",
  "mimetype": "text/x-python",
  "name": "python",
  "npconvert_exporter": "python",
  "pygments_lexer": "ipython3",
  "version": 3,
  "kernelspec": {
   "name": "python3",
   "display_name": "Python 3"
  }
 },
 "nbformat": 4,
 "nbformat_minor": 2
}