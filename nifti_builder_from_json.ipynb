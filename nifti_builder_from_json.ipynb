{
 "cells": [
  {
   "cell_type": "code",
   "execution_count": 1,
   "metadata": {},
   "outputs": [],
   "source": [
    "import json\n",
    "import os\n",
    "from library_dicom.dicom_processor.model.Series import Series \n",
    "from library_dicom.dicom_processor.model.SeriesPT import SeriesPT\n",
    "from library_dicom.dicom_processor.model.SeriesCT import SeriesCT\n",
    "from library_dicom.dicom_processor.model.csv_reader.MaskBuilder import MaskBuilder\n",
    "\n",
    "from library_dicom.dicom_processor.tools.folders import *\n",
    "\n",
    "from library_dicom.dicom_processor.tools.create_mip import *\n",
    "from library_dicom.dicom_processor.tools.threshold_mask import *\n",
    "\n",
    "import numpy as np\n",
    "import SimpleITK as sitk"
   ]
  },
  {
   "cell_type": "code",
   "execution_count": 2,
   "metadata": {},
   "outputs": [],
   "source": [
    "#LIST FROM PARSE_FILTERED_DICOM_DATASET"
   ]
  },
  {
   "cell_type": "code",
   "execution_count": 2,
   "metadata": {},
   "outputs": [],
   "source": [
    "nifti_directory = '/media/salim/DD 2To/AHL2011_NIFTI'\n",
    "\n",
    "csv_directory = '/media/salim/DD 2To/AHL2011_CSV_DATA/AHL2011-CSV'"
   ]
  },
  {
   "cell_type": "code",
   "execution_count": 4,
   "metadata": {},
   "outputs": [],
   "source": [
    "json_path = '/media/salim/DD 2To/AHL2011_NIFTI/AHL2011_list_path_csv.json'"
   ]
  },
  {
   "cell_type": "code",
   "execution_count": 8,
   "metadata": {},
   "outputs": [],
   "source": [
    "data = []\n",
    "with open(json_path) as json_file : \n",
    "    reader = json.load(json_file)\n",
    "    for info in reader :\n",
    "        for path in reader[info] :\n",
    "            data.append(path)"
   ]
  },
  {
   "cell_type": "code",
   "execution_count": 9,
   "metadata": {},
   "outputs": [],
   "source": [
    "dataset = []\n",
    "for i in range(0,len(data),5):\n",
    "    subliste = []\n",
    "    subliste.append(data[i])\n",
    "    subliste.append(data[i+1])\n",
    "    subliste.append(data[i+2])\n",
    "    subliste.append(data[i+3])\n",
    "    subliste.append(data[i+4])\n",
    "    dataset.append(subliste)"
   ]
  },
  {
   "cell_type": "code",
   "execution_count": 10,
   "metadata": {},
   "outputs": [
    {
     "name": "stdout",
     "output_type": "stream",
     "text": "617\n"
    }
   ],
   "source": [
    "print(len(dataset))\n"
   ]
  },
  {
   "cell_type": "code",
   "execution_count": null,
   "metadata": {},
   "outputs": [],
   "source": [
    "#GENERE LA LISTE DES JSON AVEC UN UNCONSTANT SPACING, SAVE IT AS JSON "
   ]
  },
  {
   "cell_type": "code",
   "execution_count": null,
   "metadata": {},
   "outputs": [],
   "source": [
    "\n",
    "from library_dicom.dicom_processor.tools.folders import *\n",
    "liste_unconstant_z_spacing = []\n",
    "for liste in dataset : \n",
    "    print(dataset.index(liste))\n",
    "    for i in range(0,4,2) : \n",
    "        serie_objet = Series(liste[i])\n",
    "        serie_objet.get_numpy_array()\n",
    "        if serie_objet.get_z_spacing() == 'Unconstant Spacing' : \n",
    "            print(liste)\n",
    "            liste_unconstant_z_spacing.append(liste)\n",
    "            list_z_spacing = serie_objet.calculate_z_spacing()\n",
    "            print(list_z_spacing)\n",
    "            #liste_unconstant_z_spacing.append(list_z_spacing)\n",
    "\n",
    "\n",
    "#save it as json\n",
    "\n",
    "write_json_file('/media/salim/DD 2To/AHL2011_NIFTI', 'AHL2011_problem_unconstant_spacing', liste_unconstant_z_spacing)"
   ]
  },
  {
   "cell_type": "code",
   "execution_count": null,
   "metadata": {},
   "outputs": [],
   "source": [
    "from library_dicom.dicom_processor.tools.folders import *\n",
    "write_json_file('/media/salim/DD 2To/AHL2011_NIFTI', 'AHL2011_problem_unconstant_spacing', liste_unconstant_z_spacing)"
   ]
  },
  {
   "cell_type": "code",
   "execution_count": null,
   "metadata": {},
   "outputs": [],
   "source": [
    "#On enleve les series avec un unconstant spacing \n",
    "for serie in liste_unconstant_z_spacing : \n",
    "    dataset.remove(serie)"
   ]
  },
  {
   "cell_type": "code",
   "execution_count": null,
   "metadata": {},
   "outputs": [],
   "source": [
    "#SAVE AS JSON THE FINAL LIST WITHOUT UNCONSTANT SPACING ERROR"
   ]
  },
  {
   "cell_type": "code",
   "execution_count": null,
   "metadata": {},
   "outputs": [],
   "source": [
    "from library_dicom.dicom_processor.tools.folders import *\n",
    "write_json_file('/media/salim/DD 2To/AHL2011_NIFTI', 'AHL2011_final_list_dataset', dataset)\n"
   ]
  },
  {
   "cell_type": "code",
   "execution_count": null,
   "metadata": {},
   "outputs": [],
   "source": [
    "print(len(dataset)) #589\n"
   ]
  },
  {
   "cell_type": "code",
   "execution_count": 30,
   "metadata": {},
   "outputs": [
    {
     "name": "stdout",
     "output_type": "stream",
     "text": "589\n"
    }
   ],
   "source": [
    "#RECHARGEZ LE JSON AVEC LES SERIES \n",
    "json_path = '/media/salim/DD 2To/AHL2011_NIFTI/AHL2011_final_list_dataset.json'\n",
    "dataset = []\n",
    "with open(json_path) as json_file : \n",
    "    reader = json.load(json_file)\n",
    "    for info in reader :\n",
    "        dataset.append(info)\n",
    "\n",
    "print(len(dataset))"
   ]
  },
  {
   "cell_type": "code",
   "execution_count": null,
   "metadata": {},
   "outputs": [],
   "source": [
    "#IF MASK IS CORRECT => GENERATE NIFTI \n",
    "#IF PHILIPS, OR MASK FALSE => PUT SERIE IN A NEW LISTE "
   ]
  },
  {
   "cell_type": "code",
   "execution_count": null,
   "metadata": {},
   "outputs": [],
   "source": [
    "untreated_liste = []\n",
    "#CT et PT pas dans le même ordre suivant les séries \n",
    "#voir pour les ranger avant PT en premier puis CT \n",
    "#On traite meme les philips\n",
    "#On met les erreurs de coté\n",
    "#si erreur sur les ellipse on tolere\n",
    "#si erreur polygone alors faut checker\n",
    "\n",
    "\n",
    "\n",
    "#error = []\n",
    "\n",
    "\n",
    "for serie in dataset : \n",
    "    try : \n",
    "        print(serie)\n",
    "        print(dataset.index(serie))\n",
    "        if serie[1] == 'PT' : \n",
    "            serie_pt_objet = SeriesPT(serie[0])\n",
    "            manufacturer = serie_pt_objet.get_series_details()['series']['Manufacturer'] \n",
    "            if 'philips' in manufacturer.lower() :\n",
    "                untreated_liste.append(serie)\n",
    "            else : \n",
    "                nifti_array = serie_pt_objet.get_numpy_array()\n",
    "                study_uid = serie_pt_objet.get_series_details()['study']['StudyInstanceUID']\n",
    "                size_matrix = serie_pt_objet.get_size_matrix()\n",
    "                mask_objet = MaskBuilder(os.path.join(csv_directory, serie[4]), size_matrix)\n",
    "                mask_4D = mask_objet.mask_array\n",
    "                if mask_objet.is_correct_suv(nifti_array) == True : #si mask correct \n",
    "                    print(\"MASK CORRECT\")\n",
    "                    #generation nifti PT\n",
    "                    filename_pt = study_uid+'_'+'nifti_'+'PT'+'.nii'\n",
    "                    serie_pt_objet.export_nifti(os.path.join(nifti_directory, filename_pt))\n",
    "                    print(\"EXPORT NIFTI PT\")\n",
    "                    #generation nifti CT\n",
    "                    serie_ct_objet = SeriesCT(serie[2])\n",
    "                    serie_ct_objet.get_numpy_array()\n",
    "                    filename_ct = study_uid+'_'+'nifti_'+'CT'+'.nii'\n",
    "                    serie_ct_objet.export_nifti(os.path.join(nifti_directory, filename_ct))\n",
    "                    print(\"EXPORT NIFTI CT\")\n",
    "                    #generation nifti mask\n",
    "                    filename_mask = study_uid+'_'+'nifti_'+'mask'+'.nii'\n",
    "                    serie_pt_objet.export_nifti(os.path.join(nifti_directory, filename_mask), mask_4D)\n",
    "                    print(\"EXPORT NIFTI MASK\")\n",
    "                else : \n",
    "                    untreated_liste.append(serie)\n",
    "        else : \n",
    "            serie_pt_objet = SeriesPT(serie[2])\n",
    "            manufacturer = serie_pt_objet.get_series_details()['series']['Manufacturer'] \n",
    "            if 'philips' in manufacturer.lower() :\n",
    "                untreated_liste.append(serie)\n",
    "            else : \n",
    "                nifti_array = serie_pt_objet.get_numpy_array()\n",
    "                study_uid = serie_pt_objet.get_series_details()['study']['StudyInstanceUID']\n",
    "                size_matrix = serie_pt_objet.get_size_matrix()\n",
    "                mask_objet = MaskBuilder(os.path.join(csv_directory, serie[4]), size_matrix)\n",
    "                mask_4D = mask_objet.mask_array\n",
    "                if mask_objet.is_correct_suv(nifti_array) == True : #si mask correct \n",
    "                    print(\"MASK CORRECT\")\n",
    "                    #generation nifti PT\n",
    "                    filename_pt = study_uid+'_'+'nifti_'+'PT'+'.nii'\n",
    "                    serie_pt_objet.export_nifti(os.path.join(nifti_directory, filename_pt))\n",
    "                    print(\"EXPORT NIFTI PT\")\n",
    "                     #generation nifti CT\n",
    "                    serie_ct_objet = SeriesCT(serie[0])\n",
    "                    serie_ct_objet.get_numpy_array()\n",
    "                    filename_ct = study_uid+'_'+'nifti_'+'CT'+'.nii'\n",
    "                    serie_ct_objet.export_nifti(os.path.join(nifti_directory, filename_ct))\n",
    "                    print(\"EXPORT NIFTI CT\")\n",
    "                    #generation nifti mask\n",
    "                    filename_mask = study_uid+'_'+'nifti_'+'mask'+'.nii'\n",
    "                    serie_pt_objet.export_nifti(os.path.join(nifti_directory, filename_mask), mask_4D)\n",
    "                    print(\"EXPORT NIFTI MASK\")\n",
    "                else : \n",
    "                    untreated_liste.append(serie)\n",
    "                   \n",
    "\n",
    "\n",
    "    except Exception as err : \n",
    "        print(err)\n",
    "        #error.append(serie)\n",
    "\n",
    "        \n"
   ]
  },
  {
   "cell_type": "code",
   "execution_count": null,
   "metadata": {},
   "outputs": [],
   "source": [
    "len(untreated_liste) #392 "
   ]
  },
  {
   "cell_type": "code",
   "execution_count": null,
   "metadata": {},
   "outputs": [],
   "source": [
    "#SAVE THE SERIE WITH FALSE MASK \n",
    "#SAVE THE SERIE WITH ERROR\n",
    "from library_dicom.dicom_processor.tools.folders import *\n",
    "write_json_file('/media/salim/DD 2To/AHL2011_NIFTI', 'AHL2011_serie_with_false_mask', untreated_liste)\n",
    "print(len(untreated_liste))"
   ]
  },
  {
   "cell_type": "code",
   "execution_count": null,
   "metadata": {},
   "outputs": [],
   "source": []
  },
  {
   "cell_type": "code",
   "execution_count": null,
   "metadata": {},
   "outputs": [],
   "source": []
  },
  {
   "cell_type": "code",
   "execution_count": null,
   "metadata": {},
   "outputs": [],
   "source": [
    "#IMPORT SERIES WITH FALSE MASK,\n",
    "#CHECK FLIP AXE Z + SMALL ERROR ON ELLIPSE "
   ]
  },
  {
   "cell_type": "code",
   "execution_count": 13,
   "metadata": {},
   "outputs": [
    {
     "name": "stdout",
     "output_type": "stream",
     "text": "392\n"
    }
   ],
   "source": [
    "#importer la liste untreated_serie pour la suite : \n",
    "json_path = '/media/salim/DD 2To/AHL2011_NIFTI/AHL2011_serie_with_false_mask.json'\n",
    "untreated_liste = []\n",
    "with open(json_path) as json_file : \n",
    "    reader = json.load(json_file)\n",
    "    for info in reader :\n",
    "        untreated_liste.append(info)\n",
    "\n",
    "print(len(untreated_liste)) #392"
   ]
  },
  {
   "cell_type": "code",
   "execution_count": 14,
   "metadata": {},
   "outputs": [
    {
     "name": "stdout",
     "output_type": "stream",
     "text": "203\n189\n"
    }
   ],
   "source": [
    "#SEPARE LES SERIES PHILIPS DES AUTRES SERIES UNTREATED\n",
    "philips_serie = []\n",
    "untreated_liste_2 = []\n",
    "for serie in untreated_liste : \n",
    "    #print(untreated_liste.index(serie))\n",
    "    try : \n",
    "        if serie[1] == 'PT' : \n",
    "            serie_pt_objet = SeriesPT(serie[0]) \n",
    "            manufacturer = serie_pt_objet.get_series_details()['series']['Manufacturer'] \n",
    "            #si philips on retraitera plus tard \n",
    "            if 'philips' in manufacturer.lower() :\n",
    "                philips_serie.append(serie)\n",
    "            else : untreated_liste_2.append(serie)\n",
    "\n",
    "        else : \n",
    "            serie_pt_objet = SeriesPT(serie[2]) \n",
    "            manufacturer = serie_pt_objet.get_series_details()['series']['Manufacturer'] \n",
    "            #si philips on retraitera plus tard \n",
    "            if 'philips' in manufacturer.lower() :\n",
    "                philips_serie.append(serie)\n",
    "            else : untreated_liste_2.append(serie)\n",
    "\n",
    "    except Exception as err : \n",
    "        print(serie)\n",
    "        print(err)\n",
    "\n",
    "\n",
    "print(len(philips_serie))\n",
    "write_json_file('/media/salim/DD 2To/AHL2011_NIFTI', 'AHL2011_untreated_philips_serie', philips_serie)\n",
    "print(len(untreated_liste_2))\n",
    "write_json_file('/media/salim/DD 2To/AHL2011_NIFTI', 'AHL2011_untreated_serie', untreated_liste_2)"
   ]
  },
  {
   "cell_type": "code",
   "execution_count": null,
   "metadata": {},
   "outputs": [],
   "source": []
  },
  {
   "cell_type": "code",
   "execution_count": 3,
   "metadata": {},
   "outputs": [
    {
     "name": "stdout",
     "output_type": "stream",
     "text": "189\n"
    }
   ],
   "source": [
    "#IMPORT JSON (serie with false mask, except Philips)\n",
    "json_path = '/media/salim/DD 2To/AHL2011_NIFTI/AHL2011_untreated_serie.json'\n",
    "untreated_liste_2 = []\n",
    "with open(json_path) as json_file : \n",
    "    reader = json.load(json_file)\n",
    "    for info in reader :\n",
    "        untreated_liste_2.append(info)\n",
    "\n",
    "print(len(untreated_liste_2)) #189"
   ]
  },
  {
   "cell_type": "code",
   "execution_count": 4,
   "metadata": {},
   "outputs": [
    {
     "name": "stdout",
     "output_type": "stream",
     "text": "0\nSMALL ERRORS ON ELLIPSE, MASK CORRECT\nEXPORT NIFTI PT\nEXPORT NIFTI CT\nEXPORT NIFTI MASK\n1\nSMALL ERRORS ON ELLIPSE, MASK CORRECT\nEXPORT NIFTI PT\nEXPORT NIFTI CT\nEXPORT NIFTI MASK\n2\nSMALL ERRORS ON ELLIPSE, MASK CORRECT\nEXPORT NIFTI PT\nEXPORT NIFTI CT\nEXPORT NIFTI MASK\n3\nSMALL ERRORS ON ELLIPSE, MASK CORRECT\nEXPORT NIFTI PT\nEXPORT NIFTI CT\nEXPORT NIFTI MASK\n4\nPROBLEME SUV MAX POLYGON\n5\nSMALL ERRORS ON ELLIPSE, MASK CORRECT\nEXPORT NIFTI PT\nEXPORT NIFTI CT\nEXPORT NIFTI MASK\n6\nSMALL ERRORS ON ELLIPSE, MASK CORRECT\nEXPORT NIFTI PT\nEXPORT NIFTI CT\nEXPORT NIFTI MASK\n7\nSMALL ERRORS ON ELLIPSE, MASK CORRECT\nEXPORT NIFTI PT\nEXPORT NIFTI CT\nEXPORT NIFTI MASK\n8\nSMALL ERRORS ON ELLIPSE, MASK CORRECT\nEXPORT NIFTI PT\nEXPORT NIFTI CT\nEXPORT NIFTI MASK\n9\nSMALL ERRORS ON ELLIPSE, MASK CORRECT\nEXPORT NIFTI PT\nEXPORT NIFTI CT\nEXPORT NIFTI MASK\n10\nSMALL ERRORS ON ELLIPSE, MASK CORRECT\nEXPORT NIFTI PT\nEXPORT NIFTI CT\nEXPORT NIFTI MASK\n11\nSMALL ERRORS ON ELLIPSE, MASK CORRECT\nEXPORT NIFTI PT\nEXPORT NIFTI CT\nEXPORT NIFTI MASK\n12\nSMALL ERRORS ON ELLIPSE, MASK CORRECT\nEXPORT NIFTI PT\nEXPORT NIFTI CT\nEXPORT NIFTI MASK\n13\nPROBLEME SUV MAX POLYGON\n14\nPROBLEME SUV MAX POLYGON\n15\nPROBLEME SUV MAX POLYGON\n16\nPROBLEME SUV MAX POLYGON\n17\nPROBLEME SUV MAX POLYGON\n18\nSMALL ERRORS ON ELLIPSE, MASK CORRECT\nEXPORT NIFTI PT\nEXPORT NIFTI CT\nEXPORT NIFTI MASK\n19\nSMALL ERRORS ON ELLIPSE, MASK CORRECT\nEXPORT NIFTI PT\nEXPORT NIFTI CT\nEXPORT NIFTI MASK\n20\nSMALL ERRORS ON ELLIPSE, MASK CORRECT\nEXPORT NIFTI PT\nEXPORT NIFTI CT\nEXPORT NIFTI MASK\n21\nSMALL ERRORS ON ELLIPSE, MASK CORRECT\nEXPORT NIFTI PT\nEXPORT NIFTI CT\nEXPORT NIFTI MASK\n22\nPROBLEME SUV MAX POLYGON\n23\nSMALL ERRORS ON ELLIPSE, MASK CORRECT\nEXPORT NIFTI PT\nEXPORT NIFTI CT\nEXPORT NIFTI MASK\n24\nPROBLEME SUV MAX POLYGON\n25\nPROBLEME SUV MAX POLYGON\n26\nPROBLEME SUV MAX POLYGON\n27\nPROBLEME SUV MAX POLYGON\n28\nPROBLEME SUV MAX POLYGON\n29\nSMALL ERRORS ON ELLIPSE, MASK CORRECT\nEXPORT NIFTI PT\nEXPORT NIFTI CT\nEXPORT NIFTI MASK\n30\nSMALL ERRORS ON ELLIPSE, MASK CORRECT\nEXPORT NIFTI PT\nEXPORT NIFTI CT\nEXPORT NIFTI MASK\n31\nSMALL ERRORS ON ELLIPSE, MASK CORRECT\nEXPORT NIFTI PT\nEXPORT NIFTI CT\nEXPORT NIFTI MASK\n32\nSMALL ERRORS ON ELLIPSE, MASK CORRECT\nEXPORT NIFTI PT\nEXPORT NIFTI CT\nEXPORT NIFTI MASK\n33\nPROBLEME SUV MAX POLYGON\n34\nPROBLEME SUV MAX POLYGON\n35\nSMALL ERRORS ON ELLIPSE, MASK CORRECT\nEXPORT NIFTI PT\nEXPORT NIFTI CT\nEXPORT NIFTI MASK\n36\nSMALL ERRORS ON ELLIPSE, MASK CORRECT\nEXPORT NIFTI PT\nEXPORT NIFTI CT\nEXPORT NIFTI MASK\n37\nSMALL ERRORS ON ELLIPSE, MASK CORRECT\nEXPORT NIFTI PT\nEXPORT NIFTI CT\nEXPORT NIFTI MASK\n38\nPROBLEME SUV MAX POLYGON\n39\nPROBLEME SUV MAX POLYGON\n40\nPROBLEME SUV MAX POLYGON\n41\nPROBLEME SUV MAX POLYGON\n42\nPROBLEME SUV MAX POLYGON\n43\nPROBLEME SUV MAX POLYGON\n44\nPROBLEME SUV MAX POLYGON\n45\nSMALL ERRORS ON ELLIPSE, MASK CORRECT\nEXPORT NIFTI PT\nEXPORT NIFTI CT\nEXPORT NIFTI MASK\n46\nSMALL ERRORS ON ELLIPSE, MASK CORRECT\nEXPORT NIFTI PT\nEXPORT NIFTI CT\nEXPORT NIFTI MASK\n47\nSMALL ERRORS ON ELLIPSE, MASK CORRECT\nEXPORT NIFTI PT\nEXPORT NIFTI CT\nEXPORT NIFTI MASK\n48\nPROBLEME SUV MAX POLYGON\n49\nPROBLEME SUV MAX POLYGON\n50\nPROBLEME SUV MAX POLYGON\n51\nSMALL ERRORS ON ELLIPSE, MASK CORRECT\nEXPORT NIFTI PT\nEXPORT NIFTI CT\nEXPORT NIFTI MASK\n52\nSMALL ERRORS ON ELLIPSE, MASK CORRECT\nEXPORT NIFTI PT\nEXPORT NIFTI CT\nEXPORT NIFTI MASK\n53\nPROBLEME SUV MAX POLYGON\n54\nSMALL ERRORS ON ELLIPSE, MASK CORRECT\nEXPORT NIFTI PT\nEXPORT NIFTI CT\nEXPORT NIFTI MASK\n55\nPROBLEME SUV MAX POLYGON\n56\nPROBLEME SUV MAX POLYGON\n57\nSMALL ERRORS ON ELLIPSE, MASK CORRECT\nEXPORT NIFTI PT\nEXPORT NIFTI CT\nEXPORT NIFTI MASK\n58\nSMALL ERRORS ON ELLIPSE, MASK CORRECT\nEXPORT NIFTI PT\nEXPORT NIFTI CT\nEXPORT NIFTI MASK\n59\nSMALL ERRORS ON ELLIPSE, MASK CORRECT\nEXPORT NIFTI PT\nEXPORT NIFTI CT\nEXPORT NIFTI MASK\n60\nSMALL ERRORS ON ELLIPSE, MASK CORRECT\nEXPORT NIFTI PT\nEXPORT NIFTI CT\nEXPORT NIFTI MASK\n61\nPROBLEME SUV MAX POLYGON\n62\nPROBLEME SUV MAX POLYGON\n63\nPROBLEME SUV MAX POLYGON\n64\nSMALL ERRORS ON ELLIPSE, MASK CORRECT\nEXPORT NIFTI PT\nEXPORT NIFTI CT\nEXPORT NIFTI MASK\n65\nSMALL ERRORS ON ELLIPSE, MASK CORRECT\nEXPORT NIFTI PT\nEXPORT NIFTI CT\nEXPORT NIFTI MASK\n66\nPROBLEME SUV MAX POLYGON\n67\nSMALL ERRORS ON ELLIPSE, MASK CORRECT\nEXPORT NIFTI PT\nEXPORT NIFTI CT\nEXPORT NIFTI MASK\n68\nSMALL ERRORS ON ELLIPSE, MASK CORRECT\nEXPORT NIFTI PT\nEXPORT NIFTI CT\nEXPORT NIFTI MASK\n69\nSMALL ERRORS ON ELLIPSE, MASK CORRECT\nEXPORT NIFTI PT\nEXPORT NIFTI CT\nEXPORT NIFTI MASK\n70\nSMALL ERRORS ON ELLIPSE, MASK CORRECT\nEXPORT NIFTI PT\nEXPORT NIFTI CT\nEXPORT NIFTI MASK\n71\nPROBLEME SUV MAX POLYGON\n72\nSMALL ERRORS ON ELLIPSE, MASK CORRECT\nEXPORT NIFTI PT\nEXPORT NIFTI CT\nEXPORT NIFTI MASK\n73\nSMALL ERRORS ON ELLIPSE, MASK CORRECT\nEXPORT NIFTI PT\nEXPORT NIFTI CT\nEXPORT NIFTI MASK\n74\nPROBLEME SUV MAX POLYGON\n75\nPROBLEME SUV MAX POLYGON\n76\nPROBLEME SUV MAX POLYGON\n77\nPROBLEME SUV MAX POLYGON\n78\nPROBLEME SUV MAX POLYGON\n79\nPROBLEME SUV MAX POLYGON\n80\nPROBLEME SUV MAX POLYGON\n81\nPROBLEME SUV MAX POLYGON\n82\nPROBLEME SUV MAX POLYGON\n83\nPROBLEME SUV MAX POLYGON\n84\nPROBLEME SUV MAX POLYGON\n85\nPROBLEME SUV MAX POLYGON\n86\nPROBLEME SUV MAX POLYGON\n87\nPROBLEME SUV MAX POLYGON\n88\nSMALL ERRORS ON ELLIPSE, MASK CORRECT\nEXPORT NIFTI PT\nEXPORT NIFTI CT\nEXPORT NIFTI MASK\n89\nPROBLEME SUV MAX POLYGON\n90\nPROBLEME SUV MAX POLYGON\n91\nPROBLEME SUV MAX POLYGON\n92\nPROBLEME SUV MAX POLYGON\n93\nPROBLEME SUV MAX POLYGON\n94\nPROBLEME SUV MAX POLYGON\n95\nSMALL ERRORS ON ELLIPSE, MASK CORRECT\nEXPORT NIFTI PT\nEXPORT NIFTI CT\nEXPORT NIFTI MASK\n96\nSMALL ERRORS ON ELLIPSE, MASK CORRECT\nEXPORT NIFTI PT\nEXPORT NIFTI CT\nEXPORT NIFTI MASK\n97\nSMALL ERRORS ON ELLIPSE, MASK CORRECT\nEXPORT NIFTI PT\nEXPORT NIFTI CT\nEXPORT NIFTI MASK\n98\nSMALL ERRORS ON ELLIPSE, MASK CORRECT\nEXPORT NIFTI PT\nEXPORT NIFTI CT\nEXPORT NIFTI MASK\n99\nSMALL ERRORS ON ELLIPSE, MASK CORRECT\nEXPORT NIFTI PT\nEXPORT NIFTI CT\nEXPORT NIFTI MASK\n100\nPROBLEME SUV MAX POLYGON\n101\nPROBLEME SUV MEAN ET SD POLYGONE\necart mean [16, 'POLYGON', 0.25]\necart sd [3, 'POLYGON', 0.16999999999999993, 16, 'POLYGON', 0.15999999999999998]\n102\nSMALL ERRORS ON ELLIPSE, MASK CORRECT\nEXPORT NIFTI PT\nEXPORT NIFTI CT\nEXPORT NIFTI MASK\n103\nSMALL ERRORS ON ELLIPSE, MASK CORRECT\nEXPORT NIFTI PT\nEXPORT NIFTI CT\nEXPORT NIFTI MASK\n104\nSMALL ERRORS ON ELLIPSE, MASK CORRECT\nEXPORT NIFTI PT\nEXPORT NIFTI CT\nEXPORT NIFTI MASK\n105\nSMALL ERRORS ON ELLIPSE, MASK CORRECT\nEXPORT NIFTI PT\nEXPORT NIFTI CT\nEXPORT NIFTI MASK\n106\nSMALL ERRORS ON ELLIPSE, MASK CORRECT\nEXPORT NIFTI PT\nEXPORT NIFTI CT\nEXPORT NIFTI MASK\n107\nPROBLEME SUV MAX POLYGON\n108\nPROBLEME SUV MAX POLYGON\n109\nPROBLEME SUV MAX POLYGON\n110\nSMALL ERRORS ON ELLIPSE, MASK CORRECT\nEXPORT NIFTI PT\nEXPORT NIFTI CT\nEXPORT NIFTI MASK\n111\nSMALL ERRORS ON ELLIPSE, MASK CORRECT\nEXPORT NIFTI PT\nEXPORT NIFTI CT\nEXPORT NIFTI MASK\n112\nSMALL ERRORS ON ELLIPSE, MASK CORRECT\nEXPORT NIFTI PT\nEXPORT NIFTI CT\nEXPORT NIFTI MASK\n113\nSMALL ERRORS ON ELLIPSE, MASK CORRECT\nEXPORT NIFTI PT\nEXPORT NIFTI CT\nEXPORT NIFTI MASK\n114\nSMALL ERRORS ON ELLIPSE, MASK CORRECT\nEXPORT NIFTI PT\nEXPORT NIFTI CT\nEXPORT NIFTI MASK\n115\nPROBLEME SUV MAX POLYGON\n116\nSMALL ERRORS ON ELLIPSE, MASK CORRECT\nEXPORT NIFTI PT\nEXPORT NIFTI CT\nEXPORT NIFTI MASK\n117\nSMALL ERRORS ON ELLIPSE, MASK CORRECT\nEXPORT NIFTI PT\nEXPORT NIFTI CT\nEXPORT NIFTI MASK\n118\nSMALL ERRORS ON ELLIPSE, MASK CORRECT\nEXPORT NIFTI PT\nEXPORT NIFTI CT\nEXPORT NIFTI MASK\n119\nSMALL ERRORS ON ELLIPSE, MASK CORRECT\nEXPORT NIFTI PT\nEXPORT NIFTI CT\nEXPORT NIFTI MASK\n120\nSMALL ERRORS ON ELLIPSE, MASK CORRECT\nEXPORT NIFTI PT\nEXPORT NIFTI CT\nEXPORT NIFTI MASK\n121\nPROBLEME SUV MAX POLYGON\n122\nSMALL ERRORS ON ELLIPSE, MASK CORRECT\nEXPORT NIFTI PT\nEXPORT NIFTI CT\nEXPORT NIFTI MASK\n123\nPROBLEME SUV MAX POLYGON\n124\nSMALL ERRORS ON ELLIPSE, MASK CORRECT\nEXPORT NIFTI PT\nEXPORT NIFTI CT\nEXPORT NIFTI MASK\n125\nSMALL ERRORS ON ELLIPSE, MASK CORRECT\nEXPORT NIFTI PT\nEXPORT NIFTI CT\nEXPORT NIFTI MASK\n126\nPROBLEME SUV MAX POLYGON\n127\nPROBLEME SUV MAX POLYGON\n128\nSMALL ERRORS ON ELLIPSE, MASK CORRECT\nEXPORT NIFTI PT\nEXPORT NIFTI CT\nEXPORT NIFTI MASK\n129\nSMALL ERRORS ON ELLIPSE, MASK CORRECT\nEXPORT NIFTI PT\nEXPORT NIFTI CT\nEXPORT NIFTI MASK\n130\nSMALL ERRORS ON ELLIPSE, MASK CORRECT\nEXPORT NIFTI PT\nEXPORT NIFTI CT\nEXPORT NIFTI MASK\n131\nPROBLEME SUV MAX POLYGON\n132\nPROBLEME SUV MAX POLYGON\n133\nPROBLEME SUV MAX POLYGON\n134\nPROBLEME SUV MAX POLYGON\n135\nPROBLEME SUV MAX POLYGON\n136\nPROBLEME SUV MAX POLYGON\n137\nPROBLEME SUV MEAN ET SD POLYGONE\necart mean [22, 'POLYGON', 0.2400000000000002]\necart sd [22, 'POLYGON', 0.1299999999999999]\n138\nSMALL ERRORS ON ELLIPSE, MASK CORRECT\nEXPORT NIFTI PT\nEXPORT NIFTI CT\nEXPORT NIFTI MASK\n139\nSMALL ERRORS ON ELLIPSE, MASK CORRECT\nEXPORT NIFTI PT\nEXPORT NIFTI CT\nEXPORT NIFTI MASK\n140\nPROBLEME SUV MAX POLYGON\n141\nPROBLEME SUV MAX POLYGON\n142\nSMALL ERRORS ON ELLIPSE, MASK CORRECT\nEXPORT NIFTI PT\nEXPORT NIFTI CT\nEXPORT NIFTI MASK\n143\nSMALL ERRORS ON ELLIPSE, MASK CORRECT\nEXPORT NIFTI PT\nEXPORT NIFTI CT\nEXPORT NIFTI MASK\n144\nSMALL ERRORS ON ELLIPSE, MASK CORRECT\nEXPORT NIFTI PT\nEXPORT NIFTI CT\nEXPORT NIFTI MASK\n145\nPROBLEME SUV MAX POLYGON\n146\nSMALL ERRORS ON ELLIPSE, MASK CORRECT\nEXPORT NIFTI PT\nEXPORT NIFTI CT\nEXPORT NIFTI MASK\n147\nSMALL ERRORS ON ELLIPSE, MASK CORRECT\nEXPORT NIFTI PT\nEXPORT NIFTI CT\nEXPORT NIFTI MASK\n148\nSMALL ERRORS ON ELLIPSE, MASK CORRECT\nEXPORT NIFTI PT\nEXPORT NIFTI CT\nEXPORT NIFTI MASK\n149\nSMALL ERRORS ON ELLIPSE, MASK CORRECT\nEXPORT NIFTI PT\nEXPORT NIFTI CT\nEXPORT NIFTI MASK\n150\nSMALL ERRORS ON ELLIPSE, MASK CORRECT\nEXPORT NIFTI PT\nEXPORT NIFTI CT\nEXPORT NIFTI MASK\n151\nPROBLEME SUV MAX POLYGON\n152\nSMALL ERRORS ON ELLIPSE, MASK CORRECT\nEXPORT NIFTI PT\nEXPORT NIFTI CT\nEXPORT NIFTI MASK\n153\nSMALL ERRORS ON ELLIPSE, MASK CORRECT\nEXPORT NIFTI PT\nEXPORT NIFTI CT\nEXPORT NIFTI MASK\n154\nSMALL ERRORS ON ELLIPSE, MASK CORRECT\nEXPORT NIFTI PT\nEXPORT NIFTI CT\nEXPORT NIFTI MASK\n155\nSMALL ERRORS ON ELLIPSE, MASK CORRECT\nEXPORT NIFTI PT\nEXPORT NIFTI CT\nEXPORT NIFTI MASK\n156\nSMALL ERRORS ON ELLIPSE, MASK CORRECT\nEXPORT NIFTI PT\nEXPORT NIFTI CT\nEXPORT NIFTI MASK\n157\nSMALL ERRORS ON ELLIPSE, MASK CORRECT\nEXPORT NIFTI PT\nEXPORT NIFTI CT\nEXPORT NIFTI MASK\n158\nSMALL ERRORS ON ELLIPSE, MASK CORRECT\nEXPORT NIFTI PT\nEXPORT NIFTI CT\nEXPORT NIFTI MASK\n159\nPROBLEME SUV MEAN ET SD POLYGONE\necart mean [4, 'ELLIPSE', 0.10000000000000053, 9, 'POLYGON', 0.46999999999999886]\necart sd [9, 'POLYGON', 0.18000000000000016]\n160\nSMALL ERRORS ON ELLIPSE, MASK CORRECT\nEXPORT NIFTI PT\nEXPORT NIFTI CT\nEXPORT NIFTI MASK\n161\nPROBLEME SUV MAX POLYGON\n162\nPROBLEME SUV MAX POLYGON\n163\nPROBLEME SUV MAX POLYGON\n164\nPROBLEME SUV MAX POLYGON\n165\nPROBLEME SUV MAX POLYGON\n166\nSMALL ERRORS ON ELLIPSE, MASK CORRECT\nEXPORT NIFTI PT\nEXPORT NIFTI CT\nEXPORT NIFTI MASK\n167\nSMALL ERRORS ON ELLIPSE, MASK CORRECT\nEXPORT NIFTI PT\nEXPORT NIFTI CT\nEXPORT NIFTI MASK\n168\nSMALL ERRORS ON ELLIPSE, MASK CORRECT\nEXPORT NIFTI PT\nEXPORT NIFTI CT\nEXPORT NIFTI MASK\n169\nSMALL ERRORS ON ELLIPSE, MASK CORRECT\nEXPORT NIFTI PT\nEXPORT NIFTI CT\nEXPORT NIFTI MASK\n170\nPROBLEME SUV MAX POLYGON\n171\nPROBLEME SUV MAX POLYGON\n172\nSMALL ERRORS ON ELLIPSE, MASK CORRECT\nEXPORT NIFTI PT\nEXPORT NIFTI CT\nEXPORT NIFTI MASK\n173\nPROBLEME SUV MAX POLYGON\n174\nPROBLEME SUV MAX POLYGON\n175\nPROBLEME SUV MAX POLYGON\n176\nPROBLEME SUV MAX POLYGON\n177\nPROBLEME SUV MAX POLYGON\n178\nPROBLEME SUV MAX POLYGON\n179\nPROBLEME SUV MAX POLYGON\n180\nPROBLEME SUV MAX POLYGON\n181\nPROBLEME SUV MAX POLYGON\n182\nPROBLEME SUV MAX POLYGON\n183\nPROBLEME SUV MAX POLYGON\n184\nSMALL ERRORS ON ELLIPSE, MASK CORRECT\nEXPORT NIFTI PT\nEXPORT NIFTI CT\nEXPORT NIFTI MASK\n185\nSMALL ERRORS ON ELLIPSE, MASK CORRECT\nEXPORT NIFTI PT\nEXPORT NIFTI CT\nEXPORT NIFTI MASK\n186\nSMALL ERRORS ON ELLIPSE, MASK CORRECT\nEXPORT NIFTI PT\nEXPORT NIFTI CT\nEXPORT NIFTI MASK\n187\nSMALL ERRORS ON ELLIPSE, MASK CORRECT\nEXPORT NIFTI PT\nEXPORT NIFTI CT\nEXPORT NIFTI MASK\n188\nSMALL ERRORS ON ELLIPSE, MASK CORRECT\nEXPORT NIFTI PT\nEXPORT NIFTI CT\nEXPORT NIFTI MASK\n"
    }
   ],
   "source": [
    "#SUR LES LISTES NON PHILIPS, ON REGARDE\n",
    "#SI ERREUR SUR SUV MAX MEAN SD SEULEMENT SUR DES ELLIPSES, SI OUI => GENERER NIFTI \n",
    "\n",
    "erreur_polygone_max = []\n",
    "erreur_polygone_mean_sd = []\n",
    "for serie in untreated_liste_2 : \n",
    "    print(untreated_liste_2.index(serie))\n",
    "    try : \n",
    "        if serie[1] == 'PT' : \n",
    "            serie_pt_objet = SeriesPT(serie[0]) \n",
    "            nifti_array = serie_pt_objet.get_numpy_array()\n",
    "            study_uid = serie_pt_objet.get_series_details()['study']['StudyInstanceUID']\n",
    "            size_matrix = serie_pt_objet.get_size_matrix()\n",
    "            mask_objet = MaskBuilder(os.path.join(csv_directory, serie[4]), size_matrix)\n",
    "            mask_4D = mask_objet.mask_array\n",
    "\n",
    "            if 'POLYGON' in mask_objet.ecart_suv_max(nifti_array) :\n",
    "                print(\"PROBLEME SUV MAX POLYGON\")\n",
    "                erreur_polygone_max.append(serie)\n",
    "            \n",
    "            else : \n",
    "\n",
    "                result_mean = mask_objet.ecart_suv_mean(nifti_array)\n",
    "                result_sd = mask_objet.ecart_SD(nifti_array)\n",
    "                if (('POLYGON' in result_mean) and ('POLYGON' in result_sd)) : \n",
    "                    print(\"PROBLEME SUV MEAN ET SD POLYGONE\")\n",
    "                    print(\"ecart mean\", result_mean)\n",
    "                    print(\"ecart sd\", result_sd)\n",
    "                    erreur_polygone_mean_sd.append(serie)\n",
    "\n",
    "                else : \n",
    "                    #si erreur sur les sd et mean QUE sur les ellipses, on tolère \n",
    "                    print(\"SMALL ERRORS ON ELLIPSE, MASK CORRECT\")\n",
    "                    #generation nifti PT\n",
    "                    filename_pt = study_uid+'_'+'nifti_'+'PT'+'.nii'\n",
    "                    serie_pt_objet.export_nifti(os.path.join(nifti_directory, filename_pt))\n",
    "                    print(\"EXPORT NIFTI PT\")\n",
    "                    #generation nifti CT\n",
    "                    serie_ct_objet = SeriesCT(serie[2])\n",
    "                    serie_ct_objet.get_numpy_array()\n",
    "                    filename_ct = study_uid+'_'+'nifti_'+'CT'+'.nii'\n",
    "                    serie_ct_objet.export_nifti(os.path.join(nifti_directory, filename_ct))\n",
    "                    print(\"EXPORT NIFTI CT\")\n",
    "                    #generation nifti mask\n",
    "                    filename_mask = study_uid+'_'+'nifti_'+'mask'+'.nii'\n",
    "                    serie_pt_objet.export_nifti(os.path.join(nifti_directory, filename_mask), mask_4D)\n",
    "                    print(\"EXPORT NIFTI MASK\")\n",
    "\n",
    "\n",
    "        else : \n",
    "            serie_pt_objet = SeriesPT(serie[2]) \n",
    "            nifti_array = serie_pt_objet.get_numpy_array()\n",
    "            study_uid = serie_pt_objet.get_series_details()['study']['StudyInstanceUID']\n",
    "            size_matrix = serie_pt_objet.get_size_matrix()\n",
    "            mask_objet = MaskBuilder(os.path.join(csv_directory, serie[4]), size_matrix)\n",
    "            mask_4D = mask_objet.mask_array\n",
    "\n",
    "            if 'POLYGON' in mask_objet.ecart_suv_max(nifti_array)  :\n",
    "                print(\"PROBLEME SUV MAX POLYGON\")\n",
    "                erreur_polygone_max.append(serie)\n",
    "            else : \n",
    "\n",
    "                result_mean = mask_objet.ecart_suv_mean(nifti_array)\n",
    "                result_sd = mask_objet.ecart_SD(nifti_array)\n",
    "                if (('POLYGON' in result_mean) and ('POLYGON' in result_sd)) : \n",
    "                    print(\"PROBLEME SUV MEAN ET SD POLYGONE\")\n",
    "                    print(\"ecart mean\", result_mean)\n",
    "                    print(\"ecart sd\", result_sd)\n",
    "                    erreur_polygone_mean_sd.append(serie)\n",
    "\n",
    "                else : \n",
    "                    #si erreur sur les sd et mean QUE sur les ellipses, on tolère \n",
    "                    print(\"SMALL ERRORS ON ELLIPSE, MASK CORRECT\")\n",
    "                    #generation nifti PT\n",
    "                    filename_pt = study_uid+'_'+'nifti_'+'PT'+'.nii'\n",
    "                    serie_pt_objet.export_nifti(os.path.join(nifti_directory, filename_pt))\n",
    "                    print(\"EXPORT NIFTI PT\")\n",
    "                    #generation nifti CT\n",
    "                    serie_ct_objet = SeriesCT(serie[0])\n",
    "                    serie_ct_objet.get_numpy_array()\n",
    "                    filename_ct = study_uid+'_'+'nifti_'+'CT'+'.nii'\n",
    "                    serie_ct_objet.export_nifti(os.path.join(nifti_directory, filename_ct))\n",
    "                    print(\"EXPORT NIFTI CT\")\n",
    "                    #generation nifti mask\n",
    "                    filename_mask = study_uid+'_'+'nifti_'+'mask'+'.nii'\n",
    "                    serie_pt_objet.export_nifti(os.path.join(nifti_directory, filename_mask), mask_4D)\n",
    "                    print(\"EXPORT NIFTI MASK\")\n",
    "\n",
    "\n",
    "    except Exception as err : \n",
    "        print(serie)\n",
    "        print(err)"
   ]
  },
  {
   "cell_type": "code",
   "execution_count": 5,
   "metadata": {},
   "outputs": [
    {
     "name": "stdout",
     "output_type": "stream",
     "text": "89\n3\n"
    }
   ],
   "source": [
    "print(len(erreur_polygone_max))\n",
    "print(len(erreur_polygone_mean_sd))"
   ]
  },
  {
   "cell_type": "code",
   "execution_count": 6,
   "metadata": {},
   "outputs": [],
   "source": [
    "#save as json the list of serie which have a mask problem \n",
    "write_json_file('/media/salim/DD 2To/AHL2011_NIFTI', 'AHL2011_serie_error_polygone_max', erreur_polygone_max)\n",
    "write_json_file('/media/salim/DD 2To/AHL2011_NIFTI', 'AHL2011_serie_error_polygone_mean_sd', erreur_polygone_mean_sd)"
   ]
  },
  {
   "cell_type": "code",
   "execution_count": null,
   "metadata": {},
   "outputs": [],
   "source": []
  },
  {
   "cell_type": "code",
   "execution_count": null,
   "metadata": {},
   "outputs": [],
   "source": []
  },
  {
   "cell_type": "code",
   "execution_count": null,
   "metadata": {},
   "outputs": [],
   "source": [
    "#CHECKER LE FLIP : AUCUNE SERIE GENERER AVEC LE FLIP "
   ]
  },
  {
   "cell_type": "code",
   "execution_count": 19,
   "metadata": {},
   "outputs": [
    {
     "name": "stdout",
     "output_type": "stream",
     "text": "0\n1\n2\n3\n4\n5\n6\n7\n8\n9\n10\n11\n12\n13\n14\n15\n16\n17\n18\n19\n20\n21\n22\n23\n24\n25\n26\n27\n28\n29\n30\n31\n32\n33\n34\n35\n36\n37\n38\n39\n40\n41\n42\n43\n44\n45\n46\n47\n48\n49\n50\n51\n52\n53\n54\n55\n56\n57\n58\n59\n60\n61\n62\n63\n64\n65\n66\n67\n68\n69\n70\n71\n72\n73\n74\n75\n76\n77\n78\n79\n80\n81\n82\n83\n84\n85\n86\n87\n88\n89\n90\n91\n92\n93\n94\n95\n96\n97\n98\n99\n100\n101\n102\n103\n104\n105\n106\n107\n108\n109\n110\n111\n112\n113\n114\n115\n116\n117\n118\n119\n120\n121\n122\n123\n124\n125\n126\n127\n128\n129\n130\n131\n132\n133\n134\n135\n136\n137\n138\n139\n140\n141\n142\n143\n144\n145\n146\n147\n148\n149\n150\n151\n152\n153\n154\n155\n156\n"
    }
   ],
   "source": [
    "#ON FLIP LE MASK ET ON REGARDE SI LES CALCLS SUV MAX MEAN SD SONT BONS\n",
    "#SI OUI => GENERE NIFTI \n",
    "\n",
    "serie_with_flip = []\n",
    "for serie in serie_error_mask: \n",
    "    print(serie_error_mask.index(serie))\n",
    "    try : \n",
    "        if serie[1] == 'PT' : \n",
    "            serie_pt_objet = SeriesPT(serie[0]) \n",
    "            nifti_array = serie_pt_objet.get_numpy_array()\n",
    "            study_uid = serie_pt_objet.get_series_details()['study']['StudyInstanceUID']\n",
    "            size_matrix = serie_pt_objet.get_size_matrix()\n",
    "            mask_objet = MaskBuilder(os.path.join(csv_directory, serie[4]), size_matrix)\n",
    "            mask_4D = mask_objet.mask_array\n",
    "            if (mask_objet.is_correct_suv(nifti_array, flip = True) == True) : #si mask correct APRES LE FLIP \n",
    "                print(\"MASK CORRECT APRES FLIP\")\n",
    "                #generation nifti PT\n",
    "                filename_pt = study_uid+'_'+'nifti_'+'PT'+'.nii'\n",
    "                serie_pt_objet.export_nifti(os.path.join(nifti_directory, filename_pt))\n",
    "                print(\"EXPORT NIFTI PT\")\n",
    "                #generation nifti CT\n",
    "                serie_ct_objet = SeriesCT(serie[2])\n",
    "                serie_ct_objet.get_numpy_array()\n",
    "                filename_ct = study_uid+'_'+'nifti_'+'CT'+'.nii'\n",
    "                serie_ct_objet.export_nifti(os.path.join(nifti_directory, filename_ct))\n",
    "                print(\"EXPORT NIFTI CT\")\n",
    "                #generation nifti mask\n",
    "                mask_objet.flip_z(mask_4D)\n",
    "                mask_4D_flip = mask_objet.mask_array\n",
    "                filename_mask = study_uid+'_'+'nifti_'+'mask'+'.nii'\n",
    "                serie_pt_objet.export_nifti(os.path.join(nifti_directory, filename_mask), mask_4D_flip)\n",
    "                print(\"EXPORT NIFTI MASK\")\n",
    "                serie_with_flip.append(serie)\n",
    "\n",
    "        else : \n",
    "            serie_pt_objet = SeriesPT(serie[2]) \n",
    "            nifti_array = serie_pt_objet.get_numpy_array()\n",
    "            study_uid = serie_pt_objet.get_series_details()['study']['StudyInstanceUID']\n",
    "            size_matrix = serie_pt_objet.get_size_matrix()\n",
    "            mask_objet = MaskBuilder(os.path.join(csv_directory, serie[4]), size_matrix)\n",
    "            mask_4D = mask_objet.mask_array\n",
    "            if (mask_objet.is_correct_suv(nifti_array, flip = True) == True) : #si mask correct APRES LE FLIP \n",
    "                print(\"MASK CORRECT APRES FLIP\")\n",
    "                #generation nifti PT\n",
    "                filename_pt = study_uid+'_'+'nifti_'+'PT'+'.nii'\n",
    "                serie_pt_objet.export_nifti(os.path.join(nifti_directory, filename_pt))\n",
    "                print(\"EXPORT NIFTI PT\")\n",
    "                #generation nifti CT\n",
    "                serie_ct_objet = SeriesCT(serie[0])\n",
    "                serie_ct_objet.get_numpy_array()\n",
    "                filename_ct = study_uid+'_'+'nifti_'+'CT'+'.nii'\n",
    "                serie_ct_objet.export_nifti(os.path.join(nifti_directory, filename_ct))\n",
    "                print(\"EXPORT NIFTI CT\")\n",
    "                #generation nifti mask\n",
    "                mask_objet.flip_z(mask_4D)\n",
    "                mask_4D_flip = mask_objet.mask_array\n",
    "                filename_mask = study_uid+'_'+'nifti_'+'mask'+'.nii'\n",
    "                serie_pt_objet.export_nifti(os.path.join(nifti_directory, filename_mask), mask_4D_flip)\n",
    "                print(\"EXPORT NIFTI MASK\")\n",
    "                serie_with_flip.append(serie)\n",
    "\n",
    "\n",
    "\n",
    "    except Exception as err : \n",
    "        print(serie)\n",
    "        print(err)"
   ]
  },
  {
   "cell_type": "code",
   "execution_count": 20,
   "metadata": {},
   "outputs": [],
   "source": [
    "#APRES FLIP, REGARDER SI SMALL ERRORS SUR ELLIPSE\n",
    "#SI PAS DE PROBLEMES SUR LES POLYGONES ON PEUT GENERER LE NIFTI "
   ]
  },
  {
   "cell_type": "code",
   "execution_count": 4,
   "metadata": {},
   "outputs": [
    {
     "name": "stdout",
     "output_type": "stream",
     "text": "0\nPROBLEME SUV MAX\n1\nPROBLEME SUV MAX\n2\nPROBLEME SUV MAX\n3\nPROBLEME SUV MAX\n4\nPROBLEME SUV MAX\n5\nPROBLEME SUV MAX\n6\nPROBLEME SUV MAX\n7\nPROBLEME SUV MAX\n8\nPROBLEME SUV MAX\n9\nPROBLEME SUV MAX\n10\nPROBLEME SUV MAX\n11\nPROBLEME SUV MAX\n12\nPROBLEME SUV MAX\n13\nPROBLEME SUV MAX\n14\nPROBLEME SUV MAX\n15\nPROBLEME SUV MAX\n16\nPROBLEME SUV MAX\n17\nPROBLEME SUV MAX\n18\nPROBLEME SUV MAX\n19\nPROBLEME SUV MAX\n20\nPROBLEME SUV MAX\n21\nPROBLEME SUV MAX\n22\nPROBLEME SUV MAX\n23\nPROBLEME SUV MAX\n24\nPROBLEME SUV MAX\n25\nPROBLEME SUV MAX\n26\nPROBLEME SUV MAX\n27\nPROBLEME SUV MAX\n28\nPROBLEME SUV MAX\n29\nPROBLEME SUV MAX\n30\nPROBLEME SUV MAX\n31\nPROBLEME SUV MAX\n32\nPROBLEME SUV MAX\n33\nPROBLEME SUV MAX\n34\nPROBLEME SUV MAX\n35\nPROBLEME SUV MAX\n36\nPROBLEME SUV MAX\n37\nPROBLEME SUV MAX\n38\nPROBLEME SUV MAX\n39\nPROBLEME SUV MAX\n40\nPROBLEME SUV MAX\n41\nPROBLEME SUV MAX\n42\nPROBLEME SUV MAX\n43\nPROBLEME SUV MAX\n44\nPROBLEME SUV MAX\n45\nPROBLEME SUV MAX\n46\nPROBLEME SUV MAX\n47\nPROBLEME SUV MAX\n48\nPROBLEME SUV MAX\n49\nPROBLEME SUV MAX\n50\nPROBLEME SUV MAX\n51\nPROBLEME SUV MAX\n52\nPROBLEME SUV MAX\n53\nPROBLEME SUV MAX\n54\nPROBLEME SUV MAX\n55\nPROBLEME SUV MAX\n56\nPROBLEME SUV MAX\n57\nPROBLEME SUV MAX\n58\nPROBLEME SUV MAX\n59\nPROBLEME SUV MAX\n60\nPROBLEME SUV MAX\n61\nPROBLEME SUV MAX\n62\nPROBLEME SUV MAX\n63\nPROBLEME SUV MAX\n64\nPROBLEME SUV MAX\n65\nPROBLEME SUV MAX\n66\nPROBLEME SUV MAX\n67\nPROBLEME SUV MAX\n68\nPROBLEME SUV MAX\n69\nPROBLEME SUV MAX\n70\nPROBLEME SUV MAX\n71\nPROBLEME SUV MAX\n72\nPROBLEME SUV MAX\n73\nPROBLEME SUV MAX\n74\nPROBLEME SUV MAX\n75\nPROBLEME SUV MAX\n76\nPROBLEME SUV MAX\n77\nPROBLEME SUV MAX\n78\nPROBLEME SUV MAX\n79\nPROBLEME SUV MAX\n80\nPROBLEME SUV MAX\n81\nPROBLEME SUV MAX\n82\nPROBLEME SUV MAX\n83\nPROBLEME SUV MAX\n84\nPROBLEME SUV MAX\n85\nPROBLEME SUV MAX\n86\nPROBLEME SUV MAX\n87\nPROBLEME SUV MAX\n88\nPROBLEME SUV MAX\n89\nPROBLEME SUV MAX\n90\nPROBLEME SUV MAX\n91\nPROBLEME SUV MAX\n92\nPROBLEME SUV MAX\n93\nPROBLEME SUV MAX\n94\nPROBLEME SUV MAX\n95\nPROBLEME SUV MAX\n96\nPROBLEME SUV MAX\n97\nPROBLEME SUV MAX\n98\nPROBLEME SUV MAX\n99\nPROBLEME SUV MAX\n100\nPROBLEME SUV MAX\n101\nPROBLEME SUV MAX\n102\nPROBLEME SUV MAX\n103\nPROBLEME SUV MAX\n104\nPROBLEME SUV MAX\n105\nPROBLEME SUV MAX\n106\nPROBLEME SUV MAX\n107\nPROBLEME SUV MAX\n108\nPROBLEME SUV MAX\n109\nPROBLEME SUV MAX\n110\nPROBLEME SUV MAX\n111\nPROBLEME SUV MAX\n112\nPROBLEME SUV MAX\n113\nPROBLEME SUV MAX\n114\nPROBLEME SUV MAX\n115\nPROBLEME SUV MAX\n116\nPROBLEME SUV MAX\n117\nPROBLEME SUV MAX\n118\nPROBLEME SUV MAX\n119\nPROBLEME SUV MAX\n120\nPROBLEME SUV MAX\n121\nPROBLEME SUV MAX\n122\nPROBLEME SUV MAX\n123\nPROBLEME SUV MAX\n124\nPROBLEME SUV MAX\n125\nPROBLEME SUV MAX\n126\nPROBLEME SUV MAX\n127\nPROBLEME SUV MAX\n128\nPROBLEME SUV MAX\n129\nPROBLEME SUV MAX\n130\nPROBLEME SUV MAX\n131\nPROBLEME SUV MAX\n132\nPROBLEME SUV MAX\n133\nPROBLEME SUV MAX\n134\nPROBLEME SUV MAX\n135\nPROBLEME SUV MAX\n136\nPROBLEME SUV MAX\n137\nPROBLEME SUV MAX\n138\nPROBLEME SUV MAX\n139\nPROBLEME SUV MAX\n140\nPROBLEME SUV MAX\n141\nPROBLEME SUV MAX\n142\nPROBLEME SUV MAX\n143\nPROBLEME SUV MAX\n144\nPROBLEME SUV MAX\n145\nPROBLEME SUV MAX\n146\nPROBLEME SUV MAX\n147\nPROBLEME SUV MAX\n148\nPROBLEME SUV MAX\n149\nPROBLEME SUV MAX\n150\nPROBLEME SUV MAX\n151\nPROBLEME SUV MAX\n152\nPROBLEME SUV MAX\n153\nPROBLEME SUV MAX\n154\nPROBLEME SUV MAX\n155\nPROBLEME SUV MAX\n156\nPROBLEME SUV MAX\n"
    }
   ],
   "source": [
    "#MASK AVEC FLIP FAUX : \n",
    "serie_problem = []\n",
    "\n",
    "for serie in serie_error_mask: \n",
    "    print(serie_error_mask.index(serie))\n",
    "    try : \n",
    "        if serie[1] == 'PT' : \n",
    "            serie_pt_objet = SeriesPT(serie[0]) \n",
    "            nifti_array = serie_pt_objet.get_numpy_array()\n",
    "            study_uid = serie_pt_objet.get_series_details()['study']['StudyInstanceUID']\n",
    "            size_matrix = serie_pt_objet.get_size_matrix()\n",
    "            mask_objet = MaskBuilder(os.path.join(csv_directory, serie[4]), size_matrix)\n",
    "            mask_4D = mask_objet.mask_array\n",
    "            if 'POLYGON' in mask_objet.ecart_suv_max(nifti_array, flip = True) :\n",
    "                print(\"PROBLEME SUV MAX POLYGON\")\n",
    "                serie_problem.append(serie)\n",
    "            else : \n",
    "                result_mean = mask_objet.ecart_suv_mean(nifti_array, flip = True)\n",
    "                result_sd = mask_objet.ecart_SD(nifti_array, flip = True)\n",
    "                if (('POLYGON' not in result_mean) and ('POLYGON' not in result_sd)) : \n",
    "                    #si erreur sur les sd et mean QUE sur les ellipses, on tolère \n",
    "                    print(\"SMALL ERRORS ON ELLIPSE AFTER FLIP, MASK CORRECT\")\n",
    "                    #generation nifti PT\n",
    "                    filename_pt = study_uid+'_'+'nifti_'+'PT'+'.nii'\n",
    "                    serie_pt_objet.export_nifti(os.path.join(nifti_directory, filename_pt))\n",
    "                    print(\"EXPORT NIFTI PT\")\n",
    "                    #generation nifti CT\n",
    "                    serie_ct_objet = SeriesCT(serie[2])\n",
    "                    serie_ct_objet.get_numpy_array()\n",
    "                    filename_ct = study_uid+'_'+'nifti_'+'CT'+'.nii'\n",
    "                    serie_ct_objet.export_nifti(os.path.join(nifti_directory, filename_ct))\n",
    "                    print(\"EXPORT NIFTI CT\")\n",
    "                    #generation nifti mask\n",
    "                    mask_objet.flip_z(mask_4D)\n",
    "                    mask_4D_flip = mask_objet.mask_array\n",
    "                    filename_mask = study_uid+'_'+'nifti_'+'mask'+'.nii'\n",
    "                    serie_pt_objet.export_nifti(os.path.join(nifti_directory, filename_mask), mask_4D_flip)\n",
    "                    print(\"EXPORT NIFTI MASK\")\n",
    "                else : #sinon problème sur lles polygones\n",
    "                    serie_problem.append(serie)\n",
    "\n",
    "\n",
    "\n",
    "\n",
    "\n",
    "        else : \n",
    "            serie_pt_objet = SeriesPT(serie[2]) \n",
    "            nifti_array = serie_pt_objet.get_numpy_array()\n",
    "            study_uid = serie_pt_objet.get_series_details()['study']['StudyInstanceUID']\n",
    "            size_matrix = serie_pt_objet.get_size_matrix()\n",
    "            mask_objet = MaskBuilder(os.path.join(csv_directory, serie[4]), size_matrix)\n",
    "            mask_4D = mask_objet.mask_array\n",
    "            if 'POLYGON' in mask_objet.ecart_suv_max(nifti_array, flip = True) :\n",
    "                print(\"PROBLEME SUV MAX POLYGONE\")\n",
    "                serie_problem.append(serie)\n",
    "            else : \n",
    "                result_mean = mask_objet.ecart_suv_mean(nifti_array, flip = True)\n",
    "                result_sd = mask_objet.ecart_SD(nifti_array, flip = True)\n",
    "                if (('POLYGON' not in result_mean) and ('POLYGON' not in result_sd)) : \n",
    "                    #si erreur sur les sd et mean QUE sur les ellipses, on tolère \n",
    "                    print(\"SMALL ERRORS ON ELLIPSE AFTER FLIP, MASK CORRECT\")\n",
    "                    #generation nifti PT\n",
    "                    filename_pt = study_uid+'_'+'nifti_'+'PT'+'.nii'\n",
    "                    serie_pt_objet.export_nifti(os.path.join(nifti_directory, filename_pt))\n",
    "                    print(\"EXPORT NIFTI PT\")\n",
    "                    #generation nifti CT\n",
    "                    serie_ct_objet = SeriesCT(serie[0])\n",
    "                    serie_ct_objet.get_numpy_array()\n",
    "                    filename_ct = study_uid+'_'+'nifti_'+'CT'+'.nii'\n",
    "                    serie_ct_objet.export_nifti(os.path.join(nifti_directory, filename_ct))\n",
    "                    print(\"EXPORT NIFTI CT\")\n",
    "                    #generation nifti mask\n",
    "                    mask_objet.flip_z(mask_4D)\n",
    "                    mask_4D_flip = mask_objet.mask_array\n",
    "                    filename_mask = study_uid+'_'+'nifti_'+'mask'+'.nii'\n",
    "                    serie_pt_objet.export_nifti(os.path.join(nifti_directory, filename_mask), mask_4D_flip)\n",
    "                    print(\"EXPORT NIFTI MASK\")\n",
    "                else : #sinon problème sur les polygones\n",
    "                    serie_problem.append(serie)\n",
    "            \n",
    "\n",
    "    except Exception as err : \n",
    "        print(serie)\n",
    "        print(err)"
   ]
  },
  {
   "cell_type": "code",
   "execution_count": null,
   "metadata": {},
   "outputs": [],
   "source": [
    "#GENERER MIP DES MASK FAUX"
   ]
  },
  {
   "cell_type": "code",
   "execution_count": 4,
   "metadata": {},
   "outputs": [
    {
     "name": "stdout",
     "output_type": "stream",
     "text": "95\n"
    }
   ],
   "source": [
    "#SERIE WITH ERROR SUV MAX POLYGONE\n",
    "json_path = '/media/salim/DD 2To/AHL2011_MIP/AHL2011_false_mask.json'\n",
    "false_mask = []\n",
    "with open(json_path) as json_file : \n",
    "    reader = json.load(json_file)\n",
    "    for info in reader :\n",
    "        false_mask.append(info)\n",
    "\n",
    "print(len(false_mask))"
   ]
  },
  {
   "cell_type": "code",
   "execution_count": null,
   "metadata": {},
   "outputs": [],
   "source": [
    "#RAJOUTER METHODE POUR SEUIL DES MASKS\n",
    "#1 RECUPERER LIST POINTS APRES LE MASK (METTRE EN PARAMETRE LA LISTE DES POINTS DANS MA FONCTION)\n",
    "# ET RECUPERER LE SEUIL\n",
    "# 2 REGARDER DANS LE NIFTI A CES POINTS SI LA VALEUR DU SUV DEPASSE LE SEUIL*NP MAX OU SEUIL\n",
    "# 3 SI VALEUR PLUS PETITE QUE LE SEUIL, ON MET 0 DANS LE MASK AUX COORDONNEES DE LA ROI\n",
    "#RETURN 4D MASK SEUILLE"
   ]
  },
  {
   "cell_type": "code",
   "execution_count": 7,
   "metadata": {},
   "outputs": [
    {
     "name": "stdout",
     "output_type": "stream",
     "text": "0\ntaille mask :  (128, 128, 313, 10)\n1\ntaille mask :  (128, 128, 275, 16)\n2\ntaille mask :  (128, 128, 275, 5)\n3\ntaille mask :  (128, 128, 275, 30)\n4\ntaille mask :  (128, 128, 275, 20)\n5\ntaille mask :  (128, 128, 287, 46)\n6\ntaille mask :  (128, 128, 287, 15)\n7\ntaille mask :  (168, 168, 405, 70)\n8\ntaille mask :  (168, 168, 479, 38)\n9\ntaille mask :  (200, 200, 481, 21)\n10\ntaille mask :  (168, 168, 390, 6)\n11\ntaille mask :  (200, 200, 481, 19)\n12\ntaille mask :  (200, 200, 481, 5)\n13\ntaille mask :  (192, 192, 299, 12)\n14\ntaille mask :  (256, 256, 335, 13)\n15\ntaille mask :  (256, 256, 299, 13)\n16\ntaille mask :  (256, 256, 299, 27)\n17\ntaille mask :  (256, 256, 299, 8)\n18\ntaille mask :  (256, 256, 335, 16)\n19\ntaille mask :  (256, 256, 335, 10)\n20\ntaille mask :  (192, 192, 299, 8)\n21\ntaille mask :  (256, 256, 299, 20)\n22\ntaille mask :  (256, 256, 299, 18)\n23\ntaille mask :  (256, 256, 335, 13)\n24\ntaille mask :  (256, 256, 299, 24)\n25\ntaille mask :  (256, 256, 299, 11)\n26\ntaille mask :  (256, 256, 299, 7)\n27\ntaille mask :  (256, 256, 335, 18)\n28\ntaille mask :  (256, 256, 299, 23)\n29\ntaille mask :  (256, 256, 335, 18)\n30\ntaille mask :  (256, 256, 299, 19)\n31\ntaille mask :  (128, 128, 287, 22)\n32\ntaille mask :  (128, 128, 327, 3)\n33\ntaille mask :  (128, 128, 327, 22)\n34\ntaille mask :  (128, 128, 327, 17)\n35\ntaille mask :  (128, 128, 327, 9)\n36\ntaille mask :  (128, 128, 327, 12)\n37\ntaille mask :  (168, 168, 390, 39)\n38\ntaille mask :  (168, 168, 344, 27)\n39\ntaille mask :  (168, 168, 479, 3)\n40\ntaille mask :  (128, 128, 263, 13)\n41\ntaille mask :  (128, 128, 263, 16)\n42\ntaille mask :  (128, 128, 299, 12)\n43\ntaille mask :  (128, 128, 263, 19)\n44\ntaille mask :  (128, 128, 263, 13)\n45\ntaille mask :  (128, 128, 263, 28)\n46\ntaille mask :  (128, 128, 263, 28)\n47\ntaille mask :  (168, 168, 487, 60)\n48\ntaille mask :  (256, 256, 263, 30)\n49\ntaille mask :  (256, 256, 227, 16)\n50\ntaille mask :  (128, 128, 297, 23)\n51\ntaille mask :  (256, 256, 335, 11)\n52\ntaille mask :  (128, 128, 275, 7)\n53\ntaille mask :  (128, 128, 275, 8)\n54\ntaille mask :  (128, 128, 313, 15)\n55\ntaille mask :  (128, 128, 313, 23)\n56\ntaille mask :  (200, 200, 221, 21)\n57\ntaille mask :  (200, 200, 481, 8)\n58\ntaille mask :  (200, 200, 543, 10)\n59\ntaille mask :  (200, 200, 481, 6)\n60\ntaille mask :  (200, 200, 543, 5)\n61\ntaille mask :  (200, 200, 481, 6)\n62\ntaille mask :  (128, 128, 299, 18)\n63\ntaille mask :  (128, 128, 335, 19)\n64\ntaille mask :  (168, 168, 405, 118)\n65\ntaille mask :  (128, 128, 299, 30)\n66\ntaille mask :  (256, 256, 263, 13)\n67\ntaille mask :  (144, 144, 213, 19)\n68\ntaille mask :  (144, 144, 213, 19)\n69\ntaille mask :  (144, 144, 234, 1)\n70\ntaille mask :  (144, 144, 213, 40)\n71\ntaille mask :  (144, 144, 234, 15)\n72\ntaille mask :  (144, 144, 234, 12)\n73\ntaille mask :  (169, 169, 255, 18)\n74\ntaille mask :  (169, 169, 255, 42)\n75\ntaille mask :  (144, 144, 255, 14)\n76\ntaille mask :  (144, 144, 276, 8)\n77\ntaille mask :  (144, 144, 255, 11)\n78\ntaille mask :  (169, 169, 255, 4)\n79\ntaille mask :  (144, 144, 234, 26)\n80\ntaille mask :  (169, 169, 255, 23)\n81\ntaille mask :  (144, 144, 213, 15)\n82\ntaille mask :  (169, 169, 234, 4)\n83\ntaille mask :  (144, 144, 297, 15)\n84\ntaille mask :  (144, 144, 297, 26)\n85\ntaille mask :  (144, 144, 297, 37)\n86\ntaille mask :  (144, 144, 276, 10)\n87\ntaille mask :  (144, 144, 339, 39)\n88\ntaille mask :  (144, 144, 276, 9)\n89\ntaille mask :  (144, 144, 297, 118)\n90\ntaille mask :  (144, 144, 317, 4)\n91\ntaille mask :  (144, 144, 297, 22)\n92\ntaille mask :  (144, 144, 297, 17)\n93\ntaille mask :  (144, 144, 234, 29)\n94\ntaille mask :  (144, 144, 297, 7)\n"
    }
   ],
   "source": [
    "#GENERATE PDF WITH MIP ANGLE 0 OF PET AND MASK FOR EVERY SERIE\n",
    "\n",
    "from library_dicom.dicom_processor.tools.create_mip import *\n",
    "from library_dicom.dicom_processor.tools.threshold_mask import *\n",
    "mip_directory = '/media/salim/DD 2To/AHL2011_MIP'\n",
    "\n",
    "\n",
    "\n",
    "path_mip = []\n",
    "for serie in false_mask : \n",
    "    index = false_mask.index(serie)\n",
    "    print(index)\n",
    "    subliste = []\n",
    "    if serie[1] =='PT' :\n",
    "        serie_pt_objet = SeriesPT(serie[0])\n",
    "        study_uid = serie_pt_objet.get_series_details()['study']['StudyInstanceUID']\n",
    "        nifti_array = serie_pt_objet.get_numpy_array()\n",
    "        angle_filename = mip_projection(nifti_array, 0, mip_directory, study_uid, borne_max = 5.0)             #mip.png PET\n",
    "        subliste.append(angle_filename)\n",
    "\n",
    "        size_matrix = serie_pt_objet.get_size_matrix()\n",
    "        mask_objet = MaskBuilder(os.path.join(csv_directory, serie[4]), size_matrix)\n",
    "        mask_4D = mask_objet.mask_array\n",
    "        number_roi = mask_4D.shape[3]\n",
    "        threshold = mask_objet.details_rois['SUVlo']\n",
    "        #seuillage\n",
    "        mask_4D = threshold_mask(mask_4D, mask_objet.details_rois, nifti_array,  flip = False)\n",
    "        angle_filename_mask = mip_projection_4D(mask_4D, 0, mip_directory, study_uid, number_roi, borne_max = 5.0)\n",
    "        #mip.png MASK\n",
    "        subliste.append(angle_filename_mask)\n",
    "\n",
    "        path_mip.append(subliste)\n",
    "\n",
    "\n",
    "    else : \n",
    "        serie_pt_objet = SeriesPT(serie[2])\n",
    "        study_uid = serie_pt_objet.get_series_details()['study']['StudyInstanceUID']\n",
    "        nifti_array = serie_pt_objet.get_numpy_array()\n",
    "        angle_filename = mip_projection(nifti_array, 0, mip_directory, study_uid, borne_max = 5.0) \n",
    "        #mip.png PET\n",
    "        subliste.append(angle_filename)\n",
    "        size_matrix = serie_pt_objet.get_size_matrix()\n",
    "        mask_objet = MaskBuilder(os.path.join(csv_directory, serie[4]), size_matrix)\n",
    "        mask_4D = mask_objet.mask_array\n",
    "        number_roi = mask_4D.shape[3]\n",
    "        threshold = mask_objet.details_rois['SUVlo']\n",
    "        #seuillage\n",
    "        mask_4D = threshold_mask(mask_4D, mask_objet.details_rois, nifti_array, flip = False)\n",
    "        angle_filename_mask = mip_projection_4D(mask_4D, 0, mip_directory, study_uid, number_roi, borne_max = 5.0)\n",
    "        #mip.png MASK\n",
    "        subliste.append(angle_filename_mask)\n",
    "\n",
    "        path_mip.append(subliste)\n",
    "\n"
   ]
  },
  {
   "cell_type": "code",
   "execution_count": 8,
   "metadata": {},
   "outputs": [
    {
     "name": "stdout",
     "output_type": "stream",
     "text": "95\n"
    }
   ],
   "source": [
    "print(len(path_mip))\n",
    "write_json_file('/media/salim/DD 2To/AHL2011_MIP', 'AHL2011_list_mip', path_mip)"
   ]
  },
  {
   "cell_type": "code",
   "execution_count": 9,
   "metadata": {},
   "outputs": [],
   "source": [
    "#create pdf \n",
    "\n",
    "mip_directory = '/media/salim/DD 2To/AHL2011_MIP'\n",
    "filename = os.path.join(mip_directory, 'list_mip.pdf')\n",
    "create_pdf_mip(path_mip, filename)"
   ]
  },
  {
   "cell_type": "code",
   "execution_count": null,
   "metadata": {},
   "outputs": [],
   "source": [
    "#GENERER MIP DES SERIES AVEC ERREURS SUR SUV MEAN  SD \n"
   ]
  },
  {
   "cell_type": "code",
   "execution_count": 11,
   "metadata": {},
   "outputs": [
    {
     "name": "stdout",
     "output_type": "stream",
     "text": "3\n"
    }
   ],
   "source": [
    "json_path = '/media/salim/DD 2To/AHL2011_NIFTI/json/AHL2011_serie_error_polygone_mean_sd.json'\n",
    "error_mean = []\n",
    "with open(json_path) as json_file : \n",
    "    reader = json.load(json_file)\n",
    "    for info in reader :\n",
    "        error_mean.append(info)\n",
    "\n",
    "print(len(error_mean))"
   ]
  },
  {
   "cell_type": "code",
   "execution_count": 12,
   "metadata": {},
   "outputs": [
    {
     "name": "stdout",
     "output_type": "stream",
     "text": "0\nMASK CORRECT\nEXPORT NIFTI PT\nEXPORT NIFTI CT\nEXPORT NIFTI MASK\n1\nMASK CORRECT\nEXPORT NIFTI PT\nEXPORT NIFTI CT\nEXPORT NIFTI MASK\n2\nMASK CORRECT\nEXPORT NIFTI PT\nEXPORT NIFTI CT\nEXPORT NIFTI MASK\n"
    }
   ],
   "source": [
    "for serie in error_mean : \n",
    "    print(error_mean.index(serie))\n",
    "    try : \n",
    "        if serie[1] == 'PT' : \n",
    "            serie_pt_objet = SeriesPT(serie[0]) \n",
    "            nifti_array = serie_pt_objet.get_numpy_array()\n",
    "            study_uid = serie_pt_objet.get_series_details()['study']['StudyInstanceUID']\n",
    "            size_matrix = serie_pt_objet.get_size_matrix()\n",
    "            mask_objet = MaskBuilder(os.path.join(csv_directory, serie[4]), size_matrix)\n",
    "            mask_4D = mask_objet.mask_array\n",
    "\n",
    "                    #si erreur sur les sd et mean QUE sur les ellipses, on tolère \n",
    "            print(\"MASK CORRECT\")\n",
    "                    #generation nifti PT\n",
    "            filename_pt = study_uid+'_'+'nifti_'+'PT'+'.nii'\n",
    "            serie_pt_objet.export_nifti(os.path.join(nifti_directory, filename_pt))\n",
    "            print(\"EXPORT NIFTI PT\")\n",
    "                    #generation nifti CT\n",
    "            serie_ct_objet = SeriesCT(serie[2])\n",
    "            serie_ct_objet.get_numpy_array()\n",
    "            filename_ct = study_uid+'_'+'nifti_'+'CT'+'.nii'\n",
    "            serie_ct_objet.export_nifti(os.path.join(nifti_directory, filename_ct))\n",
    "            print(\"EXPORT NIFTI CT\")\n",
    "                    #generation nifti mask\n",
    "            filename_mask = study_uid+'_'+'nifti_'+'mask'+'.nii'\n",
    "            serie_pt_objet.export_nifti(os.path.join(nifti_directory, filename_mask), mask_4D)\n",
    "            print(\"EXPORT NIFTI MASK\")\n",
    "\n",
    "\n",
    "        else : \n",
    "            serie_pt_objet = SeriesPT(serie[2]) \n",
    "            nifti_array = serie_pt_objet.get_numpy_array()\n",
    "            study_uid = serie_pt_objet.get_series_details()['study']['StudyInstanceUID']\n",
    "            size_matrix = serie_pt_objet.get_size_matrix()\n",
    "            mask_objet = MaskBuilder(os.path.join(csv_directory, serie[4]), size_matrix)\n",
    "            mask_4D = mask_objet.mask_array\n",
    "            print(\"MASK CORRECT\")\n",
    "                    #generation nifti PT\n",
    "            filename_pt = study_uid+'_'+'nifti_'+'PT'+'.nii'\n",
    "            serie_pt_objet.export_nifti(os.path.join(nifti_directory, filename_pt))\n",
    "            print(\"EXPORT NIFTI PT\")\n",
    "                    #generation nifti CT\n",
    "            serie_ct_objet = SeriesCT(serie[0])\n",
    "            serie_ct_objet.get_numpy_array()\n",
    "            filename_ct = study_uid+'_'+'nifti_'+'CT'+'.nii'\n",
    "            serie_ct_objet.export_nifti(os.path.join(nifti_directory, filename_ct))\n",
    "            print(\"EXPORT NIFTI CT\")\n",
    "                    #generation nifti mask\n",
    "            filename_mask = study_uid+'_'+'nifti_'+'mask'+'.nii'\n",
    "            serie_pt_objet.export_nifti(os.path.join(nifti_directory, filename_mask), mask_4D)\n",
    "            print(\"EXPORT NIFTI MASK\")\n",
    " \n",
    "\n",
    "    except Exception as err : \n",
    "        print(serie)\n",
    "        print(err)"
   ]
  },
  {
   "cell_type": "code",
   "execution_count": null,
   "metadata": {},
   "outputs": [],
   "source": [
    "#GENERER MIP MASK CORONAL "
   ]
  },
  {
   "cell_type": "code",
   "execution_count": 3,
   "metadata": {},
   "outputs": [
    {
     "name": "stdout",
     "output_type": "stream",
     "text": "15\n"
    }
   ],
   "source": [
    "json_path = '/media/salim/DD 2To/AHL2011_MIP_FLIP/AHL2011_list_coronal.json'\n",
    "list_coronal= []\n",
    "with open(json_path) as json_file : \n",
    "    reader = json.load(json_file)\n",
    "    for info in reader :\n",
    "        list_coronal.append(info)\n",
    "\n",
    "print(len(list_coronal))"
   ]
  },
  {
   "cell_type": "code",
   "execution_count": 4,
   "metadata": {},
   "outputs": [
    {
     "name": "stdout",
     "output_type": "stream",
     "text": "['/media/salim/DD 2To/AHL2011_Validated_DICOMS/13011101021024/1.2.250.1.59.470.940100027.1.20140110123209.2625.18891/1.2.840.113704.1.111.5356.1389356368.8/1.2.840.113704.1.111.5356.1389356368.8', 'CT', '/media/salim/DD 2To/AHL2011_Validated_DICOMS/13011101021024/1.2.250.1.59.470.940100027.1.20140110123209.2625.18891/1.3.46.670589.28.2.10.48.18554.65512.2.408.0.1389358191/1.3.46.670589.28.2.10.48.18554.65512.2.408.0.1389358191', 'PT', 'dja_fa_jan 10_2014-abr.csv']\n"
    }
   ],
   "source": [
    "serie = list_coronal[0]\n",
    "print(serie)"
   ]
  },
  {
   "cell_type": "code",
   "execution_count": 5,
   "metadata": {},
   "outputs": [
    {
     "name": "stdout",
     "output_type": "stream",
     "text": "(144, 144, 234, 21)\n"
    },
    {
     "data": {
      "image/png": "[encoded data removed]",
      "image/svg+xml": "<?xml version=\"1.0\" encoding=\"utf-8\" standalone=\"no\"?>\n<!DOCTYPE svg PUBLIC \"-//W3C//DTD SVG 1.1//EN\"\n  \"http://www.w3.org/Graphics/SVG/1.1/DTD/svg11.dtd\">\n<!-- Created with matplotlib (https://matplotlib.org/) -->\n<svg height=\"251.562344pt\" version=\"1.1\" viewBox=\"0 0 257.9275 251.562344\" width=\"257.9275pt\" xmlns=\"http://www.w3.org/2000/svg\" xmlns:xlink=\"http://www.w3.org/1999/xlink\">\n <defs>\n  <style type=\"text/css\">\n*{stroke-linecap:butt;stroke-linejoin:round;}\n  </style>\n </defs>\n <g id=\"figure_1\">\n  <g id=\"patch_1\">\n   <path d=\"M 0 251.562344 \nL 257.9275 251.562344 \nL 257.9275 0 \nL 0 0 \nz\n\" style=\"fill:none;\"/>\n  </g>\n  <g id=\"axes_1\">\n   <g id=\"patch_2\">\n    <path d=\"M 33.2875 227.684219 \nL 250.7275 227.684219 \nL 250.7275 10.244219 \nL 33.2875 10.244219 \nz\n\" style=\"fill:#ffffff;\"/>\n   </g>\n   <g clip-path=\"url(#pc6adb28fdd)\">\n    <image height=\"218\" id=\"image7c32c6009e\" transform=\"scale(1 -1)translate(0 -218)\" width=\"218\" x=\"33.2875\" xlink:href=\"data:image/png;base64,\niVBORw0KGgoAAAANSUhEUgAAANoAAADaCAYAAADAHVzbAAAABHNCSVQICAgIfAhkiAAAAwFJREFUeJzt3LFtFFEYRtE3ZqWVCQhxAUhugcShM6fugBpohUJIXAQRCQVYkGE5sSUHY4YeVuu7wTsn/6UvuZqZZJbr5XYbwJs6O/UAmIHQICA0CAgNAkKDgNAgIDQICA0CQoOA0CAgNAgIDQJCg4DQICA0CAgNAkKDgNAgIDQICA0CQoOA0CAgNAgIDQJCg4DQICA0CAgNAkKDgNAgIDQICA0CQoOA0CAgNAgIDQJCg4DQICA0CAgNAkKDgNAgIDQICA0CQoOA0CAgNAgIDQJCg4DQICA0CAgNAkKDgNAgIDQICA0CQoOA0CAgNAgIDQJCg4DQICA0CAgNAkKDgNAgIDQICA0CQoOA0CAgNAgIDQJCg4DQILA79QAa7y4/jYfPHw+6Pf+7jv3djyMvmovQJvHn5mL8/PrtoNsv91fj992RB03GqyMEhAYBoUFAaBAQGgSEBgGhQUBoEBAaBIQGAaFBQGgQEBoEhAYBoUFAaBAQGgSEBgGhQUBoEBAaBIQGAb+bm8TueRvfn98fdPvr8WJ8GE9HXjSX5Xq53U49gre37HZj2e8PO359Hf9eXo47aDKeaJPY1nVs63rqGdPyjQYBoUFAaBAQGgSEBgGhQUBoEBAaBIQGAaFBQGgQEBoEhAYBoUFAaBAQGgSEBgGhQUBoEBAaBIQGAaFBQGgQEBoEhAYBoUFAaBAQGgSEBgGhQUBoEBAaBIQGAaFBQGgQEBoEhAYBoUFAaBAQGgSEBgGhQUBoEBAaBIQGAaFBQGgQEBoEhAYBoUFAaBAQGgSEBgGhQUBoEBAaBIQGAaFBQGgQEBoEhAYBoUFAaBAQGgSEBgGhQUBoEBAaBIQGAaFBQGgQEBoEhAYBoUFAaBAQGgSEBgGhQUBoEBAaBIQGAaFBQGgQEBoEhAYBoUFAaBAQGgSEBgGhQUBoEBAaBIQGAaFBQGgQEBoEhAYBoUFAaBAQGgSEBgGhQUBoEBAaBIQGAaFBQGgQEBoEhAYBoUFAaBAQGgSEBgGhQUBoEBAaBP4D2dchn1WyaH4AAAAASUVORK5CYII=\" y=\"-9.684219\"/>\n   </g>\n   <g id=\"matplotlib.axis_1\">\n    <g id=\"xtick_1\">\n     <g id=\"line2d_1\">\n      <defs>\n       <path d=\"M 0 0 \nL 0 3.5 \n\" id=\"m73da642490\" style=\"stroke:#000000;stroke-width:0.8;\"/>\n      </defs>\n      <g>\n       <use style=\"stroke:#000000;stroke-width:0.8;\" x=\"34.0425\" xlink:href=\"#m73da642490\" y=\"227.684219\"/>\n      </g>\n     </g>\n     <g id=\"text_1\">\n      <!-- 0 -->\n      <defs>\n       <path d=\"M 31.78125 66.40625 \nQ 24.171875 66.40625 20.328125 58.90625 \nQ 16.5 51.421875 16.5 36.375 \nQ 16.5 21.390625 20.328125 13.890625 \nQ 24.171875 6.390625 31.78125 6.390625 \nQ 39.453125 6.390625 43.28125 13.890625 \nQ 47.125 21.390625 47.125 36.375 \nQ 47.125 51.421875 43.28125 58.90625 \nQ 39.453125 66.40625 31.78125 66.40625 \nz\nM 31.78125 74.21875 \nQ 44.046875 74.21875 50.515625 64.515625 \nQ 56.984375 54.828125 56.984375 36.375 \nQ 56.984375 17.96875 50.515625 8.265625 \nQ 44.046875 -1.421875 31.78125 -1.421875 \nQ 19.53125 -1.421875 13.0625 8.265625 \nQ 6.59375 17.96875 6.59375 36.375 \nQ 6.59375 54.828125 13.0625 64.515625 \nQ 19.53125 74.21875 31.78125 74.21875 \nz\n\" id=\"DejaVuSans-48\"/>\n      </defs>\n      <g transform=\"translate(30.86125 242.282656)scale(0.1 -0.1)\">\n       <use xlink:href=\"#DejaVuSans-48\"/>\n      </g>\n     </g>\n    </g>\n    <g id=\"xtick_2\">\n     <g id=\"line2d_2\">\n      <g>\n       <use style=\"stroke:#000000;stroke-width:0.8;\" x=\"71.7925\" xlink:href=\"#m73da642490\" y=\"227.684219\"/>\n      </g>\n     </g>\n     <g id=\"text_2\">\n      <!-- 25 -->\n      <defs>\n       <path d=\"M 19.1875 8.296875 \nL 53.609375 8.296875 \nL 53.609375 0 \nL 7.328125 0 \nL 7.328125 8.296875 \nQ 12.9375 14.109375 22.625 23.890625 \nQ 32.328125 33.6875 34.8125 36.53125 \nQ 39.546875 41.84375 41.421875 45.53125 \nQ 43.3125 49.21875 43.3125 52.78125 \nQ 43.3125 58.59375 39.234375 62.25 \nQ 35.15625 65.921875 28.609375 65.921875 \nQ 23.96875 65.921875 18.8125 64.3125 \nQ 13.671875 62.703125 7.8125 59.421875 \nL 7.8125 69.390625 \nQ 13.765625 71.78125 18.9375 73 \nQ 24.125 74.21875 28.421875 74.21875 \nQ 39.75 74.21875 46.484375 68.546875 \nQ 53.21875 62.890625 53.21875 53.421875 \nQ 53.21875 48.921875 51.53125 44.890625 \nQ 49.859375 40.875 45.40625 35.40625 \nQ 44.1875 33.984375 37.640625 27.21875 \nQ 31.109375 20.453125 19.1875 8.296875 \nz\n\" id=\"DejaVuSans-50\"/>\n       <path d=\"M 10.796875 72.90625 \nL 49.515625 72.90625 \nL 49.515625 64.59375 \nL 19.828125 64.59375 \nL 19.828125 46.734375 \nQ 21.96875 47.46875 24.109375 47.828125 \nQ 26.265625 48.1875 28.421875 48.1875 \nQ 40.625 48.1875 47.75 41.5 \nQ 54.890625 34.8125 54.890625 23.390625 \nQ 54.890625 11.625 47.5625 5.09375 \nQ 40.234375 -1.421875 26.90625 -1.421875 \nQ 22.3125 -1.421875 17.546875 -0.640625 \nQ 12.796875 0.140625 7.71875 1.703125 \nL 7.71875 11.625 \nQ 12.109375 9.234375 16.796875 8.0625 \nQ 21.484375 6.890625 26.703125 6.890625 \nQ 35.15625 6.890625 40.078125 11.328125 \nQ 45.015625 15.765625 45.015625 23.390625 \nQ 45.015625 31 40.078125 35.4375 \nQ 35.15625 39.890625 26.703125 39.890625 \nQ 22.75 39.890625 18.8125 39.015625 \nQ 14.890625 38.140625 10.796875 36.28125 \nz\n\" id=\"DejaVuSans-53\"/>\n      </defs>\n      <g transform=\"translate(65.43 242.282656)scale(0.1 -0.1)\">\n       <use xlink:href=\"#DejaVuSans-50\"/>\n       <use x=\"63.623047\" xlink:href=\"#DejaVuSans-53\"/>\n      </g>\n     </g>\n    </g>\n    <g id=\"xtick_3\">\n     <g id=\"line2d_3\">\n      <g>\n       <use style=\"stroke:#000000;stroke-width:0.8;\" x=\"109.5425\" xlink:href=\"#m73da642490\" y=\"227.684219\"/>\n      </g>\n     </g>\n     <g id=\"text_3\">\n      <!-- 50 -->\n      <g transform=\"translate(103.18 242.282656)scale(0.1 -0.1)\">\n       <use xlink:href=\"#DejaVuSans-53\"/>\n       <use x=\"63.623047\" xlink:href=\"#DejaVuSans-48\"/>\n      </g>\n     </g>\n    </g>\n    <g id=\"xtick_4\">\n     <g id=\"line2d_4\">\n      <g>\n       <use style=\"stroke:#000000;stroke-width:0.8;\" x=\"147.2925\" xlink:href=\"#m73da642490\" y=\"227.684219\"/>\n      </g>\n     </g>\n     <g id=\"text_4\">\n      <!-- 75 -->\n      <defs>\n       <path d=\"M 8.203125 72.90625 \nL 55.078125 72.90625 \nL 55.078125 68.703125 \nL 28.609375 0 \nL 18.3125 0 \nL 43.21875 64.59375 \nL 8.203125 64.59375 \nz\n\" id=\"DejaVuSans-55\"/>\n      </defs>\n      <g transform=\"translate(140.93 242.282656)scale(0.1 -0.1)\">\n       <use xlink:href=\"#DejaVuSans-55\"/>\n       <use x=\"63.623047\" xlink:href=\"#DejaVuSans-53\"/>\n      </g>\n     </g>\n    </g>\n    <g id=\"xtick_5\">\n     <g id=\"line2d_5\">\n      <g>\n       <use style=\"stroke:#000000;stroke-width:0.8;\" x=\"185.0425\" xlink:href=\"#m73da642490\" y=\"227.684219\"/>\n      </g>\n     </g>\n     <g id=\"text_5\">\n      <!-- 100 -->\n      <defs>\n       <path d=\"M 12.40625 8.296875 \nL 28.515625 8.296875 \nL 28.515625 63.921875 \nL 10.984375 60.40625 \nL 10.984375 69.390625 \nL 28.421875 72.90625 \nL 38.28125 72.90625 \nL 38.28125 8.296875 \nL 54.390625 8.296875 \nL 54.390625 0 \nL 12.40625 0 \nz\n\" id=\"DejaVuSans-49\"/>\n      </defs>\n      <g transform=\"translate(175.49875 242.282656)scale(0.1 -0.1)\">\n       <use xlink:href=\"#DejaVuSans-49\"/>\n       <use x=\"63.623047\" xlink:href=\"#DejaVuSans-48\"/>\n       <use x=\"127.246094\" xlink:href=\"#DejaVuSans-48\"/>\n      </g>\n     </g>\n    </g>\n    <g id=\"xtick_6\">\n     <g id=\"line2d_6\">\n      <g>\n       <use style=\"stroke:#000000;stroke-width:0.8;\" x=\"222.7925\" xlink:href=\"#m73da642490\" y=\"227.684219\"/>\n      </g>\n     </g>\n     <g id=\"text_6\">\n      <!-- 125 -->\n      <g transform=\"translate(213.24875 242.282656)scale(0.1 -0.1)\">\n       <use xlink:href=\"#DejaVuSans-49\"/>\n       <use x=\"63.623047\" xlink:href=\"#DejaVuSans-50\"/>\n       <use x=\"127.246094\" xlink:href=\"#DejaVuSans-53\"/>\n      </g>\n     </g>\n    </g>\n   </g>\n   <g id=\"matplotlib.axis_2\">\n    <g id=\"ytick_1\">\n     <g id=\"line2d_7\">\n      <defs>\n       <path d=\"M 0 0 \nL -3.5 0 \n\" id=\"m55e14a7f60\" style=\"stroke:#000000;stroke-width:0.8;\"/>\n      </defs>\n      <g>\n       <use style=\"stroke:#000000;stroke-width:0.8;\" x=\"33.2875\" xlink:href=\"#m55e14a7f60\" y=\"10.999219\"/>\n      </g>\n     </g>\n     <g id=\"text_7\">\n      <!-- 0 -->\n      <g transform=\"translate(19.925 14.798437)scale(0.1 -0.1)\">\n       <use xlink:href=\"#DejaVuSans-48\"/>\n      </g>\n     </g>\n    </g>\n    <g id=\"ytick_2\">\n     <g id=\"line2d_8\">\n      <g>\n       <use style=\"stroke:#000000;stroke-width:0.8;\" x=\"33.2875\" xlink:href=\"#m55e14a7f60\" y=\"41.199219\"/>\n      </g>\n     </g>\n     <g id=\"text_8\">\n      <!-- 20 -->\n      <g transform=\"translate(13.5625 44.998437)scale(0.1 -0.1)\">\n       <use xlink:href=\"#DejaVuSans-50\"/>\n       <use x=\"63.623047\" xlink:href=\"#DejaVuSans-48\"/>\n      </g>\n     </g>\n    </g>\n    <g id=\"ytick_3\">\n     <g id=\"line2d_9\">\n      <g>\n       <use style=\"stroke:#000000;stroke-width:0.8;\" x=\"33.2875\" xlink:href=\"#m55e14a7f60\" y=\"71.399219\"/>\n      </g>\n     </g>\n     <g id=\"text_9\">\n      <!-- 40 -->\n      <defs>\n       <path d=\"M 37.796875 64.3125 \nL 12.890625 25.390625 \nL 37.796875 25.390625 \nz\nM 35.203125 72.90625 \nL 47.609375 72.90625 \nL 47.609375 25.390625 \nL 58.015625 25.390625 \nL 58.015625 17.1875 \nL 47.609375 17.1875 \nL 47.609375 0 \nL 37.796875 0 \nL 37.796875 17.1875 \nL 4.890625 17.1875 \nL 4.890625 26.703125 \nz\n\" id=\"DejaVuSans-52\"/>\n      </defs>\n      <g transform=\"translate(13.5625 75.198437)scale(0.1 -0.1)\">\n       <use xlink:href=\"#DejaVuSans-52\"/>\n       <use x=\"63.623047\" xlink:href=\"#DejaVuSans-48\"/>\n      </g>\n     </g>\n    </g>\n    <g id=\"ytick_4\">\n     <g id=\"line2d_10\">\n      <g>\n       <use style=\"stroke:#000000;stroke-width:0.8;\" x=\"33.2875\" xlink:href=\"#m55e14a7f60\" y=\"101.599219\"/>\n      </g>\n     </g>\n     <g id=\"text_10\">\n      <!-- 60 -->\n      <defs>\n       <path d=\"M 33.015625 40.375 \nQ 26.375 40.375 22.484375 35.828125 \nQ 18.609375 31.296875 18.609375 23.390625 \nQ 18.609375 15.53125 22.484375 10.953125 \nQ 26.375 6.390625 33.015625 6.390625 \nQ 39.65625 6.390625 43.53125 10.953125 \nQ 47.40625 15.53125 47.40625 23.390625 \nQ 47.40625 31.296875 43.53125 35.828125 \nQ 39.65625 40.375 33.015625 40.375 \nz\nM 52.59375 71.296875 \nL 52.59375 62.3125 \nQ 48.875 64.0625 45.09375 64.984375 \nQ 41.3125 65.921875 37.59375 65.921875 \nQ 27.828125 65.921875 22.671875 59.328125 \nQ 17.53125 52.734375 16.796875 39.40625 \nQ 19.671875 43.65625 24.015625 45.921875 \nQ 28.375 48.1875 33.59375 48.1875 \nQ 44.578125 48.1875 50.953125 41.515625 \nQ 57.328125 34.859375 57.328125 23.390625 \nQ 57.328125 12.15625 50.6875 5.359375 \nQ 44.046875 -1.421875 33.015625 -1.421875 \nQ 20.359375 -1.421875 13.671875 8.265625 \nQ 6.984375 17.96875 6.984375 36.375 \nQ 6.984375 53.65625 15.1875 63.9375 \nQ 23.390625 74.21875 37.203125 74.21875 \nQ 40.921875 74.21875 44.703125 73.484375 \nQ 48.484375 72.75 52.59375 71.296875 \nz\n\" id=\"DejaVuSans-54\"/>\n      </defs>\n      <g transform=\"translate(13.5625 105.398437)scale(0.1 -0.1)\">\n       <use xlink:href=\"#DejaVuSans-54\"/>\n       <use x=\"63.623047\" xlink:href=\"#DejaVuSans-48\"/>\n      </g>\n     </g>\n    </g>\n    <g id=\"ytick_5\">\n     <g id=\"line2d_11\">\n      <g>\n       <use style=\"stroke:#000000;stroke-width:0.8;\" x=\"33.2875\" xlink:href=\"#m55e14a7f60\" y=\"131.799219\"/>\n      </g>\n     </g>\n     <g id=\"text_11\">\n      <!-- 80 -->\n      <defs>\n       <path d=\"M 31.78125 34.625 \nQ 24.75 34.625 20.71875 30.859375 \nQ 16.703125 27.09375 16.703125 20.515625 \nQ 16.703125 13.921875 20.71875 10.15625 \nQ 24.75 6.390625 31.78125 6.390625 \nQ 38.8125 6.390625 42.859375 10.171875 \nQ 46.921875 13.96875 46.921875 20.515625 \nQ 46.921875 27.09375 42.890625 30.859375 \nQ 38.875 34.625 31.78125 34.625 \nz\nM 21.921875 38.8125 \nQ 15.578125 40.375 12.03125 44.71875 \nQ 8.5 49.078125 8.5 55.328125 \nQ 8.5 64.0625 14.71875 69.140625 \nQ 20.953125 74.21875 31.78125 74.21875 \nQ 42.671875 74.21875 48.875 69.140625 \nQ 55.078125 64.0625 55.078125 55.328125 \nQ 55.078125 49.078125 51.53125 44.71875 \nQ 48 40.375 41.703125 38.8125 \nQ 48.828125 37.15625 52.796875 32.3125 \nQ 56.78125 27.484375 56.78125 20.515625 \nQ 56.78125 9.90625 50.3125 4.234375 \nQ 43.84375 -1.421875 31.78125 -1.421875 \nQ 19.734375 -1.421875 13.25 4.234375 \nQ 6.78125 9.90625 6.78125 20.515625 \nQ 6.78125 27.484375 10.78125 32.3125 \nQ 14.796875 37.15625 21.921875 38.8125 \nz\nM 18.3125 54.390625 \nQ 18.3125 48.734375 21.84375 45.5625 \nQ 25.390625 42.390625 31.78125 42.390625 \nQ 38.140625 42.390625 41.71875 45.5625 \nQ 45.3125 48.734375 45.3125 54.390625 \nQ 45.3125 60.0625 41.71875 63.234375 \nQ 38.140625 66.40625 31.78125 66.40625 \nQ 25.390625 66.40625 21.84375 63.234375 \nQ 18.3125 60.0625 18.3125 54.390625 \nz\n\" id=\"DejaVuSans-56\"/>\n      </defs>\n      <g transform=\"translate(13.5625 135.598437)scale(0.1 -0.1)\">\n       <use xlink:href=\"#DejaVuSans-56\"/>\n       <use x=\"63.623047\" xlink:href=\"#DejaVuSans-48\"/>\n      </g>\n     </g>\n    </g>\n    <g id=\"ytick_6\">\n     <g id=\"line2d_12\">\n      <g>\n       <use style=\"stroke:#000000;stroke-width:0.8;\" x=\"33.2875\" xlink:href=\"#m55e14a7f60\" y=\"161.999219\"/>\n      </g>\n     </g>\n     <g id=\"text_12\">\n      <!-- 100 -->\n      <g transform=\"translate(7.2 165.798437)scale(0.1 -0.1)\">\n       <use xlink:href=\"#DejaVuSans-49\"/>\n       <use x=\"63.623047\" xlink:href=\"#DejaVuSans-48\"/>\n       <use x=\"127.246094\" xlink:href=\"#DejaVuSans-48\"/>\n      </g>\n     </g>\n    </g>\n    <g id=\"ytick_7\">\n     <g id=\"line2d_13\">\n      <g>\n       <use style=\"stroke:#000000;stroke-width:0.8;\" x=\"33.2875\" xlink:href=\"#m55e14a7f60\" y=\"192.199219\"/>\n      </g>\n     </g>\n     <g id=\"text_13\">\n      <!-- 120 -->\n      <g transform=\"translate(7.2 195.998437)scale(0.1 -0.1)\">\n       <use xlink:href=\"#DejaVuSans-49\"/>\n       <use x=\"63.623047\" xlink:href=\"#DejaVuSans-50\"/>\n       <use x=\"127.246094\" xlink:href=\"#DejaVuSans-48\"/>\n      </g>\n     </g>\n    </g>\n    <g id=\"ytick_8\">\n     <g id=\"line2d_14\">\n      <g>\n       <use style=\"stroke:#000000;stroke-width:0.8;\" x=\"33.2875\" xlink:href=\"#m55e14a7f60\" y=\"222.399219\"/>\n      </g>\n     </g>\n     <g id=\"text_14\">\n      <!-- 140 -->\n      <g transform=\"translate(7.2 226.198437)scale(0.1 -0.1)\">\n       <use xlink:href=\"#DejaVuSans-49\"/>\n       <use x=\"63.623047\" xlink:href=\"#DejaVuSans-52\"/>\n       <use x=\"127.246094\" xlink:href=\"#DejaVuSans-48\"/>\n      </g>\n     </g>\n    </g>\n   </g>\n   <g id=\"patch_3\">\n    <path d=\"M 33.2875 227.684219 \nL 33.2875 10.244219 \n\" style=\"fill:none;stroke:#000000;stroke-linecap:square;stroke-linejoin:miter;stroke-width:0.8;\"/>\n   </g>\n   <g id=\"patch_4\">\n    <path d=\"M 250.7275 227.684219 \nL 250.7275 10.244219 \n\" style=\"fill:none;stroke:#000000;stroke-linecap:square;stroke-linejoin:miter;stroke-width:0.8;\"/>\n   </g>\n   <g id=\"patch_5\">\n    <path d=\"M 33.2875 227.684219 \nL 250.7275 227.684219 \n\" style=\"fill:none;stroke:#000000;stroke-linecap:square;stroke-linejoin:miter;stroke-width:0.8;\"/>\n   </g>\n   <g id=\"patch_6\">\n    <path d=\"M 33.2875 10.244219 \nL 250.7275 10.244219 \n\" style=\"fill:none;stroke:#000000;stroke-linecap:square;stroke-linejoin:miter;stroke-width:0.8;\"/>\n   </g>\n  </g>\n </g>\n <defs>\n  <clipPath id=\"pc6adb28fdd\">\n   <rect height=\"217.44\" width=\"217.44\" x=\"33.2875\" y=\"10.244219\"/>\n  </clipPath>\n </defs>\n</svg>\n",
      "text/plain": "<Figure size 432x288 with 1 Axes>"
     },
     "metadata": {
      "needs_background": "light"
     },
     "output_type": "display_data"
    },
    {
     "name": "stdout",
     "output_type": "stream",
     "text": "taille mask :  (144, 144, 234, 21)\n"
    },
    {
     "data": {
      "image/png": "[encoded data removed]",
      "image/svg+xml": "<?xml version=\"1.0\" encoding=\"utf-8\" standalone=\"no\"?>\n<!DOCTYPE svg PUBLIC \"-//W3C//DTD SVG 1.1//EN\"\n  \"http://www.w3.org/Graphics/SVG/1.1/DTD/svg11.dtd\">\n<!-- Created with matplotlib (https://matplotlib.org/) -->\n<svg height=\"251.562344pt\" version=\"1.1\" viewBox=\"0 0 257.9275 251.562344\" width=\"257.9275pt\" xmlns=\"http://www.w3.org/2000/svg\" xmlns:xlink=\"http://www.w3.org/1999/xlink\">\n <defs>\n  <style type=\"text/css\">\n*{stroke-linecap:butt;stroke-linejoin:round;}\n  </style>\n </defs>\n <g id=\"figure_1\">\n  <g id=\"patch_1\">\n   <path d=\"M 0 251.562344 \nL 257.9275 251.562344 \nL 257.9275 0 \nL 0 0 \nz\n\" style=\"fill:none;\"/>\n  </g>\n  <g id=\"axes_1\">\n   <g id=\"patch_2\">\n    <path d=\"M 33.2875 227.684219 \nL 250.7275 227.684219 \nL 250.7275 10.244219 \nL 33.2875 10.244219 \nz\n\" style=\"fill:#ffffff;\"/>\n   </g>\n   <g clip-path=\"url(#p6aa7a2b228)\">\n    <image height=\"218\" id=\"image73131107f3\" transform=\"scale(1 -1)translate(0 -218)\" width=\"218\" x=\"33.2875\" xlink:href=\"data:image/png;base64,\niVBORw0KGgoAAAANSUhEUgAAANoAAADaCAYAAADAHVzbAAAABHNCSVQICAgIfAhkiAAAAxlJREFUeJzt2DFqVUEAhtG5ciHa2ou4iIgWdmnSpxSXYhts7F2Aq7BX1xDQKmW6FEZ4yXUPz+d35d1z+oG/+ZhhprPpYhnAP/Vo7QGwBUKDgNAgIDQICA0CQoOA0CAgNAgIDQJCg4DQICA0CAgNAkKDgNAgIDQICA0CQoOA0CAgNAgIDQJCg4DQICA0CAgNAkKDgNAgIDQICA0CQoOA0CAgNAgIDQJCg4DQICA0CAgNAkKDgNAgIDQICA0CQoOA0CAgNAgIDQJCg4DQICA0CAgNAkKDgNAgIDQICA0CQoOA0CAgNAgIDQJCg4DQICA0CAgNAkKDgNAgIDQICA0CQoOA0CAgNAgIDQJCg4DQICA0CAgNAkKDgNAgIDQICA0CQoOA0CAgNAgIDQJCg4DQICA0CAgNAkKDgNAgIDQICI0xxhhXn07Hzw+v155xtOa1B/AfmKbx7tXX8f3mxdpLjpYbDQJuNMZYlvHl8s2Yfz2MJ+N67TVHaTqbLpa1R8Cx83SEgNAgIDQICA0Cfh034vf56bh+u9vr7Pzj8Xj+/tuBF22L0Dbi9tk8Pr78vNfZy6fnB16zPb73N2Ka5zGdnOx3+P5+PNzdHXbQxrjRNmLZ7cay2+/pyN/zGQIBoUFAaBAQGgSEBgGhQUBoEBAaBIQGAaFBQGgQEBoEhAYBoUFAaBAQGgSEBgGhQUBoEBAaBIQGAaFBQGgQEBoEhAYBoUFAaBAQGgSEBgGhQUBoEBAaBIQGAaFBQGgQEBoEhAYBoUFAaBAQGgSEBgGhQUBoEBAaBIQGAaFBQGgQEBoEhAYBoUFAaBAQGgSEBgGhQUBoEBAaBIQGAaFBQGgQEBoEhAYBoUFAaBAQGgSEBgGhQUBoEBAaBIQGAaFBQGgQEBoEhAYBoUFAaBAQGgSEBgGhQUBoEBAaBIQGAaFBQGgQEBoEhAYBoUFAaBAQGgSEBgGhQUBoEBAaBIQGAaFBQGgQEBoEhAYBoUFAaBAQGgSEBgGhQUBoEBAaBIQGAaFBQGgQEBoEhAYBoUFAaBAQGgSEBgGhQUBoEBAaBP4AZhonrw69HrsAAAAASUVORK5CYII=\" y=\"-9.684219\"/>\n   </g>\n   <g id=\"matplotlib.axis_1\">\n    <g id=\"xtick_1\">\n     <g id=\"line2d_1\">\n      <defs>\n       <path d=\"M 0 0 \nL 0 3.5 \n\" id=\"m8eee58035e\" style=\"stroke:#000000;stroke-width:0.8;\"/>\n      </defs>\n      <g>\n       <use style=\"stroke:#000000;stroke-width:0.8;\" x=\"34.0425\" xlink:href=\"#m8eee58035e\" y=\"227.684219\"/>\n      </g>\n     </g>\n     <g id=\"text_1\">\n      <!-- 0 -->\n      <defs>\n       <path d=\"M 31.78125 66.40625 \nQ 24.171875 66.40625 20.328125 58.90625 \nQ 16.5 51.421875 16.5 36.375 \nQ 16.5 21.390625 20.328125 13.890625 \nQ 24.171875 6.390625 31.78125 6.390625 \nQ 39.453125 6.390625 43.28125 13.890625 \nQ 47.125 21.390625 47.125 36.375 \nQ 47.125 51.421875 43.28125 58.90625 \nQ 39.453125 66.40625 31.78125 66.40625 \nz\nM 31.78125 74.21875 \nQ 44.046875 74.21875 50.515625 64.515625 \nQ 56.984375 54.828125 56.984375 36.375 \nQ 56.984375 17.96875 50.515625 8.265625 \nQ 44.046875 -1.421875 31.78125 -1.421875 \nQ 19.53125 -1.421875 13.0625 8.265625 \nQ 6.59375 17.96875 6.59375 36.375 \nQ 6.59375 54.828125 13.0625 64.515625 \nQ 19.53125 74.21875 31.78125 74.21875 \nz\n\" id=\"DejaVuSans-48\"/>\n      </defs>\n      <g transform=\"translate(30.86125 242.282656)scale(0.1 -0.1)\">\n       <use xlink:href=\"#DejaVuSans-48\"/>\n      </g>\n     </g>\n    </g>\n    <g id=\"xtick_2\">\n     <g id=\"line2d_2\">\n      <g>\n       <use style=\"stroke:#000000;stroke-width:0.8;\" x=\"71.7925\" xlink:href=\"#m8eee58035e\" y=\"227.684219\"/>\n      </g>\n     </g>\n     <g id=\"text_2\">\n      <!-- 25 -->\n      <defs>\n       <path d=\"M 19.1875 8.296875 \nL 53.609375 8.296875 \nL 53.609375 0 \nL 7.328125 0 \nL 7.328125 8.296875 \nQ 12.9375 14.109375 22.625 23.890625 \nQ 32.328125 33.6875 34.8125 36.53125 \nQ 39.546875 41.84375 41.421875 45.53125 \nQ 43.3125 49.21875 43.3125 52.78125 \nQ 43.3125 58.59375 39.234375 62.25 \nQ 35.15625 65.921875 28.609375 65.921875 \nQ 23.96875 65.921875 18.8125 64.3125 \nQ 13.671875 62.703125 7.8125 59.421875 \nL 7.8125 69.390625 \nQ 13.765625 71.78125 18.9375 73 \nQ 24.125 74.21875 28.421875 74.21875 \nQ 39.75 74.21875 46.484375 68.546875 \nQ 53.21875 62.890625 53.21875 53.421875 \nQ 53.21875 48.921875 51.53125 44.890625 \nQ 49.859375 40.875 45.40625 35.40625 \nQ 44.1875 33.984375 37.640625 27.21875 \nQ 31.109375 20.453125 19.1875 8.296875 \nz\n\" id=\"DejaVuSans-50\"/>\n       <path d=\"M 10.796875 72.90625 \nL 49.515625 72.90625 \nL 49.515625 64.59375 \nL 19.828125 64.59375 \nL 19.828125 46.734375 \nQ 21.96875 47.46875 24.109375 47.828125 \nQ 26.265625 48.1875 28.421875 48.1875 \nQ 40.625 48.1875 47.75 41.5 \nQ 54.890625 34.8125 54.890625 23.390625 \nQ 54.890625 11.625 47.5625 5.09375 \nQ 40.234375 -1.421875 26.90625 -1.421875 \nQ 22.3125 -1.421875 17.546875 -0.640625 \nQ 12.796875 0.140625 7.71875 1.703125 \nL 7.71875 11.625 \nQ 12.109375 9.234375 16.796875 8.0625 \nQ 21.484375 6.890625 26.703125 6.890625 \nQ 35.15625 6.890625 40.078125 11.328125 \nQ 45.015625 15.765625 45.015625 23.390625 \nQ 45.015625 31 40.078125 35.4375 \nQ 35.15625 39.890625 26.703125 39.890625 \nQ 22.75 39.890625 18.8125 39.015625 \nQ 14.890625 38.140625 10.796875 36.28125 \nz\n\" id=\"DejaVuSans-53\"/>\n      </defs>\n      <g transform=\"translate(65.43 242.282656)scale(0.1 -0.1)\">\n       <use xlink:href=\"#DejaVuSans-50\"/>\n       <use x=\"63.623047\" xlink:href=\"#DejaVuSans-53\"/>\n      </g>\n     </g>\n    </g>\n    <g id=\"xtick_3\">\n     <g id=\"line2d_3\">\n      <g>\n       <use style=\"stroke:#000000;stroke-width:0.8;\" x=\"109.5425\" xlink:href=\"#m8eee58035e\" y=\"227.684219\"/>\n      </g>\n     </g>\n     <g id=\"text_3\">\n      <!-- 50 -->\n      <g transform=\"translate(103.18 242.282656)scale(0.1 -0.1)\">\n       <use xlink:href=\"#DejaVuSans-53\"/>\n       <use x=\"63.623047\" xlink:href=\"#DejaVuSans-48\"/>\n      </g>\n     </g>\n    </g>\n    <g id=\"xtick_4\">\n     <g id=\"line2d_4\">\n      <g>\n       <use style=\"stroke:#000000;stroke-width:0.8;\" x=\"147.2925\" xlink:href=\"#m8eee58035e\" y=\"227.684219\"/>\n      </g>\n     </g>\n     <g id=\"text_4\">\n      <!-- 75 -->\n      <defs>\n       <path d=\"M 8.203125 72.90625 \nL 55.078125 72.90625 \nL 55.078125 68.703125 \nL 28.609375 0 \nL 18.3125 0 \nL 43.21875 64.59375 \nL 8.203125 64.59375 \nz\n\" id=\"DejaVuSans-55\"/>\n      </defs>\n      <g transform=\"translate(140.93 242.282656)scale(0.1 -0.1)\">\n       <use xlink:href=\"#DejaVuSans-55\"/>\n       <use x=\"63.623047\" xlink:href=\"#DejaVuSans-53\"/>\n      </g>\n     </g>\n    </g>\n    <g id=\"xtick_5\">\n     <g id=\"line2d_5\">\n      <g>\n       <use style=\"stroke:#000000;stroke-width:0.8;\" x=\"185.0425\" xlink:href=\"#m8eee58035e\" y=\"227.684219\"/>\n      </g>\n     </g>\n     <g id=\"text_5\">\n      <!-- 100 -->\n      <defs>\n       <path d=\"M 12.40625 8.296875 \nL 28.515625 8.296875 \nL 28.515625 63.921875 \nL 10.984375 60.40625 \nL 10.984375 69.390625 \nL 28.421875 72.90625 \nL 38.28125 72.90625 \nL 38.28125 8.296875 \nL 54.390625 8.296875 \nL 54.390625 0 \nL 12.40625 0 \nz\n\" id=\"DejaVuSans-49\"/>\n      </defs>\n      <g transform=\"translate(175.49875 242.282656)scale(0.1 -0.1)\">\n       <use xlink:href=\"#DejaVuSans-49\"/>\n       <use x=\"63.623047\" xlink:href=\"#DejaVuSans-48\"/>\n       <use x=\"127.246094\" xlink:href=\"#DejaVuSans-48\"/>\n      </g>\n     </g>\n    </g>\n    <g id=\"xtick_6\">\n     <g id=\"line2d_6\">\n      <g>\n       <use style=\"stroke:#000000;stroke-width:0.8;\" x=\"222.7925\" xlink:href=\"#m8eee58035e\" y=\"227.684219\"/>\n      </g>\n     </g>\n     <g id=\"text_6\">\n      <!-- 125 -->\n      <g transform=\"translate(213.24875 242.282656)scale(0.1 -0.1)\">\n       <use xlink:href=\"#DejaVuSans-49\"/>\n       <use x=\"63.623047\" xlink:href=\"#DejaVuSans-50\"/>\n       <use x=\"127.246094\" xlink:href=\"#DejaVuSans-53\"/>\n      </g>\n     </g>\n    </g>\n   </g>\n   <g id=\"matplotlib.axis_2\">\n    <g id=\"ytick_1\">\n     <g id=\"line2d_7\">\n      <defs>\n       <path d=\"M 0 0 \nL -3.5 0 \n\" id=\"mb96d60b946\" style=\"stroke:#000000;stroke-width:0.8;\"/>\n      </defs>\n      <g>\n       <use style=\"stroke:#000000;stroke-width:0.8;\" x=\"33.2875\" xlink:href=\"#mb96d60b946\" y=\"10.999219\"/>\n      </g>\n     </g>\n     <g id=\"text_7\">\n      <!-- 0 -->\n      <g transform=\"translate(19.925 14.798437)scale(0.1 -0.1)\">\n       <use xlink:href=\"#DejaVuSans-48\"/>\n      </g>\n     </g>\n    </g>\n    <g id=\"ytick_2\">\n     <g id=\"line2d_8\">\n      <g>\n       <use style=\"stroke:#000000;stroke-width:0.8;\" x=\"33.2875\" xlink:href=\"#mb96d60b946\" y=\"41.199219\"/>\n      </g>\n     </g>\n     <g id=\"text_8\">\n      <!-- 20 -->\n      <g transform=\"translate(13.5625 44.998437)scale(0.1 -0.1)\">\n       <use xlink:href=\"#DejaVuSans-50\"/>\n       <use x=\"63.623047\" xlink:href=\"#DejaVuSans-48\"/>\n      </g>\n     </g>\n    </g>\n    <g id=\"ytick_3\">\n     <g id=\"line2d_9\">\n      <g>\n       <use style=\"stroke:#000000;stroke-width:0.8;\" x=\"33.2875\" xlink:href=\"#mb96d60b946\" y=\"71.399219\"/>\n      </g>\n     </g>\n     <g id=\"text_9\">\n      <!-- 40 -->\n      <defs>\n       <path d=\"M 37.796875 64.3125 \nL 12.890625 25.390625 \nL 37.796875 25.390625 \nz\nM 35.203125 72.90625 \nL 47.609375 72.90625 \nL 47.609375 25.390625 \nL 58.015625 25.390625 \nL 58.015625 17.1875 \nL 47.609375 17.1875 \nL 47.609375 0 \nL 37.796875 0 \nL 37.796875 17.1875 \nL 4.890625 17.1875 \nL 4.890625 26.703125 \nz\n\" id=\"DejaVuSans-52\"/>\n      </defs>\n      <g transform=\"translate(13.5625 75.198437)scale(0.1 -0.1)\">\n       <use xlink:href=\"#DejaVuSans-52\"/>\n       <use x=\"63.623047\" xlink:href=\"#DejaVuSans-48\"/>\n      </g>\n     </g>\n    </g>\n    <g id=\"ytick_4\">\n     <g id=\"line2d_10\">\n      <g>\n       <use style=\"stroke:#000000;stroke-width:0.8;\" x=\"33.2875\" xlink:href=\"#mb96d60b946\" y=\"101.599219\"/>\n      </g>\n     </g>\n     <g id=\"text_10\">\n      <!-- 60 -->\n      <defs>\n       <path d=\"M 33.015625 40.375 \nQ 26.375 40.375 22.484375 35.828125 \nQ 18.609375 31.296875 18.609375 23.390625 \nQ 18.609375 15.53125 22.484375 10.953125 \nQ 26.375 6.390625 33.015625 6.390625 \nQ 39.65625 6.390625 43.53125 10.953125 \nQ 47.40625 15.53125 47.40625 23.390625 \nQ 47.40625 31.296875 43.53125 35.828125 \nQ 39.65625 40.375 33.015625 40.375 \nz\nM 52.59375 71.296875 \nL 52.59375 62.3125 \nQ 48.875 64.0625 45.09375 64.984375 \nQ 41.3125 65.921875 37.59375 65.921875 \nQ 27.828125 65.921875 22.671875 59.328125 \nQ 17.53125 52.734375 16.796875 39.40625 \nQ 19.671875 43.65625 24.015625 45.921875 \nQ 28.375 48.1875 33.59375 48.1875 \nQ 44.578125 48.1875 50.953125 41.515625 \nQ 57.328125 34.859375 57.328125 23.390625 \nQ 57.328125 12.15625 50.6875 5.359375 \nQ 44.046875 -1.421875 33.015625 -1.421875 \nQ 20.359375 -1.421875 13.671875 8.265625 \nQ 6.984375 17.96875 6.984375 36.375 \nQ 6.984375 53.65625 15.1875 63.9375 \nQ 23.390625 74.21875 37.203125 74.21875 \nQ 40.921875 74.21875 44.703125 73.484375 \nQ 48.484375 72.75 52.59375 71.296875 \nz\n\" id=\"DejaVuSans-54\"/>\n      </defs>\n      <g transform=\"translate(13.5625 105.398437)scale(0.1 -0.1)\">\n       <use xlink:href=\"#DejaVuSans-54\"/>\n       <use x=\"63.623047\" xlink:href=\"#DejaVuSans-48\"/>\n      </g>\n     </g>\n    </g>\n    <g id=\"ytick_5\">\n     <g id=\"line2d_11\">\n      <g>\n       <use style=\"stroke:#000000;stroke-width:0.8;\" x=\"33.2875\" xlink:href=\"#mb96d60b946\" y=\"131.799219\"/>\n      </g>\n     </g>\n     <g id=\"text_11\">\n      <!-- 80 -->\n      <defs>\n       <path d=\"M 31.78125 34.625 \nQ 24.75 34.625 20.71875 30.859375 \nQ 16.703125 27.09375 16.703125 20.515625 \nQ 16.703125 13.921875 20.71875 10.15625 \nQ 24.75 6.390625 31.78125 6.390625 \nQ 38.8125 6.390625 42.859375 10.171875 \nQ 46.921875 13.96875 46.921875 20.515625 \nQ 46.921875 27.09375 42.890625 30.859375 \nQ 38.875 34.625 31.78125 34.625 \nz\nM 21.921875 38.8125 \nQ 15.578125 40.375 12.03125 44.71875 \nQ 8.5 49.078125 8.5 55.328125 \nQ 8.5 64.0625 14.71875 69.140625 \nQ 20.953125 74.21875 31.78125 74.21875 \nQ 42.671875 74.21875 48.875 69.140625 \nQ 55.078125 64.0625 55.078125 55.328125 \nQ 55.078125 49.078125 51.53125 44.71875 \nQ 48 40.375 41.703125 38.8125 \nQ 48.828125 37.15625 52.796875 32.3125 \nQ 56.78125 27.484375 56.78125 20.515625 \nQ 56.78125 9.90625 50.3125 4.234375 \nQ 43.84375 -1.421875 31.78125 -1.421875 \nQ 19.734375 -1.421875 13.25 4.234375 \nQ 6.78125 9.90625 6.78125 20.515625 \nQ 6.78125 27.484375 10.78125 32.3125 \nQ 14.796875 37.15625 21.921875 38.8125 \nz\nM 18.3125 54.390625 \nQ 18.3125 48.734375 21.84375 45.5625 \nQ 25.390625 42.390625 31.78125 42.390625 \nQ 38.140625 42.390625 41.71875 45.5625 \nQ 45.3125 48.734375 45.3125 54.390625 \nQ 45.3125 60.0625 41.71875 63.234375 \nQ 38.140625 66.40625 31.78125 66.40625 \nQ 25.390625 66.40625 21.84375 63.234375 \nQ 18.3125 60.0625 18.3125 54.390625 \nz\n\" id=\"DejaVuSans-56\"/>\n      </defs>\n      <g transform=\"translate(13.5625 135.598437)scale(0.1 -0.1)\">\n       <use xlink:href=\"#DejaVuSans-56\"/>\n       <use x=\"63.623047\" xlink:href=\"#DejaVuSans-48\"/>\n      </g>\n     </g>\n    </g>\n    <g id=\"ytick_6\">\n     <g id=\"line2d_12\">\n      <g>\n       <use style=\"stroke:#000000;stroke-width:0.8;\" x=\"33.2875\" xlink:href=\"#mb96d60b946\" y=\"161.999219\"/>\n      </g>\n     </g>\n     <g id=\"text_12\">\n      <!-- 100 -->\n      <g transform=\"translate(7.2 165.798437)scale(0.1 -0.1)\">\n       <use xlink:href=\"#DejaVuSans-49\"/>\n       <use x=\"63.623047\" xlink:href=\"#DejaVuSans-48\"/>\n       <use x=\"127.246094\" xlink:href=\"#DejaVuSans-48\"/>\n      </g>\n     </g>\n    </g>\n    <g id=\"ytick_7\">\n     <g id=\"line2d_13\">\n      <g>\n       <use style=\"stroke:#000000;stroke-width:0.8;\" x=\"33.2875\" xlink:href=\"#mb96d60b946\" y=\"192.199219\"/>\n      </g>\n     </g>\n     <g id=\"text_13\">\n      <!-- 120 -->\n      <g transform=\"translate(7.2 195.998437)scale(0.1 -0.1)\">\n       <use xlink:href=\"#DejaVuSans-49\"/>\n       <use x=\"63.623047\" xlink:href=\"#DejaVuSans-50\"/>\n       <use x=\"127.246094\" xlink:href=\"#DejaVuSans-48\"/>\n      </g>\n     </g>\n    </g>\n    <g id=\"ytick_8\">\n     <g id=\"line2d_14\">\n      <g>\n       <use style=\"stroke:#000000;stroke-width:0.8;\" x=\"33.2875\" xlink:href=\"#mb96d60b946\" y=\"222.399219\"/>\n      </g>\n     </g>\n     <g id=\"text_14\">\n      <!-- 140 -->\n      <g transform=\"translate(7.2 226.198437)scale(0.1 -0.1)\">\n       <use xlink:href=\"#DejaVuSans-49\"/>\n       <use x=\"63.623047\" xlink:href=\"#DejaVuSans-52\"/>\n       <use x=\"127.246094\" xlink:href=\"#DejaVuSans-48\"/>\n      </g>\n     </g>\n    </g>\n   </g>\n   <g id=\"patch_3\">\n    <path d=\"M 33.2875 227.684219 \nL 33.2875 10.244219 \n\" style=\"fill:none;stroke:#000000;stroke-linecap:square;stroke-linejoin:miter;stroke-width:0.8;\"/>\n   </g>\n   <g id=\"patch_4\">\n    <path d=\"M 250.7275 227.684219 \nL 250.7275 10.244219 \n\" style=\"fill:none;stroke:#000000;stroke-linecap:square;stroke-linejoin:miter;stroke-width:0.8;\"/>\n   </g>\n   <g id=\"patch_5\">\n    <path d=\"M 33.2875 227.684219 \nL 250.7275 227.684219 \n\" style=\"fill:none;stroke:#000000;stroke-linecap:square;stroke-linejoin:miter;stroke-width:0.8;\"/>\n   </g>\n   <g id=\"patch_6\">\n    <path d=\"M 33.2875 10.244219 \nL 250.7275 10.244219 \n\" style=\"fill:none;stroke:#000000;stroke-linecap:square;stroke-linejoin:miter;stroke-width:0.8;\"/>\n   </g>\n  </g>\n </g>\n <defs>\n  <clipPath id=\"p6aa7a2b228\">\n   <rect height=\"217.44\" width=\"217.44\" x=\"33.2875\" y=\"10.244219\"/>\n  </clipPath>\n </defs>\n</svg>\n",
      "text/plain": "<Figure size 432x288 with 1 Axes>"
     },
     "metadata": {
      "needs_background": "light"
     },
     "output_type": "display_data"
    }
   ],
   "source": [
    "import matplotlib.pyplot as plt \n",
    "\n",
    "mip_directory = '/media/salim/DD 2To/AHL2011_MIP_FLIP' \n",
    "\n",
    "\n",
    "serie_pt_objet = SeriesPT(serie[2])\n",
    "study_uid = serie_pt_objet.get_series_details()['study']['StudyInstanceUID']\n",
    "nifti_array = serie_pt_objet.get_numpy_array()\n",
    "angle_filename = mip_projection(nifti_array, 0, mip_directory, study_uid, borne_max = 5.0)             #mip.png PET\n",
    "#subliste.append(angle_filename)\n",
    "\n",
    "size_matrix = serie_pt_objet.get_size_matrix()\n",
    "mask_objet = MaskBuilder(os.path.join(csv_directory, serie[4]), size_matrix)\n",
    "mask_4D = mask_objet.mask_array\n",
    "number_roi = mask_4D.shape[3]\n",
    "threshold = mask_objet.details_rois['SUVlo']\n",
    "        #seuillage\n",
    "flip_mask = mask_objet.flip_z(mask_4D)\n",
    "print(flip_mask.shape)\n",
    "plt.imshow(flip_mask[:,:,190,0])\n",
    "plt.show()\n",
    "\n",
    "flip_mask = threshold_mask(flip_mask, mask_objet.details_rois, nifti_array)\n",
    "\n",
    "angle_filename = mip_projection_4D(flip_mask, 0, mip_directory, study_uid, number_roi, borne_max = 5.0)\n",
    "\n",
    "plt.imshow(flip_mask[:,:,190,0])\n",
    "plt.show()\n",
    "\n"
   ]
  },
  {
   "cell_type": "code",
   "execution_count": 16,
   "metadata": {},
   "outputs": [
    {
     "data": {
      "text/plain": "5296"
     },
     "execution_count": 16,
     "metadata": {},
     "output_type": "execute_result"
    }
   ],
   "source": [
    "len(mask_objet.details_rois[1]['list_points'])"
   ]
  },
  {
   "cell_type": "code",
   "execution_count": 7,
   "metadata": {},
   "outputs": [
    {
     "name": "stdout",
     "output_type": "stream",
     "text": "0\n[79, 79, 56]\n(144, 144, 234, 21)\n[79, 79, 177]\n(144, 144, 234, 21)\ntaille mask :  (144, 144, 234, 21)\n1\n(144, 144, 234, 30)\n(144, 144, 234, 30)\ntaille mask :  (144, 144, 234, 30)\n"
    },
    {
     "ename": "KeyboardInterrupt",
     "evalue": "",
     "output_type": "error",
     "traceback": [
      "\u001b[0;31m---------------------------------------------------------------------------\u001b[0m",
      "\u001b[0;31mKeyboardInterrupt\u001b[0m                         Traceback (most recent call last)",
      "\u001b[0;32m<ipython-input-7-cfb18bf93c81>\u001b[0m in \u001b[0;36m<module>\u001b[0;34m\u001b[0m\n\u001b[1;32m     27\u001b[0m         \u001b[0;31m#mask_4D_flip = mask_objet.mask_array\u001b[0m\u001b[0;34m\u001b[0m\u001b[0;34m\u001b[0m\u001b[0;34m\u001b[0m\u001b[0m\n\u001b[1;32m     28\u001b[0m         \u001b[0mnew_mask_4D_flip\u001b[0m \u001b[0;34m=\u001b[0m \u001b[0mthreshold_mask\u001b[0m\u001b[0;34m(\u001b[0m\u001b[0mflip_mask\u001b[0m\u001b[0;34m,\u001b[0m \u001b[0mmask_objet\u001b[0m\u001b[0;34m.\u001b[0m\u001b[0mdetails_rois\u001b[0m\u001b[0;34m,\u001b[0m \u001b[0mnifti_array\u001b[0m\u001b[0;34m)\u001b[0m\u001b[0;34m\u001b[0m\u001b[0;34m\u001b[0m\u001b[0m\n\u001b[0;32m---> 29\u001b[0;31m         \u001b[0mangle_filename_mask\u001b[0m \u001b[0;34m=\u001b[0m \u001b[0mmip_projection_4D\u001b[0m\u001b[0;34m(\u001b[0m\u001b[0mnew_mask_4D_flip\u001b[0m\u001b[0;34m,\u001b[0m \u001b[0;36m0\u001b[0m\u001b[0;34m,\u001b[0m \u001b[0mmip_directory\u001b[0m\u001b[0;34m,\u001b[0m \u001b[0mstudy_uid\u001b[0m\u001b[0;34m,\u001b[0m \u001b[0mnumber_roi\u001b[0m\u001b[0;34m,\u001b[0m \u001b[0mborne_max\u001b[0m \u001b[0;34m=\u001b[0m \u001b[0;36m5.0\u001b[0m\u001b[0;34m)\u001b[0m\u001b[0;34m\u001b[0m\u001b[0;34m\u001b[0m\u001b[0m\n\u001b[0m\u001b[1;32m     30\u001b[0m         \u001b[0;31m#mip.png MASK\u001b[0m\u001b[0;34m\u001b[0m\u001b[0;34m\u001b[0m\u001b[0;34m\u001b[0m\u001b[0m\n\u001b[1;32m     31\u001b[0m         \u001b[0msubliste\u001b[0m\u001b[0;34m.\u001b[0m\u001b[0mappend\u001b[0m\u001b[0;34m(\u001b[0m\u001b[0mangle_filename_mask\u001b[0m\u001b[0;34m)\u001b[0m\u001b[0;34m\u001b[0m\u001b[0;34m\u001b[0m\u001b[0m\n",
      "\u001b[0;32m~/library-DICOM/library_dicom/dicom_processor/tools/create_mip.py\u001b[0m in \u001b[0;36mmip_projection_4D\u001b[0;34m(mask_4D, angle, path_image, study_uid, number_roi, borne_max)\u001b[0m\n\u001b[1;32m     60\u001b[0m \u001b[0;34m\u001b[0m\u001b[0m\n\u001b[1;32m     61\u001b[0m     \u001b[0mnew_mask\u001b[0m \u001b[0;34m=\u001b[0m \u001b[0mnp\u001b[0m\u001b[0;34m.\u001b[0m\u001b[0mstack\u001b[0m\u001b[0;34m(\u001b[0m\u001b[0;34m(\u001b[0m\u001b[0mliste\u001b[0m\u001b[0;34m)\u001b[0m\u001b[0;34m,\u001b[0m \u001b[0maxis\u001b[0m \u001b[0;34m=\u001b[0m \u001b[0;36m3\u001b[0m\u001b[0;34m)\u001b[0m\u001b[0;34m\u001b[0m\u001b[0;34m\u001b[0m\u001b[0m\n\u001b[0;32m---> 62\u001b[0;31m     \u001b[0mvol_angle\u001b[0m \u001b[0;34m=\u001b[0m \u001b[0mscipy\u001b[0m\u001b[0;34m.\u001b[0m\u001b[0mndimage\u001b[0m\u001b[0;34m.\u001b[0m\u001b[0minterpolation\u001b[0m\u001b[0;34m.\u001b[0m\u001b[0mrotate\u001b[0m\u001b[0;34m(\u001b[0m\u001b[0mnew_mask\u001b[0m \u001b[0;34m,\u001b[0m \u001b[0mangle\u001b[0m \u001b[0;34m,\u001b[0m \u001b[0mreshape\u001b[0m\u001b[0;34m=\u001b[0m\u001b[0;32mFalse\u001b[0m\u001b[0;34m,\u001b[0m \u001b[0maxes\u001b[0m \u001b[0;34m=\u001b[0m \u001b[0;34m(\u001b[0m\u001b[0;36m2\u001b[0m\u001b[0;34m,\u001b[0m\u001b[0;36m3\u001b[0m\u001b[0;34m)\u001b[0m\u001b[0;34m)\u001b[0m\u001b[0;34m\u001b[0m\u001b[0;34m\u001b[0m\u001b[0m\n\u001b[0m\u001b[1;32m     63\u001b[0m     \u001b[0mMIP\u001b[0m \u001b[0;34m=\u001b[0m \u001b[0mnp\u001b[0m\u001b[0;34m.\u001b[0m\u001b[0mamax\u001b[0m\u001b[0;34m(\u001b[0m\u001b[0mvol_angle\u001b[0m\u001b[0;34m,\u001b[0m\u001b[0maxis\u001b[0m\u001b[0;34m=\u001b[0m\u001b[0;36m3\u001b[0m\u001b[0;34m)\u001b[0m\u001b[0;34m\u001b[0m\u001b[0;34m\u001b[0m\u001b[0m\n\u001b[1;32m     64\u001b[0m     \u001b[0mMIP2\u001b[0m \u001b[0;34m=\u001b[0m \u001b[0mnp\u001b[0m\u001b[0;34m.\u001b[0m\u001b[0mamax\u001b[0m\u001b[0;34m(\u001b[0m\u001b[0mMIP\u001b[0m\u001b[0;34m,\u001b[0m\u001b[0maxis\u001b[0m\u001b[0;34m=\u001b[0m\u001b[0;36m2\u001b[0m\u001b[0;34m)\u001b[0m\u001b[0;34m\u001b[0m\u001b[0;34m\u001b[0m\u001b[0m\n",
      "\u001b[0;32m~/.local/lib/python3.8/site-packages/scipy/ndimage/interpolation.py\u001b[0m in \u001b[0;36mrotate\u001b[0;34m(input, angle, axes, reshape, output, order, mode, cval, prefilter)\u001b[0m\n\u001b[1;32m    741\u001b[0m             \u001b[0mia\u001b[0m \u001b[0;34m=\u001b[0m \u001b[0minput_arr\u001b[0m\u001b[0;34m[\u001b[0m\u001b[0mcoordinates\u001b[0m\u001b[0;34m]\u001b[0m\u001b[0;34m\u001b[0m\u001b[0;34m\u001b[0m\u001b[0m\n\u001b[1;32m    742\u001b[0m             \u001b[0moa\u001b[0m \u001b[0;34m=\u001b[0m \u001b[0moutput\u001b[0m\u001b[0;34m[\u001b[0m\u001b[0mcoordinates\u001b[0m\u001b[0;34m]\u001b[0m\u001b[0;34m\u001b[0m\u001b[0;34m\u001b[0m\u001b[0m\n\u001b[0;32m--> 743\u001b[0;31m             affine_transform(ia, rot_matrix, offset, out_plane_shape,\n\u001b[0m\u001b[1;32m    744\u001b[0m                              oa, order, mode, cval, prefilter)\n\u001b[1;32m    745\u001b[0m \u001b[0;34m\u001b[0m\u001b[0m\n",
      "\u001b[0;32m~/.local/lib/python3.8/site-packages/scipy/ndimage/interpolation.py\u001b[0m in \u001b[0;36maffine_transform\u001b[0;34m(input, matrix, offset, output_shape, output, order, mode, cval, prefilter)\u001b[0m\n\u001b[1;32m    483\u001b[0m                              mode, cval)\n\u001b[1;32m    484\u001b[0m     \u001b[0;32melse\u001b[0m\u001b[0;34m:\u001b[0m\u001b[0;34m\u001b[0m\u001b[0;34m\u001b[0m\u001b[0m\n\u001b[0;32m--> 485\u001b[0;31m         _nd_image.geometric_transform(filtered, None, None, matrix, offset,\n\u001b[0m\u001b[1;32m    486\u001b[0m                                       output, order, mode, cval, None, None)\n\u001b[1;32m    487\u001b[0m     \u001b[0;32mreturn\u001b[0m \u001b[0moutput\u001b[0m\u001b[0;34m\u001b[0m\u001b[0;34m\u001b[0m\u001b[0m\n",
      "\u001b[0;31mKeyboardInterrupt\u001b[0m: "
     ]
    }
   ],
   "source": [
    "# A FAIRE AUSSI LES SERIES EN CORONAL (FLIP Z) \n",
    "mip_directory = '/media/salim/DD 2To/AHL2011_MIP_FLIP'\n",
    "\n",
    "\n",
    "\n",
    "path_mip = []\n",
    "for serie in list_coronal : \n",
    "    index = list_coronal.index(serie)\n",
    "    print(index)\n",
    "    subliste = []\n",
    "    if serie[1] =='PT' :\n",
    "        serie_pt_objet = SeriesPT(serie[0])\n",
    "        study_uid = serie_pt_objet.get_series_details()['study']['StudyInstanceUID']\n",
    "        nifti_array = serie_pt_objet.get_numpy_array()\n",
    "        angle_filename = mip_projection(nifti_array, 0, mip_directory, study_uid, borne_max = 5.0)             #mip.png PET\n",
    "        subliste.append(angle_filename)\n",
    "\n",
    "        size_matrix = serie_pt_objet.get_size_matrix()\n",
    "        mask_objet = MaskBuilder(os.path.join(csv_directory, serie[4]), size_matrix)\n",
    "        mask_4D = mask_objet.mask_array\n",
    "        print(mask_4D.shape)\n",
    "        number_roi = mask_4D.shape[3]\n",
    "        threshold = mask_objet.details_rois['SUVlo']\n",
    "        #seuillage\n",
    "        flip_mask = mask_objet.flip_z(mask_4D)\n",
    "        print(flip_mask.shape)\n",
    "        #mask_4D_flip = mask_objet.mask_array\n",
    "        new_mask_4D_flip = threshold_mask(flip_mask, mask_objet.details_rois, nifti_array)\n",
    "        angle_filename_mask = mip_projection_4D(new_mask_4D_flip, 0, mip_directory, study_uid, number_roi, borne_max = 5.0)\n",
    "        #mip.png MASK\n",
    "        subliste.append(angle_filename_mask)\n",
    "\n",
    "        path_mip.append(subliste)\n",
    "\n",
    "        \n",
    "\n",
    "\n",
    "\n",
    "\n",
    "    else : \n",
    "        serie_pt_objet = SeriesPT(serie[2])\n",
    "        study_uid = serie_pt_objet.get_series_details()['study']['StudyInstanceUID']\n",
    "        nifti_array = serie_pt_objet.get_numpy_array()\n",
    "        angle_filename = mip_projection(nifti_array, 0, mip_directory, study_uid, borne_max = 5.0) \n",
    "        #mip.png PET\n",
    "        subliste.append(angle_filename)\n",
    "        size_matrix = serie_pt_objet.get_size_matrix()\n",
    "        mask_objet = MaskBuilder(os.path.join(csv_directory, serie[4]), size_matrix)\n",
    "        print(mask_objet.details_rois[1]['list_points'][0])\n",
    "        mask_4D = mask_objet.mask_array\n",
    "        print(mask_4D.shape)\n",
    "        number_roi = mask_4D.shape[3]\n",
    "        threshold = mask_objet.details_rois['SUVlo']\n",
    "        #seuillage\n",
    "\n",
    "        flip_mask = mask_objet.flip_z(mask_4D)\n",
    "        print(mask_objet.details_rois[1]['list_points'][0])\n",
    "        print(flip_mask.shape)\n",
    "        #mask_4D_flip = mask_objet.mask_array\n",
    "        new_mask_4D_flip = threshold_mask(flip_mask, mask_objet.details_rois, nifti_array)\n",
    "        angle_filename_mask = mip_projection_4D(new_mask_4D_flip, 0, mip_directory, study_uid, number_roi, borne_max = 5.0)\n",
    "        #mip.png MASK\n",
    "        subliste.append(angle_filename_mask)\n",
    "\n",
    "        path_mip.append(subliste)\n"
   ]
  },
  {
   "cell_type": "code",
   "execution_count": 5,
   "metadata": {},
   "outputs": [],
   "source": [
    "mip_directory = '/media/salim/DD 2To/AHL2011_MIP_FLIP'\n",
    "filename = os.path.join(mip_directory, 'list_mip_coronal.pdf')\n",
    "create_pdf_mip(path_mip, filename)"
   ]
  },
  {
   "cell_type": "code",
   "execution_count": null,
   "metadata": {},
   "outputs": [],
   "source": []
  },
  {
   "cell_type": "code",
   "execution_count": null,
   "metadata": {},
   "outputs": [],
   "source": []
  },
  {
   "cell_type": "code",
   "execution_count": null,
   "metadata": {},
   "outputs": [],
   "source": []
  },
  {
   "cell_type": "code",
   "execution_count": null,
   "metadata": {},
   "outputs": [],
   "source": [
    "#ALGO GENERATION DE CT PET MASK NIFTI SI MASK VALIDE"
   ]
  },
  {
   "cell_type": "code",
   "execution_count": 31,
   "metadata": {},
   "outputs": [
    {
     "name": "stdout",
     "output_type": "stream",
     "text": "['/media/salim/DD 2To/AHL2011_Validated_DICOMS/13011105341002/1.2.250.1.31.1.0.0.0.40.9.4.0.20120531.94524.97.2.15815/1.2.840.113619.2.55.3.2831211778.248.1338437480.832.4/1.2.840.113619.2.55.3.2831211778.248.1338437480.832.4', 'CT', '/media/salim/DD 2To/AHL2011_Validated_DICOMS/13011105341002/1.2.250.1.31.1.0.0.0.40.9.4.0.20120531.94524.97.2.15815/1.2.840.113619.2.131.2831211778.1338463827.600267/1.2.840.113619.2.131.2831211778.1338463827.600267', 'PT', 'ham_fr_may 31_2012.csv']\n"
    }
   ],
   "source": [
    "test = false_mask[0]\n",
    "print(test)\n",
    "false_mask.remove(test)"
   ]
  },
  {
   "cell_type": "code",
   "execution_count": 32,
   "metadata": {},
   "outputs": [
    {
     "name": "stdout",
     "output_type": "stream",
     "text": "94\n"
    }
   ],
   "source": [
    "print(len(false_mask))"
   ]
  },
  {
   "cell_type": "code",
   "execution_count": 33,
   "metadata": {},
   "outputs": [
    {
     "name": "stdout",
     "output_type": "stream",
     "text": "0\nMASK CORRECT\nEXPORT NIFTI PT\nEXPORT NIFTI CT\nEXPORT NIFTI MASK\n1\nMASK CORRECT\nEXPORT NIFTI PT\nEXPORT NIFTI CT\nEXPORT NIFTI MASK\n2\nMASK CORRECT\nEXPORT NIFTI PT\nEXPORT NIFTI CT\nEXPORT NIFTI MASK\n3\nMASK CORRECT\nEXPORT NIFTI PT\nEXPORT NIFTI CT\nEXPORT NIFTI MASK\n4\nMASK CORRECT\nEXPORT NIFTI PT\nEXPORT NIFTI CT\nEXPORT NIFTI MASK\n5\nMASK CORRECT\nEXPORT NIFTI PT\nEXPORT NIFTI CT\nEXPORT NIFTI MASK\n6\nMASK CORRECT\nEXPORT NIFTI PT\nEXPORT NIFTI CT\nEXPORT NIFTI MASK\n7\nMASK CORRECT\nEXPORT NIFTI PT\nEXPORT NIFTI CT\nEXPORT NIFTI MASK\n8\nMASK CORRECT\nEXPORT NIFTI PT\nEXPORT NIFTI CT\nEXPORT NIFTI MASK\n9\nMASK CORRECT\nEXPORT NIFTI PT\nEXPORT NIFTI CT\nEXPORT NIFTI MASK\n10\nMASK CORRECT\nEXPORT NIFTI PT\nEXPORT NIFTI CT\nEXPORT NIFTI MASK\n11\nMASK CORRECT\nEXPORT NIFTI PT\nEXPORT NIFTI CT\nEXPORT NIFTI MASK\n12\nMASK CORRECT\nEXPORT NIFTI PT\nEXPORT NIFTI CT\nEXPORT NIFTI MASK\n13\nMASK CORRECT\nEXPORT NIFTI PT\nEXPORT NIFTI CT\nEXPORT NIFTI MASK\n14\nMASK CORRECT\nEXPORT NIFTI PT\nEXPORT NIFTI CT\nEXPORT NIFTI MASK\n15\nMASK CORRECT\nEXPORT NIFTI PT\nEXPORT NIFTI CT\nEXPORT NIFTI MASK\n16\nMASK CORRECT\nEXPORT NIFTI PT\nEXPORT NIFTI CT\nEXPORT NIFTI MASK\n17\nMASK CORRECT\nEXPORT NIFTI PT\nEXPORT NIFTI CT\nEXPORT NIFTI MASK\n18\nMASK CORRECT\nEXPORT NIFTI PT\nEXPORT NIFTI CT\nEXPORT NIFTI MASK\n19\nMASK CORRECT\nEXPORT NIFTI PT\nEXPORT NIFTI CT\nEXPORT NIFTI MASK\n20\nMASK CORRECT\nEXPORT NIFTI PT\nEXPORT NIFTI CT\nEXPORT NIFTI MASK\n21\nMASK CORRECT\nEXPORT NIFTI PT\nEXPORT NIFTI CT\nEXPORT NIFTI MASK\n22\nMASK CORRECT\nEXPORT NIFTI PT\nEXPORT NIFTI CT\nEXPORT NIFTI MASK\n23\nMASK CORRECT\nEXPORT NIFTI PT\nEXPORT NIFTI CT\nEXPORT NIFTI MASK\n24\nMASK CORRECT\nEXPORT NIFTI PT\nEXPORT NIFTI CT\nEXPORT NIFTI MASK\n25\nMASK CORRECT\nEXPORT NIFTI PT\nEXPORT NIFTI CT\nEXPORT NIFTI MASK\n26\nMASK CORRECT\nEXPORT NIFTI PT\nEXPORT NIFTI CT\nEXPORT NIFTI MASK\n27\nMASK CORRECT\nEXPORT NIFTI PT\nEXPORT NIFTI CT\nEXPORT NIFTI MASK\n28\nMASK CORRECT\nEXPORT NIFTI PT\nEXPORT NIFTI CT\nEXPORT NIFTI MASK\n29\nMASK CORRECT\nEXPORT NIFTI PT\nEXPORT NIFTI CT\nEXPORT NIFTI MASK\n30\nMASK CORRECT\nEXPORT NIFTI PT\nEXPORT NIFTI CT\nEXPORT NIFTI MASK\n31\nMASK CORRECT\nEXPORT NIFTI PT\nEXPORT NIFTI CT\nEXPORT NIFTI MASK\n32\nMASK CORRECT\nEXPORT NIFTI PT\nEXPORT NIFTI CT\nEXPORT NIFTI MASK\n33\nMASK CORRECT\nEXPORT NIFTI PT\nEXPORT NIFTI CT\nEXPORT NIFTI MASK\n34\nMASK CORRECT\nEXPORT NIFTI PT\nEXPORT NIFTI CT\nEXPORT NIFTI MASK\n35\nMASK CORRECT\nEXPORT NIFTI PT\nEXPORT NIFTI CT\nEXPORT NIFTI MASK\n36\nMASK CORRECT\nEXPORT NIFTI PT\nEXPORT NIFTI CT\nEXPORT NIFTI MASK\n37\nMASK CORRECT\nEXPORT NIFTI PT\nEXPORT NIFTI CT\nEXPORT NIFTI MASK\n38\nMASK CORRECT\nEXPORT NIFTI PT\nEXPORT NIFTI CT\nEXPORT NIFTI MASK\n39\nMASK CORRECT\nEXPORT NIFTI PT\nEXPORT NIFTI CT\nEXPORT NIFTI MASK\n40\nMASK CORRECT\nEXPORT NIFTI PT\nEXPORT NIFTI CT\nEXPORT NIFTI MASK\n41\nMASK CORRECT\nEXPORT NIFTI PT\nEXPORT NIFTI CT\nEXPORT NIFTI MASK\n42\nMASK CORRECT\nEXPORT NIFTI PT\nEXPORT NIFTI CT\nEXPORT NIFTI MASK\n43\nMASK CORRECT\nEXPORT NIFTI PT\nEXPORT NIFTI CT\nEXPORT NIFTI MASK\n44\nMASK CORRECT\nEXPORT NIFTI PT\nEXPORT NIFTI CT\nEXPORT NIFTI MASK\n45\nMASK CORRECT\nEXPORT NIFTI PT\nEXPORT NIFTI CT\nEXPORT NIFTI MASK\n46\nMASK CORRECT\nEXPORT NIFTI PT\nEXPORT NIFTI CT\nEXPORT NIFTI MASK\n47\nMASK CORRECT\nEXPORT NIFTI PT\nEXPORT NIFTI CT\nEXPORT NIFTI MASK\n48\nMASK CORRECT\nEXPORT NIFTI PT\nEXPORT NIFTI CT\nEXPORT NIFTI MASK\n49\nMASK CORRECT\nEXPORT NIFTI PT\nEXPORT NIFTI CT\nEXPORT NIFTI MASK\n50\nMASK CORRECT\nEXPORT NIFTI PT\nEXPORT NIFTI CT\nEXPORT NIFTI MASK\n51\nMASK CORRECT\nEXPORT NIFTI PT\nEXPORT NIFTI CT\nEXPORT NIFTI MASK\n52\nMASK CORRECT\nEXPORT NIFTI PT\nEXPORT NIFTI CT\nEXPORT NIFTI MASK\n53\nMASK CORRECT\nEXPORT NIFTI PT\nEXPORT NIFTI CT\nEXPORT NIFTI MASK\n54\nMASK CORRECT\nEXPORT NIFTI PT\nEXPORT NIFTI CT\nEXPORT NIFTI MASK\n55\nMASK CORRECT\nEXPORT NIFTI PT\nEXPORT NIFTI CT\nEXPORT NIFTI MASK\n56\nMASK CORRECT\nEXPORT NIFTI PT\nEXPORT NIFTI CT\nEXPORT NIFTI MASK\n57\nMASK CORRECT\nEXPORT NIFTI PT\nEXPORT NIFTI CT\nEXPORT NIFTI MASK\n58\nMASK CORRECT\nEXPORT NIFTI PT\nEXPORT NIFTI CT\nEXPORT NIFTI MASK\n59\nMASK CORRECT\nEXPORT NIFTI PT\nEXPORT NIFTI CT\nEXPORT NIFTI MASK\n60\nMASK CORRECT\nEXPORT NIFTI PT\nEXPORT NIFTI CT\nEXPORT NIFTI MASK\n61\nMASK CORRECT\nEXPORT NIFTI PT\nEXPORT NIFTI CT\nEXPORT NIFTI MASK\n62\nMASK CORRECT\nEXPORT NIFTI PT\nEXPORT NIFTI CT\nEXPORT NIFTI MASK\n63\nMASK CORRECT\nEXPORT NIFTI PT\nEXPORT NIFTI CT\nEXPORT NIFTI MASK\n64\nMASK CORRECT\nEXPORT NIFTI PT\nEXPORT NIFTI CT\nEXPORT NIFTI MASK\n65\nMASK CORRECT\nEXPORT NIFTI PT\nEXPORT NIFTI CT\nEXPORT NIFTI MASK\n66\nMASK CORRECT\nEXPORT NIFTI PT\nEXPORT NIFTI CT\nEXPORT NIFTI MASK\n67\nMASK CORRECT\nEXPORT NIFTI PT\nEXPORT NIFTI CT\nEXPORT NIFTI MASK\n68\nMASK CORRECT\nEXPORT NIFTI PT\nEXPORT NIFTI CT\nEXPORT NIFTI MASK\n69\nMASK CORRECT\nEXPORT NIFTI PT\nEXPORT NIFTI CT\nEXPORT NIFTI MASK\n70\nMASK CORRECT\nEXPORT NIFTI PT\nEXPORT NIFTI CT\nEXPORT NIFTI MASK\n71\nMASK CORRECT\nEXPORT NIFTI PT\nEXPORT NIFTI CT\nEXPORT NIFTI MASK\n72\nMASK CORRECT\nEXPORT NIFTI PT\nEXPORT NIFTI CT\nEXPORT NIFTI MASK\n73\nMASK CORRECT\nEXPORT NIFTI PT\nEXPORT NIFTI CT\nEXPORT NIFTI MASK\n74\nMASK CORRECT\nEXPORT NIFTI PT\nEXPORT NIFTI CT\nEXPORT NIFTI MASK\n75\nMASK CORRECT\nEXPORT NIFTI PT\nEXPORT NIFTI CT\nEXPORT NIFTI MASK\n76\nMASK CORRECT\nEXPORT NIFTI PT\nEXPORT NIFTI CT\nEXPORT NIFTI MASK\n77\nMASK CORRECT\nEXPORT NIFTI PT\nEXPORT NIFTI CT\nEXPORT NIFTI MASK\n78\nMASK CORRECT\nEXPORT NIFTI PT\nEXPORT NIFTI CT\nEXPORT NIFTI MASK\n79\nMASK CORRECT\nEXPORT NIFTI PT\nEXPORT NIFTI CT\nEXPORT NIFTI MASK\n80\nMASK CORRECT\nEXPORT NIFTI PT\nEXPORT NIFTI CT\nEXPORT NIFTI MASK\n81\nMASK CORRECT\nEXPORT NIFTI PT\nEXPORT NIFTI CT\nEXPORT NIFTI MASK\n82\nMASK CORRECT\nEXPORT NIFTI PT\nEXPORT NIFTI CT\nEXPORT NIFTI MASK\n83\nMASK CORRECT\nEXPORT NIFTI PT\nEXPORT NIFTI CT\nEXPORT NIFTI MASK\n84\nMASK CORRECT\nEXPORT NIFTI PT\nEXPORT NIFTI CT\nEXPORT NIFTI MASK\n85\nMASK CORRECT\nEXPORT NIFTI PT\nEXPORT NIFTI CT\nEXPORT NIFTI MASK\n86\nMASK CORRECT\nEXPORT NIFTI PT\nEXPORT NIFTI CT\nEXPORT NIFTI MASK\n87\nMASK CORRECT\nEXPORT NIFTI PT\nEXPORT NIFTI CT\nEXPORT NIFTI MASK\n88\nMASK CORRECT\nEXPORT NIFTI PT\nEXPORT NIFTI CT\nEXPORT NIFTI MASK\n89\nMASK CORRECT\nEXPORT NIFTI PT\nEXPORT NIFTI CT\nEXPORT NIFTI MASK\n90\nMASK CORRECT\nEXPORT NIFTI PT\nEXPORT NIFTI CT\nEXPORT NIFTI MASK\n91\nMASK CORRECT\nEXPORT NIFTI PT\nEXPORT NIFTI CT\nEXPORT NIFTI MASK\n92\nMASK CORRECT\nEXPORT NIFTI PT\nEXPORT NIFTI CT\nEXPORT NIFTI MASK\n93\nMASK CORRECT\nEXPORT NIFTI PT\nEXPORT NIFTI CT\nEXPORT NIFTI MASK\n"
    }
   ],
   "source": [
    "for serie in false_mask : \n",
    "    print(false_mask.index(serie))\n",
    "    try : \n",
    "        if serie[1] == 'PT' : \n",
    "            serie_pt_objet = SeriesPT(serie[0]) \n",
    "            nifti_array = serie_pt_objet.get_numpy_array()\n",
    "            study_uid = serie_pt_objet.get_series_details()['study']['StudyInstanceUID']\n",
    "            size_matrix = serie_pt_objet.get_size_matrix()\n",
    "            mask_objet = MaskBuilder(os.path.join(csv_directory, serie[4]), size_matrix)\n",
    "            mask_4D = mask_objet.mask_array\n",
    "\n",
    "                    #si erreur sur les sd et mean QUE sur les ellipses, on tolère \n",
    "            print(\"MASK CORRECT\")\n",
    "                    #generation nifti PT\n",
    "            filename_pt = study_uid+'_'+'nifti_'+'PT'+'.nii'\n",
    "            serie_pt_objet.export_nifti(os.path.join(nifti_directory, filename_pt))\n",
    "            print(\"EXPORT NIFTI PT\")\n",
    "                    #generation nifti CT\n",
    "            serie_ct_objet = SeriesCT(serie[2])\n",
    "            serie_ct_objet.get_numpy_array()\n",
    "            filename_ct = study_uid+'_'+'nifti_'+'CT'+'.nii'\n",
    "            serie_ct_objet.export_nifti(os.path.join(nifti_directory, filename_ct))\n",
    "            print(\"EXPORT NIFTI CT\")\n",
    "                    #generation nifti mask\n",
    "            filename_mask = study_uid+'_'+'nifti_'+'mask'+'.nii'\n",
    "            serie_pt_objet.export_nifti(os.path.join(nifti_directory, filename_mask), mask_4D)\n",
    "            print(\"EXPORT NIFTI MASK\")\n",
    "\n",
    "\n",
    "        else : \n",
    "            serie_pt_objet = SeriesPT(serie[2]) \n",
    "            nifti_array = serie_pt_objet.get_numpy_array()\n",
    "            study_uid = serie_pt_objet.get_series_details()['study']['StudyInstanceUID']\n",
    "            size_matrix = serie_pt_objet.get_size_matrix()\n",
    "            mask_objet = MaskBuilder(os.path.join(csv_directory, serie[4]), size_matrix)\n",
    "            mask_4D = mask_objet.mask_array\n",
    "            print(\"MASK CORRECT\")\n",
    "                    #generation nifti PT\n",
    "            filename_pt = study_uid+'_'+'nifti_'+'PT'+'.nii'\n",
    "            serie_pt_objet.export_nifti(os.path.join(nifti_directory, filename_pt))\n",
    "            print(\"EXPORT NIFTI PT\")\n",
    "                    #generation nifti CT\n",
    "            serie_ct_objet = SeriesCT(serie[0])\n",
    "            serie_ct_objet.get_numpy_array()\n",
    "            filename_ct = study_uid+'_'+'nifti_'+'CT'+'.nii'\n",
    "            serie_ct_objet.export_nifti(os.path.join(nifti_directory, filename_ct))\n",
    "            print(\"EXPORT NIFTI CT\")\n",
    "                    #generation nifti mask\n",
    "            filename_mask = study_uid+'_'+'nifti_'+'mask'+'.nii'\n",
    "            serie_pt_objet.export_nifti(os.path.join(nifti_directory, filename_mask), mask_4D)\n",
    "            print(\"EXPORT NIFTI MASK\")\n",
    " \n",
    "\n",
    "    except Exception as err : \n",
    "        print(serie)\n",
    "        print(err)"
   ]
  },
  {
   "cell_type": "code",
   "execution_count": 1,
   "metadata": {},
   "outputs": [],
   "source": [
    "test_directory = '/media/salim/DD 2To/AHL2011_TEST'"
   ]
  },
  {
   "cell_type": "code",
   "execution_count": null,
   "metadata": {},
   "outputs": [],
   "source": [
    "#GE false_mask[0]\n",
    "#siemens false_mask[10]\n",
    "#philips false_mask[80]"
   ]
  },
  {
   "cell_type": "code",
   "execution_count": null,
   "metadata": {},
   "outputs": [],
   "source": []
  },
  {
   "cell_type": "code",
   "execution_count": null,
   "metadata": {},
   "outputs": [],
   "source": []
  }
 ],
 "metadata": {
  "language_info": {
   "name": "python",
   "codemirror_mode": {
    "name": "ipython",
    "version": 3
   },
   "version": "3.8.2-final"
  },
  "orig_nbformat": 2,
  "file_extension": ".py",
  "mimetype": "text/x-python",
  "name": "python",
  "npconvert_exporter": "python",
  "pygments_lexer": "ipython3",
  "version": 3,
  "kernelspec": {
   "name": "python3",
   "display_name": "Python 3"
  }
 },
 "nbformat": 4,
 "nbformat_minor": 2
}