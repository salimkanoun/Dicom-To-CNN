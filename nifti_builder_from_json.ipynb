{
 "cells": [
  {
   "cell_type": "code",
   "execution_count": 2,
   "metadata": {},
   "outputs": [],
   "source": [
    "import json\n",
    "import os\n",
    "from library_dicom.dicom_processor.model.Series import Series \n",
    "from library_dicom.dicom_processor.model.SeriesPT import SeriesPT\n",
    "from library_dicom.dicom_processor.model.SeriesCT import SeriesCT\n",
    "from library_dicom.dicom_processor.model.csv_reader.MaskBuilder import MaskBuilder\n",
    "\n",
    "from library_dicom.dicom_processor.tools.folders import *\n",
    "\n",
    "from library_dicom.dicom_processor.tools.create_mip import *\n",
    "from library_dicom.dicom_processor.tools.threshold_mask import *\n",
    "\n",
    "import numpy as np\n",
    "import SimpleITK as sitk\n",
    "\n",
    "import csv"
   ]
  },
  {
   "cell_type": "code",
   "execution_count": null,
   "metadata": {},
   "outputs": [],
   "source": []
  },
  {
   "cell_type": "code",
   "execution_count": 2,
   "metadata": {},
   "outputs": [],
   "source": [
    "#LIST FROM PARSE_FILTERED_DICOM_DATASET"
   ]
  },
  {
   "cell_type": "code",
   "execution_count": null,
   "metadata": {
    "tags": []
   },
   "outputs": [],
   "source": [
    "#LIST_PATH\n",
    "json_path = '/media/deeplearning/78ca2911-9e9f-4f78-b80a-848024b95f92/FLIP_NIFTI/dataset.json'\n",
    "dataset = []\n",
    "with open(json_path) as json_file : \n",
    "    reader = json.load(json_file)\n",
    "    for info in reader :\n",
    "        dataset.append(info)\n",
    "\n",
    "print(len(dataset))"
   ]
  },
  {
   "cell_type": "code",
   "execution_count": 37,
   "metadata": {},
   "outputs": [
    {
     "output_type": "execute_result",
     "data": {
      "text/plain": "['/media/deeplearning/78ca2911-9e9f-4f78-b80a-848024b95f92/FLIP/DICOM/Patient 11 a 30/2017014 CR 014/103468016 Scintigraphie sur TEP TDM/CT CT TAP 2.0 I30f 3',\n 'CT',\n '/media/deeplearning/78ca2911-9e9f-4f78-b80a-848024b95f92/FLIP/DICOM/Patient 11 a 30/2017014 CR 014/103468016 Scintigraphie sur TEP TDM/PT TEP TAP Corrig',\n 'PT',\n '1.2.250.1.38.2.1.102.140724093005.103468016',\n '2017014',\n 'cr_014_jul 25_2014.csv']"
     },
     "metadata": {},
     "execution_count": 37
    }
   ],
   "source": [
    "dataset[0]"
   ]
  },
  {
   "cell_type": "code",
   "execution_count": null,
   "metadata": {},
   "outputs": [],
   "source": [
    "#BUILD NIFTI FROM DATASET 1 2 et 3"
   ]
  },
  {
   "cell_type": "markdown",
   "metadata": {
    "tags": []
   },
   "source": [
    "json_path = '/media/deeplearning/78ca2911-9e9f-4f78-b80a-848024b95f92/GAINED_NIFTI/json_dataset_4/dataset_4.json'\n",
    "dataset_4 = []\n",
    "with open(json_path) as json_file : \n",
    "    reader = json.load(json_file)\n",
    "    for info in reader :\n",
    "        dataset_4.append(info)\n",
    "\n",
    "print(len(dataset_4))"
   ]
  },
  {
   "cell_type": "markdown",
   "metadata": {},
   "source": [
    "#REWRITE GOOD PATH\n",
    "\n",
    "for serie in dataset : \n",
    "    for i in range(0,3,2) :\n",
    "        serie[i] = serie[i].replace('salim', 'deeplearning')\n",
    "\n",
    "for serie in dataset : \n",
    "    for i in range(0,3,2) :\n",
    "        serie[i] = serie[i].replace('DD 2To', '78ca2911-9e9f-4f78-b80a-848024b95f92') "
   ]
  },
  {
   "cell_type": "markdown",
   "metadata": {},
   "source": [
    "write_json_file('/media/deeplearning/78ca2911-9e9f-4f78-b80a-848024b95f92/GAINED_NIFTI_PET2', 'dataset', dataset)"
   ]
  },
  {
   "cell_type": "code",
   "execution_count": 40,
   "metadata": {},
   "outputs": [],
   "source": [
    "#remove remove_bi_file\n",
    "\n",
    "paths = get_series_path('/media/deeplearning/78ca2911-9e9f-4f78-b80a-848024b95f92/FLIP/DICOM')\n"
   ]
  },
  {
   "cell_type": "code",
   "execution_count": 43,
   "metadata": {},
   "outputs": [],
   "source": [
    "from library_dicom.dicom_processor.tools.folders import *\n",
    "for path in paths : \n",
    "    remove_bi_file(path)\n",
    "\n"
   ]
  },
  {
   "cell_type": "code",
   "execution_count": null,
   "metadata": {},
   "outputs": [],
   "source": []
  },
  {
   "cell_type": "code",
   "execution_count": 39,
   "metadata": {
    "tags": []
   },
   "outputs": [
    {
     "output_type": "stream",
     "name": "stdout",
     "text": "0\nMASK CORRECT\nin method 'Image_SetSpacing', argument 2 of type 'std::vector< double,std::allocator< double > > const &'\n['/media/deeplearning/78ca2911-9e9f-4f78-b80a-848024b95f92/FLIP/DICOM/Patient 31 à 50/2017031 CR 031/Unknown Study/PT p8273s0_FUE_ctac_resamp.img 3DRAMLA', 'PT', '/media/deeplearning/78ca2911-9e9f-4f78-b80a-848024b95f92/FLIP/DICOM/Patient 31 à 50/2017031 CR 031/Unknown Study/CT', 'CT', '1.2.840.113704.1.111.920.1223892920.6', '2017031', 'cr_031_oct 13_2008.csv']\n1\nMASK CORRECT\nEXPORT NIFTI PT\nin method 'Image_SetSpacing', argument 2 of type 'std::vector< double,std::allocator< double > > const &'\n['/media/deeplearning/78ca2911-9e9f-4f78-b80a-848024b95f92/FLIP/DICOM/Patient 31 à 50/2017042 CR 042/A22514015868 TEP corps entier/CT CT TAP 3.0 B30s', 'CT', '/media/deeplearning/78ca2911-9e9f-4f78-b80a-848024b95f92/FLIP/DICOM/Patient 31 à 50/2017042 CR 042/A22514015868 TEP corps entier/PT PET TAP AC HD', 'PT', '1.2.840.113711.41813.3.11624.395627943.26.2116281012.16890', '2017042', 'cr_042_jul 16_2013.csv']\n2\nFALSE MASK\n{1: {'SUV_max': 8.62, 'SUV_mean': 4.87, 'SD': 1.14}, 2: {'SUV_max': 8.91, 'SUV_mean': 5.17, 'SD': 1.2}, 3: {'SUV_max': 9.35, 'SUV_mean': 5.35, 'SD': 1.2}, 4: {'SUV_max': 9.18, 'SUV_mean': 5.21, 'SD': 1.07}, 5: {'SUV_max': 9.39, 'SUV_mean': 5.08, 'SD': 0.99}, 6: {'SUV_max': 5.51, 'SUV_mean': 2.88, 'SD': 0.7}, 7: {'SUV_max': 9.65, 'SUV_mean': 5.33, 'SD': 1.06}, 8: {'SUV_max': 12.49, 'SUV_mean': 6.67, 'SD': 1.19}, 9: {'SUV_max': 12.49, 'SUV_mean': 6.65, 'SD': 1.19}, 10: {'SUV_max': 8.55, 'SUV_mean': 4.9, 'SD': 1.06}, 11: {'SUV_max': 12.75, 'SUV_mean': 7.16, 'SD': 1.58}, 12: {'SUV_max': 7.83, 'SUV_mean': 4.63, 'SD': 1.1}, 13: {'SUV_max': 10.32, 'SUV_mean': 5.68, 'SD': 1.13}, 14: {'SUV_max': 10.27, 'SUV_mean': 5.91, 'SD': 1.1}, 15: {'SUV_max': 10.27, 'SUV_mean': 6.16, 'SD': 1.48}, 16: {'SUV_max': 8.75, 'SUV_mean': 4.74, 'SD': 1.02}, 17: {'SUV_max': 8.44, 'SUV_mean': 4.94, 'SD': 1.44}, 18: {'SUV_max': 12.21, 'SUV_mean': 7.67, 'SD': 1.92}, 19: {'SUV_max': 4.26, 'SUV_mean': 2.18, 'SD': 0.62}, 20: {'SUV_max': 7.34, 'SUV_mean': 4.35, 'SD': 1.1}, 21: {'SUV_max': 8.19, 'SUV_mean': 4.71, 'SD': 1.2}, 22: {'SUV_max': 5.06, 'SUV_mean': 2.59, 'SD': 0.57}, 23: {'SUV_max': 10.59, 'SUV_mean': 6.9, 'SD': 1.69}, 24: {'SUV_max': 6.21, 'SUV_mean': 3.72, 'SD': 1.19}, 25: {'SUV_max': 5.56, 'SUV_mean': 3.48, 'SD': 0.89}}\n[14, 'ELLIPSE', 1.7300000000000004]\n[14, 'ELLIPSE', 0.5899999999999999]\n[14, 'ELLIPSE', 0.18999999999999995]\ntaille mask :  (168, 168, 424, 25)\n3\nMASK CORRECT\nin method 'Image_SetSpacing', argument 2 of type 'std::vector< double,std::allocator< double > > const &'\n['/media/deeplearning/78ca2911-9e9f-4f78-b80a-848024b95f92/FLIP/DICOM/Patient 11 a 30/2017011 CR 011/A22103164845 TEP corps entier/PT PET TAP AC HD', 'PT', '/media/deeplearning/78ca2911-9e9f-4f78-b80a-848024b95f92/FLIP/DICOM/Patient 11 a 30/2017011 CR 011/A22103164845 TEP corps entier/CT CT TAP 3.0 B30s', 'CT', '2.16.840.1.113669.632.20.310000.20002886092', '2017011', 'cr_011_dec 7_2012.csv']\n"
    }
   ],
   "source": [
    "#On met les erreurs de coté\n",
    "#generer mip en meme temps \n",
    "\n",
    "nifti_directory = '/media/deeplearning/78ca2911-9e9f-4f78-b80a-848024b95f92/FLIP_NIFTI'\n",
    "\n",
    "csv_directory = '/media/deeplearning/78ca2911-9e9f-4f78-b80a-848024b95f92/FLIP/CSV'\n",
    "mip_directory = '/media/deeplearning/78ca2911-9e9f-4f78-b80a-848024b95f92/FLIP_NIFTI/MIP'\n",
    "\n",
    "\n",
    "\n",
    "false_mask_dataset_1 = []\n",
    "error_dataset_1 = []\n",
    "path_mip = []\n",
    "\n",
    "results_false_mask = []\n",
    "\n",
    "for serie in dataset: \n",
    "    try : \n",
    "        #print(serie)\n",
    "        print(dataset.index(serie))\n",
    "        subliste = []\n",
    "\n",
    "        results = []\n",
    "\n",
    "        if serie[1] == 'PT' : \n",
    "            \n",
    "            serie_pt_objet = SeriesPT(serie[0])\n",
    "            nifti_array = serie_pt_objet.get_numpy_array()\n",
    "            study_uid = serie_pt_objet.get_series_details()['study']['StudyInstanceUID']\n",
    "\n",
    "\n",
    "\n",
    "            size_matrix = serie_pt_objet.get_size_matrix()\n",
    "            mask_objet = MaskBuilder(os.path.join(csv_directory, serie[6]), size_matrix)\n",
    "            mask_4D = mask_objet.mask_array\n",
    "\n",
    "            number_roi = mask_4D.shape[3]\n",
    "            threshold = mask_objet.details_rois['SUVlo']\n",
    "        #seuillage\n",
    "\n",
    "\n",
    "            if mask_objet.is_correct_suv(nifti_array) == True : #si mask correct \n",
    "                print(\"MASK CORRECT\")\n",
    "                    #generation nifti PT\n",
    "                filename_pt = study_uid+'_'+'nifti_'+'PT'+'.nii'\n",
    "                serie_pt_objet.export_nifti(os.path.join(nifti_directory, filename_pt))\n",
    "                print(\"EXPORT NIFTI PT\")\n",
    "                    #generation nifti CT\n",
    "                serie_ct_objet = SeriesCT(serie[2])\n",
    "                serie_ct_objet.get_numpy_array()\n",
    "                filename_ct = study_uid+'_'+'nifti_'+'CT'+'.nii'\n",
    "                serie_ct_objet.export_nifti(os.path.join(nifti_directory, filename_ct))\n",
    "                print(\"EXPORT NIFTI CT\")\n",
    "                    #generation nifti mask\n",
    "                filename_mask = study_uid+'_'+'nifti_'+'mask'+'.nii'\n",
    "                serie_pt_objet.export_nifti(os.path.join(nifti_directory, filename_mask), mask_4D)\n",
    "                print(\"EXPORT NIFTI MASK\")\n",
    "                #shutil.rmtree(os.path.join(dicom_directory+'/'+serie[-2], serie[]))\n",
    "                #print(\"dicom effacé\")\n",
    "\n",
    "            else : \n",
    "                print(\"FALSE MASK\")\n",
    "                false_mask_dataset_1.append(serie)\n",
    "                print(mask_objet.calcul_suv(nifti_array))\n",
    "                results.append(mask_objet.calcul_suv(nifti_array))\n",
    "                print(mask_objet.ecart_suv_max(nifti_array))\n",
    "                results.append(mask_objet.ecart_suv_max(nifti_array))\n",
    "                print(mask_objet.ecart_suv_mean(nifti_array))\n",
    "                results.append(mask_objet.ecart_suv_mean(nifti_array))\n",
    "                print(mask_objet.ecart_SD(nifti_array))\n",
    "                results.append(mask_objet.ecart_SD(nifti_array))\n",
    "\n",
    "                results_false_mask.append(results)\n",
    "                mask_4D = threshold_mask(mask_4D, mask_objet.details_rois, nifti_array)\n",
    "\n",
    "                angle_filename = mip_projection(nifti_array, 0, mip_directory, study_uid, borne_max = 5.0)             #mip.png PET\n",
    "                subliste.append(angle_filename)\n",
    "                angle_filename_mask = mip_projection_4D(mask_4D, 0, mip_directory, study_uid, number_roi, borne_max = 1.0)\n",
    "        #mip.png MASK\n",
    "                subliste.append(angle_filename_mask)\n",
    "\n",
    "                path_mip.append(subliste)\n",
    "\n",
    "\n",
    "        else : \n",
    "            serie_pt_objet = SeriesPT(serie[2])\n",
    "            nifti_array = serie_pt_objet.get_numpy_array()\n",
    "            study_uid = serie_pt_objet.get_series_details()['study']['StudyInstanceUID']\n",
    "\n",
    "            size_matrix = serie_pt_objet.get_size_matrix()\n",
    "            mask_objet = MaskBuilder(os.path.join(csv_directory, serie[6]), size_matrix)\n",
    "            mask_4D = mask_objet.mask_array\n",
    "\n",
    "            number_roi = mask_4D.shape[3]\n",
    "            threshold = mask_objet.details_rois['SUVlo']\n",
    "        #seuillage\n",
    "\n",
    "\n",
    "            if mask_objet.is_correct_suv(nifti_array) == True : #si mask correct \n",
    "                print(\"MASK CORRECT\")\n",
    "                    #generation nifti PT\n",
    "                filename_pt = study_uid+'_'+'nifti_'+'PT'+'.nii'\n",
    "                serie_pt_objet.export_nifti(os.path.join(nifti_directory, filename_pt))\n",
    "                print(\"EXPORT NIFTI PT\")\n",
    "                     #generation nifti CT\n",
    "                serie_ct_objet = SeriesCT(serie[0])\n",
    "                serie_ct_objet.get_numpy_array()\n",
    "                filename_ct = study_uid+'_'+'nifti_'+'CT'+'.nii'\n",
    "                serie_ct_objet.export_nifti(os.path.join(nifti_directory, filename_ct))\n",
    "                print(\"EXPORT NIFTI CT\")\n",
    "                    #generation nifti mask\n",
    "                filename_mask = study_uid+'_'+'nifti_'+'mask'+'.nii'\n",
    "                serie_pt_objet.export_nifti(os.path.join(nifti_directory, filename_mask), mask_4D)\n",
    "                print(\"EXPORT NIFTI MASK\")\n",
    "                #shutil.rmtree(os.path.join(dicom_directory, serie[-2]))\n",
    "                #print('dicom effacé')\n",
    "            else : \n",
    "                print(\"FALSE MASK\")\n",
    "                false_mask_dataset_1.append(serie)\n",
    "                print(mask_objet.calcul_suv(nifti_array))\n",
    "                results.append(mask_objet.calcul_suv(nifti_array))\n",
    "                print(mask_objet.ecart_suv_max(nifti_array))\n",
    "                results.append(mask_objet.ecart_suv_max(nifti_array))\n",
    "                print(mask_objet.ecart_suv_mean(nifti_array))\n",
    "                results.append(mask_objet.ecart_suv_mean(nifti_array))\n",
    "                print(mask_objet.ecart_SD(nifti_array))\n",
    "                results.append(mask_objet.ecart_SD(nifti_array))\n",
    "\n",
    "                results_false_mask.append(results)\n",
    "                mask_4D = threshold_mask(mask_4D, mask_objet.details_rois, nifti_array)\n",
    "\n",
    "                angle_filename = mip_projection(nifti_array, 0, mip_directory, study_uid, borne_max = 5.0)             #mip.png PET\n",
    "                subliste.append(angle_filename)\n",
    "                angle_filename_mask = mip_projection_4D(mask_4D, 0, mip_directory, study_uid, number_roi, borne_max = 1.0)\n",
    "        #mip.png MASK\n",
    "                subliste.append(angle_filename_mask)\n",
    "\n",
    "                path_mip.append(subliste)\n",
    "               \n",
    "\n",
    "    except Exception as err : \n",
    "        print(err)\n",
    "        print(serie)\n",
    "        error_dataset_1.append(serie)\n"
   ]
  },
  {
   "cell_type": "code",
   "execution_count": 45,
   "metadata": {
    "tags": []
   },
   "outputs": [
    {
     "output_type": "stream",
     "name": "stdout",
     "text": "10\n13\n"
    }
   ],
   "source": [
    "print(len(error_dataset_1))\n",
    "print(len(false_mask_dataset_1))"
   ]
  },
  {
   "cell_type": "code",
   "execution_count": 46,
   "metadata": {},
   "outputs": [],
   "source": [
    "#SAVE THE SERIE WITH FALSE MASK \n",
    "write_json_file('/media/deeplearning/78ca2911-9e9f-4f78-b80a-848024b95f92/FLIP_NIFTI', 'false_mask', false_mask_dataset_1)\n",
    "write_json_file('/media/deeplearning/78ca2911-9e9f-4f78-b80a-848024b95f92/FLIP_NIFTI', 'false_mask_results', results_false_mask)\n",
    "\n",
    "write_json_file('/media/deeplearning/78ca2911-9e9f-4f78-b80a-848024b95f92/FLIP_NIFTI', 'error', error_dataset_1)\n",
    "write_json_file('/media/deeplearning/78ca2911-9e9f-4f78-b80a-848024b95f92/FLIP_NIFTI/MIP', 'path_mip', path_mip)"
   ]
  },
  {
   "cell_type": "code",
   "execution_count": 47,
   "metadata": {},
   "outputs": [],
   "source": [
    "#create pdf \n",
    "filename = os.path.join(mip_directory, 'list_mip_dataset.pdf')\n",
    "create_pdf_mip(path_mip, filename)"
   ]
  },
  {
   "cell_type": "code",
   "execution_count": null,
   "metadata": {},
   "outputs": [],
   "source": []
  },
  {
   "cell_type": "code",
   "execution_count": null,
   "metadata": {},
   "outputs": [],
   "source": []
  },
  {
   "cell_type": "code",
   "execution_count": null,
   "metadata": {},
   "outputs": [],
   "source": []
  },
  {
   "cell_type": "code",
   "execution_count": 3,
   "metadata": {},
   "outputs": [],
   "source": [
    "#REGENERATE MASK \n",
    "#READ CSV \n",
    "\n",
    "\n",
    "csv_pet0_path = '/media/deeplearning/78ca2911-9e9f-4f78-b80a-848024b95f92/GAINED_NIFTI/GAINED_PET0_NIFTI.csv'\n",
    "\n",
    "with open(csv_pet0_path, 'r') as csv_file :\n",
    "    reader = csv.reader(csv_file, delimiter = ',') #liste pour chaque ligne \n",
    "    csv_data = []\n",
    "    for row in reader :\n",
    "        csv_data.append(row)\n",
    "        \n",
    "del csv_data[0] #enlever première ligne"
   ]
  },
  {
   "cell_type": "code",
   "execution_count": 4,
   "metadata": {},
   "outputs": [],
   "source": [
    "liste = []\n",
    "for row in csv_data : \n",
    "    subliste = []\n",
    "    subliste.append(row[0]) #patient id\n",
    "    subliste.append(row[1]) #study uid\n",
    "    subliste.append(row[-1]) #mask \n",
    "\n",
    "    liste.append(subliste)"
   ]
  },
  {
   "cell_type": "code",
   "execution_count": 4,
   "metadata": {},
   "outputs": [
    {
     "output_type": "execute_result",
     "data": {
      "text/plain": "573"
     },
     "metadata": {},
     "execution_count": 4
    }
   ],
   "source": [
    "len(liste)"
   ]
  },
  {
   "cell_type": "code",
   "execution_count": 5,
   "metadata": {
    "tags": []
   },
   "outputs": [
    {
     "output_type": "stream",
     "name": "stdout",
     "text": "140\n210\n179\n50\n"
    }
   ],
   "source": [
    "#lire dataset et recuperer les csv \n",
    "json_path = '/media/deeplearning/78ca2911-9e9f-4f78-b80a-848024b95f92/GAINED_NIFTI/json_dataset_1/dataset_1.json'\n",
    "dataset_1 = []\n",
    "with open(json_path) as json_file : \n",
    "    reader = json.load(json_file)\n",
    "    for info in reader :\n",
    "        dataset_1.append(info)\n",
    "\n",
    "print(len(dataset_1))\n",
    "\n",
    "\n",
    "json_path = '/media/deeplearning/78ca2911-9e9f-4f78-b80a-848024b95f92/GAINED_NIFTI/json_dataset_2/dataset_2.json'\n",
    "dataset_2 = []\n",
    "with open(json_path) as json_file : \n",
    "    reader = json.load(json_file)\n",
    "    for info in reader :\n",
    "        dataset_2.append(info)\n",
    "\n",
    "print(len(dataset_2))\n",
    "\n",
    "json_path = '/media/deeplearning/78ca2911-9e9f-4f78-b80a-848024b95f92/GAINED_NIFTI/json_dataset_3/dataset_3.json'\n",
    "dataset_3 = []\n",
    "with open(json_path) as json_file : \n",
    "    reader = json.load(json_file)\n",
    "    for info in reader :\n",
    "        dataset_3.append(info)\n",
    "\n",
    "print(len(dataset_3))\n",
    "\n",
    "json_path = '/media/deeplearning/78ca2911-9e9f-4f78-b80a-848024b95f92/GAINED_NIFTI/unconstant_spacing/unconstant_spacing.json'\n",
    "dataset_4 = []\n",
    "with open(json_path) as json_file : \n",
    "    reader = json.load(json_file)\n",
    "    for info in reader :\n",
    "        dataset_4.append(info)\n",
    "\n",
    "print(len(dataset_4))"
   ]
  },
  {
   "cell_type": "code",
   "execution_count": 6,
   "metadata": {},
   "outputs": [
    {
     "output_type": "execute_result",
     "data": {
      "text/plain": "579"
     },
     "metadata": {},
     "execution_count": 6
    }
   ],
   "source": [
    "len(dataset_1)+len(dataset_2)+len(dataset_3)+len(dataset_4)"
   ]
  },
  {
   "cell_type": "code",
   "execution_count": 7,
   "metadata": {},
   "outputs": [],
   "source": [
    "#ajouter csv pour unconstant_spacing/dataset_4\n",
    "\n",
    "csv_directory = '/media/deeplearning/78ca2911-9e9f-4f78-b80a-848024b95f92/GAINED_CSV_DATA/Export_Gained/CSV41/PET0'\n",
    "liste_csv = os.listdir(csv_directory)"
   ]
  },
  {
   "cell_type": "code",
   "execution_count": 8,
   "metadata": {},
   "outputs": [
    {
     "output_type": "execute_result",
     "data": {
      "text/plain": "['/media/salim/DD 2To/GAINED_Validated_DICOMS/11011101031009/1.2.840.113619.2.55.3.698894.110.1378271612.544/1.2.840.113619.2.131.698894.1378366825.915943/1.2.840.113619.2.131.698894.1378366825.915943',\n 'PT',\n '/media/salim/DD 2To/GAINED_Validated_DICOMS/11011101031009/1.2.840.113619.2.55.3.698894.110.1378271612.544/1.2.840.113619.2.55.3.698894.110.1378271612.548.3/1.2.840.113619.2.55.3.698894.110.1378271612.548.3',\n 'CT',\n 'review445.csv',\n '11011101031009']"
     },
     "metadata": {},
     "execution_count": 8
    }
   ],
   "source": [
    "dataset_4[0]"
   ]
  },
  {
   "cell_type": "code",
   "execution_count": 9,
   "metadata": {},
   "outputs": [],
   "source": [
    "for data in dataset_4 : \n",
    "    patient_id = data[5]\n",
    "    for csv_file in liste_csv : \n",
    "        if patient_id in csv_file : \n",
    "            data.append(csv_file)\n"
   ]
  },
  {
   "cell_type": "code",
   "execution_count": null,
   "metadata": {},
   "outputs": [],
   "source": []
  },
  {
   "cell_type": "code",
   "execution_count": 10,
   "metadata": {
    "tags": []
   },
   "outputs": [
    {
     "output_type": "stream",
     "name": "stdout",
     "text": "579\n"
    }
   ],
   "source": [
    "dataset = dataset_1 + dataset_2 + dataset_3 + dataset_4\n",
    "\n",
    "print(len(dataset))"
   ]
  },
  {
   "cell_type": "code",
   "execution_count": 11,
   "metadata": {
    "tags": []
   },
   "outputs": [],
   "source": [
    "for mask in liste : \n",
    "    #print(liste.index(mask))\n",
    "    for serie in dataset :\n",
    "        #print(dataset.index(serie))\n",
    "        if mask[1] in serie[0] : #if study id dans la serie => bonne série\n",
    "            #print(serie)\n",
    "            mask.append(serie[6]) #on rajoute csv apres"
   ]
  },
  {
   "cell_type": "code",
   "execution_count": 12,
   "metadata": {
    "tags": []
   },
   "outputs": [
    {
     "output_type": "stream",
     "name": "stdout",
     "text": "573\n"
    }
   ],
   "source": [
    "print(len(liste))"
   ]
  },
  {
   "cell_type": "code",
   "execution_count": 14,
   "metadata": {},
   "outputs": [
    {
     "output_type": "execute_result",
     "data": {
      "text/plain": "['11011101021002',\n '1.2.250.1.59.470.940100027.1.20130128113103.7763.17688',\n '/media/deeplearning/78ca2911-9e9f-4f78-b80a-848024b95f92/GAINED_NIFTI/11011101021002/pet0/1.2.250.1.59.470.940100027.1.20130128113103.7763.17688_nifti_mask.nii',\n 'patient_11011101021002_PET_0_review_18_41.csv']"
     },
     "metadata": {},
     "execution_count": 14
    }
   ],
   "source": [
    "liste[1]"
   ]
  },
  {
   "cell_type": "code",
   "execution_count": 13,
   "metadata": {
    "tags": []
   },
   "outputs": [
    {
     "output_type": "stream",
     "name": "stdout",
     "text": "11011101021001\n(144, 144, 234, 9)\n11011101021002\n(144, 144, 255, 49)\n11011101021003\n(144, 144, 255, 12)\n11011101021004\n(144, 144, 234, 3)\n11011101021005\n(144, 144, 276, 5)\n11011101021006\n(144, 144, 234, 2)\n11011101021007\n(144, 144, 255, 3)\n11011101021008\n(144, 144, 276, 2)\n11011101021009\n(144, 144, 255, 4)\n11011101021010\n(144, 144, 234, 4)\n11011101021011\n(144, 144, 255, 2)\n11011101021012\n(144, 144, 275, 14)\n11011101021013\n(144, 144, 234, 1)\n11011101021014\n(144, 144, 276, 15)\n11011101031001\n(200, 200, 481, 9)\n11011101031002\n(144, 144, 255, 18)\n11011101031003\n(256, 256, 515, 2)\n11011101031004\n(144, 144, 276, 58)\n11011101031005\n(200, 200, 246, 70)\n11011101031006\n(144, 144, 254, 13)\n11011101031007\n(144, 144, 234, 7)\n11011101031008\n(144, 144, 276, 11)\n11011101031009\n(128, 128, 313, 3)\n11011101031011\n(200, 200, 543, 24)\n11011101031012\n(144, 144, 234, 11)\n11011101031013\n(256, 256, 263, 62)\n11011101031015\n(256, 256, 299, 47)\n11011101031016\n(200, 200, 915, 18)\n11011101051001\n(168, 168, 390, 4)\n11011101051003\n(256, 256, 335, 3)\n11011101051004\n(144, 144, 213, 7)\n11011101051005\n(256, 256, 299, 10)\n11011101051006\n(168, 168, 437, 8)\n11011101051012\n(256, 256, 335, 21)\n11011101051013\n(256, 256, 335, 49)\n11011101051014\n(168, 168, 390, 5)\n11011101051016\n(256, 256, 299, 20)\n11011101051017\n(256, 256, 299, 1)\n11011101051018\n(256, 256, 299, 3)\n11011101051019\n(256, 256, 335, 5)\n11011101051020\n(144, 144, 255, 7)\n11011101051021\n(256, 256, 335, 22)\n11011101051022\n(256, 256, 299, 40)\n11011101051023\n(256, 256, 299, 9)\n11011101051025\n(256, 256, 299, 10)\n11011101051026\n(256, 256, 335, 10)\n11011101051028\n(256, 256, 335, 21)\n11011101051029\n(256, 256, 335, 3)\n11011101051030\n(256, 256, 263, 13)\n11011101051031\n(200, 200, 543, 3)\n11011101051032\n(256, 256, 335, 18)\n11011101051033\n(256, 256, 335, 34)\n11011101061003\n(168, 168, 405, 6)\n11011101061004\n(168, 168, 479, 15)\n11011101061005\n(168, 168, 324, 59)\n11011101061006\n(168, 168, 405, 36)\n11011101061007\n(168, 168, 479, 15)\n11011101061008\n(168, 168, 274, 30)\n11011101061009\n(168, 168, 479, 106)\n11011101061010\n(168, 168, 405, 104)\n11011101061011\n(168, 168, 405, 4)\n11011101061012\n(168, 168, 405, 3)\n11011101061013\n(168, 168, 479, 33)\n11011101061014\n(168, 168, 405, 12)\n11011101071001\n(168, 168, 424, 15)\n11011101071002\n(168, 168, 324, 20)\n11011101071003\n(168, 168, 374, 10)\n11011101071005\n(168, 168, 374, 1)\n11011101071006\n(168, 168, 324, 13)\n51011101371013\n(128, 128, 327, 87)\n51011101371014\n(128, 128, 287, 9)\n51011101371015\n(128, 128, 287, 6)\n51011101371016\n(128, 128, 327, 6)\n51011101371017\n(128, 128, 287, 30)\n51011101371019\n(128, 128, 287, 17)\n51011101371020\n(128, 128, 327, 27)\n51011101371021\n(128, 128, 287, 29)\n51011101371024\n(128, 128, 287, 3)\n51011101401001\n(144, 144, 255, 13)\n51011101401002\n(144, 144, 234, 3)\n51011101401003\n(144, 144, 255, 7)\n51011101401004\n(144, 144, 297, 37)\n51011101401005\n(169, 169, 234, 9)\n51011101401006\n(144, 144, 234, 2)\n51011101701002\n(168, 168, 430, 10)\n51011101701003\n(168, 168, 430, 1)\n51011101711001\n(192, 192, 335, 19)\n51011101711002\n(192, 192, 335, 2)\n51011101721001\n(200, 200, 481, 15)\n51011101731001\n(256, 256, 335, 40)\n51011101731002\n(256, 256, 227, 17)\n51011101731003\n(256, 256, 299, 1)\n51011101731004\n(256, 256, 335, 5)\n51011101731005\n(256, 256, 299, 17)\n51011101731006\n(256, 256, 299, 6)\n51011101731007\n(256, 256, 299, 4)\n51011101751001\n(200, 200, 481, 6)\n51011101811001\n(256, 256, 335, 29)\n51011101811002\n(168, 168, 215, 23)\n51011101811003\n(256, 256, 299, 18)\n51011101811004\n(168, 168, 215, 59)\n51011101831001\n(256, 256, 299, 19)\n51011101831002\n(256, 256, 299, 17)\n51011101831003\n(256, 256, 263, 23)\n51011101831004\n(256, 256, 299, 11)\n51011101831005\n(256, 256, 299, 9)\n51011101831006\n(256, 256, 299, 32)\n51011101831007\n(256, 256, 335, 31)\n51011101831008\n(256, 256, 263, 23)\n51011101841001\n(200, 200, 605, 2)\n51011101841002\n(200, 200, 419, 7)\n51011101841003\n(200, 200, 419, 43)\n51011101841005\n(128, 128, 275, 1)\n51011101841006\n(200, 200, 481, 4)\n51011101841007\n(200, 200, 605, 11)\n51011101841008\n(200, 200, 481, 6)\n51011101841009\n(200, 200, 481, 32)\n51011101841010\n(200, 200, 419, 2)\n51011101841011\n(200, 200, 481, 40)\n51011101841012\n(200, 200, 977, 5)\n51011101841013\n(200, 200, 481, 109)\n51011101841014\n(200, 200, 481, 4)\n51011101851001\n(144, 144, 255, 28)\n51011101851002\n(169, 169, 255, 6)\n51011101851003\n(144, 144, 255, 4)\n51011101851004\n(144, 144, 255, 31)\n51011101851005\n(169, 169, 255, 1)\n11011101051027\n(256, 256, 299, 38)\n11011101071007\n(168, 168, 374, 5)\n11011101071008\n(168, 168, 324, 18)\n11011101071009\n(168, 168, 424, 2)\n11011101071010\n(168, 168, 324, 14)\n11011101071011\n(168, 168, 274, 12)\n11011101071012\n(168, 168, 374, 8)\n11011101071013\n(168, 168, 324, 6)\n11011101071014\n(168, 168, 324, 11)\n11011101071015\n(168, 168, 324, 32)\n11011101071016\n(168, 168, 324, 5)\n11011101071018\n(168, 168, 324, 17)\n11011101071019\n(168, 168, 324, 61)\n11011101071020\n(168, 168, 274, 11)\n11011101071021\n(168, 168, 324, 27)\n11011101071022\n(256, 256, 319, 59)\n11011101071023\n(168, 168, 324, 10)\n11011101071024\n(256, 256, 319, 65)\n11011101071025\n(256, 256, 319, 4)\n11011101071026\n(256, 256, 319, 24)\n11011101071027\n(256, 256, 319, 4)\n11011101071028\n(144, 144, 213, 23)\n11011101071029\n(256, 256, 319, 16)\n11011101071030\n(168, 168, 324, 63)\n11011101071031\n(256, 256, 319, 9)\n11011101091001\n(168, 168, 487, 11)\n11011101091002\n(168, 168, 429, 9)\n11011101091003\n(168, 168, 371, 19)\n11011101091004\n(168, 168, 429, 15)\n11011101091005\n(128, 128, 429, 7)\n11011101091006\n(168, 168, 371, 3)\n11011101091007\n(128, 128, 371, 4)\n11011101091008\n(168, 168, 429, 28)\n11011101091009\n(256, 256, 623, 5)\n11011101091010\n(168, 168, 487, 49)\n11011101091011\n(256, 256, 263, 16)\n11011101091012\n(256, 256, 623, 7)\n11011101091013\n(256, 256, 263, 5)\n11011101091014\n(256, 256, 263, 17)\n11011101091015\n(168, 168, 429, 54)\n11011101091016\n(256, 256, 263, 72)\n11011101091017\n(200, 200, 481, 8)\n11011101091018\n(168, 168, 487, 21)\n11011101091019\n(256, 256, 587, 6)\n11011101091020\n(256, 256, 299, 3)\n11011101091021\n(168, 168, 487, 3)\n11011101091022\n(168, 168, 545, 9)\n11011101131001\n(256, 256, 481, 54)\n11011101131003\n(256, 256, 481, 4)\n11011101131004\n(256, 256, 543, 10)\n11011101131005\n(256, 256, 481, 8)\n11011101151001\n(168, 168, 325, 4)\n11011101151002\n(168, 168, 287, 14)\n11011101151003\n(168, 168, 287, 13)\n11011101151004\n(168, 168, 287, 19)\n11011101151005\n(168, 168, 248, 7)\n11011101161001\n(144, 144, 297, 9)\n11011101161002\n(144, 144, 360, 21)\n11011101161003\n(144, 144, 360, 23)\n11011101161004\n(144, 144, 297, 7)\n11011101171001\n(256, 256, 299, 21)\n11011101171002\n(256, 256, 335, 14)\n11011101171003\n(256, 256, 335, 20)\n11011101171004\n(256, 256, 299, 2)\n11011101171005\n(256, 256, 335, 4)\n11011101191001\n(144, 144, 255, 5)\n11011101191002\n(200, 200, 246, 20)\n11011101191003\n(144, 144, 318, 20)\n11011101191004\n(144, 144, 255, 14)\n11011101191005\n(144, 144, 213, 16)\n11011101191006\n(144, 144, 255, 3)\n11011101191007\n(144, 144, 255, 23)\n11011101211001\n(128, 128, 299, 6)\n11011101211002\n(128, 128, 299, 18)\n11011101211003\n(128, 128, 371, 28)\n11011101211004\n(128, 128, 299, 2)\n11011101211005\n(128, 128, 335, 8)\n11011101211006\n(128, 128, 299, 14)\n11011101211007\n(128, 128, 335, 14)\n11011101211008\n(144, 144, 213, 9)\n11011101211009\n(128, 128, 299, 3)\n11011101211010\n(128, 128, 299, 13)\n11011101211011\n(128, 128, 299, 2)\n11011101211012\n(128, 128, 299, 2)\n11011101211013\n(128, 128, 335, 2)\n11011101211014\n(128, 128, 335, 2)\n11011101211015\n(128, 128, 335, 17)\n11011101211016\n(128, 128, 299, 4)\n11011101211017\n(256, 256, 299, 14)\n11011101211018\n(128, 128, 299, 2)\n11011101211019\n(128, 128, 299, 4)\n11011101211020\n(128, 128, 299, 22)\n11011101211021\n(128, 128, 299, 61)\n11011101211023\n(128, 128, 299, 16)\n11011101211024\n(128, 128, 299, 3)\n11011101221001\n(144, 144, 254, 4)\n11011101221002\n(144, 144, 276, 22)\n11011101221003\n(144, 144, 317, 8)\n11011101221004\n(169, 169, 297, 30)\n11011101221005\n(144, 144, 276, 35)\n11011101221006\n(169, 169, 318, 34)\n11011101221007\n(169, 169, 297, 11)\n11011101221008\n(144, 144, 276, 5)\n11011101221009\n(144, 144, 339, 23)\n11011101221010\n(144, 144, 276, 9)\n11011101221011\n(144, 144, 318, 13)\n11011101221012\n(169, 169, 318, 11)\n11011101221013\n(256, 256, 263, 12)\n11011101221014\n(144, 144, 276, 7)\n11011101221015\n(144, 144, 276, 27)\n11011101221016\n(256, 256, 263, 71)\n11011101221017\n(144, 144, 276, 23)\n11011101221018\n(144, 144, 276, 36)\n11011101221019\n(169, 169, 254, 18)\n11011101221020\n(144, 144, 297, 31)\n11011101221021\n(144, 144, 297, 3)\n11011101221022\n(144, 144, 297, 6)\n11011101221023\n(144, 144, 297, 49)\n11011101221024\n(144, 144, 276, 7)\n11011101221025\n(144, 144, 339, 23)\n11011101221026\n(144, 144, 276, 4)\n11011101221027\n(144, 144, 297, 22)\n11011101221028\n(169, 169, 318, 6)\n11011101231001\n(200, 200, 353, 10)\n11011101231002\n(200, 200, 323, 37)\n11011101231004\n(200, 200, 353, 18)\n11011101231005\n(200, 200, 323, 45)\n11011101231006\n(200, 200, 323, 12)\n11011101241001\n(168, 168, 324, 10)\n11011101241002\n(168, 168, 324, 65)\n11011101241003\n(168, 168, 324, 3)\n11011101241004\n(168, 168, 324, 7)\n11011101241005\n(168, 168, 274, 36)\n11011101241006\n(168, 168, 324, 5)\n11011101241007\n(128, 128, 297, 54)\n11011101241008\n(168, 168, 324, 32)\n11011101241009\n(168, 168, 324, 17)\n11011101241010\n(168, 168, 324, 6)\n11011101241011\n(168, 168, 324, 21)\n11011101241012\n(168, 168, 324, 74)\n11011101251001\n(200, 200, 419, 8)\n11011101251002\n(200, 200, 481, 34)\n11011101251003\n(200, 200, 481, 21)\n11011101251004\n(200, 200, 419, 8)\n11011101251005\n(256, 256, 299, 6)\n11011101251006\n(200, 200, 419, 45)\n11011101251007\n(200, 200, 481, 13)\n11011101251009\n(200, 200, 419, 43)\n11011101251010\n(200, 200, 419, 28)\n11011101251011\n(200, 200, 481, 62)\n11011101251012\n(200, 200, 419, 10)\n11011101251013\n(200, 200, 419, 43)\n11011101281001\n(256, 256, 299, 6)\n11011101281002\n(256, 256, 299, 19)\n11011101281003\n(256, 256, 299, 9)\n11011101281004\n(256, 256, 299, 70)\n11011101331003\n(144, 144, 276, 43)\n11011101331004\n(200, 200, 397, 35)\n11011101331005\n(144, 144, 234, 19)\n11011101331006\n(256, 256, 335, 68)\n11011101331007\n(256, 256, 335, 95)\n11011101341001\n(200, 200, 481, 42)\n11011101331010\n(256, 256, 320, 9)\n11011101331011\n(256, 256, 299, 27)\n11011101341002\n(128, 128, 313, 11)\n11011101341003\n(200, 200, 419, 25)\n11011101341004\n(200, 200, 481, 44)\n11011101391001\n(256, 256, 335, 89)\n11011101391002\n(256, 256, 299, 14)\n11011101391003\n(256, 256, 299, 19)\n11011101391004\n(256, 256, 335, 28)\n11011101391005\n(144, 144, 339, 12)\n11011101391006\n(256, 256, 551, 2)\n11011101391007\n(256, 256, 371, 9)\n11011101391008\n(144, 144, 234, 26)\n11011101391009\n(256, 256, 299, 5)\n11011101391010\n(256, 256, 299, 7)\n11011101391011\n(256, 256, 335, 31)\n11011101391012\n(144, 144, 297, 13)\n11011101391013\n(256, 256, 299, 8)\n11011101391014\n(128, 128, 299, 10)\n11011101391015\n(144, 144, 234, 8)\n11011101391016\n(256, 256, 299, 4)\n11011101391017\n(200, 200, 481, 65)\n11011101391018\n(256, 256, 371, 14)\n11011101391019\n(144, 144, 297, 12)\n11011101391020\n(169, 169, 234, 55)\n11011101391021\n(256, 256, 335, 46)\n11011101411001\n(256, 256, 587, 13)\n11011101411002\n(256, 256, 335, 17)\n11011101411003\n(256, 256, 299, 92)\n11011101411004\n(256, 256, 335, 28)\n11011101411005\n(256, 256, 515, 17)\n11011101411006\n(256, 256, 335, 31)\n11011101411007\n(256, 256, 335, 13)\n11011101411008\n(256, 256, 335, 9)\n11011101411009\n(256, 256, 335, 11)\n11011101431001\n(144, 144, 213, 3)\n11011101431002\n(144, 144, 255, 3)\n11011101431003\n(144, 144, 255, 6)\n11011101431004\n(169, 169, 276, 12)\n11011101431005\n(144, 144, 255, 1)\n11011101431006\n(169, 169, 276, 15)\n11011101431007\n(144, 144, 234, 9)\n11011101431008\n(144, 144, 255, 15)\n11011101441001\n(169, 169, 234, 23)\n11011101441002\n(169, 169, 213, 10)\n11011101441003\n(169, 169, 255, 61)\n11011101441004\n(169, 169, 213, 5)\n11011101441005\n(144, 144, 255, 44)\n11011101441006\n(169, 169, 213, 17)\n11011101461001\n(256, 256, 299, 100)\n11011101461002\n(128, 128, 275, 18)\n11011101461003\n(256, 256, 299, 66)\n11011101461004\n(256, 256, 299, 19)\n11011101461005\n(256, 256, 299, 5)\n11011101461006\n(256, 256, 299, 8)\n11011101481001\n(168, 168, 479, 9)\n11011101481002\n(168, 168, 405, 9)\n11011101481003\n(168, 168, 479, 76)\n11011101481004\n(168, 168, 324, 21)\n11011101481005\n(168, 168, 274, 7)\n11011101491001\n(144, 144, 213, 10)\n11011101491002\n(200, 200, 359, 84)\n11011101491003\n(200, 200, 356, 11)\n11011101491004\n(200, 200, 348, 1)\n11011101491005\n(200, 200, 341, 5)\n11011101541001\n(144, 144, 255, 17)\n11011101541002\n(144, 144, 213, 13)\n11011101601001\n(144, 144, 276, 2)\n11011101601002\n(169, 169, 234, 10)\n11011101621001\n(256, 256, 335, 17)\n11011101621002\n(256, 256, 299, 8)\n11011101631001\n(144, 144, 276, 10)\n11011101641001\n(144, 144, 255, 4)\n11011101641002\n(144, 144, 213, 10)\n11011101641003\n(144, 144, 255, 20)\n11011101641004\n(144, 144, 234, 26)\n11011101761001\n(256, 256, 299, 4)\n11011101761002\n(256, 256, 335, 6)\n11011101761003\n(256, 256, 299, 5)\n11011101761004\n(256, 256, 299, 6)\n11011101761005\n(256, 256, 299, 28)\n11011101761006\n(256, 256, 335, 15)\n11011101761007\n(256, 256, 335, 91)\n11011101761008\n(256, 256, 299, 2)\n11011101761009\n(256, 256, 335, 13)\n11011101761010\n(256, 256, 335, 38)\n11011101761011\n(256, 256, 299, 8)\n11011101761012\n(256, 256, 299, 3)\n11011101761015\n(256, 256, 335, 6)\n11011101761016\n(256, 256, 371, 10)\n11011101821002\n(256, 256, 335, 9)\n11011101821003\n(144, 144, 234, 8)\n11011102011001\n(256, 256, 263, 31)\n11011102151001\n(144, 144, 254, 6)\n11011102211001\n(256, 256, 371, 38)\n11011102211002\n(256, 256, 335, 33)\n11011102281001\n(256, 256, 263, 22)\n11011102321001\n(144, 144, 254, 23)\n11011102321002\n(144, 144, 254, 28)\n11011102321004\n(144, 144, 339, 8)\n11011102321005\n(200, 200, 543, 18)\n11011102321006\n(200, 200, 729, 6)\n11011102321007\n(144, 144, 339, 1)\n11011102321008\n(200, 200, 543, 42)\n11011102321009\n(144, 144, 297, 58)\n11011102321010\n(144, 144, 234, 22)\n11011102361001\n(256, 256, 371, 15)\n11011102361002\n(256, 256, 299, 25)\n11011102361003\n(256, 256, 335, 1)\n11011102411001\n(144, 144, 253, 6)\n11011102411002\n(144, 144, 234, 9)\n11011102411003\n(256, 256, 299, 40)\n11011102441001\n(169, 169, 234, 87)\n11011102441002\n(144, 144, 255, 19)\n11011102441003\n(169, 169, 213, 20)\n11011102461001\n(256, 256, 335, 45)\n11011102541001\n(192, 192, 299, 6)\n11011102541002\n(192, 192, 263, 2)\n11011102541003\n(192, 192, 299, 3)\n11011102641001\n(144, 144, 234, 72)\n11011102641002\n(144, 144, 213, 25)\n11011102871001\n(256, 256, 299, 1)\n11011103041002\n(144, 144, 234, 9)\n11011103041003\n(256, 256, 299, 15)\n11011103051001\n(144, 144, 254, 33)\n11011103211001\n(256, 256, 275, 13)\n11011103211002\n(256, 256, 275, 4)\n11011103211003\n(256, 256, 275, 7)\n11011103211004\n(256, 256, 275, 79)\n11011103311001\n(144, 144, 381, 18)\n11011103311002\n(144, 144, 339, 3)\n11011103311003\n(144, 144, 360, 18)\n11011103311004\n(144, 144, 360, 37)\n11011103311005\n(256, 256, 299, 51)\n11011104211001\n(144, 144, 234, 1)\n11011104211002\n(144, 144, 213, 12)\n11011104211003\n(144, 144, 255, 41)\n11011104211004\n(144, 144, 234, 2)\n11011104211005\n(144, 144, 234, 1)\n11011104211006\n(144, 144, 234, 22)\n11011104211007\n(200, 200, 487, 1)\n11011104211008\n(200, 200, 497, 38)\n11011104211009\n(200, 200, 505, 12)\n11011104211010\n(144, 144, 234, 11)\n11011104341001\n(256, 256, 263, 4)\n11011104341002\n(144, 144, 213, 19)\n11011104341003\n(256, 256, 299, 31)\n11011104341005\n(256, 256, 299, 1)\n11011104341006\n(256, 256, 263, 6)\n11011105051001\n(256, 256, 263, 3)\n11011105051002\n(256, 256, 263, 44)\n11011105051003\n(256, 256, 263, 4)\n11011105211001\n(169, 169, 276, 4)\n11011105211002\n(144, 144, 255, 29)\n11011105211003\n(144, 144, 276, 84)\n11011105341001\n(128, 128, 313, 22)\n11011105341002\n(128, 128, 275, 4)\n11011106051001\n(168, 168, 437, 18)\n11011106051002\n(168, 168, 344, 74)\n11011106051003\n(168, 168, 390, 6)\n11011106051004\n(168, 168, 437, 12)\n11011106051005\n(200, 200, 443, 14)\n11011106051006\n(200, 200, 489, 9)\n11011106131001\n(256, 256, 263, 35)\n11011106131002\n(256, 256, 335, 19)\n11011106131003\n(256, 256, 263, 45)\n11011106131004\n(256, 256, 335, 2)\n11011106131005\n(256, 256, 263, 12)\n11011106211001\n(256, 256, 327, 54)\n11011106211002\n(256, 256, 287, 13)\n11011106341002\n(144, 144, 192, 9)\n11011106341006\n(144, 144, 192, 16)\n11011106341007\n(144, 144, 213, 3)\n11011106341008\n(256, 256, 299, 25)\n11011106341009\n(144, 144, 192, 1)\n11011106341010\n(144, 144, 360, 6)\n11011106341011\n(256, 256, 263, 30)\n11011106441001\n(169, 169, 213, 10)\n11011107211001\n(256, 256, 287, 17)\n11011107641001\n(200, 200, 284, 21)\n11011108041001\n(256, 256, 371, 53)\n11011108041002\n(256, 256, 335, 8)\n11011108211001\n(256, 256, 407, 14)\n11011108211002\n(256, 256, 371, 17)\n11011108371001\n(168, 168, 165, 2)\n11011108371002\n(168, 168, 195, 15)\n11011108371003\n(168, 168, 165, 4)\n11011108371004\n(168, 168, 195, 26)\n11011108611001\n(256, 256, 299, 15)\n11011108611002\n(256, 256, 335, 42)\n11011109131001\n(128, 128, 275, 3)\n11011109131002\n(192, 192, 299, 15)\n11011109131003\n(128, 128, 275, 1)\n11011109131004\n(128, 128, 313, 17)\n11011109131005\n(256, 256, 481, 3)\n51011101111001\n(144, 144, 234, 15)\n51011101111003\n(144, 144, 255, 20)\n51011101111005\n(144, 144, 422, 42)\n51011101111006\n(169, 169, 254, 10)\n51011101261001\n(200, 200, 196, 8)\n51011101261002\n(200, 200, 481, 2)\n51011101261003\n(200, 200, 481, 9)\n51011101261004\n(200, 200, 481, 30)\n51011101261005\n(200, 200, 481, 28)\n51011101261006\n(200, 200, 481, 11)\n51011101261007\n(200, 200, 915, 67)\n51011101261008\n(168, 168, 429, 13)\n51011101261009\n(200, 200, 481, 33)\n51011101261010\n(200, 200, 481, 2)\n51011101261011\n(200, 200, 481, 9)\n51011101261012\n(200, 200, 543, 124)\n51011101261013\n(200, 200, 543, 10)\n51011101291002\n(168, 168, 344, 9)\n51011101291003\n(168, 168, 344, 3)\n51011101301001\n(144, 144, 276, 21)\n51011101301002\n(256, 256, 263, 32)\n51011101371001\n(128, 128, 287, 1)\n51011101371002\n(128, 128, 327, 10)\n51011101371003\n(128, 128, 327, 21)\n51011101371004\n(128, 128, 287, 7)\n51011101371005\n(128, 128, 287, 32)\n51011101371006\n(128, 128, 287, 6)\n51011101371008\n(128, 128, 287, 7)\n51011101371009\n(128, 128, 327, 2)\n51011101371010\n(128, 128, 327, 34)\n51011101371011\n(128, 128, 287, 8)\n51011101371012\n(168, 168, 165, 8)\n51011101871002\n(128, 128, 263, 7)\n51011101871003\n(128, 128, 299, 19)\n51011101871004\n(128, 128, 299, 1)\n51011101871005\n(128, 128, 263, 9)\n51011101871006\n(128, 128, 263, 7)\n51011101871008\n(128, 128, 299, 4)\n51011101871009\n(200, 200, 469, 7)\n51011101871010\n(200, 200, 435, 31)\n51011101871011\n(400, 400, 501, 1)\n51011101881001\n(200, 200, 853, 14)\n51011101881002\n(200, 200, 419, 20)\n51011101881003\n(200, 200, 481, 1)\n51011101881004\n(200, 200, 419, 3)\n51011101881005\n(200, 200, 419, 6)\n51011101881006\n(200, 200, 419, 17)\n51011101881007\n(200, 200, 419, 11)\n51011101881008\n(200, 200, 419, 14)\n51011101881009\n(200, 200, 419, 12)\n51011101881010\n(200, 200, 419, 2)\n51011101881011\n(200, 200, 481, 3)\n51011101881012\n(200, 200, 357, 5)\n51011101881013\n(200, 200, 419, 9)\n51011101881014\n(200, 200, 419, 13)\n51011101881015\n(200, 200, 419, 1)\n51011101881016\n(200, 200, 419, 23)\n51011101881017\n(200, 200, 419, 19)\n51011101881018\n(200, 200, 419, 4)\n51011101881019\n(200, 200, 419, 6)\n51011101881020\n(200, 200, 543, 1)\n51011101881021\n(200, 200, 419, 8)\n51011101881022\n(200, 200, 419, 22)\n51011101881023\n(200, 200, 481, 35)\n51011101881024\n(200, 200, 419, 30)\n51011101881025\n(200, 200, 481, 4)\n51011101881026\n(128, 128, 275, 19)\n51011101881027\n(200, 200, 481, 8)\n51011101881028\n(200, 200, 419, 15)\n51011101901001\n(144, 144, 255, 25)\n51011101901002\n(144, 144, 234, 3)\n51011101901003\n(144, 144, 465, 11)\n51011101901004\n(144, 144, 339, 4)\n51011101901005\n(144, 144, 234, 26)\n51011101901006\n(144, 144, 234, 13)\n51011101901007\n(144, 144, 255, 18)\n51011102161001\n(200, 200, 419, 13)\n51011102161002\n(200, 200, 543, 51)\n51011102161003\n(200, 200, 481, 29)\n51011102171001\n(168, 168, 325, 48)\n51011102171002\n(168, 168, 287, 13)\n51011102171003\n(168, 168, 325, 2)\n51011102171004\n(168, 168, 325, 11)\n51011102171005\n(168, 168, 325, 6)\n51011102171006\n(168, 168, 248, 40)\n51011102171007\n(168, 168, 325, 2)\n51011102171008\n(168, 168, 287, 5)\n51011102171009\n(168, 168, 287, 19)\n51011102181001\n(128, 128, 367, 12)\n"
    }
   ],
   "source": [
    "csv_directory = '/media/deeplearning/78ca2911-9e9f-4f78-b80a-848024b95f92/GAINED_CSV_DATA/Export_Gained/CSV41/PET0'\n",
    "for mask in liste : \n",
    "    print(mask[0])\n",
    "    pixel_spacing, origin, direction, size = read_mask_nifti(mask[2])\n",
    "    mask_objet = MaskBuilder(os.path.join(csv_directory, mask[3]), (size[0], size[1], size[2]))\n",
    "    mask_4D = mask_objet.mask_array\n",
    "    print(mask_4D.shape)\n",
    "\n",
    "    build_nifti_mask(mask_4D, mask[2], pixel_spacing, origin, direction)\n",
    "\n"
   ]
  },
  {
   "cell_type": "code",
   "execution_count": 15,
   "metadata": {},
   "outputs": [
    {
     "output_type": "execute_result",
     "data": {
      "text/plain": "['11011101021013',\n '1.2.250.1.59.470.940100027.1.20141009123449.929.131461',\n '/media/deeplearning/78ca2911-9e9f-4f78-b80a-848024b95f92/GAINED_NIFTI/11011101021013/pet0/1.2.250.1.59.470.940100027.1.20141009123449.929.131461_nifti_mask.nii',\n 'patient_11011101021013_PET_0_review_92_41.csv']"
     },
     "metadata": {},
     "execution_count": 15
    }
   ],
   "source": [
    "liste[12]"
   ]
  },
  {
   "cell_type": "code",
   "execution_count": 17,
   "metadata": {},
   "outputs": [
    {
     "output_type": "execute_result",
     "data": {
      "text/plain": "(1.0, 0.0, 0.0, 0.0, 1.0, 0.0, 0.0, 0.0, 1.0)"
     },
     "metadata": {},
     "execution_count": 17
    }
   ],
   "source": [
    "direction = read_mask_nifti(liste[12][2])[2]\n",
    "direction"
   ]
  },
  {
   "cell_type": "code",
   "execution_count": 18,
   "metadata": {},
   "outputs": [],
   "source": [
    "if len(direction) != 9 : \n",
    "    print('mask 4D')"
   ]
  },
  {
   "cell_type": "code",
   "execution_count": 40,
   "metadata": {
    "tags": []
   },
   "outputs": [
    {
     "output_type": "stream",
     "name": "stdout",
     "text": "13\n"
    }
   ],
   "source": [
    "json_path = '/media/deeplearning/78ca2911-9e9f-4f78-b80a-848024b95f92/FLIP_NIFTI/false_mask.json'\n",
    "dataset = []\n",
    "with open(json_path) as json_file : \n",
    "    reader = json.load(json_file)\n",
    "    for info in reader :\n",
    "        dataset.append(info)\n",
    "\n",
    "print(len(dataset))"
   ]
  },
  {
   "cell_type": "code",
   "execution_count": 42,
   "metadata": {
    "tags": []
   },
   "outputs": [
    {
     "output_type": "stream",
     "name": "stdout",
     "text": "['/media/deeplearning/78ca2911-9e9f-4f78-b80a-848024b95f92/FLIP/DICOM/Derniers patients/2017097 CR 097/A20080862074 CORPS ENTIER AU FDG/CT CT TAP 55 B30s', 'CT', '/media/deeplearning/78ca2911-9e9f-4f78-b80a-848024b95f92/FLIP/DICOM/Derniers patients/2017097 CR 097/A20080862074 CORPS ENTIER AU FDG/PT PET TAP AC HD', 'PT', '2.16.840.1.113669.632.20.310000.20001712333', '2017097', 'cr_097_dec 22_2009.csv', 'cr_097_dec 7_2011.csv']\n"
    }
   ],
   "source": [
    "serie = dataset[9]\n",
    "print(serie)"
   ]
  },
  {
   "cell_type": "code",
   "execution_count": 44,
   "metadata": {},
   "outputs": [],
   "source": [
    "serie_pt_objet = SeriesPT(serie[2])\n",
    "nifti_array = serie_pt_objet.get_numpy_array()\n",
    "study_uid = serie_pt_objet.get_series_details()['study']['StudyInstanceUID']\n",
    "\n",
    "size_matrix = serie_pt_objet.get_size_matrix()\n",
    "mask_objet = MaskBuilder(os.path.join(csv_directory, serie[6]), size_matrix)\n",
    "\n"
   ]
  },
  {
   "cell_type": "code",
   "execution_count": 45,
   "metadata": {},
   "outputs": [
    {
     "output_type": "execute_result",
     "data": {
      "text/plain": "[1, 'POLYGON', 0.7599999999999998]"
     },
     "metadata": {},
     "execution_count": 45
    }
   ],
   "source": [
    "mask_objet.ecart_suv_max(nifti_array)"
   ]
  },
  {
   "cell_type": "code",
   "execution_count": null,
   "metadata": {},
   "outputs": [],
   "source": []
  },
  {
   "cell_type": "code",
   "execution_count": 46,
   "metadata": {
    "tags": []
   },
   "outputs": [
    {
     "output_type": "stream",
     "name": "stdout",
     "text": "14\n"
    }
   ],
   "source": [
    "json_path = '/media/deeplearning/78ca2911-9e9f-4f78-b80a-848024b95f92/FLIP_NIFTI/false_mask.json'\n",
    "dataset = []\n",
    "with open(json_path) as json_file : \n",
    "    reader = json.load(json_file)\n",
    "    for info in reader :\n",
    "        dataset.append(info)\n",
    "\n",
    "print(len(dataset))"
   ]
  },
  {
   "cell_type": "code",
   "execution_count": 47,
   "metadata": {
    "tags": []
   },
   "outputs": [
    {
     "output_type": "stream",
     "name": "stdout",
     "text": "0\nMASK CORRECT\nEXPORT NIFTI PT\nEXPORT NIFTI CT\nEXPORT NIFTI MASK\n1\nMASK CORRECT\nEXPORT NIFTI PT\nEXPORT NIFTI CT\nEXPORT NIFTI MASK\n2\nMASK CORRECT\nEXPORT NIFTI PT\nEXPORT NIFTI CT\nEXPORT NIFTI MASK\n3\nMASK CORRECT\nEXPORT NIFTI PT\nEXPORT NIFTI CT\nEXPORT NIFTI MASK\n4\nMASK CORRECT\nEXPORT NIFTI PT\nEXPORT NIFTI CT\nEXPORT NIFTI MASK\n5\nMASK CORRECT\nEXPORT NIFTI PT\nEXPORT NIFTI CT\nEXPORT NIFTI MASK\n6\nMASK CORRECT\nEXPORT NIFTI PT\nEXPORT NIFTI CT\nEXPORT NIFTI MASK\n7\nMASK CORRECT\nEXPORT NIFTI PT\nEXPORT NIFTI CT\nEXPORT NIFTI MASK\n8\nMASK CORRECT\nEXPORT NIFTI PT\nEXPORT NIFTI CT\nEXPORT NIFTI MASK\n9\nMASK CORRECT\nEXPORT NIFTI PT\nEXPORT NIFTI CT\nEXPORT NIFTI MASK\n10\nMASK CORRECT\nEXPORT NIFTI PT\nEXPORT NIFTI CT\nEXPORT NIFTI MASK\n11\nMASK CORRECT\nEXPORT NIFTI PT\nEXPORT NIFTI CT\nEXPORT NIFTI MASK\n12\nMASK CORRECT\nEXPORT NIFTI PT\nEXPORT NIFTI CT\nEXPORT NIFTI MASK\n13\nMASK CORRECT\nEXPORT NIFTI PT\nEXPORT NIFTI CT\nEXPORT NIFTI MASK\n"
    }
   ],
   "source": [
    "#problème de bords pas pris en compte => mip ok donc on genere nifti\n",
    "nifti_directory = '/media/deeplearning/78ca2911-9e9f-4f78-b80a-848024b95f92/FLIP_NIFTI'\n",
    "\n",
    "csv_directory = '/media/deeplearning/78ca2911-9e9f-4f78-b80a-848024b95f92/FLIP/CSV'\n",
    "mip_directory = '/media/deeplearning/78ca2911-9e9f-4f78-b80a-848024b95f92/FLIP_NIFTI/MIP'\n",
    "\n",
    "for serie in dataset: \n",
    "    try : \n",
    "        #print(serie)\n",
    "        print(dataset.index(serie))\n",
    "\n",
    "        if serie[1] == 'PT' : \n",
    "            serie_pt_objet = SeriesPT(serie[0])\n",
    "            nifti_array = serie_pt_objet.get_numpy_array()\n",
    "            study_uid = serie_pt_objet.get_series_details()['study']['StudyInstanceUID']\n",
    "\n",
    "\n",
    "\n",
    "            size_matrix = serie_pt_objet.get_size_matrix()\n",
    "            mask_objet = MaskBuilder(os.path.join(csv_directory, serie[6]), size_matrix)\n",
    "            mask_4D = mask_objet.mask_array\n",
    "\n",
    "            number_roi = mask_4D.shape[3]\n",
    "            #threshold = mask_objet.details_rois['SUVlo']\n",
    "        #seuillage\n",
    "\n",
    "\n",
    "            #if mask_objet.is_correct_suv(nifti_array) == True : #si mask correct \n",
    "            print(\"MASK CORRECT\")\n",
    "                    #generation nifti PT\n",
    "            filename_pt = study_uid+'_'+'nifti_'+'PT'+'.nii'\n",
    "            serie_pt_objet.export_nifti(os.path.join(nifti_directory, filename_pt))\n",
    "            print(\"EXPORT NIFTI PT\")\n",
    "                    #generation nifti CT\n",
    "            serie_ct_objet = SeriesCT(serie[2])\n",
    "            serie_ct_objet.get_numpy_array()\n",
    "            filename_ct = study_uid+'_'+'nifti_'+'CT'+'.nii'\n",
    "            serie_ct_objet.export_nifti(os.path.join(nifti_directory, filename_ct))\n",
    "            print(\"EXPORT NIFTI CT\")\n",
    "                    #generation nifti mask\n",
    "            filename_mask = study_uid+'_'+'nifti_'+'mask'+'.nii'\n",
    "            serie_pt_objet.export_nifti(os.path.join(nifti_directory, filename_mask), mask_4D)\n",
    "            print(\"EXPORT NIFTI MASK\")\n",
    "            #shutil.rmtree(os.path.join(dicom_directory, serie[-2]))\n",
    "            #print(\"dicom effacé\")\n",
    "\n",
    "            #else : \n",
    "                #print(\"FALSE MASK\")\n",
    "                #false_mask_dataset_4.append(serie)\n",
    "                #print(mask_objet.calcul_suv(nifti_array))\n",
    "                #results.append(mask_objet.calcul_suv(nifti_array))\n",
    "                #print(mask_objet.ecart_suv_max(nifti_array))\n",
    "                #results.append(mask_objet.ecart_suv_max(nifti_array))\n",
    "                #print(mask_objet.ecart_suv_mean(nifti_array))\n",
    "                #results.append(mask_objet.ecart_suv_mean(nifti_array))\n",
    "                #print(mask_objet.ecart_SD(nifti_array))\n",
    "                #results.append(mask_objet.ecart_SD(nifti_array))\n",
    "\n",
    "                #results_false_mask.append(results)\n",
    "                #mask_4D = threshold_mask(mask_4D, mask_objet.details_rois, nifti_array)\n",
    "\n",
    "                #angle_filename = mip_projection(nifti_array, 0, mip_directory, study_uid, borne_max = 5.0)             #mip.png PET\n",
    "                #subliste.append(angle_filename)\n",
    "                #angle_filename_mask = mip_projection_4D(mask_4D, 0, mip_directory, study_uid, number_roi, borne_max = 1.0)\n",
    "        #mip.png MASK\n",
    "                #subliste.append(angle_filename_mask)\n",
    "\n",
    "                #path_mip.append(subliste)\n",
    "\n",
    "\n",
    "        else : \n",
    "            serie_pt_objet = SeriesPT(serie[2])\n",
    "            nifti_array = serie_pt_objet.get_numpy_array()\n",
    "            study_uid = serie_pt_objet.get_series_details()['study']['StudyInstanceUID']\n",
    "\n",
    "            size_matrix = serie_pt_objet.get_size_matrix()\n",
    "            mask_objet = MaskBuilder(os.path.join(csv_directory, serie[6]), size_matrix)\n",
    "            mask_4D = mask_objet.mask_array\n",
    "\n",
    "            number_roi = mask_4D.shape[3]\n",
    "            #threshold = mask_objet.details_rois['SUVlo']\n",
    "        #seuillage\n",
    "\n",
    "\n",
    "            #if mask_objet.is_correct_suv(nifti_array) == True : #si mask correct \n",
    "            print(\"MASK CORRECT\")\n",
    "                    #generation nifti PT\n",
    "            filename_pt = study_uid+'_'+'nifti_'+'PT'+'.nii'\n",
    "            serie_pt_objet.export_nifti(os.path.join(nifti_directory, filename_pt))\n",
    "            print(\"EXPORT NIFTI PT\")\n",
    "                     #generation nifti CT\n",
    "            serie_ct_objet = SeriesCT(serie[0])\n",
    "            serie_ct_objet.get_numpy_array()\n",
    "            filename_ct = study_uid+'_'+'nifti_'+'CT'+'.nii'\n",
    "            serie_ct_objet.export_nifti(os.path.join(nifti_directory, filename_ct))\n",
    "            print(\"EXPORT NIFTI CT\")\n",
    "                    #generation nifti mask\n",
    "            filename_mask = study_uid+'_'+'nifti_'+'mask'+'.nii'\n",
    "            serie_pt_objet.export_nifti(os.path.join(nifti_directory, filename_mask), mask_4D)\n",
    "            print(\"EXPORT NIFTI MASK\")\n",
    "            #shutil.rmtree(os.path.join(dicom_directory, serie[-2]))\n",
    "            #print('dicom effacé')\n",
    "            #else : \n",
    "                #print(\"FALSE MASK\")\n",
    "                #false_mask_dataset_4.append(serie)\n",
    "                #print(mask_objet.calcul_suv(nifti_array))\n",
    "                #results.append(mask_objet.calcul_suv(nifti_array))\n",
    "                #print(mask_objet.ecart_suv_max(nifti_array))\n",
    "                #results.append(mask_objet.ecart_suv_max(nifti_array))\n",
    "                #print(mask_objet.ecart_suv_mean(nifti_array))\n",
    "                #results.append(mask_objet.ecart_suv_mean(nifti_array))\n",
    "                #print(mask_objet.ecart_SD(nifti_array))\n",
    "                #results.append(mask_objet.ecart_SD(nifti_array))\n",
    "\n",
    "                #results_false_mask.append(results)\n",
    "                #mask_4D = threshold_mask(mask_4D, mask_objet.details_rois, nifti_array)\n",
    "\n",
    "                #angle_filename = mip_projection(nifti_array, 0, mip_directory, study_uid, borne_max = 5.0)             #mip.png PET\n",
    "                #subliste.append(angle_filename)\n",
    "                #angle_filename_mask = mip_projection_4D(mask_4D, 0, mip_directory, study_uid, number_roi, borne_max = 1.0)\n",
    "        #mip.png MASK\n",
    "                #subliste.append(angle_filename_mask)\n",
    "\n",
    "                #path_mip.append(subliste)\n",
    "               \n",
    "\n",
    "    except Exception as err : \n",
    "        print(err)\n",
    "        print(serie)\n",
    "        error_dataset_1.append(serie)"
   ]
  },
  {
   "cell_type": "code",
   "execution_count": null,
   "metadata": {},
   "outputs": [],
   "source": []
  },
  {
   "cell_type": "code",
   "execution_count": null,
   "metadata": {},
   "outputs": [],
   "source": []
  },
  {
   "cell_type": "code",
   "execution_count": null,
   "metadata": {},
   "outputs": [],
   "source": []
  },
  {
   "cell_type": "code",
   "execution_count": null,
   "metadata": {},
   "outputs": [],
   "source": []
  },
  {
   "cell_type": "code",
   "execution_count": null,
   "metadata": {},
   "outputs": [],
   "source": []
  },
  {
   "cell_type": "code",
   "execution_count": null,
   "metadata": {},
   "outputs": [],
   "source": []
  },
  {
   "cell_type": "code",
   "execution_count": null,
   "metadata": {},
   "outputs": [],
   "source": []
  },
  {
   "cell_type": "code",
   "execution_count": null,
   "metadata": {},
   "outputs": [],
   "source": [
    "#GENERER MIP DES MASK FAUX\n",
    "mip_directory = '/media/deeplearning/78ca2911-9e9f-4f78-b80a-848024b95f92/GAINED_MIP/DATASET_1'\n",
    "\n",
    "path_mip = []\n",
    "for serie in dataset_coronal : \n",
    "    index = dataset_coronal.index(serie)\n",
    "    print(index)\n",
    "    subliste = []\n",
    "    if serie[1] =='PT' :\n",
    "        serie_pt_objet = SeriesPT(serie[0])\n",
    "        study_uid = serie_pt_objet.get_series_details()['study']['StudyInstanceUID']\n",
    "        nifti_array = serie_pt_objet.get_numpy_array()\n",
    "        angle_filename = mip_projection(nifti_array, 0, mip_directory, study_uid, borne_max = 5.0)             #mip.png PET\n",
    "        subliste.append(angle_filename)\n",
    "\n",
    "        size_matrix = serie_pt_objet.get_size_matrix()\n",
    "        mask_objet = MaskBuilder(os.path.join(csv_directory, serie[4]), size_matrix)\n",
    "        mask_4D = mask_objet.mask_array\n",
    "\n",
    "        print(mask_4D.shape)\n",
    "        number_roi = mask_4D.shape[3]\n",
    "        threshold = mask_objet.details_rois['SUVlo']\n",
    "        #seuillage\n",
    "        flip_mask = mask_objet.flip_z(mask_4D)\n",
    "        print(flip_mask.shape)\n",
    "        #mask_4D_flip = mask_objet.mask_array\n",
    "        new_mask_4D_flip = threshold_mask(flip_mask, mask_objet.details_rois, nifti_array)\n",
    "        angle_filename_mask = mip_projection_4D(new_mask_4D_flip, 0, mip_directory, study_uid, number_roi, borne_max = 1.0)\n",
    "        #mip.png MASK\n",
    "        subliste.append(angle_filename_mask)\n",
    "\n",
    "        path_mip.append(subliste)\n",
    "\n",
    "\n",
    "    else : \n",
    "        serie_pt_objet = SeriesPT(serie[2])\n",
    "        study_uid = serie_pt_objet.get_series_details()['study']['StudyInstanceUID']\n",
    "        nifti_array = serie_pt_objet.get_numpy_array()\n",
    "        angle_filename = mip_projection(nifti_array, 0, mip_directory, study_uid, borne_max = 5.0) \n",
    "        #mip.png PET\n",
    "        subliste.append(angle_filename)\n",
    "        size_matrix = serie_pt_objet.get_size_matrix()\n",
    "        mask_objet = MaskBuilder(os.path.join(csv_directory, serie[4]), size_matrix)\n",
    "        \n",
    "        mask_4D = mask_objet.mask_array\n",
    "\n",
    "        print(mask_4D.shape)\n",
    "        number_roi = mask_4D.shape[3]\n",
    "        threshold = mask_objet.details_rois['SUVlo']\n",
    "        #seuillage\n",
    "\n",
    "        flip_mask = mask_objet.flip_z(mask_4D)\n",
    "        \n",
    "        print(flip_mask.shape)\n",
    "        #mask_4D_flip = mask_objet.mask_array\n",
    "        new_mask_4D_flip = threshold_mask(flip_mask, mask_objet.details_rois, nifti_array)\n",
    "        angle_filename_mask = mip_projection_4D(new_mask_4D_flip, 0, mip_directory, study_uid, number_roi, borne_max = 1.0)\n",
    "        #mip.png MASK\n",
    "        subliste.append(angle_filename_mask)\n",
    "\n",
    "        path_mip.append(subliste)\n"
   ]
  },
  {
   "cell_type": "code",
   "execution_count": null,
   "metadata": {},
   "outputs": [],
   "source": [
    "#lire json false_mask "
   ]
  },
  {
   "cell_type": "code",
   "execution_count": null,
   "metadata": {},
   "outputs": [],
   "source": [
    "#GENERER MIP MASK CORONAL "
   ]
  },
  {
   "cell_type": "code",
   "execution_count": 6,
   "metadata": {},
   "outputs": [
    {
     "name": "stdout",
     "output_type": "stream",
     "text": [
      "0\n",
      "(144, 144, 234, 21)\n",
      "(144, 144, 234, 21)\n",
      "taille mask :  (144, 144, 234, 21)\n",
      "1\n",
      "(256, 256, 299, 11)\n",
      "(256, 256, 299, 11)\n",
      "taille mask :  (256, 256, 299, 11)\n",
      "2\n",
      "(144, 144, 255, 4)\n",
      "(144, 144, 255, 4)\n",
      "taille mask :  (144, 144, 255, 4)\n",
      "3\n",
      "(256, 256, 335, 25)\n",
      "(256, 256, 335, 25)\n",
      "taille mask :  (256, 256, 335, 25)\n",
      "4\n",
      "(256, 256, 515, 12)\n",
      "(256, 256, 515, 12)\n",
      "taille mask :  (256, 256, 515, 12)\n",
      "5\n",
      "(144, 144, 276, 15)\n",
      "(144, 144, 276, 15)\n",
      "taille mask :  (144, 144, 276, 15)\n",
      "6\n",
      "(144, 144, 276, 15)\n",
      "(144, 144, 276, 15)\n",
      "taille mask :  (144, 144, 276, 15)\n",
      "7\n",
      "(144, 144, 255, 15)\n",
      "(144, 144, 255, 15)\n",
      "taille mask :  (144, 144, 255, 15)\n",
      "8\n",
      "(144, 144, 234, 11)\n",
      "(144, 144, 234, 11)\n",
      "taille mask :  (144, 144, 234, 11)\n",
      "9\n",
      "(168, 168, 405, 32)\n",
      "(168, 168, 405, 32)\n",
      "taille mask :  (168, 168, 405, 32)\n",
      "10\n",
      "(144, 144, 255, 5)\n",
      "(144, 144, 255, 5)\n",
      "taille mask :  (144, 144, 255, 5)\n"
     ]
    }
   ],
   "source": [
    "#ALGO MIP FLIP \n",
    "\n",
    "mip_directory = '/media/salim/DD 2To/AHL2011_MIP_FLIP'\n",
    "\n",
    "path_mip = []\n",
    "for serie in dataset_coronal : \n",
    "    index = dataset_coronal.index(serie)\n",
    "    print(index)\n",
    "    subliste = []\n",
    "    if serie[1] =='PT' :\n",
    "        serie_pt_objet = SeriesPT(serie[0])\n",
    "        study_uid = serie_pt_objet.get_series_details()['study']['StudyInstanceUID']\n",
    "        nifti_array = serie_pt_objet.get_numpy_array()\n",
    "        angle_filename = mip_projection(nifti_array, 0, mip_directory, study_uid, borne_max = 5.0)             #mip.png PET\n",
    "        subliste.append(angle_filename)\n",
    "\n",
    "        size_matrix = serie_pt_objet.get_size_matrix()\n",
    "        mask_objet = MaskBuilder(os.path.join(csv_directory, serie[4]), size_matrix)\n",
    "        mask_4D = mask_objet.mask_array\n",
    "\n",
    "        print(mask_4D.shape)\n",
    "        number_roi = mask_4D.shape[3]\n",
    "        threshold = mask_objet.details_rois['SUVlo']\n",
    "        #seuillage\n",
    "        flip_mask = mask_objet.flip_z(mask_4D)\n",
    "        print(flip_mask.shape)\n",
    "        #mask_4D_flip = mask_objet.mask_array\n",
    "        new_mask_4D_flip = threshold_mask(flip_mask, mask_objet.details_rois, nifti_array)\n",
    "        angle_filename_mask = mip_projection_4D(new_mask_4D_flip, 0, mip_directory, study_uid, number_roi, borne_max = 1.0)\n",
    "        #mip.png MASK\n",
    "        subliste.append(angle_filename_mask)\n",
    "\n",
    "        path_mip.append(subliste)\n",
    "\n",
    "\n",
    "    else : \n",
    "        serie_pt_objet = SeriesPT(serie[2])\n",
    "        study_uid = serie_pt_objet.get_series_details()['study']['StudyInstanceUID']\n",
    "        nifti_array = serie_pt_objet.get_numpy_array()\n",
    "        angle_filename = mip_projection(nifti_array, 0, mip_directory, study_uid, borne_max = 5.0) \n",
    "        #mip.png PET\n",
    "        subliste.append(angle_filename)\n",
    "        size_matrix = serie_pt_objet.get_size_matrix()\n",
    "        mask_objet = MaskBuilder(os.path.join(csv_directory, serie[4]), size_matrix)\n",
    "        \n",
    "        mask_4D = mask_objet.mask_array\n",
    "\n",
    "        print(mask_4D.shape)\n",
    "        number_roi = mask_4D.shape[3]\n",
    "        threshold = mask_objet.details_rois['SUVlo']\n",
    "        #seuillage\n",
    "\n",
    "        flip_mask = mask_objet.flip_z(mask_4D)\n",
    "        \n",
    "        print(flip_mask.shape)\n",
    "        #mask_4D_flip = mask_objet.mask_array\n",
    "        new_mask_4D_flip = threshold_mask(flip_mask, mask_objet.details_rois, nifti_array)\n",
    "        angle_filename_mask = mip_projection_4D(new_mask_4D_flip, 0, mip_directory, study_uid, number_roi, borne_max = 1.0)\n",
    "        #mip.png MASK\n",
    "        subliste.append(angle_filename_mask)\n",
    "\n",
    "        path_mip.append(subliste)"
   ]
  },
  {
   "cell_type": "code",
   "execution_count": null,
   "metadata": {},
   "outputs": [],
   "source": []
  },
  {
   "cell_type": "code",
   "execution_count": 3,
   "metadata": {
    "tags": []
   },
   "outputs": [
    {
     "output_type": "stream",
     "name": "stdout",
     "text": "534\n"
    }
   ],
   "source": [
    "#POUR PET 2 ET PET 4 (SANS MASK)\n",
    "\n",
    "#RELOAD JSON FROM PARSED DICOM IPYNB\n",
    "\n",
    "\n",
    "json_path = '/media/deeplearning/78ca2911-9e9f-4f78-b80a-848024b95f92/GAINED_NIFTI_PET4/GAINED_list_path_CT_PET4.json'\n",
    "dataset = []\n",
    "with open(json_path) as json_file : \n",
    "    reader = json.load(json_file)\n",
    "    for info in reader :\n",
    "        dataset.append(info)\n",
    "\n",
    "print(len(dataset))"
   ]
  },
  {
   "cell_type": "code",
   "execution_count": 4,
   "metadata": {},
   "outputs": [
    {
     "output_type": "execute_result",
     "data": {
      "text/plain": "['/media/salim/DD 2To/GAINED_Validated_DICOMS/51011101881013/1.3.12.2.1107.5.1.4.1007.30000014021712095628100000006/1.3.12.2.1107.5.1.4.1007.30000014021712362196800004578/1.3.12.2.1107.5.1.4.1007.30000014021712362196800004578',\n 'CT',\n '/media/salim/DD 2To/GAINED_Validated_DICOMS/51011101881013/1.3.12.2.1107.5.1.4.1007.30000014021712095628100000006/1.3.12.2.1107.5.1.4.11087.30000014021708361704600036338/1.3.12.2.1107.5.1.4.11087.30000014021708361704600036338',\n 'PT',\n '1.3.12.2.1107.5.1.4.1007.30000014021712095628100000006',\n '51011101881013']"
     },
     "metadata": {},
     "execution_count": 4
    }
   ],
   "source": [
    "dataset[500]"
   ]
  },
  {
   "cell_type": "code",
   "execution_count": 5,
   "metadata": {},
   "outputs": [],
   "source": [
    "#REWRITE GOOD PATH\n",
    "\n",
    "for serie in dataset : \n",
    "    for i in range(0,3,2) :\n",
    "        serie[i] = serie[i].replace('salim', 'deeplearning')\n",
    "\n",
    "for serie in dataset : \n",
    "    for i in range(0,3,2) :\n",
    "        serie[i] = serie[i].replace('DD 2To', 'Elements') "
   ]
  },
  {
   "cell_type": "code",
   "execution_count": 6,
   "metadata": {},
   "outputs": [
    {
     "output_type": "execute_result",
     "data": {
      "text/plain": "['/media/deeplearning/Elements/GAINED_Validated_DICOMS/51011101881013/1.3.12.2.1107.5.1.4.1007.30000014021712095628100000006/1.3.12.2.1107.5.1.4.1007.30000014021712362196800004578/1.3.12.2.1107.5.1.4.1007.30000014021712362196800004578',\n 'CT',\n '/media/deeplearning/Elements/GAINED_Validated_DICOMS/51011101881013/1.3.12.2.1107.5.1.4.1007.30000014021712095628100000006/1.3.12.2.1107.5.1.4.11087.30000014021708361704600036338/1.3.12.2.1107.5.1.4.11087.30000014021708361704600036338',\n 'PT',\n '1.3.12.2.1107.5.1.4.1007.30000014021712095628100000006',\n '51011101881013']"
     },
     "metadata": {},
     "execution_count": 6
    }
   ],
   "source": [
    "dataset[500]"
   ]
  },
  {
   "cell_type": "code",
   "execution_count": null,
   "metadata": {
    "tags": []
   },
   "outputs": [],
   "source": [
    "#CHECKER LES UNCONSTANT SPACING\n",
    "unconstant_spacing = []\n",
    "serie_error = []\n",
    "for serie in dataset : \n",
    "    print(dataset.index(serie))\n",
    "    try : \n",
    "        if serie[1] =='PT' : \n",
    "            serie_pt_objet = SeriesPT(serie[0])\n",
    "            nifti_array = serie_pt_objet.get_numpy_array()\n",
    "            if serie_pt_objet.get_z_spacing =='Unconstant Spacing' :\n",
    "                print(\"Unconstant Spacing PET\")\n",
    "                unconstant_spacing.append(serie)\n",
    "            \n",
    "            serie_ct_objet = SeriesCT(serie[2])\n",
    "            nifti_array_ct = serie_ct_objet.get_numpy_array()\n",
    "            if serie_ct_objet.get_z_spacing =='Unconstant Spacing' :\n",
    "                print(\"Unconstant Spacing PT\")\n",
    "                unconstant_spacing.append(serie)\n",
    "\n",
    "        else : \n",
    "            serie_pt_objet = SeriesPT(serie[2])\n",
    "            nifti_array = serie_pt_objet.get_numpy_array()\n",
    "            if serie_pt_objet.get_z_spacing =='Unconstant Spacing' :\n",
    "                print(\"Unconstant Spacing PT\")\n",
    "                unconstant_spacing.append(serie)\n",
    "            serie_ct_objet = SeriesCT(serie[0])\n",
    "            nifti_array_ct = serie_ct_objet.get_numpy_array()\n",
    "            if serie_ct_objet.get_z_spacing =='Unconstant Spacing' :\n",
    "                print(\"Unconstant Spacing CT\")\n",
    "                unconstant_spacing.append(serie)\n",
    "\n",
    "    except Exception as err : \n",
    "        print(serie)\n",
    "        print(err)\n",
    "        serie_error.append(serie)\n"
   ]
  },
  {
   "cell_type": "code",
   "execution_count": null,
   "metadata": {},
   "outputs": [],
   "source": []
  },
  {
   "cell_type": "code",
   "execution_count": 7,
   "metadata": {
    "tags": [
     "outputPrepend"
    ]
   },
   "outputs": [
    {
     "output_type": "stream",
     "name": "stdout",
     "text": "15600017415/1.3.12.2.1107.5.1.4.11087.30000014091608515915600017415', 'PT', '1.3.12.2.1107.5.1.4.11087.30000014091608334298400000029', '51011101881020']\n[Errno 2] No such file or directory: '/media/deeplearning/Elements/GAINED_Validated_DICOMS/51011101881020/1.3.12.2.1107.5.1.4.11087.30000014091608334298400000029/1.3.12.2.1107.5.1.4.11087.30000014091608515915600017415/1.3.12.2.1107.5.1.4.11087.30000014091608515915600017415'\n508\n['/media/deeplearning/Elements/GAINED_Validated_DICOMS/51011101881021/1.2.250.1.199.10.90001.90158.20141020082205/1.3.12.2.1107.5.1.4.1007.30000014102008020323400000172/1.3.12.2.1107.5.1.4.1007.30000014102008020323400000172', 'CT', '/media/deeplearning/Elements/GAINED_Validated_DICOMS/51011101881021/1.2.250.1.199.10.90001.90158.20141020082205/1.3.12.2.1107.5.1.4.1007.30000014102008022110900000839/1.3.12.2.1107.5.1.4.1007.30000014102008022110900000839', 'PT', '1.2.250.1.199.10.90001.90158.20141020082205', '51011101881021']\n[Errno 2] No such file or directory: '/media/deeplearning/Elements/GAINED_Validated_DICOMS/51011101881021/1.2.250.1.199.10.90001.90158.20141020082205/1.3.12.2.1107.5.1.4.1007.30000014102008022110900000839/1.3.12.2.1107.5.1.4.1007.30000014102008022110900000839'\n509\n['/media/deeplearning/Elements/GAINED_Validated_DICOMS/51011101881023/1.2.250.1.74.20150226074500.230000003466093/1.3.12.2.1107.5.1.4.11087.30000015022508193532800000197/1.3.12.2.1107.5.1.4.11087.30000015022508193532800000197', 'CT', '/media/deeplearning/Elements/GAINED_Validated_DICOMS/51011101881023/1.2.250.1.74.20150226074500.230000003466093/1.3.12.2.1107.5.1.4.11087.30000015022508210492100000963/1.3.12.2.1107.5.1.4.11087.30000015022508210492100000963', 'PT', '1.2.250.1.74.20150226074500.230000003466093', '51011101881023']\n[Errno 2] No such file or directory: '/media/deeplearning/Elements/GAINED_Validated_DICOMS/51011101881023/1.2.250.1.74.20150226074500.230000003466093/1.3.12.2.1107.5.1.4.11087.30000015022508210492100000963/1.3.12.2.1107.5.1.4.11087.30000015022508210492100000963'\n510\n['/media/deeplearning/Elements/GAINED_Validated_DICOMS/51011101881024/1.2.250.1.74.20150304074500.230000003732177/1.3.12.2.1107.5.1.4.11087.30000015030408110031200000963/1.3.12.2.1107.5.1.4.11087.30000015030408110031200000963', 'PT', '/media/deeplearning/Elements/GAINED_Validated_DICOMS/51011101881024/1.2.250.1.74.20150304074500.230000003732177/1.3.12.2.1107.5.1.4.11087.30000015030408092935900000197/1.3.12.2.1107.5.1.4.11087.30000015030408092935900000197', 'CT', '1.2.250.1.74.20150304074500.230000003732177', '51011101881024']\n[Errno 2] No such file or directory: '/media/deeplearning/Elements/GAINED_Validated_DICOMS/51011101881024/1.2.250.1.74.20150304074500.230000003732177/1.3.12.2.1107.5.1.4.11087.30000015030408110031200000963/1.3.12.2.1107.5.1.4.11087.30000015030408110031200000963'\n511\n['/media/deeplearning/Elements/GAINED_Validated_DICOMS/51011101881025/1.2.250.1.74.20150430083000.230000004198958/1.3.12.2.1107.5.1.4.1007.30000015050507411282800005016/1.3.12.2.1107.5.1.4.1007.30000015050507411282800005016', 'CT', '/media/deeplearning/Elements/GAINED_Validated_DICOMS/51011101881025/1.2.250.1.74.20150430083000.230000004198958/1.3.12.2.1107.5.1.4.1007.30000015050507422551500007559/1.3.12.2.1107.5.1.4.1007.30000015050507422551500007559', 'PT', '1.2.250.1.74.20150430083000.230000004198958', '51011101881025']\n[Errno 2] No such file or directory: '/media/deeplearning/Elements/GAINED_Validated_DICOMS/51011101881025/1.2.250.1.74.20150430083000.230000004198958/1.3.12.2.1107.5.1.4.1007.30000015050507422551500007559/1.3.12.2.1107.5.1.4.1007.30000015050507422551500007559'\n512\n['/media/deeplearning/Elements/GAINED_Validated_DICOMS/51011101881026/1.2.250.1.74.20150803090000.230000005491292/1.3.12.2.1107.5.1.4.11087.30000015080308122048400003827/1.3.12.2.1107.5.1.4.11087.30000015080308122048400003827', 'PT', '/media/deeplearning/Elements/GAINED_Validated_DICOMS/51011101881026/1.2.250.1.74.20150803090000.230000005491292/1.3.12.2.1107.5.1.4.11087.30000015080308115612500001948/1.3.12.2.1107.5.1.4.11087.30000015080308115612500001948', 'CT', '1.2.250.1.74.20150803090000.230000005491292', '51011101881026']\n[Errno 2] No such file or directory: '/media/deeplearning/Elements/GAINED_Validated_DICOMS/51011101881026/1.2.250.1.74.20150803090000.230000005491292/1.3.12.2.1107.5.1.4.11087.30000015080308122048400003827/1.3.12.2.1107.5.1.4.11087.30000015080308122048400003827'\n513\n['/media/deeplearning/Elements/GAINED_Validated_DICOMS/51011101881027/1.2.250.1.74.20150831120000.230000005875510/1.3.12.2.1107.5.1.4.11087.30000015083108064306200010786/1.3.12.2.1107.5.1.4.11087.30000015083108064306200010786', 'CT', '/media/deeplearning/Elements/GAINED_Validated_DICOMS/51011101881027/1.2.250.1.74.20150831120000.230000005875510/1.3.12.2.1107.5.1.4.11087.30000015083108081898400017435/1.3.12.2.1107.5.1.4.11087.30000015083108081898400017435', 'PT', '1.2.250.1.74.20150831120000.230000005875510', '51011101881027']\n[Errno 2] No such file or directory: '/media/deeplearning/Elements/GAINED_Validated_DICOMS/51011101881027/1.2.250.1.74.20150831120000.230000005875510/1.3.12.2.1107.5.1.4.11087.30000015083108081898400017435/1.3.12.2.1107.5.1.4.11087.30000015083108081898400017435'\n514\n['/media/deeplearning/Elements/GAINED_Validated_DICOMS/51011101881028/1.2.250.1.74.20150907074500.230000005969055/1.3.12.2.1107.5.1.4.11087.30000015090708164675000000963/1.3.12.2.1107.5.1.4.11087.30000015090708164675000000963', 'PT', '/media/deeplearning/Elements/GAINED_Validated_DICOMS/51011101881028/1.2.250.1.74.20150907074500.230000005969055/1.3.12.2.1107.5.1.4.11087.30000015090708151775000000197/1.3.12.2.1107.5.1.4.11087.30000015090708151775000000197', 'CT', '1.2.250.1.74.20150907074500.230000005969055', '51011101881028']\n[Errno 2] No such file or directory: '/media/deeplearning/Elements/GAINED_Validated_DICOMS/51011101881028/1.2.250.1.74.20150907074500.230000005969055/1.3.12.2.1107.5.1.4.11087.30000015090708164675000000963/1.3.12.2.1107.5.1.4.11087.30000015090708164675000000963'\n515\n['/media/deeplearning/Elements/GAINED_Validated_DICOMS/51011101901002/1.2.276.0.7230010.3.2.251470/1.3.46.670589.28.2.10.48.18556.11552.2.608.0.1409667590/1.3.46.670589.28.2.10.48.18556.11552.2.608.0.1409667590', 'PT', '/media/deeplearning/Elements/GAINED_Validated_DICOMS/51011101901002/1.2.276.0.7230010.3.2.251470/1.2.840.113704.1.111.4832.1409665642.8/1.2.840.113704.1.111.4832.1409665642.8', 'CT', '1.2.276.0.7230010.3.2.251470', '51011101901002']\n[Errno 2] No such file or directory: '/media/deeplearning/Elements/GAINED_Validated_DICOMS/51011101901002/1.2.276.0.7230010.3.2.251470/1.3.46.670589.28.2.10.48.18556.11552.2.608.0.1409667590/1.3.46.670589.28.2.10.48.18556.11552.2.608.0.1409667590'\n516\n['/media/deeplearning/Elements/GAINED_Validated_DICOMS/51011101901003/1.2.276.0.7230010.3.2.247781/1.3.46.670589.28.2.10.4.9184.62477.2.448.0.1418295027/1.3.46.670589.28.2.10.4.9184.62477.2.448.0.1418295027', 'PT', '/media/deeplearning/Elements/GAINED_Validated_DICOMS/51011101901003/1.2.276.0.7230010.3.2.247781/1.2.840.113704.1.111.4168.1418292791.8/1.2.840.113704.1.111.4168.1418292791.8', 'CT', '1.2.276.0.7230010.3.2.247781', '51011101901003']\n[Errno 2] No such file or directory: '/media/deeplearning/Elements/GAINED_Validated_DICOMS/51011101901003/1.2.276.0.7230010.3.2.247781/1.3.46.670589.28.2.10.4.9184.62477.2.448.0.1418295027/1.3.46.670589.28.2.10.4.9184.62477.2.448.0.1418295027'\n517\n['/media/deeplearning/Elements/GAINED_Validated_DICOMS/51011101901004/1.2.276.0.7230010.3.2.252849/1.3.46.670589.28.2.10.48.18556.11552.2.764.0.1421153168/1.3.46.670589.28.2.10.48.18556.11552.2.764.0.1421153168', 'PT', '/media/deeplearning/Elements/GAINED_Validated_DICOMS/51011101901004/1.2.276.0.7230010.3.2.252849/1.2.840.113704.1.111.3064.1421150583.8/1.2.840.113704.1.111.3064.1421150583.8', 'CT', '1.2.276.0.7230010.3.2.252849', '51011101901004']\n[Errno 2] No such file or directory: '/media/deeplearning/Elements/GAINED_Validated_DICOMS/51011101901004/1.2.276.0.7230010.3.2.252849/1.3.46.670589.28.2.10.48.18556.11552.2.764.0.1421153168/1.3.46.670589.28.2.10.48.18556.11552.2.764.0.1421153168'\n518\n['/media/deeplearning/Elements/GAINED_Validated_DICOMS/51011101901005/1.2.276.0.7230010.3.2.253094/1.3.46.670589.28.2.10.4.9187.6863.2.1496.0.1424967276/1.3.46.670589.28.2.10.4.9187.6863.2.1496.0.1424967276', 'PT', '/media/deeplearning/Elements/GAINED_Validated_DICOMS/51011101901005/1.2.276.0.7230010.3.2.253094/1.2.840.113704.1.111.7740.1424965265.8/1.2.840.113704.1.111.7740.1424965265.8', 'CT', '1.2.276.0.7230010.3.2.253094', '51011101901005']\n[Errno 2] No such file or directory: '/media/deeplearning/Elements/GAINED_Validated_DICOMS/51011101901005/1.2.276.0.7230010.3.2.253094/1.3.46.670589.28.2.10.4.9187.6863.2.1496.0.1424967276/1.3.46.670589.28.2.10.4.9187.6863.2.1496.0.1424967276'\n519\n['/media/deeplearning/Elements/GAINED_Validated_DICOMS/51011101901006/1.2.276.0.7230010.3.2.266663/1.2.840.113704.1.111.7892.1432919470.11/1.2.840.113704.1.111.7892.1432919470.11', 'CT', '/media/deeplearning/Elements/GAINED_Validated_DICOMS/51011101901006/1.2.276.0.7230010.3.2.266663/1.3.46.670589.28.2.10.4.9184.62477.2.520.0.1432921396/1.3.46.670589.28.2.10.4.9184.62477.2.520.0.1432921396', 'PT', '1.2.276.0.7230010.3.2.266663', '51011101901006']\n[Errno 2] No such file or directory: '/media/deeplearning/Elements/GAINED_Validated_DICOMS/51011101901006/1.2.276.0.7230010.3.2.266663/1.3.46.670589.28.2.10.4.9184.62477.2.520.0.1432921396/1.3.46.670589.28.2.10.4.9184.62477.2.520.0.1432921396'\n520\n['/media/deeplearning/Elements/GAINED_Validated_DICOMS/51011101901007/1.2.276.0.7230010.3.2.262967/1.3.46.670589.28.2.10.4.9184.62477.2.2856.0.1440062970/1.3.46.670589.28.2.10.4.9184.62477.2.2856.0.1440062970', 'PT', '/media/deeplearning/Elements/GAINED_Validated_DICOMS/51011101901007/1.2.276.0.7230010.3.2.262967/1.2.840.113704.1.111.4448.1440060710.8/1.2.840.113704.1.111.4448.1440060710.8', 'CT', '1.2.276.0.7230010.3.2.262967', '51011101901007']\n[Errno 2] No such file or directory: '/media/deeplearning/Elements/GAINED_Validated_DICOMS/51011101901007/1.2.276.0.7230010.3.2.262967/1.3.46.670589.28.2.10.4.9184.62477.2.2856.0.1440062970/1.3.46.670589.28.2.10.4.9184.62477.2.2856.0.1440062970'\n521\n['/media/deeplearning/Elements/GAINED_Validated_DICOMS/51011102161001/2.16.840.1.113669.632.20.689996.10000678813/1.3.12.2.1107.5.1.4.11029.30000015032308130332800005787/1.3.12.2.1107.5.1.4.11029.30000015032308130332800005787', 'CT', '/media/deeplearning/Elements/GAINED_Validated_DICOMS/51011102161001/2.16.840.1.113669.632.20.689996.10000678813/1.3.12.2.1107.5.1.4.11029.30000015032308132725000011663/1.3.12.2.1107.5.1.4.11029.30000015032308132725000011663', 'PT', '2.16.840.1.113669.632.20.689996.10000678813', '51011102161001']\n[Errno 2] No such file or directory: '/media/deeplearning/Elements/GAINED_Validated_DICOMS/51011102161001/2.16.840.1.113669.632.20.689996.10000678813/1.3.12.2.1107.5.1.4.11029.30000015032308132725000011663/1.3.12.2.1107.5.1.4.11029.30000015032308132725000011663'\n522\n['/media/deeplearning/Elements/GAINED_Validated_DICOMS/51011102161002/2.16.840.1.113669.632.20.689996.10000685959/1.3.12.2.1107.5.1.4.11029.30000015041408510371800000369/1.3.12.2.1107.5.1.4.11029.30000015041408510371800000369', 'CT', '/media/deeplearning/Elements/GAINED_Validated_DICOMS/51011102161002/2.16.840.1.113669.632.20.689996.10000685959/1.3.12.2.1107.5.1.4.11029.30000015041408513270300001087/1.3.12.2.1107.5.1.4.11029.30000015041408513270300001087', 'PT', '2.16.840.1.113669.632.20.689996.10000685959', '51011102161002']\n[Errno 2] No such file or directory: '/media/deeplearning/Elements/GAINED_Validated_DICOMS/51011102161002/2.16.840.1.113669.632.20.689996.10000685959/1.3.12.2.1107.5.1.4.11029.30000015041408513270300001087/1.3.12.2.1107.5.1.4.11029.30000015041408513270300001087'\n523\n['/media/deeplearning/Elements/GAINED_Validated_DICOMS/51011102161003/2.16.840.1.113669.632.20.689996.10000694067/1.3.12.2.1107.5.1.4.11029.30000015050708044181200012723/1.3.12.2.1107.5.1.4.11029.30000015050708044181200012723', 'PT', '/media/deeplearning/Elements/GAINED_Validated_DICOMS/51011102161003/2.16.840.1.113669.632.20.689996.10000694067/1.3.12.2.1107.5.1.4.11029.30000015050708041821800006307/1.3.12.2.1107.5.1.4.11029.30000015050708041821800006307', 'CT', '2.16.840.1.113669.632.20.689996.10000694067', '51011102161003']\n[Errno 2] No such file or directory: '/media/deeplearning/Elements/GAINED_Validated_DICOMS/51011102161003/2.16.840.1.113669.632.20.689996.10000694067/1.3.12.2.1107.5.1.4.11029.30000015050708044181200012723/1.3.12.2.1107.5.1.4.11029.30000015050708044181200012723'\n524\n['/media/deeplearning/Elements/GAINED_Validated_DICOMS/51011102171001/1.2.276.0.7230010.3.2.281046/1.3.12.2.1107.5.1.4.1457.30000013091906532179600000104/1.3.12.2.1107.5.1.4.1457.30000013091906532179600000104', 'PT', '/media/deeplearning/Elements/GAINED_Validated_DICOMS/51011102171001/1.2.276.0.7230010.3.2.281046/1.3.12.2.1107.5.1.4.1457.30000013091907291070300000326/1.3.12.2.1107.5.1.4.1457.30000013091907291070300000326', 'CT', '1.2.276.0.7230010.3.2.281046', '51011102171001']\n[Errno 2] No such file or directory: '/media/deeplearning/Elements/GAINED_Validated_DICOMS/51011102171001/1.2.276.0.7230010.3.2.281046/1.3.12.2.1107.5.1.4.1457.30000013091906532179600000104/1.3.12.2.1107.5.1.4.1457.30000013091906532179600000104'\n525\n['/media/deeplearning/Elements/GAINED_Validated_DICOMS/51011102171002/1.2.276.0.7230010.3.2.286689/1.3.12.2.1107.5.1.4.1457.30000014031007225865600002581/1.3.12.2.1107.5.1.4.1457.30000014031007225865600002581', 'PT', '/media/deeplearning/Elements/GAINED_Validated_DICOMS/51011102171002/1.2.276.0.7230010.3.2.286689/1.3.12.2.1107.5.1.4.1457.30000014031008040517100002923/1.3.12.2.1107.5.1.4.1457.30000014031008040517100002923', 'CT', '1.2.276.0.7230010.3.2.286689', '51011102171002']\n[Errno 2] No such file or directory: '/media/deeplearning/Elements/GAINED_Validated_DICOMS/51011102171002/1.2.276.0.7230010.3.2.286689/1.3.12.2.1107.5.1.4.1457.30000014031007225865600002581/1.3.12.2.1107.5.1.4.1457.30000014031007225865600002581'\n526\n['/media/deeplearning/Elements/GAINED_Validated_DICOMS/51011102171003/1.2.276.0.7230010.3.2.289320/1.3.12.2.1107.5.1.4.1457.30000014051907154198400006103/1.3.12.2.1107.5.1.4.1457.30000014051907154198400006103', 'CT', '/media/deeplearning/Elements/GAINED_Validated_DICOMS/51011102171003/1.2.276.0.7230010.3.2.289320/1.3.12.2.1107.5.1.4.1457.30000014051906282009300005538/1.3.12.2.1107.5.1.4.1457.30000014051906282009300005538', 'PT', '1.2.276.0.7230010.3.2.289320', '51011102171003']\n[Errno 2] No such file or directory: '/media/deeplearning/Elements/GAINED_Validated_DICOMS/51011102171003/1.2.276.0.7230010.3.2.289320/1.3.12.2.1107.5.1.4.1457.30000014051906282009300005538/1.3.12.2.1107.5.1.4.1457.30000014051906282009300005538'\n527\n['/media/deeplearning/Elements/GAINED_Validated_DICOMS/51011102171004/1.2.276.0.7230010.3.2.298326/1.3.12.2.1107.5.1.4.1457.30000015020907374857800001302/1.3.12.2.1107.5.1.4.1457.30000015020907374857800001302', 'PT', '/media/deeplearning/Elements/GAINED_Validated_DICOMS/51011102171004/1.2.276.0.7230010.3.2.298326/1.3.12.2.1107.5.1.4.1457.30000015020908182223400001564/1.3.12.2.1107.5.1.4.1457.30000015020908182223400001564', 'CT', '1.2.276.0.7230010.3.2.298326', '51011102171004']\n[Errno 2] No such file or directory: '/media/deeplearning/Elements/GAINED_Validated_DICOMS/51011102171004/1.2.276.0.7230010.3.2.298326/1.3.12.2.1107.5.1.4.1457.30000015020907374857800001302/1.3.12.2.1107.5.1.4.1457.30000015020907374857800001302'\n528\n['/media/deeplearning/Elements/GAINED_Validated_DICOMS/51011102171005/1.2.276.0.7230010.3.2.303310/1.3.12.2.1107.5.1.4.1457.30000015031607154746800003100/1.3.12.2.1107.5.1.4.1457.30000015031607154746800003100', 'PT', '/media/deeplearning/Elements/GAINED_Validated_DICOMS/51011102171005/1.2.276.0.7230010.3.2.303310/1.3.12.2.1107.5.1.4.1457.30000015031608281573400003476/1.3.12.2.1107.5.1.4.1457.30000015031608281573400003476', 'CT', '1.2.276.0.7230010.3.2.303310', '51011102171005']\n[Errno 2] No such file or directory: '/media/deeplearning/Elements/GAINED_Validated_DICOMS/51011102171005/1.2.276.0.7230010.3.2.303310/1.3.12.2.1107.5.1.4.1457.30000015031607154746800003100/1.3.12.2.1107.5.1.4.1457.30000015031607154746800003100'\n529\n['/media/deeplearning/Elements/GAINED_Validated_DICOMS/51011102171006/1.2.276.0.7230010.3.2.306829/1.3.12.2.1107.5.1.4.1457.30000015041606101157800008457/1.3.12.2.1107.5.1.4.1457.30000015041606101157800008457', 'PT', '/media/deeplearning/Elements/GAINED_Validated_DICOMS/51011102171006/1.2.276.0.7230010.3.2.306829/1.3.12.2.1107.5.1.4.1457.30000015041607190293700008841/1.3.12.2.1107.5.1.4.1457.30000015041607190293700008841', 'CT', '1.2.276.0.7230010.3.2.306829', '51011102171006']\n[Errno 2] No such file or directory: '/media/deeplearning/Elements/GAINED_Validated_DICOMS/51011102171006/1.2.276.0.7230010.3.2.306829/1.3.12.2.1107.5.1.4.1457.30000015041606101157800008457/1.3.12.2.1107.5.1.4.1457.30000015041606101157800008457'\n530\n['/media/deeplearning/Elements/GAINED_Validated_DICOMS/51011102171007/1.2.276.0.7230010.3.2.302086/1.3.12.2.1107.5.1.4.1457.30000015061106431531200002581/1.3.12.2.1107.5.1.4.1457.30000015061106431531200002581', 'PT', '/media/deeplearning/Elements/GAINED_Validated_DICOMS/51011102171007/1.2.276.0.7230010.3.2.302086/1.3.12.2.1107.5.1.4.1457.30000015061107255018700002923/1.3.12.2.1107.5.1.4.1457.30000015061107255018700002923', 'CT', '1.2.276.0.7230010.3.2.302086', '51011102171007']\n[Errno 2] No such file or directory: '/media/deeplearning/Elements/GAINED_Validated_DICOMS/51011102171007/1.2.276.0.7230010.3.2.302086/1.3.12.2.1107.5.1.4.1457.30000015061106431531200002581/1.3.12.2.1107.5.1.4.1457.30000015061106431531200002581'\n531\n['/media/deeplearning/Elements/GAINED_Validated_DICOMS/51011102171008/1.2.276.0.7230010.3.2.303376/1.3.12.2.1107.5.1.4.1457.30000015070707080134300000926/1.3.12.2.1107.5.1.4.1457.30000015070707080134300000926', 'CT', '/media/deeplearning/Elements/GAINED_Validated_DICOMS/51011102171008/1.2.276.0.7230010.3.2.303376/1.3.12.2.1107.5.1.4.1457.30000015070706263915600000702/1.3.12.2.1107.5.1.4.1457.30000015070706263915600000702', 'PT', '1.2.276.0.7230010.3.2.303376', '51011102171008']\n[Errno 2] No such file or directory: '/media/deeplearning/Elements/GAINED_Validated_DICOMS/51011102171008/1.2.276.0.7230010.3.2.303376/1.3.12.2.1107.5.1.4.1457.30000015070706263915600000702/1.3.12.2.1107.5.1.4.1457.30000015070706263915600000702'\n532\n['/media/deeplearning/Elements/GAINED_Validated_DICOMS/51011102171009/1.2.276.0.7230010.3.2.305616/1.3.12.2.1107.5.1.4.1457.30000015092507272426500016786/1.3.12.2.1107.5.1.4.1457.30000015092507272426500016786', 'CT', '/media/deeplearning/Elements/GAINED_Validated_DICOMS/51011102171009/1.2.276.0.7230010.3.2.305616/1.3.12.2.1107.5.1.4.1457.30000015092506391148400015975/1.3.12.2.1107.5.1.4.1457.30000015092506391148400015975', 'PT', '1.2.276.0.7230010.3.2.305616', '51011102171009']\n[Errno 2] No such file or directory: '/media/deeplearning/Elements/GAINED_Validated_DICOMS/51011102171009/1.2.276.0.7230010.3.2.305616/1.3.12.2.1107.5.1.4.1457.30000015092506391148400015975/1.3.12.2.1107.5.1.4.1457.30000015092506391148400015975'\n533\n['/media/deeplearning/Elements/GAINED_Validated_DICOMS/51011102181001/1.2.840.113619.2.55.3.279710477.313.1384932108.606/1.2.840.113619.2.131.279710477.1384938501.285038/1.2.840.113619.2.131.279710477.1384938501.285038', 'PT', '/media/deeplearning/Elements/GAINED_Validated_DICOMS/51011102181001/1.2.840.113619.2.55.3.279710477.313.1384932108.606/1.2.840.113619.2.55.3.279710477.313.1384932108.610.3/1.2.840.113619.2.55.3.279710477.313.1384932108.610.3', 'CT', '1.2.840.113619.2.55.3.279710477.313.1384932108.606', '51011102181001']\n[Errno 2] No such file or directory: '/media/deeplearning/Elements/GAINED_Validated_DICOMS/51011102181001/1.2.840.113619.2.55.3.279710477.313.1384932108.606/1.2.840.113619.2.131.279710477.1384938501.285038/1.2.840.113619.2.131.279710477.1384938501.285038'\n"
    }
   ],
   "source": [
    "#GENERATION NIFTI CT PET DES PET 2/4\n",
    "\n",
    "nifti_directory = '/media/deeplearning/78ca2911-9e9f-4f78-b80a-848024b95f92/GAINED_NIFTI_PET4'\n",
    "\n",
    "error = []\n",
    "for serie in dataset : \n",
    "    print(dataset.index(serie))\n",
    "    try : \n",
    "        if serie[1] == 'PT' : \n",
    "            serie_pt_objet = SeriesPT(serie[0]) \n",
    "            nifti_array = serie_pt_objet.get_numpy_array()\n",
    "            study_uid = serie_pt_objet.get_series_details()['study']['StudyInstanceUID']\n",
    "\n",
    "                    #generation nifti PT\n",
    "            filename_pt = study_uid+'_'+'nifti_'+'PT'+'.nii'\n",
    "            serie_pt_objet.export_nifti(os.path.join(nifti_directory, filename_pt))\n",
    "            print(\"EXPORT NIFTI PT\")\n",
    "                    #generation nifti CT\n",
    "            serie_ct_objet = SeriesCT(serie[2])\n",
    "            serie_ct_objet.get_numpy_array()\n",
    "            filename_ct = study_uid+'_'+'nifti_'+'CT'+'.nii'\n",
    "            serie_ct_objet.export_nifti(os.path.join(nifti_directory, filename_ct))\n",
    "            print(\"EXPORT NIFTI CT\")\n",
    "\n",
    "\n",
    "\n",
    "        else : \n",
    "            serie_pt_objet = SeriesPT(serie[2]) \n",
    "            nifti_array = serie_pt_objet.get_numpy_array()\n",
    "            study_uid = serie_pt_objet.get_series_details()['study']['StudyInstanceUID']\n",
    "\n",
    "            \n",
    "                    #generation nifti PT\n",
    "            filename_pt = study_uid+'_'+'nifti_'+'PT'+'.nii'\n",
    "            serie_pt_objet.export_nifti(os.path.join(nifti_directory, filename_pt))\n",
    "            print(\"EXPORT NIFTI PT\")\n",
    "                    #generation nifti CT\n",
    "            serie_ct_objet = SeriesCT(serie[0])\n",
    "            serie_ct_objet.get_numpy_array()\n",
    "            filename_ct = study_uid+'_'+'nifti_'+'CT'+'.nii'\n",
    "            serie_ct_objet.export_nifti(os.path.join(nifti_directory, filename_ct))\n",
    "            print(\"EXPORT NIFTI CT\")\n",
    " \n",
    "\n",
    "    except Exception as err : \n",
    "        print(serie)\n",
    "        print(err)\n",
    "        error.append(serie)"
   ]
  },
  {
   "cell_type": "code",
   "execution_count": null,
   "metadata": {},
   "outputs": [],
   "source": []
  },
  {
   "cell_type": "code",
   "execution_count": null,
   "metadata": {},
   "outputs": [],
   "source": []
  },
  {
   "cell_type": "code",
   "execution_count": null,
   "metadata": {},
   "outputs": [],
   "source": []
  },
  {
   "cell_type": "markdown",
   "metadata": {
    "tags": [
     "outputPrepend"
    ]
   },
   "source": [
    "unconstant_spacing = []\n",
    "serie_error = []\n",
    "for serie in error : \n",
    "    print(error.index(serie))\n",
    "    try : \n",
    "        if serie[1] =='PT' : \n",
    "            serie_pt_objet = SeriesPT(serie[0])\n",
    "            print(\"PET\")\n",
    "            nifti_array = serie_pt_objet.get_numpy_array()\n",
    "            print(serie_pt_objet.get_z_spacing())\n",
    "            print(serie_pt_objet.calculate_z_spacing(round_ = True))\n",
    "            print(\"CT\")\n",
    "            serie_ct_objet = SeriesCT(serie[2])\n",
    "            nifti_array_ct = serie_ct_objet.get_numpy_array()\n",
    "            print(serie_ct_objet.get_z_spacing())\n",
    "            print(serie_ct_objet.calculate_z_spacing(round_ = True))\n",
    "                \n",
    "\n",
    "        else : \n",
    "            serie_pt_objet = SeriesPT(serie[2])\n",
    "            print(\"PET\")\n",
    "            nifti_array = serie_pt_objet.get_numpy_array()\n",
    "            print(serie_pt_objet.get_z_spacing())\n",
    "            print(serie_pt_objet.calculate_z_spacing(round_ = True))\n",
    "            print(\"CT\")\n",
    "            serie_ct_objet = SeriesCT(serie[0])\n",
    "            nifti_array_ct = serie_ct_objet.get_numpy_array()\n",
    "            print(serie_ct_objet.get_z_spacing())\n",
    "            print(serie_ct_objet.calculate_z_spacing(round_ = True))\n",
    "    except Exception as err : \n",
    "        print(serie)\n",
    "        print(err)\n",
    "        serie_error.append(serie)\n"
   ]
  },
  {
   "cell_type": "code",
   "execution_count": null,
   "metadata": {},
   "outputs": [],
   "source": []
  }
 ],
 "metadata": {
  "file_extension": ".py",
  "kernelspec": {
   "display_name": "Python 3",
   "language": "python",
   "name": "python3"
  },
  "language_info": {
   "codemirror_mode": {
    "name": "ipython",
    "version": 3
   },
   "file_extension": ".py",
   "mimetype": "text/x-python",
   "name": "python",
   "nbconvert_exporter": "python",
   "pygments_lexer": "ipython3",
   "version": "3.8.2-final"
  },
  "mimetype": "text/x-python",
  "name": "python",
  "npconvert_exporter": "python",
  "pygments_lexer": "ipython3",
  "version": 3
 },
 "nbformat": 4,
 "nbformat_minor": 2
}