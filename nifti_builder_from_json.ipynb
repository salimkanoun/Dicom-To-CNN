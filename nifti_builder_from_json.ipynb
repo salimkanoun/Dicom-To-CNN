{
 "cells": [
  {
   "cell_type": "code",
   "execution_count": 1,
   "metadata": {},
   "outputs": [],
   "source": [
    "import json\n",
    "import os\n",
    "from library_dicom.dicom_processor.model.Series import Series \n",
    "from library_dicom.dicom_processor.model.SeriesPT import SeriesPT\n",
    "from library_dicom.dicom_processor.model.SeriesCT import SeriesCT\n",
    "from library_dicom.dicom_processor.model.csv_reader.MaskBuilder import MaskBuilder\n",
    "\n",
    "from library_dicom.dicom_processor.tools.folders import *\n",
    "\n",
    "import numpy as np\n",
    "import SimpleITK as sitk"
   ]
  },
  {
   "cell_type": "code",
   "execution_count": 2,
   "metadata": {},
   "outputs": [],
   "source": [
    "#LIST FROM PARSE_FILTERED_DICOM_DATASET"
   ]
  },
  {
   "cell_type": "code",
   "execution_count": 2,
   "metadata": {},
   "outputs": [],
   "source": [
    "nifti_directory = '/media/salim/DD 2To/AHL2011_NIFTI'\n",
    "\n",
    "csv_directory = '/media/salim/DD 2To/AHL2011_CSV_DATA/AHL2011-CSV'"
   ]
  },
  {
   "cell_type": "code",
   "execution_count": 4,
   "metadata": {},
   "outputs": [],
   "source": [
    "json_path = '/media/salim/DD 2To/AHL2011_NIFTI/AHL2011_list_path_csv.json'"
   ]
  },
  {
   "cell_type": "code",
   "execution_count": 8,
   "metadata": {},
   "outputs": [],
   "source": [
    "data = []\n",
    "with open(json_path) as json_file : \n",
    "    reader = json.load(json_file)\n",
    "    for info in reader :\n",
    "        for path in reader[info] :\n",
    "            data.append(path)"
   ]
  },
  {
   "cell_type": "code",
   "execution_count": 9,
   "metadata": {},
   "outputs": [],
   "source": [
    "dataset = []\n",
    "for i in range(0,len(data),5):\n",
    "    subliste = []\n",
    "    subliste.append(data[i])\n",
    "    subliste.append(data[i+1])\n",
    "    subliste.append(data[i+2])\n",
    "    subliste.append(data[i+3])\n",
    "    subliste.append(data[i+4])\n",
    "    dataset.append(subliste)"
   ]
  },
  {
   "cell_type": "code",
   "execution_count": 10,
   "metadata": {},
   "outputs": [
    {
     "name": "stdout",
     "output_type": "stream",
     "text": "617\n"
    }
   ],
   "source": [
    "print(len(dataset))\n"
   ]
  },
  {
   "cell_type": "code",
   "execution_count": null,
   "metadata": {},
   "outputs": [],
   "source": [
    "#GENERE LA LISTE DES JSON AVEC UN UNCONSTANT SPACING, SAVE IT AS JSON "
   ]
  },
  {
   "cell_type": "code",
   "execution_count": null,
   "metadata": {},
   "outputs": [],
   "source": [
    "\n",
    "from library_dicom.dicom_processor.tools.folders import *\n",
    "liste_unconstant_z_spacing = []\n",
    "for liste in dataset : \n",
    "    print(dataset.index(liste))\n",
    "    for i in range(0,4,2) : \n",
    "        serie_objet = Series(liste[i])\n",
    "        serie_objet.get_numpy_array()\n",
    "        if serie_objet.get_z_spacing() == 'Unconstant Spacing' : \n",
    "            print(liste)\n",
    "            liste_unconstant_z_spacing.append(liste)\n",
    "            list_z_spacing = serie_objet.calculate_z_spacing()\n",
    "            print(list_z_spacing)\n",
    "            #liste_unconstant_z_spacing.append(list_z_spacing)\n",
    "\n",
    "\n",
    "#save it as json\n",
    "\n",
    "write_json_file('/media/salim/DD 2To/AHL2011_NIFTI', 'AHL2011_problem_unconstant_spacing', liste_unconstant_z_spacing)"
   ]
  },
  {
   "cell_type": "code",
   "execution_count": null,
   "metadata": {},
   "outputs": [],
   "source": [
    "from library_dicom.dicom_processor.tools.folders import *\n",
    "write_json_file('/media/salim/DD 2To/AHL2011_NIFTI', 'AHL2011_problem_unconstant_spacing', liste_unconstant_z_spacing)"
   ]
  },
  {
   "cell_type": "code",
   "execution_count": null,
   "metadata": {},
   "outputs": [],
   "source": [
    "#On enleve les series avec un unconstant spacing \n",
    "for serie in liste_unconstant_z_spacing : \n",
    "    dataset.remove(serie)"
   ]
  },
  {
   "cell_type": "code",
   "execution_count": null,
   "metadata": {},
   "outputs": [],
   "source": [
    "#SAVE AS JSON THE FINAL LIST WITHOUT UNCONSTANT SPACING ERROR"
   ]
  },
  {
   "cell_type": "code",
   "execution_count": null,
   "metadata": {},
   "outputs": [],
   "source": [
    "from library_dicom.dicom_processor.tools.folders import *\n",
    "write_json_file('/media/salim/DD 2To/AHL2011_NIFTI', 'AHL2011_final_list_dataset', dataset)\n"
   ]
  },
  {
   "cell_type": "code",
   "execution_count": null,
   "metadata": {},
   "outputs": [],
   "source": [
    "print(len(dataset)) #589\n"
   ]
  },
  {
   "cell_type": "code",
   "execution_count": 11,
   "metadata": {},
   "outputs": [
    {
     "name": "stdout",
     "output_type": "stream",
     "text": "589\n"
    }
   ],
   "source": [
    "#RECHARGEZ LE JSON AVEC LES SERIES \n",
    "json_path = '/media/salim/DD 2To/AHL2011_NIFTI/AHL2011_final_list_dataset.json'\n",
    "dataset = []\n",
    "with open(json_path) as json_file : \n",
    "    reader = json.load(json_file)\n",
    "    for info in reader :\n",
    "        dataset.append(info)\n",
    "\n",
    "print(len(dataset))"
   ]
  },
  {
   "cell_type": "code",
   "execution_count": null,
   "metadata": {},
   "outputs": [],
   "source": [
    "#IF MASK IS CORRECT => GENERATE NIFTI \n",
    "#IF PHILIPS, OR MASK FALSE => PUT SERIE IN A NEW LISTE "
   ]
  },
  {
   "cell_type": "code",
   "execution_count": null,
   "metadata": {},
   "outputs": [],
   "source": [
    "untreated_liste = []\n",
    "#CT et PT pas dans le même ordre suivant les séries \n",
    "#voir pour les ranger avant PT en premier puis CT \n",
    "\n",
    "\n",
    "#error = []\n",
    "\n",
    "#trier les philips des autres series fausses ici \n",
    "\n",
    "\n",
    "for serie in dataset : \n",
    "    try : \n",
    "        print(serie)\n",
    "        print(dataset.index(serie))\n",
    "        if serie[1] == 'PT' : \n",
    "            serie_pt_objet = SeriesPT(serie[0])\n",
    "            manufacturer = serie_pt_objet.get_series_details()['series']['Manufacturer'] \n",
    "            if 'philips' in manufacturer.lower() :\n",
    "                untreated_liste.append(serie)\n",
    "            else : \n",
    "                nifti_array = serie_pt_objet.get_numpy_array()\n",
    "                study_uid = serie_pt_objet.get_series_details()['study']['StudyInstanceUID']\n",
    "                size_matrix = serie_pt_objet.get_size_matrix()\n",
    "                mask_objet = MaskBuilder(os.path.join(csv_directory, serie[4]), size_matrix)\n",
    "                mask_4D = mask_objet.mask_array\n",
    "                if mask_objet.is_correct_suv(nifti_array) == True : #si mask correct \n",
    "                    print(\"MASK CORRECT\")\n",
    "                    #generation nifti PT\n",
    "                    filename_pt = study_uid+'_'+'nifti_'+'PT'+'.nii'\n",
    "                    serie_pt_objet.export_nifti(os.path.join(nifti_directory, filename_pt))\n",
    "                    print(\"EXPORT NIFTI PT\")\n",
    "                    #generation nifti CT\n",
    "                    serie_ct_objet = SeriesCT(serie[2])\n",
    "                    serie_ct_objet.get_numpy_array()\n",
    "                    filename_ct = study_uid+'_'+'nifti_'+'CT'+'.nii'\n",
    "                    serie_ct_objet.export_nifti(os.path.join(nifti_directory, filename_ct))\n",
    "                    print(\"EXPORT NIFTI CT\")\n",
    "                    #generation nifti mask\n",
    "                    filename_mask = study_uid+'_'+'nifti_'+'mask'+'.nii'\n",
    "                    serie_pt_objet.export_nifti(os.path.join(nifti_directory, filename_mask), mask_4D)\n",
    "                    print(\"EXPORT NIFTI MASK\")\n",
    "                else : \n",
    "                    untreated_liste.append(serie)\n",
    "        else : \n",
    "            serie_pt_objet = SeriesPT(serie[2])\n",
    "            manufacturer = serie_pt_objet.get_series_details()['series']['Manufacturer'] \n",
    "            if 'philips' in manufacturer.lower() :\n",
    "                untreated_liste.append(serie)\n",
    "            else : \n",
    "                nifti_array = serie_pt_objet.get_numpy_array()\n",
    "                study_uid = serie_pt_objet.get_series_details()['study']['StudyInstanceUID']\n",
    "                size_matrix = serie_pt_objet.get_size_matrix()\n",
    "                mask_objet = MaskBuilder(os.path.join(csv_directory, serie[4]), size_matrix)\n",
    "                mask_4D = mask_objet.mask_array\n",
    "                if mask_objet.is_correct_suv(nifti_array) == True : #si mask correct \n",
    "                    print(\"MASK CORRECT\")\n",
    "                    #generation nifti PT\n",
    "                    filename_pt = study_uid+'_'+'nifti_'+'PT'+'.nii'\n",
    "                    serie_pt_objet.export_nifti(os.path.join(nifti_directory, filename_pt))\n",
    "                    print(\"EXPORT NIFTI PT\")\n",
    "                     #generation nifti CT\n",
    "                    serie_ct_objet = SeriesCT(serie[0])\n",
    "                    serie_ct_objet.get_numpy_array()\n",
    "                    filename_ct = study_uid+'_'+'nifti_'+'CT'+'.nii'\n",
    "                    serie_ct_objet.export_nifti(os.path.join(nifti_directory, filename_ct))\n",
    "                    print(\"EXPORT NIFTI CT\")\n",
    "                    #generation nifti mask\n",
    "                    filename_mask = study_uid+'_'+'nifti_'+'mask'+'.nii'\n",
    "                    serie_pt_objet.export_nifti(os.path.join(nifti_directory, filename_mask), mask_4D)\n",
    "                    print(\"EXPORT NIFTI MASK\")\n",
    "                else : \n",
    "                    untreated_liste.append(serie)\n",
    "                   \n",
    "\n",
    "\n",
    "    except Exception as err : \n",
    "        print(err)\n",
    "        #error.append(serie)\n",
    "\n",
    "        \n"
   ]
  },
  {
   "cell_type": "code",
   "execution_count": null,
   "metadata": {},
   "outputs": [],
   "source": [
    "len(untreated_liste) #392 "
   ]
  },
  {
   "cell_type": "code",
   "execution_count": null,
   "metadata": {},
   "outputs": [],
   "source": [
    "#SAVE THE SERIE WITH FALSE MASK \n",
    "from library_dicom.dicom_processor.tools.folders import *\n",
    "write_json_file('/media/salim/DD 2To/AHL2011_NIFTI', 'AHL2011_serie_with_false_mask', untreated_liste)\n",
    "print(len(untreated_liste))"
   ]
  },
  {
   "cell_type": "code",
   "execution_count": null,
   "metadata": {},
   "outputs": [],
   "source": []
  },
  {
   "cell_type": "code",
   "execution_count": null,
   "metadata": {},
   "outputs": [],
   "source": []
  },
  {
   "cell_type": "code",
   "execution_count": null,
   "metadata": {},
   "outputs": [],
   "source": [
    "#SEARCH SERIE WITH ERROR ET SAVE IT AS JSON "
   ]
  },
  {
   "cell_type": "code",
   "execution_count": 12,
   "metadata": {},
   "outputs": [
    {
     "name": "stdout",
     "output_type": "stream",
     "text": "589\n"
    }
   ],
   "source": [
    "#IMPORTER JSON OF FINAL LISTE WITHOUT UNCONSTANT SPACING PROBLEM \n",
    "json_path = '/media/salim/DD 2To/AHL2011_NIFTI/AHL2011_final_list_dataset.json'\n",
    "dataset = []\n",
    "with open(json_path) as json_file : \n",
    "    reader = json.load(json_file)\n",
    "    for info in reader :\n",
    "        dataset.append(info)\n",
    "\n",
    "print(len(dataset))\n"
   ]
  },
  {
   "cell_type": "code",
   "execution_count": 16,
   "metadata": {},
   "outputs": [
    {
     "name": "stdout",
     "output_type": "stream",
     "text": "0\n1\n2\n3\n4\n5\n6\n7\n8\n9\n10\n11\n12\n13\n14\n15\n16\n17\n18\n19\n20\n21\n22\n23\n24\n25\n26\n27\n28\n29\n30\n31\n32\n33\n34\n35\n36\n37\n38\n39\n40\n41\n42\n43\n44\n45\n46\n47\n48\n49\n50\n51\n52\n53\n54\n55\n56\n57\n58\n59\n60\n61\n62\n63\n64\n65\n66\n67\n68\n69\n70\n71\n72\n73\n74\n75\n76\n77\n78\n79\n80\n81\n82\n83\n84\n85\n['/media/salim/DD 2To/AHL2011_Validated_DICOMS/13011101021022/1.2.250.1.59.470.940100027.1.20130802113038.1925.124326/1.3.46.670589.28.2.10.4.9167.27921.2.460.0.1376045065/1.3.46.670589.28.2.10.4.9167.27921.2.460.0.1376045065', 'PT', '/media/salim/DD 2To/AHL2011_Validated_DICOMS/13011101021022/1.2.250.1.59.470.940100027.1.20130802113038.1925.124326/1.2.840.113704.1.111.2068.1376042666.8/1.2.840.113704.1.111.2068.1376042666.8', 'CT', 'mus_ar_aug 9_2013_abr.csv']\nfloat division by zero\n86\n87\n88\n89\n90\n91\n92\n93\n94\n95\n96\n97\n98\n99\n100\n101\n102\n103\n104\n105\n106\n107\n108\n109\n110\n111\n112\n113\n114\n115\n116\n117\n118\n119\n120\n121\n122\n123\n124\n125\n126\n127\n128\n129\n130\n131\n132\n133\n134\n135\n136\n137\n138\n139\n140\n141\n142\n143\n144\n145\n146\n147\n148\n149\n150\n151\n152\n153\n154\n155\n156\n157\n158\n159\n160\n161\n162\n163\n164\n165\n166\n167\n['/media/salim/DD 2To/AHL2011_Validated_DICOMS/13011101151008/1.2.276.0.7230010.3.2.85313/1.2.840.113704.1.111.4568.1384441779.16/1.2.840.113704.1.111.4568.1384441779.16', 'CT', '/media/salim/DD 2To/AHL2011_Validated_DICOMS/13011101151008/1.2.276.0.7230010.3.2.85313/1.3.46.670589.28.2.12.30.26378.8765.2.2932.0.1384443780/1.3.46.670589.28.2.12.30.26378.8765.2.2932.0.1384443780', 'PT', 'mon_fa_nov 14_2013-EV.csv']\nfloat division by zero\n168\n169\n170\n171\n['/media/salim/DD 2To/AHL2011_Validated_DICOMS/13011101031007/1.2.276.0.7230010.3.2.94431/1.2.840.113704.1.111.7152.1331127547.8/1.2.840.113704.1.111.7152.1331127547.8', 'CT', '/media/salim/DD 2To/AHL2011_Validated_DICOMS/13011101031007/1.2.276.0.7230010.3.2.94431/1.3.46.670589.28.2.10.4.9187.8450.2.3964.0.1331130607/1.3.46.670589.28.2.10.4.9187.8450.2.3964.0.1331130607', 'PT', 'alv_al_mar 7_2012_abr.csv']\nfloat division by zero\n172\n173\n174\n['/media/salim/DD 2To/AHL2011_Validated_DICOMS/13011101101001/1.2.276.0.7230010.3.2.95281/1.2.840.113704.1.111.4432.1339080874.8/1.2.840.113704.1.111.4432.1339080874.8', 'CT', '/media/salim/DD 2To/AHL2011_Validated_DICOMS/13011101101001/1.2.276.0.7230010.3.2.95281/1.3.46.670589.28.2.10.4.9187.8450.2.1468.0.1339082957/1.3.46.670589.28.2.10.4.9187.8450.2.1468.0.1339082957', 'PT', 'duf_ph_jun 7_2012.csv']\nfloat division by zero\n175\n176\n177\n178\n179\n180\n181\n182\n183\n184\n185\n186\n187\n188\n189\n190\n191\n192\n193\n194\n195\n196\n197\n198\n199\n200\n201\n202\n203\n204\n205\n206\n207\n208\n209\n210\n211\n212\n213\n214\n215\n216\n217\n218\n219\n220\nError generating result array time data '' does not match format '%Y%m%d%H%M%S'\n221\n222\n223\n224\n225\n226\n227\n228\n229\n230\n231\nError generating result array time data '' does not match format '%Y%m%d%H%M%S'\n232\n233\n234\n235\n236\n237\n238\n239\n240\n241\n242\n243\n244\n245\n246\n247\n248\n249\n250\n251\n252\n253\n254\n255\n256\n257\n258\n259\n260\n261\n262\n263\n264\n265\n266\n267\n268\n269\n270\n271\n272\n273\n274\n275\n276\n277\n278\n279\n280\n281\n282\n283\n284\n285\n286\n287\n288\n289\n290\n291\n292\n293\n294\n295\n296\n297\n298\n299\n300\n301\n302\n303\n304\n305\n306\n307\n308\n309\n310\n['/media/salim/DD 2To/AHL2011_Validated_DICOMS/13011101031001/1.2.840.113704.1.111.1956.1311057233.3/1.2.840.113704.1.111.328.1311057522.8/1.2.840.113704.1.111.328.1311057522.8', 'CT', '/media/salim/DD 2To/AHL2011_Validated_DICOMS/13011101031001/1.2.840.113704.1.111.1956.1311057233.3/1.3.46.670589.28.2.10.4.9167.27815.2.2920.0.1311059310/1.3.46.670589.28.2.10.4.9167.27815.2.2920.0.1311059310', 'PT', 'lit_im_jul 19_2011_abr.csv']\nfloat division by zero\n311\n312\n313\n314\n315\n316\n317\n318\n319\n320\n321\n322\n323\n324\n325\nError generating result array time data '' does not match format '%Y%m%d%H%M%S'\n326\n327\n328\n329\n330\n331\n332\n333\n['/media/salim/DD 2To/AHL2011_Validated_DICOMS/13011101031030/1.2.840.113704.1.111.3556.1391590354.9/1.2.840.113704.7.32.0.28.2.10.48.18673.58372.2.2100.0.1391592740/1.2.840.113704.7.32.0.28.2.10.48.18673.58372.2.2100.0.1391592740', 'PT', '/media/salim/DD 2To/AHL2011_Validated_DICOMS/13011101031030/1.2.840.113704.1.111.3556.1391590354.9/1.2.840.113704.7.32.1.2.840.113704.1.111.2676.1391590761.8/1.2.840.113704.7.32.1.2.840.113704.1.111.2676.1391590761.8', 'CT', 'gda_in_feb 5_2014.csv']\nindex 255 is out of bounds for axis 0 with size 255\n334\n335\n336\n337\n338\n339\n340\n341\n342\n343\n344\n345\n346\n347\n348\n349\n350\n351\n352\n353\n354\n355\n356\n357\n358\n359\n360\n361\n362\n363\n364\n365\n366\n367\n368\n369\n370\n371\n372\n373\n374\n375\n376\n377\n378\n379\n380\n381\n382\n383\n384\n385\n['/media/salim/DD 2To/AHL2011_Validated_DICOMS/13011101231003/1.2.928.1024103598/1.3.12.2.1107.5.1.4.1003.30000012060107300775000008123/1.3.12.2.1107.5.1.4.1003.30000012060107300775000008123', 'PT', '/media/salim/DD 2To/AHL2011_Validated_DICOMS/13011101231003/1.2.928.1024103598/1.3.12.2.1107.5.1.4.1003.30000012060107295131200005906/1.3.12.2.1107.5.1.4.1003.30000012060107295131200005906', 'CT', 'val_ch_jun 1_2012-EV.csv']\nfloat division by zero\n386\n387\n388\n389\n390\n391\n392\n393\n394\n395\n396\n397\n398\n399\n400\n401\n402\n403\n404\n405\n406\n407\n['/media/salim/DD 2To/AHL2011_Validated_DICOMS/13011101231001/1.2.928.102498821/1.3.12.2.1107.5.1.4.1003.30000011103108564157800004923/1.3.12.2.1107.5.1.4.1003.30000011103108564157800004923', 'PT', '/media/salim/DD 2To/AHL2011_Validated_DICOMS/13011101231001/1.2.928.102498821/1.3.12.2.1107.5.1.4.1003.30000011103108561928100003535/1.3.12.2.1107.5.1.4.1003.30000011103108561928100003535', 'CT', 'leb_ma_oct 31_2011-EV.csv']\nfloat division by zero\n408\n['/media/salim/DD 2To/AHL2011_Validated_DICOMS/13011101231002/1.2.928.102499025/1.3.12.2.1107.5.1.4.1003.30000011111008440670300006581/1.3.12.2.1107.5.1.4.1003.30000011111008440670300006581', 'PT', '/media/salim/DD 2To/AHL2011_Validated_DICOMS/13011101231002/1.2.928.102499025/1.3.12.2.1107.5.1.4.1003.30000011111008434118700004790/1.3.12.2.1107.5.1.4.1003.30000011111008434118700004790', 'CT', 'tur_va_nov 10_2011-EV.csv']\nfloat division by zero\n409\n410\n411\n412\n413\n414\n415\n416\n417\n418\n419\n420\n421\n422\n423\n424\n425\n426\n427\n428\n429\n430\n431\n432\n433\n434\n435\n436\n437\n438\n439\n440\n441\n442\n443\n['/media/salim/DD 2To/AHL2011_Validated_DICOMS/13011101061013/1.3.12.2.1107.5.1.4.45527.30000012041313060204600000016/1.3.12.2.1107.5.1.4.45527.30000012041314455467100001802/1.3.12.2.1107.5.1.4.45527.30000012041314455467100001802', 'CT', '/media/salim/DD 2To/AHL2011_Validated_DICOMS/13011101061013/1.3.12.2.1107.5.1.4.45527.30000012041313060204600000016/1.3.12.2.1107.5.1.4.45527.30000012041313083035900003486/1.3.12.2.1107.5.1.4.45527.30000012041313083035900003486', 'PT', 'mar_la_apr 13_2012.csv']\nfloat division by zero\n444\n445\n446\n447\n448\n449\n450\n451\n452\n453\nError generating result array unsupported operand type(s) for *: 'NoneType' and 'int'\n454\n['/media/salim/DD 2To/AHL2011_Validated_DICOMS/13011101211003/1.3.51.0.1.1.10.49.10.222.1020253.1018308/1.2.840.113619.2.55.3.168466380.575.1330325614.321.3/1.2.840.113619.2.55.3.168466380.575.1330325614.321.3', 'CT', '/media/salim/DD 2To/AHL2011_Validated_DICOMS/13011101211003/1.3.51.0.1.1.10.49.10.222.1020253.1018308/1.2.840.113619.2.131.168466380.1330339448.215316/1.2.840.113619.2.131.168466380.1330339448.215316', 'PT', 'lec_va_feb 27_2012-EV.csv']\nfloat division by zero\n455\n456\n['/media/salim/DD 2To/AHL2011_Validated_DICOMS/13011101211004/1.3.51.0.1.1.10.49.10.222.1106502.1104581/1.2.840.113619.2.131.168466380.1335944432.490629/1.2.840.113619.2.131.168466380.1335944432.490629', 'PT', '/media/salim/DD 2To/AHL2011_Validated_DICOMS/13011101211004/1.3.51.0.1.1.10.49.10.222.1106502.1104581/1.2.840.113619.2.55.3.168466380.34.1335938834.162.3/1.2.840.113619.2.55.3.168466380.34.1335938834.162.3', 'CT', 'kry_ca_may 2_2012-EV.csv']\nfloat division by zero\n457\n458\n459\n['/media/salim/DD 2To/AHL2011_Validated_DICOMS/13011101211009/1.3.51.0.1.1.10.49.10.222.1389324.1387520/1.2.840.113619.2.55.3.168466380.733.1351058182.384.3/1.2.840.113619.2.55.3.168466380.733.1351058182.384.3', 'CT', '/media/salim/DD 2To/AHL2011_Validated_DICOMS/13011101211009/1.3.51.0.1.1.10.49.10.222.1389324.1387520/1.2.840.113619.2.131.168466380.1351079089.593538/1.2.840.113619.2.131.168466380.1351079089.593538', 'PT', 'por_si_oct 24_2012-EV.csv']\nfloat division by zero\n460\n461\n462\n463\n464\n465\n466\n467\n468\n469\n470\n471\n472\n473\n474\nError generating result array time data '' does not match format '%Y%m%d%H%M%S'\n475\n476\n477\n478\n479\n480\n481\n482\n483\n484\n485\n486\n487\n488\n489\n490\n491\n492\n493\n494\n495\n496\n497\n498\n499\n500\n501\n502\n503\n504\n505\n506\n507\n508\n509\n510\n511\n512\n513\n514\n515\n516\n517\n518\n519\n520\n521\n522\n523\n524\n525\n526\n527\n528\n529\n530\n531\n532\n533\n534\n535\n536\n537\n538\n539\n540\n541\n542\n['/media/salim/DD 2To/AHL2011_Validated_DICOMS/13011101241004/2.16.840.1.113669.632.20.540001.10003028844/1.3.12.2.1107.5.1.4.44977.30000012032807144505000000000/1.3.12.2.1107.5.1.4.44977.30000012032807144505000000000', 'CT', '/media/salim/DD 2To/AHL2011_Validated_DICOMS/13011101241004/2.16.840.1.113669.632.20.540001.10003028844/1.3.12.2.1107.5.1.4.44977.30000012032806035646000000130/1.3.12.2.1107.5.1.4.44977.30000012032806035646000000130', 'PT', 'lau_ph_mar 28_2012-EV.csv']\nfloat division by zero\n543\n544\n['/media/salim/DD 2To/AHL2011_Validated_DICOMS/13011101241007/2.16.840.1.113669.632.20.540001.10003053100/1.3.12.2.1107.5.1.4.44977.30000012041606392938900006833/1.3.12.2.1107.5.1.4.44977.30000012041606392938900006833', 'PT', '/media/salim/DD 2To/AHL2011_Validated_DICOMS/13011101241007/2.16.840.1.113669.632.20.540001.10003053100/1.3.12.2.1107.5.1.4.44977.30000012041608455152500003286/1.3.12.2.1107.5.1.4.44977.30000012041608455152500003286', 'CT', 'huo_fa_apr 16_2012-EV.csv']\nfloat division by zero\n545\n546\n547\n548\n549\n['/media/salim/DD 2To/AHL2011_Validated_DICOMS/13011101241012/2.16.840.1.113669.632.20.540001.10003399107/1.3.12.2.1107.5.1.4.44977.30000012123107075507500000126/1.3.12.2.1107.5.1.4.44977.30000012123107075507500000126', 'PT', '/media/salim/DD 2To/AHL2011_Validated_DICOMS/13011101241012/2.16.840.1.113669.632.20.540001.10003399107/1.3.12.2.1107.5.1.4.44977.30000012123107022041600000113/1.3.12.2.1107.5.1.4.44977.30000012123107022041600000113', 'CT', 'lau_to_dec 31_2012-EV.csv']\nfloat division by zero\n550\n551\n552\n553\n554\n555\n556\n557\n558\n559\n['/media/salim/DD 2To/AHL2011_Validated_DICOMS/13011101241021/2.16.840.1.113669.632.20.540351.10003856866/1.3.12.2.1107.5.1.4.44977.30000014031306551687800003981/1.3.12.2.1107.5.1.4.44977.30000014031306551687800003981', 'CT', '/media/salim/DD 2To/AHL2011_Validated_DICOMS/13011101241021/2.16.840.1.113669.632.20.540351.10003856866/1.3.12.2.1107.5.1.4.44977.30000014031307042870000005654/1.3.12.2.1107.5.1.4.44977.30000014031307042870000005654', 'PT', 'men_cl_mar 13_2014-EV.csv']\nfloat division by zero\n560\n561\n562\n563\n564\n565\n566\n567\n568\n569\n570\n571\n572\n573\n574\n575\n576\n577\n578\n579\n580\n581\n582\n583\n584\n585\n586\n587\n588\n"
    }
   ],
   "source": [
    "#sauver les séries qui font des erreurs dans un autre json \n",
    "serie_with_error = []\n",
    "for serie in dataset : \n",
    "    try : \n",
    "        #print(serie)\n",
    "        print(dataset.index(serie))\n",
    "        if serie[1] == 'PT' : \n",
    "            serie_pt_objet = SeriesPT(serie[0])\n",
    "            nifti_array = serie_pt_objet.get_numpy_array()\n",
    "            study_uid = serie_pt_objet.get_series_details()['study']['StudyInstanceUID']\n",
    "            size_matrix = serie_pt_objet.get_size_matrix()\n",
    "            mask_objet = MaskBuilder(os.path.join(csv_directory, serie[4]), size_matrix)\n",
    "            mask_4D = mask_objet.mask_array\n",
    "\n",
    "        else : \n",
    "            serie_pt_objet = SeriesPT(serie[2])\n",
    "            nifti_array = serie_pt_objet.get_numpy_array()\n",
    "            study_uid = serie_pt_objet.get_series_details()['study']['StudyInstanceUID']\n",
    "            size_matrix = serie_pt_objet.get_size_matrix()\n",
    "            mask_objet = MaskBuilder(os.path.join(csv_directory, serie[4]), size_matrix)\n",
    "            mask_4D = mask_objet.mask_array\n",
    "\n",
    "    except Exception as err : \n",
    "        print(serie)\n",
    "        print(err)\n",
    "        serie_with_error.append(serie)\n",
    "\n",
    "from library_dicom.dicom_processor.tools.folders import *\n",
    "write_json_file('/media/salim/DD 2To/AHL2011_NIFTI', 'AHL2011_serie_with_error', serie_with_error)\n",
    "#On traitera après "
   ]
  },
  {
   "cell_type": "code",
   "execution_count": 18,
   "metadata": {},
   "outputs": [],
   "source": [
    "len(serie_with_error)\n",
    "serie_with_error.append(dataset[220])\n",
    "serie_with_error.append(dataset[231])\n",
    "serie_with_error.append(dataset[325])\n",
    "serie_with_error.append(dataset[474])\n",
    "serie_with_error.append(dataset[453])\n",
    "write_json_file('/media/salim/DD 2To/AHL2011_NIFTI', 'AHL2011_serie_with_error', serie_with_error)\n",
    "# => 22 séries avec des erreurs, à voir "
   ]
  },
  {
   "cell_type": "code",
   "execution_count": null,
   "metadata": {},
   "outputs": [],
   "source": [
    "220\n",
    "231\n",
    "325\n",
    "474\n",
    "\n",
    "Error generating result array time\n",
    "\n",
    " data '' does not match format '%Y%m%d%H%M%S'\n",
    "\n",
    "453\n",
    "Error generating result array unsupported operand type(s) for *: 'NoneType' and 'int'\n",
    "\n",
    "#float division par 0\n",
    "#index 255 is out of bounds for axis 0 with size 255"
   ]
  },
  {
   "cell_type": "code",
   "execution_count": null,
   "metadata": {},
   "outputs": [],
   "source": []
  },
  {
   "cell_type": "code",
   "execution_count": null,
   "metadata": {},
   "outputs": [],
   "source": []
  },
  {
   "cell_type": "code",
   "execution_count": null,
   "metadata": {},
   "outputs": [],
   "source": [
    "#IMPORT SERIES WITH FALSE MASK,\n",
    "#CHECK FLIP AXE Z + SMALL ERROR ON ELLIPSE "
   ]
  },
  {
   "cell_type": "code",
   "execution_count": 13,
   "metadata": {},
   "outputs": [
    {
     "name": "stdout",
     "output_type": "stream",
     "text": "392\n"
    }
   ],
   "source": [
    "#importer la liste untreated_serie pour la suite : \n",
    "json_path = '/media/salim/DD 2To/AHL2011_NIFTI/AHL2011_serie_with_false_mask.json'\n",
    "untreated_liste = []\n",
    "with open(json_path) as json_file : \n",
    "    reader = json.load(json_file)\n",
    "    for info in reader :\n",
    "        untreated_liste.append(info)\n",
    "\n",
    "print(len(untreated_liste)) #392"
   ]
  },
  {
   "cell_type": "code",
   "execution_count": 14,
   "metadata": {},
   "outputs": [
    {
     "name": "stdout",
     "output_type": "stream",
     "text": "203\n189\n"
    }
   ],
   "source": [
    "#SEPARE LES SERIES PHILIPS DES AUTRES SERIES UNTREATED\n",
    "philips_serie = []\n",
    "untreated_liste_2 = []\n",
    "for serie in untreated_liste : \n",
    "    #print(untreated_liste.index(serie))\n",
    "    try : \n",
    "        if serie[1] == 'PT' : \n",
    "            serie_pt_objet = SeriesPT(serie[0]) \n",
    "            manufacturer = serie_pt_objet.get_series_details()['series']['Manufacturer'] \n",
    "            #si philips on retraitera plus tard \n",
    "            if 'philips' in manufacturer.lower() :\n",
    "                philips_serie.append(serie)\n",
    "            else : untreated_liste_2.append(serie)\n",
    "\n",
    "        else : \n",
    "            serie_pt_objet = SeriesPT(serie[2]) \n",
    "            manufacturer = serie_pt_objet.get_series_details()['series']['Manufacturer'] \n",
    "            #si philips on retraitera plus tard \n",
    "            if 'philips' in manufacturer.lower() :\n",
    "                philips_serie.append(serie)\n",
    "            else : untreated_liste_2.append(serie)\n",
    "\n",
    "    except Exception as err : \n",
    "        print(serie)\n",
    "        print(err)\n",
    "\n",
    "\n",
    "print(len(philips_serie))\n",
    "write_json_file('/media/salim/DD 2To/AHL2011_NIFTI', 'AHL2011_untreated_philips_serie', philips_serie)\n",
    "print(len(untreated_liste_2))\n",
    "write_json_file('/media/salim/DD 2To/AHL2011_NIFTI', 'AHL2011_untreated_serie', untreated_liste_2)"
   ]
  },
  {
   "cell_type": "code",
   "execution_count": null,
   "metadata": {},
   "outputs": [],
   "source": []
  },
  {
   "cell_type": "code",
   "execution_count": 3,
   "metadata": {},
   "outputs": [
    {
     "name": "stdout",
     "output_type": "stream",
     "text": "189\n"
    }
   ],
   "source": [
    "#IMPORT JSON (serie with false mask, except Philips)\n",
    "json_path = '/media/salim/DD 2To/AHL2011_NIFTI/AHL2011_untreated_serie.json'\n",
    "untreated_liste_2 = []\n",
    "with open(json_path) as json_file : \n",
    "    reader = json.load(json_file)\n",
    "    for info in reader :\n",
    "        untreated_liste_2.append(info)\n",
    "\n",
    "print(len(untreated_liste_2)) #189"
   ]
  },
  {
   "cell_type": "code",
   "execution_count": 4,
   "metadata": {},
   "outputs": [
    {
     "name": "stdout",
     "output_type": "stream",
     "text": "0\nSMALL ERRORS ON ELLIPSE, MASK CORRECT\nEXPORT NIFTI PT\nEXPORT NIFTI CT\nEXPORT NIFTI MASK\n1\nSMALL ERRORS ON ELLIPSE, MASK CORRECT\nEXPORT NIFTI PT\nEXPORT NIFTI CT\nEXPORT NIFTI MASK\n2\nSMALL ERRORS ON ELLIPSE, MASK CORRECT\nEXPORT NIFTI PT\nEXPORT NIFTI CT\nEXPORT NIFTI MASK\n3\nSMALL ERRORS ON ELLIPSE, MASK CORRECT\nEXPORT NIFTI PT\nEXPORT NIFTI CT\nEXPORT NIFTI MASK\n4\nPROBLEME SUV MAX POLYGON\n5\nSMALL ERRORS ON ELLIPSE, MASK CORRECT\nEXPORT NIFTI PT\nEXPORT NIFTI CT\nEXPORT NIFTI MASK\n6\nSMALL ERRORS ON ELLIPSE, MASK CORRECT\nEXPORT NIFTI PT\nEXPORT NIFTI CT\nEXPORT NIFTI MASK\n7\nSMALL ERRORS ON ELLIPSE, MASK CORRECT\nEXPORT NIFTI PT\nEXPORT NIFTI CT\nEXPORT NIFTI MASK\n8\nSMALL ERRORS ON ELLIPSE, MASK CORRECT\nEXPORT NIFTI PT\nEXPORT NIFTI CT\nEXPORT NIFTI MASK\n9\nSMALL ERRORS ON ELLIPSE, MASK CORRECT\nEXPORT NIFTI PT\nEXPORT NIFTI CT\nEXPORT NIFTI MASK\n10\nSMALL ERRORS ON ELLIPSE, MASK CORRECT\nEXPORT NIFTI PT\nEXPORT NIFTI CT\nEXPORT NIFTI MASK\n11\nSMALL ERRORS ON ELLIPSE, MASK CORRECT\nEXPORT NIFTI PT\nEXPORT NIFTI CT\nEXPORT NIFTI MASK\n12\nSMALL ERRORS ON ELLIPSE, MASK CORRECT\nEXPORT NIFTI PT\nEXPORT NIFTI CT\nEXPORT NIFTI MASK\n13\nPROBLEME SUV MAX POLYGON\n14\nPROBLEME SUV MAX POLYGON\n15\nPROBLEME SUV MAX POLYGON\n16\nPROBLEME SUV MAX POLYGON\n17\nPROBLEME SUV MAX POLYGON\n18\nSMALL ERRORS ON ELLIPSE, MASK CORRECT\nEXPORT NIFTI PT\nEXPORT NIFTI CT\nEXPORT NIFTI MASK\n19\nSMALL ERRORS ON ELLIPSE, MASK CORRECT\nEXPORT NIFTI PT\nEXPORT NIFTI CT\nEXPORT NIFTI MASK\n20\nSMALL ERRORS ON ELLIPSE, MASK CORRECT\nEXPORT NIFTI PT\nEXPORT NIFTI CT\nEXPORT NIFTI MASK\n21\nSMALL ERRORS ON ELLIPSE, MASK CORRECT\nEXPORT NIFTI PT\nEXPORT NIFTI CT\nEXPORT NIFTI MASK\n22\nPROBLEME SUV MAX POLYGON\n23\nSMALL ERRORS ON ELLIPSE, MASK CORRECT\nEXPORT NIFTI PT\nEXPORT NIFTI CT\nEXPORT NIFTI MASK\n24\nPROBLEME SUV MAX POLYGON\n25\nPROBLEME SUV MAX POLYGON\n26\nPROBLEME SUV MAX POLYGON\n27\nPROBLEME SUV MAX POLYGON\n28\nPROBLEME SUV MAX POLYGON\n29\nSMALL ERRORS ON ELLIPSE, MASK CORRECT\nEXPORT NIFTI PT\nEXPORT NIFTI CT\nEXPORT NIFTI MASK\n30\nSMALL ERRORS ON ELLIPSE, MASK CORRECT\nEXPORT NIFTI PT\nEXPORT NIFTI CT\nEXPORT NIFTI MASK\n31\nSMALL ERRORS ON ELLIPSE, MASK CORRECT\nEXPORT NIFTI PT\nEXPORT NIFTI CT\nEXPORT NIFTI MASK\n32\nSMALL ERRORS ON ELLIPSE, MASK CORRECT\nEXPORT NIFTI PT\nEXPORT NIFTI CT\nEXPORT NIFTI MASK\n33\nPROBLEME SUV MAX POLYGON\n34\nPROBLEME SUV MAX POLYGON\n35\nSMALL ERRORS ON ELLIPSE, MASK CORRECT\nEXPORT NIFTI PT\nEXPORT NIFTI CT\nEXPORT NIFTI MASK\n36\nSMALL ERRORS ON ELLIPSE, MASK CORRECT\nEXPORT NIFTI PT\nEXPORT NIFTI CT\nEXPORT NIFTI MASK\n37\nSMALL ERRORS ON ELLIPSE, MASK CORRECT\nEXPORT NIFTI PT\nEXPORT NIFTI CT\nEXPORT NIFTI MASK\n38\nPROBLEME SUV MAX POLYGON\n39\nPROBLEME SUV MAX POLYGON\n40\nPROBLEME SUV MAX POLYGON\n41\nPROBLEME SUV MAX POLYGON\n42\nPROBLEME SUV MAX POLYGON\n43\nPROBLEME SUV MAX POLYGON\n44\nPROBLEME SUV MAX POLYGON\n45\nSMALL ERRORS ON ELLIPSE, MASK CORRECT\nEXPORT NIFTI PT\nEXPORT NIFTI CT\nEXPORT NIFTI MASK\n46\nSMALL ERRORS ON ELLIPSE, MASK CORRECT\nEXPORT NIFTI PT\nEXPORT NIFTI CT\nEXPORT NIFTI MASK\n47\nSMALL ERRORS ON ELLIPSE, MASK CORRECT\nEXPORT NIFTI PT\nEXPORT NIFTI CT\nEXPORT NIFTI MASK\n48\nPROBLEME SUV MAX POLYGON\n49\nPROBLEME SUV MAX POLYGON\n50\nPROBLEME SUV MAX POLYGON\n51\nSMALL ERRORS ON ELLIPSE, MASK CORRECT\nEXPORT NIFTI PT\nEXPORT NIFTI CT\nEXPORT NIFTI MASK\n52\nSMALL ERRORS ON ELLIPSE, MASK CORRECT\nEXPORT NIFTI PT\nEXPORT NIFTI CT\nEXPORT NIFTI MASK\n53\nPROBLEME SUV MAX POLYGON\n54\nSMALL ERRORS ON ELLIPSE, MASK CORRECT\nEXPORT NIFTI PT\nEXPORT NIFTI CT\nEXPORT NIFTI MASK\n55\nPROBLEME SUV MAX POLYGON\n56\nPROBLEME SUV MAX POLYGON\n57\nSMALL ERRORS ON ELLIPSE, MASK CORRECT\nEXPORT NIFTI PT\nEXPORT NIFTI CT\nEXPORT NIFTI MASK\n58\nSMALL ERRORS ON ELLIPSE, MASK CORRECT\nEXPORT NIFTI PT\nEXPORT NIFTI CT\nEXPORT NIFTI MASK\n59\nSMALL ERRORS ON ELLIPSE, MASK CORRECT\nEXPORT NIFTI PT\nEXPORT NIFTI CT\nEXPORT NIFTI MASK\n60\nSMALL ERRORS ON ELLIPSE, MASK CORRECT\nEXPORT NIFTI PT\nEXPORT NIFTI CT\nEXPORT NIFTI MASK\n61\nPROBLEME SUV MAX POLYGON\n62\nPROBLEME SUV MAX POLYGON\n63\nPROBLEME SUV MAX POLYGON\n64\nSMALL ERRORS ON ELLIPSE, MASK CORRECT\nEXPORT NIFTI PT\nEXPORT NIFTI CT\nEXPORT NIFTI MASK\n65\nSMALL ERRORS ON ELLIPSE, MASK CORRECT\nEXPORT NIFTI PT\nEXPORT NIFTI CT\nEXPORT NIFTI MASK\n66\nPROBLEME SUV MAX POLYGON\n67\nSMALL ERRORS ON ELLIPSE, MASK CORRECT\nEXPORT NIFTI PT\nEXPORT NIFTI CT\nEXPORT NIFTI MASK\n68\nSMALL ERRORS ON ELLIPSE, MASK CORRECT\nEXPORT NIFTI PT\nEXPORT NIFTI CT\nEXPORT NIFTI MASK\n69\nSMALL ERRORS ON ELLIPSE, MASK CORRECT\nEXPORT NIFTI PT\nEXPORT NIFTI CT\nEXPORT NIFTI MASK\n70\nSMALL ERRORS ON ELLIPSE, MASK CORRECT\nEXPORT NIFTI PT\nEXPORT NIFTI CT\nEXPORT NIFTI MASK\n71\nPROBLEME SUV MAX POLYGON\n72\nSMALL ERRORS ON ELLIPSE, MASK CORRECT\nEXPORT NIFTI PT\nEXPORT NIFTI CT\nEXPORT NIFTI MASK\n73\nSMALL ERRORS ON ELLIPSE, MASK CORRECT\nEXPORT NIFTI PT\nEXPORT NIFTI CT\nEXPORT NIFTI MASK\n74\nPROBLEME SUV MAX POLYGON\n75\nPROBLEME SUV MAX POLYGON\n76\nPROBLEME SUV MAX POLYGON\n77\nPROBLEME SUV MAX POLYGON\n78\nPROBLEME SUV MAX POLYGON\n79\nPROBLEME SUV MAX POLYGON\n80\nPROBLEME SUV MAX POLYGON\n81\nPROBLEME SUV MAX POLYGON\n82\nPROBLEME SUV MAX POLYGON\n83\nPROBLEME SUV MAX POLYGON\n84\nPROBLEME SUV MAX POLYGON\n85\nPROBLEME SUV MAX POLYGON\n86\nPROBLEME SUV MAX POLYGON\n87\nPROBLEME SUV MAX POLYGON\n88\nSMALL ERRORS ON ELLIPSE, MASK CORRECT\nEXPORT NIFTI PT\nEXPORT NIFTI CT\nEXPORT NIFTI MASK\n89\nPROBLEME SUV MAX POLYGON\n90\nPROBLEME SUV MAX POLYGON\n91\nPROBLEME SUV MAX POLYGON\n92\nPROBLEME SUV MAX POLYGON\n93\nPROBLEME SUV MAX POLYGON\n94\nPROBLEME SUV MAX POLYGON\n95\nSMALL ERRORS ON ELLIPSE, MASK CORRECT\nEXPORT NIFTI PT\nEXPORT NIFTI CT\nEXPORT NIFTI MASK\n96\nSMALL ERRORS ON ELLIPSE, MASK CORRECT\nEXPORT NIFTI PT\nEXPORT NIFTI CT\nEXPORT NIFTI MASK\n97\nSMALL ERRORS ON ELLIPSE, MASK CORRECT\nEXPORT NIFTI PT\nEXPORT NIFTI CT\nEXPORT NIFTI MASK\n98\nSMALL ERRORS ON ELLIPSE, MASK CORRECT\nEXPORT NIFTI PT\nEXPORT NIFTI CT\nEXPORT NIFTI MASK\n99\nSMALL ERRORS ON ELLIPSE, MASK CORRECT\nEXPORT NIFTI PT\nEXPORT NIFTI CT\nEXPORT NIFTI MASK\n100\nPROBLEME SUV MAX POLYGON\n101\nPROBLEME SUV MEAN ET SD POLYGONE\necart mean [16, 'POLYGON', 0.25]\necart sd [3, 'POLYGON', 0.16999999999999993, 16, 'POLYGON', 0.15999999999999998]\n102\nSMALL ERRORS ON ELLIPSE, MASK CORRECT\nEXPORT NIFTI PT\nEXPORT NIFTI CT\nEXPORT NIFTI MASK\n103\nSMALL ERRORS ON ELLIPSE, MASK CORRECT\nEXPORT NIFTI PT\nEXPORT NIFTI CT\nEXPORT NIFTI MASK\n104\nSMALL ERRORS ON ELLIPSE, MASK CORRECT\nEXPORT NIFTI PT\nEXPORT NIFTI CT\nEXPORT NIFTI MASK\n105\nSMALL ERRORS ON ELLIPSE, MASK CORRECT\nEXPORT NIFTI PT\nEXPORT NIFTI CT\nEXPORT NIFTI MASK\n106\nSMALL ERRORS ON ELLIPSE, MASK CORRECT\nEXPORT NIFTI PT\nEXPORT NIFTI CT\nEXPORT NIFTI MASK\n107\nPROBLEME SUV MAX POLYGON\n108\nPROBLEME SUV MAX POLYGON\n109\nPROBLEME SUV MAX POLYGON\n110\nSMALL ERRORS ON ELLIPSE, MASK CORRECT\nEXPORT NIFTI PT\nEXPORT NIFTI CT\nEXPORT NIFTI MASK\n111\nSMALL ERRORS ON ELLIPSE, MASK CORRECT\nEXPORT NIFTI PT\nEXPORT NIFTI CT\nEXPORT NIFTI MASK\n112\nSMALL ERRORS ON ELLIPSE, MASK CORRECT\nEXPORT NIFTI PT\nEXPORT NIFTI CT\nEXPORT NIFTI MASK\n113\nSMALL ERRORS ON ELLIPSE, MASK CORRECT\nEXPORT NIFTI PT\nEXPORT NIFTI CT\nEXPORT NIFTI MASK\n114\nSMALL ERRORS ON ELLIPSE, MASK CORRECT\nEXPORT NIFTI PT\nEXPORT NIFTI CT\nEXPORT NIFTI MASK\n115\nPROBLEME SUV MAX POLYGON\n116\nSMALL ERRORS ON ELLIPSE, MASK CORRECT\nEXPORT NIFTI PT\nEXPORT NIFTI CT\nEXPORT NIFTI MASK\n117\nSMALL ERRORS ON ELLIPSE, MASK CORRECT\nEXPORT NIFTI PT\nEXPORT NIFTI CT\nEXPORT NIFTI MASK\n118\nSMALL ERRORS ON ELLIPSE, MASK CORRECT\nEXPORT NIFTI PT\nEXPORT NIFTI CT\nEXPORT NIFTI MASK\n119\nSMALL ERRORS ON ELLIPSE, MASK CORRECT\nEXPORT NIFTI PT\nEXPORT NIFTI CT\nEXPORT NIFTI MASK\n120\nSMALL ERRORS ON ELLIPSE, MASK CORRECT\nEXPORT NIFTI PT\nEXPORT NIFTI CT\nEXPORT NIFTI MASK\n121\nPROBLEME SUV MAX POLYGON\n122\nSMALL ERRORS ON ELLIPSE, MASK CORRECT\nEXPORT NIFTI PT\nEXPORT NIFTI CT\nEXPORT NIFTI MASK\n123\nPROBLEME SUV MAX POLYGON\n124\nSMALL ERRORS ON ELLIPSE, MASK CORRECT\nEXPORT NIFTI PT\nEXPORT NIFTI CT\nEXPORT NIFTI MASK\n125\nSMALL ERRORS ON ELLIPSE, MASK CORRECT\nEXPORT NIFTI PT\nEXPORT NIFTI CT\nEXPORT NIFTI MASK\n126\nPROBLEME SUV MAX POLYGON\n127\nPROBLEME SUV MAX POLYGON\n128\nSMALL ERRORS ON ELLIPSE, MASK CORRECT\nEXPORT NIFTI PT\nEXPORT NIFTI CT\nEXPORT NIFTI MASK\n129\nSMALL ERRORS ON ELLIPSE, MASK CORRECT\nEXPORT NIFTI PT\nEXPORT NIFTI CT\nEXPORT NIFTI MASK\n130\nSMALL ERRORS ON ELLIPSE, MASK CORRECT\nEXPORT NIFTI PT\nEXPORT NIFTI CT\nEXPORT NIFTI MASK\n131\nPROBLEME SUV MAX POLYGON\n132\nPROBLEME SUV MAX POLYGON\n133\nPROBLEME SUV MAX POLYGON\n134\nPROBLEME SUV MAX POLYGON\n135\nPROBLEME SUV MAX POLYGON\n136\nPROBLEME SUV MAX POLYGON\n137\nPROBLEME SUV MEAN ET SD POLYGONE\necart mean [22, 'POLYGON', 0.2400000000000002]\necart sd [22, 'POLYGON', 0.1299999999999999]\n138\nSMALL ERRORS ON ELLIPSE, MASK CORRECT\nEXPORT NIFTI PT\nEXPORT NIFTI CT\nEXPORT NIFTI MASK\n139\nSMALL ERRORS ON ELLIPSE, MASK CORRECT\nEXPORT NIFTI PT\nEXPORT NIFTI CT\nEXPORT NIFTI MASK\n140\nPROBLEME SUV MAX POLYGON\n141\nPROBLEME SUV MAX POLYGON\n142\nSMALL ERRORS ON ELLIPSE, MASK CORRECT\nEXPORT NIFTI PT\nEXPORT NIFTI CT\nEXPORT NIFTI MASK\n143\nSMALL ERRORS ON ELLIPSE, MASK CORRECT\nEXPORT NIFTI PT\nEXPORT NIFTI CT\nEXPORT NIFTI MASK\n144\nSMALL ERRORS ON ELLIPSE, MASK CORRECT\nEXPORT NIFTI PT\nEXPORT NIFTI CT\nEXPORT NIFTI MASK\n145\nPROBLEME SUV MAX POLYGON\n146\nSMALL ERRORS ON ELLIPSE, MASK CORRECT\nEXPORT NIFTI PT\nEXPORT NIFTI CT\nEXPORT NIFTI MASK\n147\nSMALL ERRORS ON ELLIPSE, MASK CORRECT\nEXPORT NIFTI PT\nEXPORT NIFTI CT\nEXPORT NIFTI MASK\n148\nSMALL ERRORS ON ELLIPSE, MASK CORRECT\nEXPORT NIFTI PT\nEXPORT NIFTI CT\nEXPORT NIFTI MASK\n149\nSMALL ERRORS ON ELLIPSE, MASK CORRECT\nEXPORT NIFTI PT\nEXPORT NIFTI CT\nEXPORT NIFTI MASK\n150\nSMALL ERRORS ON ELLIPSE, MASK CORRECT\nEXPORT NIFTI PT\nEXPORT NIFTI CT\nEXPORT NIFTI MASK\n151\nPROBLEME SUV MAX POLYGON\n152\nSMALL ERRORS ON ELLIPSE, MASK CORRECT\nEXPORT NIFTI PT\nEXPORT NIFTI CT\nEXPORT NIFTI MASK\n153\nSMALL ERRORS ON ELLIPSE, MASK CORRECT\nEXPORT NIFTI PT\nEXPORT NIFTI CT\nEXPORT NIFTI MASK\n154\nSMALL ERRORS ON ELLIPSE, MASK CORRECT\nEXPORT NIFTI PT\nEXPORT NIFTI CT\nEXPORT NIFTI MASK\n155\nSMALL ERRORS ON ELLIPSE, MASK CORRECT\nEXPORT NIFTI PT\nEXPORT NIFTI CT\nEXPORT NIFTI MASK\n156\nSMALL ERRORS ON ELLIPSE, MASK CORRECT\nEXPORT NIFTI PT\nEXPORT NIFTI CT\nEXPORT NIFTI MASK\n157\nSMALL ERRORS ON ELLIPSE, MASK CORRECT\nEXPORT NIFTI PT\nEXPORT NIFTI CT\nEXPORT NIFTI MASK\n158\nSMALL ERRORS ON ELLIPSE, MASK CORRECT\nEXPORT NIFTI PT\nEXPORT NIFTI CT\nEXPORT NIFTI MASK\n159\nPROBLEME SUV MEAN ET SD POLYGONE\necart mean [4, 'ELLIPSE', 0.10000000000000053, 9, 'POLYGON', 0.46999999999999886]\necart sd [9, 'POLYGON', 0.18000000000000016]\n160\nSMALL ERRORS ON ELLIPSE, MASK CORRECT\nEXPORT NIFTI PT\nEXPORT NIFTI CT\nEXPORT NIFTI MASK\n161\nPROBLEME SUV MAX POLYGON\n162\nPROBLEME SUV MAX POLYGON\n163\nPROBLEME SUV MAX POLYGON\n164\nPROBLEME SUV MAX POLYGON\n165\nPROBLEME SUV MAX POLYGON\n166\nSMALL ERRORS ON ELLIPSE, MASK CORRECT\nEXPORT NIFTI PT\nEXPORT NIFTI CT\nEXPORT NIFTI MASK\n167\nSMALL ERRORS ON ELLIPSE, MASK CORRECT\nEXPORT NIFTI PT\nEXPORT NIFTI CT\nEXPORT NIFTI MASK\n168\nSMALL ERRORS ON ELLIPSE, MASK CORRECT\nEXPORT NIFTI PT\nEXPORT NIFTI CT\nEXPORT NIFTI MASK\n169\nSMALL ERRORS ON ELLIPSE, MASK CORRECT\nEXPORT NIFTI PT\nEXPORT NIFTI CT\nEXPORT NIFTI MASK\n170\nPROBLEME SUV MAX POLYGON\n171\nPROBLEME SUV MAX POLYGON\n172\nSMALL ERRORS ON ELLIPSE, MASK CORRECT\nEXPORT NIFTI PT\nEXPORT NIFTI CT\nEXPORT NIFTI MASK\n173\nPROBLEME SUV MAX POLYGON\n174\nPROBLEME SUV MAX POLYGON\n175\nPROBLEME SUV MAX POLYGON\n176\nPROBLEME SUV MAX POLYGON\n177\nPROBLEME SUV MAX POLYGON\n178\nPROBLEME SUV MAX POLYGON\n179\nPROBLEME SUV MAX POLYGON\n180\nPROBLEME SUV MAX POLYGON\n181\nPROBLEME SUV MAX POLYGON\n182\nPROBLEME SUV MAX POLYGON\n183\nPROBLEME SUV MAX POLYGON\n184\nSMALL ERRORS ON ELLIPSE, MASK CORRECT\nEXPORT NIFTI PT\nEXPORT NIFTI CT\nEXPORT NIFTI MASK\n185\nSMALL ERRORS ON ELLIPSE, MASK CORRECT\nEXPORT NIFTI PT\nEXPORT NIFTI CT\nEXPORT NIFTI MASK\n186\nSMALL ERRORS ON ELLIPSE, MASK CORRECT\nEXPORT NIFTI PT\nEXPORT NIFTI CT\nEXPORT NIFTI MASK\n187\nSMALL ERRORS ON ELLIPSE, MASK CORRECT\nEXPORT NIFTI PT\nEXPORT NIFTI CT\nEXPORT NIFTI MASK\n188\nSMALL ERRORS ON ELLIPSE, MASK CORRECT\nEXPORT NIFTI PT\nEXPORT NIFTI CT\nEXPORT NIFTI MASK\n"
    }
   ],
   "source": [
    "#SUR LES LISTES NON PHILIPS, ON REGARDE\n",
    "#SI ERREUR SUR SUV MAX MEAN SD SEULEMENT SUR DES ELLIPSES, SI OUI => GENERER NIFTI \n",
    "\n",
    "erreur_polygone_max = []\n",
    "erreur_polygone_mean_sd = []\n",
    "for serie in untreated_liste_2 : \n",
    "    print(untreated_liste_2.index(serie))\n",
    "    try : \n",
    "        if serie[1] == 'PT' : \n",
    "            serie_pt_objet = SeriesPT(serie[0]) \n",
    "            nifti_array = serie_pt_objet.get_numpy_array()\n",
    "            study_uid = serie_pt_objet.get_series_details()['study']['StudyInstanceUID']\n",
    "            size_matrix = serie_pt_objet.get_size_matrix()\n",
    "            mask_objet = MaskBuilder(os.path.join(csv_directory, serie[4]), size_matrix)\n",
    "            mask_4D = mask_objet.mask_array\n",
    "\n",
    "            if 'POLYGON' in mask_objet.ecart_suv_max(nifti_array) :\n",
    "                print(\"PROBLEME SUV MAX POLYGON\")\n",
    "                erreur_polygone_max.append(serie)\n",
    "            \n",
    "            else : \n",
    "\n",
    "                result_mean = mask_objet.ecart_suv_mean(nifti_array)\n",
    "                result_sd = mask_objet.ecart_SD(nifti_array)\n",
    "                if (('POLYGON' in result_mean) and ('POLYGON' in result_sd)) : \n",
    "                    print(\"PROBLEME SUV MEAN ET SD POLYGONE\")\n",
    "                    print(\"ecart mean\", result_mean)\n",
    "                    print(\"ecart sd\", result_sd)\n",
    "                    erreur_polygone_mean_sd.append(serie)\n",
    "\n",
    "                else : \n",
    "                    #si erreur sur les sd et mean QUE sur les ellipses, on tolère \n",
    "                    print(\"SMALL ERRORS ON ELLIPSE, MASK CORRECT\")\n",
    "                    #generation nifti PT\n",
    "                    filename_pt = study_uid+'_'+'nifti_'+'PT'+'.nii'\n",
    "                    serie_pt_objet.export_nifti(os.path.join(nifti_directory, filename_pt))\n",
    "                    print(\"EXPORT NIFTI PT\")\n",
    "                    #generation nifti CT\n",
    "                    serie_ct_objet = SeriesCT(serie[2])\n",
    "                    serie_ct_objet.get_numpy_array()\n",
    "                    filename_ct = study_uid+'_'+'nifti_'+'CT'+'.nii'\n",
    "                    serie_ct_objet.export_nifti(os.path.join(nifti_directory, filename_ct))\n",
    "                    print(\"EXPORT NIFTI CT\")\n",
    "                    #generation nifti mask\n",
    "                    filename_mask = study_uid+'_'+'nifti_'+'mask'+'.nii'\n",
    "                    serie_pt_objet.export_nifti(os.path.join(nifti_directory, filename_mask), mask_4D)\n",
    "                    print(\"EXPORT NIFTI MASK\")\n",
    "\n",
    "\n",
    "        else : \n",
    "            serie_pt_objet = SeriesPT(serie[2]) \n",
    "            nifti_array = serie_pt_objet.get_numpy_array()\n",
    "            study_uid = serie_pt_objet.get_series_details()['study']['StudyInstanceUID']\n",
    "            size_matrix = serie_pt_objet.get_size_matrix()\n",
    "            mask_objet = MaskBuilder(os.path.join(csv_directory, serie[4]), size_matrix)\n",
    "            mask_4D = mask_objet.mask_array\n",
    "\n",
    "            if 'POLYGON' in mask_objet.ecart_suv_max(nifti_array)  :\n",
    "                print(\"PROBLEME SUV MAX POLYGON\")\n",
    "                erreur_polygone_max.append(serie)\n",
    "            else : \n",
    "\n",
    "                result_mean = mask_objet.ecart_suv_mean(nifti_array)\n",
    "                result_sd = mask_objet.ecart_SD(nifti_array)\n",
    "                if (('POLYGON' in result_mean) and ('POLYGON' in result_sd)) : \n",
    "                    print(\"PROBLEME SUV MEAN ET SD POLYGONE\")\n",
    "                    print(\"ecart mean\", result_mean)\n",
    "                    print(\"ecart sd\", result_sd)\n",
    "                    erreur_polygone_mean_sd.append(serie)\n",
    "\n",
    "                else : \n",
    "                    #si erreur sur les sd et mean QUE sur les ellipses, on tolère \n",
    "                    print(\"SMALL ERRORS ON ELLIPSE, MASK CORRECT\")\n",
    "                    #generation nifti PT\n",
    "                    filename_pt = study_uid+'_'+'nifti_'+'PT'+'.nii'\n",
    "                    serie_pt_objet.export_nifti(os.path.join(nifti_directory, filename_pt))\n",
    "                    print(\"EXPORT NIFTI PT\")\n",
    "                    #generation nifti CT\n",
    "                    serie_ct_objet = SeriesCT(serie[0])\n",
    "                    serie_ct_objet.get_numpy_array()\n",
    "                    filename_ct = study_uid+'_'+'nifti_'+'CT'+'.nii'\n",
    "                    serie_ct_objet.export_nifti(os.path.join(nifti_directory, filename_ct))\n",
    "                    print(\"EXPORT NIFTI CT\")\n",
    "                    #generation nifti mask\n",
    "                    filename_mask = study_uid+'_'+'nifti_'+'mask'+'.nii'\n",
    "                    serie_pt_objet.export_nifti(os.path.join(nifti_directory, filename_mask), mask_4D)\n",
    "                    print(\"EXPORT NIFTI MASK\")\n",
    "\n",
    "\n",
    "    except Exception as err : \n",
    "        print(serie)\n",
    "        print(err)"
   ]
  },
  {
   "cell_type": "code",
   "execution_count": 5,
   "metadata": {},
   "outputs": [
    {
     "name": "stdout",
     "output_type": "stream",
     "text": "89\n3\n"
    }
   ],
   "source": [
    "print(len(erreur_polygone_max))\n",
    "print(len(erreur_polygone_mean_sd))"
   ]
  },
  {
   "cell_type": "code",
   "execution_count": 6,
   "metadata": {},
   "outputs": [],
   "source": [
    "#save as json the list of serie which have a mask problem \n",
    "write_json_file('/media/salim/DD 2To/AHL2011_NIFTI', 'AHL2011_serie_error_polygone_max', erreur_polygone_max)\n",
    "write_json_file('/media/salim/DD 2To/AHL2011_NIFTI', 'AHL2011_serie_error_polygone_mean_sd', erreur_polygone_mean_sd)"
   ]
  },
  {
   "cell_type": "code",
   "execution_count": null,
   "metadata": {},
   "outputs": [],
   "source": []
  },
  {
   "cell_type": "code",
   "execution_count": null,
   "metadata": {},
   "outputs": [],
   "source": []
  },
  {
   "cell_type": "code",
   "execution_count": null,
   "metadata": {},
   "outputs": [],
   "source": [
    "#CHECKER LE FLIP : AUCUNE SERIE GENERER AVEC LE FLIP "
   ]
  },
  {
   "cell_type": "code",
   "execution_count": 19,
   "metadata": {},
   "outputs": [
    {
     "name": "stdout",
     "output_type": "stream",
     "text": "0\n1\n2\n3\n4\n5\n6\n7\n8\n9\n10\n11\n12\n13\n14\n15\n16\n17\n18\n19\n20\n21\n22\n23\n24\n25\n26\n27\n28\n29\n30\n31\n32\n33\n34\n35\n36\n37\n38\n39\n40\n41\n42\n43\n44\n45\n46\n47\n48\n49\n50\n51\n52\n53\n54\n55\n56\n57\n58\n59\n60\n61\n62\n63\n64\n65\n66\n67\n68\n69\n70\n71\n72\n73\n74\n75\n76\n77\n78\n79\n80\n81\n82\n83\n84\n85\n86\n87\n88\n89\n90\n91\n92\n93\n94\n95\n96\n97\n98\n99\n100\n101\n102\n103\n104\n105\n106\n107\n108\n109\n110\n111\n112\n113\n114\n115\n116\n117\n118\n119\n120\n121\n122\n123\n124\n125\n126\n127\n128\n129\n130\n131\n132\n133\n134\n135\n136\n137\n138\n139\n140\n141\n142\n143\n144\n145\n146\n147\n148\n149\n150\n151\n152\n153\n154\n155\n156\n"
    }
   ],
   "source": [
    "#ON FLIP LE MASK ET ON REGARDE SI LES CALCLS SUV MAX MEAN SD SONT BONS\n",
    "#SI OUI => GENERE NIFTI \n",
    "\n",
    "serie_with_flip = []\n",
    "for serie in serie_error_mask: \n",
    "    print(serie_error_mask.index(serie))\n",
    "    try : \n",
    "        if serie[1] == 'PT' : \n",
    "            serie_pt_objet = SeriesPT(serie[0]) \n",
    "            nifti_array = serie_pt_objet.get_numpy_array()\n",
    "            study_uid = serie_pt_objet.get_series_details()['study']['StudyInstanceUID']\n",
    "            size_matrix = serie_pt_objet.get_size_matrix()\n",
    "            mask_objet = MaskBuilder(os.path.join(csv_directory, serie[4]), size_matrix)\n",
    "            mask_4D = mask_objet.mask_array\n",
    "            if (mask_objet.is_correct_suv(nifti_array, flip = True) == True) : #si mask correct APRES LE FLIP \n",
    "                print(\"MASK CORRECT APRES FLIP\")\n",
    "                #generation nifti PT\n",
    "                filename_pt = study_uid+'_'+'nifti_'+'PT'+'.nii'\n",
    "                serie_pt_objet.export_nifti(os.path.join(nifti_directory, filename_pt))\n",
    "                print(\"EXPORT NIFTI PT\")\n",
    "                #generation nifti CT\n",
    "                serie_ct_objet = SeriesCT(serie[2])\n",
    "                serie_ct_objet.get_numpy_array()\n",
    "                filename_ct = study_uid+'_'+'nifti_'+'CT'+'.nii'\n",
    "                serie_ct_objet.export_nifti(os.path.join(nifti_directory, filename_ct))\n",
    "                print(\"EXPORT NIFTI CT\")\n",
    "                #generation nifti mask\n",
    "                mask_objet.flip_z(mask_4D)\n",
    "                mask_4D_flip = mask_objet.mask_array\n",
    "                filename_mask = study_uid+'_'+'nifti_'+'mask'+'.nii'\n",
    "                serie_pt_objet.export_nifti(os.path.join(nifti_directory, filename_mask), mask_4D_flip)\n",
    "                print(\"EXPORT NIFTI MASK\")\n",
    "                serie_with_flip.append(serie)\n",
    "\n",
    "        else : \n",
    "            serie_pt_objet = SeriesPT(serie[2]) \n",
    "            nifti_array = serie_pt_objet.get_numpy_array()\n",
    "            study_uid = serie_pt_objet.get_series_details()['study']['StudyInstanceUID']\n",
    "            size_matrix = serie_pt_objet.get_size_matrix()\n",
    "            mask_objet = MaskBuilder(os.path.join(csv_directory, serie[4]), size_matrix)\n",
    "            mask_4D = mask_objet.mask_array\n",
    "            if (mask_objet.is_correct_suv(nifti_array, flip = True) == True) : #si mask correct APRES LE FLIP \n",
    "                print(\"MASK CORRECT APRES FLIP\")\n",
    "                #generation nifti PT\n",
    "                filename_pt = study_uid+'_'+'nifti_'+'PT'+'.nii'\n",
    "                serie_pt_objet.export_nifti(os.path.join(nifti_directory, filename_pt))\n",
    "                print(\"EXPORT NIFTI PT\")\n",
    "                #generation nifti CT\n",
    "                serie_ct_objet = SeriesCT(serie[0])\n",
    "                serie_ct_objet.get_numpy_array()\n",
    "                filename_ct = study_uid+'_'+'nifti_'+'CT'+'.nii'\n",
    "                serie_ct_objet.export_nifti(os.path.join(nifti_directory, filename_ct))\n",
    "                print(\"EXPORT NIFTI CT\")\n",
    "                #generation nifti mask\n",
    "                mask_objet.flip_z(mask_4D)\n",
    "                mask_4D_flip = mask_objet.mask_array\n",
    "                filename_mask = study_uid+'_'+'nifti_'+'mask'+'.nii'\n",
    "                serie_pt_objet.export_nifti(os.path.join(nifti_directory, filename_mask), mask_4D_flip)\n",
    "                print(\"EXPORT NIFTI MASK\")\n",
    "                serie_with_flip.append(serie)\n",
    "\n",
    "\n",
    "\n",
    "    except Exception as err : \n",
    "        print(serie)\n",
    "        print(err)"
   ]
  },
  {
   "cell_type": "code",
   "execution_count": 20,
   "metadata": {},
   "outputs": [],
   "source": [
    "#APRES FLIP, REGARDER SI SMALL ERRORS SUR ELLIPSE\n",
    "#SI PAS DE PROBLEMES SUR LES POLYGONES ON PEUT GENERER LE NIFTI "
   ]
  },
  {
   "cell_type": "code",
   "execution_count": 4,
   "metadata": {},
   "outputs": [
    {
     "name": "stdout",
     "output_type": "stream",
     "text": "0\nPROBLEME SUV MAX\n1\nPROBLEME SUV MAX\n2\nPROBLEME SUV MAX\n3\nPROBLEME SUV MAX\n4\nPROBLEME SUV MAX\n5\nPROBLEME SUV MAX\n6\nPROBLEME SUV MAX\n7\nPROBLEME SUV MAX\n8\nPROBLEME SUV MAX\n9\nPROBLEME SUV MAX\n10\nPROBLEME SUV MAX\n11\nPROBLEME SUV MAX\n12\nPROBLEME SUV MAX\n13\nPROBLEME SUV MAX\n14\nPROBLEME SUV MAX\n15\nPROBLEME SUV MAX\n16\nPROBLEME SUV MAX\n17\nPROBLEME SUV MAX\n18\nPROBLEME SUV MAX\n19\nPROBLEME SUV MAX\n20\nPROBLEME SUV MAX\n21\nPROBLEME SUV MAX\n22\nPROBLEME SUV MAX\n23\nPROBLEME SUV MAX\n24\nPROBLEME SUV MAX\n25\nPROBLEME SUV MAX\n26\nPROBLEME SUV MAX\n27\nPROBLEME SUV MAX\n28\nPROBLEME SUV MAX\n29\nPROBLEME SUV MAX\n30\nPROBLEME SUV MAX\n31\nPROBLEME SUV MAX\n32\nPROBLEME SUV MAX\n33\nPROBLEME SUV MAX\n34\nPROBLEME SUV MAX\n35\nPROBLEME SUV MAX\n36\nPROBLEME SUV MAX\n37\nPROBLEME SUV MAX\n38\nPROBLEME SUV MAX\n39\nPROBLEME SUV MAX\n40\nPROBLEME SUV MAX\n41\nPROBLEME SUV MAX\n42\nPROBLEME SUV MAX\n43\nPROBLEME SUV MAX\n44\nPROBLEME SUV MAX\n45\nPROBLEME SUV MAX\n46\nPROBLEME SUV MAX\n47\nPROBLEME SUV MAX\n48\nPROBLEME SUV MAX\n49\nPROBLEME SUV MAX\n50\nPROBLEME SUV MAX\n51\nPROBLEME SUV MAX\n52\nPROBLEME SUV MAX\n53\nPROBLEME SUV MAX\n54\nPROBLEME SUV MAX\n55\nPROBLEME SUV MAX\n56\nPROBLEME SUV MAX\n57\nPROBLEME SUV MAX\n58\nPROBLEME SUV MAX\n59\nPROBLEME SUV MAX\n60\nPROBLEME SUV MAX\n61\nPROBLEME SUV MAX\n62\nPROBLEME SUV MAX\n63\nPROBLEME SUV MAX\n64\nPROBLEME SUV MAX\n65\nPROBLEME SUV MAX\n66\nPROBLEME SUV MAX\n67\nPROBLEME SUV MAX\n68\nPROBLEME SUV MAX\n69\nPROBLEME SUV MAX\n70\nPROBLEME SUV MAX\n71\nPROBLEME SUV MAX\n72\nPROBLEME SUV MAX\n73\nPROBLEME SUV MAX\n74\nPROBLEME SUV MAX\n75\nPROBLEME SUV MAX\n76\nPROBLEME SUV MAX\n77\nPROBLEME SUV MAX\n78\nPROBLEME SUV MAX\n79\nPROBLEME SUV MAX\n80\nPROBLEME SUV MAX\n81\nPROBLEME SUV MAX\n82\nPROBLEME SUV MAX\n83\nPROBLEME SUV MAX\n84\nPROBLEME SUV MAX\n85\nPROBLEME SUV MAX\n86\nPROBLEME SUV MAX\n87\nPROBLEME SUV MAX\n88\nPROBLEME SUV MAX\n89\nPROBLEME SUV MAX\n90\nPROBLEME SUV MAX\n91\nPROBLEME SUV MAX\n92\nPROBLEME SUV MAX\n93\nPROBLEME SUV MAX\n94\nPROBLEME SUV MAX\n95\nPROBLEME SUV MAX\n96\nPROBLEME SUV MAX\n97\nPROBLEME SUV MAX\n98\nPROBLEME SUV MAX\n99\nPROBLEME SUV MAX\n100\nPROBLEME SUV MAX\n101\nPROBLEME SUV MAX\n102\nPROBLEME SUV MAX\n103\nPROBLEME SUV MAX\n104\nPROBLEME SUV MAX\n105\nPROBLEME SUV MAX\n106\nPROBLEME SUV MAX\n107\nPROBLEME SUV MAX\n108\nPROBLEME SUV MAX\n109\nPROBLEME SUV MAX\n110\nPROBLEME SUV MAX\n111\nPROBLEME SUV MAX\n112\nPROBLEME SUV MAX\n113\nPROBLEME SUV MAX\n114\nPROBLEME SUV MAX\n115\nPROBLEME SUV MAX\n116\nPROBLEME SUV MAX\n117\nPROBLEME SUV MAX\n118\nPROBLEME SUV MAX\n119\nPROBLEME SUV MAX\n120\nPROBLEME SUV MAX\n121\nPROBLEME SUV MAX\n122\nPROBLEME SUV MAX\n123\nPROBLEME SUV MAX\n124\nPROBLEME SUV MAX\n125\nPROBLEME SUV MAX\n126\nPROBLEME SUV MAX\n127\nPROBLEME SUV MAX\n128\nPROBLEME SUV MAX\n129\nPROBLEME SUV MAX\n130\nPROBLEME SUV MAX\n131\nPROBLEME SUV MAX\n132\nPROBLEME SUV MAX\n133\nPROBLEME SUV MAX\n134\nPROBLEME SUV MAX\n135\nPROBLEME SUV MAX\n136\nPROBLEME SUV MAX\n137\nPROBLEME SUV MAX\n138\nPROBLEME SUV MAX\n139\nPROBLEME SUV MAX\n140\nPROBLEME SUV MAX\n141\nPROBLEME SUV MAX\n142\nPROBLEME SUV MAX\n143\nPROBLEME SUV MAX\n144\nPROBLEME SUV MAX\n145\nPROBLEME SUV MAX\n146\nPROBLEME SUV MAX\n147\nPROBLEME SUV MAX\n148\nPROBLEME SUV MAX\n149\nPROBLEME SUV MAX\n150\nPROBLEME SUV MAX\n151\nPROBLEME SUV MAX\n152\nPROBLEME SUV MAX\n153\nPROBLEME SUV MAX\n154\nPROBLEME SUV MAX\n155\nPROBLEME SUV MAX\n156\nPROBLEME SUV MAX\n"
    }
   ],
   "source": [
    "#MASK AVEC FLIP FAUX : \n",
    "serie_problem = []\n",
    "\n",
    "for serie in serie_error_mask: \n",
    "    print(serie_error_mask.index(serie))\n",
    "    try : \n",
    "        if serie[1] == 'PT' : \n",
    "            serie_pt_objet = SeriesPT(serie[0]) \n",
    "            nifti_array = serie_pt_objet.get_numpy_array()\n",
    "            study_uid = serie_pt_objet.get_series_details()['study']['StudyInstanceUID']\n",
    "            size_matrix = serie_pt_objet.get_size_matrix()\n",
    "            mask_objet = MaskBuilder(os.path.join(csv_directory, serie[4]), size_matrix)\n",
    "            mask_4D = mask_objet.mask_array\n",
    "            if 'POLYGON' in mask_objet.ecart_suv_max(nifti_array, flip = True) :\n",
    "                print(\"PROBLEME SUV MAX POLYGON\")\n",
    "                serie_problem.append(serie)\n",
    "            else : \n",
    "                result_mean = mask_objet.ecart_suv_mean(nifti_array, flip = True)\n",
    "                result_sd = mask_objet.ecart_SD(nifti_array, flip = True)\n",
    "                if (('POLYGON' not in result_mean) and ('POLYGON' not in result_sd)) : \n",
    "                    #si erreur sur les sd et mean QUE sur les ellipses, on tolère \n",
    "                    print(\"SMALL ERRORS ON ELLIPSE AFTER FLIP, MASK CORRECT\")\n",
    "                    #generation nifti PT\n",
    "                    filename_pt = study_uid+'_'+'nifti_'+'PT'+'.nii'\n",
    "                    serie_pt_objet.export_nifti(os.path.join(nifti_directory, filename_pt))\n",
    "                    print(\"EXPORT NIFTI PT\")\n",
    "                    #generation nifti CT\n",
    "                    serie_ct_objet = SeriesCT(serie[2])\n",
    "                    serie_ct_objet.get_numpy_array()\n",
    "                    filename_ct = study_uid+'_'+'nifti_'+'CT'+'.nii'\n",
    "                    serie_ct_objet.export_nifti(os.path.join(nifti_directory, filename_ct))\n",
    "                    print(\"EXPORT NIFTI CT\")\n",
    "                    #generation nifti mask\n",
    "                    mask_objet.flip_z(mask_4D)\n",
    "                    mask_4D_flip = mask_objet.mask_array\n",
    "                    filename_mask = study_uid+'_'+'nifti_'+'mask'+'.nii'\n",
    "                    serie_pt_objet.export_nifti(os.path.join(nifti_directory, filename_mask), mask_4D_flip)\n",
    "                    print(\"EXPORT NIFTI MASK\")\n",
    "                else : #sinon problème sur lles polygones\n",
    "                    serie_problem.append(serie)\n",
    "\n",
    "\n",
    "\n",
    "\n",
    "\n",
    "        else : \n",
    "            serie_pt_objet = SeriesPT(serie[2]) \n",
    "            nifti_array = serie_pt_objet.get_numpy_array()\n",
    "            study_uid = serie_pt_objet.get_series_details()['study']['StudyInstanceUID']\n",
    "            size_matrix = serie_pt_objet.get_size_matrix()\n",
    "            mask_objet = MaskBuilder(os.path.join(csv_directory, serie[4]), size_matrix)\n",
    "            mask_4D = mask_objet.mask_array\n",
    "            if 'POLYGON' in mask_objet.ecart_suv_max(nifti_array, flip = True) :\n",
    "                print(\"PROBLEME SUV MAX POLYGONE\")\n",
    "                serie_problem.append(serie)\n",
    "            else : \n",
    "                result_mean = mask_objet.ecart_suv_mean(nifti_array, flip = True)\n",
    "                result_sd = mask_objet.ecart_SD(nifti_array, flip = True)\n",
    "                if (('POLYGON' not in result_mean) and ('POLYGON' not in result_sd)) : \n",
    "                    #si erreur sur les sd et mean QUE sur les ellipses, on tolère \n",
    "                    print(\"SMALL ERRORS ON ELLIPSE AFTER FLIP, MASK CORRECT\")\n",
    "                    #generation nifti PT\n",
    "                    filename_pt = study_uid+'_'+'nifti_'+'PT'+'.nii'\n",
    "                    serie_pt_objet.export_nifti(os.path.join(nifti_directory, filename_pt))\n",
    "                    print(\"EXPORT NIFTI PT\")\n",
    "                    #generation nifti CT\n",
    "                    serie_ct_objet = SeriesCT(serie[0])\n",
    "                    serie_ct_objet.get_numpy_array()\n",
    "                    filename_ct = study_uid+'_'+'nifti_'+'CT'+'.nii'\n",
    "                    serie_ct_objet.export_nifti(os.path.join(nifti_directory, filename_ct))\n",
    "                    print(\"EXPORT NIFTI CT\")\n",
    "                    #generation nifti mask\n",
    "                    mask_objet.flip_z(mask_4D)\n",
    "                    mask_4D_flip = mask_objet.mask_array\n",
    "                    filename_mask = study_uid+'_'+'nifti_'+'mask'+'.nii'\n",
    "                    serie_pt_objet.export_nifti(os.path.join(nifti_directory, filename_mask), mask_4D_flip)\n",
    "                    print(\"EXPORT NIFTI MASK\")\n",
    "                else : #sinon problème sur les polygones\n",
    "                    serie_problem.append(serie)\n",
    "            \n",
    "\n",
    "    except Exception as err : \n",
    "        print(serie)\n",
    "        print(err)"
   ]
  },
  {
   "cell_type": "code",
   "execution_count": null,
   "metadata": {},
   "outputs": [],
   "source": []
  },
  {
   "cell_type": "code",
   "execution_count": 3,
   "metadata": {},
   "outputs": [
    {
     "name": "stdout",
     "output_type": "stream",
     "text": "203\n"
    }
   ],
   "source": [
    "#IMPORT JSON SERIES PHILIPS\n",
    "json_path = '/media/salim/DD 2To/AHL2011_NIFTI/AHL2011_untreated_philips_serie.json'\n",
    "philips_serie = []\n",
    "with open(json_path) as json_file : \n",
    "    reader = json.load(json_file)\n",
    "    for info in reader :\n",
    "        philips_serie.append(info)\n",
    "\n",
    "print(len(philips_serie)) #203"
   ]
  },
  {
   "cell_type": "code",
   "execution_count": 15,
   "metadata": {},
   "outputs": [
    {
     "name": "stdout",
     "output_type": "stream",
     "text": "ELLIPSE, MASK CORRECT\nEXPORT NIFTI PT\nEXPORT NIFTI CT\nEXPORT NIFTI MASK\n14\nSMALL ERRORS ON ELLIPSE, MASK CORRECT\nEXPORT NIFTI PT\nEXPORT NIFTI CT\nEXPORT NIFTI MASK\n15\nSMALL ERRORS ON ELLIPSE, MASK CORRECT\nEXPORT NIFTI PT\nEXPORT NIFTI CT\nEXPORT NIFTI MASK\n16\nSMALL ERRORS ON ELLIPSE, MASK CORRECT\nEXPORT NIFTI PT\nEXPORT NIFTI CT\nEXPORT NIFTI MASK\n17\nSMALL ERRORS ON ELLIPSE, MASK CORRECT\nEXPORT NIFTI PT\nEXPORT NIFTI CT\nEXPORT NIFTI MASK\n18\nSMALL ERRORS ON ELLIPSE, MASK CORRECT\nEXPORT NIFTI PT\nEXPORT NIFTI CT\nEXPORT NIFTI MASK\n19\nSMALL ERRORS ON ELLIPSE, MASK CORRECT\nEXPORT NIFTI PT\nEXPORT NIFTI CT\nEXPORT NIFTI MASK\n20\nSMALL ERRORS ON ELLIPSE, MASK CORRECT\nEXPORT NIFTI PT\nEXPORT NIFTI CT\nEXPORT NIFTI MASK\n21\nSMALL ERRORS ON ELLIPSE, MASK CORRECT\nEXPORT NIFTI PT\nEXPORT NIFTI CT\nEXPORT NIFTI MASK\n22\nSMALL ERRORS ON ELLIPSE, MASK CORRECT\nEXPORT NIFTI PT\nEXPORT NIFTI CT\nEXPORT NIFTI MASK\n23\nSMALL ERRORS ON ELLIPSE, MASK CORRECT\nEXPORT NIFTI PT\nEXPORT NIFTI CT\nEXPORT NIFTI MASK\n24\nSMALL ERRORS ON ELLIPSE, MASK CORRECT\nEXPORT NIFTI PT\nEXPORT NIFTI CT\nEXPORT NIFTI MASK\n25\nSMALL ERRORS ON ELLIPSE, MASK CORRECT\nEXPORT NIFTI PT\nEXPORT NIFTI CT\nEXPORT NIFTI MASK\n26\n['/media/salim/DD 2To/AHL2011_Validated_DICOMS/13011101021024/1.2.250.1.59.470.940100027.1.20140110123209.2625.18891/1.2.840.113704.1.111.5356.1389356368.8/1.2.840.113704.1.111.5356.1389356368.8', 'CT', '/media/salim/DD 2To/AHL2011_Validated_DICOMS/13011101021024/1.2.250.1.59.470.940100027.1.20140110123209.2625.18891/1.3.46.670589.28.2.10.48.18554.65512.2.408.0.1389358191/1.3.46.670589.28.2.10.48.18554.65512.2.408.0.1389358191', 'PT', 'dja_fa_jan 10_2014-abr.csv']\nindex 144 is out of bounds for axis 0 with size 144\n27\nPROBLEME SUV MAX POLYGON\n28\nSMALL ERRORS ON ELLIPSE, MASK CORRECT\nEXPORT NIFTI PT\nEXPORT NIFTI CT\nEXPORT NIFTI MASK\n29\nSMALL ERRORS ON ELLIPSE, MASK CORRECT\nEXPORT NIFTI PT\nEXPORT NIFTI CT\nEXPORT NIFTI MASK\n30\nSMALL ERRORS ON ELLIPSE, MASK CORRECT\nEXPORT NIFTI PT\nEXPORT NIFTI CT\nEXPORT NIFTI MASK\n31\nSMALL ERRORS ON ELLIPSE, MASK CORRECT\nEXPORT NIFTI PT\nEXPORT NIFTI CT\nEXPORT NIFTI MASK\n32\n['/media/salim/DD 2To/AHL2011_Validated_DICOMS/13011101051008/1.2.250.1.74.20120622095500.60000021132086/1.3.46.670589.28.2.7.2202872868.2.24584.0.1340366188/1.3.46.670589.28.2.7.2202872868.2.24584.0.1340366188', 'PT', '/media/salim/DD 2To/AHL2011_Validated_DICOMS/13011101051008/1.2.250.1.74.20120622095500.60000021132086/1.2.840.113704.1.111.6284.1340361537.8/1.2.840.113704.1.111.6284.1340361537.8', 'CT', 'bor_fr_jun 22_2012.csv']\nindex 146 is out of bounds for axis 0 with size 144\n33\nSMALL ERRORS ON ELLIPSE, MASK CORRECT\nEXPORT NIFTI PT\nEXPORT NIFTI CT\nEXPORT NIFTI MASK\n34\nSMALL ERRORS ON ELLIPSE, MASK CORRECT\nEXPORT NIFTI PT\nEXPORT NIFTI CT\nEXPORT NIFTI MASK\n35\n['/media/salim/DD 2To/AHL2011_Validated_DICOMS/13011101051012/1.2.250.1.74.20121011075500.60000022288403/1.3.46.670589.28.2.7.2202872868.2.23369.0.1349946818/1.3.46.670589.28.2.7.2202872868.2.23369.0.1349946818', 'PT', '/media/salim/DD 2To/AHL2011_Validated_DICOMS/13011101051012/1.2.250.1.74.20121011075500.60000022288403/1.2.840.113704.1.111.2088.1349942529.8/1.2.840.113704.1.111.2088.1349942529.8', 'CT', 'kou_fo_oct 11_2012.csv']\nindex 149 is out of bounds for axis 0 with size 144\n36\nSMALL ERRORS ON ELLIPSE, MASK CORRECT\nEXPORT NIFTI PT\nEXPORT NIFTI CT\nEXPORT NIFTI MASK\n37\nSMALL ERRORS ON ELLIPSE, MASK CORRECT\nEXPORT NIFTI PT\nEXPORT NIFTI CT\nEXPORT NIFTI MASK\n38\nSMALL ERRORS ON ELLIPSE, MASK CORRECT\nEXPORT NIFTI PT\nEXPORT NIFTI CT\nEXPORT NIFTI MASK\n39\nSMALL ERRORS ON ELLIPSE, MASK CORRECT\nEXPORT NIFTI PT\nEXPORT NIFTI CT\nEXPORT NIFTI MASK\n40\nSMALL ERRORS ON ELLIPSE, MASK CORRECT\nEXPORT NIFTI PT\nEXPORT NIFTI CT\nEXPORT NIFTI MASK\n41\nSMALL ERRORS ON ELLIPSE, MASK CORRECT\nEXPORT NIFTI PT\nEXPORT NIFTI CT\nEXPORT NIFTI MASK\n42\nSMALL ERRORS ON ELLIPSE, MASK CORRECT\nEXPORT NIFTI PT\nEXPORT NIFTI CT\nEXPORT NIFTI MASK\n43\nSMALL ERRORS ON ELLIPSE, MASK CORRECT\nEXPORT NIFTI PT\nEXPORT NIFTI CT\nEXPORT NIFTI MASK\n44\nSMALL ERRORS ON ELLIPSE, MASK CORRECT\nEXPORT NIFTI PT\nEXPORT NIFTI CT\nEXPORT NIFTI MASK\n45\nPROBLEME SUV MAX POLYGON\n46\nSMALL ERRORS ON ELLIPSE, MASK CORRECT\nEXPORT NIFTI PT\nEXPORT NIFTI CT\nEXPORT NIFTI MASK\n47\nSMALL ERRORS ON ELLIPSE, MASK CORRECT\nEXPORT NIFTI PT\nEXPORT NIFTI CT\nEXPORT NIFTI MASK\n48\nPROBLEME SUV MAX POLYGON\n49\nSMALL ERRORS ON ELLIPSE, MASK CORRECT\nEXPORT NIFTI PT\nEXPORT NIFTI CT\nEXPORT NIFTI MASK\n50\nPROBLEME SUV MAX POLYGON\n51\nSMALL ERRORS ON ELLIPSE, MASK CORRECT\nEXPORT NIFTI PT\nEXPORT NIFTI CT\nEXPORT NIFTI MASK\n52\nPROBLEME SUV MAX POLYGON\n53\nSMALL ERRORS ON ELLIPSE, MASK CORRECT\nEXPORT NIFTI PT\nEXPORT NIFTI CT\nEXPORT NIFTI MASK\n54\nSMALL ERRORS ON ELLIPSE, MASK CORRECT\nEXPORT NIFTI PT\nEXPORT NIFTI CT\nEXPORT NIFTI MASK\n55\nSMALL ERRORS ON ELLIPSE, MASK CORRECT\nEXPORT NIFTI PT\nEXPORT NIFTI CT\nEXPORT NIFTI MASK\n56\nPROBLEME SUV MAX POLYGON\n57\nSMALL ERRORS ON ELLIPSE, MASK CORRECT\nEXPORT NIFTI PT\nEXPORT NIFTI CT\nEXPORT NIFTI MASK\n58\nPROBLEME SUV MAX POLYGON\n59\nPROBLEME SUV MAX POLYGON\n60\nSMALL ERRORS ON ELLIPSE, MASK CORRECT\nEXPORT NIFTI PT\nEXPORT NIFTI CT\nEXPORT NIFTI MASK\n61\nSMALL ERRORS ON ELLIPSE, MASK CORRECT\nEXPORT NIFTI PT\nEXPORT NIFTI CT\nEXPORT NIFTI MASK\n62\nPROBLEME SUV MAX POLYGON\n63\nSMALL ERRORS ON ELLIPSE, MASK CORRECT\nEXPORT NIFTI PT\nEXPORT NIFTI CT\nEXPORT NIFTI MASK\n64\nSMALL ERRORS ON ELLIPSE, MASK CORRECT\nEXPORT NIFTI PT\nEXPORT NIFTI CT\nEXPORT NIFTI MASK\n65\nSMALL ERRORS ON ELLIPSE, MASK CORRECT\nEXPORT NIFTI PT\nEXPORT NIFTI CT\nEXPORT NIFTI MASK\n66\nSMALL ERRORS ON ELLIPSE, MASK CORRECT\nEXPORT NIFTI PT\nEXPORT NIFTI CT\nEXPORT NIFTI MASK\n67\nSMALL ERRORS ON ELLIPSE, MASK CORRECT\nEXPORT NIFTI PT\nEXPORT NIFTI CT\nEXPORT NIFTI MASK\n68\nSMALL ERRORS ON ELLIPSE, MASK CORRECT\nEXPORT NIFTI PT\nEXPORT NIFTI CT\nEXPORT NIFTI MASK\n69\nSMALL ERRORS ON ELLIPSE, MASK CORRECT\nEXPORT NIFTI PT\nEXPORT NIFTI CT\nEXPORT NIFTI MASK\n70\nSMALL ERRORS ON ELLIPSE, MASK CORRECT\nEXPORT NIFTI PT\nEXPORT NIFTI CT\nEXPORT NIFTI MASK\n71\nSMALL ERRORS ON ELLIPSE, MASK CORRECT\nEXPORT NIFTI PT\nEXPORT NIFTI CT\nEXPORT NIFTI MASK\n72\nSMALL ERRORS ON ELLIPSE, MASK CORRECT\nEXPORT NIFTI PT\nEXPORT NIFTI CT\nEXPORT NIFTI MASK\n73\nSMALL ERRORS ON ELLIPSE, MASK CORRECT\nEXPORT NIFTI PT\nEXPORT NIFTI CT\nEXPORT NIFTI MASK\n74\nSMALL ERRORS ON ELLIPSE, MASK CORRECT\nEXPORT NIFTI PT\nEXPORT NIFTI CT\nEXPORT NIFTI MASK\n75\nSMALL ERRORS ON ELLIPSE, MASK CORRECT\nEXPORT NIFTI PT\nEXPORT NIFTI CT\nEXPORT NIFTI MASK\n76\nSMALL ERRORS ON ELLIPSE, MASK CORRECT\nEXPORT NIFTI PT\nEXPORT NIFTI CT\nEXPORT NIFTI MASK\n77\nSMALL ERRORS ON ELLIPSE, MASK CORRECT\nEXPORT NIFTI PT\nEXPORT NIFTI CT\nEXPORT NIFTI MASK\n78\nSMALL ERRORS ON ELLIPSE, MASK CORRECT\nEXPORT NIFTI PT\nEXPORT NIFTI CT\nEXPORT NIFTI MASK\n79\nSMALL ERRORS ON ELLIPSE, MASK CORRECT\nEXPORT NIFTI PT\nEXPORT NIFTI CT\nEXPORT NIFTI MASK\n80\nSMALL ERRORS ON ELLIPSE, MASK CORRECT\nEXPORT NIFTI PT\nEXPORT NIFTI CT\nEXPORT NIFTI MASK\n81\nSMALL ERRORS ON ELLIPSE, MASK CORRECT\nEXPORT NIFTI PT\nEXPORT NIFTI CT\nEXPORT NIFTI MASK\n82\nSMALL ERRORS ON ELLIPSE, MASK CORRECT\nEXPORT NIFTI PT\nEXPORT NIFTI CT\nEXPORT NIFTI MASK\n83\nSMALL ERRORS ON ELLIPSE, MASK CORRECT\nEXPORT NIFTI PT\nEXPORT NIFTI CT\nEXPORT NIFTI MASK\n84\nSMALL ERRORS ON ELLIPSE, MASK CORRECT\nEXPORT NIFTI PT\nEXPORT NIFTI CT\nEXPORT NIFTI MASK\n85\nSMALL ERRORS ON ELLIPSE, MASK CORRECT\nEXPORT NIFTI PT\nEXPORT NIFTI CT\nEXPORT NIFTI MASK\n86\nSMALL ERRORS ON ELLIPSE, MASK CORRECT\nEXPORT NIFTI PT\nEXPORT NIFTI CT\nEXPORT NIFTI MASK\n87\nPROBLEME SUV MAX POLYGON\n88\nSMALL ERRORS ON ELLIPSE, MASK CORRECT\nEXPORT NIFTI PT\nEXPORT NIFTI CT\nEXPORT NIFTI MASK\n89\nSMALL ERRORS ON ELLIPSE, MASK CORRECT\nEXPORT NIFTI PT\nEXPORT NIFTI CT\nEXPORT NIFTI MASK\n90\nPROBLEME SUV MAX POLYGON\n91\nSMALL ERRORS ON ELLIPSE, MASK CORRECT\nEXPORT NIFTI PT\nEXPORT NIFTI CT\nEXPORT NIFTI MASK\n92\nSMALL ERRORS ON ELLIPSE, MASK CORRECT\nEXPORT NIFTI PT\nEXPORT NIFTI CT\nEXPORT NIFTI MASK\n93\nPROBLEME SUV MAX POLYGON\n94\nPROBLEME SUV MAX POLYGON\n95\nSMALL ERRORS ON ELLIPSE, MASK CORRECT\nEXPORT NIFTI PT\nEXPORT NIFTI CT\nEXPORT NIFTI MASK\n96\nPROBLEME SUV MAX POLYGON\n97\n['/media/salim/DD 2To/AHL2011_Validated_DICOMS/13011101031023/1.2.840.113704.1.111.1820.1371732115.34/1.2.840.113704.7.32.0589.28.2.10.4.9167.3151.2.1040.0.1371734612/1.2.840.113704.7.32.0589.28.2.10.4.9167.3151.2.1040.0.1371734612', 'PT', '/media/salim/DD 2To/AHL2011_Validated_DICOMS/13011101031023/1.2.840.113704.1.111.1820.1371732115.34/1.2.840.113704.7.32.1.2.840.113704.1.111.1484.1371732530.8/1.2.840.113704.7.32.1.2.840.113704.1.111.1484.1371732530.8', 'CT', 'dac_je_jun 20_2013.csv']\nindex 169 is out of bounds for axis 0 with size 144\n98\nPROBLEME SUV MAX POLYGON\n99\nPROBLEME SUV MAX POLYGON\n100\nSMALL ERRORS ON ELLIPSE, MASK CORRECT\nEXPORT NIFTI PT\nEXPORT NIFTI CT\nEXPORT NIFTI MASK\n101\nSMALL ERRORS ON ELLIPSE, MASK CORRECT\nEXPORT NIFTI PT\nEXPORT NIFTI CT\nEXPORT NIFTI MASK\n102\nSMALL ERRORS ON ELLIPSE, MASK CORRECT\nEXPORT NIFTI PT\nEXPORT NIFTI CT\nEXPORT NIFTI MASK\n103\nSMALL ERRORS ON ELLIPSE, MASK CORRECT\nEXPORT NIFTI PT\nEXPORT NIFTI CT\nEXPORT NIFTI MASK\n104\nSMALL ERRORS ON ELLIPSE, MASK CORRECT\nEXPORT NIFTI PT\nEXPORT NIFTI CT\nEXPORT NIFTI MASK\n105\nSMALL ERRORS ON ELLIPSE, MASK CORRECT\nEXPORT NIFTI PT\nEXPORT NIFTI CT\nEXPORT NIFTI MASK\n106\nPROBLEME SUV MAX POLYGON\n107\nSMALL ERRORS ON ELLIPSE, MASK CORRECT\nEXPORT NIFTI PT\nEXPORT NIFTI CT\nEXPORT NIFTI MASK\n108\nSMALL ERRORS ON ELLIPSE, MASK CORRECT\nEXPORT NIFTI PT\nEXPORT NIFTI CT\nEXPORT NIFTI MASK\n109\nSMALL ERRORS ON ELLIPSE, MASK CORRECT\nEXPORT NIFTI PT\nEXPORT NIFTI CT\nEXPORT NIFTI MASK\n110\n['/media/salim/DD 2To/AHL2011_Validated_DICOMS/13011101031011/1.2.840.113704.1.111.2552.1344321001.3/1.3.46.670589.28.2.10.4.9167.27815.2.2040.0.1344324331/1.3.46.670589.28.2.10.4.9167.27815.2.2040.0.1344324331', 'PT', '/media/salim/DD 2To/AHL2011_Validated_DICOMS/13011101031011/1.2.840.113704.1.111.2552.1344321001.3/1.2.840.113704.1.111.2332.1344322265.8/1.2.840.113704.1.111.2332.1344322265.8', 'CT', 'fau_lu_aug 7_2012_abr.csv']\nindex 183 is out of bounds for axis 0 with size 144\n111\nSMALL ERRORS ON ELLIPSE, MASK CORRECT\nEXPORT NIFTI PT\nEXPORT NIFTI CT\nEXPORT NIFTI MASK\n112\nSMALL ERRORS ON ELLIPSE, MASK CORRECT\nEXPORT NIFTI PT\nEXPORT NIFTI CT\nEXPORT NIFTI MASK\n113\nError generating result array time data '' does not match format '%Y%m%d%H%M%S'\n['/media/salim/DD 2To/AHL2011_Validated_DICOMS/13011101101009/1.2.840.113704.1.111.3024.1393949405.22/1.3.46.670589.28.2.12.30.26421.36053.2.1924.0.1393951621/1.3.46.670589.28.2.12.30.26421.36053.2.1924.0.1393951621', 'PT', '/media/salim/DD 2To/AHL2011_Validated_DICOMS/13011101101009/1.2.840.113704.1.111.3024.1393949405.22/1.2.840.113704.1.111.7148.1393949868.11/1.2.840.113704.1.111.7148.1393949868.11', 'CT', 'ler_fr_mar 4_2014.csv']\n'NoneType' object has no attribute 'shape'\n114\nSMALL ERRORS ON ELLIPSE, MASK CORRECT\nEXPORT NIFTI PT\nEXPORT NIFTI CT\nEXPORT NIFTI MASK\n115\nPROBLEME SUV MAX POLYGON\n116\nPROBLEME SUV MAX POLYGON\n117\nSMALL ERRORS ON ELLIPSE, MASK CORRECT\nEXPORT NIFTI PT\nEXPORT NIFTI CT\nEXPORT NIFTI MASK\n118\nSMALL ERRORS ON ELLIPSE, MASK CORRECT\nEXPORT NIFTI PT\nEXPORT NIFTI CT\nEXPORT NIFTI MASK\n119\nSMALL ERRORS ON ELLIPSE, MASK CORRECT\nEXPORT NIFTI PT\nEXPORT NIFTI CT\nEXPORT NIFTI MASK\n120\nSMALL ERRORS ON ELLIPSE, MASK CORRECT\nEXPORT NIFTI PT\nEXPORT NIFTI CT\nEXPORT NIFTI MASK\n121\n['/media/salim/DD 2To/AHL2011_Validated_DICOMS/13011101031030/1.2.840.113704.1.111.3556.1391590354.9/1.2.840.113704.7.32.0.28.2.10.48.18673.58372.2.2100.0.1391592740/1.2.840.113704.7.32.0.28.2.10.48.18673.58372.2.2100.0.1391592740', 'PT', '/media/salim/DD 2To/AHL2011_Validated_DICOMS/13011101031030/1.2.840.113704.1.111.3556.1391590354.9/1.2.840.113704.7.32.1.2.840.113704.1.111.2676.1391590761.8/1.2.840.113704.7.32.1.2.840.113704.1.111.2676.1391590761.8', 'CT', 'gda_in_feb 5_2014.csv']\nindex 255 is out of bounds for axis 0 with size 255\n122\nSMALL ERRORS ON ELLIPSE, MASK CORRECT\nEXPORT NIFTI PT\nEXPORT NIFTI CT\nEXPORT NIFTI MASK\n123\nPROBLEME SUV MAX POLYGON\n124\nSMALL ERRORS ON ELLIPSE, MASK CORRECT\nEXPORT NIFTI PT\nEXPORT NIFTI CT\nEXPORT NIFTI MASK\n125\nSMALL ERRORS ON ELLIPSE, MASK CORRECT\nEXPORT NIFTI PT\nEXPORT NIFTI CT\nEXPORT NIFTI MASK\n126\n['/media/salim/DD 2To/AHL2011_Validated_DICOMS/13011101031022/1.2.840.113704.1.111.4028.1369723812.3/1.2.840.113704.7.32.1.2.840.113704.1.111.3792.1369724112.8/1.2.840.113704.7.32.1.2.840.113704.1.111.3792.1369724112.8', 'CT', '/media/salim/DD 2To/AHL2011_Validated_DICOMS/13011101031022/1.2.840.113704.1.111.4028.1369723812.3/1.2.840.113704.7.32.089.28.2.10.4.9167.27815.2.3944.0.1369726198/1.2.840.113704.7.32.089.28.2.10.4.9167.27815.2.3944.0.1369726198', 'PT', 'hel_ni_may 28_2013.csv']\nindex 177 is out of bounds for axis 0 with size 144\n127\nPROBLEME SUV MAX POLYGON\n128\nSMALL ERRORS ON ELLIPSE, MASK CORRECT\nEXPORT NIFTI PT\nEXPORT NIFTI CT\nEXPORT NIFTI MASK\n129\nSMALL ERRORS ON ELLIPSE, MASK CORRECT\nEXPORT NIFTI PT\nEXPORT NIFTI CT\nEXPORT NIFTI MASK\n130\nPROBLEME SUV MAX POLYGON\n131\nPROBLEME SUV MAX POLYGON\n132\nSMALL ERRORS ON ELLIPSE, MASK CORRECT\nEXPORT NIFTI PT\nEXPORT NIFTI CT\nEXPORT NIFTI MASK\n133\nSMALL ERRORS ON ELLIPSE, MASK CORRECT\nEXPORT NIFTI PT\nEXPORT NIFTI CT\nEXPORT NIFTI MASK\n134\nSMALL ERRORS ON ELLIPSE, MASK CORRECT\nEXPORT NIFTI PT\nEXPORT NIFTI CT\nEXPORT NIFTI MASK\n135\nSMALL ERRORS ON ELLIPSE, MASK CORRECT\nEXPORT NIFTI PT\nEXPORT NIFTI CT\nEXPORT NIFTI MASK\n136\nPROBLEME SUV MAX POLYGON\n137\nSMALL ERRORS ON ELLIPSE, MASK CORRECT\nEXPORT NIFTI PT\nEXPORT NIFTI CT\nEXPORT NIFTI MASK\n138\nSMALL ERRORS ON ELLIPSE, MASK CORRECT\nEXPORT NIFTI PT\nEXPORT NIFTI CT\nEXPORT NIFTI MASK\n139\nSMALL ERRORS ON ELLIPSE, MASK CORRECT\nEXPORT NIFTI PT\nEXPORT NIFTI CT\nEXPORT NIFTI MASK\n140\nSMALL ERRORS ON ELLIPSE, MASK CORRECT\nEXPORT NIFTI PT\nEXPORT NIFTI CT\nEXPORT NIFTI MASK\n141\nSMALL ERRORS ON ELLIPSE, MASK CORRECT\nEXPORT NIFTI PT\nEXPORT NIFTI CT\nEXPORT NIFTI MASK\n142\nSMALL ERRORS ON ELLIPSE, MASK CORRECT\nEXPORT NIFTI PT\nEXPORT NIFTI CT\nEXPORT NIFTI MASK\n143\nPROBLEME SUV MAX POLYGON\n144\nPROBLEME SUV MAX POLYGON\n145\nSMALL ERRORS ON ELLIPSE, MASK CORRECT\nEXPORT NIFTI PT\nEXPORT NIFTI CT\nEXPORT NIFTI MASK\n146\nSMALL ERRORS ON ELLIPSE, MASK CORRECT\nEXPORT NIFTI PT\nEXPORT NIFTI CT\nEXPORT NIFTI MASK\n147\nSMALL ERRORS ON ELLIPSE, MASK CORRECT\nEXPORT NIFTI PT\nEXPORT NIFTI CT\nEXPORT NIFTI MASK\n148\n['/media/salim/DD 2To/AHL2011_Validated_DICOMS/13011101021021/1.2.840.113704.1.111.6624.1372237611.4/1.2.840.113704.1.111.3676.1372238095.8/1.2.840.113704.1.111.3676.1372238095.8', 'CT', '/media/salim/DD 2To/AHL2011_Validated_DICOMS/13011101021021/1.2.840.113704.1.111.6624.1372237611.4/1.3.46.670589.28.2.10.4.9167.27989.2.1636.0.1372239910/1.3.46.670589.28.2.10.4.9167.27989.2.1636.0.1372239910', 'PT', 'khe_na_jun 26_2013_abr.csv']\nindex 169 is out of bounds for axis 0 with size 144\n149\nSMALL ERRORS ON ELLIPSE, MASK CORRECT\nEXPORT NIFTI PT\nEXPORT NIFTI CT\nEXPORT NIFTI MASK\n150\nPROBLEME SUV MAX POLYGON\n151\nSMALL ERRORS ON ELLIPSE, MASK CORRECT\nEXPORT NIFTI PT\nEXPORT NIFTI CT\nEXPORT NIFTI MASK\n152\nSMALL ERRORS ON ELLIPSE, MASK CORRECT\nEXPORT NIFTI PT\nEXPORT NIFTI CT\nEXPORT NIFTI MASK\n153\nSMALL ERRORS ON ELLIPSE, MASK CORRECT\nEXPORT NIFTI PT\nEXPORT NIFTI CT\nEXPORT NIFTI MASK\n154\nSMALL ERRORS ON ELLIPSE, MASK CORRECT\nEXPORT NIFTI PT\nEXPORT NIFTI CT\nEXPORT NIFTI MASK\n155\nPROBLEME SUV MAX POLYGON\n156\nSMALL ERRORS ON ELLIPSE, MASK CORRECT\nEXPORT NIFTI PT\nEXPORT NIFTI CT\nEXPORT NIFTI MASK\n157\nSMALL ERRORS ON ELLIPSE, MASK CORRECT\nEXPORT NIFTI PT\nEXPORT NIFTI CT\nEXPORT NIFTI MASK\n158\nSMALL ERRORS ON ELLIPSE, MASK CORRECT\nEXPORT NIFTI PT\nEXPORT NIFTI CT\nEXPORT NIFTI MASK\n159\nSMALL ERRORS ON ELLIPSE, MASK CORRECT\nEXPORT NIFTI PT\nEXPORT NIFTI CT\nEXPORT NIFTI MASK\n160\nSMALL ERRORS ON ELLIPSE, MASK CORRECT\nEXPORT NIFTI PT\nEXPORT NIFTI CT\nEXPORT NIFTI MASK\n161\nSMALL ERRORS ON ELLIPSE, MASK CORRECT\nEXPORT NIFTI PT\nEXPORT NIFTI CT\nEXPORT NIFTI MASK\n162\nSMALL ERRORS ON ELLIPSE, MASK CORRECT\nEXPORT NIFTI PT\nEXPORT NIFTI CT\nEXPORT NIFTI MASK\n163\nSMALL ERRORS ON ELLIPSE, MASK CORRECT\nEXPORT NIFTI PT\nEXPORT NIFTI CT\nEXPORT NIFTI MASK\n164\nSMALL ERRORS ON ELLIPSE, MASK CORRECT\nEXPORT NIFTI PT\nEXPORT NIFTI CT\nEXPORT NIFTI MASK\n165\nSMALL ERRORS ON ELLIPSE, MASK CORRECT\nEXPORT NIFTI PT\nEXPORT NIFTI CT\nEXPORT NIFTI MASK\n166\nSMALL ERRORS ON ELLIPSE, MASK CORRECT\nEXPORT NIFTI PT\nEXPORT NIFTI CT\nEXPORT NIFTI MASK\n167\nSMALL ERRORS ON ELLIPSE, MASK CORRECT\nEXPORT NIFTI PT\nEXPORT NIFTI CT\nEXPORT NIFTI MASK\n168\nSMALL ERRORS ON ELLIPSE, MASK CORRECT\nEXPORT NIFTI PT\nEXPORT NIFTI CT\nEXPORT NIFTI MASK\n169\nSMALL ERRORS ON ELLIPSE, MASK CORRECT\nEXPORT NIFTI PT\nEXPORT NIFTI CT\nEXPORT NIFTI MASK\n170\nSMALL ERRORS ON ELLIPSE, MASK CORRECT\nEXPORT NIFTI PT\nEXPORT NIFTI CT\nEXPORT NIFTI MASK\n171\n['/media/salim/DD 2To/AHL2011_Validated_DICOMS/13011101031009/1.3.46.670589.33.1.6216283393619438153.23276743643149365567/1.3.46.670589.33.1.14032434432794758210.23089110211145188036/1.3.46.670589.33.1.14032434432794758210.23089110211145188036', 'CT', '/media/salim/DD 2To/AHL2011_Validated_DICOMS/13011101031009/1.3.46.670589.33.1.6216283393619438153.23276743643149365567/1.3.46.670589.33.1.26447193521168159311.25271275933995462538/1.3.46.670589.33.1.26447193521168159311.25271275933995462538', 'PT', 'ort_ma_jun 27_2012.csv']\nindex 144 is out of bounds for axis 0 with size 144\n172\nError generating result array unsupported operand type(s) for *: 'NoneType' and 'int'\n['/media/salim/DD 2To/AHL2011_Validated_DICOMS/13011101431001/1.3.46.670589.33.1.6358982691378549313.27791472974246092413/1.3.46.670589.33.1.322902820535494465.2367181178773037043/1.3.46.670589.33.1.322902820535494465.2367181178773037043', 'CT', '/media/salim/DD 2To/AHL2011_Validated_DICOMS/13011101431001/1.3.46.670589.33.1.6358982691378549313.27791472974246092413/1.3.46.670589.33.1.22094069704014386510.24260001281750818789/1.3.46.670589.33.1.22094069704014386510.24260001281750818789', 'PT', 'lim_sa_sep 29_2011.csv']\n'NoneType' object has no attribute 'shape'\n173\nSMALL ERRORS ON ELLIPSE, MASK CORRECT\nEXPORT NIFTI PT\nEXPORT NIFTI CT\nEXPORT NIFTI MASK\n174\nError generating result array time data '' does not match format '%Y%m%d%H%M%S'\n['/media/salim/DD 2To/AHL2011_Validated_DICOMS/13011104341009/1.3.51.0.1.1.129.10.7.50.1365805.365835/1.3.46.670589.28.2.12.30.26407.36324.2.1804.0.1386894839/1.3.46.670589.28.2.12.30.26407.36324.2.1804.0.1386894839', 'PT', '/media/salim/DD 2To/AHL2011_Validated_DICOMS/13011104341009/1.3.51.0.1.1.129.10.7.50.1365805.365835/1.2.840.113704.1.111.3568.1386849836.12/1.2.840.113704.1.111.3568.1386849836.12', 'CT', 'weh_au_dec 12_2013.csv']\n'NoneType' object has no attribute 'shape'\n175\nSMALL ERRORS ON ELLIPSE, MASK CORRECT\nEXPORT NIFTI PT\nEXPORT NIFTI CT\nEXPORT NIFTI MASK\n176\nPROBLEME SUV MAX POLYGON\n177\nPROBLEME SUV MAX POLYGON\n178\nPROBLEME SUV MAX POLYGON\n179\nSMALL ERRORS ON ELLIPSE, MASK CORRECT\nEXPORT NIFTI PT\nEXPORT NIFTI CT\nEXPORT NIFTI MASK\n180\nPROBLEME SUV MAX POLYGON\n181\nPROBLEME SUV MAX POLYGON\n182\nPROBLEME SUV MAX POLYGON\n183\nPROBLEME SUV MAX POLYGON\n184\nPROBLEME SUV MAX POLYGON\n185\nPROBLEME SUV MAX POLYGON\n186\nPROBLEME SUV MAX POLYGON\n187\nPROBLEME SUV MAX POLYGON\n188\nPROBLEME SUV MAX POLYGON\n189\nPROBLEME SUV MAX POLYGON\n190\nSMALL ERRORS ON ELLIPSE, MASK CORRECT\nEXPORT NIFTI PT\nEXPORT NIFTI CT\nEXPORT NIFTI MASK\n191\nSMALL ERRORS ON ELLIPSE, MASK CORRECT\nEXPORT NIFTI PT\nEXPORT NIFTI CT\nEXPORT NIFTI MASK\n192\nSMALL ERRORS ON ELLIPSE, MASK CORRECT\nEXPORT NIFTI PT\nEXPORT NIFTI CT\nEXPORT NIFTI MASK\n193\nSMALL ERRORS ON ELLIPSE, MASK CORRECT\nEXPORT NIFTI PT\nEXPORT NIFTI CT\nEXPORT NIFTI MASK\n194\nPROBLEME SUV MAX POLYGON\n195\nSMALL ERRORS ON ELLIPSE, MASK CORRECT\nEXPORT NIFTI PT\nEXPORT NIFTI CT\nEXPORT NIFTI MASK\n196\nPROBLEME SUV MAX POLYGON\n197\nSMALL ERRORS ON ELLIPSE, MASK CORRECT\nEXPORT NIFTI PT\nEXPORT NIFTI CT\nEXPORT NIFTI MASK\n198\nSMALL ERRORS ON ELLIPSE, MASK CORRECT\nEXPORT NIFTI PT\nEXPORT NIFTI CT\nEXPORT NIFTI MASK\n199\nSMALL ERRORS ON ELLIPSE, MASK CORRECT\nEXPORT NIFTI PT\nEXPORT NIFTI CT\nEXPORT NIFTI MASK\n200\nPROBLEME SUV MAX POLYGON\n201\nSMALL ERRORS ON ELLIPSE, MASK CORRECT\nEXPORT NIFTI PT\nEXPORT NIFTI CT\nEXPORT NIFTI MASK\n202\nSMALL ERRORS ON ELLIPSE, MASK CORRECT\nEXPORT NIFTI PT\nEXPORT NIFTI CT\nEXPORT NIFTI MASK\n"
    }
   ],
   "source": [
    "#A FAIRE TOURNER\n",
    "#SI PAS D'ERREUR SUR LES SUV MAX, ALORS OK \n",
    "\n",
    "philips_error = []\n",
    "erreur_polygone_philips_max = []\n",
    "erreur_polygone_philips_mean_sd = []\n",
    "for serie in philips_serie : \n",
    "    print(philips_serie.index(serie))\n",
    "    try : \n",
    "        if serie[1] == 'PT' : \n",
    "            serie_pt_objet = SeriesPT(serie[0]) \n",
    "            nifti_array = serie_pt_objet.get_numpy_array()\n",
    "            study_uid = serie_pt_objet.get_series_details()['study']['StudyInstanceUID']\n",
    "            size_matrix = serie_pt_objet.get_size_matrix()\n",
    "            mask_objet = MaskBuilder(os.path.join(csv_directory, serie[4]), size_matrix)\n",
    "            mask_4D = mask_objet.mask_array\n",
    "\n",
    "            if 'POLYGON' in mask_objet.ecart_suv_max(nifti_array) :\n",
    "                print(\"PROBLEME SUV MAX POLYGON\")\n",
    "                erreur_polygone_philips_max.append(serie)\n",
    "            \n",
    "            else : \n",
    "\n",
    "                result_mean = mask_objet.ecart_suv_mean(nifti_array)\n",
    "                result_sd = mask_objet.ecart_SD(nifti_array)\n",
    "                if (('POLYGON' in result_mean) and ('POLYGON' in result_sd)) : \n",
    "                    print(\"PROBLEME SUV MEAN ET SD POLYGONE\")\n",
    "                    print(\"ecart mean\", result_mean)\n",
    "                    print(\"ecart sd\", result_sd)\n",
    "                    erreur_polygone_philips_mean_sd.append(serie)\n",
    "\n",
    "                else : \n",
    "                    #si erreur sur les sd et mean QUE sur les ellipses, on tolère \n",
    "                    print(\"SMALL ERRORS ON ELLIPSE, MASK CORRECT\")\n",
    "                    #generation nifti PT\n",
    "                    filename_pt = study_uid+'_'+'nifti_'+'PT'+'.nii'\n",
    "                    serie_pt_objet.export_nifti(os.path.join(nifti_directory, filename_pt))\n",
    "                    print(\"EXPORT NIFTI PT\")\n",
    "                    #generation nifti CT\n",
    "                    serie_ct_objet = SeriesCT(serie[2])\n",
    "                    serie_ct_objet.get_numpy_array()\n",
    "                    filename_ct = study_uid+'_'+'nifti_'+'CT'+'.nii'\n",
    "                    serie_ct_objet.export_nifti(os.path.join(nifti_directory, filename_ct))\n",
    "                    print(\"EXPORT NIFTI CT\")\n",
    "                    #generation nifti mask\n",
    "                    filename_mask = study_uid+'_'+'nifti_'+'mask'+'.nii'\n",
    "                    serie_pt_objet.export_nifti(os.path.join(nifti_directory, filename_mask), mask_4D)\n",
    "                    print(\"EXPORT NIFTI MASK\")\n",
    "\n",
    "\n",
    "        else : \n",
    "            serie_pt_objet = SeriesPT(serie[2]) \n",
    "            nifti_array = serie_pt_objet.get_numpy_array()\n",
    "            study_uid = serie_pt_objet.get_series_details()['study']['StudyInstanceUID']\n",
    "            size_matrix = serie_pt_objet.get_size_matrix()\n",
    "            mask_objet = MaskBuilder(os.path.join(csv_directory, serie[4]), size_matrix)\n",
    "            mask_4D = mask_objet.mask_array\n",
    "\n",
    "            if 'POLYGON' in mask_objet.ecart_suv_max(nifti_array)  :\n",
    "                print(\"PROBLEME SUV MAX POLYGON\")\n",
    "                erreur_polygone_philips_max.append(serie)\n",
    "            else : \n",
    "\n",
    "                result_mean = mask_objet.ecart_suv_mean(nifti_array)\n",
    "                result_sd = mask_objet.ecart_SD(nifti_array)\n",
    "                if (('POLYGON' in result_mean) and ('POLYGON' in result_sd)) : \n",
    "                    print(\"PROBLEME SUV MEAN ET SD POLYGONE\")\n",
    "                    print(\"ecart mean\", result_mean)\n",
    "                    print(\"ecart sd\", result_sd)\n",
    "                    erreur_polygone_philips_mean_sd.append(serie)\n",
    "\n",
    "                else : \n",
    "                    #si erreur sur les sd et mean QUE sur les ellipses, on tolère \n",
    "                    print(\"SMALL ERRORS ON ELLIPSE, MASK CORRECT\")\n",
    "                    #generation nifti PT\n",
    "                    filename_pt = study_uid+'_'+'nifti_'+'PT'+'.nii'\n",
    "                    serie_pt_objet.export_nifti(os.path.join(nifti_directory, filename_pt))\n",
    "                    print(\"EXPORT NIFTI PT\")\n",
    "                    #generation nifti CT\n",
    "                    serie_ct_objet = SeriesCT(serie[0])\n",
    "                    serie_ct_objet.get_numpy_array()\n",
    "                    filename_ct = study_uid+'_'+'nifti_'+'CT'+'.nii'\n",
    "                    serie_ct_objet.export_nifti(os.path.join(nifti_directory, filename_ct))\n",
    "                    print(\"EXPORT NIFTI CT\")\n",
    "                    #generation nifti mask\n",
    "                    filename_mask = study_uid+'_'+'nifti_'+'mask'+'.nii'\n",
    "                    serie_pt_objet.export_nifti(os.path.join(nifti_directory, filename_mask), mask_4D)\n",
    "                    print(\"EXPORT NIFTI MASK\")\n",
    "\n",
    "\n",
    "    except Exception as err : \n",
    "        print(serie)\n",
    "        print(err)\n",
    "        philips_error.append(serie)"
   ]
  },
  {
   "cell_type": "code",
   "execution_count": 16,
   "metadata": {},
   "outputs": [
    {
     "name": "stdout",
     "output_type": "stream",
     "text": "51\n0\n12\n"
    }
   ],
   "source": [
    "print(len(erreur_polygone_philips_max))\n",
    "print(len(erreur_polygone_philips_mean_sd))\n",
    "print(len(philips_error))\n",
    "write_json_file('/media/salim/DD 2To/AHL2011_NIFTI', 'AHL2011_serie_error_philips_polygone_max', erreur_polygone_philips_max)\n",
    "write_json_file('/media/salim/DD 2To/AHL2011_NIFTI', 'AHL2011_serie_philips_error', philips_error)\n"
   ]
  },
  {
   "cell_type": "code",
   "execution_count": 9,
   "metadata": {},
   "outputs": [],
   "source": [
    "#COUNTS PHILIPS\n",
    "counts = []\n",
    "for philips in philips_serie : \n",
    "    if philips[1] == 'PT' : \n",
    "        serie_pt_objet = SeriesPT(philips[0])\n",
    "        if serie_pt_objet.get_series_details()['series']['Units'] == 'CNTS' :\n",
    "            counts.append(philips)\n",
    "\n",
    "    else : \n",
    "        serie_pt_objet = SeriesPT(philips[2])\n",
    "        if serie_pt_objet.get_series_details()['series']['Units'] == 'CNTS' :\n",
    "            counts.append(philips)"
   ]
  },
  {
   "cell_type": "code",
   "execution_count": 25,
   "metadata": {},
   "outputs": [
    {
     "name": "stdout",
     "output_type": "stream",
     "text": "106\n['/media/salim/DD 2To/AHL2011_Validated_DICOMS/13011102411002/1.2.250.1.59.0.8559.20120605125207.3263823/1.2.840.113704.7.32.0589.28.2.10.14.3165.4686.2.272.0.1338899965/1.2.840.113704.7.32.0589.28.2.10.14.3165.4686.2.272.0.1338899965', 'PT', '/media/salim/DD 2To/AHL2011_Validated_DICOMS/13011102411002/1.2.250.1.59.0.8559.20120605125207.3263823/1.2.840.113704.7.32.1.2.840.113704.1.111.5280.1338894543.14/1.2.840.113704.7.32.1.2.840.113704.1.111.5280.1338894543.14', 'CT', 'jem_ta_jun 5_2012.csv']\n"
    }
   ],
   "source": [
    "print(len(counts))\n",
    "counts[0]\n",
    "print(counts[1])\n",
    "serie_pt_objet = SeriesPT(counts[0][0])\n",
    "#print(serie_pt_objet.get_series_details())"
   ]
  },
  {
   "cell_type": "code",
   "execution_count": 7,
   "metadata": {},
   "outputs": [
    {
     "data": {
      "text/plain": "['/media/salim/DD 2To/AHL2011_Validated_DICOMS/13011101431010/1.2.124.113532.172.16.25.2.20120605.739.1104125/1.2.840.113704.1.111.5244.1339151088.11/imagys_AHL2011_13011101431010_f812bc05-4748-4b0a-bd1c-1e4a3954c530',\n 'CT',\n '/media/salim/DD 2To/AHL2011_Validated_DICOMS/13011101431010/1.2.124.113532.172.16.25.2.20120605.739.1104125/1.3.46.670589.28.2.12.21.6047.2953.2.2200.0.1339152332/imagys_AHL2011_13011101431010_37a1f66e-91db-4705-824e-33524671308e',\n 'PT',\n 'san_ma_jun 8_2012.csv']"
     },
     "execution_count": 7,
     "metadata": {},
     "output_type": "execute_result"
    }
   ],
   "source": [
    "philips_serie[2]"
   ]
  },
  {
   "cell_type": "code",
   "execution_count": 21,
   "metadata": {},
   "outputs": [
    {
     "name": "stdout",
     "output_type": "stream",
     "text": " 2.21, 'SD': 0.49}, 6: {'SUV_max': 4.46, 'SUV_mean': 2.57, 'SD': 0.66}}\n[]\n['/media/salim/DD 2To/AHL2011_Validated_DICOMS/53011101851003/1.2.250.1.38.2.1.12.1617369990219.20120110135439.1941172235/1.3.46.670589.28.2.12.30.26377.35752.2.3036.0.1326300008/1.3.46.670589.28.2.12.30.26377.35752.2.3036.0.1326300008', 'PT', '/media/salim/DD 2To/AHL2011_Validated_DICOMS/53011101851003/1.2.250.1.38.2.1.12.1617369990219.20120110135439.1941172235/1.2.840.113704.1.111.4680.1326211698.8/1.2.840.113704.1.111.4680.1326211698.8', 'CT', 'fra_ni_jan 10_2012.csv']\n20120110152044\n{1: {'SUV_max': 7.77, 'SUV_mean': 4.37, 'SD': 0.97}, 2: {'SUV_max': 12.92, 'SUV_mean': 6.79, 'SD': 1.46}, 3: {'SUV_max': 16.55, 'SUV_mean': 9.26, 'SD': 2.08}, 4: {'SUV_max': 11.88, 'SUV_mean': 6.61, 'SD': 1.46}, 5: {'SUV_max': 15.35, 'SUV_mean': 8.28, 'SD': 1.85}, 6: {'SUV_max': 6.08, 'SUV_mean': 3.25, 'SD': 0.7}, 7: {'SUV_max': 15.35, 'SUV_mean': 9.02, 'SD': 2.09}, 8: {'SUV_max': 6.46, 'SUV_mean': 3.65, 'SD': 0.81}, 9: {'SUV_max': 10.88, 'SUV_mean': 5.93, 'SD': 1.37}, 10: {'SUV_max': 6.07, 'SUV_mean': 3.47, 'SD': 0.79}, 11: {'SUV_max': 6.7, 'SUV_mean': 4.12, 'SD': 1.04}, 12: {'SUV_max': 6.86, 'SUV_mean': 3.85, 'SD': 0.86}, 13: {'SUV_max': 3.55, 'SUV_mean': 2.08, 'SD': 0.53}, 14: {'SUV_max': 5.67, 'SUV_mean': 3.32, 'SD': 0.92}, 15: {'SUV_max': 11.81, 'SUV_mean': 7.41, 'SD': 1.96}, 16: {'SUV_max': 4.41, 'SUV_mean': 2.99, 'SD': 0.64}, 17: {'SUV_max': 3.68, 'SUV_mean': 2.22, 'SD': 0.41}, 18: {'SUV_max': 3.68, 'SUV_mean': 2.21, 'SD': 0.39}}\n[]\n['/media/salim/DD 2To/AHL2011_Validated_DICOMS/53011101851005/1.2.250.1.38.2.1.12.1617369990219.20121211082220.761958499/1.2.840.113704.1.111.6220.1355227117.8/1.2.840.113704.1.111.6220.1355227117.8', 'CT', '/media/salim/DD 2To/AHL2011_Validated_DICOMS/53011101851005/1.2.250.1.38.2.1.12.1617369990219.20121211082220.761958499/1.3.46.670589.28.2.12.30.26377.34416.2.1320.0.1355314893/1.3.46.670589.28.2.12.30.26377.34416.2.1320.0.1355314893', 'PT', 'com_ce_dec 11_2012.csv']\n20121211120052\n{1: {'SUV_max': 10.42, 'SUV_mean': 5.21, 'SD': 0.89}, 2: {'SUV_max': 9.43, 'SUV_mean': 5.54, 'SD': 1.27}, 3: {'SUV_max': 8.44, 'SUV_mean': 4.92, 'SD': 1.31}, 4: {'SUV_max': 5.72, 'SUV_mean': 3.5, 'SD': 0.93}, 5: {'SUV_max': 7.08, 'SUV_mean': 4.42, 'SD': 1.08}, 6: {'SUV_max': 6.45, 'SUV_mean': 3.7, 'SD': 0.86}, 7: {'SUV_max': 4.26, 'SUV_mean': 2.47, 'SD': 0.65}, 8: {'SUV_max': 5.11, 'SUV_mean': 3.06, 'SD': 0.86}}\n[]\n['/media/salim/DD 2To/AHL2011_Validated_DICOMS/53011101401005/1.2.250.1.38.2.1.12.1617369990219.20130124143820.1232765280/1.2.840.113704.1.111.3780.1359042740.8/1.2.840.113704.1.111.3780.1359042740.8', 'CT', '/media/salim/DD 2To/AHL2011_Validated_DICOMS/53011101401005/1.2.250.1.38.2.1.12.1617369990219.20130124143820.1232765280/1.3.46.670589.28.2.12.30.26377.35897.2.3760.0.1359130755/1.3.46.670589.28.2.12.30.26377.35897.2.3760.0.1359130755', 'PT', 'men_st_jan 24_2013.csv']\n20130124154542\n{1: {'SUV_max': 8.69, 'SUV_mean': 5.03, 'SD': 1.09}, 2: {'SUV_max': 8.83, 'SUV_mean': 5.2, 'SD': 1.26}, 3: {'SUV_max': 9.0, 'SUV_mean': 5.52, 'SD': 1.24}, 4: {'SUV_max': 4.36, 'SUV_mean': 2.43, 'SD': 0.62}, 5: {'SUV_max': 4.31, 'SUV_mean': 2.37, 'SD': 0.6}, 6: {'SUV_max': 7.67, 'SUV_mean': 4.76, 'SD': 1.13}, 7: {'SUV_max': 5.23, 'SUV_mean': 3.23, 'SD': 0.78}, 8: {'SUV_max': 5.98, 'SUV_mean': 3.34, 'SD': 0.7}, 9: {'SUV_max': 6.6, 'SUV_mean': 3.89, 'SD': 0.93}, 10: {'SUV_max': 4.0, 'SUV_mean': 2.41, 'SD': 0.6}, 11: {'SUV_max': 9.85, 'SUV_mean': 5.36, 'SD': 1.22}, 12: {'SUV_max': 5.74, 'SUV_mean': 3.28, 'SD': 0.84}, 13: {'SUV_max': 3.63, 'SUV_mean': 2.04, 'SD': 0.57}, 14: {'SUV_max': 5.48, 'SUV_mean': 3.12, 'SD': 0.7}, 15: {'SUV_max': 3.88, 'SUV_mean': 2.82, 'SD': 0.47}, 16: {'SUV_max': 4.92, 'SUV_mean': 3.12, 'SD': 0.71}}\n[]\n['/media/salim/DD 2To/AHL2011_Validated_DICOMS/53011101851007/1.2.250.1.38.2.1.12.1617369990219.20130606133235.1660955113/1.2.840.113704.1.111.6164.1370528002.8/1.2.840.113704.1.111.6164.1370528002.8', 'CT', '/media/salim/DD 2To/AHL2011_Validated_DICOMS/53011101851007/1.2.250.1.38.2.1.12.1617369990219.20130606133235.1660955113/1.3.46.670589.28.2.12.30.26377.33900.2.4904.0.1370529736/1.3.46.670589.28.2.12.30.26377.33900.2.4904.0.1370529736', 'PT', 'gab_fr_jun 6_2013.csv']\n20130606142041\n{1: {'SUV_max': 5.76, 'SUV_mean': 3.52, 'SD': 0.85}, 2: {'SUV_max': 6.1, 'SUV_mean': 3.42, 'SD': 0.74}, 3: {'SUV_max': 4.66, 'SUV_mean': 2.94, 'SD': 0.69}, 4: {'SUV_max': 7.9, 'SUV_mean': 4.64, 'SD': 1.18}, 5: {'SUV_max': 4.02, 'SUV_mean': 2.52, 'SD': 0.58}, 6: {'SUV_max': 4.41, 'SUV_mean': 2.64, 'SD': 0.6}, 7: {'SUV_max': 8.64, 'SUV_mean': 5.01, 'SD': 1.03}, 8: {'SUV_max': 10.93, 'SUV_mean': 6.69, 'SD': 1.85}, 9: {'SUV_max': 16.41, 'SUV_mean': 9.38, 'SD': 2.32}, 10: {'SUV_max': 18.34, 'SUV_mean': 9.86, 'SD': 1.95}, 11: {'SUV_max': 18.34, 'SUV_mean': 10.07, 'SD': 2.12}, 12: {'SUV_max': 15.78, 'SUV_mean': 8.79, 'SD': 2.05}, 13: {'SUV_max': 14.86, 'SUV_mean': 8.83, 'SD': 2.24}, 14: {'SUV_max': 6.58, 'SUV_mean': 4.23, 'SD': 1.22}, 15: {'SUV_max': 11.9, 'SUV_mean': 7.29, 'SD': 1.88}, 16: {'SUV_max': 10.78, 'SUV_mean': 6.65, 'SD': 1.7}, 17: {'SUV_max': 12.29, 'SUV_mean': 6.93, 'SD': 1.34}, 18: {'SUV_max': 12.53, 'SUV_mean': 6.22, 'SD': 1.0}, 19: {'SUV_max': 10.06, 'SUV_mean': 5.72, 'SD': 1.35}, 20: {'SUV_max': 8.66, 'SUV_mean': 5.08, 'SD': 1.31}, 21: {'SUV_max': 8.48, 'SUV_mean': 5.03, 'SD': 1.32}, 22: {'SUV_max': 7.74, 'SUV_mean': 4.24, 'SD': 0.95}, 23: {'SUV_max': 6.46, 'SUV_mean': 3.8, 'SD': 0.94}, 24: {'SUV_max': 5.5, 'SUV_mean': 3.24, 'SD': 0.82}, 25: {'SUV_max': 6.14, 'SUV_mean': 3.53, 'SD': 0.87}, 26: {'SUV_max': 7.31, 'SUV_mean': 3.95, 'SD': 0.82}, 27: {'SUV_max': 5.82, 'SUV_mean': 3.37, 'SD': 0.83}, 28: {'SUV_max': 5.38, 'SUV_mean': 3.09, 'SD': 0.57}, 29: {'SUV_max': 4.99, 'SUV_mean': 2.9, 'SD': 0.8}, 30: {'SUV_max': 6.86, 'SUV_mean': 3.5, 'SD': 0.57}, 31: {'SUV_max': 7.94, 'SUV_mean': 3.86, 'SD': 0.55}}\n[]\n['/media/salim/DD 2To/AHL2011_Validated_DICOMS/53011101851008/1.2.250.1.38.2.1.12.1617369990219.20130718082715.975642926/1.2.840.113704.1.111.5492.1374135151.13/1.2.840.113704.1.111.5492.1374135151.13', 'CT', '/media/salim/DD 2To/AHL2011_Validated_DICOMS/53011101851008/1.2.250.1.38.2.1.12.1617369990219.20130718082715.975642926/1.3.46.670589.28.2.12.30.26377.35897.2.2624.0.1374136365/1.3.46.670589.28.2.12.30.26377.35897.2.2624.0.1374136365', 'PT', 'b_o_jul 18_2013.csv']\n20130718085510\n{1: {'SUV_max': 4.76, 'SUV_mean': 2.98, 'SD': 0.9}, 2: {'SUV_max': 11.23, 'SUV_mean': 6.41, 'SD': 1.53}, 3: {'SUV_max': 13.87, 'SUV_mean': 7.89, 'SD': 1.76}, 4: {'SUV_max': 16.17, 'SUV_mean': 8.88, 'SD': 1.99}, 5: {'SUV_max': 19.35, 'SUV_mean': 10.71, 'SD': 2.31}, 6: {'SUV_max': 11.26, 'SUV_mean': 6.96, 'SD': 1.63}, 7: {'SUV_max': 7.79, 'SUV_mean': 4.63, 'SD': 1.21}, 8: {'SUV_max': 9.22, 'SUV_mean': 4.86, 'SD': 1.02}, 9: {'SUV_max': 7.89, 'SUV_mean': 5.01, 'SD': 1.39}, 10: {'SUV_max': 8.36, 'SUV_mean': 5.35, 'SD': 1.29}, 11: {'SUV_max': 14.39, 'SUV_mean': 7.65, 'SD': 1.67}, 12: {'SUV_max': 14.92, 'SUV_mean': 8.39, 'SD': 1.98}, 13: {'SUV_max': 8.47, 'SUV_mean': 4.67, 'SD': 1.18}, 14: {'SUV_max': 6.14, 'SUV_mean': 3.68, 'SD': 0.98}, 15: {'SUV_max': 5.58, 'SUV_mean': 3.29, 'SD': 0.81}, 16: {'SUV_max': 4.94, 'SUV_mean': 2.95, 'SD': 0.69}, 17: {'SUV_max': 4.85, 'SUV_mean': 2.67, 'SD': 0.63}}\n[]\n['/media/salim/DD 2To/AHL2011_Validated_DICOMS/53011101851009/1.2.250.1.38.2.1.12.1617369990219.20130730105602.2021369051/1.3.46.670589.28.2.12.30.26377.35897.2.3548.0.1375185349/1.3.46.670589.28.2.12.30.26377.35897.2.3548.0.1375185349', 'PT', '/media/salim/DD 2To/AHL2011_Validated_DICOMS/53011101851009/1.2.250.1.38.2.1.12.1617369990219.20130730105602.2021369051/1.2.840.113704.1.111.6780.1375184242.8/1.2.840.113704.1.111.6780.1375184242.8', 'CT', 'len_cl_jul 30_2013.csv']\n20130730124053\n{1: {'SUV_max': 9.02, 'SUV_mean': 5.55, 'SD': 1.15}, 2: {'SUV_max': 10.78, 'SUV_mean': 5.87, 'SD': 1.19}, 3: {'SUV_max': 9.98, 'SUV_mean': 5.75, 'SD': 1.52}, 4: {'SUV_max': 16.03, 'SUV_mean': 9.86, 'SD': 2.45}, 5: {'SUV_max': 12.89, 'SUV_mean': 8.11, 'SD': 1.97}, 6: {'SUV_max': 9.33, 'SUV_mean': 5.71, 'SD': 1.36}, 7: {'SUV_max': 7.95, 'SUV_mean': 4.67, 'SD': 1.06}, 8: {'SUV_max': 13.35, 'SUV_mean': 8.6, 'SD': 1.98}, 9: {'SUV_max': 13.35, 'SUV_mean': 8.13, 'SD': 1.9}, 10: {'SUV_max': 12.23, 'SUV_mean': 8.21, 'SD': 2.07}, 11: {'SUV_max': 10.3, 'SUV_mean': 6.42, 'SD': 1.63}, 12: {'SUV_max': 6.79, 'SUV_mean': 4.28, 'SD': 1.12}, 13: {'SUV_max': 3.99, 'SUV_mean': 2.37, 'SD': 0.68}, 14: {'SUV_max': 6.82, 'SUV_mean': 3.77, 'SD': 0.9}, 15: {'SUV_max': 5.84, 'SUV_mean': 3.29, 'SD': 0.8}, 16: {'SUV_max': 5.67, 'SUV_mean': 3.15, 'SD': 0.75}, 17: {'SUV_max': 7.02, 'SUV_mean': 4.03, 'SD': 0.97}}\n[]\n['/media/salim/DD 2To/AHL2011_Validated_DICOMS/53011101851010/1.2.250.1.38.2.1.12.1617369990219.20131126110109.578025399/1.3.46.670589.28.2.12.30.26377.34416.2.940.0.1385468136/1.3.46.670589.28.2.12.30.26377.34416.2.940.0.1385468136', 'PT', '/media/salim/DD 2To/AHL2011_Validated_DICOMS/53011101851010/1.2.250.1.38.2.1.12.1617369990219.20131126110109.578025399/1.2.840.113704.1.111.7840.1385466862.8/1.2.840.113704.1.111.7840.1385466862.8', 'CT', 'che_ju_nov 26_2013.csv']\n20131126125356\n{1: {'SUV_max': 7.0, 'SUV_mean': 3.84, 'SD': 0.78}, 2: {'SUV_max': 4.71, 'SUV_mean': 2.66, 'SD': 0.65}, 3: {'SUV_max': 5.61, 'SUV_mean': 3.51, 'SD': 0.97}, 4: {'SUV_max': 6.54, 'SUV_mean': 3.93, 'SD': 0.94}, 5: {'SUV_max': 4.48, 'SUV_mean': 2.76, 'SD': 0.7}, 6: {'SUV_max': 4.61, 'SUV_mean': 2.75, 'SD': 0.7}, 7: {'SUV_max': 3.61, 'SUV_mean': 2.09, 'SD': 0.5}, 8: {'SUV_max': 7.13, 'SUV_mean': 3.78, 'SD': 0.72}, 9: {'SUV_max': 6.12, 'SUV_mean': 3.67, 'SD': 0.8}, 10: {'SUV_max': 6.09, 'SUV_mean': 3.71, 'SD': 0.83}, 11: {'SUV_max': 5.86, 'SUV_mean': 3.17, 'SD': 0.71}, 12: {'SUV_max': 4.34, 'SUV_mean': 2.57, 'SD': 0.64}, 13: {'SUV_max': 4.54, 'SUV_mean': 2.95, 'SD': 0.69}, 14: {'SUV_max': 6.28, 'SUV_mean': 3.73, 'SD': 0.88}, 15: {'SUV_max': 5.85, 'SUV_mean': 3.25, 'SD': 0.64}, 16: {'SUV_max': 3.85, 'SUV_mean': 2.3, 'SD': 0.64}, 17: {'SUV_max': 4.18, 'SUV_mean': 2.43, 'SD': 0.59}, 18: {'SUV_max': 3.64, 'SUV_mean': 2.17, 'SD': 0.52}, 19: {'SUV_max': 4.34, 'SUV_mean': 2.47, 'SD': 0.57}, 20: {'SUV_max': 6.0, 'SUV_mean': 3.76, 'SD': 0.99}, 21: {'SUV_max': 4.82, 'SUV_mean': 2.91, 'SD': 0.68}, 22: {'SUV_max': 4.69, 'SUV_mean': 2.65, 'SD': 0.65}, 23: {'SUV_max': 5.19, 'SUV_mean': 3.01, 'SD': 0.75}, 24: {'SUV_max': 4.7, 'SUV_mean': 2.68, 'SD': 0.59}, 25: {'SUV_max': 3.11, 'SUV_mean': 1.82, 'SD': 0.46}, 26: {'SUV_max': 4.36, 'SUV_mean': 2.51, 'SD': 0.62}, 27: {'SUV_max': 3.8, 'SUV_mean': 2.27, 'SD': 0.59}, 28: {'SUV_max': 4.23, 'SUV_mean': 2.4, 'SD': 0.59}, 29: {'SUV_max': 4.21, 'SUV_mean': 2.44, 'SD': 0.57}, 30: {'SUV_max': 4.76, 'SUV_mean': 2.77, 'SD': 0.59}, 31: {'SUV_max': 4.06, 'SUV_mean': 2.53, 'SD': 0.59}}\n[]\n['/media/salim/DD 2To/AHL2011_Validated_DICOMS/53011101851011/1.2.250.1.38.2.1.12.1617369990219.20131205081104.189369820/1.2.840.113704.1.111.8084.1386236614.8/1.2.840.113704.1.111.8084.1386236614.8', 'CT', '/media/salim/DD 2To/AHL2011_Validated_DICOMS/53011101851011/1.2.250.1.38.2.1.12.1617369990219.20131205081104.189369820/1.3.46.670589.28.2.12.30.26377.35752.2.4964.0.1386237986/1.3.46.670589.28.2.12.30.26377.35752.2.4964.0.1386237986', 'PT', 'jio_be_dec 5_2013.csv']\n20131205093055\n{1: {'SUV_max': 5.5, 'SUV_mean': 2.91, 'SD': 0.59}, 2: {'SUV_max': 4.01, 'SUV_mean': 2.4, 'SD': 0.57}, 3: {'SUV_max': 3.76, 'SUV_mean': 1.97, 'SD': 0.43}, 4: {'SUV_max': 3.15, 'SUV_mean': 1.67, 'SD': 0.41}, 5: {'SUV_max': 3.92, 'SUV_mean': 2.31, 'SD': 0.58}}\n[]\n['/media/salim/DD 2To/AHL2011_Validated_DICOMS/13011102411001/1.2.250.1.59.0.8559.20111129130807.3134065/1.2.840.113704.7.32.1.2.840.113704.1.111.5140.1322569362.18/1.2.840.113704.7.32.1.2.840.113704.1.111.5140.1322569362.18', 'CT', '/media/salim/DD 2To/AHL2011_Validated_DICOMS/13011102411001/1.2.250.1.59.0.8559.20111129130807.3134065/1.2.840.113704.7.32.09.28.2.10.7.59697.12918.2.3088.0.1322571836/1.2.840.113704.7.32.09.28.2.10.7.59697.12918.2.3088.0.1322571836', 'PT', 'mag_da_nov 29_2011.csv']\n{1: {'SUV_max': 10.8, 'SUV_mean': 6.54, 'SD': 1.49}, 2: {'SUV_max': 13.28, 'SUV_mean': 7.37, 'SD': 1.39}, 3: {'SUV_max': 13.53, 'SUV_mean': 8.28, 'SD': 1.91}}\n[]\n['/media/salim/DD 2To/AHL2011_Validated_DICOMS/13011102411002/1.2.250.1.59.0.8559.20120605125207.3263823/1.2.840.113704.7.32.0589.28.2.10.14.3165.4686.2.272.0.1338899965/1.2.840.113704.7.32.0589.28.2.10.14.3165.4686.2.272.0.1338899965', 'PT', '/media/salim/DD 2To/AHL2011_Validated_DICOMS/13011102411002/1.2.250.1.59.0.8559.20120605125207.3263823/1.2.840.113704.7.32.1.2.840.113704.1.111.5280.1338894543.14/1.2.840.113704.7.32.1.2.840.113704.1.111.5280.1338894543.14', 'CT', 'jem_ta_jun 5_2012.csv']\n{1: {'SUV_max': 5.0, 'SUV_mean': 3.05, 'SD': 0.82}, 2: {'SUV_max': 3.38, 'SUV_mean': 1.99, 'SD': 0.43}, 3: {'SUV_max': 4.73, 'SUV_mean': 2.74, 'SD': 0.74}, 4: {'SUV_max': 3.67, 'SUV_mean': 2.18, 'SD': 0.56}, 5: {'SUV_max': 4.22, 'SUV_mean': 2.26, 'SD': 0.49}, 6: {'SUV_max': 5.18, 'SUV_mean': 3.09, 'SD': 0.81}, 7: {'SUV_max': 3.27, 'SUV_mean': 2.02, 'SD': 0.44}, 8: {'SUV_max': 3.22, 'SUV_mean': 2.18, 'SD': 0.44}, 9: {'SUV_max': 21.15, 'SUV_mean': 12.79, 'SD': 2.77}, 10: {'SUV_max': 16.73, 'SUV_mean': 10.16, 'SD': 2.58}, 11: {'SUV_max': 22.51, 'SUV_mean': 13.96, 'SD': 3.16}, 12: {'SUV_max': 14.59, 'SUV_mean': 8.68, 'SD': 2.04}, 13: {'SUV_max': 11.81, 'SUV_mean': 6.78, 'SD': 1.53}, 14: {'SUV_max': 9.92, 'SUV_mean': 6.43, 'SD': 1.43}, 15: {'SUV_max': 6.21, 'SUV_mean': 3.86, 'SD': 0.99}, 16: {'SUV_max': 5.77, 'SUV_mean': 3.56, 'SD': 0.94}, 17: {'SUV_max': 18.72, 'SUV_mean': 11.11, 'SD': 2.82}, 18: {'SUV_max': 3.92, 'SUV_mean': 2.34, 'SD': 0.58}, 19: {'SUV_max': 4.91, 'SUV_mean': 2.88, 'SD': 0.78}, 20: {'SUV_max': 7.26, 'SUV_mean': 4.23, 'SD': 1.12}, 21: {'SUV_max': 2.5, 'SUV_mean': 1.41, 'SD': 0.35}, 22: {'SUV_max': 3.43, 'SUV_mean': 1.91, 'SD': 0.49}, 23: {'SUV_max': 4.81, 'SUV_mean': 3.04, 'SD': 0.78}, 24: {'SUV_max': 3.63, 'SUV_mean': 2.25, 'SD': 0.55}, 25: {'SUV_max': 3.09, 'SUV_mean': 1.88, 'SD': 0.53}, 26: {'SUV_max': 2.27, 'SUV_mean': 1.51, 'SD': 0.33}, 27: {'SUV_max': 6.03, 'SUV_mean': 3.46, 'SD': 0.64}, 28: {'SUV_max': 2.7, 'SUV_mean': 1.41, 'SD': 0.33}, 29: {'SUV_max': 4.62, 'SUV_mean': 2.59, 'SD': 0.56}}\n[]\n['/media/salim/DD 2To/AHL2011_Validated_DICOMS/13011102411003/1.2.250.1.59.0.8559.20121126150913.3384646/1.2.840.113704.7.32.1.2.840.113704.1.111.3252.1353940093.14/1.2.840.113704.7.32.1.2.840.113704.1.111.3252.1353940093.14', 'CT', '/media/salim/DD 2To/AHL2011_Validated_DICOMS/13011102411003/1.2.250.1.59.0.8559.20121126150913.3384646/1.2.840.113704.7.32.089.28.2.10.14.3165.4686.2.1304.0.1353945695/1.2.840.113704.7.32.089.28.2.10.14.3165.4686.2.1304.0.1353945695', 'PT', 'rah_lu_nov 26_2012.csv']\n{1: {'SUV_max': 19.2, 'SUV_mean': 10.79, 'SD': 2.38}, 2: {'SUV_max': 12.28, 'SUV_mean': 6.76, 'SD': 1.51}, 3: {'SUV_max': 6.32, 'SUV_mean': 3.75, 'SD': 0.92}, 4: {'SUV_max': 9.57, 'SUV_mean': 5.32, 'SD': 1.14}, 5: {'SUV_max': 11.55, 'SUV_mean': 6.6, 'SD': 1.32}, 6: {'SUV_max': 5.52, 'SUV_mean': 3.22, 'SD': 0.91}, 7: {'SUV_max': 7.71, 'SUV_mean': 4.29, 'SD': 0.62}, 8: {'SUV_max': 6.07, 'SUV_mean': 3.93, 'SD': 0.86}, 9: {'SUV_max': 7.29, 'SUV_mean': 4.43, 'SD': 1.03}, 10: {'SUV_max': 4.17, 'SUV_mean': 2.33, 'SD': 0.49}, 11: {'SUV_max': 3.6, 'SUV_mean': 2.0, 'SD': 0.52}, 12: {'SUV_max': 6.54, 'SUV_mean': 3.77, 'SD': 0.86}, 13: {'SUV_max': 7.29, 'SUV_mean': 4.11, 'SD': 1.01}, 14: {'SUV_max': 3.96, 'SUV_mean': 2.21, 'SD': 0.55}, 15: {'SUV_max': 4.17, 'SUV_mean': 2.32, 'SD': 0.53}, 16: {'SUV_max': 4.21, 'SUV_mean': 2.36, 'SD': 0.53}, 17: {'SUV_max': 4.47, 'SUV_mean': 2.63, 'SD': 0.69}, 18: {'SUV_max': 3.63, 'SUV_mean': 2.02, 'SD': 0.48}, 19: {'SUV_max': 6.91, 'SUV_mean': 4.14, 'SD': 0.99}, 20: {'SUV_max': 10.51, 'SUV_mean': 6.08, 'SD': 1.58}, 21: {'SUV_max': 3.56, 'SUV_mean': 2.01, 'SD': 0.48}}\n[]\n['/media/salim/DD 2To/AHL2011_Validated_DICOMS/13011102411005/1.2.250.1.59.0.8559.20140116101814.3692968/1.2.840.113704.7.32.1.2.840.113704.1.111.4476.1389864541.11/1.2.840.113704.7.32.1.2.840.113704.1.111.4476.1389864541.11', 'CT', '/media/salim/DD 2To/AHL2011_Validated_DICOMS/13011102411005/1.2.250.1.59.0.8559.20140116101814.3692968/1.2.840.113704.7.32.089.28.2.10.14.3164.12653.2.748.0.1389866196/1.2.840.113704.7.32.089.28.2.10.14.3164.12653.2.748.0.1389866196', 'PT', 'rus_mi_jan 16_2014.csv']\n{1: {'SUV_max': 3.54, 'SUV_mean': 2.18, 'SD': 0.6}, 2: {'SUV_max': 2.75, 'SUV_mean': 2.0, 'SD': 0.39}, 3: {'SUV_max': 10.05, 'SUV_mean': 5.64, 'SD': 1.31}, 4: {'SUV_max': 5.93, 'SUV_mean': 3.56, 'SD': 0.86}, 5: {'SUV_max': 4.0, 'SUV_mean': 2.38, 'SD': 0.58}, 6: {'SUV_max': 4.11, 'SUV_mean': 2.84, 'SD': 0.5}, 7: {'SUV_max': 4.38, 'SUV_mean': 2.56, 'SD': 0.68}}\n[]\n['/media/salim/DD 2To/AHL2011_Validated_DICOMS/13011101021016/1.2.250.1.59.470.940100027.1.20121214103050.889.121318/1.2.840.113704.1.111.3644.1355484873.8/1.2.840.113704.1.111.3644.1355484873.8', 'CT', '/media/salim/DD 2To/AHL2011_Validated_DICOMS/13011101021016/1.2.250.1.59.470.940100027.1.20121214103050.889.121318/1.3.46.670589.28.2.10.4.9167.27989.2.484.0.1355486694/1.3.46.670589.28.2.10.4.9167.27989.2.484.0.1355486694', 'PT', 'her_pi_dec 14_2012.csv']\n{1: {'SUV_max': 12.82, 'SUV_mean': 8.14, 'SD': 2.0}, 2: {'SUV_max': 5.03, 'SUV_mean': 3.07, 'SD': 0.75}, 3: {'SUV_max': 14.09, 'SUV_mean': 8.84, 'SD': 2.31}, 4: {'SUV_max': 3.64, 'SUV_mean': 2.27, 'SD': 0.48}, 5: {'SUV_max': 2.4, 'SUV_mean': 1.53, 'SD': 0.32}, 6: {'SUV_max': 12.42, 'SUV_mean': 7.52, 'SD': 1.9}, 7: {'SUV_max': 6.76, 'SUV_mean': 3.52, 'SD': 0.74}, 8: {'SUV_max': 6.33, 'SUV_mean': 3.41, 'SD': 0.74}, 9: {'SUV_max': 3.78, 'SUV_mean': 2.32, 'SD': 0.5}, 10: {'SUV_max': 3.01, 'SUV_mean': 1.72, 'SD': 0.46}, 11: {'SUV_max': 7.42, 'SUV_mean': 4.09, 'SD': 1.0}, 12: {'SUV_max': 3.22, 'SUV_mean': 2.22, 'SD': 0.43}, 13: {'SUV_max': 9.47, 'SUV_mean': 5.73, 'SD': 1.45}, 14: {'SUV_max': 2.98, 'SUV_mean': 2.31, 'SD': 0.29}, 15: {'SUV_max': 3.18, 'SUV_mean': 2.05, 'SD': 0.41}, 16: {'SUV_max': 3.37, 'SUV_mean': 2.2, 'SD': 0.48}, 17: {'SUV_max': 3.73, 'SUV_mean': 2.14, 'SD': 0.47}, 18: {'SUV_max': 4.14, 'SUV_mean': 2.54, 'SD': 0.69}, 19: {'SUV_max': 3.73, 'SUV_mean': 2.45, 'SD': 0.55}}\n[]\n['/media/salim/DD 2To/AHL2011_Validated_DICOMS/13011101021017/1.2.250.1.59.470.940100027.1.20130104143138.3312.15646/1.2.840.113704.1.111.3484.1357731761.8/1.2.840.113704.1.111.3484.1357731761.8', 'CT', '/media/salim/DD 2To/AHL2011_Validated_DICOMS/13011101021017/1.2.250.1.59.470.940100027.1.20130104143138.3312.15646/1.3.46.670589.28.2.10.4.9167.27989.2.1728.0.1357733604/1.3.46.670589.28.2.10.4.9167.27989.2.1728.0.1357733604', 'PT', 'mor_ju_jan 9_2013_SK.csv']\n{1: {'SUV_max': 5.85, 'SUV_mean': 3.49, 'SD': 0.95}, 2: {'SUV_max': 12.87, 'SUV_mean': 7.7, 'SD': 1.94}, 3: {'SUV_max': 11.74, 'SUV_mean': 7.42, 'SD': 1.89}, 4: {'SUV_max': 5.86, 'SUV_mean': 3.2, 'SD': 0.79}, 5: {'SUV_max': 4.41, 'SUV_mean': 2.6, 'SD': 0.7}, 6: {'SUV_max': 5.86, 'SUV_mean': 3.28, 'SD': 0.84}, 7: {'SUV_max': 4.81, 'SUV_mean': 3.02, 'SD': 0.79}, 8: {'SUV_max': 15.38, 'SUV_mean': 10.17, 'SD': 2.21}, 9: {'SUV_max': 11.68, 'SUV_mean': 6.56, 'SD': 1.49}, 10: {'SUV_max': 9.45, 'SUV_mean': 5.11, 'SD': 1.11}, 11: {'SUV_max': 2.96, 'SUV_mean': 1.68, 'SD': 0.44}, 12: {'SUV_max': 4.47, 'SUV_mean': 2.89, 'SD': 0.66}, 13: {'SUV_max': 3.41, 'SUV_mean': 2.17, 'SD': 0.51}, 14: {'SUV_max': 5.24, 'SUV_mean': 3.07, 'SD': 0.73}, 15: {'SUV_max': 4.44, 'SUV_mean': 2.59, 'SD': 0.74}, 16: {'SUV_max': 3.7, 'SUV_mean': 2.26, 'SD': 0.59}, 17: {'SUV_max': 5.02, 'SUV_mean': 3.02, 'SD': 0.7}}\n[]\n['/media/salim/DD 2To/AHL2011_Validated_DICOMS/13011101021022/1.2.250.1.59.470.940100027.1.20130802113038.1925.124326/1.3.46.670589.28.2.10.4.9167.27921.2.460.0.1376045065/1.3.46.670589.28.2.10.4.9167.27921.2.460.0.1376045065', 'PT', '/media/salim/DD 2To/AHL2011_Validated_DICOMS/13011101021022/1.2.250.1.59.470.940100027.1.20130802113038.1925.124326/1.2.840.113704.1.111.2068.1376042666.8/1.2.840.113704.1.111.2068.1376042666.8', 'CT', 'mus_ar_aug 9_2013_abr.csv']\n"
    },
    {
     "ename": "ZeroDivisionError",
     "evalue": "float division by zero",
     "output_type": "error",
     "traceback": [
      "\u001b[0;31m---------------------------------------------------------------------------\u001b[0m",
      "\u001b[0;31mZeroDivisionError\u001b[0m                         Traceback (most recent call last)",
      "\u001b[0;32m<ipython-input-21-a01726e7736e>\u001b[0m in \u001b[0;36m<module>\u001b[0;34m\u001b[0m\n\u001b[1;32m      8\u001b[0m         \u001b[0;31m#study_uid = serie_pt_objet.get_series_details()['study']['StudyInstanceUID']\u001b[0m\u001b[0;34m\u001b[0m\u001b[0;34m\u001b[0m\u001b[0;34m\u001b[0m\u001b[0m\n\u001b[1;32m      9\u001b[0m         \u001b[0msize_matrix\u001b[0m \u001b[0;34m=\u001b[0m \u001b[0mserie_pt_objet\u001b[0m\u001b[0;34m.\u001b[0m\u001b[0mget_size_matrix\u001b[0m\u001b[0;34m(\u001b[0m\u001b[0;34m)\u001b[0m\u001b[0;34m\u001b[0m\u001b[0;34m\u001b[0m\u001b[0m\n\u001b[0;32m---> 10\u001b[0;31m         \u001b[0mmask_objet\u001b[0m \u001b[0;34m=\u001b[0m \u001b[0mMaskBuilder\u001b[0m\u001b[0;34m(\u001b[0m\u001b[0mos\u001b[0m\u001b[0;34m.\u001b[0m\u001b[0mpath\u001b[0m\u001b[0;34m.\u001b[0m\u001b[0mjoin\u001b[0m\u001b[0;34m(\u001b[0m\u001b[0mcsv_directory\u001b[0m\u001b[0;34m,\u001b[0m \u001b[0mphilips\u001b[0m\u001b[0;34m[\u001b[0m\u001b[0;36m4\u001b[0m\u001b[0;34m]\u001b[0m\u001b[0;34m)\u001b[0m\u001b[0;34m,\u001b[0m \u001b[0msize_matrix\u001b[0m\u001b[0;34m)\u001b[0m\u001b[0;34m\u001b[0m\u001b[0;34m\u001b[0m\u001b[0m\n\u001b[0m\u001b[1;32m     11\u001b[0m         \u001b[0mmask_4D\u001b[0m \u001b[0;34m=\u001b[0m \u001b[0mmask_objet\u001b[0m\u001b[0;34m.\u001b[0m\u001b[0mmask_array\u001b[0m\u001b[0;34m\u001b[0m\u001b[0;34m\u001b[0m\u001b[0m\n\u001b[1;32m     12\u001b[0m         \u001b[0msubliste\u001b[0m\u001b[0;34m.\u001b[0m\u001b[0mappend\u001b[0m\u001b[0;34m(\u001b[0m\u001b[0mphilips\u001b[0m\u001b[0;34m)\u001b[0m\u001b[0;34m\u001b[0m\u001b[0;34m\u001b[0m\u001b[0m\n",
      "\u001b[0;32m~/library-DICOM/library_dicom/dicom_processor/model/csv_reader/MaskBuilder.py\u001b[0m in \u001b[0;36m__init__\u001b[0;34m(self, csv_path, matrix_size)\u001b[0m\n\u001b[1;32m     21\u001b[0m         \u001b[0mself\u001b[0m\u001b[0;34m.\u001b[0m\u001b[0mmatrix_size\u001b[0m\u001b[0;34m=\u001b[0m\u001b[0mmatrix_size\u001b[0m\u001b[0;34m\u001b[0m\u001b[0;34m\u001b[0m\u001b[0m\n\u001b[1;32m     22\u001b[0m         \u001b[0mself\u001b[0m\u001b[0;34m.\u001b[0m\u001b[0mnumber_of_rois\u001b[0m \u001b[0;34m=\u001b[0m \u001b[0mlen\u001b[0m\u001b[0;34m(\u001b[0m\u001b[0mself\u001b[0m\u001b[0;34m.\u001b[0m\u001b[0mdetails_rois\u001b[0m\u001b[0;34m)\u001b[0m \u001b[0;34m-\u001b[0m \u001b[0;36m2\u001b[0m \u001b[0;31m#moins ligne SUL + ligne SUClo\u001b[0m\u001b[0;34m\u001b[0m\u001b[0;34m\u001b[0m\u001b[0m\n\u001b[0;32m---> 23\u001b[0;31m         \u001b[0mself\u001b[0m\u001b[0;34m.\u001b[0m\u001b[0mmask_array\u001b[0m \u001b[0;34m=\u001b[0m \u001b[0mself\u001b[0m\u001b[0;34m.\u001b[0m\u001b[0mbuild_mask\u001b[0m\u001b[0;34m(\u001b[0m\u001b[0;34m)\u001b[0m\u001b[0;34m\u001b[0m\u001b[0;34m\u001b[0m\u001b[0m\n\u001b[0m\u001b[1;32m     24\u001b[0m \u001b[0;34m\u001b[0m\u001b[0m\n\u001b[1;32m     25\u001b[0m \u001b[0;34m\u001b[0m\u001b[0m\n",
      "\u001b[0;32m~/library-DICOM/library_dicom/dicom_processor/model/csv_reader/MaskBuilder.py\u001b[0m in \u001b[0;36mbuild_mask\u001b[0;34m(self)\u001b[0m\n\u001b[1;32m     40\u001b[0m         \u001b[0;32mfor\u001b[0m \u001b[0mnumber_roi\u001b[0m \u001b[0;32min\u001b[0m \u001b[0mrange\u001b[0m\u001b[0;34m(\u001b[0m\u001b[0;36m1\u001b[0m \u001b[0;34m,\u001b[0m  \u001b[0mself\u001b[0m\u001b[0;34m.\u001b[0m\u001b[0mnumber_of_rois\u001b[0m \u001b[0;34m+\u001b[0m \u001b[0;36m1\u001b[0m\u001b[0;34m)\u001b[0m\u001b[0;34m:\u001b[0m\u001b[0;34m\u001b[0m\u001b[0;34m\u001b[0m\u001b[0m\n\u001b[1;32m     41\u001b[0m             \u001b[0;31m#print(self.details_rois[number_roi])\u001b[0m\u001b[0;34m\u001b[0m\u001b[0;34m\u001b[0m\u001b[0;34m\u001b[0m\u001b[0m\n\u001b[0;32m---> 42\u001b[0;31m             \u001b[0mroi_object\u001b[0m \u001b[0;34m=\u001b[0m \u001b[0mRoiFactory\u001b[0m\u001b[0;34m(\u001b[0m\u001b[0mself\u001b[0m\u001b[0;34m.\u001b[0m\u001b[0mdetails_rois\u001b[0m\u001b[0;34m[\u001b[0m\u001b[0mnumber_roi\u001b[0m\u001b[0;34m]\u001b[0m\u001b[0;34m,\u001b[0m \u001b[0;34m(\u001b[0m\u001b[0mself\u001b[0m\u001b[0;34m.\u001b[0m\u001b[0mmatrix_size\u001b[0m\u001b[0;34m[\u001b[0m\u001b[0;36m0\u001b[0m\u001b[0;34m]\u001b[0m\u001b[0;34m,\u001b[0m \u001b[0mself\u001b[0m\u001b[0;34m.\u001b[0m\u001b[0mmatrix_size\u001b[0m\u001b[0;34m[\u001b[0m\u001b[0;36m1\u001b[0m\u001b[0;34m]\u001b[0m\u001b[0;34m,\u001b[0m \u001b[0mself\u001b[0m\u001b[0;34m.\u001b[0m\u001b[0mmatrix_size\u001b[0m\u001b[0;34m[\u001b[0m\u001b[0;36m2\u001b[0m\u001b[0;34m]\u001b[0m\u001b[0;34m)\u001b[0m \u001b[0;34m,\u001b[0m \u001b[0mnumber_roi\u001b[0m\u001b[0;34m)\u001b[0m\u001b[0;34m.\u001b[0m\u001b[0mread_roi\u001b[0m\u001b[0;34m(\u001b[0m\u001b[0;34m)\u001b[0m \u001b[0;31m#.list_points\u001b[0m\u001b[0;34m\u001b[0m\u001b[0;34m\u001b[0m\u001b[0m\n\u001b[0m\u001b[1;32m     43\u001b[0m             \u001b[0;31m#print(type(liste))\u001b[0m\u001b[0;34m\u001b[0m\u001b[0;34m\u001b[0m\u001b[0;34m\u001b[0m\u001b[0m\n\u001b[1;32m     44\u001b[0m             \u001b[0mlist_points\u001b[0m \u001b[0;34m=\u001b[0m \u001b[0mroi_object\u001b[0m\u001b[0;34m.\u001b[0m\u001b[0mlist_points\u001b[0m\u001b[0;34m\u001b[0m\u001b[0;34m\u001b[0m\u001b[0m\n",
      "\u001b[0;32m~/library-DICOM/library_dicom/dicom_processor/model/csv_reader/RoiFactory.py\u001b[0m in \u001b[0;36mread_roi\u001b[0;34m(self)\u001b[0m\n\u001b[1;32m     40\u001b[0m \u001b[0;34m\u001b[0m\u001b[0m\n\u001b[1;32m     41\u001b[0m         \u001b[0;32melif\u001b[0m \u001b[0;34m(\u001b[0m\u001b[0mself\u001b[0m\u001b[0;34m.\u001b[0m\u001b[0mdetails\u001b[0m\u001b[0;34m[\u001b[0m\u001b[0;34m'type_number'\u001b[0m\u001b[0;34m]\u001b[0m \u001b[0;34m==\u001b[0m \u001b[0;36m11\u001b[0m\u001b[0;34m)\u001b[0m\u001b[0;34m:\u001b[0m\u001b[0;34m\u001b[0m\u001b[0;34m\u001b[0m\u001b[0m\n\u001b[0;32m---> 42\u001b[0;31m             \u001b[0;32mreturn\u001b[0m \u001b[0mRoiElipse\u001b[0m\u001b[0;34m(\u001b[0m \u001b[0;36m1\u001b[0m\u001b[0;34m,\u001b[0m \u001b[0mfirst_slice\u001b[0m\u001b[0;34m,\u001b[0m \u001b[0mlast_slice\u001b[0m\u001b[0;34m,\u001b[0m \u001b[0mroi_number\u001b[0m\u001b[0;34m,\u001b[0m \u001b[0mtype_number\u001b[0m\u001b[0;34m,\u001b[0m \u001b[0mpoint_list\u001b[0m\u001b[0;34m,\u001b[0m \u001b[0mvolume_dimension\u001b[0m \u001b[0;34m)\u001b[0m\u001b[0;34m\u001b[0m\u001b[0;34m\u001b[0m\u001b[0m\n\u001b[0m\u001b[1;32m     43\u001b[0m \u001b[0;34m\u001b[0m\u001b[0m\n\u001b[1;32m     44\u001b[0m         \u001b[0;32melif\u001b[0m \u001b[0;34m(\u001b[0m\u001b[0mself\u001b[0m\u001b[0;34m.\u001b[0m\u001b[0mdetails\u001b[0m\u001b[0;34m[\u001b[0m\u001b[0;34m'type_number'\u001b[0m\u001b[0;34m]\u001b[0m \u001b[0;34m==\u001b[0m \u001b[0;36m2\u001b[0m\u001b[0;34m)\u001b[0m\u001b[0;34m:\u001b[0m\u001b[0;34m\u001b[0m\u001b[0;34m\u001b[0m\u001b[0m\n",
      "\u001b[0;32m~/library-DICOM/library_dicom/dicom_processor/model/csv_reader/RoiElipse.py\u001b[0m in \u001b[0;36m__init__\u001b[0;34m(self, axis, first_slice, last_slice, roi_number, type_number, list_point, volume_dimension)\u001b[0m\n\u001b[1;32m     13\u001b[0m     \u001b[0;32mdef\u001b[0m \u001b[0m__init__\u001b[0m\u001b[0;34m(\u001b[0m\u001b[0mself\u001b[0m\u001b[0;34m,\u001b[0m \u001b[0maxis\u001b[0m\u001b[0;34m,\u001b[0m \u001b[0mfirst_slice\u001b[0m\u001b[0;34m,\u001b[0m \u001b[0mlast_slice\u001b[0m\u001b[0;34m,\u001b[0m \u001b[0mroi_number\u001b[0m\u001b[0;34m,\u001b[0m \u001b[0mtype_number\u001b[0m\u001b[0;34m,\u001b[0m \u001b[0mlist_point\u001b[0m\u001b[0;34m,\u001b[0m \u001b[0mvolume_dimension\u001b[0m\u001b[0;34m)\u001b[0m\u001b[0;34m:\u001b[0m\u001b[0;34m\u001b[0m\u001b[0;34m\u001b[0m\u001b[0m\n\u001b[1;32m     14\u001b[0m         \u001b[0msuper\u001b[0m\u001b[0;34m(\u001b[0m\u001b[0;34m)\u001b[0m\u001b[0;34m.\u001b[0m\u001b[0m__init__\u001b[0m\u001b[0;34m(\u001b[0m\u001b[0maxis\u001b[0m\u001b[0;34m,\u001b[0m \u001b[0mfirst_slice\u001b[0m\u001b[0;34m,\u001b[0m \u001b[0mlast_slice\u001b[0m\u001b[0;34m,\u001b[0m \u001b[0mroi_number\u001b[0m\u001b[0;34m,\u001b[0m \u001b[0mtype_number\u001b[0m\u001b[0;34m,\u001b[0m \u001b[0mlist_point\u001b[0m\u001b[0;34m,\u001b[0m \u001b[0mvolume_dimension\u001b[0m\u001b[0;34m)\u001b[0m\u001b[0;34m\u001b[0m\u001b[0;34m\u001b[0m\u001b[0m\n\u001b[0;32m---> 15\u001b[0;31m         \u001b[0mself\u001b[0m\u001b[0;34m.\u001b[0m\u001b[0mlist_points\u001b[0m \u001b[0;34m=\u001b[0m \u001b[0mself\u001b[0m\u001b[0;34m.\u001b[0m\u001b[0mcalculateMaskPoint\u001b[0m\u001b[0;34m(\u001b[0m\u001b[0;34m)\u001b[0m\u001b[0;34m\u001b[0m\u001b[0;34m\u001b[0m\u001b[0m\n\u001b[0m\u001b[1;32m     16\u001b[0m \u001b[0;34m\u001b[0m\u001b[0m\n\u001b[1;32m     17\u001b[0m \u001b[0;34m\u001b[0m\u001b[0m\n",
      "\u001b[0;32m~/library-DICOM/library_dicom/dicom_processor/model/csv_reader/RoiElipse.py\u001b[0m in \u001b[0;36mcalculateMaskPoint\u001b[0;34m(self)\u001b[0m\n\u001b[1;32m     33\u001b[0m             \u001b[0mdiff0\u001b[0m \u001b[0;34m=\u001b[0m \u001b[0mabs\u001b[0m\u001b[0;34m(\u001b[0m\u001b[0mmiddle\u001b[0m \u001b[0;34m-\u001b[0m \u001b[0mnumber_slice\u001b[0m\u001b[0;34m)\u001b[0m\u001b[0;34m\u001b[0m\u001b[0;34m\u001b[0m\u001b[0m\n\u001b[1;32m     34\u001b[0m             \u001b[0mfactor\u001b[0m \u001b[0;34m=\u001b[0m \u001b[0mpow\u001b[0m\u001b[0;34m(\u001b[0m\u001b[0mrad1\u001b[0m\u001b[0;34m,\u001b[0m\u001b[0;36m2\u001b[0m\u001b[0;34m)\u001b[0m \u001b[0;34m-\u001b[0m \u001b[0mpow\u001b[0m\u001b[0;34m(\u001b[0m\u001b[0mdiff0\u001b[0m\u001b[0;34m,\u001b[0m\u001b[0;36m2\u001b[0m\u001b[0;34m)\u001b[0m\u001b[0;34m\u001b[0m\u001b[0;34m\u001b[0m\u001b[0m\n\u001b[0;32m---> 35\u001b[0;31m             \u001b[0mfactor\u001b[0m \u001b[0;34m=\u001b[0m \u001b[0mmath\u001b[0m\u001b[0;34m.\u001b[0m\u001b[0msqrt\u001b[0m\u001b[0;34m(\u001b[0m\u001b[0mfactor\u001b[0m\u001b[0;34m)\u001b[0m \u001b[0;34m/\u001b[0m \u001b[0mrad1\u001b[0m\u001b[0;34m\u001b[0m\u001b[0;34m\u001b[0m\u001b[0m\n\u001b[0m\u001b[1;32m     36\u001b[0m             \u001b[0;31m#print((factor))\u001b[0m\u001b[0;34m\u001b[0m\u001b[0;34m\u001b[0m\u001b[0;34m\u001b[0m\u001b[0m\n\u001b[1;32m     37\u001b[0m \u001b[0;34m\u001b[0m\u001b[0m\n",
      "\u001b[0;31mZeroDivisionError\u001b[0m: float division by zero"
     ]
    }
   ],
   "source": [
    "json_liste = []\n",
    "error_philips = []\n",
    "for philips in philips_serie : \n",
    "    print(philips)\n",
    "    subliste = []\n",
    "    try : \n",
    "        if philips[1] == 'PT' : \n",
    "            serie_pt_objet = SeriesPT(philips[0])\n",
    "            nifti_array = serie_pt_objet.get_numpy_array()\n",
    "            #study_uid = serie_pt_objet.get_series_details()['study']['StudyInstanceUID']\n",
    "            size_matrix = serie_pt_objet.get_size_matrix()\n",
    "            mask_objet = MaskBuilder(os.path.join(csv_directory, philips[4]), size_matrix)\n",
    "            mask_4D = mask_objet.mask_array\n",
    "            subliste.append(philips)\n",
    "            subliste.append(mask_objet.calcul_suv(nifti_array))\n",
    "            subliste.append(mask_objet.ecart_suv_max(nifti_array))\n",
    "            print(mask_objet.calcul_suv(nifti_array))\n",
    "            print(mask_objet.ecart_suv_max(nifti_array))\n",
    "            json_liste.append(subliste)\n",
    "\n",
    "        else : \n",
    "            serie_pt_objet = SeriesPT(philips[2])\n",
    "            nifti_array = serie_pt_objet.get_numpy_array()\n",
    "            #study_uid = serie_pt_objet.get_series_details()['study']['StudyInstanceUID']\n",
    "            size_matrix = serie_pt_objet.get_size_matrix()\n",
    "            mask_objet = MaskBuilder(os.path.join(csv_directory, philips[4]), size_matrix)\n",
    "            mask_4D = mask_objet.mask_array\n",
    "            subliste.append(philips)\n",
    "            subliste.append(mask_objet.calcul_suv(nifti_array))\n",
    "            subliste.append(mask_objet.ecart_suv_max(nifti_array))\n",
    "            print(mask_objet.calcul_suv(nifti_array))\n",
    "            print(mask_objet.ecart_suv_max(nifti_array))\n",
    "            json_liste.append(subliste)\n",
    "\n",
    "    except Exception as err : \n",
    "        print(serie)\n",
    "        print(err)\n",
    "        error_philips.append(philips)\n",
    "\n",
    "\n",
    "print(len(json_liste))"
   ]
  },
  {
   "cell_type": "code",
   "execution_count": null,
   "metadata": {},
   "outputs": [],
   "source": [
    "['/media/salim/DD 2To/AHL2011_Validated_DICOMS/13011101431017/1.2.124.113532.172.16.25.2.20130717.529.1327224/1.2.840.113704.1.111.7840.1374146611.11/1.2.840.113704.1.111.7840.1374146611.11', 'CT', '/media/salim/DD 2To/AHL2011_Validated_DICOMS/13011101431017/1.2.124.113532.172.16.25.2.20130717.529.1327224/1.3.46.670589.28.2.12.30.26421.36112.2.2640.0.1374191278/1.3.46.670589.28.2.12.30.26421.36112.2.2640.0.1374191278', 'PT', 'ber_gr_jul 18_2013.csv']\n",
    "20130718121208\n",
    "{1: {'SUV_max': 8.69, 'SUV_mean': 5.45, 'SD': 1.45}, 2: {'SUV_max': 3.36, 'SUV_mean': 2.01, 'SD': 0.64}, 3: {'SUV_max': 2.38, 'SUV_mean': 1.51, 'SD': 0.34}, 4: {'SUV_max': 4.18, 'SUV_mean': 2.28, 'SD': 0.49}, 5: {'SUV_max': 5.63, 'SUV_mean': 3.39, 'SD': 0.81}, 6: {'SUV_max': 4.45, 'SUV_mean': 2.73, 'SD': 0.74}, 7: {'SUV_max': 3.15, 'SUV_mean': 1.82, 'SD': 0.41}, 8: {'SUV_max': 5.21, 'SUV_mean': 2.93, 'SD': 0.6}, 9: {'SUV_max': 5.21, 'SUV_mean': 2.85, 'SD': 0.55}, 10: {'SUV_max': 3.3, 'SUV_mean': 1.84, 'SD': 0.44}, 11: {'SUV_max': 2.7, 'SUV_mean': 1.41, 'SD': 0.28}, 12: {'SUV_max': 2.14, 'SUV_mean': 1.24, 'SD': 0.35}, 13: {'SUV_max': 8.33, 'SUV_mean': 5.73, 'SD': 0.95}, 14: {'SUV_max': 7.51, 'SUV_mean': 5.26, 'SD': 1.05}, 15: {'SUV_max': 2.73, 'SUV_mean': 1.64, 'SD': 0.4}, 16: {'SUV_max': 2.48, 'SUV_mean': 1.56, 'SD': 0.34}, 17: {'SUV_max': 2.46, 'SUV_mean': 1.7, 'SD': 0.28}, 18: {'SUV_max': 2.65, 'SUV_mean': 1.93, 'SD': 0.36}}\n",
    "[1, 'POLYGON', 1.0700000000000003, 2, 'POLYGON', 0.41000000000000014, 3, 'POLYGON', 0.29000000000000004, 4, 'POLYGON', 0.5100000000000007, 5, 'POLYGON', 0.7000000000000002, 6, 'POLYGON', 0.5499999999999998, 7, 'POLYGON', 0.3900000000000001, 8, 'POLYGON', 0.6399999999999997, 9, 'POLYGON', 0.6399999999999997, 10, 'POLYGON', 0.40000000000000036, 11, 'POLYGON', 0.33999999999999986, 13, 'POLYGON', 1.0199999999999996, 14, 'POLYGON', 0.9199999999999999, 15, 'POLYGON', 0.33000000000000007, 17, 'POLYGON', 0.31000000000000005, 18, 'POLYGON', 0.33000000000000007]\n",
    "\n",
    "\n"
   ]
  },
  {
   "cell_type": "code",
   "execution_count": null,
   "metadata": {},
   "outputs": [],
   "source": [
    "['/media/salim/DD 2To/AHL2011_Validated_DICOMS/13011101431011/1.2.124.113532.172.16.25.2.20120716.81922.1126423/1.2.840.113704.1.111.7108.1342703962.11/imagys_AHL2011_13011101431011_4f47b5d8-c16e-4f32-842c-c9c3d36b7124', 'CT', '/media/salim/DD 2To/AHL2011_Validated_DICOMS/13011101431011/1.2.124.113532.172.16.25.2.20120716.81922.1126423/1.3.46.670589.28.2.12.21.6046.64205.2.1680.0.1342705432/1.3.46.670589.28.2.12.21.6046.64205.2.1680.0.1342705432', 'PT', 'aul_fl_jul 19_2012.csv']\n",
    "20120719141344\n",
    "{1: {'SUV_max': 8.77, 'SUV_mean': 5.34, 'SD': 1.23}, 2: {'SUV_max': 11.7, 'SUV_mean': 6.67, 'SD': 1.55}, 3: {'SUV_max': 8.83, 'SUV_mean': 5.13, 'SD': 1.25}, 4: {'SUV_max': 11.02, 'SUV_mean': 6.43, 'SD': 1.49}, 5: {'SUV_max': 15.04, 'SUV_mean': 8.95, 'SD': 2.27}, 6: {'SUV_max': 13.89, 'SUV_mean': 8.07, 'SD': 2.3}, 7: {'SUV_max': 12.08, 'SUV_mean': 7.26, 'SD': 1.88}, 8: {'SUV_max': 7.35, 'SUV_mean': 4.37, 'SD': 1.09}, 9: {'SUV_max': 6.29, 'SUV_mean': 3.86, 'SD': 0.99}, 10: {'SUV_max': 8.32, 'SUV_mean': 5.19, 'SD': 1.39}, 11: {'SUV_max': 11.72, 'SUV_mean': 6.58, 'SD': 1.46}, 12: {'SUV_max': 13.35, 'SUV_mean': 7.38, 'SD': 1.69}, 13: {'SUV_max': 12.01, 'SUV_mean': 6.71, 'SD': 1.46}, 14: {'SUV_max': 7.63, 'SUV_mean': 4.66, 'SD': 1.2}, 15: {'SUV_max': 6.85, 'SUV_mean': 4.02, 'SD': 0.99}, 16: {'SUV_max': 7.74, 'SUV_mean': 4.19, 'SD': 0.97}, 17: {'SUV_max': 7.97, 'SUV_mean': 4.51, 'SD': 1.02}, 18: {'SUV_max': 5.06, 'SUV_mean': 3.03, 'SD': 0.8}, 19: {'SUV_max': 6.58, 'SUV_mean': 4.04, 'SD': 1.05}, 20: {'SUV_max': 3.91, 'SUV_mean': 2.57, 'SD': 0.63}, 21: {'SUV_max': 16.96, 'SUV_mean': 9.12, 'SD': 1.67}, 22: {'SUV_max': 12.9, 'SUV_mean': 6.81, 'SD': 1.35}, 23: {'SUV_max': 4.7, 'SUV_mean': 2.82, 'SD': 0.81}, 24: {'SUV_max': 7.77, 'SUV_mean': 4.95, 'SD': 1.38}, 25: {'SUV_max': 11.02, 'SUV_mean': 6.11, 'SD': 1.27}, 26: {'SUV_max': 3.68, 'SUV_mean': 2.17, 'SD': 0.56}, 27: {'SUV_max': 6.23, 'SUV_mean': 3.7, 'SD': 0.91}, 28: {'SUV_max': 2.93, 'SUV_mean': 2.23, 'SD': 0.34}, 29: {'SUV_max': 4.93, 'SUV_mean': 3.56, 'SD': 0.66}, 30: {'SUV_max': 5.02, 'SUV_mean': 3.42, 'SD': 0.68}, 31: {'SUV_max': 5.01, 'SUV_mean': 4.18, 'SD': 0.42}, 32: {'SUV_max': 4.87, 'SUV_mean': 3.56, 'SD': 0.63}, 33: {'SUV_max': 4.77, 'SUV_mean': 3.33, 'SD': 0.69}, 34: {'SUV_max': 4.95, 'SUV_mean': 3.52, 'SD': 0.59}, 35: {'SUV_max': 4.69, 'SUV_mean': 3.74, 'SD': 0.5}, 36: {'SUV_max': 4.54, 'SUV_mean': 3.59, 'SD': 0.66}, 37: {'SUV_max': 4.81, 'SUV_mean': 4.04, 'SD': 0.36}, 38: {'SUV_max': 4.93, 'SUV_mean': 3.12, 'SD': 0.72}, 39: {'SUV_max': 5.12, 'SUV_mean': 3.13, 'SD': 0.68}, 40: {'SUV_max': 4.72, 'SUV_mean': 3.33, 'SD': 0.69}}\n",
    "[1, 'POLYGON', 0.7000000000000011, 2, 'POLYGON', 0.9400000000000013, 3, 'POLYGON', 0.6999999999999993, 4, 'POLYGON', 0.8800000000000008, 5, 'POLYGON', 1.1999999999999993, 6, 'POLYGON', 1.1099999999999994, 7, 'POLYGON', 0.9599999999999991, 8, 'POLYGON', 0.5900000000000007, 9, 'POLYGON', 0.5099999999999998, 10, 'POLYGON', 0.6699999999999999, 11, 'POLYGON', 0.9299999999999997, 12, 'POLYGON', 1.0600000000000005, 13, 'POLYGON', 0.41999999999999993, 14, 'POLYGON', 0.6100000000000003, 15, 'POLYGON', 0.5500000000000007, 16, 'POLYGON', 0.6099999999999994, 17, 'POLYGON', 0.6399999999999997, 18, 'POLYGON', 0.40000000000000036, 19, 'POLYGON', 0.5199999999999996, 20, 'POLYGON', 0.3099999999999996, 21, 'POLYGON', 1.3499999999999979, 22, 'POLYGON', 1.0299999999999994, 23, 'POLYGON', 0.3799999999999999, 24, 'POLYGON', 0.620000000000001, 25, 'POLYGON', 0.8800000000000008, 26, 'POLYGON', 0.29000000000000004, 27, 'POLYGON', 0.4899999999999993, 28, 'POLYGON', 0.22999999999999998, 29, 'POLYGON', 0.39000000000000057, 30, 'POLYGON', 0.40000000000000036, 31, 'POLYGON', 0.40000000000000036, 32, 'POLYGON', 0.3899999999999997, 33, 'POLYGON', 0.3800000000000008, 34, 'POLYGON', 0.3899999999999997, 35, 'POLYGON', 0.3699999999999992, 36, 'POLYGON', 0.3600000000000003, 37, 'POLYGON', 0.3800000000000008, 38, 'POLYGON', 0.40000000000000036, 39, 'POLYGON', 0.41000000000000014, 40, 'POLYGON', 0.3700000000000001]"
   ]
  },
  {
   "cell_type": "code",
   "execution_count": 7,
   "metadata": {},
   "outputs": [
    {
     "name": "stdout",
     "output_type": "stream",
     "text": "{'series': {'Manufacturer': 'Philips Medical Systems', 'Modality': 'PT', 'SeriesDate': '20120719', 'SeriesTime': '152145', 'SeriesDescription': '[WB_CTAC] Body', 'SeriesInstanceUID': '1.3.46.670589.28.2.12.21.6046.64205.2.1680.0.1342705432', 'SeriesNumber': \"54320\", 'AcquisitionDate': '20120719', 'AcquisitionTime': '153105.007', 'NumberOfSlices': 213, 'ImageInAcquisition': 'Undefined', 'Units': 'BQML', 'DecayCorrection': 'START', 'ImageType': ['ORIGINAL', 'PRIMARY'], 'PixelSpacing': [\"4.0\", \"4.0\"]}, 'study': {'AccessionNumber': 'PET0', 'InstitutionName': '', 'StudyDate': '20120719', 'StudyTime': '152142', 'StudyDescription': 'PET0', 'StudyID': '15659', 'StudyInstanceUID': '1.2.124.113532.172.16.25.2.20120716.81922.1126423', 'PatientWeight': \"63.0\", 'PatientHeight': 'Undefined'}, 'patient': {'PatientName': 'AUL^FL', 'PatientID': '13011101431011', 'PatientBirthDate': '19000101', 'PatientSex': 'F'}, 'path': '/media/salim/DD 2To/AHL2011_Validated_DICOMS/13011101431011/1.2.124.113532.172.16.25.2.20120716.81922.1126423/1.3.46.670589.28.2.12.21.6046.64205.2.1680.0.1342705432/1.3.46.670589.28.2.12.21.6046.64205.2.1680.0.1342705432', 'files': 213, 'instance': {'PixelSpacing': [\"4.0\", \"4.0\"], 'ImagePosition': [\"-286.585938\", \"-201.585938\", \"-667.200012\"], 'ImageOrientation': [\"1.0\", \"0.0\", \"0.0\", \"0.0\", \"1.0\", \"0.0\"], 'RescaleSlope': \"7.418176\", 'RescaleIntercept': \"0.0\", 'SOPInstanceUID': '1.3.46.670589.28.2.15.21.6046.64205.3.1508.75.1342705431'}, 'radiopharmaceutical': {'RadionuclideHalfLife': \"6586.199707\", 'TotalDose': \"203000000.0\", 'RadiopharmaceuticalStartDateTime': '20120719141344', 'RadiopharmaceuticalStartTime': '141300'}, 'pet_correction': ['DECY', 'RADL', 'ATTN', 'SCAT', 'DTIM', 'RAN', 'NORM'], 'philips_tags': {'PhilipsSUVFactor': 'Undefined', 'PhilipsBqMlFactor': 'Undefined'}}\n2012-07-19 15:21:45\n"
    },
    {
     "data": {
      "text/plain": "array([[[0., 0., 0., ..., 0., 0., 0.],\n        [0., 0., 0., ..., 0., 0., 0.],\n        [0., 0., 0., ..., 0., 0., 0.],\n        ...,\n        [0., 0., 0., ..., 0., 0., 0.],\n        [0., 0., 0., ..., 0., 0., 0.],\n        [0., 0., 0., ..., 0., 0., 0.]],\n\n       [[0., 0., 0., ..., 0., 0., 0.],\n        [0., 0., 0., ..., 0., 0., 0.],\n        [0., 0., 0., ..., 0., 0., 0.],\n        ...,\n        [0., 0., 0., ..., 0., 0., 0.],\n        [0., 0., 0., ..., 0., 0., 0.],\n        [0., 0., 0., ..., 0., 0., 0.]],\n\n       [[0., 0., 0., ..., 0., 0., 0.],\n        [0., 0., 0., ..., 0., 0., 0.],\n        [0., 0., 0., ..., 0., 0., 0.],\n        ...,\n        [0., 0., 0., ..., 0., 0., 0.],\n        [0., 0., 0., ..., 0., 0., 0.],\n        [0., 0., 0., ..., 0., 0., 0.]],\n\n       ...,\n\n       [[0., 0., 0., ..., 0., 0., 0.],\n        [0., 0., 0., ..., 0., 0., 0.],\n        [0., 0., 0., ..., 0., 0., 0.],\n        ...,\n        [0., 0., 0., ..., 0., 0., 0.],\n        [0., 0., 0., ..., 0., 0., 0.],\n        [0., 0., 0., ..., 0., 0., 0.]],\n\n       [[0., 0., 0., ..., 0., 0., 0.],\n        [0., 0., 0., ..., 0., 0., 0.],\n        [0., 0., 0., ..., 0., 0., 0.],\n        ...,\n        [0., 0., 0., ..., 0., 0., 0.],\n        [0., 0., 0., ..., 0., 0., 0.],\n        [0., 0., 0., ..., 0., 0., 0.]],\n\n       [[0., 0., 0., ..., 0., 0., 0.],\n        [0., 0., 0., ..., 0., 0., 0.],\n        [0., 0., 0., ..., 0., 0., 0.],\n        ...,\n        [0., 0., 0., ..., 0., 0., 0.],\n        [0., 0., 0., ..., 0., 0., 0.],\n        [0., 0., 0., ..., 0., 0., 0.]]])"
     },
     "execution_count": 7,
     "metadata": {},
     "output_type": "execute_result"
    }
   ],
   "source": [
    "serie_pt_objet = SeriesPT('/media/salim/DD 2To/AHL2011_Validated_DICOMS/13011101431011/1.2.124.113532.172.16.25.2.20120716.81922.1126423/1.3.46.670589.28.2.12.21.6046.64205.2.1680.0.1342705432/1.3.46.670589.28.2.12.21.6046.64205.2.1680.0.1342705432')\n",
    "print(serie_pt_objet.get_series_details())\n",
    "serie_pt_objet.get_numpy_array()"
   ]
  },
  {
   "cell_type": "code",
   "execution_count": 9,
   "metadata": {},
   "outputs": [
    {
     "name": "stdout",
     "output_type": "stream",
     "text": "{'series': {'Manufacturer': 'Philips Medical Systems', 'Modality': 'PT', 'SeriesDate': '20120719', 'SeriesTime': '152145', 'SeriesDescription': '[WB_CTAC] Body', 'SeriesInstanceUID': '1.3.46.670589.28.2.12.21.6046.64205.2.1680.0.1342705432', 'SeriesNumber': \"54320\", 'AcquisitionDate': '20120719', 'AcquisitionTime': '153105.007', 'NumberOfSlices': 213, 'ImageInAcquisition': 'Undefined', 'Units': 'BQML', 'DecayCorrection': 'START', 'ImageType': ['ORIGINAL', 'PRIMARY'], 'PixelSpacing': [\"4.0\", \"4.0\"]}, 'study': {'AccessionNumber': 'PET0', 'InstitutionName': '', 'StudyDate': '20120719', 'StudyTime': '152142', 'StudyDescription': 'PET0', 'StudyID': '15659', 'StudyInstanceUID': '1.2.124.113532.172.16.25.2.20120716.81922.1126423', 'PatientWeight': \"63.0\", 'PatientHeight': 'Undefined'}, 'patient': {'PatientName': 'AUL^FL', 'PatientID': '13011101431011', 'PatientBirthDate': '19000101', 'PatientSex': 'F'}, 'path': '/media/salim/DD 2To/AHL2011_Validated_DICOMS/13011101431011/1.2.124.113532.172.16.25.2.20120716.81922.1126423/1.3.46.670589.28.2.12.21.6046.64205.2.1680.0.1342705432/1.3.46.670589.28.2.12.21.6046.64205.2.1680.0.1342705432', 'files': 213, 'instance': {'PixelSpacing': [\"4.0\", \"4.0\"], 'ImagePosition': [\"-286.585938\", \"-201.585938\", \"-667.200012\"], 'ImageOrientation': [\"1.0\", \"0.0\", \"0.0\", \"0.0\", \"1.0\", \"0.0\"], 'RescaleSlope': \"7.418176\", 'RescaleIntercept': \"0.0\", 'SOPInstanceUID': '1.3.46.670589.28.2.15.21.6046.64205.3.1508.75.1342705431'}, 'radiopharmaceutical': {'RadionuclideHalfLife': \"6586.199707\", 'TotalDose': \"203000000.0\", 'RadiopharmaceuticalStartDateTime': '20120719141344', 'RadiopharmaceuticalStartTime': '141300'}, 'pet_correction': ['DECY', 'RADL', 'ATTN', 'SCAT', 'DTIM', 'RAN', 'NORM'], 'philips_tags': {'PhilipsSUVFactor': 'Undefined', 'PhilipsBqMlFactor': 'Undefined'}}\n2012-07-19 15:21:45\n"
    },
    {
     "data": {
      "text/plain": "[1,\n 'POLYGON',\n 0.7000000000000011,\n 2,\n 'POLYGON',\n 0.9400000000000013,\n 3,\n 'POLYGON',\n 0.6999999999999993,\n 4,\n 'POLYGON',\n 0.8800000000000008,\n 5,\n 'POLYGON',\n 1.1999999999999993,\n 6,\n 'POLYGON',\n 1.1099999999999994,\n 7,\n 'POLYGON',\n 0.9599999999999991,\n 8,\n 'POLYGON',\n 0.5900000000000007,\n 9,\n 'POLYGON',\n 0.5099999999999998,\n 10,\n 'POLYGON',\n 0.6699999999999999,\n 11,\n 'POLYGON',\n 0.9299999999999997,\n 12,\n 'POLYGON',\n 1.0600000000000005,\n 13,\n 'POLYGON',\n 0.41999999999999993,\n 14,\n 'POLYGON',\n 0.6100000000000003,\n 15,\n 'POLYGON',\n 0.5500000000000007,\n 16,\n 'POLYGON',\n 0.6099999999999994,\n 17,\n 'POLYGON',\n 0.6399999999999997,\n 18,\n 'POLYGON',\n 0.40000000000000036,\n 19,\n 'POLYGON',\n 0.5199999999999996,\n 20,\n 'POLYGON',\n 0.3099999999999996,\n 21,\n 'POLYGON',\n 1.3499999999999979,\n 22,\n 'POLYGON',\n 1.0299999999999994,\n 23,\n 'POLYGON',\n 0.3799999999999999,\n 24,\n 'POLYGON',\n 0.620000000000001,\n 25,\n 'POLYGON',\n 0.8800000000000008,\n 26,\n 'POLYGON',\n 0.29000000000000004,\n 27,\n 'POLYGON',\n 0.4899999999999993,\n 28,\n 'POLYGON',\n 0.22999999999999998,\n 29,\n 'POLYGON',\n 0.39000000000000057,\n 30,\n 'POLYGON',\n 0.40000000000000036,\n 31,\n 'POLYGON',\n 0.40000000000000036,\n 32,\n 'POLYGON',\n 0.3899999999999997,\n 33,\n 'POLYGON',\n 0.3800000000000008,\n 34,\n 'POLYGON',\n 0.3899999999999997,\n 35,\n 'POLYGON',\n 0.3699999999999992,\n 36,\n 'POLYGON',\n 0.3600000000000003,\n 37,\n 'POLYGON',\n 0.3800000000000008,\n 38,\n 'POLYGON',\n 0.40000000000000036,\n 39,\n 'POLYGON',\n 0.41000000000000014,\n 40,\n 'POLYGON',\n 0.3700000000000001]"
     },
     "execution_count": 9,
     "metadata": {},
     "output_type": "execute_result"
    }
   ],
   "source": [
    "serie_pt_objet = SeriesPT('/media/salim/DD 2To/AHL2011_Validated_DICOMS/13011101431011/1.2.124.113532.172.16.25.2.20120716.81922.1126423/1.3.46.670589.28.2.12.21.6046.64205.2.1680.0.1342705432/1.3.46.670589.28.2.12.21.6046.64205.2.1680.0.1342705432')\n",
    "print(serie_pt_objet.get_series_details())\n",
    "nifti_array = serie_pt_objet.get_numpy_array()\n",
    "size_matrix = serie_pt_objet.get_size_matrix()\n",
    "mask_objet = MaskBuilder(os.path.join(csv_directory, 'aul_fl_jul 19_2012.csv'), size_matrix)\n",
    "mask_4D = mask_objet.mask_array\n",
    "\n",
    "mask_objet.calcul_suv(nifti_array)\n",
    "\n",
    "mask_objet.ecart_suv_max(nifti_array)"
   ]
  },
  {
   "cell_type": "code",
   "execution_count": null,
   "metadata": {},
   "outputs": [],
   "source": [
    "#regarder les erreurs de max autres que philips \n",
    "#regarder les erreurs philips \n",
    "#problème de datetime dans certaines séries : \n",
    "        #Error generating result array time data '' does not match format '%Y%m%d%H%M%S'"
   ]
  },
  {
   "cell_type": "code",
   "execution_count": null,
   "metadata": {},
   "outputs": [],
   "source": [
    "#philips -> MIP MASK "
   ]
  }
 ],
 "metadata": {
  "language_info": {
   "name": "python",
   "codemirror_mode": {
    "name": "ipython",
    "version": 3
   },
   "version": "3.8.2-final"
  },
  "orig_nbformat": 2,
  "file_extension": ".py",
  "mimetype": "text/x-python",
  "name": "python",
  "npconvert_exporter": "python",
  "pygments_lexer": "ipython3",
  "version": 3,
  "kernelspec": {
   "name": "python3",
   "display_name": "Python 3"
  }
 },
 "nbformat": 4,
 "nbformat_minor": 2
}