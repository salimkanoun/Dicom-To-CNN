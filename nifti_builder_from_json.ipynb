{
 "nbformat": 4,
 "nbformat_minor": 2,
 "metadata": {
  "language_info": {
   "name": "python",
   "codemirror_mode": {
    "name": "ipython",
    "version": 3
   },
   "version": "3.8.2-final"
  },
  "orig_nbformat": 2,
  "file_extension": ".py",
  "mimetype": "text/x-python",
  "name": "python",
  "npconvert_exporter": "python",
  "pygments_lexer": "ipython3",
  "version": 3,
  "kernelspec": {
   "name": "python38264bit741c38d3bcec48dc835c8ad5f1161b3f",
   "display_name": "Python 3.8.2 64-bit"
  }
 },
 "cells": [
  {
   "cell_type": "code",
   "execution_count": 18,
   "metadata": {},
   "outputs": [],
   "source": [
    "import json\n",
    "import os\n",
    "from library_dicom.dicom_processor.model.Series import Series \n",
    "from library_dicom.dicom_processor.model.csv_reader.MaskBuilder import MaskBuilder"
   ]
  },
  {
   "cell_type": "code",
   "execution_count": 19,
   "metadata": {},
   "outputs": [],
   "source": [
    "json_path = '/media/salim/DD 2To/AHL2011_NIFTI/AHL2011_list_path_csv.json'"
   ]
  },
  {
   "cell_type": "code",
   "execution_count": 20,
   "metadata": {},
   "outputs": [],
   "source": [
    "data = []\n",
    "with open(json_path) as json_file : \n",
    "    reader = json.load(json_file)\n",
    "    for info in reader :\n",
    "        for path in reader[info] :\n",
    "            data.append(path)"
   ]
  },
  {
   "cell_type": "code",
   "execution_count": 36,
   "metadata": {},
   "outputs": [],
   "source": [
    "dataset = []\n",
    "for i in range(0,len(data),3):\n",
    "    subliste = []\n",
    "    subliste.append(data[i])\n",
    "    subliste.append(data[i+1])\n",
    "    subliste.append(data[i+2])\n",
    "    dataset.append(subliste)\n",
    "\n",
    "    \n"
   ]
  },
  {
   "cell_type": "code",
   "execution_count": 42,
   "metadata": {},
   "outputs": [
    {
     "data": {
      "text/plain": "617"
     },
     "execution_count": 42,
     "metadata": {},
     "output_type": "execute_result"
    }
   ],
   "source": [
    "len(dataset)"
   ]
  },
  {
   "cell_type": "code",
   "execution_count": 43,
   "metadata": {},
   "outputs": [
    {
     "name": "stdout",
     "output_type": "stream",
     "text": "['/media/salim/DD 2To/AHL2011_Validated_DICOMS/13011101331015/1.2.124.113532.10.149.172.5.20131107.93455.7725981/1.2.840.113619.2.290.3.2500492204.268.1383804922.866.3/1.2.840.113619.2.290.3.2500492204.268.1383804922.866.3', '/media/salim/DD 2To/AHL2011_Validated_DICOMS/13011101331015/1.2.124.113532.10.149.172.5.20131107.93455.7725981/1.2.840.113619.2.290.3.2500492204.268.1383804923.167/1.2.840.113619.2.290.3.2500492204.268.1383804923.167', 'con_da_nov 7_2013.csv']\nCT\n[\"1.0\", \"0.0\", \"0.0\", \"0.0\", \"1.0\", \"0.0\"]\nPT\n[\"1.0\", \"0.0\", \"0.0\", \"0.0\", \"1.0\", \"0.0\"]\n"
    }
   ],
   "source": [
    "serie1 = dataset[0]\n",
    "print(serie1)\n",
    "nifti_directory = '/media/salim/DD 2To/AHL2011_NIFTI'\n",
    "\n",
    "\n",
    "csv_directory = '/media/salim/DD 2To/AHL2011_CSV_DATA/AHL2011-CSV'\n",
    "\n",
    "\n",
    "for i in range(2):\n",
    "    serie_object = Series(serie1[i])\n",
    "    serie_data = serie_object.get_series_details()\n",
    "    modality = serie_data['series']['Modality'] #CT ou PT\n",
    "    print(modality)\n",
    "    study_uid = serie_data['study']['StudyInstanceUID']\n",
    "    filename = study_uid+'_'+'nifti_'+modality+'.nii'\n",
    "    serie_object.get_numpy_array()\n",
    "    serie_object.export_nifti(os.path.join(nifti_directory, filename))\n"
   ]
  },
  {
   "cell_type": "code",
   "execution_count": null,
   "metadata": {},
   "outputs": [],
   "source": [
    "\n",
    "nifti_directory = '/media/salim/DD 2To/AHL2011_NIFTI'\n",
    "csv_directory = '/media/salim/DD 2To/AHL2011_CSV_DATA/AHL2011-CSV'\n",
    "\n",
    "\n",
    "\n",
    "for serie in dataset : \n",
    "    #nifti CT PT\n",
    "    for i in range(2):\n",
    "        serie_object = Series(serie[i]) #objet série \n",
    "        serie_data = serie_object.get_series_details()\n",
    "        modality = serie_data['series']['Modality']\n",
    "        study_uid = serie_data['study']['StudyInstanceUID']\n",
    "        filename = study_uid+'_'+'nifti_'+modality+'.nii'\n",
    "        serie_object.get_numpy_array()\n",
    "        serie_object.export_nifti(os.path.join(nifti_directory, filename))\n",
    "\n",
    "    #MaskBuilder\n",
    "    mask = Mask_Builder(os.path.join(csv_directory, serie[2]), size_matrix)\n",
    "    if is_correct_suv('nifti_array') #PT ou CT \n",
    "\n",
    "    \n",
    "\n",
    "    #export en nifti \n",
    "\n",
    "\n",
    "\n",
    "\n",
    "        "
   ]
  },
  {
   "cell_type": "code",
   "execution_count": 35,
   "metadata": {},
   "outputs": [],
   "source": [
    "None"
   ]
  },
  {
   "cell_type": "code",
   "execution_count": null,
   "metadata": {},
   "outputs": [],
   "source": [
    "data[0]"
   ]
  },
  {
   "cell_type": "code",
   "execution_count": 21,
   "metadata": {},
   "outputs": [],
   "source": [
    "csv = data[2::3]\n"
   ]
  },
  {
   "cell_type": "code",
   "execution_count": 22,
   "metadata": {},
   "outputs": [],
   "source": [
    "serie_one = data[0::3] \n",
    "serie_two = data[1::3]\n",
    "number_serie = len(serie_one)\n",
    "all_serie = []\n",
    "for i in range(number_serie):\n",
    "    serie = []\n",
    "    serie.append(serie_one[i])\n",
    "    serie.append(serie_two[i])\n",
    "    all_serie.append(serie)\n"
   ]
  },
  {
   "cell_type": "code",
   "execution_count": 39,
   "metadata": {},
   "outputs": [],
   "source": [
    "None"
   ]
  },
  {
   "cell_type": "code",
   "execution_count": 40,
   "metadata": {},
   "outputs": [],
   "source": [
    "None"
   ]
  },
  {
   "cell_type": "code",
   "execution_count": 32,
   "metadata": {},
   "outputs": [],
   "source": [
    "None"
   ]
  },
  {
   "cell_type": "code",
   "execution_count": null,
   "metadata": {},
   "outputs": [],
   "source": [
    "\n"
   ]
  }
 ]
}