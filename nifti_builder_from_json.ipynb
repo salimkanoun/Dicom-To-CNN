{
 "nbformat": 4,
 "nbformat_minor": 2,
 "metadata": {
  "language_info": {
   "name": "python",
   "codemirror_mode": {
    "name": "ipython",
    "version": 3
   },
   "version": "3.8.2-final"
  },
  "orig_nbformat": 2,
  "file_extension": ".py",
  "mimetype": "text/x-python",
  "name": "python",
  "npconvert_exporter": "python",
  "pygments_lexer": "ipython3",
  "version": 3,
  "kernelspec": {
   "name": "python38264bit741c38d3bcec48dc835c8ad5f1161b3f",
   "display_name": "Python 3.8.2 64-bit"
  }
 },
 "cells": [
  {
   "cell_type": "code",
   "execution_count": 8,
   "metadata": {},
   "outputs": [],
   "source": [
    "import json\n",
    "import os\n",
    "from library_dicom.dicom_processor.model.Series import Series \n",
    "from library_dicom.dicom_processor.model.csv_reader.MaskBuilder import MaskBuilder"
   ]
  },
  {
   "cell_type": "code",
   "execution_count": 9,
   "metadata": {},
   "outputs": [],
   "source": [
    "json_path = '/media/salim/DD 2To/AHL2011_NIFTI/AHL2011_list_path_csv.json'"
   ]
  },
  {
   "cell_type": "code",
   "execution_count": 11,
   "metadata": {},
   "outputs": [],
   "source": [
    "data = []\n",
    "with open(json_path) as json_file : \n",
    "    reader = json.load(json_file)\n",
    "    for info in reader :\n",
    "        for path in reader[info] :\n",
    "            data.append(path)"
   ]
  },
  {
   "cell_type": "code",
   "execution_count": 23,
   "metadata": {},
   "outputs": [],
   "source": [
    "csv = data[2::3]\n"
   ]
  },
  {
   "cell_type": "code",
   "execution_count": 24,
   "metadata": {},
   "outputs": [],
   "source": [
    "serie_one = data[0::3] \n",
    "serie_two = data[1::3]\n",
    "number_serie = len(serie_one)\n",
    "all_serie = []\n",
    "for i in range(number_serie):\n",
    "    serie = []\n",
    "    serie.append(serie_one[i])\n",
    "    serie.append(serie_two[i])\n",
    "    all_serie.append(serie)\n"
   ]
  },
  {
   "cell_type": "code",
   "execution_count": null,
   "metadata": {},
   "outputs": [],
   "source": [
    "for serie in all_serie : \n",
    "    for i in range(2):\n",
    "        serie_object = Series(serie[i]) #objet série \n",
    "        #get numpy array\n",
    "        #export nifti"
   ]
  },
  {
   "cell_type": "code",
   "execution_count": null,
   "metadata": {},
   "outputs": [],
   "source": [
    "csv_directory = ''\n",
    "for csv_file in csv : \n",
    "    mask = MaskBuilder(os.path.join(csv_directory, csv_file), size_matrix)\n",
    "    #save mask builder\n"
   ]
  }
 ]
}