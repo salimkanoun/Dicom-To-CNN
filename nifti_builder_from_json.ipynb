{
 "cells": [
  {
   "cell_type": "code",
   "execution_count": 1,
   "metadata": {},
   "outputs": [],
   "source": [
    "import json\n",
    "import os\n",
    "from library_dicom.dicom_processor.model.Series import Series \n",
    "from library_dicom.dicom_processor.model.SeriesPT import SeriesPT\n",
    "from library_dicom.dicom_processor.model.SeriesCT import SeriesCT\n",
    "from library_dicom.dicom_processor.model.csv_reader.MaskBuilder import MaskBuilder\n",
    "\n",
    "from library_dicom.dicom_processor.tools.folders import *\n",
    "\n",
    "from library_dicom.dicom_processor.tools.create_mip import *\n",
    "from library_dicom.dicom_processor.tools.threshold_mask import *\n",
    "\n",
    "import numpy as np\n",
    "import SimpleITK as sitk"
   ]
  },
  {
   "cell_type": "code",
   "execution_count": null,
   "metadata": {},
   "outputs": [],
   "source": []
  },
  {
   "cell_type": "code",
   "execution_count": 2,
   "metadata": {},
   "outputs": [],
   "source": [
    "#LIST FROM PARSE_FILTERED_DICOM_DATASET"
   ]
  },
  {
   "cell_type": "code",
   "execution_count": 2,
   "metadata": {},
   "outputs": [],
   "source": [
    "nifti_directory = '/media/salim/DD 2To/GAINED_NIFTI'\n",
    "\n",
    "csv_directory = '/media/salim/DD 2To/GAINED_CSV_DATA/Export_Gained/CSV41/PET0'"
   ]
  },
  {
   "cell_type": "code",
   "execution_count": 3,
   "metadata": {},
   "outputs": [],
   "source": [
    "json_path = '/media/salim/DD 2To/GAINED_NIFTI/GAINED_list_path_csv.json'"
   ]
  },
  {
   "cell_type": "code",
   "execution_count": 5,
   "metadata": {},
   "outputs": [],
   "source": [
    "dataset = []\n",
    "with open(json_path) as json_file : \n",
    "    reader = json.load(json_file)\n",
    "    for info in reader :\n",
    "        dataset.append(info)"
   ]
  },
  {
   "cell_type": "code",
   "execution_count": 6,
   "metadata": {},
   "outputs": [
    {
     "name": "stdout",
     "output_type": "stream",
     "text": "['/media/salim/DD 2To/GAINED_Validated_DICOMS/11011101021001/1.2.840.113704.1.111.3296.1350645932.9/1.3.46.670589.28.2.10.48.18483.298.2.1036.0.1350647998/1.3.46.670589.28.2.10.48.18483.298.2.1036.0.1350647998', 'PT', '/media/salim/DD 2To/GAINED_Validated_DICOMS/11011101021001/1.2.840.113704.1.111.3296.1350645932.9/1.2.840.113704.1.111.5352.1350646167.8/1.2.840.113704.1.111.5352.1350646167.8', 'CT', 'review8.csv', '11011101021001']\n"
    }
   ],
   "source": [
    "print(dataset[0])"
   ]
  },
  {
   "cell_type": "code",
   "execution_count": null,
   "metadata": {},
   "outputs": [],
   "source": [
    "#GENERE LA LISTE DES JSON AVEC UN UNCONSTANT SPACING, SAVE IT AS JSON "
   ]
  },
  {
   "cell_type": "code",
   "execution_count": 7,
   "metadata": {},
   "outputs": [
    {
     "name": "stdout",
     "output_type": "stream",
     "text": "9982, -3.2700000000000387, -3.269999999999982, -3.269999999999982, -3.269999999999982, -3.2700000000000387, -3.269999999999982, -3.269999999999982, -3.2700000000000387, -3.269999999999982, -3.269999999999982, -3.2700000000000387, -3.269999999999982, -3.2700000000000387, -3.269999999999982, -3.269999999999982, -3.269999999999982, -3.269999999999982, -3.269999999999982, -3.2700000000000955, -3.269999999999982, -3.269999999999982, -3.269999999999982, -3.269999999999982, -3.269999999999982, -3.2700000000000955, -3.269999999999982, -3.269999999999982, -3.269999999999982, -3.269999999999982, -3.269999999999982, -3.2700000000000955, -3.269999999999982, -3.269999999999982, -3.269999999999982, -3.269999999999982, -3.269999999999982, -3.2700000000000955, -3.269999999999982, -3.269999999999982, -3.269999999999982, -3.269999999999982, -3.269999999999982, -3.269999999999982, -3.2700000000000955, -3.269999999999982, -3.269999999999982, -3.269999999999982, -3.269999999999982, -3.269999999999982, -3.2700000000000955, -3.269999999999982, -3.269999999999982, -3.269999999999982, -3.269999999999982, -3.269999999999982, -3.2700000000000955, -3.269999999999982, -3.269999999999982, -3.269999999999982, -3.269999999999982, -3.269999999999982, -3.2700000000000955, -3.269999999999982, -3.269999999999982, -3.269999999999982, -3.269999999999982, -3.269999999999982, -3.269999999999982, -3.2700000000000955, -3.269999999999982, -3.269999999999982, -3.269999999999982, -3.269999999999982, -3.269999999999982, -3.2700000000000955, -3.269999999999982, -3.269999999999982, -3.269999999999982, -3.269999999999982, -3.269999999999982, -3.2700000000000955, -3.269999999999982, -3.269999999999982, -3.269999999999982, -3.269999999999982, -3.269999999999982, -3.2700000000000955, -3.269999999999982, -3.269999999999982, -3.269999999999982, -3.269999999999982, -3.269999999999982, -3.269999999999982, -3.2700000000000955, -3.269999999999982, -3.269999999999982, -3.269999999999982, -3.269999999999982, -3.269999999999982, -3.2700000000000955, -3.269999999999982, -3.269999999999982, -3.269999999999982, -3.269999999999982, -3.269999999999982, -3.2700000000000955, -3.269999999999982, -3.269999999999982, -3.269999999999982, -3.269999999999982, -3.269999999999982, -3.2700000000000955, -3.269999999999982, -3.269999999999982, -3.269999999999982, -3.269999999999982, -3.269999999999982, -3.269999999999982, -3.2700000000000955, -3.269999999999982, -3.269999999999982, -3.269999999999982, -3.269999999999982, -3.269999999999982, -3.2700000000000955, -3.269999999999982, -3.269999999999982, -3.269999999999982, -3.269999999999982, -3.269999999999982, -3.2700000000000955, -3.269999999999982, -3.269999999999982, -3.269999999999982, -3.269999999999982, -3.269999999999982, -3.2700000000000955, -3.269999999999982, -3.269999999999982, -3.269999999999982, -3.269999999999982, -3.269999999999982, -3.269999999999982, -3.2700000000000955, -3.269999999999982, -3.269999999999982, -3.269999999999982, -3.269999999999982, -3.269999999999982, -3.2700000000000955, -3.269999999999982, -3.269999999999982, -3.269999999999982, -3.269999999999982, -3.269999999999982, -3.2700000000000955, -3.269999999999982, -3.269999999999982, -3.269999999999982, -3.269999999999982, -3.269999999999982, -3.2700000000000955, -3.269999999999982, -3.269999999999982, -3.269999999999982, -3.269999999999982, -3.269999999999982, -3.269999999999982, -3.269999999999982, -3.269999999999982, -3.269999999999982, -3.270000000000209, -3.269999999999982, -3.269999999999982, -3.269999999999982, -3.269999999999982, -3.269999999999982, -3.269999999999982, -3.269999999999982, -3.269999999999982, -3.269999999999982, -3.269999999999982, -3.269999999999982, -3.270000000000209, -3.269999999999982, -3.269999999999982, -3.269999999999982, -3.269999999999982, -3.269999999999982, -3.269999999999982, -3.269999999999982, -3.269999999999982, -3.269999999999982, -3.269999999999982, -3.269999999999982, -3.269999999999982, -3.270000000000209, -3.269999999999982, -3.269999999999982, -3.269999999999982, -3.269999999999982, -3.269999999999982, -3.269999999999982, -3.269999999999982, -3.269999999999982, -3.269999999999982, -3.269999999999982, -3.269999999999982, -3.270000000000209, -3.269999999999982, -3.269999999999982, -3.269999999999982, -3.269999999999982, -3.269999999999982, -3.269999999999982, -3.269999999999982, -3.269999999999982, -3.269999999999982, -3.269999999999982, -3.269999999999982, -3.269999999999982, -3.270000000000209, -3.269999999999982, -3.269999999999982, -3.269999999999982, -3.269999999999982, -3.269999999999982, -3.269999999999982, -3.269999999999982, -3.269999999999982, -3.269999999999982, -3.269999999999982, -3.269999999999982, -3.270000000000209, -3.269999999999982, -3.269999999999982, -3.269999999999982, -3.269999999999982, -3.269999999999982, -3.269999999999982, -3.269999999999982, -3.269999999999982, -3.269999999999982, -3.269999999999982, -3.269999999999982, -3.269999999999982, -3.270000000000209, -3.269999999999982, -3.269999999999982, -3.269999999999982, -3.269999999999982, -3.269999999999982, -3.269999999999982, -3.269999999999982, -3.269999999999982, -3.269999999999982, -3.269999999999982, -3.269999999999982, -3.270000000000209, -3.269999999999982, -3.269999999999982, -3.269999999999982, -3.269999999999982, -3.269999999999982, -3.269999999999982, -3.269999999999982, -3.269999999999982, -3.269999999999982, -3.269999999999982, -3.269999999999982, -3.269999999999982, -3.270000000000209, -3.269999999999982, -3.269999999999982, -3.269999999999982, -3.269999999999982, -3.269999999999982, -3.269999999999982, -3.269999999999982, -3.269999999999982, -3.269999999999982, -3.269999999999982, -3.269999999999982, -3.270000000000209, -3.269999999999982, -3.269999999999982, -3.269999999999982, -3.269999999999982, -3.269999999999982, -3.269999999999982, -3.269999999999982, -3.269999999999982, -3.269999999999982, -3.269999999999982, -3.269999999999982, -3.269999999999982, -3.270000000000209, -3.269999999999982, -3.269999999999982, -3.269999999999982, -3.269999999999982, -3.269999999999982, -3.269999999999982, -3.269999999999982, -3.269999999999982, -3.269999999999982, -3.269999999999982, -3.269999999999982, -3.270000000000209, -3.269999999999982, -3.269999999999982, -3.269999999999982, -3.269999999999982, -3.269999999999982, -3.269999999999982, -3.269999999999982, -3.269999999999982, -3.269999999999982, -3.269999999999982, -3.269999999999982, -3.269999999999982, -3.270000000000209, -3.269999999999982, -3.269999999999982, -3.269999999999982, -3.269999999999982, -3.269999999999982, -3.269999999999982, -3.269999999999982, -3.269999999999982, -3.269999999999982, -3.269999999999982, -3.269999999999982, -3.270000000000209, -3.269999999999982, -3.269999999999982, -3.269999999999982, -3.269999999999982, -3.269999999999982, -3.269999999999982, -3.269999999999982, -3.269999999999982, -3.269999999999982, -3.269999999999982, -3.269999999999982, -3.269999999999982, -3.270000000000209, -3.269999999999982, -3.269999999999982, -3.269999999999982, -3.269999999999982, -3.269999999999982, -3.269999999999982, -3.269999999999982, -3.269999999999982, -3.269999999999982, -3.269999999999982, -3.269999999999982, -3.270000000000209, -3.269999999999982, -3.269999999999982, -3.269999999999982, -3.269999999999982, -3.269999999999982, -3.269999999999982, -3.269999999999982, -3.269999999999982, -3.269999999999982, -3.269999999999982, -3.269999999999982]\n325\n326\n327\n328\n329\n330\n331\n332\n333\n334\n335\n336\n337\n338\n339\n340\n341\n342\n343\n344\n['/media/salim/DD 2To/GAINED_Validated_DICOMS/11011101461002/1.2.840.113619.2.55.3.698894.569.1391407954.736/1.2.840.113619.2.55.3.698894.569.1391407954.740.3/1.2.840.113619.2.55.3.698894.569.1391407954.740.3', 'CT', '/media/salim/DD 2To/GAINED_Validated_DICOMS/11011101461002/1.2.840.113619.2.55.3.698894.569.1391407954.736/1.2.840.113619.2.131.698894.1391506882.432726/1.2.840.113619.2.131.698894.1391506882.432726', 'PT', 'review1444.csv', '11011101461002']\n[-3.27001953125, -3.2699584961000028, -3.27001953125, -3.27001953125, -3.2699584960899983, -3.27001953125, -3.27001953125, -3.2699584961000028, -3.27001953125, -3.27001953125, -3.2699584960899983, -3.27001953125, -3.27001953125, -3.27001953125, -3.2699584960899983, -3.27001953125, -3.27001953125, -3.2699584961000028, -3.27001953125, -3.27001953125, -3.2699584960899983, -3.27001953125, -3.27001953125, -3.2699584960899983, -3.27001953125, -3.27001953125, -3.2699584961000028, -3.27001953125, -3.27001953125, -3.2699584960899983, -3.27001953125, -3.27001953125, -3.2699584961000028, -3.27001953125, -3.27001953125, -3.2699584960899983, -3.27001953125, -3.27001953125, -3.27001953125, -3.2699584960899983, -3.27001953125, -3.27001953125, -3.2699584961000028, -3.27001953125, -3.27001953125, -3.2699584960899983, -3.3099975585899983, -3.27001953125, -3.2699584961000028, -3.27001953125, -3.27001953125, -3.27001953125, -3.2699584960899983, -3.27001953125, -3.27001953125, -3.2699584961000028, -3.27001953125, -3.27001953125, -3.2699584960899983, -3.27001953125, -3.27001953125, -3.2699584960899983, -3.27001953125, -3.27001953125, -3.2699584961000028, -3.27001953125, -3.27001953125, -3.2699584960899983, -3.27001953125, -3.27001953125, -3.2699584960899983, -3.27001953125, -3.27001953125, -3.2699584961000028, -3.27001953125, -3.27001953125, -3.27001953125, -3.2699584960899983, -3.27001953125, -3.27001953125, -3.2699584961000028, -3.27001953125, -3.269989013669999, -3.27001953125, -3.209991455080001, -3.27001953125, -3.269989013669999, -3.269989013669999, -3.27001953125, -3.269989013669999, -3.269989013669999, -3.27001953125, -3.2699890136800036, -3.269989013669999, -3.27001953125, -3.269989013669999, -3.27001953125, -3.269989013669999, -3.269989013669999, -3.27001953125, -3.269989013669999, -3.2699890136800036, -3.27001953125, -3.269989013669999, -3.269989013669999, -3.27001953125, -3.269989013669999, -3.27001953125, -3.269989013669999, -3.2699890136800036, -3.27001953125, -3.269989013669999, -3.269989013669999, -3.27001953125, -3.269989013669999, -3.269989013669999, -3.27001953125, -3.2699890136800036, -3.269989013669999, -3.27001953125, -3.269989013669999, -3.27001953125, -3.3099670410099975, -3.27001953125, -3.2699890136800036, -3.269989013669999, -3.27001953125, -3.269989013669999, -3.269989013669999, -3.27001953125, -3.269989013669999, -3.2699890136800036, -3.27001953125, -3.269989013669999, -3.27001953125, -3.269989013669999, -3.269989013669999, -3.27001953125, -3.269989013669999, -3.2699890136800036, -3.27001953125, -3.269989013669999, -3.269989013669999, -3.27001953125, -3.269989013669999, -3.27001953125, -3.269989013669999, -3.269989013669999, -3.27001953125, -3.2699890136800036, -3.269989013669999, -3.27001953125, -3.269989013669999, -3.269989013669999, -3.27001953125, -3.269989013669999, -3.2699890136800036, -3.27001953125, -3.269989013669999, -3.2700042724599996, -3.3100128173799988, -3.2700042724599996, -3.2700042724599996, -3.2700042724599996, -3.2699890136800036, -3.2700042724599996, -3.2700042724599996, -3.2700042724599996, -3.269989013669999, -3.2700042724599996, -3.2700042724599996, -3.269989013669999, -3.270004272470004, -3.2700042724599996, -3.2700042724599996, -3.269989013669999, -3.2700042724599996, -3.2700042724599996, -3.269989013669999, -3.2700042724599996, -3.270004272470004, -3.2700042724599996, -3.269989013669999, -3.2700042724599996, -3.2700042724599996, -3.269989013669999, -3.2700042724599996, -3.2700042724599996, -3.2700042724599996, -3.2699890136800036, -3.2700042724599996, -3.2700042724599996, -3.269989013669999, -3.2700042724599996, -3.2700042724599996, -3.2700042724599996, -3.269989013669999, -3.270004272470004, -3.209999084469999, -3.269996643059997, -3.270004272470004, -3.269996643059997, -3.2700042724599996, -3.2699966430700016, -3.2700042724599996, -3.2699966430700016, -3.269996643059997, -3.2700042724599996, -3.269996643065994, -3.2700042724610086, -3.269996643067003, -3.2700042724609943, -3.269996643065994, -3.2699966430660083, -3.2700042724609943, -3.269996643067003, -3.2700042724609943, -3.2699966430660083, -3.2700004577639987, -3.270000457762997, -3.2700004577639987, -3.270000457764006, -3.270000457762997, -3.2700004577639987, -3.2700004577639987, -3.270000457763004, -3.269996643066996, -3.2700004577640023, -3.2700004577630004, -3.2700004577639987, -3.2700004577640023, -3.2700004577630004, -3.269998550414998, -3.2700004577640005, -3.2700004577631, -3.2699995040894, -3.3099980354309, -3.26999998092646, -3.26999998092652, -3.26999998092651, -3.2700004577636106, -3.2699995040894, -3.2699995040892986, -3.2700004577637003, -3.2700004577637003, -3.269998550415, -3.2700004577637003, -3.2700004577637003, -3.270000457763601, -3.2700004577637003, -3.2700004577637003, -3.270000457763601, -3.269996643066399, -3.2700004577637003, -3.2700004577637003, -3.2700004577637003, -3.270000457763601, -3.269996643066399, -3.2700042724609943, -3.2699966430664062, -3.270004272460895, -3.2699966430664062, -3.2700042724609943, -3.2699966430664062, -3.269996643066392, -3.270004272460909, -3.269996643066392, -3.2700042724610086, -3.2699966430660936, -3.2700042724609943, -3.2699966430660083, -3.269996643067003, -3.2700042724609943, -3.269996643065994]\n345\n346\n347\n348\n349\n350\n351\n352\n353\n354\n355\n356\n357\n358\n359\n360\n361\n362\n363\n364\n365\n366\n367\n368\n369\n370\n371\n372\n373\n374\n375\n376\n377\n378\n379\n380\n381\n382\n383\n384\n385\n386\n387\n388\n389\n390\n391\n392\n393\n394\n395\n396\n397\n398\n399\n400\n401\n402\n403\n404\n405\n['/media/salim/DD 2To/GAINED_Validated_DICOMS/11011102411003/1.2.840.113619.2.290.3.4195011167.602.1429595259.689/1.2.840.113704.7.32.0619.2.290.3.4195011167.602.1429595259.693.3/1.2.840.113704.7.32.0619.2.290.3.4195011167.602.1429595259.693.3', 'CT', '/media/salim/DD 2To/GAINED_Validated_DICOMS/11011102411003/1.2.840.113619.2.290.3.4195011167.602.1429595259.689/1.2.840.113704.7.32.013619.2.290.3.4195011167.602.1429595259.995/1.2.840.113704.7.32.013619.2.290.3.4195011167.602.1429595259.995', 'PT', 'review1532.csv', '11011102411003']\n[-3.269999999999982, -3.2700000000000955, -3.269999999999982, -3.269999999999982, -3.269999999999982, -3.269999999999982, -3.269999999999982, -3.2700000000000955, -3.269999999999982, -3.269999999999982, -3.269999999999982, -3.269999999999982, -3.269999999999982, -3.2700000000000955, -3.269999999999982, -3.269999999999982, -3.269999999999982, -3.269999999999982, -3.269999999999982, -3.2700000000000955, -3.269999999999982, -3.269999999999982, -3.269999999999982, -3.269999999999982, -3.269999999999982, -3.269999999999982, -3.2700000000000955, -3.269999999999982, -3.269999999999982, -3.269999999999982, -3.269999999999982, -3.269999999999982, -3.2700000000000955, -3.269999999999982, -3.269999999999982, -3.269999999999982, -3.269999999999982, -3.269999999999982, -3.2700000000000955, -3.269999999999982, -3.269999999999982, -3.269999999999982, -3.269999999999982, -3.269999999999982, -3.2700000000000955, -3.269999999999982, -3.269999999999982, -3.269999999999982, -3.269999999999982, -3.269999999999982, -3.269999999999982, -3.2700000000000955, -3.269999999999982, -3.269999999999982, -3.269999999999982, -3.269999999999982, -3.269999999999982, -3.2700000000000955, -3.269999999999982, -3.269999999999982, -3.269999999999982, -3.269999999999982, -3.269999999999982, -3.2700000000000955, -3.269999999999982, -3.269999999999982, -3.269999999999982, -3.269999999999982, -3.269999999999982, -3.2700000000000955, -3.269999999999982, -3.269999999999982, -3.269999999999982, -3.269999999999982, -3.269999999999982, -3.269999999999982, -3.2700000000000955, -3.269999999999982, -3.269999999999982, -3.269999999999982, -3.269999999999982, -3.269999999999982, -3.2700000000000955, -3.269999999999982, -3.269999999999982, -3.269999999999982, -3.269999999999982, -3.269999999999982, -3.2700000000000955, -3.269999999999982, -3.269999999999982, -3.269999999999982, -3.269999999999982, -3.269999999999982, -3.2700000000000955, -3.269999999999982, -3.269999999999982, -3.269999999999982, -3.269999999999982, -3.2700000000000387, -3.269999999999982, -3.269999999999982, -3.2700000000000387, -3.269999999999982, -3.269999999999982, -3.2700000000000387, -3.269999999999982, -3.269999999999982, -3.2700000000000387, -3.269999999999982, -3.269999999999982, -3.269999999999982, -3.2700000000000387, -3.269999999999982, -3.269999999999982, -3.2700000000000387, -3.269999999999982, -3.269999999999982, -3.2700000000000387, -3.269999999999982, -3.269999999999982, -3.2700000000000387, -3.269999999999982, -3.269999999999982, -3.2700000000000387, -3.269999999999982, -3.269999999999982, -3.2700000000000387, -3.269999999999982, -3.269999999999982, -3.2700000000000387, -3.269999999999982, -3.269999999999982, -3.2700000000000387, -3.269999999999982, -3.269999999999982, -3.269999999999982, -3.2700000000000387, -3.269999999999982, -3.269999999999982, -3.2700000000000387, -3.269999999999982, -3.269999999999982, -3.2700000000000387, -3.269999999999982, -3.269999999999982, -3.2700000000000387, -3.269999999999982, -3.269999999999982, -3.2700000000000387, -3.269999999999982, -3.269999999999982, -3.2700000000000387, -3.269999999999982, -3.269999999999982, -3.2700000000000387, -3.269999999999982, -3.269999999999982, -3.2700000000000387, -3.269999999999982, -3.269999999999982, -3.269999999999982, -3.2700000000000387, -3.269999999999982, -3.269999999999982, -3.2700000000000387, -3.269999999999982, -3.269999999999982, -3.2700000000000387, -3.269999999999982, -3.269999999999982, -3.2700000000000387, -3.269999999999982, -3.269999999999982, -3.2700000000000387, -3.269999999999982, -3.2700000000000102, -3.269999999999982, -3.2700000000000102, -3.269999999999982, -3.2700000000000102, -3.2700000000000102, -3.269999999999982, -3.2700000000000102, -3.2700000000000102, -3.269999999999982, -3.2700000000000102, -3.2700000000000102, -3.269999999999982, -3.2700000000000102, -3.2700000000000102, -3.269999999999982, -3.2700000000000102, -3.269999999999982, -3.2700000000000102, -3.2700000000000102, -3.269999999999982, -3.2700000000000102, -3.2700000000000102, -3.269999999999982, -3.2700000000000102, -3.2700000000000102, -3.269999999999982, -3.2700000000000102, -3.269999999999982, -3.2700000000000102, -3.2700000000000102, -3.269999999999982, -3.2700000000000102, -3.2700000000000102, -3.269999999999982, -3.2700000000000102, -3.2700000000000102, -3.269999999999982, -3.2700000000000102, -3.269999999999996, -3.269999999999996, -3.2700000000000102, -3.269999999999996, -3.269999999999996, -3.269999999999996, -3.2700000000000102, -3.269999999999996, -3.269999999999996, -3.2700000000000102, -3.269999999999996, -3.269999999999996, -3.269999999999996, -3.2700000000000102, -3.269999999999996, -3.269999999999996, -3.2700000000000102, -3.269999999999996, -3.269999999999996, -3.270000000000003, -3.269999999999996, -3.270000000000003, -3.269999999999996, -3.270000000000003, -3.270000000000003, -3.269999999999996, -3.270000000000003, -3.269999999999996, -3.270000000000003, -3.2699999999999996, -3.2699999999999996, -3.2699999999999996, -3.2699999999999996, -3.2699999999999996, -3.2699999999999996, -3.2700000000000014, -3.2699999999999996, -3.27, -3.27, -3.27, -3.27, -3.2699999999999996, -3.2699999999999996, -3.2700000000000014, -3.269999999999998, -3.270000000000003, -3.2699999999999996, -3.2699999999999996, -3.2699999999999996, -3.270000000000003, -3.269999999999996, -3.270000000000003, -3.269999999999996, -3.270000000000003, -3.269999999999996, -6.539999999999999, -3.270000000000003, -3.269999999999996, -3.2700000000000102, -3.269999999999996, -3.269999999999996, -3.269999999999996, -3.2700000000000102, -3.269999999999996, -3.269999999999996, -3.2700000000000102, -3.269999999999996, -3.269999999999996, -3.269999999999996, -3.2700000000000102, -3.269999999999996, -3.269999999999996, -3.269999999999996, -3.2700000000000102, -3.269999999999996, -3.269999999999996, -3.2700000000000102, -3.269999999999982, -3.2700000000000102, -3.2700000000000102, -3.269999999999982, -3.2700000000000102]\n406\n407\n408\n409\n"
    }
   ],
   "source": [
    "liste_unconstant_z_spacing = []\n",
    "for liste in dataset : \n",
    "    print(dataset.index(liste))\n",
    "    for i in range(0,4,2) : \n",
    "        serie_objet = Series(liste[i])\n",
    "        serie_objet.get_numpy_array()\n",
    "        if serie_objet.get_z_spacing() == 'Unconstant Spacing' : \n",
    "            print(liste)\n",
    "            liste_unconstant_z_spacing.append(liste)\n",
    "            list_z_spacing = serie_objet.calculate_z_spacing() #round = True dans les param\n",
    "            print(list_z_spacing)\n",
    "            #liste_unconstant_z_spacing.append(list_z_spacing)\n",
    "\n",
    "\n",
    "#save it as json\n",
    "\n",
    "write_json_file('/media/salim/DD 2To/GAINED_NIFTI', 'GAINED_problem_unconstant_spacing', liste_unconstant_z_spacing)"
   ]
  },
  {
   "cell_type": "code",
   "execution_count": null,
   "metadata": {},
   "outputs": [],
   "source": [
    "#On enleve les series avec un unconstant spacing , a checker manuellement si gros ecart (manque des slices ?) ou non \n",
    "print(len(liste_unconstant_z_spacing)) #\n",
    "for serie in liste_unconstant_z_spacing : \n",
    "    dataset.remove(serie)\n",
    "\n",
    "print(len(dataset)) #"
   ]
  },
  {
   "cell_type": "code",
   "execution_count": null,
   "metadata": {},
   "outputs": [],
   "source": [
    "#SAVE AS JSON THE FINAL LIST WITHOUT UNCONSTANT SPACING ERROR"
   ]
  },
  {
   "cell_type": "code",
   "execution_count": null,
   "metadata": {},
   "outputs": [],
   "source": [
    "write_json_file('/media/salim/DD 2To/GAINED_NIFTI', 'GAINED_final_list_dataset', dataset)\n"
   ]
  },
  {
   "cell_type": "code",
   "execution_count": 30,
   "metadata": {},
   "outputs": [
    {
     "name": "stdout",
     "output_type": "stream",
     "text": "589\n"
    }
   ],
   "source": [
    "#FINAL LIST WITHOUT UNCONSTANT SPACING ERROR\n",
    "json_path = '/media/salim/DD 2To/GAINED_NIFTI/GAINED_final_list_dataset.json'\n",
    "dataset = []\n",
    "with open(json_path) as json_file : \n",
    "    reader = json.load(json_file)\n",
    "    for info in reader :\n",
    "        dataset.append(info)\n",
    "\n",
    "print(len(dataset))"
   ]
  },
  {
   "cell_type": "code",
   "execution_count": null,
   "metadata": {},
   "outputs": [],
   "source": [
    "#IF MASK IS CORRECT => GENERATE NIFTI \n",
    "#IF SMALL ERRORS EN ELLIPSE = > GENERATE NIFTI \n",
    "\n",
    "#IF ERROR ON POLYGONE => MIP \n",
    "#CHECK FLIP"
   ]
  },
  {
   "cell_type": "code",
   "execution_count": null,
   "metadata": {},
   "outputs": [],
   "source": [
    "#On met les erreurs de coté\n",
    "\n",
    "error = []\n",
    "false_mask = []\n",
    "\n",
    "\n",
    "for serie in dataset : \n",
    "    try : \n",
    "        #print(serie)\n",
    "        print(dataset.index(serie))\n",
    "        if serie[1] == 'PT' : \n",
    "            serie_pt_objet = SeriesPT(serie[0])\n",
    "            nifti_array = serie_pt_objet.get_numpy_array()\n",
    "            study_uid = serie_pt_objet.get_series_details()['study']['StudyInstanceUID']\n",
    "            size_matrix = serie_pt_objet.get_size_matrix()\n",
    "            mask_objet = MaskBuilder(os.path.join(csv_directory, serie[4]), size_matrix)\n",
    "            mask_4D = mask_objet.mask_array\n",
    "            if mask_objet.is_correct_suv(nifti_array) == True : #si mask correct \n",
    "                print(\"MASK CORRECT\")\n",
    "                    #generation nifti PT\n",
    "                filename_pt = study_uid+'_'+'nifti_'+'PT'+'.nii'\n",
    "                serie_pt_objet.export_nifti(os.path.join(nifti_directory, filename_pt))\n",
    "                print(\"EXPORT NIFTI PT\")\n",
    "                    #generation nifti CT\n",
    "                serie_ct_objet = SeriesCT(serie[2])\n",
    "                serie_ct_objet.get_numpy_array()\n",
    "                filename_ct = study_uid+'_'+'nifti_'+'CT'+'.nii'\n",
    "                serie_ct_objet.export_nifti(os.path.join(nifti_directory, filename_ct))\n",
    "                print(\"EXPORT NIFTI CT\")\n",
    "                    #generation nifti mask\n",
    "                filename_mask = study_uid+'_'+'nifti_'+'mask'+'.nii'\n",
    "                serie_pt_objet.export_nifti(os.path.join(nifti_directory, filename_mask), mask_4D)\n",
    "                print(\"EXPORT NIFTI MASK\")\n",
    "            else : \n",
    "                print(\"FALSE MASK\")\n",
    "                false_mask.append(serie)\n",
    "\n",
    "\n",
    "        else : \n",
    "            serie_pt_objet = SeriesPT(serie[2])\n",
    "            manufacturer = serie_pt_objet.get_series_details()['series']['Manufacturer'] \n",
    "            nifti_array = serie_pt_objet.get_numpy_array()\n",
    "            study_uid = serie_pt_objet.get_series_details()['study']['StudyInstanceUID']\n",
    "            size_matrix = serie_pt_objet.get_size_matrix()\n",
    "            mask_objet = MaskBuilder(os.path.join(csv_directory, serie[4]), size_matrix)\n",
    "            mask_4D = mask_objet.mask_array\n",
    "            if mask_objet.is_correct_suv(nifti_array) == True : #si mask correct \n",
    "                print(\"MASK CORRECT\")\n",
    "                    #generation nifti PT\n",
    "                filename_pt = study_uid+'_'+'nifti_'+'PT'+'.nii'\n",
    "                serie_pt_objet.export_nifti(os.path.join(nifti_directory, filename_pt))\n",
    "                print(\"EXPORT NIFTI PT\")\n",
    "                     #generation nifti CT\n",
    "                serie_ct_objet = SeriesCT(serie[0])\n",
    "                serie_ct_objet.get_numpy_array()\n",
    "                filename_ct = study_uid+'_'+'nifti_'+'CT'+'.nii'\n",
    "                serie_ct_objet.export_nifti(os.path.join(nifti_directory, filename_ct))\n",
    "                print(\"EXPORT NIFTI CT\")\n",
    "                    #generation nifti mask\n",
    "                filename_mask = study_uid+'_'+'nifti_'+'mask'+'.nii'\n",
    "                serie_pt_objet.export_nifti(os.path.join(nifti_directory, filename_mask), mask_4D)\n",
    "                print(\"EXPORT NIFTI MASK\")\n",
    "            else : \n",
    "                print(\"FALSE MASK\")\n",
    "                false_mask.append(serie)\n",
    "               \n",
    "\n",
    "    except Exception as err : \n",
    "        print(err)\n",
    "        print(serie)\n",
    "        error.append(serie)\n",
    "\n",
    "        \n"
   ]
  },
  {
   "cell_type": "code",
   "execution_count": null,
   "metadata": {},
   "outputs": [],
   "source": [
    "#SAVE THE SERIE WITH FALSE MASK \n",
    "write_json_file('/media/salim/DD 2To/GAINED_NIFTI', 'GAINED_false_mask', false_mask)\n",
    "print(len(false_mask))"
   ]
  },
  {
   "cell_type": "code",
   "execution_count": null,
   "metadata": {},
   "outputs": [],
   "source": [
    "#ON VA TESTER LE FLIP SUR LES FALSE MASK \n",
    "#On met les erreurs de coté\n",
    "\n",
    "error_2 = []\n",
    "false_mask_after_flip = []\n",
    "\n",
    "\n",
    "for serie in false_mask : \n",
    "    try : \n",
    "        #print(serie)\n",
    "        print(false_mask.index(serie))\n",
    "        if serie[1] == 'PT' : \n",
    "            serie_pt_objet = SeriesPT(serie[0])\n",
    "            nifti_array = serie_pt_objet.get_numpy_array()\n",
    "            study_uid = serie_pt_objet.get_series_details()['study']['StudyInstanceUID']\n",
    "            size_matrix = serie_pt_objet.get_size_matrix()\n",
    "            mask_objet = MaskBuilder(os.path.join(csv_directory, serie[4]), size_matrix)\n",
    "            mask_4D = mask_objet.mask_array\n",
    "            mask_flip = mask_objet.flip_z(nifti_array)\n",
    "\n",
    "            if mask_objet.is_correct_suv(nifti_array) == True : #si mask correct \n",
    "                print(\"MASK FLIPPE CORRECT\")\n",
    "                    #generation nifti PT\n",
    "                filename_pt = study_uid+'_'+'nifti_'+'PT'+'.nii'\n",
    "                serie_pt_objet.export_nifti(os.path.join(nifti_directory, filename_pt))\n",
    "                print(\"EXPORT NIFTI PT\")\n",
    "                    #generation nifti CT\n",
    "                serie_ct_objet = SeriesCT(serie[2])\n",
    "                serie_ct_objet.get_numpy_array()\n",
    "                filename_ct = study_uid+'_'+'nifti_'+'CT'+'.nii'\n",
    "                serie_ct_objet.export_nifti(os.path.join(nifti_directory, filename_ct))\n",
    "                print(\"EXPORT NIFTI CT\")\n",
    "                    #generation nifti mask\n",
    "                filename_mask = study_uid+'_'+'nifti_'+'mask'+'.nii'\n",
    "                serie_pt_objet.export_nifti(os.path.join(nifti_directory, filename_mask), mask_flip)\n",
    "                print(\"EXPORT NIFTI MASK\")\n",
    "            else : \n",
    "                print(\"FALSE MASK\")\n",
    "                false_mask_after_flip.append(serie)\n",
    "\n",
    "\n",
    "        else : \n",
    "            serie_pt_objet = SeriesPT(serie[2])\n",
    "            manufacturer = serie_pt_objet.get_series_details()['series']['Manufacturer'] \n",
    "            nifti_array = serie_pt_objet.get_numpy_array()\n",
    "            study_uid = serie_pt_objet.get_series_details()['study']['StudyInstanceUID']\n",
    "            size_matrix = serie_pt_objet.get_size_matrix()\n",
    "            mask_objet = MaskBuilder(os.path.join(csv_directory, serie[4]), size_matrix)\n",
    "            mask_4D = mask_objet.mask_array\n",
    "            mask_flip = mask_objet.flip_z(nifti_array)\n",
    "\n",
    "            if mask_objet.is_correct_suv(nifti_array) == True : #si mask correct \n",
    "                print(\"MASK FLIPPE CORRECT\")\n",
    "                    #generation nifti PT\n",
    "                filename_pt = study_uid+'_'+'nifti_'+'PT'+'.nii'\n",
    "                serie_pt_objet.export_nifti(os.path.join(nifti_directory, filename_pt))\n",
    "                print(\"EXPORT NIFTI PT\")\n",
    "                     #generation nifti CT\n",
    "                serie_ct_objet = SeriesCT(serie[0])\n",
    "                serie_ct_objet.get_numpy_array()\n",
    "                filename_ct = study_uid+'_'+'nifti_'+'CT'+'.nii'\n",
    "                serie_ct_objet.export_nifti(os.path.join(nifti_directory, filename_ct))\n",
    "                print(\"EXPORT NIFTI CT\")\n",
    "                    #generation nifti mask\n",
    "                filename_mask = study_uid+'_'+'nifti_'+'mask'+'.nii'\n",
    "                serie_pt_objet.export_nifti(os.path.join(nifti_directory, filename_mask), mask_flip)\n",
    "                print(\"EXPORT NIFTI MASK\")\n",
    "            else : \n",
    "                print(\"FALSE MASK\")\n",
    "                false_mask_after_flip.append(serie)\n",
    "               \n",
    "                \n",
    "                   \n",
    "\n",
    "\n",
    "    except Exception as err : \n",
    "        print(err)\n",
    "        print(serie)\n",
    "        error_2.append(serie)\n",
    "\n",
    "        \n",
    "write_json_file('/media/salim/DD 2To/GAINED_NIFTI', 'GAINED_false_mask_after_flip', false_mask_after_flip)\n",
    "write_json_file('/media/salim/DD 2To/GAINED_NIFTI', 'GAINED_error_2', error_2)"
   ]
  },
  {
   "cell_type": "code",
   "execution_count": null,
   "metadata": {},
   "outputs": [],
   "source": []
  },
  {
   "cell_type": "code",
   "execution_count": null,
   "metadata": {},
   "outputs": [],
   "source": [
    "#IMPORT SERIES WITH FALSE MASK,\n",
    "#CHECK FLIP AXE Z + SMALL ERROR ON ELLIPSE "
   ]
  },
  {
   "cell_type": "code",
   "execution_count": 13,
   "metadata": {},
   "outputs": [
    {
     "name": "stdout",
     "output_type": "stream",
     "text": "392\n"
    }
   ],
   "source": [
    "#importer la liste untreated_serie pour la suite : \n",
    "json_path = '/media/salim/DD 2To/AHL2011_NIFTI/AHL2011_serie_with_false_mask.json'\n",
    "untreated_liste = []\n",
    "with open(json_path) as json_file : \n",
    "    reader = json.load(json_file)\n",
    "    for info in reader :\n",
    "        untreated_liste.append(info)\n",
    "\n",
    "print(len(untreated_liste)) #392"
   ]
  },
  {
   "cell_type": "code",
   "execution_count": 14,
   "metadata": {},
   "outputs": [
    {
     "name": "stdout",
     "output_type": "stream",
     "text": "203\n189\n"
    }
   ],
   "source": [
    "#SEPARE LES SERIES PHILIPS DES AUTRES SERIES UNTREATED\n",
    "philips_serie = []\n",
    "untreated_liste_2 = []\n",
    "for serie in untreated_liste : \n",
    "    #print(untreated_liste.index(serie))\n",
    "    try : \n",
    "        if serie[1] == 'PT' : \n",
    "            serie_pt_objet = SeriesPT(serie[0]) \n",
    "            manufacturer = serie_pt_objet.get_series_details()['series']['Manufacturer'] \n",
    "            #si philips on retraitera plus tard \n",
    "            if 'philips' in manufacturer.lower() :\n",
    "                philips_serie.append(serie)\n",
    "            else : untreated_liste_2.append(serie)\n",
    "\n",
    "        else : \n",
    "            serie_pt_objet = SeriesPT(serie[2]) \n",
    "            manufacturer = serie_pt_objet.get_series_details()['series']['Manufacturer'] \n",
    "            #si philips on retraitera plus tard \n",
    "            if 'philips' in manufacturer.lower() :\n",
    "                philips_serie.append(serie)\n",
    "            else : untreated_liste_2.append(serie)\n",
    "\n",
    "    except Exception as err : \n",
    "        print(serie)\n",
    "        print(err)\n",
    "\n",
    "\n",
    "print(len(philips_serie))\n",
    "write_json_file('/media/salim/DD 2To/AHL2011_NIFTI', 'AHL2011_untreated_philips_serie', philips_serie)\n",
    "print(len(untreated_liste_2))\n",
    "write_json_file('/media/salim/DD 2To/AHL2011_NIFTI', 'AHL2011_untreated_serie', untreated_liste_2)"
   ]
  },
  {
   "cell_type": "code",
   "execution_count": null,
   "metadata": {},
   "outputs": [],
   "source": []
  },
  {
   "cell_type": "code",
   "execution_count": 3,
   "metadata": {},
   "outputs": [
    {
     "name": "stdout",
     "output_type": "stream",
     "text": "189\n"
    }
   ],
   "source": [
    "#IMPORT JSON (serie with false mask, except Philips)\n",
    "json_path = '/media/salim/DD 2To/AHL2011_NIFTI/AHL2011_untreated_serie.json'\n",
    "untreated_liste_2 = []\n",
    "with open(json_path) as json_file : \n",
    "    reader = json.load(json_file)\n",
    "    for info in reader :\n",
    "        untreated_liste_2.append(info)\n",
    "\n",
    "print(len(untreated_liste_2)) #189"
   ]
  },
  {
   "cell_type": "code",
   "execution_count": 4,
   "metadata": {},
   "outputs": [
    {
     "name": "stdout",
     "output_type": "stream",
     "text": "0\nSMALL ERRORS ON ELLIPSE, MASK CORRECT\nEXPORT NIFTI PT\nEXPORT NIFTI CT\nEXPORT NIFTI MASK\n1\nSMALL ERRORS ON ELLIPSE, MASK CORRECT\nEXPORT NIFTI PT\nEXPORT NIFTI CT\nEXPORT NIFTI MASK\n2\nSMALL ERRORS ON ELLIPSE, MASK CORRECT\nEXPORT NIFTI PT\nEXPORT NIFTI CT\nEXPORT NIFTI MASK\n3\nSMALL ERRORS ON ELLIPSE, MASK CORRECT\nEXPORT NIFTI PT\nEXPORT NIFTI CT\nEXPORT NIFTI MASK\n4\nPROBLEME SUV MAX POLYGON\n5\nSMALL ERRORS ON ELLIPSE, MASK CORRECT\nEXPORT NIFTI PT\nEXPORT NIFTI CT\nEXPORT NIFTI MASK\n6\nSMALL ERRORS ON ELLIPSE, MASK CORRECT\nEXPORT NIFTI PT\nEXPORT NIFTI CT\nEXPORT NIFTI MASK\n7\nSMALL ERRORS ON ELLIPSE, MASK CORRECT\nEXPORT NIFTI PT\nEXPORT NIFTI CT\nEXPORT NIFTI MASK\n8\nSMALL ERRORS ON ELLIPSE, MASK CORRECT\nEXPORT NIFTI PT\nEXPORT NIFTI CT\nEXPORT NIFTI MASK\n9\nSMALL ERRORS ON ELLIPSE, MASK CORRECT\nEXPORT NIFTI PT\nEXPORT NIFTI CT\nEXPORT NIFTI MASK\n10\nSMALL ERRORS ON ELLIPSE, MASK CORRECT\nEXPORT NIFTI PT\nEXPORT NIFTI CT\nEXPORT NIFTI MASK\n11\nSMALL ERRORS ON ELLIPSE, MASK CORRECT\nEXPORT NIFTI PT\nEXPORT NIFTI CT\nEXPORT NIFTI MASK\n12\nSMALL ERRORS ON ELLIPSE, MASK CORRECT\nEXPORT NIFTI PT\nEXPORT NIFTI CT\nEXPORT NIFTI MASK\n13\nPROBLEME SUV MAX POLYGON\n14\nPROBLEME SUV MAX POLYGON\n15\nPROBLEME SUV MAX POLYGON\n16\nPROBLEME SUV MAX POLYGON\n17\nPROBLEME SUV MAX POLYGON\n18\nSMALL ERRORS ON ELLIPSE, MASK CORRECT\nEXPORT NIFTI PT\nEXPORT NIFTI CT\nEXPORT NIFTI MASK\n19\nSMALL ERRORS ON ELLIPSE, MASK CORRECT\nEXPORT NIFTI PT\nEXPORT NIFTI CT\nEXPORT NIFTI MASK\n20\nSMALL ERRORS ON ELLIPSE, MASK CORRECT\nEXPORT NIFTI PT\nEXPORT NIFTI CT\nEXPORT NIFTI MASK\n21\nSMALL ERRORS ON ELLIPSE, MASK CORRECT\nEXPORT NIFTI PT\nEXPORT NIFTI CT\nEXPORT NIFTI MASK\n22\nPROBLEME SUV MAX POLYGON\n23\nSMALL ERRORS ON ELLIPSE, MASK CORRECT\nEXPORT NIFTI PT\nEXPORT NIFTI CT\nEXPORT NIFTI MASK\n24\nPROBLEME SUV MAX POLYGON\n25\nPROBLEME SUV MAX POLYGON\n26\nPROBLEME SUV MAX POLYGON\n27\nPROBLEME SUV MAX POLYGON\n28\nPROBLEME SUV MAX POLYGON\n29\nSMALL ERRORS ON ELLIPSE, MASK CORRECT\nEXPORT NIFTI PT\nEXPORT NIFTI CT\nEXPORT NIFTI MASK\n30\nSMALL ERRORS ON ELLIPSE, MASK CORRECT\nEXPORT NIFTI PT\nEXPORT NIFTI CT\nEXPORT NIFTI MASK\n31\nSMALL ERRORS ON ELLIPSE, MASK CORRECT\nEXPORT NIFTI PT\nEXPORT NIFTI CT\nEXPORT NIFTI MASK\n32\nSMALL ERRORS ON ELLIPSE, MASK CORRECT\nEXPORT NIFTI PT\nEXPORT NIFTI CT\nEXPORT NIFTI MASK\n33\nPROBLEME SUV MAX POLYGON\n34\nPROBLEME SUV MAX POLYGON\n35\nSMALL ERRORS ON ELLIPSE, MASK CORRECT\nEXPORT NIFTI PT\nEXPORT NIFTI CT\nEXPORT NIFTI MASK\n36\nSMALL ERRORS ON ELLIPSE, MASK CORRECT\nEXPORT NIFTI PT\nEXPORT NIFTI CT\nEXPORT NIFTI MASK\n37\nSMALL ERRORS ON ELLIPSE, MASK CORRECT\nEXPORT NIFTI PT\nEXPORT NIFTI CT\nEXPORT NIFTI MASK\n38\nPROBLEME SUV MAX POLYGON\n39\nPROBLEME SUV MAX POLYGON\n40\nPROBLEME SUV MAX POLYGON\n41\nPROBLEME SUV MAX POLYGON\n42\nPROBLEME SUV MAX POLYGON\n43\nPROBLEME SUV MAX POLYGON\n44\nPROBLEME SUV MAX POLYGON\n45\nSMALL ERRORS ON ELLIPSE, MASK CORRECT\nEXPORT NIFTI PT\nEXPORT NIFTI CT\nEXPORT NIFTI MASK\n46\nSMALL ERRORS ON ELLIPSE, MASK CORRECT\nEXPORT NIFTI PT\nEXPORT NIFTI CT\nEXPORT NIFTI MASK\n47\nSMALL ERRORS ON ELLIPSE, MASK CORRECT\nEXPORT NIFTI PT\nEXPORT NIFTI CT\nEXPORT NIFTI MASK\n48\nPROBLEME SUV MAX POLYGON\n49\nPROBLEME SUV MAX POLYGON\n50\nPROBLEME SUV MAX POLYGON\n51\nSMALL ERRORS ON ELLIPSE, MASK CORRECT\nEXPORT NIFTI PT\nEXPORT NIFTI CT\nEXPORT NIFTI MASK\n52\nSMALL ERRORS ON ELLIPSE, MASK CORRECT\nEXPORT NIFTI PT\nEXPORT NIFTI CT\nEXPORT NIFTI MASK\n53\nPROBLEME SUV MAX POLYGON\n54\nSMALL ERRORS ON ELLIPSE, MASK CORRECT\nEXPORT NIFTI PT\nEXPORT NIFTI CT\nEXPORT NIFTI MASK\n55\nPROBLEME SUV MAX POLYGON\n56\nPROBLEME SUV MAX POLYGON\n57\nSMALL ERRORS ON ELLIPSE, MASK CORRECT\nEXPORT NIFTI PT\nEXPORT NIFTI CT\nEXPORT NIFTI MASK\n58\nSMALL ERRORS ON ELLIPSE, MASK CORRECT\nEXPORT NIFTI PT\nEXPORT NIFTI CT\nEXPORT NIFTI MASK\n59\nSMALL ERRORS ON ELLIPSE, MASK CORRECT\nEXPORT NIFTI PT\nEXPORT NIFTI CT\nEXPORT NIFTI MASK\n60\nSMALL ERRORS ON ELLIPSE, MASK CORRECT\nEXPORT NIFTI PT\nEXPORT NIFTI CT\nEXPORT NIFTI MASK\n61\nPROBLEME SUV MAX POLYGON\n62\nPROBLEME SUV MAX POLYGON\n63\nPROBLEME SUV MAX POLYGON\n64\nSMALL ERRORS ON ELLIPSE, MASK CORRECT\nEXPORT NIFTI PT\nEXPORT NIFTI CT\nEXPORT NIFTI MASK\n65\nSMALL ERRORS ON ELLIPSE, MASK CORRECT\nEXPORT NIFTI PT\nEXPORT NIFTI CT\nEXPORT NIFTI MASK\n66\nPROBLEME SUV MAX POLYGON\n67\nSMALL ERRORS ON ELLIPSE, MASK CORRECT\nEXPORT NIFTI PT\nEXPORT NIFTI CT\nEXPORT NIFTI MASK\n68\nSMALL ERRORS ON ELLIPSE, MASK CORRECT\nEXPORT NIFTI PT\nEXPORT NIFTI CT\nEXPORT NIFTI MASK\n69\nSMALL ERRORS ON ELLIPSE, MASK CORRECT\nEXPORT NIFTI PT\nEXPORT NIFTI CT\nEXPORT NIFTI MASK\n70\nSMALL ERRORS ON ELLIPSE, MASK CORRECT\nEXPORT NIFTI PT\nEXPORT NIFTI CT\nEXPORT NIFTI MASK\n71\nPROBLEME SUV MAX POLYGON\n72\nSMALL ERRORS ON ELLIPSE, MASK CORRECT\nEXPORT NIFTI PT\nEXPORT NIFTI CT\nEXPORT NIFTI MASK\n73\nSMALL ERRORS ON ELLIPSE, MASK CORRECT\nEXPORT NIFTI PT\nEXPORT NIFTI CT\nEXPORT NIFTI MASK\n74\nPROBLEME SUV MAX POLYGON\n75\nPROBLEME SUV MAX POLYGON\n76\nPROBLEME SUV MAX POLYGON\n77\nPROBLEME SUV MAX POLYGON\n78\nPROBLEME SUV MAX POLYGON\n79\nPROBLEME SUV MAX POLYGON\n80\nPROBLEME SUV MAX POLYGON\n81\nPROBLEME SUV MAX POLYGON\n82\nPROBLEME SUV MAX POLYGON\n83\nPROBLEME SUV MAX POLYGON\n84\nPROBLEME SUV MAX POLYGON\n85\nPROBLEME SUV MAX POLYGON\n86\nPROBLEME SUV MAX POLYGON\n87\nPROBLEME SUV MAX POLYGON\n88\nSMALL ERRORS ON ELLIPSE, MASK CORRECT\nEXPORT NIFTI PT\nEXPORT NIFTI CT\nEXPORT NIFTI MASK\n89\nPROBLEME SUV MAX POLYGON\n90\nPROBLEME SUV MAX POLYGON\n91\nPROBLEME SUV MAX POLYGON\n92\nPROBLEME SUV MAX POLYGON\n93\nPROBLEME SUV MAX POLYGON\n94\nPROBLEME SUV MAX POLYGON\n95\nSMALL ERRORS ON ELLIPSE, MASK CORRECT\nEXPORT NIFTI PT\nEXPORT NIFTI CT\nEXPORT NIFTI MASK\n96\nSMALL ERRORS ON ELLIPSE, MASK CORRECT\nEXPORT NIFTI PT\nEXPORT NIFTI CT\nEXPORT NIFTI MASK\n97\nSMALL ERRORS ON ELLIPSE, MASK CORRECT\nEXPORT NIFTI PT\nEXPORT NIFTI CT\nEXPORT NIFTI MASK\n98\nSMALL ERRORS ON ELLIPSE, MASK CORRECT\nEXPORT NIFTI PT\nEXPORT NIFTI CT\nEXPORT NIFTI MASK\n99\nSMALL ERRORS ON ELLIPSE, MASK CORRECT\nEXPORT NIFTI PT\nEXPORT NIFTI CT\nEXPORT NIFTI MASK\n100\nPROBLEME SUV MAX POLYGON\n101\nPROBLEME SUV MEAN ET SD POLYGONE\necart mean [16, 'POLYGON', 0.25]\necart sd [3, 'POLYGON', 0.16999999999999993, 16, 'POLYGON', 0.15999999999999998]\n102\nSMALL ERRORS ON ELLIPSE, MASK CORRECT\nEXPORT NIFTI PT\nEXPORT NIFTI CT\nEXPORT NIFTI MASK\n103\nSMALL ERRORS ON ELLIPSE, MASK CORRECT\nEXPORT NIFTI PT\nEXPORT NIFTI CT\nEXPORT NIFTI MASK\n104\nSMALL ERRORS ON ELLIPSE, MASK CORRECT\nEXPORT NIFTI PT\nEXPORT NIFTI CT\nEXPORT NIFTI MASK\n105\nSMALL ERRORS ON ELLIPSE, MASK CORRECT\nEXPORT NIFTI PT\nEXPORT NIFTI CT\nEXPORT NIFTI MASK\n106\nSMALL ERRORS ON ELLIPSE, MASK CORRECT\nEXPORT NIFTI PT\nEXPORT NIFTI CT\nEXPORT NIFTI MASK\n107\nPROBLEME SUV MAX POLYGON\n108\nPROBLEME SUV MAX POLYGON\n109\nPROBLEME SUV MAX POLYGON\n110\nSMALL ERRORS ON ELLIPSE, MASK CORRECT\nEXPORT NIFTI PT\nEXPORT NIFTI CT\nEXPORT NIFTI MASK\n111\nSMALL ERRORS ON ELLIPSE, MASK CORRECT\nEXPORT NIFTI PT\nEXPORT NIFTI CT\nEXPORT NIFTI MASK\n112\nSMALL ERRORS ON ELLIPSE, MASK CORRECT\nEXPORT NIFTI PT\nEXPORT NIFTI CT\nEXPORT NIFTI MASK\n113\nSMALL ERRORS ON ELLIPSE, MASK CORRECT\nEXPORT NIFTI PT\nEXPORT NIFTI CT\nEXPORT NIFTI MASK\n114\nSMALL ERRORS ON ELLIPSE, MASK CORRECT\nEXPORT NIFTI PT\nEXPORT NIFTI CT\nEXPORT NIFTI MASK\n115\nPROBLEME SUV MAX POLYGON\n116\nSMALL ERRORS ON ELLIPSE, MASK CORRECT\nEXPORT NIFTI PT\nEXPORT NIFTI CT\nEXPORT NIFTI MASK\n117\nSMALL ERRORS ON ELLIPSE, MASK CORRECT\nEXPORT NIFTI PT\nEXPORT NIFTI CT\nEXPORT NIFTI MASK\n118\nSMALL ERRORS ON ELLIPSE, MASK CORRECT\nEXPORT NIFTI PT\nEXPORT NIFTI CT\nEXPORT NIFTI MASK\n119\nSMALL ERRORS ON ELLIPSE, MASK CORRECT\nEXPORT NIFTI PT\nEXPORT NIFTI CT\nEXPORT NIFTI MASK\n120\nSMALL ERRORS ON ELLIPSE, MASK CORRECT\nEXPORT NIFTI PT\nEXPORT NIFTI CT\nEXPORT NIFTI MASK\n121\nPROBLEME SUV MAX POLYGON\n122\nSMALL ERRORS ON ELLIPSE, MASK CORRECT\nEXPORT NIFTI PT\nEXPORT NIFTI CT\nEXPORT NIFTI MASK\n123\nPROBLEME SUV MAX POLYGON\n124\nSMALL ERRORS ON ELLIPSE, MASK CORRECT\nEXPORT NIFTI PT\nEXPORT NIFTI CT\nEXPORT NIFTI MASK\n125\nSMALL ERRORS ON ELLIPSE, MASK CORRECT\nEXPORT NIFTI PT\nEXPORT NIFTI CT\nEXPORT NIFTI MASK\n126\nPROBLEME SUV MAX POLYGON\n127\nPROBLEME SUV MAX POLYGON\n128\nSMALL ERRORS ON ELLIPSE, MASK CORRECT\nEXPORT NIFTI PT\nEXPORT NIFTI CT\nEXPORT NIFTI MASK\n129\nSMALL ERRORS ON ELLIPSE, MASK CORRECT\nEXPORT NIFTI PT\nEXPORT NIFTI CT\nEXPORT NIFTI MASK\n130\nSMALL ERRORS ON ELLIPSE, MASK CORRECT\nEXPORT NIFTI PT\nEXPORT NIFTI CT\nEXPORT NIFTI MASK\n131\nPROBLEME SUV MAX POLYGON\n132\nPROBLEME SUV MAX POLYGON\n133\nPROBLEME SUV MAX POLYGON\n134\nPROBLEME SUV MAX POLYGON\n135\nPROBLEME SUV MAX POLYGON\n136\nPROBLEME SUV MAX POLYGON\n137\nPROBLEME SUV MEAN ET SD POLYGONE\necart mean [22, 'POLYGON', 0.2400000000000002]\necart sd [22, 'POLYGON', 0.1299999999999999]\n138\nSMALL ERRORS ON ELLIPSE, MASK CORRECT\nEXPORT NIFTI PT\nEXPORT NIFTI CT\nEXPORT NIFTI MASK\n139\nSMALL ERRORS ON ELLIPSE, MASK CORRECT\nEXPORT NIFTI PT\nEXPORT NIFTI CT\nEXPORT NIFTI MASK\n140\nPROBLEME SUV MAX POLYGON\n141\nPROBLEME SUV MAX POLYGON\n142\nSMALL ERRORS ON ELLIPSE, MASK CORRECT\nEXPORT NIFTI PT\nEXPORT NIFTI CT\nEXPORT NIFTI MASK\n143\nSMALL ERRORS ON ELLIPSE, MASK CORRECT\nEXPORT NIFTI PT\nEXPORT NIFTI CT\nEXPORT NIFTI MASK\n144\nSMALL ERRORS ON ELLIPSE, MASK CORRECT\nEXPORT NIFTI PT\nEXPORT NIFTI CT\nEXPORT NIFTI MASK\n145\nPROBLEME SUV MAX POLYGON\n146\nSMALL ERRORS ON ELLIPSE, MASK CORRECT\nEXPORT NIFTI PT\nEXPORT NIFTI CT\nEXPORT NIFTI MASK\n147\nSMALL ERRORS ON ELLIPSE, MASK CORRECT\nEXPORT NIFTI PT\nEXPORT NIFTI CT\nEXPORT NIFTI MASK\n148\nSMALL ERRORS ON ELLIPSE, MASK CORRECT\nEXPORT NIFTI PT\nEXPORT NIFTI CT\nEXPORT NIFTI MASK\n149\nSMALL ERRORS ON ELLIPSE, MASK CORRECT\nEXPORT NIFTI PT\nEXPORT NIFTI CT\nEXPORT NIFTI MASK\n150\nSMALL ERRORS ON ELLIPSE, MASK CORRECT\nEXPORT NIFTI PT\nEXPORT NIFTI CT\nEXPORT NIFTI MASK\n151\nPROBLEME SUV MAX POLYGON\n152\nSMALL ERRORS ON ELLIPSE, MASK CORRECT\nEXPORT NIFTI PT\nEXPORT NIFTI CT\nEXPORT NIFTI MASK\n153\nSMALL ERRORS ON ELLIPSE, MASK CORRECT\nEXPORT NIFTI PT\nEXPORT NIFTI CT\nEXPORT NIFTI MASK\n154\nSMALL ERRORS ON ELLIPSE, MASK CORRECT\nEXPORT NIFTI PT\nEXPORT NIFTI CT\nEXPORT NIFTI MASK\n155\nSMALL ERRORS ON ELLIPSE, MASK CORRECT\nEXPORT NIFTI PT\nEXPORT NIFTI CT\nEXPORT NIFTI MASK\n156\nSMALL ERRORS ON ELLIPSE, MASK CORRECT\nEXPORT NIFTI PT\nEXPORT NIFTI CT\nEXPORT NIFTI MASK\n157\nSMALL ERRORS ON ELLIPSE, MASK CORRECT\nEXPORT NIFTI PT\nEXPORT NIFTI CT\nEXPORT NIFTI MASK\n158\nSMALL ERRORS ON ELLIPSE, MASK CORRECT\nEXPORT NIFTI PT\nEXPORT NIFTI CT\nEXPORT NIFTI MASK\n159\nPROBLEME SUV MEAN ET SD POLYGONE\necart mean [4, 'ELLIPSE', 0.10000000000000053, 9, 'POLYGON', 0.46999999999999886]\necart sd [9, 'POLYGON', 0.18000000000000016]\n160\nSMALL ERRORS ON ELLIPSE, MASK CORRECT\nEXPORT NIFTI PT\nEXPORT NIFTI CT\nEXPORT NIFTI MASK\n161\nPROBLEME SUV MAX POLYGON\n162\nPROBLEME SUV MAX POLYGON\n163\nPROBLEME SUV MAX POLYGON\n164\nPROBLEME SUV MAX POLYGON\n165\nPROBLEME SUV MAX POLYGON\n166\nSMALL ERRORS ON ELLIPSE, MASK CORRECT\nEXPORT NIFTI PT\nEXPORT NIFTI CT\nEXPORT NIFTI MASK\n167\nSMALL ERRORS ON ELLIPSE, MASK CORRECT\nEXPORT NIFTI PT\nEXPORT NIFTI CT\nEXPORT NIFTI MASK\n168\nSMALL ERRORS ON ELLIPSE, MASK CORRECT\nEXPORT NIFTI PT\nEXPORT NIFTI CT\nEXPORT NIFTI MASK\n169\nSMALL ERRORS ON ELLIPSE, MASK CORRECT\nEXPORT NIFTI PT\nEXPORT NIFTI CT\nEXPORT NIFTI MASK\n170\nPROBLEME SUV MAX POLYGON\n171\nPROBLEME SUV MAX POLYGON\n172\nSMALL ERRORS ON ELLIPSE, MASK CORRECT\nEXPORT NIFTI PT\nEXPORT NIFTI CT\nEXPORT NIFTI MASK\n173\nPROBLEME SUV MAX POLYGON\n174\nPROBLEME SUV MAX POLYGON\n175\nPROBLEME SUV MAX POLYGON\n176\nPROBLEME SUV MAX POLYGON\n177\nPROBLEME SUV MAX POLYGON\n178\nPROBLEME SUV MAX POLYGON\n179\nPROBLEME SUV MAX POLYGON\n180\nPROBLEME SUV MAX POLYGON\n181\nPROBLEME SUV MAX POLYGON\n182\nPROBLEME SUV MAX POLYGON\n183\nPROBLEME SUV MAX POLYGON\n184\nSMALL ERRORS ON ELLIPSE, MASK CORRECT\nEXPORT NIFTI PT\nEXPORT NIFTI CT\nEXPORT NIFTI MASK\n185\nSMALL ERRORS ON ELLIPSE, MASK CORRECT\nEXPORT NIFTI PT\nEXPORT NIFTI CT\nEXPORT NIFTI MASK\n186\nSMALL ERRORS ON ELLIPSE, MASK CORRECT\nEXPORT NIFTI PT\nEXPORT NIFTI CT\nEXPORT NIFTI MASK\n187\nSMALL ERRORS ON ELLIPSE, MASK CORRECT\nEXPORT NIFTI PT\nEXPORT NIFTI CT\nEXPORT NIFTI MASK\n188\nSMALL ERRORS ON ELLIPSE, MASK CORRECT\nEXPORT NIFTI PT\nEXPORT NIFTI CT\nEXPORT NIFTI MASK\n"
    }
   ],
   "source": [
    "#SUR LES LISTES NON PHILIPS, ON REGARDE\n",
    "#SI ERREUR SUR SUV MAX MEAN SD SEULEMENT SUR DES ELLIPSES, SI OUI => GENERER NIFTI \n",
    "\n",
    "erreur_polygone_max = []\n",
    "erreur_polygone_mean_sd = []\n",
    "for serie in untreated_liste_2 : \n",
    "    print(untreated_liste_2.index(serie))\n",
    "    try : \n",
    "        if serie[1] == 'PT' : \n",
    "            serie_pt_objet = SeriesPT(serie[0]) \n",
    "            nifti_array = serie_pt_objet.get_numpy_array()\n",
    "            study_uid = serie_pt_objet.get_series_details()['study']['StudyInstanceUID']\n",
    "            size_matrix = serie_pt_objet.get_size_matrix()\n",
    "            mask_objet = MaskBuilder(os.path.join(csv_directory, serie[4]), size_matrix)\n",
    "            mask_4D = mask_objet.mask_array\n",
    "\n",
    "            if 'POLYGON' in mask_objet.ecart_suv_max(nifti_array) :\n",
    "                print(\"PROBLEME SUV MAX POLYGON\")\n",
    "                erreur_polygone_max.append(serie)\n",
    "            \n",
    "            else : \n",
    "\n",
    "                result_mean = mask_objet.ecart_suv_mean(nifti_array)\n",
    "                result_sd = mask_objet.ecart_SD(nifti_array)\n",
    "                if (('POLYGON' in result_mean) and ('POLYGON' in result_sd)) : \n",
    "                    print(\"PROBLEME SUV MEAN ET SD POLYGONE\")\n",
    "                    print(\"ecart mean\", result_mean)\n",
    "                    print(\"ecart sd\", result_sd)\n",
    "                    erreur_polygone_mean_sd.append(serie)\n",
    "\n",
    "                else : \n",
    "                    #si erreur sur les sd et mean QUE sur les ellipses, on tolère \n",
    "                    print(\"SMALL ERRORS ON ELLIPSE, MASK CORRECT\")\n",
    "                    #generation nifti PT\n",
    "                    filename_pt = study_uid+'_'+'nifti_'+'PT'+'.nii'\n",
    "                    serie_pt_objet.export_nifti(os.path.join(nifti_directory, filename_pt))\n",
    "                    print(\"EXPORT NIFTI PT\")\n",
    "                    #generation nifti CT\n",
    "                    serie_ct_objet = SeriesCT(serie[2])\n",
    "                    serie_ct_objet.get_numpy_array()\n",
    "                    filename_ct = study_uid+'_'+'nifti_'+'CT'+'.nii'\n",
    "                    serie_ct_objet.export_nifti(os.path.join(nifti_directory, filename_ct))\n",
    "                    print(\"EXPORT NIFTI CT\")\n",
    "                    #generation nifti mask\n",
    "                    filename_mask = study_uid+'_'+'nifti_'+'mask'+'.nii'\n",
    "                    serie_pt_objet.export_nifti(os.path.join(nifti_directory, filename_mask), mask_4D)\n",
    "                    print(\"EXPORT NIFTI MASK\")\n",
    "\n",
    "\n",
    "        else : \n",
    "            serie_pt_objet = SeriesPT(serie[2]) \n",
    "            nifti_array = serie_pt_objet.get_numpy_array()\n",
    "            study_uid = serie_pt_objet.get_series_details()['study']['StudyInstanceUID']\n",
    "            size_matrix = serie_pt_objet.get_size_matrix()\n",
    "            mask_objet = MaskBuilder(os.path.join(csv_directory, serie[4]), size_matrix)\n",
    "            mask_4D = mask_objet.mask_array\n",
    "\n",
    "            if 'POLYGON' in mask_objet.ecart_suv_max(nifti_array)  :\n",
    "                print(\"PROBLEME SUV MAX POLYGON\")\n",
    "                erreur_polygone_max.append(serie)\n",
    "            else : \n",
    "\n",
    "                result_mean = mask_objet.ecart_suv_mean(nifti_array)\n",
    "                result_sd = mask_objet.ecart_SD(nifti_array)\n",
    "                if (('POLYGON' in result_mean) and ('POLYGON' in result_sd)) : \n",
    "                    print(\"PROBLEME SUV MEAN ET SD POLYGONE\")\n",
    "                    print(\"ecart mean\", result_mean)\n",
    "                    print(\"ecart sd\", result_sd)\n",
    "                    erreur_polygone_mean_sd.append(serie)\n",
    "\n",
    "                else : \n",
    "                    #si erreur sur les sd et mean QUE sur les ellipses, on tolère \n",
    "                    print(\"SMALL ERRORS ON ELLIPSE, MASK CORRECT\")\n",
    "                    #generation nifti PT\n",
    "                    filename_pt = study_uid+'_'+'nifti_'+'PT'+'.nii'\n",
    "                    serie_pt_objet.export_nifti(os.path.join(nifti_directory, filename_pt))\n",
    "                    print(\"EXPORT NIFTI PT\")\n",
    "                    #generation nifti CT\n",
    "                    serie_ct_objet = SeriesCT(serie[0])\n",
    "                    serie_ct_objet.get_numpy_array()\n",
    "                    filename_ct = study_uid+'_'+'nifti_'+'CT'+'.nii'\n",
    "                    serie_ct_objet.export_nifti(os.path.join(nifti_directory, filename_ct))\n",
    "                    print(\"EXPORT NIFTI CT\")\n",
    "                    #generation nifti mask\n",
    "                    filename_mask = study_uid+'_'+'nifti_'+'mask'+'.nii'\n",
    "                    serie_pt_objet.export_nifti(os.path.join(nifti_directory, filename_mask), mask_4D)\n",
    "                    print(\"EXPORT NIFTI MASK\")\n",
    "\n",
    "\n",
    "    except Exception as err : \n",
    "        print(serie)\n",
    "        print(err)"
   ]
  },
  {
   "cell_type": "code",
   "execution_count": 5,
   "metadata": {},
   "outputs": [
    {
     "name": "stdout",
     "output_type": "stream",
     "text": "89\n3\n"
    }
   ],
   "source": [
    "print(len(erreur_polygone_max))\n",
    "print(len(erreur_polygone_mean_sd))"
   ]
  },
  {
   "cell_type": "code",
   "execution_count": 6,
   "metadata": {},
   "outputs": [],
   "source": [
    "#save as json the list of serie which have a mask problem \n",
    "write_json_file('/media/salim/DD 2To/AHL2011_NIFTI', 'AHL2011_serie_error_polygone_max', erreur_polygone_max)\n",
    "write_json_file('/media/salim/DD 2To/AHL2011_NIFTI', 'AHL2011_serie_error_polygone_mean_sd', erreur_polygone_mean_sd)"
   ]
  },
  {
   "cell_type": "code",
   "execution_count": null,
   "metadata": {},
   "outputs": [],
   "source": []
  },
  {
   "cell_type": "code",
   "execution_count": null,
   "metadata": {},
   "outputs": [],
   "source": []
  },
  {
   "cell_type": "code",
   "execution_count": null,
   "metadata": {},
   "outputs": [],
   "source": [
    "#CHECKER LE FLIP : AUCUNE SERIE GENERER AVEC LE FLIP "
   ]
  },
  {
   "cell_type": "code",
   "execution_count": 19,
   "metadata": {},
   "outputs": [
    {
     "name": "stdout",
     "output_type": "stream",
     "text": "0\n1\n2\n3\n4\n5\n6\n7\n8\n9\n10\n11\n12\n13\n14\n15\n16\n17\n18\n19\n20\n21\n22\n23\n24\n25\n26\n27\n28\n29\n30\n31\n32\n33\n34\n35\n36\n37\n38\n39\n40\n41\n42\n43\n44\n45\n46\n47\n48\n49\n50\n51\n52\n53\n54\n55\n56\n57\n58\n59\n60\n61\n62\n63\n64\n65\n66\n67\n68\n69\n70\n71\n72\n73\n74\n75\n76\n77\n78\n79\n80\n81\n82\n83\n84\n85\n86\n87\n88\n89\n90\n91\n92\n93\n94\n95\n96\n97\n98\n99\n100\n101\n102\n103\n104\n105\n106\n107\n108\n109\n110\n111\n112\n113\n114\n115\n116\n117\n118\n119\n120\n121\n122\n123\n124\n125\n126\n127\n128\n129\n130\n131\n132\n133\n134\n135\n136\n137\n138\n139\n140\n141\n142\n143\n144\n145\n146\n147\n148\n149\n150\n151\n152\n153\n154\n155\n156\n"
    }
   ],
   "source": [
    "#ON FLIP LE MASK ET ON REGARDE SI LES CALCLS SUV MAX MEAN SD SONT BONS\n",
    "#SI OUI => GENERE NIFTI \n",
    "\n",
    "serie_with_flip = []\n",
    "for serie in serie_error_mask: \n",
    "    print(serie_error_mask.index(serie))\n",
    "    try : \n",
    "        if serie[1] == 'PT' : \n",
    "            serie_pt_objet = SeriesPT(serie[0]) \n",
    "            nifti_array = serie_pt_objet.get_numpy_array()\n",
    "            study_uid = serie_pt_objet.get_series_details()['study']['StudyInstanceUID']\n",
    "            size_matrix = serie_pt_objet.get_size_matrix()\n",
    "            mask_objet = MaskBuilder(os.path.join(csv_directory, serie[4]), size_matrix)\n",
    "            mask_4D = mask_objet.mask_array\n",
    "            if (mask_objet.is_correct_suv(nifti_array, flip = True) == True) : #si mask correct APRES LE FLIP \n",
    "                print(\"MASK CORRECT APRES FLIP\")\n",
    "                #generation nifti PT\n",
    "                filename_pt = study_uid+'_'+'nifti_'+'PT'+'.nii'\n",
    "                serie_pt_objet.export_nifti(os.path.join(nifti_directory, filename_pt))\n",
    "                print(\"EXPORT NIFTI PT\")\n",
    "                #generation nifti CT\n",
    "                serie_ct_objet = SeriesCT(serie[2])\n",
    "                serie_ct_objet.get_numpy_array()\n",
    "                filename_ct = study_uid+'_'+'nifti_'+'CT'+'.nii'\n",
    "                serie_ct_objet.export_nifti(os.path.join(nifti_directory, filename_ct))\n",
    "                print(\"EXPORT NIFTI CT\")\n",
    "                #generation nifti mask\n",
    "                mask_objet.flip_z(mask_4D)\n",
    "                mask_4D_flip = mask_objet.mask_array\n",
    "                filename_mask = study_uid+'_'+'nifti_'+'mask'+'.nii'\n",
    "                serie_pt_objet.export_nifti(os.path.join(nifti_directory, filename_mask), mask_4D_flip)\n",
    "                print(\"EXPORT NIFTI MASK\")\n",
    "                serie_with_flip.append(serie)\n",
    "\n",
    "        else : \n",
    "            serie_pt_objet = SeriesPT(serie[2]) \n",
    "            nifti_array = serie_pt_objet.get_numpy_array()\n",
    "            study_uid = serie_pt_objet.get_series_details()['study']['StudyInstanceUID']\n",
    "            size_matrix = serie_pt_objet.get_size_matrix()\n",
    "            mask_objet = MaskBuilder(os.path.join(csv_directory, serie[4]), size_matrix)\n",
    "            mask_4D = mask_objet.mask_array\n",
    "            if (mask_objet.is_correct_suv(nifti_array, flip = True) == True) : #si mask correct APRES LE FLIP \n",
    "                print(\"MASK CORRECT APRES FLIP\")\n",
    "                #generation nifti PT\n",
    "                filename_pt = study_uid+'_'+'nifti_'+'PT'+'.nii'\n",
    "                serie_pt_objet.export_nifti(os.path.join(nifti_directory, filename_pt))\n",
    "                print(\"EXPORT NIFTI PT\")\n",
    "                #generation nifti CT\n",
    "                serie_ct_objet = SeriesCT(serie[0])\n",
    "                serie_ct_objet.get_numpy_array()\n",
    "                filename_ct = study_uid+'_'+'nifti_'+'CT'+'.nii'\n",
    "                serie_ct_objet.export_nifti(os.path.join(nifti_directory, filename_ct))\n",
    "                print(\"EXPORT NIFTI CT\")\n",
    "                #generation nifti mask\n",
    "                mask_objet.flip_z(mask_4D)\n",
    "                mask_4D_flip = mask_objet.mask_array\n",
    "                filename_mask = study_uid+'_'+'nifti_'+'mask'+'.nii'\n",
    "                serie_pt_objet.export_nifti(os.path.join(nifti_directory, filename_mask), mask_4D_flip)\n",
    "                print(\"EXPORT NIFTI MASK\")\n",
    "                serie_with_flip.append(serie)\n",
    "\n",
    "\n",
    "\n",
    "    except Exception as err : \n",
    "        print(serie)\n",
    "        print(err)"
   ]
  },
  {
   "cell_type": "code",
   "execution_count": 20,
   "metadata": {},
   "outputs": [],
   "source": [
    "#APRES FLIP, REGARDER SI SMALL ERRORS SUR ELLIPSE\n",
    "#SI PAS DE PROBLEMES SUR LES POLYGONES ON PEUT GENERER LE NIFTI "
   ]
  },
  {
   "cell_type": "code",
   "execution_count": 4,
   "metadata": {},
   "outputs": [
    {
     "name": "stdout",
     "output_type": "stream",
     "text": "0\nPROBLEME SUV MAX\n1\nPROBLEME SUV MAX\n2\nPROBLEME SUV MAX\n3\nPROBLEME SUV MAX\n4\nPROBLEME SUV MAX\n5\nPROBLEME SUV MAX\n6\nPROBLEME SUV MAX\n7\nPROBLEME SUV MAX\n8\nPROBLEME SUV MAX\n9\nPROBLEME SUV MAX\n10\nPROBLEME SUV MAX\n11\nPROBLEME SUV MAX\n12\nPROBLEME SUV MAX\n13\nPROBLEME SUV MAX\n14\nPROBLEME SUV MAX\n15\nPROBLEME SUV MAX\n16\nPROBLEME SUV MAX\n17\nPROBLEME SUV MAX\n18\nPROBLEME SUV MAX\n19\nPROBLEME SUV MAX\n20\nPROBLEME SUV MAX\n21\nPROBLEME SUV MAX\n22\nPROBLEME SUV MAX\n23\nPROBLEME SUV MAX\n24\nPROBLEME SUV MAX\n25\nPROBLEME SUV MAX\n26\nPROBLEME SUV MAX\n27\nPROBLEME SUV MAX\n28\nPROBLEME SUV MAX\n29\nPROBLEME SUV MAX\n30\nPROBLEME SUV MAX\n31\nPROBLEME SUV MAX\n32\nPROBLEME SUV MAX\n33\nPROBLEME SUV MAX\n34\nPROBLEME SUV MAX\n35\nPROBLEME SUV MAX\n36\nPROBLEME SUV MAX\n37\nPROBLEME SUV MAX\n38\nPROBLEME SUV MAX\n39\nPROBLEME SUV MAX\n40\nPROBLEME SUV MAX\n41\nPROBLEME SUV MAX\n42\nPROBLEME SUV MAX\n43\nPROBLEME SUV MAX\n44\nPROBLEME SUV MAX\n45\nPROBLEME SUV MAX\n46\nPROBLEME SUV MAX\n47\nPROBLEME SUV MAX\n48\nPROBLEME SUV MAX\n49\nPROBLEME SUV MAX\n50\nPROBLEME SUV MAX\n51\nPROBLEME SUV MAX\n52\nPROBLEME SUV MAX\n53\nPROBLEME SUV MAX\n54\nPROBLEME SUV MAX\n55\nPROBLEME SUV MAX\n56\nPROBLEME SUV MAX\n57\nPROBLEME SUV MAX\n58\nPROBLEME SUV MAX\n59\nPROBLEME SUV MAX\n60\nPROBLEME SUV MAX\n61\nPROBLEME SUV MAX\n62\nPROBLEME SUV MAX\n63\nPROBLEME SUV MAX\n64\nPROBLEME SUV MAX\n65\nPROBLEME SUV MAX\n66\nPROBLEME SUV MAX\n67\nPROBLEME SUV MAX\n68\nPROBLEME SUV MAX\n69\nPROBLEME SUV MAX\n70\nPROBLEME SUV MAX\n71\nPROBLEME SUV MAX\n72\nPROBLEME SUV MAX\n73\nPROBLEME SUV MAX\n74\nPROBLEME SUV MAX\n75\nPROBLEME SUV MAX\n76\nPROBLEME SUV MAX\n77\nPROBLEME SUV MAX\n78\nPROBLEME SUV MAX\n79\nPROBLEME SUV MAX\n80\nPROBLEME SUV MAX\n81\nPROBLEME SUV MAX\n82\nPROBLEME SUV MAX\n83\nPROBLEME SUV MAX\n84\nPROBLEME SUV MAX\n85\nPROBLEME SUV MAX\n86\nPROBLEME SUV MAX\n87\nPROBLEME SUV MAX\n88\nPROBLEME SUV MAX\n89\nPROBLEME SUV MAX\n90\nPROBLEME SUV MAX\n91\nPROBLEME SUV MAX\n92\nPROBLEME SUV MAX\n93\nPROBLEME SUV MAX\n94\nPROBLEME SUV MAX\n95\nPROBLEME SUV MAX\n96\nPROBLEME SUV MAX\n97\nPROBLEME SUV MAX\n98\nPROBLEME SUV MAX\n99\nPROBLEME SUV MAX\n100\nPROBLEME SUV MAX\n101\nPROBLEME SUV MAX\n102\nPROBLEME SUV MAX\n103\nPROBLEME SUV MAX\n104\nPROBLEME SUV MAX\n105\nPROBLEME SUV MAX\n106\nPROBLEME SUV MAX\n107\nPROBLEME SUV MAX\n108\nPROBLEME SUV MAX\n109\nPROBLEME SUV MAX\n110\nPROBLEME SUV MAX\n111\nPROBLEME SUV MAX\n112\nPROBLEME SUV MAX\n113\nPROBLEME SUV MAX\n114\nPROBLEME SUV MAX\n115\nPROBLEME SUV MAX\n116\nPROBLEME SUV MAX\n117\nPROBLEME SUV MAX\n118\nPROBLEME SUV MAX\n119\nPROBLEME SUV MAX\n120\nPROBLEME SUV MAX\n121\nPROBLEME SUV MAX\n122\nPROBLEME SUV MAX\n123\nPROBLEME SUV MAX\n124\nPROBLEME SUV MAX\n125\nPROBLEME SUV MAX\n126\nPROBLEME SUV MAX\n127\nPROBLEME SUV MAX\n128\nPROBLEME SUV MAX\n129\nPROBLEME SUV MAX\n130\nPROBLEME SUV MAX\n131\nPROBLEME SUV MAX\n132\nPROBLEME SUV MAX\n133\nPROBLEME SUV MAX\n134\nPROBLEME SUV MAX\n135\nPROBLEME SUV MAX\n136\nPROBLEME SUV MAX\n137\nPROBLEME SUV MAX\n138\nPROBLEME SUV MAX\n139\nPROBLEME SUV MAX\n140\nPROBLEME SUV MAX\n141\nPROBLEME SUV MAX\n142\nPROBLEME SUV MAX\n143\nPROBLEME SUV MAX\n144\nPROBLEME SUV MAX\n145\nPROBLEME SUV MAX\n146\nPROBLEME SUV MAX\n147\nPROBLEME SUV MAX\n148\nPROBLEME SUV MAX\n149\nPROBLEME SUV MAX\n150\nPROBLEME SUV MAX\n151\nPROBLEME SUV MAX\n152\nPROBLEME SUV MAX\n153\nPROBLEME SUV MAX\n154\nPROBLEME SUV MAX\n155\nPROBLEME SUV MAX\n156\nPROBLEME SUV MAX\n"
    }
   ],
   "source": [
    "#MASK AVEC FLIP FAUX : \n",
    "serie_problem = []\n",
    "\n",
    "for serie in serie_error_mask: \n",
    "    print(serie_error_mask.index(serie))\n",
    "    try : \n",
    "        if serie[1] == 'PT' : \n",
    "            serie_pt_objet = SeriesPT(serie[0]) \n",
    "            nifti_array = serie_pt_objet.get_numpy_array()\n",
    "            study_uid = serie_pt_objet.get_series_details()['study']['StudyInstanceUID']\n",
    "            size_matrix = serie_pt_objet.get_size_matrix()\n",
    "            mask_objet = MaskBuilder(os.path.join(csv_directory, serie[4]), size_matrix)\n",
    "            mask_4D = mask_objet.mask_array\n",
    "            if 'POLYGON' in mask_objet.ecart_suv_max(nifti_array, flip = True) :\n",
    "                print(\"PROBLEME SUV MAX POLYGON\")\n",
    "                serie_problem.append(serie)\n",
    "            else : \n",
    "                result_mean = mask_objet.ecart_suv_mean(nifti_array, flip = True)\n",
    "                result_sd = mask_objet.ecart_SD(nifti_array, flip = True)\n",
    "                if (('POLYGON' not in result_mean) and ('POLYGON' not in result_sd)) : \n",
    "                    #si erreur sur les sd et mean QUE sur les ellipses, on tolère \n",
    "                    print(\"SMALL ERRORS ON ELLIPSE AFTER FLIP, MASK CORRECT\")\n",
    "                    #generation nifti PT\n",
    "                    filename_pt = study_uid+'_'+'nifti_'+'PT'+'.nii'\n",
    "                    serie_pt_objet.export_nifti(os.path.join(nifti_directory, filename_pt))\n",
    "                    print(\"EXPORT NIFTI PT\")\n",
    "                    #generation nifti CT\n",
    "                    serie_ct_objet = SeriesCT(serie[2])\n",
    "                    serie_ct_objet.get_numpy_array()\n",
    "                    filename_ct = study_uid+'_'+'nifti_'+'CT'+'.nii'\n",
    "                    serie_ct_objet.export_nifti(os.path.join(nifti_directory, filename_ct))\n",
    "                    print(\"EXPORT NIFTI CT\")\n",
    "                    #generation nifti mask\n",
    "                    mask_objet.flip_z(mask_4D)\n",
    "                    mask_4D_flip = mask_objet.mask_array\n",
    "                    filename_mask = study_uid+'_'+'nifti_'+'mask'+'.nii'\n",
    "                    serie_pt_objet.export_nifti(os.path.join(nifti_directory, filename_mask), mask_4D_flip)\n",
    "                    print(\"EXPORT NIFTI MASK\")\n",
    "                else : #sinon problème sur lles polygones\n",
    "                    serie_problem.append(serie)\n",
    "\n",
    "\n",
    "\n",
    "\n",
    "\n",
    "        else : \n",
    "            serie_pt_objet = SeriesPT(serie[2]) \n",
    "            nifti_array = serie_pt_objet.get_numpy_array()\n",
    "            study_uid = serie_pt_objet.get_series_details()['study']['StudyInstanceUID']\n",
    "            size_matrix = serie_pt_objet.get_size_matrix()\n",
    "            mask_objet = MaskBuilder(os.path.join(csv_directory, serie[4]), size_matrix)\n",
    "            mask_4D = mask_objet.mask_array\n",
    "            if 'POLYGON' in mask_objet.ecart_suv_max(nifti_array, flip = True) :\n",
    "                print(\"PROBLEME SUV MAX POLYGONE\")\n",
    "                serie_problem.append(serie)\n",
    "            else : \n",
    "                result_mean = mask_objet.ecart_suv_mean(nifti_array, flip = True)\n",
    "                result_sd = mask_objet.ecart_SD(nifti_array, flip = True)\n",
    "                if (('POLYGON' not in result_mean) and ('POLYGON' not in result_sd)) : \n",
    "                    #si erreur sur les sd et mean QUE sur les ellipses, on tolère \n",
    "                    print(\"SMALL ERRORS ON ELLIPSE AFTER FLIP, MASK CORRECT\")\n",
    "                    #generation nifti PT\n",
    "                    filename_pt = study_uid+'_'+'nifti_'+'PT'+'.nii'\n",
    "                    serie_pt_objet.export_nifti(os.path.join(nifti_directory, filename_pt))\n",
    "                    print(\"EXPORT NIFTI PT\")\n",
    "                    #generation nifti CT\n",
    "                    serie_ct_objet = SeriesCT(serie[0])\n",
    "                    serie_ct_objet.get_numpy_array()\n",
    "                    filename_ct = study_uid+'_'+'nifti_'+'CT'+'.nii'\n",
    "                    serie_ct_objet.export_nifti(os.path.join(nifti_directory, filename_ct))\n",
    "                    print(\"EXPORT NIFTI CT\")\n",
    "                    #generation nifti mask\n",
    "                    mask_objet.flip_z(mask_4D)\n",
    "                    mask_4D_flip = mask_objet.mask_array\n",
    "                    filename_mask = study_uid+'_'+'nifti_'+'mask'+'.nii'\n",
    "                    serie_pt_objet.export_nifti(os.path.join(nifti_directory, filename_mask), mask_4D_flip)\n",
    "                    print(\"EXPORT NIFTI MASK\")\n",
    "                else : #sinon problème sur les polygones\n",
    "                    serie_problem.append(serie)\n",
    "            \n",
    "\n",
    "    except Exception as err : \n",
    "        print(serie)\n",
    "        print(err)"
   ]
  },
  {
   "cell_type": "code",
   "execution_count": null,
   "metadata": {},
   "outputs": [],
   "source": [
    "#GENERER MIP DES MASK FAUX"
   ]
  },
  {
   "cell_type": "code",
   "execution_count": 4,
   "metadata": {},
   "outputs": [
    {
     "name": "stdout",
     "output_type": "stream",
     "text": "95\n"
    }
   ],
   "source": [
    "#SERIE WITH ERROR SUV MAX POLYGONE\n",
    "json_path = '/media/salim/DD 2To/AHL2011_MIP/AHL2011_false_mask.json'\n",
    "false_mask = []\n",
    "with open(json_path) as json_file : \n",
    "    reader = json.load(json_file)\n",
    "    for info in reader :\n",
    "        false_mask.append(info)\n",
    "\n",
    "print(len(false_mask))"
   ]
  },
  {
   "cell_type": "code",
   "execution_count": 7,
   "metadata": {},
   "outputs": [
    {
     "name": "stdout",
     "output_type": "stream",
     "text": "0\ntaille mask :  (128, 128, 313, 10)\n1\ntaille mask :  (128, 128, 275, 16)\n2\ntaille mask :  (128, 128, 275, 5)\n3\ntaille mask :  (128, 128, 275, 30)\n4\ntaille mask :  (128, 128, 275, 20)\n5\ntaille mask :  (128, 128, 287, 46)\n6\ntaille mask :  (128, 128, 287, 15)\n7\ntaille mask :  (168, 168, 405, 70)\n8\ntaille mask :  (168, 168, 479, 38)\n9\ntaille mask :  (200, 200, 481, 21)\n10\ntaille mask :  (168, 168, 390, 6)\n11\ntaille mask :  (200, 200, 481, 19)\n12\ntaille mask :  (200, 200, 481, 5)\n13\ntaille mask :  (192, 192, 299, 12)\n14\ntaille mask :  (256, 256, 335, 13)\n15\ntaille mask :  (256, 256, 299, 13)\n16\ntaille mask :  (256, 256, 299, 27)\n17\ntaille mask :  (256, 256, 299, 8)\n18\ntaille mask :  (256, 256, 335, 16)\n19\ntaille mask :  (256, 256, 335, 10)\n20\ntaille mask :  (192, 192, 299, 8)\n21\ntaille mask :  (256, 256, 299, 20)\n22\ntaille mask :  (256, 256, 299, 18)\n23\ntaille mask :  (256, 256, 335, 13)\n24\ntaille mask :  (256, 256, 299, 24)\n25\ntaille mask :  (256, 256, 299, 11)\n26\ntaille mask :  (256, 256, 299, 7)\n27\ntaille mask :  (256, 256, 335, 18)\n28\ntaille mask :  (256, 256, 299, 23)\n29\ntaille mask :  (256, 256, 335, 18)\n30\ntaille mask :  (256, 256, 299, 19)\n31\ntaille mask :  (128, 128, 287, 22)\n32\ntaille mask :  (128, 128, 327, 3)\n33\ntaille mask :  (128, 128, 327, 22)\n34\ntaille mask :  (128, 128, 327, 17)\n35\ntaille mask :  (128, 128, 327, 9)\n36\ntaille mask :  (128, 128, 327, 12)\n37\ntaille mask :  (168, 168, 390, 39)\n38\ntaille mask :  (168, 168, 344, 27)\n39\ntaille mask :  (168, 168, 479, 3)\n40\ntaille mask :  (128, 128, 263, 13)\n41\ntaille mask :  (128, 128, 263, 16)\n42\ntaille mask :  (128, 128, 299, 12)\n43\ntaille mask :  (128, 128, 263, 19)\n44\ntaille mask :  (128, 128, 263, 13)\n45\ntaille mask :  (128, 128, 263, 28)\n46\ntaille mask :  (128, 128, 263, 28)\n47\ntaille mask :  (168, 168, 487, 60)\n48\ntaille mask :  (256, 256, 263, 30)\n49\ntaille mask :  (256, 256, 227, 16)\n50\ntaille mask :  (128, 128, 297, 23)\n51\ntaille mask :  (256, 256, 335, 11)\n52\ntaille mask :  (128, 128, 275, 7)\n53\ntaille mask :  (128, 128, 275, 8)\n54\ntaille mask :  (128, 128, 313, 15)\n55\ntaille mask :  (128, 128, 313, 23)\n56\ntaille mask :  (200, 200, 221, 21)\n57\ntaille mask :  (200, 200, 481, 8)\n58\ntaille mask :  (200, 200, 543, 10)\n59\ntaille mask :  (200, 200, 481, 6)\n60\ntaille mask :  (200, 200, 543, 5)\n61\ntaille mask :  (200, 200, 481, 6)\n62\ntaille mask :  (128, 128, 299, 18)\n63\ntaille mask :  (128, 128, 335, 19)\n64\ntaille mask :  (168, 168, 405, 118)\n65\ntaille mask :  (128, 128, 299, 30)\n66\ntaille mask :  (256, 256, 263, 13)\n67\ntaille mask :  (144, 144, 213, 19)\n68\ntaille mask :  (144, 144, 213, 19)\n69\ntaille mask :  (144, 144, 234, 1)\n70\ntaille mask :  (144, 144, 213, 40)\n71\ntaille mask :  (144, 144, 234, 15)\n72\ntaille mask :  (144, 144, 234, 12)\n73\ntaille mask :  (169, 169, 255, 18)\n74\ntaille mask :  (169, 169, 255, 42)\n75\ntaille mask :  (144, 144, 255, 14)\n76\ntaille mask :  (144, 144, 276, 8)\n77\ntaille mask :  (144, 144, 255, 11)\n78\ntaille mask :  (169, 169, 255, 4)\n79\ntaille mask :  (144, 144, 234, 26)\n80\ntaille mask :  (169, 169, 255, 23)\n81\ntaille mask :  (144, 144, 213, 15)\n82\ntaille mask :  (169, 169, 234, 4)\n83\ntaille mask :  (144, 144, 297, 15)\n84\ntaille mask :  (144, 144, 297, 26)\n85\ntaille mask :  (144, 144, 297, 37)\n86\ntaille mask :  (144, 144, 276, 10)\n87\ntaille mask :  (144, 144, 339, 39)\n88\ntaille mask :  (144, 144, 276, 9)\n89\ntaille mask :  (144, 144, 297, 118)\n90\ntaille mask :  (144, 144, 317, 4)\n91\ntaille mask :  (144, 144, 297, 22)\n92\ntaille mask :  (144, 144, 297, 17)\n93\ntaille mask :  (144, 144, 234, 29)\n94\ntaille mask :  (144, 144, 297, 7)\n"
    }
   ],
   "source": [
    "#GENERATE PDF WITH MIP ANGLE 0 OF PET AND MASK FOR EVERY SERIE\n",
    "\n",
    "from library_dicom.dicom_processor.tools.create_mip import *\n",
    "from library_dicom.dicom_processor.tools.threshold_mask import *\n",
    "mip_directory = '/media/salim/DD 2To/AHL2011_MIP'\n",
    "\n",
    "\n",
    "\n",
    "path_mip = []\n",
    "for serie in false_mask : \n",
    "    index = false_mask.index(serie)\n",
    "    print(index)\n",
    "    subliste = []\n",
    "    if serie[1] =='PT' :\n",
    "        serie_pt_objet = SeriesPT(serie[0])\n",
    "        study_uid = serie_pt_objet.get_series_details()['study']['StudyInstanceUID']\n",
    "        nifti_array = serie_pt_objet.get_numpy_array()\n",
    "        angle_filename = mip_projection(nifti_array, 0, mip_directory, study_uid, borne_max = 5.0)             #mip.png PET\n",
    "        subliste.append(angle_filename)\n",
    "\n",
    "        size_matrix = serie_pt_objet.get_size_matrix()\n",
    "        mask_objet = MaskBuilder(os.path.join(csv_directory, serie[4]), size_matrix)\n",
    "        mask_4D = mask_objet.mask_array\n",
    "        number_roi = mask_4D.shape[3]\n",
    "        threshold = mask_objet.details_rois['SUVlo']\n",
    "        #seuillage\n",
    "        mask_4D = threshold_mask(mask_4D, mask_objet.details_rois, nifti_array,  flip = False)\n",
    "        angle_filename_mask = mip_projection_4D(mask_4D, 0, mip_directory, study_uid, number_roi, borne_max = 5.0)\n",
    "        #mip.png MASK\n",
    "        subliste.append(angle_filename_mask)\n",
    "\n",
    "        path_mip.append(subliste)\n",
    "\n",
    "\n",
    "    else : \n",
    "        serie_pt_objet = SeriesPT(serie[2])\n",
    "        study_uid = serie_pt_objet.get_series_details()['study']['StudyInstanceUID']\n",
    "        nifti_array = serie_pt_objet.get_numpy_array()\n",
    "        angle_filename = mip_projection(nifti_array, 0, mip_directory, study_uid, borne_max = 5.0) \n",
    "        #mip.png PET\n",
    "        subliste.append(angle_filename)\n",
    "        size_matrix = serie_pt_objet.get_size_matrix()\n",
    "        mask_objet = MaskBuilder(os.path.join(csv_directory, serie[4]), size_matrix)\n",
    "        mask_4D = mask_objet.mask_array\n",
    "        number_roi = mask_4D.shape[3]\n",
    "        threshold = mask_objet.details_rois['SUVlo']\n",
    "        #seuillage\n",
    "        mask_4D = threshold_mask(mask_4D, mask_objet.details_rois, nifti_array, flip = False)\n",
    "        angle_filename_mask = mip_projection_4D(mask_4D, 0, mip_directory, study_uid, number_roi, borne_max = 5.0)\n",
    "        #mip.png MASK\n",
    "        subliste.append(angle_filename_mask)\n",
    "\n",
    "        path_mip.append(subliste)\n",
    "\n"
   ]
  },
  {
   "cell_type": "code",
   "execution_count": null,
   "metadata": {},
   "outputs": [],
   "source": []
  },
  {
   "cell_type": "code",
   "execution_count": null,
   "metadata": {},
   "outputs": [],
   "source": []
  },
  {
   "cell_type": "code",
   "execution_count": null,
   "metadata": {},
   "outputs": [],
   "source": []
  },
  {
   "cell_type": "code",
   "execution_count": null,
   "metadata": {},
   "outputs": [],
   "source": []
  },
  {
   "cell_type": "code",
   "execution_count": 8,
   "metadata": {},
   "outputs": [
    {
     "name": "stdout",
     "output_type": "stream",
     "text": "95\n"
    }
   ],
   "source": [
    "print(len(path_mip))\n",
    "write_json_file('/media/salim/DD 2To/AHL2011_MIP', 'AHL2011_list_mip', path_mip)"
   ]
  },
  {
   "cell_type": "code",
   "execution_count": 9,
   "metadata": {},
   "outputs": [],
   "source": [
    "#create pdf \n",
    "\n",
    "mip_directory = '/media/salim/DD 2To/AHL2011_MIP'\n",
    "filename = os.path.join(mip_directory, 'list_mip.pdf')\n",
    "create_pdf_mip(path_mip, filename)"
   ]
  },
  {
   "cell_type": "code",
   "execution_count": null,
   "metadata": {},
   "outputs": [],
   "source": [
    "#GENERER MIP MASK CORONAL "
   ]
  },
  {
   "cell_type": "code",
   "execution_count": 4,
   "metadata": {},
   "outputs": [
    {
     "name": "stdout",
     "output_type": "stream",
     "text": "0\n(144, 144, 234, 21)\n(144, 144, 234, 21)\ntaille mask :  (144, 144, 234, 21)\n1\n(144, 144, 234, 30)\n(144, 144, 234, 30)\ntaille mask :  (144, 144, 234, 30)\n2\n(144, 144, 213, 13)\n(144, 144, 213, 13)\ntaille mask :  (144, 144, 213, 13)\n3\n(144, 144, 276, 15)\n(144, 144, 276, 15)\ntaille mask :  (144, 144, 276, 15)\n4\n(144, 144, 276, 31)\n(144, 144, 276, 31)\ntaille mask :  (144, 144, 276, 31)\n5\n(144, 144, 276, 15)\n(144, 144, 276, 15)\ntaille mask :  (144, 144, 276, 15)\n6\n(144, 144, 234, 11)\n(144, 144, 234, 11)\ntaille mask :  (144, 144, 234, 11)\n7\n(144, 144, 255, 5)\n(144, 144, 255, 5)\ntaille mask :  (144, 144, 255, 5)\n8\n(256, 256, 335, 25)\n(256, 256, 335, 25)\ntaille mask :  (256, 256, 335, 25)\n9\n(256, 256, 299, 11)\n(256, 256, 299, 11)\ntaille mask :  (256, 256, 299, 11)\n10\n(168, 168, 405, 32)\n(168, 168, 405, 32)\ntaille mask :  (168, 168, 405, 32)\n11\n(256, 256, 515, 12)\n(256, 256, 515, 12)\ntaille mask :  (256, 256, 515, 12)\n12\n(144, 144, 255, 4)\n(144, 144, 255, 4)\ntaille mask :  (144, 144, 255, 4)\n13\n(144, 144, 255, 12)\n(144, 144, 255, 12)\ntaille mask :  (144, 144, 255, 12)\n14\n(144, 144, 255, 15)\n(144, 144, 255, 15)\ntaille mask :  (144, 144, 255, 15)\n"
    }
   ],
   "source": [
    "# A FAIRE AUSSI LES SERIES EN CORONAL (FLIP Z) \n",
    "mip_directory = '/media/salim/DD 2To/AHL2011_MIP_FLIP'\n",
    "\n",
    "\n",
    "\n",
    "path_mip = []\n",
    "for serie in list_coronal : \n",
    "    index = list_coronal.index(serie)\n",
    "    print(index)\n",
    "    subliste = []\n",
    "    if serie[1] =='PT' :\n",
    "        serie_pt_objet = SeriesPT(serie[0])\n",
    "        study_uid = serie_pt_objet.get_series_details()['study']['StudyInstanceUID']\n",
    "        nifti_array = serie_pt_objet.get_numpy_array()\n",
    "        angle_filename = mip_projection(nifti_array, 0, mip_directory, study_uid, borne_max = 5.0)             #mip.png PET\n",
    "        subliste.append(angle_filename)\n",
    "\n",
    "        size_matrix = serie_pt_objet.get_size_matrix()\n",
    "        mask_objet = MaskBuilder(os.path.join(csv_directory, serie[4]), size_matrix)\n",
    "        mask_4D = mask_objet.mask_array\n",
    "\n",
    "        print(mask_4D.shape)\n",
    "        number_roi = mask_4D.shape[3]\n",
    "        threshold = mask_objet.details_rois['SUVlo']\n",
    "        #seuillage\n",
    "        flip_mask = mask_objet.flip_z(mask_4D)\n",
    "        print(flip_mask.shape)\n",
    "        #mask_4D_flip = mask_objet.mask_array\n",
    "        new_mask_4D_flip = threshold_mask(flip_mask, mask_objet.details_rois, nifti_array)\n",
    "        angle_filename_mask = mip_projection_4D(new_mask_4D_flip, 0, mip_directory, study_uid, number_roi, borne_max = 5.0)\n",
    "        #mip.png MASK\n",
    "        subliste.append(angle_filename_mask)\n",
    "\n",
    "        path_mip.append(subliste)\n",
    "\n",
    "        \n",
    "\n",
    "\n",
    "\n",
    "\n",
    "    else : \n",
    "        serie_pt_objet = SeriesPT(serie[2])\n",
    "        study_uid = serie_pt_objet.get_series_details()['study']['StudyInstanceUID']\n",
    "        nifti_array = serie_pt_objet.get_numpy_array()\n",
    "        angle_filename = mip_projection(nifti_array, 0, mip_directory, study_uid, borne_max = 5.0) \n",
    "        #mip.png PET\n",
    "        subliste.append(angle_filename)\n",
    "        size_matrix = serie_pt_objet.get_size_matrix()\n",
    "        mask_objet = MaskBuilder(os.path.join(csv_directory, serie[4]), size_matrix)\n",
    "        \n",
    "        mask_4D = mask_objet.mask_array\n",
    "\n",
    "        print(mask_4D.shape)\n",
    "        number_roi = mask_4D.shape[3]\n",
    "        threshold = mask_objet.details_rois['SUVlo']\n",
    "        #seuillage\n",
    "\n",
    "        flip_mask = mask_objet.flip_z(mask_4D)\n",
    "        \n",
    "        print(flip_mask.shape)\n",
    "        #mask_4D_flip = mask_objet.mask_array\n",
    "        new_mask_4D_flip = threshold_mask(flip_mask, mask_objet.details_rois, nifti_array)\n",
    "        angle_filename_mask = mip_projection_4D(new_mask_4D_flip, 0, mip_directory, study_uid, number_roi, borne_max = 5.0)\n",
    "        #mip.png MASK\n",
    "        subliste.append(angle_filename_mask)\n",
    "\n",
    "        path_mip.append(subliste)\n"
   ]
  },
  {
   "cell_type": "code",
   "execution_count": 8,
   "metadata": {},
   "outputs": [],
   "source": [
    "mip_directory = '/media/salim/DD 2To/AHL2011_MIP_FLIP'\n",
    "filename = os.path.join(mip_directory, 'list_mip_coronal.pdf')\n",
    "create_pdf_mip(path_mip, filename)"
   ]
  },
  {
   "cell_type": "code",
   "execution_count": null,
   "metadata": {},
   "outputs": [],
   "source": [
    "#ALGO GENERATION DE CT PET MASK NIFTI SI MASK VALIDE"
   ]
  },
  {
   "cell_type": "code",
   "execution_count": null,
   "metadata": {},
   "outputs": [],
   "source": [
    "#REGENERER MASK AVEC MOYENNE Z SPACING / ATTENTION AU FLIP "
   ]
  },
  {
   "cell_type": "code",
   "execution_count": 3,
   "metadata": {},
   "outputs": [
    {
     "name": "stdout",
     "output_type": "stream",
     "text": "578\n"
    }
   ],
   "source": [
    "json_path = '/media/salim/DD 2To/AHL2011_NIFTI/AHL2011_final.json'\n",
    "csv_directory = ''\n",
    "nifti_directory = '/media/salim/DD 2To/AHL2011_NIFTI'\n",
    "dataset = []\n",
    "with open(json_path) as json_file : \n",
    "    reader = json.load(json_file)\n",
    "    for info in reader :\n",
    "        dataset.append(info)\n",
    "\n",
    "print(len(dataset))"
   ]
  },
  {
   "cell_type": "code",
   "execution_count": null,
   "metadata": {},
   "outputs": [],
   "source": [
    "liste_study_uid = []\n",
    "dataset_coronal = []\n",
    "for study_uid in liste_study_uid : \n",
    "    for data in dataset :\n",
    "        if study_uid in data[0] : \n",
    "            dataset_coronal.append(data)\n",
    "\n",
    "print(len(dataset_coronal))"
   ]
  },
  {
   "cell_type": "code",
   "execution_count": 5,
   "metadata": {},
   "outputs": [
    {
     "name": "stdout",
     "output_type": "stream",
     "text": "Spacing\nUnconstant Spacing\nEXPORT NIFTI MASK\n447\n1.2.840.113704.1.111.5300.1325148357.4\nMASK CORRECT DEJA VERIFIE\nEXPORT NIFTI PT DEJA FAIT\nEXPORT NIFTI CT DEJA FAIT\nEXPORT NIFTI MASK\n448\n1.2.250.1.59.470.940100027.1.20130802113038.1925.124326\nMASK CORRECT DEJA VERIFIE\nEXPORT NIFTI PT DEJA FAIT\nEXPORT NIFTI CT DEJA FAIT\nEXPORT NIFTI MASK\n449\n2.16.56.465769650.2551326252.3334845199\nMASK CORRECT DEJA VERIFIE\nEXPORT NIFTI PT DEJA FAIT\nEXPORT NIFTI CT DEJA FAIT\nEXPORT NIFTI MASK\n450\n2.16.840.1.113669.632.20.210791.20000015228\nMASK CORRECT DEJA VERIFIE\nEXPORT NIFTI PT DEJA FAIT\nEXPORT NIFTI CT DEJA FAIT\nEXPORT NIFTI MASK\n451\n1.2.276.0.7230010.3.1.2.304510217.3640.1394037573.43\nMASK CORRECT DEJA VERIFIE\nEXPORT NIFTI PT DEJA FAIT\nEXPORT NIFTI CT DEJA FAIT\nEXPORT NIFTI MASK\n452\n1.2.840.113704.1.111.2128.1346412067.18\nMASK CORRECT DEJA VERIFIE\nEXPORT NIFTI PT DEJA FAIT\nEXPORT NIFTI CT DEJA FAIT\nEXPORT NIFTI MASK\n453\n1.2.840.113619.2.290.3.2831170562.614.1354777093.712\nMASK CORRECT DEJA VERIFIE\nEXPORT NIFTI PT DEJA FAIT\nEXPORT NIFTI CT DEJA FAIT\nEXPORT NIFTI MASK\n454\n1.2.276.0.7230010.3.2.46289\nMASK CORRECT DEJA VERIFIE\nEXPORT NIFTI PT DEJA FAIT\nEXPORT NIFTI CT DEJA FAIT\nEXPORT NIFTI MASK\n455\n1.2.840.113619.2.290.3.1569943720.439.1351837427.135\nMASK CORRECT DEJA VERIFIE\nEXPORT NIFTI PT DEJA FAIT\nEXPORT NIFTI CT DEJA FAIT\nEXPORT NIFTI MASK\n456\n1.3.12.2.1107.5.1.4.45527.30000011061713172884300000019\nMASK CORRECT DEJA VERIFIE\nEXPORT NIFTI PT DEJA FAIT\nEXPORT NIFTI CT DEJA FAIT\nEXPORT NIFTI MASK\n457\n2.16.56.465769650.2551326252.3512268299\nMASK CORRECT DEJA VERIFIE\nEXPORT NIFTI PT DEJA FAIT\nEXPORT NIFTI CT DEJA FAIT\nEXPORT NIFTI MASK\n458\n1.3.12.2.1107.5.1.4.45527.30000012013113100960900000016\nMASK CORRECT DEJA VERIFIE\nEXPORT NIFTI PT DEJA FAIT\nEXPORT NIFTI CT DEJA FAIT\nEXPORT NIFTI MASK\n459\n1.2.276.0.72307701.3.2.149960\nMASK CORRECT DEJA VERIFIE\nEXPORT NIFTI PT DEJA FAIT\nEXPORT NIFTI CT DEJA FAIT\nEXPORT NIFTI MASK\n460\n1.2.840.113619.2.290.3.1569943720.985.1328889148.968\nMASK CORRECT DEJA VERIFIE\nEXPORT NIFTI PT DEJA FAIT\nEXPORT NIFTI CT DEJA FAIT\nEXPORT NIFTI MASK\n461\n1.2.250.1.74.20140211091500.29000042043409\nMASK CORRECT DEJA VERIFIE\nEXPORT NIFTI PT DEJA FAIT\nEXPORT NIFTI CT DEJA FAIT\nEXPORT NIFTI MASK\n462\n1.2.840.113704.1.111.7972.1385123814.14\nMASK CORRECT DEJA VERIFIE\nEXPORT NIFTI PT DEJA FAIT\nEXPORT NIFTI CT DEJA FAIT\nEXPORT NIFTI MASK\n463\n1.2.250.1.74.20140107120000.1000039399760\nMASK CORRECT DEJA VERIFIE\nEXPORT NIFTI PT DEJA FAIT\nEXPORT NIFTI CT DEJA FAIT\nEXPORT NIFTI MASK\n464\n1.3.12.2.1107.5.1.4.44861.30000013062505452098400000024\nMASK CORRECT DEJA VERIFIE\nEXPORT NIFTI PT DEJA FAIT\nEXPORT NIFTI CT DEJA FAIT\nEXPORT NIFTI MASK\n465\n1.2.840.113704.1.111.8112.1322635532.1\nMASK CORRECT DEJA VERIFIE\nEXPORT NIFTI PT DEJA FAIT\nEXPORT NIFTI CT DEJA FAIT\nEXPORT NIFTI MASK\n466\n1.2.840.113619.2.55.3.279710477.884.1363761854.684\nMASK CORRECT DEJA VERIFIE\nEXPORT NIFTI PT DEJA FAIT\nEXPORT NIFTI CT DEJA FAIT\nEXPORT NIFTI MASK\n467\n1.2.276.0.7230010.3.2.321244\nMASK CORRECT DEJA VERIFIE\nEXPORT NIFTI PT DEJA FAIT\nEXPORT NIFTI CT DEJA FAIT\nEXPORT NIFTI MASK\n468\n1.2.840.113619.2.290.3.4195011167.890.1387350605.90\nMASK CORRECT DEJA VERIFIE\nEXPORT NIFTI PT DEJA FAIT\nEXPORT NIFTI CT DEJA FAIT\nEXPORT NIFTI MASK\n469\n1.2.276.0.7230010.3.2.94992\nMASK CORRECT DEJA VERIFIE\nEXPORT NIFTI PT DEJA FAIT\nEXPORT NIFTI CT DEJA FAIT\nEXPORT NIFTI MASK\n470\n2.16.840.1.113669.632.20.540001.10003144994\nMASK CORRECT DEJA VERIFIE\nEXPORT NIFTI PT DEJA FAIT\nEXPORT NIFTI CT DEJA FAIT\nEXPORT NIFTI MASK\n471\n1.3.51.0.1.1.172.20.1.187.20120221131222.10085408.85469\nMASK CORRECT DEJA VERIFIE\nEXPORT NIFTI PT DEJA FAIT\nEXPORT NIFTI CT DEJA FAIT\nEXPORT NIFTI MASK\n472\n2.16.56.465769650.1.57524848525054525252\nMASK CORRECT DEJA VERIFIE\nEXPORT NIFTI PT DEJA FAIT\nEXPORT NIFTI CT DEJA FAIT\nEXPORT NIFTI MASK\n473\n1.2.840.113704.1.111.6732.1347531585.8\nMASK CORRECT DEJA VERIFIE\nEXPORT NIFTI PT DEJA FAIT\nEXPORT NIFTI CT DEJA FAIT\nEXPORT NIFTI MASK\n474\n1.2.250.1.38.2.1.12.1617369990219.20121211082220.761958499\nMASK CORRECT DEJA VERIFIE\nEXPORT NIFTI PT DEJA FAIT\nEXPORT NIFTI CT DEJA FAIT\nEXPORT NIFTI MASK\n475\n1.2.250.1.199.10.90001.95159.20120920120134\nMASK CORRECT DEJA VERIFIE\nEXPORT NIFTI PT DEJA FAIT\nEXPORT NIFTI CT DEJA FAIT\nEXPORT NIFTI MASK\n476\n1.2.840.113704.1.111.1408.1335527810.6\nMASK CORRECT DEJA VERIFIE\nEXPORT NIFTI PT DEJA FAIT\nEXPORT NIFTI CT DEJA FAIT\nEXPORT NIFTI MASK\n477\n2.16.840.1.113669.632.20.540001.10003427750\nMASK CORRECT DEJA VERIFIE\nEXPORT NIFTI PT DEJA FAIT\nEXPORT NIFTI CT DEJA FAIT\nEXPORT NIFTI MASK\n478\n1.2.276.0.7230010.3.2.208354\nMASK CORRECT DEJA VERIFIE\nEXPORT NIFTI PT DEJA FAIT\nEXPORT NIFTI CT DEJA FAIT\nEXPORT NIFTI MASK\n479\n2.16.840.1.113669.632.20.670001.10002230970\nMASK CORRECT DEJA VERIFIE\nEXPORT NIFTI PT DEJA FAIT\nEXPORT NIFTI CT DEJA FAIT\nEXPORT NIFTI MASK\n480\n1.2.840.113711.3413733.173716.340179228.26.2116281012.10\nMASK CORRECT DEJA VERIFIE\nEXPORT NIFTI PT DEJA FAIT\nEXPORT NIFTI CT DEJA FAIT\nEXPORT NIFTI MASK\n481\n1.2.840.113619.2.290.3.4195011167.688.1393223479.692\nMASK CORRECT DEJA VERIFIE\nEXPORT NIFTI PT DEJA FAIT\nEXPORT NIFTI CT DEJA FAIT\nEXPORT NIFTI MASK\n482\n1.2.250.1.59.470.940100027.1.20140325123129.103.14639\nMASK CORRECT DEJA VERIFIE\nEXPORT NIFTI PT DEJA FAIT\nEXPORT NIFTI CT DEJA FAIT\nEXPORT NIFTI MASK\n483\n1.2.276.0.7230010.3.1.2.3553350941.3672.1365423376.18\nMASK CORRECT DEJA VERIFIE\nEXPORT NIFTI PT DEJA FAIT\nEXPORT NIFTI CT DEJA FAIT\nEXPORT NIFTI MASK\n484\n1.2.276.0.7230010.3.2.309486\nMASK CORRECT DEJA VERIFIE\nEXPORT NIFTI PT DEJA FAIT\nEXPORT NIFTI CT DEJA FAIT\nEXPORT NIFTI MASK\n485\n1.2.840.113711.17041813.3.5900.394134293.26.248614862.3242\nMASK CORRECT DEJA VERIFIE\nEXPORT NIFTI PT DEJA FAIT\nEXPORT NIFTI CT DEJA FAIT\nEXPORT NIFTI MASK\n486\n1.3.12.2.1107.5.1.4.45527.30000011122013073773400000025\nMASK CORRECT DEJA VERIFIE\nEXPORT NIFTI PT DEJA FAIT\nEXPORT NIFTI CT DEJA FAIT\nEXPORT NIFTI MASK\n487\n2.16.56.465769650.3284058294.2637064536\nMASK CORRECT DEJA VERIFIE\nEXPORT NIFTI PT DEJA FAIT\nEXPORT NIFTI CT DEJA FAIT\nEXPORT NIFTI MASK\n488\n1.2.250.1.59.453.859.92444169.2456.1364562407.10.1.1\nMASK CORRECT DEJA VERIFIE\nEXPORT NIFTI PT DEJA FAIT\nEXPORT NIFTI CT DEJA FAIT\nEXPORT NIFTI MASK\n489\n1.2.276.0.72307701.3.2.121905\nMASK CORRECT DEJA VERIFIE\nEXPORT NIFTI PT DEJA FAIT\nEXPORT NIFTI CT DEJA FAIT\nEXPORT NIFTI MASK\n490\n1.3.12.2.1107.5.1.4.44873.30000013071705453851500000025\nMASK CORRECT DEJA VERIFIE\nEXPORT NIFTI PT DEJA FAIT\nEXPORT NIFTI CT DEJA FAIT\nEXPORT NIFTI MASK\n491\n1.3.12.2.1107.5.1.4.45527.30000013020612564171800000024\nMASK CORRECT DEJA VERIFIE\nEXPORT NIFTI PT DEJA FAIT\nEXPORT NIFTI CT DEJA FAIT\nEXPORT NIFTI MASK\n492\n1.2.250.1.38.2.1.102.131213100414.102827181\nMASK CORRECT DEJA VERIFIE\nEXPORT NIFTI PT DEJA FAIT\nEXPORT NIFTI CT DEJA FAIT\nEXPORT NIFTI MASK\n493\n2.16.840.1.113669.632.20.210791.10000155389\nMASK CORRECT DEJA VERIFIE\nEXPORT NIFTI PT DEJA FAIT\nEXPORT NIFTI CT DEJA FAIT\nEXPORT NIFTI MASK\n494\n1.2.840.113619.2.290.3.180357632.426.1341984162.300\nMASK CORRECT DEJA VERIFIE\nEXPORT NIFTI PT DEJA FAIT\nEXPORT NIFTI CT DEJA FAIT\nEXPORT NIFTI MASK\n495\n1.2.250.1.59.470.940100027.1.20130104143138.3312.15646\nMASK CORRECT DEJA VERIFIE\nEXPORT NIFTI PT DEJA FAIT\nEXPORT NIFTI CT DEJA FAIT\nEXPORT NIFTI MASK\n496\n1.2.840.113704.1.111.5088.1364467322.11\nMASK CORRECT DEJA VERIFIE\nEXPORT NIFTI PT DEJA FAIT\nEXPORT NIFTI CT DEJA FAIT\nEXPORT NIFTI MASK\n497\n2.16.56.465769650.2551326252.1175680455\nMASK CORRECT DEJA VERIFIE\nEXPORT NIFTI PT DEJA FAIT\nEXPORT NIFTI CT DEJA FAIT\nEXPORT NIFTI MASK\n498\n1.2.840.113704.1.111.3024.1393949405.22\nMASK CORRECT DEJA VERIFIE\nEXPORT NIFTI PT DEJA FAIT\nEXPORT NIFTI CT DEJA FAIT\nEXPORT NIFTI MASK\n499\n1.2.840.113619.2.290.3.279748722.356.1340865087.502\nMASK CORRECT DEJA VERIFIE\nEXPORT NIFTI PT DEJA FAIT\nEXPORT NIFTI CT DEJA FAIT\nEXPORT NIFTI MASK\n500\n1.2.250.1.38.2.1.14.1.130218092444.71801\nMASK CORRECT DEJA VERIFIE\nEXPORT NIFTI PT DEJA FAIT\nEXPORT NIFTI CT DEJA FAIT\nEXPORT NIFTI MASK\n501\n1.2.840.113619.2.290.3.279710523.221.1390976932.527\nMASK CORRECT DEJA VERIFIE\nEXPORT NIFTI PT DEJA FAIT\nEXPORT NIFTI CT DEJA FAIT\nEXPORT NIFTI MASK\n502\n1.2.124.113532.172.16.25.2.20120605.739.1104125\nMASK CORRECT DEJA VERIFIE\nEXPORT NIFTI PT DEJA FAIT\nEXPORT NIFTI CT DEJA FAIT\nEXPORT NIFTI MASK\n503\n1.2.840.113619.2.55.3.2366253502.77.1336369107.445\nMASK CORRECT DEJA VERIFIE\nEXPORT NIFTI PT DEJA FAIT\nEXPORT NIFTI CT DEJA FAIT\nEXPORT NIFTI MASK\n504\n1.2.276.0.72307701.3.2.126216\nMASK CORRECT DEJA VERIFIE\nEXPORT NIFTI PT DEJA FAIT\nEXPORT NIFTI CT DEJA FAIT\nEXPORT NIFTI MASK\n505\n1.2.276.0.7230010.3.2.44187\nMASK CORRECT DEJA VERIFIE\nEXPORT NIFTI PT DEJA FAIT\nEXPORT NIFTI CT DEJA FAIT\nEXPORT NIFTI MASK\n506\n1.3.51.0.1.1.10.49.10.222.1106415.1104494\nMASK CORRECT DEJA VERIFIE\nEXPORT NIFTI PT DEJA FAIT\nEXPORT NIFTI CT DEJA FAIT\nUnconstant Spacing\nUnconstant Spacing\nUnconstant Spacing\nUnconstant Spacing\nUnconstant Spacing\nUnconstant Spacing\nUnconstant Spacing\nUnconstant Spacing\nUnconstant Spacing\nUnconstant Spacing\nUnconstant Spacing\nUnconstant Spacing\nUnconstant Spacing\nUnconstant Spacing\nUnconstant Spacing\nUnconstant Spacing\nUnconstant Spacing\nUnconstant Spacing\nUnconstant Spacing\nUnconstant Spacing\nUnconstant Spacing\nUnconstant Spacing\nUnconstant Spacing\nUnconstant Spacing\nUnconstant Spacing\nUnconstant Spacing\nUnconstant Spacing\nUnconstant Spacing\nUnconstant Spacing\nUnconstant Spacing\nUnconstant Spacing\nUnconstant Spacing\nUnconstant Spacing\nUnconstant Spacing\nUnconstant Spacing\nUnconstant Spacing\nUnconstant Spacing\nUnconstant Spacing\nUnconstant Spacing\nUnconstant Spacing\nUnconstant Spacing\nUnconstant Spacing\nUnconstant Spacing\nUnconstant Spacing\nUnconstant Spacing\nUnconstant Spacing\nUnconstant Spacing\nUnconstant Spacing\nUnconstant Spacing\nUnconstant Spacing\nUnconstant Spacing\nUnconstant Spacing\nEXPORT NIFTI MASK\n507\n1.2.250.1.38.2.1.14.1.130107092056.46313\nMASK CORRECT DEJA VERIFIE\nEXPORT NIFTI PT DEJA FAIT\nEXPORT NIFTI CT DEJA FAIT\nEXPORT NIFTI MASK\n508\n1.2.250.1.199.10.90001.90490.20131004092747\nMASK CORRECT DEJA VERIFIE\nEXPORT NIFTI PT DEJA FAIT\nEXPORT NIFTI CT DEJA FAIT\nEXPORT NIFTI MASK\n509\n1.2.928.1024101561\nMASK CORRECT DEJA VERIFIE\nEXPORT NIFTI PT DEJA FAIT\nEXPORT NIFTI CT DEJA FAIT\nEXPORT NIFTI MASK\n510\n1.2.124.113532.172.16.25.2.20130913.93308.1355502\nMASK CORRECT DEJA VERIFIE\nEXPORT NIFTI PT DEJA FAIT\nEXPORT NIFTI CT DEJA FAIT\nEXPORT NIFTI MASK\n511\n1.2.840.113711.17041813.3.4580.348599020.26.248614862.342\nMASK CORRECT DEJA VERIFIE\nEXPORT NIFTI PT DEJA FAIT\nEXPORT NIFTI CT DEJA FAIT\nEXPORT NIFTI MASK\n512\n1.2.250.1.199.10.90001.93192.20140312132550\nMASK CORRECT DEJA VERIFIE\nEXPORT NIFTI PT DEJA FAIT\nEXPORT NIFTI CT DEJA FAIT\nEXPORT NIFTI MASK\n513\n1.3.12.2.1107.5.1.4.11087.30000014021207535301500000007\nMASK CORRECT DEJA VERIFIE\nEXPORT NIFTI PT DEJA FAIT\nEXPORT NIFTI CT DEJA FAIT\nEXPORT NIFTI MASK\n514\n1.2.276.0.7230010.3.2.288022\nMASK CORRECT DEJA VERIFIE\nEXPORT NIFTI PT DEJA FAIT\nEXPORT NIFTI CT DEJA FAIT\nEXPORT NIFTI MASK\n515\n1.2.250.1.74.20120823133000.1000032149773\nMASK CORRECT DEJA VERIFIE\nEXPORT NIFTI PT DEJA FAIT\nEXPORT NIFTI CT DEJA FAIT\nEXPORT NIFTI MASK\n516\n1.2.276.0.7230010.3.2.45910\nMASK CORRECT DEJA VERIFIE\nEXPORT NIFTI PT DEJA FAIT\nEXPORT NIFTI CT DEJA FAIT\nEXPORT NIFTI MASK\n517\n1.2.840.113704.1.111.1216.1337855742.27\nMASK CORRECT DEJA VERIFIE\nEXPORT NIFTI PT DEJA FAIT\nEXPORT NIFTI CT DEJA FAIT\nEXPORT NIFTI MASK\n518\n1.2.840.113619.2.290.3.2831170562.192.1343110229.443\nMASK CORRECT DEJA VERIFIE\nEXPORT NIFTI PT DEJA FAIT\nEXPORT NIFTI CT DEJA FAIT\nEXPORT NIFTI MASK\n519\n1.2.124.113532.172.16.25.2.20120716.81922.1126423\nMASK CORRECT DEJA VERIFIE\nEXPORT NIFTI PT DEJA FAIT\nEXPORT NIFTI CT DEJA FAIT\nEXPORT NIFTI MASK\n520\n1.2.250.1.199.10.90001.91600.20130306074225\nMASK CORRECT DEJA VERIFIE\nEXPORT NIFTI PT DEJA FAIT\nEXPORT NIFTI CT DEJA FAIT\nEXPORT NIFTI MASK\n521\n1.2.250.1.59.453.859.92444169.2976.1393414871.8.1.1\nMASK CORRECT DEJA VERIFIE\nEXPORT NIFTI PT DEJA FAIT\nEXPORT NIFTI CT DEJA FAIT\nEXPORT NIFTI MASK\n522\n1.2.840.113704.1.111.6624.1372237611.4\nMASK CORRECT DEJA VERIFIE\nEXPORT NIFTI PT DEJA FAIT\nEXPORT NIFTI CT DEJA FAIT\nEXPORT NIFTI MASK\n523\n1.2.250.1.199.10.90001.90058.20111108121116\nMASK CORRECT DEJA VERIFIE\nEXPORT NIFTI PT DEJA FAIT\nEXPORT NIFTI CT DEJA FAIT\nEXPORT NIFTI MASK\n524\n1.2.840.113619.2.290.3.4195011167.180.1389077087.834\nMASK CORRECT DEJA VERIFIE\nEXPORT NIFTI PT DEJA FAIT\nEXPORT NIFTI CT DEJA FAIT\nEXPORT NIFTI MASK\n525\n2.16.56.465769650.2551326252.3100747028\nMASK CORRECT DEJA VERIFIE\nEXPORT NIFTI PT DEJA FAIT\nEXPORT NIFTI CT DEJA FAIT\nEXPORT NIFTI MASK\n526\n1.3.12.2.1107.5.1.4.44873.30000013051706075279600000050\nMASK CORRECT DEJA VERIFIE\nEXPORT NIFTI PT DEJA FAIT\nEXPORT NIFTI CT DEJA FAIT\nEXPORT NIFTI MASK\n527\n1.2.250.1.199.10.90001.93080.20120515093605\nMASK CORRECT DEJA VERIFIE\nEXPORT NIFTI PT DEJA FAIT\nEXPORT NIFTI CT DEJA FAIT\nEXPORT NIFTI MASK\n528\n1.3.12.2.1107.5.1.4.45527.30000012022113162196800000032\nMASK CORRECT DEJA VERIFIE\nEXPORT NIFTI PT DEJA FAIT\nEXPORT NIFTI CT DEJA FAIT\nEXPORT NIFTI MASK\n529\n2.16.840.1.113669.632.20.689996.10000313608\nMASK CORRECT DEJA VERIFIE\nEXPORT NIFTI PT DEJA FAIT\nEXPORT NIFTI CT DEJA FAIT\nEXPORT NIFTI MASK\n530\n1.2.840.113704.1.111.3640.1314250757.1\nMASK CORRECT DEJA VERIFIE\nEXPORT NIFTI PT DEJA FAIT\nEXPORT NIFTI CT DEJA FAIT\nEXPORT NIFTI MASK\n531\n1.2.840.113704.1.111.2196.1371560644.14\nMASK CORRECT DEJA VERIFIE\nEXPORT NIFTI PT DEJA FAIT\nEXPORT NIFTI CT DEJA FAIT\nEXPORT NIFTI MASK\n532\n1.2.250.1.74.20140211103000.31000033044654\nMASK CORRECT DEJA VERIFIE\nEXPORT NIFTI PT DEJA FAIT\nEXPORT NIFTI CT DEJA FAIT\nEXPORT NIFTI MASK\n533\n2.16.840.1.113669.632.20.540001.10003786787\nMASK CORRECT DEJA VERIFIE\nEXPORT NIFTI PT DEJA FAIT\nEXPORT NIFTI CT DEJA FAIT\nEXPORT NIFTI MASK\n534\n1.3.12.2.1107.5.1.4.44878.30000014022107120414000000037\nMASK CORRECT DEJA VERIFIE\nEXPORT NIFTI PT DEJA FAIT\nEXPORT NIFTI CT DEJA FAIT\nEXPORT NIFTI MASK\n535\n2.16.840.1.113669.632.20.670001.10002053732\nMASK CORRECT DEJA VERIFIE\nEXPORT NIFTI PT DEJA FAIT\nEXPORT NIFTI CT DEJA FAIT\nEXPORT NIFTI MASK\n536\n1.2.840.113704.1.111.3340.1330423160.7\nMASK CORRECT DEJA VERIFIE\nEXPORT NIFTI PT DEJA FAIT\nEXPORT NIFTI CT DEJA FAIT\nEXPORT NIFTI MASK\n537\n2.16.840.1.113669.632.20.689996.10000390035\nMASK CORRECT DEJA VERIFIE\nEXPORT NIFTI PT DEJA FAIT\nEXPORT NIFTI CT DEJA FAIT\nEXPORT NIFTI MASK\n538\n1.2.840.113704.1.111.1568.1331717818.3\nMASK CORRECT DEJA VERIFIE\nEXPORT NIFTI PT DEJA FAIT\nEXPORT NIFTI CT DEJA FAIT\nEXPORT NIFTI MASK\n539\n2.16.840.1.113669.632.20.540001.10003773530\nMASK CORRECT DEJA VERIFIE\nEXPORT NIFTI PT DEJA FAIT\nEXPORT NIFTI CT DEJA FAIT\nEXPORT NIFTI MASK\n540\n1.2.840.113704.1.111.5008.1331221589.16\nMASK CORRECT DEJA VERIFIE\nEXPORT NIFTI PT DEJA FAIT\nEXPORT NIFTI CT DEJA FAIT\nEXPORT NIFTI MASK\n541\n2.16.840.1.113669.632.20.210791.20000141059\nMASK CORRECT DEJA VERIFIE\nEXPORT NIFTI PT DEJA FAIT\nEXPORT NIFTI CT DEJA FAIT\nEXPORT NIFTI MASK\n542\n1.2.840.113619.2.290.3.2831182250.487.1355990146.181\nMASK CORRECT DEJA VERIFIE\nEXPORT NIFTI PT DEJA FAIT\nEXPORT NIFTI CT DEJA FAIT\nEXPORT NIFTI MASK\n543\n1.2.840.113704.1.111.2364.1370611907.23\nMASK CORRECT DEJA VERIFIE\nEXPORT NIFTI PT DEJA FAIT\nEXPORT NIFTI CT DEJA FAIT\nEXPORT NIFTI MASK\n544\n1.2.840.113704.1.111.7208.1372343670.17\nMASK CORRECT DEJA VERIFIE\nEXPORT NIFTI PT DEJA FAIT\nEXPORT NIFTI CT DEJA FAIT\nEXPORT NIFTI MASK\n545\n2.16.840.1.113669.632.20.210791.20000054394\nMASK CORRECT DEJA VERIFIE\nEXPORT NIFTI PT DEJA FAIT\nEXPORT NIFTI CT DEJA FAIT\nEXPORT NIFTI MASK\n546\n1.2.928.1024114613\nMASK CORRECT DEJA VERIFIE\nEXPORT NIFTI PT DEJA FAIT\nEXPORT NIFTI CT DEJA FAIT\nEXPORT NIFTI MASK\n547\n1.2.250.1.199.10.90001.98250.20120824131623\nMASK CORRECT DEJA VERIFIE\nEXPORT NIFTI PT DEJA FAIT\nEXPORT NIFTI CT DEJA FAIT\nEXPORT NIFTI MASK\n548\n1.2.840.113619.2.290.3.12630016.505.1361778379.915\nMASK CORRECT DEJA VERIFIE\nEXPORT NIFTI PT DEJA FAIT\nEXPORT NIFTI CT DEJA FAIT\nEXPORT NIFTI MASK\n549\n1.2.840.113619.2.55.3.279710477.731.1371105420.573\nMASK CORRECT DEJA VERIFIE\nEXPORT NIFTI PT DEJA FAIT\nEXPORT NIFTI CT DEJA FAIT\nEXPORT NIFTI MASK\n550\n1.2.276.0.7230010.3.1.2.3003270646.2712.1372340212.4230\nMASK CORRECT DEJA VERIFIE\nEXPORT NIFTI PT DEJA FAIT\nEXPORT NIFTI CT DEJA FAIT\nEXPORT NIFTI MASK\n551\n1.2.250.1.74.20140306150000.1000040424629\nMASK CORRECT DEJA VERIFIE\nEXPORT NIFTI PT DEJA FAIT\nEXPORT NIFTI CT DEJA FAIT\nEXPORT NIFTI MASK\n552\n1.2.840.113619.2.290.3.2831182250.527.1346911524.615\nMASK CORRECT DEJA VERIFIE\nEXPORT NIFTI PT DEJA FAIT\nEXPORT NIFTI CT DEJA FAIT\nEXPORT NIFTI MASK\n553\n1.2.840.113619.2.290.3.4195011167.454.1363330851.614\nMASK CORRECT DEJA VERIFIE\nEXPORT NIFTI PT DEJA FAIT\nEXPORT NIFTI CT DEJA FAIT\nEXPORT NIFTI MASK\n554\n2.16.840.1.113669.632.20.689996.10000406975\nMASK CORRECT DEJA VERIFIE\nEXPORT NIFTI PT DEJA FAIT\nEXPORT NIFTI CT DEJA FAIT\nEXPORT NIFTI MASK\n555\n1.2.250.1.74.20130709133000.31000028455949\nMASK CORRECT DEJA VERIFIE\nEXPORT NIFTI PT DEJA FAIT\nEXPORT NIFTI CT DEJA FAIT\nEXPORT NIFTI MASK\n556\n1.2.840.113619.2.290.3.17436513.446.1391755381.364\nMASK CORRECT DEJA VERIFIE\nEXPORT NIFTI PT DEJA FAIT\nEXPORT NIFTI CT DEJA FAIT\nEXPORT NIFTI MASK\n557\n1.2.276.0.7230010.3.2.128404\nMASK CORRECT DEJA VERIFIE\nEXPORT NIFTI PT DEJA FAIT\nEXPORT NIFTI CT DEJA FAIT\nEXPORT NIFTI MASK\n558\n1.2.840.113619.2.290.3.4195011167.458.1367818704.102\nMASK CORRECT DEJA VERIFIE\nEXPORT NIFTI PT DEJA FAIT\nEXPORT NIFTI CT DEJA FAIT\nEXPORT NIFTI MASK\n559\n1.2.250.1.38.2.1.14.1.130415093048.108116\nMASK CORRECT DEJA VERIFIE\nEXPORT NIFTI PT DEJA FAIT\nEXPORT NIFTI CT DEJA FAIT\nEXPORT NIFTI MASK\n560\n1.2.250.1.74.20110803115500.60000017621973\nMASK CORRECT DEJA VERIFIE\nEXPORT NIFTI PT DEJA FAIT\nEXPORT NIFTI CT DEJA FAIT\nEXPORT NIFTI MASK\n561\n1.2.250.1.74.20130204094500.25000043047727\nMASK CORRECT DEJA VERIFIE\nEXPORT NIFTI PT DEJA FAIT\nEXPORT NIFTI CT DEJA FAIT\nEXPORT NIFTI MASK\n562\n2.16.840.1.113669.632.20.540001.10003432163\nMASK CORRECT DEJA VERIFIE\nEXPORT NIFTI PT DEJA FAIT\nEXPORT NIFTI CT DEJA FAIT\nEXPORT NIFTI MASK\n563\n2.16.840.1.113669.632.20.210791.20000003715\nMASK CORRECT DEJA VERIFIE\nEXPORT NIFTI PT DEJA FAIT\nEXPORT NIFTI CT DEJA FAIT\nEXPORT NIFTI MASK\n564\n1.2.276.0.7230010.3.2.158898\nMASK CORRECT DEJA VERIFIE\nEXPORT NIFTI PT DEJA FAIT\nEXPORT NIFTI CT DEJA FAIT\nEXPORT NIFTI MASK\n565\n2.16.840.1.113669.632.20.540001.10003242631\nMASK CORRECT DEJA VERIFIE\nEXPORT NIFTI PT DEJA FAIT\nEXPORT NIFTI CT DEJA FAIT\nEXPORT NIFTI MASK\n566\n1.2.840.113619.2.290.3.4195011167.327.1349846796.748\nMASK CORRECT DEJA VERIFIE\nEXPORT NIFTI PT DEJA FAIT\nEXPORT NIFTI CT DEJA FAIT\nEXPORT NIFTI MASK\n567\n2.16.840.1.113669.632.20.330001.10001742582\nMASK CORRECT DEJA VERIFIE\nEXPORT NIFTI PT DEJA FAIT\nEXPORT NIFTI CT DEJA FAIT\nEXPORT NIFTI MASK\n568\n1.2.840.113704.1.111.7112.1389188336.1\nMASK CORRECT DEJA VERIFIE\nEXPORT NIFTI PT DEJA FAIT\nEXPORT NIFTI CT DEJA FAIT\nEXPORT NIFTI MASK\n569\n1.3.12.2.1107.5.1.4.45527.30000012092113045562500000034\nMASK CORRECT DEJA VERIFIE\nEXPORT NIFTI PT DEJA FAIT\nEXPORT NIFTI CT DEJA FAIT\nEXPORT NIFTI MASK\n570\n1.2.250.1.59.470.940100027.1.20121214103050.889.121318\nMASK CORRECT DEJA VERIFIE\nEXPORT NIFTI PT DEJA FAIT\nEXPORT NIFTI CT DEJA FAIT\nEXPORT NIFTI MASK\n571\n1.2.840.113619.2.290.3.2831165510.404.1364974811.664\nMASK CORRECT DEJA VERIFIE\nEXPORT NIFTI PT DEJA FAIT\nEXPORT NIFTI CT DEJA FAIT\nEXPORT NIFTI MASK\n572\n1.2.250.1.74.20130531125000.4000013901386\nMASK CORRECT DEJA VERIFIE\nEXPORT NIFTI PT DEJA FAIT\nEXPORT NIFTI CT DEJA FAIT\nEXPORT NIFTI MASK\n573\n1.2.840.113619.2.290.3.2366253502.444.1354516351.351\nMASK CORRECT DEJA VERIFIE\nEXPORT NIFTI PT DEJA FAIT\nEXPORT NIFTI CT DEJA FAIT\nEXPORT NIFTI MASK\n574\n1.2.276.0.72307701.3.2.126270\nMASK CORRECT DEJA VERIFIE\nEXPORT NIFTI PT DEJA FAIT\nEXPORT NIFTI CT DEJA FAIT\nEXPORT NIFTI MASK\n575\n1.2.928.1024116098\nMASK CORRECT DEJA VERIFIE\nEXPORT NIFTI PT DEJA FAIT\nEXPORT NIFTI CT DEJA FAIT\nEXPORT NIFTI MASK\n576\n1.2.840.113619.2.290.3.17438691.553.1394693450.230\nMASK CORRECT DEJA VERIFIE\nEXPORT NIFTI PT DEJA FAIT\nEXPORT NIFTI CT DEJA FAIT\nEXPORT NIFTI MASK\n577\n1.2.250.1.38.2.1.12.1617369990219.20131205081104.189369820\nMASK CORRECT DEJA VERIFIE\nEXPORT NIFTI PT DEJA FAIT\nEXPORT NIFTI CT DEJA FAIT\nEXPORT NIFTI MASK\n"
    }
   ],
   "source": [
    "for serie in dataset_coronal : \n",
    "    print(dataset_coronal.index(serie))\n",
    "    try : \n",
    "        if serie[1] == 'PT' : \n",
    "                serie_pt_objet = SeriesPT(serie[0]) \n",
    "                nifti_array = serie_pt_objet.get_numpy_array()\n",
    "                study_uid = serie_pt_objet.get_series_details()['study']['StudyInstanceUID']\n",
    "                print(study_uid)\n",
    "                size_matrix = serie_pt_objet.get_size_matrix()\n",
    "                mask_objet = MaskBuilder(os.path.join(csv_directory, serie[4]), size_matrix)\n",
    "                mask_4D = mask_objet.mask_array\n",
    "                flip_mask = mask_objet.flip_z(mask_4D)\n",
    " \n",
    "                print(\"MASK CORRECT DEJA VERIFIE\")\n",
    "                        #generation nifti PT\n",
    "                #filename_pt = study_uid+'_'+'nifti_'+'PT'+'.nii'\n",
    "                #serie_pt_objet.export_nifti(os.path.join(nifti_directory, filename_pt))\n",
    "                print(\"EXPORT NIFTI PT DEJA FAIT\")\n",
    "                        #generation nifti CT\n",
    "                #serie_ct_objet = SeriesCT(serie[2])\n",
    "                #serie_ct_objet.get_numpy_array()\n",
    "                #filename_ct = study_uid+'_'+'nifti_'+'CT'+'.nii'\n",
    "                #serie_ct_objet.export_nifti(os.path.join(nifti_directory, filename_ct))\n",
    "                print(\"EXPORT NIFTI CT DEJA FAIT\")\n",
    "                        #generation nifti mask\n",
    "                filename_mask = study_uid+'_'+'nifti_'+'mask'+'.nii'\n",
    "                serie_pt_objet.export_nifti(os.path.join(nifti_directory, filename_mask), flip_mask)\n",
    "                print(\"EXPORT NIFTI MASK\")\n",
    "\n",
    "        else : \n",
    "                serie_pt_objet = SeriesPT(serie[2]) \n",
    "                nifti_array = serie_pt_objet.get_numpy_array()\n",
    "                study_uid = serie_pt_objet.get_series_details()['study']['StudyInstanceUID']\n",
    "                print(study_uid)\n",
    "                size_matrix = serie_pt_objet.get_size_matrix()\n",
    "                mask_objet = MaskBuilder(os.path.join(csv_directory, serie[4]), size_matrix)\n",
    "                mask_4D = mask_objet.mask_array\n",
    "                flip_mask = mask_objet.flip_z(mask_4D)\n",
    "\n",
    "                print(\"MASK CORRECT DEJA VERIFIE\")\n",
    "                        #generation nifti PT\n",
    "                #filename_pt = study_uid+'_'+'nifti_'+'PT'+'.nii'\n",
    "                #serie_pt_objet.export_nifti(os.path.join(nifti_directory, filename_pt))\n",
    "                print(\"EXPORT NIFTI PT DEJA FAIT\")\n",
    "                        #generation nifti CT\n",
    "                #serie_ct_objet = SeriesCT(serie[0])\n",
    "                #serie_ct_objet.get_numpy_array()\n",
    "                #filename_ct = study_uid+'_'+'nifti_'+'CT'+'.nii'\n",
    "                #serie_ct_objet.export_nifti(os.path.join(nifti_directory, filename_ct))\n",
    "                print(\"EXPORT NIFTI CT DEJA FAIT\")\n",
    "                        #generation nifti mask\n",
    "                filename_mask = study_uid+'_'+'nifti_'+'mask'+'.nii'\n",
    "                serie_pt_objet.export_nifti(os.path.join(nifti_directory, filename_mask), flip_mask)\n",
    "                print(\"EXPORT NIFTI MASK\")\n",
    " \n",
    "\n",
    "    except Exception as err : \n",
    "        print(serie)\n",
    "        print(err)"
   ]
  },
  {
   "cell_type": "code",
   "execution_count": null,
   "metadata": {},
   "outputs": [],
   "source": []
  },
  {
   "cell_type": "code",
   "execution_count": 3,
   "metadata": {},
   "outputs": [
    {
     "name": "stdout",
     "output_type": "stream",
     "text": "578\n"
    }
   ],
   "source": [
    "#VERIFICATION\n",
    "json_path = '/media/salim/DD 2To/AHL2011_NIFTI/AHL2011_final.json'\n",
    "dataset = []\n",
    "with open(json_path) as json_file : \n",
    "    reader = json.load(json_file)\n",
    "    for info in reader :\n",
    "        dataset.append(info)\n",
    "\n",
    "print(len(dataset))"
   ]
  },
  {
   "cell_type": "code",
   "execution_count": 5,
   "metadata": {},
   "outputs": [
    {
     "name": "stdout",
     "output_type": "stream",
     "text": "T NIFTI PT\nEXPORT NIFTI CT\n21\nEXPORT NIFTI PT\nEXPORT NIFTI CT\n22\nEXPORT NIFTI PT\nEXPORT NIFTI CT\n23\nEXPORT NIFTI PT\nEXPORT NIFTI CT\n24\nEXPORT NIFTI PT\nEXPORT NIFTI CT\n25\nEXPORT NIFTI PT\nEXPORT NIFTI CT\n26\nEXPORT NIFTI PT\nEXPORT NIFTI CT\n27\nEXPORT NIFTI PT\nEXPORT NIFTI CT\n28\nEXPORT NIFTI PT\nEXPORT NIFTI CT\n29\nEXPORT NIFTI PT\nEXPORT NIFTI CT\n30\nEXPORT NIFTI PT\nEXPORT NIFTI CT\n31\nEXPORT NIFTI PT\nEXPORT NIFTI CT\n32\nEXPORT NIFTI PT\nEXPORT NIFTI CT\n33\nEXPORT NIFTI PT\nEXPORT NIFTI CT\n34\nEXPORT NIFTI PT\nEXPORT NIFTI CT\n35\nEXPORT NIFTI PT\nEXPORT NIFTI CT\n36\nEXPORT NIFTI PT\nEXPORT NIFTI CT\n37\nEXPORT NIFTI PT\nEXPORT NIFTI CT\n38\nEXPORT NIFTI PT\nEXPORT NIFTI CT\n39\nEXPORT NIFTI PT\nEXPORT NIFTI CT\n40\nEXPORT NIFTI PT\nEXPORT NIFTI CT\n41\nEXPORT NIFTI PT\nEXPORT NIFTI CT\n42\nEXPORT NIFTI PT\nEXPORT NIFTI CT\n43\nEXPORT NIFTI PT\nEXPORT NIFTI CT\n44\nEXPORT NIFTI PT\nEXPORT NIFTI CT\n45\nEXPORT NIFTI PT\nEXPORT NIFTI CT\n46\nEXPORT NIFTI PT\nEXPORT NIFTI CT\n47\nEXPORT NIFTI PT\nEXPORT NIFTI CT\n48\nEXPORT NIFTI PT\nEXPORT NIFTI CT\n49\nEXPORT NIFTI PT\nEXPORT NIFTI CT\n50\nEXPORT NIFTI PT\nEXPORT NIFTI CT\n51\nEXPORT NIFTI PT\nEXPORT NIFTI CT\n52\nEXPORT NIFTI PT\nEXPORT NIFTI CT\n53\nEXPORT NIFTI PT\nEXPORT NIFTI CT\n54\nEXPORT NIFTI PT\nEXPORT NIFTI CT\n55\nEXPORT NIFTI PT\nEXPORT NIFTI CT\n56\nEXPORT NIFTI PT\nEXPORT NIFTI CT\n57\nEXPORT NIFTI PT\nEXPORT NIFTI CT\n58\nEXPORT NIFTI PT\nEXPORT NIFTI CT\n59\nEXPORT NIFTI PT\nEXPORT NIFTI CT\n60\nEXPORT NIFTI PT\nEXPORT NIFTI CT\n61\nEXPORT NIFTI PT\nEXPORT NIFTI CT\n62\nEXPORT NIFTI PT\nEXPORT NIFTI CT\n63\nEXPORT NIFTI PT\nEXPORT NIFTI CT\n64\nEXPORT NIFTI PT\nEXPORT NIFTI CT\n65\nEXPORT NIFTI PT\nEXPORT NIFTI CT\n66\nEXPORT NIFTI PT\nEXPORT NIFTI CT\n67\nEXPORT NIFTI PT\nEXPORT NIFTI CT\n68\nEXPORT NIFTI PT\nEXPORT NIFTI CT\n69\nEXPORT NIFTI PT\nEXPORT NIFTI CT\n70\nEXPORT NIFTI PT\nEXPORT NIFTI CT\n71\nEXPORT NIFTI PT\nEXPORT NIFTI CT\n72\nEXPORT NIFTI PT\nEXPORT NIFTI CT\n73\nEXPORT NIFTI PT\nEXPORT NIFTI CT\n74\nEXPORT NIFTI PT\nEXPORT NIFTI CT\n75\nEXPORT NIFTI PT\nEXPORT NIFTI CT\n76\nEXPORT NIFTI PT\nEXPORT NIFTI CT\n77\nEXPORT NIFTI PT\nEXPORT NIFTI CT\n78\nEXPORT NIFTI PT\nEXPORT NIFTI CT\n79\nEXPORT NIFTI PT\nEXPORT NIFTI CT\n80\nEXPORT NIFTI PT\nEXPORT NIFTI CT\n81\nEXPORT NIFTI PT\nEXPORT NIFTI CT\n82\nEXPORT NIFTI PT\nEXPORT NIFTI CT\n83\nEXPORT NIFTI PT\nEXPORT NIFTI CT\n84\nEXPORT NIFTI PT\nEXPORT NIFTI CT\n85\nEXPORT NIFTI PT\nEXPORT NIFTI CT\n86\nEXPORT NIFTI PT\nEXPORT NIFTI CT\n87\nEXPORT NIFTI PT\nEXPORT NIFTI CT\n88\nEXPORT NIFTI PT\nEXPORT NIFTI CT\n89\nEXPORT NIFTI PT\nEXPORT NIFTI CT\n90\nEXPORT NIFTI PT\nEXPORT NIFTI CT\n91\nEXPORT NIFTI PT\nEXPORT NIFTI CT\n92\nEXPORT NIFTI PT\nEXPORT NIFTI CT\n93\nEXPORT NIFTI PT\nEXPORT NIFTI CT\n94\nEXPORT NIFTI PT\nEXPORT NIFTI CT\n95\nEXPORT NIFTI PT\nEXPORT NIFTI CT\n96\nEXPORT NIFTI PT\nEXPORT NIFTI CT\n97\nEXPORT NIFTI PT\nEXPORT NIFTI CT\n98\nEXPORT NIFTI PT\nEXPORT NIFTI CT\n99\nEXPORT NIFTI PT\nEXPORT NIFTI CT\n100\nEXPORT NIFTI PT\nEXPORT NIFTI CT\n101\nEXPORT NIFTI PT\nEXPORT NIFTI CT\n102\nEXPORT NIFTI PT\nEXPORT NIFTI CT\n103\nEXPORT NIFTI PT\nEXPORT NIFTI CT\n104\nEXPORT NIFTI PT\nEXPORT NIFTI CT\n105\nEXPORT NIFTI PT\nEXPORT NIFTI CT\n106\nEXPORT NIFTI PT\nEXPORT NIFTI CT\n107\nEXPORT NIFTI PT\nEXPORT NIFTI CT\n108\nEXPORT NIFTI PT\nEXPORT NIFTI CT\n109\nEXPORT NIFTI PT\nEXPORT NIFTI CT\n110\nEXPORT NIFTI PT\nEXPORT NIFTI CT\n111\nEXPORT NIFTI PT\nEXPORT NIFTI CT\n112\nEXPORT NIFTI PT\nEXPORT NIFTI CT\n113\nEXPORT NIFTI PT\nEXPORT NIFTI CT\n114\nEXPORT NIFTI PT\nEXPORT NIFTI CT\n115\nEXPORT NIFTI PT\nEXPORT NIFTI CT\n116\nEXPORT NIFTI PT\nEXPORT NIFTI CT\n117\nEXPORT NIFTI PT\nEXPORT NIFTI CT\n118\nEXPORT NIFTI PT\nEXPORT NIFTI CT\n119\nEXPORT NIFTI PT\nEXPORT NIFTI CT\n120\nEXPORT NIFTI PT\nEXPORT NIFTI CT\n121\nEXPORT NIFTI PT\nEXPORT NIFTI CT\n122\nEXPORT NIFTI PT\nEXPORT NIFTI CT\n123\nEXPORT NIFTI PT\nEXPORT NIFTI CT\n124\nEXPORT NIFTI PT\nEXPORT NIFTI CT\n125\nEXPORT NIFTI PT\nEXPORT NIFTI CT\n126\nEXPORT NIFTI PT\nEXPORT NIFTI CT\n127\nEXPORT NIFTI PT\nEXPORT NIFTI CT\n128\nEXPORT NIFTI PT\nEXPORT NIFTI CT\n129\nEXPORT NIFTI PT\nEXPORT NIFTI CT\n130\nEXPORT NIFTI PT\nEXPORT NIFTI CT\n131\nEXPORT NIFTI PT\nEXPORT NIFTI CT\n132\nEXPORT NIFTI PT\nEXPORT NIFTI CT\n133\nEXPORT NIFTI PT\nEXPORT NIFTI CT\n134\nEXPORT NIFTI PT\nEXPORT NIFTI CT\n135\nEXPORT NIFTI PT\nEXPORT NIFTI CT\n136\nEXPORT NIFTI PT\nEXPORT NIFTI CT\n137\nEXPORT NIFTI PT\nEXPORT NIFTI CT\n138\nEXPORT NIFTI PT\nEXPORT NIFTI CT\n139\nEXPORT NIFTI PT\nEXPORT NIFTI CT\n140\nEXPORT NIFTI PT\nEXPORT NIFTI CT\n141\nEXPORT NIFTI PT\nEXPORT NIFTI CT\n142\nEXPORT NIFTI PT\nEXPORT NIFTI CT\n143\nEXPORT NIFTI PT\nEXPORT NIFTI CT\n144\nEXPORT NIFTI PT\nEXPORT NIFTI CT\n145\nEXPORT NIFTI PT\nEXPORT NIFTI CT\n146\nEXPORT NIFTI PT\nEXPORT NIFTI CT\n147\nEXPORT NIFTI PT\nEXPORT NIFTI CT\n148\nEXPORT NIFTI PT\nEXPORT NIFTI CT\n149\nEXPORT NIFTI PT\nEXPORT NIFTI CT\n150\nEXPORT NIFTI PT\nEXPORT NIFTI CT\n151\nEXPORT NIFTI PT\nEXPORT NIFTI CT\n152\nEXPORT NIFTI PT\nEXPORT NIFTI CT\n153\nEXPORT NIFTI PT\nEXPORT NIFTI CT\n154\nEXPORT NIFTI PT\nEXPORT NIFTI CT\n155\nEXPORT NIFTI PT\nEXPORT NIFTI CT\n156\nEXPORT NIFTI PT\nEXPORT NIFTI CT\n157\nEXPORT NIFTI PT\nEXPORT NIFTI CT\n158\nEXPORT NIFTI PT\nEXPORT NIFTI CT\n159\nEXPORT NIFTI PT\nEXPORT NIFTI CT\n160\nEXPORT NIFTI PT\nEXPORT NIFTI CT\n161\nEXPORT NIFTI PT\nEXPORT NIFTI CT\n162\nEXPORT NIFTI PT\nEXPORT NIFTI CT\n163\nEXPORT NIFTI PT\nEXPORT NIFTI CT\n164\nEXPORT NIFTI PT\nEXPORT NIFTI CT\n165\nEXPORT NIFTI PT\nEXPORT NIFTI CT\n166\nEXPORT NIFTI PT\nEXPORT NIFTI CT\n167\nEXPORT NIFTI PT\nEXPORT NIFTI CT\n168\nEXPORT NIFTI PT\nEXPORT NIFTI CT\n169\nEXPORT NIFTI PT\nEXPORT NIFTI CT\n170\nEXPORT NIFTI PT\nEXPORT NIFTI CT\n171\nEXPORT NIFTI PT\nEXPORT NIFTI CT\n172\nEXPORT NIFTI PT\nEXPORT NIFTI CT\n173\nEXPORT NIFTI PT\nEXPORT NIFTI CT\n174\nEXPORT NIFTI PT\nEXPORT NIFTI CT\n175\nEXPORT NIFTI PT\nEXPORT NIFTI CT\n176\nEXPORT NIFTI PT\nEXPORT NIFTI CT\n177\nEXPORT NIFTI PT\nEXPORT NIFTI CT\n178\nEXPORT NIFTI PT\nEXPORT NIFTI CT\n179\nEXPORT NIFTI PT\nEXPORT NIFTI CT\n180\nEXPORT NIFTI PT\nEXPORT NIFTI CT\n181\nEXPORT NIFTI PT\nEXPORT NIFTI CT\n182\nEXPORT NIFTI PT\nEXPORT NIFTI CT\n183\nEXPORT NIFTI PT\nEXPORT NIFTI CT\n184\nEXPORT NIFTI PT\nEXPORT NIFTI CT\n185\nEXPORT NIFTI PT\nEXPORT NIFTI CT\n186\nEXPORT NIFTI PT\nEXPORT NIFTI CT\n187\nEXPORT NIFTI PT\nEXPORT NIFTI CT\n188\nEXPORT NIFTI PT\nEXPORT NIFTI CT\n189\nEXPORT NIFTI PT\nEXPORT NIFTI CT\n190\nEXPORT NIFTI PT\nEXPORT NIFTI CT\n191\nEXPORT NIFTI PT\nEXPORT NIFTI CT\n192\nEXPORT NIFTI PT\nEXPORT NIFTI CT\n193\nEXPORT NIFTI PT\nEXPORT NIFTI CT\n194\nEXPORT NIFTI PT\nEXPORT NIFTI CT\n195\nEXPORT NIFTI PT\nEXPORT NIFTI CT\n196\nEXPORT NIFTI PT\nEXPORT NIFTI CT\n197\nEXPORT NIFTI PT\nEXPORT NIFTI CT\n198\nEXPORT NIFTI PT\nEXPORT NIFTI CT\n199\nEXPORT NIFTI PT\nEXPORT NIFTI CT\n200\nEXPORT NIFTI PT\nEXPORT NIFTI CT\n201\nEXPORT NIFTI PT\nEXPORT NIFTI CT\n202\nEXPORT NIFTI PT\nEXPORT NIFTI CT\n203\nEXPORT NIFTI PT\nEXPORT NIFTI CT\n204\nEXPORT NIFTI PT\nEXPORT NIFTI CT\n205\nEXPORT NIFTI PT\nEXPORT NIFTI CT\n206\nEXPORT NIFTI PT\nEXPORT NIFTI CT\n207\nEXPORT NIFTI PT\nEXPORT NIFTI CT\n208\nEXPORT NIFTI PT\nEXPORT NIFTI CT\n209\nEXPORT NIFTI PT\nEXPORT NIFTI CT\n210\nEXPORT NIFTI PT\nEXPORT NIFTI CT\n211\nEXPORT NIFTI PT\nEXPORT NIFTI CT\n212\nEXPORT NIFTI PT\nEXPORT NIFTI CT\n213\nEXPORT NIFTI PT\nEXPORT NIFTI CT\n214\nEXPORT NIFTI PT\nEXPORT NIFTI CT\n215\nEXPORT NIFTI PT\nEXPORT NIFTI CT\n216\nEXPORT NIFTI PT\nEXPORT NIFTI CT\n217\nEXPORT NIFTI PT\nEXPORT NIFTI CT\n218\nEXPORT NIFTI PT\nEXPORT NIFTI CT\n219\nEXPORT NIFTI PT\nEXPORT NIFTI CT\n220\nEXPORT NIFTI PT\nEXPORT NIFTI CT\n221\nEXPORT NIFTI PT\nEXPORT NIFTI CT\n222\nEXPORT NIFTI PT\nEXPORT NIFTI CT\n223\nEXPORT NIFTI PT\nEXPORT NIFTI CT\n224\nEXPORT NIFTI PT\nEXPORT NIFTI CT\n225\nEXPORT NIFTI PT\nEXPORT NIFTI CT\n226\nEXPORT NIFTI PT\nEXPORT NIFTI CT\n227\nEXPORT NIFTI PT\nEXPORT NIFTI CT\n228\nEXPORT NIFTI PT\nEXPORT NIFTI CT\n229\nEXPORT NIFTI PT\nEXPORT NIFTI CT\n230\nEXPORT NIFTI PT\nEXPORT NIFTI CT\n231\nEXPORT NIFTI PT\nEXPORT NIFTI CT\n232\nEXPORT NIFTI PT\nEXPORT NIFTI CT\n233\nEXPORT NIFTI PT\nEXPORT NIFTI CT\n234\nEXPORT NIFTI PT\nEXPORT NIFTI CT\n235\nEXPORT NIFTI PT\nEXPORT NIFTI CT\n236\nEXPORT NIFTI PT\nEXPORT NIFTI CT\n237\nEXPORT NIFTI PT\nEXPORT NIFTI CT\n238\nEXPORT NIFTI PT\nEXPORT NIFTI CT\n239\nEXPORT NIFTI PT\nEXPORT NIFTI CT\n240\nEXPORT NIFTI PT\nEXPORT NIFTI CT\n241\nEXPORT NIFTI PT\nEXPORT NIFTI CT\n242\nEXPORT NIFTI PT\nEXPORT NIFTI CT\n243\nEXPORT NIFTI PT\nEXPORT NIFTI CT\n244\nEXPORT NIFTI PT\nEXPORT NIFTI CT\n245\nEXPORT NIFTI PT\nEXPORT NIFTI CT\n246\nEXPORT NIFTI PT\nEXPORT NIFTI CT\n247\nEXPORT NIFTI PT\nEXPORT NIFTI CT\n248\nEXPORT NIFTI PT\nEXPORT NIFTI CT\n249\nEXPORT NIFTI PT\nEXPORT NIFTI CT\n250\nEXPORT NIFTI PT\nEXPORT NIFTI CT\n251\nEXPORT NIFTI PT\nEXPORT NIFTI CT\n252\nEXPORT NIFTI PT\nEXPORT NIFTI CT\n253\nEXPORT NIFTI PT\nEXPORT NIFTI CT\n254\nEXPORT NIFTI PT\nEXPORT NIFTI CT\n255\nEXPORT NIFTI PT\nEXPORT NIFTI CT\n256\nEXPORT NIFTI PT\nEXPORT NIFTI CT\n257\nEXPORT NIFTI PT\nEXPORT NIFTI CT\n258\nEXPORT NIFTI PT\nEXPORT NIFTI CT\n259\nEXPORT NIFTI PT\nEXPORT NIFTI CT\n260\nEXPORT NIFTI PT\nEXPORT NIFTI CT\n261\nEXPORT NIFTI PT\nEXPORT NIFTI CT\n262\nEXPORT NIFTI PT\nEXPORT NIFTI CT\n263\nEXPORT NIFTI PT\nEXPORT NIFTI CT\n264\nEXPORT NIFTI PT\nEXPORT NIFTI CT\n265\nEXPORT NIFTI PT\nEXPORT NIFTI CT\n266\nEXPORT NIFTI PT\nEXPORT NIFTI CT\n267\nEXPORT NIFTI PT\nEXPORT NIFTI CT\n268\nEXPORT NIFTI PT\nEXPORT NIFTI CT\n269\nEXPORT NIFTI PT\nEXPORT NIFTI CT\n270\nEXPORT NIFTI PT\nEXPORT NIFTI CT\n271\nEXPORT NIFTI PT\nEXPORT NIFTI CT\n272\nEXPORT NIFTI PT\nEXPORT NIFTI CT\n273\nEXPORT NIFTI PT\nEXPORT NIFTI CT\n274\nEXPORT NIFTI PT\nEXPORT NIFTI CT\n275\nEXPORT NIFTI PT\nEXPORT NIFTI CT\n276\nEXPORT NIFTI PT\nEXPORT NIFTI CT\n277\nEXPORT NIFTI PT\nEXPORT NIFTI CT\n278\nEXPORT NIFTI PT\nEXPORT NIFTI CT\n279\nEXPORT NIFTI PT\nEXPORT NIFTI CT\n280\nEXPORT NIFTI PT\nEXPORT NIFTI CT\n281\nEXPORT NIFTI PT\nEXPORT NIFTI CT\n282\nEXPORT NIFTI PT\nEXPORT NIFTI CT\n283\nEXPORT NIFTI PT\nEXPORT NIFTI CT\n284\nEXPORT NIFTI PT\nEXPORT NIFTI CT\n285\nEXPORT NIFTI PT\nEXPORT NIFTI CT\n286\nEXPORT NIFTI PT\nEXPORT NIFTI CT\n287\nEXPORT NIFTI PT\nEXPORT NIFTI CT\n288\nEXPORT NIFTI PT\nEXPORT NIFTI CT\n289\nEXPORT NIFTI PT\nEXPORT NIFTI CT\n290\nEXPORT NIFTI PT\nEXPORT NIFTI CT\n291\nEXPORT NIFTI PT\nEXPORT NIFTI CT\n292\nEXPORT NIFTI PT\nEXPORT NIFTI CT\n293\nEXPORT NIFTI PT\nEXPORT NIFTI CT\n294\nEXPORT NIFTI PT\nEXPORT NIFTI CT\n295\nEXPORT NIFTI PT\nEXPORT NIFTI CT\n296\nEXPORT NIFTI PT\nEXPORT NIFTI CT\n297\nEXPORT NIFTI PT\nEXPORT NIFTI CT\n298\nEXPORT NIFTI PT\nEXPORT NIFTI CT\n299\nEXPORT NIFTI PT\nEXPORT NIFTI CT\n300\nEXPORT NIFTI PT\nEXPORT NIFTI CT\n301\nEXPORT NIFTI PT\nEXPORT NIFTI CT\n302\nEXPORT NIFTI PT\nEXPORT NIFTI CT\n303\nEXPORT NIFTI PT\nEXPORT NIFTI CT\n304\nEXPORT NIFTI PT\nEXPORT NIFTI CT\n305\nEXPORT NIFTI PT\nEXPORT NIFTI CT\n306\nEXPORT NIFTI PT\nEXPORT NIFTI CT\n307\nEXPORT NIFTI PT\nEXPORT NIFTI CT\n308\nEXPORT NIFTI PT\nEXPORT NIFTI CT\n309\nEXPORT NIFTI PT\nEXPORT NIFTI CT\n310\nEXPORT NIFTI PT\nEXPORT NIFTI CT\n311\nEXPORT NIFTI PT\nEXPORT NIFTI CT\n312\nEXPORT NIFTI PT\nEXPORT NIFTI CT\n313\nEXPORT NIFTI PT\nEXPORT NIFTI CT\n314\nEXPORT NIFTI PT\nEXPORT NIFTI CT\n315\nEXPORT NIFTI PT\nEXPORT NIFTI CT\n316\nEXPORT NIFTI PT\nEXPORT NIFTI CT\n317\nEXPORT NIFTI PT\nEXPORT NIFTI CT\n318\nEXPORT NIFTI PT\nEXPORT NIFTI CT\n319\nEXPORT NIFTI PT\nEXPORT NIFTI CT\n320\nEXPORT NIFTI PT\nEXPORT NIFTI CT\n321\nEXPORT NIFTI PT\nEXPORT NIFTI CT\n322\nEXPORT NIFTI PT\nEXPORT NIFTI CT\n323\nEXPORT NIFTI PT\nEXPORT NIFTI CT\n324\nEXPORT NIFTI PT\nEXPORT NIFTI CT\n325\nEXPORT NIFTI PT\nEXPORT NIFTI CT\n326\nEXPORT NIFTI PT\nEXPORT NIFTI CT\n327\nEXPORT NIFTI PT\nEXPORT NIFTI CT\n328\nEXPORT NIFTI PT\nEXPORT NIFTI CT\n329\nEXPORT NIFTI PT\nEXPORT NIFTI CT\n330\nEXPORT NIFTI PT\nEXPORT NIFTI CT\n331\nEXPORT NIFTI PT\nEXPORT NIFTI CT\n332\nEXPORT NIFTI PT\nEXPORT NIFTI CT\n333\nEXPORT NIFTI PT\nEXPORT NIFTI CT\n334\nEXPORT NIFTI PT\nEXPORT NIFTI CT\n335\nEXPORT NIFTI PT\nEXPORT NIFTI CT\n336\nEXPORT NIFTI PT\nEXPORT NIFTI CT\n337\nEXPORT NIFTI PT\nEXPORT NIFTI CT\n338\nEXPORT NIFTI PT\nEXPORT NIFTI CT\n339\nEXPORT NIFTI PT\nEXPORT NIFTI CT\n340\nEXPORT NIFTI PT\nEXPORT NIFTI CT\n341\nEXPORT NIFTI PT\nEXPORT NIFTI CT\n342\nEXPORT NIFTI PT\nEXPORT NIFTI CT\n343\nEXPORT NIFTI PT\nEXPORT NIFTI CT\n344\nEXPORT NIFTI PT\nEXPORT NIFTI CT\n345\nEXPORT NIFTI PT\nEXPORT NIFTI CT\n346\nEXPORT NIFTI PT\nEXPORT NIFTI CT\n347\nEXPORT NIFTI PT\nEXPORT NIFTI CT\n348\nEXPORT NIFTI PT\nEXPORT NIFTI CT\n349\nEXPORT NIFTI PT\nEXPORT NIFTI CT\n350\nEXPORT NIFTI PT\nEXPORT NIFTI CT\n351\nEXPORT NIFTI PT\nEXPORT NIFTI CT\n352\nEXPORT NIFTI PT\nEXPORT NIFTI CT\n353\nEXPORT NIFTI PT\nEXPORT NIFTI CT\n354\nEXPORT NIFTI PT\nEXPORT NIFTI CT\n355\nEXPORT NIFTI PT\nEXPORT NIFTI CT\n356\nEXPORT NIFTI PT\nEXPORT NIFTI CT\n357\nEXPORT NIFTI PT\nEXPORT NIFTI CT\n358\nEXPORT NIFTI PT\nEXPORT NIFTI CT\n359\nEXPORT NIFTI PT\nEXPORT NIFTI CT\n360\nEXPORT NIFTI PT\nEXPORT NIFTI CT\n361\nEXPORT NIFTI PT\nEXPORT NIFTI CT\n362\nEXPORT NIFTI PT\nEXPORT NIFTI CT\n363\nEXPORT NIFTI PT\nEXPORT NIFTI CT\n364\nEXPORT NIFTI PT\nEXPORT NIFTI CT\n365\nEXPORT NIFTI PT\nEXPORT NIFTI CT\n366\nEXPORT NIFTI PT\nEXPORT NIFTI CT\n367\nEXPORT NIFTI PT\nEXPORT NIFTI CT\n368\nEXPORT NIFTI PT\nEXPORT NIFTI CT\n369\nEXPORT NIFTI PT\nEXPORT NIFTI CT\n370\nEXPORT NIFTI PT\nEXPORT NIFTI CT\n371\nEXPORT NIFTI PT\nEXPORT NIFTI CT\n372\nEXPORT NIFTI PT\nEXPORT NIFTI CT\n373\nEXPORT NIFTI PT\nEXPORT NIFTI CT\n374\nEXPORT NIFTI PT\nEXPORT NIFTI CT\n375\nEXPORT NIFTI PT\nEXPORT NIFTI CT\n376\nEXPORT NIFTI PT\nEXPORT NIFTI CT\n377\nEXPORT NIFTI PT\nEXPORT NIFTI CT\n378\nEXPORT NIFTI PT\nEXPORT NIFTI CT\n379\nEXPORT NIFTI PT\nEXPORT NIFTI CT\n380\nEXPORT NIFTI PT\nEXPORT NIFTI CT\n381\nEXPORT NIFTI PT\nEXPORT NIFTI CT\n382\nEXPORT NIFTI PT\nEXPORT NIFTI CT\n383\nEXPORT NIFTI PT\nEXPORT NIFTI CT\n384\nEXPORT NIFTI PT\nEXPORT NIFTI CT\n385\nEXPORT NIFTI PT\nEXPORT NIFTI CT\n386\nEXPORT NIFTI PT\nEXPORT NIFTI CT\n387\nEXPORT NIFTI PT\nEXPORT NIFTI CT\n388\nEXPORT NIFTI PT\nEXPORT NIFTI CT\n389\nEXPORT NIFTI PT\nEXPORT NIFTI CT\n390\nEXPORT NIFTI PT\nEXPORT NIFTI CT\n391\nEXPORT NIFTI PT\nEXPORT NIFTI CT\n392\nEXPORT NIFTI PT\nEXPORT NIFTI CT\n393\nEXPORT NIFTI PT\nEXPORT NIFTI CT\n394\nEXPORT NIFTI PT\nEXPORT NIFTI CT\n395\nEXPORT NIFTI PT\nEXPORT NIFTI CT\n396\nEXPORT NIFTI PT\nEXPORT NIFTI CT\n397\nEXPORT NIFTI PT\nEXPORT NIFTI CT\n398\nEXPORT NIFTI PT\nEXPORT NIFTI CT\n399\nEXPORT NIFTI PT\nEXPORT NIFTI CT\n400\nEXPORT NIFTI PT\nEXPORT NIFTI CT\n401\nEXPORT NIFTI PT\nEXPORT NIFTI CT\n402\nEXPORT NIFTI PT\nEXPORT NIFTI CT\n403\nEXPORT NIFTI PT\nEXPORT NIFTI CT\n404\nEXPORT NIFTI PT\nEXPORT NIFTI CT\n405\nEXPORT NIFTI PT\nEXPORT NIFTI CT\n406\nEXPORT NIFTI PT\nEXPORT NIFTI CT\n407\nEXPORT NIFTI PT\nEXPORT NIFTI CT\n408\nEXPORT NIFTI PT\nEXPORT NIFTI CT\n409\nEXPORT NIFTI PT\nEXPORT NIFTI CT\n410\nEXPORT NIFTI PT\nEXPORT NIFTI CT\n411\nEXPORT NIFTI PT\nEXPORT NIFTI CT\n412\nEXPORT NIFTI PT\nEXPORT NIFTI CT\n413\nEXPORT NIFTI PT\nEXPORT NIFTI CT\n414\nEXPORT NIFTI PT\nEXPORT NIFTI CT\n415\nEXPORT NIFTI PT\nEXPORT NIFTI CT\n416\nEXPORT NIFTI PT\nEXPORT NIFTI CT\n417\nEXPORT NIFTI PT\nEXPORT NIFTI CT\n418\nEXPORT NIFTI PT\nEXPORT NIFTI CT\n419\nEXPORT NIFTI PT\nEXPORT NIFTI CT\n420\nEXPORT NIFTI PT\nEXPORT NIFTI CT\n421\nEXPORT NIFTI PT\nEXPORT NIFTI CT\n422\nEXPORT NIFTI PT\nEXPORT NIFTI CT\n423\nEXPORT NIFTI PT\nEXPORT NIFTI CT\n424\nEXPORT NIFTI PT\nEXPORT NIFTI CT\n425\nEXPORT NIFTI PT\nEXPORT NIFTI CT\n426\nEXPORT NIFTI PT\nEXPORT NIFTI CT\n427\nEXPORT NIFTI PT\nEXPORT NIFTI CT\n428\nEXPORT NIFTI PT\nEXPORT NIFTI CT\n429\nEXPORT NIFTI PT\nEXPORT NIFTI CT\n430\nEXPORT NIFTI PT\nEXPORT NIFTI CT\n431\nEXPORT NIFTI PT\nEXPORT NIFTI CT\n432\nEXPORT NIFTI PT\nEXPORT NIFTI CT\n433\nEXPORT NIFTI PT\nEXPORT NIFTI CT\n434\nEXPORT NIFTI PT\nEXPORT NIFTI CT\n435\nEXPORT NIFTI PT\nEXPORT NIFTI CT\n436\nEXPORT NIFTI PT\nEXPORT NIFTI CT\n437\nEXPORT NIFTI PT\nEXPORT NIFTI CT\n438\nEXPORT NIFTI PT\nEXPORT NIFTI CT\n439\nEXPORT NIFTI PT\nEXPORT NIFTI CT\n440\nEXPORT NIFTI PT\nEXPORT NIFTI CT\n441\nEXPORT NIFTI PT\nEXPORT NIFTI CT\n442\nEXPORT NIFTI PT\nEXPORT NIFTI CT\n443\nEXPORT NIFTI PT\nEXPORT NIFTI CT\n444\nEXPORT NIFTI PT\nEXPORT NIFTI CT\n445\nEXPORT NIFTI PT\nEXPORT NIFTI CT\n446\nEXPORT NIFTI PT\nEXPORT NIFTI CT\n447\nEXPORT NIFTI PT\nEXPORT NIFTI CT\n448\nEXPORT NIFTI PT\nEXPORT NIFTI CT\n449\nEXPORT NIFTI PT\nEXPORT NIFTI CT\n450\nEXPORT NIFTI PT\nEXPORT NIFTI CT\n451\nEXPORT NIFTI PT\nEXPORT NIFTI CT\n452\nEXPORT NIFTI PT\nEXPORT NIFTI CT\n453\nEXPORT NIFTI PT\nEXPORT NIFTI CT\n454\nEXPORT NIFTI PT\nEXPORT NIFTI CT\n455\nEXPORT NIFTI PT\nEXPORT NIFTI CT\n456\nEXPORT NIFTI PT\nEXPORT NIFTI CT\n457\nEXPORT NIFTI PT\nEXPORT NIFTI CT\n458\nEXPORT NIFTI PT\nEXPORT NIFTI CT\n459\nEXPORT NIFTI PT\nEXPORT NIFTI CT\n460\nEXPORT NIFTI PT\nEXPORT NIFTI CT\n461\nEXPORT NIFTI PT\nEXPORT NIFTI CT\n462\nEXPORT NIFTI PT\nEXPORT NIFTI CT\n463\nEXPORT NIFTI PT\nEXPORT NIFTI CT\n464\nEXPORT NIFTI PT\nEXPORT NIFTI CT\n465\nEXPORT NIFTI PT\nEXPORT NIFTI CT\n466\nEXPORT NIFTI PT\nEXPORT NIFTI CT\n467\nEXPORT NIFTI PT\nEXPORT NIFTI CT\n468\nEXPORT NIFTI PT\nEXPORT NIFTI CT\n469\nEXPORT NIFTI PT\nEXPORT NIFTI CT\n470\nEXPORT NIFTI PT\nEXPORT NIFTI CT\n471\nEXPORT NIFTI PT\nEXPORT NIFTI CT\n472\nEXPORT NIFTI PT\nEXPORT NIFTI CT\n473\nEXPORT NIFTI PT\nEXPORT NIFTI CT\n474\nEXPORT NIFTI PT\nEXPORT NIFTI CT\n475\nEXPORT NIFTI PT\nEXPORT NIFTI CT\n476\nEXPORT NIFTI PT\nEXPORT NIFTI CT\n477\nEXPORT NIFTI PT\nEXPORT NIFTI CT\n478\nEXPORT NIFTI PT\nEXPORT NIFTI CT\n479\nEXPORT NIFTI PT\nEXPORT NIFTI CT\n480\nEXPORT NIFTI PT\nEXPORT NIFTI CT\n481\nEXPORT NIFTI PT\nEXPORT NIFTI CT\n482\nEXPORT NIFTI PT\nEXPORT NIFTI CT\n483\nEXPORT NIFTI PT\nEXPORT NIFTI CT\n484\nEXPORT NIFTI PT\nEXPORT NIFTI CT\n485\nEXPORT NIFTI PT\nEXPORT NIFTI CT\n486\nEXPORT NIFTI PT\nEXPORT NIFTI CT\n487\nEXPORT NIFTI PT\nEXPORT NIFTI CT\n488\nEXPORT NIFTI PT\nEXPORT NIFTI CT\n489\nEXPORT NIFTI PT\nEXPORT NIFTI CT\n490\nEXPORT NIFTI PT\nEXPORT NIFTI CT\n491\nEXPORT NIFTI PT\nEXPORT NIFTI CT\n492\nEXPORT NIFTI PT\nEXPORT NIFTI CT\n493\nEXPORT NIFTI PT\nEXPORT NIFTI CT\n494\nEXPORT NIFTI PT\nEXPORT NIFTI CT\n495\nEXPORT NIFTI PT\nEXPORT NIFTI CT\n496\nEXPORT NIFTI PT\nEXPORT NIFTI CT\n497\nEXPORT NIFTI PT\nEXPORT NIFTI CT\n498\nEXPORT NIFTI PT\nEXPORT NIFTI CT\n499\nEXPORT NIFTI PT\nEXPORT NIFTI CT\n500\nEXPORT NIFTI PT\nEXPORT NIFTI CT\n501\nEXPORT NIFTI PT\nEXPORT NIFTI CT\n502\nEXPORT NIFTI PT\nEXPORT NIFTI CT\n503\nEXPORT NIFTI PT\nEXPORT NIFTI CT\n504\nEXPORT NIFTI PT\nEXPORT NIFTI CT\n505\nEXPORT NIFTI PT\nEXPORT NIFTI CT\n506\nEXPORT NIFTI PT\nEXPORT NIFTI CT\n507\nEXPORT NIFTI PT\nEXPORT NIFTI CT\n508\nEXPORT NIFTI PT\nEXPORT NIFTI CT\n509\nEXPORT NIFTI PT\nEXPORT NIFTI CT\n510\nEXPORT NIFTI PT\nEXPORT NIFTI CT\n511\nEXPORT NIFTI PT\nEXPORT NIFTI CT\n512\nEXPORT NIFTI PT\nEXPORT NIFTI CT\n513\nEXPORT NIFTI PT\nEXPORT NIFTI CT\n514\nEXPORT NIFTI PT\nEXPORT NIFTI CT\n515\nEXPORT NIFTI PT\nEXPORT NIFTI CT\n516\nEXPORT NIFTI PT\nEXPORT NIFTI CT\n517\nEXPORT NIFTI PT\nEXPORT NIFTI CT\n518\nEXPORT NIFTI PT\nEXPORT NIFTI CT\n519\nEXPORT NIFTI PT\nEXPORT NIFTI CT\n520\nEXPORT NIFTI PT\nEXPORT NIFTI CT\n521\nEXPORT NIFTI PT\nEXPORT NIFTI CT\n522\nEXPORT NIFTI PT\nEXPORT NIFTI CT\n523\nEXPORT NIFTI PT\nEXPORT NIFTI CT\n524\nEXPORT NIFTI PT\nEXPORT NIFTI CT\n525\nEXPORT NIFTI PT\nEXPORT NIFTI CT\n526\nEXPORT NIFTI PT\nEXPORT NIFTI CT\n527\nEXPORT NIFTI PT\nEXPORT NIFTI CT\n528\nEXPORT NIFTI PT\nEXPORT NIFTI CT\n529\nEXPORT NIFTI PT\nEXPORT NIFTI CT\n530\nEXPORT NIFTI PT\nEXPORT NIFTI CT\n531\nEXPORT NIFTI PT\nEXPORT NIFTI CT\n532\nEXPORT NIFTI PT\nEXPORT NIFTI CT\n533\nEXPORT NIFTI PT\nEXPORT NIFTI CT\n534\nEXPORT NIFTI PT\nEXPORT NIFTI CT\n535\nEXPORT NIFTI PT\nEXPORT NIFTI CT\n536\nEXPORT NIFTI PT\nEXPORT NIFTI CT\n537\nEXPORT NIFTI PT\nEXPORT NIFTI CT\n538\nEXPORT NIFTI PT\nEXPORT NIFTI CT\n539\nEXPORT NIFTI PT\nEXPORT NIFTI CT\n540\nEXPORT NIFTI PT\nEXPORT NIFTI CT\n541\nEXPORT NIFTI PT\nEXPORT NIFTI CT\n542\nEXPORT NIFTI PT\nEXPORT NIFTI CT\n543\nEXPORT NIFTI PT\nEXPORT NIFTI CT\n544\nEXPORT NIFTI PT\nEXPORT NIFTI CT\n545\nEXPORT NIFTI PT\nEXPORT NIFTI CT\n546\nEXPORT NIFTI PT\nEXPORT NIFTI CT\n547\nEXPORT NIFTI PT\nEXPORT NIFTI CT\n548\nEXPORT NIFTI PT\nEXPORT NIFTI CT\n549\nEXPORT NIFTI PT\nEXPORT NIFTI CT\n550\nEXPORT NIFTI PT\nEXPORT NIFTI CT\n551\nEXPORT NIFTI PT\nEXPORT NIFTI CT\n552\nEXPORT NIFTI PT\nEXPORT NIFTI CT\n553\nEXPORT NIFTI PT\nEXPORT NIFTI CT\n554\nEXPORT NIFTI PT\nEXPORT NIFTI CT\n555\nEXPORT NIFTI PT\nEXPORT NIFTI CT\n556\nEXPORT NIFTI PT\nEXPORT NIFTI CT\n557\nEXPORT NIFTI PT\nEXPORT NIFTI CT\n558\nEXPORT NIFTI PT\nEXPORT NIFTI CT\n559\nEXPORT NIFTI PT\nEXPORT NIFTI CT\n560\nEXPORT NIFTI PT\nEXPORT NIFTI CT\n561\nEXPORT NIFTI PT\nEXPORT NIFTI CT\n562\nEXPORT NIFTI PT\nEXPORT NIFTI CT\n563\nEXPORT NIFTI PT\nEXPORT NIFTI CT\n564\nEXPORT NIFTI PT\nEXPORT NIFTI CT\n565\nEXPORT NIFTI PT\nEXPORT NIFTI CT\n566\nEXPORT NIFTI PT\nEXPORT NIFTI CT\n567\nEXPORT NIFTI PT\nEXPORT NIFTI CT\n568\nEXPORT NIFTI PT\nEXPORT NIFTI CT\n569\nEXPORT NIFTI PT\nEXPORT NIFTI CT\n570\nEXPORT NIFTI PT\nEXPORT NIFTI CT\n571\nEXPORT NIFTI PT\nEXPORT NIFTI CT\n572\nEXPORT NIFTI PT\nEXPORT NIFTI CT\n573\nEXPORT NIFTI PT\nEXPORT NIFTI CT\n574\nEXPORT NIFTI PT\nEXPORT NIFTI CT\n575\nEXPORT NIFTI PT\nEXPORT NIFTI CT\n576\nEXPORT NIFTI PT\nEXPORT NIFTI CT\n577\nEXPORT NIFTI PT\nEXPORT NIFTI CT\n"
    }
   ],
   "source": [
    "nifti_directory = '/media/salim/DD 2To/AHL2011_NIFTI'\n",
    "for serie in dataset : \n",
    "    print(dataset.index(serie))\n",
    "    try : \n",
    "        if serie[1] == 'PT' : \n",
    "            serie_pt_objet = SeriesPT(serie[0]) \n",
    "            nifti_array = serie_pt_objet.get_numpy_array()\n",
    "            study_uid = serie_pt_objet.get_series_details()['study']['StudyInstanceUID']\n",
    "\n",
    "                    #generation nifti PT\n",
    "            filename_pt = study_uid+'_'+'nifti_'+'PT'+'.nii'\n",
    "            serie_pt_objet.export_nifti(os.path.join(nifti_directory, filename_pt))\n",
    "            print(\"EXPORT NIFTI PT\")\n",
    "                    #generation nifti CT\n",
    "            serie_ct_objet = SeriesCT(serie[2])\n",
    "            serie_ct_objet.get_numpy_array()\n",
    "            filename_ct = study_uid+'_'+'nifti_'+'CT'+'.nii'\n",
    "            serie_ct_objet.export_nifti(os.path.join(nifti_directory, filename_ct))\n",
    "            print(\"EXPORT NIFTI CT\")\n",
    "\n",
    "\n",
    "\n",
    "        else : \n",
    "            serie_pt_objet = SeriesPT(serie[2]) \n",
    "            nifti_array = serie_pt_objet.get_numpy_array()\n",
    "            study_uid = serie_pt_objet.get_series_details()['study']['StudyInstanceUID']\n",
    "\n",
    "            \n",
    "                    #generation nifti PT\n",
    "            filename_pt = study_uid+'_'+'nifti_'+'PT'+'.nii'\n",
    "            serie_pt_objet.export_nifti(os.path.join(nifti_directory, filename_pt))\n",
    "            print(\"EXPORT NIFTI PT\")\n",
    "                    #generation nifti CT\n",
    "            serie_ct_objet = SeriesCT(serie[0])\n",
    "            serie_ct_objet.get_numpy_array()\n",
    "            filename_ct = study_uid+'_'+'nifti_'+'CT'+'.nii'\n",
    "            serie_ct_objet.export_nifti(os.path.join(nifti_directory, filename_ct))\n",
    "            print(\"EXPORT NIFTI CT\")\n",
    " \n",
    "\n",
    "    except Exception as err : \n",
    "        print(serie)\n",
    "        print(err)"
   ]
  },
  {
   "cell_type": "code",
   "execution_count": null,
   "metadata": {},
   "outputs": [],
   "source": []
  },
  {
   "cell_type": "code",
   "execution_count": null,
   "metadata": {},
   "outputs": [],
   "source": []
  },
  {
   "cell_type": "code",
   "execution_count": 6,
   "metadata": {},
   "outputs": [
    {
     "name": "stdout",
     "output_type": "stream",
     "text": "1196\n"
    }
   ],
   "source": [
    "#POUR PET 2 ET PET 4 (SANS MASK)\n",
    "\n",
    "#RELOAD JSON FROM PARSED DICOM IPYNB\n",
    "\n",
    "\n",
    "json_path = '/media/salim/DD 2To/AHL2011_NIFTI_PET24/AHL2011_list_path_CT_PET.json'\n",
    "dataset = []\n",
    "with open(json_path) as json_file : \n",
    "    reader = json.load(json_file)\n",
    "    for info in reader :\n",
    "        dataset.append(info)\n",
    "\n",
    "print(len(dataset))"
   ]
  },
  {
   "cell_type": "code",
   "execution_count": 5,
   "metadata": {},
   "outputs": [
    {
     "name": "stdout",
     "output_type": "stream",
     "text": "0\n1\n2\n3\n4\n5\n6\n7\n8\n9\n10\n11\n12\n13\n14\n15\n16\n17\n18\n19\n20\n21\n22\n23\n24\n25\n26\n27\n28\n29\n30\n31\n32\n33\n34\n35\n36\n37\n38\n39\n40\n41\n42\n43\n44\n45\n46\n47\n48\n49\n50\n51\n52\n53\n54\n55\n56\n57\n58\n59\n60\n61\n62\n63\n64\n65\n66\n67\n68\n69\n70\n71\n72\n73\n74\n75\n76\n77\n78\n79\n80\n81\n82\n83\n84\n85\n86\n87\n88\n89\n90\n91\n92\n93\n94\n95\n96\n97\n98\n99\n100\n101\n102\n103\n104\n105\n106\n107\n108\n109\n110\n111\n112\n113\n114\n115\n116\n117\n118\n119\n120\n121\n122\n123\n124\n125\n126\n127\n128\n129\n130\n131\n132\n133\n134\n135\n136\n137\n138\n139\n140\n141\n142\n143\n144\n145\n146\n147\n148\n149\n150\n151\n152\n153\n154\n155\n156\n157\n158\n159\n160\n161\n162\n163\n164\n165\n166\n167\n168\n169\n170\n171\n172\n173\n174\n175\n176\n177\n178\n179\n180\n181\n182\n183\n184\n185\n186\n187\n188\n189\n190\n191\n192\n193\n194\n195\n196\n197\n198\n199\n200\n201\n202\n203\n204\n205\n206\n207\n208\n209\n210\n211\n212\n213\n214\n215\n216\n217\n218\n219\n220\n221\n222\n223\n224\n225\n226\n227\n228\n229\n230\n231\n232\n233\n234\n235\n236\n237\n238\n239\n240\n241\n242\n243\n244\n245\n246\n247\n248\n249\n250\n251\n252\n253\n254\n255\n256\n257\n258\n259\n260\n261\n262\n263\n264\n265\n266\n267\n268\n269\n270\n271\n272\n273\n274\n275\n276\n277\n278\n279\n280\n281\n282\n283\n284\n285\n286\n287\n288\n289\n290\n291\n292\n293\n294\n295\n296\n297\n298\n299\n300\n301\n302\n303\n304\n305\n306\n307\n308\n309\n310\n311\n312\n313\n314\n315\n316\n317\n318\n319\n320\n321\n322\n323\n324\n325\n326\n327\n328\n329\n330\n331\n332\n333\n334\n335\n336\n337\n338\n339\n340\n341\n342\n343\n344\n345\n346\n347\n348\n349\n350\n351\n352\n353\n354\n355\n356\n357\n358\n359\n360\n361\n362\n363\n364\n365\n366\n367\n368\n369\n370\n371\n372\n373\n374\n375\n376\n377\n378\n379\n380\n381\n382\n383\n384\n385\n386\n387\n388\n389\n390\n391\n392\n393\n394\n395\n396\n397\n398\n399\n400\n401\n402\n403\n404\n405\n406\n407\n408\n409\n410\n411\n412\n413\n414\n415\n416\n417\n418\n419\n420\n421\n422\n423\n424\n425\n426\n427\n428\n429\n430\n431\n432\n433\n434\n435\n436\n437\n438\n439\n440\n441\n442\n443\n444\n445\n446\n447\n448\n449\n450\n451\n452\n453\n454\n455\n456\n457\n458\n459\n460\n461\n462\n463\n464\n465\n466\n467\n468\n469\n470\n471\n472\n473\n474\n475\n476\n477\n478\n479\n480\n481\n482\n483\n484\n485\n486\n487\n488\n489\n490\n491\n492\n493\n494\n495\n496\n497\n498\n499\n500\n501\n502\n503\n504\n505\n506\n507\n508\n509\n510\n511\n512\n513\n514\n515\n516\n517\n518\n519\n520\n521\n522\n523\n524\n525\n526\n527\n528\n529\n530\n531\n532\n533\n534\n535\n536\n537\n538\n539\n540\n541\n542\n543\n544\n545\n546\n547\n548\n549\n550\n551\n552\n553\n554\n555\n556\n557\n558\n559\n560\n561\n562\n563\n564\n565\n566\n567\n568\n569\n570\n571\n572\n573\n574\n575\n576\n577\n578\n579\n580\n581\n582\n583\n584\n585\n586\n587\n588\n589\n590\n591\n592\n593\n594\n595\n596\n597\n598\n599\n600\n601\n602\n603\n604\n605\n606\n607\n608\n609\n610\n611\n612\n613\n614\n615\n616\n617\n618\n619\n620\n621\n622\n623\n624\n625\n626\n627\n628\n629\n630\n631\n632\n633\n634\n635\n636\n637\n638\n639\n640\n641\n642\n643\n644\n645\n646\n647\n648\n649\n650\n651\n652\n653\n654\n655\n656\n657\n658\n659\n660\n661\n662\n663\n664\n665\n666\n667\n668\n669\n670\n671\n672\n673\n674\n675\n676\n677\n678\n679\n680\n681\n682\n683\n684\n685\n686\n687\n688\n689\n690\n691\n692\n693\n694\n695\n696\n697\n698\n699\n700\n701\n702\n703\n704\n705\n706\n707\n708\n709\n710\n711\n712\n713\n714\n715\n716\n717\n718\n719\n720\n721\n722\n723\n724\n725\n726\n727\n728\n729\n730\n731\n732\n733\n734\n735\n736\n737\n738\n739\n740\n741\n742\n743\n744\n745\n746\n747\n748\n749\n750\n751\n752\n753\n754\n755\n756\n757\n758\n759\n760\n761\n762\n763\n764\n765\n766\n767\n768\n769\n770\n771\n772\n773\n774\n775\n776\n777\n778\n779\n780\n781\n782\n783\n784\n785\n786\n787\n788\n789\n790\n791\n792\n793\n794\n795\n796\n797\n798\n799\n800\n801\n802\n803\n804\n805\n806\n807\n808\n809\n810\n811\n812\n813\n814\n815\n816\n817\n818\n819\n820\n821\n822\n823\n824\n825\n826\n827\n828\n829\n830\n831\n832\n833\n834\n835\n836\n837\n838\n839\n840\n841\n842\n843\n844\n845\n846\n847\n848\n849\n850\n851\n852\n853\n854\n855\n856\n857\n858\n859\n860\n861\n862\n863\n864\n865\n866\n867\n868\n869\n870\n871\n872\n873\n874\n875\n876\n877\n878\n879\n880\n881\n882\n883\n884\n885\n886\n887\n888\n889\n890\n891\n892\n893\n894\n895\n896\n897\n898\n899\n900\n901\n902\n903\n904\n905\n906\n907\n908\n909\n910\n911\n912\n913\n914\n915\nError generating result array unsupported operand type(s) for *: 'NoneType' and 'int'\n916\n917\n918\n919\n920\n921\n922\n923\n924\n925\n926\n927\n928\n929\n930\n931\n932\n933\n934\n935\n936\n937\n938\n939\n940\n941\n942\n943\n944\n945\n946\n947\n948\n949\n950\n951\n952\n953\n954\n955\n956\n957\n958\n959\n960\n961\n962\n963\n964\n965\n966\n967\n968\n969\n970\n971\n972\n973\n974\n975\n976\n977\n978\n979\n980\n981\n982\n983\n984\n985\n986\n987\n988\n989\n990\n991\n992\n993\n994\n995\n996\n997\n998\n999\n1000\n1001\n1002\n1003\n1004\n1005\n1006\n1007\n1008\n1009\n1010\n1011\n1012\n1013\n1014\n1015\n1016\n1017\n1018\n1019\n1020\n1021\n1022\n1023\n1024\n1025\n1026\n1027\n1028\n1029\n1030\n1031\n1032\n1033\n1034\n1035\n1036\n1037\n1038\n1039\n1040\n1041\n1042\n1043\n1044\n1045\n1046\n1047\n1048\n1049\n1050\n1051\n1052\n1053\n1054\n1055\n1056\n1057\n1058\n1059\n1060\n1061\n1062\n1063\n1064\n1065\n1066\n1067\n1068\n1069\n1070\n1071\n1072\n1073\n1074\n1075\n1076\n1077\n1078\n1079\n1080\n1081\n1082\n1083\n1084\n1085\n1086\n1087\n1088\n1089\n1090\n1091\n1092\n1093\n1094\n1095\n1096\n1097\n1098\n1099\n1100\n1101\n1102\n1103\n1104\n1105\n1106\n1107\n1108\n1109\n1110\n1111\n1112\n1113\n1114\n1115\n1116\n1117\n['/media/salim/DD 2To/AHL2011_Validated_DICOMS/13011101241016/2.16.840.1.113669.632.20.540001.10003573868/1.3.12.2.1107.5.1.4.44977.30000013061308171887900051281/1.3.12.2.1107.5.1.4.44977.30000013061308171887900051281', 'CT', '/media/salim/DD 2To/AHL2011_Validated_DICOMS/13011101241016/2.16.840.1.113669.632.20.540001.10003573868/1.3.12.2.1107.5.1.4.44977.30000013061306001919100005658/1.3.12.2.1107.5.1.4.44977.30000013061306001919100005658', 'PT', '2.16.840.1.113669.632.20.540001.10003573868']\n(0020, 0032)\n1118\n1119\n1120\n1121\n1122\n1123\n1124\n1125\n1126\n1127\n1128\n1129\n1130\n1131\n1132\n1133\n1134\n1135\n1136\n1137\n1138\n1139\n1140\n1141\n1142\n1143\n1144\n1145\n1146\n1147\n1148\n1149\n1150\n1151\n1152\n1153\n1154\n1155\n1156\n1157\n1158\n1159\n1160\n1161\n1162\n1163\n1164\n1165\n1166\n1167\n1168\n1169\n1170\n1171\n1172\n1173\n1174\n1175\n1176\n1177\n1178\n1179\n1180\n1181\n1182\n1183\n1184\n1185\n1186\n1187\n1188\n1189\n1190\n1191\n1192\n1193\n1194\n1195\n"
    }
   ],
   "source": [
    "#CHECKER LES UNCONSTANT SPACING\n",
    "unconstant_spacing = []\n",
    "serie_error = []\n",
    "for serie in dataset : \n",
    "    print(dataset.index(serie))\n",
    "    try : \n",
    "        if serie[1] =='PT' : \n",
    "            serie_pt_objet = SeriesPT(serie[0])\n",
    "            nifti_array = serie_pt_objet.get_numpy_array()\n",
    "            if serie_pt_objet.get_z_spacing =='Unconstant Spacing' :\n",
    "                print(\"Unconstant Spacing PET\")\n",
    "                unconstant_spacing.append(serie)\n",
    "            else : \n",
    "                serie_ct_objet = SeriesCT(serie[2])\n",
    "                nifti_array = serie_ct_objet.get_numpy_array()\n",
    "                if serie_ct_objet.get_z_spacing =='Unconstant Spacing' :\n",
    "                    unconstant_spacing.append(serie)\n",
    "\n",
    "        else : \n",
    "            serie_pt_objet = SeriesPT(serie[2])\n",
    "            nifti_array = serie_pt_objet.get_numpy_array()\n",
    "            if serie_pt_objet.get_z_spacing =='Unconstant Spacing' :\n",
    "                print(\"Unconstant Spacing CT\")\n",
    "                unconstant_spacing.append(serie)\n",
    "            else : \n",
    "                serie_ct_objet = SeriesCT(serie[0])\n",
    "                nifti_array = serie_ct_objet.get_numpy_array()\n",
    "                if serie_ct_objet.get_z_spacing =='Unconstant Spacing' :\n",
    "                    unconstant_spacing.append(serie)\n",
    "\n",
    "    except Exception as err : \n",
    "        print(serie)\n",
    "        print(err)\n",
    "        serie_error.append(serie)\n",
    "\n",
    "write_json_file('/media/salim/DD 2To/AHL2011_NIFTI_PET24', 'AHL2011_serie_error', serie_error)\n",
    "write_json_file('/media/salim/DD 2To/AHL2011_NIFTI_PET24', 'AHL2011_unconstant_spacing', unconstant_spacing)"
   ]
  },
  {
   "cell_type": "code",
   "execution_count": 8,
   "metadata": {},
   "outputs": [
    {
     "name": "stdout",
     "output_type": "stream",
     "text": "1196\n1194\n"
    }
   ],
   "source": [
    "print(len(dataset))\n",
    "error_1 = dataset[915]\n",
    "error_2  = dataset[1117]\n",
    "\n",
    "dataset.remove(error_1)\n",
    "dataset.remove(error_2)\n",
    "print(len(dataset))"
   ]
  },
  {
   "cell_type": "code",
   "execution_count": 9,
   "metadata": {},
   "outputs": [
    {
     "name": "stdout",
     "output_type": "stream",
     "text": "EXPORT NIFTI PT\nEXPORT NIFTI CT\n685\nEXPORT NIFTI PT\nEXPORT NIFTI CT\n686\nEXPORT NIFTI PT\nEXPORT NIFTI CT\n687\nEXPORT NIFTI PT\nEXPORT NIFTI CT\n688\nEXPORT NIFTI PT\nEXPORT NIFTI CT\n689\nEXPORT NIFTI PT\nEXPORT NIFTI CT\n690\nEXPORT NIFTI PT\nEXPORT NIFTI CT\n691\nEXPORT NIFTI PT\nEXPORT NIFTI CT\n692\nEXPORT NIFTI PT\nEXPORT NIFTI CT\n693\nEXPORT NIFTI PT\nEXPORT NIFTI CT\n694\nEXPORT NIFTI PT\nEXPORT NIFTI CT\n695\nEXPORT NIFTI PT\nEXPORT NIFTI CT\n696\nEXPORT NIFTI PT\nEXPORT NIFTI CT\n697\nEXPORT NIFTI PT\nEXPORT NIFTI CT\n698\nEXPORT NIFTI PT\nEXPORT NIFTI CT\n699\nEXPORT NIFTI PT\nEXPORT NIFTI CT\n700\nEXPORT NIFTI PT\nEXPORT NIFTI CT\n701\nEXPORT NIFTI PT\nEXPORT NIFTI CT\n702\nEXPORT NIFTI PT\nEXPORT NIFTI CT\n703\nEXPORT NIFTI PT\nEXPORT NIFTI CT\n704\nEXPORT NIFTI PT\nEXPORT NIFTI CT\n705\nEXPORT NIFTI PT\nEXPORT NIFTI CT\n706\nEXPORT NIFTI PT\nEXPORT NIFTI CT\n707\nEXPORT NIFTI PT\nEXPORT NIFTI CT\n708\nEXPORT NIFTI PT\nEXPORT NIFTI CT\n709\nEXPORT NIFTI PT\nEXPORT NIFTI CT\n710\nEXPORT NIFTI PT\nEXPORT NIFTI CT\n711\nEXPORT NIFTI PT\nEXPORT NIFTI CT\n712\nEXPORT NIFTI PT\nEXPORT NIFTI CT\n713\nEXPORT NIFTI PT\nEXPORT NIFTI CT\n714\nEXPORT NIFTI PT\nEXPORT NIFTI CT\n715\nEXPORT NIFTI PT\nEXPORT NIFTI CT\n716\nEXPORT NIFTI PT\nEXPORT NIFTI CT\n717\nEXPORT NIFTI PT\nEXPORT NIFTI CT\n718\nEXPORT NIFTI PT\nEXPORT NIFTI CT\n719\nEXPORT NIFTI PT\nEXPORT NIFTI CT\n720\nEXPORT NIFTI PT\nEXPORT NIFTI CT\n721\nEXPORT NIFTI PT\nEXPORT NIFTI CT\n722\nEXPORT NIFTI PT\nEXPORT NIFTI CT\n723\nEXPORT NIFTI PT\nEXPORT NIFTI CT\n724\nEXPORT NIFTI PT\nEXPORT NIFTI CT\n725\nEXPORT NIFTI PT\nEXPORT NIFTI CT\n726\nEXPORT NIFTI PT\nEXPORT NIFTI CT\n727\nEXPORT NIFTI PT\nEXPORT NIFTI CT\n728\nEXPORT NIFTI PT\nEXPORT NIFTI CT\n729\nEXPORT NIFTI PT\nEXPORT NIFTI CT\n730\nEXPORT NIFTI PT\nEXPORT NIFTI CT\n731\nEXPORT NIFTI PT\nEXPORT NIFTI CT\n732\nEXPORT NIFTI PT\nEXPORT NIFTI CT\n733\nEXPORT NIFTI PT\nEXPORT NIFTI CT\n734\nEXPORT NIFTI PT\nEXPORT NIFTI CT\n735\nEXPORT NIFTI PT\nEXPORT NIFTI CT\n736\nEXPORT NIFTI PT\nEXPORT NIFTI CT\n737\nEXPORT NIFTI PT\nEXPORT NIFTI CT\n738\nEXPORT NIFTI PT\nEXPORT NIFTI CT\n739\nEXPORT NIFTI PT\nEXPORT NIFTI CT\n740\nEXPORT NIFTI PT\nEXPORT NIFTI CT\n741\nEXPORT NIFTI PT\nEXPORT NIFTI CT\n742\nEXPORT NIFTI PT\nEXPORT NIFTI CT\n743\nEXPORT NIFTI PT\nEXPORT NIFTI CT\n744\nEXPORT NIFTI PT\nEXPORT NIFTI CT\n745\nEXPORT NIFTI PT\nEXPORT NIFTI CT\n746\nEXPORT NIFTI PT\nEXPORT NIFTI CT\n747\nEXPORT NIFTI PT\nEXPORT NIFTI CT\n748\nEXPORT NIFTI PT\nEXPORT NIFTI CT\n749\nEXPORT NIFTI PT\nEXPORT NIFTI CT\n750\nEXPORT NIFTI PT\nEXPORT NIFTI CT\n751\nEXPORT NIFTI PT\nEXPORT NIFTI CT\n752\nEXPORT NIFTI PT\nEXPORT NIFTI CT\n753\nEXPORT NIFTI PT\nEXPORT NIFTI CT\n754\nEXPORT NIFTI PT\nEXPORT NIFTI CT\n755\nEXPORT NIFTI PT\nEXPORT NIFTI CT\n756\nEXPORT NIFTI PT\nEXPORT NIFTI CT\n757\nEXPORT NIFTI PT\nEXPORT NIFTI CT\n758\nEXPORT NIFTI PT\nEXPORT NIFTI CT\n759\nEXPORT NIFTI PT\nEXPORT NIFTI CT\n760\nEXPORT NIFTI PT\nEXPORT NIFTI CT\n761\nEXPORT NIFTI PT\nEXPORT NIFTI CT\n762\nEXPORT NIFTI PT\nEXPORT NIFTI CT\n763\nEXPORT NIFTI PT\nEXPORT NIFTI CT\n764\nEXPORT NIFTI PT\nEXPORT NIFTI CT\n765\nEXPORT NIFTI PT\nEXPORT NIFTI CT\n766\nEXPORT NIFTI PT\nEXPORT NIFTI CT\n767\nEXPORT NIFTI PT\nEXPORT NIFTI CT\n768\nEXPORT NIFTI PT\nEXPORT NIFTI CT\n769\nEXPORT NIFTI PT\nEXPORT NIFTI CT\n770\nEXPORT NIFTI PT\nEXPORT NIFTI CT\n771\nEXPORT NIFTI PT\nEXPORT NIFTI CT\n772\nEXPORT NIFTI PT\nEXPORT NIFTI CT\n773\nEXPORT NIFTI PT\nEXPORT NIFTI CT\n774\nEXPORT NIFTI PT\nEXPORT NIFTI CT\n775\nEXPORT NIFTI PT\nEXPORT NIFTI CT\n776\nEXPORT NIFTI PT\nEXPORT NIFTI CT\n777\nEXPORT NIFTI PT\nEXPORT NIFTI CT\n778\nEXPORT NIFTI PT\nEXPORT NIFTI CT\n779\nEXPORT NIFTI PT\nEXPORT NIFTI CT\n780\nEXPORT NIFTI PT\nEXPORT NIFTI CT\n781\nEXPORT NIFTI PT\nEXPORT NIFTI CT\n782\nEXPORT NIFTI PT\nEXPORT NIFTI CT\n783\nEXPORT NIFTI PT\nEXPORT NIFTI CT\n784\nEXPORT NIFTI PT\nEXPORT NIFTI CT\n785\nEXPORT NIFTI PT\nEXPORT NIFTI CT\n786\nEXPORT NIFTI PT\nEXPORT NIFTI CT\n787\nEXPORT NIFTI PT\nEXPORT NIFTI CT\n788\nEXPORT NIFTI PT\nEXPORT NIFTI CT\n789\nEXPORT NIFTI PT\nEXPORT NIFTI CT\n790\nEXPORT NIFTI PT\nEXPORT NIFTI CT\n791\nEXPORT NIFTI PT\nEXPORT NIFTI CT\n792\nEXPORT NIFTI PT\nEXPORT NIFTI CT\n793\nEXPORT NIFTI PT\nEXPORT NIFTI CT\n794\nEXPORT NIFTI PT\nEXPORT NIFTI CT\n795\nEXPORT NIFTI PT\nEXPORT NIFTI CT\n796\nEXPORT NIFTI PT\nEXPORT NIFTI CT\n797\nEXPORT NIFTI PT\nEXPORT NIFTI CT\n798\nEXPORT NIFTI PT\nEXPORT NIFTI CT\n799\nEXPORT NIFTI PT\nEXPORT NIFTI CT\n800\nEXPORT NIFTI PT\nEXPORT NIFTI CT\n801\nEXPORT NIFTI PT\nEXPORT NIFTI CT\n802\nEXPORT NIFTI PT\nEXPORT NIFTI CT\n803\nEXPORT NIFTI PT\nEXPORT NIFTI CT\n804\nEXPORT NIFTI PT\nEXPORT NIFTI CT\n805\nEXPORT NIFTI PT\nEXPORT NIFTI CT\n806\nEXPORT NIFTI PT\nEXPORT NIFTI CT\n807\nEXPORT NIFTI PT\nEXPORT NIFTI CT\n808\nEXPORT NIFTI PT\nEXPORT NIFTI CT\n809\nEXPORT NIFTI PT\nEXPORT NIFTI CT\n810\nEXPORT NIFTI PT\nEXPORT NIFTI CT\n811\nEXPORT NIFTI PT\nEXPORT NIFTI CT\n812\nEXPORT NIFTI PT\nEXPORT NIFTI CT\n813\nEXPORT NIFTI PT\nEXPORT NIFTI CT\n814\nEXPORT NIFTI PT\nEXPORT NIFTI CT\n815\nEXPORT NIFTI PT\nEXPORT NIFTI CT\n816\nEXPORT NIFTI PT\nEXPORT NIFTI CT\n817\nEXPORT NIFTI PT\nEXPORT NIFTI CT\n818\nEXPORT NIFTI PT\nEXPORT NIFTI CT\n819\nEXPORT NIFTI PT\nEXPORT NIFTI CT\n820\nEXPORT NIFTI PT\nEXPORT NIFTI CT\n821\nEXPORT NIFTI PT\nEXPORT NIFTI CT\n822\nEXPORT NIFTI PT\nEXPORT NIFTI CT\n823\nEXPORT NIFTI PT\nEXPORT NIFTI CT\n824\nEXPORT NIFTI PT\nEXPORT NIFTI CT\n825\nEXPORT NIFTI PT\nEXPORT NIFTI CT\n826\nEXPORT NIFTI PT\nEXPORT NIFTI CT\n827\nEXPORT NIFTI PT\nEXPORT NIFTI CT\n828\nEXPORT NIFTI PT\nEXPORT NIFTI CT\n829\nEXPORT NIFTI PT\nEXPORT NIFTI CT\n830\nEXPORT NIFTI PT\nEXPORT NIFTI CT\n831\nEXPORT NIFTI PT\nEXPORT NIFTI CT\n832\nEXPORT NIFTI PT\nEXPORT NIFTI CT\n833\nEXPORT NIFTI PT\nEXPORT NIFTI CT\n834\nEXPORT NIFTI PT\nEXPORT NIFTI CT\n835\nEXPORT NIFTI PT\nEXPORT NIFTI CT\n836\nEXPORT NIFTI PT\nEXPORT NIFTI CT\n837\nEXPORT NIFTI PT\nEXPORT NIFTI CT\n838\nEXPORT NIFTI PT\nEXPORT NIFTI CT\n839\nEXPORT NIFTI PT\nEXPORT NIFTI CT\n840\nEXPORT NIFTI PT\nEXPORT NIFTI CT\n841\nEXPORT NIFTI PT\nEXPORT NIFTI CT\n842\nEXPORT NIFTI PT\nEXPORT NIFTI CT\n843\nEXPORT NIFTI PT\nEXPORT NIFTI CT\n844\nEXPORT NIFTI PT\nEXPORT NIFTI CT\n845\nEXPORT NIFTI PT\nEXPORT NIFTI CT\n846\nEXPORT NIFTI PT\nEXPORT NIFTI CT\n847\nEXPORT NIFTI PT\nEXPORT NIFTI CT\n848\nEXPORT NIFTI PT\nEXPORT NIFTI CT\n849\nEXPORT NIFTI PT\nEXPORT NIFTI CT\n850\nEXPORT NIFTI PT\nEXPORT NIFTI CT\n851\nEXPORT NIFTI PT\nEXPORT NIFTI CT\n852\nEXPORT NIFTI PT\nEXPORT NIFTI CT\n853\nEXPORT NIFTI PT\nEXPORT NIFTI CT\n854\nEXPORT NIFTI PT\nEXPORT NIFTI CT\n855\nEXPORT NIFTI PT\nEXPORT NIFTI CT\n856\nEXPORT NIFTI PT\nEXPORT NIFTI CT\n857\nEXPORT NIFTI PT\nEXPORT NIFTI CT\n858\nEXPORT NIFTI PT\nEXPORT NIFTI CT\n859\nEXPORT NIFTI PT\nEXPORT NIFTI CT\n860\nEXPORT NIFTI PT\nEXPORT NIFTI CT\n861\nEXPORT NIFTI PT\nEXPORT NIFTI CT\n862\nEXPORT NIFTI PT\nEXPORT NIFTI CT\n863\nEXPORT NIFTI PT\nEXPORT NIFTI CT\n864\nEXPORT NIFTI PT\nEXPORT NIFTI CT\n865\nEXPORT NIFTI PT\nEXPORT NIFTI CT\n866\nEXPORT NIFTI PT\nEXPORT NIFTI CT\n867\nEXPORT NIFTI PT\nEXPORT NIFTI CT\n868\nEXPORT NIFTI PT\nEXPORT NIFTI CT\n869\nEXPORT NIFTI PT\nEXPORT NIFTI CT\n870\nEXPORT NIFTI PT\nEXPORT NIFTI CT\n871\nEXPORT NIFTI PT\nEXPORT NIFTI CT\n872\nEXPORT NIFTI PT\nEXPORT NIFTI CT\n873\nEXPORT NIFTI PT\nEXPORT NIFTI CT\n874\nEXPORT NIFTI PT\nEXPORT NIFTI CT\n875\nEXPORT NIFTI PT\nEXPORT NIFTI CT\n876\nEXPORT NIFTI PT\nEXPORT NIFTI CT\n877\nEXPORT NIFTI PT\nEXPORT NIFTI CT\n878\nEXPORT NIFTI PT\nEXPORT NIFTI CT\n879\nEXPORT NIFTI PT\nEXPORT NIFTI CT\n880\nEXPORT NIFTI PT\nEXPORT NIFTI CT\n881\nEXPORT NIFTI PT\nEXPORT NIFTI CT\n882\nEXPORT NIFTI PT\nEXPORT NIFTI CT\n883\nEXPORT NIFTI PT\nEXPORT NIFTI CT\n884\nEXPORT NIFTI PT\nEXPORT NIFTI CT\n885\nEXPORT NIFTI PT\nEXPORT NIFTI CT\n886\nEXPORT NIFTI PT\nEXPORT NIFTI CT\n887\nEXPORT NIFTI PT\nEXPORT NIFTI CT\n888\nEXPORT NIFTI PT\nEXPORT NIFTI CT\n889\nEXPORT NIFTI PT\nEXPORT NIFTI CT\n890\nEXPORT NIFTI PT\nEXPORT NIFTI CT\n891\nEXPORT NIFTI PT\nEXPORT NIFTI CT\n892\nEXPORT NIFTI PT\nEXPORT NIFTI CT\n893\nEXPORT NIFTI PT\nEXPORT NIFTI CT\n894\nEXPORT NIFTI PT\nEXPORT NIFTI CT\n895\nEXPORT NIFTI PT\nEXPORT NIFTI CT\n896\nEXPORT NIFTI PT\nEXPORT NIFTI CT\n897\nEXPORT NIFTI PT\nEXPORT NIFTI CT\n898\nEXPORT NIFTI PT\nEXPORT NIFTI CT\n899\nEXPORT NIFTI PT\nEXPORT NIFTI CT\n900\nEXPORT NIFTI PT\nEXPORT NIFTI CT\n901\nEXPORT NIFTI PT\nEXPORT NIFTI CT\n902\nEXPORT NIFTI PT\nEXPORT NIFTI CT\n903\nEXPORT NIFTI PT\nEXPORT NIFTI CT\n904\nEXPORT NIFTI PT\nEXPORT NIFTI CT\n905\nEXPORT NIFTI PT\nEXPORT NIFTI CT\n906\nEXPORT NIFTI PT\nEXPORT NIFTI CT\n907\nEXPORT NIFTI PT\nEXPORT NIFTI CT\n908\nEXPORT NIFTI PT\nEXPORT NIFTI CT\n909\nEXPORT NIFTI PT\nEXPORT NIFTI CT\n910\nEXPORT NIFTI PT\nEXPORT NIFTI CT\n911\nEXPORT NIFTI PT\nEXPORT NIFTI CT\n912\nEXPORT NIFTI PT\nEXPORT NIFTI CT\n913\nEXPORT NIFTI PT\nEXPORT NIFTI CT\n914\nEXPORT NIFTI PT\nEXPORT NIFTI CT\n915\nEXPORT NIFTI PT\nEXPORT NIFTI CT\n916\nEXPORT NIFTI PT\nEXPORT NIFTI CT\n917\nEXPORT NIFTI PT\nEXPORT NIFTI CT\n918\nEXPORT NIFTI PT\nEXPORT NIFTI CT\n919\nEXPORT NIFTI PT\nEXPORT NIFTI CT\n920\nEXPORT NIFTI PT\nEXPORT NIFTI CT\n921\nEXPORT NIFTI PT\nEXPORT NIFTI CT\n922\nEXPORT NIFTI PT\nEXPORT NIFTI CT\n923\nEXPORT NIFTI PT\nEXPORT NIFTI CT\n924\nEXPORT NIFTI PT\nEXPORT NIFTI CT\n925\nEXPORT NIFTI PT\nEXPORT NIFTI CT\n926\nEXPORT NIFTI PT\nEXPORT NIFTI CT\n927\nEXPORT NIFTI PT\nEXPORT NIFTI CT\n928\nEXPORT NIFTI PT\nEXPORT NIFTI CT\n929\nEXPORT NIFTI PT\nEXPORT NIFTI CT\n930\nEXPORT NIFTI PT\nEXPORT NIFTI CT\n931\nEXPORT NIFTI PT\nEXPORT NIFTI CT\n932\nEXPORT NIFTI PT\nEXPORT NIFTI CT\n933\nEXPORT NIFTI PT\nEXPORT NIFTI CT\n934\nEXPORT NIFTI PT\nEXPORT NIFTI CT\n935\nEXPORT NIFTI PT\nEXPORT NIFTI CT\n936\nEXPORT NIFTI PT\nEXPORT NIFTI CT\n937\nEXPORT NIFTI PT\nEXPORT NIFTI CT\n938\nEXPORT NIFTI PT\nEXPORT NIFTI CT\n939\nEXPORT NIFTI PT\nEXPORT NIFTI CT\n940\nEXPORT NIFTI PT\nEXPORT NIFTI CT\n941\nEXPORT NIFTI PT\nEXPORT NIFTI CT\n942\nEXPORT NIFTI PT\nEXPORT NIFTI CT\n943\nEXPORT NIFTI PT\nEXPORT NIFTI CT\n944\nEXPORT NIFTI PT\nEXPORT NIFTI CT\n945\nEXPORT NIFTI PT\nEXPORT NIFTI CT\n946\nEXPORT NIFTI PT\nEXPORT NIFTI CT\n947\nEXPORT NIFTI PT\nEXPORT NIFTI CT\n948\nEXPORT NIFTI PT\nEXPORT NIFTI CT\n949\nEXPORT NIFTI PT\nEXPORT NIFTI CT\n950\nEXPORT NIFTI PT\nEXPORT NIFTI CT\n951\nEXPORT NIFTI PT\nEXPORT NIFTI CT\n952\nEXPORT NIFTI PT\nEXPORT NIFTI CT\n953\nEXPORT NIFTI PT\nEXPORT NIFTI CT\n954\nEXPORT NIFTI PT\nEXPORT NIFTI CT\n955\nEXPORT NIFTI PT\nEXPORT NIFTI CT\n956\nEXPORT NIFTI PT\nEXPORT NIFTI CT\n957\nEXPORT NIFTI PT\nEXPORT NIFTI CT\n958\nEXPORT NIFTI PT\nEXPORT NIFTI CT\n959\nEXPORT NIFTI PT\nEXPORT NIFTI CT\n960\nEXPORT NIFTI PT\nEXPORT NIFTI CT\n961\nEXPORT NIFTI PT\nEXPORT NIFTI CT\n962\nEXPORT NIFTI PT\nEXPORT NIFTI CT\n963\nEXPORT NIFTI PT\nEXPORT NIFTI CT\n964\nEXPORT NIFTI PT\nEXPORT NIFTI CT\n965\nEXPORT NIFTI PT\nEXPORT NIFTI CT\n966\nEXPORT NIFTI PT\nEXPORT NIFTI CT\n967\nEXPORT NIFTI PT\nEXPORT NIFTI CT\n968\nEXPORT NIFTI PT\nEXPORT NIFTI CT\n969\nEXPORT NIFTI PT\nEXPORT NIFTI CT\n970\nEXPORT NIFTI PT\nEXPORT NIFTI CT\n971\nEXPORT NIFTI PT\nEXPORT NIFTI CT\n972\nEXPORT NIFTI PT\nEXPORT NIFTI CT\n973\nEXPORT NIFTI PT\nEXPORT NIFTI CT\n974\nEXPORT NIFTI PT\nEXPORT NIFTI CT\n975\nEXPORT NIFTI PT\nEXPORT NIFTI CT\n976\nEXPORT NIFTI PT\nEXPORT NIFTI CT\n977\nEXPORT NIFTI PT\nEXPORT NIFTI CT\n978\nEXPORT NIFTI PT\nEXPORT NIFTI CT\n979\nEXPORT NIFTI PT\nEXPORT NIFTI CT\n980\nEXPORT NIFTI PT\nEXPORT NIFTI CT\n981\nEXPORT NIFTI PT\nEXPORT NIFTI CT\n982\nEXPORT NIFTI PT\nEXPORT NIFTI CT\n983\nEXPORT NIFTI PT\nEXPORT NIFTI CT\n984\nEXPORT NIFTI PT\nEXPORT NIFTI CT\n985\nEXPORT NIFTI PT\nEXPORT NIFTI CT\n986\nEXPORT NIFTI PT\nEXPORT NIFTI CT\n987\nEXPORT NIFTI PT\nEXPORT NIFTI CT\n988\nEXPORT NIFTI PT\nEXPORT NIFTI CT\n989\nEXPORT NIFTI PT\nEXPORT NIFTI CT\n990\nEXPORT NIFTI PT\nEXPORT NIFTI CT\n991\nEXPORT NIFTI PT\nEXPORT NIFTI CT\n992\nEXPORT NIFTI PT\nEXPORT NIFTI CT\n993\nEXPORT NIFTI PT\nEXPORT NIFTI CT\n994\nEXPORT NIFTI PT\nEXPORT NIFTI CT\n995\nEXPORT NIFTI PT\nEXPORT NIFTI CT\n996\nEXPORT NIFTI PT\nEXPORT NIFTI CT\n997\nEXPORT NIFTI PT\nEXPORT NIFTI CT\n998\nEXPORT NIFTI PT\nEXPORT NIFTI CT\n999\nEXPORT NIFTI PT\nEXPORT NIFTI CT\n1000\nEXPORT NIFTI PT\nEXPORT NIFTI CT\n1001\nEXPORT NIFTI PT\nEXPORT NIFTI CT\n1002\nEXPORT NIFTI PT\nEXPORT NIFTI CT\n1003\nEXPORT NIFTI PT\nEXPORT NIFTI CT\n1004\nEXPORT NIFTI PT\nEXPORT NIFTI CT\n1005\nEXPORT NIFTI PT\nEXPORT NIFTI CT\n1006\nEXPORT NIFTI PT\nEXPORT NIFTI CT\n1007\nEXPORT NIFTI PT\nEXPORT NIFTI CT\n1008\nEXPORT NIFTI PT\nEXPORT NIFTI CT\n1009\nEXPORT NIFTI PT\nEXPORT NIFTI CT\n1010\nEXPORT NIFTI PT\nEXPORT NIFTI CT\n1011\nEXPORT NIFTI PT\nEXPORT NIFTI CT\n1012\nEXPORT NIFTI PT\nEXPORT NIFTI CT\n1013\nEXPORT NIFTI PT\nEXPORT NIFTI CT\n1014\nEXPORT NIFTI PT\nEXPORT NIFTI CT\n1015\nEXPORT NIFTI PT\nEXPORT NIFTI CT\n1016\nEXPORT NIFTI PT\nEXPORT NIFTI CT\n1017\nEXPORT NIFTI PT\nEXPORT NIFTI CT\n1018\nEXPORT NIFTI PT\nEXPORT NIFTI CT\n1019\nEXPORT NIFTI PT\nEXPORT NIFTI CT\n1020\nEXPORT NIFTI PT\nEXPORT NIFTI CT\n1021\nEXPORT NIFTI PT\nEXPORT NIFTI CT\n1022\nEXPORT NIFTI PT\nEXPORT NIFTI CT\n1023\nEXPORT NIFTI PT\nEXPORT NIFTI CT\n1024\nEXPORT NIFTI PT\nEXPORT NIFTI CT\n1025\nEXPORT NIFTI PT\nEXPORT NIFTI CT\n1026\nEXPORT NIFTI PT\nEXPORT NIFTI CT\n1027\nEXPORT NIFTI PT\nEXPORT NIFTI CT\n1028\nEXPORT NIFTI PT\nEXPORT NIFTI CT\n1029\nEXPORT NIFTI PT\nEXPORT NIFTI CT\n1030\nEXPORT NIFTI PT\nEXPORT NIFTI CT\n1031\nEXPORT NIFTI PT\nEXPORT NIFTI CT\n1032\nEXPORT NIFTI PT\nEXPORT NIFTI CT\n1033\nEXPORT NIFTI PT\nEXPORT NIFTI CT\n1034\nEXPORT NIFTI PT\nEXPORT NIFTI CT\n1035\nEXPORT NIFTI PT\nEXPORT NIFTI CT\n1036\nEXPORT NIFTI PT\nEXPORT NIFTI CT\n1037\nEXPORT NIFTI PT\nEXPORT NIFTI CT\n1038\nEXPORT NIFTI PT\nEXPORT NIFTI CT\n1039\nEXPORT NIFTI PT\nEXPORT NIFTI CT\n1040\nEXPORT NIFTI PT\nEXPORT NIFTI CT\n1041\nEXPORT NIFTI PT\nEXPORT NIFTI CT\n1042\nEXPORT NIFTI PT\nEXPORT NIFTI CT\n1043\nEXPORT NIFTI PT\nEXPORT NIFTI CT\n1044\nEXPORT NIFTI PT\nEXPORT NIFTI CT\n1045\nEXPORT NIFTI PT\nEXPORT NIFTI CT\n1046\nEXPORT NIFTI PT\nEXPORT NIFTI CT\n1047\nEXPORT NIFTI PT\nEXPORT NIFTI CT\n1048\nEXPORT NIFTI PT\nEXPORT NIFTI CT\n1049\nEXPORT NIFTI PT\nEXPORT NIFTI CT\n1050\nEXPORT NIFTI PT\nEXPORT NIFTI CT\n1051\nEXPORT NIFTI PT\nEXPORT NIFTI CT\n1052\nEXPORT NIFTI PT\nEXPORT NIFTI CT\n1053\nEXPORT NIFTI PT\nEXPORT NIFTI CT\n1054\nEXPORT NIFTI PT\nEXPORT NIFTI CT\n1055\nEXPORT NIFTI PT\nEXPORT NIFTI CT\n1056\nEXPORT NIFTI PT\nEXPORT NIFTI CT\n1057\nEXPORT NIFTI PT\nEXPORT NIFTI CT\n1058\nEXPORT NIFTI PT\nEXPORT NIFTI CT\n1059\nEXPORT NIFTI PT\nEXPORT NIFTI CT\n1060\nEXPORT NIFTI PT\nEXPORT NIFTI CT\n1061\nEXPORT NIFTI PT\nEXPORT NIFTI CT\n1062\nEXPORT NIFTI PT\nEXPORT NIFTI CT\n1063\nEXPORT NIFTI PT\nEXPORT NIFTI CT\n1064\nEXPORT NIFTI PT\nEXPORT NIFTI CT\n1065\nEXPORT NIFTI PT\nEXPORT NIFTI CT\n1066\nEXPORT NIFTI PT\nEXPORT NIFTI CT\n1067\nEXPORT NIFTI PT\nEXPORT NIFTI CT\n1068\nEXPORT NIFTI PT\nEXPORT NIFTI CT\n1069\nEXPORT NIFTI PT\nEXPORT NIFTI CT\n1070\nEXPORT NIFTI PT\nEXPORT NIFTI CT\n1071\nEXPORT NIFTI PT\nEXPORT NIFTI CT\n1072\nEXPORT NIFTI PT\nEXPORT NIFTI CT\n1073\nEXPORT NIFTI PT\nEXPORT NIFTI CT\n1074\nEXPORT NIFTI PT\nEXPORT NIFTI CT\n1075\nEXPORT NIFTI PT\nEXPORT NIFTI CT\n1076\nEXPORT NIFTI PT\nEXPORT NIFTI CT\n1077\nEXPORT NIFTI PT\nEXPORT NIFTI CT\n1078\nEXPORT NIFTI PT\nEXPORT NIFTI CT\n1079\nEXPORT NIFTI PT\nEXPORT NIFTI CT\n1080\nEXPORT NIFTI PT\nEXPORT NIFTI CT\n1081\nEXPORT NIFTI PT\nEXPORT NIFTI CT\n1082\nEXPORT NIFTI PT\nEXPORT NIFTI CT\n1083\nEXPORT NIFTI PT\nEXPORT NIFTI CT\n1084\nEXPORT NIFTI PT\nEXPORT NIFTI CT\n1085\nEXPORT NIFTI PT\nEXPORT NIFTI CT\n1086\nEXPORT NIFTI PT\nEXPORT NIFTI CT\n1087\nEXPORT NIFTI PT\nEXPORT NIFTI CT\n1088\nEXPORT NIFTI PT\nEXPORT NIFTI CT\n1089\nEXPORT NIFTI PT\nEXPORT NIFTI CT\n1090\nEXPORT NIFTI PT\nEXPORT NIFTI CT\n1091\nEXPORT NIFTI PT\nEXPORT NIFTI CT\n1092\nEXPORT NIFTI PT\nEXPORT NIFTI CT\n1093\nEXPORT NIFTI PT\nEXPORT NIFTI CT\n1094\nEXPORT NIFTI PT\nEXPORT NIFTI CT\n1095\nEXPORT NIFTI PT\nEXPORT NIFTI CT\n1096\nEXPORT NIFTI PT\nEXPORT NIFTI CT\n1097\nEXPORT NIFTI PT\nEXPORT NIFTI CT\n1098\nEXPORT NIFTI PT\nEXPORT NIFTI CT\n1099\nEXPORT NIFTI PT\nEXPORT NIFTI CT\n1100\nEXPORT NIFTI PT\nEXPORT NIFTI CT\n1101\nEXPORT NIFTI PT\nEXPORT NIFTI CT\n1102\nEXPORT NIFTI PT\nEXPORT NIFTI CT\n1103\nEXPORT NIFTI PT\nEXPORT NIFTI CT\n1104\nEXPORT NIFTI PT\nEXPORT NIFTI CT\n1105\nEXPORT NIFTI PT\nEXPORT NIFTI CT\n1106\nEXPORT NIFTI PT\nEXPORT NIFTI CT\n1107\nEXPORT NIFTI PT\nEXPORT NIFTI CT\n1108\nEXPORT NIFTI PT\nEXPORT NIFTI CT\n1109\nEXPORT NIFTI PT\nEXPORT NIFTI CT\n1110\nEXPORT NIFTI PT\nEXPORT NIFTI CT\n1111\nEXPORT NIFTI PT\nEXPORT NIFTI CT\n1112\nEXPORT NIFTI PT\nEXPORT NIFTI CT\n1113\nEXPORT NIFTI PT\nEXPORT NIFTI CT\n1114\nEXPORT NIFTI PT\nEXPORT NIFTI CT\n1115\nEXPORT NIFTI PT\nEXPORT NIFTI CT\n1116\nEXPORT NIFTI PT\nEXPORT NIFTI CT\n1117\nEXPORT NIFTI PT\nEXPORT NIFTI CT\n1118\nEXPORT NIFTI PT\nEXPORT NIFTI CT\n1119\nEXPORT NIFTI PT\nEXPORT NIFTI CT\n1120\nEXPORT NIFTI PT\nEXPORT NIFTI CT\n1121\nEXPORT NIFTI PT\nEXPORT NIFTI CT\n1122\nEXPORT NIFTI PT\nEXPORT NIFTI CT\n1123\nEXPORT NIFTI PT\nEXPORT NIFTI CT\n1124\nEXPORT NIFTI PT\nEXPORT NIFTI CT\n1125\nEXPORT NIFTI PT\nEXPORT NIFTI CT\n1126\nEXPORT NIFTI PT\nEXPORT NIFTI CT\n1127\nEXPORT NIFTI PT\nEXPORT NIFTI CT\n1128\nEXPORT NIFTI PT\nEXPORT NIFTI CT\n1129\nEXPORT NIFTI PT\nEXPORT NIFTI CT\n1130\nEXPORT NIFTI PT\nEXPORT NIFTI CT\n1131\nEXPORT NIFTI PT\nEXPORT NIFTI CT\n1132\nEXPORT NIFTI PT\nEXPORT NIFTI CT\n1133\nEXPORT NIFTI PT\nEXPORT NIFTI CT\n1134\nEXPORT NIFTI PT\nEXPORT NIFTI CT\n1135\nEXPORT NIFTI PT\nEXPORT NIFTI CT\n1136\nEXPORT NIFTI PT\nEXPORT NIFTI CT\n1137\nEXPORT NIFTI PT\nEXPORT NIFTI CT\n1138\nEXPORT NIFTI PT\nEXPORT NIFTI CT\n1139\nEXPORT NIFTI PT\nEXPORT NIFTI CT\n1140\nEXPORT NIFTI PT\nEXPORT NIFTI CT\n1141\nEXPORT NIFTI PT\nEXPORT NIFTI CT\n1142\nEXPORT NIFTI PT\nEXPORT NIFTI CT\n1143\nEXPORT NIFTI PT\nEXPORT NIFTI CT\n1144\nEXPORT NIFTI PT\nEXPORT NIFTI CT\n1145\nEXPORT NIFTI PT\nEXPORT NIFTI CT\n1146\nEXPORT NIFTI PT\nEXPORT NIFTI CT\n1147\nEXPORT NIFTI PT\nEXPORT NIFTI CT\n1148\nEXPORT NIFTI PT\nEXPORT NIFTI CT\n1149\nEXPORT NIFTI PT\nEXPORT NIFTI CT\n1150\nEXPORT NIFTI PT\nEXPORT NIFTI CT\n1151\nEXPORT NIFTI PT\nEXPORT NIFTI CT\n1152\nEXPORT NIFTI PT\nEXPORT NIFTI CT\n1153\nEXPORT NIFTI PT\nEXPORT NIFTI CT\n1154\nEXPORT NIFTI PT\nEXPORT NIFTI CT\n1155\nEXPORT NIFTI PT\nEXPORT NIFTI CT\n1156\nEXPORT NIFTI PT\nEXPORT NIFTI CT\n1157\nEXPORT NIFTI PT\nEXPORT NIFTI CT\n1158\nEXPORT NIFTI PT\nEXPORT NIFTI CT\n1159\nEXPORT NIFTI PT\nEXPORT NIFTI CT\n1160\nEXPORT NIFTI PT\nEXPORT NIFTI CT\n1161\nEXPORT NIFTI PT\nEXPORT NIFTI CT\n1162\nEXPORT NIFTI PT\nEXPORT NIFTI CT\n1163\nEXPORT NIFTI PT\nEXPORT NIFTI CT\n1164\nEXPORT NIFTI PT\nEXPORT NIFTI CT\n1165\nEXPORT NIFTI PT\nEXPORT NIFTI CT\n1166\nEXPORT NIFTI PT\nEXPORT NIFTI CT\n1167\nEXPORT NIFTI PT\nEXPORT NIFTI CT\n1168\nEXPORT NIFTI PT\nEXPORT NIFTI CT\n1169\nEXPORT NIFTI PT\nEXPORT NIFTI CT\n1170\nEXPORT NIFTI PT\nEXPORT NIFTI CT\n1171\nEXPORT NIFTI PT\nEXPORT NIFTI CT\n1172\nEXPORT NIFTI PT\nEXPORT NIFTI CT\n1173\nEXPORT NIFTI PT\nEXPORT NIFTI CT\n1174\nEXPORT NIFTI PT\nEXPORT NIFTI CT\n1175\nEXPORT NIFTI PT\nEXPORT NIFTI CT\n1176\nEXPORT NIFTI PT\nEXPORT NIFTI CT\n1177\nEXPORT NIFTI PT\nEXPORT NIFTI CT\n1178\nEXPORT NIFTI PT\nEXPORT NIFTI CT\n1179\nEXPORT NIFTI PT\nEXPORT NIFTI CT\n1180\nEXPORT NIFTI PT\nEXPORT NIFTI CT\n1181\nEXPORT NIFTI PT\nEXPORT NIFTI CT\n1182\nEXPORT NIFTI PT\nEXPORT NIFTI CT\n1183\nEXPORT NIFTI PT\nEXPORT NIFTI CT\n1184\nEXPORT NIFTI PT\nEXPORT NIFTI CT\n1185\nEXPORT NIFTI PT\nEXPORT NIFTI CT\n1186\nEXPORT NIFTI PT\nEXPORT NIFTI CT\n1187\nEXPORT NIFTI PT\nEXPORT NIFTI CT\n1188\nEXPORT NIFTI PT\nEXPORT NIFTI CT\n1189\nEXPORT NIFTI PT\nEXPORT NIFTI CT\n1190\nEXPORT NIFTI PT\n['/media/salim/DD 2To/AHL2011_Validated_DICOMS/13011101051024/7.2001141057128401136192182101748215217877138995076849410/1.3.46.670589.28.2.12.21.6074.1601.2.2656.0.1389958718/1.3.46.670589.28.2.12.21.6074.1601.2.2656.0.1389958718', 'PT', '/media/salim/DD 2To/AHL2011_Validated_DICOMS/13011101051024/7.2001141057128401136192182101748215217877138995076849410/1.2.840.113704.7.1.1.5728.1389958264.1/1.2.840.113704.7.1.1.5728.1389958264.1', 'CT', '7.2001141057128401136192182101748215217877138995076849410']\nException thrown in SimpleITK Image_SetDirection: /tmp/SimpleITK-build/ITK/Modules/Core/Common/include/itkImageBase.hxx:207:\nitk::ERROR: Image(0x57a493b0): Bad direction, determinant is 0. Direction is 1 0 0\n0 0 -1\n0 0 1\n\n1191\nEXPORT NIFTI PT\n['/media/salim/DD 2To/AHL2011_Validated_DICOMS/13011101051025/7.2201141348128401136192182101748215217877139020394551227/1.3.46.670589.28.2.12.21.6047.2561.2.1400.0.1390213160/1.3.46.670589.28.2.12.21.6047.2561.2.1400.0.1390213160', 'PT', '/media/salim/DD 2To/AHL2011_Validated_DICOMS/13011101051025/7.2201141348128401136192182101748215217877139020394551227/1.2.840.113704.7.1.1.7388.1390212395.341/imagys_AHL2011_13011101051025_050e876a-6018-4bd4-bf87-31e02495fb93', 'CT', '7.2201141348128401136192182101748215217877139020394551227']\nException thrown in SimpleITK Image_SetDirection: /tmp/SimpleITK-build/ITK/Modules/Core/Common/include/itkImageBase.hxx:207:\nitk::ERROR: Image(0x57a493b0): Bad direction, determinant is 0. Direction is 0 1 0\n0 0 -1\n0 0 1\n\n1192\nEXPORT NIFTI PT\nEXPORT NIFTI CT\n1193\nEXPORT NIFTI PT\nEXPORT NIFTI CT\n"
    }
   ],
   "source": [
    "#GENERATION NIFTI CT PET DES PET 2/4\n",
    "\n",
    "nifti_directory = '/media/salim/DD 2To/AHL2011_NIFTI_PET24'\n",
    "for serie in dataset : \n",
    "    print(dataset.index(serie))\n",
    "    try : \n",
    "        if serie[1] == 'PT' : \n",
    "            serie_pt_objet = SeriesPT(serie[0]) \n",
    "            nifti_array = serie_pt_objet.get_numpy_array()\n",
    "            study_uid = serie_pt_objet.get_series_details()['study']['StudyInstanceUID']\n",
    "\n",
    "                    #generation nifti PT\n",
    "            filename_pt = study_uid+'_'+'nifti_'+'PT'+'.nii'\n",
    "            serie_pt_objet.export_nifti(os.path.join(nifti_directory, filename_pt))\n",
    "            print(\"EXPORT NIFTI PT\")\n",
    "                    #generation nifti CT\n",
    "            serie_ct_objet = SeriesCT(serie[2])\n",
    "            serie_ct_objet.get_numpy_array()\n",
    "            filename_ct = study_uid+'_'+'nifti_'+'CT'+'.nii'\n",
    "            serie_ct_objet.export_nifti(os.path.join(nifti_directory, filename_ct))\n",
    "            print(\"EXPORT NIFTI CT\")\n",
    "\n",
    "\n",
    "\n",
    "        else : \n",
    "            serie_pt_objet = SeriesPT(serie[2]) \n",
    "            nifti_array = serie_pt_objet.get_numpy_array()\n",
    "            study_uid = serie_pt_objet.get_series_details()['study']['StudyInstanceUID']\n",
    "\n",
    "            \n",
    "                    #generation nifti PT\n",
    "            filename_pt = study_uid+'_'+'nifti_'+'PT'+'.nii'\n",
    "            serie_pt_objet.export_nifti(os.path.join(nifti_directory, filename_pt))\n",
    "            print(\"EXPORT NIFTI PT\")\n",
    "                    #generation nifti CT\n",
    "            serie_ct_objet = SeriesCT(serie[0])\n",
    "            serie_ct_objet.get_numpy_array()\n",
    "            filename_ct = study_uid+'_'+'nifti_'+'CT'+'.nii'\n",
    "            serie_ct_objet.export_nifti(os.path.join(nifti_directory, filename_ct))\n",
    "            print(\"EXPORT NIFTI CT\")\n",
    " \n",
    "\n",
    "    except Exception as err : \n",
    "        print(serie)\n",
    "        print(err)"
   ]
  }
 ],
 "metadata": {
  "language_info": {
   "name": "python",
   "codemirror_mode": {
    "name": "ipython",
    "version": 3
   },
   "version": "3.8.2-final"
  },
  "orig_nbformat": 2,
  "file_extension": ".py",
  "mimetype": "text/x-python",
  "name": "python",
  "npconvert_exporter": "python",
  "pygments_lexer": "ipython3",
  "version": 3,
  "kernelspec": {
   "name": "python3",
   "display_name": "Python 3"
  }
 },
 "nbformat": 4,
 "nbformat_minor": 2
}