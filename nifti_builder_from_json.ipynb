{
 "cells": [
  {
   "cell_type": "code",
   "execution_count": 1,
   "metadata": {},
   "outputs": [],
   "source": [
    "import json\n",
    "import os\n",
    "from library_dicom.dicom_processor.model.Series import Series \n",
    "from library_dicom.dicom_processor.model.SeriesPT import SeriesPT\n",
    "from library_dicom.dicom_processor.model.SeriesCT import SeriesCT\n",
    "from library_dicom.dicom_processor.model.csv_reader.MaskBuilder import MaskBuilder\n",
    "\n",
    "from library_dicom.dicom_processor.tools.folders import *\n",
    "\n",
    "from library_dicom.dicom_processor.tools.create_mip import *\n",
    "from library_dicom.dicom_processor.tools.threshold_mask import *\n",
    "\n",
    "import numpy as np\n",
    "import SimpleITK as sitk\n",
    "\n",
    "import csv"
   ]
  },
  {
   "cell_type": "code",
   "execution_count": null,
   "metadata": {},
   "outputs": [],
   "source": []
  },
  {
   "cell_type": "code",
   "execution_count": 2,
   "metadata": {},
   "outputs": [],
   "source": [
    "#LIST FROM PARSE_FILTERED_DICOM_DATASET"
   ]
  },
  {
   "cell_type": "code",
   "execution_count": null,
   "metadata": {
    "tags": []
   },
   "outputs": [],
   "source": [
    "#LIST_PATH\n",
    "json_path = '/media/deeplearning/78ca2911-9e9f-4f78-b80a-848024b95f92/FLIP_NIFTI/dataset.json'\n",
    "dataset = []\n",
    "with open(json_path) as json_file : \n",
    "    reader = json.load(json_file)\n",
    "    for info in reader :\n",
    "        dataset.append(info)\n",
    "\n",
    "print(len(dataset))"
   ]
  },
  {
   "cell_type": "code",
   "execution_count": 37,
   "metadata": {},
   "outputs": [
    {
     "output_type": "execute_result",
     "data": {
      "text/plain": "['/media/deeplearning/78ca2911-9e9f-4f78-b80a-848024b95f92/FLIP/DICOM/Patient 11 a 30/2017014 CR 014/103468016 Scintigraphie sur TEP TDM/CT CT TAP 2.0 I30f 3',\n 'CT',\n '/media/deeplearning/78ca2911-9e9f-4f78-b80a-848024b95f92/FLIP/DICOM/Patient 11 a 30/2017014 CR 014/103468016 Scintigraphie sur TEP TDM/PT TEP TAP Corrig',\n 'PT',\n '1.2.250.1.38.2.1.102.140724093005.103468016',\n '2017014',\n 'cr_014_jul 25_2014.csv']"
     },
     "metadata": {},
     "execution_count": 37
    }
   ],
   "source": [
    "dataset[0]"
   ]
  },
  {
   "cell_type": "code",
   "execution_count": null,
   "metadata": {},
   "outputs": [],
   "source": [
    "#BUILD NIFTI FROM DATASET 1 2 et 3"
   ]
  },
  {
   "cell_type": "markdown",
   "metadata": {
    "tags": []
   },
   "source": [
    "json_path = '/media/deeplearning/78ca2911-9e9f-4f78-b80a-848024b95f92/GAINED_NIFTI/json_dataset_4/dataset_4.json'\n",
    "dataset_4 = []\n",
    "with open(json_path) as json_file : \n",
    "    reader = json.load(json_file)\n",
    "    for info in reader :\n",
    "        dataset_4.append(info)\n",
    "\n",
    "print(len(dataset_4))"
   ]
  },
  {
   "cell_type": "markdown",
   "metadata": {},
   "source": [
    "#REWRITE GOOD PATH\n",
    "\n",
    "for serie in dataset : \n",
    "    for i in range(0,3,2) :\n",
    "        serie[i] = serie[i].replace('salim', 'deeplearning')\n",
    "\n",
    "for serie in dataset : \n",
    "    for i in range(0,3,2) :\n",
    "        serie[i] = serie[i].replace('DD 2To', '78ca2911-9e9f-4f78-b80a-848024b95f92') "
   ]
  },
  {
   "cell_type": "markdown",
   "metadata": {},
   "source": [
    "write_json_file('/media/deeplearning/78ca2911-9e9f-4f78-b80a-848024b95f92/GAINED_NIFTI_PET2', 'dataset', dataset)"
   ]
  },
  {
   "cell_type": "code",
   "execution_count": 40,
   "metadata": {},
   "outputs": [],
   "source": [
    "#remove remove_bi_file\n",
    "\n",
    "paths = get_series_path('/media/deeplearning/78ca2911-9e9f-4f78-b80a-848024b95f92/FLIP/DICOM')\n"
   ]
  },
  {
   "cell_type": "code",
   "execution_count": 43,
   "metadata": {},
   "outputs": [],
   "source": [
    "from library_dicom.dicom_processor.tools.folders import *\n",
    "for path in paths : \n",
    "    remove_bi_file(path)\n",
    "\n"
   ]
  },
  {
   "cell_type": "code",
   "execution_count": null,
   "metadata": {},
   "outputs": [],
   "source": []
  },
  {
   "cell_type": "code",
   "execution_count": 39,
   "metadata": {
    "tags": []
   },
   "outputs": [
    {
     "output_type": "stream",
     "name": "stdout",
     "text": "0\nMASK CORRECT\nin method 'Image_SetSpacing', argument 2 of type 'std::vector< double,std::allocator< double > > const &'\n['/media/deeplearning/78ca2911-9e9f-4f78-b80a-848024b95f92/FLIP/DICOM/Patient 31 à 50/2017031 CR 031/Unknown Study/PT p8273s0_FUE_ctac_resamp.img 3DRAMLA', 'PT', '/media/deeplearning/78ca2911-9e9f-4f78-b80a-848024b95f92/FLIP/DICOM/Patient 31 à 50/2017031 CR 031/Unknown Study/CT', 'CT', '1.2.840.113704.1.111.920.1223892920.6', '2017031', 'cr_031_oct 13_2008.csv']\n1\nMASK CORRECT\nEXPORT NIFTI PT\nin method 'Image_SetSpacing', argument 2 of type 'std::vector< double,std::allocator< double > > const &'\n['/media/deeplearning/78ca2911-9e9f-4f78-b80a-848024b95f92/FLIP/DICOM/Patient 31 à 50/2017042 CR 042/A22514015868 TEP corps entier/CT CT TAP 3.0 B30s', 'CT', '/media/deeplearning/78ca2911-9e9f-4f78-b80a-848024b95f92/FLIP/DICOM/Patient 31 à 50/2017042 CR 042/A22514015868 TEP corps entier/PT PET TAP AC HD', 'PT', '1.2.840.113711.41813.3.11624.395627943.26.2116281012.16890', '2017042', 'cr_042_jul 16_2013.csv']\n2\nFALSE MASK\n{1: {'SUV_max': 8.62, 'SUV_mean': 4.87, 'SD': 1.14}, 2: {'SUV_max': 8.91, 'SUV_mean': 5.17, 'SD': 1.2}, 3: {'SUV_max': 9.35, 'SUV_mean': 5.35, 'SD': 1.2}, 4: {'SUV_max': 9.18, 'SUV_mean': 5.21, 'SD': 1.07}, 5: {'SUV_max': 9.39, 'SUV_mean': 5.08, 'SD': 0.99}, 6: {'SUV_max': 5.51, 'SUV_mean': 2.88, 'SD': 0.7}, 7: {'SUV_max': 9.65, 'SUV_mean': 5.33, 'SD': 1.06}, 8: {'SUV_max': 12.49, 'SUV_mean': 6.67, 'SD': 1.19}, 9: {'SUV_max': 12.49, 'SUV_mean': 6.65, 'SD': 1.19}, 10: {'SUV_max': 8.55, 'SUV_mean': 4.9, 'SD': 1.06}, 11: {'SUV_max': 12.75, 'SUV_mean': 7.16, 'SD': 1.58}, 12: {'SUV_max': 7.83, 'SUV_mean': 4.63, 'SD': 1.1}, 13: {'SUV_max': 10.32, 'SUV_mean': 5.68, 'SD': 1.13}, 14: {'SUV_max': 10.27, 'SUV_mean': 5.91, 'SD': 1.1}, 15: {'SUV_max': 10.27, 'SUV_mean': 6.16, 'SD': 1.48}, 16: {'SUV_max': 8.75, 'SUV_mean': 4.74, 'SD': 1.02}, 17: {'SUV_max': 8.44, 'SUV_mean': 4.94, 'SD': 1.44}, 18: {'SUV_max': 12.21, 'SUV_mean': 7.67, 'SD': 1.92}, 19: {'SUV_max': 4.26, 'SUV_mean': 2.18, 'SD': 0.62}, 20: {'SUV_max': 7.34, 'SUV_mean': 4.35, 'SD': 1.1}, 21: {'SUV_max': 8.19, 'SUV_mean': 4.71, 'SD': 1.2}, 22: {'SUV_max': 5.06, 'SUV_mean': 2.59, 'SD': 0.57}, 23: {'SUV_max': 10.59, 'SUV_mean': 6.9, 'SD': 1.69}, 24: {'SUV_max': 6.21, 'SUV_mean': 3.72, 'SD': 1.19}, 25: {'SUV_max': 5.56, 'SUV_mean': 3.48, 'SD': 0.89}}\n[14, 'ELLIPSE', 1.7300000000000004]\n[14, 'ELLIPSE', 0.5899999999999999]\n[14, 'ELLIPSE', 0.18999999999999995]\ntaille mask :  (168, 168, 424, 25)\n3\nMASK CORRECT\nin method 'Image_SetSpacing', argument 2 of type 'std::vector< double,std::allocator< double > > const &'\n['/media/deeplearning/78ca2911-9e9f-4f78-b80a-848024b95f92/FLIP/DICOM/Patient 11 a 30/2017011 CR 011/A22103164845 TEP corps entier/PT PET TAP AC HD', 'PT', '/media/deeplearning/78ca2911-9e9f-4f78-b80a-848024b95f92/FLIP/DICOM/Patient 11 a 30/2017011 CR 011/A22103164845 TEP corps entier/CT CT TAP 3.0 B30s', 'CT', '2.16.840.1.113669.632.20.310000.20002886092', '2017011', 'cr_011_dec 7_2012.csv']\n"
    }
   ],
   "source": [
    "#On met les erreurs de coté\n",
    "#generer mip en meme temps \n",
    "\n",
    "nifti_directory = '/media/deeplearning/78ca2911-9e9f-4f78-b80a-848024b95f92/FLIP_NIFTI'\n",
    "\n",
    "csv_directory = '/media/deeplearning/78ca2911-9e9f-4f78-b80a-848024b95f92/FLIP/CSV'\n",
    "mip_directory = '/media/deeplearning/78ca2911-9e9f-4f78-b80a-848024b95f92/FLIP_NIFTI/MIP'\n",
    "\n",
    "\n",
    "\n",
    "false_mask_dataset_1 = []\n",
    "error_dataset_1 = []\n",
    "path_mip = []\n",
    "\n",
    "results_false_mask = []\n",
    "\n",
    "for serie in dataset: \n",
    "    try : \n",
    "        #print(serie)\n",
    "        print(dataset.index(serie))\n",
    "        subliste = []\n",
    "\n",
    "        results = []\n",
    "\n",
    "        if serie[1] == 'PT' : \n",
    "            \n",
    "            serie_pt_objet = SeriesPT(serie[0])\n",
    "            nifti_array = serie_pt_objet.get_numpy_array()\n",
    "            study_uid = serie_pt_objet.get_series_details()['study']['StudyInstanceUID']\n",
    "\n",
    "\n",
    "\n",
    "            size_matrix = serie_pt_objet.get_size_matrix()\n",
    "            mask_objet = MaskBuilder(os.path.join(csv_directory, serie[6]), size_matrix)\n",
    "            mask_4D = mask_objet.mask_array\n",
    "\n",
    "            number_roi = mask_4D.shape[3]\n",
    "            threshold = mask_objet.details_rois['SUVlo']\n",
    "        #seuillage\n",
    "\n",
    "\n",
    "            if mask_objet.is_correct_suv(nifti_array) == True : #si mask correct \n",
    "                print(\"MASK CORRECT\")\n",
    "                    #generation nifti PT\n",
    "                filename_pt = study_uid+'_'+'nifti_'+'PT'+'.nii'\n",
    "                serie_pt_objet.export_nifti(os.path.join(nifti_directory, filename_pt))\n",
    "                print(\"EXPORT NIFTI PT\")\n",
    "                    #generation nifti CT\n",
    "                serie_ct_objet = SeriesCT(serie[2])\n",
    "                serie_ct_objet.get_numpy_array()\n",
    "                filename_ct = study_uid+'_'+'nifti_'+'CT'+'.nii'\n",
    "                serie_ct_objet.export_nifti(os.path.join(nifti_directory, filename_ct))\n",
    "                print(\"EXPORT NIFTI CT\")\n",
    "                    #generation nifti mask\n",
    "                filename_mask = study_uid+'_'+'nifti_'+'mask'+'.nii'\n",
    "                serie_pt_objet.export_nifti(os.path.join(nifti_directory, filename_mask), mask_4D)\n",
    "                print(\"EXPORT NIFTI MASK\")\n",
    "                #shutil.rmtree(os.path.join(dicom_directory+'/'+serie[-2], serie[]))\n",
    "                #print(\"dicom effacé\")\n",
    "\n",
    "            else : \n",
    "                print(\"FALSE MASK\")\n",
    "                false_mask_dataset_1.append(serie)\n",
    "                print(mask_objet.calcul_suv(nifti_array))\n",
    "                results.append(mask_objet.calcul_suv(nifti_array))\n",
    "                print(mask_objet.ecart_suv_max(nifti_array))\n",
    "                results.append(mask_objet.ecart_suv_max(nifti_array))\n",
    "                print(mask_objet.ecart_suv_mean(nifti_array))\n",
    "                results.append(mask_objet.ecart_suv_mean(nifti_array))\n",
    "                print(mask_objet.ecart_SD(nifti_array))\n",
    "                results.append(mask_objet.ecart_SD(nifti_array))\n",
    "\n",
    "                results_false_mask.append(results)\n",
    "                mask_4D = threshold_mask(mask_4D, mask_objet.details_rois, nifti_array)\n",
    "\n",
    "                angle_filename = mip_projection(nifti_array, 0, mip_directory, study_uid, borne_max = 5.0)             #mip.png PET\n",
    "                subliste.append(angle_filename)\n",
    "                angle_filename_mask = mip_projection_4D(mask_4D, 0, mip_directory, study_uid, number_roi, borne_max = 1.0)\n",
    "        #mip.png MASK\n",
    "                subliste.append(angle_filename_mask)\n",
    "\n",
    "                path_mip.append(subliste)\n",
    "\n",
    "\n",
    "        else : \n",
    "            serie_pt_objet = SeriesPT(serie[2])\n",
    "            nifti_array = serie_pt_objet.get_numpy_array()\n",
    "            study_uid = serie_pt_objet.get_series_details()['study']['StudyInstanceUID']\n",
    "\n",
    "            size_matrix = serie_pt_objet.get_size_matrix()\n",
    "            mask_objet = MaskBuilder(os.path.join(csv_directory, serie[6]), size_matrix)\n",
    "            mask_4D = mask_objet.mask_array\n",
    "\n",
    "            number_roi = mask_4D.shape[3]\n",
    "            threshold = mask_objet.details_rois['SUVlo']\n",
    "        #seuillage\n",
    "\n",
    "\n",
    "            if mask_objet.is_correct_suv(nifti_array) == True : #si mask correct \n",
    "                print(\"MASK CORRECT\")\n",
    "                    #generation nifti PT\n",
    "                filename_pt = study_uid+'_'+'nifti_'+'PT'+'.nii'\n",
    "                serie_pt_objet.export_nifti(os.path.join(nifti_directory, filename_pt))\n",
    "                print(\"EXPORT NIFTI PT\")\n",
    "                     #generation nifti CT\n",
    "                serie_ct_objet = SeriesCT(serie[0])\n",
    "                serie_ct_objet.get_numpy_array()\n",
    "                filename_ct = study_uid+'_'+'nifti_'+'CT'+'.nii'\n",
    "                serie_ct_objet.export_nifti(os.path.join(nifti_directory, filename_ct))\n",
    "                print(\"EXPORT NIFTI CT\")\n",
    "                    #generation nifti mask\n",
    "                filename_mask = study_uid+'_'+'nifti_'+'mask'+'.nii'\n",
    "                serie_pt_objet.export_nifti(os.path.join(nifti_directory, filename_mask), mask_4D)\n",
    "                print(\"EXPORT NIFTI MASK\")\n",
    "                #shutil.rmtree(os.path.join(dicom_directory, serie[-2]))\n",
    "                #print('dicom effacé')\n",
    "            else : \n",
    "                print(\"FALSE MASK\")\n",
    "                false_mask_dataset_1.append(serie)\n",
    "                print(mask_objet.calcul_suv(nifti_array))\n",
    "                results.append(mask_objet.calcul_suv(nifti_array))\n",
    "                print(mask_objet.ecart_suv_max(nifti_array))\n",
    "                results.append(mask_objet.ecart_suv_max(nifti_array))\n",
    "                print(mask_objet.ecart_suv_mean(nifti_array))\n",
    "                results.append(mask_objet.ecart_suv_mean(nifti_array))\n",
    "                print(mask_objet.ecart_SD(nifti_array))\n",
    "                results.append(mask_objet.ecart_SD(nifti_array))\n",
    "\n",
    "                results_false_mask.append(results)\n",
    "                mask_4D = threshold_mask(mask_4D, mask_objet.details_rois, nifti_array)\n",
    "\n",
    "                angle_filename = mip_projection(nifti_array, 0, mip_directory, study_uid, borne_max = 5.0)             #mip.png PET\n",
    "                subliste.append(angle_filename)\n",
    "                angle_filename_mask = mip_projection_4D(mask_4D, 0, mip_directory, study_uid, number_roi, borne_max = 1.0)\n",
    "        #mip.png MASK\n",
    "                subliste.append(angle_filename_mask)\n",
    "\n",
    "                path_mip.append(subliste)\n",
    "               \n",
    "\n",
    "    except Exception as err : \n",
    "        print(err)\n",
    "        print(serie)\n",
    "        error_dataset_1.append(serie)\n"
   ]
  },
  {
   "cell_type": "code",
   "execution_count": 45,
   "metadata": {
    "tags": []
   },
   "outputs": [
    {
     "output_type": "stream",
     "name": "stdout",
     "text": "10\n13\n"
    }
   ],
   "source": [
    "print(len(error_dataset_1))\n",
    "print(len(false_mask_dataset_1))"
   ]
  },
  {
   "cell_type": "code",
   "execution_count": 46,
   "metadata": {},
   "outputs": [],
   "source": [
    "#SAVE THE SERIE WITH FALSE MASK \n",
    "write_json_file('/media/deeplearning/78ca2911-9e9f-4f78-b80a-848024b95f92/FLIP_NIFTI', 'false_mask', false_mask_dataset_1)\n",
    "write_json_file('/media/deeplearning/78ca2911-9e9f-4f78-b80a-848024b95f92/FLIP_NIFTI', 'false_mask_results', results_false_mask)\n",
    "\n",
    "write_json_file('/media/deeplearning/78ca2911-9e9f-4f78-b80a-848024b95f92/FLIP_NIFTI', 'error', error_dataset_1)\n",
    "write_json_file('/media/deeplearning/78ca2911-9e9f-4f78-b80a-848024b95f92/FLIP_NIFTI/MIP', 'path_mip', path_mip)"
   ]
  },
  {
   "cell_type": "code",
   "execution_count": 47,
   "metadata": {},
   "outputs": [],
   "source": [
    "#create pdf \n",
    "filename = os.path.join(mip_directory, 'list_mip_dataset.pdf')\n",
    "create_pdf_mip(path_mip, filename)"
   ]
  },
  {
   "cell_type": "code",
   "execution_count": null,
   "metadata": {},
   "outputs": [],
   "source": []
  },
  {
   "cell_type": "code",
   "execution_count": null,
   "metadata": {},
   "outputs": [],
   "source": [
    "#Si problème de bords pas pris en compte : generer nifti "
   ]
  },
  {
   "cell_type": "code",
   "execution_count": 47,
   "metadata": {
    "tags": []
   },
   "outputs": [
    {
     "output_type": "stream",
     "name": "stdout",
     "text": "0\nMASK CORRECT\nEXPORT NIFTI PT\nEXPORT NIFTI CT\nEXPORT NIFTI MASK\n1\nMASK CORRECT\nEXPORT NIFTI PT\nEXPORT NIFTI CT\nEXPORT NIFTI MASK\n2\nMASK CORRECT\nEXPORT NIFTI PT\nEXPORT NIFTI CT\nEXPORT NIFTI MASK\n3\nMASK CORRECT\nEXPORT NIFTI PT\nEXPORT NIFTI CT\nEXPORT NIFTI MASK\n4\nMASK CORRECT\nEXPORT NIFTI PT\nEXPORT NIFTI CT\nEXPORT NIFTI MASK\n5\nMASK CORRECT\nEXPORT NIFTI PT\nEXPORT NIFTI CT\nEXPORT NIFTI MASK\n6\nMASK CORRECT\nEXPORT NIFTI PT\nEXPORT NIFTI CT\nEXPORT NIFTI MASK\n7\nMASK CORRECT\nEXPORT NIFTI PT\nEXPORT NIFTI CT\nEXPORT NIFTI MASK\n8\nMASK CORRECT\nEXPORT NIFTI PT\nEXPORT NIFTI CT\nEXPORT NIFTI MASK\n9\nMASK CORRECT\nEXPORT NIFTI PT\nEXPORT NIFTI CT\nEXPORT NIFTI MASK\n10\nMASK CORRECT\nEXPORT NIFTI PT\nEXPORT NIFTI CT\nEXPORT NIFTI MASK\n11\nMASK CORRECT\nEXPORT NIFTI PT\nEXPORT NIFTI CT\nEXPORT NIFTI MASK\n12\nMASK CORRECT\nEXPORT NIFTI PT\nEXPORT NIFTI CT\nEXPORT NIFTI MASK\n13\nMASK CORRECT\nEXPORT NIFTI PT\nEXPORT NIFTI CT\nEXPORT NIFTI MASK\n"
    }
   ],
   "source": [
    "\n",
    "nifti_directory = '/media/deeplearning/78ca2911-9e9f-4f78-b80a-848024b95f92/FLIP_NIFTI'\n",
    "\n",
    "csv_directory = '/media/deeplearning/78ca2911-9e9f-4f78-b80a-848024b95f92/FLIP/CSV'\n",
    "mip_directory = '/media/deeplearning/78ca2911-9e9f-4f78-b80a-848024b95f92/FLIP_NIFTI/MIP'\n",
    "\n",
    "for serie in dataset: \n",
    "    try : \n",
    "        #print(serie)\n",
    "        print(dataset.index(serie))\n",
    "\n",
    "        if serie[1] == 'PT' : \n",
    "            serie_pt_objet = SeriesPT(serie[0])\n",
    "            nifti_array = serie_pt_objet.get_numpy_array()\n",
    "            study_uid = serie_pt_objet.get_series_details()['study']['StudyInstanceUID']\n",
    "\n",
    "\n",
    "\n",
    "            size_matrix = serie_pt_objet.get_size_matrix()\n",
    "            mask_objet = MaskBuilder(os.path.join(csv_directory, serie[6]), size_matrix)\n",
    "            mask_4D = mask_objet.mask_array\n",
    "\n",
    "            number_roi = mask_4D.shape[3]\n",
    "            #threshold = mask_objet.details_rois['SUVlo']\n",
    "        #seuillage\n",
    "\n",
    "\n",
    "            #if mask_objet.is_correct_suv(nifti_array) == True : #si mask correct \n",
    "            print(\"MASK CORRECT\")\n",
    "                    #generation nifti PT\n",
    "            filename_pt = study_uid+'_'+'nifti_'+'PT'+'.nii'\n",
    "            serie_pt_objet.export_nifti(os.path.join(nifti_directory, filename_pt))\n",
    "            print(\"EXPORT NIFTI PT\")\n",
    "                    #generation nifti CT\n",
    "            serie_ct_objet = SeriesCT(serie[2])\n",
    "            serie_ct_objet.get_numpy_array()\n",
    "            filename_ct = study_uid+'_'+'nifti_'+'CT'+'.nii'\n",
    "            serie_ct_objet.export_nifti(os.path.join(nifti_directory, filename_ct))\n",
    "            print(\"EXPORT NIFTI CT\")\n",
    "                    #generation nifti mask\n",
    "            filename_mask = study_uid+'_'+'nifti_'+'mask'+'.nii'\n",
    "            serie_pt_objet.export_nifti(os.path.join(nifti_directory, filename_mask), mask_4D)\n",
    "            print(\"EXPORT NIFTI MASK\")\n",
    "            #shutil.rmtree(os.path.join(dicom_directory, serie[-2]))\n",
    "            #print(\"dicom effacé\")\n",
    "\n",
    "            #else : \n",
    "                #print(\"FALSE MASK\")\n",
    "                #false_mask_dataset_4.append(serie)\n",
    "                #print(mask_objet.calcul_suv(nifti_array))\n",
    "                #results.append(mask_objet.calcul_suv(nifti_array))\n",
    "                #print(mask_objet.ecart_suv_max(nifti_array))\n",
    "                #results.append(mask_objet.ecart_suv_max(nifti_array))\n",
    "                #print(mask_objet.ecart_suv_mean(nifti_array))\n",
    "                #results.append(mask_objet.ecart_suv_mean(nifti_array))\n",
    "                #print(mask_objet.ecart_SD(nifti_array))\n",
    "                #results.append(mask_objet.ecart_SD(nifti_array))\n",
    "\n",
    "                #results_false_mask.append(results)\n",
    "                #mask_4D = threshold_mask(mask_4D, mask_objet.details_rois, nifti_array)\n",
    "\n",
    "                #angle_filename = mip_projection(nifti_array, 0, mip_directory, study_uid, borne_max = 5.0)             #mip.png PET\n",
    "                #subliste.append(angle_filename)\n",
    "                #angle_filename_mask = mip_projection_4D(mask_4D, 0, mip_directory, study_uid, number_roi, borne_max = 1.0)\n",
    "        #mip.png MASK\n",
    "                #subliste.append(angle_filename_mask)\n",
    "\n",
    "                #path_mip.append(subliste)\n",
    "\n",
    "\n",
    "        else : \n",
    "            serie_pt_objet = SeriesPT(serie[2])\n",
    "            nifti_array = serie_pt_objet.get_numpy_array()\n",
    "            study_uid = serie_pt_objet.get_series_details()['study']['StudyInstanceUID']\n",
    "\n",
    "            size_matrix = serie_pt_objet.get_size_matrix()\n",
    "            mask_objet = MaskBuilder(os.path.join(csv_directory, serie[6]), size_matrix)\n",
    "            mask_4D = mask_objet.mask_array\n",
    "\n",
    "            number_roi = mask_4D.shape[3]\n",
    "            #threshold = mask_objet.details_rois['SUVlo']\n",
    "        #seuillage\n",
    "\n",
    "\n",
    "            #if mask_objet.is_correct_suv(nifti_array) == True : #si mask correct \n",
    "            print(\"MASK CORRECT\")\n",
    "                    #generation nifti PT\n",
    "            filename_pt = study_uid+'_'+'nifti_'+'PT'+'.nii'\n",
    "            serie_pt_objet.export_nifti(os.path.join(nifti_directory, filename_pt))\n",
    "            print(\"EXPORT NIFTI PT\")\n",
    "                     #generation nifti CT\n",
    "            serie_ct_objet = SeriesCT(serie[0])\n",
    "            serie_ct_objet.get_numpy_array()\n",
    "            filename_ct = study_uid+'_'+'nifti_'+'CT'+'.nii'\n",
    "            serie_ct_objet.export_nifti(os.path.join(nifti_directory, filename_ct))\n",
    "            print(\"EXPORT NIFTI CT\")\n",
    "                    #generation nifti mask\n",
    "            filename_mask = study_uid+'_'+'nifti_'+'mask'+'.nii'\n",
    "            serie_pt_objet.export_nifti(os.path.join(nifti_directory, filename_mask), mask_4D)\n",
    "            print(\"EXPORT NIFTI MASK\")\n",
    "            #shutil.rmtree(os.path.join(dicom_directory, serie[-2]))\n",
    "            #print('dicom effacé')\n",
    "            #else : \n",
    "                #print(\"FALSE MASK\")\n",
    "                #false_mask_dataset_4.append(serie)\n",
    "                #print(mask_objet.calcul_suv(nifti_array))\n",
    "                #results.append(mask_objet.calcul_suv(nifti_array))\n",
    "                #print(mask_objet.ecart_suv_max(nifti_array))\n",
    "                #results.append(mask_objet.ecart_suv_max(nifti_array))\n",
    "                #print(mask_objet.ecart_suv_mean(nifti_array))\n",
    "                #results.append(mask_objet.ecart_suv_mean(nifti_array))\n",
    "                #print(mask_objet.ecart_SD(nifti_array))\n",
    "                #results.append(mask_objet.ecart_SD(nifti_array))\n",
    "\n",
    "                #results_false_mask.append(results)\n",
    "                #mask_4D = threshold_mask(mask_4D, mask_objet.details_rois, nifti_array)\n",
    "\n",
    "                #angle_filename = mip_projection(nifti_array, 0, mip_directory, study_uid, borne_max = 5.0)             #mip.png PET\n",
    "                #subliste.append(angle_filename)\n",
    "                #angle_filename_mask = mip_projection_4D(mask_4D, 0, mip_directory, study_uid, number_roi, borne_max = 1.0)\n",
    "        #mip.png MASK\n",
    "                #subliste.append(angle_filename_mask)\n",
    "\n",
    "                #path_mip.append(subliste)\n",
    "               \n",
    "\n",
    "    except Exception as err : \n",
    "        print(err)\n",
    "        print(serie)\n",
    "        error_dataset_1.append(serie)"
   ]
  },
  {
   "cell_type": "code",
   "execution_count": null,
   "metadata": {},
   "outputs": [],
   "source": []
  },
  {
   "cell_type": "code",
   "execution_count": null,
   "metadata": {},
   "outputs": [],
   "source": []
  },
  {
   "cell_type": "code",
   "execution_count": null,
   "metadata": {},
   "outputs": [],
   "source": []
  },
  {
   "cell_type": "code",
   "execution_count": null,
   "metadata": {},
   "outputs": [],
   "source": []
  },
  {
   "cell_type": "code",
   "execution_count": null,
   "metadata": {},
   "outputs": [],
   "source": []
  },
  {
   "cell_type": "code",
   "execution_count": 2,
   "metadata": {
    "tags": []
   },
   "outputs": [
    {
     "output_type": "stream",
     "name": "stdout",
     "text": "534\n"
    }
   ],
   "source": [
    "#POUR PET 2 ET PET 4 (SANS MASK)\n",
    "\n",
    "#RELOAD JSON FROM PARSED DICOM IPYNB\n",
    "\n",
    "\n",
    "json_path = '/media/deeplearning/78ca2911-9e9f-4f78-b80a-848024b95f92/GAINED_NIFTI_PET4/GAINED_list_path_CT_PET4.json'\n",
    "dataset = []\n",
    "with open(json_path) as json_file : \n",
    "    reader = json.load(json_file)\n",
    "    for info in reader :\n",
    "        dataset.append(info)\n",
    "\n",
    "print(len(dataset))"
   ]
  },
  {
   "cell_type": "code",
   "execution_count": 4,
   "metadata": {},
   "outputs": [],
   "source": [
    "#REWRITE GOOD PATH\n",
    "\n",
    "for serie in dataset : \n",
    "    for i in range(0,3,2) :\n",
    "        serie[i] = serie[i].replace('salim', 'deeplearning')\n",
    "\n",
    "for serie in dataset : \n",
    "    for i in range(0,3,2) :\n",
    "        serie[i] = serie[i].replace('DD 2To', 'Elements') "
   ]
  },
  {
   "cell_type": "code",
   "execution_count": 5,
   "metadata": {},
   "outputs": [
    {
     "output_type": "execute_result",
     "data": {
      "text/plain": "['/media/deeplearning/Elements/GAINED_Validated_DICOMS/51011101881013/1.3.12.2.1107.5.1.4.1007.30000014021712095628100000006/1.3.12.2.1107.5.1.4.1007.30000014021712362196800004578/1.3.12.2.1107.5.1.4.1007.30000014021712362196800004578',\n 'CT',\n '/media/deeplearning/Elements/GAINED_Validated_DICOMS/51011101881013/1.3.12.2.1107.5.1.4.1007.30000014021712095628100000006/1.3.12.2.1107.5.1.4.11087.30000014021708361704600036338/1.3.12.2.1107.5.1.4.11087.30000014021708361704600036338',\n 'PT',\n '1.3.12.2.1107.5.1.4.1007.30000014021712095628100000006',\n '51011101881013']"
     },
     "metadata": {},
     "execution_count": 5
    }
   ],
   "source": [
    "dataset[500]"
   ]
  },
  {
   "cell_type": "code",
   "execution_count": null,
   "metadata": {
    "tags": []
   },
   "outputs": [],
   "source": [
    "#CHECKER LES UNCONSTANT SPACING\n",
    "unconstant_spacing = []\n",
    "serie_error = []\n",
    "for serie in dataset : \n",
    "    print(dataset.index(serie))\n",
    "    try : \n",
    "        if serie[1] =='PT' : \n",
    "            serie_pt_objet = SeriesPT(serie[0])\n",
    "            nifti_array = serie_pt_objet.get_numpy_array()\n",
    "            if serie_pt_objet.get_z_spacing =='Unconstant Spacing' :\n",
    "                print(\"Unconstant Spacing PET\")\n",
    "                unconstant_spacing.append(serie)\n",
    "            \n",
    "            serie_ct_objet = SeriesCT(serie[2])\n",
    "            nifti_array_ct = serie_ct_objet.get_numpy_array()\n",
    "            if serie_ct_objet.get_z_spacing =='Unconstant Spacing' :\n",
    "                print(\"Unconstant Spacing PT\")\n",
    "                unconstant_spacing.append(serie)\n",
    "\n",
    "        else : \n",
    "            serie_pt_objet = SeriesPT(serie[2])\n",
    "            nifti_array = serie_pt_objet.get_numpy_array()\n",
    "            if serie_pt_objet.get_z_spacing =='Unconstant Spacing' :\n",
    "                print(\"Unconstant Spacing PT\")\n",
    "                unconstant_spacing.append(serie)\n",
    "            serie_ct_objet = SeriesCT(serie[0])\n",
    "            nifti_array_ct = serie_ct_objet.get_numpy_array()\n",
    "            if serie_ct_objet.get_z_spacing =='Unconstant Spacing' :\n",
    "                print(\"Unconstant Spacing CT\")\n",
    "                unconstant_spacing.append(serie)\n",
    "\n",
    "    except Exception as err : \n",
    "        print(serie)\n",
    "        print(err)\n",
    "        serie_error.append(serie)\n"
   ]
  },
  {
   "cell_type": "code",
   "execution_count": null,
   "metadata": {},
   "outputs": [],
   "source": []
  },
  {
   "cell_type": "code",
   "execution_count": 7,
   "metadata": {
    "tags": [
     "outputPrepend"
    ]
   },
   "outputs": [
    {
     "output_type": "stream",
     "name": "stdout",
     "text": "2.840.113619.2.290.3.2831166708.745.1410849399.962/1.2.840.113619.2.290.3.2831166708.745.1410849399.967.3/1.2.840.113619.2.290.3.2831166708.745.1410849399.967.3', 'CT', '1.2.840.113619.2.290.3.2831166708.745.1410849399.962', '51011101731006']\nin method 'Image_SetSpacing', argument 2 of type 'std::vector< double,std::allocator< double > > const &'\n91\nEXPORT NIFTI PT\nEXPORT NIFTI CT\n92\nEXPORT NIFTI PT\nEXPORT NIFTI CT\n93\nEXPORT NIFTI PT\nEXPORT NIFTI CT\n94\nEXPORT NIFTI PT\nEXPORT NIFTI CT\n95\nEXPORT NIFTI PT\nEXPORT NIFTI CT\n96\nEXPORT NIFTI PT\nEXPORT NIFTI CT\n97\nEXPORT NIFTI PT\nEXPORT NIFTI CT\n98\nEXPORT NIFTI PT\nEXPORT NIFTI CT\n99\nEXPORT NIFTI PT\nEXPORT NIFTI CT\n100\nEXPORT NIFTI PT\nEXPORT NIFTI CT\n101\nEXPORT NIFTI PT\nEXPORT NIFTI CT\n102\nEXPORT NIFTI PT\nEXPORT NIFTI CT\n103\nEXPORT NIFTI PT\nEXPORT NIFTI CT\n104\nEXPORT NIFTI PT\nEXPORT NIFTI CT\n105\nEXPORT NIFTI PT\nEXPORT NIFTI CT\n106\nEXPORT NIFTI PT\nEXPORT NIFTI CT\n107\nEXPORT NIFTI PT\nEXPORT NIFTI CT\n108\nEXPORT NIFTI PT\nEXPORT NIFTI CT\n109\nEXPORT NIFTI PT\nEXPORT NIFTI CT\n110\nEXPORT NIFTI PT\nEXPORT NIFTI CT\n111\nEXPORT NIFTI PT\nEXPORT NIFTI CT\n112\nEXPORT NIFTI PT\nEXPORT NIFTI CT\n113\nEXPORT NIFTI PT\nEXPORT NIFTI CT\n114\nEXPORT NIFTI PT\nEXPORT NIFTI CT\n115\nEXPORT NIFTI PT\nEXPORT NIFTI CT\n116\nEXPORT NIFTI PT\nEXPORT NIFTI CT\n117\nEXPORT NIFTI PT\nEXPORT NIFTI CT\n118\nEXPORT NIFTI PT\nEXPORT NIFTI CT\n119\nEXPORT NIFTI PT\nEXPORT NIFTI CT\n120\nEXPORT NIFTI PT\nEXPORT NIFTI CT\n121\nEXPORT NIFTI PT\nEXPORT NIFTI CT\n122\nEXPORT NIFTI PT\nEXPORT NIFTI CT\n123\nEXPORT NIFTI PT\nEXPORT NIFTI CT\n124\nEXPORT NIFTI PT\nEXPORT NIFTI CT\n125\nEXPORT NIFTI PT\nEXPORT NIFTI CT\n126\nEXPORT NIFTI PT\nEXPORT NIFTI CT\n127\nEXPORT NIFTI PT\nEXPORT NIFTI CT\n128\nEXPORT NIFTI PT\nEXPORT NIFTI CT\n129\nEXPORT NIFTI PT\nEXPORT NIFTI CT\n130\nEXPORT NIFTI PT\nEXPORT NIFTI CT\n131\nEXPORT NIFTI PT\nEXPORT NIFTI CT\n132\nEXPORT NIFTI PT\nEXPORT NIFTI CT\n133\nEXPORT NIFTI PT\nEXPORT NIFTI CT\n134\nEXPORT NIFTI PT\nEXPORT NIFTI CT\n135\nEXPORT NIFTI PT\nEXPORT NIFTI CT\n136\nEXPORT NIFTI PT\nEXPORT NIFTI CT\n137\nEXPORT NIFTI PT\nEXPORT NIFTI CT\n138\nEXPORT NIFTI PT\nEXPORT NIFTI CT\n139\nEXPORT NIFTI PT\nEXPORT NIFTI CT\n140\nEXPORT NIFTI PT\nEXPORT NIFTI CT\n141\nEXPORT NIFTI PT\nEXPORT NIFTI CT\n142\nEXPORT NIFTI PT\nEXPORT NIFTI CT\n143\nEXPORT NIFTI PT\nEXPORT NIFTI CT\n144\nEXPORT NIFTI PT\nEXPORT NIFTI CT\n145\nEXPORT NIFTI PT\nEXPORT NIFTI CT\n146\nEXPORT NIFTI PT\nEXPORT NIFTI CT\n147\nEXPORT NIFTI PT\nEXPORT NIFTI CT\n148\nEXPORT NIFTI PT\nEXPORT NIFTI CT\n149\nEXPORT NIFTI PT\nEXPORT NIFTI CT\n150\nEXPORT NIFTI PT\nEXPORT NIFTI CT\n151\nEXPORT NIFTI PT\nEXPORT NIFTI CT\n152\nEXPORT NIFTI PT\nEXPORT NIFTI CT\n153\nEXPORT NIFTI PT\nEXPORT NIFTI CT\n154\nEXPORT NIFTI PT\n['/media/deeplearning/Elements/GAINED_Validated_DICOMS/11011101091012/1.2.840.113619.2.290.3.279710523.891.1403587728.894/1.2.840.113619.2.290.3.279710523.891.1403587729.299/1.2.840.113619.2.290.3.279710523.891.1403587729.299', 'PT', '/media/deeplearning/Elements/GAINED_Validated_DICOMS/11011101091012/1.2.840.113619.2.290.3.279710523.891.1403587728.894/1.2.840.113619.2.290.3.279710523.891.1403587728.901/1.2.840.113619.2.290.3.279710523.891.1403587728.901', 'CT', '1.2.840.113619.2.290.3.279710523.891.1403587728.894', '11011101091012']\nin method 'Image_SetSpacing', argument 2 of type 'std::vector< double,std::allocator< double > > const &'\n155\nEXPORT NIFTI PT\nEXPORT NIFTI CT\n156\nEXPORT NIFTI PT\nEXPORT NIFTI CT\n157\nEXPORT NIFTI PT\nEXPORT NIFTI CT\n158\nEXPORT NIFTI PT\nEXPORT NIFTI CT\n159\nEXPORT NIFTI PT\nEXPORT NIFTI CT\n160\nEXPORT NIFTI PT\nEXPORT NIFTI CT\n161\nEXPORT NIFTI PT\nEXPORT NIFTI CT\n162\nEXPORT NIFTI PT\nEXPORT NIFTI CT\n163\nEXPORT NIFTI PT\nEXPORT NIFTI CT\n164\nEXPORT NIFTI PT\nEXPORT NIFTI CT\n165\nEXPORT NIFTI PT\nEXPORT NIFTI CT\n166\nEXPORT NIFTI PT\nEXPORT NIFTI CT\n167\nEXPORT NIFTI PT\nEXPORT NIFTI CT\n168\nEXPORT NIFTI PT\nEXPORT NIFTI CT\n169\nEXPORT NIFTI PT\nEXPORT NIFTI CT\n170\nEXPORT NIFTI PT\nEXPORT NIFTI CT\n171\nEXPORT NIFTI PT\nEXPORT NIFTI CT\n172\nEXPORT NIFTI PT\nEXPORT NIFTI CT\n173\nEXPORT NIFTI PT\nEXPORT NIFTI CT\n174\nEXPORT NIFTI PT\nEXPORT NIFTI CT\n175\nEXPORT NIFTI PT\nEXPORT NIFTI CT\n176\nEXPORT NIFTI PT\nEXPORT NIFTI CT\n177\nEXPORT NIFTI PT\nEXPORT NIFTI CT\n178\nEXPORT NIFTI PT\nEXPORT NIFTI CT\n179\nEXPORT NIFTI PT\nEXPORT NIFTI CT\n180\nEXPORT NIFTI PT\nEXPORT NIFTI CT\n181\nEXPORT NIFTI PT\nEXPORT NIFTI CT\n182\nEXPORT NIFTI PT\nEXPORT NIFTI CT\n183\nEXPORT NIFTI PT\nEXPORT NIFTI CT\n184\nEXPORT NIFTI PT\nEXPORT NIFTI CT\n185\nEXPORT NIFTI PT\nEXPORT NIFTI CT\n186\nEXPORT NIFTI PT\nEXPORT NIFTI CT\n187\nEXPORT NIFTI PT\nEXPORT NIFTI CT\n188\nEXPORT NIFTI PT\nEXPORT NIFTI CT\n189\nEXPORT NIFTI PT\n['/media/deeplearning/Elements/GAINED_Validated_DICOMS/11011101211005/1.3.51.0.1.1.10.49.10.222.1749139.1747518/1.2.840.113619.2.131.168466380.1371213849.401594/1.2.840.113619.2.131.168466380.1371213849.401594', 'PT', '/media/deeplearning/Elements/GAINED_Validated_DICOMS/11011101211005/1.3.51.0.1.1.10.49.10.222.1749139.1747518/1.2.840.113619.2.55.3.168466380.389.1371189792.322.3/1.2.840.113619.2.55.3.168466380.389.1371189792.322.3', 'CT', '1.3.51.0.1.1.10.49.10.222.1749139.1747518', '11011101211005']\nin method 'Image_SetSpacing', argument 2 of type 'std::vector< double,std::allocator< double > > const &'\n190\nEXPORT NIFTI PT\nEXPORT NIFTI CT\n191\nEXPORT NIFTI PT\nEXPORT NIFTI CT\n192\nEXPORT NIFTI PT\nEXPORT NIFTI CT\n193\nEXPORT NIFTI PT\nEXPORT NIFTI CT\n194\nEXPORT NIFTI PT\nEXPORT NIFTI CT\n195\nEXPORT NIFTI PT\nEXPORT NIFTI CT\n196\nEXPORT NIFTI PT\nEXPORT NIFTI CT\n197\nEXPORT NIFTI PT\nEXPORT NIFTI CT\n198\nEXPORT NIFTI PT\nEXPORT NIFTI CT\n199\nEXPORT NIFTI PT\nEXPORT NIFTI CT\n200\nEXPORT NIFTI PT\nEXPORT NIFTI CT\n201\nEXPORT NIFTI PT\nEXPORT NIFTI CT\n202\nEXPORT NIFTI PT\nEXPORT NIFTI CT\n203\nEXPORT NIFTI PT\nEXPORT NIFTI CT\n204\nEXPORT NIFTI PT\nEXPORT NIFTI CT\n205\nEXPORT NIFTI PT\nEXPORT NIFTI CT\n206\nEXPORT NIFTI PT\nEXPORT NIFTI CT\n207\nEXPORT NIFTI PT\nEXPORT NIFTI CT\n208\nEXPORT NIFTI PT\nEXPORT NIFTI CT\n209\nEXPORT NIFTI PT\nEXPORT NIFTI CT\n210\nEXPORT NIFTI PT\nEXPORT NIFTI CT\n211\nEXPORT NIFTI PT\nEXPORT NIFTI CT\n212\nEXPORT NIFTI PT\nEXPORT NIFTI CT\n213\nEXPORT NIFTI PT\nEXPORT NIFTI CT\n214\nEXPORT NIFTI PT\nEXPORT NIFTI CT\n215\nEXPORT NIFTI PT\nEXPORT NIFTI CT\n216\nEXPORT NIFTI PT\nEXPORT NIFTI CT\n217\nEXPORT NIFTI PT\nEXPORT NIFTI CT\n218\nEXPORT NIFTI PT\nEXPORT NIFTI CT\n219\nEXPORT NIFTI PT\nEXPORT NIFTI CT\n220\nEXPORT NIFTI PT\nEXPORT NIFTI CT\n221\nEXPORT NIFTI PT\nEXPORT NIFTI CT\n222\nEXPORT NIFTI PT\nEXPORT NIFTI CT\n223\nEXPORT NIFTI PT\nEXPORT NIFTI CT\n224\nEXPORT NIFTI PT\nEXPORT NIFTI CT\n225\nEXPORT NIFTI PT\nEXPORT NIFTI CT\n226\nEXPORT NIFTI PT\nEXPORT NIFTI CT\n227\nEXPORT NIFTI PT\nEXPORT NIFTI CT\n228\nEXPORT NIFTI PT\nEXPORT NIFTI CT\n229\nEXPORT NIFTI PT\nEXPORT NIFTI CT\n230\nEXPORT NIFTI PT\nEXPORT NIFTI CT\n231\nEXPORT NIFTI PT\nEXPORT NIFTI CT\n232\nEXPORT NIFTI PT\nEXPORT NIFTI CT\n233\nEXPORT NIFTI PT\nEXPORT NIFTI CT\n234\nEXPORT NIFTI PT\nEXPORT NIFTI CT\n235\nEXPORT NIFTI PT\nEXPORT NIFTI CT\n236\nEXPORT NIFTI PT\nEXPORT NIFTI CT\n237\nEXPORT NIFTI PT\nEXPORT NIFTI CT\n238\nEXPORT NIFTI PT\nEXPORT NIFTI CT\n239\nEXPORT NIFTI PT\nEXPORT NIFTI CT\n240\nEXPORT NIFTI PT\nEXPORT NIFTI CT\n241\nEXPORT NIFTI PT\nEXPORT NIFTI CT\n242\nEXPORT NIFTI PT\nEXPORT NIFTI CT\n243\nEXPORT NIFTI PT\nEXPORT NIFTI CT\n244\nEXPORT NIFTI PT\nEXPORT NIFTI CT\n245\nEXPORT NIFTI PT\nEXPORT NIFTI CT\n246\nEXPORT NIFTI PT\nEXPORT NIFTI CT\n247\nEXPORT NIFTI PT\nEXPORT NIFTI CT\n248\nEXPORT NIFTI PT\nEXPORT NIFTI CT\n249\nEXPORT NIFTI PT\nEXPORT NIFTI CT\n250\nEXPORT NIFTI PT\nEXPORT NIFTI CT\n251\nEXPORT NIFTI PT\nEXPORT NIFTI CT\n252\nEXPORT NIFTI PT\nEXPORT NIFTI CT\n253\nEXPORT NIFTI PT\nEXPORT NIFTI CT\n254\nEXPORT NIFTI PT\nEXPORT NIFTI CT\n255\nEXPORT NIFTI PT\nEXPORT NIFTI CT\n256\nEXPORT NIFTI PT\nEXPORT NIFTI CT\n257\nEXPORT NIFTI PT\nEXPORT NIFTI CT\n258\nEXPORT NIFTI PT\nEXPORT NIFTI CT\n259\nEXPORT NIFTI PT\nEXPORT NIFTI CT\n260\nEXPORT NIFTI PT\nEXPORT NIFTI CT\n261\nEXPORT NIFTI PT\nEXPORT NIFTI CT\n262\nEXPORT NIFTI PT\nEXPORT NIFTI CT\n263\nEXPORT NIFTI PT\nEXPORT NIFTI CT\n264\nEXPORT NIFTI PT\nEXPORT NIFTI CT\n265\nEXPORT NIFTI PT\nEXPORT NIFTI CT\n266\nEXPORT NIFTI PT\nEXPORT NIFTI CT\n267\nEXPORT NIFTI PT\nEXPORT NIFTI CT\n268\nEXPORT NIFTI PT\nEXPORT NIFTI CT\n269\nEXPORT NIFTI PT\nEXPORT NIFTI CT\n270\nEXPORT NIFTI PT\nEXPORT NIFTI CT\n271\nEXPORT NIFTI PT\nEXPORT NIFTI CT\n272\nEXPORT NIFTI PT\nEXPORT NIFTI CT\n273\nEXPORT NIFTI PT\nEXPORT NIFTI CT\n274\nEXPORT NIFTI PT\nEXPORT NIFTI CT\n275\nEXPORT NIFTI PT\nEXPORT NIFTI CT\n276\nEXPORT NIFTI PT\nEXPORT NIFTI CT\n277\nEXPORT NIFTI PT\nEXPORT NIFTI CT\n278\nEXPORT NIFTI PT\nEXPORT NIFTI CT\n279\nEXPORT NIFTI PT\nEXPORT NIFTI CT\n280\nEXPORT NIFTI PT\nEXPORT NIFTI CT\n281\nEXPORT NIFTI PT\n['/media/deeplearning/Elements/GAINED_Validated_DICOMS/11011101391010/1.2.250.1.59.453.859.92444169.3704.1405064502.5.1.1/1.2.250.1.59.453.859.92444169.3704.1405064502.5.2.5/1.2.250.1.59.453.859.92444169.3704.1405064502.5.2.5', 'CT', '/media/deeplearning/Elements/GAINED_Validated_DICOMS/11011101391010/1.2.250.1.59.453.859.92444169.3704.1405064502.5.1.1/1.2.250.1.59.453.859.92444169.3704.1405064502.5.2.4/1.2.250.1.59.453.859.92444169.3704.1405064502.5.2.4', 'PT', '1.2.250.1.59.453.859.92444169.3704.1405064502.5.1.1', '11011101391010']\nin method 'Image_SetSpacing', argument 2 of type 'std::vector< double,std::allocator< double > > const &'\n282\nEXPORT NIFTI PT\nEXPORT NIFTI CT\n283\nEXPORT NIFTI PT\nEXPORT NIFTI CT\n284\nEXPORT NIFTI PT\nEXPORT NIFTI CT\n285\nEXPORT NIFTI PT\nEXPORT NIFTI CT\n286\nEXPORT NIFTI PT\nEXPORT NIFTI CT\n287\nEXPORT NIFTI PT\nEXPORT NIFTI CT\n288\nEXPORT NIFTI PT\nEXPORT NIFTI CT\n289\nEXPORT NIFTI PT\nEXPORT NIFTI CT\n290\nEXPORT NIFTI PT\nEXPORT NIFTI CT\n291\nEXPORT NIFTI PT\nEXPORT NIFTI CT\n292\nEXPORT NIFTI PT\nEXPORT NIFTI CT\n293\nEXPORT NIFTI PT\nEXPORT NIFTI CT\n294\nEXPORT NIFTI PT\nEXPORT NIFTI CT\n295\nEXPORT NIFTI PT\nEXPORT NIFTI CT\n296\nEXPORT NIFTI PT\nEXPORT NIFTI CT\n297\nEXPORT NIFTI PT\nEXPORT NIFTI CT\n298\nEXPORT NIFTI PT\nEXPORT NIFTI CT\n299\nEXPORT NIFTI PT\nEXPORT NIFTI CT\n300\nEXPORT NIFTI PT\nEXPORT NIFTI CT\n301\nEXPORT NIFTI PT\nEXPORT NIFTI CT\n302\nEXPORT NIFTI PT\nEXPORT NIFTI CT\n303\nEXPORT NIFTI PT\nEXPORT NIFTI CT\n304\nEXPORT NIFTI PT\nEXPORT NIFTI CT\n305\nEXPORT NIFTI PT\nEXPORT NIFTI CT\n306\nEXPORT NIFTI PT\nEXPORT NIFTI CT\n307\nEXPORT NIFTI PT\nEXPORT NIFTI CT\n308\nEXPORT NIFTI PT\nEXPORT NIFTI CT\n309\nEXPORT NIFTI PT\nEXPORT NIFTI CT\n310\nEXPORT NIFTI PT\nEXPORT NIFTI CT\n311\nEXPORT NIFTI PT\nEXPORT NIFTI CT\n312\nEXPORT NIFTI PT\nEXPORT NIFTI CT\n313\nEXPORT NIFTI PT\nEXPORT NIFTI CT\n314\nEXPORT NIFTI PT\nEXPORT NIFTI CT\n315\nEXPORT NIFTI PT\nEXPORT NIFTI CT\n316\nEXPORT NIFTI PT\nEXPORT NIFTI CT\n317\nEXPORT NIFTI PT\nEXPORT NIFTI CT\n318\nEXPORT NIFTI PT\nEXPORT NIFTI CT\n319\nEXPORT NIFTI PT\nEXPORT NIFTI CT\n320\nEXPORT NIFTI PT\nEXPORT NIFTI CT\n321\nEXPORT NIFTI PT\nEXPORT NIFTI CT\n322\nEXPORT NIFTI PT\nEXPORT NIFTI CT\n323\nEXPORT NIFTI PT\nEXPORT NIFTI CT\n324\nEXPORT NIFTI PT\nEXPORT NIFTI CT\n325\nEXPORT NIFTI PT\nEXPORT NIFTI CT\n326\nEXPORT NIFTI PT\nEXPORT NIFTI CT\n327\nEXPORT NIFTI PT\nEXPORT NIFTI CT\n328\nEXPORT NIFTI PT\nEXPORT NIFTI CT\n329\nEXPORT NIFTI PT\nEXPORT NIFTI CT\n330\nEXPORT NIFTI PT\nEXPORT NIFTI CT\n331\nEXPORT NIFTI PT\nEXPORT NIFTI CT\n332\nEXPORT NIFTI PT\nEXPORT NIFTI CT\n333\nEXPORT NIFTI PT\n['/media/deeplearning/Elements/GAINED_Validated_DICOMS/11011101621002/1.2.840.113619.2.290.3.2831155579.132.1437370103.475/1.2.840.113619.2.290.3.2831155579.132.1437370103.818/1.2.840.113619.2.290.3.2831155579.132.1437370103.818', 'PT', '/media/deeplearning/Elements/GAINED_Validated_DICOMS/11011101621002/1.2.840.113619.2.290.3.2831155579.132.1437370103.475/1.2.840.113619.2.290.3.2831155579.132.1437370103.480.3/1.2.840.113619.2.290.3.2831155579.132.1437370103.480.3', 'CT', '1.2.840.113619.2.290.3.2831155579.132.1437370103.475', '11011101621002']\nin method 'Image_SetSpacing', argument 2 of type 'std::vector< double,std::allocator< double > > const &'\n334\nEXPORT NIFTI PT\nEXPORT NIFTI CT\n335\nEXPORT NIFTI PT\nEXPORT NIFTI CT\n336\nEXPORT NIFTI PT\nEXPORT NIFTI CT\n337\nEXPORT NIFTI PT\nEXPORT NIFTI CT\n338\nEXPORT NIFTI PT\nEXPORT NIFTI CT\n339\nEXPORT NIFTI PT\nEXPORT NIFTI CT\n340\nEXPORT NIFTI PT\nEXPORT NIFTI CT\n341\nEXPORT NIFTI PT\nEXPORT NIFTI CT\n342\nEXPORT NIFTI PT\nEXPORT NIFTI CT\n343\nEXPORT NIFTI PT\nEXPORT NIFTI CT\n344\nEXPORT NIFTI PT\nEXPORT NIFTI CT\n345\nEXPORT NIFTI PT\nEXPORT NIFTI CT\n346\nEXPORT NIFTI PT\nEXPORT NIFTI CT\n347\nEXPORT NIFTI PT\nEXPORT NIFTI CT\n348\nEXPORT NIFTI PT\nEXPORT NIFTI CT\n349\nEXPORT NIFTI PT\nEXPORT NIFTI CT\n350\nEXPORT NIFTI PT\nEXPORT NIFTI CT\n351\nEXPORT NIFTI PT\nEXPORT NIFTI CT\n352\nEXPORT NIFTI PT\nEXPORT NIFTI CT\n353\nEXPORT NIFTI PT\nEXPORT NIFTI CT\n354\nEXPORT NIFTI PT\nEXPORT NIFTI CT\n355\nEXPORT NIFTI PT\nEXPORT NIFTI CT\n356\nEXPORT NIFTI PT\nEXPORT NIFTI CT\n357\nEXPORT NIFTI PT\nEXPORT NIFTI CT\n358\nEXPORT NIFTI PT\nEXPORT NIFTI CT\n359\nEXPORT NIFTI PT\nEXPORT NIFTI CT\n360\nEXPORT NIFTI PT\nEXPORT NIFTI CT\n361\nEXPORT NIFTI PT\nEXPORT NIFTI CT\n362\nEXPORT NIFTI PT\nEXPORT NIFTI CT\n363\nEXPORT NIFTI PT\nEXPORT NIFTI CT\n364\nEXPORT NIFTI PT\nEXPORT NIFTI CT\n365\nEXPORT NIFTI PT\nEXPORT NIFTI CT\n366\nEXPORT NIFTI PT\nEXPORT NIFTI CT\n367\nEXPORT NIFTI PT\nEXPORT NIFTI CT\n368\nEXPORT NIFTI PT\nEXPORT NIFTI CT\n369\nEXPORT NIFTI PT\nEXPORT NIFTI CT\n370\nEXPORT NIFTI PT\nEXPORT NIFTI CT\n371\nEXPORT NIFTI PT\nEXPORT NIFTI CT\n372\nEXPORT NIFTI PT\nEXPORT NIFTI CT\n373\nEXPORT NIFTI PT\nEXPORT NIFTI CT\n374\nEXPORT NIFTI PT\nEXPORT NIFTI CT\n375\nEXPORT NIFTI PT\nEXPORT NIFTI CT\n376\nEXPORT NIFTI PT\nEXPORT NIFTI CT\n377\nEXPORT NIFTI PT\nEXPORT NIFTI CT\n378\nEXPORT NIFTI PT\nEXPORT NIFTI CT\n379\nEXPORT NIFTI PT\nEXPORT NIFTI CT\n380\nEXPORT NIFTI PT\nEXPORT NIFTI CT\n381\nEXPORT NIFTI PT\nEXPORT NIFTI CT\n382\nEXPORT NIFTI PT\nEXPORT NIFTI CT\n383\nEXPORT NIFTI PT\n['/media/deeplearning/Elements/GAINED_Validated_DICOMS/11011102871001/1.2.840.113619.2.290.3.50988289.741.1436767613.923/1.2.840.113619.2.290.3.50988289.741.1436767614.230/1.2.840.113619.2.290.3.50988289.741.1436767614.230', 'PT', '/media/deeplearning/Elements/GAINED_Validated_DICOMS/11011102871001/1.2.840.113619.2.290.3.50988289.741.1436767613.923/1.2.840.113619.2.290.3.50988289.741.1436767613.928.3/1.2.840.113619.2.290.3.50988289.741.1436767613.928.3', 'CT', '1.2.840.113619.2.290.3.50988289.741.1436767613.923', '11011102871001']\nin method 'Image_SetSpacing', argument 2 of type 'std::vector< double,std::allocator< double > > const &'\n384\nEXPORT NIFTI PT\nEXPORT NIFTI CT\n385\nEXPORT NIFTI PT\nEXPORT NIFTI CT\n386\nEXPORT NIFTI PT\nEXPORT NIFTI CT\n387\nEXPORT NIFTI PT\nEXPORT NIFTI CT\n388\nEXPORT NIFTI PT\nEXPORT NIFTI CT\n389\nEXPORT NIFTI PT\nEXPORT NIFTI CT\n390\nEXPORT NIFTI PT\nEXPORT NIFTI CT\n391\nEXPORT NIFTI PT\nEXPORT NIFTI CT\n392\nEXPORT NIFTI PT\nEXPORT NIFTI CT\n393\nEXPORT NIFTI PT\nEXPORT NIFTI CT\n394\nEXPORT NIFTI PT\nEXPORT NIFTI CT\n395\nEXPORT NIFTI PT\nEXPORT NIFTI CT\n396\nEXPORT NIFTI PT\nEXPORT NIFTI CT\n397\nEXPORT NIFTI PT\nEXPORT NIFTI CT\n398\nEXPORT NIFTI PT\nEXPORT NIFTI CT\n399\nEXPORT NIFTI PT\nEXPORT NIFTI CT\n400\nEXPORT NIFTI PT\nEXPORT NIFTI CT\n401\nEXPORT NIFTI PT\nEXPORT NIFTI CT\n402\nEXPORT NIFTI PT\nEXPORT NIFTI CT\n403\nEXPORT NIFTI PT\nEXPORT NIFTI CT\n404\nEXPORT NIFTI PT\nEXPORT NIFTI CT\n405\nEXPORT NIFTI PT\nEXPORT NIFTI CT\n406\nEXPORT NIFTI PT\nEXPORT NIFTI CT\n407\nEXPORT NIFTI PT\nEXPORT NIFTI CT\n408\nEXPORT NIFTI PT\nEXPORT NIFTI CT\n409\nEXPORT NIFTI PT\nEXPORT NIFTI CT\n410\nEXPORT NIFTI PT\nEXPORT NIFTI CT\n411\nEXPORT NIFTI PT\nEXPORT NIFTI CT\n412\nEXPORT NIFTI PT\nEXPORT NIFTI CT\n413\nEXPORT NIFTI PT\nEXPORT NIFTI CT\n414\nEXPORT NIFTI PT\nEXPORT NIFTI CT\n415\nEXPORT NIFTI PT\nEXPORT NIFTI CT\n416\nEXPORT NIFTI PT\nEXPORT NIFTI CT\n417\nEXPORT NIFTI PT\nEXPORT NIFTI CT\n418\nEXPORT NIFTI PT\nEXPORT NIFTI CT\n419\nEXPORT NIFTI PT\nEXPORT NIFTI CT\n420\nEXPORT NIFTI PT\nEXPORT NIFTI CT\n421\nEXPORT NIFTI PT\nEXPORT NIFTI CT\n422\nEXPORT NIFTI PT\nEXPORT NIFTI CT\n423\nEXPORT NIFTI PT\nEXPORT NIFTI CT\n424\nEXPORT NIFTI PT\nEXPORT NIFTI CT\n425\nEXPORT NIFTI PT\nEXPORT NIFTI CT\n426\nEXPORT NIFTI PT\nEXPORT NIFTI CT\n427\nEXPORT NIFTI PT\nEXPORT NIFTI CT\n428\nEXPORT NIFTI PT\nEXPORT NIFTI CT\n429\nEXPORT NIFTI PT\nEXPORT NIFTI CT\n430\nEXPORT NIFTI PT\nEXPORT NIFTI CT\n431\nEXPORT NIFTI PT\nEXPORT NIFTI CT\n432\nEXPORT NIFTI PT\nEXPORT NIFTI CT\n433\nEXPORT NIFTI PT\nEXPORT NIFTI CT\n434\nEXPORT NIFTI PT\nEXPORT NIFTI CT\n435\nEXPORT NIFTI PT\nEXPORT NIFTI CT\n436\nEXPORT NIFTI PT\nEXPORT NIFTI CT\n437\nEXPORT NIFTI PT\nEXPORT NIFTI CT\n438\nEXPORT NIFTI PT\nEXPORT NIFTI CT\n439\nEXPORT NIFTI PT\nEXPORT NIFTI CT\n440\nEXPORT NIFTI PT\nEXPORT NIFTI CT\n441\nEXPORT NIFTI PT\nEXPORT NIFTI CT\n442\nEXPORT NIFTI PT\nEXPORT NIFTI CT\n443\nEXPORT NIFTI PT\nEXPORT NIFTI CT\n444\nEXPORT NIFTI PT\nEXPORT NIFTI CT\n445\nEXPORT NIFTI PT\nEXPORT NIFTI CT\n446\nEXPORT NIFTI PT\nEXPORT NIFTI CT\n447\nEXPORT NIFTI PT\nEXPORT NIFTI CT\n448\nEXPORT NIFTI PT\nEXPORT NIFTI CT\n449\nEXPORT NIFTI PT\nEXPORT NIFTI CT\n450\nEXPORT NIFTI PT\nEXPORT NIFTI CT\n451\nEXPORT NIFTI PT\nEXPORT NIFTI CT\n452\nEXPORT NIFTI PT\nEXPORT NIFTI CT\n453\nEXPORT NIFTI PT\nEXPORT NIFTI CT\n454\nEXPORT NIFTI PT\nEXPORT NIFTI CT\n455\nEXPORT NIFTI PT\nEXPORT NIFTI CT\n456\nEXPORT NIFTI PT\nEXPORT NIFTI CT\n457\nEXPORT NIFTI PT\nEXPORT NIFTI CT\n458\nEXPORT NIFTI PT\nEXPORT NIFTI CT\n459\nEXPORT NIFTI PT\nEXPORT NIFTI CT\n460\nEXPORT NIFTI PT\nEXPORT NIFTI CT\n461\nEXPORT NIFTI PT\nEXPORT NIFTI CT\n462\nEXPORT NIFTI PT\nEXPORT NIFTI CT\n463\nEXPORT NIFTI PT\nEXPORT NIFTI CT\n464\nEXPORT NIFTI PT\nEXPORT NIFTI CT\n465\nEXPORT NIFTI PT\nEXPORT NIFTI CT\n466\nEXPORT NIFTI PT\nEXPORT NIFTI CT\n467\nEXPORT NIFTI PT\nEXPORT NIFTI CT\n468\nEXPORT NIFTI PT\nEXPORT NIFTI CT\n469\nEXPORT NIFTI PT\nEXPORT NIFTI CT\n470\nEXPORT NIFTI PT\nEXPORT NIFTI CT\n471\nEXPORT NIFTI PT\nEXPORT NIFTI CT\n472\nEXPORT NIFTI PT\nEXPORT NIFTI CT\n473\nEXPORT NIFTI PT\nEXPORT NIFTI CT\n474\nEXPORT NIFTI PT\nEXPORT NIFTI CT\n475\nEXPORT NIFTI PT\nEXPORT NIFTI CT\n476\nEXPORT NIFTI PT\nEXPORT NIFTI CT\n477\nEXPORT NIFTI PT\nEXPORT NIFTI CT\n478\nEXPORT NIFTI PT\nEXPORT NIFTI CT\n479\nEXPORT NIFTI PT\nEXPORT NIFTI CT\n480\nEXPORT NIFTI PT\nEXPORT NIFTI CT\n481\nEXPORT NIFTI PT\nEXPORT NIFTI CT\n482\nEXPORT NIFTI PT\nEXPORT NIFTI CT\n483\nEXPORT NIFTI PT\nEXPORT NIFTI CT\n484\nEXPORT NIFTI PT\n['/media/deeplearning/Elements/GAINED_Validated_DICOMS/51011101871007/1.2.250.1.38.2.1.102.140401085147.103146268/1.3.12.2.1107.5.99.1.123456.2.0.199569714756218/1.3.12.2.1107.5.99.1.123456.2.0.199569714756218', 'PT', '/media/deeplearning/Elements/GAINED_Validated_DICOMS/51011101871007/1.2.250.1.38.2.1.102.140401085147.103146268/1.3.12.2.1107.5.1.4.41145.4.0.1063997318802063/1.3.12.2.1107.5.1.4.41145.4.0.1063997318802063', 'CT', '1.2.250.1.38.2.1.102.140401085147.103146268', '51011101871007']\nin method 'Image_SetSpacing', argument 2 of type 'std::vector< double,std::allocator< double > > const &'\n485\nEXPORT NIFTI PT\nEXPORT NIFTI CT\n486\nEXPORT NIFTI PT\nEXPORT NIFTI CT\n487\nEXPORT NIFTI PT\nEXPORT NIFTI CT\n488\nEXPORT NIFTI PT\nEXPORT NIFTI CT\n489\nEXPORT NIFTI PT\nEXPORT NIFTI CT\n490\nEXPORT NIFTI PT\nEXPORT NIFTI CT\n491\nEXPORT NIFTI PT\nEXPORT NIFTI CT\n492\nEXPORT NIFTI PT\nEXPORT NIFTI CT\n493\nEXPORT NIFTI PT\nEXPORT NIFTI CT\n494\nEXPORT NIFTI PT\nEXPORT NIFTI CT\n495\nEXPORT NIFTI PT\nEXPORT NIFTI CT\n496\nEXPORT NIFTI PT\nEXPORT NIFTI CT\n497\nEXPORT NIFTI PT\nEXPORT NIFTI CT\n498\nEXPORT NIFTI PT\nEXPORT NIFTI CT\n499\nEXPORT NIFTI PT\nEXPORT NIFTI CT\n500\nEXPORT NIFTI PT\nEXPORT NIFTI CT\n501\nEXPORT NIFTI PT\nEXPORT NIFTI CT\n502\nEXPORT NIFTI PT\nEXPORT NIFTI CT\n503\nEXPORT NIFTI PT\nEXPORT NIFTI CT\n504\nEXPORT NIFTI PT\nEXPORT NIFTI CT\n505\nEXPORT NIFTI PT\nEXPORT NIFTI CT\n506\nEXPORT NIFTI PT\nEXPORT NIFTI CT\n507\nEXPORT NIFTI PT\nEXPORT NIFTI CT\n508\nEXPORT NIFTI PT\nEXPORT NIFTI CT\n509\nEXPORT NIFTI PT\nEXPORT NIFTI CT\n510\nEXPORT NIFTI PT\nEXPORT NIFTI CT\n511\nEXPORT NIFTI PT\nEXPORT NIFTI CT\n512\nEXPORT NIFTI PT\nEXPORT NIFTI CT\n513\nEXPORT NIFTI PT\nEXPORT NIFTI CT\n514\nEXPORT NIFTI PT\nEXPORT NIFTI CT\n515\nEXPORT NIFTI PT\nEXPORT NIFTI CT\n516\nEXPORT NIFTI PT\nEXPORT NIFTI CT\n517\nEXPORT NIFTI PT\nEXPORT NIFTI CT\n518\nEXPORT NIFTI PT\nEXPORT NIFTI CT\n519\nEXPORT NIFTI PT\nEXPORT NIFTI CT\n520\nEXPORT NIFTI PT\nEXPORT NIFTI CT\n521\nEXPORT NIFTI PT\nEXPORT NIFTI CT\n522\nEXPORT NIFTI PT\nEXPORT NIFTI CT\n523\nEXPORT NIFTI PT\nEXPORT NIFTI CT\n524\nEXPORT NIFTI PT\nEXPORT NIFTI CT\n525\nEXPORT NIFTI PT\nEXPORT NIFTI CT\n526\nEXPORT NIFTI PT\nEXPORT NIFTI CT\n527\nEXPORT NIFTI PT\nEXPORT NIFTI CT\n528\nEXPORT NIFTI PT\nEXPORT NIFTI CT\n529\nEXPORT NIFTI PT\nEXPORT NIFTI CT\n530\nEXPORT NIFTI PT\nEXPORT NIFTI CT\n531\nEXPORT NIFTI PT\nEXPORT NIFTI CT\n532\nEXPORT NIFTI PT\nEXPORT NIFTI CT\n533\nEXPORT NIFTI PT\nEXPORT NIFTI CT\n"
    }
   ],
   "source": [
    "#GENERATION NIFTI CT PET DES PET 2/4\n",
    "\n",
    "nifti_directory = '/media/deeplearning/78ca2911-9e9f-4f78-b80a-848024b95f92/GAINED_NIFTI_PET4'\n",
    "\n",
    "error = []\n",
    "for serie in dataset : \n",
    "    print(dataset.index(serie))\n",
    "    try : \n",
    "        if serie[1] == 'PT' : \n",
    "            serie_pt_objet = SeriesPT(serie[0]) \n",
    "            nifti_array = serie_pt_objet.get_numpy_array()\n",
    "            study_uid = serie_pt_objet.get_series_details()['study']['StudyInstanceUID']\n",
    "\n",
    "                    #generation nifti PT\n",
    "            filename_pt = study_uid+'_'+'nifti_'+'PT'+'.nii'\n",
    "            serie_pt_objet.export_nifti(os.path.join(nifti_directory, filename_pt))\n",
    "            print(\"EXPORT NIFTI PT\")\n",
    "                    #generation nifti CT\n",
    "            serie_ct_objet = SeriesCT(serie[2])\n",
    "            serie_ct_objet.get_numpy_array()\n",
    "            filename_ct = study_uid+'_'+'nifti_'+'CT'+'.nii'\n",
    "            serie_ct_objet.export_nifti(os.path.join(nifti_directory, filename_ct))\n",
    "            print(\"EXPORT NIFTI CT\")\n",
    "\n",
    "\n",
    "\n",
    "        else : \n",
    "            serie_pt_objet = SeriesPT(serie[2]) \n",
    "            nifti_array = serie_pt_objet.get_numpy_array()\n",
    "            study_uid = serie_pt_objet.get_series_details()['study']['StudyInstanceUID']\n",
    "\n",
    "            \n",
    "                    #generation nifti PT\n",
    "            filename_pt = study_uid+'_'+'nifti_'+'PT'+'.nii'\n",
    "            serie_pt_objet.export_nifti(os.path.join(nifti_directory, filename_pt))\n",
    "            print(\"EXPORT NIFTI PT\")\n",
    "                    #generation nifti CT\n",
    "            serie_ct_objet = SeriesCT(serie[0])\n",
    "            serie_ct_objet.get_numpy_array()\n",
    "            filename_ct = study_uid+'_'+'nifti_'+'CT'+'.nii'\n",
    "            serie_ct_objet.export_nifti(os.path.join(nifti_directory, filename_ct))\n",
    "            print(\"EXPORT NIFTI CT\")\n",
    " \n",
    "\n",
    "    except Exception as err : \n",
    "        print(serie)\n",
    "        print(err)\n",
    "        error.append(serie)"
   ]
  },
  {
   "cell_type": "code",
   "execution_count": null,
   "metadata": {},
   "outputs": [],
   "source": []
  }
 ],
 "metadata": {
  "file_extension": ".py",
  "kernelspec": {
   "display_name": "Python 3",
   "language": "python",
   "name": "python3"
  },
  "language_info": {
   "codemirror_mode": {
    "name": "ipython",
    "version": 3
   },
   "file_extension": ".py",
   "mimetype": "text/x-python",
   "name": "python",
   "nbconvert_exporter": "python",
   "pygments_lexer": "ipython3",
   "version": "3.8.2-final"
  },
  "mimetype": "text/x-python",
  "name": "python",
  "npconvert_exporter": "python",
  "pygments_lexer": "ipython3",
  "version": 3
 },
 "nbformat": 4,
 "nbformat_minor": 2
}