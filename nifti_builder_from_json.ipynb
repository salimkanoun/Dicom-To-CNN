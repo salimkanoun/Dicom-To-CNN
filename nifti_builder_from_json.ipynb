{
 "cells": [
  {
   "cell_type": "code",
   "execution_count": 1,
   "metadata": {},
   "outputs": [],
   "source": [
    "import json\n",
    "import os\n",
    "from library_dicom.dicom_processor.model.Series import Series \n",
    "from library_dicom.dicom_processor.model.SeriesPT import SeriesPT\n",
    "from library_dicom.dicom_processor.model.SeriesCT import SeriesCT\n",
    "from library_dicom.dicom_processor.model.csv_reader.MaskBuilder import MaskBuilder\n",
    "\n",
    "from library_dicom.dicom_processor.tools.folders import *\n",
    "\n",
    "import numpy as np\n",
    "import SimpleITK as sitk"
   ]
  },
  {
   "cell_type": "code",
   "execution_count": 2,
   "metadata": {},
   "outputs": [],
   "source": [
    "#LIST FROM PARSE_FILTERED_DICOM_DATASET"
   ]
  },
  {
   "cell_type": "code",
   "execution_count": 2,
   "metadata": {},
   "outputs": [],
   "source": [
    "nifti_directory = '/media/salim/DD 2To/AHL2011_NIFTI'\n",
    "\n",
    "csv_directory = '/media/salim/DD 2To/AHL2011_CSV_DATA/AHL2011-CSV'"
   ]
  },
  {
   "cell_type": "code",
   "execution_count": 4,
   "metadata": {},
   "outputs": [],
   "source": [
    "json_path = '/media/salim/DD 2To/AHL2011_NIFTI/AHL2011_list_path_csv.json'"
   ]
  },
  {
   "cell_type": "code",
   "execution_count": 8,
   "metadata": {},
   "outputs": [],
   "source": [
    "data = []\n",
    "with open(json_path) as json_file : \n",
    "    reader = json.load(json_file)\n",
    "    for info in reader :\n",
    "        for path in reader[info] :\n",
    "            data.append(path)"
   ]
  },
  {
   "cell_type": "code",
   "execution_count": 9,
   "metadata": {},
   "outputs": [],
   "source": [
    "dataset = []\n",
    "for i in range(0,len(data),5):\n",
    "    subliste = []\n",
    "    subliste.append(data[i])\n",
    "    subliste.append(data[i+1])\n",
    "    subliste.append(data[i+2])\n",
    "    subliste.append(data[i+3])\n",
    "    subliste.append(data[i+4])\n",
    "    dataset.append(subliste)"
   ]
  },
  {
   "cell_type": "code",
   "execution_count": 10,
   "metadata": {},
   "outputs": [
    {
     "name": "stdout",
     "output_type": "stream",
     "text": "617\n"
    }
   ],
   "source": [
    "print(len(dataset))\n"
   ]
  },
  {
   "cell_type": "code",
   "execution_count": null,
   "metadata": {},
   "outputs": [],
   "source": [
    "#GENERE LA LISTE DES JSON AVEC UN UNCONSTANT SPACING, SAVE IT AS JSON "
   ]
  },
  {
   "cell_type": "code",
   "execution_count": null,
   "metadata": {},
   "outputs": [],
   "source": [
    "\n",
    "from library_dicom.dicom_processor.tools.folders import *\n",
    "liste_unconstant_z_spacing = []\n",
    "for liste in dataset : \n",
    "    print(dataset.index(liste))\n",
    "    for i in range(0,4,2) : \n",
    "        serie_objet = Series(liste[i])\n",
    "        serie_objet.get_numpy_array()\n",
    "        if serie_objet.get_z_spacing() == 'Unconstant Spacing' : \n",
    "            print(liste)\n",
    "            liste_unconstant_z_spacing.append(liste)\n",
    "            list_z_spacing = serie_objet.calculate_z_spacing()\n",
    "            print(list_z_spacing)\n",
    "            #liste_unconstant_z_spacing.append(list_z_spacing)\n",
    "\n",
    "\n",
    "#save it as json\n",
    "\n",
    "write_json_file('/media/salim/DD 2To/AHL2011_NIFTI', 'AHL2011_problem_unconstant_spacing', liste_unconstant_z_spacing)"
   ]
  },
  {
   "cell_type": "code",
   "execution_count": null,
   "metadata": {},
   "outputs": [],
   "source": [
    "from library_dicom.dicom_processor.tools.folders import *\n",
    "write_json_file('/media/salim/DD 2To/AHL2011_NIFTI', 'AHL2011_problem_unconstant_spacing', liste_unconstant_z_spacing)"
   ]
  },
  {
   "cell_type": "code",
   "execution_count": null,
   "metadata": {},
   "outputs": [],
   "source": [
    "#On enleve les series avec un unconstant spacing \n",
    "for serie in liste_unconstant_z_spacing : \n",
    "    dataset.remove(serie)"
   ]
  },
  {
   "cell_type": "code",
   "execution_count": null,
   "metadata": {},
   "outputs": [],
   "source": [
    "#SAVE AS JSON THE FINAL LIST WITHOUT UNCONSTANT SPACING ERROR"
   ]
  },
  {
   "cell_type": "code",
   "execution_count": null,
   "metadata": {},
   "outputs": [],
   "source": [
    "from library_dicom.dicom_processor.tools.folders import *\n",
    "write_json_file('/media/salim/DD 2To/AHL2011_NIFTI', 'AHL2011_final_list_dataset', dataset)\n"
   ]
  },
  {
   "cell_type": "code",
   "execution_count": null,
   "metadata": {},
   "outputs": [],
   "source": [
    "print(len(dataset)) #589\n"
   ]
  },
  {
   "cell_type": "code",
   "execution_count": 30,
   "metadata": {},
   "outputs": [
    {
     "name": "stdout",
     "output_type": "stream",
     "text": "589\n"
    }
   ],
   "source": [
    "#RECHARGEZ LE JSON AVEC LES SERIES \n",
    "json_path = '/media/salim/DD 2To/AHL2011_NIFTI/AHL2011_final_list_dataset.json'\n",
    "dataset = []\n",
    "with open(json_path) as json_file : \n",
    "    reader = json.load(json_file)\n",
    "    for info in reader :\n",
    "        dataset.append(info)\n",
    "\n",
    "print(len(dataset))"
   ]
  },
  {
   "cell_type": "code",
   "execution_count": null,
   "metadata": {},
   "outputs": [],
   "source": [
    "#IF MASK IS CORRECT => GENERATE NIFTI \n",
    "#IF PHILIPS, OR MASK FALSE => PUT SERIE IN A NEW LISTE "
   ]
  },
  {
   "cell_type": "code",
   "execution_count": null,
   "metadata": {},
   "outputs": [],
   "source": [
    "untreated_liste = []\n",
    "#CT et PT pas dans le même ordre suivant les séries \n",
    "#voir pour les ranger avant PT en premier puis CT \n",
    "#On traite meme les philips\n",
    "#On met les erreurs de coté\n",
    "#si erreur sur les ellipse on tolere\n",
    "#si erreur polygone alors faut checker\n",
    "\n",
    "\n",
    "\n",
    "#error = []\n",
    "\n",
    "\n",
    "for serie in dataset : \n",
    "    try : \n",
    "        print(serie)\n",
    "        print(dataset.index(serie))\n",
    "        if serie[1] == 'PT' : \n",
    "            serie_pt_objet = SeriesPT(serie[0])\n",
    "            manufacturer = serie_pt_objet.get_series_details()['series']['Manufacturer'] \n",
    "            if 'philips' in manufacturer.lower() :\n",
    "                untreated_liste.append(serie)\n",
    "            else : \n",
    "                nifti_array = serie_pt_objet.get_numpy_array()\n",
    "                study_uid = serie_pt_objet.get_series_details()['study']['StudyInstanceUID']\n",
    "                size_matrix = serie_pt_objet.get_size_matrix()\n",
    "                mask_objet = MaskBuilder(os.path.join(csv_directory, serie[4]), size_matrix)\n",
    "                mask_4D = mask_objet.mask_array\n",
    "                if mask_objet.is_correct_suv(nifti_array) == True : #si mask correct \n",
    "                    print(\"MASK CORRECT\")\n",
    "                    #generation nifti PT\n",
    "                    filename_pt = study_uid+'_'+'nifti_'+'PT'+'.nii'\n",
    "                    serie_pt_objet.export_nifti(os.path.join(nifti_directory, filename_pt))\n",
    "                    print(\"EXPORT NIFTI PT\")\n",
    "                    #generation nifti CT\n",
    "                    serie_ct_objet = SeriesCT(serie[2])\n",
    "                    serie_ct_objet.get_numpy_array()\n",
    "                    filename_ct = study_uid+'_'+'nifti_'+'CT'+'.nii'\n",
    "                    serie_ct_objet.export_nifti(os.path.join(nifti_directory, filename_ct))\n",
    "                    print(\"EXPORT NIFTI CT\")\n",
    "                    #generation nifti mask\n",
    "                    filename_mask = study_uid+'_'+'nifti_'+'mask'+'.nii'\n",
    "                    serie_pt_objet.export_nifti(os.path.join(nifti_directory, filename_mask), mask_4D)\n",
    "                    print(\"EXPORT NIFTI MASK\")\n",
    "                else : \n",
    "                    untreated_liste.append(serie)\n",
    "        else : \n",
    "            serie_pt_objet = SeriesPT(serie[2])\n",
    "            manufacturer = serie_pt_objet.get_series_details()['series']['Manufacturer'] \n",
    "            if 'philips' in manufacturer.lower() :\n",
    "                untreated_liste.append(serie)\n",
    "            else : \n",
    "                nifti_array = serie_pt_objet.get_numpy_array()\n",
    "                study_uid = serie_pt_objet.get_series_details()['study']['StudyInstanceUID']\n",
    "                size_matrix = serie_pt_objet.get_size_matrix()\n",
    "                mask_objet = MaskBuilder(os.path.join(csv_directory, serie[4]), size_matrix)\n",
    "                mask_4D = mask_objet.mask_array\n",
    "                if mask_objet.is_correct_suv(nifti_array) == True : #si mask correct \n",
    "                    print(\"MASK CORRECT\")\n",
    "                    #generation nifti PT\n",
    "                    filename_pt = study_uid+'_'+'nifti_'+'PT'+'.nii'\n",
    "                    serie_pt_objet.export_nifti(os.path.join(nifti_directory, filename_pt))\n",
    "                    print(\"EXPORT NIFTI PT\")\n",
    "                     #generation nifti CT\n",
    "                    serie_ct_objet = SeriesCT(serie[0])\n",
    "                    serie_ct_objet.get_numpy_array()\n",
    "                    filename_ct = study_uid+'_'+'nifti_'+'CT'+'.nii'\n",
    "                    serie_ct_objet.export_nifti(os.path.join(nifti_directory, filename_ct))\n",
    "                    print(\"EXPORT NIFTI CT\")\n",
    "                    #generation nifti mask\n",
    "                    filename_mask = study_uid+'_'+'nifti_'+'mask'+'.nii'\n",
    "                    serie_pt_objet.export_nifti(os.path.join(nifti_directory, filename_mask), mask_4D)\n",
    "                    print(\"EXPORT NIFTI MASK\")\n",
    "                else : \n",
    "                    untreated_liste.append(serie)\n",
    "                   \n",
    "\n",
    "\n",
    "    except Exception as err : \n",
    "        print(err)\n",
    "        #error.append(serie)\n",
    "\n",
    "        \n"
   ]
  },
  {
   "cell_type": "code",
   "execution_count": null,
   "metadata": {},
   "outputs": [],
   "source": [
    "len(untreated_liste) #392 "
   ]
  },
  {
   "cell_type": "code",
   "execution_count": null,
   "metadata": {},
   "outputs": [],
   "source": [
    "#SAVE THE SERIE WITH FALSE MASK \n",
    "from library_dicom.dicom_processor.tools.folders import *\n",
    "write_json_file('/media/salim/DD 2To/AHL2011_NIFTI', 'AHL2011_serie_with_false_mask', untreated_liste)\n",
    "print(len(untreated_liste))"
   ]
  },
  {
   "cell_type": "code",
   "execution_count": null,
   "metadata": {},
   "outputs": [],
   "source": []
  },
  {
   "cell_type": "code",
   "execution_count": null,
   "metadata": {},
   "outputs": [],
   "source": []
  },
  {
   "cell_type": "code",
   "execution_count": null,
   "metadata": {},
   "outputs": [],
   "source": [
    "#IMPORT SERIES WITH FALSE MASK,\n",
    "#CHECK FLIP AXE Z + SMALL ERROR ON ELLIPSE "
   ]
  },
  {
   "cell_type": "code",
   "execution_count": 13,
   "metadata": {},
   "outputs": [
    {
     "name": "stdout",
     "output_type": "stream",
     "text": "392\n"
    }
   ],
   "source": [
    "#importer la liste untreated_serie pour la suite : \n",
    "json_path = '/media/salim/DD 2To/AHL2011_NIFTI/AHL2011_serie_with_false_mask.json'\n",
    "untreated_liste = []\n",
    "with open(json_path) as json_file : \n",
    "    reader = json.load(json_file)\n",
    "    for info in reader :\n",
    "        untreated_liste.append(info)\n",
    "\n",
    "print(len(untreated_liste)) #392"
   ]
  },
  {
   "cell_type": "code",
   "execution_count": 14,
   "metadata": {},
   "outputs": [
    {
     "name": "stdout",
     "output_type": "stream",
     "text": "203\n189\n"
    }
   ],
   "source": [
    "#SEPARE LES SERIES PHILIPS DES AUTRES SERIES UNTREATED\n",
    "philips_serie = []\n",
    "untreated_liste_2 = []\n",
    "for serie in untreated_liste : \n",
    "    #print(untreated_liste.index(serie))\n",
    "    try : \n",
    "        if serie[1] == 'PT' : \n",
    "            serie_pt_objet = SeriesPT(serie[0]) \n",
    "            manufacturer = serie_pt_objet.get_series_details()['series']['Manufacturer'] \n",
    "            #si philips on retraitera plus tard \n",
    "            if 'philips' in manufacturer.lower() :\n",
    "                philips_serie.append(serie)\n",
    "            else : untreated_liste_2.append(serie)\n",
    "\n",
    "        else : \n",
    "            serie_pt_objet = SeriesPT(serie[2]) \n",
    "            manufacturer = serie_pt_objet.get_series_details()['series']['Manufacturer'] \n",
    "            #si philips on retraitera plus tard \n",
    "            if 'philips' in manufacturer.lower() :\n",
    "                philips_serie.append(serie)\n",
    "            else : untreated_liste_2.append(serie)\n",
    "\n",
    "    except Exception as err : \n",
    "        print(serie)\n",
    "        print(err)\n",
    "\n",
    "\n",
    "print(len(philips_serie))\n",
    "write_json_file('/media/salim/DD 2To/AHL2011_NIFTI', 'AHL2011_untreated_philips_serie', philips_serie)\n",
    "print(len(untreated_liste_2))\n",
    "write_json_file('/media/salim/DD 2To/AHL2011_NIFTI', 'AHL2011_untreated_serie', untreated_liste_2)"
   ]
  },
  {
   "cell_type": "code",
   "execution_count": null,
   "metadata": {},
   "outputs": [],
   "source": []
  },
  {
   "cell_type": "code",
   "execution_count": 3,
   "metadata": {},
   "outputs": [
    {
     "name": "stdout",
     "output_type": "stream",
     "text": "189\n"
    }
   ],
   "source": [
    "#IMPORT JSON (serie with false mask, except Philips)\n",
    "json_path = '/media/salim/DD 2To/AHL2011_NIFTI/AHL2011_untreated_serie.json'\n",
    "untreated_liste_2 = []\n",
    "with open(json_path) as json_file : \n",
    "    reader = json.load(json_file)\n",
    "    for info in reader :\n",
    "        untreated_liste_2.append(info)\n",
    "\n",
    "print(len(untreated_liste_2)) #189"
   ]
  },
  {
   "cell_type": "code",
   "execution_count": 4,
   "metadata": {},
   "outputs": [
    {
     "name": "stdout",
     "output_type": "stream",
     "text": "0\nSMALL ERRORS ON ELLIPSE, MASK CORRECT\nEXPORT NIFTI PT\nEXPORT NIFTI CT\nEXPORT NIFTI MASK\n1\nSMALL ERRORS ON ELLIPSE, MASK CORRECT\nEXPORT NIFTI PT\nEXPORT NIFTI CT\nEXPORT NIFTI MASK\n2\nSMALL ERRORS ON ELLIPSE, MASK CORRECT\nEXPORT NIFTI PT\nEXPORT NIFTI CT\nEXPORT NIFTI MASK\n3\nSMALL ERRORS ON ELLIPSE, MASK CORRECT\nEXPORT NIFTI PT\nEXPORT NIFTI CT\nEXPORT NIFTI MASK\n4\nPROBLEME SUV MAX POLYGON\n5\nSMALL ERRORS ON ELLIPSE, MASK CORRECT\nEXPORT NIFTI PT\nEXPORT NIFTI CT\nEXPORT NIFTI MASK\n6\nSMALL ERRORS ON ELLIPSE, MASK CORRECT\nEXPORT NIFTI PT\nEXPORT NIFTI CT\nEXPORT NIFTI MASK\n7\nSMALL ERRORS ON ELLIPSE, MASK CORRECT\nEXPORT NIFTI PT\nEXPORT NIFTI CT\nEXPORT NIFTI MASK\n8\nSMALL ERRORS ON ELLIPSE, MASK CORRECT\nEXPORT NIFTI PT\nEXPORT NIFTI CT\nEXPORT NIFTI MASK\n9\nSMALL ERRORS ON ELLIPSE, MASK CORRECT\nEXPORT NIFTI PT\nEXPORT NIFTI CT\nEXPORT NIFTI MASK\n10\nSMALL ERRORS ON ELLIPSE, MASK CORRECT\nEXPORT NIFTI PT\nEXPORT NIFTI CT\nEXPORT NIFTI MASK\n11\nSMALL ERRORS ON ELLIPSE, MASK CORRECT\nEXPORT NIFTI PT\nEXPORT NIFTI CT\nEXPORT NIFTI MASK\n12\nSMALL ERRORS ON ELLIPSE, MASK CORRECT\nEXPORT NIFTI PT\nEXPORT NIFTI CT\nEXPORT NIFTI MASK\n13\nPROBLEME SUV MAX POLYGON\n14\nPROBLEME SUV MAX POLYGON\n15\nPROBLEME SUV MAX POLYGON\n16\nPROBLEME SUV MAX POLYGON\n17\nPROBLEME SUV MAX POLYGON\n18\nSMALL ERRORS ON ELLIPSE, MASK CORRECT\nEXPORT NIFTI PT\nEXPORT NIFTI CT\nEXPORT NIFTI MASK\n19\nSMALL ERRORS ON ELLIPSE, MASK CORRECT\nEXPORT NIFTI PT\nEXPORT NIFTI CT\nEXPORT NIFTI MASK\n20\nSMALL ERRORS ON ELLIPSE, MASK CORRECT\nEXPORT NIFTI PT\nEXPORT NIFTI CT\nEXPORT NIFTI MASK\n21\nSMALL ERRORS ON ELLIPSE, MASK CORRECT\nEXPORT NIFTI PT\nEXPORT NIFTI CT\nEXPORT NIFTI MASK\n22\nPROBLEME SUV MAX POLYGON\n23\nSMALL ERRORS ON ELLIPSE, MASK CORRECT\nEXPORT NIFTI PT\nEXPORT NIFTI CT\nEXPORT NIFTI MASK\n24\nPROBLEME SUV MAX POLYGON\n25\nPROBLEME SUV MAX POLYGON\n26\nPROBLEME SUV MAX POLYGON\n27\nPROBLEME SUV MAX POLYGON\n28\nPROBLEME SUV MAX POLYGON\n29\nSMALL ERRORS ON ELLIPSE, MASK CORRECT\nEXPORT NIFTI PT\nEXPORT NIFTI CT\nEXPORT NIFTI MASK\n30\nSMALL ERRORS ON ELLIPSE, MASK CORRECT\nEXPORT NIFTI PT\nEXPORT NIFTI CT\nEXPORT NIFTI MASK\n31\nSMALL ERRORS ON ELLIPSE, MASK CORRECT\nEXPORT NIFTI PT\nEXPORT NIFTI CT\nEXPORT NIFTI MASK\n32\nSMALL ERRORS ON ELLIPSE, MASK CORRECT\nEXPORT NIFTI PT\nEXPORT NIFTI CT\nEXPORT NIFTI MASK\n33\nPROBLEME SUV MAX POLYGON\n34\nPROBLEME SUV MAX POLYGON\n35\nSMALL ERRORS ON ELLIPSE, MASK CORRECT\nEXPORT NIFTI PT\nEXPORT NIFTI CT\nEXPORT NIFTI MASK\n36\nSMALL ERRORS ON ELLIPSE, MASK CORRECT\nEXPORT NIFTI PT\nEXPORT NIFTI CT\nEXPORT NIFTI MASK\n37\nSMALL ERRORS ON ELLIPSE, MASK CORRECT\nEXPORT NIFTI PT\nEXPORT NIFTI CT\nEXPORT NIFTI MASK\n38\nPROBLEME SUV MAX POLYGON\n39\nPROBLEME SUV MAX POLYGON\n40\nPROBLEME SUV MAX POLYGON\n41\nPROBLEME SUV MAX POLYGON\n42\nPROBLEME SUV MAX POLYGON\n43\nPROBLEME SUV MAX POLYGON\n44\nPROBLEME SUV MAX POLYGON\n45\nSMALL ERRORS ON ELLIPSE, MASK CORRECT\nEXPORT NIFTI PT\nEXPORT NIFTI CT\nEXPORT NIFTI MASK\n46\nSMALL ERRORS ON ELLIPSE, MASK CORRECT\nEXPORT NIFTI PT\nEXPORT NIFTI CT\nEXPORT NIFTI MASK\n47\nSMALL ERRORS ON ELLIPSE, MASK CORRECT\nEXPORT NIFTI PT\nEXPORT NIFTI CT\nEXPORT NIFTI MASK\n48\nPROBLEME SUV MAX POLYGON\n49\nPROBLEME SUV MAX POLYGON\n50\nPROBLEME SUV MAX POLYGON\n51\nSMALL ERRORS ON ELLIPSE, MASK CORRECT\nEXPORT NIFTI PT\nEXPORT NIFTI CT\nEXPORT NIFTI MASK\n52\nSMALL ERRORS ON ELLIPSE, MASK CORRECT\nEXPORT NIFTI PT\nEXPORT NIFTI CT\nEXPORT NIFTI MASK\n53\nPROBLEME SUV MAX POLYGON\n54\nSMALL ERRORS ON ELLIPSE, MASK CORRECT\nEXPORT NIFTI PT\nEXPORT NIFTI CT\nEXPORT NIFTI MASK\n55\nPROBLEME SUV MAX POLYGON\n56\nPROBLEME SUV MAX POLYGON\n57\nSMALL ERRORS ON ELLIPSE, MASK CORRECT\nEXPORT NIFTI PT\nEXPORT NIFTI CT\nEXPORT NIFTI MASK\n58\nSMALL ERRORS ON ELLIPSE, MASK CORRECT\nEXPORT NIFTI PT\nEXPORT NIFTI CT\nEXPORT NIFTI MASK\n59\nSMALL ERRORS ON ELLIPSE, MASK CORRECT\nEXPORT NIFTI PT\nEXPORT NIFTI CT\nEXPORT NIFTI MASK\n60\nSMALL ERRORS ON ELLIPSE, MASK CORRECT\nEXPORT NIFTI PT\nEXPORT NIFTI CT\nEXPORT NIFTI MASK\n61\nPROBLEME SUV MAX POLYGON\n62\nPROBLEME SUV MAX POLYGON\n63\nPROBLEME SUV MAX POLYGON\n64\nSMALL ERRORS ON ELLIPSE, MASK CORRECT\nEXPORT NIFTI PT\nEXPORT NIFTI CT\nEXPORT NIFTI MASK\n65\nSMALL ERRORS ON ELLIPSE, MASK CORRECT\nEXPORT NIFTI PT\nEXPORT NIFTI CT\nEXPORT NIFTI MASK\n66\nPROBLEME SUV MAX POLYGON\n67\nSMALL ERRORS ON ELLIPSE, MASK CORRECT\nEXPORT NIFTI PT\nEXPORT NIFTI CT\nEXPORT NIFTI MASK\n68\nSMALL ERRORS ON ELLIPSE, MASK CORRECT\nEXPORT NIFTI PT\nEXPORT NIFTI CT\nEXPORT NIFTI MASK\n69\nSMALL ERRORS ON ELLIPSE, MASK CORRECT\nEXPORT NIFTI PT\nEXPORT NIFTI CT\nEXPORT NIFTI MASK\n70\nSMALL ERRORS ON ELLIPSE, MASK CORRECT\nEXPORT NIFTI PT\nEXPORT NIFTI CT\nEXPORT NIFTI MASK\n71\nPROBLEME SUV MAX POLYGON\n72\nSMALL ERRORS ON ELLIPSE, MASK CORRECT\nEXPORT NIFTI PT\nEXPORT NIFTI CT\nEXPORT NIFTI MASK\n73\nSMALL ERRORS ON ELLIPSE, MASK CORRECT\nEXPORT NIFTI PT\nEXPORT NIFTI CT\nEXPORT NIFTI MASK\n74\nPROBLEME SUV MAX POLYGON\n75\nPROBLEME SUV MAX POLYGON\n76\nPROBLEME SUV MAX POLYGON\n77\nPROBLEME SUV MAX POLYGON\n78\nPROBLEME SUV MAX POLYGON\n79\nPROBLEME SUV MAX POLYGON\n80\nPROBLEME SUV MAX POLYGON\n81\nPROBLEME SUV MAX POLYGON\n82\nPROBLEME SUV MAX POLYGON\n83\nPROBLEME SUV MAX POLYGON\n84\nPROBLEME SUV MAX POLYGON\n85\nPROBLEME SUV MAX POLYGON\n86\nPROBLEME SUV MAX POLYGON\n87\nPROBLEME SUV MAX POLYGON\n88\nSMALL ERRORS ON ELLIPSE, MASK CORRECT\nEXPORT NIFTI PT\nEXPORT NIFTI CT\nEXPORT NIFTI MASK\n89\nPROBLEME SUV MAX POLYGON\n90\nPROBLEME SUV MAX POLYGON\n91\nPROBLEME SUV MAX POLYGON\n92\nPROBLEME SUV MAX POLYGON\n93\nPROBLEME SUV MAX POLYGON\n94\nPROBLEME SUV MAX POLYGON\n95\nSMALL ERRORS ON ELLIPSE, MASK CORRECT\nEXPORT NIFTI PT\nEXPORT NIFTI CT\nEXPORT NIFTI MASK\n96\nSMALL ERRORS ON ELLIPSE, MASK CORRECT\nEXPORT NIFTI PT\nEXPORT NIFTI CT\nEXPORT NIFTI MASK\n97\nSMALL ERRORS ON ELLIPSE, MASK CORRECT\nEXPORT NIFTI PT\nEXPORT NIFTI CT\nEXPORT NIFTI MASK\n98\nSMALL ERRORS ON ELLIPSE, MASK CORRECT\nEXPORT NIFTI PT\nEXPORT NIFTI CT\nEXPORT NIFTI MASK\n99\nSMALL ERRORS ON ELLIPSE, MASK CORRECT\nEXPORT NIFTI PT\nEXPORT NIFTI CT\nEXPORT NIFTI MASK\n100\nPROBLEME SUV MAX POLYGON\n101\nPROBLEME SUV MEAN ET SD POLYGONE\necart mean [16, 'POLYGON', 0.25]\necart sd [3, 'POLYGON', 0.16999999999999993, 16, 'POLYGON', 0.15999999999999998]\n102\nSMALL ERRORS ON ELLIPSE, MASK CORRECT\nEXPORT NIFTI PT\nEXPORT NIFTI CT\nEXPORT NIFTI MASK\n103\nSMALL ERRORS ON ELLIPSE, MASK CORRECT\nEXPORT NIFTI PT\nEXPORT NIFTI CT\nEXPORT NIFTI MASK\n104\nSMALL ERRORS ON ELLIPSE, MASK CORRECT\nEXPORT NIFTI PT\nEXPORT NIFTI CT\nEXPORT NIFTI MASK\n105\nSMALL ERRORS ON ELLIPSE, MASK CORRECT\nEXPORT NIFTI PT\nEXPORT NIFTI CT\nEXPORT NIFTI MASK\n106\nSMALL ERRORS ON ELLIPSE, MASK CORRECT\nEXPORT NIFTI PT\nEXPORT NIFTI CT\nEXPORT NIFTI MASK\n107\nPROBLEME SUV MAX POLYGON\n108\nPROBLEME SUV MAX POLYGON\n109\nPROBLEME SUV MAX POLYGON\n110\nSMALL ERRORS ON ELLIPSE, MASK CORRECT\nEXPORT NIFTI PT\nEXPORT NIFTI CT\nEXPORT NIFTI MASK\n111\nSMALL ERRORS ON ELLIPSE, MASK CORRECT\nEXPORT NIFTI PT\nEXPORT NIFTI CT\nEXPORT NIFTI MASK\n112\nSMALL ERRORS ON ELLIPSE, MASK CORRECT\nEXPORT NIFTI PT\nEXPORT NIFTI CT\nEXPORT NIFTI MASK\n113\nSMALL ERRORS ON ELLIPSE, MASK CORRECT\nEXPORT NIFTI PT\nEXPORT NIFTI CT\nEXPORT NIFTI MASK\n114\nSMALL ERRORS ON ELLIPSE, MASK CORRECT\nEXPORT NIFTI PT\nEXPORT NIFTI CT\nEXPORT NIFTI MASK\n115\nPROBLEME SUV MAX POLYGON\n116\nSMALL ERRORS ON ELLIPSE, MASK CORRECT\nEXPORT NIFTI PT\nEXPORT NIFTI CT\nEXPORT NIFTI MASK\n117\nSMALL ERRORS ON ELLIPSE, MASK CORRECT\nEXPORT NIFTI PT\nEXPORT NIFTI CT\nEXPORT NIFTI MASK\n118\nSMALL ERRORS ON ELLIPSE, MASK CORRECT\nEXPORT NIFTI PT\nEXPORT NIFTI CT\nEXPORT NIFTI MASK\n119\nSMALL ERRORS ON ELLIPSE, MASK CORRECT\nEXPORT NIFTI PT\nEXPORT NIFTI CT\nEXPORT NIFTI MASK\n120\nSMALL ERRORS ON ELLIPSE, MASK CORRECT\nEXPORT NIFTI PT\nEXPORT NIFTI CT\nEXPORT NIFTI MASK\n121\nPROBLEME SUV MAX POLYGON\n122\nSMALL ERRORS ON ELLIPSE, MASK CORRECT\nEXPORT NIFTI PT\nEXPORT NIFTI CT\nEXPORT NIFTI MASK\n123\nPROBLEME SUV MAX POLYGON\n124\nSMALL ERRORS ON ELLIPSE, MASK CORRECT\nEXPORT NIFTI PT\nEXPORT NIFTI CT\nEXPORT NIFTI MASK\n125\nSMALL ERRORS ON ELLIPSE, MASK CORRECT\nEXPORT NIFTI PT\nEXPORT NIFTI CT\nEXPORT NIFTI MASK\n126\nPROBLEME SUV MAX POLYGON\n127\nPROBLEME SUV MAX POLYGON\n128\nSMALL ERRORS ON ELLIPSE, MASK CORRECT\nEXPORT NIFTI PT\nEXPORT NIFTI CT\nEXPORT NIFTI MASK\n129\nSMALL ERRORS ON ELLIPSE, MASK CORRECT\nEXPORT NIFTI PT\nEXPORT NIFTI CT\nEXPORT NIFTI MASK\n130\nSMALL ERRORS ON ELLIPSE, MASK CORRECT\nEXPORT NIFTI PT\nEXPORT NIFTI CT\nEXPORT NIFTI MASK\n131\nPROBLEME SUV MAX POLYGON\n132\nPROBLEME SUV MAX POLYGON\n133\nPROBLEME SUV MAX POLYGON\n134\nPROBLEME SUV MAX POLYGON\n135\nPROBLEME SUV MAX POLYGON\n136\nPROBLEME SUV MAX POLYGON\n137\nPROBLEME SUV MEAN ET SD POLYGONE\necart mean [22, 'POLYGON', 0.2400000000000002]\necart sd [22, 'POLYGON', 0.1299999999999999]\n138\nSMALL ERRORS ON ELLIPSE, MASK CORRECT\nEXPORT NIFTI PT\nEXPORT NIFTI CT\nEXPORT NIFTI MASK\n139\nSMALL ERRORS ON ELLIPSE, MASK CORRECT\nEXPORT NIFTI PT\nEXPORT NIFTI CT\nEXPORT NIFTI MASK\n140\nPROBLEME SUV MAX POLYGON\n141\nPROBLEME SUV MAX POLYGON\n142\nSMALL ERRORS ON ELLIPSE, MASK CORRECT\nEXPORT NIFTI PT\nEXPORT NIFTI CT\nEXPORT NIFTI MASK\n143\nSMALL ERRORS ON ELLIPSE, MASK CORRECT\nEXPORT NIFTI PT\nEXPORT NIFTI CT\nEXPORT NIFTI MASK\n144\nSMALL ERRORS ON ELLIPSE, MASK CORRECT\nEXPORT NIFTI PT\nEXPORT NIFTI CT\nEXPORT NIFTI MASK\n145\nPROBLEME SUV MAX POLYGON\n146\nSMALL ERRORS ON ELLIPSE, MASK CORRECT\nEXPORT NIFTI PT\nEXPORT NIFTI CT\nEXPORT NIFTI MASK\n147\nSMALL ERRORS ON ELLIPSE, MASK CORRECT\nEXPORT NIFTI PT\nEXPORT NIFTI CT\nEXPORT NIFTI MASK\n148\nSMALL ERRORS ON ELLIPSE, MASK CORRECT\nEXPORT NIFTI PT\nEXPORT NIFTI CT\nEXPORT NIFTI MASK\n149\nSMALL ERRORS ON ELLIPSE, MASK CORRECT\nEXPORT NIFTI PT\nEXPORT NIFTI CT\nEXPORT NIFTI MASK\n150\nSMALL ERRORS ON ELLIPSE, MASK CORRECT\nEXPORT NIFTI PT\nEXPORT NIFTI CT\nEXPORT NIFTI MASK\n151\nPROBLEME SUV MAX POLYGON\n152\nSMALL ERRORS ON ELLIPSE, MASK CORRECT\nEXPORT NIFTI PT\nEXPORT NIFTI CT\nEXPORT NIFTI MASK\n153\nSMALL ERRORS ON ELLIPSE, MASK CORRECT\nEXPORT NIFTI PT\nEXPORT NIFTI CT\nEXPORT NIFTI MASK\n154\nSMALL ERRORS ON ELLIPSE, MASK CORRECT\nEXPORT NIFTI PT\nEXPORT NIFTI CT\nEXPORT NIFTI MASK\n155\nSMALL ERRORS ON ELLIPSE, MASK CORRECT\nEXPORT NIFTI PT\nEXPORT NIFTI CT\nEXPORT NIFTI MASK\n156\nSMALL ERRORS ON ELLIPSE, MASK CORRECT\nEXPORT NIFTI PT\nEXPORT NIFTI CT\nEXPORT NIFTI MASK\n157\nSMALL ERRORS ON ELLIPSE, MASK CORRECT\nEXPORT NIFTI PT\nEXPORT NIFTI CT\nEXPORT NIFTI MASK\n158\nSMALL ERRORS ON ELLIPSE, MASK CORRECT\nEXPORT NIFTI PT\nEXPORT NIFTI CT\nEXPORT NIFTI MASK\n159\nPROBLEME SUV MEAN ET SD POLYGONE\necart mean [4, 'ELLIPSE', 0.10000000000000053, 9, 'POLYGON', 0.46999999999999886]\necart sd [9, 'POLYGON', 0.18000000000000016]\n160\nSMALL ERRORS ON ELLIPSE, MASK CORRECT\nEXPORT NIFTI PT\nEXPORT NIFTI CT\nEXPORT NIFTI MASK\n161\nPROBLEME SUV MAX POLYGON\n162\nPROBLEME SUV MAX POLYGON\n163\nPROBLEME SUV MAX POLYGON\n164\nPROBLEME SUV MAX POLYGON\n165\nPROBLEME SUV MAX POLYGON\n166\nSMALL ERRORS ON ELLIPSE, MASK CORRECT\nEXPORT NIFTI PT\nEXPORT NIFTI CT\nEXPORT NIFTI MASK\n167\nSMALL ERRORS ON ELLIPSE, MASK CORRECT\nEXPORT NIFTI PT\nEXPORT NIFTI CT\nEXPORT NIFTI MASK\n168\nSMALL ERRORS ON ELLIPSE, MASK CORRECT\nEXPORT NIFTI PT\nEXPORT NIFTI CT\nEXPORT NIFTI MASK\n169\nSMALL ERRORS ON ELLIPSE, MASK CORRECT\nEXPORT NIFTI PT\nEXPORT NIFTI CT\nEXPORT NIFTI MASK\n170\nPROBLEME SUV MAX POLYGON\n171\nPROBLEME SUV MAX POLYGON\n172\nSMALL ERRORS ON ELLIPSE, MASK CORRECT\nEXPORT NIFTI PT\nEXPORT NIFTI CT\nEXPORT NIFTI MASK\n173\nPROBLEME SUV MAX POLYGON\n174\nPROBLEME SUV MAX POLYGON\n175\nPROBLEME SUV MAX POLYGON\n176\nPROBLEME SUV MAX POLYGON\n177\nPROBLEME SUV MAX POLYGON\n178\nPROBLEME SUV MAX POLYGON\n179\nPROBLEME SUV MAX POLYGON\n180\nPROBLEME SUV MAX POLYGON\n181\nPROBLEME SUV MAX POLYGON\n182\nPROBLEME SUV MAX POLYGON\n183\nPROBLEME SUV MAX POLYGON\n184\nSMALL ERRORS ON ELLIPSE, MASK CORRECT\nEXPORT NIFTI PT\nEXPORT NIFTI CT\nEXPORT NIFTI MASK\n185\nSMALL ERRORS ON ELLIPSE, MASK CORRECT\nEXPORT NIFTI PT\nEXPORT NIFTI CT\nEXPORT NIFTI MASK\n186\nSMALL ERRORS ON ELLIPSE, MASK CORRECT\nEXPORT NIFTI PT\nEXPORT NIFTI CT\nEXPORT NIFTI MASK\n187\nSMALL ERRORS ON ELLIPSE, MASK CORRECT\nEXPORT NIFTI PT\nEXPORT NIFTI CT\nEXPORT NIFTI MASK\n188\nSMALL ERRORS ON ELLIPSE, MASK CORRECT\nEXPORT NIFTI PT\nEXPORT NIFTI CT\nEXPORT NIFTI MASK\n"
    }
   ],
   "source": [
    "#SUR LES LISTES NON PHILIPS, ON REGARDE\n",
    "#SI ERREUR SUR SUV MAX MEAN SD SEULEMENT SUR DES ELLIPSES, SI OUI => GENERER NIFTI \n",
    "\n",
    "erreur_polygone_max = []\n",
    "erreur_polygone_mean_sd = []\n",
    "for serie in untreated_liste_2 : \n",
    "    print(untreated_liste_2.index(serie))\n",
    "    try : \n",
    "        if serie[1] == 'PT' : \n",
    "            serie_pt_objet = SeriesPT(serie[0]) \n",
    "            nifti_array = serie_pt_objet.get_numpy_array()\n",
    "            study_uid = serie_pt_objet.get_series_details()['study']['StudyInstanceUID']\n",
    "            size_matrix = serie_pt_objet.get_size_matrix()\n",
    "            mask_objet = MaskBuilder(os.path.join(csv_directory, serie[4]), size_matrix)\n",
    "            mask_4D = mask_objet.mask_array\n",
    "\n",
    "            if 'POLYGON' in mask_objet.ecart_suv_max(nifti_array) :\n",
    "                print(\"PROBLEME SUV MAX POLYGON\")\n",
    "                erreur_polygone_max.append(serie)\n",
    "            \n",
    "            else : \n",
    "\n",
    "                result_mean = mask_objet.ecart_suv_mean(nifti_array)\n",
    "                result_sd = mask_objet.ecart_SD(nifti_array)\n",
    "                if (('POLYGON' in result_mean) and ('POLYGON' in result_sd)) : \n",
    "                    print(\"PROBLEME SUV MEAN ET SD POLYGONE\")\n",
    "                    print(\"ecart mean\", result_mean)\n",
    "                    print(\"ecart sd\", result_sd)\n",
    "                    erreur_polygone_mean_sd.append(serie)\n",
    "\n",
    "                else : \n",
    "                    #si erreur sur les sd et mean QUE sur les ellipses, on tolère \n",
    "                    print(\"SMALL ERRORS ON ELLIPSE, MASK CORRECT\")\n",
    "                    #generation nifti PT\n",
    "                    filename_pt = study_uid+'_'+'nifti_'+'PT'+'.nii'\n",
    "                    serie_pt_objet.export_nifti(os.path.join(nifti_directory, filename_pt))\n",
    "                    print(\"EXPORT NIFTI PT\")\n",
    "                    #generation nifti CT\n",
    "                    serie_ct_objet = SeriesCT(serie[2])\n",
    "                    serie_ct_objet.get_numpy_array()\n",
    "                    filename_ct = study_uid+'_'+'nifti_'+'CT'+'.nii'\n",
    "                    serie_ct_objet.export_nifti(os.path.join(nifti_directory, filename_ct))\n",
    "                    print(\"EXPORT NIFTI CT\")\n",
    "                    #generation nifti mask\n",
    "                    filename_mask = study_uid+'_'+'nifti_'+'mask'+'.nii'\n",
    "                    serie_pt_objet.export_nifti(os.path.join(nifti_directory, filename_mask), mask_4D)\n",
    "                    print(\"EXPORT NIFTI MASK\")\n",
    "\n",
    "\n",
    "        else : \n",
    "            serie_pt_objet = SeriesPT(serie[2]) \n",
    "            nifti_array = serie_pt_objet.get_numpy_array()\n",
    "            study_uid = serie_pt_objet.get_series_details()['study']['StudyInstanceUID']\n",
    "            size_matrix = serie_pt_objet.get_size_matrix()\n",
    "            mask_objet = MaskBuilder(os.path.join(csv_directory, serie[4]), size_matrix)\n",
    "            mask_4D = mask_objet.mask_array\n",
    "\n",
    "            if 'POLYGON' in mask_objet.ecart_suv_max(nifti_array)  :\n",
    "                print(\"PROBLEME SUV MAX POLYGON\")\n",
    "                erreur_polygone_max.append(serie)\n",
    "            else : \n",
    "\n",
    "                result_mean = mask_objet.ecart_suv_mean(nifti_array)\n",
    "                result_sd = mask_objet.ecart_SD(nifti_array)\n",
    "                if (('POLYGON' in result_mean) and ('POLYGON' in result_sd)) : \n",
    "                    print(\"PROBLEME SUV MEAN ET SD POLYGONE\")\n",
    "                    print(\"ecart mean\", result_mean)\n",
    "                    print(\"ecart sd\", result_sd)\n",
    "                    erreur_polygone_mean_sd.append(serie)\n",
    "\n",
    "                else : \n",
    "                    #si erreur sur les sd et mean QUE sur les ellipses, on tolère \n",
    "                    print(\"SMALL ERRORS ON ELLIPSE, MASK CORRECT\")\n",
    "                    #generation nifti PT\n",
    "                    filename_pt = study_uid+'_'+'nifti_'+'PT'+'.nii'\n",
    "                    serie_pt_objet.export_nifti(os.path.join(nifti_directory, filename_pt))\n",
    "                    print(\"EXPORT NIFTI PT\")\n",
    "                    #generation nifti CT\n",
    "                    serie_ct_objet = SeriesCT(serie[0])\n",
    "                    serie_ct_objet.get_numpy_array()\n",
    "                    filename_ct = study_uid+'_'+'nifti_'+'CT'+'.nii'\n",
    "                    serie_ct_objet.export_nifti(os.path.join(nifti_directory, filename_ct))\n",
    "                    print(\"EXPORT NIFTI CT\")\n",
    "                    #generation nifti mask\n",
    "                    filename_mask = study_uid+'_'+'nifti_'+'mask'+'.nii'\n",
    "                    serie_pt_objet.export_nifti(os.path.join(nifti_directory, filename_mask), mask_4D)\n",
    "                    print(\"EXPORT NIFTI MASK\")\n",
    "\n",
    "\n",
    "    except Exception as err : \n",
    "        print(serie)\n",
    "        print(err)"
   ]
  },
  {
   "cell_type": "code",
   "execution_count": 5,
   "metadata": {},
   "outputs": [
    {
     "name": "stdout",
     "output_type": "stream",
     "text": "89\n3\n"
    }
   ],
   "source": [
    "print(len(erreur_polygone_max))\n",
    "print(len(erreur_polygone_mean_sd))"
   ]
  },
  {
   "cell_type": "code",
   "execution_count": 6,
   "metadata": {},
   "outputs": [],
   "source": [
    "#save as json the list of serie which have a mask problem \n",
    "write_json_file('/media/salim/DD 2To/AHL2011_NIFTI', 'AHL2011_serie_error_polygone_max', erreur_polygone_max)\n",
    "write_json_file('/media/salim/DD 2To/AHL2011_NIFTI', 'AHL2011_serie_error_polygone_mean_sd', erreur_polygone_mean_sd)"
   ]
  },
  {
   "cell_type": "code",
   "execution_count": null,
   "metadata": {},
   "outputs": [],
   "source": []
  },
  {
   "cell_type": "code",
   "execution_count": null,
   "metadata": {},
   "outputs": [],
   "source": []
  },
  {
   "cell_type": "code",
   "execution_count": null,
   "metadata": {},
   "outputs": [],
   "source": [
    "#CHECKER LE FLIP : AUCUNE SERIE GENERER AVEC LE FLIP "
   ]
  },
  {
   "cell_type": "code",
   "execution_count": 19,
   "metadata": {},
   "outputs": [
    {
     "name": "stdout",
     "output_type": "stream",
     "text": "0\n1\n2\n3\n4\n5\n6\n7\n8\n9\n10\n11\n12\n13\n14\n15\n16\n17\n18\n19\n20\n21\n22\n23\n24\n25\n26\n27\n28\n29\n30\n31\n32\n33\n34\n35\n36\n37\n38\n39\n40\n41\n42\n43\n44\n45\n46\n47\n48\n49\n50\n51\n52\n53\n54\n55\n56\n57\n58\n59\n60\n61\n62\n63\n64\n65\n66\n67\n68\n69\n70\n71\n72\n73\n74\n75\n76\n77\n78\n79\n80\n81\n82\n83\n84\n85\n86\n87\n88\n89\n90\n91\n92\n93\n94\n95\n96\n97\n98\n99\n100\n101\n102\n103\n104\n105\n106\n107\n108\n109\n110\n111\n112\n113\n114\n115\n116\n117\n118\n119\n120\n121\n122\n123\n124\n125\n126\n127\n128\n129\n130\n131\n132\n133\n134\n135\n136\n137\n138\n139\n140\n141\n142\n143\n144\n145\n146\n147\n148\n149\n150\n151\n152\n153\n154\n155\n156\n"
    }
   ],
   "source": [
    "#ON FLIP LE MASK ET ON REGARDE SI LES CALCLS SUV MAX MEAN SD SONT BONS\n",
    "#SI OUI => GENERE NIFTI \n",
    "\n",
    "serie_with_flip = []\n",
    "for serie in serie_error_mask: \n",
    "    print(serie_error_mask.index(serie))\n",
    "    try : \n",
    "        if serie[1] == 'PT' : \n",
    "            serie_pt_objet = SeriesPT(serie[0]) \n",
    "            nifti_array = serie_pt_objet.get_numpy_array()\n",
    "            study_uid = serie_pt_objet.get_series_details()['study']['StudyInstanceUID']\n",
    "            size_matrix = serie_pt_objet.get_size_matrix()\n",
    "            mask_objet = MaskBuilder(os.path.join(csv_directory, serie[4]), size_matrix)\n",
    "            mask_4D = mask_objet.mask_array\n",
    "            if (mask_objet.is_correct_suv(nifti_array, flip = True) == True) : #si mask correct APRES LE FLIP \n",
    "                print(\"MASK CORRECT APRES FLIP\")\n",
    "                #generation nifti PT\n",
    "                filename_pt = study_uid+'_'+'nifti_'+'PT'+'.nii'\n",
    "                serie_pt_objet.export_nifti(os.path.join(nifti_directory, filename_pt))\n",
    "                print(\"EXPORT NIFTI PT\")\n",
    "                #generation nifti CT\n",
    "                serie_ct_objet = SeriesCT(serie[2])\n",
    "                serie_ct_objet.get_numpy_array()\n",
    "                filename_ct = study_uid+'_'+'nifti_'+'CT'+'.nii'\n",
    "                serie_ct_objet.export_nifti(os.path.join(nifti_directory, filename_ct))\n",
    "                print(\"EXPORT NIFTI CT\")\n",
    "                #generation nifti mask\n",
    "                mask_objet.flip_z(mask_4D)\n",
    "                mask_4D_flip = mask_objet.mask_array\n",
    "                filename_mask = study_uid+'_'+'nifti_'+'mask'+'.nii'\n",
    "                serie_pt_objet.export_nifti(os.path.join(nifti_directory, filename_mask), mask_4D_flip)\n",
    "                print(\"EXPORT NIFTI MASK\")\n",
    "                serie_with_flip.append(serie)\n",
    "\n",
    "        else : \n",
    "            serie_pt_objet = SeriesPT(serie[2]) \n",
    "            nifti_array = serie_pt_objet.get_numpy_array()\n",
    "            study_uid = serie_pt_objet.get_series_details()['study']['StudyInstanceUID']\n",
    "            size_matrix = serie_pt_objet.get_size_matrix()\n",
    "            mask_objet = MaskBuilder(os.path.join(csv_directory, serie[4]), size_matrix)\n",
    "            mask_4D = mask_objet.mask_array\n",
    "            if (mask_objet.is_correct_suv(nifti_array, flip = True) == True) : #si mask correct APRES LE FLIP \n",
    "                print(\"MASK CORRECT APRES FLIP\")\n",
    "                #generation nifti PT\n",
    "                filename_pt = study_uid+'_'+'nifti_'+'PT'+'.nii'\n",
    "                serie_pt_objet.export_nifti(os.path.join(nifti_directory, filename_pt))\n",
    "                print(\"EXPORT NIFTI PT\")\n",
    "                #generation nifti CT\n",
    "                serie_ct_objet = SeriesCT(serie[0])\n",
    "                serie_ct_objet.get_numpy_array()\n",
    "                filename_ct = study_uid+'_'+'nifti_'+'CT'+'.nii'\n",
    "                serie_ct_objet.export_nifti(os.path.join(nifti_directory, filename_ct))\n",
    "                print(\"EXPORT NIFTI CT\")\n",
    "                #generation nifti mask\n",
    "                mask_objet.flip_z(mask_4D)\n",
    "                mask_4D_flip = mask_objet.mask_array\n",
    "                filename_mask = study_uid+'_'+'nifti_'+'mask'+'.nii'\n",
    "                serie_pt_objet.export_nifti(os.path.join(nifti_directory, filename_mask), mask_4D_flip)\n",
    "                print(\"EXPORT NIFTI MASK\")\n",
    "                serie_with_flip.append(serie)\n",
    "\n",
    "\n",
    "\n",
    "    except Exception as err : \n",
    "        print(serie)\n",
    "        print(err)"
   ]
  },
  {
   "cell_type": "code",
   "execution_count": 20,
   "metadata": {},
   "outputs": [],
   "source": [
    "#APRES FLIP, REGARDER SI SMALL ERRORS SUR ELLIPSE\n",
    "#SI PAS DE PROBLEMES SUR LES POLYGONES ON PEUT GENERER LE NIFTI "
   ]
  },
  {
   "cell_type": "code",
   "execution_count": 4,
   "metadata": {},
   "outputs": [
    {
     "name": "stdout",
     "output_type": "stream",
     "text": "0\nPROBLEME SUV MAX\n1\nPROBLEME SUV MAX\n2\nPROBLEME SUV MAX\n3\nPROBLEME SUV MAX\n4\nPROBLEME SUV MAX\n5\nPROBLEME SUV MAX\n6\nPROBLEME SUV MAX\n7\nPROBLEME SUV MAX\n8\nPROBLEME SUV MAX\n9\nPROBLEME SUV MAX\n10\nPROBLEME SUV MAX\n11\nPROBLEME SUV MAX\n12\nPROBLEME SUV MAX\n13\nPROBLEME SUV MAX\n14\nPROBLEME SUV MAX\n15\nPROBLEME SUV MAX\n16\nPROBLEME SUV MAX\n17\nPROBLEME SUV MAX\n18\nPROBLEME SUV MAX\n19\nPROBLEME SUV MAX\n20\nPROBLEME SUV MAX\n21\nPROBLEME SUV MAX\n22\nPROBLEME SUV MAX\n23\nPROBLEME SUV MAX\n24\nPROBLEME SUV MAX\n25\nPROBLEME SUV MAX\n26\nPROBLEME SUV MAX\n27\nPROBLEME SUV MAX\n28\nPROBLEME SUV MAX\n29\nPROBLEME SUV MAX\n30\nPROBLEME SUV MAX\n31\nPROBLEME SUV MAX\n32\nPROBLEME SUV MAX\n33\nPROBLEME SUV MAX\n34\nPROBLEME SUV MAX\n35\nPROBLEME SUV MAX\n36\nPROBLEME SUV MAX\n37\nPROBLEME SUV MAX\n38\nPROBLEME SUV MAX\n39\nPROBLEME SUV MAX\n40\nPROBLEME SUV MAX\n41\nPROBLEME SUV MAX\n42\nPROBLEME SUV MAX\n43\nPROBLEME SUV MAX\n44\nPROBLEME SUV MAX\n45\nPROBLEME SUV MAX\n46\nPROBLEME SUV MAX\n47\nPROBLEME SUV MAX\n48\nPROBLEME SUV MAX\n49\nPROBLEME SUV MAX\n50\nPROBLEME SUV MAX\n51\nPROBLEME SUV MAX\n52\nPROBLEME SUV MAX\n53\nPROBLEME SUV MAX\n54\nPROBLEME SUV MAX\n55\nPROBLEME SUV MAX\n56\nPROBLEME SUV MAX\n57\nPROBLEME SUV MAX\n58\nPROBLEME SUV MAX\n59\nPROBLEME SUV MAX\n60\nPROBLEME SUV MAX\n61\nPROBLEME SUV MAX\n62\nPROBLEME SUV MAX\n63\nPROBLEME SUV MAX\n64\nPROBLEME SUV MAX\n65\nPROBLEME SUV MAX\n66\nPROBLEME SUV MAX\n67\nPROBLEME SUV MAX\n68\nPROBLEME SUV MAX\n69\nPROBLEME SUV MAX\n70\nPROBLEME SUV MAX\n71\nPROBLEME SUV MAX\n72\nPROBLEME SUV MAX\n73\nPROBLEME SUV MAX\n74\nPROBLEME SUV MAX\n75\nPROBLEME SUV MAX\n76\nPROBLEME SUV MAX\n77\nPROBLEME SUV MAX\n78\nPROBLEME SUV MAX\n79\nPROBLEME SUV MAX\n80\nPROBLEME SUV MAX\n81\nPROBLEME SUV MAX\n82\nPROBLEME SUV MAX\n83\nPROBLEME SUV MAX\n84\nPROBLEME SUV MAX\n85\nPROBLEME SUV MAX\n86\nPROBLEME SUV MAX\n87\nPROBLEME SUV MAX\n88\nPROBLEME SUV MAX\n89\nPROBLEME SUV MAX\n90\nPROBLEME SUV MAX\n91\nPROBLEME SUV MAX\n92\nPROBLEME SUV MAX\n93\nPROBLEME SUV MAX\n94\nPROBLEME SUV MAX\n95\nPROBLEME SUV MAX\n96\nPROBLEME SUV MAX\n97\nPROBLEME SUV MAX\n98\nPROBLEME SUV MAX\n99\nPROBLEME SUV MAX\n100\nPROBLEME SUV MAX\n101\nPROBLEME SUV MAX\n102\nPROBLEME SUV MAX\n103\nPROBLEME SUV MAX\n104\nPROBLEME SUV MAX\n105\nPROBLEME SUV MAX\n106\nPROBLEME SUV MAX\n107\nPROBLEME SUV MAX\n108\nPROBLEME SUV MAX\n109\nPROBLEME SUV MAX\n110\nPROBLEME SUV MAX\n111\nPROBLEME SUV MAX\n112\nPROBLEME SUV MAX\n113\nPROBLEME SUV MAX\n114\nPROBLEME SUV MAX\n115\nPROBLEME SUV MAX\n116\nPROBLEME SUV MAX\n117\nPROBLEME SUV MAX\n118\nPROBLEME SUV MAX\n119\nPROBLEME SUV MAX\n120\nPROBLEME SUV MAX\n121\nPROBLEME SUV MAX\n122\nPROBLEME SUV MAX\n123\nPROBLEME SUV MAX\n124\nPROBLEME SUV MAX\n125\nPROBLEME SUV MAX\n126\nPROBLEME SUV MAX\n127\nPROBLEME SUV MAX\n128\nPROBLEME SUV MAX\n129\nPROBLEME SUV MAX\n130\nPROBLEME SUV MAX\n131\nPROBLEME SUV MAX\n132\nPROBLEME SUV MAX\n133\nPROBLEME SUV MAX\n134\nPROBLEME SUV MAX\n135\nPROBLEME SUV MAX\n136\nPROBLEME SUV MAX\n137\nPROBLEME SUV MAX\n138\nPROBLEME SUV MAX\n139\nPROBLEME SUV MAX\n140\nPROBLEME SUV MAX\n141\nPROBLEME SUV MAX\n142\nPROBLEME SUV MAX\n143\nPROBLEME SUV MAX\n144\nPROBLEME SUV MAX\n145\nPROBLEME SUV MAX\n146\nPROBLEME SUV MAX\n147\nPROBLEME SUV MAX\n148\nPROBLEME SUV MAX\n149\nPROBLEME SUV MAX\n150\nPROBLEME SUV MAX\n151\nPROBLEME SUV MAX\n152\nPROBLEME SUV MAX\n153\nPROBLEME SUV MAX\n154\nPROBLEME SUV MAX\n155\nPROBLEME SUV MAX\n156\nPROBLEME SUV MAX\n"
    }
   ],
   "source": [
    "#MASK AVEC FLIP FAUX : \n",
    "serie_problem = []\n",
    "\n",
    "for serie in serie_error_mask: \n",
    "    print(serie_error_mask.index(serie))\n",
    "    try : \n",
    "        if serie[1] == 'PT' : \n",
    "            serie_pt_objet = SeriesPT(serie[0]) \n",
    "            nifti_array = serie_pt_objet.get_numpy_array()\n",
    "            study_uid = serie_pt_objet.get_series_details()['study']['StudyInstanceUID']\n",
    "            size_matrix = serie_pt_objet.get_size_matrix()\n",
    "            mask_objet = MaskBuilder(os.path.join(csv_directory, serie[4]), size_matrix)\n",
    "            mask_4D = mask_objet.mask_array\n",
    "            if 'POLYGON' in mask_objet.ecart_suv_max(nifti_array, flip = True) :\n",
    "                print(\"PROBLEME SUV MAX POLYGON\")\n",
    "                serie_problem.append(serie)\n",
    "            else : \n",
    "                result_mean = mask_objet.ecart_suv_mean(nifti_array, flip = True)\n",
    "                result_sd = mask_objet.ecart_SD(nifti_array, flip = True)\n",
    "                if (('POLYGON' not in result_mean) and ('POLYGON' not in result_sd)) : \n",
    "                    #si erreur sur les sd et mean QUE sur les ellipses, on tolère \n",
    "                    print(\"SMALL ERRORS ON ELLIPSE AFTER FLIP, MASK CORRECT\")\n",
    "                    #generation nifti PT\n",
    "                    filename_pt = study_uid+'_'+'nifti_'+'PT'+'.nii'\n",
    "                    serie_pt_objet.export_nifti(os.path.join(nifti_directory, filename_pt))\n",
    "                    print(\"EXPORT NIFTI PT\")\n",
    "                    #generation nifti CT\n",
    "                    serie_ct_objet = SeriesCT(serie[2])\n",
    "                    serie_ct_objet.get_numpy_array()\n",
    "                    filename_ct = study_uid+'_'+'nifti_'+'CT'+'.nii'\n",
    "                    serie_ct_objet.export_nifti(os.path.join(nifti_directory, filename_ct))\n",
    "                    print(\"EXPORT NIFTI CT\")\n",
    "                    #generation nifti mask\n",
    "                    mask_objet.flip_z(mask_4D)\n",
    "                    mask_4D_flip = mask_objet.mask_array\n",
    "                    filename_mask = study_uid+'_'+'nifti_'+'mask'+'.nii'\n",
    "                    serie_pt_objet.export_nifti(os.path.join(nifti_directory, filename_mask), mask_4D_flip)\n",
    "                    print(\"EXPORT NIFTI MASK\")\n",
    "                else : #sinon problème sur lles polygones\n",
    "                    serie_problem.append(serie)\n",
    "\n",
    "\n",
    "\n",
    "\n",
    "\n",
    "        else : \n",
    "            serie_pt_objet = SeriesPT(serie[2]) \n",
    "            nifti_array = serie_pt_objet.get_numpy_array()\n",
    "            study_uid = serie_pt_objet.get_series_details()['study']['StudyInstanceUID']\n",
    "            size_matrix = serie_pt_objet.get_size_matrix()\n",
    "            mask_objet = MaskBuilder(os.path.join(csv_directory, serie[4]), size_matrix)\n",
    "            mask_4D = mask_objet.mask_array\n",
    "            if 'POLYGON' in mask_objet.ecart_suv_max(nifti_array, flip = True) :\n",
    "                print(\"PROBLEME SUV MAX POLYGONE\")\n",
    "                serie_problem.append(serie)\n",
    "            else : \n",
    "                result_mean = mask_objet.ecart_suv_mean(nifti_array, flip = True)\n",
    "                result_sd = mask_objet.ecart_SD(nifti_array, flip = True)\n",
    "                if (('POLYGON' not in result_mean) and ('POLYGON' not in result_sd)) : \n",
    "                    #si erreur sur les sd et mean QUE sur les ellipses, on tolère \n",
    "                    print(\"SMALL ERRORS ON ELLIPSE AFTER FLIP, MASK CORRECT\")\n",
    "                    #generation nifti PT\n",
    "                    filename_pt = study_uid+'_'+'nifti_'+'PT'+'.nii'\n",
    "                    serie_pt_objet.export_nifti(os.path.join(nifti_directory, filename_pt))\n",
    "                    print(\"EXPORT NIFTI PT\")\n",
    "                    #generation nifti CT\n",
    "                    serie_ct_objet = SeriesCT(serie[0])\n",
    "                    serie_ct_objet.get_numpy_array()\n",
    "                    filename_ct = study_uid+'_'+'nifti_'+'CT'+'.nii'\n",
    "                    serie_ct_objet.export_nifti(os.path.join(nifti_directory, filename_ct))\n",
    "                    print(\"EXPORT NIFTI CT\")\n",
    "                    #generation nifti mask\n",
    "                    mask_objet.flip_z(mask_4D)\n",
    "                    mask_4D_flip = mask_objet.mask_array\n",
    "                    filename_mask = study_uid+'_'+'nifti_'+'mask'+'.nii'\n",
    "                    serie_pt_objet.export_nifti(os.path.join(nifti_directory, filename_mask), mask_4D_flip)\n",
    "                    print(\"EXPORT NIFTI MASK\")\n",
    "                else : #sinon problème sur les polygones\n",
    "                    serie_problem.append(serie)\n",
    "            \n",
    "\n",
    "    except Exception as err : \n",
    "        print(serie)\n",
    "        print(err)"
   ]
  },
  {
   "cell_type": "code",
   "execution_count": null,
   "metadata": {},
   "outputs": [],
   "source": []
  },
  {
   "cell_type": "code",
   "execution_count": null,
   "metadata": {},
   "outputs": [],
   "source": [
    "#SERIE WITH ERROR SIZE MATRIX CORONAL \n",
    "#ICI FLIP SEMBLE MARCHER "
   ]
  },
  {
   "cell_type": "code",
   "execution_count": 3,
   "metadata": {},
   "outputs": [
    {
     "name": "stdout",
     "output_type": "stream",
     "text": "9\n"
    }
   ],
   "source": [
    "#ALL SERIE WITH ERROR\n",
    "json_path = '/media/salim/DD 2To/AHL2011_NIFTI/AHL2011_all_serie_error.json'\n",
    "error = []\n",
    "with open(json_path) as json_file : \n",
    "    reader = json.load(json_file)\n",
    "    for info in reader :\n",
    "        error.append(info)\n",
    "\n",
    "print(len(error))"
   ]
  },
  {
   "cell_type": "code",
   "execution_count": 16,
   "metadata": {},
   "outputs": [
    {
     "name": "stdout",
     "output_type": "stream",
     "text": "0\n['/media/salim/DD 2To/AHL2011_Validated_DICOMS/13011101031030/1.2.840.113704.1.111.3556.1391590354.9/1.2.840.113704.7.32.0.28.2.10.48.18673.58372.2.2100.0.1391592740/1.2.840.113704.7.32.0.28.2.10.48.18673.58372.2.2100.0.1391592740', 'PT', '/media/salim/DD 2To/AHL2011_Validated_DICOMS/13011101031030/1.2.840.113704.1.111.3556.1391590354.9/1.2.840.113704.7.32.1.2.840.113704.1.111.2676.1391590761.8/1.2.840.113704.7.32.1.2.840.113704.1.111.2676.1391590761.8', 'CT', 'gda_in_feb 5_2014.csv']\nindex 255 is out of bounds for axis 0 with size 255\n1\n['/media/salim/DD 2To/AHL2011_Validated_DICOMS/13011101021024/1.2.250.1.59.470.940100027.1.20140110123209.2625.18891/1.2.840.113704.1.111.5356.1389356368.8/1.2.840.113704.1.111.5356.1389356368.8', 'CT', '/media/salim/DD 2To/AHL2011_Validated_DICOMS/13011101021024/1.2.250.1.59.470.940100027.1.20140110123209.2625.18891/1.3.46.670589.28.2.10.48.18554.65512.2.408.0.1389358191/1.3.46.670589.28.2.10.48.18554.65512.2.408.0.1389358191', 'PT', 'dja_fa_jan 10_2014-abr.csv']\nindex 144 is out of bounds for axis 0 with size 144\n2\n['/media/salim/DD 2To/AHL2011_Validated_DICOMS/13011101051008/1.2.250.1.74.20120622095500.60000021132086/1.3.46.670589.28.2.7.2202872868.2.24584.0.1340366188/1.3.46.670589.28.2.7.2202872868.2.24584.0.1340366188', 'PT', '/media/salim/DD 2To/AHL2011_Validated_DICOMS/13011101051008/1.2.250.1.74.20120622095500.60000021132086/1.2.840.113704.1.111.6284.1340361537.8/1.2.840.113704.1.111.6284.1340361537.8', 'CT', 'bor_fr_jun 22_2012.csv']\nindex 146 is out of bounds for axis 0 with size 144\n3\n['/media/salim/DD 2To/AHL2011_Validated_DICOMS/13011101051012/1.2.250.1.74.20121011075500.60000022288403/1.3.46.670589.28.2.7.2202872868.2.23369.0.1349946818/1.3.46.670589.28.2.7.2202872868.2.23369.0.1349946818', 'PT', '/media/salim/DD 2To/AHL2011_Validated_DICOMS/13011101051012/1.2.250.1.74.20121011075500.60000022288403/1.2.840.113704.1.111.2088.1349942529.8/1.2.840.113704.1.111.2088.1349942529.8', 'CT', 'kou_fo_oct 11_2012.csv']\nindex 149 is out of bounds for axis 0 with size 144\n4\n['/media/salim/DD 2To/AHL2011_Validated_DICOMS/13011101031023/1.2.840.113704.1.111.1820.1371732115.34/1.2.840.113704.7.32.0589.28.2.10.4.9167.3151.2.1040.0.1371734612/1.2.840.113704.7.32.0589.28.2.10.4.9167.3151.2.1040.0.1371734612', 'PT', '/media/salim/DD 2To/AHL2011_Validated_DICOMS/13011101031023/1.2.840.113704.1.111.1820.1371732115.34/1.2.840.113704.7.32.1.2.840.113704.1.111.1484.1371732530.8/1.2.840.113704.7.32.1.2.840.113704.1.111.1484.1371732530.8', 'CT', 'dac_je_jun 20_2013.csv']\nindex 169 is out of bounds for axis 0 with size 144\n5\n['/media/salim/DD 2To/AHL2011_Validated_DICOMS/13011101031011/1.2.840.113704.1.111.2552.1344321001.3/1.3.46.670589.28.2.10.4.9167.27815.2.2040.0.1344324331/1.3.46.670589.28.2.10.4.9167.27815.2.2040.0.1344324331', 'PT', '/media/salim/DD 2To/AHL2011_Validated_DICOMS/13011101031011/1.2.840.113704.1.111.2552.1344321001.3/1.2.840.113704.1.111.2332.1344322265.8/1.2.840.113704.1.111.2332.1344322265.8', 'CT', 'fau_lu_aug 7_2012_abr.csv']\nindex 183 is out of bounds for axis 0 with size 144\n6\n['/media/salim/DD 2To/AHL2011_Validated_DICOMS/13011101031022/1.2.840.113704.1.111.4028.1369723812.3/1.2.840.113704.7.32.1.2.840.113704.1.111.3792.1369724112.8/1.2.840.113704.7.32.1.2.840.113704.1.111.3792.1369724112.8', 'CT', '/media/salim/DD 2To/AHL2011_Validated_DICOMS/13011101031022/1.2.840.113704.1.111.4028.1369723812.3/1.2.840.113704.7.32.089.28.2.10.4.9167.27815.2.3944.0.1369726198/1.2.840.113704.7.32.089.28.2.10.4.9167.27815.2.3944.0.1369726198', 'PT', 'hel_ni_may 28_2013.csv']\nindex 177 is out of bounds for axis 0 with size 144\n7\n['/media/salim/DD 2To/AHL2011_Validated_DICOMS/13011101021021/1.2.840.113704.1.111.6624.1372237611.4/1.2.840.113704.1.111.3676.1372238095.8/1.2.840.113704.1.111.3676.1372238095.8', 'CT', '/media/salim/DD 2To/AHL2011_Validated_DICOMS/13011101021021/1.2.840.113704.1.111.6624.1372237611.4/1.3.46.670589.28.2.10.4.9167.27989.2.1636.0.1372239910/1.3.46.670589.28.2.10.4.9167.27989.2.1636.0.1372239910', 'PT', 'khe_na_jun 26_2013_abr.csv']\nindex 169 is out of bounds for axis 0 with size 144\n8\n['/media/salim/DD 2To/AHL2011_Validated_DICOMS/13011101031009/1.3.46.670589.33.1.6216283393619438153.23276743643149365567/1.3.46.670589.33.1.14032434432794758210.23089110211145188036/1.3.46.670589.33.1.14032434432794758210.23089110211145188036', 'CT', '/media/salim/DD 2To/AHL2011_Validated_DICOMS/13011101031009/1.3.46.670589.33.1.6216283393619438153.23276743643149365567/1.3.46.670589.33.1.26447193521168159311.25271275933995462538/1.3.46.670589.33.1.26447193521168159311.25271275933995462538', 'PT', 'ort_ma_jun 27_2012.csv']\nindex 144 is out of bounds for axis 0 with size 144\n"
    }
   ],
   "source": [
    "erreur_suv_max_polyg = []\n",
    "erreur_suv_mean_sd_polyg = []\n",
    "treated_serie = []\n",
    "for serie in error : \n",
    "    print(error.index(serie))\n",
    "    try : \n",
    "        if serie[1] == 'PT' : \n",
    "            serie_pt_objet = SeriesPT(serie[0]) \n",
    "            nifti_array = serie_pt_objet.get_numpy_array()\n",
    "            study_uid = serie_pt_objet.get_series_details()['study']['StudyInstanceUID']\n",
    "            size_matrix = serie_pt_objet.get_size_matrix()\n",
    "            mask_objet = MaskBuilder(os.path.join(csv_directory, serie[4]), size_matrix)\n",
    "            mask_4D = mask_objet.mask_array\n",
    "\n",
    "            if 'POLYGON' in mask_objet.ecart_suv_max(nifti_array) :\n",
    "                print(\"PROBLEME SUV MAX POLYGON\")\n",
    "                erreur_suv_max_polyg.append(serie)\n",
    "                treated_serie.append(serie)\n",
    "            \n",
    "            else : \n",
    "\n",
    "                result_mean = mask_objet.ecart_suv_mean(nifti_array)\n",
    "                result_sd = mask_objet.ecart_SD(nifti_array)\n",
    "                if (('POLYGON' in result_mean) and ('POLYGON' in result_sd)) : \n",
    "                    print(\"PROBLEME SUV MEAN ET SD POLYGONE\")\n",
    "                    print(\"ecart mean\", result_mean)\n",
    "                    print(\"ecart sd\", result_sd)\n",
    "                    erreur_suv_mean_sd_polyg.append(serie)\n",
    "\n",
    "                    treated_serie.append(serie)\n",
    "\n",
    "                else : \n",
    "                    #si erreur sur les sd et mean QUE sur les ellipses, on tolère \n",
    "                    print(\"SMALL ERRORS ON ELLIPSE, MASK CORRECT\")\n",
    "                    #generation nifti PT\n",
    "                    filename_pt = study_uid+'_'+'nifti_'+'PT'+'.nii'\n",
    "                    serie_pt_objet.export_nifti(os.path.join(nifti_directory, filename_pt))\n",
    "                    print(\"EXPORT NIFTI PT\")\n",
    "                    #generation nifti CT\n",
    "                    serie_ct_objet = SeriesCT(serie[2])\n",
    "                    serie_ct_objet.get_numpy_array()\n",
    "                    filename_ct = study_uid+'_'+'nifti_'+'CT'+'.nii'\n",
    "                    serie_ct_objet.export_nifti(os.path.join(nifti_directory, filename_ct))\n",
    "                    print(\"EXPORT NIFTI CT\")\n",
    "                    #generation nifti mask\n",
    "                    filename_mask = study_uid+'_'+'nifti_'+'mask'+'.nii'\n",
    "                    serie_pt_objet.export_nifti(os.path.join(nifti_directory, filename_mask), mask_4D)\n",
    "                    print(\"EXPORT NIFTI MASK\")\n",
    "                    treated_serie.append(serie)\n",
    "\n",
    "\n",
    "        else : \n",
    "            serie_pt_objet = SeriesPT(serie[2]) \n",
    "            nifti_array = serie_pt_objet.get_numpy_array()\n",
    "            study_uid = serie_pt_objet.get_series_details()['study']['StudyInstanceUID']\n",
    "            size_matrix = serie_pt_objet.get_size_matrix()\n",
    "            mask_objet = MaskBuilder(os.path.join(csv_directory, serie[4]), size_matrix)\n",
    "            mask_4D = mask_objet.mask_array\n",
    "\n",
    "            if 'POLYGON' in mask_objet.ecart_suv_max(nifti_array)  :\n",
    "                print(\"PROBLEME SUV MAX POLYGON\")\n",
    "                erreur_suv_max_polyg.append(serie)\n",
    "                treated_serie.append(serie)\n",
    "            else : \n",
    "\n",
    "                result_mean = mask_objet.ecart_suv_mean(nifti_array)\n",
    "                result_sd = mask_objet.ecart_SD(nifti_array)\n",
    "                if (('POLYGON' in result_mean) and ('POLYGON' in result_sd)) : \n",
    "                    print(\"PROBLEME SUV MEAN ET SD POLYGONE\")\n",
    "                    print(\"ecart mean\", result_mean)\n",
    "                    print(\"ecart sd\", result_sd)\n",
    "                    erreur_suv_mean_sd_polyg.append(serie)\n",
    "                    treated_serie.append(serie)\n",
    "\n",
    "                else : \n",
    "                    #si erreur sur les sd et mean QUE sur les ellipses, on tolère \n",
    "                    print(\"SMALL ERRORS ON ELLIPSE, MASK CORRECT\")\n",
    "                    #generation nifti PT\n",
    "                    filename_pt = study_uid+'_'+'nifti_'+'PT'+'.nii'\n",
    "                    serie_pt_objet.export_nifti(os.path.join(nifti_directory, filename_pt))\n",
    "                    print(\"EXPORT NIFTI PT\")\n",
    "                    #generation nifti CT\n",
    "                    serie_ct_objet = SeriesCT(serie[0])\n",
    "                    serie_ct_objet.get_numpy_array()\n",
    "                    filename_ct = study_uid+'_'+'nifti_'+'CT'+'.nii'\n",
    "                    serie_ct_objet.export_nifti(os.path.join(nifti_directory, filename_ct))\n",
    "                    print(\"EXPORT NIFTI CT\")\n",
    "                    #generation nifti mask\n",
    "                    filename_mask = study_uid+'_'+'nifti_'+'mask'+'.nii'\n",
    "                    serie_pt_objet.export_nifti(os.path.join(nifti_directory, filename_mask), mask_4D)\n",
    "                    print(\"EXPORT NIFTI MASK\")\n",
    "                    treated_serie.append(serie)\n",
    "\n",
    "\n",
    "    except Exception as err : \n",
    "        print(serie)\n",
    "        print(err)"
   ]
  },
  {
   "cell_type": "code",
   "execution_count": 4,
   "metadata": {},
   "outputs": [
    {
     "name": "stdout",
     "output_type": "stream",
     "text": "['/media/salim/DD 2To/AHL2011_Validated_DICOMS/13011101031030/1.2.840.113704.1.111.3556.1391590354.9/1.2.840.113704.7.32.0.28.2.10.48.18673.58372.2.2100.0.1391592740/1.2.840.113704.7.32.0.28.2.10.48.18673.58372.2.2100.0.1391592740', 'PT', '/media/salim/DD 2To/AHL2011_Validated_DICOMS/13011101031030/1.2.840.113704.1.111.3556.1391590354.9/1.2.840.113704.7.32.1.2.840.113704.1.111.2676.1391590761.8/1.2.840.113704.7.32.1.2.840.113704.1.111.2676.1391590761.8', 'CT', 'gda_in_feb 5_2014.csv']\n"
    }
   ],
   "source": [
    "test = error[0]\n",
    "print(test)\n",
    "error.remove(test)"
   ]
  },
  {
   "cell_type": "code",
   "execution_count": 5,
   "metadata": {},
   "outputs": [
    {
     "name": "stdout",
     "output_type": "stream",
     "text": "8\n"
    }
   ],
   "source": [
    "print(len(error))"
   ]
  },
  {
   "cell_type": "code",
   "execution_count": 23,
   "metadata": {},
   "outputs": [
    {
     "name": "stdout",
     "output_type": "stream",
     "text": "['/media/salim/DD 2To/AHL2011_Validated_DICOMS/13011101051008/1.2.250.1.74.20120622095500.60000021132086/1.3.46.670589.28.2.7.2202872868.2.24584.0.1340366188/1.3.46.670589.28.2.7.2202872868.2.24584.0.1340366188', 'PT', '/media/salim/DD 2To/AHL2011_Validated_DICOMS/13011101051008/1.2.250.1.74.20120622095500.60000021132086/1.2.840.113704.1.111.6284.1340361537.8/1.2.840.113704.1.111.6284.1340361537.8', 'CT', 'bor_fr_jun 22_2012.csv']\n"
    }
   ],
   "source": [
    "test = error[1]\n",
    "print(test)"
   ]
  },
  {
   "cell_type": "code",
   "execution_count": 27,
   "metadata": {},
   "outputs": [
    {
     "name": "stdout",
     "output_type": "stream",
     "text": "[144, 144, 234]\n1\nshape_matrice a remplir (234, 144, 144)\nshape après coronal to axial (144, 144, 234)\nshape_ 3D array après get mask (144, 144, 234)\n(144, 144, 234, 30)\ncoronal\n2\nshape_matrice a remplir (234, 144, 144)\nshape après coronal to axial (144, 144, 234)\nshape_ 3D array après get mask (144, 144, 234)\n(144, 144, 234, 30)\ncoronal\n3\nshape_matrice a remplir (234, 144, 144)\nshape après coronal to axial (144, 144, 234)\nshape_ 3D array après get mask (144, 144, 234)\n(144, 144, 234, 30)\ncoronal\n4\nshape_matrice a remplir (234, 144, 144)\nshape après coronal to axial (144, 144, 234)\nshape_ 3D array après get mask (144, 144, 234)\n(144, 144, 234, 30)\ncoronal\n5\nshape_matrice a remplir (234, 144, 144)\nshape après coronal to axial (144, 144, 234)\nshape_ 3D array après get mask (144, 144, 234)\n(144, 144, 234, 30)\ncoronal\n6\nshape_matrice a remplir (234, 144, 144)\nshape après coronal to axial (144, 144, 234)\nshape_ 3D array après get mask (144, 144, 234)\n(144, 144, 234, 30)\ncoronal\n7\nshape_matrice a remplir (234, 144, 144)\nshape après coronal to axial (144, 144, 234)\nshape_ 3D array après get mask (144, 144, 234)\n(144, 144, 234, 30)\ncoronal\n8\nshape_matrice a remplir (234, 144, 144)\nshape après coronal to axial (144, 144, 234)\nshape_ 3D array après get mask (144, 144, 234)\n(144, 144, 234, 30)\ncoronal\n9\nshape_matrice a remplir (234, 144, 144)\nshape après coronal to axial (144, 144, 234)\nshape_ 3D array après get mask (144, 144, 234)\n(144, 144, 234, 30)\ncoronal\n10\nshape_matrice a remplir (234, 144, 144)\nshape après coronal to axial (144, 144, 234)\nshape_ 3D array après get mask (144, 144, 234)\n(144, 144, 234, 30)\ncoronal\n11\nshape_matrice a remplir (234, 144, 144)\nshape après coronal to axial (144, 144, 234)\nshape_ 3D array après get mask (144, 144, 234)\n(144, 144, 234, 30)\ncoronal\n12\nshape_matrice a remplir (234, 144, 144)\nshape après coronal to axial (144, 144, 234)\nshape_ 3D array après get mask (144, 144, 234)\n(144, 144, 234, 30)\ncoronal\n13\nshape_matrice a remplir (234, 144, 144)\nshape après coronal to axial (144, 144, 234)\nshape_ 3D array après get mask (144, 144, 234)\n(144, 144, 234, 30)\ncoronal\n14\nshape_matrice a remplir (234, 144, 144)\nshape après coronal to axial (144, 144, 234)\nshape_ 3D array après get mask (144, 144, 234)\n(144, 144, 234, 30)\ncoronal\n15\nshape_matrice a remplir (234, 144, 144)\nshape après coronal to axial (144, 144, 234)\nshape_ 3D array après get mask (144, 144, 234)\n(144, 144, 234, 30)\ncoronal\n16\nshape_matrice a remplir (234, 144, 144)\nshape après coronal to axial (144, 144, 234)\nshape_ 3D array après get mask (144, 144, 234)\n(144, 144, 234, 30)\ncoronal\n17\nshape_matrice a remplir (234, 144, 144)\nshape après coronal to axial (144, 144, 234)\nshape_ 3D array après get mask (144, 144, 234)\n(144, 144, 234, 30)\ncoronal\n18\nshape_matrice a remplir (234, 144, 144)\nshape après coronal to axial (144, 144, 234)\nshape_ 3D array après get mask (144, 144, 234)\n(144, 144, 234, 30)\ncoronal\n19\nshape_matrice a remplir (234, 144, 144)\nshape après coronal to axial (144, 144, 234)\nshape_ 3D array après get mask (144, 144, 234)\n(144, 144, 234, 30)\ncoronal\n20\nshape_matrice a remplir (234, 144, 144)\nshape après coronal to axial (144, 144, 234)\nshape_ 3D array après get mask (144, 144, 234)\n(144, 144, 234, 30)\ncoronal\n21\nshape_matrice a remplir (234, 144, 144)\nshape après coronal to axial (144, 144, 234)\nshape_ 3D array après get mask (144, 144, 234)\n(144, 144, 234, 30)\ncoronal\n22\nshape_matrice a remplir (234, 144, 144)\nshape après coronal to axial (144, 144, 234)\nshape_ 3D array après get mask (144, 144, 234)\n(144, 144, 234, 30)\ncoronal\n23\nshape_matrice a remplir (234, 144, 144)\nshape après coronal to axial (144, 144, 234)\nshape_ 3D array après get mask (144, 144, 234)\n(144, 144, 234, 30)\ncoronal\n24\nshape_matrice a remplir (234, 144, 144)\nshape après coronal to axial (144, 144, 234)\nshape_ 3D array après get mask (144, 144, 234)\n(144, 144, 234, 30)\ncoronal\n25\nshape_matrice a remplir (234, 144, 144)\nshape après coronal to axial (144, 144, 234)\nshape_ 3D array après get mask (144, 144, 234)\n(144, 144, 234, 30)\ncoronal\n26\nshape_matrice a remplir (234, 144, 144)\nshape après coronal to axial (144, 144, 234)\nshape_ 3D array après get mask (144, 144, 234)\n(144, 144, 234, 30)\ncoronal\n27\nshape_matrice a remplir (234, 144, 144)\nshape après coronal to axial (144, 144, 234)\nshape_ 3D array après get mask (144, 144, 234)\n(144, 144, 234, 30)\ncoronal\n28\nshape_matrice a remplir (234, 144, 144)\nshape après coronal to axial (144, 144, 234)\nshape_ 3D array après get mask (144, 144, 234)\n(144, 144, 234, 30)\ncoronal\n29\nshape_matrice a remplir (234, 144, 144)\nshape après coronal to axial (144, 144, 234)\nshape_ 3D array après get mask (144, 144, 234)\n(144, 144, 234, 30)\ncoronal\n30\nshape_matrice a remplir (234, 144, 144)\nshape après coronal to axial (144, 144, 234)\nshape_ 3D array après get mask (144, 144, 234)\n(144, 144, 234, 30)\ncoronal\n"
    }
   ],
   "source": [
    "false_nifti_directory = '/media/salim/DD 2To/AHL2011_FALSE_MASK_NIFTI'\n",
    "serie_pt_objet = SeriesPT(test[0])\n",
    "nifti_array = serie_pt_objet.get_numpy_array()\n",
    "study_uid = serie_pt_objet.get_series_details()['study']['StudyInstanceUID']\n",
    "size_matrix = serie_pt_objet.get_size_matrix()\n",
    "\n",
    "filename_pt = study_uid+'_'+'nifti_'+'PT'+'.nii'\n",
    "serie_pt_objet.export_nifti(os.path.join(false_nifti_directory, filename_pt))\n",
    "\n",
    "serie_ct_objet = SeriesCT(test[2])\n",
    "filename_ct = study_uid+'_'+'nifti_'+'CT'+'.nii'\n",
    "serie_ct_objet.export_nifti(os.path.join(false_nifti_directory, filename_ct))\n",
    "\n",
    "\n",
    "\n",
    "print(size_matrix)\n",
    "mask_objet = MaskBuilder(os.path.join(csv_directory, test[4]), size_matrix)\n",
    "mask_4D = mask_objet.mask_array\n",
    "\n",
    "mask_objet.flip_z(mask_4D)\n",
    "mask_4D_flip = mask_objet.mask_array\n",
    "\n",
    "filename_mask = study_uid+'_'+'nifti_'+'mask'+'.nii'\n",
    "serie_pt_objet.export_nifti(os.path.join(false_nifti_directory, filename_mask), mask_4D_flip)\n",
    "\n",
    "\n",
    "\n"
   ]
  },
  {
   "cell_type": "code",
   "execution_count": 26,
   "metadata": {},
   "outputs": [
    {
     "name": "stdout",
     "output_type": "stream",
     "text": "ROI : 1\nROI : 2\nROI : 3\nROI : 4\nROI : 5\nROI : 6\nROI : 7\nROI : 8\nROI : 9\nROI : 10\nROI : 11\nROI : 12\nROI : 13\nROI : 14\nROI : 15\nROI : 16\nROI : 17\nROI : 18\nROI : 19\nROI : 20\nROI : 21\nROI : 22\nROI : 23\nROI : 24\nROI : 25\nROI : 26\nROI : 27\nROI : 28\nROI : 29\nROI : 30\n"
    },
    {
     "data": {
      "text/plain": "{1: {'SUV_max': 20.72, 'SUV_mean': 11.18, 'SD': 2.39},\n 2: {'SUV_max': 14.6, 'SUV_mean': 7.88, 'SD': 1.67},\n 3: {'SUV_max': 17.41, 'SUV_mean': 10.26, 'SD': 2.33},\n 4: {'SUV_max': 15.43, 'SUV_mean': 8.95, 'SD': 2.05},\n 5: {'SUV_max': 15.55, 'SUV_mean': 9.07, 'SD': 2.22},\n 6: {'SUV_max': 12.09, 'SUV_mean': 6.88, 'SD': 1.48},\n 7: {'SUV_max': 9.39, 'SUV_mean': 5.46, 'SD': 1.38},\n 8: {'SUV_max': 16.78, 'SUV_mean': 9.03, 'SD': 1.99},\n 9: {'SUV_max': 14.28, 'SUV_mean': 7.79, 'SD': 1.68},\n 10: {'SUV_max': 10.44, 'SUV_mean': 5.64, 'SD': 1.39},\n 11: {'SUV_max': 13.41, 'SUV_mean': 7.04, 'SD': 1.22},\n 12: {'SUV_max': 13.41, 'SUV_mean': 7.26, 'SD': 1.5},\n 13: {'SUV_max': 8.69, 'SUV_mean': 5.1, 'SD': 1.24},\n 14: {'SUV_max': 6.05, 'SUV_mean': 3.13, 'SD': 0.67},\n 15: {'SUV_max': 7.46, 'SUV_mean': 3.87, 'SD': 0.92},\n 16: {'SUV_max': 8.34, 'SUV_mean': 4.87, 'SD': 1.12},\n 17: {'SUV_max': 10.22, 'SUV_mean': 5.66, 'SD': 1.37},\n 18: {'SUV_max': 15.21, 'SUV_mean': 7.95, 'SD': 1.62},\n 19: {'SUV_max': 9.19, 'SUV_mean': 5.68, 'SD': 1.53},\n 20: {'SUV_max': 3.51, 'SUV_mean': 2.43, 'SD': 0.39},\n 21: {'SUV_max': 4.17, 'SUV_mean': 2.37, 'SD': 0.46},\n 22: {'SUV_max': 3.31, 'SUV_mean': 2.53, 'SD': 0.3},\n 23: {'SUV_max': 4.17, 'SUV_mean': 2.86, 'SD': 0.46},\n 24: {'SUV_max': 4.8, 'SUV_mean': 2.98, 'SD': 0.59},\n 25: {'SUV_max': 4.16, 'SUV_mean': 2.28, 'SD': 0.52},\n 26: {'SUV_max': 3.59, 'SUV_mean': 2.15, 'SD': 0.53},\n 27: {'SUV_max': 5.11, 'SUV_mean': 3.06, 'SD': 0.79},\n 28: {'SUV_max': 7.86, 'SUV_mean': 4.8, 'SD': 1.16},\n 29: {'SUV_max': 4.4, 'SUV_mean': 2.33, 'SD': 0.5},\n 30: {'SUV_max': 4.13, 'SUV_mean': 2.5, 'SD': 0.58}}"
     },
     "execution_count": 26,
     "metadata": {},
     "output_type": "execute_result"
    }
   ],
   "source": [
    "mask_objet.calcul_suv(nifti_array, flip = True)"
   ]
  },
  {
   "cell_type": "code",
   "execution_count": 3,
   "metadata": {},
   "outputs": [
    {
     "name": "stdout",
     "output_type": "stream",
     "text": "149\n"
    }
   ],
   "source": [
    "#SERIE WITH ERROR SUV MAX POLYGONE\n",
    "json_path = '/media/salim/DD 2To/AHL2011_NIFTI/AHL2011_error_suv_max_polygone.json'\n",
    "error_suv = []\n",
    "with open(json_path) as json_file : \n",
    "    reader = json.load(json_file)\n",
    "    for info in reader :\n",
    "        error_suv.append(info)\n",
    "\n",
    "print(len(error_suv))"
   ]
  },
  {
   "cell_type": "code",
   "execution_count": 4,
   "metadata": {},
   "outputs": [],
   "source": [
    "doublon = error_suv[91]\n",
    "error_suv.remove(doublon)"
   ]
  },
  {
   "cell_type": "code",
   "execution_count": 5,
   "metadata": {},
   "outputs": [
    {
     "data": {
      "text/plain": "148"
     },
     "execution_count": 5,
     "metadata": {},
     "output_type": "execute_result"
    }
   ],
   "source": [
    "len(error_suv)"
   ]
  },
  {
   "cell_type": "code",
   "execution_count": null,
   "metadata": {},
   "outputs": [],
   "source": [
    "#RAJOUTER METHODE POUR SEUIL DES MASKS\n",
    "#1 RECUPERER LIST POINTS APRES LE MASK (METTRE EN PARAMETRE LA LISTE DES POINTS DANS MA FONCTION)\n",
    "# ET RECUPERER LE SEUIL\n",
    "# 2 REGARDER DANS LE NIFTI A CES POINTS SI LA VALEUR DU SUV DEPASSE LE SEUIL*NP MAX OU SEUIL\n",
    "# 3 SI VALEUR PLUS PETITE QUE LE SEUIL, ON MET 0 DANS LE MASK AUX COORDONNEES DE LA ROI\n",
    "#RETURN 4D MASK SEUILLE"
   ]
  },
  {
   "cell_type": "code",
   "execution_count": 6,
   "metadata": {},
   "outputs": [
    {
     "name": "stdout",
     "output_type": "stream",
     "text": "0\ntaille mask :  (200, 200, 481)\n"
    },
    {
     "ename": "IndexError",
     "evalue": "too many indices for array",
     "output_type": "error",
     "traceback": [
      "\u001b[0;31m---------------------------------------------------------------------------\u001b[0m",
      "\u001b[0;31mIndexError\u001b[0m                                Traceback (most recent call last)",
      "\u001b[0;32m<ipython-input-6-d8e763dce6b2>\u001b[0m in \u001b[0;36m<module>\u001b[0;34m\u001b[0m\n\u001b[1;32m     51\u001b[0m         \u001b[0;31m#seuillage\u001b[0m\u001b[0;34m\u001b[0m\u001b[0;34m\u001b[0m\u001b[0;34m\u001b[0m\u001b[0m\n\u001b[1;32m     52\u001b[0m         \u001b[0mmask_4D\u001b[0m \u001b[0;34m=\u001b[0m \u001b[0mthreshold_mask\u001b[0m\u001b[0;34m(\u001b[0m\u001b[0mmask_4D\u001b[0m\u001b[0;34m,\u001b[0m \u001b[0mmask_objet\u001b[0m\u001b[0;34m.\u001b[0m\u001b[0mdetails_rois\u001b[0m\u001b[0;34m,\u001b[0m \u001b[0mnifti_array\u001b[0m\u001b[0;34m,\u001b[0m \u001b[0mflip\u001b[0m \u001b[0;34m=\u001b[0m \u001b[0;32mFalse\u001b[0m\u001b[0;34m)\u001b[0m\u001b[0;34m\u001b[0m\u001b[0;34m\u001b[0m\u001b[0m\n\u001b[0;32m---> 53\u001b[0;31m         \u001b[0mangle_filename_mask\u001b[0m \u001b[0;34m=\u001b[0m \u001b[0mmip_projection_4D\u001b[0m\u001b[0;34m(\u001b[0m\u001b[0mnifti_array\u001b[0m\u001b[0;34m,\u001b[0m \u001b[0;36m0\u001b[0m\u001b[0;34m,\u001b[0m \u001b[0mmip_directory\u001b[0m\u001b[0;34m,\u001b[0m \u001b[0mstudy_uid\u001b[0m\u001b[0;34m,\u001b[0m \u001b[0mnumber_roi\u001b[0m\u001b[0;34m,\u001b[0m \u001b[0mborne_max\u001b[0m \u001b[0;34m=\u001b[0m \u001b[0;36m5.0\u001b[0m\u001b[0;34m)\u001b[0m\u001b[0;34m\u001b[0m\u001b[0;34m\u001b[0m\u001b[0m\n\u001b[0m\u001b[1;32m     54\u001b[0m         \u001b[0;31m#mip.png MASK\u001b[0m\u001b[0;34m\u001b[0m\u001b[0;34m\u001b[0m\u001b[0;34m\u001b[0m\u001b[0m\n\u001b[1;32m     55\u001b[0m         \u001b[0msubliste\u001b[0m\u001b[0;34m.\u001b[0m\u001b[0mappend\u001b[0m\u001b[0;34m(\u001b[0m\u001b[0mangle_filename_mask\u001b[0m\u001b[0;34m)\u001b[0m\u001b[0;34m\u001b[0m\u001b[0;34m\u001b[0m\u001b[0m\n",
      "\u001b[0;32m~/library-DICOM/library_dicom/dicom_processor/tools/create_mip.py\u001b[0m in \u001b[0;36mmip_projection_4D\u001b[0;34m(mask_4D, angle, path_image, study_uid, number_roi, borne_max)\u001b[0m\n\u001b[1;32m     54\u001b[0m     \u001b[0;32mfor\u001b[0m \u001b[0mroi\u001b[0m \u001b[0;32min\u001b[0m \u001b[0mrange\u001b[0m\u001b[0;34m(\u001b[0m\u001b[0mnumber_roi\u001b[0m\u001b[0;34m)\u001b[0m\u001b[0;34m:\u001b[0m\u001b[0;34m\u001b[0m\u001b[0;34m\u001b[0m\u001b[0m\n\u001b[1;32m     55\u001b[0m         \u001b[0;31m#print(roi)\u001b[0m\u001b[0;34m\u001b[0m\u001b[0;34m\u001b[0m\u001b[0;34m\u001b[0m\u001b[0m\n\u001b[0;32m---> 56\u001b[0;31m         \u001b[0mliste\u001b[0m\u001b[0;34m.\u001b[0m\u001b[0mappend\u001b[0m\u001b[0;34m(\u001b[0m\u001b[0mnp\u001b[0m\u001b[0;34m.\u001b[0m\u001b[0mtranspose\u001b[0m\u001b[0;34m(\u001b[0m\u001b[0mnp\u001b[0m\u001b[0;34m.\u001b[0m\u001b[0mflip\u001b[0m\u001b[0;34m(\u001b[0m\u001b[0mmask_4D\u001b[0m\u001b[0;34m[\u001b[0m\u001b[0;34m:\u001b[0m\u001b[0;34m,\u001b[0m\u001b[0;34m:\u001b[0m\u001b[0;34m,\u001b[0m\u001b[0;34m:\u001b[0m\u001b[0;34m,\u001b[0m\u001b[0mroi\u001b[0m\u001b[0;34m]\u001b[0m\u001b[0;34m,\u001b[0m \u001b[0maxis\u001b[0m \u001b[0;34m=\u001b[0m \u001b[0;36m2\u001b[0m\u001b[0;34m)\u001b[0m\u001b[0;34m,\u001b[0m \u001b[0;34m(\u001b[0m\u001b[0;36m2\u001b[0m\u001b[0;34m,\u001b[0m\u001b[0;36m1\u001b[0m\u001b[0;34m,\u001b[0m\u001b[0;36m0\u001b[0m\u001b[0;34m)\u001b[0m\u001b[0;34m)\u001b[0m\u001b[0;34m)\u001b[0m\u001b[0;34m\u001b[0m\u001b[0;34m\u001b[0m\u001b[0m\n\u001b[0m\u001b[1;32m     57\u001b[0m \u001b[0;34m\u001b[0m\u001b[0m\n\u001b[1;32m     58\u001b[0m     \u001b[0mnew_mask\u001b[0m \u001b[0;34m=\u001b[0m \u001b[0mnp\u001b[0m\u001b[0;34m.\u001b[0m\u001b[0mstack\u001b[0m\u001b[0;34m(\u001b[0m\u001b[0;34m(\u001b[0m\u001b[0mliste\u001b[0m\u001b[0;34m)\u001b[0m\u001b[0;34m,\u001b[0m \u001b[0maxis\u001b[0m \u001b[0;34m=\u001b[0m \u001b[0;36m3\u001b[0m\u001b[0;34m)\u001b[0m\u001b[0;34m\u001b[0m\u001b[0;34m\u001b[0m\u001b[0m\n",
      "\u001b[0;31mIndexError\u001b[0m: too many indices for array"
     ]
    }
   ],
   "source": [
    "#GENERATE PDF WITH MIP ANGLE 0 OF PET AND MASK FOR EVERY SERIE\n",
    "\n",
    "from library_dicom.dicom_processor.tools.create_mip import *\n",
    "from library_dicom.dicom_processor.tools.threshold_mask import *\n",
    "mip_directory = '/media/salim/DD 2To/AHL2011_MIP'\n",
    "\n",
    "\n",
    "\n",
    "path_mip = []\n",
    "for serie in error_suv : \n",
    "    index = error_suv.index(serie)\n",
    "    print(index)\n",
    "    subliste = []\n",
    "    if serie[1] =='PT' :\n",
    "        serie_pt_objet = SeriesPT(serie[0])\n",
    "        study_uid = serie_pt_objet.get_series_details()['study']['StudyInstanceUID']\n",
    "        nifti_array = serie_pt_objet.get_numpy_array()\n",
    "        angle_filename = mip_projection(nifti_array, 0, mip_directory, study_uid, borne_max = 3.0)             #mip.png PET\n",
    "        subliste.append(angle_filename)\n",
    "\n",
    "        size_matrix = serie_pt_objet.get_size_matrix()\n",
    "        mask_objet = MaskBuilder(os.path.join(csv_directory, serie[4]), size_matrix)\n",
    "        mask_4D = mask_objet.mask_array\n",
    "        number_roi = mask_4D.shape[3]\n",
    "        threshold = mask_objet.details_rois['SUVlo']\n",
    "        #seuillage\n",
    "        mask_4D = threshold_mask(mask_4D, mask_objet.details_rois, nifti_array,  flip = False)\n",
    "        angle_filename_mask = mip_projection_4D(mask_4D, 0, mip_directory, study_uid, number_roi, borne_max = 5.0)\n",
    "        #mip.png MASK\n",
    "        subliste.append(angle_filename_mask)\n",
    "\n",
    "        path_mip.append(subliste)\n",
    "\n",
    "        \n",
    "\n",
    "\n",
    "\n",
    "\n",
    "    else : \n",
    "        serie_pt_objet = SeriesPT(serie[2])\n",
    "        study_uid = serie_pt_objet.get_series_details()['study']['StudyInstanceUID']\n",
    "        nifti_array = serie_pt_objet.get_numpy_array()\n",
    "        angle_filename = mip_projection(nifti_array, 0, mip_directory, study_uid, borne_max = 3.0) \n",
    "        #mip.png PET\n",
    "        subliste.append(angle_filename)\n",
    "        size_matrix = serie_pt_objet.get_size_matrix()\n",
    "        mask_objet = MaskBuilder(os.path.join(csv_directory, serie[4]), size_matrix)\n",
    "        mask_4D = mask_objet.mask_array\n",
    "        number_roi = mask_4D.shape[3]\n",
    "        threshold = mask_objet.details_rois['SUVlo']\n",
    "        #seuillage\n",
    "        mask_4D = threshold_mask(mask_4D, mask_objet.details_rois, nifti_array, flip = False)\n",
    "        angle_filename_mask = mip_projection_4D(mask_4D, 0, mip_directory, study_uid, number_roi, borne_max = 5.0)\n",
    "        #mip.png MASK\n",
    "        subliste.append(angle_filename_mask)\n",
    "\n",
    "        path_mip.append(subliste)\n",
    "\n"
   ]
  },
  {
   "cell_type": "code",
   "execution_count": null,
   "metadata": {},
   "outputs": [],
   "source": [
    "print(len(path_mip))"
   ]
  },
  {
   "cell_type": "code",
   "execution_count": null,
   "metadata": {},
   "outputs": [],
   "source": [
    "#create pdf \n",
    "filename = mip_directory+ '.pdf'\n",
    "create_pdf_mip(path_mip, filename )"
   ]
  },
  {
   "cell_type": "code",
   "execution_count": null,
   "metadata": {},
   "outputs": [],
   "source": []
  },
  {
   "cell_type": "code",
   "execution_count": 20,
   "metadata": {},
   "outputs": [
    {
     "name": "stdout",
     "output_type": "stream",
     "text": "facturer': 'GE MEDICAL SYSTEMS', 'Units': 'BQML', 'Axis': [1, 1, 1, 1, 1, 1, 1, 11, 11, 11, 1, 1, 1, 1, 1, 1, 1, 1, 1, 1, 1, 11, 1, 1, 1, 1, 1, 1], 'Last_Modif': 'Sun Sep 20 19:18:09 2015'}\n68\n{'StudyUID': '1.3.51.0.1.1.10.49.10.222.987570.985613', 'Manufacturer': 'GE MEDICAL SYSTEMS', 'Units': 'BQML', 'Axis': [1, 1, 1, 11, 11, 1, 11, 1, 11, 11, 1, 11, 11, 1, 11, 1, 11, 1, 1, 11, 11, 11, 11, 1, 11, 11, 11, 1], 'Last_Modif': 'Fri Oct  2 16:53:44 2015'}\n69\n{'StudyUID': '2.16.56.465769650.1.57524848525053565249', 'Manufacturer': 'CPS', 'Units': 'BQML', 'Axis': [11, 11, 11, 11, 11, 11, 11, 11, 11, 11, 11, 11, 11, 11, 11, 11, 11, 11, 11, 11, 11, 11, 11, 11, 11, 11, 11, 11, 11, 11, 11, 11, 11, 11, 11, 11, 11, 11, 11, 11, 11, 11, 11, 11, 11, 11, 11, 11, 11, 11, 11, 11, 11, 11, 11, 11, 1, 1, 1, 1], 'Last_Modif': 'Fri Dec  4 10:18:28 2015'}\n70\n{'StudyUID': '2.16.56.465769650.2551326252.2798663604', 'Manufacturer': 'SIEMENS', 'Units': 'BQML', 'Axis': [11, 11, 11, 11, 11, 11, 11, 11, 11, 11, 11, 11, 11, 11, 11, 11, 11, 11, 11, 11, 11, 11, 11, 11, 11, 11, 11, 11, 11, 11, 11, 11, 11, 11, 11, 11, 11, 11, 11, 11, 11, 11, 11, 11, 11, 11, 11, 11, 11, 1, 1, 1, 1, 1], 'Last_Modif': 'Wed Dec  9 16:56:30 2015'}\n71\n{'StudyUID': '2.16.840.1.113669.632.20.330001.10001805742', 'Manufacturer': 'GE MEDICAL SYSTEMS', 'Units': 'BQML', 'Axis': [1, 11, 11, 11, 11, 11, 11, 11, 1, 1, 11, 11, 11, 11, 11, 11, 11, 11, 11, 11, 11, 11, 11, 11, 11, 1, 1, 1, 1, 1], 'Last_Modif': 'Wed Oct  7 11:02:54 2015'}\n72\n{'StudyUID': '2.16.840.1.113669.632.20.330001.10001823053', 'Manufacturer': 'GE MEDICAL SYSTEMS', 'Units': 'BQML', 'Axis': [1, 11, 1, 1, 1, 1, 1, 1, 1, 11, 1, 11, 11, 11, 11, 11, 11, 11, 11, 11, 11, 11, 11, 11, 11, 11, 11, 1, 11, 11, 1, 1, 11, 11, 1, 1, 11, 11, 11, 11, 11, 11, 11, 1, 1, 11, 11, 1, 1, 11, 1, 1, 1, 1, 11, 11], 'Last_Modif': 'Wed May 20 16:32:02 2015'}\n73\n{'StudyUID': '2.16.840.1.113669.632.20.330001.10002203874', 'Manufacturer': 'GE MEDICAL SYSTEMS', 'Units': 'BQML', 'Axis': [1, 11, 1, 1, 11, 1, 1], 'Last_Modif': 'Mon Nov 30 22:31:13 2015'}\n74\n{'StudyUID': '2.16.840.1.113669.632.20.330001.10002305320', 'Manufacturer': 'GE MEDICAL SYSTEMS', 'Units': 'BQML', 'Axis': [1, 1, 1, 1, 1, 1, 1, 1, 1, 1, 1, 1, 1, 1, 1, 1], 'Last_Modif': 'Wed Oct 28 15:20:17 2015'}\n75\n{'StudyUID': '2.16.840.1.113669.632.20.540001.10002987905', 'Manufacturer': 'SIEMENS', 'Units': 'BQML', 'Axis': [11, 1, 1, 1, 11, 1, 1, 1, 11, 11, 11, 1, 1, 11, 11, 11, 11, 1, 1, 1, 1, 1, 11, 1, 11, 1, 11, 11, 1, 1, 1, 1, 1, 11, 11, 11, 1, 1, 1, 1, 1, 1, 1, 1, 11, 1, 1, 1, 1, 1, 1, 1, 11, 11, 11], 'Last_Modif': 'Sun Jun 26 22:53:47 2016'}\n76\n{'StudyUID': '2.16.840.1.113669.632.20.540001.10003715785', 'Manufacturer': 'CPS', 'Units': 'BQML', 'Axis': [1, 1, 1, 1, 1, 1, 1, 1, 1, 1, 1, 1, 1, 1, 1, 1, 1, 1, 1, 1, 1, 1, 1], 'Last_Modif': 'Wed Oct 28 20:03:44 2015'}\n77\n{'StudyUID': '2.16.840.1.113669.632.20.540001.10003773530', 'Manufacturer': 'SIEMENS', 'Units': 'BQML', 'Axis': [11, 11, 1, 1, 1, 1, 1, 1, 1, 1, 11, 11, 1, 11, 1, 1, 1, 11, 1, 11, 11], 'Last_Modif': 'Tue Jul 12 23:12:53 2016'}\n78\n{'StudyUID': '2.16.840.1.113669.632.20.620001.10000565743', 'Manufacturer': 'GE MEDICAL SYSTEMS', 'Units': 'BQML', 'Axis': [11, 11, 11, 11, 11, 11, 11, 11, 1, 11, 11], 'Last_Modif': 'Sun Oct 11 11:04:16 2015'}\n79\n{'StudyUID': '2.16.840.1.113669.632.20.670001.10001421848', 'Manufacturer': 'GE MEDICAL SYSTEMS', 'Units': 'BQML', 'Axis': [1, 11, 11, 11, 11, 11, 11], 'Last_Modif': 'Mon Oct 26 21:55:10 2015'}\n80\n{'StudyUID': '2.16.840.1.113669.632.20.670001.10001646174', 'Manufacturer': 'GE MEDICAL SYSTEMS', 'Units': 'BQML', 'Axis': [11, 11, 11, 11, 1, 1, 1, 11], 'Last_Modif': 'Mon Oct 26 22:09:16 2015'}\n81\n{'StudyUID': '2.16.840.1.113669.632.20.670001.10001708201', 'Manufacturer': 'GE MEDICAL SYSTEMS', 'Units': 'BQML', 'Axis': [1, 1, 11, 11, 11, 11, 11, 11, 11, 11, 11, 11, 11, 11, 11], 'Last_Modif': 'Mon Oct 19 23:06:22 2015'}\n82\n{'StudyUID': '2.16.840.1.113669.632.20.670001.10001741704', 'Manufacturer': 'GE MEDICAL SYSTEMS', 'Units': 'BQML', 'Axis': [1, 1, 1, 1, 11, 11, 11, 1, 11, 1, 11, 1, 1, 1, 11, 11, 11, 1, 1, 1, 11, 11, 11], 'Last_Modif': 'Mon Oct 19 22:45:29 2015'}\n83\n{'StudyUID': '2.16.840.1.113669.632.20.670001.10001907043', 'Manufacturer': 'SIEMENS', 'Units': 'BQML', 'Axis': [11, 1, 1, 11, 11, 11, 11, 1, 1, 1, 1, 1, 1, 11, 11, 11, 11, 11, 11, 11, 11], 'Last_Modif': 'Wed Oct 28 21:52:39 2015'}\n84\n{'StudyUID': '2.16.840.1.113669.632.20.670001.10002017714', 'Manufacturer': 'SIEMENS', 'Units': 'BQML', 'Axis': [1, 1, 1, 1, 1, 1, 11, 11], 'Last_Modif': 'Wed Oct 28 22:37:11 2015'}\n85\n{'StudyUID': '2.16.840.1.113669.632.20.670001.10002053732', 'Manufacturer': 'SIEMENS', 'Units': 'BQML', 'Axis': [1, 1, 1, 11, 11, 11, 11, 11, 11, 11], 'Last_Modif': 'Wed Oct 28 22:56:51 2015'}\n86\n{'StudyUID': '2.16.840.1.113669.632.20.670001.10002181975', 'Manufacturer': 'SIEMENS', 'Units': 'BQML', 'Axis': [1, 11, 11, 11, 11, 11], 'Last_Modif': 'Wed Oct 28 23:11:27 2015'}\n87\n{'StudyUID': '2.16.840.1.113669.632.20.670001.10002230970', 'Manufacturer': 'SIEMENS', 'Units': 'BQML', 'Axis': [1, 1, 11, 11, 11], 'Last_Modif': 'Sat Oct 31 11:58:11 2015'}\n88\n{'StudyUID': '2.16.840.1.113669.632.20.670001.900000024566', 'Manufacturer': 'SIEMENS', 'Units': 'BQML', 'Axis': [11, 1, 1, 11, 11, 11], 'Last_Modif': 'Sat Oct 31 12:10:41 2015'}\n89\n{'StudyUID': '1.2.840.113704.1.111.1956.1311057233.3', 'Manufacturer': 'Philips Medical Systems', 'Units': 'CNTS', 'Axis': [1, 1, 1, 1, 1, 1, 1, 1, 1, 1, 11, 11, 1, 1, 11, 11, 11, 11, 11, 11, 11, 11, 11, 1, 1, 1], 'Last_Modif': 'Wed May  6 17:16:09 2015'}\n90\n{'StudyUID': '1.3.51.0.1.1.10.49.10.222.1020253.1018308', 'Manufacturer': 'GE MEDICAL SYSTEMS', 'Units': 'BQML', 'Axis': [1, 1, 1, 1, 11, 11, 1, 11, 1, 1, 1, 1, 1, 1, 1, 1, 1, 11], 'Last_Modif': 'Tue Nov 10 22:34:37 2015'}\n91\n{'StudyUID': '1.3.51.0.1.1.10.49.10.222.1389324.1387520', 'Manufacturer': 'GE MEDICAL SYSTEMS', 'Units': 'BQML', 'Axis': [11, 1, 11, 1, 1, 11, 1, 1, 1, 11, 11, 1, 1, 1, 11, 11, 11, 11, 11], 'Last_Modif': 'Wed Nov 18 18:17:39 2015'}\n92\n{'StudyUID': '1.3.12.2.1107.5.1.4.45527.30000012041313060204600000016', 'Manufacturer': 'SIEMENS', 'Units': 'BQML', 'Axis': [11, 11, 11, 11, 11, 11, 11, 11, 11, 11, 11, 11, 11, 11, 11, 11, 11, 1, 11, 11, 11, 11, 11, 11, 11, 11, 11, 11, 11, 11, 11, 11, 11, 11, 11, 11, 11, 11, 11, 11, 11, 11, 11, 11, 11, 11, 11, 11, 11, 11, 11, 11, 11, 11, 11, 11, 11, 11, 11, 11, 11, 11, 11, 11, 11, 11, 11, 11, 11, 1, 1, 1, 1, 1, 1, 1, 1, 1, 1, 1, 11, 11, 11, 11, 11, 11, 11, 1, 11, 11, 11, 11, 11, 11, 11, 11, 11, 11, 11, 11, 11, 11, 11, 11, 11, 11, 11, 11, 11, 11, 11, 11, 11, 11, 11, 11, 11, 11], 'Last_Modif': 'Thu Oct 22 15:24:36 2015'}\n93\n{'StudyUID': '1.3.51.0.1.1.10.49.10.222.1106502.1104581', 'Manufacturer': 'GE MEDICAL SYSTEMS', 'Units': 'BQML', 'Axis': [11, 1, 1, 11, 11, 1, 11, 11, 11, 11, 11, 11, 11, 11, 11, 11, 11, 11, 11, 11, 11, 11, 11, 11, 11, 11, 11, 11, 11, 11], 'Last_Modif': 'Wed Nov 11 19:01:02 2015'}\n94\n{'StudyUID': '1.2.840.113619.2.290.3.2366253502.444.1354516351.351', 'Manufacturer': 'GE MEDICAL SYSTEMS', 'Units': 'BQML', 'Axis': [1, 1, 11, 11, 11, 11, 11, 11, 11, 11, 11, 11, 11], 'Last_Modif': 'Sun Sep 13 15:40:21 2015'}\n95\n{'StudyUID': '1.2.840.113619.2.290.3.279710052.641.1394608899.137', 'Manufacturer': 'GE MEDICAL SYSTEMS', 'Units': 'BQML', 'Axis': [12, 2, 12, 2, 12, 12, 12, 12, 12, 12, 12, 2], 'Last_Modif': 'Thu Jul 16 16:35:16 2015'}\n96\n{'StudyUID': '2.16.840.1.113669.632.20.540351.10003856866', 'Manufacturer': 'SIEMENS', 'Units': 'BQML', 'Axis': [11, 1, 1, 1, 1, 1, 1, 1, 1, 1, 1, 1, 1, 1, 1, 1, 1, 1, 1, 1, 1, 1, 1, 1, 11, 1, 1, 11, 1, 1, 1, 1, 1, 1, 1, 1, 1, 1, 1, 11, 1, 1, 1, 11, 1, 1, 1, 1, 11, 11, 1, 1, 1, 11, 11, 1, 1, 1, 1, 1, 1, 1, 11, 1, 1, 1, 11, 1], 'Last_Modif': 'Thu Jul 14 22:53:59 2016'}\n97\n{'StudyUID': '1.2.124.113532.172.16.25.2.20120125.456.1038547', 'Manufacturer': 'Philips Medical Systems', 'Units': 'BQML', 'Axis': [1, 1, 1, 1, 1, 1, 1, 1, 11, 11, 11, 11, 11, 11, 11, 11, 1, 1, 11], 'Last_Modif': 'Sat Apr 23 17:55:21 2016'}\n98\n{'StudyUID': '1.2.124.113532.172.16.25.2.20120605.739.1104125', 'Manufacturer': 'Philips Medical Systems', 'Units': 'BQML', 'Axis': [1, 1, 1, 1, 1, 1, 1, 1, 1, 1, 1, 1, 1, 1, 1, 1, 1, 1, 1], 'Last_Modif': 'Sat Jun 25 21:58:43 2016'}\n99\n{'StudyUID': '1.2.124.113532.172.16.25.2.20120606.612.1104622', 'Manufacturer': 'Philips Medical Systems', 'Units': 'BQML', 'Axis': [1], 'Last_Modif': 'Sat Jun 25 20:00:32 2016'}\n100\n{'StudyUID': '1.2.124.113532.172.16.25.2.20120716.81922.1126423', 'Manufacturer': 'Philips Medical Systems', 'Units': 'BQML', 'Axis': [1, 1, 1, 1, 1, 1, 1, 1, 1, 1, 1, 1, 1, 1, 1, 1, 1, 1, 1, 1, 1, 1, 1, 1, 1, 1, 1, 1, 1, 1, 1, 1, 1, 1, 1, 1, 1, 1, 1, 1], 'Last_Modif': 'Sat Jun 25 18:00:09 2016'}\n101\n{'StudyUID': '1.2.124.113532.172.16.25.2.20130227.619.1243517', 'Manufacturer': 'Philips Medical Systems', 'Units': 'BQML', 'Axis': [1, 1, 1, 1, 1, 1, 1, 1, 1, 1, 1, 1, 1, 1, 1], 'Last_Modif': 'Sat Apr 23 22:53:14 2016'}\n102\n{'StudyUID': '1.2.124.113532.172.16.25.2.20130601.521.1298162', 'Manufacturer': 'Philips Medical Systems', 'Units': 'BQML', 'Axis': [1, 1, 1, 1, 1, 1, 1, 1, 1, 1, 1, 1], 'Last_Modif': 'Sun Apr 24 18:26:50 2016'}\n103\n{'StudyUID': '1.2.124.113532.172.16.25.2.20130717.529.1327224', 'Manufacturer': 'Philips Medical Systems', 'Units': 'BQML', 'Axis': [1, 1, 1, 1, 1, 1, 1, 1, 1, 1, 1, 1, 1, 1, 1, 1, 1, 1], 'Last_Modif': 'Sun Apr 24 18:00:25 2016'}\n104\n{'StudyUID': '1.2.250.1.59.470.940100027.1.20140207163117.4076.132106', 'Manufacturer': 'Philips Medical Systems', 'Units': 'CNTS', 'Axis': [1, 1, 1, 1, 11, 1, 1, 1, 1, 1, 11, 1, 11, 11, 11, 11, 11, 11, 11, 11], 'Last_Modif': 'Wed May  6 15:32:30 2015'}\n105\n{'StudyUID': '1.2.250.1.74.20130503140500.29000033722982', 'Manufacturer': 'Philips Medical Systems', 'Units': 'BQML', 'Axis': [1, 1, 1, 1, 1, 1, 1, 1, 1, 1, 1, 1, 1, 1, 1, 1, 1, 1], 'Last_Modif': 'Sat Apr 30 17:43:15 2016'}\n106\n{'StudyUID': '1.2.250.1.74.20140120125500.29000041272244', 'Manufacturer': 'Philips Medical Systems', 'Units': 'BQML', 'Axis': [1, 1, 1, 1, 1, 1, 1, 1, 1, 1, 1, 1, 1, 1, 1, 1, 1, 1, 1, 1, 1, 1, 1, 1, 1, 1, 1, 1, 1, 1, 1, 1, 1, 1, 1, 1, 1, 1, 1, 1, 1, 1], 'Last_Modif': 'Sat Apr 30 18:18:34 2016'}\n107\n{'StudyUID': '1.2.250.1.74.20140211091500.29000042043409', 'Manufacturer': 'Philips Medical Systems', 'Units': 'BQML', 'Axis': [1, 1, 1, 1, 1, 1, 1, 1, 1, 1, 1, 1, 1, 1, 1, 1, 1, 1, 1, 1, 1, 1, 1, 1, 1, 1], 'Last_Modif': 'Sun Apr 24 18:53:04 2016'}\n108\n{'StudyUID': '1.2.276.0.7230010.3.1.2.3003270646.2816.1373356832.4266', 'Manufacturer': 'Philips Medical Systems', 'Units': 'CNTS', 'Axis': [2, 2, 12, 12], 'Last_Modif': 'Wed Jun 17 16:44:16 2015'}\n109\n{'StudyUID': '1.2.276.0.7230010.3.2.105817', 'Manufacturer': 'Philips Medical Systems', 'Units': 'BQML', 'Axis': [1, 1, 11, 11, 11, 11, 11, 11, 11, 1, 11, 11, 11, 11], 'Last_Modif': 'Thu Apr  7 19:20:39 2016'}\n110\n{'StudyUID': '1.2.276.0.7230010.3.2.138382', 'Manufacturer': 'Philips Medical Systems', 'Units': 'CNTS', 'Axis': [11, 11, 11, 11, 1, 11, 1, 11, 1, 11, 11, 11, 11, 11, 11, 11, 11, 11, 11, 11, 11, 11, 11, 11, 1], 'Last_Modif': 'Tue Jul  7 15:32:29 2015'}\n111\n{'StudyUID': '1.2.276.0.7230010.3.2.20006', 'Manufacturer': 'Philips Medical Systems', 'Units': 'BQML', 'Axis': [1, 11, 11, 1, 1, 11, 11, 11], 'Last_Modif': 'Sun Nov 22 18:00:53 2015'}\n112\n{'StudyUID': '1.2.276.0.7230010.3.2.45910', 'Manufacturer': 'Philips Medical Systems', 'Units': 'BQML', 'Axis': [1, 1, 1, 1, 1, 1, 1, 1, 1, 1, 1], 'Last_Modif': 'Thu Oct 29 17:39:08 2015'}\n113\n{'StudyUID': '1.2.826.0.1.3680043.2.455.30.11.4021026816.2.333992', 'Manufacturer': 'Philips Medical Systems', 'Units': 'BQML', 'Axis': [11, 1, 1, 11], 'Last_Modif': 'Sun Nov 22 18:12:05 2015'}\n114\n{'StudyUID': '1.2.840.113619.2.182.101748215217877.1395356436.115665', 'Manufacturer': 'Philips Medical Systems', 'Units': 'BQML', 'Axis': [1, 1, 1, 1, 1, 1, 1, 1, 1, 1, 1], 'Last_Modif': 'Thu May  5 17:49:07 2016'}\n115\n{'StudyUID': '1.2.840.113704.1.111.1216.1337855742.27', 'Manufacturer': 'Philips Medical Systems', 'Units': 'CNTS', 'Axis': [12, 12, 12, 12, 12, 12, 2, 2, 2, 12, 12, 12], 'Last_Modif': 'Mon Jun 15 11:25:58 2015'}\n116\n{'StudyUID': '1.2.840.113704.1.111.128.1354701399.11', 'Manufacturer': 'Philips Medical Systems', 'Units': 'CNTS', 'Axis': [1, 1, 1, 1, 1, 11, 11, 1, 1, 1, 1, 1, 1], 'Last_Modif': 'Tue Sep 15 23:07:43 2015'}\n117\n{'StudyUID': '1.2.840.113704.1.111.1568.1331717818.3', 'Manufacturer': 'Philips Medical Systems', 'Units': 'BQML', 'Axis': [1, 1, 1, 1, 1, 1, 1, 1, 1, 1, 1, 1, 1, 1, 1, 1, 1, 1, 1, 1, 1, 1, 1, 1, 1, 1], 'Last_Modif': 'Sat Apr 23 17:29:44 2016'}\n89\n{'StudyUID': '1.2.840.113704.1.111.1956.1311057233.3', 'Manufacturer': 'Philips Medical Systems', 'Units': 'CNTS', 'Axis': [1, 1, 1, 1, 1, 1, 1, 1, 1, 1, 11, 11, 1, 1, 11, 11, 11, 11, 11, 11, 11, 11, 11, 1, 1, 1], 'Last_Modif': 'Wed May  6 17:16:09 2015'}\n119\n{'StudyUID': '1.2.840.113704.1.111.2012.1378447874.1', 'Manufacturer': 'Philips Medical Systems', 'Units': 'BQML', 'Axis': [1, 11, 1, 1, 11, 11, 11, 11, 1, 1, 11, 11, 11, 1, 1, 11, 11, 11, 11, 11, 11, 11, 11, 11, 11, 11, 1, 1, 1, 1, 1, 1, 11], 'Last_Modif': 'Sat Mar  5 10:15:42 2016'}\n120\n{'StudyUID': '1.2.840.113704.1.111.2336.1323701994.10', 'Manufacturer': 'Philips Medical Systems', 'Units': 'CNTS', 'Axis': [11, 1, 11, 11, 1, 1, 11, 11, 11, 11, 11, 11, 1, 1, 1, 11, 1, 11, 11, 11, 11, 1, 1, 11], 'Last_Modif': 'Thu Apr 23 16:00:04 2015'}\n121\n{'StudyUID': '1.2.840.113704.1.111.3088.1322567900.8', 'Manufacturer': 'Philips Medical Systems', 'Units': 'CNTS', 'Axis': [1, 11, 1, 11, 1, 11, 11, 11, 1], 'Last_Modif': 'Fri Mar  6 18:33:49 2015'}\n122\n{'StudyUID': '1.2.840.113704.1.111.3096.1325594940.40', 'Manufacturer': 'Philips Medical Systems', 'Units': 'CNTS', 'Axis': [11, 11, 11, 1, 1, 11, 11, 1, 1, 11, 1, 1, 1, 1, 11, 11, 11, 11, 11, 1, 11], 'Last_Modif': 'Mon Jun 15 16:21:53 2015'}\n123\n{'StudyUID': '1.2.840.113704.1.111.3640.1314250757.1', 'Manufacturer': 'Philips Medical Systems', 'Units': 'CNTS', 'Axis': [1, 1, 1, 1, 1, 1, 1, 1, 1, 1], 'Last_Modif': 'Sat Jun 25 23:44:13 2016'}\n124\n{'StudyUID': '1.2.840.113704.1.111.4076.1320063924.21', 'Manufacturer': 'Philips Medical Systems', 'Units': 'CNTS', 'Axis': [2, 2, 2, 2, 2, 2, 2, 12, 2, 12, 2, 12, 12, 12, 12], 'Last_Modif': 'Mon Jun 15 16:37:53 2015'}\n125\n{'StudyUID': '1.2.840.113704.1.111.4692.1327323155.7', 'Manufacturer': 'Philips Medical Systems', 'Units': 'CNTS', 'Axis': [1, 1, 1, 1, 1, 1, 1, 1, 1, 1, 1, 1, 1, 1, 1, 1, 1, 1, 1, 1], 'Last_Modif': 'Sat Jun 25 15:00:09 2016'}\n126\n{'StudyUID': '1.2.840.113704.1.111.4696.1372415198.1', 'Manufacturer': 'Philips Medical Systems', 'Units': 'BQML', 'Axis': [1, 1, 1, 1, 1, 11, 11, 11, 11, 11, 11, 11, 11, 11, 11, 11, 11, 11, 11, 11, 11, 11, 11], 'Last_Modif': 'Tue Oct  6 22:29:46 2015'}\n127\n{'StudyUID': '1.2.840.113704.1.111.5088.1364467322.11', 'Manufacturer': 'Philips Medical Systems', 'Units': 'BQML', 'Axis': [1, 1, 11, 1, 1, 1, 1, 1, 11, 11, 11, 11, 11, 11, 11], 'Last_Modif': 'Sat Apr 16 15:18:58 2016'}\n128\n{'StudyUID': '1.2.840.113704.1.111.5640.1338291790.7', 'Manufacturer': 'Philips Medical Systems', 'Units': 'CNTS', 'Axis': [1, 1, 1, 1, 1, 11, 1, 1, 1, 1, 1, 1, 1, 1, 1, 1], 'Last_Modif': 'Sun Jun 26 16:30:41 2016'}\n129\n{'StudyUID': '1.2.840.113704.1.111.5640.1338298755.10', 'Manufacturer': 'Philips Medical Systems', 'Units': 'CNTS', 'Axis': [1, 1, 1, 1, 1, 1, 1, 1, 1, 1, 1, 1, 1, 1, 1, 1, 1, 1, 1, 1, 1, 1, 1], 'Last_Modif': 'Sat Jun 25 15:56:33 2016'}\n130\n{'StudyUID': '1.2.840.113704.1.111.7112.1389188336.1', 'Manufacturer': 'Philips Medical Systems', 'Units': 'BQML', 'Axis': [1, 1, 1, 1, 1, 1, 1, 1, 1, 1, 1, 1, 1, 1, 1, 1, 1, 1, 1, 1, 1, 1, 1, 1, 1, 1, 1, 1, 1, 1, 1, 1, 1, 1], 'Last_Modif': 'Thu May  5 16:56:50 2016'}\n131\n{'StudyUID': '1.2.840.113704.1.111.8168.1354017085.1', 'Manufacturer': 'Philips Medical Systems', 'Units': 'BQML', 'Axis': [1, 1, 1, 11], 'Last_Modif': 'Tue Oct  6 22:04:35 2015'}\n132\n{'StudyUID': '10.65.2.10.10.3.10423863', 'Manufacturer': 'Philips Medical Systems', 'Units': 'BQML', 'Axis': [1, 1, 1, 1, 1, 1, 1, 1, 1, 1, 1], 'Last_Modif': 'Sat Mar 12 11:37:17 2016'}\n133\n{'StudyUID': '2.16.840.1.113669.632.20.210791.10000145736', 'Manufacturer': 'Philips Medical Systems', 'Units': 'BQML', 'Axis': [1, 1, 1, 1, 1, 1, 1, 1, 1, 1, 1, 1, 1, 1, 11], 'Last_Modif': 'Sun Dec 13 17:14:46 2015'}\n134\n{'StudyUID': '2.16.840.1.113669.632.20.210791.10000146006', 'Manufacturer': 'Philips Medical Systems', 'Units': 'BQML', 'Axis': [1, 11, 1, 1, 1, 1, 1, 1, 1, 1, 1, 1, 1, 1, 1, 11, 1, 1, 11, 11, 1, 11, 11, 11, 1, 11], 'Last_Modif': 'Tue Dec 15 17:58:33 2015'}\n135\n{'StudyUID': '2.16.840.1.113669.632.20.210791.10000154417', 'Manufacturer': 'Philips Medical Systems', 'Units': 'BQML', 'Axis': [1, 1, 1, 1, 1, 1, 1, 1, 1, 1, 1, 1, 1, 1, 1, 1, 1, 1, 11, 11, 11, 11, 11, 11, 11, 1, 11, 11, 11, 11, 11, 11, 11, 11, 11, 11, 11], 'Last_Modif': 'Sun Jan  3 16:39:33 2016'}\n136\n{'StudyUID': '2.16.840.1.113669.632.20.210791.10000155389', 'Manufacturer': 'Philips Medical Systems', 'Units': 'BQML', 'Axis': [11, 11, 1, 1, 1, 11, 11, 1, 11, 1], 'Last_Modif': 'Sun Jan 17 17:44:12 2016'}\n137\n{'StudyUID': '2.16.840.1.113669.632.20.210791.10000159444', 'Manufacturer': 'Philips Medical Systems', 'Units': 'BQML', 'Axis': [1, 11, 1, 11, 1, 1, 1, 1, 1, 1, 1, 1, 1, 1, 1, 1, 1, 1, 1, 1, 1, 1, 11, 1, 11, 11, 1, 1, 1, 1, 1, 1, 11, 1, 11, 11, 1, 1, 1], 'Last_Modif': 'Sun Jan 31 17:15:58 2016'}\n138\n{'StudyUID': '2.16.840.1.113669.632.20.210791.10000161809', 'Manufacturer': 'Philips Medical Systems', 'Units': 'BQML', 'Axis': [1, 1, 1, 1, 1, 1, 1, 11, 11], 'Last_Modif': 'Thu Feb 11 19:25:00 2016'}\n139\n{'StudyUID': '2.16.840.1.113669.632.20.210791.20000001632', 'Manufacturer': 'Philips Medical Systems', 'Units': 'BQML', 'Axis': [1, 1, 1, 1, 11, 1, 1, 1, 1, 1, 1, 1, 1, 11, 1, 1, 11, 1, 11, 1, 1, 1, 1, 1, 1, 1, 1, 1, 1, 1, 1, 1, 1, 1, 1, 1, 1, 1, 1, 1, 1, 1, 1, 1, 1, 1, 1, 1, 1, 1, 1, 1, 1, 1, 1, 1, 1, 1, 1, 1, 1, 1, 1, 1, 1, 1, 1, 1, 1, 1, 11, 11, 1, 11, 11, 11, 11, 11, 11, 11, 1, 1, 1, 1, 1, 11, 11, 1, 1, 11, 1, 1, 1, 1, 1, 1, 1, 1, 11, 1, 1, 11, 1, 1, 1, 1, 11, 11, 11, 11, 1, 1, 1, 11, 1, 11, 11, 11], 'Last_Modif': 'Sun Feb 21 18:44:52 2016'}\n140\n{'StudyUID': '2.16.840.1.113669.632.20.210791.20000003715', 'Manufacturer': 'Philips Medical Systems', 'Units': 'BQML', 'Axis': [1, 11, 11, 11], 'Last_Modif': 'Fri May 27 21:57:07 2016'}\n141\n{'StudyUID': '2.16.840.1.113669.632.20.210791.20000005633', 'Manufacturer': 'Philips Medical Systems', 'Units': 'BQML', 'Axis': [1, 1, 1, 1, 1, 1, 1, 1, 11, 1, 1, 1, 1, 1, 1, 1, 1, 1, 11, 11, 11, 1], 'Last_Modif': 'Thu Feb 25 18:45:44 2016'}\n142\n{'StudyUID': '2.16.840.1.113669.632.20.210791.20000008828', 'Manufacturer': 'Philips Medical Systems', 'Units': 'BQML', 'Axis': [1, 1, 1, 1, 1, 1, 1, 1, 1, 1, 1, 1, 1, 11, 1, 1, 11], 'Last_Modif': 'Sun Feb 28 18:43:31 2016'}\n143\n{'StudyUID': '2.16.840.1.113669.632.20.210791.20000013828', 'Manufacturer': 'Philips Medical Systems', 'Units': 'BQML', 'Axis': [1, 1, 1, 1, 1, 1, 1, 1, 1, 1, 1, 1, 1, 1, 1, 11, 1, 1, 1, 1, 1, 1, 1, 1, 1, 1, 1, 11, 11], 'Last_Modif': 'Wed Mar  9 17:21:32 2016'}\n144\n{'StudyUID': '2.16.840.1.113669.632.20.210791.20000015228', 'Manufacturer': 'Philips Medical Systems', 'Units': 'BQML', 'Axis': [1, 1, 1, 1, 1, 1, 1, 1, 1, 1, 1, 1, 11, 11], 'Last_Modif': 'Thu Mar 10 14:13:34 2016'}\n145\n{'StudyUID': '2.16.840.1.113669.632.20.210791.20000053295', 'Manufacturer': 'Philips Medical Systems', 'Units': 'BQML', 'Axis': [11, 1, 1, 1, 1, 1, 1, 1, 1, 1, 1, 1, 1, 1, 1, 1, 1, 1, 1], 'Last_Modif': 'Sun Mar 20 17:46:00 2016'}\n146\n{'StudyUID': '2.16.840.1.113669.632.20.210791.20000056599', 'Manufacturer': 'Philips Medical Systems', 'Units': 'BQML', 'Axis': [1, 1, 11, 1, 1, 11, 1], 'Last_Modif': 'Mon Mar 28 08:56:25 2016'}\n147\n{'StudyUID': '2.16.840.1.113669.632.20.300001.10000377772', 'Manufacturer': 'Philips Medical Systems', 'Units': 'CNTS', 'Axis': [1, 1, 1, 1, 1, 1, 1, 1, 1, 1, 1, 1, 1, 1, 1, 1, 1, 1, 1, 1, 1], 'Last_Modif': 'Sun Apr 24 16:33:56 2016'}\n"
    }
   ],
   "source": [
    "import os.path, time \n",
    "\n",
    "\n",
    "result = {}\n",
    "for serie in error_suv :\n",
    "    print(error_suv.index(serie))\n",
    "    subliste = {}\n",
    "    if serie[1] =='PT' :\n",
    "        serie_pt_objet = SeriesPT(serie[0])\n",
    "        study_uid = serie_pt_objet.get_series_details()['study']['StudyInstanceUID']\n",
    "        subliste['StudyUID'] = study_uid\n",
    "        subliste['Manufacturer'] = serie_pt_objet.get_series_details()['series']['Manufacturer']\n",
    "        subliste['Units'] = serie_pt_objet.get_series_details()['series']['Units']\n",
    "        nifti_array = serie_pt_objet.get_numpy_array()\n",
    "        size_matrix = serie_pt_objet.get_size_matrix()\n",
    "\n",
    "        mask_objet = MaskBuilder(os.path.join(csv_directory, serie[4]), size_matrix)\n",
    "        number_roi = mask_objet.mask_array.shape[3]\n",
    "        axis = []\n",
    "        for roi in range(1, number_roi+1):\n",
    "            axis.append(mask_objet.details_rois[roi]['type_number'])\n",
    "        subliste['Axis'] = axis\n",
    "        subliste['Last_Modif'] = time.ctime(os.path.getmtime(os.path.join(csv_directory, serie[4])))\n",
    "\n",
    "        result[error_suv.index(serie)] = subliste\n",
    "\n",
    "        print(subliste)\n",
    "\n",
    "\n",
    "\n",
    "    else : \n",
    "        serie_pt_objet = SeriesPT(serie[2])\n",
    "        study_uid = serie_pt_objet.get_series_details()['study']['StudyInstanceUID']\n",
    "        subliste['StudyUID'] = study_uid\n",
    "        subliste['Manufacturer'] = serie_pt_objet.get_series_details()['series']['Manufacturer']\n",
    "        subliste['Units'] = serie_pt_objet.get_series_details()['series']['Units']\n",
    "        nifti_array = serie_pt_objet.get_numpy_array()\n",
    "        size_matrix = serie_pt_objet.get_size_matrix()\n",
    "\n",
    "\n",
    "        mask_objet = MaskBuilder(os.path.join(csv_directory, serie[4]), size_matrix)\n",
    "        number_roi = mask_objet.mask_array.shape[3]\n",
    "        axis = []\n",
    "        for roi in range(1, number_roi+1):\n",
    "            axis.append(mask_objet.details_rois[roi]['type_number'])\n",
    "        subliste['Axis'] = axis\n",
    "        subliste['Last_Modif'] = time.ctime(os.path.getmtime(os.path.join(csv_directory, serie[4])))\n",
    "\n",
    "        result[error_suv.index(serie)] = subliste\n",
    "\n",
    "        print(subliste)"
   ]
  },
  {
   "cell_type": "code",
   "execution_count": 7,
   "metadata": {},
   "outputs": [
    {
     "name": "stdout",
     "output_type": "stream",
     "text": "0\nCERTAINE ROIS FAUSSE\nNBR : 2\nLISTE ROI FAUSSE : [20, 41]\n1\nTOUTE LES ROIS FAUSSES\nNOMBRE DE ROI  10\nROI FAUSSE = 10.0\n2\nTOUTE LES ROIS FAUSSES\nNOMBRE DE ROI  16\nROI FAUSSE = 16.0\n3\nTOUTE LES ROIS FAUSSES\nNOMBRE DE ROI  5\nROI FAUSSE = 5.0\n4\nTOUTE LES ROIS FAUSSES\nNOMBRE DE ROI  30\nROI FAUSSE = 30.0\n5\nTOUTE LES ROIS FAUSSES\nNOMBRE DE ROI  20\nROI FAUSSE = 20.0\n6\nCERTAINE ROIS FAUSSE\nNBR : 1\nLISTE ROI FAUSSE : [17]\n7\nCERTAINE ROIS FAUSSE\nNBR : 2\nLISTE ROI FAUSSE : [18, 27]\n8\nCERTAINE ROIS FAUSSE\nNBR : 2\nLISTE ROI FAUSSE : [9, 40]\n9\nCERTAINE ROIS FAUSSE\nNBR : 1\nLISTE ROI FAUSSE : [8]\n10\nTOUTE LES ROIS FAUSSES\nNOMBRE DE ROI  46\nROI FAUSSE = 46.0\n11\nTOUTE LES ROIS FAUSSES\nNOMBRE DE ROI  15\nROI FAUSSE = 15.0\n12\nCERTAINE ROIS FAUSSE\nNBR : 69\nLISTE ROI FAUSSE : [1, 2, 3, 4, 5, 6, 7, 8, 9, 10, 11, 12, 13, 14, 15, 16, 17, 18, 19, 20, 21, 22, 23, 24, 25, 26, 27, 28, 29, 30, 31, 32, 33, 34, 35, 36, 37, 38, 39, 40, 41, 42, 43, 44, 45, 46, 47, 48, 49, 50, 51, 52, 53, 54, 55, 56, 57, 58, 59, 60, 61, 62, 63, 64, 65, 66, 67, 68, 69]\n13\nTOUTE LES ROIS FAUSSES\nNOMBRE DE ROI  38\nROI FAUSSE = 38.0\n14\nTOUTE LES ROIS FAUSSES\nNOMBRE DE ROI  21\nROI FAUSSE = 21.0\n15\nCERTAINE ROIS FAUSSE\nNBR : 2\nLISTE ROI FAUSSE : [20, 24]\n16\nTOUTE LES ROIS FAUSSES\nNOMBRE DE ROI  6\nROI FAUSSE = 6.0\n17\nTOUTE LES ROIS FAUSSES\nNOMBRE DE ROI  19\nROI FAUSSE = 19.0\n18\nTOUTE LES ROIS FAUSSES\nNOMBRE DE ROI  5\nROI FAUSSE = 5.0\n19\nTOUTE LES ROIS FAUSSES\nNOMBRE DE ROI  12\nROI FAUSSE = 12.0\n20\n"
    },
    {
     "ename": "KeyboardInterrupt",
     "evalue": "",
     "output_type": "error",
     "traceback": [
      "\u001b[0;31m---------------------------------------------------------------------------\u001b[0m",
      "\u001b[0;31mKeyboardInterrupt\u001b[0m                         Traceback (most recent call last)",
      "\u001b[0;32m<ipython-input-7-7654248d184f>\u001b[0m in \u001b[0;36m<module>\u001b[0;34m\u001b[0m\n\u001b[1;32m      9\u001b[0m             \u001b[0mstudy_uid\u001b[0m \u001b[0;34m=\u001b[0m \u001b[0mserie_pt_objet\u001b[0m\u001b[0;34m.\u001b[0m\u001b[0mget_series_details\u001b[0m\u001b[0;34m(\u001b[0m\u001b[0;34m)\u001b[0m\u001b[0;34m[\u001b[0m\u001b[0;34m'study'\u001b[0m\u001b[0;34m]\u001b[0m\u001b[0;34m[\u001b[0m\u001b[0;34m'StudyInstanceUID'\u001b[0m\u001b[0;34m]\u001b[0m\u001b[0;34m\u001b[0m\u001b[0;34m\u001b[0m\u001b[0m\n\u001b[1;32m     10\u001b[0m             \u001b[0msize_matrix\u001b[0m \u001b[0;34m=\u001b[0m \u001b[0mserie_pt_objet\u001b[0m\u001b[0;34m.\u001b[0m\u001b[0mget_size_matrix\u001b[0m\u001b[0;34m(\u001b[0m\u001b[0;34m)\u001b[0m\u001b[0;34m\u001b[0m\u001b[0;34m\u001b[0m\u001b[0m\n\u001b[0;32m---> 11\u001b[0;31m             \u001b[0mmask_objet\u001b[0m \u001b[0;34m=\u001b[0m \u001b[0mMaskBuilder\u001b[0m\u001b[0;34m(\u001b[0m\u001b[0mos\u001b[0m\u001b[0;34m.\u001b[0m\u001b[0mpath\u001b[0m\u001b[0;34m.\u001b[0m\u001b[0mjoin\u001b[0m\u001b[0;34m(\u001b[0m\u001b[0mcsv_directory\u001b[0m\u001b[0;34m,\u001b[0m \u001b[0mserie\u001b[0m\u001b[0;34m[\u001b[0m\u001b[0;36m4\u001b[0m\u001b[0;34m]\u001b[0m\u001b[0;34m)\u001b[0m\u001b[0;34m,\u001b[0m \u001b[0msize_matrix\u001b[0m\u001b[0;34m)\u001b[0m\u001b[0;34m\u001b[0m\u001b[0;34m\u001b[0m\u001b[0m\n\u001b[0m\u001b[1;32m     12\u001b[0m             \u001b[0mmask_4D\u001b[0m \u001b[0;34m=\u001b[0m \u001b[0mmask_objet\u001b[0m\u001b[0;34m.\u001b[0m\u001b[0mmask_array\u001b[0m\u001b[0;34m\u001b[0m\u001b[0;34m\u001b[0m\u001b[0m\n\u001b[1;32m     13\u001b[0m             \u001b[0mnumber_roi\u001b[0m \u001b[0;34m=\u001b[0m \u001b[0mmask_4D\u001b[0m\u001b[0;34m.\u001b[0m\u001b[0mshape\u001b[0m\u001b[0;34m[\u001b[0m\u001b[0;36m3\u001b[0m\u001b[0;34m]\u001b[0m\u001b[0;34m\u001b[0m\u001b[0;34m\u001b[0m\u001b[0m\n",
      "\u001b[0;32m~/library-DICOM/library_dicom/dicom_processor/model/csv_reader/MaskBuilder.py\u001b[0m in \u001b[0;36m__init__\u001b[0;34m(self, csv_path, matrix_size)\u001b[0m\n\u001b[1;32m     21\u001b[0m         \u001b[0mself\u001b[0m\u001b[0;34m.\u001b[0m\u001b[0mmatrix_size\u001b[0m\u001b[0;34m=\u001b[0m\u001b[0mmatrix_size\u001b[0m\u001b[0;34m\u001b[0m\u001b[0;34m\u001b[0m\u001b[0m\n\u001b[1;32m     22\u001b[0m         \u001b[0mself\u001b[0m\u001b[0;34m.\u001b[0m\u001b[0mnumber_of_rois\u001b[0m \u001b[0;34m=\u001b[0m \u001b[0mlen\u001b[0m\u001b[0;34m(\u001b[0m\u001b[0mself\u001b[0m\u001b[0;34m.\u001b[0m\u001b[0mdetails_rois\u001b[0m\u001b[0;34m)\u001b[0m \u001b[0;34m-\u001b[0m \u001b[0;36m2\u001b[0m \u001b[0;31m#moins ligne SUL + ligne SUClo\u001b[0m\u001b[0;34m\u001b[0m\u001b[0;34m\u001b[0m\u001b[0m\n\u001b[0;32m---> 23\u001b[0;31m         \u001b[0mself\u001b[0m\u001b[0;34m.\u001b[0m\u001b[0mmask_array\u001b[0m \u001b[0;34m=\u001b[0m \u001b[0mself\u001b[0m\u001b[0;34m.\u001b[0m\u001b[0mbuild_mask\u001b[0m\u001b[0;34m(\u001b[0m\u001b[0;34m)\u001b[0m\u001b[0;34m\u001b[0m\u001b[0;34m\u001b[0m\u001b[0m\n\u001b[0m\u001b[1;32m     24\u001b[0m \u001b[0;34m\u001b[0m\u001b[0m\n\u001b[1;32m     25\u001b[0m \u001b[0;34m\u001b[0m\u001b[0m\n",
      "\u001b[0;32m~/library-DICOM/library_dicom/dicom_processor/model/csv_reader/MaskBuilder.py\u001b[0m in \u001b[0;36mbuild_mask\u001b[0;34m(self)\u001b[0m\n\u001b[1;32m     39\u001b[0m         \u001b[0;32mfor\u001b[0m \u001b[0mnumber_roi\u001b[0m \u001b[0;32min\u001b[0m \u001b[0mrange\u001b[0m\u001b[0;34m(\u001b[0m\u001b[0;36m1\u001b[0m \u001b[0;34m,\u001b[0m  \u001b[0mself\u001b[0m\u001b[0;34m.\u001b[0m\u001b[0mnumber_of_rois\u001b[0m \u001b[0;34m+\u001b[0m \u001b[0;36m1\u001b[0m\u001b[0;34m)\u001b[0m\u001b[0;34m:\u001b[0m\u001b[0;34m\u001b[0m\u001b[0;34m\u001b[0m\u001b[0m\n\u001b[1;32m     40\u001b[0m             \u001b[0;31m#print(number_roi)\u001b[0m\u001b[0;34m\u001b[0m\u001b[0;34m\u001b[0m\u001b[0;34m\u001b[0m\u001b[0m\n\u001b[0;32m---> 41\u001b[0;31m             \u001b[0mroi_object\u001b[0m \u001b[0;34m=\u001b[0m \u001b[0mRoiFactory\u001b[0m\u001b[0;34m(\u001b[0m\u001b[0mself\u001b[0m\u001b[0;34m.\u001b[0m\u001b[0mdetails_rois\u001b[0m\u001b[0;34m[\u001b[0m\u001b[0mnumber_roi\u001b[0m\u001b[0;34m]\u001b[0m\u001b[0;34m,\u001b[0m \u001b[0;34m(\u001b[0m\u001b[0mself\u001b[0m\u001b[0;34m.\u001b[0m\u001b[0mmatrix_size\u001b[0m\u001b[0;34m[\u001b[0m\u001b[0;36m0\u001b[0m\u001b[0;34m]\u001b[0m\u001b[0;34m,\u001b[0m \u001b[0mself\u001b[0m\u001b[0;34m.\u001b[0m\u001b[0mmatrix_size\u001b[0m\u001b[0;34m[\u001b[0m\u001b[0;36m1\u001b[0m\u001b[0;34m]\u001b[0m\u001b[0;34m,\u001b[0m \u001b[0mself\u001b[0m\u001b[0;34m.\u001b[0m\u001b[0mmatrix_size\u001b[0m\u001b[0;34m[\u001b[0m\u001b[0;36m2\u001b[0m\u001b[0;34m]\u001b[0m\u001b[0;34m)\u001b[0m \u001b[0;34m,\u001b[0m \u001b[0mnumber_roi\u001b[0m\u001b[0;34m)\u001b[0m\u001b[0;34m.\u001b[0m\u001b[0mread_roi\u001b[0m\u001b[0;34m(\u001b[0m\u001b[0;34m)\u001b[0m \u001b[0;31m#.list_points\u001b[0m\u001b[0;34m\u001b[0m\u001b[0;34m\u001b[0m\u001b[0m\n\u001b[0m\u001b[1;32m     42\u001b[0m             \u001b[0mlist_points\u001b[0m \u001b[0;34m=\u001b[0m \u001b[0mroi_object\u001b[0m\u001b[0;34m.\u001b[0m\u001b[0mlist_points\u001b[0m\u001b[0;34m\u001b[0m\u001b[0;34m\u001b[0m\u001b[0m\n\u001b[1;32m     43\u001b[0m             \u001b[0mnp_array_3D\u001b[0m \u001b[0;34m=\u001b[0m \u001b[0mroi_object\u001b[0m\u001b[0;34m.\u001b[0m\u001b[0mget_mask\u001b[0m\u001b[0;34m(\u001b[0m\u001b[0mlist_points\u001b[0m\u001b[0;34m,\u001b[0m \u001b[0mnumber_roi\u001b[0m\u001b[0;34m)\u001b[0m \u001b[0;31m#3D_array\u001b[0m\u001b[0;34m\u001b[0m\u001b[0;34m\u001b[0m\u001b[0m\n",
      "\u001b[0;32m~/library-DICOM/library_dicom/dicom_processor/model/csv_reader/RoiFactory.py\u001b[0m in \u001b[0;36mread_roi\u001b[0;34m(self)\u001b[0m\n\u001b[1;32m     40\u001b[0m \u001b[0;34m\u001b[0m\u001b[0m\n\u001b[1;32m     41\u001b[0m         \u001b[0;32melif\u001b[0m \u001b[0;34m(\u001b[0m\u001b[0mself\u001b[0m\u001b[0;34m.\u001b[0m\u001b[0mdetails\u001b[0m\u001b[0;34m[\u001b[0m\u001b[0;34m'type_number'\u001b[0m\u001b[0;34m]\u001b[0m \u001b[0;34m==\u001b[0m \u001b[0;36m11\u001b[0m\u001b[0;34m)\u001b[0m\u001b[0;34m:\u001b[0m\u001b[0;34m\u001b[0m\u001b[0;34m\u001b[0m\u001b[0m\n\u001b[0;32m---> 42\u001b[0;31m             \u001b[0;32mreturn\u001b[0m \u001b[0mRoiElipse\u001b[0m\u001b[0;34m(\u001b[0m \u001b[0;36m1\u001b[0m\u001b[0;34m,\u001b[0m \u001b[0mfirst_slice\u001b[0m\u001b[0;34m,\u001b[0m \u001b[0mlast_slice\u001b[0m\u001b[0;34m,\u001b[0m \u001b[0mroi_number\u001b[0m\u001b[0;34m,\u001b[0m \u001b[0mtype_number\u001b[0m\u001b[0;34m,\u001b[0m \u001b[0mpoint_list\u001b[0m\u001b[0;34m,\u001b[0m \u001b[0mvolume_dimension\u001b[0m \u001b[0;34m)\u001b[0m\u001b[0;34m\u001b[0m\u001b[0;34m\u001b[0m\u001b[0m\n\u001b[0m\u001b[1;32m     43\u001b[0m \u001b[0;34m\u001b[0m\u001b[0m\n\u001b[1;32m     44\u001b[0m         \u001b[0;32melif\u001b[0m \u001b[0;34m(\u001b[0m\u001b[0mself\u001b[0m\u001b[0;34m.\u001b[0m\u001b[0mdetails\u001b[0m\u001b[0;34m[\u001b[0m\u001b[0;34m'type_number'\u001b[0m\u001b[0;34m]\u001b[0m \u001b[0;34m==\u001b[0m \u001b[0;36m2\u001b[0m\u001b[0;34m)\u001b[0m\u001b[0;34m:\u001b[0m\u001b[0;34m\u001b[0m\u001b[0;34m\u001b[0m\u001b[0m\n",
      "\u001b[0;32m~/library-DICOM/library_dicom/dicom_processor/model/csv_reader/RoiElipse.py\u001b[0m in \u001b[0;36m__init__\u001b[0;34m(self, axis, first_slice, last_slice, roi_number, type_number, list_point, volume_dimension)\u001b[0m\n\u001b[1;32m     13\u001b[0m     \u001b[0;32mdef\u001b[0m \u001b[0m__init__\u001b[0m\u001b[0;34m(\u001b[0m\u001b[0mself\u001b[0m\u001b[0;34m,\u001b[0m \u001b[0maxis\u001b[0m\u001b[0;34m,\u001b[0m \u001b[0mfirst_slice\u001b[0m\u001b[0;34m,\u001b[0m \u001b[0mlast_slice\u001b[0m\u001b[0;34m,\u001b[0m \u001b[0mroi_number\u001b[0m\u001b[0;34m,\u001b[0m \u001b[0mtype_number\u001b[0m\u001b[0;34m,\u001b[0m \u001b[0mlist_point\u001b[0m\u001b[0;34m,\u001b[0m \u001b[0mvolume_dimension\u001b[0m\u001b[0;34m)\u001b[0m\u001b[0;34m:\u001b[0m\u001b[0;34m\u001b[0m\u001b[0;34m\u001b[0m\u001b[0m\n\u001b[1;32m     14\u001b[0m         \u001b[0msuper\u001b[0m\u001b[0;34m(\u001b[0m\u001b[0;34m)\u001b[0m\u001b[0;34m.\u001b[0m\u001b[0m__init__\u001b[0m\u001b[0;34m(\u001b[0m\u001b[0maxis\u001b[0m\u001b[0;34m,\u001b[0m \u001b[0mfirst_slice\u001b[0m\u001b[0;34m,\u001b[0m \u001b[0mlast_slice\u001b[0m\u001b[0;34m,\u001b[0m \u001b[0mroi_number\u001b[0m\u001b[0;34m,\u001b[0m \u001b[0mtype_number\u001b[0m\u001b[0;34m,\u001b[0m \u001b[0mlist_point\u001b[0m\u001b[0;34m,\u001b[0m \u001b[0mvolume_dimension\u001b[0m\u001b[0;34m)\u001b[0m\u001b[0;34m\u001b[0m\u001b[0;34m\u001b[0m\u001b[0m\n\u001b[0;32m---> 15\u001b[0;31m         \u001b[0mself\u001b[0m\u001b[0;34m.\u001b[0m\u001b[0mlist_points\u001b[0m \u001b[0;34m=\u001b[0m \u001b[0mself\u001b[0m\u001b[0;34m.\u001b[0m\u001b[0mcalculateMaskPoint\u001b[0m\u001b[0;34m(\u001b[0m\u001b[0;34m)\u001b[0m\u001b[0;34m\u001b[0m\u001b[0;34m\u001b[0m\u001b[0m\n\u001b[0m\u001b[1;32m     16\u001b[0m \u001b[0;34m\u001b[0m\u001b[0m\n\u001b[1;32m     17\u001b[0m \u001b[0;34m\u001b[0m\u001b[0m\n",
      "\u001b[0;32m~/library-DICOM/library_dicom/dicom_processor/model/csv_reader/RoiElipse.py\u001b[0m in \u001b[0;36mcalculateMaskPoint\u001b[0;34m(self)\u001b[0m\n\u001b[1;32m     43\u001b[0m \u001b[0;34m\u001b[0m\u001b[0m\n\u001b[1;32m     44\u001b[0m             \u001b[0mroi_pixel_matplot\u001b[0m \u001b[0;34m=\u001b[0m \u001b[0mself\u001b[0m\u001b[0;34m.\u001b[0m\u001b[0m__create_elipse\u001b[0m\u001b[0;34m(\u001b[0m\u001b[0;36m2\u001b[0m \u001b[0;34m*\u001b[0m \u001b[0mwidth\u001b[0m\u001b[0;34m,\u001b[0m \u001b[0;36m2\u001b[0m \u001b[0;34m*\u001b[0m \u001b[0mheight\u001b[0m\u001b[0;34m)\u001b[0m\u001b[0;34m\u001b[0m\u001b[0;34m\u001b[0m\u001b[0m\n\u001b[0;32m---> 45\u001b[0;31m             \u001b[0mpoint\u001b[0m \u001b[0;34m=\u001b[0m \u001b[0msuper\u001b[0m\u001b[0;34m(\u001b[0m\u001b[0;34m)\u001b[0m\u001b[0;34m.\u001b[0m\u001b[0mmask_roi_in_slice\u001b[0m\u001b[0;34m(\u001b[0m\u001b[0mroi_pixel_matplot\u001b[0m\u001b[0;34m)\u001b[0m\u001b[0;34m\u001b[0m\u001b[0;34m\u001b[0m\u001b[0m\n\u001b[0m\u001b[1;32m     46\u001b[0m \u001b[0;34m\u001b[0m\u001b[0m\n\u001b[1;32m     47\u001b[0m             \u001b[0;32mfor\u001b[0m \u001b[0mi\u001b[0m \u001b[0;32min\u001b[0m \u001b[0mrange\u001b[0m\u001b[0;34m(\u001b[0m\u001b[0mlen\u001b[0m\u001b[0;34m(\u001b[0m\u001b[0mpoint\u001b[0m\u001b[0;34m)\u001b[0m\u001b[0;34m)\u001b[0m\u001b[0;34m:\u001b[0m\u001b[0;34m\u001b[0m\u001b[0;34m\u001b[0m\u001b[0m\n",
      "\u001b[0;32m~/library-DICOM/library_dicom/dicom_processor/model/csv_reader/Roi.py\u001b[0m in \u001b[0;36mmask_roi_in_slice\u001b[0;34m(self, patch)\u001b[0m\n\u001b[1;32m     55\u001b[0m         \u001b[0;32mfor\u001b[0m \u001b[0mx\u001b[0m \u001b[0;32min\u001b[0m \u001b[0mrange\u001b[0m\u001b[0;34m(\u001b[0m\u001b[0mxmin\u001b[0m\u001b[0;34m,\u001b[0m \u001b[0mxmax\u001b[0m \u001b[0;34m+\u001b[0m \u001b[0;36m1\u001b[0m\u001b[0;34m)\u001b[0m\u001b[0;34m:\u001b[0m\u001b[0;34m\u001b[0m\u001b[0;34m\u001b[0m\u001b[0m\n\u001b[1;32m     56\u001b[0m             \u001b[0;32mfor\u001b[0m \u001b[0my\u001b[0m \u001b[0;32min\u001b[0m \u001b[0mrange\u001b[0m\u001b[0;34m(\u001b[0m\u001b[0mymin\u001b[0m\u001b[0;34m,\u001b[0m \u001b[0mymax\u001b[0m \u001b[0;34m+\u001b[0m \u001b[0;36m1\u001b[0m\u001b[0;34m)\u001b[0m \u001b[0;34m:\u001b[0m\u001b[0;34m\u001b[0m\u001b[0;34m\u001b[0m\u001b[0m\n\u001b[0;32m---> 57\u001b[0;31m                 \u001b[0;32mif\u001b[0m \u001b[0mpatch\u001b[0m\u001b[0;34m.\u001b[0m\u001b[0mcontains_point\u001b[0m\u001b[0;34m(\u001b[0m\u001b[0;34m[\u001b[0m\u001b[0mx\u001b[0m\u001b[0;34m,\u001b[0m\u001b[0my\u001b[0m\u001b[0;34m]\u001b[0m\u001b[0;34m,\u001b[0m \u001b[0mradius\u001b[0m \u001b[0;34m=\u001b[0m \u001b[0;36m0\u001b[0m\u001b[0;34m)\u001b[0m \u001b[0;34m:\u001b[0m\u001b[0;34m\u001b[0m\u001b[0;34m\u001b[0m\u001b[0m\n\u001b[0m\u001b[1;32m     58\u001b[0m                     \u001b[0mpoints\u001b[0m\u001b[0;34m.\u001b[0m\u001b[0mappend\u001b[0m\u001b[0;34m(\u001b[0m\u001b[0;34m[\u001b[0m\u001b[0mx\u001b[0m\u001b[0;34m,\u001b[0m\u001b[0my\u001b[0m\u001b[0;34m]\u001b[0m\u001b[0;34m)\u001b[0m\u001b[0;34m\u001b[0m\u001b[0;34m\u001b[0m\u001b[0m\n\u001b[1;32m     59\u001b[0m \u001b[0;34m\u001b[0m\u001b[0m\n",
      "\u001b[0;32m~/.local/lib/python3.8/site-packages/matplotlib/patches.py\u001b[0m in \u001b[0;36mcontains_point\u001b[0;34m(self, point, radius)\u001b[0m\n\u001b[1;32m    200\u001b[0m         \u001b[0mradius\u001b[0m \u001b[0;34m=\u001b[0m \u001b[0mself\u001b[0m\u001b[0;34m.\u001b[0m\u001b[0m_process_radius\u001b[0m\u001b[0;34m(\u001b[0m\u001b[0mradius\u001b[0m\u001b[0;34m)\u001b[0m\u001b[0;34m\u001b[0m\u001b[0;34m\u001b[0m\u001b[0m\n\u001b[1;32m    201\u001b[0m         return self.get_path().contains_point(point,\n\u001b[0;32m--> 202\u001b[0;31m                                               \u001b[0mself\u001b[0m\u001b[0;34m.\u001b[0m\u001b[0mget_transform\u001b[0m\u001b[0;34m(\u001b[0m\u001b[0;34m)\u001b[0m\u001b[0;34m,\u001b[0m\u001b[0;34m\u001b[0m\u001b[0;34m\u001b[0m\u001b[0m\n\u001b[0m\u001b[1;32m    203\u001b[0m                                               radius)\n\u001b[1;32m    204\u001b[0m \u001b[0;34m\u001b[0m\u001b[0m\n",
      "\u001b[0;32m~/.local/lib/python3.8/site-packages/matplotlib/patches.py\u001b[0m in \u001b[0;36mget_transform\u001b[0;34m(self)\u001b[0m\n\u001b[1;32m    260\u001b[0m     \u001b[0;32mdef\u001b[0m \u001b[0mget_transform\u001b[0m\u001b[0;34m(\u001b[0m\u001b[0mself\u001b[0m\u001b[0;34m)\u001b[0m\u001b[0;34m:\u001b[0m\u001b[0;34m\u001b[0m\u001b[0;34m\u001b[0m\u001b[0m\n\u001b[1;32m    261\u001b[0m         \u001b[0;34m\"\"\"Return the `~.transforms.Transform` applied to the `Patch`.\"\"\"\u001b[0m\u001b[0;34m\u001b[0m\u001b[0;34m\u001b[0m\u001b[0m\n\u001b[0;32m--> 262\u001b[0;31m         \u001b[0;32mreturn\u001b[0m \u001b[0mself\u001b[0m\u001b[0;34m.\u001b[0m\u001b[0mget_patch_transform\u001b[0m\u001b[0;34m(\u001b[0m\u001b[0;34m)\u001b[0m \u001b[0;34m+\u001b[0m \u001b[0martist\u001b[0m\u001b[0;34m.\u001b[0m\u001b[0mArtist\u001b[0m\u001b[0;34m.\u001b[0m\u001b[0mget_transform\u001b[0m\u001b[0;34m(\u001b[0m\u001b[0mself\u001b[0m\u001b[0;34m)\u001b[0m\u001b[0;34m\u001b[0m\u001b[0;34m\u001b[0m\u001b[0m\n\u001b[0m\u001b[1;32m    263\u001b[0m \u001b[0;34m\u001b[0m\u001b[0m\n\u001b[1;32m    264\u001b[0m     \u001b[0;32mdef\u001b[0m \u001b[0mget_data_transform\u001b[0m\u001b[0;34m(\u001b[0m\u001b[0mself\u001b[0m\u001b[0;34m)\u001b[0m\u001b[0;34m:\u001b[0m\u001b[0;34m\u001b[0m\u001b[0;34m\u001b[0m\u001b[0m\n",
      "\u001b[0;32m~/.local/lib/python3.8/site-packages/matplotlib/patches.py\u001b[0m in \u001b[0;36mget_patch_transform\u001b[0;34m(self)\u001b[0m\n\u001b[1;32m   1426\u001b[0m \u001b[0;34m\u001b[0m\u001b[0m\n\u001b[1;32m   1427\u001b[0m     \u001b[0;32mdef\u001b[0m \u001b[0mget_patch_transform\u001b[0m\u001b[0;34m(\u001b[0m\u001b[0mself\u001b[0m\u001b[0;34m)\u001b[0m\u001b[0;34m:\u001b[0m\u001b[0;34m\u001b[0m\u001b[0;34m\u001b[0m\u001b[0m\n\u001b[0;32m-> 1428\u001b[0;31m         \u001b[0mself\u001b[0m\u001b[0;34m.\u001b[0m\u001b[0m_recompute_transform\u001b[0m\u001b[0;34m(\u001b[0m\u001b[0;34m)\u001b[0m\u001b[0;34m\u001b[0m\u001b[0;34m\u001b[0m\u001b[0m\n\u001b[0m\u001b[1;32m   1429\u001b[0m         \u001b[0;32mreturn\u001b[0m \u001b[0mself\u001b[0m\u001b[0;34m.\u001b[0m\u001b[0m_patch_transform\u001b[0m\u001b[0;34m\u001b[0m\u001b[0;34m\u001b[0m\u001b[0m\n\u001b[1;32m   1430\u001b[0m \u001b[0;34m\u001b[0m\u001b[0m\n",
      "\u001b[0;32m~/.local/lib/python3.8/site-packages/matplotlib/patches.py\u001b[0m in \u001b[0;36m_recompute_transform\u001b[0;34m(self)\u001b[0m\n\u001b[1;32m   1414\u001b[0m         \u001b[0mwidth\u001b[0m \u001b[0;34m=\u001b[0m \u001b[0mself\u001b[0m\u001b[0;34m.\u001b[0m\u001b[0mconvert_xunits\u001b[0m\u001b[0;34m(\u001b[0m\u001b[0mself\u001b[0m\u001b[0;34m.\u001b[0m\u001b[0mwidth\u001b[0m\u001b[0;34m)\u001b[0m\u001b[0;34m\u001b[0m\u001b[0;34m\u001b[0m\u001b[0m\n\u001b[1;32m   1415\u001b[0m         \u001b[0mheight\u001b[0m \u001b[0;34m=\u001b[0m \u001b[0mself\u001b[0m\u001b[0;34m.\u001b[0m\u001b[0mconvert_yunits\u001b[0m\u001b[0;34m(\u001b[0m\u001b[0mself\u001b[0m\u001b[0;34m.\u001b[0m\u001b[0mheight\u001b[0m\u001b[0;34m)\u001b[0m\u001b[0;34m\u001b[0m\u001b[0;34m\u001b[0m\u001b[0m\n\u001b[0;32m-> 1416\u001b[0;31m         \u001b[0mself\u001b[0m\u001b[0;34m.\u001b[0m\u001b[0m_patch_transform\u001b[0m \u001b[0;34m=\u001b[0m \u001b[0mtransforms\u001b[0m\u001b[0;34m.\u001b[0m\u001b[0mAffine2D\u001b[0m\u001b[0;34m(\u001b[0m\u001b[0;34m)\u001b[0m\u001b[0;31m \u001b[0m\u001b[0;31m\\\u001b[0m\u001b[0;34m\u001b[0m\u001b[0;34m\u001b[0m\u001b[0m\n\u001b[0m\u001b[1;32m   1417\u001b[0m             \u001b[0;34m.\u001b[0m\u001b[0mscale\u001b[0m\u001b[0;34m(\u001b[0m\u001b[0mwidth\u001b[0m \u001b[0;34m*\u001b[0m \u001b[0;36m0.5\u001b[0m\u001b[0;34m,\u001b[0m \u001b[0mheight\u001b[0m \u001b[0;34m*\u001b[0m \u001b[0;36m0.5\u001b[0m\u001b[0;34m)\u001b[0m\u001b[0;31m \u001b[0m\u001b[0;31m\\\u001b[0m\u001b[0;34m\u001b[0m\u001b[0;34m\u001b[0m\u001b[0m\n\u001b[1;32m   1418\u001b[0m             \u001b[0;34m.\u001b[0m\u001b[0mrotate_deg\u001b[0m\u001b[0;34m(\u001b[0m\u001b[0mself\u001b[0m\u001b[0;34m.\u001b[0m\u001b[0mangle\u001b[0m\u001b[0;34m)\u001b[0m\u001b[0;31m \u001b[0m\u001b[0;31m\\\u001b[0m\u001b[0;34m\u001b[0m\u001b[0;34m\u001b[0m\u001b[0m\n",
      "\u001b[0;32m~/.local/lib/python3.8/site-packages/matplotlib/transforms.py\u001b[0m in \u001b[0;36mrotate_deg\u001b[0;34m(self, degrees)\u001b[0m\n\u001b[1;32m   1946\u001b[0m         \u001b[0;32mand\u001b[0m \u001b[0;34m:\u001b[0m\u001b[0mmeth\u001b[0m\u001b[0;34m:\u001b[0m\u001b[0;31m`\u001b[0m\u001b[0mscale\u001b[0m\u001b[0;31m`\u001b[0m\u001b[0;34m.\u001b[0m\u001b[0;34m\u001b[0m\u001b[0;34m\u001b[0m\u001b[0m\n\u001b[1;32m   1947\u001b[0m         \"\"\"\n\u001b[0;32m-> 1948\u001b[0;31m         \u001b[0;32mreturn\u001b[0m \u001b[0mself\u001b[0m\u001b[0;34m.\u001b[0m\u001b[0mrotate\u001b[0m\u001b[0;34m(\u001b[0m\u001b[0mnp\u001b[0m\u001b[0;34m.\u001b[0m\u001b[0mdeg2rad\u001b[0m\u001b[0;34m(\u001b[0m\u001b[0mdegrees\u001b[0m\u001b[0;34m)\u001b[0m\u001b[0;34m)\u001b[0m\u001b[0;34m\u001b[0m\u001b[0;34m\u001b[0m\u001b[0m\n\u001b[0m\u001b[1;32m   1949\u001b[0m \u001b[0;34m\u001b[0m\u001b[0m\n\u001b[1;32m   1950\u001b[0m     \u001b[0;32mdef\u001b[0m \u001b[0mrotate_around\u001b[0m\u001b[0;34m(\u001b[0m\u001b[0mself\u001b[0m\u001b[0;34m,\u001b[0m \u001b[0mx\u001b[0m\u001b[0;34m,\u001b[0m \u001b[0my\u001b[0m\u001b[0;34m,\u001b[0m \u001b[0mtheta\u001b[0m\u001b[0;34m)\u001b[0m\u001b[0;34m:\u001b[0m\u001b[0;34m\u001b[0m\u001b[0;34m\u001b[0m\u001b[0m\n",
      "\u001b[0;32m~/.local/lib/python3.8/site-packages/matplotlib/transforms.py\u001b[0m in \u001b[0;36mrotate\u001b[0;34m(self, theta)\u001b[0m\n\u001b[1;32m   1930\u001b[0m         \u001b[0;32mand\u001b[0m \u001b[0;34m:\u001b[0m\u001b[0mmeth\u001b[0m\u001b[0;34m:\u001b[0m\u001b[0;31m`\u001b[0m\u001b[0mscale\u001b[0m\u001b[0;31m`\u001b[0m\u001b[0;34m.\u001b[0m\u001b[0;34m\u001b[0m\u001b[0;34m\u001b[0m\u001b[0m\n\u001b[1;32m   1931\u001b[0m         \"\"\"\n\u001b[0;32m-> 1932\u001b[0;31m         \u001b[0ma\u001b[0m \u001b[0;34m=\u001b[0m \u001b[0mnp\u001b[0m\u001b[0;34m.\u001b[0m\u001b[0mcos\u001b[0m\u001b[0;34m(\u001b[0m\u001b[0mtheta\u001b[0m\u001b[0;34m)\u001b[0m\u001b[0;34m\u001b[0m\u001b[0;34m\u001b[0m\u001b[0m\n\u001b[0m\u001b[1;32m   1933\u001b[0m         \u001b[0mb\u001b[0m \u001b[0;34m=\u001b[0m \u001b[0mnp\u001b[0m\u001b[0;34m.\u001b[0m\u001b[0msin\u001b[0m\u001b[0;34m(\u001b[0m\u001b[0mtheta\u001b[0m\u001b[0;34m)\u001b[0m\u001b[0;34m\u001b[0m\u001b[0;34m\u001b[0m\u001b[0m\n\u001b[1;32m   1934\u001b[0m         rotate_mtx = np.array([[a, -b, 0.0], [b, a, 0.0], [0.0, 0.0, 1.0]],\n",
      "\u001b[0;31mKeyboardInterrupt\u001b[0m: "
     ]
    }
   ],
   "source": [
    "all_false_roi = []\n",
    "false_roi = []\n",
    "for serie in error_suv : \n",
    "    print(error_suv.index(serie))\n",
    "    try : \n",
    "        if serie[1] == 'PT' : \n",
    "            serie_pt_objet = SeriesPT(serie[0]) \n",
    "            nifti_array = serie_pt_objet.get_numpy_array()\n",
    "            study_uid = serie_pt_objet.get_series_details()['study']['StudyInstanceUID']\n",
    "            size_matrix = serie_pt_objet.get_size_matrix()\n",
    "            mask_objet = MaskBuilder(os.path.join(csv_directory, serie[4]), size_matrix)\n",
    "            mask_4D = mask_objet.mask_array\n",
    "            number_roi = mask_4D.shape[3]\n",
    "            ecart_suv_max = mask_objet.ecart_suv_max(nifti_array)\n",
    "            number_false_roi = len(ecart_suv_max)/3\n",
    "            if number_false_roi == number_roi : \n",
    "                print(\"TOUTE LES ROIS FAUSSES\")\n",
    "                all_false_roi.append(serie)\n",
    "                ecart_flip = mask_objet.ecart_suv_max(nifti_array, flip = True)\n",
    "                number_false_roi_flip = len(ecart_flip)/3\n",
    "                print(\"NOMBRE DE ROI \", number_roi)\n",
    "                print(\"ROI FAUSSE =\", number_false_roi)\n",
    "\n",
    "\n",
    "            else :\n",
    "                print(\"CERTAINE ROIS FAUSSE\")\n",
    "                liste = ecart_suv_max[::3]\n",
    "                print(\"NBR :\", int(number_false_roi)) \n",
    "                print(\"LISTE ROI FAUSSE :\", liste)\n",
    "                false_roi.append(serie)\n",
    "                false_roi.append(int(number_false_roi))\n",
    "                false_roi.append(liste)\n",
    "            \n",
    "\n",
    "\n",
    "\n",
    "\n",
    "        else : \n",
    "            serie_pt_objet = SeriesPT(serie[2]) \n",
    "            nifti_array = serie_pt_objet.get_numpy_array()\n",
    "            study_uid = serie_pt_objet.get_series_details()['study']['StudyInstanceUID']\n",
    "            size_matrix = serie_pt_objet.get_size_matrix()\n",
    "            mask_objet = MaskBuilder(os.path.join(csv_directory, serie[4]), size_matrix)\n",
    "            mask_4D = mask_objet.mask_array\n",
    "            number_roi = mask_4D.shape[3]\n",
    "            ecart_suv_max = mask_objet.ecart_suv_max(nifti_array)\n",
    "            number_false_roi = len(ecart_suv_max)/3\n",
    "            if number_false_roi == number_roi : \n",
    "                print(\"TOUTE LES ROIS FAUSSES\")\n",
    "                all_false_roi.append(serie)\n",
    "                all_false_roi.append(serie)\n",
    "                ecart_flip = mask_objet.ecart_suv_max(nifti_array, flip = True)\n",
    "                number_false_roi_flip = len(ecart_flip)/3\n",
    "                print(\"NOMBRE DE ROI \", number_roi)\n",
    "                print(\"ROI FAUSSE =\", number_false_roi)\n",
    "\n",
    "\n",
    "            else :\n",
    "                print(\"CERTAINE ROIS FAUSSE\")\n",
    "                liste = ecart_suv_max[::3]\n",
    "                print(\"NBR :\", int(number_false_roi)) \n",
    "                print(\"LISTE ROI FAUSSE :\", liste)\n",
    "                false_roi.append(serie)\n",
    "                false_roi.append(int(number_false_roi))\n",
    "                false_roi.append(liste)\n",
    "\n",
    "\n",
    "    except Exception as err : \n",
    "        print(serie)\n",
    "        print(err)"
   ]
  },
  {
   "cell_type": "code",
   "execution_count": null,
   "metadata": {},
   "outputs": [],
   "source": []
  },
  {
   "cell_type": "code",
   "execution_count": null,
   "metadata": {},
   "outputs": [],
   "source": []
  },
  {
   "cell_type": "code",
   "execution_count": null,
   "metadata": {},
   "outputs": [],
   "source": []
  }
 ],
 "metadata": {
  "language_info": {
   "name": "python",
   "codemirror_mode": {
    "name": "ipython",
    "version": 3
   },
   "version": "3.8.2-final"
  },
  "orig_nbformat": 2,
  "file_extension": ".py",
  "mimetype": "text/x-python",
  "name": "python",
  "npconvert_exporter": "python",
  "pygments_lexer": "ipython3",
  "version": 3,
  "kernelspec": {
   "name": "python3",
   "display_name": "Python 3"
  }
 },
 "nbformat": 4,
 "nbformat_minor": 2
}