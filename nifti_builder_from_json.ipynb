{
 "cells": [
  {
   "cell_type": "code",
   "execution_count": 1,
   "metadata": {},
   "outputs": [],
   "source": [
    "import json\n",
    "import os\n",
    "from library_dicom.dicom_processor.model.Series import Series \n",
    "from library_dicom.dicom_processor.model.SeriesPT import SeriesPT\n",
    "from library_dicom.dicom_processor.model.SeriesCT import SeriesCT\n",
    "from library_dicom.dicom_processor.model.csv_reader.MaskBuilder import MaskBuilder\n",
    "\n",
    "from library_dicom.dicom_processor.tools.folders import *\n",
    "\n",
    "from library_dicom.dicom_processor.tools.create_mip import *\n",
    "from library_dicom.dicom_processor.tools.threshold_mask import *\n",
    "\n",
    "import numpy as np\n",
    "import SimpleITK as sitk\n",
    "\n",
    "import csv"
   ]
  },
  {
   "cell_type": "code",
   "execution_count": null,
   "metadata": {},
   "outputs": [],
   "source": []
  },
  {
   "cell_type": "code",
   "execution_count": 2,
   "metadata": {},
   "outputs": [],
   "source": [
    "#LIST FROM PARSE_FILTERED_DICOM_DATASET"
   ]
  },
  {
   "cell_type": "code",
   "execution_count": null,
   "metadata": {
    "tags": []
   },
   "outputs": [],
   "source": [
    "#LIST_PATH\n",
    "json_path = '/media/deeplearning/78ca2911-9e9f-4f78-b80a-848024b95f92/FLIP_NIFTI/dataset.json'\n",
    "dataset = []\n",
    "with open(json_path) as json_file : \n",
    "    reader = json.load(json_file)\n",
    "    for info in reader :\n",
    "        dataset.append(info)\n",
    "\n",
    "print(len(dataset))"
   ]
  },
  {
   "cell_type": "code",
   "execution_count": 37,
   "metadata": {},
   "outputs": [
    {
     "output_type": "execute_result",
     "data": {
      "text/plain": "['/media/deeplearning/78ca2911-9e9f-4f78-b80a-848024b95f92/FLIP/DICOM/Patient 11 a 30/2017014 CR 014/103468016 Scintigraphie sur TEP TDM/CT CT TAP 2.0 I30f 3',\n 'CT',\n '/media/deeplearning/78ca2911-9e9f-4f78-b80a-848024b95f92/FLIP/DICOM/Patient 11 a 30/2017014 CR 014/103468016 Scintigraphie sur TEP TDM/PT TEP TAP Corrig',\n 'PT',\n '1.2.250.1.38.2.1.102.140724093005.103468016',\n '2017014',\n 'cr_014_jul 25_2014.csv']"
     },
     "metadata": {},
     "execution_count": 37
    }
   ],
   "source": [
    "dataset[0]"
   ]
  },
  {
   "cell_type": "code",
   "execution_count": null,
   "metadata": {},
   "outputs": [],
   "source": [
    "#BUILD NIFTI FROM DATASET 1 2 et 3"
   ]
  },
  {
   "cell_type": "markdown",
   "metadata": {
    "tags": []
   },
   "source": [
    "json_path = '/media/deeplearning/78ca2911-9e9f-4f78-b80a-848024b95f92/GAINED_NIFTI/json_dataset_4/dataset_4.json'\n",
    "dataset_4 = []\n",
    "with open(json_path) as json_file : \n",
    "    reader = json.load(json_file)\n",
    "    for info in reader :\n",
    "        dataset_4.append(info)\n",
    "\n",
    "print(len(dataset_4))"
   ]
  },
  {
   "cell_type": "markdown",
   "metadata": {},
   "source": [
    "#REWRITE GOOD PATH\n",
    "\n",
    "for serie in dataset : \n",
    "    for i in range(0,3,2) :\n",
    "        serie[i] = serie[i].replace('salim', 'deeplearning')\n",
    "\n",
    "for serie in dataset : \n",
    "    for i in range(0,3,2) :\n",
    "        serie[i] = serie[i].replace('DD 2To', '78ca2911-9e9f-4f78-b80a-848024b95f92') "
   ]
  },
  {
   "cell_type": "markdown",
   "metadata": {},
   "source": [
    "write_json_file('/media/deeplearning/78ca2911-9e9f-4f78-b80a-848024b95f92/GAINED_NIFTI_PET2', 'dataset', dataset)"
   ]
  },
  {
   "cell_type": "code",
   "execution_count": 40,
   "metadata": {},
   "outputs": [],
   "source": [
    "#remove remove_bi_file\n",
    "\n",
    "paths = get_series_path('/media/deeplearning/78ca2911-9e9f-4f78-b80a-848024b95f92/FLIP/DICOM')\n"
   ]
  },
  {
   "cell_type": "code",
   "execution_count": 43,
   "metadata": {},
   "outputs": [],
   "source": [
    "from library_dicom.dicom_processor.tools.folders import *\n",
    "for path in paths : \n",
    "    remove_bi_file(path)\n",
    "\n"
   ]
  },
  {
   "cell_type": "code",
   "execution_count": null,
   "metadata": {},
   "outputs": [],
   "source": []
  },
  {
   "cell_type": "code",
   "execution_count": 39,
   "metadata": {
    "tags": []
   },
   "outputs": [
    {
     "output_type": "stream",
     "name": "stdout",
     "text": "0\nMASK CORRECT\nin method 'Image_SetSpacing', argument 2 of type 'std::vector< double,std::allocator< double > > const &'\n['/media/deeplearning/78ca2911-9e9f-4f78-b80a-848024b95f92/FLIP/DICOM/Patient 31 à 50/2017031 CR 031/Unknown Study/PT p8273s0_FUE_ctac_resamp.img 3DRAMLA', 'PT', '/media/deeplearning/78ca2911-9e9f-4f78-b80a-848024b95f92/FLIP/DICOM/Patient 31 à 50/2017031 CR 031/Unknown Study/CT', 'CT', '1.2.840.113704.1.111.920.1223892920.6', '2017031', 'cr_031_oct 13_2008.csv']\n1\nMASK CORRECT\nEXPORT NIFTI PT\nin method 'Image_SetSpacing', argument 2 of type 'std::vector< double,std::allocator< double > > const &'\n['/media/deeplearning/78ca2911-9e9f-4f78-b80a-848024b95f92/FLIP/DICOM/Patient 31 à 50/2017042 CR 042/A22514015868 TEP corps entier/CT CT TAP 3.0 B30s', 'CT', '/media/deeplearning/78ca2911-9e9f-4f78-b80a-848024b95f92/FLIP/DICOM/Patient 31 à 50/2017042 CR 042/A22514015868 TEP corps entier/PT PET TAP AC HD', 'PT', '1.2.840.113711.41813.3.11624.395627943.26.2116281012.16890', '2017042', 'cr_042_jul 16_2013.csv']\n2\nFALSE MASK\n{1: {'SUV_max': 8.62, 'SUV_mean': 4.87, 'SD': 1.14}, 2: {'SUV_max': 8.91, 'SUV_mean': 5.17, 'SD': 1.2}, 3: {'SUV_max': 9.35, 'SUV_mean': 5.35, 'SD': 1.2}, 4: {'SUV_max': 9.18, 'SUV_mean': 5.21, 'SD': 1.07}, 5: {'SUV_max': 9.39, 'SUV_mean': 5.08, 'SD': 0.99}, 6: {'SUV_max': 5.51, 'SUV_mean': 2.88, 'SD': 0.7}, 7: {'SUV_max': 9.65, 'SUV_mean': 5.33, 'SD': 1.06}, 8: {'SUV_max': 12.49, 'SUV_mean': 6.67, 'SD': 1.19}, 9: {'SUV_max': 12.49, 'SUV_mean': 6.65, 'SD': 1.19}, 10: {'SUV_max': 8.55, 'SUV_mean': 4.9, 'SD': 1.06}, 11: {'SUV_max': 12.75, 'SUV_mean': 7.16, 'SD': 1.58}, 12: {'SUV_max': 7.83, 'SUV_mean': 4.63, 'SD': 1.1}, 13: {'SUV_max': 10.32, 'SUV_mean': 5.68, 'SD': 1.13}, 14: {'SUV_max': 10.27, 'SUV_mean': 5.91, 'SD': 1.1}, 15: {'SUV_max': 10.27, 'SUV_mean': 6.16, 'SD': 1.48}, 16: {'SUV_max': 8.75, 'SUV_mean': 4.74, 'SD': 1.02}, 17: {'SUV_max': 8.44, 'SUV_mean': 4.94, 'SD': 1.44}, 18: {'SUV_max': 12.21, 'SUV_mean': 7.67, 'SD': 1.92}, 19: {'SUV_max': 4.26, 'SUV_mean': 2.18, 'SD': 0.62}, 20: {'SUV_max': 7.34, 'SUV_mean': 4.35, 'SD': 1.1}, 21: {'SUV_max': 8.19, 'SUV_mean': 4.71, 'SD': 1.2}, 22: {'SUV_max': 5.06, 'SUV_mean': 2.59, 'SD': 0.57}, 23: {'SUV_max': 10.59, 'SUV_mean': 6.9, 'SD': 1.69}, 24: {'SUV_max': 6.21, 'SUV_mean': 3.72, 'SD': 1.19}, 25: {'SUV_max': 5.56, 'SUV_mean': 3.48, 'SD': 0.89}}\n[14, 'ELLIPSE', 1.7300000000000004]\n[14, 'ELLIPSE', 0.5899999999999999]\n[14, 'ELLIPSE', 0.18999999999999995]\ntaille mask :  (168, 168, 424, 25)\n3\nMASK CORRECT\nin method 'Image_SetSpacing', argument 2 of type 'std::vector< double,std::allocator< double > > const &'\n['/media/deeplearning/78ca2911-9e9f-4f78-b80a-848024b95f92/FLIP/DICOM/Patient 11 a 30/2017011 CR 011/A22103164845 TEP corps entier/PT PET TAP AC HD', 'PT', '/media/deeplearning/78ca2911-9e9f-4f78-b80a-848024b95f92/FLIP/DICOM/Patient 11 a 30/2017011 CR 011/A22103164845 TEP corps entier/CT CT TAP 3.0 B30s', 'CT', '2.16.840.1.113669.632.20.310000.20002886092', '2017011', 'cr_011_dec 7_2012.csv']\n"
    }
   ],
   "source": [
    "#On met les erreurs de coté\n",
    "#generer mip en meme temps \n",
    "\n",
    "nifti_directory = '/media/deeplearning/78ca2911-9e9f-4f78-b80a-848024b95f92/FLIP_NIFTI'\n",
    "\n",
    "csv_directory = '/media/deeplearning/78ca2911-9e9f-4f78-b80a-848024b95f92/FLIP/CSV'\n",
    "mip_directory = '/media/deeplearning/78ca2911-9e9f-4f78-b80a-848024b95f92/FLIP_NIFTI/MIP'\n",
    "\n",
    "\n",
    "\n",
    "false_mask_dataset_1 = []\n",
    "error_dataset_1 = []\n",
    "path_mip = []\n",
    "\n",
    "results_false_mask = []\n",
    "\n",
    "for serie in dataset: \n",
    "    try : \n",
    "        #print(serie)\n",
    "        print(dataset.index(serie))\n",
    "        subliste = []\n",
    "\n",
    "        results = []\n",
    "\n",
    "        if serie[1] == 'PT' : \n",
    "            \n",
    "            serie_pt_objet = SeriesPT(serie[0])\n",
    "            nifti_array = serie_pt_objet.get_numpy_array()\n",
    "            study_uid = serie_pt_objet.get_series_details()['study']['StudyInstanceUID']\n",
    "\n",
    "\n",
    "\n",
    "            size_matrix = serie_pt_objet.get_size_matrix()\n",
    "            mask_objet = MaskBuilder(os.path.join(csv_directory, serie[6]), size_matrix)\n",
    "            mask_4D = mask_objet.mask_array\n",
    "\n",
    "            number_roi = mask_4D.shape[3]\n",
    "            threshold = mask_objet.details_rois['SUVlo']\n",
    "        #seuillage\n",
    "\n",
    "\n",
    "            if mask_objet.is_correct_suv(nifti_array) == True : #si mask correct \n",
    "                print(\"MASK CORRECT\")\n",
    "                    #generation nifti PT\n",
    "                filename_pt = study_uid+'_'+'nifti_'+'PT'+'.nii'\n",
    "                serie_pt_objet.export_nifti(os.path.join(nifti_directory, filename_pt))\n",
    "                print(\"EXPORT NIFTI PT\")\n",
    "                    #generation nifti CT\n",
    "                serie_ct_objet = SeriesCT(serie[2])\n",
    "                serie_ct_objet.get_numpy_array()\n",
    "                filename_ct = study_uid+'_'+'nifti_'+'CT'+'.nii'\n",
    "                serie_ct_objet.export_nifti(os.path.join(nifti_directory, filename_ct))\n",
    "                print(\"EXPORT NIFTI CT\")\n",
    "                    #generation nifti mask\n",
    "                filename_mask = study_uid+'_'+'nifti_'+'mask'+'.nii'\n",
    "                serie_pt_objet.export_nifti(os.path.join(nifti_directory, filename_mask), mask_4D)\n",
    "                print(\"EXPORT NIFTI MASK\")\n",
    "                #shutil.rmtree(os.path.join(dicom_directory+'/'+serie[-2], serie[]))\n",
    "                #print(\"dicom effacé\")\n",
    "\n",
    "            else : \n",
    "                print(\"FALSE MASK\")\n",
    "                false_mask_dataset_1.append(serie)\n",
    "                print(mask_objet.calcul_suv(nifti_array))\n",
    "                results.append(mask_objet.calcul_suv(nifti_array))\n",
    "                print(mask_objet.ecart_suv_max(nifti_array))\n",
    "                results.append(mask_objet.ecart_suv_max(nifti_array))\n",
    "                print(mask_objet.ecart_suv_mean(nifti_array))\n",
    "                results.append(mask_objet.ecart_suv_mean(nifti_array))\n",
    "                print(mask_objet.ecart_SD(nifti_array))\n",
    "                results.append(mask_objet.ecart_SD(nifti_array))\n",
    "\n",
    "                results_false_mask.append(results)\n",
    "                mask_4D = threshold_mask(mask_4D, mask_objet.details_rois, nifti_array)\n",
    "\n",
    "                angle_filename = mip_projection(nifti_array, 0, mip_directory, study_uid, borne_max = 5.0)             #mip.png PET\n",
    "                subliste.append(angle_filename)\n",
    "                angle_filename_mask = mip_projection_4D(mask_4D, 0, mip_directory, study_uid, number_roi, borne_max = 1.0)\n",
    "        #mip.png MASK\n",
    "                subliste.append(angle_filename_mask)\n",
    "\n",
    "                path_mip.append(subliste)\n",
    "\n",
    "\n",
    "        else : \n",
    "            serie_pt_objet = SeriesPT(serie[2])\n",
    "            nifti_array = serie_pt_objet.get_numpy_array()\n",
    "            study_uid = serie_pt_objet.get_series_details()['study']['StudyInstanceUID']\n",
    "\n",
    "            size_matrix = serie_pt_objet.get_size_matrix()\n",
    "            mask_objet = MaskBuilder(os.path.join(csv_directory, serie[6]), size_matrix)\n",
    "            mask_4D = mask_objet.mask_array\n",
    "\n",
    "            number_roi = mask_4D.shape[3]\n",
    "            threshold = mask_objet.details_rois['SUVlo']\n",
    "        #seuillage\n",
    "\n",
    "\n",
    "            if mask_objet.is_correct_suv(nifti_array) == True : #si mask correct \n",
    "                print(\"MASK CORRECT\")\n",
    "                    #generation nifti PT\n",
    "                filename_pt = study_uid+'_'+'nifti_'+'PT'+'.nii'\n",
    "                serie_pt_objet.export_nifti(os.path.join(nifti_directory, filename_pt))\n",
    "                print(\"EXPORT NIFTI PT\")\n",
    "                     #generation nifti CT\n",
    "                serie_ct_objet = SeriesCT(serie[0])\n",
    "                serie_ct_objet.get_numpy_array()\n",
    "                filename_ct = study_uid+'_'+'nifti_'+'CT'+'.nii'\n",
    "                serie_ct_objet.export_nifti(os.path.join(nifti_directory, filename_ct))\n",
    "                print(\"EXPORT NIFTI CT\")\n",
    "                    #generation nifti mask\n",
    "                filename_mask = study_uid+'_'+'nifti_'+'mask'+'.nii'\n",
    "                serie_pt_objet.export_nifti(os.path.join(nifti_directory, filename_mask), mask_4D)\n",
    "                print(\"EXPORT NIFTI MASK\")\n",
    "                #shutil.rmtree(os.path.join(dicom_directory, serie[-2]))\n",
    "                #print('dicom effacé')\n",
    "            else : \n",
    "                print(\"FALSE MASK\")\n",
    "                false_mask_dataset_1.append(serie)\n",
    "                print(mask_objet.calcul_suv(nifti_array))\n",
    "                results.append(mask_objet.calcul_suv(nifti_array))\n",
    "                print(mask_objet.ecart_suv_max(nifti_array))\n",
    "                results.append(mask_objet.ecart_suv_max(nifti_array))\n",
    "                print(mask_objet.ecart_suv_mean(nifti_array))\n",
    "                results.append(mask_objet.ecart_suv_mean(nifti_array))\n",
    "                print(mask_objet.ecart_SD(nifti_array))\n",
    "                results.append(mask_objet.ecart_SD(nifti_array))\n",
    "\n",
    "                results_false_mask.append(results)\n",
    "                mask_4D = threshold_mask(mask_4D, mask_objet.details_rois, nifti_array)\n",
    "\n",
    "                angle_filename = mip_projection(nifti_array, 0, mip_directory, study_uid, borne_max = 5.0)             #mip.png PET\n",
    "                subliste.append(angle_filename)\n",
    "                angle_filename_mask = mip_projection_4D(mask_4D, 0, mip_directory, study_uid, number_roi, borne_max = 1.0)\n",
    "        #mip.png MASK\n",
    "                subliste.append(angle_filename_mask)\n",
    "\n",
    "                path_mip.append(subliste)\n",
    "               \n",
    "\n",
    "    except Exception as err : \n",
    "        print(err)\n",
    "        print(serie)\n",
    "        error_dataset_1.append(serie)\n"
   ]
  },
  {
   "cell_type": "code",
   "execution_count": 45,
   "metadata": {
    "tags": []
   },
   "outputs": [
    {
     "output_type": "stream",
     "name": "stdout",
     "text": "10\n13\n"
    }
   ],
   "source": [
    "print(len(error_dataset_1))\n",
    "print(len(false_mask_dataset_1))"
   ]
  },
  {
   "cell_type": "code",
   "execution_count": 46,
   "metadata": {},
   "outputs": [],
   "source": [
    "#SAVE THE SERIE WITH FALSE MASK \n",
    "write_json_file('/media/deeplearning/78ca2911-9e9f-4f78-b80a-848024b95f92/FLIP_NIFTI', 'false_mask', false_mask_dataset_1)\n",
    "write_json_file('/media/deeplearning/78ca2911-9e9f-4f78-b80a-848024b95f92/FLIP_NIFTI', 'false_mask_results', results_false_mask)\n",
    "\n",
    "write_json_file('/media/deeplearning/78ca2911-9e9f-4f78-b80a-848024b95f92/FLIP_NIFTI', 'error', error_dataset_1)\n",
    "write_json_file('/media/deeplearning/78ca2911-9e9f-4f78-b80a-848024b95f92/FLIP_NIFTI/MIP', 'path_mip', path_mip)"
   ]
  },
  {
   "cell_type": "code",
   "execution_count": 47,
   "metadata": {},
   "outputs": [],
   "source": [
    "#create pdf \n",
    "filename = os.path.join(mip_directory, 'list_mip_dataset.pdf')\n",
    "create_pdf_mip(path_mip, filename)"
   ]
  },
  {
   "cell_type": "code",
   "execution_count": null,
   "metadata": {},
   "outputs": [],
   "source": []
  },
  {
   "cell_type": "code",
   "execution_count": null,
   "metadata": {},
   "outputs": [],
   "source": []
  },
  {
   "cell_type": "code",
   "execution_count": null,
   "metadata": {},
   "outputs": [],
   "source": []
  },
  {
   "cell_type": "code",
   "execution_count": 3,
   "metadata": {},
   "outputs": [],
   "source": [
    "#REGENERATE MASK \n",
    "#READ CSV \n",
    "\n",
    "\n",
    "csv_pet0_path = '/media/deeplearning/78ca2911-9e9f-4f78-b80a-848024b95f92/GAINED_NIFTI/GAINED_PET0_NIFTI.csv'\n",
    "\n",
    "with open(csv_pet0_path, 'r') as csv_file :\n",
    "    reader = csv.reader(csv_file, delimiter = ',') #liste pour chaque ligne \n",
    "    csv_data = []\n",
    "    for row in reader :\n",
    "        csv_data.append(row)\n",
    "        \n",
    "del csv_data[0] #enlever première ligne"
   ]
  },
  {
   "cell_type": "code",
   "execution_count": 4,
   "metadata": {},
   "outputs": [],
   "source": [
    "liste = []\n",
    "for row in csv_data : \n",
    "    subliste = []\n",
    "    subliste.append(row[0]) #patient id\n",
    "    subliste.append(row[1]) #study uid\n",
    "    subliste.append(row[-1]) #mask \n",
    "\n",
    "    liste.append(subliste)"
   ]
  },
  {
   "cell_type": "code",
   "execution_count": 4,
   "metadata": {},
   "outputs": [
    {
     "output_type": "execute_result",
     "data": {
      "text/plain": "573"
     },
     "metadata": {},
     "execution_count": 4
    }
   ],
   "source": [
    "len(liste)"
   ]
  },
  {
   "cell_type": "code",
   "execution_count": 5,
   "metadata": {
    "tags": []
   },
   "outputs": [
    {
     "output_type": "stream",
     "name": "stdout",
     "text": "140\n210\n179\n50\n"
    }
   ],
   "source": [
    "#lire dataset et recuperer les csv \n",
    "json_path = '/media/deeplearning/78ca2911-9e9f-4f78-b80a-848024b95f92/GAINED_NIFTI/json_dataset_1/dataset_1.json'\n",
    "dataset_1 = []\n",
    "with open(json_path) as json_file : \n",
    "    reader = json.load(json_file)\n",
    "    for info in reader :\n",
    "        dataset_1.append(info)\n",
    "\n",
    "print(len(dataset_1))\n",
    "\n",
    "\n",
    "json_path = '/media/deeplearning/78ca2911-9e9f-4f78-b80a-848024b95f92/GAINED_NIFTI/json_dataset_2/dataset_2.json'\n",
    "dataset_2 = []\n",
    "with open(json_path) as json_file : \n",
    "    reader = json.load(json_file)\n",
    "    for info in reader :\n",
    "        dataset_2.append(info)\n",
    "\n",
    "print(len(dataset_2))\n",
    "\n",
    "json_path = '/media/deeplearning/78ca2911-9e9f-4f78-b80a-848024b95f92/GAINED_NIFTI/json_dataset_3/dataset_3.json'\n",
    "dataset_3 = []\n",
    "with open(json_path) as json_file : \n",
    "    reader = json.load(json_file)\n",
    "    for info in reader :\n",
    "        dataset_3.append(info)\n",
    "\n",
    "print(len(dataset_3))\n",
    "\n",
    "json_path = '/media/deeplearning/78ca2911-9e9f-4f78-b80a-848024b95f92/GAINED_NIFTI/unconstant_spacing/unconstant_spacing.json'\n",
    "dataset_4 = []\n",
    "with open(json_path) as json_file : \n",
    "    reader = json.load(json_file)\n",
    "    for info in reader :\n",
    "        dataset_4.append(info)\n",
    "\n",
    "print(len(dataset_4))"
   ]
  },
  {
   "cell_type": "code",
   "execution_count": 6,
   "metadata": {},
   "outputs": [
    {
     "output_type": "execute_result",
     "data": {
      "text/plain": "579"
     },
     "metadata": {},
     "execution_count": 6
    }
   ],
   "source": [
    "len(dataset_1)+len(dataset_2)+len(dataset_3)+len(dataset_4)"
   ]
  },
  {
   "cell_type": "code",
   "execution_count": 7,
   "metadata": {},
   "outputs": [],
   "source": [
    "#ajouter csv pour unconstant_spacing/dataset_4\n",
    "\n",
    "csv_directory = '/media/deeplearning/78ca2911-9e9f-4f78-b80a-848024b95f92/GAINED_CSV_DATA/Export_Gained/CSV41/PET0'\n",
    "liste_csv = os.listdir(csv_directory)"
   ]
  },
  {
   "cell_type": "code",
   "execution_count": 8,
   "metadata": {},
   "outputs": [
    {
     "output_type": "execute_result",
     "data": {
      "text/plain": "['/media/salim/DD 2To/GAINED_Validated_DICOMS/11011101031009/1.2.840.113619.2.55.3.698894.110.1378271612.544/1.2.840.113619.2.131.698894.1378366825.915943/1.2.840.113619.2.131.698894.1378366825.915943',\n 'PT',\n '/media/salim/DD 2To/GAINED_Validated_DICOMS/11011101031009/1.2.840.113619.2.55.3.698894.110.1378271612.544/1.2.840.113619.2.55.3.698894.110.1378271612.548.3/1.2.840.113619.2.55.3.698894.110.1378271612.548.3',\n 'CT',\n 'review445.csv',\n '11011101031009']"
     },
     "metadata": {},
     "execution_count": 8
    }
   ],
   "source": [
    "dataset_4[0]"
   ]
  },
  {
   "cell_type": "code",
   "execution_count": 9,
   "metadata": {},
   "outputs": [],
   "source": [
    "for data in dataset_4 : \n",
    "    patient_id = data[5]\n",
    "    for csv_file in liste_csv : \n",
    "        if patient_id in csv_file : \n",
    "            data.append(csv_file)\n"
   ]
  },
  {
   "cell_type": "code",
   "execution_count": null,
   "metadata": {},
   "outputs": [],
   "source": []
  },
  {
   "cell_type": "code",
   "execution_count": 10,
   "metadata": {
    "tags": []
   },
   "outputs": [
    {
     "output_type": "stream",
     "name": "stdout",
     "text": "579\n"
    }
   ],
   "source": [
    "dataset = dataset_1 + dataset_2 + dataset_3 + dataset_4\n",
    "\n",
    "print(len(dataset))"
   ]
  },
  {
   "cell_type": "code",
   "execution_count": 11,
   "metadata": {
    "tags": []
   },
   "outputs": [],
   "source": [
    "for mask in liste : \n",
    "    #print(liste.index(mask))\n",
    "    for serie in dataset :\n",
    "        #print(dataset.index(serie))\n",
    "        if mask[1] in serie[0] : #if study id dans la serie => bonne série\n",
    "            #print(serie)\n",
    "            mask.append(serie[6]) #on rajoute csv apres"
   ]
  },
  {
   "cell_type": "code",
   "execution_count": 12,
   "metadata": {
    "tags": []
   },
   "outputs": [
    {
     "output_type": "stream",
     "name": "stdout",
     "text": "573\n"
    }
   ],
   "source": [
    "print(len(liste))"
   ]
  },
  {
   "cell_type": "code",
   "execution_count": 14,
   "metadata": {},
   "outputs": [
    {
     "output_type": "execute_result",
     "data": {
      "text/plain": "['11011101021002',\n '1.2.250.1.59.470.940100027.1.20130128113103.7763.17688',\n '/media/deeplearning/78ca2911-9e9f-4f78-b80a-848024b95f92/GAINED_NIFTI/11011101021002/pet0/1.2.250.1.59.470.940100027.1.20130128113103.7763.17688_nifti_mask.nii',\n 'patient_11011101021002_PET_0_review_18_41.csv']"
     },
     "metadata": {},
     "execution_count": 14
    }
   ],
   "source": [
    "liste[1]"
   ]
  },
  {
   "cell_type": "code",
   "execution_count": 13,
   "metadata": {
    "tags": []
   },
   "outputs": [
    {
     "output_type": "stream",
     "name": "stdout",
     "text": "11011101021001\n(144, 144, 234, 9)\n11011101021002\n(144, 144, 255, 49)\n11011101021003\n(144, 144, 255, 12)\n11011101021004\n(144, 144, 234, 3)\n11011101021005\n(144, 144, 276, 5)\n11011101021006\n(144, 144, 234, 2)\n11011101021007\n(144, 144, 255, 3)\n11011101021008\n(144, 144, 276, 2)\n11011101021009\n(144, 144, 255, 4)\n11011101021010\n(144, 144, 234, 4)\n11011101021011\n(144, 144, 255, 2)\n11011101021012\n(144, 144, 275, 14)\n11011101021013\n(144, 144, 234, 1)\n11011101021014\n(144, 144, 276, 15)\n11011101031001\n(200, 200, 481, 9)\n11011101031002\n(144, 144, 255, 18)\n11011101031003\n(256, 256, 515, 2)\n11011101031004\n(144, 144, 276, 58)\n11011101031005\n(200, 200, 246, 70)\n11011101031006\n(144, 144, 254, 13)\n11011101031007\n(144, 144, 234, 7)\n11011101031008\n(144, 144, 276, 11)\n11011101031009\n(128, 128, 313, 3)\n11011101031011\n(200, 200, 543, 24)\n11011101031012\n(144, 144, 234, 11)\n11011101031013\n(256, 256, 263, 62)\n11011101031015\n(256, 256, 299, 47)\n11011101031016\n(200, 200, 915, 18)\n11011101051001\n(168, 168, 390, 4)\n11011101051003\n(256, 256, 335, 3)\n11011101051004\n(144, 144, 213, 7)\n11011101051005\n(256, 256, 299, 10)\n11011101051006\n(168, 168, 437, 8)\n11011101051012\n(256, 256, 335, 21)\n11011101051013\n(256, 256, 335, 49)\n11011101051014\n(168, 168, 390, 5)\n11011101051016\n(256, 256, 299, 20)\n11011101051017\n(256, 256, 299, 1)\n11011101051018\n(256, 256, 299, 3)\n11011101051019\n(256, 256, 335, 5)\n11011101051020\n(144, 144, 255, 7)\n11011101051021\n(256, 256, 335, 22)\n11011101051022\n(256, 256, 299, 40)\n11011101051023\n(256, 256, 299, 9)\n11011101051025\n(256, 256, 299, 10)\n11011101051026\n(256, 256, 335, 10)\n11011101051028\n(256, 256, 335, 21)\n11011101051029\n(256, 256, 335, 3)\n11011101051030\n(256, 256, 263, 13)\n11011101051031\n(200, 200, 543, 3)\n11011101051032\n(256, 256, 335, 18)\n11011101051033\n(256, 256, 335, 34)\n11011101061003\n(168, 168, 405, 6)\n11011101061004\n(168, 168, 479, 15)\n11011101061005\n(168, 168, 324, 59)\n11011101061006\n(168, 168, 405, 36)\n11011101061007\n(168, 168, 479, 15)\n11011101061008\n(168, 168, 274, 30)\n11011101061009\n(168, 168, 479, 106)\n11011101061010\n(168, 168, 405, 104)\n11011101061011\n(168, 168, 405, 4)\n11011101061012\n(168, 168, 405, 3)\n11011101061013\n(168, 168, 479, 33)\n11011101061014\n(168, 168, 405, 12)\n11011101071001\n(168, 168, 424, 15)\n11011101071002\n(168, 168, 324, 20)\n11011101071003\n(168, 168, 374, 10)\n11011101071005\n(168, 168, 374, 1)\n11011101071006\n(168, 168, 324, 13)\n51011101371013\n(128, 128, 327, 87)\n51011101371014\n(128, 128, 287, 9)\n51011101371015\n(128, 128, 287, 6)\n51011101371016\n(128, 128, 327, 6)\n51011101371017\n(128, 128, 287, 30)\n51011101371019\n(128, 128, 287, 17)\n51011101371020\n(128, 128, 327, 27)\n51011101371021\n(128, 128, 287, 29)\n51011101371024\n(128, 128, 287, 3)\n51011101401001\n(144, 144, 255, 13)\n51011101401002\n(144, 144, 234, 3)\n51011101401003\n(144, 144, 255, 7)\n51011101401004\n(144, 144, 297, 37)\n51011101401005\n(169, 169, 234, 9)\n51011101401006\n(144, 144, 234, 2)\n51011101701002\n(168, 168, 430, 10)\n51011101701003\n(168, 168, 430, 1)\n51011101711001\n(192, 192, 335, 19)\n51011101711002\n(192, 192, 335, 2)\n51011101721001\n(200, 200, 481, 15)\n51011101731001\n(256, 256, 335, 40)\n51011101731002\n(256, 256, 227, 17)\n51011101731003\n(256, 256, 299, 1)\n51011101731004\n(256, 256, 335, 5)\n51011101731005\n(256, 256, 299, 17)\n51011101731006\n(256, 256, 299, 6)\n51011101731007\n(256, 256, 299, 4)\n51011101751001\n(200, 200, 481, 6)\n51011101811001\n(256, 256, 335, 29)\n51011101811002\n(168, 168, 215, 23)\n51011101811003\n(256, 256, 299, 18)\n51011101811004\n(168, 168, 215, 59)\n51011101831001\n(256, 256, 299, 19)\n51011101831002\n(256, 256, 299, 17)\n51011101831003\n(256, 256, 263, 23)\n51011101831004\n(256, 256, 299, 11)\n51011101831005\n(256, 256, 299, 9)\n51011101831006\n(256, 256, 299, 32)\n51011101831007\n(256, 256, 335, 31)\n51011101831008\n(256, 256, 263, 23)\n51011101841001\n(200, 200, 605, 2)\n51011101841002\n(200, 200, 419, 7)\n51011101841003\n(200, 200, 419, 43)\n51011101841005\n(128, 128, 275, 1)\n51011101841006\n(200, 200, 481, 4)\n51011101841007\n(200, 200, 605, 11)\n51011101841008\n(200, 200, 481, 6)\n51011101841009\n(200, 200, 481, 32)\n51011101841010\n(200, 200, 419, 2)\n51011101841011\n(200, 200, 481, 40)\n51011101841012\n(200, 200, 977, 5)\n51011101841013\n(200, 200, 481, 109)\n51011101841014\n(200, 200, 481, 4)\n51011101851001\n(144, 144, 255, 28)\n51011101851002\n(169, 169, 255, 6)\n51011101851003\n(144, 144, 255, 4)\n51011101851004\n(144, 144, 255, 31)\n51011101851005\n(169, 169, 255, 1)\n11011101051027\n(256, 256, 299, 38)\n11011101071007\n(168, 168, 374, 5)\n11011101071008\n(168, 168, 324, 18)\n11011101071009\n(168, 168, 424, 2)\n11011101071010\n(168, 168, 324, 14)\n11011101071011\n(168, 168, 274, 12)\n11011101071012\n(168, 168, 374, 8)\n11011101071013\n(168, 168, 324, 6)\n11011101071014\n(168, 168, 324, 11)\n11011101071015\n(168, 168, 324, 32)\n11011101071016\n(168, 168, 324, 5)\n11011101071018\n(168, 168, 324, 17)\n11011101071019\n(168, 168, 324, 61)\n11011101071020\n(168, 168, 274, 11)\n11011101071021\n(168, 168, 324, 27)\n11011101071022\n(256, 256, 319, 59)\n11011101071023\n(168, 168, 324, 10)\n11011101071024\n(256, 256, 319, 65)\n11011101071025\n(256, 256, 319, 4)\n11011101071026\n(256, 256, 319, 24)\n11011101071027\n(256, 256, 319, 4)\n11011101071028\n(144, 144, 213, 23)\n11011101071029\n(256, 256, 319, 16)\n11011101071030\n(168, 168, 324, 63)\n11011101071031\n(256, 256, 319, 9)\n11011101091001\n(168, 168, 487, 11)\n11011101091002\n(168, 168, 429, 9)\n11011101091003\n(168, 168, 371, 19)\n11011101091004\n(168, 168, 429, 15)\n11011101091005\n(128, 128, 429, 7)\n11011101091006\n(168, 168, 371, 3)\n11011101091007\n(128, 128, 371, 4)\n11011101091008\n(168, 168, 429, 28)\n11011101091009\n(256, 256, 623, 5)\n11011101091010\n(168, 168, 487, 49)\n11011101091011\n(256, 256, 263, 16)\n11011101091012\n(256, 256, 623, 7)\n11011101091013\n(256, 256, 263, 5)\n11011101091014\n(256, 256, 263, 17)\n11011101091015\n(168, 168, 429, 54)\n11011101091016\n(256, 256, 263, 72)\n11011101091017\n(200, 200, 481, 8)\n11011101091018\n(168, 168, 487, 21)\n11011101091019\n(256, 256, 587, 6)\n11011101091020\n(256, 256, 299, 3)\n11011101091021\n(168, 168, 487, 3)\n11011101091022\n(168, 168, 545, 9)\n11011101131001\n(256, 256, 481, 54)\n11011101131003\n(256, 256, 481, 4)\n11011101131004\n(256, 256, 543, 10)\n11011101131005\n(256, 256, 481, 8)\n11011101151001\n(168, 168, 325, 4)\n11011101151002\n(168, 168, 287, 14)\n11011101151003\n(168, 168, 287, 13)\n11011101151004\n(168, 168, 287, 19)\n11011101151005\n(168, 168, 248, 7)\n11011101161001\n(144, 144, 297, 9)\n11011101161002\n(144, 144, 360, 21)\n11011101161003\n(144, 144, 360, 23)\n11011101161004\n(144, 144, 297, 7)\n11011101171001\n(256, 256, 299, 21)\n11011101171002\n(256, 256, 335, 14)\n11011101171003\n(256, 256, 335, 20)\n11011101171004\n(256, 256, 299, 2)\n11011101171005\n(256, 256, 335, 4)\n11011101191001\n(144, 144, 255, 5)\n11011101191002\n(200, 200, 246, 20)\n11011101191003\n(144, 144, 318, 20)\n11011101191004\n(144, 144, 255, 14)\n11011101191005\n(144, 144, 213, 16)\n11011101191006\n(144, 144, 255, 3)\n11011101191007\n(144, 144, 255, 23)\n11011101211001\n(128, 128, 299, 6)\n11011101211002\n(128, 128, 299, 18)\n11011101211003\n(128, 128, 371, 28)\n11011101211004\n(128, 128, 299, 2)\n11011101211005\n(128, 128, 335, 8)\n11011101211006\n(128, 128, 299, 14)\n11011101211007\n(128, 128, 335, 14)\n11011101211008\n(144, 144, 213, 9)\n11011101211009\n(128, 128, 299, 3)\n11011101211010\n(128, 128, 299, 13)\n11011101211011\n(128, 128, 299, 2)\n11011101211012\n(128, 128, 299, 2)\n11011101211013\n(128, 128, 335, 2)\n11011101211014\n(128, 128, 335, 2)\n11011101211015\n(128, 128, 335, 17)\n11011101211016\n(128, 128, 299, 4)\n11011101211017\n(256, 256, 299, 14)\n11011101211018\n(128, 128, 299, 2)\n11011101211019\n(128, 128, 299, 4)\n11011101211020\n(128, 128, 299, 22)\n11011101211021\n(128, 128, 299, 61)\n11011101211023\n(128, 128, 299, 16)\n11011101211024\n(128, 128, 299, 3)\n11011101221001\n(144, 144, 254, 4)\n11011101221002\n(144, 144, 276, 22)\n11011101221003\n(144, 144, 317, 8)\n11011101221004\n(169, 169, 297, 30)\n11011101221005\n(144, 144, 276, 35)\n11011101221006\n(169, 169, 318, 34)\n11011101221007\n(169, 169, 297, 11)\n11011101221008\n(144, 144, 276, 5)\n11011101221009\n(144, 144, 339, 23)\n11011101221010\n(144, 144, 276, 9)\n11011101221011\n(144, 144, 318, 13)\n11011101221012\n(169, 169, 318, 11)\n11011101221013\n(256, 256, 263, 12)\n11011101221014\n(144, 144, 276, 7)\n11011101221015\n(144, 144, 276, 27)\n11011101221016\n(256, 256, 263, 71)\n11011101221017\n(144, 144, 276, 23)\n11011101221018\n(144, 144, 276, 36)\n11011101221019\n(169, 169, 254, 18)\n11011101221020\n(144, 144, 297, 31)\n11011101221021\n(144, 144, 297, 3)\n11011101221022\n(144, 144, 297, 6)\n11011101221023\n(144, 144, 297, 49)\n11011101221024\n(144, 144, 276, 7)\n11011101221025\n(144, 144, 339, 23)\n11011101221026\n(144, 144, 276, 4)\n11011101221027\n(144, 144, 297, 22)\n11011101221028\n(169, 169, 318, 6)\n11011101231001\n(200, 200, 353, 10)\n11011101231002\n(200, 200, 323, 37)\n11011101231004\n(200, 200, 353, 18)\n11011101231005\n(200, 200, 323, 45)\n11011101231006\n(200, 200, 323, 12)\n11011101241001\n(168, 168, 324, 10)\n11011101241002\n(168, 168, 324, 65)\n11011101241003\n(168, 168, 324, 3)\n11011101241004\n(168, 168, 324, 7)\n11011101241005\n(168, 168, 274, 36)\n11011101241006\n(168, 168, 324, 5)\n11011101241007\n(128, 128, 297, 54)\n11011101241008\n(168, 168, 324, 32)\n11011101241009\n(168, 168, 324, 17)\n11011101241010\n(168, 168, 324, 6)\n11011101241011\n(168, 168, 324, 21)\n11011101241012\n(168, 168, 324, 74)\n11011101251001\n(200, 200, 419, 8)\n11011101251002\n(200, 200, 481, 34)\n11011101251003\n(200, 200, 481, 21)\n11011101251004\n(200, 200, 419, 8)\n11011101251005\n(256, 256, 299, 6)\n11011101251006\n(200, 200, 419, 45)\n11011101251007\n(200, 200, 481, 13)\n11011101251009\n(200, 200, 419, 43)\n11011101251010\n(200, 200, 419, 28)\n11011101251011\n(200, 200, 481, 62)\n11011101251012\n(200, 200, 419, 10)\n11011101251013\n(200, 200, 419, 43)\n11011101281001\n(256, 256, 299, 6)\n11011101281002\n(256, 256, 299, 19)\n11011101281003\n(256, 256, 299, 9)\n11011101281004\n(256, 256, 299, 70)\n11011101331003\n(144, 144, 276, 43)\n11011101331004\n(200, 200, 397, 35)\n11011101331005\n(144, 144, 234, 19)\n11011101331006\n(256, 256, 335, 68)\n11011101331007\n(256, 256, 335, 95)\n11011101341001\n(200, 200, 481, 42)\n11011101331010\n(256, 256, 320, 9)\n11011101331011\n(256, 256, 299, 27)\n11011101341002\n(128, 128, 313, 11)\n11011101341003\n(200, 200, 419, 25)\n11011101341004\n(200, 200, 481, 44)\n11011101391001\n(256, 256, 335, 89)\n11011101391002\n(256, 256, 299, 14)\n11011101391003\n(256, 256, 299, 19)\n11011101391004\n(256, 256, 335, 28)\n11011101391005\n(144, 144, 339, 12)\n11011101391006\n(256, 256, 551, 2)\n11011101391007\n(256, 256, 371, 9)\n11011101391008\n(144, 144, 234, 26)\n11011101391009\n(256, 256, 299, 5)\n11011101391010\n(256, 256, 299, 7)\n11011101391011\n(256, 256, 335, 31)\n11011101391012\n(144, 144, 297, 13)\n11011101391013\n(256, 256, 299, 8)\n11011101391014\n(128, 128, 299, 10)\n11011101391015\n(144, 144, 234, 8)\n11011101391016\n(256, 256, 299, 4)\n11011101391017\n(200, 200, 481, 65)\n11011101391018\n(256, 256, 371, 14)\n11011101391019\n(144, 144, 297, 12)\n11011101391020\n(169, 169, 234, 55)\n11011101391021\n(256, 256, 335, 46)\n11011101411001\n(256, 256, 587, 13)\n11011101411002\n(256, 256, 335, 17)\n11011101411003\n(256, 256, 299, 92)\n11011101411004\n(256, 256, 335, 28)\n11011101411005\n(256, 256, 515, 17)\n11011101411006\n(256, 256, 335, 31)\n11011101411007\n(256, 256, 335, 13)\n11011101411008\n(256, 256, 335, 9)\n11011101411009\n(256, 256, 335, 11)\n11011101431001\n(144, 144, 213, 3)\n11011101431002\n(144, 144, 255, 3)\n11011101431003\n(144, 144, 255, 6)\n11011101431004\n(169, 169, 276, 12)\n11011101431005\n(144, 144, 255, 1)\n11011101431006\n(169, 169, 276, 15)\n11011101431007\n(144, 144, 234, 9)\n11011101431008\n(144, 144, 255, 15)\n11011101441001\n(169, 169, 234, 23)\n11011101441002\n(169, 169, 213, 10)\n11011101441003\n(169, 169, 255, 61)\n11011101441004\n(169, 169, 213, 5)\n11011101441005\n(144, 144, 255, 44)\n11011101441006\n(169, 169, 213, 17)\n11011101461001\n(256, 256, 299, 100)\n11011101461002\n(128, 128, 275, 18)\n11011101461003\n(256, 256, 299, 66)\n11011101461004\n(256, 256, 299, 19)\n11011101461005\n(256, 256, 299, 5)\n11011101461006\n(256, 256, 299, 8)\n11011101481001\n(168, 168, 479, 9)\n11011101481002\n(168, 168, 405, 9)\n11011101481003\n(168, 168, 479, 76)\n11011101481004\n(168, 168, 324, 21)\n11011101481005\n(168, 168, 274, 7)\n11011101491001\n(144, 144, 213, 10)\n11011101491002\n(200, 200, 359, 84)\n11011101491003\n(200, 200, 356, 11)\n11011101491004\n(200, 200, 348, 1)\n11011101491005\n(200, 200, 341, 5)\n11011101541001\n(144, 144, 255, 17)\n11011101541002\n(144, 144, 213, 13)\n11011101601001\n(144, 144, 276, 2)\n11011101601002\n(169, 169, 234, 10)\n11011101621001\n(256, 256, 335, 17)\n11011101621002\n(256, 256, 299, 8)\n11011101631001\n(144, 144, 276, 10)\n11011101641001\n(144, 144, 255, 4)\n11011101641002\n(144, 144, 213, 10)\n11011101641003\n(144, 144, 255, 20)\n11011101641004\n(144, 144, 234, 26)\n11011101761001\n(256, 256, 299, 4)\n11011101761002\n(256, 256, 335, 6)\n11011101761003\n(256, 256, 299, 5)\n11011101761004\n(256, 256, 299, 6)\n11011101761005\n(256, 256, 299, 28)\n11011101761006\n(256, 256, 335, 15)\n11011101761007\n(256, 256, 335, 91)\n11011101761008\n(256, 256, 299, 2)\n11011101761009\n(256, 256, 335, 13)\n11011101761010\n(256, 256, 335, 38)\n11011101761011\n(256, 256, 299, 8)\n11011101761012\n(256, 256, 299, 3)\n11011101761015\n(256, 256, 335, 6)\n11011101761016\n(256, 256, 371, 10)\n11011101821002\n(256, 256, 335, 9)\n11011101821003\n(144, 144, 234, 8)\n11011102011001\n(256, 256, 263, 31)\n11011102151001\n(144, 144, 254, 6)\n11011102211001\n(256, 256, 371, 38)\n11011102211002\n(256, 256, 335, 33)\n11011102281001\n(256, 256, 263, 22)\n11011102321001\n(144, 144, 254, 23)\n11011102321002\n(144, 144, 254, 28)\n11011102321004\n(144, 144, 339, 8)\n11011102321005\n(200, 200, 543, 18)\n11011102321006\n(200, 200, 729, 6)\n11011102321007\n(144, 144, 339, 1)\n11011102321008\n(200, 200, 543, 42)\n11011102321009\n(144, 144, 297, 58)\n11011102321010\n(144, 144, 234, 22)\n11011102361001\n(256, 256, 371, 15)\n11011102361002\n(256, 256, 299, 25)\n11011102361003\n(256, 256, 335, 1)\n11011102411001\n(144, 144, 253, 6)\n11011102411002\n(144, 144, 234, 9)\n11011102411003\n(256, 256, 299, 40)\n11011102441001\n(169, 169, 234, 87)\n11011102441002\n(144, 144, 255, 19)\n11011102441003\n(169, 169, 213, 20)\n11011102461001\n(256, 256, 335, 45)\n11011102541001\n(192, 192, 299, 6)\n11011102541002\n(192, 192, 263, 2)\n11011102541003\n(192, 192, 299, 3)\n11011102641001\n(144, 144, 234, 72)\n11011102641002\n(144, 144, 213, 25)\n11011102871001\n(256, 256, 299, 1)\n11011103041002\n(144, 144, 234, 9)\n11011103041003\n(256, 256, 299, 15)\n11011103051001\n(144, 144, 254, 33)\n11011103211001\n(256, 256, 275, 13)\n11011103211002\n(256, 256, 275, 4)\n11011103211003\n(256, 256, 275, 7)\n11011103211004\n(256, 256, 275, 79)\n11011103311001\n(144, 144, 381, 18)\n11011103311002\n(144, 144, 339, 3)\n11011103311003\n(144, 144, 360, 18)\n11011103311004\n(144, 144, 360, 37)\n11011103311005\n(256, 256, 299, 51)\n11011104211001\n(144, 144, 234, 1)\n11011104211002\n(144, 144, 213, 12)\n11011104211003\n(144, 144, 255, 41)\n11011104211004\n(144, 144, 234, 2)\n11011104211005\n(144, 144, 234, 1)\n11011104211006\n(144, 144, 234, 22)\n11011104211007\n(200, 200, 487, 1)\n11011104211008\n(200, 200, 497, 38)\n11011104211009\n(200, 200, 505, 12)\n11011104211010\n(144, 144, 234, 11)\n11011104341001\n(256, 256, 263, 4)\n11011104341002\n(144, 144, 213, 19)\n11011104341003\n(256, 256, 299, 31)\n11011104341005\n(256, 256, 299, 1)\n11011104341006\n(256, 256, 263, 6)\n11011105051001\n(256, 256, 263, 3)\n11011105051002\n(256, 256, 263, 44)\n11011105051003\n(256, 256, 263, 4)\n11011105211001\n(169, 169, 276, 4)\n11011105211002\n(144, 144, 255, 29)\n11011105211003\n(144, 144, 276, 84)\n11011105341001\n(128, 128, 313, 22)\n11011105341002\n(128, 128, 275, 4)\n11011106051001\n(168, 168, 437, 18)\n11011106051002\n(168, 168, 344, 74)\n11011106051003\n(168, 168, 390, 6)\n11011106051004\n(168, 168, 437, 12)\n11011106051005\n(200, 200, 443, 14)\n11011106051006\n(200, 200, 489, 9)\n11011106131001\n(256, 256, 263, 35)\n11011106131002\n(256, 256, 335, 19)\n11011106131003\n(256, 256, 263, 45)\n11011106131004\n(256, 256, 335, 2)\n11011106131005\n(256, 256, 263, 12)\n11011106211001\n(256, 256, 327, 54)\n11011106211002\n(256, 256, 287, 13)\n11011106341002\n(144, 144, 192, 9)\n11011106341006\n(144, 144, 192, 16)\n11011106341007\n(144, 144, 213, 3)\n11011106341008\n(256, 256, 299, 25)\n11011106341009\n(144, 144, 192, 1)\n11011106341010\n(144, 144, 360, 6)\n11011106341011\n(256, 256, 263, 30)\n11011106441001\n(169, 169, 213, 10)\n11011107211001\n(256, 256, 287, 17)\n11011107641001\n(200, 200, 284, 21)\n11011108041001\n(256, 256, 371, 53)\n11011108041002\n(256, 256, 335, 8)\n11011108211001\n(256, 256, 407, 14)\n11011108211002\n(256, 256, 371, 17)\n11011108371001\n(168, 168, 165, 2)\n11011108371002\n(168, 168, 195, 15)\n11011108371003\n(168, 168, 165, 4)\n11011108371004\n(168, 168, 195, 26)\n11011108611001\n(256, 256, 299, 15)\n11011108611002\n(256, 256, 335, 42)\n11011109131001\n(128, 128, 275, 3)\n11011109131002\n(192, 192, 299, 15)\n11011109131003\n(128, 128, 275, 1)\n11011109131004\n(128, 128, 313, 17)\n11011109131005\n(256, 256, 481, 3)\n51011101111001\n(144, 144, 234, 15)\n51011101111003\n(144, 144, 255, 20)\n51011101111005\n(144, 144, 422, 42)\n51011101111006\n(169, 169, 254, 10)\n51011101261001\n(200, 200, 196, 8)\n51011101261002\n(200, 200, 481, 2)\n51011101261003\n(200, 200, 481, 9)\n51011101261004\n(200, 200, 481, 30)\n51011101261005\n(200, 200, 481, 28)\n51011101261006\n(200, 200, 481, 11)\n51011101261007\n(200, 200, 915, 67)\n51011101261008\n(168, 168, 429, 13)\n51011101261009\n(200, 200, 481, 33)\n51011101261010\n(200, 200, 481, 2)\n51011101261011\n(200, 200, 481, 9)\n51011101261012\n(200, 200, 543, 124)\n51011101261013\n(200, 200, 543, 10)\n51011101291002\n(168, 168, 344, 9)\n51011101291003\n(168, 168, 344, 3)\n51011101301001\n(144, 144, 276, 21)\n51011101301002\n(256, 256, 263, 32)\n51011101371001\n(128, 128, 287, 1)\n51011101371002\n(128, 128, 327, 10)\n51011101371003\n(128, 128, 327, 21)\n51011101371004\n(128, 128, 287, 7)\n51011101371005\n(128, 128, 287, 32)\n51011101371006\n(128, 128, 287, 6)\n51011101371008\n(128, 128, 287, 7)\n51011101371009\n(128, 128, 327, 2)\n51011101371010\n(128, 128, 327, 34)\n51011101371011\n(128, 128, 287, 8)\n51011101371012\n(168, 168, 165, 8)\n51011101871002\n(128, 128, 263, 7)\n51011101871003\n(128, 128, 299, 19)\n51011101871004\n(128, 128, 299, 1)\n51011101871005\n(128, 128, 263, 9)\n51011101871006\n(128, 128, 263, 7)\n51011101871008\n(128, 128, 299, 4)\n51011101871009\n(200, 200, 469, 7)\n51011101871010\n(200, 200, 435, 31)\n51011101871011\n(400, 400, 501, 1)\n51011101881001\n(200, 200, 853, 14)\n51011101881002\n(200, 200, 419, 20)\n51011101881003\n(200, 200, 481, 1)\n51011101881004\n(200, 200, 419, 3)\n51011101881005\n(200, 200, 419, 6)\n51011101881006\n(200, 200, 419, 17)\n51011101881007\n(200, 200, 419, 11)\n51011101881008\n(200, 200, 419, 14)\n51011101881009\n(200, 200, 419, 12)\n51011101881010\n(200, 200, 419, 2)\n51011101881011\n(200, 200, 481, 3)\n51011101881012\n(200, 200, 357, 5)\n51011101881013\n(200, 200, 419, 9)\n51011101881014\n(200, 200, 419, 13)\n51011101881015\n(200, 200, 419, 1)\n51011101881016\n(200, 200, 419, 23)\n51011101881017\n(200, 200, 419, 19)\n51011101881018\n(200, 200, 419, 4)\n51011101881019\n(200, 200, 419, 6)\n51011101881020\n(200, 200, 543, 1)\n51011101881021\n(200, 200, 419, 8)\n51011101881022\n(200, 200, 419, 22)\n51011101881023\n(200, 200, 481, 35)\n51011101881024\n(200, 200, 419, 30)\n51011101881025\n(200, 200, 481, 4)\n51011101881026\n(128, 128, 275, 19)\n51011101881027\n(200, 200, 481, 8)\n51011101881028\n(200, 200, 419, 15)\n51011101901001\n(144, 144, 255, 25)\n51011101901002\n(144, 144, 234, 3)\n51011101901003\n(144, 144, 465, 11)\n51011101901004\n(144, 144, 339, 4)\n51011101901005\n(144, 144, 234, 26)\n51011101901006\n(144, 144, 234, 13)\n51011101901007\n(144, 144, 255, 18)\n51011102161001\n(200, 200, 419, 13)\n51011102161002\n(200, 200, 543, 51)\n51011102161003\n(200, 200, 481, 29)\n51011102171001\n(168, 168, 325, 48)\n51011102171002\n(168, 168, 287, 13)\n51011102171003\n(168, 168, 325, 2)\n51011102171004\n(168, 168, 325, 11)\n51011102171005\n(168, 168, 325, 6)\n51011102171006\n(168, 168, 248, 40)\n51011102171007\n(168, 168, 325, 2)\n51011102171008\n(168, 168, 287, 5)\n51011102171009\n(168, 168, 287, 19)\n51011102181001\n(128, 128, 367, 12)\n"
    }
   ],
   "source": [
    "csv_directory = '/media/deeplearning/78ca2911-9e9f-4f78-b80a-848024b95f92/GAINED_CSV_DATA/Export_Gained/CSV41/PET0'\n",
    "for mask in liste : \n",
    "    print(mask[0])\n",
    "    pixel_spacing, origin, direction, size = read_mask_nifti(mask[2])\n",
    "    mask_objet = MaskBuilder(os.path.join(csv_directory, mask[3]), (size[0], size[1], size[2]))\n",
    "    mask_4D = mask_objet.mask_array\n",
    "    print(mask_4D.shape)\n",
    "\n",
    "    build_nifti_mask(mask_4D, mask[2], pixel_spacing, origin, direction)\n",
    "\n"
   ]
  },
  {
   "cell_type": "code",
   "execution_count": 15,
   "metadata": {},
   "outputs": [
    {
     "output_type": "execute_result",
     "data": {
      "text/plain": "['11011101021013',\n '1.2.250.1.59.470.940100027.1.20141009123449.929.131461',\n '/media/deeplearning/78ca2911-9e9f-4f78-b80a-848024b95f92/GAINED_NIFTI/11011101021013/pet0/1.2.250.1.59.470.940100027.1.20141009123449.929.131461_nifti_mask.nii',\n 'patient_11011101021013_PET_0_review_92_41.csv']"
     },
     "metadata": {},
     "execution_count": 15
    }
   ],
   "source": [
    "liste[12]"
   ]
  },
  {
   "cell_type": "code",
   "execution_count": 17,
   "metadata": {},
   "outputs": [
    {
     "output_type": "execute_result",
     "data": {
      "text/plain": "(1.0, 0.0, 0.0, 0.0, 1.0, 0.0, 0.0, 0.0, 1.0)"
     },
     "metadata": {},
     "execution_count": 17
    }
   ],
   "source": [
    "direction = read_mask_nifti(liste[12][2])[2]\n",
    "direction"
   ]
  },
  {
   "cell_type": "code",
   "execution_count": 18,
   "metadata": {},
   "outputs": [],
   "source": [
    "if len(direction) != 9 : \n",
    "    print('mask 4D')"
   ]
  },
  {
   "cell_type": "code",
   "execution_count": 40,
   "metadata": {
    "tags": []
   },
   "outputs": [
    {
     "output_type": "stream",
     "name": "stdout",
     "text": "13\n"
    }
   ],
   "source": [
    "json_path = '/media/deeplearning/78ca2911-9e9f-4f78-b80a-848024b95f92/FLIP_NIFTI/false_mask.json'\n",
    "dataset = []\n",
    "with open(json_path) as json_file : \n",
    "    reader = json.load(json_file)\n",
    "    for info in reader :\n",
    "        dataset.append(info)\n",
    "\n",
    "print(len(dataset))"
   ]
  },
  {
   "cell_type": "code",
   "execution_count": 42,
   "metadata": {
    "tags": []
   },
   "outputs": [
    {
     "output_type": "stream",
     "name": "stdout",
     "text": "['/media/deeplearning/78ca2911-9e9f-4f78-b80a-848024b95f92/FLIP/DICOM/Derniers patients/2017097 CR 097/A20080862074 CORPS ENTIER AU FDG/CT CT TAP 55 B30s', 'CT', '/media/deeplearning/78ca2911-9e9f-4f78-b80a-848024b95f92/FLIP/DICOM/Derniers patients/2017097 CR 097/A20080862074 CORPS ENTIER AU FDG/PT PET TAP AC HD', 'PT', '2.16.840.1.113669.632.20.310000.20001712333', '2017097', 'cr_097_dec 22_2009.csv', 'cr_097_dec 7_2011.csv']\n"
    }
   ],
   "source": [
    "serie = dataset[9]\n",
    "print(serie)"
   ]
  },
  {
   "cell_type": "code",
   "execution_count": 44,
   "metadata": {},
   "outputs": [],
   "source": [
    "serie_pt_objet = SeriesPT(serie[2])\n",
    "nifti_array = serie_pt_objet.get_numpy_array()\n",
    "study_uid = serie_pt_objet.get_series_details()['study']['StudyInstanceUID']\n",
    "\n",
    "size_matrix = serie_pt_objet.get_size_matrix()\n",
    "mask_objet = MaskBuilder(os.path.join(csv_directory, serie[6]), size_matrix)\n",
    "\n"
   ]
  },
  {
   "cell_type": "code",
   "execution_count": 45,
   "metadata": {},
   "outputs": [
    {
     "output_type": "execute_result",
     "data": {
      "text/plain": "[1, 'POLYGON', 0.7599999999999998]"
     },
     "metadata": {},
     "execution_count": 45
    }
   ],
   "source": [
    "mask_objet.ecart_suv_max(nifti_array)"
   ]
  },
  {
   "cell_type": "code",
   "execution_count": null,
   "metadata": {},
   "outputs": [],
   "source": []
  },
  {
   "cell_type": "code",
   "execution_count": 46,
   "metadata": {
    "tags": []
   },
   "outputs": [
    {
     "output_type": "stream",
     "name": "stdout",
     "text": "14\n"
    }
   ],
   "source": [
    "json_path = '/media/deeplearning/78ca2911-9e9f-4f78-b80a-848024b95f92/FLIP_NIFTI/false_mask.json'\n",
    "dataset = []\n",
    "with open(json_path) as json_file : \n",
    "    reader = json.load(json_file)\n",
    "    for info in reader :\n",
    "        dataset.append(info)\n",
    "\n",
    "print(len(dataset))"
   ]
  },
  {
   "cell_type": "code",
   "execution_count": 47,
   "metadata": {
    "tags": []
   },
   "outputs": [
    {
     "output_type": "stream",
     "name": "stdout",
     "text": "0\nMASK CORRECT\nEXPORT NIFTI PT\nEXPORT NIFTI CT\nEXPORT NIFTI MASK\n1\nMASK CORRECT\nEXPORT NIFTI PT\nEXPORT NIFTI CT\nEXPORT NIFTI MASK\n2\nMASK CORRECT\nEXPORT NIFTI PT\nEXPORT NIFTI CT\nEXPORT NIFTI MASK\n3\nMASK CORRECT\nEXPORT NIFTI PT\nEXPORT NIFTI CT\nEXPORT NIFTI MASK\n4\nMASK CORRECT\nEXPORT NIFTI PT\nEXPORT NIFTI CT\nEXPORT NIFTI MASK\n5\nMASK CORRECT\nEXPORT NIFTI PT\nEXPORT NIFTI CT\nEXPORT NIFTI MASK\n6\nMASK CORRECT\nEXPORT NIFTI PT\nEXPORT NIFTI CT\nEXPORT NIFTI MASK\n7\nMASK CORRECT\nEXPORT NIFTI PT\nEXPORT NIFTI CT\nEXPORT NIFTI MASK\n8\nMASK CORRECT\nEXPORT NIFTI PT\nEXPORT NIFTI CT\nEXPORT NIFTI MASK\n9\nMASK CORRECT\nEXPORT NIFTI PT\nEXPORT NIFTI CT\nEXPORT NIFTI MASK\n10\nMASK CORRECT\nEXPORT NIFTI PT\nEXPORT NIFTI CT\nEXPORT NIFTI MASK\n11\nMASK CORRECT\nEXPORT NIFTI PT\nEXPORT NIFTI CT\nEXPORT NIFTI MASK\n12\nMASK CORRECT\nEXPORT NIFTI PT\nEXPORT NIFTI CT\nEXPORT NIFTI MASK\n13\nMASK CORRECT\nEXPORT NIFTI PT\nEXPORT NIFTI CT\nEXPORT NIFTI MASK\n"
    }
   ],
   "source": [
    "#problème de bords pas pris en compte => mip ok donc on genere nifti\n",
    "nifti_directory = '/media/deeplearning/78ca2911-9e9f-4f78-b80a-848024b95f92/FLIP_NIFTI'\n",
    "\n",
    "csv_directory = '/media/deeplearning/78ca2911-9e9f-4f78-b80a-848024b95f92/FLIP/CSV'\n",
    "mip_directory = '/media/deeplearning/78ca2911-9e9f-4f78-b80a-848024b95f92/FLIP_NIFTI/MIP'\n",
    "\n",
    "for serie in dataset: \n",
    "    try : \n",
    "        #print(serie)\n",
    "        print(dataset.index(serie))\n",
    "\n",
    "        if serie[1] == 'PT' : \n",
    "            serie_pt_objet = SeriesPT(serie[0])\n",
    "            nifti_array = serie_pt_objet.get_numpy_array()\n",
    "            study_uid = serie_pt_objet.get_series_details()['study']['StudyInstanceUID']\n",
    "\n",
    "\n",
    "\n",
    "            size_matrix = serie_pt_objet.get_size_matrix()\n",
    "            mask_objet = MaskBuilder(os.path.join(csv_directory, serie[6]), size_matrix)\n",
    "            mask_4D = mask_objet.mask_array\n",
    "\n",
    "            number_roi = mask_4D.shape[3]\n",
    "            #threshold = mask_objet.details_rois['SUVlo']\n",
    "        #seuillage\n",
    "\n",
    "\n",
    "            #if mask_objet.is_correct_suv(nifti_array) == True : #si mask correct \n",
    "            print(\"MASK CORRECT\")\n",
    "                    #generation nifti PT\n",
    "            filename_pt = study_uid+'_'+'nifti_'+'PT'+'.nii'\n",
    "            serie_pt_objet.export_nifti(os.path.join(nifti_directory, filename_pt))\n",
    "            print(\"EXPORT NIFTI PT\")\n",
    "                    #generation nifti CT\n",
    "            serie_ct_objet = SeriesCT(serie[2])\n",
    "            serie_ct_objet.get_numpy_array()\n",
    "            filename_ct = study_uid+'_'+'nifti_'+'CT'+'.nii'\n",
    "            serie_ct_objet.export_nifti(os.path.join(nifti_directory, filename_ct))\n",
    "            print(\"EXPORT NIFTI CT\")\n",
    "                    #generation nifti mask\n",
    "            filename_mask = study_uid+'_'+'nifti_'+'mask'+'.nii'\n",
    "            serie_pt_objet.export_nifti(os.path.join(nifti_directory, filename_mask), mask_4D)\n",
    "            print(\"EXPORT NIFTI MASK\")\n",
    "            #shutil.rmtree(os.path.join(dicom_directory, serie[-2]))\n",
    "            #print(\"dicom effacé\")\n",
    "\n",
    "            #else : \n",
    "                #print(\"FALSE MASK\")\n",
    "                #false_mask_dataset_4.append(serie)\n",
    "                #print(mask_objet.calcul_suv(nifti_array))\n",
    "                #results.append(mask_objet.calcul_suv(nifti_array))\n",
    "                #print(mask_objet.ecart_suv_max(nifti_array))\n",
    "                #results.append(mask_objet.ecart_suv_max(nifti_array))\n",
    "                #print(mask_objet.ecart_suv_mean(nifti_array))\n",
    "                #results.append(mask_objet.ecart_suv_mean(nifti_array))\n",
    "                #print(mask_objet.ecart_SD(nifti_array))\n",
    "                #results.append(mask_objet.ecart_SD(nifti_array))\n",
    "\n",
    "                #results_false_mask.append(results)\n",
    "                #mask_4D = threshold_mask(mask_4D, mask_objet.details_rois, nifti_array)\n",
    "\n",
    "                #angle_filename = mip_projection(nifti_array, 0, mip_directory, study_uid, borne_max = 5.0)             #mip.png PET\n",
    "                #subliste.append(angle_filename)\n",
    "                #angle_filename_mask = mip_projection_4D(mask_4D, 0, mip_directory, study_uid, number_roi, borne_max = 1.0)\n",
    "        #mip.png MASK\n",
    "                #subliste.append(angle_filename_mask)\n",
    "\n",
    "                #path_mip.append(subliste)\n",
    "\n",
    "\n",
    "        else : \n",
    "            serie_pt_objet = SeriesPT(serie[2])\n",
    "            nifti_array = serie_pt_objet.get_numpy_array()\n",
    "            study_uid = serie_pt_objet.get_series_details()['study']['StudyInstanceUID']\n",
    "\n",
    "            size_matrix = serie_pt_objet.get_size_matrix()\n",
    "            mask_objet = MaskBuilder(os.path.join(csv_directory, serie[6]), size_matrix)\n",
    "            mask_4D = mask_objet.mask_array\n",
    "\n",
    "            number_roi = mask_4D.shape[3]\n",
    "            #threshold = mask_objet.details_rois['SUVlo']\n",
    "        #seuillage\n",
    "\n",
    "\n",
    "            #if mask_objet.is_correct_suv(nifti_array) == True : #si mask correct \n",
    "            print(\"MASK CORRECT\")\n",
    "                    #generation nifti PT\n",
    "            filename_pt = study_uid+'_'+'nifti_'+'PT'+'.nii'\n",
    "            serie_pt_objet.export_nifti(os.path.join(nifti_directory, filename_pt))\n",
    "            print(\"EXPORT NIFTI PT\")\n",
    "                     #generation nifti CT\n",
    "            serie_ct_objet = SeriesCT(serie[0])\n",
    "            serie_ct_objet.get_numpy_array()\n",
    "            filename_ct = study_uid+'_'+'nifti_'+'CT'+'.nii'\n",
    "            serie_ct_objet.export_nifti(os.path.join(nifti_directory, filename_ct))\n",
    "            print(\"EXPORT NIFTI CT\")\n",
    "                    #generation nifti mask\n",
    "            filename_mask = study_uid+'_'+'nifti_'+'mask'+'.nii'\n",
    "            serie_pt_objet.export_nifti(os.path.join(nifti_directory, filename_mask), mask_4D)\n",
    "            print(\"EXPORT NIFTI MASK\")\n",
    "            #shutil.rmtree(os.path.join(dicom_directory, serie[-2]))\n",
    "            #print('dicom effacé')\n",
    "            #else : \n",
    "                #print(\"FALSE MASK\")\n",
    "                #false_mask_dataset_4.append(serie)\n",
    "                #print(mask_objet.calcul_suv(nifti_array))\n",
    "                #results.append(mask_objet.calcul_suv(nifti_array))\n",
    "                #print(mask_objet.ecart_suv_max(nifti_array))\n",
    "                #results.append(mask_objet.ecart_suv_max(nifti_array))\n",
    "                #print(mask_objet.ecart_suv_mean(nifti_array))\n",
    "                #results.append(mask_objet.ecart_suv_mean(nifti_array))\n",
    "                #print(mask_objet.ecart_SD(nifti_array))\n",
    "                #results.append(mask_objet.ecart_SD(nifti_array))\n",
    "\n",
    "                #results_false_mask.append(results)\n",
    "                #mask_4D = threshold_mask(mask_4D, mask_objet.details_rois, nifti_array)\n",
    "\n",
    "                #angle_filename = mip_projection(nifti_array, 0, mip_directory, study_uid, borne_max = 5.0)             #mip.png PET\n",
    "                #subliste.append(angle_filename)\n",
    "                #angle_filename_mask = mip_projection_4D(mask_4D, 0, mip_directory, study_uid, number_roi, borne_max = 1.0)\n",
    "        #mip.png MASK\n",
    "                #subliste.append(angle_filename_mask)\n",
    "\n",
    "                #path_mip.append(subliste)\n",
    "               \n",
    "\n",
    "    except Exception as err : \n",
    "        print(err)\n",
    "        print(serie)\n",
    "        error_dataset_1.append(serie)"
   ]
  },
  {
   "cell_type": "code",
   "execution_count": null,
   "metadata": {},
   "outputs": [],
   "source": []
  },
  {
   "cell_type": "code",
   "execution_count": null,
   "metadata": {},
   "outputs": [],
   "source": []
  },
  {
   "cell_type": "code",
   "execution_count": null,
   "metadata": {},
   "outputs": [],
   "source": []
  },
  {
   "cell_type": "code",
   "execution_count": null,
   "metadata": {},
   "outputs": [],
   "source": []
  },
  {
   "cell_type": "code",
   "execution_count": null,
   "metadata": {},
   "outputs": [],
   "source": []
  },
  {
   "cell_type": "code",
   "execution_count": null,
   "metadata": {},
   "outputs": [],
   "source": []
  },
  {
   "cell_type": "code",
   "execution_count": null,
   "metadata": {},
   "outputs": [],
   "source": []
  },
  {
   "cell_type": "code",
   "execution_count": null,
   "metadata": {},
   "outputs": [],
   "source": [
    "#GENERER MIP DES MASK FAUX\n",
    "mip_directory = '/media/deeplearning/78ca2911-9e9f-4f78-b80a-848024b95f92/GAINED_MIP/DATASET_1'\n",
    "\n",
    "path_mip = []\n",
    "for serie in dataset_coronal : \n",
    "    index = dataset_coronal.index(serie)\n",
    "    print(index)\n",
    "    subliste = []\n",
    "    if serie[1] =='PT' :\n",
    "        serie_pt_objet = SeriesPT(serie[0])\n",
    "        study_uid = serie_pt_objet.get_series_details()['study']['StudyInstanceUID']\n",
    "        nifti_array = serie_pt_objet.get_numpy_array()\n",
    "        angle_filename = mip_projection(nifti_array, 0, mip_directory, study_uid, borne_max = 5.0)             #mip.png PET\n",
    "        subliste.append(angle_filename)\n",
    "\n",
    "        size_matrix = serie_pt_objet.get_size_matrix()\n",
    "        mask_objet = MaskBuilder(os.path.join(csv_directory, serie[4]), size_matrix)\n",
    "        mask_4D = mask_objet.mask_array\n",
    "\n",
    "        print(mask_4D.shape)\n",
    "        number_roi = mask_4D.shape[3]\n",
    "        threshold = mask_objet.details_rois['SUVlo']\n",
    "        #seuillage\n",
    "        flip_mask = mask_objet.flip_z(mask_4D)\n",
    "        print(flip_mask.shape)\n",
    "        #mask_4D_flip = mask_objet.mask_array\n",
    "        new_mask_4D_flip = threshold_mask(flip_mask, mask_objet.details_rois, nifti_array)\n",
    "        angle_filename_mask = mip_projection_4D(new_mask_4D_flip, 0, mip_directory, study_uid, number_roi, borne_max = 1.0)\n",
    "        #mip.png MASK\n",
    "        subliste.append(angle_filename_mask)\n",
    "\n",
    "        path_mip.append(subliste)\n",
    "\n",
    "\n",
    "    else : \n",
    "        serie_pt_objet = SeriesPT(serie[2])\n",
    "        study_uid = serie_pt_objet.get_series_details()['study']['StudyInstanceUID']\n",
    "        nifti_array = serie_pt_objet.get_numpy_array()\n",
    "        angle_filename = mip_projection(nifti_array, 0, mip_directory, study_uid, borne_max = 5.0) \n",
    "        #mip.png PET\n",
    "        subliste.append(angle_filename)\n",
    "        size_matrix = serie_pt_objet.get_size_matrix()\n",
    "        mask_objet = MaskBuilder(os.path.join(csv_directory, serie[4]), size_matrix)\n",
    "        \n",
    "        mask_4D = mask_objet.mask_array\n",
    "\n",
    "        print(mask_4D.shape)\n",
    "        number_roi = mask_4D.shape[3]\n",
    "        threshold = mask_objet.details_rois['SUVlo']\n",
    "        #seuillage\n",
    "\n",
    "        flip_mask = mask_objet.flip_z(mask_4D)\n",
    "        \n",
    "        print(flip_mask.shape)\n",
    "        #mask_4D_flip = mask_objet.mask_array\n",
    "        new_mask_4D_flip = threshold_mask(flip_mask, mask_objet.details_rois, nifti_array)\n",
    "        angle_filename_mask = mip_projection_4D(new_mask_4D_flip, 0, mip_directory, study_uid, number_roi, borne_max = 1.0)\n",
    "        #mip.png MASK\n",
    "        subliste.append(angle_filename_mask)\n",
    "\n",
    "        path_mip.append(subliste)\n"
   ]
  },
  {
   "cell_type": "code",
   "execution_count": null,
   "metadata": {},
   "outputs": [],
   "source": [
    "#lire json false_mask "
   ]
  },
  {
   "cell_type": "code",
   "execution_count": null,
   "metadata": {},
   "outputs": [],
   "source": [
    "#GENERER MIP MASK CORONAL "
   ]
  },
  {
   "cell_type": "code",
   "execution_count": 6,
   "metadata": {},
   "outputs": [
    {
     "name": "stdout",
     "output_type": "stream",
     "text": [
      "0\n",
      "(144, 144, 234, 21)\n",
      "(144, 144, 234, 21)\n",
      "taille mask :  (144, 144, 234, 21)\n",
      "1\n",
      "(256, 256, 299, 11)\n",
      "(256, 256, 299, 11)\n",
      "taille mask :  (256, 256, 299, 11)\n",
      "2\n",
      "(144, 144, 255, 4)\n",
      "(144, 144, 255, 4)\n",
      "taille mask :  (144, 144, 255, 4)\n",
      "3\n",
      "(256, 256, 335, 25)\n",
      "(256, 256, 335, 25)\n",
      "taille mask :  (256, 256, 335, 25)\n",
      "4\n",
      "(256, 256, 515, 12)\n",
      "(256, 256, 515, 12)\n",
      "taille mask :  (256, 256, 515, 12)\n",
      "5\n",
      "(144, 144, 276, 15)\n",
      "(144, 144, 276, 15)\n",
      "taille mask :  (144, 144, 276, 15)\n",
      "6\n",
      "(144, 144, 276, 15)\n",
      "(144, 144, 276, 15)\n",
      "taille mask :  (144, 144, 276, 15)\n",
      "7\n",
      "(144, 144, 255, 15)\n",
      "(144, 144, 255, 15)\n",
      "taille mask :  (144, 144, 255, 15)\n",
      "8\n",
      "(144, 144, 234, 11)\n",
      "(144, 144, 234, 11)\n",
      "taille mask :  (144, 144, 234, 11)\n",
      "9\n",
      "(168, 168, 405, 32)\n",
      "(168, 168, 405, 32)\n",
      "taille mask :  (168, 168, 405, 32)\n",
      "10\n",
      "(144, 144, 255, 5)\n",
      "(144, 144, 255, 5)\n",
      "taille mask :  (144, 144, 255, 5)\n"
     ]
    }
   ],
   "source": [
    "#ALGO MIP FLIP \n",
    "\n",
    "mip_directory = '/media/salim/DD 2To/AHL2011_MIP_FLIP'\n",
    "\n",
    "path_mip = []\n",
    "for serie in dataset_coronal : \n",
    "    index = dataset_coronal.index(serie)\n",
    "    print(index)\n",
    "    subliste = []\n",
    "    if serie[1] =='PT' :\n",
    "        serie_pt_objet = SeriesPT(serie[0])\n",
    "        study_uid = serie_pt_objet.get_series_details()['study']['StudyInstanceUID']\n",
    "        nifti_array = serie_pt_objet.get_numpy_array()\n",
    "        angle_filename = mip_projection(nifti_array, 0, mip_directory, study_uid, borne_max = 5.0)             #mip.png PET\n",
    "        subliste.append(angle_filename)\n",
    "\n",
    "        size_matrix = serie_pt_objet.get_size_matrix()\n",
    "        mask_objet = MaskBuilder(os.path.join(csv_directory, serie[4]), size_matrix)\n",
    "        mask_4D = mask_objet.mask_array\n",
    "\n",
    "        print(mask_4D.shape)\n",
    "        number_roi = mask_4D.shape[3]\n",
    "        threshold = mask_objet.details_rois['SUVlo']\n",
    "        #seuillage\n",
    "        flip_mask = mask_objet.flip_z(mask_4D)\n",
    "        print(flip_mask.shape)\n",
    "        #mask_4D_flip = mask_objet.mask_array\n",
    "        new_mask_4D_flip = threshold_mask(flip_mask, mask_objet.details_rois, nifti_array)\n",
    "        angle_filename_mask = mip_projection_4D(new_mask_4D_flip, 0, mip_directory, study_uid, number_roi, borne_max = 1.0)\n",
    "        #mip.png MASK\n",
    "        subliste.append(angle_filename_mask)\n",
    "\n",
    "        path_mip.append(subliste)\n",
    "\n",
    "\n",
    "    else : \n",
    "        serie_pt_objet = SeriesPT(serie[2])\n",
    "        study_uid = serie_pt_objet.get_series_details()['study']['StudyInstanceUID']\n",
    "        nifti_array = serie_pt_objet.get_numpy_array()\n",
    "        angle_filename = mip_projection(nifti_array, 0, mip_directory, study_uid, borne_max = 5.0) \n",
    "        #mip.png PET\n",
    "        subliste.append(angle_filename)\n",
    "        size_matrix = serie_pt_objet.get_size_matrix()\n",
    "        mask_objet = MaskBuilder(os.path.join(csv_directory, serie[4]), size_matrix)\n",
    "        \n",
    "        mask_4D = mask_objet.mask_array\n",
    "\n",
    "        print(mask_4D.shape)\n",
    "        number_roi = mask_4D.shape[3]\n",
    "        threshold = mask_objet.details_rois['SUVlo']\n",
    "        #seuillage\n",
    "\n",
    "        flip_mask = mask_objet.flip_z(mask_4D)\n",
    "        \n",
    "        print(flip_mask.shape)\n",
    "        #mask_4D_flip = mask_objet.mask_array\n",
    "        new_mask_4D_flip = threshold_mask(flip_mask, mask_objet.details_rois, nifti_array)\n",
    "        angle_filename_mask = mip_projection_4D(new_mask_4D_flip, 0, mip_directory, study_uid, number_roi, borne_max = 1.0)\n",
    "        #mip.png MASK\n",
    "        subliste.append(angle_filename_mask)\n",
    "\n",
    "        path_mip.append(subliste)"
   ]
  },
  {
   "cell_type": "code",
   "execution_count": null,
   "metadata": {},
   "outputs": [],
   "source": []
  },
  {
   "cell_type": "code",
   "execution_count": 2,
   "metadata": {
    "tags": []
   },
   "outputs": [
    {
     "output_type": "stream",
     "name": "stdout",
     "text": "534\n"
    }
   ],
   "source": [
    "#POUR PET 2 ET PET 4 (SANS MASK)\n",
    "\n",
    "#RELOAD JSON FROM PARSED DICOM IPYNB\n",
    "\n",
    "\n",
    "json_path = '/media/deeplearning/78ca2911-9e9f-4f78-b80a-848024b95f92/GAINED_NIFTI_PET4/GAINED_list_path_CT_PET4.json'\n",
    "dataset = []\n",
    "with open(json_path) as json_file : \n",
    "    reader = json.load(json_file)\n",
    "    for info in reader :\n",
    "        dataset.append(info)\n",
    "\n",
    "print(len(dataset))"
   ]
  },
  {
   "cell_type": "code",
   "execution_count": 3,
   "metadata": {},
   "outputs": [
    {
     "output_type": "execute_result",
     "data": {
      "text/plain": "['/media/salim/DD 2To/GAINED_Validated_DICOMS/51011101881013/1.3.12.2.1107.5.1.4.1007.30000014021712095628100000006/1.3.12.2.1107.5.1.4.1007.30000014021712362196800004578/1.3.12.2.1107.5.1.4.1007.30000014021712362196800004578',\n 'CT',\n '/media/salim/DD 2To/GAINED_Validated_DICOMS/51011101881013/1.3.12.2.1107.5.1.4.1007.30000014021712095628100000006/1.3.12.2.1107.5.1.4.11087.30000014021708361704600036338/1.3.12.2.1107.5.1.4.11087.30000014021708361704600036338',\n 'PT',\n '1.3.12.2.1107.5.1.4.1007.30000014021712095628100000006',\n '51011101881013']"
     },
     "metadata": {},
     "execution_count": 3
    }
   ],
   "source": [
    "dataset[500]"
   ]
  },
  {
   "cell_type": "code",
   "execution_count": 4,
   "metadata": {},
   "outputs": [],
   "source": [
    "#REWRITE GOOD PATH\n",
    "\n",
    "for serie in dataset : \n",
    "    for i in range(0,3,2) :\n",
    "        serie[i] = serie[i].replace('salim', 'deeplearning')\n",
    "\n",
    "for serie in dataset : \n",
    "    for i in range(0,3,2) :\n",
    "        serie[i] = serie[i].replace('DD 2To', 'Elements') "
   ]
  },
  {
   "cell_type": "code",
   "execution_count": 5,
   "metadata": {},
   "outputs": [
    {
     "output_type": "execute_result",
     "data": {
      "text/plain": "['/media/deeplearning/Elements/GAINED_Validated_DICOMS/51011101881013/1.3.12.2.1107.5.1.4.1007.30000014021712095628100000006/1.3.12.2.1107.5.1.4.1007.30000014021712362196800004578/1.3.12.2.1107.5.1.4.1007.30000014021712362196800004578',\n 'CT',\n '/media/deeplearning/Elements/GAINED_Validated_DICOMS/51011101881013/1.3.12.2.1107.5.1.4.1007.30000014021712095628100000006/1.3.12.2.1107.5.1.4.11087.30000014021708361704600036338/1.3.12.2.1107.5.1.4.11087.30000014021708361704600036338',\n 'PT',\n '1.3.12.2.1107.5.1.4.1007.30000014021712095628100000006',\n '51011101881013']"
     },
     "metadata": {},
     "execution_count": 5
    }
   ],
   "source": [
    "dataset[500]"
   ]
  },
  {
   "cell_type": "code",
   "execution_count": 6,
   "metadata": {
    "tags": []
   },
   "outputs": [
    {
     "output_type": "stream",
     "name": "stdout",
     "text": "0\n1\n2\n3\n4\n5\n6\n7\n8\n9\n10\n11\n"
    },
    {
     "output_type": "error",
     "ename": "KeyboardInterrupt",
     "evalue": "",
     "traceback": [
      "\u001b[0;31m---------------------------------------------------------------------------\u001b[0m",
      "\u001b[0;31mKeyboardInterrupt\u001b[0m                         Traceback (most recent call last)",
      "\u001b[0;32m<ipython-input-6-3626fa2b0a98>\u001b[0m in \u001b[0;36m<module>\u001b[0;34m\u001b[0m\n\u001b[1;32m      7\u001b[0m         \u001b[0;32mif\u001b[0m \u001b[0mserie\u001b[0m\u001b[0;34m[\u001b[0m\u001b[0;36m1\u001b[0m\u001b[0;34m]\u001b[0m \u001b[0;34m==\u001b[0m\u001b[0;34m'PT'\u001b[0m \u001b[0;34m:\u001b[0m\u001b[0;34m\u001b[0m\u001b[0;34m\u001b[0m\u001b[0m\n\u001b[1;32m      8\u001b[0m             \u001b[0mserie_pt_objet\u001b[0m \u001b[0;34m=\u001b[0m \u001b[0mSeriesPT\u001b[0m\u001b[0;34m(\u001b[0m\u001b[0mserie\u001b[0m\u001b[0;34m[\u001b[0m\u001b[0;36m0\u001b[0m\u001b[0;34m]\u001b[0m\u001b[0;34m)\u001b[0m\u001b[0;34m\u001b[0m\u001b[0;34m\u001b[0m\u001b[0m\n\u001b[0;32m----> 9\u001b[0;31m             \u001b[0mnifti_array\u001b[0m \u001b[0;34m=\u001b[0m \u001b[0mserie_pt_objet\u001b[0m\u001b[0;34m.\u001b[0m\u001b[0mget_numpy_array\u001b[0m\u001b[0;34m(\u001b[0m\u001b[0;34m)\u001b[0m\u001b[0;34m\u001b[0m\u001b[0;34m\u001b[0m\u001b[0m\n\u001b[0m\u001b[1;32m     10\u001b[0m             \u001b[0;32mif\u001b[0m \u001b[0mserie_pt_objet\u001b[0m\u001b[0;34m.\u001b[0m\u001b[0mget_z_spacing\u001b[0m \u001b[0;34m==\u001b[0m\u001b[0;34m'Unconstant Spacing'\u001b[0m \u001b[0;34m:\u001b[0m\u001b[0;34m\u001b[0m\u001b[0;34m\u001b[0m\u001b[0m\n\u001b[1;32m     11\u001b[0m                 \u001b[0mprint\u001b[0m\u001b[0;34m(\u001b[0m\u001b[0;34m\"Unconstant Spacing PET\"\u001b[0m\u001b[0;34m)\u001b[0m\u001b[0;34m\u001b[0m\u001b[0;34m\u001b[0m\u001b[0m\n",
      "\u001b[0;32m~/Dicom-To-CNN/library_dicom/dicom_processor/model/SeriesPT.py\u001b[0m in \u001b[0;36mget_numpy_array\u001b[0;34m(self)\u001b[0m\n\u001b[1;32m    189\u001b[0m             \u001b[0;34m[\u001b[0m\u001b[0marray\u001b[0m\u001b[0;34m]\u001b[0m \u001b[0;34m-\u001b[0m\u001b[0;34m-\u001b[0m \u001b[0;34m[\u001b[0m\u001b[0;32mreturn\u001b[0m \u001b[0marray\u001b[0m \u001b[0mof\u001b[0m \u001b[0mthe\u001b[0m \u001b[0mSeriesPT\u001b[0m \u001b[0;32mwith\u001b[0m \u001b[0mSUV\u001b[0m \u001b[0;32mand\u001b[0m \u001b[0mSUL\u001b[0m \u001b[0mfactor\u001b[0m \u001b[0;32min\u001b[0m \u001b[0;36m32\u001b[0m\u001b[0mbis\u001b[0m \u001b[0mnpArray\u001b[0m \u001b[0;34m]\u001b[0m\u001b[0;34m\u001b[0m\u001b[0;34m\u001b[0m\u001b[0m\n\u001b[1;32m    190\u001b[0m         \"\"\"\n\u001b[0;32m--> 191\u001b[0;31m         \u001b[0mnumpy_array\u001b[0m \u001b[0;34m=\u001b[0m \u001b[0msuper\u001b[0m\u001b[0;34m(\u001b[0m\u001b[0;34m)\u001b[0m\u001b[0;34m.\u001b[0m\u001b[0mget_numpy_array\u001b[0m\u001b[0;34m(\u001b[0m\u001b[0;34m)\u001b[0m\u001b[0;34m\u001b[0m\u001b[0;34m\u001b[0m\u001b[0m\n\u001b[0m\u001b[1;32m    192\u001b[0m         \u001b[0;32mtry\u001b[0m\u001b[0;34m:\u001b[0m\u001b[0;34m\u001b[0m\u001b[0;34m\u001b[0m\u001b[0m\n\u001b[1;32m    193\u001b[0m             \u001b[0;32mif\u001b[0m \u001b[0;34m(\u001b[0m\u001b[0mself\u001b[0m\u001b[0;34m.\u001b[0m\u001b[0msul_value\u001b[0m \u001b[0;34m==\u001b[0m \u001b[0;32mFalse\u001b[0m\u001b[0;34m)\u001b[0m \u001b[0;34m:\u001b[0m\u001b[0;34m\u001b[0m\u001b[0;34m\u001b[0m\u001b[0m\n",
      "\u001b[0;32m~/Dicom-To-CNN/library_dicom/dicom_processor/model/Series.py\u001b[0m in \u001b[0;36mget_numpy_array\u001b[0;34m(self)\u001b[0m\n\u001b[1;32m     91\u001b[0m     \u001b[0;32mdef\u001b[0m \u001b[0mget_numpy_array\u001b[0m\u001b[0;34m(\u001b[0m\u001b[0mself\u001b[0m\u001b[0;34m)\u001b[0m\u001b[0;34m:\u001b[0m\u001b[0;34m\u001b[0m\u001b[0;34m\u001b[0m\u001b[0m\n\u001b[1;32m     92\u001b[0m         \u001b[0;32mif\u001b[0m \u001b[0mself\u001b[0m\u001b[0;34m.\u001b[0m\u001b[0mis_image_modality\u001b[0m \u001b[0;34m==\u001b[0m \u001b[0;32mFalse\u001b[0m \u001b[0;34m:\u001b[0m \u001b[0;32mreturn\u001b[0m\u001b[0;34m\u001b[0m\u001b[0;34m\u001b[0m\u001b[0m\n\u001b[0;32m---> 93\u001b[0;31m         \u001b[0minstance_array\u001b[0m \u001b[0;34m=\u001b[0m \u001b[0;34m[\u001b[0m\u001b[0mInstance\u001b[0m\u001b[0;34m(\u001b[0m\u001b[0mos\u001b[0m\u001b[0;34m.\u001b[0m\u001b[0mpath\u001b[0m\u001b[0;34m.\u001b[0m\u001b[0mjoin\u001b[0m\u001b[0;34m(\u001b[0m\u001b[0mself\u001b[0m\u001b[0;34m.\u001b[0m\u001b[0mpath\u001b[0m\u001b[0;34m,\u001b[0m \u001b[0mfile_name\u001b[0m\u001b[0;34m)\u001b[0m\u001b[0;34m,\u001b[0m \u001b[0mload_image\u001b[0m\u001b[0;34m=\u001b[0m\u001b[0;32mTrue\u001b[0m\u001b[0;34m)\u001b[0m \u001b[0;32mfor\u001b[0m \u001b[0mfile_name\u001b[0m \u001b[0;32min\u001b[0m \u001b[0mself\u001b[0m\u001b[0;34m.\u001b[0m\u001b[0mfile_names\u001b[0m\u001b[0;34m]\u001b[0m\u001b[0;34m\u001b[0m\u001b[0;34m\u001b[0m\u001b[0m\n\u001b[0m\u001b[1;32m     94\u001b[0m         \u001b[0minstance_array\u001b[0m\u001b[0;34m.\u001b[0m\u001b[0msort\u001b[0m\u001b[0;34m(\u001b[0m\u001b[0mkey\u001b[0m\u001b[0;34m=\u001b[0m\u001b[0;32mlambda\u001b[0m \u001b[0minstance_array\u001b[0m\u001b[0;34m:\u001b[0m\u001b[0mint\u001b[0m\u001b[0;34m(\u001b[0m\u001b[0minstance_array\u001b[0m\u001b[0;34m.\u001b[0m\u001b[0mget_image_position\u001b[0m\u001b[0;34m(\u001b[0m\u001b[0;34m)\u001b[0m\u001b[0;34m[\u001b[0m\u001b[0;36m2\u001b[0m\u001b[0;34m]\u001b[0m\u001b[0;34m)\u001b[0m\u001b[0;34m)\u001b[0m\u001b[0;34m\u001b[0m\u001b[0;34m\u001b[0m\u001b[0m\n\u001b[1;32m     95\u001b[0m         \u001b[0mpixel_data\u001b[0m \u001b[0;34m=\u001b[0m \u001b[0;34m[\u001b[0m\u001b[0minstance\u001b[0m\u001b[0;34m.\u001b[0m\u001b[0mget_image_nparray\u001b[0m\u001b[0;34m(\u001b[0m\u001b[0;34m)\u001b[0m \u001b[0;32mfor\u001b[0m \u001b[0minstance\u001b[0m \u001b[0;32min\u001b[0m \u001b[0minstance_array\u001b[0m\u001b[0;34m]\u001b[0m\u001b[0;34m\u001b[0m\u001b[0;34m\u001b[0m\u001b[0m\n",
      "\u001b[0;32m~/Dicom-To-CNN/library_dicom/dicom_processor/model/Series.py\u001b[0m in \u001b[0;36m<listcomp>\u001b[0;34m(.0)\u001b[0m\n\u001b[1;32m     91\u001b[0m     \u001b[0;32mdef\u001b[0m \u001b[0mget_numpy_array\u001b[0m\u001b[0;34m(\u001b[0m\u001b[0mself\u001b[0m\u001b[0;34m)\u001b[0m\u001b[0;34m:\u001b[0m\u001b[0;34m\u001b[0m\u001b[0;34m\u001b[0m\u001b[0m\n\u001b[1;32m     92\u001b[0m         \u001b[0;32mif\u001b[0m \u001b[0mself\u001b[0m\u001b[0;34m.\u001b[0m\u001b[0mis_image_modality\u001b[0m \u001b[0;34m==\u001b[0m \u001b[0;32mFalse\u001b[0m \u001b[0;34m:\u001b[0m \u001b[0;32mreturn\u001b[0m\u001b[0;34m\u001b[0m\u001b[0;34m\u001b[0m\u001b[0m\n\u001b[0;32m---> 93\u001b[0;31m         \u001b[0minstance_array\u001b[0m \u001b[0;34m=\u001b[0m \u001b[0;34m[\u001b[0m\u001b[0mInstance\u001b[0m\u001b[0;34m(\u001b[0m\u001b[0mos\u001b[0m\u001b[0;34m.\u001b[0m\u001b[0mpath\u001b[0m\u001b[0;34m.\u001b[0m\u001b[0mjoin\u001b[0m\u001b[0;34m(\u001b[0m\u001b[0mself\u001b[0m\u001b[0;34m.\u001b[0m\u001b[0mpath\u001b[0m\u001b[0;34m,\u001b[0m \u001b[0mfile_name\u001b[0m\u001b[0;34m)\u001b[0m\u001b[0;34m,\u001b[0m \u001b[0mload_image\u001b[0m\u001b[0;34m=\u001b[0m\u001b[0;32mTrue\u001b[0m\u001b[0;34m)\u001b[0m \u001b[0;32mfor\u001b[0m \u001b[0mfile_name\u001b[0m \u001b[0;32min\u001b[0m \u001b[0mself\u001b[0m\u001b[0;34m.\u001b[0m\u001b[0mfile_names\u001b[0m\u001b[0;34m]\u001b[0m\u001b[0;34m\u001b[0m\u001b[0;34m\u001b[0m\u001b[0m\n\u001b[0m\u001b[1;32m     94\u001b[0m         \u001b[0minstance_array\u001b[0m\u001b[0;34m.\u001b[0m\u001b[0msort\u001b[0m\u001b[0;34m(\u001b[0m\u001b[0mkey\u001b[0m\u001b[0;34m=\u001b[0m\u001b[0;32mlambda\u001b[0m \u001b[0minstance_array\u001b[0m\u001b[0;34m:\u001b[0m\u001b[0mint\u001b[0m\u001b[0;34m(\u001b[0m\u001b[0minstance_array\u001b[0m\u001b[0;34m.\u001b[0m\u001b[0mget_image_position\u001b[0m\u001b[0;34m(\u001b[0m\u001b[0;34m)\u001b[0m\u001b[0;34m[\u001b[0m\u001b[0;36m2\u001b[0m\u001b[0;34m]\u001b[0m\u001b[0;34m)\u001b[0m\u001b[0;34m)\u001b[0m\u001b[0;34m\u001b[0m\u001b[0;34m\u001b[0m\u001b[0m\n\u001b[1;32m     95\u001b[0m         \u001b[0mpixel_data\u001b[0m \u001b[0;34m=\u001b[0m \u001b[0;34m[\u001b[0m\u001b[0minstance\u001b[0m\u001b[0;34m.\u001b[0m\u001b[0mget_image_nparray\u001b[0m\u001b[0;34m(\u001b[0m\u001b[0;34m)\u001b[0m \u001b[0;32mfor\u001b[0m \u001b[0minstance\u001b[0m \u001b[0;32min\u001b[0m \u001b[0minstance_array\u001b[0m\u001b[0;34m]\u001b[0m\u001b[0;34m\u001b[0m\u001b[0;34m\u001b[0m\u001b[0m\n",
      "\u001b[0;32m~/Dicom-To-CNN/library_dicom/dicom_processor/model/reader/Instance.py\u001b[0m in \u001b[0;36m__init__\u001b[0;34m(self, path, load_image)\u001b[0m\n\u001b[1;32m     17\u001b[0m         \"\"\"\n\u001b[1;32m     18\u001b[0m         \u001b[0mself\u001b[0m\u001b[0;34m.\u001b[0m\u001b[0mpath\u001b[0m \u001b[0;34m=\u001b[0m \u001b[0mpath\u001b[0m\u001b[0;34m\u001b[0m\u001b[0;34m\u001b[0m\u001b[0m\n\u001b[0;32m---> 19\u001b[0;31m         \u001b[0;32mif\u001b[0m \u001b[0;34m(\u001b[0m\u001b[0mload_image\u001b[0m\u001b[0;34m)\u001b[0m \u001b[0;34m:\u001b[0m \u001b[0mself\u001b[0m\u001b[0;34m.\u001b[0m\u001b[0m__load_full_instance\u001b[0m\u001b[0;34m(\u001b[0m\u001b[0;34m)\u001b[0m\u001b[0;34m\u001b[0m\u001b[0;34m\u001b[0m\u001b[0m\n\u001b[0m\u001b[1;32m     20\u001b[0m         \u001b[0;32melse\u001b[0m \u001b[0;34m:\u001b[0m \u001b[0mself\u001b[0m\u001b[0;34m.\u001b[0m\u001b[0m__load_metadata\u001b[0m\u001b[0;34m(\u001b[0m\u001b[0;34m)\u001b[0m\u001b[0;34m\u001b[0m\u001b[0;34m\u001b[0m\u001b[0m\n\u001b[1;32m     21\u001b[0m \u001b[0;34m\u001b[0m\u001b[0m\n",
      "\u001b[0;32m~/Dicom-To-CNN/library_dicom/dicom_processor/model/reader/Instance.py\u001b[0m in \u001b[0;36m__load_full_instance\u001b[0;34m(self)\u001b[0m\n\u001b[1;32m     24\u001b[0m \u001b[0;34m\u001b[0m\u001b[0m\n\u001b[1;32m     25\u001b[0m     \u001b[0;32mdef\u001b[0m \u001b[0m__load_full_instance\u001b[0m\u001b[0;34m(\u001b[0m\u001b[0mself\u001b[0m\u001b[0;34m)\u001b[0m\u001b[0;34m:\u001b[0m\u001b[0;34m\u001b[0m\u001b[0;34m\u001b[0m\u001b[0m\n\u001b[0;32m---> 26\u001b[0;31m         \u001b[0mself\u001b[0m\u001b[0;34m.\u001b[0m\u001b[0mdicomData\u001b[0m \u001b[0;34m=\u001b[0m \u001b[0mpydicom\u001b[0m\u001b[0;34m.\u001b[0m\u001b[0mdcmread\u001b[0m\u001b[0;34m(\u001b[0m\u001b[0mself\u001b[0m\u001b[0;34m.\u001b[0m\u001b[0mpath\u001b[0m\u001b[0;34m)\u001b[0m\u001b[0;34m\u001b[0m\u001b[0;34m\u001b[0m\u001b[0m\n\u001b[0m\u001b[1;32m     27\u001b[0m \u001b[0;34m\u001b[0m\u001b[0m\n\u001b[1;32m     28\u001b[0m     \u001b[0;32mdef\u001b[0m \u001b[0mget_series_tags\u001b[0m\u001b[0;34m(\u001b[0m\u001b[0mself\u001b[0m\u001b[0;34m)\u001b[0m\u001b[0;34m:\u001b[0m\u001b[0;34m\u001b[0m\u001b[0;34m\u001b[0m\u001b[0m\n",
      "\u001b[0;32m~/.local/lib/python3.8/site-packages/pydicom/filereader.py\u001b[0m in \u001b[0;36mdcmread\u001b[0;34m(fp, defer_size, stop_before_pixels, force, specific_tags)\u001b[0m\n\u001b[1;32m    868\u001b[0m         \u001b[0mstop_when\u001b[0m \u001b[0;34m=\u001b[0m \u001b[0m_at_pixel_data\u001b[0m\u001b[0;34m\u001b[0m\u001b[0;34m\u001b[0m\u001b[0m\n\u001b[1;32m    869\u001b[0m     \u001b[0;32mtry\u001b[0m\u001b[0;34m:\u001b[0m\u001b[0;34m\u001b[0m\u001b[0;34m\u001b[0m\u001b[0m\n\u001b[0;32m--> 870\u001b[0;31m         dataset = read_partial(fp, stop_when, defer_size=defer_size,\n\u001b[0m\u001b[1;32m    871\u001b[0m                                force=force, specific_tags=specific_tags)\n\u001b[1;32m    872\u001b[0m     \u001b[0;32mfinally\u001b[0m\u001b[0;34m:\u001b[0m\u001b[0;34m\u001b[0m\u001b[0;34m\u001b[0m\u001b[0m\n",
      "\u001b[0;32m~/.local/lib/python3.8/site-packages/pydicom/filereader.py\u001b[0m in \u001b[0;36mread_partial\u001b[0;34m(fileobj, stop_when, defer_size, force, specific_tags)\u001b[0m\n\u001b[1;32m    756\u001b[0m     \u001b[0;32melse\u001b[0m\u001b[0;34m:\u001b[0m\u001b[0;34m\u001b[0m\u001b[0;34m\u001b[0m\u001b[0m\n\u001b[1;32m    757\u001b[0m         \u001b[0mdataset_class\u001b[0m \u001b[0;34m=\u001b[0m \u001b[0mFileDataset\u001b[0m\u001b[0;34m\u001b[0m\u001b[0;34m\u001b[0m\u001b[0m\n\u001b[0;32m--> 758\u001b[0;31m     new_dataset = dataset_class(fileobj, dataset, preamble, file_meta_dataset,\n\u001b[0m\u001b[1;32m    759\u001b[0m                                 is_implicit_VR, is_little_endian)\n\u001b[1;32m    760\u001b[0m     \u001b[0;31m# save the originally read transfer syntax properties in the dataset\u001b[0m\u001b[0;34m\u001b[0m\u001b[0;34m\u001b[0m\u001b[0;34m\u001b[0m\u001b[0m\n",
      "\u001b[0;32m~/.local/lib/python3.8/site-packages/pydicom/dataset.py\u001b[0m in \u001b[0;36m__init__\u001b[0;34m(self, filename_or_obj, dataset, preamble, file_meta, is_implicit_VR, is_little_endian)\u001b[0m\n\u001b[1;32m   2267\u001b[0m             \u001b[0mself\u001b[0m\u001b[0;34m.\u001b[0m\u001b[0mfilename\u001b[0m \u001b[0;34m=\u001b[0m \u001b[0mfilename\u001b[0m\u001b[0;34m\u001b[0m\u001b[0;34m\u001b[0m\u001b[0m\n\u001b[1;32m   2268\u001b[0m             \u001b[0;32mif\u001b[0m \u001b[0mos\u001b[0m\u001b[0;34m.\u001b[0m\u001b[0mpath\u001b[0m\u001b[0;34m.\u001b[0m\u001b[0mexists\u001b[0m\u001b[0;34m(\u001b[0m\u001b[0mfilename\u001b[0m\u001b[0;34m)\u001b[0m\u001b[0;34m:\u001b[0m\u001b[0;34m\u001b[0m\u001b[0;34m\u001b[0m\u001b[0m\n\u001b[0;32m-> 2269\u001b[0;31m                 \u001b[0mstatinfo\u001b[0m \u001b[0;34m=\u001b[0m \u001b[0mos\u001b[0m\u001b[0;34m.\u001b[0m\u001b[0mstat\u001b[0m\u001b[0;34m(\u001b[0m\u001b[0mfilename\u001b[0m\u001b[0;34m)\u001b[0m\u001b[0;34m\u001b[0m\u001b[0;34m\u001b[0m\u001b[0m\n\u001b[0m\u001b[1;32m   2270\u001b[0m                 \u001b[0mself\u001b[0m\u001b[0;34m.\u001b[0m\u001b[0mtimestamp\u001b[0m \u001b[0;34m=\u001b[0m \u001b[0mstatinfo\u001b[0m\u001b[0;34m.\u001b[0m\u001b[0mst_mtime\u001b[0m\u001b[0;34m\u001b[0m\u001b[0;34m\u001b[0m\u001b[0m\n\u001b[1;32m   2271\u001b[0m \u001b[0;34m\u001b[0m\u001b[0m\n",
      "\u001b[0;31mKeyboardInterrupt\u001b[0m: "
     ]
    }
   ],
   "source": [
    "#CHECKER LES UNCONSTANT SPACING\n",
    "unconstant_spacing = []\n",
    "serie_error = []\n",
    "for serie in dataset : \n",
    "    print(dataset.index(serie))\n",
    "    try : \n",
    "        if serie[1] =='PT' : \n",
    "            serie_pt_objet = SeriesPT(serie[0])\n",
    "            nifti_array = serie_pt_objet.get_numpy_array()\n",
    "            if serie_pt_objet.get_z_spacing =='Unconstant Spacing' :\n",
    "                print(\"Unconstant Spacing PET\")\n",
    "                unconstant_spacing.append(serie)\n",
    "            \n",
    "            serie_ct_objet = SeriesCT(serie[2])\n",
    "            nifti_array_ct = serie_ct_objet.get_numpy_array()\n",
    "            if serie_ct_objet.get_z_spacing =='Unconstant Spacing' :\n",
    "                print(\"Unconstant Spacing PT\")\n",
    "                unconstant_spacing.append(serie)\n",
    "\n",
    "        else : \n",
    "            serie_pt_objet = SeriesPT(serie[2])\n",
    "            nifti_array = serie_pt_objet.get_numpy_array()\n",
    "            if serie_pt_objet.get_z_spacing =='Unconstant Spacing' :\n",
    "                print(\"Unconstant Spacing PT\")\n",
    "                unconstant_spacing.append(serie)\n",
    "            serie_ct_objet = SeriesCT(serie[0])\n",
    "            nifti_array_ct = serie_ct_objet.get_numpy_array()\n",
    "            if serie_ct_objet.get_z_spacing =='Unconstant Spacing' :\n",
    "                print(\"Unconstant Spacing CT\")\n",
    "                unconstant_spacing.append(serie)\n",
    "\n",
    "    except Exception as err : \n",
    "        print(serie)\n",
    "        print(err)\n",
    "        serie_error.append(serie)\n"
   ]
  },
  {
   "cell_type": "code",
   "execution_count": null,
   "metadata": {},
   "outputs": [],
   "source": []
  },
  {
   "cell_type": "code",
   "execution_count": 7,
   "metadata": {
    "tags": [
     "outputPrepend"
    ]
   },
   "outputs": [
    {
     "output_type": "stream",
     "name": "stdout",
     "text": "224\nno Radiopharmaceuticals tags\nError generating result array time data 'UndefinedUndefined' does not match format '%Y%m%d%H%M%S'\nno Radiopharmaceuticals tags\nno Radiopharmaceuticals tags\nError generating result array time data 'UndefinedUndefined' does not match format '%Y%m%d%H%M%S'\n['/media/deeplearning/Elements/GAINED_Validated_DICOMS/11011101221020/2.16.840.1.113669.632.20.210791.20000166028/1.3.46.670589.28.2.12.21.6107.877.2.3972.0.1398417985/1.3.46.670589.28.2.12.21.6107.877.2.3972.0.1398417985', 'CT', '/media/deeplearning/Elements/GAINED_Validated_DICOMS/11011101221020/2.16.840.1.113669.632.20.210791.20000166028/1.2.840.113704.1.111.8428.1398416378.8/1.2.840.113704.1.111.8428.1398416378.8', 'PT', '2.16.840.1.113669.632.20.210791.20000166028', '11011101221020']\naxes don't match array\n225\nEXPORT NIFTI PT\nEXPORT NIFTI CT\n226\nno Radiopharmaceuticals tags\nError generating result array time data 'UndefinedUndefined' does not match format '%Y%m%d%H%M%S'\nno Radiopharmaceuticals tags\nno Radiopharmaceuticals tags\nError generating result array time data 'UndefinedUndefined' does not match format '%Y%m%d%H%M%S'\n['/media/deeplearning/Elements/GAINED_Validated_DICOMS/11011101221022/2.16.840.1.113669.632.20.210791.20000204556/1.2.840.113704.1.111.2352.1405421545.8/1.2.840.113704.1.111.2352.1405421545.8', 'PT', '/media/deeplearning/Elements/GAINED_Validated_DICOMS/11011101221022/2.16.840.1.113669.632.20.210791.20000204556/1.3.46.670589.28.2.12.21.6106.64577.2.4008.0.1405423256/1.3.46.670589.28.2.12.21.6106.64577.2.4008.0.1405423256', 'CT', '2.16.840.1.113669.632.20.210791.20000204556', '11011101221022']\naxes don't match array\n227\nEXPORT NIFTI PT\nEXPORT NIFTI CT\n228\nEXPORT NIFTI PT\nEXPORT NIFTI CT\n229\nno Radiopharmaceuticals tags\nError generating result array time data 'UndefinedUndefined' does not match format '%Y%m%d%H%M%S'\nno Radiopharmaceuticals tags\nno Radiopharmaceuticals tags\nError generating result array time data 'UndefinedUndefined' does not match format '%Y%m%d%H%M%S'\n['/media/deeplearning/Elements/GAINED_Validated_DICOMS/11011101221027/2.16.840.1.113669.632.20.210791.20000293853/1.3.46.670589.28.2.12.21.6106.64577.2.2996.0.1426679872/1.3.46.670589.28.2.12.21.6106.64577.2.2996.0.1426679872', 'CT', '/media/deeplearning/Elements/GAINED_Validated_DICOMS/11011101221027/2.16.840.1.113669.632.20.210791.20000293853/1.2.840.113704.1.111.7188.1426678349.8/1.2.840.113704.1.111.7188.1426678349.8', 'PT', '2.16.840.1.113669.632.20.210791.20000293853', '11011101221027']\naxes don't match array\n230\nno Radiopharmaceuticals tags\nError generating result array time data 'UndefinedUndefined' does not match format '%Y%m%d%H%M%S'\nno Radiopharmaceuticals tags\nno Radiopharmaceuticals tags\nError generating result array time data 'UndefinedUndefined' does not match format '%Y%m%d%H%M%S'\n['/media/deeplearning/Elements/GAINED_Validated_DICOMS/11011101221028/2.16.840.1.113669.632.20.210791.20000295941/1.2.840.113704.1.111.5156.1428065112.8/1.2.840.113704.1.111.5156.1428065112.8', 'PT', '/media/deeplearning/Elements/GAINED_Validated_DICOMS/11011101221028/2.16.840.1.113669.632.20.210791.20000295941/1.3.46.670589.28.2.12.21.6107.877.2.2432.0.1428067408/1.3.46.670589.28.2.12.21.6107.877.2.2432.0.1428067408', 'CT', '2.16.840.1.113669.632.20.210791.20000295941', '11011101221028']\naxes don't match array\n231\nno Radiopharmaceuticals tags\nError generating result array time data '20130919Undefined' does not match format '%Y%m%d%H%M%S'\nno Radiopharmaceuticals tags\nno Radiopharmaceuticals tags\nError generating result array time data '20130919Undefined' does not match format '%Y%m%d%H%M%S'\n['/media/deeplearning/Elements/GAINED_Validated_DICOMS/11011101231001/1.2.928.1024114245/1.3.12.2.1107.5.1.4.1003.30000013091908301212500004715/1.3.12.2.1107.5.1.4.1003.30000013091908301212500004715', 'CT', '/media/deeplearning/Elements/GAINED_Validated_DICOMS/11011101231001/1.2.928.1024114245/1.3.12.2.1107.5.1.4.1003.30000013091908295485900004327/1.3.12.2.1107.5.1.4.1003.30000013091908295485900004327', 'PT', '1.2.928.1024114245', '11011101231001']\naxes don't match array\n232\nno Radiopharmaceuticals tags\nError generating result array time data '20140505Undefined' does not match format '%Y%m%d%H%M%S'\nno Radiopharmaceuticals tags\nno Radiopharmaceuticals tags\nError generating result array time data '20140505Undefined' does not match format '%Y%m%d%H%M%S'\n['/media/deeplearning/Elements/GAINED_Validated_DICOMS/11011101231002/1.2.928.1024119464/1.3.12.2.1107.5.1.4.1003.30000014050508254268700007911/1.3.12.2.1107.5.1.4.1003.30000014050508254268700007911', 'PT', '/media/deeplearning/Elements/GAINED_Validated_DICOMS/11011101231002/1.2.928.1024119464/1.3.12.2.1107.5.1.4.1003.30000014050508255989000010403/1.3.12.2.1107.5.1.4.1003.30000014050508255989000010403', 'CT', '1.2.928.1024119464', '11011101231002']\naxes don't match array\n233\nEXPORT NIFTI PT\nEXPORT NIFTI CT\n234\nno Radiopharmaceuticals tags\nError generating result array time data '20141107Undefined' does not match format '%Y%m%d%H%M%S'\nno Radiopharmaceuticals tags\nno Radiopharmaceuticals tags\nError generating result array time data '20141107Undefined' does not match format '%Y%m%d%H%M%S'\n['/media/deeplearning/Elements/GAINED_Validated_DICOMS/11011101231006/1.2.928.1024123444/1.3.12.2.1107.5.1.4.1003.30000014110708154928100003977/1.3.12.2.1107.5.1.4.1003.30000014110708154928100003977', 'CT', '/media/deeplearning/Elements/GAINED_Validated_DICOMS/11011101231006/1.2.928.1024123444/1.3.12.2.1107.5.1.4.1003.30000014110708150468700002722/1.3.12.2.1107.5.1.4.1003.30000014110708150468700002722', 'PT', '1.2.928.1024123444', '11011101231006']\naxes don't match array\n235\nEXPORT NIFTI PT\nEXPORT NIFTI CT\n236\nEXPORT NIFTI PT\nEXPORT NIFTI CT\n237\nno Radiopharmaceuticals tags\nError generating result array time data '20131202Undefined' does not match format '%Y%m%d%H%M%S'\nno Radiopharmaceuticals tags\nno Radiopharmaceuticals tags\nError generating result array time data '20131202Undefined' does not match format '%Y%m%d%H%M%S'\n['/media/deeplearning/Elements/GAINED_Validated_DICOMS/11011101241003/2.16.840.1.113669.632.20.540001.10003746854/1.3.12.2.1107.5.1.4.44977.30000013120207123014900000097/1.3.12.2.1107.5.1.4.44977.30000013120207123014900000097', 'PT', '/media/deeplearning/Elements/GAINED_Validated_DICOMS/11011101241003/2.16.840.1.113669.632.20.540001.10003746854/1.3.12.2.1107.5.1.4.44977.30000013120207235659700000128/1.3.12.2.1107.5.1.4.44977.30000013120207235659700000128', 'CT', '2.16.840.1.113669.632.20.540001.10003746854', '11011101241003']\naxes don't match array\n238\nno Radiopharmaceuticals tags\nError generating result array time data '20140103Undefined' does not match format '%Y%m%d%H%M%S'\nno Radiopharmaceuticals tags\nno Radiopharmaceuticals tags\nError generating result array time data '20140103Undefined' does not match format '%Y%m%d%H%M%S'\n['/media/deeplearning/Elements/GAINED_Validated_DICOMS/11011101241004/2.16.840.1.113669.632.20.540001.10003777923/1.3.12.2.1107.5.1.4.44977.30000014010307012222000000128/1.3.12.2.1107.5.1.4.44977.30000014010307012222000000128', 'CT', '/media/deeplearning/Elements/GAINED_Validated_DICOMS/11011101241004/2.16.840.1.113669.632.20.540001.10003777923/1.3.12.2.1107.5.1.4.44977.30000014010306525606400000191/1.3.12.2.1107.5.1.4.44977.30000014010306525606400000191', 'PT', '2.16.840.1.113669.632.20.540001.10003777923', '11011101241004']\naxes don't match array\n239\nEXPORT NIFTI PT\nEXPORT NIFTI CT\n240\nno Radiopharmaceuticals tags\nError generating result array time data '20140918Undefined' does not match format '%Y%m%d%H%M%S'\nno Radiopharmaceuticals tags\nno Radiopharmaceuticals tags\nError generating result array time data '20140918Undefined' does not match format '%Y%m%d%H%M%S'\n['/media/deeplearning/Elements/GAINED_Validated_DICOMS/11011101241007/2.16.840.1.113669.632.20.540001.10004051270/1.3.12.2.1107.5.1.4.44977.30000014091806304693700001832/1.3.12.2.1107.5.1.4.44977.30000014091806304693700001832', 'PT', '/media/deeplearning/Elements/GAINED_Validated_DICOMS/11011101241007/2.16.840.1.113669.632.20.540001.10004051270/1.3.12.2.1107.5.1.4.44977.30000014091807261255300001253/1.3.12.2.1107.5.1.4.44977.30000014091807261255300001253', 'CT', '2.16.840.1.113669.632.20.540001.10004051270', '11011101241007']\naxes don't match array\n241\nEXPORT NIFTI PT\nEXPORT NIFTI CT\n242\nno Radiopharmaceuticals tags\nError generating result array time data '20141204Undefined' does not match format '%Y%m%d%H%M%S'\nno Radiopharmaceuticals tags\nno Radiopharmaceuticals tags\nError generating result array time data '20141204Undefined' does not match format '%Y%m%d%H%M%S'\n['/media/deeplearning/Elements/GAINED_Validated_DICOMS/11011101241009/2.16.840.1.113669.632.20.540001.10004110411/1.3.12.2.1107.5.1.4.44977.30000014120406562212000001367/1.3.12.2.1107.5.1.4.44977.30000014120406562212000001367', 'CT', '/media/deeplearning/Elements/GAINED_Validated_DICOMS/11011101241009/2.16.840.1.113669.632.20.540001.10004110411/1.3.12.2.1107.5.1.4.44977.30000014120406495428900000763/1.3.12.2.1107.5.1.4.44977.30000014120406495428900000763', 'PT', '2.16.840.1.113669.632.20.540001.10004110411', '11011101241009']\naxes don't match array\n243\nEXPORT NIFTI PT\nEXPORT NIFTI CT\n244\nEXPORT NIFTI PT\nEXPORT NIFTI CT\n245\nno Radiopharmaceuticals tags\nError generating result array time data '20150518Undefined' does not match format '%Y%m%d%H%M%S'\nno Radiopharmaceuticals tags\nno Radiopharmaceuticals tags\nError generating result array time data '20150518Undefined' does not match format '%Y%m%d%H%M%S'\n['/media/deeplearning/Elements/GAINED_Validated_DICOMS/11011101241012/2.16.840.1.113669.632.20.540351.10004310962/1.3.12.2.1107.5.1.4.44977.30000015051805562197700003235/1.3.12.2.1107.5.1.4.44977.30000015051805562197700003235', 'PT', '/media/deeplearning/Elements/GAINED_Validated_DICOMS/11011101241012/2.16.840.1.113669.632.20.540351.10004310962/1.3.12.2.1107.5.1.4.44977.30000015051806033166500003679/1.3.12.2.1107.5.1.4.44977.30000015051806033166500003679', 'CT', '2.16.840.1.113669.632.20.540351.10004310962', '11011101241012']\naxes don't match array\n246\nEXPORT NIFTI PT\nEXPORT NIFTI CT\n247\nEXPORT NIFTI PT\nEXPORT NIFTI CT\n248\nno Radiopharmaceuticals tags\nError generating result array time data '20131002Undefined' does not match format '%Y%m%d%H%M%S'\nno Radiopharmaceuticals tags\nno Radiopharmaceuticals tags\nError generating result array time data '20131002Undefined' does not match format '%Y%m%d%H%M%S'\n['/media/deeplearning/Elements/GAINED_Validated_DICOMS/11011101251003/1.2.840.113711.93413733.10132.402397990.26.2116281012.10/1.3.12.2.1107.5.1.4.11061.30000013100208063103100018259/1.3.12.2.1107.5.1.4.11061.30000013100208063103100018259', 'CT', '/media/deeplearning/Elements/GAINED_Validated_DICOMS/11011101251003/1.2.840.113711.93413733.10132.402397990.26.2116281012.10/1.3.12.2.1107.5.1.4.11061.30000013100208044925000012540/1.3.12.2.1107.5.1.4.11061.30000013100208044925000012540', 'PT', '1.2.840.113711.93413733.10132.402397990.26.2116281012.10', '11011101251003']\naxes don't match array\n249\nEXPORT NIFTI PT\nEXPORT NIFTI CT\n250\nEXPORT NIFTI PT\nEXPORT NIFTI CT\n251\nEXPORT NIFTI PT\nEXPORT NIFTI CT\n252\nno Radiopharmaceuticals tags\nError generating result array time data '20140407Undefined' does not match format '%Y%m%d%H%M%S'\nno Radiopharmaceuticals tags\nno Radiopharmaceuticals tags\nError generating result array time data '20140407Undefined' does not match format '%Y%m%d%H%M%S'\n['/media/deeplearning/Elements/GAINED_Validated_DICOMS/11011101251007/1.2.840.113711.93413733.29412.418554825.26.2116281012.10/1.3.12.2.1107.5.1.4.11061.30000014040708035881200012441/1.3.12.2.1107.5.1.4.11061.30000014040708035881200012441', 'PT', '/media/deeplearning/Elements/GAINED_Validated_DICOMS/11011101251007/1.2.840.113711.93413733.29412.418554825.26.2116281012.10/1.3.12.2.1107.5.1.4.11061.30000014040708063887500017639/1.3.12.2.1107.5.1.4.11061.30000014040708063887500017639', 'CT', '1.2.840.113711.93413733.29412.418554825.26.2116281012.10', '11011101251007']\naxes don't match array\n253\nno Radiopharmaceuticals tags\nError generating result array time data '20140923Undefined' does not match format '%Y%m%d%H%M%S'\nno Radiopharmaceuticals tags\nno Radiopharmaceuticals tags\nError generating result array time data '20140923Undefined' does not match format '%Y%m%d%H%M%S'\n['/media/deeplearning/Elements/GAINED_Validated_DICOMS/11011101251009/1.2.840.113711.3413733.509796.427789977.26.2116281012.10/1.3.12.2.1107.5.1.4.11061.30000014092308084210900023119/1.3.12.2.1107.5.1.4.11061.30000014092308084210900023119', 'CT', '/media/deeplearning/Elements/GAINED_Validated_DICOMS/11011101251009/1.2.840.113711.3413733.509796.427789977.26.2116281012.10/1.3.12.2.1107.5.1.4.11061.30000014092308062296800015904/1.3.12.2.1107.5.1.4.11061.30000014092308062296800015904', 'PT', '1.2.840.113711.3413733.509796.427789977.26.2116281012.10', '11011101251009']\naxes don't match array\n254\nno Radiopharmaceuticals tags\nError generating result array time data '20141215Undefined' does not match format '%Y%m%d%H%M%S'\nno Radiopharmaceuticals tags\nno Radiopharmaceuticals tags\nError generating result array time data '20141215Undefined' does not match format '%Y%m%d%H%M%S'\n['/media/deeplearning/Elements/GAINED_Validated_DICOMS/11011101251011/1.2.840.113711.3413733.183028.435493366.26.2116281012.10/1.3.12.2.1107.5.1.4.11061.30000014121508124014000011420/1.3.12.2.1107.5.1.4.11061.30000014121508124014000011420', 'PT', '/media/deeplearning/Elements/GAINED_Validated_DICOMS/11011101251011/1.2.840.113711.3413733.183028.435493366.26.2116281012.10/1.3.12.2.1107.5.1.4.11061.30000014121508143204600016771/1.3.12.2.1107.5.1.4.11061.30000014121508143204600016771', 'CT', '1.2.840.113711.3413733.183028.435493366.26.2116281012.10', '11011101251011']\naxes don't match array\n255\nEXPORT NIFTI PT\nEXPORT NIFTI CT\n256\nno Radiopharmaceuticals tags\nError generating result array time data '20150715Undefined' does not match format '%Y%m%d%H%M%S'\nno Radiopharmaceuticals tags\nno Radiopharmaceuticals tags\nError generating result array time data '20150715Undefined' does not match format '%Y%m%d%H%M%S'\n['/media/deeplearning/Elements/GAINED_Validated_DICOMS/11011101251013/1.2.840.113711.3413733.394128.456229760.26.2116281012.10/1.3.12.2.1107.5.1.4.11061.30000015071508124729600004199/1.3.12.2.1107.5.1.4.11061.30000015071508124729600004199', 'CT', '/media/deeplearning/Elements/GAINED_Validated_DICOMS/11011101251013/1.2.840.113711.3413733.394128.456229760.26.2116281012.10/1.3.12.2.1107.5.1.4.11061.30000015071508110512500002566/1.3.12.2.1107.5.1.4.11061.30000015071508110512500002566', 'PT', '1.2.840.113711.3413733.394128.456229760.26.2116281012.10', '11011101251013']\naxes don't match array\n257\nEXPORT NIFTI PT\nEXPORT NIFTI CT\n258\nno Radiopharmaceuticals tags\nError generating result array time data '20150824Undefined' does not match format '%Y%m%d%H%M%S'\nno Radiopharmaceuticals tags\nno Radiopharmaceuticals tags\nError generating result array time data '20150824Undefined' does not match format '%Y%m%d%H%M%S'\n['/media/deeplearning/Elements/GAINED_Validated_DICOMS/11011101281002/1.2.840.113619.2.290.3.1569943720.410.1440088496.168/1.2.840.113619.2.290.3.1569943720.410.1440088496.173/1.2.840.113619.2.290.3.1569943720.410.1440088496.173', 'PT', '/media/deeplearning/Elements/GAINED_Validated_DICOMS/11011101281002/1.2.840.113619.2.290.3.1569943720.410.1440088496.168/1.2.840.113619.2.290.3.1569943720.410.1440088496.473/1.2.840.113619.2.290.3.1569943720.410.1440088496.473', 'CT', '1.2.840.113619.2.290.3.1569943720.410.1440088496.168', '11011101281002']\naxes don't match array\n259\nno Radiopharmaceuticals tags\nError generating result array time data '20150921Undefined' does not match format '%Y%m%d%H%M%S'\nno Radiopharmaceuticals tags\nno Radiopharmaceuticals tags\nError generating result array time data '20150921Undefined' does not match format '%Y%m%d%H%M%S'\n['/media/deeplearning/Elements/GAINED_Validated_DICOMS/11011101281003/1.2.840.113619.2.290.3.1569943720.575.1442595095.815/1.2.840.113619.2.290.3.1569943720.575.1442595096.122/1.2.840.113619.2.290.3.1569943720.575.1442595096.122', 'CT', '/media/deeplearning/Elements/GAINED_Validated_DICOMS/11011101281003/1.2.840.113619.2.290.3.1569943720.575.1442595095.815/1.2.840.113619.2.290.3.1569943720.575.1442595095.820.4/1.2.840.113619.2.290.3.1569943720.575.1442595095.820.4', 'PT', '1.2.840.113619.2.290.3.1569943720.575.1442595095.815', '11011101281003']\naxes don't match array\n260\nno Radiopharmaceuticals tags\nError generating result array time data '20150916Undefined' does not match format '%Y%m%d%H%M%S'\nno Radiopharmaceuticals tags\nno Radiopharmaceuticals tags\nError generating result array time data '20150916Undefined' does not match format '%Y%m%d%H%M%S'\n['/media/deeplearning/Elements/GAINED_Validated_DICOMS/11011101281004/1.2.840.113619.2.290.3.1569943720.361.1442336127.256/1.2.840.113619.2.290.3.1569943720.361.1442336127.261/1.2.840.113619.2.290.3.1569943720.361.1442336127.261', 'PT', '/media/deeplearning/Elements/GAINED_Validated_DICOMS/11011101281004/1.2.840.113619.2.290.3.1569943720.361.1442336127.256/1.2.840.113619.2.290.3.1569943720.361.1442336127.561/1.2.840.113619.2.290.3.1569943720.361.1442336127.561', 'CT', '1.2.840.113619.2.290.3.1569943720.361.1442336127.256', '11011101281004']\naxes don't match array\n261\nEXPORT NIFTI PT\nEXPORT NIFTI CT\n262\nno Radiopharmaceuticals tags\nError generating result array time data '20131115Undefined' does not match format '%Y%m%d%H%M%S'\nno Radiopharmaceuticals tags\nno Radiopharmaceuticals tags\nError generating result array time data '20131115Undefined' does not match format '%Y%m%d%H%M%S'\n['/media/deeplearning/Elements/GAINED_Validated_DICOMS/11011101331004/1.3.12.2.1107.5.1.4.1003.30000013111507521357800000039/1.3.12.2.1107.5.1.4.1003.30000013111507554612500014415/1.3.12.2.1107.5.1.4.1003.30000013111507554612500014415', 'CT', '/media/deeplearning/Elements/GAINED_Validated_DICOMS/11011101331004/1.3.12.2.1107.5.1.4.1003.30000013111507521357800000039/1.3.12.2.1107.5.1.4.1003.30000013111507552664000012363/1.3.12.2.1107.5.1.4.1003.30000013111507552664000012363', 'PT', '1.3.12.2.1107.5.1.4.1003.30000013111507521357800000039', '11011101331004']\naxes don't match array\n263\nno Radiopharmaceuticals tags\nError generating result array time data 'UndefinedUndefined' does not match format '%Y%m%d%H%M%S'\nno Radiopharmaceuticals tags\nno Radiopharmaceuticals tags\nError generating result array time data 'UndefinedUndefined' does not match format '%Y%m%d%H%M%S'\n['/media/deeplearning/Elements/GAINED_Validated_DICOMS/11011101331006/1.2.124.113532.10.149.172.6.20141210.73749.8752036/1.2.840.113704.1.111.6196.1418199058.11/1.2.840.113704.1.111.6196.1418199058.11', 'PT', '/media/deeplearning/Elements/GAINED_Validated_DICOMS/11011101331006/1.2.124.113532.10.149.172.6.20141210.73749.8752036/1.3.46.670589.28.2.10.4.9187.7741.2.692.0.1418201253/1.3.46.670589.28.2.10.4.9187.7741.2.692.0.1418201253', 'CT', '1.2.124.113532.10.149.172.6.20141210.73749.8752036', '11011101331006']\naxes don't match array\n264\nEXPORT NIFTI PT\nEXPORT NIFTI CT\n265\nno Radiopharmaceuticals tags\nError generating result array time data '20150310Undefined' does not match format '%Y%m%d%H%M%S'\nno Radiopharmaceuticals tags\nno Radiopharmaceuticals tags\nError generating result array time data '20150310Undefined' does not match format '%Y%m%d%H%M%S'\n['/media/deeplearning/Elements/GAINED_Validated_DICOMS/11011101331008/1.2.840.113619.2.290.3.2500492204.701.1425967997.834/1.2.840.113619.2.290.3.2500492204.701.1425967998.176/1.2.840.113619.2.290.3.2500492204.701.1425967998.176', 'CT', '/media/deeplearning/Elements/GAINED_Validated_DICOMS/11011101331008/1.2.840.113619.2.290.3.2500492204.701.1425967997.834/1.2.840.113619.2.290.3.2500492204.701.1425967997.839.3/1.2.840.113619.2.290.3.2500492204.701.1425967997.839.3', 'PT', '1.2.840.113619.2.290.3.2500492204.701.1425967997.834', '11011101331008']\naxes don't match array\n266\nEXPORT NIFTI PT\nEXPORT NIFTI CT\n267\nEXPORT NIFTI PT\nEXPORT NIFTI CT\n268\nEXPORT NIFTI PT\n"
    },
    {
     "output_type": "error",
     "ename": "KeyboardInterrupt",
     "evalue": "",
     "traceback": [
      "\u001b[0;31m---------------------------------------------------------------------------\u001b[0m",
      "\u001b[0;31mKeyboardInterrupt\u001b[0m                         Traceback (most recent call last)",
      "\u001b[0;32m<ipython-input-7-b5f8deca8491>\u001b[0m in \u001b[0;36m<module>\u001b[0;34m\u001b[0m\n\u001b[1;32m     20\u001b[0m             \u001b[0mserie_ct_objet\u001b[0m\u001b[0;34m.\u001b[0m\u001b[0mget_numpy_array\u001b[0m\u001b[0;34m(\u001b[0m\u001b[0;34m)\u001b[0m\u001b[0;34m\u001b[0m\u001b[0;34m\u001b[0m\u001b[0m\n\u001b[1;32m     21\u001b[0m             \u001b[0mfilename_ct\u001b[0m \u001b[0;34m=\u001b[0m \u001b[0mstudy_uid\u001b[0m\u001b[0;34m+\u001b[0m\u001b[0;34m'_'\u001b[0m\u001b[0;34m+\u001b[0m\u001b[0;34m'nifti_'\u001b[0m\u001b[0;34m+\u001b[0m\u001b[0;34m'CT'\u001b[0m\u001b[0;34m+\u001b[0m\u001b[0;34m'.nii'\u001b[0m\u001b[0;34m\u001b[0m\u001b[0;34m\u001b[0m\u001b[0m\n\u001b[0;32m---> 22\u001b[0;31m             \u001b[0mserie_ct_objet\u001b[0m\u001b[0;34m.\u001b[0m\u001b[0mexport_nifti\u001b[0m\u001b[0;34m(\u001b[0m\u001b[0mos\u001b[0m\u001b[0;34m.\u001b[0m\u001b[0mpath\u001b[0m\u001b[0;34m.\u001b[0m\u001b[0mjoin\u001b[0m\u001b[0;34m(\u001b[0m\u001b[0mnifti_directory\u001b[0m\u001b[0;34m,\u001b[0m \u001b[0mfilename_ct\u001b[0m\u001b[0;34m)\u001b[0m\u001b[0;34m)\u001b[0m\u001b[0;34m\u001b[0m\u001b[0;34m\u001b[0m\u001b[0m\n\u001b[0m\u001b[1;32m     23\u001b[0m             \u001b[0mprint\u001b[0m\u001b[0;34m(\u001b[0m\u001b[0;34m\"EXPORT NIFTI CT\"\u001b[0m\u001b[0;34m)\u001b[0m\u001b[0;34m\u001b[0m\u001b[0;34m\u001b[0m\u001b[0m\n\u001b[1;32m     24\u001b[0m \u001b[0;34m\u001b[0m\u001b[0m\n",
      "\u001b[0;32m~/Dicom-To-CNN/library_dicom/dicom_processor/model/Series.py\u001b[0m in \u001b[0;36mexport_nifti\u001b[0;34m(self, file_path, mask)\u001b[0m\n\u001b[1;32m    152\u001b[0m         \u001b[0;32mif\u001b[0m \u001b[0;34m(\u001b[0m\u001b[0mmask\u001b[0m \u001b[0;32mis\u001b[0m \u001b[0;32mNone\u001b[0m\u001b[0;34m)\u001b[0m \u001b[0;34m:\u001b[0m\u001b[0;34m\u001b[0m\u001b[0;34m\u001b[0m\u001b[0m\n\u001b[1;32m    153\u001b[0m             \u001b[0mnifti_builder\u001b[0m \u001b[0;34m=\u001b[0m \u001b[0mNiftiBuilder\u001b[0m\u001b[0;34m(\u001b[0m\u001b[0mself\u001b[0m\u001b[0;34m)\u001b[0m\u001b[0;34m\u001b[0m\u001b[0;34m\u001b[0m\u001b[0m\n\u001b[0;32m--> 154\u001b[0;31m             \u001b[0mnifti_builder\u001b[0m\u001b[0;34m.\u001b[0m\u001b[0msave_nifti\u001b[0m\u001b[0;34m(\u001b[0m\u001b[0mfile_path\u001b[0m\u001b[0;34m)\u001b[0m\u001b[0;34m\u001b[0m\u001b[0;34m\u001b[0m\u001b[0m\n\u001b[0m\u001b[1;32m    155\u001b[0m         \u001b[0;32melse\u001b[0m \u001b[0;34m:\u001b[0m\u001b[0;34m\u001b[0m\u001b[0;34m\u001b[0m\u001b[0m\n\u001b[1;32m    156\u001b[0m             \u001b[0mnifti_builder\u001b[0m \u001b[0;34m=\u001b[0m \u001b[0mNiftiBuilder\u001b[0m\u001b[0;34m(\u001b[0m\u001b[0mself\u001b[0m\u001b[0;34m)\u001b[0m\u001b[0;34m\u001b[0m\u001b[0;34m\u001b[0m\u001b[0m\n",
      "\u001b[0;32m~/Dicom-To-CNN/library_dicom/dicom_processor/model/NiftiBuilder.py\u001b[0m in \u001b[0;36msave_nifti\u001b[0;34m(self, filename, mask)\u001b[0m\n\u001b[1;32m     13\u001b[0m     \u001b[0;32mdef\u001b[0m \u001b[0msave_nifti\u001b[0m\u001b[0;34m(\u001b[0m\u001b[0mself\u001b[0m\u001b[0;34m,\u001b[0m \u001b[0mfilename\u001b[0m\u001b[0;34m,\u001b[0m \u001b[0mmask\u001b[0m \u001b[0;34m=\u001b[0m \u001b[0;32mNone\u001b[0m\u001b[0;34m)\u001b[0m\u001b[0;34m:\u001b[0m\u001b[0;34m\u001b[0m\u001b[0;34m\u001b[0m\u001b[0m\n\u001b[1;32m     14\u001b[0m         \u001b[0;32mif\u001b[0m\u001b[0;34m(\u001b[0m \u001b[0mmask\u001b[0m \u001b[0;32mis\u001b[0m \u001b[0;32mNone\u001b[0m\u001b[0;34m)\u001b[0m \u001b[0;34m:\u001b[0m\u001b[0;34m\u001b[0m\u001b[0;34m\u001b[0m\u001b[0m\n\u001b[0;32m---> 15\u001b[0;31m             \u001b[0msitk_img\u001b[0m \u001b[0;34m=\u001b[0m \u001b[0msitk\u001b[0m\u001b[0;34m.\u001b[0m\u001b[0mGetImageFromArray\u001b[0m\u001b[0;34m(\u001b[0m \u001b[0mnp\u001b[0m\u001b[0;34m.\u001b[0m\u001b[0mtranspose\u001b[0m\u001b[0;34m(\u001b[0m\u001b[0mself\u001b[0m\u001b[0;34m.\u001b[0m\u001b[0mseries\u001b[0m\u001b[0;34m.\u001b[0m\u001b[0mget_numpy_array\u001b[0m\u001b[0;34m(\u001b[0m\u001b[0;34m)\u001b[0m\u001b[0;34m,\u001b[0m \u001b[0;34m(\u001b[0m\u001b[0;36m2\u001b[0m\u001b[0;34m,\u001b[0m\u001b[0;36m0\u001b[0m\u001b[0;34m,\u001b[0m\u001b[0;36m1\u001b[0m\u001b[0;34m)\u001b[0m \u001b[0;34m)\u001b[0m\u001b[0;34m)\u001b[0m\u001b[0;34m\u001b[0m\u001b[0;34m\u001b[0m\u001b[0m\n\u001b[0m\u001b[1;32m     16\u001b[0m             \u001b[0moriginal_pixel_spacing\u001b[0m \u001b[0;34m=\u001b[0m \u001b[0mself\u001b[0m\u001b[0;34m.\u001b[0m\u001b[0mseries\u001b[0m\u001b[0;34m.\u001b[0m\u001b[0minstance_array\u001b[0m\u001b[0;34m[\u001b[0m\u001b[0;36m0\u001b[0m\u001b[0;34m]\u001b[0m\u001b[0;34m.\u001b[0m\u001b[0mget_pixel_spacing\u001b[0m\u001b[0;34m(\u001b[0m\u001b[0;34m)\u001b[0m\u001b[0;34m\u001b[0m\u001b[0;34m\u001b[0m\u001b[0m\n\u001b[1;32m     17\u001b[0m \u001b[0;34m\u001b[0m\u001b[0m\n",
      "\u001b[0;32m~/Dicom-To-CNN/library_dicom/dicom_processor/model/SeriesCT.py\u001b[0m in \u001b[0;36mget_numpy_array\u001b[0;34m(self)\u001b[0m\n\u001b[1;32m     13\u001b[0m \u001b[0;34m\u001b[0m\u001b[0m\n\u001b[1;32m     14\u001b[0m     \u001b[0;32mdef\u001b[0m \u001b[0mget_numpy_array\u001b[0m\u001b[0;34m(\u001b[0m\u001b[0mself\u001b[0m\u001b[0;34m)\u001b[0m\u001b[0;34m:\u001b[0m\u001b[0;34m\u001b[0m\u001b[0;34m\u001b[0m\u001b[0m\n\u001b[0;32m---> 15\u001b[0;31m         \u001b[0mnumpy_array\u001b[0m \u001b[0;34m=\u001b[0m \u001b[0msuper\u001b[0m\u001b[0;34m(\u001b[0m\u001b[0;34m)\u001b[0m\u001b[0;34m.\u001b[0m\u001b[0mget_numpy_array\u001b[0m\u001b[0;34m(\u001b[0m\u001b[0;34m)\u001b[0m\u001b[0;34m\u001b[0m\u001b[0;34m\u001b[0m\u001b[0m\n\u001b[0m\u001b[1;32m     16\u001b[0m         \u001b[0;32mreturn\u001b[0m \u001b[0mnumpy_array\u001b[0m\u001b[0;34m.\u001b[0m\u001b[0mastype\u001b[0m\u001b[0;34m(\u001b[0m\u001b[0mnp\u001b[0m\u001b[0;34m.\u001b[0m\u001b[0mint16\u001b[0m\u001b[0;34m)\u001b[0m\u001b[0;34m\u001b[0m\u001b[0;34m\u001b[0m\u001b[0m\n",
      "\u001b[0;32m~/Dicom-To-CNN/library_dicom/dicom_processor/model/Series.py\u001b[0m in \u001b[0;36mget_numpy_array\u001b[0;34m(self)\u001b[0m\n\u001b[1;32m     94\u001b[0m         \u001b[0minstance_array\u001b[0m\u001b[0;34m.\u001b[0m\u001b[0msort\u001b[0m\u001b[0;34m(\u001b[0m\u001b[0mkey\u001b[0m\u001b[0;34m=\u001b[0m\u001b[0;32mlambda\u001b[0m \u001b[0minstance_array\u001b[0m\u001b[0;34m:\u001b[0m\u001b[0mint\u001b[0m\u001b[0;34m(\u001b[0m\u001b[0minstance_array\u001b[0m\u001b[0;34m.\u001b[0m\u001b[0mget_image_position\u001b[0m\u001b[0;34m(\u001b[0m\u001b[0;34m)\u001b[0m\u001b[0;34m[\u001b[0m\u001b[0;36m2\u001b[0m\u001b[0;34m]\u001b[0m\u001b[0;34m)\u001b[0m\u001b[0;34m)\u001b[0m\u001b[0;34m\u001b[0m\u001b[0;34m\u001b[0m\u001b[0m\n\u001b[1;32m     95\u001b[0m         \u001b[0mpixel_data\u001b[0m \u001b[0;34m=\u001b[0m \u001b[0;34m[\u001b[0m\u001b[0minstance\u001b[0m\u001b[0;34m.\u001b[0m\u001b[0mget_image_nparray\u001b[0m\u001b[0;34m(\u001b[0m\u001b[0;34m)\u001b[0m \u001b[0;32mfor\u001b[0m \u001b[0minstance\u001b[0m \u001b[0;32min\u001b[0m \u001b[0minstance_array\u001b[0m\u001b[0;34m]\u001b[0m\u001b[0;34m\u001b[0m\u001b[0;34m\u001b[0m\u001b[0m\n\u001b[0;32m---> 96\u001b[0;31m         \u001b[0mnp_array\u001b[0m \u001b[0;34m=\u001b[0m \u001b[0mnp\u001b[0m\u001b[0;34m.\u001b[0m\u001b[0mstack\u001b[0m\u001b[0;34m(\u001b[0m\u001b[0mpixel_data\u001b[0m\u001b[0;34m,\u001b[0m\u001b[0maxis\u001b[0m\u001b[0;34m=\u001b[0m\u001b[0;34m-\u001b[0m\u001b[0;36m1\u001b[0m\u001b[0;34m)\u001b[0m\u001b[0;34m\u001b[0m\u001b[0;34m\u001b[0m\u001b[0m\n\u001b[0m\u001b[1;32m     97\u001b[0m         \u001b[0;31m#A VERIF\u001b[0m\u001b[0;34m\u001b[0m\u001b[0;34m\u001b[0m\u001b[0;34m\u001b[0m\u001b[0m\n\u001b[1;32m     98\u001b[0m         \u001b[0mself\u001b[0m\u001b[0;34m.\u001b[0m\u001b[0minstance_array\u001b[0m \u001b[0;34m=\u001b[0m \u001b[0minstance_array\u001b[0m\u001b[0;34m\u001b[0m\u001b[0;34m\u001b[0m\u001b[0m\n",
      "\u001b[0;32m<__array_function__ internals>\u001b[0m in \u001b[0;36mstack\u001b[0;34m(*args, **kwargs)\u001b[0m\n",
      "\u001b[0;32m~/.local/lib/python3.8/site-packages/numpy/core/shape_base.py\u001b[0m in \u001b[0;36mstack\u001b[0;34m(arrays, axis, out)\u001b[0m\n\u001b[1;32m    431\u001b[0m     \u001b[0msl\u001b[0m \u001b[0;34m=\u001b[0m \u001b[0;34m(\u001b[0m\u001b[0mslice\u001b[0m\u001b[0;34m(\u001b[0m\u001b[0;32mNone\u001b[0m\u001b[0;34m)\u001b[0m\u001b[0;34m,\u001b[0m\u001b[0;34m)\u001b[0m \u001b[0;34m*\u001b[0m \u001b[0maxis\u001b[0m \u001b[0;34m+\u001b[0m \u001b[0;34m(\u001b[0m\u001b[0m_nx\u001b[0m\u001b[0;34m.\u001b[0m\u001b[0mnewaxis\u001b[0m\u001b[0;34m,\u001b[0m\u001b[0;34m)\u001b[0m\u001b[0;34m\u001b[0m\u001b[0;34m\u001b[0m\u001b[0m\n\u001b[1;32m    432\u001b[0m     \u001b[0mexpanded_arrays\u001b[0m \u001b[0;34m=\u001b[0m \u001b[0;34m[\u001b[0m\u001b[0marr\u001b[0m\u001b[0;34m[\u001b[0m\u001b[0msl\u001b[0m\u001b[0;34m]\u001b[0m \u001b[0;32mfor\u001b[0m \u001b[0marr\u001b[0m \u001b[0;32min\u001b[0m \u001b[0marrays\u001b[0m\u001b[0;34m]\u001b[0m\u001b[0;34m\u001b[0m\u001b[0;34m\u001b[0m\u001b[0m\n\u001b[0;32m--> 433\u001b[0;31m     \u001b[0;32mreturn\u001b[0m \u001b[0m_nx\u001b[0m\u001b[0;34m.\u001b[0m\u001b[0mconcatenate\u001b[0m\u001b[0;34m(\u001b[0m\u001b[0mexpanded_arrays\u001b[0m\u001b[0;34m,\u001b[0m \u001b[0maxis\u001b[0m\u001b[0;34m=\u001b[0m\u001b[0maxis\u001b[0m\u001b[0;34m,\u001b[0m \u001b[0mout\u001b[0m\u001b[0;34m=\u001b[0m\u001b[0mout\u001b[0m\u001b[0;34m)\u001b[0m\u001b[0;34m\u001b[0m\u001b[0;34m\u001b[0m\u001b[0m\n\u001b[0m\u001b[1;32m    434\u001b[0m \u001b[0;34m\u001b[0m\u001b[0m\n\u001b[1;32m    435\u001b[0m \u001b[0;34m\u001b[0m\u001b[0m\n",
      "\u001b[0;32m<__array_function__ internals>\u001b[0m in \u001b[0;36mconcatenate\u001b[0;34m(*args, **kwargs)\u001b[0m\n",
      "\u001b[0;31mKeyboardInterrupt\u001b[0m: "
     ]
    }
   ],
   "source": [
    "#GENERATION NIFTI CT PET DES PET 2/4\n",
    "\n",
    "nifti_directory = '/media/deeplearning/78ca2911-9e9f-4f78-b80a-848024b95f92/GAINED_NIFTI_PET4'\n",
    "\n",
    "error = []\n",
    "for serie in dataset : \n",
    "    print(dataset.index(serie))\n",
    "    try : \n",
    "        if serie[1] == 'PT' : \n",
    "            serie_pt_objet = SeriesPT(serie[0]) \n",
    "            nifti_array = serie_pt_objet.get_numpy_array()\n",
    "            study_uid = serie_pt_objet.get_series_details()['study']['StudyInstanceUID']\n",
    "\n",
    "                    #generation nifti PT\n",
    "            filename_pt = study_uid+'_'+'nifti_'+'PT'+'.nii'\n",
    "            serie_pt_objet.export_nifti(os.path.join(nifti_directory, filename_pt))\n",
    "            print(\"EXPORT NIFTI PT\")\n",
    "                    #generation nifti CT\n",
    "            serie_ct_objet = SeriesCT(serie[2])\n",
    "            serie_ct_objet.get_numpy_array()\n",
    "            filename_ct = study_uid+'_'+'nifti_'+'CT'+'.nii'\n",
    "            serie_ct_objet.export_nifti(os.path.join(nifti_directory, filename_ct))\n",
    "            print(\"EXPORT NIFTI CT\")\n",
    "\n",
    "\n",
    "\n",
    "        else : \n",
    "            serie_pt_objet = SeriesPT(serie[2]) \n",
    "            nifti_array = serie_pt_objet.get_numpy_array()\n",
    "            study_uid = serie_pt_objet.get_series_details()['study']['StudyInstanceUID']\n",
    "\n",
    "            \n",
    "                    #generation nifti PT\n",
    "            filename_pt = study_uid+'_'+'nifti_'+'PT'+'.nii'\n",
    "            serie_pt_objet.export_nifti(os.path.join(nifti_directory, filename_pt))\n",
    "            print(\"EXPORT NIFTI PT\")\n",
    "                    #generation nifti CT\n",
    "            serie_ct_objet = SeriesCT(serie[0])\n",
    "            serie_ct_objet.get_numpy_array()\n",
    "            filename_ct = study_uid+'_'+'nifti_'+'CT'+'.nii'\n",
    "            serie_ct_objet.export_nifti(os.path.join(nifti_directory, filename_ct))\n",
    "            print(\"EXPORT NIFTI CT\")\n",
    " \n",
    "\n",
    "    except Exception as err : \n",
    "        print(serie)\n",
    "        print(err)\n",
    "        error.append(serie)"
   ]
  },
  {
   "cell_type": "code",
   "execution_count": null,
   "metadata": {},
   "outputs": [],
   "source": []
  },
  {
   "cell_type": "code",
   "execution_count": null,
   "metadata": {},
   "outputs": [],
   "source": []
  },
  {
   "cell_type": "code",
   "execution_count": null,
   "metadata": {},
   "outputs": [],
   "source": []
  },
  {
   "cell_type": "markdown",
   "metadata": {
    "tags": [
     "outputPrepend"
    ]
   },
   "source": [
    "unconstant_spacing = []\n",
    "serie_error = []\n",
    "for serie in error : \n",
    "    print(error.index(serie))\n",
    "    try : \n",
    "        if serie[1] =='PT' : \n",
    "            serie_pt_objet = SeriesPT(serie[0])\n",
    "            print(\"PET\")\n",
    "            nifti_array = serie_pt_objet.get_numpy_array()\n",
    "            print(serie_pt_objet.get_z_spacing())\n",
    "            print(serie_pt_objet.calculate_z_spacing(round_ = True))\n",
    "            print(\"CT\")\n",
    "            serie_ct_objet = SeriesCT(serie[2])\n",
    "            nifti_array_ct = serie_ct_objet.get_numpy_array()\n",
    "            print(serie_ct_objet.get_z_spacing())\n",
    "            print(serie_ct_objet.calculate_z_spacing(round_ = True))\n",
    "                \n",
    "\n",
    "        else : \n",
    "            serie_pt_objet = SeriesPT(serie[2])\n",
    "            print(\"PET\")\n",
    "            nifti_array = serie_pt_objet.get_numpy_array()\n",
    "            print(serie_pt_objet.get_z_spacing())\n",
    "            print(serie_pt_objet.calculate_z_spacing(round_ = True))\n",
    "            print(\"CT\")\n",
    "            serie_ct_objet = SeriesCT(serie[0])\n",
    "            nifti_array_ct = serie_ct_objet.get_numpy_array()\n",
    "            print(serie_ct_objet.get_z_spacing())\n",
    "            print(serie_ct_objet.calculate_z_spacing(round_ = True))\n",
    "    except Exception as err : \n",
    "        print(serie)\n",
    "        print(err)\n",
    "        serie_error.append(serie)\n"
   ]
  },
  {
   "cell_type": "code",
   "execution_count": null,
   "metadata": {},
   "outputs": [],
   "source": []
  }
 ],
 "metadata": {
  "file_extension": ".py",
  "kernelspec": {
   "display_name": "Python 3",
   "language": "python",
   "name": "python3"
  },
  "language_info": {
   "codemirror_mode": {
    "name": "ipython",
    "version": 3
   },
   "file_extension": ".py",
   "mimetype": "text/x-python",
   "name": "python",
   "nbconvert_exporter": "python",
   "pygments_lexer": "ipython3",
   "version": "3.8.2-final"
  },
  "mimetype": "text/x-python",
  "name": "python",
  "npconvert_exporter": "python",
  "pygments_lexer": "ipython3",
  "version": 3
 },
 "nbformat": 4,
 "nbformat_minor": 2
}