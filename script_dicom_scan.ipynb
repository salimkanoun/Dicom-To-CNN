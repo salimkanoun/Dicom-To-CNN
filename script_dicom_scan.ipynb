{
 "nbformat": 4,
 "nbformat_minor": 2,
 "metadata": {
  "language_info": {
   "name": "python",
   "codemirror_mode": {
    "name": "ipython",
    "version": 2
   },
   "version": "3.8.2-final"
  },
  "orig_nbformat": 2,
  "file_extension": ".py",
  "mimetype": "text/x-python",
  "name": "python",
  "npconvert_exporter": "python",
  "pygments_lexer": "ipython2",
  "version": 2,
  "kernelspec": {
   "name": "python37564bitb347043b993a4ec0b11e0cd547f3ed0c",
   "display_name": "Python 3.7.5 64-bit"
  }
 },
 "cells": [
  {
   "cell_type": "code",
   "execution_count": 1,
   "metadata": {},
   "outputs": [],
   "source": [
    "import os\n",
    "import json\n",
    "import shutil\n",
    "\n",
    "from library_dicom.dicom_processor.model.Series import Series\n",
    "from library_dicom.dicom_processor.model.SeriesPT import SeriesPT\n",
    "from library_dicom.dicom_processor.tools.folders import *\n",
    "from library_dicom.dicom_processor.tools.series import get_series_object\n",
    ""
   ]
  },
  {
   "cell_type": "code",
   "execution_count": 2,
   "metadata": {},
   "outputs": [],
   "source": [
    "series_paths = get_series_path(\"/media/salim/DD 2To/GAINED\")\n",
    "export_folder = '/media/salim/DD 2To/Json GAINED'"
   ]
  },
  {
   "cell_type": "code",
   "execution_count": 3,
   "metadata": {},
   "outputs": [
    {
     "output_type": "stream",
     "name": "stdout",
     "text": "lim/DD 2To/GAINED/Batch03/11011101051007/PET4/1.2.840.113704.1.111.2644.1375952409.8', 'files': 348, 'instance': {'PixelSpacing': [\"1.171875\", \"1.171875\"], 'ImagePosition': [\"-300.0\", \"-179.0\", \"-1249.69995\"], 'ImageOrientation': [\"1.0\", \"0.0\", \"0.0\", \"0.0\", \"1.0\", \"0.0\"], 'RescaleSlope': \"1.0\", 'RescaleIntercept': \"-1000.0\", 'SliceLocation': \"-203.5\", 'SOPInstanceUID': '1.2.840.113704.1.111.1888.1375952575.1589'}}\n(0020, 1041)\n{'series': {'Manufacturer': 'Philips', 'Modality': 'CT', 'SeriesDate': 'Undefined', 'SeriesTime': 'Undefined', 'SeriesDescription': '', 'SeriesInstanceUID': '1.2.840.113704.1.111.4356.1369216577.8', 'SeriesNumber': \"9428\", 'AcquisitionDate': '20130522', 'AcquisitionTime': '115619', 'NumberOfSlices': 'Undefined', 'ImageInAcquisition': 'Undefined', 'Units': 'Undefined', 'DecayCorrection': 'Undefined', 'ImageType': ['DERIVED', 'SECONDARY', 'AXIAL'], 'PixelSpacing': [\"1.171875\", \"1.171875\"]}, 'study': {'AccessionNumber': 'PET0', 'InstitutionName': 'Undefined', 'StudyDate': '20130522', 'StudyTime': '115509', 'StudyDescription': 'PET0', 'StudyID': '', 'StudyInstanceUID': '1.2.250.1.74.20130522143500.60000024352099', 'PatientWeight': \"66.0\", 'PatientHeight': 'Undefined'}, 'patient': {'PatientName': '11011101051007', 'PatientID': '11011101051007', 'PatientBirthDate': '19000101', 'PatientSex': 'M'}, 'path': '/media/salim/DD 2To/GAINED/Batch03/11011101051007/PET0/1.2.840.113704.1.111.4356.1369216577.8', 'files': 348, 'instance': {'PixelSpacing': [\"1.171875\", \"1.171875\"], 'ImagePosition': [\"-300.0\", \"-230.0\", \"-346.400024\"], 'ImageOrientation': [\"1.0\", \"0.0\", \"0.0\", \"0.0\", \"1.0\", \"0.0\"], 'RescaleSlope': \"1.0\", 'RescaleIntercept': \"-1000.0\", 'SliceLocation': \"-977.0\", 'SOPInstanceUID': '1.2.840.113704.1.111.868.1369216624.2170'}}\n(0020, 1041)\n{'series': {'Manufacturer': 'Philips', 'Modality': 'CT', 'SeriesDate': 'Undefined', 'SeriesTime': 'Undefined', 'SeriesDescription': '', 'SeriesInstanceUID': '1.2.840.113704.1.111.2848.1372774901.8', 'SeriesNumber': \"2411\", 'AcquisitionDate': '20130702', 'AcquisitionTime': '162143', 'NumberOfSlices': 'Undefined', 'ImageInAcquisition': 'Undefined', 'Units': 'Undefined', 'DecayCorrection': 'Undefined', 'ImageType': ['DERIVED', 'SECONDARY', 'AXIAL'], 'PixelSpacing': [\"1.171875\", \"1.171875\"]}, 'study': {'AccessionNumber': 'PET2', 'InstitutionName': 'Undefined', 'StudyDate': '20130702', 'StudyTime': '162009', 'StudyDescription': 'PET2', 'StudyID': '', 'StudyInstanceUID': '1.2.250.1.74.20130710091500.60000025240471', 'PatientWeight': \"65.0\", 'PatientHeight': 'Undefined'}, 'patient': {'PatientName': '11011101051007', 'PatientID': '11011101051007', 'PatientBirthDate': '19000101', 'PatientSex': 'M'}, 'path': '/media/salim/DD 2To/GAINED/Batch03/11011101051007/PET2/1.2.840.113704.1.111.2848.1372774901.8', 'files': 386, 'instance': {'PixelSpacing': [\"1.171875\", \"1.171875\"], 'ImagePosition': [\"-300.0\", \"-211.0\", \"-882.199951\"], 'ImageOrientation': [\"1.0\", \"0.0\", \"0.0\", \"0.0\", \"1.0\", \"0.0\"], 'RescaleSlope': \"1.0\", 'RescaleIntercept': \"-1000.0\", 'SliceLocation': \"-407.5\", 'SOPInstanceUID': '1.2.840.113704.1.111.6128.1372775448.1030'}}\n(0020, 1041)\n{'series': {'Manufacturer': 'Philips', 'Modality': 'CT', 'SeriesDate': 'Undefined', 'SeriesTime': 'Undefined', 'SeriesDescription': '', 'SeriesInstanceUID': '1.2.840.113704.1.111.3668.1382344370.18', 'SeriesNumber': \"9459\", 'AcquisitionDate': '20131021', 'AcquisitionTime': '103251', 'NumberOfSlices': 'Undefined', 'ImageInAcquisition': 'Undefined', 'Units': 'Undefined', 'DecayCorrection': 'Undefined', 'ImageType': ['DERIVED', 'SECONDARY', 'AXIAL'], 'PixelSpacing': [\"1.171875\", \"1.171875\"]}, 'study': {'AccessionNumber': 'PET4', 'InstitutionName': 'Undefined', 'StudyDate': '20131021', 'StudyTime': '100001', 'StudyDescription': 'PET4', 'StudyID': '', 'StudyInstanceUID': '1.2.250.1.74.20131021075500.60000026411911', 'PatientWeight': \"75.0\", 'PatientHeight': 'Undefined'}, 'patient': {'PatientName': '11011101051009', 'PatientID': '11011101051009', 'PatientBirthDate': '19000101', 'PatientSex': 'F'}, 'path': '/media/salim/DD 2To/GAINED/Batch03/11011101051009/PET4/1.2.840.113704.1.111.3668.1382344370.18', 'files': 358, 'instance': {'PixelSpacing': [\"1.171875\", \"1.171875\"], 'ImagePosition': [\"-300.0\", \"-230.0\", \"-428.5\"], 'ImageOrientation': [\"1.0\", \"0.0\", \"0.0\", \"0.0\", \"1.0\", \"0.0\"], 'RescaleSlope': \"1.0\", 'RescaleIntercept': \"-1000.0\", 'SliceLocation': \"-940.5\", 'SOPInstanceUID': '1.2.840.113704.1.111.1792.1382344495.1677'}}\n(0020, 1041)\n{'series': {'Manufacturer': 'Philips', 'Modality': 'CT', 'SeriesDate': 'Undefined', 'SeriesTime': 'Undefined', 'SeriesDescription': '', 'SeriesInstanceUID': '1.2.840.113704.1.111.4984.1373973947.7', 'SeriesNumber': \"3298\", 'AcquisitionDate': '20130716', 'AcquisitionTime': '132548', 'NumberOfSlices': 'Undefined', 'ImageInAcquisition': 'Undefined', 'Units': 'Undefined', 'DecayCorrection': 'Undefined', 'ImageType': ['DERIVED', 'SECONDARY', 'AXIAL'], 'PixelSpacing': [\"1.171875\", \"1.171875\"]}, 'study': {'AccessionNumber': 'PET0', 'InstitutionName': 'Undefined', 'StudyDate': '20130716', 'StudyTime': '132256', 'StudyDescription': 'PET0', 'StudyID': '', 'StudyInstanceUID': '1.2.250.1.74.20130716115500.60000025576060', 'PatientWeight': \"90.0\", 'PatientHeight': 'Undefined'}, 'patient': {'PatientName': '11011101051009', 'PatientID': '11011101051009', 'PatientBirthDate': '19000101', 'PatientSex': 'F'}, 'path': '/media/salim/DD 2To/GAINED/Batch03/11011101051009/PET0/1.2.840.113704.1.111.4984.1373973947.7', 'files': 158, 'instance': {'PixelSpacing': [\"1.171875\", \"1.171875\"], 'ImagePosition': [\"-300.0\", \"-196.0\", \"-789.699951\"], 'ImageOrientation': [\"1.0\", \"0.0\", \"0.0\", \"0.0\", \"1.0\", \"0.0\"], 'RescaleSlope': \"1.0\", 'RescaleIntercept': \"-1000.0\", 'SliceLocation': \"-637.5\", 'SOPInstanceUID': '1.2.840.113704.1.111.5976.1373974007.2698'}}\n(0020, 1041)\n{'series': {'Manufacturer': 'Philips', 'Modality': 'CT', 'SeriesDate': 'Undefined', 'SeriesTime': 'Undefined', 'SeriesDescription': '', 'SeriesInstanceUID': '1.2.840.113704.1.111.4984.1373973947.7', 'SeriesNumber': \"3298\", 'AcquisitionDate': '20130716', 'AcquisitionTime': '132548', 'NumberOfSlices': 'Undefined', 'ImageInAcquisition': 'Undefined', 'Units': 'Undefined', 'DecayCorrection': 'Undefined', 'ImageType': ['DERIVED', 'SECONDARY', 'AXIAL'], 'PixelSpacing': [\"1.171875\", \"1.171875\"]}, 'study': {'AccessionNumber': 'PET0', 'InstitutionName': 'Undefined', 'StudyDate': '20130716', 'StudyTime': '132256', 'StudyDescription': 'PET0', 'StudyID': '', 'StudyInstanceUID': '1.2.250.1.74.20130716115500.60000025576060', 'PatientWeight': \"90.0\", 'PatientHeight': 'Undefined'}, 'patient': {'PatientName': '11011101051009', 'PatientID': '11011101051009', 'PatientBirthDate': '19000101', 'PatientSex': 'F'}, 'path': '/media/salim/DD 2To/GAINED/Batch03/11011101051009/PET0/1.2.840.113704.1.111.4984.1373973947.7', 'files': 158, 'instance': {'PixelSpacing': [\"1.171875\", \"1.171875\"], 'ImagePosition': [\"-300.0\", \"-196.0\", \"-789.699951\"], 'ImageOrientation': [\"1.0\", \"0.0\", \"0.0\", \"0.0\", \"1.0\", \"0.0\"], 'RescaleSlope': \"1.0\", 'RescaleIntercept': \"-1000.0\", 'SliceLocation': \"-637.5\", 'SOPInstanceUID': '1.2.840.113704.1.111.5976.1373974007.2698'}}\n(0020, 1041)\n{'series': {'Manufacturer': 'Philips', 'Modality': 'CT', 'SeriesDate': 'Undefined', 'SeriesTime': 'Undefined', 'SeriesDescription': '', 'SeriesInstanceUID': '1.2.840.113704.1.111.3888.1377244843.8', 'SeriesNumber': \"5506\", 'AcquisitionDate': '20130823', 'AcquisitionTime': '100045', 'NumberOfSlices': 'Undefined', 'ImageInAcquisition': 'Undefined', 'Units': 'Undefined', 'DecayCorrection': 'Undefined', 'ImageType': ['DERIVED', 'SECONDARY', 'AXIAL'], 'PixelSpacing': [\"1.171875\", \"1.171875\"]}, 'study': {'AccessionNumber': 'PET4', 'InstitutionName': 'Undefined', 'StudyDate': '20130823', 'StudyTime': '095857', 'StudyDescription': 'PET4', 'StudyID': '', 'StudyInstanceUID': '1.2.250.1.74.20130823083500.60000025759284', 'PatientWeight': \"54.0\", 'PatientHeight': 'Undefined'}, 'patient': {'PatientName': '11011101051008', 'PatientID': '11011101051008', 'PatientBirthDate': '19000101', 'PatientSex': 'F'}, 'path': '/media/salim/DD 2To/GAINED/Batch03/11011101051008/PET4/1.2.840.113704.1.111.3888.1377244843.8', 'files': 348, 'instance': {'PixelSpacing': [\"1.171875\", \"1.171875\"], 'ImagePosition': [\"-300.0\", \"-185.0\", \"-799.400024\"], 'ImageOrientation': [\"1.0\", \"0.0\", \"0.0\", \"0.0\", \"1.0\", \"0.0\"], 'RescaleSlope': \"1.0\", 'RescaleIntercept': \"-1000.0\", 'SliceLocation': \"-516.0\", 'SOPInstanceUID': '1.2.840.113704.1.111.3960.1377244959.537'}}\n(0020, 1041)\n{'series': {'Manufacturer': 'Philips', 'Modality': 'CT', 'SeriesDate': 'Undefined', 'SeriesTime': 'Undefined', 'SeriesDescription': '', 'SeriesInstanceUID': '1.2.840.113704.1.111.3888.1377244843.8', 'SeriesNumber': \"5506\", 'AcquisitionDate': '20130823', 'AcquisitionTime': '100045', 'NumberOfSlices': 'Undefined', 'ImageInAcquisition': 'Undefined', 'Units': 'Undefined', 'DecayCorrection': 'Undefined', 'ImageType': ['DERIVED', 'SECONDARY', 'AXIAL'], 'PixelSpacing': [\"1.171875\", \"1.171875\"]}, 'study': {'AccessionNumber': 'PET4', 'InstitutionName': 'Undefined', 'StudyDate': '20130823', 'StudyTime': '095857', 'StudyDescription': 'PET4', 'StudyID': '', 'StudyInstanceUID': '1.2.250.1.74.20130823083500.60000025759284', 'PatientWeight': \"54.0\", 'PatientHeight': 'Undefined'}, 'patient': {'PatientName': '11011101051008', 'PatientID': '11011101051008', 'PatientBirthDate': '19000101', 'PatientSex': 'F'}, 'path': '/media/salim/DD 2To/GAINED/Batch03/11011101051008/PET4/1.2.840.113704.1.111.3888.1377244843.8', 'files': 348, 'instance': {'PixelSpacing': [\"1.171875\", \"1.171875\"], 'ImagePosition': [\"-300.0\", \"-185.0\", \"-799.400024\"], 'ImageOrientation': [\"1.0\", \"0.0\", \"0.0\", \"0.0\", \"1.0\", \"0.0\"], 'RescaleSlope': \"1.0\", 'RescaleIntercept': \"-1000.0\", 'SliceLocation': \"-516.0\", 'SOPInstanceUID': '1.2.840.113704.1.111.3960.1377244959.537'}}\n(0020, 1041)\n{'series': {'Manufacturer': 'Philips', 'Modality': 'CT', 'SeriesDate': 'Undefined', 'SeriesTime': 'Undefined', 'SeriesDescription': '', 'SeriesInstanceUID': '1.2.840.113704.1.111.2596.1371110243.8', 'SeriesNumber': \"1122\", 'AcquisitionDate': '20130613', 'AcquisitionTime': '095725', 'NumberOfSlices': 'Undefined', 'ImageInAcquisition': 'Undefined', 'Units': 'Undefined', 'DecayCorrection': 'Undefined', 'ImageType': ['DERIVED', 'SECONDARY', 'AXIAL'], 'PixelSpacing': [\"1.171875\", \"1.171875\"]}, 'study': {'AccessionNumber': 'PET0', 'InstitutionName': 'Undefined', 'StudyDate': '20130613', 'StudyTime': '095605', 'StudyDescription': 'PET0', 'StudyID': '', 'StudyInstanceUID': '1.2.250.1.74.20130613075500.60000025295680', 'PatientWeight': \"59.0\", 'PatientHeight': 'Undefined'}, 'patient': {'PatientName': '11011101051008', 'PatientID': '11011101051008', 'PatientBirthDate': '19000101', 'PatientSex': 'F'}, 'path': '/media/salim/DD 2To/GAINED/Batch03/11011101051008/PET0/1.2.840.113704.1.111.2596.1371110243.8', 'files': 316, 'instance': {'PixelSpacing': [\"1.171875\", \"1.171875\"], 'ImagePosition': [\"-300.0\", \"-191.0\", \"-829.599976\"], 'ImageOrientation': [\"1.0\", \"0.0\", \"0.0\", \"0.0\", \"1.0\", \"0.0\"], 'RescaleSlope': \"1.0\", 'RescaleIntercept': \"-1000.0\", 'SliceLocation': \"-516.5\", 'SOPInstanceUID': '1.2.840.113704.1.111.2344.1371110442.904'}}\n(0020, 1041)\n{'series': {'Manufacturer': 'Philips', 'Modality': 'CT', 'SeriesDate': 'Undefined', 'SeriesTime': 'Undefined', 'SeriesDescription': 'tap', 'SeriesInstanceUID': '1.2.840.113704.1.111.6084.1385987609.13', 'SeriesNumber': \"1926\", 'AcquisitionDate': '20131202', 'AcquisitionTime': '133331', 'NumberOfSlices': 'Undefined', 'ImageInAcquisition': 'Undefined', 'Units': 'Undefined', 'DecayCorrection': 'Undefined', 'ImageType': ['DERIVED', 'SECONDARY', 'AXIAL'], 'PixelSpacing': [\"1.171875\", \"1.171875\"]}, 'study': {'AccessionNumber': 'PET4', 'InstitutionName': 'Undefined', 'StudyDate': '20131202', 'StudyTime': '133146', 'StudyDescription': 'PET4', 'StudyID': '', 'StudyInstanceUID': '7.1712131130122501742013112007500060000026721932', 'PatientWeight': \"95.0\", 'PatientHeight': 'Undefined'}, 'patient': {'PatientName': '11011101051011', 'PatientID': '11011101051011', 'PatientBirthDate': '19000101', 'PatientSex': 'M'}, 'path': '/media/salim/DD 2To/GAINED/Batch03/11011101051011/PET4/1.2.840.113704.1.111.6084.1385987609.13', 'files': 389, 'instance': {'PixelSpacing': [\"1.171875\", \"1.171875\"], 'ImagePosition': [\"-300.0\", \"-230.0\", \"-870.5\"], 'ImageOrientation': [\"1.0\", \"0.0\", \"0.0\", \"0.0\", \"1.0\", \"0.0\"], 'RescaleSlope': \"1.0\", 'RescaleIntercept': \"-1000.0\", 'SliceLocation': \"-497.5\", 'SOPInstanceUID': '1.2.840.113704.1.111.2384.1385987728.3812'}}\n(0020, 1041)\n{'series': {'Manufacturer': 'Philips', 'Modality': 'CT', 'SeriesDate': 'Undefined', 'SeriesTime': 'Undefined', 'SeriesDescription': '', 'SeriesInstanceUID': '1.2.840.113704.1.111.3668.1379403906.8', 'SeriesNumber': \"7066\", 'AcquisitionDate': '20130917', 'AcquisitionTime': '094508', 'NumberOfSlices': 'Undefined', 'ImageInAcquisition': 'Undefined', 'Units': 'Undefined', 'DecayCorrection': 'Undefined', 'ImageType': ['DERIVED', 'SECONDARY', 'AXIAL'], 'PixelSpacing': [\"1.171875\", \"1.171875\"]}, 'study': {'AccessionNumber': 'PET0', 'InstitutionName': 'Undefined', 'StudyDate': '20130917', 'StudyTime': '094350', 'StudyDescription': 'PET0', 'StudyID': '', 'StudyInstanceUID': '1.2.250.1.74.20130917075500.60000026164590', 'PatientWeight': \"97.0\", 'PatientHeight': 'Undefined'}, 'patient': {'PatientName': '11011101051011', 'PatientID': '11011101051011', 'PatientBirthDate': '19000101', 'PatientSex': 'M'}, 'path': '/media/salim/DD 2To/GAINED/Batch03/11011101051011/PET0/1.2.840.113704.1.111.3668.1379403906.8', 'files': 382, 'instance': {'PixelSpacing': [\"1.171875\", \"1.171875\"], 'ImagePosition': [\"-300.0\", \"-206.0\", \"-526.800049\"], 'ImageOrientation': [\"1.0\", \"0.0\", \"0.0\", \"0.0\", \"1.0\", \"0.0\"], 'RescaleSlope': \"1.0\", 'RescaleIntercept': \"-1000.0\", 'SliceLocation': \"-943.0\", 'SOPInstanceUID': '1.2.840.113704.1.111.5820.1379403986.732'}}\n(0020, 1041)\n{'series': {'Manufacturer': 'Philips', 'Modality': 'CT', 'SeriesDate': 'Undefined', 'SeriesTime': 'Undefined', 'SeriesDescription': '', 'SeriesInstanceUID': '1.2.840.113704.1.111.3668.1379403906.8', 'SeriesNumber': \"7066\", 'AcquisitionDate': '20130917', 'AcquisitionTime': '094508', 'NumberOfSlices': 'Undefined', 'ImageInAcquisition': 'Undefined', 'Units': 'Undefined', 'DecayCorrection': 'Undefined', 'ImageType': ['DERIVED', 'SECONDARY', 'AXIAL'], 'PixelSpacing': [\"1.171875\", \"1.171875\"]}, 'study': {'AccessionNumber': 'PET0', 'InstitutionName': 'Undefined', 'StudyDate': '20130917', 'StudyTime': '094350', 'StudyDescription': 'PET0', 'StudyID': '', 'StudyInstanceUID': '1.2.250.1.74.20130917075500.60000026164590', 'PatientWeight': \"97.0\", 'PatientHeight': 'Undefined'}, 'patient': {'PatientName': '11011101051011', 'PatientID': '11011101051011', 'PatientBirthDate': '19000101', 'PatientSex': 'M'}, 'path': '/media/salim/DD 2To/GAINED/Batch03/11011101051011/PET0/1.2.840.113704.1.111.3668.1379403906.8', 'files': 382, 'instance': {'PixelSpacing': [\"1.171875\", \"1.171875\"], 'ImagePosition': [\"-300.0\", \"-206.0\", \"-526.800049\"], 'ImageOrientation': [\"1.0\", \"0.0\", \"0.0\", \"0.0\", \"1.0\", \"0.0\"], 'RescaleSlope': \"1.0\", 'RescaleIntercept': \"-1000.0\", 'SliceLocation': \"-943.0\", 'SOPInstanceUID': '1.2.840.113704.1.111.5820.1379403986.732'}}\nwrong number of slice\nwrong number of slice\nwrong number of slice\nwrong number of slice\nwrong number of slice\nwrong number of slice\n(0020, 1041)\n{'series': {'Manufacturer': 'Philips Medical Systems', 'Modality': 'PT', 'SeriesDate': '20150703', 'SeriesTime': '133018', 'SeriesDescription': '[WB_CTAC] Body', 'SeriesInstanceUID': '1.3.46.670589.28.2.12.30.26399.63820.2.3172.0.1435924292', 'SeriesNumber': \"242920\", 'AcquisitionDate': '20150703', 'AcquisitionTime': '134327.899', 'NumberOfSlices': 234, 'ImageInAcquisition': 'Undefined', 'Units': 'BQML', 'DecayCorrection': 'START', 'ImageType': ['ORIGINAL', 'PRIMARY'], 'PixelSpacing': [\"4.0\", \"4.0\"]}, 'study': {'AccessionNumber': 'PET0', 'InstitutionName': 'Undefined', 'StudyDate': '20150703', 'StudyTime': '133015', 'StudyDescription': 'PET0', 'StudyID': '', 'StudyInstanceUID': '1.2.928.1024177649', 'PatientWeight': \"90.0\", 'PatientHeight': \"1.68\"}, 'patient': {'PatientName': '11011101391020', 'PatientID': '11011101391020', 'PatientBirthDate': '19000101', 'PatientSex': 'F'}, 'path': '/media/salim/DD 2To/GAINED/Batch27/11011101391020/PET0/1.3.46.670589.28.2.12.30.26399.63820.2.3172.0.1435924292', 'files': 234, 'instance': {'PixelSpacing': [\"4.0\", \"4.0\"], 'ImagePosition': [\"-336.683594\", \"-266.683594\", \"-611.099976\"], 'ImageOrientation': [\"1.0\", \"0.0\", \"0.0\", \"0.0\", \"1.0\", \"0.0\"], 'RescaleSlope': \"6.606917\", 'RescaleIntercept': \"0.0\", 'SliceLocation': \"-611.099976\", 'SOPInstanceUID': '1.3.46.670589.28.2.15.30.26399.63820.3.3168.81.1435924292'}, 'radiopharmaceutical': {'RadionuclideHalfLife': \"6586.199707\", 'TotalDose': \"299000000.0\", 'RadiopharmaceuticalStartDateTime': '20150703123050', 'RadiopharmaceuticalStartTime': '123000'}, 'pet_correction': ['DECY', 'RADL', 'ATTN', 'SCAT', 'DTIM', 'RAN', 'NORM'], 'philips_tags': {}}\n(0020, 1041)\n{'series': {'Manufacturer': 'Philips', 'Modality': 'CT', 'SeriesDate': 'Undefined', 'SeriesTime': 'Undefined', 'SeriesDescription': '', 'SeriesInstanceUID': '1.2.840.113704.1.111.1952.1351236716.9', 'SeriesNumber': \"7561\", 'AcquisitionDate': '20121026', 'AcquisitionTime': '093157', 'NumberOfSlices': 'Undefined', 'ImageInAcquisition': 'Undefined', 'Units': 'Undefined', 'DecayCorrection': 'Undefined', 'ImageType': ['DERIVED', 'SECONDARY', 'AXIAL'], 'PixelSpacing': [\"1.171875\", \"1.171875\"]}, 'study': {'AccessionNumber': 'PET0', 'InstitutionName': 'Undefined', 'StudyDate': '20121026', 'StudyTime': '093508.000000', 'StudyDescription': 'PET0', 'StudyID': '', 'StudyInstanceUID': '1.2.840.113711.17041813.3.2372.372772625.26.248614862.31852', 'PatientWeight': \"54.0\", 'PatientHeight': 'Undefined'}, 'patient': {'PatientName': '11011101821001', 'PatientID': '11011101821001', 'PatientBirthDate': '19000101', 'PatientSex': 'F'}, 'path': '/media/salim/DD 2To/GAINED/Batch34/11011101821001/PET0/1.2.840.113704.1.111.1952.1351236716.9', 'files': 191, 'instance': {'PixelSpacing': [\"1.171875\", \"1.171875\"], 'ImagePosition': [\"-300.0\", \"-230.0\", \"1545.5\"], 'ImageOrientation': [\"1.0\", \"0.0\", \"0.0\", \"0.0\", \"1.0\", \"0.0\"], 'RescaleSlope': \"1.0\", 'RescaleIntercept': \"-1000.0\", 'SliceLocation': \"-393.5\", 'SOPInstanceUID': '1.2.840.113704.1.111.4340.1351236813.158'}}\n(0020, 1041)\n{'series': {'Manufacturer': 'Philips', 'Modality': 'CT', 'SeriesDate': 'Undefined', 'SeriesTime': 'Undefined', 'SeriesDescription': '', 'SeriesInstanceUID': '1.2.840.113704.1.111.4704.1355392551.9', 'SeriesNumber': \"158\", 'AcquisitionDate': '20121213', 'AcquisitionTime': '105552', 'NumberOfSlices': 'Undefined', 'ImageInAcquisition': 'Undefined', 'Units': 'Undefined', 'DecayCorrection': 'Undefined', 'ImageType': ['DERIVED', 'SECONDARY', 'AXIAL'], 'PixelSpacing': [\"1.171875\", \"1.171875\"]}, 'study': {'AccessionNumber': 'PET2', 'InstitutionName': 'Undefined', 'StudyDate': '20121213', 'StudyTime': '105849.000000', 'StudyDescription': 'PET2', 'StudyID': '', 'StudyInstanceUID': '1.2.840.113711.17041813.3.2372.372772625.26.248614862.31912', 'PatientWeight': \"55.0\", 'PatientHeight': 'Undefined'}, 'patient': {'PatientName': '11011101821001', 'PatientID': '11011101821001', 'PatientBirthDate': '19000101', 'PatientSex': 'F'}, 'path': '/media/salim/DD 2To/GAINED/Batch34/11011101821001/PET2/1.2.840.113704.1.111.4704.1355392551.9', 'files': 193, 'instance': {'PixelSpacing': [\"1.171875\", \"1.171875\"], 'ImagePosition': [\"-300.0\", \"-230.0\", \"1776.0\"], 'ImageOrientation': [\"1.0\", \"0.0\", \"0.0\", \"0.0\", \"1.0\", \"0.0\"], 'RescaleSlope': \"1.0\", 'RescaleIntercept': \"-1000.0\", 'SliceLocation': \"-173.5\", 'SOPInstanceUID': '1.2.840.113704.1.111.3524.1355392665.192'}}\nwrong number of slice\nwrong number of slice\nwrong number of slice\nwrong number of slice\nwrong number of slice\nwrong number of slice\nwrong number of slice\n"
    }
   ],
   "source": [
    "not_image_folder=[]\n",
    "non_valid_series=[]\n",
    "non_attenuation_corrected=[]\n",
    "empty_folders = []\n",
    "secondary_series = []\n",
    "localizer_series = []\n",
    "\n",
    "for serie_path in series_paths:\n",
    "    if(len(os.listdir(serie_path)) == 0):\n",
    "        empty_folders.append(serie_path)\n",
    "        continue\n",
    "    try:\n",
    "        dicom_serie = get_series_object(serie_path)\n",
    "        dicomsInfo = dicom_serie.get_series_details()\n",
    "        remove_bi_file(serie_path)\n",
    "        if( dicom_serie.is_image_modality() == False):\n",
    "            not_image_folder.append(serie_path)\n",
    "        elif (dicom_serie.is_series_valid() == False):\n",
    "            non_valid_series.append(serie_path)\n",
    "        elif(type(dicom_serie) == SeriesPT and dicom_serie.is_corrected_attenuation() == False):\n",
    "            non_attenuation_corrected.append(serie_path)\n",
    "        elif(dicom_serie.is_localizer_series() == True):\n",
    "            localizer_series.append(serie_path)\n",
    "        else:\n",
    "            write_json_file(export_folder, dicomsInfo['series']['SeriesInstanceUID'], dicomsInfo)\n",
    "    except Exception as err:\n",
    "        print(err)\n",
    "        print(dicomsInfo)\n",
    "    \n",
    "    \n",
    "    "
   ]
  },
  {
   "cell_type": "code",
   "execution_count": null,
   "metadata": {},
   "outputs": [],
   "source": [
    "print(not_image_folder)\n",
    "print(non_valid_series)\n",
    "print(non_attenuation_corrected)\n",
    "#print(empty_folders)\n",
    "print(secondary_series)\n",
    "print(localizer_series)"
   ]
  },
  {
   "cell_type": "code",
   "execution_count": null,
   "metadata": {},
   "outputs": [],
   "source": [
    "for localizer_serie in localizer_series:\n",
    "    shutil.rmtree(localizer_serie)\n",
    "\n",
    "for not_image in not_image_folder:\n",
    "    shutil.rmtree(not_image)\n",
    "\n",
    "for non_attenuation in non_attenuation_corrected:\n",
    "    shutil.rmtree(non_attenuation)"
   ]
  },
  {
   "cell_type": "code",
   "execution_count": null,
   "metadata": {},
   "outputs": [],
   "source": [
    "for empty_folder in empty_folders:\n",
    "    shutil.rmtree(empty_folder)"
   ]
  },
  {
   "cell_type": "code",
   "execution_count": null,
   "metadata": {},
   "outputs": [],
   "source": [
    "write_json_file(\"/media/salim/DD 2To/Erreur GAINED\", \"wrong Series Gained\", json.dumps(non_valid_series))"
   ]
  }
 ]
}