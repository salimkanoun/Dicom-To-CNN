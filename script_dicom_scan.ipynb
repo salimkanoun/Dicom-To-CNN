{
 "nbformat": 4,
 "nbformat_minor": 2,
 "metadata": {
  "language_info": {
   "name": "python",
   "codemirror_mode": {
    "name": "ipython",
    "version": 2
   },
   "version": "3.7.5-final"
  },
  "orig_nbformat": 2,
  "file_extension": ".py",
  "mimetype": "text/x-python",
  "name": "python",
  "npconvert_exporter": "python",
  "pygments_lexer": "ipython2",
  "version": 2,
  "kernelspec": {
   "name": "python37564bitb347043b993a4ec0b11e0cd547f3ed0c",
   "display_name": "Python 3.7.5 64-bit"
  }
 },
 "cells": [
  {
   "cell_type": "code",
   "execution_count": 2,
   "metadata": {},
   "outputs": [],
   "source": [
    "import os\n",
    "import json\n",
    "\n",
    "from library_dicom.dicom_processor.model.Series import Series\n",
    "from library_dicom.dicom_processor.model.SeriesPT import SeriesPT\n",
    "from library_dicom.dicom_processor.tools.folders import get_series_path, write_json_file, remove_bi_file\n",
    "from library_dicom.dicom_processor.tools.series import get_series_object\n"
   ]
  },
  {
   "cell_type": "code",
   "execution_count": 3,
   "metadata": {},
   "outputs": [],
   "source": [
    "batch_path = []\n",
    "for i in range(0,3):\n",
    "    batch_path.append('/media/salim/DD 2To/AHL2011/AHLGroupe'+str(i))"
   ]
  },
  {
   "cell_type": "code",
   "execution_count": 4,
   "metadata": {},
   "outputs": [],
   "source": [
    "series_paths = []\n",
    "for input_path in batch_path:\n",
    "    series_paths_current = get_series_path(input_path)\n",
    "    series_paths = series_paths + series_paths_current\n",
    "export_folder = '/media/salim/DD 2To/Json Ahl'"
   ]
  },
  {
   "cell_type": "code",
   "execution_count": 7,
   "metadata": {},
   "outputs": [
    {
     "name": "stdout",
     "output_type": "stream",
     "text": "wrong number of slice\nwrong number of slice\nwrong number of slice\n"
    }
   ],
   "source": [
    "not_image_folder=[]\n",
    "non_valid_series=[]\n",
    "non_attenuation_corrected=[]\n",
    "empty_folders = []\n",
    "\n",
    "for serie_path in series_paths:\n",
    "    if(len(os.listdir(serie_path)) == 0):\n",
    "        empty_folders.append(serie_path)\n",
    "        continue\n",
    "    dicom_serie = get_series_object(serie_path)\n",
    "    dicomsInfo = dicom_serie.get_series_details()\n",
    "    try:\n",
    "        json_string = json.dumps(dicomsInfo)\n",
    "    except Exception as err:\n",
    "        print(err)\n",
    "        print(serie_path)\n",
    "        print(dicomsInfo)\n",
    "    remove_bi_file(serie_path)\n",
    "    if(dicom_serie.is_image_modality() == False):\n",
    "        not_image_folder.append(serie_path)\n",
    "    if(dicom_serie.is_series_valid() == False):\n",
    "        non_valid_series.append(serie_path)\n",
    "    if(type(dicom_serie) == SeriesPT and dicom_serie.is_corrected_attenuation() == False):\n",
    "        non_attenuation_corrected.append(serie_path)\n",
    "    write_json_file(export_folder, dicomsInfo['study']['StudyInstanceUID'], json_string)\n",
    "    "
   ]
  },
  {
   "cell_type": "code",
   "execution_count": 10,
   "metadata": {},
   "outputs": [
    {
     "name": "stdout",
     "output_type": "stream",
     "text": "[]\n['/media/salim/DD 2To/AHL2011/AHLGroupe2/Batch1/13011101021023/PET4/1.3.46.670589.28.2.10.48.18554.65512.2.3040.0.1389953829', '/media/salim/DD 2To/AHL2011/AHLGroupe2/Batch1/13011101021023/PET4/1.3.46.670589.28.2.10.4.9167.27989.2.732.0.1389954370', '/media/salim/DD 2To/AHL2011/AHLGroupe2/Batch2/13011101021026/PET0/1.3.46.670589.28.2.10.4.9167.27921.2.1276.0.1392308226']\n['/media/salim/DD 2To/AHL2011/AHLGroupe0/Batch1/13011101011001/PET4/1.2.840.113619.2.290.3.279748722.763.1389077647.163', '/media/salim/DD 2To/AHL2011/AHLGroupe0/Batch1/13011101011001/PET2/1.3.12.2.1107.5.1.4.45520.30000013121106210028100001131', '/media/salim/DD 2To/AHL2011/AHLGroupe0/Batch2/53011104121002/PET4/1.2.840.113619.2.290.3.12697600.57.1374476128.508', '/media/salim/DD 2To/AHL2011/AHLGroupe1/Batch2/13011101021018/PET0/1.2.840.113619.2.290.3.2500492204.214.1361944920.207', '/media/salim/DD 2To/AHL2011/AHLGroupe1/Batch2/53011106341001/PET4/1.2.840.113619.2.144.40453598.32395.1364293892.367', '/media/salim/DD 2To/AHL2011/AHLGroupe1/Batch2/53011106341001/PET0/DICOM/0000/0000/0002', '/media/salim/DD 2To/AHL2011/AHLGroupe1/Batch2/53011106341001/PET0/DICOM/0000/0000/0005', '/media/salim/DD 2To/AHL2011/AHLGroupe1/Batch2/53011106341001/PET2/DICOM/0000/0000/0005', '/media/salim/DD 2To/AHL2011/AHLGroupe2/Batch1/13011101021020/PET0/1.3.12.2.1107.5.1.4.1003.30000013060306584182800014643']\n['/media/salim/DD 2To/AHL2011/AHLGroupe1/Batch2/53011106341001/PET2/2/DICOM/0000/0000']\n"
    }
   ],
   "source": [
    "print(not_image_folder)\n",
    "print(non_valid_series)\n",
    "print(non_attenuation_corrected)\n",
    "print(empty_folders)"
   ]
  },
  {
   "cell_type": "code",
   "execution_count": 11,
   "metadata": {},
   "outputs": [
    {
     "ename": "SyntaxError",
     "evalue": "invalid syntax (<ipython-input-11-d288cecf4ec0>, line 5)",
     "output_type": "error",
     "traceback": [
      "\u001b[0;36m  File \u001b[0;32m\"<ipython-input-11-d288cecf4ec0>\"\u001b[0;36m, line \u001b[0;32m5\u001b[0m\n\u001b[0;31m    for empty_folder in empty_folders\u001b[0m\n\u001b[0m                                     ^\u001b[0m\n\u001b[0;31mSyntaxError\u001b[0m\u001b[0;31m:\u001b[0m invalid syntax\n"
     ]
    }
   ],
   "source": [
    "import shutil\n",
    "for image_folder in not_image_folder:\n",
    "    shutil.rmtree(image_folder)\n",
    "    \n",
    "for empty_folder in empty_folders\n",
    "    shutil.rmtree(empty_folder)"
   ]
  },
  {
   "cell_type": "code",
   "execution_count": null,
   "metadata": {},
   "outputs": [],
   "source": []
  }
 ]
}