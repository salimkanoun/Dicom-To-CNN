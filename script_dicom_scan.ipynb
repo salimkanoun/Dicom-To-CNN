{
 "nbformat": 4,
 "nbformat_minor": 2,
 "metadata": {
  "language_info": {
   "name": "python",
   "codemirror_mode": {
    "name": "ipython",
    "version": 2
   },
   "version": "3.8.5-final"
  },
  "orig_nbformat": 2,
  "file_extension": ".py",
  "mimetype": "text/x-python",
  "name": "python",
  "npconvert_exporter": "python",
  "pygments_lexer": "ipython2",
  "version": 2,
  "kernelspec": {
   "name": "python38564bit9a8409779cd04c3cbd0c5f1e859a644e",
   "display_name": "Python 3.8.5 64-bit"
  }
 },
 "cells": [
  {
   "cell_type": "code",
   "execution_count": 25,
   "metadata": {},
   "outputs": [],
   "source": [
    "import os\n",
    "import json\n",
    "import shutil\n",
    "\n",
    "from library_dicom.dicom_processor.model.Series import Series\n",
    "from library_dicom.dicom_processor.model.SeriesPT import SeriesPT\n",
    "from library_dicom.dicom_processor.tools.folders import *\n",
    "from library_dicom.dicom_processor.tools.series import get_series_object\n",
    ""
   ]
  },
  {
   "cell_type": "code",
   "execution_count": 55,
   "metadata": {},
   "outputs": [],
   "source": [
    "series_paths = get_series_path(\"/media/deeplearning/Elements/send_to_validated_dicom\")\n",
    "export_folder = '/media/deeplearning/78ca2911-9e9f-4f78-b80a-848024b95f92/RELEVANCE_json'"
   ]
  },
  {
   "cell_type": "code",
   "execution_count": 57,
   "metadata": {},
   "outputs": [
    {
     "output_type": "execute_result",
     "data": {
      "text/plain": [
       "262"
      ]
     },
     "metadata": {},
     "execution_count": 57
    }
   ],
   "source": [
    "len(series_paths)"
   ]
  },
  {
   "cell_type": "code",
   "execution_count": 60,
   "metadata": {
    "tags": [
     "outputPrepend"
    ]
   },
   "outputs": [
    {
     "output_type": "stream",
     "name": "stdout",
     "text": [
      "_file\n",
      "191\n",
      "json_file\n",
      "192\n",
      "json_file\n",
      "193\n",
      "json_file\n",
      "194\n",
      "json_file\n",
      "195\n",
      "json_file\n",
      "196\n",
      "json_file\n",
      "197\n",
      "json_file\n",
      "198\n",
      "json_file\n",
      "199\n",
      "json_file\n",
      "200\n",
      "json_file\n",
      "201\n",
      "json_file\n",
      "202\n",
      "json_file\n",
      "203\n",
      "json_file\n",
      "204\n",
      "json_file\n",
      "205\n",
      "json_file\n",
      "206\n",
      "json_file\n",
      "207\n",
      "json_file\n",
      "208\n",
      "json_file\n",
      "209\n",
      "json_file\n",
      "210\n",
      "json_file\n",
      "211\n",
      "json_file\n",
      "212\n",
      "json_file\n",
      "213\n",
      "json_file\n",
      "214\n",
      "json_file\n",
      "215\n",
      "json_file\n",
      "216\n",
      "json_file\n",
      "217\n",
      "json_file\n",
      "218\n",
      "json_file\n",
      "219\n",
      "json_file\n",
      "220\n",
      "json_file\n",
      "221\n",
      "json_file\n",
      "222\n",
      "json_file\n",
      "223\n",
      "json_file\n",
      "224\n",
      "json_file\n",
      "225\n",
      "json_file\n",
      "226\n",
      "json_file\n",
      "227\n",
      "json_file\n",
      "228\n",
      "json_file\n",
      "229\n",
      "json_file\n",
      "230\n",
      "json_file\n",
      "231\n",
      "json_file\n",
      "232\n",
      "json_file\n",
      "233\n",
      "json_file\n",
      "234\n",
      "json_file\n",
      "235\n",
      "json_file\n",
      "236\n",
      "json_file\n",
      "237\n",
      "json_file\n",
      "238\n",
      "json_file\n",
      "239\n",
      "json_file\n",
      "240\n",
      "json_file\n",
      "241\n",
      "json_file\n",
      "242\n",
      "json_file\n",
      "243\n",
      "json_file\n",
      "244\n",
      "json_file\n",
      "245\n",
      "json_file\n",
      "246\n",
      "json_file\n",
      "247\n",
      "json_file\n",
      "248\n",
      "json_file\n",
      "249\n",
      "json_file\n",
      "250\n",
      "json_file\n",
      "251\n",
      "json_file\n",
      "252\n",
      "json_file\n",
      "253\n",
      "json_file\n",
      "254\n",
      "json_file\n",
      "255\n",
      "json_file\n",
      "256\n",
      "json_file\n",
      "257\n",
      "json_file\n",
      "258\n",
      "json_file\n",
      "259\n",
      "json_file\n",
      "260\n",
      "json_file\n",
      "261\n",
      "json_file\n"
     ]
    }
   ],
   "source": [
    "not_image_folder=[]\n",
    "non_valid_series=[]\n",
    "non_attenuation_corrected=[]\n",
    "empty_folders = []\n",
    "secondary_series = []\n",
    "localizer_series = []\n",
    "\n",
    "for serie_path in series_paths:\n",
    "    print(series_paths.index(serie_path))\n",
    "    if(len(os.listdir(serie_path)) == 0):\n",
    "        empty_folders.append(serie_path)\n",
    "        continue\n",
    "    try:\n",
    "        dicom_serie = get_series_object(serie_path)\n",
    "        dicomsInfo = dicom_serie.get_series_details()\n",
    "        remove_bi_file(serie_path)\n",
    "        if( dicom_serie.is_image_modality() == False):\n",
    "            not_image_folder.append(serie_path)\n",
    "        elif (dicom_serie.is_series_valid() == False):\n",
    "            non_valid_series.append(serie_path)\n",
    "        elif(type(dicom_serie) == SeriesPT and dicom_serie.is_corrected_attenuation() == False):\n",
    "            non_attenuation_corrected.append(serie_path)\n",
    "        elif(dicom_serie.is_localizer_series() == True):\n",
    "            localizer_series.append(serie_path)\n",
    "        else:\n",
    "\n",
    "            write_json_file(export_folder, dicomsInfo['series']['SeriesInstanceUID'], dicomsInfo)\n",
    "            print(\"json_file\")\n",
    "    except Exception as err:\n",
    "        print(err)\n",
    "        print(dicomsInfo)"
   ]
  },
  {
   "source": [
    "#Index of series we have treated in Relevance envoi 2\n",
    "index = []\n",
    "for serie_path in series_paths : \n",
    "    study_uid = serie_path.split('/')[-1]\n",
    "    index.append(study_uid)\n",
    "\n",
    "write_json_file('/media/deeplearning/78ca2911-9e9f-4f78-b80a-848024b95f92/', 'index_RELEVANCE', index)"
   ],
   "cell_type": "code",
   "metadata": {},
   "execution_count": null,
   "outputs": []
  },
  {
   "cell_type": "code",
   "execution_count": null,
   "metadata": {},
   "outputs": [],
   "source": []
  },
  {
   "cell_type": "code",
   "execution_count": 61,
   "metadata": {
    "tags": []
   },
   "outputs": [
    {
     "output_type": "stream",
     "name": "stdout",
     "text": [
      "0\n0\n0\n0\n0\n0\n"
     ]
    }
   ],
   "source": [
    "#print(not_image_folder)\n",
    "#print(non_valid_series)\n",
    "#print(non_attenuation_corrected)\n",
    "#print(empty_folders)\n",
    "#print(secondary_series)\n",
    "#print(localizer_series)\n",
    "\n",
    "print(len(not_image_folder))\n",
    "print(len(non_valid_series))\n",
    "print(len(non_attenuation_corrected))\n",
    "print(len(empty_folders))\n",
    "print(len(secondary_series))\n",
    "print(len(localizer_series))"
   ]
  },
  {
   "cell_type": "code",
   "execution_count": 38,
   "metadata": {},
   "outputs": [],
   "source": [
    "for localizer_serie in localizer_series:\n",
    "    shutil.rmtree(localizer_serie)\n",
    "\n",
    "for not_image in not_image_folder:\n",
    "    shutil.rmtree(not_image)\n",
    "\n",
    "for non_attenuation in non_attenuation_corrected:\n",
    "    shutil.rmtree(non_attenuation)\n",
    "\n",
    "for non_valid_serie in non_valid_series : \n",
    "    shutil.rmtree(non_valid_serie)\n",
    "\n",
    "for secondary_serie in secondary_series : \n",
    "    shutil.rmtree(secondary_serie)"
   ]
  },
  {
   "cell_type": "code",
   "execution_count": 39,
   "metadata": {},
   "outputs": [],
   "source": [
    "for empty_folder in empty_folders:\n",
    "    shutil.rmtree(empty_folder)"
   ]
  },
  {
   "cell_type": "code",
   "execution_count": 40,
   "metadata": {},
   "outputs": [],
   "source": [
    "#relevance envoi 2 \n",
    "json_path = '/media/deeplearning/78ca2911-9e9f-4f78-b80a-848024b95f92/Relevance/index_RELEVANCE.json'\n",
    "dataset = []\n",
    "with open(json_path) as json_file : \n",
    "    reader = json.load(json_file)\n",
    "    for info in reader :\n",
    "        dataset.append(info)\n"
   ]
  },
  {
   "cell_type": "code",
   "execution_count": 43,
   "metadata": {},
   "outputs": [
    {
     "output_type": "stream",
     "name": "stdout",
     "text": [
      "951\n"
     ]
    }
   ],
   "source": [
    "liste_json = os.listdir('/media/deeplearning/78ca2911-9e9f-4f78-b80a-848024b95f92/RELEVANCE_json')\n",
    "print(len(liste_json))"
   ]
  },
  {
   "source": [
    "for uid in dataset : \n",
    "    for json_f in liste_json : \n",
    "        if uid in json_f : \n",
    "            print(uid)\n",
    "            print(json_f)\n",
    "            os.remove('/media/deeplearning/78ca2911-9e9f-4f78-b80a-848024b95f92/RELEVANCE_json'+'/'+json_f)"
   ],
   "cell_type": "code",
   "metadata": {
    "tags": [
     "outputPrepend"
    ]
   },
   "execution_count": null,
   "outputs": []
  },
  {
   "cell_type": "code",
   "execution_count": 51,
   "metadata": {
    "tags": []
   },
   "outputs": [],
   "source": [
    "#keep index : \n",
    "\n",
    "update = os.listdir('/media/deeplearning/78ca2911-9e9f-4f78-b80a-848024b95f92/RELEVANCE_json')\n",
    "index = []\n",
    "for uid in update : \n",
    "    study_uid = uid[:-5]\n",
    "    index.append(study_uid)\n",
    "    \n",
    "\n",
    "write_json_file('/media/deeplearning/78ca2911-9e9f-4f78-b80a-848024b95f92', 'index_part_2', index)"
   ]
  },
  {
   "cell_type": "code",
   "execution_count": 49,
   "metadata": {},
   "outputs": [],
   "source": [
    "write_json_file(\"/media/deeplearning/78ca2911-9e9f-4f78-b80a-848024b95f92\", \"wrong Series Relevance_2\", json.dumps(non_valid_series))"
   ]
  }
 ]
}