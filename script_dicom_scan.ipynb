{
 "nbformat": 4,
 "nbformat_minor": 2,
 "metadata": {
  "language_info": {
   "name": "python",
   "codemirror_mode": {
    "name": "ipython",
    "version": 2
   },
   "version": "3.8.5-final"
  },
  "orig_nbformat": 2,
  "file_extension": ".py",
  "mimetype": "text/x-python",
  "name": "python",
  "npconvert_exporter": "python",
  "pygments_lexer": "ipython2",
  "version": 2,
  "kernelspec": {
   "name": "python38564bit9a8409779cd04c3cbd0c5f1e859a644e",
   "display_name": "Python 3.8.5 64-bit"
  }
 },
 "cells": [
  {
   "cell_type": "code",
   "execution_count": 2,
   "metadata": {},
   "outputs": [],
   "source": [
    "import os\n",
    "import json\n",
    "import shutil\n",
    "\n",
    "from library_dicom.dicom_processor.model.Series import Series\n",
    "from library_dicom.dicom_processor.model.SeriesPT import SeriesPT\n",
    "from library_dicom.dicom_processor.tools.folders import *\n",
    "from library_dicom.dicom_processor.tools.series import get_series_object\n",
    ""
   ]
  },
  {
   "cell_type": "code",
   "execution_count": 12,
   "metadata": {},
   "outputs": [],
   "source": [
    "series_paths = get_series_path(\"/media/deeplearning/Elements/send_to_validated_dicom\")\n",
    "export_folder = '/media/deeplearning/Elements/json'"
   ]
  },
  {
   "cell_type": "code",
   "execution_count": 13,
   "metadata": {},
   "outputs": [
    {
     "output_type": "execute_result",
     "data": {
      "text/plain": [
       "32"
      ]
     },
     "metadata": {},
     "execution_count": 13
    }
   ],
   "source": [
    "len(series_paths)"
   ]
  },
  {
   "cell_type": "code",
   "execution_count": 5,
   "metadata": {},
   "outputs": [
    {
     "output_type": "stream",
     "name": "stdout",
     "text": [
      "0\n"
     ]
    }
   ],
   "source": [
    "index_1 = '/media/deeplearning/78ca2911-9e9f-4f78-b80a-848024b95f92/Relevance/index_RELEVANCE.json'\n",
    "index_2 = '/media/deeplearning/78ca2911-9e9f-4f78-b80a-848024b95f92/Relevance/index_part_2.json'\n",
    "index_3 = '/media/deeplearning/78ca2911-9e9f-4f78-b80a-848024b95f92/Relevance/index_RELEVANCE_part3.json'\n",
    "\n",
    "dataset_1 = []\n",
    "with open(index_1) as json_file : \n",
    "    reader = json.load(json_file)\n",
    "    for info in reader :\n",
    "        dataset_1.append(info)\n",
    "\n",
    "dataset_2 = []\n",
    "with open(index_2) as json_file : \n",
    "    reader = json.load(json_file)\n",
    "    for info in reader :\n",
    "        dataset_2.append(info)\n",
    "\n",
    "dataset_3 = []\n",
    "with open(index_3) as json_file : \n",
    "    reader = json.load(json_file)\n",
    "    for info in reader :\n",
    "        dataset_3.append(info)\n",
    "\n",
    "\n",
    "liste_index = dataset_1 + dataset_2 + dataset_3\n",
    "\n",
    "treated = []\n",
    "for serie_path in series_paths : \n",
    "    serie_uid = serie_path.split('/')[-1]\n",
    "    if serie_uid in liste_index : \n",
    "        treated.append(serie_path)\n",
    "print(len(treated))"
   ]
  },
  {
   "cell_type": "code",
   "execution_count": 10,
   "metadata": {},
   "outputs": [],
   "source": [
    "for serie in treated : \n",
    "    series_paths.remove(serie)"
   ]
  },
  {
   "cell_type": "code",
   "execution_count": 14,
   "metadata": {
    "tags": []
   },
   "outputs": [
    {
     "output_type": "stream",
     "name": "stdout",
     "text": [
      "0\n",
      "1\n",
      "2\n",
      "3\n",
      "4\n",
      "5\n",
      "6\n",
      "7\n",
      "8\n",
      "9\n",
      "10\n",
      "11\n",
      "12\n",
      "13\n",
      "14\n",
      "15\n",
      "16\n",
      "17\n",
      "18\n",
      "19\n",
      "20\n",
      "21\n",
      "22\n",
      "23\n",
      "24\n",
      "25\n",
      "26\n",
      "27\n",
      "28\n",
      "29\n",
      "30\n",
      "31\n"
     ]
    }
   ],
   "source": [
    "not_image_folder=[]\n",
    "non_valid_series=[]\n",
    "non_attenuation_corrected=[]\n",
    "empty_folders = []\n",
    "secondary_series = []\n",
    "localizer_series = []\n",
    "\n",
    "for serie_path in series_paths:\n",
    "    print(series_paths.index(serie_path))\n",
    "    if(len(os.listdir(serie_path)) == 0):\n",
    "        empty_folders.append(serie_path)\n",
    "        continue\n",
    "    try:\n",
    "        dicom_serie = get_series_object(serie_path)\n",
    "        dicomsInfo = dicom_serie.get_series_details()\n",
    "        remove_bi_file(serie_path)\n",
    "        if( dicom_serie.is_image_modality() == False):\n",
    "            not_image_folder.append(serie_path)\n",
    "        elif (dicom_serie.is_series_valid() == False):\n",
    "            non_valid_series.append(serie_path)\n",
    "        elif(type(dicom_serie) == SeriesPT and dicom_serie.is_corrected_attenuation() == False):\n",
    "            non_attenuation_corrected.append(serie_path)\n",
    "        elif(dicom_serie.is_localizer_series() == True):\n",
    "            localizer_series.append(serie_path)\n",
    "        else:\n",
    "\n",
    "            write_json_file(export_folder, dicomsInfo['series']['SeriesInstanceUID'], dicomsInfo)\n",
    "            #print(\"json_file\")\n",
    "    except Exception as err:\n",
    "        print(err)\n",
    "        print(dicomsInfo)"
   ]
  },
  {
   "source": [
    "#Index of series we have treated in Relevance envoi 3\n",
    "index = []\n",
    "for serie_path in series_paths : \n",
    "    study_uid = serie_path.split('/')[-1]\n",
    "    index.append(study_uid)\n",
    "write_json_file('/media/deeplearning/78ca2911-9e9f-4f78-b80a-848024b95f92/', 'index_RELEVANCE_dernier', index)"
   ],
   "cell_type": "code",
   "metadata": {},
   "execution_count": 7,
   "outputs": []
  },
  {
   "cell_type": "code",
   "execution_count": null,
   "metadata": {},
   "outputs": [],
   "source": []
  },
  {
   "cell_type": "code",
   "execution_count": 8,
   "metadata": {
    "tags": []
   },
   "outputs": [
    {
     "output_type": "stream",
     "name": "stdout",
     "text": [
      "0\n0\n30\n0\n0\n3\n"
     ]
    }
   ],
   "source": [
    "#print(not_image_folder)\n",
    "#print(non_valid_series)\n",
    "#print(non_attenuation_corrected)\n",
    "#print(empty_folders)\n",
    "#print(secondary_series)\n",
    "#print(localizer_series)\n",
    "\n",
    "print(len(not_image_folder))\n",
    "print(len(non_valid_series))\n",
    "print(len(non_attenuation_corrected))\n",
    "print(len(empty_folders))\n",
    "print(len(secondary_series))\n",
    "print(len(localizer_series))"
   ]
  },
  {
   "cell_type": "code",
   "execution_count": 9,
   "metadata": {},
   "outputs": [],
   "source": [
    "for localizer_serie in localizer_series:\n",
    "    shutil.rmtree(localizer_serie)\n",
    "\n",
    "for not_image in not_image_folder:\n",
    "    shutil.rmtree(not_image)\n",
    "\n",
    "for non_attenuation in non_attenuation_corrected:\n",
    "    shutil.rmtree(non_attenuation)\n",
    "\n",
    "for non_valid_serie in non_valid_series : \n",
    "    shutil.rmtree(non_valid_serie)\n",
    "\n",
    "for secondary_serie in secondary_series : \n",
    "    shutil.rmtree(secondary_serie)"
   ]
  },
  {
   "cell_type": "code",
   "execution_count": 10,
   "metadata": {},
   "outputs": [],
   "source": [
    "for empty_folder in empty_folders:\n",
    "    shutil.rmtree(empty_folder)"
   ]
  },
  {
   "cell_type": "code",
   "execution_count": 11,
   "metadata": {},
   "outputs": [],
   "source": [
    "write_json_file(\"/media/deeplearning/78ca2911-9e9f-4f78-b80a-848024b95f92\", \"wrong Series Relevance_dernier\", json.dumps(non_valid_series))"
   ]
  }
 ]
}