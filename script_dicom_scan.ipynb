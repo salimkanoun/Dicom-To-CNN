{
 "nbformat": 4,
 "nbformat_minor": 2,
 "metadata": {
  "language_info": {
   "name": "python",
   "codemirror_mode": {
    "name": "ipython",
    "version": 2
   },
   "version": "3.8.5-final"
  },
  "orig_nbformat": 2,
  "file_extension": ".py",
  "mimetype": "text/x-python",
  "name": "python",
  "npconvert_exporter": "python",
  "pygments_lexer": "ipython2",
  "version": 2,
  "kernelspec": {
   "name": "python38564bit9a8409779cd04c3cbd0c5f1e859a644e",
   "display_name": "Python 3.8.5 64-bit"
  }
 },
 "cells": [
  {
   "cell_type": "code",
   "execution_count": 1,
   "metadata": {},
   "outputs": [],
   "source": [
    "import os\n",
    "import json\n",
    "#import shutil\n",
    "\n",
    "from library_dicom.dicom_processor.model.Series import Series\n",
    "from library_dicom.dicom_processor.model.SeriesPT import SeriesPT\n",
    "from library_dicom.dicom_processor.tools.folders import *\n",
    "from library_dicom.dicom_processor.tools.series import get_series_object\n"
   ]
  },
  {
   "cell_type": "code",
   "execution_count": 2,
   "metadata": {},
   "outputs": [],
   "source": [
    "series_paths = get_series_path(\"/media/deeplearning/SAMSUNG/AHL2011\")\n",
    "export_folder = '/media/deeplearning/AHL/JSON'"
   ]
  },
  {
   "cell_type": "code",
   "execution_count": 3,
   "metadata": {},
   "outputs": [
    {
     "output_type": "execute_result",
     "data": {
      "text/plain": [
       "10088"
      ]
     },
     "metadata": {},
     "execution_count": 3
    }
   ],
   "source": [
    "len(series_paths)"
   ]
  },
  {
   "cell_type": "code",
   "execution_count": 4,
   "metadata": {
    "tags": []
   },
   "outputs": [],
   "source": [
    "#get every serie uid from second clean up \n",
    "liste_new_uid = []\n",
    "for path in series_paths : \n",
    "    uid = path.split('/')[-1]\n",
    "    #print(uid)\n",
    "    if 'imagys' not in uid : \n",
    "        #print(uid)\n",
    "        liste_new_uid.append(uid)"
   ]
  },
  {
   "cell_type": "code",
   "execution_count": 5,
   "metadata": {},
   "outputs": [
    {
     "output_type": "execute_result",
     "data": {
      "text/plain": [
       "9774"
      ]
     },
     "metadata": {},
     "execution_count": 5
    }
   ],
   "source": [
    "len(liste_new_uid)"
   ]
  },
  {
   "source": [
    "liste_new_uid[0]"
   ],
   "cell_type": "code",
   "metadata": {},
   "execution_count": 6,
   "outputs": [
    {
     "output_type": "execute_result",
     "data": {
      "text/plain": [
       "'1.3.12.2.1107.5.1.4.48467.30000013010207240617100011289'"
      ]
     },
     "metadata": {},
     "execution_count": 6
    }
   ]
  },
  {
   "cell_type": "code",
   "execution_count": 7,
   "metadata": {
    "tags": []
   },
   "outputs": [],
   "source": [
    "#get series uid from previous cleanup \n",
    "\n",
    "json_path = '/media/deeplearning/CLé USB/AHL_JSON'\n",
    "liste_json = os.listdir(json_path)\n",
    "liste_uid = []\n",
    "for name in liste_json : \n",
    "    uid = name[:-5]\n",
    "    liste_uid.append(uid)\n",
    "    #print(uid)"
   ]
  },
  {
   "cell_type": "code",
   "execution_count": 8,
   "metadata": {},
   "outputs": [
    {
     "output_type": "execute_result",
     "data": {
      "text/plain": [
       "3976"
      ]
     },
     "metadata": {},
     "execution_count": 8
    }
   ],
   "source": [
    "len(liste_uid)"
   ]
  },
  {
   "cell_type": "code",
   "execution_count": 9,
   "metadata": {},
   "outputs": [
    {
     "output_type": "execute_result",
     "data": {
      "text/plain": [
       "'1.3.46.670589.28.2.10.4.9167.27815.2.2040.0.1344324331'"
      ]
     },
     "metadata": {},
     "execution_count": 9
    }
   ],
   "source": [
    "liste_uid[0]"
   ]
  },
  {
   "source": [],
   "cell_type": "markdown",
   "metadata": {}
  },
  {
   "cell_type": "code",
   "execution_count": 10,
   "metadata": {},
   "outputs": [],
   "source": [
    "#compare two dataset : \n",
    "remove = []\n",
    "for uid in liste_new_uid : \n",
    "    for old_uid in liste_uid : \n",
    "        if old_uid == uid : \n",
    "            remove.append(uid)\n"
   ]
  },
  {
   "cell_type": "code",
   "execution_count": 11,
   "metadata": {},
   "outputs": [
    {
     "output_type": "execute_result",
     "data": {
      "text/plain": [
       "3893"
      ]
     },
     "metadata": {},
     "execution_count": 11
    }
   ],
   "source": [
    "len(remove)"
   ]
  },
  {
   "cell_type": "code",
   "execution_count": 12,
   "metadata": {},
   "outputs": [],
   "source": [
    "treated = []\n",
    "for path in series_paths : \n",
    "    for uid in remove : \n",
    "        if uid in path : \n",
    "            treated.append(path)\n",
    "            \n"
   ]
  },
  {
   "cell_type": "code",
   "execution_count": 13,
   "metadata": {},
   "outputs": [
    {
     "output_type": "stream",
     "name": "stdout",
     "text": [
      "/media/deeplearning/SAMSUNG/AHL2011/AHLGroupe13/Batch1/13011101091017/PET0/1.3.12.2.1107.5.1.4.48467.30000013010207240617100011289\n"
     ]
    }
   ],
   "source": [
    "print(treated[0])"
   ]
  },
  {
   "cell_type": "code",
   "execution_count": 14,
   "metadata": {},
   "outputs": [
    {
     "output_type": "stream",
     "name": "stdout",
     "text": [
      "list.remove(x): x not in list\nlist.remove(x): x not in list\nlist.remove(x): x not in list\nlist.remove(x): x not in list\nlist.remove(x): x not in list\nlist.remove(x): x not in list\nlist.remove(x): x not in list\nlist.remove(x): x not in list\nlist.remove(x): x not in list\nlist.remove(x): x not in list\nlist.remove(x): x not in list\nlist.remove(x): x not in list\nlist.remove(x): x not in list\nlist.remove(x): x not in list\nlist.remove(x): x not in list\nlist.remove(x): x not in list\nlist.remove(x): x not in list\nlist.remove(x): x not in list\nlist.remove(x): x not in list\nlist.remove(x): x not in list\nlist.remove(x): x not in list\nlist.remove(x): x not in list\nlist.remove(x): x not in list\nlist.remove(x): x not in list\nlist.remove(x): x not in list\nlist.remove(x): x not in list\nlist.remove(x): x not in list\nlist.remove(x): x not in list\nlist.remove(x): x not in list\nlist.remove(x): x not in list\nlist.remove(x): x not in list\nlist.remove(x): x not in list\nlist.remove(x): x not in list\nlist.remove(x): x not in list\nlist.remove(x): x not in list\nlist.remove(x): x not in list\nlist.remove(x): x not in list\nlist.remove(x): x not in list\nlist.remove(x): x not in list\nlist.remove(x): x not in list\nlist.remove(x): x not in list\nlist.remove(x): x not in list\nlist.remove(x): x not in list\nlist.remove(x): x not in list\nlist.remove(x): x not in list\nlist.remove(x): x not in list\nlist.remove(x): x not in list\nlist.remove(x): x not in list\nlist.remove(x): x not in list\nlist.remove(x): x not in list\nlist.remove(x): x not in list\nlist.remove(x): x not in list\nlist.remove(x): x not in list\nlist.remove(x): x not in list\nlist.remove(x): x not in list\nlist.remove(x): x not in list\nlist.remove(x): x not in list\nlist.remove(x): x not in list\nlist.remove(x): x not in list\nlist.remove(x): x not in list\nlist.remove(x): x not in list\nlist.remove(x): x not in list\nlist.remove(x): x not in list\nlist.remove(x): x not in list\nlist.remove(x): x not in list\nlist.remove(x): x not in list\nlist.remove(x): x not in list\nlist.remove(x): x not in list\nlist.remove(x): x not in list\nlist.remove(x): x not in list\nlist.remove(x): x not in list\nlist.remove(x): x not in list\nlist.remove(x): x not in list\nlist.remove(x): x not in list\nlist.remove(x): x not in list\nlist.remove(x): x not in list\nlist.remove(x): x not in list\nlist.remove(x): x not in list\nlist.remove(x): x not in list\nlist.remove(x): x not in list\nlist.remove(x): x not in list\nlist.remove(x): x not in list\nlist.remove(x): x not in list\nlist.remove(x): x not in list\nlist.remove(x): x not in list\nlist.remove(x): x not in list\nlist.remove(x): x not in list\nlist.remove(x): x not in list\nlist.remove(x): x not in list\nlist.remove(x): x not in list\nlist.remove(x): x not in list\nlist.remove(x): x not in list\nlist.remove(x): x not in list\nlist.remove(x): x not in list\nlist.remove(x): x not in list\nlist.remove(x): x not in list\nlist.remove(x): x not in list\nlist.remove(x): x not in list\nlist.remove(x): x not in list\nlist.remove(x): x not in list\nlist.remove(x): x not in list\nlist.remove(x): x not in list\nlist.remove(x): x not in list\nlist.remove(x): x not in list\nlist.remove(x): x not in list\nlist.remove(x): x not in list\nlist.remove(x): x not in list\nlist.remove(x): x not in list\nlist.remove(x): x not in list\nlist.remove(x): x not in list\nlist.remove(x): x not in list\nlist.remove(x): x not in list\nlist.remove(x): x not in list\nlist.remove(x): x not in list\nlist.remove(x): x not in list\nlist.remove(x): x not in list\nlist.remove(x): x not in list\nlist.remove(x): x not in list\nlist.remove(x): x not in list\nlist.remove(x): x not in list\nlist.remove(x): x not in list\nlist.remove(x): x not in list\nlist.remove(x): x not in list\nlist.remove(x): x not in list\nlist.remove(x): x not in list\nlist.remove(x): x not in list\nlist.remove(x): x not in list\nlist.remove(x): x not in list\nlist.remove(x): x not in list\nlist.remove(x): x not in list\nlist.remove(x): x not in list\nlist.remove(x): x not in list\nlist.remove(x): x not in list\nlist.remove(x): x not in list\nlist.remove(x): x not in list\nlist.remove(x): x not in list\nlist.remove(x): x not in list\nlist.remove(x): x not in list\nlist.remove(x): x not in list\nlist.remove(x): x not in list\nlist.remove(x): x not in list\nlist.remove(x): x not in list\nlist.remove(x): x not in list\n"
     ]
    }
   ],
   "source": [
    "for serie in treated : \n",
    "    try : \n",
    "        series_paths.remove(serie)\n",
    "    except Exception as err : \n",
    "        print(err)"
   ]
  },
  {
   "cell_type": "code",
   "execution_count": 15,
   "metadata": {},
   "outputs": [
    {
     "output_type": "execute_result",
     "data": {
      "text/plain": [
       "6192"
      ]
     },
     "metadata": {},
     "execution_count": 15
    }
   ],
   "source": [
    "len(series_paths)"
   ]
  },
  {
   "cell_type": "code",
   "execution_count": 18,
   "metadata": {},
   "outputs": [
    {
     "output_type": "execute_result",
     "data": {
      "text/plain": [
       "3976"
      ]
     },
     "metadata": {},
     "execution_count": 18
    }
   ],
   "source": [
    "len(liste_uid)"
   ]
  },
  {
   "cell_type": "code",
   "execution_count": 20,
   "metadata": {},
   "outputs": [],
   "source": [
    "write_json_file('/media/deeplearning/78ca2911-9e9f-4f78-b80a-848024b95f92/', 'serie_uid_treated', liste_uid)"
   ]
  },
  {
   "cell_type": "code",
   "execution_count": null,
   "metadata": {},
   "outputs": [],
   "source": []
  },
  {
   "cell_type": "code",
   "execution_count": null,
   "metadata": {},
   "outputs": [],
   "source": []
  },
  {
   "cell_type": "code",
   "execution_count": null,
   "metadata": {},
   "outputs": [],
   "source": []
  },
  {
   "cell_type": "code",
   "execution_count": null,
   "metadata": {},
   "outputs": [],
   "source": []
  },
  {
   "cell_type": "code",
   "execution_count": 5,
   "metadata": {},
   "outputs": [
    {
     "output_type": "stream",
     "name": "stdout",
     "text": [
      "0\n"
     ]
    }
   ],
   "source": [
    "index_1 = '/media/deeplearning/78ca2911-9e9f-4f78-b80a-848024b95f92/Relevance/index_RELEVANCE.json'\n",
    "index_2 = '/media/deeplearning/78ca2911-9e9f-4f78-b80a-848024b95f92/Relevance/index_part_2.json'\n",
    "index_3 = '/media/deeplearning/78ca2911-9e9f-4f78-b80a-848024b95f92/Relevance/index_RELEVANCE_part3.json'\n",
    "\n",
    "dataset_1 = []\n",
    "with open(index_1) as json_file : \n",
    "    reader = json.load(json_file)\n",
    "    for info in reader :\n",
    "        dataset_1.append(info)\n",
    "\n",
    "dataset_2 = []\n",
    "with open(index_2) as json_file : \n",
    "    reader = json.load(json_file)\n",
    "    for info in reader :\n",
    "        dataset_2.append(info)\n",
    "\n",
    "dataset_3 = []\n",
    "with open(index_3) as json_file : \n",
    "    reader = json.load(json_file)\n",
    "    for info in reader :\n",
    "        dataset_3.append(info)\n",
    "\n",
    "\n",
    "liste_index = dataset_1 + dataset_2 + dataset_3\n",
    "\n",
    "treated = []\n",
    "for serie_path in series_paths : \n",
    "    serie_uid = serie_path.split('/')[-1]\n",
    "    if serie_uid in liste_index : \n",
    "        treated.append(serie_path)\n",
    "print(len(treated))"
   ]
  },
  {
   "cell_type": "code",
   "execution_count": 10,
   "metadata": {},
   "outputs": [],
   "source": [
    "for serie in treated : \n",
    "    series_paths.remove(serie)"
   ]
  },
  {
   "cell_type": "code",
   "execution_count": 23,
   "metadata": {
    "tags": [
     "outputPrepend"
    ]
   },
   "outputs": [
    {
     "output_type": "stream",
     "name": "stdout",
     "text": [
      "xelSpacing': [\"4.06271\", \"4.06271\"], 'ImagePosition': [\"-335.94868982376\", \"-523.73184001984\", \"7.0\"], 'ImageOrientation': [\"1.0\", \"0.0\", \"0.0\", \"0.0\", \"1.0\", \"0.0\"], 'RescaleSlope': \"0.527461\", 'RescaleIntercept': \"0.0\", 'SOPInstanceUID': '1.3.12.2.1107.5.1.4.44873.30000013041205203910900003837'}, 'radiopharmaceutical': {'RadionuclideHalfLife': \"6586.2\", 'TotalDose': \"431790008.54492\", 'RadiopharmaceuticalStartDateTime': 'Undefined', 'RadiopharmaceuticalStartTime': '113000'}, 'pet_correction': ['NORM', 'DTIM', 'RADL', 'DECY'], 'philips_tags': {'PhilipsSUVFactor': 'Undefined', 'PhilipsBqMlFactor': 'Undefined'}}\n",
      "6110\n",
      "6111\n",
      "6112\n",
      "6113\n",
      "6114\n",
      "(0028, 0030)\n",
      "{'series': {'Manufacturer': 'SIEMENS', 'Modality': 'CT', 'SeriesDate': '20130408', 'SeriesTime': '130555', 'SeriesDescription': 'CT M INF 3.0 B31s', 'SeriesInstanceUID': '1.3.12.2.1107.5.1.4.44873.30000013040806565018700002765', 'SeriesNumber': \"3\", 'AcquisitionDate': '20130408', 'AcquisitionTime': '130552.314', 'NumberOfSlices': 'Undefined', 'ImageInAcquisition': 'Undefined', 'Units': 'Undefined', 'DecayCorrection': 'Undefined', 'ImageType': ['ORIGINAL', 'PRIMARY', 'AXIAL', 'CT_SOM5 SPI'], 'PixelSpacing': [\"0.9765625\", \"0.9765625\"]}, 'study': {'AccessionNumber': 'PET0', 'InstitutionName': '', 'StudyDate': '20130408', 'StudyTime': '125832', 'StudyDescription': 'PET0', 'StudyID': '1', 'StudyInstanceUID': '1.3.12.2.1107.5.1.4.44873.30000013040805421771800000038', 'PatientWeight': \"59.0\", 'PatientHeight': \"1.68\"}, 'patient': {'PatientName': 'SIM^CH', 'PatientID': '13011101151005', 'PatientBirthDate': '19000101', 'PatientSex': 'F'}, 'path': '/media/deeplearning/SAMSUNG/AHL2011/AHL_Données_Manquantes_Romain/Salim_Decomp/13011101151005/PET0/DICOM/0000/0000/0004', 'files': 488, 'instance': {'PixelSpacing': [\"0.9765625\", \"0.9765625\"], 'ImagePosition': [\"-249.51171875\", \"-364.51171875\", \"15.5\"], 'ImageOrientation': [\"1.0\", \"0.0\", \"0.0\", \"0.0\", \"1.0\", \"0.0\"], 'RescaleSlope': \"1.0\", 'RescaleIntercept': \"-1024.0\", 'SOPInstanceUID': '1.3.12.2.1107.5.1.4.44873.30000013040806565018700003253'}}\n",
      "6115\n",
      "6116\n",
      "6117\n",
      "6118\n",
      "wrong number of slice\n",
      "6119\n",
      "6120\n",
      "6121\n",
      "(0028, 0030)\n",
      "{'series': {'Manufacturer': 'SIEMENS', 'Modality': 'CT', 'SeriesDate': '20130530', 'SeriesTime': '123156', 'SeriesDescription': 'CT TAP 3.0 eFoV', 'SeriesInstanceUID': '1.3.12.2.1107.5.1.4.44873.30000013053007111343700003009', 'SeriesNumber': \"3\", 'AcquisitionDate': '20130530', 'AcquisitionTime': '123153.239', 'NumberOfSlices': 'Undefined', 'ImageInAcquisition': 'Undefined', 'Units': 'Undefined', 'DecayCorrection': 'Undefined', 'ImageType': ['DERIVED', 'PRIMARY', 'AXIAL', 'CT_SOM5 SPI'], 'PixelSpacing': [\"1.3671875\", \"1.3671875\"]}, 'study': {'AccessionNumber': 'PET2', 'InstitutionName': '', 'StudyDate': '20130530', 'StudyTime': '122116', 'StudyDescription': 'PET2', 'StudyID': '1', 'StudyInstanceUID': '1.3.12.2.1107.5.1.4.44873.30000013053005480181200000035', 'PatientWeight': \"59.0\", 'PatientHeight': \"1.68\"}, 'patient': {'PatientName': 'SIM^CH', 'PatientID': '13011101151005', 'PatientBirthDate': '19000101', 'PatientSex': 'F'}, 'path': '/media/deeplearning/SAMSUNG/AHL2011/AHL_Données_Manquantes_Romain/Salim_Decomp/13011101151005/PET2/DICOM/0000/0000/0002', 'files': 430, 'instance': {'PixelSpacing': [\"1.3671875\", \"1.3671875\"], 'ImagePosition': [\"-349.31640625\", \"-479.31640625\", \"-872.0\"], 'ImageOrientation': [\"1.0\", \"0.0\", \"0.0\", \"0.0\", \"1.0\", \"0.0\"], 'RescaleSlope': \"1.0\", 'RescaleIntercept': \"-1024.0\", 'SOPInstanceUID': '1.3.12.2.1107.5.1.4.44873.30000013053007111343700003439'}}\n",
      "6122\n",
      "(0028, 0030)\n",
      "{'series': {'Manufacturer': 'SIEMENS', 'Modality': 'CT', 'SeriesDate': '20130530', 'SeriesTime': '123156', 'SeriesDescription': 'CT TAP 3.0 eFoV', 'SeriesInstanceUID': '1.3.12.2.1107.5.1.4.44873.30000013053007111343700003009', 'SeriesNumber': \"3\", 'AcquisitionDate': '20130530', 'AcquisitionTime': '123153.239', 'NumberOfSlices': 'Undefined', 'ImageInAcquisition': 'Undefined', 'Units': 'Undefined', 'DecayCorrection': 'Undefined', 'ImageType': ['DERIVED', 'PRIMARY', 'AXIAL', 'CT_SOM5 SPI'], 'PixelSpacing': [\"1.3671875\", \"1.3671875\"]}, 'study': {'AccessionNumber': 'PET2', 'InstitutionName': '', 'StudyDate': '20130530', 'StudyTime': '122116', 'StudyDescription': 'PET2', 'StudyID': '1', 'StudyInstanceUID': '1.3.12.2.1107.5.1.4.44873.30000013053005480181200000035', 'PatientWeight': \"59.0\", 'PatientHeight': \"1.68\"}, 'patient': {'PatientName': 'SIM^CH', 'PatientID': '13011101151005', 'PatientBirthDate': '19000101', 'PatientSex': 'F'}, 'path': '/media/deeplearning/SAMSUNG/AHL2011/AHL_Données_Manquantes_Romain/Salim_Decomp/13011101151005/PET2/DICOM/0000/0000/0002', 'files': 430, 'instance': {'PixelSpacing': [\"1.3671875\", \"1.3671875\"], 'ImagePosition': [\"-349.31640625\", \"-479.31640625\", \"-872.0\"], 'ImageOrientation': [\"1.0\", \"0.0\", \"0.0\", \"0.0\", \"1.0\", \"0.0\"], 'RescaleSlope': \"1.0\", 'RescaleIntercept': \"-1024.0\", 'SOPInstanceUID': '1.3.12.2.1107.5.1.4.44873.30000013053007111343700003439'}}\n",
      "6123\n",
      "wrong number of slice\n",
      "6124\n",
      "6125\n",
      "6126\n",
      "(0028, 0030)\n",
      "{'series': {'Manufacturer': 'SIEMENS', 'Modality': 'CT', 'SeriesDate': '20130712', 'SeriesTime': '131649', 'SeriesDescription': 'CT TAP 3.0 eFoV', 'SeriesInstanceUID': '1.3.12.2.1107.5.1.4.44873.30000013071207410135900002914', 'SeriesNumber': \"3\", 'AcquisitionDate': '20130712', 'AcquisitionTime': '131645.833', 'NumberOfSlices': 'Undefined', 'ImageInAcquisition': 'Undefined', 'Units': 'Undefined', 'DecayCorrection': 'Undefined', 'ImageType': ['DERIVED', 'PRIMARY', 'AXIAL', 'CT_SOM5 SPI'], 'PixelSpacing': [\"1.3671875\", \"1.3671875\"]}, 'study': {'AccessionNumber': 'PET4', 'InstitutionName': '', 'StudyDate': '20130712', 'StudyTime': '130846', 'StudyDescription': 'PET4', 'StudyID': '1', 'StudyInstanceUID': '1.3.12.2.1107.5.1.4.44873.30000013071206042370300000029', 'PatientWeight': \"61.0\", 'PatientHeight': \"1.68\"}, 'patient': {'PatientName': 'SIM^CH', 'PatientID': '13011101151005', 'PatientBirthDate': '19000101', 'PatientSex': 'F'}, 'path': '/media/deeplearning/SAMSUNG/AHL2011/AHL_Données_Manquantes_Romain/Salim_Decomp/13011101151005/PET4/DICOM/0000/0000/0002', 'files': 372, 'instance': {'PixelSpacing': [\"1.3671875\", \"1.3671875\"], 'ImagePosition': [\"-349.31640625\", \"-500.31640625\", \"-723.0\"], 'ImageOrientation': [\"1.0\", \"0.0\", \"0.0\", \"0.0\", \"1.0\", \"0.0\"], 'RescaleSlope': \"1.0\", 'RescaleIntercept': \"-1024.0\", 'SOPInstanceUID': '1.3.12.2.1107.5.1.4.44873.30000013071207410135900003286'}}\n",
      "6127\n",
      "(0028, 0030)\n",
      "{'series': {'Manufacturer': 'SIEMENS', 'Modality': 'CT', 'SeriesDate': '20130712', 'SeriesTime': '131649', 'SeriesDescription': 'CT TAP 3.0 eFoV', 'SeriesInstanceUID': '1.3.12.2.1107.5.1.4.44873.30000013071207410135900002914', 'SeriesNumber': \"3\", 'AcquisitionDate': '20130712', 'AcquisitionTime': '131645.833', 'NumberOfSlices': 'Undefined', 'ImageInAcquisition': 'Undefined', 'Units': 'Undefined', 'DecayCorrection': 'Undefined', 'ImageType': ['DERIVED', 'PRIMARY', 'AXIAL', 'CT_SOM5 SPI'], 'PixelSpacing': [\"1.3671875\", \"1.3671875\"]}, 'study': {'AccessionNumber': 'PET4', 'InstitutionName': '', 'StudyDate': '20130712', 'StudyTime': '130846', 'StudyDescription': 'PET4', 'StudyID': '1', 'StudyInstanceUID': '1.3.12.2.1107.5.1.4.44873.30000013071206042370300000029', 'PatientWeight': \"61.0\", 'PatientHeight': \"1.68\"}, 'patient': {'PatientName': 'SIM^CH', 'PatientID': '13011101151005', 'PatientBirthDate': '19000101', 'PatientSex': 'F'}, 'path': '/media/deeplearning/SAMSUNG/AHL2011/AHL_Données_Manquantes_Romain/Salim_Decomp/13011101151005/PET4/DICOM/0000/0000/0002', 'files': 372, 'instance': {'PixelSpacing': [\"1.3671875\", \"1.3671875\"], 'ImagePosition': [\"-349.31640625\", \"-500.31640625\", \"-723.0\"], 'ImageOrientation': [\"1.0\", \"0.0\", \"0.0\", \"0.0\", \"1.0\", \"0.0\"], 'RescaleSlope': \"1.0\", 'RescaleIntercept': \"-1024.0\", 'SOPInstanceUID': '1.3.12.2.1107.5.1.4.44873.30000013071207410135900003286'}}\n",
      "6128\n",
      "6129\n",
      "6130\n",
      "6131\n",
      "6132\n",
      "6133\n",
      "6134\n",
      "wrong number of slice\n",
      "6135\n",
      "6136\n",
      "wrong number of slice\n",
      "6137\n",
      "6138\n",
      "6139\n",
      "wrong number of slice\n",
      "6140\n",
      "6141\n",
      "6142\n",
      "6143\n",
      "6144\n",
      "wrong number of slice\n",
      "6145\n",
      "6146\n",
      "6147\n",
      "6148\n",
      "6149\n",
      "6150\n",
      "File is missing DICOM File Meta Information header or the 'DICM' prefix is missing from the header. Use force=True to force reading.\n",
      "{'series': {'Manufacturer': 'SIEMENS', 'Modality': 'CT', 'SeriesDate': '20130408', 'SeriesTime': '131741', 'SeriesDescription': 'CT WB 4.0 eFoV', 'SeriesInstanceUID': '1.3.12.2.1107.5.1.4.44873.30000013040806565018700003254', 'SeriesNumber': \"3\", 'AcquisitionDate': '20130408', 'AcquisitionTime': '131705.470707', 'NumberOfSlices': 'Undefined', 'ImageInAcquisition': 'Undefined', 'Units': 'Undefined', 'DecayCorrection': 'Undefined', 'ImageType': ['DERIVED', 'PRIMARY', 'AXIAL', 'CT_SOM5 SPI'], 'PixelSpacing': [\"1.3671875\", \"1.3671875\"]}, 'study': {'AccessionNumber': 'PET0', 'InstitutionName': '', 'StudyDate': '20130408', 'StudyTime': '131510', 'StudyDescription': 'PET0', 'StudyID': '2', 'StudyInstanceUID': '1.3.12.2.1107.5.1.4.44873.30000013040805421771800000040', 'PatientWeight': \"59.0\", 'PatientHeight': \"1.68\"}, 'patient': {'PatientName': 'SIM^CH', 'PatientID': '13011101151005', 'PatientBirthDate': '19000101', 'PatientSex': 'F'}, 'path': '/media/deeplearning/SAMSUNG/AHL2011/AHL_Données_Manquantes_Romain/Salim_Decomp/AHL2011-Salim/13011101151005/PET0/imagys_AHL2011_13011101151005_5de5b0e4-0420-468a-acc3-408e4d0ff769', 'files': 430, 'instance': {'PixelSpacing': [\"1.3671875\", \"1.3671875\"], 'ImagePosition': [\"-349.31640625\", \"-464.31640625\", \"-276.0\"], 'ImageOrientation': [\"1.0\", \"0.0\", \"0.0\", \"0.0\", \"1.0\", \"0.0\"], 'RescaleSlope': \"1.0\", 'RescaleIntercept': \"-1024.0\", 'SOPInstanceUID': '1.3.12.2.1107.5.1.4.44873.30000013040806565018700003369'}}\n",
      "6151\n",
      "6152\n",
      "6153\n",
      "6154\n",
      "6155\n",
      "File is missing DICOM File Meta Information header or the 'DICM' prefix is missing from the header. Use force=True to force reading.\n",
      "{'series': {'Manufacturer': 'Philips', 'Modality': 'CT', 'SeriesDate': 'Undefined', 'SeriesTime': 'Undefined', 'SeriesDescription': 'Body-Low Dose CT', 'SeriesInstanceUID': '1.2.840.113704.1.111.7000.1375267978.8', 'SeriesNumber': \"2\", 'AcquisitionDate': '20130731', 'AcquisitionTime': '125323', 'NumberOfSlices': 'Undefined', 'ImageInAcquisition': 'Undefined', 'Units': 'Undefined', 'DecayCorrection': 'Undefined', 'ImageType': ['DERIVED', 'SECONDARY', 'AXIAL'], 'PixelSpacing': [\"1.171875\", \"1.171875\"]}, 'study': {'AccessionNumber': 'PET4', 'InstitutionName': '', 'StudyDate': '20130731', 'StudyTime': '125055', 'StudyDescription': 'PET4', 'StudyID': '31991', 'StudyInstanceUID': '1.2.250.1.38.2.1.12.5504139343233.20130731112514.1130094102', 'PatientWeight': \"55.0\", 'PatientHeight': \"1.75\"}, 'patient': {'PatientName': 'DEV^AD', 'PatientID': '13011101601005', 'PatientBirthDate': '19000101', 'PatientSex': 'M'}, 'path': '/media/deeplearning/SAMSUNG/AHL2011/AHL_Données_Manquantes_Romain/Salim_Decomp/AHL2011-Salim/13011101601005/PET4/imagys_AHL2011_13011101601005_5f01d7a6-6932-458e-b626-e2478d06edf6', 'files': 221, 'instance': {'PixelSpacing': [\"1.171875\", \"1.171875\"], 'ImagePosition': [\"-300.0\", \"-230.0\", \"-462.5\"], 'ImageOrientation': [\"1.0\", \"0.0\", \"0.0\", \"0.0\", \"1.0\", \"0.0\"], 'RescaleSlope': \"1.0\", 'RescaleIntercept': \"-2047.0\", 'SOPInstanceUID': '1.2.840.113704.1.111.948.1375268035.7218'}}\n",
      "6156\n",
      "6157\n",
      "File is missing DICOM File Meta Information header or the 'DICM' prefix is missing from the header. Use force=True to force reading.\n",
      "{'series': {'Manufacturer': 'Philips Medical Systems', 'Modality': 'PT', 'SeriesDate': '20130731', 'SeriesTime': '125433', 'SeriesDescription': '[WB_NAC] Body', 'SeriesInstanceUID': '1.3.46.670589.28.2.12.4.9187.6859.2.1244.0.1375270474', 'SeriesNumber': \"704740\", 'AcquisitionDate': '20130731', 'AcquisitionTime': '130344.401', 'NumberOfSlices': 276, 'ImageInAcquisition': 'Undefined', 'Units': 'CNTS', 'DecayCorrection': 'START', 'ImageType': ['ORIGINAL', 'PRIMARY'], 'PixelSpacing': [\"4.0\", \"4.0\"]}, 'study': {'AccessionNumber': 'PET4', 'InstitutionName': '', 'StudyDate': '20130731', 'StudyTime': '125429', 'StudyDescription': 'PET4', 'StudyID': '31991', 'StudyInstanceUID': '1.2.250.1.38.2.1.12.5504139343233.20130731112514.1130094102', 'PatientWeight': \"55.0\", 'PatientHeight': \"1.75\"}, 'patient': {'PatientName': 'DEV^AD', 'PatientID': '13011101601005', 'PatientBirthDate': '19000101', 'PatientSex': 'M'}, 'path': '/media/deeplearning/SAMSUNG/AHL2011/AHL_Données_Manquantes_Romain/Salim_Decomp/AHL2011-Salim/13011101601005/PET4/imagys_AHL2011_13011101601005_a9a546d3-a60b-4ce4-be42-3613a916c69a', 'files': 276, 'instance': {'PixelSpacing': [\"4.0\", \"4.0\"], 'ImagePosition': [\"-286.585938\", \"-216.585938\", \"-786.700012\"], 'ImageOrientation': [\"1.0\", \"0.0\", \"0.0\", \"0.0\", \"1.0\", \"0.0\"], 'RescaleSlope': \"1.0\", 'RescaleIntercept': \"0.0\", 'SOPInstanceUID': '1.3.46.670589.28.2.15.4.9187.6859.3.1140.190.1375270474'}, 'radiopharmaceutical': {'RadionuclideHalfLife': \"6586.199707\", 'TotalDose': \"296480992.0\", 'RadiopharmaceuticalStartDateTime': '20130731114800', 'RadiopharmaceuticalStartTime': '114800'}, 'pet_correction': ['DECY', 'RADL', 'DTIM', 'RAN', 'NORM'], 'philips_tags': {'PhilipsSUVFactor': 'Undefined', 'PhilipsBqMlFactor': 'Undefined'}}\n",
      "6158\n",
      "6159\n",
      "6160\n",
      "6161\n",
      "6162\n",
      "File is missing DICOM File Meta Information header or the 'DICM' prefix is missing from the header. Use force=True to force reading.\n",
      "{'series': {'Manufacturer': 'GE MEDICAL SYSTEMS', 'Modality': 'CT', 'SeriesDate': '20131007', 'SeriesTime': '131740', 'SeriesDescription': 'CT Diag 3.75mm', 'SeriesInstanceUID': '1.2.840.113619.2.55.3.2831211778.473.1381119478.880.4', 'SeriesNumber': \"4\", 'AcquisitionDate': '20131007', 'AcquisitionTime': '131808', 'NumberOfSlices': 'Undefined', 'ImageInAcquisition': 'Undefined', 'Units': 'Undefined', 'DecayCorrection': 'Undefined', 'ImageType': ['ORIGINAL', 'PRIMARY', 'AXIAL'], 'PixelSpacing': [\"1.367188\", \"1.367188\"]}, 'study': {'AccessionNumber': 'PET2', 'InstitutionName': '', 'StudyDate': '20131007', 'StudyTime': '131600', 'StudyDescription': 'PET2', 'StudyID': '14499', 'StudyInstanceUID': '1.2.250.1.31.1.0.0.0.40.9.4.0.20131007.94524.97.2.18964', 'PatientWeight': \"63.0\", 'PatientHeight': \"1.7\"}, 'patient': {'PatientName': 'TAR^YO', 'PatientID': '13011105341005', 'PatientBirthDate': '19000101', 'PatientSex': 'M'}, 'path': '/media/deeplearning/SAMSUNG/AHL2011/AHL_Données_Manquantes_Romain/Salim_Decomp/AHL2011-Salim/13011105341005/PET2/imagys_AHL2011_13011105341005_c7be735e-ca03-4671-a633-97386c05dbac', 'files': 239, 'instance': {'PixelSpacing': [\"1.367188\", \"1.367188\"], 'ImagePosition': [\"-350.0\", \"-350.0\", \"-82.75\"], 'ImageOrientation': [\"1.0\", \"0.0\", \"0.0\", \"0.0\", \"1.0\", \"0.0\"], 'RescaleSlope': \"1.0\", 'RescaleIntercept': \"-1024.0\", 'SOPInstanceUID': '1.2.840.113619.2.55.3.2831211778.473.1381119479.157.78'}}\n",
      "6163\n",
      "wrong number of slice\n",
      "6164\n",
      "6165\n",
      "6166\n",
      "6167\n",
      "File is missing DICOM File Meta Information header or the 'DICM' prefix is missing from the header. Use force=True to force reading.\n",
      "{'series': {'Manufacturer': 'GE MEDICAL SYSTEMS', 'Modality': 'CT', 'SeriesDate': '20131231', 'SeriesTime': '101008', 'SeriesDescription': 'CT Diag 3.75mm', 'SeriesInstanceUID': '1.2.840.113619.2.55.3.2831211778.645.1388466454.409.8', 'SeriesNumber': \"8\", 'AcquisitionDate': '20131231', 'AcquisitionTime': '101023', 'NumberOfSlices': 'Undefined', 'ImageInAcquisition': 'Undefined', 'Units': 'Undefined', 'DecayCorrection': 'Undefined', 'ImageType': ['ORIGINAL', 'PRIMARY', 'AXIAL'], 'PixelSpacing': [\"1.367188\", \"1.367188\"]}, 'study': {'AccessionNumber': 'PET4', 'InstitutionName': '', 'StudyDate': '20131231', 'StudyTime': '100757', 'StudyDescription': 'PET4', 'StudyID': '15159', 'StudyInstanceUID': '1.2.840.113619.2.55.3.2831211778.645.1388466454.185', 'PatientWeight': \"59.0\", 'PatientHeight': \"1.65\"}, 'patient': {'PatientName': 'NIC^RO', 'PatientID': '13011105341006', 'PatientBirthDate': '19000101', 'PatientSex': 'M'}, 'path': '/media/deeplearning/SAMSUNG/AHL2011/AHL_Données_Manquantes_Romain/Salim_Decomp/AHL2011-Salim/13011105341006/PET4/imagys_AHL2011_13011105341006_0b895648-ecf1-4769-8271-67a9ca4aada5', 'files': 239, 'instance': {'PixelSpacing': [\"1.367188\", \"1.367188\"], 'ImagePosition': [\"-350.0\", \"-350.0\", \"-54.25\"], 'ImageOrientation': [\"1.0\", \"0.0\", \"0.0\", \"0.0\", \"1.0\", \"0.0\"], 'RescaleSlope': \"1.0\", 'RescaleIntercept': \"-1024.0\", 'SOPInstanceUID': '1.2.840.113619.2.55.3.2831211778.645.1388466454.686.62'}}\n",
      "6168\n",
      "6169\n",
      "6170\n",
      "6171\n",
      "6172\n",
      "6173\n",
      "6174\n",
      "6175\n",
      "File is missing DICOM File Meta Information header or the 'DICM' prefix is missing from the header. Use force=True to force reading.\n",
      "{'series': {'Manufacturer': 'SIEMENS', 'Modality': 'PT', 'SeriesDate': '20140701', 'SeriesTime': '120016.460000', 'SeriesDescription': 'PET TAP Uncorrected (NAC)', 'SeriesInstanceUID': '1.3.12.2.1107.5.1.4.44861.30000014070107230795300001719', 'SeriesNumber': \"7\", 'AcquisitionDate': '20140701', 'AcquisitionTime': '121534.378000', 'NumberOfSlices': 215, 'ImageInAcquisition': 'Undefined', 'Units': 'PROPCPS', 'DecayCorrection': 'START', 'ImageType': ['ORIGINAL', 'PRIMARY'], 'PixelSpacing': [\"4.06271\", \"4.06271\"]}, 'study': {'AccessionNumber': 'PET4', 'InstitutionName': '', 'StudyDate': '20140701', 'StudyTime': '115641.053000', 'StudyDescription': 'PET4', 'StudyID': '31000035261723', 'StudyInstanceUID': '1.2.250.1.74.20140701103000.31000035261723', 'PatientWeight': \"62.0\", 'PatientHeight': 'Undefined'}, 'patient': {'PatientName': 'TAS^MI', 'PatientID': '53011101811008', 'PatientBirthDate': '19000101', 'PatientSex': 'M'}, 'path': '/media/deeplearning/SAMSUNG/AHL2011/AHL_Données_Manquantes_Romain/Salim_Decomp/AHL2011-Salim/53011101811008/PET4/imagys_AHL2011_53011101811008_189a05e0-d271-4911-9e17-394caf0ec666', 'files': 215, 'instance': {'PixelSpacing': [\"4.06271\", \"4.06271\"], 'ImagePosition': [\"-339.02263010086\", \"-510.04383299293\", \"-750.0\"], 'ImageOrientation': [\"1.0\", \"0.0\", \"0.0\", \"0.0\", \"1.0\", \"0.0\"], 'RescaleSlope': \"0.465953\", 'RescaleIntercept': \"0.0\", 'SOPInstanceUID': '1.3.12.2.1107.5.1.4.44861.30000014070107230795300001880'}, 'radiopharmaceutical': {'RadionuclideHalfLife': \"6586.2\", 'TotalDose': \"256000000.0\", 'RadiopharmaceuticalStartDateTime': 'Undefined', 'RadiopharmaceuticalStartTime': '105500.000000'}, 'pet_correction': ['NORM', 'DTIM', 'RADL', 'DECY'], 'philips_tags': {'PhilipsSUVFactor': 'Undefined', 'PhilipsBqMlFactor': 'Undefined'}}\n",
      "6176\n",
      "6177\n",
      "6178\n",
      "File is missing DICOM File Meta Information header or the 'DICM' prefix is missing from the header. Use force=True to force reading.\n",
      "{'series': {'Manufacturer': 'SIEMENS', 'Modality': 'CT', 'SeriesDate': '20140701', 'SeriesTime': '120058.491000', 'SeriesDescription': 'CT TAP 4.0 B20s', 'SeriesInstanceUID': '1.3.12.2.1107.5.1.4.44861.30000014070108095615300004136', 'SeriesNumber': \"4\", 'AcquisitionDate': '20140701', 'AcquisitionTime': '115921.149396', 'NumberOfSlices': 'Undefined', 'ImageInAcquisition': 'Undefined', 'Units': 'Undefined', 'DecayCorrection': 'Undefined', 'ImageType': ['ORIGINAL', 'PRIMARY', 'AXIAL', 'CT_SOM5 SPI'], 'PixelSpacing': [\"0.9765625\", \"0.9765625\"]}, 'study': {'AccessionNumber': 'PET4', 'InstitutionName': '', 'StudyDate': '20140701', 'StudyTime': '115641.053000', 'StudyDescription': 'PET4', 'StudyID': '31000035261723', 'StudyInstanceUID': '1.2.250.1.74.20140701103000.31000035261723', 'PatientWeight': \"62.0\", 'PatientHeight': 'Undefined'}, 'patient': {'PatientName': 'TAS^MI', 'PatientID': '53011101811008', 'PatientBirthDate': '19000101', 'PatientSex': 'M'}, 'path': '/media/deeplearning/SAMSUNG/AHL2011/AHL_Données_Manquantes_Romain/Salim_Decomp/AHL2011-Salim/53011101811008/PET4/imagys_AHL2011_53011101811008_e54aa25a-f21c-438f-bbbc-5419bf706c49', 'files': 430, 'instance': {'PixelSpacing': [\"0.9765625\", \"0.9765625\"], 'ImagePosition': [\"-249.51171875\", \"-418.51171875\", \"-157.4\"], 'ImageOrientation': [\"1.0\", \"0.0\", \"0.0\", \"0.0\", \"1.0\", \"0.0\"], 'RescaleSlope': \"1.0\", 'RescaleIntercept': \"-1024.0\", 'SOPInstanceUID': '1.3.12.2.1107.5.1.4.44861.30000014070108095615300004161'}}\n",
      "6179\n",
      "6180\n",
      "wrong number of slice\n",
      "6181\n",
      "6182\n",
      "6183\n",
      "6184\n",
      "6185\n",
      "6186\n",
      "6187\n",
      "wrong number of slice\n",
      "6188\n",
      "wrong number of slice\n",
      "6189\n",
      "6190\n",
      "6191\n"
     ]
    }
   ],
   "source": [
    "export_folder = '/home/deeplearning/AHL/JSON'\n",
    "\n",
    "not_image_folder=[]\n",
    "non_valid_series=[]\n",
    "non_attenuation_corrected=[]\n",
    "empty_folders = []\n",
    "secondary_series = []\n",
    "localizer_series = []\n",
    "\n",
    "for serie_path in series_paths:\n",
    "    print(series_paths.index(serie_path))\n",
    "    if(len(os.listdir(serie_path)) == 0):\n",
    "        empty_folders.append(serie_path)\n",
    "        continue\n",
    "    try:\n",
    "        dicom_serie = get_series_object(serie_path)\n",
    "        dicomsInfo = dicom_serie.get_series_details()\n",
    "        remove_bi_file(serie_path)\n",
    "        if( dicom_serie.is_image_modality() == False):\n",
    "            not_image_folder.append(serie_path)\n",
    "        elif (dicom_serie.is_series_valid() == False):\n",
    "            non_valid_series.append(serie_path)\n",
    "        elif(type(dicom_serie) == SeriesPT and dicom_serie.is_corrected_attenuation() == False):\n",
    "            non_attenuation_corrected.append(serie_path)\n",
    "        elif(dicom_serie.is_localizer_series() == True):\n",
    "            localizer_series.append(serie_path)\n",
    "        else:\n",
    "\n",
    "            write_json_file(export_folder, dicomsInfo['series']['SeriesInstanceUID'], dicomsInfo)\n",
    "            #print(\"json_file\")\n",
    "    except Exception as err:\n",
    "        print(err)\n",
    "        print(dicomsInfo)"
   ]
  },
  {
   "cell_type": "code",
   "execution_count": 24,
   "metadata": {
    "tags": []
   },
   "outputs": [
    {
     "output_type": "stream",
     "name": "stdout",
     "text": [
      "0\n65\n1752\n188\n0\n323\n"
     ]
    }
   ],
   "source": [
    "#print(not_image_folder)\n",
    "#print(non_valid_series)\n",
    "#print(non_attenuation_corrected)\n",
    "#print(empty_folders)\n",
    "#print(secondary_series)\n",
    "#print(localizer_series)\n",
    "\n",
    "print(len(not_image_folder))\n",
    "print(len(non_valid_series))\n",
    "print(len(non_attenuation_corrected))\n",
    "print(len(empty_folders))\n",
    "print(len(secondary_series))\n",
    "print(len(localizer_series))"
   ]
  },
  {
   "source": [
    "for localizer_serie in localizer_series:\n",
    "    shutil.rmtree(localizer_serie)\n",
    "\n",
    "for not_image in not_image_folder:\n",
    "    shutil.rmtree(not_image)\n",
    "\n",
    "for non_attenuation in non_attenuation_corrected:\n",
    "    shutil.rmtree(non_attenuation)\n",
    "\n",
    "for non_valid_serie in non_valid_series : \n",
    "    shutil.rmtree(non_valid_serie)\n",
    "\n",
    "for secondary_serie in secondary_series : \n",
    "    shutil.rmtree(secondary_serie)"
   ],
   "cell_type": "markdown",
   "metadata": {}
  },
  {
   "source": [
    "for empty_folder in empty_folders:\n",
    "    shutil.rmtree(empty_folder)"
   ],
   "cell_type": "markdown",
   "metadata": {}
  },
  {
   "cell_type": "code",
   "execution_count": 25,
   "metadata": {},
   "outputs": [],
   "source": [
    "write_json_file(\"/home/deeplearning/AHL\", \"wrong Series AHL\", json.dumps(non_valid_series))"
   ]
  }
 ]
}