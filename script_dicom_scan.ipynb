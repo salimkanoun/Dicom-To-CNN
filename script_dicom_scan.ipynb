{
 "nbformat": 4,
 "nbformat_minor": 2,
 "metadata": {
  "language_info": {
   "name": "python",
   "codemirror_mode": {
    "name": "ipython",
    "version": 2
   },
   "version": "3.8.2-final"
  },
  "orig_nbformat": 2,
  "file_extension": ".py",
  "mimetype": "text/x-python",
  "name": "python",
  "npconvert_exporter": "python",
  "pygments_lexer": "ipython2",
  "version": 2,
  "kernelspec": {
   "name": "python37564bitb347043b993a4ec0b11e0cd547f3ed0c",
   "display_name": "Python 3.7.5 64-bit"
  }
 },
 "cells": [
  {
   "cell_type": "code",
   "execution_count": null,
   "metadata": {},
   "outputs": [],
   "source": [
    "import os\n",
    "import json\n",
    "import shutil\n",
    "\n",
    "from library_dicom.dicom_processor.model.Series import Series\n",
    "from library_dicom.dicom_processor.model.SeriesPT import SeriesPT\n",
    "from library_dicom.dicom_processor.tools.folders import get_series_path, write_json_file, remove_bi_file\n",
    "from library_dicom.dicom_processor.tools.series import get_series_object\n"
   ]
  },
  {
   "cell_type": "code",
   "execution_count": null,
   "metadata": {},
   "outputs": [],
   "source": [
    "series_paths = get_series_path(\"/media/salim/DD 2To/AHL2011\")\n",
    "export_folder = '/media/salim/DD 2To/Json Ahl'"
   ]
  },
  {
   "cell_type": "code",
   "execution_count": null,
   "metadata": {},
   "outputs": [],
   "source": [
    "not_image_folder=[]\n",
    "non_valid_series=[]\n",
    "non_attenuation_corrected=[]\n",
    "empty_folders = []\n",
    "secondary_series = []\n",
    "localizer_series = []\n",
    "\n",
    "for serie_path in series_paths:\n",
    "    if(len(os.listdir(serie_path)) == 0):\n",
    "        empty_folders.append(serie_path)\n",
    "        continue\n",
    "    try:    \n",
    "        dicom_serie = get_series_object(serie_path)\n",
    "        dicomsInfo = dicom_serie.get_series_details()\n",
    "        json_string = json.dumps(dicomsInfo)\n",
    "        remove_bi_file(serie_path)\n",
    "        if( dicom_serie.is_image_modality() == False):\n",
    "            not_image_folder.append(serie_path)\n",
    "        elif (dicom_serie.is_series_valid() == False):\n",
    "            non_valid_series.append(serie_path)\n",
    "        elif(type(dicom_serie) == SeriesPT and dicom_serie.is_corrected_attenuation() == False):\n",
    "            non_attenuation_corrected.append(serie_path)\n",
    "        elif(dicom_serie.is_localizer_series() == True):\n",
    "            localizer_series.append(serie_path)\n",
    "        else:\n",
    "            write_json_file(export_folder, dicomsInfo['series']['SeriesInstanceUID'], json_string)\n",
    "    except Exception as err:\n",
    "        print(err)\n",
    "        print(serie_path)\n",
    "        print(dicomsInfo)\n",
    "    \n",
    "    \n",
    "    "
   ]
  },
  {
   "cell_type": "code",
   "execution_count": null,
   "metadata": {},
   "outputs": [],
   "source": [
    "#print(not_image_folder)\n",
    "#print(non_valid_series)\n",
    "#print(non_attenuation_corrected)\n",
    "print(empty_folders)\n",
    "#print(secondary_series)\n",
    "#print(localizer_series)"
   ]
  },
  {
   "cell_type": "code",
   "execution_count": null,
   "metadata": {},
   "outputs": [],
   "source": [
    "for localizer_serie in localizer_series:\n",
    "    shutil.rmtree(localizer_serie)\n",
    "\n",
    "for not_image in not_image_folder:\n",
    "    shutil.rmtree(not_image)\n",
    "\n",
    "for non_attenuation in non_attenuation_corrected:\n",
    "    shutil.rmtree(non_attenuation)"
   ]
  },
  {
   "cell_type": "code",
   "execution_count": null,
   "metadata": {},
   "outputs": [],
   "source": [
    "for empty_folder in empty_folders:\n",
    "    shutil.rmtree(empty_folder)"
   ]
  },
  {
   "cell_type": "code",
   "execution_count": null,
   "metadata": {},
   "outputs": [],
   "source": [
    "write_json_file(\"/media/salim/DD 2To/Erreur GAINED\", \"wrong Series Gained\", json.dumps(non_valid_series))"
   ]
  }
 ]
}