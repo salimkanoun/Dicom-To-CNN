{
 "nbformat": 4,
 "nbformat_minor": 2,
 "metadata": {
  "language_info": {
   "name": "python",
   "codemirror_mode": {
    "name": "ipython",
    "version": 2
   },
   "version": "3.8.5-final"
  },
  "orig_nbformat": 2,
  "file_extension": ".py",
  "mimetype": "text/x-python",
  "name": "python",
  "npconvert_exporter": "python",
  "pygments_lexer": "ipython2",
  "version": 2,
  "kernelspec": {
   "name": "python38564bit9a8409779cd04c3cbd0c5f1e859a644e",
   "display_name": "Python 3.8.5 64-bit"
  }
 },
 "cells": [
  {
   "cell_type": "code",
   "execution_count": 25,
   "metadata": {},
   "outputs": [],
   "source": [
    "import os\n",
    "import json\n",
    "import shutil\n",
    "\n",
    "from library_dicom.dicom_processor.model.Series import Series\n",
    "from library_dicom.dicom_processor.model.SeriesPT import SeriesPT\n",
    "from library_dicom.dicom_processor.tools.folders import *\n",
    "from library_dicom.dicom_processor.tools.series import get_series_object\n",
    ""
   ]
  },
  {
   "cell_type": "code",
   "execution_count": 26,
   "metadata": {},
   "outputs": [],
   "source": [
    "series_paths = get_series_path(\"/media/deeplearning/Elements/RElevance envoi 2\")\n",
    "export_folder = '/media/deeplearning/78ca2911-9e9f-4f78-b80a-848024b95f92/RELEVANCE_json'"
   ]
  },
  {
   "cell_type": "code",
   "execution_count": 15,
   "metadata": {
    "tags": [
     "outputPrepend"
    ]
   },
   "outputs": [
    {
     "output_type": "stream",
     "name": "stdout",
     "text": [
      "rning/Elements/RElevance envoi 2/Envoi18/62011245111101/PET_24weeks/1.3.46.670589.33.1.40683272141174245697.2211223498473436350', 'files': 255, 'instance': {'PixelSpacing': [\"4.0\", \"4.0\"], 'ImagePosition': [\"-286.585938\", \"-216.585938\", \"-272.399994\"], 'ImageOrientation': [\"1.0\", \"0.0\", \"0.0\", \"0.0\", \"1.0\", \"0.0\"], 'RescaleSlope': \"1.0\", 'RescaleIntercept': \"0.0\", 'SOPInstanceUID': '1.3.46.670589.33.1.7929473923481531456.2893831155476475083'}, 'radiopharmaceutical': {'RadionuclideHalfLife': \"6586.199707\", 'TotalDose': \"147000000.0\", 'RadiopharmaceuticalStartDateTime': '20140807110000', 'RadiopharmaceuticalStartTime': '110000'}, 'pet_correction': ['DECY', 'RADL', 'DTIM', 'RAN', 'NORM'], 'philips_tags': {'PhilipsSUVFactor': 'Undefined', 'PhilipsBqMlFactor': 'Undefined'}}\n",
      "wrong number of slice\n",
      "wrong number of slice\n",
      "wrong number of slice\n",
      "wrong number of slice\n",
      "wrong number of slice\n",
      "wrong number of slice\n",
      "wrong number of slice\n",
      "wrong number of slice\n",
      "wrong number of slice\n",
      "wrong number of slice\n"
     ]
    }
   ],
   "source": [
    "not_image_folder=[]\n",
    "non_valid_series=[]\n",
    "non_attenuation_corrected=[]\n",
    "empty_folders = []\n",
    "secondary_series = []\n",
    "localizer_series = []\n",
    "\n",
    "for serie_path in series_paths:\n",
    "    if(len(os.listdir(serie_path)) == 0):\n",
    "        empty_folders.append(serie_path)\n",
    "        continue\n",
    "    try:\n",
    "        dicom_serie = get_series_object(serie_path)\n",
    "        dicomsInfo = dicom_serie.get_series_details()\n",
    "        remove_bi_file(serie_path)\n",
    "        if( dicom_serie.is_image_modality() == False):\n",
    "            not_image_folder.append(serie_path)\n",
    "        elif (dicom_serie.is_series_valid() == False):\n",
    "            non_valid_series.append(serie_path)\n",
    "        elif(type(dicom_serie) == SeriesPT and dicom_serie.is_corrected_attenuation() == False):\n",
    "            non_attenuation_corrected.append(serie_path)\n",
    "        elif(dicom_serie.is_localizer_series() == True):\n",
    "            localizer_series.append(serie_path)\n",
    "        else:\n",
    "            write_json_file(export_folder, dicomsInfo['series']['SeriesInstanceUID'], dicomsInfo)\n",
    "    except Exception as err:\n",
    "        print(err)\n",
    "        print(dicomsInfo)\n",
    "    \n",
    "    \n",
    "    "
   ]
  },
  {
   "cell_type": "code",
   "execution_count": 19,
   "metadata": {},
   "outputs": [],
   "source": [
    "#index/study_uid des séries que l'on a déjà nettoyer dans ENVOI 2\n",
    "index = []\n",
    "for serie_path in series_paths : \n",
    "    study_uid = serie_path.split('/')[-1]\n",
    "    index.append(study_uid)\n",
    "\n",
    "write_json_file('/media/deeplearning/78ca2911-9e9f-4f78-b80a-848024b95f92/', 'index_RELEVANCE', index)"
   ]
  },
  {
   "cell_type": "code",
   "execution_count": null,
   "metadata": {},
   "outputs": [],
   "source": []
  },
  {
   "cell_type": "code",
   "execution_count": 21,
   "metadata": {
    "tags": [
     "outputPrepend"
    ]
   },
   "outputs": [
    {
     "output_type": "stream",
     "name": "stdout",
     "text": [
      "media/deeplearning/Elements/RElevance envoi 2/Envoi9/12011101241110/PET_Screening/1.3.12.2.1107.5.1.4.44977.30000013020807055041900005564', '/media/deeplearning/Elements/RElevance envoi 2/Envoi9/12011101241111/PET_Screening/1.3.12.2.1107.5.1.4.44977.30000013032107072234200006642', '/media/deeplearning/Elements/RElevance envoi 2/Envoi9/12011101241114/PET_24weeks/1.3.12.2.1107.5.1.4.44977.30000013122007203561500001131']\n[]\n[]\n['/media/deeplearning/Elements/RElevance envoi 2/Envoi17/52011101871108/PET_24weeks/1.3.12.2.1107.5.1.4.11003.30000014100606231957000000518', '/media/deeplearning/Elements/RElevance envoi 2/Envoi17/52011101871109/PET_24weeks/1.2.250.1.59.455.5.345052217519.16.14.3918913205752.2', '/media/deeplearning/Elements/RElevance envoi 2/Envoi17/52011101871109/PET_Screening/1.3.12.2.1107.5.1.4.11003.30000014070106564344100001620', '/media/deeplearning/Elements/RElevance envoi 2/Envoi17/52011101871111/PET_Screening/1.3.12.2.1107.5.1.4.41145.2.0.341005418203021']\n0\n10\n169\n0\n0\n4\n"
     ]
    }
   ],
   "source": [
    "print(not_image_folder)\n",
    "print(non_valid_series)\n",
    "print(non_attenuation_corrected)\n",
    "print(empty_folders)\n",
    "print(secondary_series)\n",
    "print(localizer_series)\n",
    "\n",
    "print(len(not_image_folder))\n",
    "print(len(non_valid_series))\n",
    "print(len(non_attenuation_corrected))\n",
    "print(len(empty_folders))\n",
    "print(len(secondary_series))\n",
    "print(len(localizer_series))"
   ]
  },
  {
   "cell_type": "code",
   "execution_count": 22,
   "metadata": {},
   "outputs": [],
   "source": [
    "for localizer_serie in localizer_series:\n",
    "    shutil.rmtree(localizer_serie)\n",
    "\n",
    "for not_image in not_image_folder:\n",
    "    shutil.rmtree(not_image)\n",
    "\n",
    "for non_attenuation in non_attenuation_corrected:\n",
    "    shutil.rmtree(non_attenuation)\n",
    "\n",
    "for non_valid_serie in non_valid_series : \n",
    "    shutil.rmtree(non_valid_serie)\n",
    "\n",
    "for secondary_serie in secondary_series : \n",
    "    shutil.rmtree(secondary_serie)"
   ]
  },
  {
   "cell_type": "code",
   "execution_count": 23,
   "metadata": {},
   "outputs": [],
   "source": [
    "for empty_folder in empty_folders:\n",
    "    shutil.rmtree(empty_folder)"
   ]
  },
  {
   "cell_type": "code",
   "execution_count": 24,
   "metadata": {},
   "outputs": [],
   "source": [
    "write_json_file(\"/media/deeplearning/78ca2911-9e9f-4f78-b80a-848024b95f92\", \"wrong Series Relevance\", json.dumps(non_valid_series))"
   ]
  }
 ]
}