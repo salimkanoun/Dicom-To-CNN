{
 "nbformat": 4,
 "nbformat_minor": 2,
 "metadata": {
  "language_info": {
   "name": "python",
   "codemirror_mode": {
    "name": "ipython",
    "version": 2
   },
   "version": "3.7.5-final"
  },
  "orig_nbformat": 2,
  "file_extension": ".py",
  "mimetype": "text/x-python",
  "name": "python",
  "npconvert_exporter": "python",
  "pygments_lexer": "ipython2",
  "version": 2,
  "kernelspec": {
   "name": "python37564bitb347043b993a4ec0b11e0cd547f3ed0c",
   "display_name": "Python 3.7.5 64-bit"
  }
 },
 "cells": [
  {
   "cell_type": "code",
   "execution_count": null,
   "metadata": {},
   "outputs": [],
   "source": [
    "import os\n",
    "import json\n",
    "\n",
    "from library_dicom.dicom_processor.model.Series import Series\n",
    "from library_dicom.dicom_processor.model.SeriesPT import SeriesPT\n",
    "from library_dicom.dicom_processor.tools.folders import get_series_path, write_json_file, remove_bi_file\n",
    "from library_dicom.dicom_processor.tools.series import get_series_object\n"
   ]
  },
  {
   "cell_type": "code",
   "execution_count": null,
   "metadata": {},
   "outputs": [],
   "source": [
    "batch_path = []\n",
    "for i in range(0,3):\n",
    "    batch_path.append('/media/salim/DD 2To/AHL2011/AHLGroupe'+str(i))"
   ]
  },
  {
   "cell_type": "code",
   "execution_count": null,
   "metadata": {},
   "outputs": [],
   "source": [
    "series_paths = []\n",
    "for input_path in batch_path:\n",
    "    series_paths_current = get_series_path(input_path)\n",
    "    series_paths = series_paths + series_paths_current\n",
    "export_folder = '/media/salim/DD 2To/Json Ahl'"
   ]
  },
  {
   "cell_type": "code",
   "execution_count": null,
   "metadata": {},
   "outputs": [],
   "source": [
    "not_image_folder=[]\n",
    "non_valid_series=[]\n",
    "non_attenuation_corrected=[]\n",
    "empty_folders = []\n",
    "\n",
    "for serie_path in series_paths:\n",
    "    if(len(os.listdir(serie_path)) == 0):\n",
    "        empty_folders.append(serie_path)\n",
    "        continue\n",
    "    dicom_serie = get_series_object(serie_path)\n",
    "    dicomsInfo = dicom_serie.get_series_details()\n",
    "    try:\n",
    "        json_string = json.dumps(dicomsInfo)\n",
    "    except Exception as err:\n",
    "        print(err)\n",
    "        print(serie_path)\n",
    "        print(dicomsInfo)\n",
    "    remove_bi_file(serie_path)\n",
    "    if(dicom_serie.is_image_modality() == False):\n",
    "        not_image_folder.append(serie_path)\n",
    "    if(dicom_serie.is_series_valid() == False):\n",
    "        non_valid_series.append(serie_path)\n",
    "    if(type(dicom_serie) == SeriesPT and dicom_serie.is_corrected_attenuation() == False):\n",
    "        non_attenuation_corrected.append(serie_path)\n",
    "    write_json_file(export_folder, dicomsInfo['study']['StudyInstanceUID'], json_string)\n",
    "    "
   ]
  },
  {
   "cell_type": "code",
   "execution_count": null,
   "metadata": {},
   "outputs": [],
   "source": [
    "print(not_image_folder)\n",
    "print(non_valid_series)\n",
    "print(non_attenuation_corrected)\n",
    "print(empty_folders)"
   ]
  },
  {
   "cell_type": "code",
   "execution_count": null,
   "metadata": {},
   "outputs": [],
   "source": [
    "import shutil\n",
    "for image_folder in not_image_folder:\n",
    "    shutil.rmtree(image_folder)\n",
    "\n",
    "for empty_folder in empty_folders:\n",
    "    shutil.rmtree(empty_folder)\n",
    "\n",
    "for non_attenuation in non_attenuation_corrected:\n",
    "    shutil.rmtree(non_attenuation)"
   ]
  },
  {
   "cell_type": "code",
   "execution_count": null,
   "metadata": {},
   "outputs": [],
   "source": []
  }
 ]
}