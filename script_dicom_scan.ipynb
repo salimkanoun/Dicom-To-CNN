{
 "nbformat": 4,
 "nbformat_minor": 2,
 "metadata": {
  "language_info": {
   "name": "python",
   "codemirror_mode": {
    "name": "ipython",
    "version": 2
   },
   "version": "3.8.2-final"
  },
  "orig_nbformat": 2,
  "file_extension": ".py",
  "mimetype": "text/x-python",
  "name": "python",
  "npconvert_exporter": "python",
  "pygments_lexer": "ipython2",
  "version": 2,
  "kernelspec": {
   "name": "python37564bitb347043b993a4ec0b11e0cd547f3ed0c",
   "display_name": "Python 3.7.5 64-bit"
  }
 },
 "cells": [
  {
   "cell_type": "code",
   "execution_count": 1,
   "metadata": {},
   "outputs": [],
   "source": [
    "import os\n",
    "import json\n",
    "import shutil\n",
    "\n",
    "from library_dicom.dicom_processor.model.Series import Series\n",
    "from library_dicom.dicom_processor.model.SeriesPT import SeriesPT\n",
    "from library_dicom.dicom_processor.tools.folders import *\n",
    "from library_dicom.dicom_processor.tools.series import get_series_object\n"
   ]
  },
  {
   "cell_type": "code",
   "execution_count": 2,
   "metadata": {},
   "outputs": [],
   "source": [
    "series_paths = get_series_path(\"/media/salim/DD 2To/GAINED\")\n",
    "export_folder = '/media/salim/DD 2To/Json GAINED'"
   ]
  },
  {
   "cell_type": "code",
   "execution_count": 3,
   "metadata": {},
   "outputs": [
    {
     "name": "stdout",
     "output_type": "stream",
     "text": "Object of type MultiValue is not JSON serializable\n{'series': {'Manufacturer': 'SIEMENS', 'Modality': 'CT', 'SeriesDate': '20130422', 'SeriesTime': '175140.156000', 'SeriesDescription': 'CT TAP Fort  3.0   B20s', 'SeriesInstanceUID': '1.3.12.2.1107.5.1.4.1007.30000013042207094550000016401', 'SeriesNumber': \"4\", 'AcquisitionDate': '20130422', 'AcquisitionTime': '175055.786000', 'NumberOfSlices': 'Undefined', 'ImageInAcquisition': 'Undefined', 'Units': 'Undefined', 'DecayCorrection': 'Undefined', 'ImageType': ['ORIGINAL', 'PRIMARY', 'AXIAL', 'CT_SOM5 SPI']}, 'study': {'AccessionNumber': 'PET4', 'InstitutionName': 'Undefined', 'StudyDate': '20130422', 'StudyTime': '174018.562000', 'StudyDescription': 'PET4', 'StudyID': '', 'StudyInstanceUID': '1.2.250.1.199.10.90001.94039.20130422154154', 'PatientWeight': \"72.0\", 'PatientHeight': 'Undefined'}, 'patient': {'PatientName': '51011101881005', 'PatientID': '51011101881005', 'PatientBirthDate': '19000101', 'PatientSex': 'F'}, 'path': '/media/salim/DD 2To/GAINED/Batch56/51011101881005/PET4/1.3.12.2.1107.5.1.4.1007.30000013042207094550000016401', 'files': 364, 'instance': {'ImagePosition': [-249.51171875, -395.01171875, -847.5], 'ImageOrientation': [1, 0, 0, 0, 1, 0], 'RescaleSlope': \"1.0\", 'RescaleIntercept': \"-1024.0\", 'PixelSpacing': [0.9765625, 0.9765625], 'SliceLocation': \"-847.5\", 'SOPInstanceUID': '1.3.12.2.1107.5.1.4.1007.30000013042207094550000016511'}}\nObject of type MultiValue is not JSON serializable\n{'series': {'Manufacturer': 'SIEMENS', 'Modality': 'PT', 'SeriesDate': '20130422', 'SeriesTime': '175130.000000', 'SeriesDescription': 'PET TAP Fort Corrected', 'SeriesInstanceUID': '1.3.12.2.1107.5.1.4.1007.30000013042206060156200047657', 'SeriesNumber': \"3\", 'AcquisitionDate': '20130422', 'AcquisitionTime': '180354.999973', 'NumberOfSlices': 357, 'ImageInAcquisition': 'Undefined', 'Units': 'BQML', 'DecayCorrection': 'START', 'ImageType': ['ORIGINAL', 'PRIMARY']}, 'study': {'AccessionNumber': 'PET4', 'InstitutionName': 'Undefined', 'StudyDate': '20130422', 'StudyTime': '174018.562000', 'StudyDescription': 'PET4', 'StudyID': '', 'StudyInstanceUID': '1.2.250.1.199.10.90001.94039.20130422154154', 'PatientWeight': \"72.0\", 'PatientHeight': 'Undefined'}, 'patient': {'PatientName': '51011101881005', 'PatientID': '51011101881005', 'PatientBirthDate': '19000101', 'PatientSex': 'F'}, 'path': '/media/salim/DD 2To/GAINED/Batch56/51011101881005/PET4/1.3.12.2.1107.5.1.4.1007.30000013042206060156200047657', 'files': 357, 'instance': {'ImagePosition': [-408.995, -553.595, -725.897], 'ImageOrientation': [1, 0, 0, 0, 1, 0], 'RescaleSlope': \"7.4424935651723\", 'RescaleIntercept': \"0.0\", 'PixelSpacing': [4.07283, 4.07283], 'SliceLocation': \"-725.897\", 'SOPInstanceUID': '1.3.12.2.1107.5.1.4.1007.30000013042206060156200047609'}, 'radiopharmaceutical': {'RadionuclideHalfLife': \"6586.2\", 'TotalDose': \"211000000.0\", 'RadiopharmaceuticalStartDateTime': 'Undefined', 'RadiopharmaceuticalStartTime': '165030.000000'}, 'pet_correction': ['NORM', 'DTIM', 'ATTN', 'SCAT', 'DECY', 'RAN'], 'philips_tags': {}}\nObject of type MultiValue is not JSON serializable\n{'series': {'Manufacturer': 'SIEMENS', 'Modality': 'PT', 'SeriesDate': '20130116', 'SeriesTime': '161049.000000', 'SeriesDescription': 'PET TAP Fort Corrected', 'SeriesInstanceUID': '1.3.12.2.1107.5.1.4.1007.30000013011609501606200026079', 'SeriesNumber': \"4\", 'AcquisitionDate': '20130116', 'AcquisitionTime': '162007.999992', 'NumberOfSlices': 419, 'ImageInAcquisition': 'Undefined', 'Units': 'BQML', 'DecayCorrection': 'START', 'ImageType': ['ORIGINAL', 'PRIMARY']}, 'study': {'AccessionNumber': 'PET0', 'InstitutionName': 'Undefined', 'StudyDate': '20130116', 'StudyTime': '160616.984000', 'StudyDescription': 'PET0', 'StudyID': '', 'StudyInstanceUID': '1.2.250.1.199.10.90001.90039.20130116155104', 'PatientWeight': \"72.0\", 'PatientHeight': 'Undefined'}, 'patient': {'PatientName': '51011101881005', 'PatientID': '51011101881005', 'PatientBirthDate': '19000101', 'PatientSex': 'F'}, 'path': '/media/salim/DD 2To/GAINED/Batch56/51011101881005/PET0/1.3.12.2.1107.5.1.4.1007.30000013011609501606200026079', 'files': 419, 'instance': {'ImagePosition': [-408.9943, -562.0948, -124.926], 'ImageOrientation': [1, 0, 0, 0, 1, 0], 'RescaleSlope': \"13.33658350322\", 'RescaleIntercept': \"0.0\", 'PixelSpacing': [4.07283, 4.07283], 'SliceLocation': \"-124.926\", 'SOPInstanceUID': '1.3.12.2.1107.5.1.4.1007.30000013011609501606200025931'}, 'radiopharmaceutical': {'RadionuclideHalfLife': \"6586.2\", 'TotalDose': \"239000000.0\", 'RadiopharmaceuticalStartDateTime': 'Undefined', 'RadiopharmaceuticalStartTime': '151028.000000'}, 'pet_correction': ['NORM', 'DTIM', 'ATTN', 'SCAT', 'DECY', 'RAN'], 'philips_tags': {}}\nObject of type MultiValue is not JSON serializable\n{'series': {'Manufacturer': 'SIEMENS', 'Modality': 'CT', 'SeriesDate': '20130116', 'SeriesTime': '161109.343000', 'SeriesDescription': 'CT TAP Fort  3.0   B20s', 'SeriesInstanceUID': '1.3.12.2.1107.5.1.4.1007.30000013011518195596800009054', 'SeriesNumber': \"3\", 'AcquisitionDate': '20130116', 'AcquisitionTime': '161029.238000', 'NumberOfSlices': 'Undefined', 'ImageInAcquisition': 'Undefined', 'Units': 'Undefined', 'DecayCorrection': 'Undefined', 'ImageType': ['ORIGINAL', 'PRIMARY', 'AXIAL', 'CT_SOM5 SPI']}, 'study': {'AccessionNumber': 'PET0', 'InstitutionName': 'Undefined', 'StudyDate': '20130116', 'StudyTime': '160616.984000', 'StudyDescription': 'PET0', 'StudyID': '', 'StudyInstanceUID': '1.2.250.1.199.10.90001.90039.20130116155104', 'PatientWeight': \"72.0\", 'PatientHeight': 'Undefined'}, 'patient': {'PatientName': '51011101881005', 'PatientID': '51011101881005', 'PatientBirthDate': '19000101', 'PatientSex': 'F'}, 'path': '/media/salim/DD 2To/GAINED/Batch56/51011101881005/PET0/1.3.12.2.1107.5.1.4.1007.30000013011518195596800009054', 'files': 426, 'instance': {'ImagePosition': [-249.51171875, -403.51171875, -442], 'ImageOrientation': [1, 0, 0, 0, 1, 0], 'RescaleSlope': \"1.0\", 'RescaleIntercept': \"-1024.0\", 'PixelSpacing': [0.9765625, 0.9765625], 'SliceLocation': \"-442.0\", 'SOPInstanceUID': '1.3.12.2.1107.5.1.4.1007.30000013011518195596800009363'}}\n"
    },
    {
     "ename": "KeyboardInterrupt",
     "evalue": "",
     "output_type": "error",
     "traceback": [
      "\u001b[0;31m---------------------------------------------------------------------------\u001b[0m",
      "\u001b[0;31mKeyboardInterrupt\u001b[0m                         Traceback (most recent call last)",
      "\u001b[0;32m<ipython-input-3-b7bad5f67c0a>\u001b[0m in \u001b[0;36m<module>\u001b[0;34m\u001b[0m\n\u001b[1;32m     16\u001b[0m         \u001b[0;32mif\u001b[0m\u001b[0;34m(\u001b[0m \u001b[0mdicom_serie\u001b[0m\u001b[0;34m.\u001b[0m\u001b[0mis_image_modality\u001b[0m\u001b[0;34m(\u001b[0m\u001b[0;34m)\u001b[0m \u001b[0;34m==\u001b[0m \u001b[0;32mFalse\u001b[0m\u001b[0;34m)\u001b[0m\u001b[0;34m:\u001b[0m\u001b[0;34m\u001b[0m\u001b[0;34m\u001b[0m\u001b[0m\n\u001b[1;32m     17\u001b[0m             \u001b[0mnot_image_folder\u001b[0m\u001b[0;34m.\u001b[0m\u001b[0mappend\u001b[0m\u001b[0;34m(\u001b[0m\u001b[0mserie_path\u001b[0m\u001b[0;34m)\u001b[0m\u001b[0;34m\u001b[0m\u001b[0;34m\u001b[0m\u001b[0m\n\u001b[0;32m---> 18\u001b[0;31m         \u001b[0;32melif\u001b[0m \u001b[0;34m(\u001b[0m\u001b[0mdicom_serie\u001b[0m\u001b[0;34m.\u001b[0m\u001b[0mis_series_valid\u001b[0m\u001b[0;34m(\u001b[0m\u001b[0;34m)\u001b[0m \u001b[0;34m==\u001b[0m \u001b[0;32mFalse\u001b[0m\u001b[0;34m)\u001b[0m\u001b[0;34m:\u001b[0m\u001b[0;34m\u001b[0m\u001b[0;34m\u001b[0m\u001b[0m\n\u001b[0m\u001b[1;32m     19\u001b[0m             \u001b[0mnon_valid_series\u001b[0m\u001b[0;34m.\u001b[0m\u001b[0mappend\u001b[0m\u001b[0;34m(\u001b[0m\u001b[0mserie_path\u001b[0m\u001b[0;34m)\u001b[0m\u001b[0;34m\u001b[0m\u001b[0;34m\u001b[0m\u001b[0m\n\u001b[1;32m     20\u001b[0m         \u001b[0;32melif\u001b[0m\u001b[0;34m(\u001b[0m\u001b[0mtype\u001b[0m\u001b[0;34m(\u001b[0m\u001b[0mdicom_serie\u001b[0m\u001b[0;34m)\u001b[0m \u001b[0;34m==\u001b[0m \u001b[0mSeriesPT\u001b[0m \u001b[0;32mand\u001b[0m \u001b[0mdicom_serie\u001b[0m\u001b[0;34m.\u001b[0m\u001b[0mis_corrected_attenuation\u001b[0m\u001b[0;34m(\u001b[0m\u001b[0;34m)\u001b[0m \u001b[0;34m==\u001b[0m \u001b[0;32mFalse\u001b[0m\u001b[0;34m)\u001b[0m\u001b[0;34m:\u001b[0m\u001b[0;34m\u001b[0m\u001b[0;34m\u001b[0m\u001b[0m\n",
      "\u001b[0;32m~/library-DICOM/library_dicom/dicom_processor/model/Series.py\u001b[0m in \u001b[0;36mis_series_valid\u001b[0;34m(self)\u001b[0m\n\u001b[1;32m     68\u001b[0m         \u001b[0;32mfor\u001b[0m \u001b[0mfileName\u001b[0m \u001b[0;32min\u001b[0m \u001b[0mself\u001b[0m\u001b[0;34m.\u001b[0m\u001b[0mfile_names\u001b[0m\u001b[0;34m:\u001b[0m\u001b[0;34m\u001b[0m\u001b[0;34m\u001b[0m\u001b[0m\n\u001b[1;32m     69\u001b[0m             \u001b[0mdicomInstance\u001b[0m \u001b[0;34m=\u001b[0m \u001b[0mInstance\u001b[0m\u001b[0;34m(\u001b[0m\u001b[0mos\u001b[0m\u001b[0;34m.\u001b[0m\u001b[0mpath\u001b[0m\u001b[0;34m.\u001b[0m\u001b[0mjoin\u001b[0m\u001b[0;34m(\u001b[0m\u001b[0mself\u001b[0m\u001b[0;34m.\u001b[0m\u001b[0mpath\u001b[0m\u001b[0;34m,\u001b[0m \u001b[0mfileName\u001b[0m\u001b[0;34m)\u001b[0m\u001b[0;34m,\u001b[0m \u001b[0mload_image\u001b[0m\u001b[0;34m=\u001b[0m\u001b[0;32mFalse\u001b[0m\u001b[0;34m)\u001b[0m\u001b[0;34m\u001b[0m\u001b[0;34m\u001b[0m\u001b[0m\n\u001b[0;32m---> 70\u001b[0;31m             \u001b[0;32mif\u001b[0m \u001b[0;34m(\u001b[0m\u001b[0mdicomInstance\u001b[0m\u001b[0;34m.\u001b[0m\u001b[0mget_series_tags\u001b[0m\u001b[0;34m(\u001b[0m\u001b[0;34m)\u001b[0m\u001b[0;34m[\u001b[0m\u001b[0;34m'SeriesInstanceUID'\u001b[0m\u001b[0;34m]\u001b[0m \u001b[0;34m!=\u001b[0m \u001b[0mfirstDicomDetails\u001b[0m\u001b[0;34m[\u001b[0m\u001b[0;34m'series'\u001b[0m\u001b[0;34m]\u001b[0m\u001b[0;34m[\u001b[0m\u001b[0;34m'SeriesInstanceUID'\u001b[0m\u001b[0;34m]\u001b[0m\u001b[0;34m)\u001b[0m\u001b[0;34m:\u001b[0m\u001b[0;34m\u001b[0m\u001b[0;34m\u001b[0m\u001b[0m\n\u001b[0m\u001b[1;32m     71\u001b[0m                 \u001b[0mprint\u001b[0m\u001b[0;34m(\u001b[0m\u001b[0;34m'Not same Series Instance UID'\u001b[0m\u001b[0;34m)\u001b[0m\u001b[0;34m\u001b[0m\u001b[0;34m\u001b[0m\u001b[0m\n\u001b[1;32m     72\u001b[0m                 \u001b[0;32mreturn\u001b[0m \u001b[0;32mFalse\u001b[0m\u001b[0;34m\u001b[0m\u001b[0;34m\u001b[0m\u001b[0m\n",
      "\u001b[0;32m~/library-DICOM/library_dicom/dicom_processor/model/Instance.py\u001b[0m in \u001b[0;36mget_series_tags\u001b[0;34m(self)\u001b[0m\n\u001b[1;32m     29\u001b[0m         \u001b[0mseries_tags\u001b[0m\u001b[0;34m=\u001b[0m\u001b[0;34m{\u001b[0m\u001b[0;34m}\u001b[0m\u001b[0;34m\u001b[0m\u001b[0;34m\u001b[0m\u001b[0m\n\u001b[1;32m     30\u001b[0m         \u001b[0;32mfor\u001b[0m \u001b[0mtag_address\u001b[0m \u001b[0;32min\u001b[0m \u001b[0mTagsSeries\u001b[0m\u001b[0;34m:\u001b[0m\u001b[0;34m\u001b[0m\u001b[0;34m\u001b[0m\u001b[0m\n\u001b[0;32m---> 31\u001b[0;31m             \u001b[0;32mif\u001b[0m \u001b[0mtag_address\u001b[0m\u001b[0;34m.\u001b[0m\u001b[0mvalue\u001b[0m \u001b[0;32min\u001b[0m \u001b[0mself\u001b[0m\u001b[0;34m.\u001b[0m\u001b[0mdicomData\u001b[0m \u001b[0;34m:\u001b[0m\u001b[0;34m\u001b[0m\u001b[0;34m\u001b[0m\u001b[0m\n\u001b[0m\u001b[1;32m     32\u001b[0m                 \u001b[0mseries_tags\u001b[0m\u001b[0;34m[\u001b[0m\u001b[0mtag_address\u001b[0m\u001b[0;34m.\u001b[0m\u001b[0mname\u001b[0m\u001b[0;34m]\u001b[0m \u001b[0;34m=\u001b[0m \u001b[0mself\u001b[0m\u001b[0;34m.\u001b[0m\u001b[0mdicomData\u001b[0m\u001b[0;34m[\u001b[0m\u001b[0mtag_address\u001b[0m\u001b[0;34m.\u001b[0m\u001b[0mvalue\u001b[0m\u001b[0;34m]\u001b[0m\u001b[0;34m.\u001b[0m\u001b[0mvalue\u001b[0m\u001b[0;34m\u001b[0m\u001b[0;34m\u001b[0m\u001b[0m\n\u001b[1;32m     33\u001b[0m             \u001b[0;32melse\u001b[0m \u001b[0;34m:\u001b[0m \u001b[0mseries_tags\u001b[0m\u001b[0;34m[\u001b[0m\u001b[0mtag_address\u001b[0m\u001b[0;34m.\u001b[0m\u001b[0mname\u001b[0m\u001b[0;34m]\u001b[0m \u001b[0;34m=\u001b[0m \u001b[0;34m\"Undefined\"\u001b[0m\u001b[0;34m\u001b[0m\u001b[0;34m\u001b[0m\u001b[0m\n",
      "\u001b[0;32m~/.local/lib/python3.8/site-packages/pydicom/dataset.py\u001b[0m in \u001b[0;36m__contains__\u001b[0;34m(self, name)\u001b[0m\n\u001b[1;32m    477\u001b[0m         \"\"\"\n\u001b[1;32m    478\u001b[0m         \u001b[0;32mtry\u001b[0m\u001b[0;34m:\u001b[0m\u001b[0;34m\u001b[0m\u001b[0;34m\u001b[0m\u001b[0m\n\u001b[0;32m--> 479\u001b[0;31m             \u001b[0mtag\u001b[0m \u001b[0;34m=\u001b[0m \u001b[0mTag\u001b[0m\u001b[0;34m(\u001b[0m\u001b[0mname\u001b[0m\u001b[0;34m)\u001b[0m\u001b[0;34m\u001b[0m\u001b[0;34m\u001b[0m\u001b[0m\n\u001b[0m\u001b[1;32m    480\u001b[0m         \u001b[0;32mexcept\u001b[0m \u001b[0;34m(\u001b[0m\u001b[0mValueError\u001b[0m\u001b[0;34m,\u001b[0m \u001b[0mOverflowError\u001b[0m\u001b[0;34m)\u001b[0m\u001b[0;34m:\u001b[0m\u001b[0;34m\u001b[0m\u001b[0;34m\u001b[0m\u001b[0m\n\u001b[1;32m    481\u001b[0m             \u001b[0;32mreturn\u001b[0m \u001b[0;32mFalse\u001b[0m\u001b[0;34m\u001b[0m\u001b[0;34m\u001b[0m\u001b[0m\n",
      "\u001b[0;32m~/.local/lib/python3.8/site-packages/pydicom/tag.py\u001b[0m in \u001b[0;36mTag\u001b[0;34m(arg, arg2)\u001b[0m\n\u001b[1;32m    101\u001b[0m \u001b[0;34m\u001b[0m\u001b[0m\n\u001b[1;32m    102\u001b[0m     \u001b[0;31m# Single str parameter\u001b[0m\u001b[0;34m\u001b[0m\u001b[0;34m\u001b[0m\u001b[0;34m\u001b[0m\u001b[0m\n\u001b[0;32m--> 103\u001b[0;31m     \u001b[0;32melif\u001b[0m \u001b[0misinstance\u001b[0m\u001b[0;34m(\u001b[0m\u001b[0marg\u001b[0m\u001b[0;34m,\u001b[0m \u001b[0;34m(\u001b[0m\u001b[0mstr\u001b[0m\u001b[0;34m,\u001b[0m \u001b[0mcompat\u001b[0m\u001b[0;34m.\u001b[0m\u001b[0mtext_type\u001b[0m\u001b[0;34m)\u001b[0m\u001b[0;34m)\u001b[0m\u001b[0;34m:\u001b[0m\u001b[0;34m\u001b[0m\u001b[0;34m\u001b[0m\u001b[0m\n\u001b[0m\u001b[1;32m    104\u001b[0m         \u001b[0;32mtry\u001b[0m\u001b[0;34m:\u001b[0m\u001b[0;34m\u001b[0m\u001b[0;34m\u001b[0m\u001b[0m\n\u001b[1;32m    105\u001b[0m             \u001b[0mlong_value\u001b[0m \u001b[0;34m=\u001b[0m \u001b[0mint\u001b[0m\u001b[0;34m(\u001b[0m\u001b[0marg\u001b[0m\u001b[0;34m,\u001b[0m \u001b[0;36m16\u001b[0m\u001b[0;34m)\u001b[0m\u001b[0;34m\u001b[0m\u001b[0;34m\u001b[0m\u001b[0m\n",
      "\u001b[0;31mKeyboardInterrupt\u001b[0m: "
     ]
    }
   ],
   "source": [
    "not_image_folder=[]\n",
    "non_valid_series=[]\n",
    "non_attenuation_corrected=[]\n",
    "empty_folders = []\n",
    "secondary_series = []\n",
    "localizer_series = []\n",
    "\n",
    "for serie_path in series_paths:\n",
    "    if(len(os.listdir(serie_path)) == 0):\n",
    "        empty_folders.append(serie_path)\n",
    "        continue\n",
    "    try:\n",
    "        dicom_serie = get_series_object(serie_path)\n",
    "        dicomsInfo = dicom_serie.get_series_details()\n",
    "        remove_bi_file(serie_path)\n",
    "        if( dicom_serie.is_image_modality() == False):\n",
    "            not_image_folder.append(serie_path)\n",
    "        elif (dicom_serie.is_series_valid() == False):\n",
    "            non_valid_series.append(serie_path)\n",
    "        elif(type(dicom_serie) == SeriesPT and dicom_serie.is_corrected_attenuation() == False):\n",
    "            non_attenuation_corrected.append(serie_path)\n",
    "        elif(dicom_serie.is_localizer_series() == True):\n",
    "            localizer_series.append(serie_path)\n",
    "        else:\n",
    "            write_json_file(export_folder, dicomsInfo['series']['SeriesInstanceUID'], dicomsInfo)\n",
    "    except Exception as err:\n",
    "        print(err)\n",
    "        print(dicomsInfo)\n",
    "    \n",
    "    \n",
    "    "
   ]
  },
  {
   "cell_type": "code",
   "execution_count": null,
   "metadata": {},
   "outputs": [],
   "source": [
    "#print(not_image_folder)\n",
    "#print(non_valid_series)\n",
    "#print(non_attenuation_corrected)\n",
    "#print(empty_folders)\n",
    "print(secondary_series)\n",
    "print(localizer_series)"
   ]
  },
  {
   "cell_type": "code",
   "execution_count": null,
   "metadata": {},
   "outputs": [],
   "source": [
    "for localizer_serie in localizer_series:\n",
    "    shutil.rmtree(localizer_serie)\n",
    "\n",
    "for not_image in not_image_folder:\n",
    "    shutil.rmtree(not_image)\n",
    "\n",
    "for non_attenuation in non_attenuation_corrected:\n",
    "    shutil.rmtree(non_attenuation)"
   ]
  },
  {
   "cell_type": "code",
   "execution_count": null,
   "metadata": {},
   "outputs": [],
   "source": [
    "for empty_folder in empty_folders:\n",
    "    shutil.rmtree(empty_folder)"
   ]
  },
  {
   "cell_type": "code",
   "execution_count": null,
   "metadata": {},
   "outputs": [],
   "source": [
    "write_json_file(\"/media/salim/DD 2To/Erreur GAINED\", \"wrong Series Gained\", json.dumps(non_valid_series))"
   ]
  }
 ]
}